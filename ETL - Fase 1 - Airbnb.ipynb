{
 "cells": [
  {
   "cell_type": "markdown",
   "metadata": {},
   "source": [
    "## **Fase 1 - Extract**\n",
    "*En esta fase inicial, el enfoque está en la extracción de datos brutos directamente desde la plataforma de Airbnb. Utilizando un scraper automatizado, extraemos información esencial sobre las propiedades disponibles, como ubicación, precios, tipo de alojamiento, disponibilidad y reseñas de los usuarios. La extracción es un paso crucial para asegurar que todos los datos relevantes se reúnan y estén listos para su análisis. Nos aseguramos de que los datos se extraigan de forma precisa y consistente, lo cual es fundamental para el éxito de las fases siguientes del proceso. El objetivo de esta fase es consolidar la información extraída en un formato accesible (DataFrame) de manera eficiente y automatizada, para que posteriormente puedan ser limpiados y transformados.* **(necesita edicion - version test)**"
   ]
  },
  {
   "cell_type": "code",
   "execution_count": 2,
   "metadata": {},
   "outputs": [],
   "source": [
    "# ETL imports\n",
    "import requests \n",
    "from bs4 import BeautifulSoup\n",
    "from selenium import webdriver\n",
    "from selenium.webdriver.common.by import By\n",
    "from selenium.webdriver.chrome.service import Service\n",
    "from selenium.webdriver.chrome.options import Options\n",
    "from selenium.webdriver.support.ui import WebDriverWait\n",
    "from selenium.webdriver.common.action_chains import ActionChains\n",
    "from selenium.webdriver.support import expected_conditions as EC\n",
    "from selenium.common.exceptions import NoSuchElementException, TimeoutException\n",
    "from webdriver_manager.chrome import ChromeDriverManager\n",
    "\n",
    "\n",
    "\n",
    "# General \n",
    "from datetime import datetime\n",
    "import re\n",
    "import time\n",
    "from time import sleep\n",
    "import pandas as pd\n",
    "import numpy as np\n",
    "import json          \n",
    "import os\n",
    "import tqdm\n",
    "from tqdm import tqdm "
   ]
  },
  {
   "cell_type": "code",
   "execution_count": 3,
   "metadata": {},
   "outputs": [],
   "source": [
    "opts = Options()\n",
    "opts.add_argument(\"user-agent=Mozilla/5.0 (Macintosh; Intel Mac OS X 10_15_7) AppleWebKit/537.36 (KHTML, like Gecko) Chrome/113.0.0.0 Safari/537.36\")"
   ]
  },
  {
   "cell_type": "code",
   "execution_count": 4,
   "metadata": {},
   "outputs": [],
   "source": [
    "driver = webdriver.Chrome(\n",
    "    service=Service(ChromeDriverManager().install()),\n",
    "    options=opts)"
   ]
  },
  {
   "cell_type": "code",
   "execution_count": 5,
   "metadata": {},
   "outputs": [
    {
     "name": "stderr",
     "output_type": "stream",
     "text": [
      "Accediendo a distritos:   0%|          | 0/10 [00:00<?, ?it/s]"
     ]
    },
    {
     "name": "stdout",
     "output_type": "stream",
     "text": [
      "Número de links filtrados en la página: 18\n",
      "Agregando URL: https://www.airbnb.es/rooms/1270266469340006214?adults=1&category_tag=Tag%3A8678&children=0&enable_m3_private_room=true&infants=0&pets=0&photo_id=2015148890&search_mode=regular_search&check_in=2024-11-25&check_out=2024-11-30&source_impression_id=p3_1730726872_P3vj_Ongl2sdAaWK&previous_page_section_name=1000&federated_search_id=474377fe-633e-4c6f-a11b-e5609cfd007a\n",
      "Agregando URL: https://www.airbnb.es/rooms/1243254147120959358?adults=1&category_tag=Tag%3A8678&children=0&enable_m3_private_room=true&infants=0&pets=0&photo_id=2015735133&search_mode=regular_search&check_in=2024-11-10&check_out=2024-11-15&source_impression_id=p3_1730726872_P38QcbvHB2UsEAkh&previous_page_section_name=1000&federated_search_id=474377fe-633e-4c6f-a11b-e5609cfd007a\n",
      "Agregando URL: https://www.airbnb.es/rooms/1268163818980729724?adults=1&children=0&enable_m3_private_room=true&infants=0&pets=0&search_mode=regular_search&check_in=2024-12-01&check_out=2024-12-06&source_impression_id=p3_1730726872_P32sKPRCCTJOZhVj&previous_page_section_name=1000&federated_search_id=474377fe-633e-4c6f-a11b-e5609cfd007a\n",
      "Agregando URL: https://www.airbnb.es/rooms/44247318?adults=1&children=0&enable_m3_private_room=true&infants=0&pets=0&search_mode=regular_search&check_in=2025-04-01&check_out=2025-04-06&source_impression_id=p3_1730726872_P3XDoHMn5qH4SzVt&previous_page_section_name=1000&federated_search_id=474377fe-633e-4c6f-a11b-e5609cfd007a\n",
      "Agregando URL: https://www.airbnb.es/rooms/1192692130835760091?adults=1&children=0&enable_m3_private_room=true&infants=0&pets=0&search_mode=regular_search&check_in=2024-11-25&check_out=2024-11-30&source_impression_id=p3_1730726872_P3m2PdANsQ5liCGn&previous_page_section_name=1000&federated_search_id=474377fe-633e-4c6f-a11b-e5609cfd007a\n",
      "Agregando URL: https://www.airbnb.es/rooms/545602057442226577?adults=1&category_tag=Tag%3A8678&children=0&enable_m3_private_room=true&infants=0&pets=0&photo_id=1559365984&search_mode=regular_search&check_in=2024-11-30&check_out=2024-12-05&source_impression_id=p3_1730726872_P3Nr3qAgwSl86hDW&previous_page_section_name=1000&federated_search_id=474377fe-633e-4c6f-a11b-e5609cfd007a\n",
      "Agregando URL: https://www.airbnb.es/rooms/1279040855576324107?adults=1&category_tag=Tag%3A8678&children=0&enable_m3_private_room=true&infants=0&pets=0&photo_id=2020968030&search_mode=regular_search&check_in=2024-11-05&check_out=2024-11-10&source_impression_id=p3_1730726872_P3UHSl4_Gg9IkO48&previous_page_section_name=1000&federated_search_id=474377fe-633e-4c6f-a11b-e5609cfd007a\n",
      "Agregando URL: https://www.airbnb.es/rooms/1252849636674011237?adults=1&children=0&enable_m3_private_room=true&infants=0&pets=0&search_mode=regular_search&check_in=2024-11-07&check_out=2024-11-12&source_impression_id=p3_1730726872_P3Gb30zdo82xjjVb&previous_page_section_name=1000&federated_search_id=474377fe-633e-4c6f-a11b-e5609cfd007a\n",
      "Agregando URL: https://www.airbnb.es/rooms/1176611230178132461?adults=1&children=0&enable_m3_private_room=true&infants=0&pets=0&search_mode=regular_search&check_in=2024-11-10&check_out=2024-11-15&source_impression_id=p3_1730726872_P38bDZovbLL3Fcfe&previous_page_section_name=1000&federated_search_id=474377fe-633e-4c6f-a11b-e5609cfd007a\n",
      "Agregando URL: https://www.airbnb.es/rooms/1263117591292794971?adults=1&children=0&enable_m3_private_room=true&infants=0&pets=0&search_mode=regular_search&check_in=2024-11-16&check_out=2024-11-21&source_impression_id=p3_1730726872_P3lx8Zb_YbcaRBn1&previous_page_section_name=1000&federated_search_id=474377fe-633e-4c6f-a11b-e5609cfd007a\n",
      "Agregando URL: https://www.airbnb.es/rooms/1093382940108512105?adults=1&category_tag=Tag%3A8678&children=0&enable_m3_private_room=true&infants=0&pets=0&photo_id=1843038712&search_mode=regular_search&check_in=2025-01-13&check_out=2025-01-18&source_impression_id=p3_1730726872_P3n-lfS2O0f5MtkS&previous_page_section_name=1000&federated_search_id=474377fe-633e-4c6f-a11b-e5609cfd007a\n",
      "Agregando URL: https://www.airbnb.es/rooms/31977850?adults=1&children=0&enable_m3_private_room=true&infants=0&pets=0&search_mode=regular_search&check_in=2024-11-04&check_out=2024-11-09&source_impression_id=p3_1730726872_P3OeGprlNj7bGPWR&previous_page_section_name=1000&federated_search_id=474377fe-633e-4c6f-a11b-e5609cfd007a\n",
      "Agregando URL: https://www.airbnb.es/rooms/549976913937241380?adults=1&category_tag=Tag%3A8678&children=0&enable_m3_private_room=true&infants=0&pets=0&photo_id=1896900555&search_mode=regular_search&check_in=2024-11-17&check_out=2024-11-22&source_impression_id=p3_1730726872_P3l6XZB_G5Uy11FX&previous_page_section_name=1000&federated_search_id=474377fe-633e-4c6f-a11b-e5609cfd007a\n",
      "Agregando URL: https://www.airbnb.es/rooms/1212272386691330030?adults=1&children=0&enable_m3_private_room=true&infants=0&pets=0&search_mode=regular_search&check_in=2024-11-11&check_out=2024-11-16&source_impression_id=p3_1730726872_P3WUrQ0SHZB26xTL&previous_page_section_name=1000&federated_search_id=474377fe-633e-4c6f-a11b-e5609cfd007a\n",
      "Agregando URL: https://www.airbnb.es/rooms/1250076494871048323?adults=1&category_tag=Tag%3A8678&children=0&enable_m3_private_room=true&infants=0&pets=0&photo_id=1997925728&search_mode=regular_search&check_in=2024-12-01&check_out=2024-12-06&source_impression_id=p3_1730726872_P3ZrhAQFHKCkW5EE&previous_page_section_name=1000&federated_search_id=474377fe-633e-4c6f-a11b-e5609cfd007a\n",
      "Agregando URL: https://www.airbnb.es/rooms/1197637831227097242?adults=1&children=0&enable_m3_private_room=true&infants=0&pets=0&search_mode=regular_search&check_in=2025-01-04&check_out=2025-01-09&source_impression_id=p3_1730726872_P3Qsb1W0TWZXE4bI&previous_page_section_name=1000&federated_search_id=474377fe-633e-4c6f-a11b-e5609cfd007a\n",
      "Agregando URL: https://www.airbnb.es/rooms/1248760917371966497?adults=1&category_tag=Tag%3A8678&children=0&enable_m3_private_room=true&infants=0&pets=0&photo_id=2016541719&search_mode=regular_search&check_in=2024-11-04&check_out=2024-11-09&source_impression_id=p3_1730726872_P3Iljx6AKPiqEPM8&previous_page_section_name=1000&federated_search_id=474377fe-633e-4c6f-a11b-e5609cfd007a\n",
      "Agregando URL: https://www.airbnb.es/rooms/52981104?adults=1&children=0&enable_m3_private_room=true&infants=0&pets=0&search_mode=regular_search&check_in=2024-11-04&check_out=2024-11-09&source_impression_id=p3_1730726872_P3DrCES1D6CZyzYJ&previous_page_section_name=1000&federated_search_id=474377fe-633e-4c6f-a11b-e5609cfd007a\n",
      "Total de links extraídos hasta ahora: 18\n",
      "Siguiente página...\n",
      "Número de links filtrados en la página: 18\n",
      "Agregando URL: https://www.airbnb.es/rooms/35118964?adults=1&children=0&enable_m3_private_room=true&infants=0&pets=0&search_mode=regular_search&check_in=2024-11-04&check_out=2024-11-09&source_impression_id=p3_1730726880_P3_C6C-19LRCBecG&previous_page_section_name=1000&federated_search_id=fc8d8ddd-c8d7-4ea1-b6b9-eb9d050e5555\n",
      "Agregando URL: https://www.airbnb.es/rooms/1252851017334064123?adults=1&children=0&enable_m3_private_room=true&infants=0&pets=0&search_mode=regular_search&check_in=2024-11-08&check_out=2024-11-13&source_impression_id=p3_1730726880_P3jMBjhvmfjj_wdY&previous_page_section_name=1000&federated_search_id=fc8d8ddd-c8d7-4ea1-b6b9-eb9d050e5555\n",
      "Agregando URL: https://www.airbnb.es/rooms/961287943216806993?adults=1&children=0&enable_m3_private_room=true&infants=0&pets=0&search_mode=regular_search&check_in=2024-12-08&check_out=2024-12-13&source_impression_id=p3_1730726880_P3-nAHvVVM_YoYkF&previous_page_section_name=1000&federated_search_id=fc8d8ddd-c8d7-4ea1-b6b9-eb9d050e5555\n",
      "Agregando URL: https://www.airbnb.es/rooms/1242680451877593023?adults=1&category_tag=Tag%3A8678&children=0&enable_m3_private_room=true&infants=0&pets=0&photo_id=1999572795&search_mode=regular_search&check_in=2024-11-04&check_out=2024-11-09&source_impression_id=p3_1730726880_P3N1pOL-SsN0UwmX&previous_page_section_name=1000&federated_search_id=fc8d8ddd-c8d7-4ea1-b6b9-eb9d050e5555\n",
      "Agregando URL: https://www.airbnb.es/rooms/1250792743797805066?adults=1&category_tag=Tag%3A8678&children=0&enable_m3_private_room=true&infants=0&pets=0&photo_id=1997989633&search_mode=regular_search&check_in=2024-12-07&check_out=2024-12-12&source_impression_id=p3_1730726880_P3JX3MQ5NIYsSReL&previous_page_section_name=1000&federated_search_id=fc8d8ddd-c8d7-4ea1-b6b9-eb9d050e5555\n",
      "Agregando URL: https://www.airbnb.es/rooms/40554669?adults=1&children=0&enable_m3_private_room=true&infants=0&pets=0&search_mode=regular_search&check_in=2024-11-17&check_out=2024-11-22&source_impression_id=p3_1730726880_P3PwkLCuXH-p1B-D&previous_page_section_name=1000&federated_search_id=fc8d8ddd-c8d7-4ea1-b6b9-eb9d050e5555\n",
      "Agregando URL: https://www.airbnb.es/rooms/10038461?adults=1&children=0&enable_m3_private_room=true&infants=0&pets=0&search_mode=regular_search&check_in=2024-12-14&check_out=2024-12-19&source_impression_id=p3_1730726880_P3EaS1F4cu4Aunss&previous_page_section_name=1000&federated_search_id=fc8d8ddd-c8d7-4ea1-b6b9-eb9d050e5555\n",
      "Agregando URL: https://www.airbnb.es/rooms/1239353939252642805?adults=1&category_tag=Tag%3A8678&children=0&enable_m3_private_room=true&infants=0&pets=0&photo_id=1988427769&search_mode=regular_search&check_in=2024-11-10&check_out=2024-11-15&source_impression_id=p3_1730726880_P3RS_yAGQHTsIvjQ&previous_page_section_name=1000&federated_search_id=fc8d8ddd-c8d7-4ea1-b6b9-eb9d050e5555\n",
      "Agregando URL: https://www.airbnb.es/rooms/1031002061578844729?adults=1&category_tag=Tag%3A8678&children=0&enable_m3_private_room=true&infants=0&pets=0&photo_id=1884442240&search_mode=regular_search&check_in=2024-11-04&check_out=2024-11-09&source_impression_id=p3_1730726880_P3VDFVYT8Qkaq7IY&previous_page_section_name=1000&federated_search_id=fc8d8ddd-c8d7-4ea1-b6b9-eb9d050e5555\n",
      "Agregando URL: https://www.airbnb.es/rooms/22548858?adults=1&children=0&enable_m3_private_room=true&infants=0&pets=0&search_mode=regular_search&check_in=2024-12-01&check_out=2024-12-06&source_impression_id=p3_1730726880_P3uhyhLnBEJwIcq4&previous_page_section_name=1000&federated_search_id=fc8d8ddd-c8d7-4ea1-b6b9-eb9d050e5555\n",
      "Agregando URL: https://www.airbnb.es/rooms/1279034995385137358?adults=1&category_tag=Tag%3A8678&children=0&enable_m3_private_room=true&infants=0&pets=0&photo_id=2020960331&search_mode=regular_search&check_in=2024-11-04&check_out=2024-11-09&source_impression_id=p3_1730726880_P3dr2ztPoFB4Ge_l&previous_page_section_name=1000&federated_search_id=fc8d8ddd-c8d7-4ea1-b6b9-eb9d050e5555\n",
      "Agregando URL: https://www.airbnb.es/rooms/1115353239605825248?adults=1&children=0&enable_m3_private_room=true&infants=0&pets=0&search_mode=regular_search&check_in=2024-11-10&check_out=2024-11-15&source_impression_id=p3_1730726880_P3jWhQldDJsnWSMN&previous_page_section_name=1000&federated_search_id=fc8d8ddd-c8d7-4ea1-b6b9-eb9d050e5555\n",
      "Agregando URL: https://www.airbnb.es/rooms/40553667?adults=1&children=0&enable_m3_private_room=true&infants=0&pets=0&search_mode=regular_search&check_in=2024-11-12&check_out=2024-11-17&source_impression_id=p3_1730726880_P3Et_YcgBYnghMiY&previous_page_section_name=1000&federated_search_id=fc8d8ddd-c8d7-4ea1-b6b9-eb9d050e5555\n",
      "Agregando URL: https://www.airbnb.es/rooms/6082313?adults=1&children=0&enable_m3_private_room=true&infants=0&pets=0&search_mode=regular_search&check_in=2024-11-24&check_out=2024-11-29&source_impression_id=p3_1730726880_P3M0RcyDewUKbvDB&previous_page_section_name=1000&federated_search_id=fc8d8ddd-c8d7-4ea1-b6b9-eb9d050e5555\n",
      "Agregando URL: https://www.airbnb.es/rooms/52981180?adults=1&children=0&enable_m3_private_room=true&infants=0&pets=0&search_mode=regular_search&check_in=2024-11-04&check_out=2024-11-09&source_impression_id=p3_1730726880_P3QGp16em2Cpuaqb&previous_page_section_name=1000&federated_search_id=fc8d8ddd-c8d7-4ea1-b6b9-eb9d050e5555\n",
      "Agregando URL: https://www.airbnb.es/rooms/1186557696488151161?adults=1&children=0&enable_m3_private_room=true&infants=0&pets=0&search_mode=regular_search&check_in=2024-11-17&check_out=2024-11-22&source_impression_id=p3_1730726880_P3F859-fzK5LSy2p&previous_page_section_name=1000&federated_search_id=fc8d8ddd-c8d7-4ea1-b6b9-eb9d050e5555\n",
      "Agregando URL: https://www.airbnb.es/rooms/1277512686840174474?adults=1&category_tag=Tag%3A8678&children=0&enable_m3_private_room=true&infants=0&pets=0&photo_id=2019599957&search_mode=regular_search&check_in=2024-11-04&check_out=2024-11-09&source_impression_id=p3_1730726880_P3J8nK3b517Q1iVG&previous_page_section_name=1000&federated_search_id=fc8d8ddd-c8d7-4ea1-b6b9-eb9d050e5555\n",
      "Agregando URL: https://www.airbnb.es/rooms/12634537?adults=1&children=0&enable_m3_private_room=true&infants=0&pets=0&search_mode=regular_search&check_in=2024-12-01&check_out=2024-12-06&source_impression_id=p3_1730726880_P3Q4ON8CTvC66NiO&previous_page_section_name=1000&federated_search_id=fc8d8ddd-c8d7-4ea1-b6b9-eb9d050e5555\n",
      "Total de links extraídos hasta ahora: 36\n",
      "Siguiente página...\n",
      "Número de links filtrados en la página: 18\n",
      "Agregando URL: https://www.airbnb.es/rooms/1986412?adults=1&children=0&enable_m3_private_room=true&infants=0&pets=0&search_mode=regular_search&check_in=2024-11-18&check_out=2024-11-23&source_impression_id=p3_1730726885_P3rF68rqd0_35TIt&previous_page_section_name=1000&federated_search_id=39623e62-7f71-4dc6-85fb-733f2be4feb7\n",
      "Agregando URL: https://www.airbnb.es/rooms/1278855194263502281?adults=1&category_tag=Tag%3A8678&children=0&enable_m3_private_room=true&infants=0&pets=0&photo_id=2020772219&search_mode=regular_search&check_in=2024-11-05&check_out=2024-11-10&source_impression_id=p3_1730726885_P3hKF7T_QAYCa7jp&previous_page_section_name=1000&federated_search_id=39623e62-7f71-4dc6-85fb-733f2be4feb7\n",
      "Agregando URL: https://www.airbnb.es/rooms/7953354?adults=1&children=0&enable_m3_private_room=true&infants=0&pets=0&search_mode=regular_search&check_in=2024-12-08&check_out=2024-12-13&source_impression_id=p3_1730726885_P30cZzlxkhu8h43L&previous_page_section_name=1000&federated_search_id=39623e62-7f71-4dc6-85fb-733f2be4feb7\n",
      "Agregando URL: https://www.airbnb.es/rooms/1197658127949521687?adults=1&children=0&enable_m3_private_room=true&infants=0&pets=0&search_mode=regular_search&check_in=2024-11-10&check_out=2024-11-15&source_impression_id=p3_1730726885_P3rGPJLegwMxHUlC&previous_page_section_name=1000&federated_search_id=39623e62-7f71-4dc6-85fb-733f2be4feb7\n",
      "Agregando URL: https://www.airbnb.es/rooms/1882669?adults=1&children=0&enable_m3_private_room=true&infants=0&pets=0&search_mode=regular_search&check_in=2024-12-08&check_out=2024-12-13&source_impression_id=p3_1730726885_P3pZFn_l_zQTXjA-&previous_page_section_name=1000&federated_search_id=39623e62-7f71-4dc6-85fb-733f2be4feb7\n",
      "Agregando URL: https://www.airbnb.es/rooms/7954069?adults=1&children=0&enable_m3_private_room=true&infants=0&pets=0&search_mode=regular_search&check_in=2024-11-30&check_out=2024-12-05&source_impression_id=p3_1730726885_P3_wQinNfU28Hf_N&previous_page_section_name=1000&federated_search_id=39623e62-7f71-4dc6-85fb-733f2be4feb7\n",
      "Agregando URL: https://www.airbnb.es/rooms/14006090?adults=1&children=0&enable_m3_private_room=true&infants=0&pets=0&search_mode=regular_search&check_in=2024-12-01&check_out=2024-12-06&source_impression_id=p3_1730726885_P31SJoCUvBFt2har&previous_page_section_name=1000&federated_search_id=39623e62-7f71-4dc6-85fb-733f2be4feb7\n",
      "Agregando URL: https://www.airbnb.es/rooms/1155809416104019462?adults=1&children=0&enable_m3_private_room=true&infants=0&pets=0&search_mode=regular_search&check_in=2024-12-09&check_out=2024-12-14&source_impression_id=p3_1730726885_P3Rwz6ffzsZkMlrR&previous_page_section_name=1000&federated_search_id=39623e62-7f71-4dc6-85fb-733f2be4feb7\n",
      "Agregando URL: https://www.airbnb.es/rooms/1170418042392103425?adults=1&children=0&enable_m3_private_room=true&infants=0&pets=0&search_mode=regular_search&check_in=2024-11-17&check_out=2024-11-22&source_impression_id=p3_1730726885_P3k4uzG0rNVmOl65&previous_page_section_name=1000&federated_search_id=39623e62-7f71-4dc6-85fb-733f2be4feb7\n",
      "Agregando URL: https://www.airbnb.es/rooms/36054333?adults=1&children=0&enable_m3_private_room=true&infants=0&pets=0&search_mode=regular_search&check_in=2024-11-04&check_out=2024-11-09&source_impression_id=p3_1730726885_P3zAbAVdgyITCBE3&previous_page_section_name=1000&federated_search_id=39623e62-7f71-4dc6-85fb-733f2be4feb7\n",
      "Agregando URL: https://www.airbnb.es/rooms/729078?adults=1&children=0&enable_m3_private_room=true&infants=0&pets=0&search_mode=regular_search&check_in=2025-08-09&check_out=2025-08-14&source_impression_id=p3_1730726885_P3jk_PTe-fz3YQTZ&previous_page_section_name=1000&federated_search_id=39623e62-7f71-4dc6-85fb-733f2be4feb7\n",
      "Agregando URL: https://www.airbnb.es/rooms/1202780025822678818?adults=1&category_tag=Tag%3A8678&children=0&enable_m3_private_room=true&infants=0&pets=0&photo_id=1991383786&search_mode=regular_search&check_in=2024-12-05&check_out=2024-12-10&source_impression_id=p3_1730726885_P3TfMYWVcVt12uSI&previous_page_section_name=1000&federated_search_id=39623e62-7f71-4dc6-85fb-733f2be4feb7\n",
      "Agregando URL: https://www.airbnb.es/rooms/1126661637688071846?adults=1&children=0&enable_m3_private_room=true&infants=0&pets=0&search_mode=regular_search&check_in=2024-11-10&check_out=2024-11-15&source_impression_id=p3_1730726885_P3C7n5D7xxQj5tFg&previous_page_section_name=1000&federated_search_id=39623e62-7f71-4dc6-85fb-733f2be4feb7\n",
      "Agregando URL: https://www.airbnb.es/rooms/1100921852236177943?adults=1&children=0&enable_m3_private_room=true&infants=0&pets=0&search_mode=regular_search&check_in=2024-11-07&check_out=2024-11-12&source_impression_id=p3_1730726885_P3rCYOVkaBYuaKQ5&previous_page_section_name=1000&federated_search_id=39623e62-7f71-4dc6-85fb-733f2be4feb7\n",
      "Agregando URL: https://www.airbnb.es/rooms/988277234856267358?adults=1&category_tag=Tag%3A8678&children=0&enable_m3_private_room=true&infants=0&pets=0&photo_id=1746572457&search_mode=regular_search&check_in=2024-11-11&check_out=2024-11-16&source_impression_id=p3_1730726885_P3NqarvGbvmioZbL&previous_page_section_name=1000&federated_search_id=39623e62-7f71-4dc6-85fb-733f2be4feb7\n",
      "Agregando URL: https://www.airbnb.es/rooms/603025887213646958?adults=1&category_tag=Tag%3A8678&children=0&enable_m3_private_room=true&infants=0&pets=0&photo_id=1566144057&search_mode=regular_search&check_in=2024-11-07&check_out=2024-11-12&source_impression_id=p3_1730726885_P30mQS3Scn6bFRbm&previous_page_section_name=1000&federated_search_id=39623e62-7f71-4dc6-85fb-733f2be4feb7\n",
      "Agregando URL: https://www.airbnb.es/rooms/1277486454471917370?adults=1&children=0&enable_m3_private_room=true&infants=0&pets=0&search_mode=regular_search&check_in=2024-11-26&check_out=2024-12-01&source_impression_id=p3_1730726885_P3TBCL7MCAwzJ3yy&previous_page_section_name=1000&federated_search_id=39623e62-7f71-4dc6-85fb-733f2be4feb7\n",
      "Agregando URL: https://www.airbnb.es/rooms/1228812933215136247?adults=1&children=0&enable_m3_private_room=true&infants=0&pets=0&search_mode=regular_search&check_in=2024-11-17&check_out=2024-11-22&source_impression_id=p3_1730726885_P3pMn9wP-xFxkPBk&previous_page_section_name=1000&federated_search_id=39623e62-7f71-4dc6-85fb-733f2be4feb7\n",
      "Total de links extraídos hasta ahora: 54\n",
      "Siguiente página...\n",
      "Número de links filtrados en la página: 18\n",
      "Agregando URL: https://www.airbnb.es/rooms/1268315562716583459?adults=1&category_tag=Tag%3A8678&children=0&enable_m3_private_room=true&infants=0&pets=0&photo_id=2012469117&search_mode=regular_search&check_in=2024-11-09&check_out=2024-11-14&source_impression_id=p3_1730726889_P3SyraVQOuqTmeDW&previous_page_section_name=1000&federated_search_id=2062df1a-1060-4d32-b4d8-967575a49e67\n",
      "Agregando URL: https://www.airbnb.es/rooms/1055670235103150282?adults=1&children=0&enable_m3_private_room=true&infants=0&pets=0&search_mode=regular_search&check_in=2024-11-17&check_out=2024-11-22&source_impression_id=p3_1730726889_P3UDbOJw3O0lUG8f&previous_page_section_name=1000&federated_search_id=2062df1a-1060-4d32-b4d8-967575a49e67\n",
      "Agregando URL: https://www.airbnb.es/rooms/45325166?adults=1&children=0&enable_m3_private_room=true&infants=0&pets=0&search_mode=regular_search&check_in=2024-11-10&check_out=2024-11-15&source_impression_id=p3_1730726889_P3YTB9kkN0-ywL8h&previous_page_section_name=1000&federated_search_id=2062df1a-1060-4d32-b4d8-967575a49e67\n",
      "Agregando URL: https://www.airbnb.es/rooms/51666669?adults=1&category_tag=Tag%3A8678&children=0&enable_m3_private_room=true&infants=0&pets=0&photo_id=1905073231&search_mode=regular_search&check_in=2024-12-19&check_out=2024-12-24&source_impression_id=p3_1730726889_P3m3Q7pSMl0DlkCC&previous_page_section_name=1000&federated_search_id=2062df1a-1060-4d32-b4d8-967575a49e67\n",
      "Agregando URL: https://www.airbnb.es/rooms/1186999130997502572?adults=1&children=0&enable_m3_private_room=true&infants=0&pets=0&search_mode=regular_search&check_in=2024-11-10&check_out=2024-11-15&source_impression_id=p3_1730726889_P347F5HYqV7NTwkD&previous_page_section_name=1000&federated_search_id=2062df1a-1060-4d32-b4d8-967575a49e67\n",
      "Agregando URL: https://www.airbnb.es/rooms/957657?adults=1&children=0&enable_m3_private_room=true&infants=0&pets=0&search_mode=regular_search&check_in=2024-11-10&check_out=2024-11-15&source_impression_id=p3_1730726889_P3C0cK68Gy_jb2Kb&previous_page_section_name=1000&federated_search_id=2062df1a-1060-4d32-b4d8-967575a49e67\n",
      "Agregando URL: https://www.airbnb.es/rooms/1265660833018089515?adults=1&children=0&enable_m3_private_room=true&infants=0&pets=0&search_mode=regular_search&check_in=2024-11-06&check_out=2024-11-11&source_impression_id=p3_1730726889_P35LM6z1EkaRyDfi&previous_page_section_name=1000&federated_search_id=2062df1a-1060-4d32-b4d8-967575a49e67\n",
      "Agregando URL: https://www.airbnb.es/rooms/1275738933960711672?adults=1&children=0&enable_m3_private_room=true&infants=0&pets=0&search_mode=regular_search&check_in=2024-11-10&check_out=2024-11-15&source_impression_id=p3_1730726889_P3SRDP2BNwtV8FEP&previous_page_section_name=1000&federated_search_id=2062df1a-1060-4d32-b4d8-967575a49e67\n",
      "Agregando URL: https://www.airbnb.es/rooms/1264417090227650223?adults=1&children=0&enable_m3_private_room=true&infants=0&pets=0&search_mode=regular_search&check_in=2024-11-16&check_out=2024-11-21&source_impression_id=p3_1730726889_P3kkW-5TKIU_Zz8I&previous_page_section_name=1000&federated_search_id=2062df1a-1060-4d32-b4d8-967575a49e67\n",
      "Agregando URL: https://www.airbnb.es/rooms/33259271?adults=1&category_tag=Tag%3A8678&children=0&enable_m3_private_room=true&infants=0&pets=0&photo_id=713879907&search_mode=regular_search&check_in=2024-11-09&check_out=2024-11-14&source_impression_id=p3_1730726889_P3p3y6JzGnZqcsBz&previous_page_section_name=1000&federated_search_id=2062df1a-1060-4d32-b4d8-967575a49e67\n",
      "Agregando URL: https://www.airbnb.es/rooms/827628743454560099?adults=1&category_tag=Tag%3A8678&children=0&enable_m3_private_room=true&infants=0&pets=0&photo_id=1799203505&search_mode=regular_search&check_in=2024-11-21&check_out=2024-11-26&source_impression_id=p3_1730726889_P3p0DrxKqRS2uniA&previous_page_section_name=1000&federated_search_id=2062df1a-1060-4d32-b4d8-967575a49e67\n",
      "Agregando URL: https://www.airbnb.es/rooms/1248750542478617295?adults=1&category_tag=Tag%3A8678&children=0&enable_m3_private_room=true&infants=0&pets=0&photo_id=2020476505&search_mode=regular_search&check_in=2024-11-05&check_out=2024-11-10&source_impression_id=p3_1730726889_P3Egz74YaDtadX4j&previous_page_section_name=1000&federated_search_id=2062df1a-1060-4d32-b4d8-967575a49e67\n",
      "Agregando URL: https://www.airbnb.es/rooms/3559666?adults=1&children=0&enable_m3_private_room=true&infants=0&pets=0&search_mode=regular_search&check_in=2024-12-01&check_out=2024-12-06&source_impression_id=p3_1730726889_P3sosFnli_kvhYk4&previous_page_section_name=1000&federated_search_id=2062df1a-1060-4d32-b4d8-967575a49e67\n",
      "Agregando URL: https://www.airbnb.es/rooms/40553596?adults=1&children=0&enable_m3_private_room=true&infants=0&pets=0&search_mode=regular_search&check_in=2024-11-09&check_out=2024-11-14&source_impression_id=p3_1730726889_P3JFRWBoW0i8t2_H&previous_page_section_name=1000&federated_search_id=2062df1a-1060-4d32-b4d8-967575a49e67\n",
      "Agregando URL: https://www.airbnb.es/rooms/1207065162731542501?adults=1&children=0&enable_m3_private_room=true&infants=0&pets=0&search_mode=regular_search&check_in=2024-11-24&check_out=2024-11-29&source_impression_id=p3_1730726889_P3ri8CbaSdX5r5Vc&previous_page_section_name=1000&federated_search_id=2062df1a-1060-4d32-b4d8-967575a49e67\n",
      "Agregando URL: https://www.airbnb.es/rooms/850684095339937556?adults=1&children=0&enable_m3_private_room=true&infants=0&pets=0&search_mode=regular_search&check_in=2025-01-06&check_out=2025-01-11&source_impression_id=p3_1730726889_P3AcZEjwbuHK5AR7&previous_page_section_name=1000&federated_search_id=2062df1a-1060-4d32-b4d8-967575a49e67\n",
      "Agregando URL: https://www.airbnb.es/rooms/1121943650344876902?adults=1&children=0&enable_m3_private_room=true&infants=0&pets=0&search_mode=regular_search&check_in=2024-11-26&check_out=2024-12-01&source_impression_id=p3_1730726889_P3tFFdrdkQgxXqEd&previous_page_section_name=1000&federated_search_id=2062df1a-1060-4d32-b4d8-967575a49e67\n",
      "Agregando URL: https://www.airbnb.es/rooms/29171393?adults=1&children=0&enable_m3_private_room=true&infants=0&pets=0&search_mode=regular_search&check_in=2024-12-17&check_out=2024-12-22&source_impression_id=p3_1730726889_P3egCnMPPr4A4snt&previous_page_section_name=1000&federated_search_id=2062df1a-1060-4d32-b4d8-967575a49e67\n",
      "Total de links extraídos hasta ahora: 72\n",
      "Siguiente página...\n",
      "Número de links filtrados en la página: 18\n",
      "Agregando URL: https://www.airbnb.es/rooms/1242062806305975230?adults=1&children=0&enable_m3_private_room=true&infants=0&pets=0&search_mode=regular_search&check_in=2024-11-25&check_out=2024-11-30&source_impression_id=p3_1730726894_P32FTRpFzL5rxJvS&previous_page_section_name=1000&federated_search_id=23461d9e-0094-47e6-9d61-b1ff5ead21b8\n",
      "Agregando URL: https://www.airbnb.es/rooms/1259293393052162749?adults=1&category_tag=Tag%3A8678&children=0&enable_m3_private_room=true&infants=0&pets=0&photo_id=2005212154&search_mode=regular_search&check_in=2024-12-01&check_out=2024-12-06&source_impression_id=p3_1730726894_P3XMqWoMd4-AwKd-&previous_page_section_name=1000&federated_search_id=23461d9e-0094-47e6-9d61-b1ff5ead21b8\n",
      "Agregando URL: https://www.airbnb.es/rooms/2469747?adults=1&children=0&enable_m3_private_room=true&infants=0&pets=0&search_mode=regular_search&check_in=2024-12-08&check_out=2024-12-13&source_impression_id=p3_1730726894_P3FfSAe6lGNv8rbm&previous_page_section_name=1000&federated_search_id=23461d9e-0094-47e6-9d61-b1ff5ead21b8\n",
      "Agregando URL: https://www.airbnb.es/rooms/1004286459862246983?adults=1&category_tag=Tag%3A8678&children=0&enable_m3_private_room=true&infants=0&pets=0&photo_id=1766386385&search_mode=regular_search&check_in=2024-11-10&check_out=2024-11-15&source_impression_id=p3_1730726894_P3XXAt1Wdmwp_ZcC&previous_page_section_name=1000&federated_search_id=23461d9e-0094-47e6-9d61-b1ff5ead21b8\n",
      "Agregando URL: https://www.airbnb.es/rooms/1239053049458811288?adults=1&category_tag=Tag%3A8678&children=0&enable_m3_private_room=true&infants=0&pets=0&photo_id=1988110422&search_mode=regular_search&check_in=2024-11-25&check_out=2024-11-30&source_impression_id=p3_1730726894_P3qAWci9c22B0FIA&previous_page_section_name=1000&federated_search_id=23461d9e-0094-47e6-9d61-b1ff5ead21b8\n",
      "Agregando URL: https://www.airbnb.es/rooms/45576362?adults=1&category_tag=Tag%3A8678&children=0&enable_m3_private_room=true&infants=0&pets=0&photo_id=1436856880&search_mode=regular_search&check_in=2024-11-28&check_out=2024-12-03&source_impression_id=p3_1730726894_P3ARQDioogMuIE_7&previous_page_section_name=1000&federated_search_id=23461d9e-0094-47e6-9d61-b1ff5ead21b8\n",
      "Agregando URL: https://www.airbnb.es/rooms/942564931945558482?adults=1&children=0&enable_m3_private_room=true&infants=0&pets=0&search_mode=regular_search&check_in=2024-12-08&check_out=2024-12-13&source_impression_id=p3_1730726894_P3-lHWlC3fPBsHS1&previous_page_section_name=1000&federated_search_id=23461d9e-0094-47e6-9d61-b1ff5ead21b8\n",
      "Agregando URL: https://www.airbnb.es/rooms/1093420674156462128?adults=1&category_tag=Tag%3A8678&children=0&enable_m3_private_room=true&infants=0&pets=0&photo_id=1843049198&search_mode=regular_search&check_in=2025-01-12&check_out=2025-01-17&source_impression_id=p3_1730726894_P3Fi07IaXHnQgTHa&previous_page_section_name=1000&federated_search_id=23461d9e-0094-47e6-9d61-b1ff5ead21b8\n",
      "Agregando URL: https://www.airbnb.es/rooms/1258050710501185022?adults=1&children=0&enable_m3_private_room=true&infants=0&pets=0&search_mode=regular_search&check_in=2024-11-23&check_out=2024-11-28&source_impression_id=p3_1730726894_P3-e9FpF7MK8bsr5&previous_page_section_name=1000&federated_search_id=23461d9e-0094-47e6-9d61-b1ff5ead21b8\n",
      "Agregando URL: https://www.airbnb.es/rooms/5483016?adults=1&children=0&enable_m3_private_room=true&infants=0&pets=0&search_mode=regular_search&check_in=2024-11-16&check_out=2024-11-21&source_impression_id=p3_1730726894_P3gfEKAsi_9r-6hg&previous_page_section_name=1000&federated_search_id=23461d9e-0094-47e6-9d61-b1ff5ead21b8\n",
      "Agregando URL: https://www.airbnb.es/rooms/1000514588274707195?adults=1&category_tag=Tag%3A8678&children=0&enable_m3_private_room=true&infants=0&pets=0&photo_id=1758322400&search_mode=regular_search&check_in=2024-11-07&check_out=2024-11-12&source_impression_id=p3_1730726894_P32uOPfZ8Epl72fs&previous_page_section_name=1000&federated_search_id=23461d9e-0094-47e6-9d61-b1ff5ead21b8\n",
      "Agregando URL: https://www.airbnb.es/rooms/908155559326571593?adults=1&category_tag=Tag%3A8678&children=0&enable_m3_private_room=true&infants=0&pets=0&photo_id=1770642236&search_mode=regular_search&check_in=2024-12-02&check_out=2024-12-07&source_impression_id=p3_1730726894_P3W7PRIA1cd7Bu2U&previous_page_section_name=1000&federated_search_id=23461d9e-0094-47e6-9d61-b1ff5ead21b8\n",
      "Agregando URL: https://www.airbnb.es/rooms/1248434021796394802?adults=1&category_tag=Tag%3A8678&children=0&enable_m3_private_room=true&infants=0&pets=0&photo_id=1995991646&search_mode=regular_search&check_in=2024-12-08&check_out=2024-12-13&source_impression_id=p3_1730726894_P32WuK3rb4KgCXVg&previous_page_section_name=1000&federated_search_id=23461d9e-0094-47e6-9d61-b1ff5ead21b8\n",
      "Agregando URL: https://www.airbnb.es/rooms/1167927143759339825?adults=1&category_tag=Tag%3A8678&children=0&enable_m3_private_room=true&infants=0&pets=0&photo_id=1918858382&search_mode=regular_search&check_in=2024-11-15&check_out=2024-11-22&source_impression_id=p3_1730726894_P3Omw45g6nhX1WgA&previous_page_section_name=1000&federated_search_id=23461d9e-0094-47e6-9d61-b1ff5ead21b8\n",
      "Agregando URL: https://www.airbnb.es/rooms/2828143?adults=1&children=0&enable_m3_private_room=true&infants=0&pets=0&search_mode=regular_search&check_in=2024-12-15&check_out=2024-12-20&source_impression_id=p3_1730726894_P3clQyv2JnzjYc2R&previous_page_section_name=1000&federated_search_id=23461d9e-0094-47e6-9d61-b1ff5ead21b8\n",
      "Agregando URL: https://www.airbnb.es/rooms/2910491?adults=1&children=0&enable_m3_private_room=true&infants=0&pets=0&search_mode=regular_search&check_in=2024-12-01&check_out=2024-12-06&source_impression_id=p3_1730726894_P349VtBTCihQs_gz&previous_page_section_name=1000&federated_search_id=23461d9e-0094-47e6-9d61-b1ff5ead21b8\n",
      "Agregando URL: https://www.airbnb.es/rooms/10737758?adults=1&children=0&enable_m3_private_room=true&infants=0&pets=0&search_mode=regular_search&check_in=2024-11-17&check_out=2024-11-22&source_impression_id=p3_1730726894_P3tEB0rTW2ZAiOP5&previous_page_section_name=1000&federated_search_id=23461d9e-0094-47e6-9d61-b1ff5ead21b8\n",
      "Agregando URL: https://www.airbnb.es/rooms/1243996019024503830?adults=1&children=0&enable_m3_private_room=true&infants=0&pets=0&search_mode=regular_search&check_in=2024-11-07&check_out=2024-11-12&source_impression_id=p3_1730726894_P3kJK4AC3vlS8sHK&previous_page_section_name=1000&federated_search_id=23461d9e-0094-47e6-9d61-b1ff5ead21b8\n",
      "Total de links extraídos hasta ahora: 90\n",
      "Siguiente página...\n",
      "Número de links filtrados en la página: 18\n",
      "Agregando URL: https://www.airbnb.es/rooms/52047578?adults=1&children=0&enable_m3_private_room=true&infants=0&pets=0&search_mode=regular_search&check_in=2025-01-11&check_out=2025-01-16&source_impression_id=p3_1730726899_P3AfSS4GFLqCAhrn&previous_page_section_name=1000&federated_search_id=b4225908-c3dc-4060-aeab-5ac20fdc639e\n",
      "Agregando URL: https://www.airbnb.es/rooms/1227947729562300326?adults=1&category_tag=Tag%3A8678&children=0&enable_m3_private_room=true&infants=0&pets=0&photo_id=1978992110&search_mode=regular_search&check_in=2024-11-09&check_out=2024-11-14&source_impression_id=p3_1730726899_P3KZ9FOFGDu1k2dZ&previous_page_section_name=1000&federated_search_id=b4225908-c3dc-4060-aeab-5ac20fdc639e\n",
      "Agregando URL: https://www.airbnb.es/rooms/696150929415709314?adults=1&category_tag=Tag%3A8678&children=0&enable_m3_private_room=true&infants=0&pets=0&photo_id=2016824537&search_mode=regular_search&check_in=2024-11-07&check_out=2024-11-12&source_impression_id=p3_1730726899_P3gi2FchmauErG1U&previous_page_section_name=1000&federated_search_id=b4225908-c3dc-4060-aeab-5ac20fdc639e\n",
      "Agregando URL: https://www.airbnb.es/rooms/1147692746401940575?adults=1&category_tag=Tag%3A8678&children=0&enable_m3_private_room=true&infants=0&pets=0&photo_id=1897406461&search_mode=regular_search&check_in=2024-11-09&check_out=2024-11-14&source_impression_id=p3_1730726899_P3CWDIgWNFlx9rOx&previous_page_section_name=1000&federated_search_id=b4225908-c3dc-4060-aeab-5ac20fdc639e\n",
      "Agregando URL: https://www.airbnb.es/rooms/878759262826963543?adults=1&children=0&enable_m3_private_room=true&infants=0&pets=0&search_mode=regular_search&check_in=2024-11-25&check_out=2024-11-30&source_impression_id=p3_1730726899_P3dzjXfh_OtUSsfR&previous_page_section_name=1000&federated_search_id=b4225908-c3dc-4060-aeab-5ac20fdc639e\n",
      "Agregando URL: https://www.airbnb.es/rooms/1239920055875442315?adults=1&category_tag=Tag%3A8678&children=0&enable_m3_private_room=true&infants=0&pets=0&photo_id=2016940308&search_mode=regular_search&check_in=2024-11-25&check_out=2024-11-30&source_impression_id=p3_1730726899_P35lClkbdwu53Hyq&previous_page_section_name=1000&federated_search_id=b4225908-c3dc-4060-aeab-5ac20fdc639e\n",
      "Agregando URL: https://www.airbnb.es/rooms/563553175219651122?adults=1&children=0&enable_m3_private_room=true&infants=0&pets=0&search_mode=regular_search&check_in=2024-11-04&check_out=2024-11-09&source_impression_id=p3_1730726899_P3Txthh9JVuiJG4O&previous_page_section_name=1000&federated_search_id=b4225908-c3dc-4060-aeab-5ac20fdc639e\n",
      "Agregando URL: https://www.airbnb.es/rooms/26766150?adults=1&children=0&enable_m3_private_room=true&infants=0&pets=0&search_mode=regular_search&check_in=2024-11-17&check_out=2024-11-22&source_impression_id=p3_1730726899_P3T5QudEn1tpOmjl&previous_page_section_name=1000&federated_search_id=b4225908-c3dc-4060-aeab-5ac20fdc639e\n",
      "Agregando URL: https://www.airbnb.es/rooms/52047123?adults=1&children=0&enable_m3_private_room=true&infants=0&pets=0&search_mode=regular_search&check_in=2025-01-06&check_out=2025-01-11&source_impression_id=p3_1730726899_P3f4zCQSm5h-VYx2&previous_page_section_name=1000&federated_search_id=b4225908-c3dc-4060-aeab-5ac20fdc639e\n",
      "Agregando URL: https://www.airbnb.es/rooms/39788335?adults=1&category_tag=Tag%3A8678&children=0&enable_m3_private_room=true&infants=0&pets=0&photo_id=1721184194&search_mode=regular_search&check_in=2024-11-28&check_out=2024-12-03&source_impression_id=p3_1730726899_P3BDrtG6cYYwkqK6&previous_page_section_name=1000&federated_search_id=b4225908-c3dc-4060-aeab-5ac20fdc639e\n",
      "Agregando URL: https://www.airbnb.es/rooms/1238177754017283587?adults=1&children=0&enable_m3_private_room=true&infants=0&pets=0&search_mode=regular_search&check_in=2024-11-10&check_out=2024-11-15&source_impression_id=p3_1730726899_P39nldSMxJ60ovFx&previous_page_section_name=1000&federated_search_id=b4225908-c3dc-4060-aeab-5ac20fdc639e\n",
      "Agregando URL: https://www.airbnb.es/rooms/950039730069038028?adults=1&category_tag=Tag%3A8678&children=0&enable_m3_private_room=true&infants=0&pets=0&photo_id=1998713208&search_mode=regular_search&check_in=2024-11-25&check_out=2024-11-30&source_impression_id=p3_1730726899_P3VN2EtcI6a0YvVV&previous_page_section_name=1000&federated_search_id=b4225908-c3dc-4060-aeab-5ac20fdc639e\n",
      "Agregando URL: https://www.airbnb.es/rooms/1737505?adults=1&children=0&enable_m3_private_room=true&infants=0&pets=0&search_mode=regular_search&check_in=2024-12-09&check_out=2024-12-14&source_impression_id=p3_1730726899_P3Ii0z80aSTOhJbR&previous_page_section_name=1000&federated_search_id=b4225908-c3dc-4060-aeab-5ac20fdc639e\n",
      "Agregando URL: https://www.airbnb.es/rooms/53056356?adults=1&children=0&enable_m3_private_room=true&infants=0&pets=0&search_mode=regular_search&check_in=2024-12-08&check_out=2024-12-13&source_impression_id=p3_1730726899_P3D1_lEuBLSP5ZEu&previous_page_section_name=1000&federated_search_id=b4225908-c3dc-4060-aeab-5ac20fdc639e\n",
      "Agregando URL: https://www.airbnb.es/rooms/31482730?adults=1&children=0&enable_m3_private_room=true&infants=0&pets=0&search_mode=regular_search&check_in=2024-12-16&check_out=2024-12-21&source_impression_id=p3_1730726899_P37KLs_8AYsu2MFF&previous_page_section_name=1000&federated_search_id=b4225908-c3dc-4060-aeab-5ac20fdc639e\n",
      "Agregando URL: https://www.airbnb.es/rooms/2439919?adults=1&children=0&enable_m3_private_room=true&infants=0&pets=0&search_mode=regular_search&check_in=2024-12-08&check_out=2024-12-13&source_impression_id=p3_1730726899_P3B4bkmpPmLZq0Ud&previous_page_section_name=1000&federated_search_id=b4225908-c3dc-4060-aeab-5ac20fdc639e\n",
      "Agregando URL: https://www.airbnb.es/rooms/3512999?adults=1&children=0&enable_m3_private_room=true&infants=0&pets=0&search_mode=regular_search&check_in=2024-11-10&check_out=2024-11-15&source_impression_id=p3_1730726899_P36dlrTqOQsfFG37&previous_page_section_name=1000&federated_search_id=b4225908-c3dc-4060-aeab-5ac20fdc639e\n",
      "Agregando URL: https://www.airbnb.es/rooms/3144104?adults=1&children=0&enable_m3_private_room=true&infants=0&pets=0&search_mode=regular_search&check_in=2024-12-08&check_out=2024-12-13&source_impression_id=p3_1730726899_P3m1uPcUI-mJWHgD&previous_page_section_name=1000&federated_search_id=b4225908-c3dc-4060-aeab-5ac20fdc639e\n",
      "Total de links extraídos hasta ahora: 108\n",
      "Siguiente página...\n",
      "Número de links filtrados en la página: 18\n",
      "Agregando URL: https://www.airbnb.es/rooms/1252655664051909932?adults=1&category_tag=Tag%3A8678&children=0&enable_m3_private_room=true&infants=0&pets=0&photo_id=1999365597&search_mode=regular_search&check_in=2024-11-12&check_out=2024-11-17&source_impression_id=p3_1730726903_P3nfhzmbEHkLyKxO&previous_page_section_name=1000&federated_search_id=2ceed9fb-c582-465b-b5f2-597bd7acbd55\n",
      "Agregando URL: https://www.airbnb.es/rooms/39772949?adults=1&category_tag=Tag%3A8678&children=0&enable_m3_private_room=true&infants=0&pets=0&photo_id=1608452292&search_mode=regular_search&check_in=2024-12-15&check_out=2024-12-20&source_impression_id=p3_1730726903_P3N2sVDDLxX3LuZS&previous_page_section_name=1000&federated_search_id=2ceed9fb-c582-465b-b5f2-597bd7acbd55\n",
      "Agregando URL: https://www.airbnb.es/rooms/1260943457657919926?adults=1&category_tag=Tag%3A8678&children=0&enable_m3_private_room=true&infants=0&pets=0&photo_id=2006562404&search_mode=regular_search&check_in=2024-11-16&check_out=2024-11-21&source_impression_id=p3_1730726903_P3-Kq05xWj_l1ig4&previous_page_section_name=1000&federated_search_id=2ceed9fb-c582-465b-b5f2-597bd7acbd55\n",
      "Agregando URL: https://www.airbnb.es/rooms/31301994?adults=1&children=0&enable_m3_private_room=true&infants=0&pets=0&search_mode=regular_search&check_in=2024-11-24&check_out=2024-11-29&source_impression_id=p3_1730726903_P3TJn2uJdgrJefvt&previous_page_section_name=1000&federated_search_id=2ceed9fb-c582-465b-b5f2-597bd7acbd55\n",
      "Agregando URL: https://www.airbnb.es/rooms/18913927?adults=1&category_tag=Tag%3A8678&children=0&enable_m3_private_room=true&infants=0&pets=0&photo_id=315346761&search_mode=regular_search&check_in=2024-11-29&check_out=2024-12-04&source_impression_id=p3_1730726903_P3xEe4KiECWrPT_f&previous_page_section_name=1000&federated_search_id=2ceed9fb-c582-465b-b5f2-597bd7acbd55\n",
      "Agregando URL: https://www.airbnb.es/rooms/1250094269381769091?adults=1&category_tag=Tag%3A8678&children=0&enable_m3_private_room=true&infants=0&pets=0&photo_id=2019025467&search_mode=regular_search&check_in=2024-11-06&check_out=2024-11-11&source_impression_id=p3_1730726903_P3ymKCF_lcMsne6z&previous_page_section_name=1000&federated_search_id=2ceed9fb-c582-465b-b5f2-597bd7acbd55\n",
      "Agregando URL: https://www.airbnb.es/rooms/1192853810979635706?adults=1&category_tag=Tag%3A8678&children=0&enable_m3_private_room=true&infants=0&pets=0&photo_id=1944761166&search_mode=regular_search&check_in=2024-11-18&check_out=2024-11-23&source_impression_id=p3_1730726903_P3aUswv0fA7iaV-m&previous_page_section_name=1000&federated_search_id=2ceed9fb-c582-465b-b5f2-597bd7acbd55\n",
      "Agregando URL: https://www.airbnb.es/rooms/1277705142024688819?adults=1&category_tag=Tag%3A8678&children=0&enable_m3_private_room=true&infants=0&pets=0&photo_id=2019829020&search_mode=regular_search&check_in=2024-11-05&check_out=2024-11-10&source_impression_id=p3_1730726903_P3wC10Fo7-krCnib&previous_page_section_name=1000&federated_search_id=2ceed9fb-c582-465b-b5f2-597bd7acbd55\n",
      "Agregando URL: https://www.airbnb.es/rooms/1262852403010459443?adults=1&category_tag=Tag%3A8678&children=0&enable_m3_private_room=true&infants=0&pets=0&photo_id=2008038091&search_mode=regular_search&check_in=2024-12-14&check_out=2024-12-19&source_impression_id=p3_1730726903_P33MyG7KwY6XUVYi&previous_page_section_name=1000&federated_search_id=2ceed9fb-c582-465b-b5f2-597bd7acbd55\n",
      "Agregando URL: https://www.airbnb.es/rooms/1260094358313659968?adults=1&children=0&enable_m3_private_room=true&infants=0&pets=0&search_mode=regular_search&check_in=2024-11-07&check_out=2024-11-12&source_impression_id=p3_1730726903_P3etAvkxKDoHC-G9&previous_page_section_name=1000&federated_search_id=2ceed9fb-c582-465b-b5f2-597bd7acbd55\n",
      "Agregando URL: https://www.airbnb.es/rooms/1109989?adults=1&children=0&enable_m3_private_room=true&infants=0&pets=0&search_mode=regular_search&check_in=2024-11-13&check_out=2024-11-18&source_impression_id=p3_1730726903_P3w4QEqFxerM-WZd&previous_page_section_name=1000&federated_search_id=2ceed9fb-c582-465b-b5f2-597bd7acbd55\n",
      "Agregando URL: https://www.airbnb.es/rooms/33578553?adults=1&children=0&enable_m3_private_room=true&infants=0&pets=0&search_mode=regular_search&check_in=2024-11-18&check_out=2024-11-25&source_impression_id=p3_1730726903_P3TD1ptNmxX_nx-3&previous_page_section_name=1000&federated_search_id=2ceed9fb-c582-465b-b5f2-597bd7acbd55\n",
      "Agregando URL: https://www.airbnb.es/rooms/1102583562378842806?adults=1&category_tag=Tag%3A8678&children=0&enable_m3_private_room=true&infants=0&pets=0&photo_id=2014221738&search_mode=regular_search&check_in=2024-11-10&check_out=2024-11-15&source_impression_id=p3_1730726903_P3qmI8obE5doDwZI&previous_page_section_name=1000&federated_search_id=2ceed9fb-c582-465b-b5f2-597bd7acbd55\n",
      "Agregando URL: https://www.airbnb.es/rooms/656746284190714271?adults=1&category_tag=Tag%3A8678&children=0&enable_m3_private_room=true&infants=0&pets=0&photo_id=1595203017&search_mode=regular_search&check_in=2024-11-25&check_out=2024-11-30&source_impression_id=p3_1730726903_P3CAknUpELqAtls7&previous_page_section_name=1000&federated_search_id=2ceed9fb-c582-465b-b5f2-597bd7acbd55\n",
      "Agregando URL: https://www.airbnb.es/rooms/42918242?adults=1&children=0&enable_m3_private_room=true&infants=0&pets=0&search_mode=regular_search&check_in=2024-11-04&check_out=2024-11-09&source_impression_id=p3_1730726903_P3EJqmcijDcnaUZv&previous_page_section_name=1000&federated_search_id=2ceed9fb-c582-465b-b5f2-597bd7acbd55\n",
      "Agregando URL: https://www.airbnb.es/rooms/1207219454903654695?adults=1&children=0&enable_m3_private_room=true&infants=0&pets=0&search_mode=regular_search&check_in=2024-12-07&check_out=2024-12-12&source_impression_id=p3_1730726903_P3QehrrGOCboz5Om&previous_page_section_name=1000&federated_search_id=2ceed9fb-c582-465b-b5f2-597bd7acbd55\n",
      "Agregando URL: https://www.airbnb.es/rooms/1212352665402231812?adults=1&children=0&enable_m3_private_room=true&infants=0&pets=0&search_mode=regular_search&check_in=2024-11-17&check_out=2024-11-22&source_impression_id=p3_1730726903_P3zKFoJgBGSkt033&previous_page_section_name=1000&federated_search_id=2ceed9fb-c582-465b-b5f2-597bd7acbd55\n",
      "Agregando URL: https://www.airbnb.es/rooms/24343358?adults=1&children=0&enable_m3_private_room=true&infants=0&pets=0&search_mode=regular_search&check_in=2024-12-01&check_out=2024-12-06&source_impression_id=p3_1730726903_P3m3JySNaHI2zvQw&previous_page_section_name=1000&federated_search_id=2ceed9fb-c582-465b-b5f2-597bd7acbd55\n",
      "Total de links extraídos hasta ahora: 126\n",
      "Siguiente página...\n",
      "Número de links filtrados en la página: 18\n",
      "Agregando URL: https://www.airbnb.es/rooms/1199066975770288099?adults=1&category_tag=Tag%3A8678&children=0&enable_m3_private_room=true&infants=0&pets=0&photo_id=1968633287&search_mode=regular_search&check_in=2024-11-16&check_out=2024-11-21&source_impression_id=p3_1730726908_P3lgXuh7Uby0bW_o&previous_page_section_name=1000&federated_search_id=5abd0a6d-5fc6-452a-b645-372e0f0660d9\n",
      "Agregando URL: https://www.airbnb.es/rooms/52047182?adults=1&children=0&enable_m3_private_room=true&infants=0&pets=0&search_mode=regular_search&check_in=2025-01-02&check_out=2025-01-07&source_impression_id=p3_1730726908_P3TEbxnBv8HD9ial&previous_page_section_name=1000&federated_search_id=5abd0a6d-5fc6-452a-b645-372e0f0660d9\n",
      "Agregando URL: https://www.airbnb.es/rooms/34296498?adults=1&children=0&enable_m3_private_room=true&infants=0&pets=0&search_mode=regular_search&check_in=2024-11-04&check_out=2024-11-09&source_impression_id=p3_1730726908_P3bar0QkoGwQpmiM&previous_page_section_name=1000&federated_search_id=5abd0a6d-5fc6-452a-b645-372e0f0660d9\n",
      "Agregando URL: https://www.airbnb.es/rooms/52319428?adults=1&children=0&enable_m3_private_room=true&infants=0&pets=0&search_mode=regular_search&check_in=2024-12-10&check_out=2024-12-15&source_impression_id=p3_1730726908_P3LqqryhRSKcmv9t&previous_page_section_name=1000&federated_search_id=5abd0a6d-5fc6-452a-b645-372e0f0660d9\n",
      "Agregando URL: https://www.airbnb.es/rooms/1128458021982193302?adults=1&children=0&enable_m3_private_room=true&infants=0&pets=0&search_mode=regular_search&check_in=2024-11-10&check_out=2024-11-15&source_impression_id=p3_1730726908_P36RR1Vq4vUnFKmJ&previous_page_section_name=1000&federated_search_id=5abd0a6d-5fc6-452a-b645-372e0f0660d9\n",
      "Agregando URL: https://www.airbnb.es/rooms/8880938?adults=1&children=0&enable_m3_private_room=true&infants=0&pets=0&search_mode=regular_search&check_in=2024-11-17&check_out=2024-11-22&source_impression_id=p3_1730726908_P3Kj6ZATvlgYafQI&previous_page_section_name=1000&federated_search_id=5abd0a6d-5fc6-452a-b645-372e0f0660d9\n",
      "Agregando URL: https://www.airbnb.es/rooms/1191419611163489472?adults=1&children=0&enable_m3_private_room=true&infants=0&pets=0&search_mode=regular_search&check_in=2024-11-10&check_out=2024-11-15&source_impression_id=p3_1730726908_P3rgpWxTAa6k1eHC&previous_page_section_name=1000&federated_search_id=5abd0a6d-5fc6-452a-b645-372e0f0660d9\n",
      "Agregando URL: https://www.airbnb.es/rooms/20433221?adults=1&children=0&enable_m3_private_room=true&infants=0&pets=0&search_mode=regular_search&check_in=2024-12-14&check_out=2024-12-21&source_impression_id=p3_1730726908_P3_IoH5nbKkDwf07&previous_page_section_name=1000&federated_search_id=5abd0a6d-5fc6-452a-b645-372e0f0660d9\n",
      "Agregando URL: https://www.airbnb.es/rooms/25364321?adults=1&children=0&enable_m3_private_room=true&infants=0&pets=0&search_mode=regular_search&check_in=2024-12-01&check_out=2024-12-06&source_impression_id=p3_1730726908_P3sxVOLaWEZGI0_1&previous_page_section_name=1000&federated_search_id=5abd0a6d-5fc6-452a-b645-372e0f0660d9\n",
      "Agregando URL: https://www.airbnb.es/rooms/878746003499728024?adults=1&children=0&enable_m3_private_room=true&infants=0&pets=0&search_mode=regular_search&check_in=2024-12-01&check_out=2024-12-06&source_impression_id=p3_1730726908_P34H0Wvhsu3klB-c&previous_page_section_name=1000&federated_search_id=5abd0a6d-5fc6-452a-b645-372e0f0660d9\n",
      "Agregando URL: https://www.airbnb.es/rooms/1253648186710032597?adults=1&children=0&enable_m3_private_room=true&infants=0&pets=0&search_mode=regular_search&check_in=2024-11-24&check_out=2024-11-29&source_impression_id=p3_1730726908_P3Bl_7gAFuorNukn&previous_page_section_name=1000&federated_search_id=5abd0a6d-5fc6-452a-b645-372e0f0660d9\n",
      "Agregando URL: https://www.airbnb.es/rooms/12693694?adults=1&children=0&enable_m3_private_room=true&infants=0&pets=0&search_mode=regular_search&check_in=2024-11-16&check_out=2024-11-21&source_impression_id=p3_1730726908_P3kqdtaBxNpu-G4C&previous_page_section_name=1000&federated_search_id=5abd0a6d-5fc6-452a-b645-372e0f0660d9\n",
      "Agregando URL: https://www.airbnb.es/rooms/41904435?adults=1&category_tag=Tag%3A8678&children=0&enable_m3_private_room=true&infants=0&pets=0&photo_id=1653557675&search_mode=regular_search&check_in=2024-11-11&check_out=2024-11-16&source_impression_id=p3_1730726908_P3StetfQ9s2ANf1V&previous_page_section_name=1000&federated_search_id=5abd0a6d-5fc6-452a-b645-372e0f0660d9\n",
      "Agregando URL: https://www.airbnb.es/rooms/1259382773193877348?adults=1&category_tag=Tag%3A8678&children=0&enable_m3_private_room=true&infants=0&pets=0&photo_id=2005305713&search_mode=regular_search&check_in=2024-11-25&check_out=2024-11-30&source_impression_id=p3_1730726908_P3dr6plT2mQmYV9e&previous_page_section_name=1000&federated_search_id=5abd0a6d-5fc6-452a-b645-372e0f0660d9\n",
      "Agregando URL: https://www.airbnb.es/rooms/1123775217966601123?adults=1&children=0&enable_m3_private_room=true&infants=0&pets=0&search_mode=regular_search&check_in=2024-12-02&check_out=2024-12-07&source_impression_id=p3_1730726908_P3VaC5FNjXLrvfIW&previous_page_section_name=1000&federated_search_id=5abd0a6d-5fc6-452a-b645-372e0f0660d9\n",
      "Agregando URL: https://www.airbnb.es/rooms/4216358?adults=1&children=0&enable_m3_private_room=true&infants=0&pets=0&search_mode=regular_search&check_in=2024-11-24&check_out=2024-11-29&source_impression_id=p3_1730726908_P3eIyEWteHMxRpSm&previous_page_section_name=1000&federated_search_id=5abd0a6d-5fc6-452a-b645-372e0f0660d9\n",
      "Agregando URL: https://www.airbnb.es/rooms/878658347316285621?adults=1&children=0&enable_m3_private_room=true&infants=0&pets=0&search_mode=regular_search&check_in=2024-11-16&check_out=2024-11-21&source_impression_id=p3_1730726908_P3FFRga3B0sROALO&previous_page_section_name=1000&federated_search_id=5abd0a6d-5fc6-452a-b645-372e0f0660d9\n",
      "Agregando URL: https://www.airbnb.es/rooms/1256437657006404870?adults=1&children=0&enable_m3_private_room=true&infants=0&pets=0&search_mode=regular_search&check_in=2024-11-12&check_out=2024-11-17&source_impression_id=p3_1730726908_P3K34IYHdCk4r-GA&previous_page_section_name=1000&federated_search_id=5abd0a6d-5fc6-452a-b645-372e0f0660d9\n",
      "Total de links extraídos hasta ahora: 144\n",
      "Siguiente página...\n",
      "Número de links filtrados en la página: 18\n",
      "Agregando URL: https://www.airbnb.es/rooms/43918687?adults=1&children=0&enable_m3_private_room=true&infants=0&pets=0&search_mode=regular_search&check_in=2024-11-17&check_out=2024-11-22&source_impression_id=p3_1730726913_P3vcdk9RDX1CSGyA&previous_page_section_name=1000&federated_search_id=ee4b0e0e-dc1e-4588-b137-fb45dd06a313\n",
      "Agregando URL: https://www.airbnb.es/rooms/12271535?adults=1&category_tag=Tag%3A8678&children=0&enable_m3_private_room=true&infants=0&pets=0&photo_id=141529929&search_mode=regular_search&check_in=2024-11-05&check_out=2024-11-10&source_impression_id=p3_1730726913_P3zgccrtciOXBvds&previous_page_section_name=1000&federated_search_id=ee4b0e0e-dc1e-4588-b137-fb45dd06a313\n",
      "Agregando URL: https://www.airbnb.es/rooms/1091169236240766560?adults=1&children=0&enable_m3_private_room=true&infants=0&pets=0&search_mode=regular_search&check_in=2024-12-07&check_out=2024-12-12&source_impression_id=p3_1730726913_P3cNwla9RHNDT8-k&previous_page_section_name=1000&federated_search_id=ee4b0e0e-dc1e-4588-b137-fb45dd06a313\n",
      "Agregando URL: https://www.airbnb.es/rooms/1257769885054208712?adults=1&children=0&enable_m3_private_room=true&infants=0&pets=0&search_mode=regular_search&check_in=2024-11-10&check_out=2024-11-15&source_impression_id=p3_1730726913_P3n1XYL89mNpUMNN&previous_page_section_name=1000&federated_search_id=ee4b0e0e-dc1e-4588-b137-fb45dd06a313\n",
      "Agregando URL: https://www.airbnb.es/rooms/16780481?adults=1&category_tag=Tag%3A8678&children=0&enable_m3_private_room=true&infants=0&pets=0&photo_id=1738638103&search_mode=regular_search&check_in=2024-12-15&check_out=2024-12-20&source_impression_id=p3_1730726913_P335nAQKOlVg4Vc4&previous_page_section_name=1000&federated_search_id=ee4b0e0e-dc1e-4588-b137-fb45dd06a313\n",
      "Agregando URL: https://www.airbnb.es/rooms/583987826544046548?adults=1&category_tag=Tag%3A8678&children=0&enable_m3_private_room=true&infants=0&pets=0&photo_id=2014996220&search_mode=regular_search&check_in=2024-11-17&check_out=2024-11-22&source_impression_id=p3_1730726913_P3o_mVHEmQPdrHem&previous_page_section_name=1000&federated_search_id=ee4b0e0e-dc1e-4588-b137-fb45dd06a313\n",
      "Agregando URL: https://www.airbnb.es/rooms/24424717?adults=1&children=0&enable_m3_private_room=true&infants=0&pets=0&search_mode=regular_search&check_in=2024-11-19&check_out=2024-11-24&source_impression_id=p3_1730726913_P3-Mi4SgOEmjeRwI&previous_page_section_name=1000&federated_search_id=ee4b0e0e-dc1e-4588-b137-fb45dd06a313\n",
      "Agregando URL: https://www.airbnb.es/rooms/1096969555168929837?adults=1&children=0&enable_m3_private_room=true&infants=0&pets=0&search_mode=regular_search&check_in=2024-12-01&check_out=2024-12-06&source_impression_id=p3_1730726913_P3uFhxkkuFmhh3tL&previous_page_section_name=1000&federated_search_id=ee4b0e0e-dc1e-4588-b137-fb45dd06a313\n",
      "Agregando URL: https://www.airbnb.es/rooms/1140717328893210788?adults=1&category_tag=Tag%3A8678&children=0&enable_m3_private_room=true&infants=0&pets=0&photo_id=1890165173&search_mode=regular_search&check_in=2024-11-10&check_out=2024-11-15&source_impression_id=p3_1730726913_P3SXIumbs3E7x8oN&previous_page_section_name=1000&federated_search_id=ee4b0e0e-dc1e-4588-b137-fb45dd06a313\n",
      "Agregando URL: https://www.airbnb.es/rooms/37358318?adults=1&category_tag=Tag%3A8678&children=0&enable_m3_private_room=true&infants=0&pets=0&photo_id=1453790317&search_mode=regular_search&check_in=2024-11-09&check_out=2024-11-14&source_impression_id=p3_1730726912_P3Jz4mFA7R0IyMk8&previous_page_section_name=1000&federated_search_id=ee4b0e0e-dc1e-4588-b137-fb45dd06a313\n",
      "Agregando URL: https://www.airbnb.es/rooms/50203619?adults=1&children=0&enable_m3_private_room=true&infants=0&pets=0&search_mode=regular_search&check_in=2024-11-18&check_out=2024-11-23&source_impression_id=p3_1730726913_P3_ZlpfAKbjBubww&previous_page_section_name=1000&federated_search_id=ee4b0e0e-dc1e-4588-b137-fb45dd06a313\n",
      "Agregando URL: https://www.airbnb.es/rooms/889658757021971661?adults=1&category_tag=Tag%3A8678&children=0&enable_m3_private_room=true&infants=0&pets=0&photo_id=2006590024&search_mode=regular_search&check_in=2024-11-12&check_out=2024-11-17&source_impression_id=p3_1730726913_P3VrPM3k6kkWwxVb&previous_page_section_name=1000&federated_search_id=ee4b0e0e-dc1e-4588-b137-fb45dd06a313\n",
      "Agregando URL: https://www.airbnb.es/rooms/1129603983391646603?adults=1&children=0&enable_m3_private_room=true&infants=0&pets=0&search_mode=regular_search&check_in=2024-11-07&check_out=2024-11-14&source_impression_id=p3_1730726913_P3RXetuU1oSMYIZA&previous_page_section_name=1000&federated_search_id=ee4b0e0e-dc1e-4588-b137-fb45dd06a313\n",
      "Agregando URL: https://www.airbnb.es/rooms/2177176?adults=1&children=0&enable_m3_private_room=true&infants=0&pets=0&search_mode=regular_search&check_in=2025-01-04&check_out=2025-01-09&source_impression_id=p3_1730726913_P3TG1eaiSjsm6kGq&previous_page_section_name=1000&federated_search_id=ee4b0e0e-dc1e-4588-b137-fb45dd06a313\n",
      "Agregando URL: https://www.airbnb.es/rooms/4691491?adults=1&children=0&enable_m3_private_room=true&infants=0&pets=0&search_mode=regular_search&check_in=2024-12-01&check_out=2024-12-06&source_impression_id=p3_1730726913_P30HEv87t0ORg7O2&previous_page_section_name=1000&federated_search_id=ee4b0e0e-dc1e-4588-b137-fb45dd06a313\n",
      "Agregando URL: https://www.airbnb.es/rooms/53858106?adults=1&children=0&enable_m3_private_room=true&infants=0&pets=0&search_mode=regular_search&check_in=2024-12-02&check_out=2024-12-07&source_impression_id=p3_1730726913_P3zhKXm-l8eGoVu5&previous_page_section_name=1000&federated_search_id=ee4b0e0e-dc1e-4588-b137-fb45dd06a313\n",
      "Agregando URL: https://www.airbnb.es/rooms/1210295928648344258?adults=1&category_tag=Tag%3A8678&children=0&enable_m3_private_room=true&infants=0&pets=0&photo_id=2019555333&search_mode=regular_search&check_in=2024-11-09&check_out=2024-11-14&source_impression_id=p3_1730726913_P35xHLQVe1e4Al1d&previous_page_section_name=1000&federated_search_id=ee4b0e0e-dc1e-4588-b137-fb45dd06a313\n",
      "Agregando URL: https://www.airbnb.es/rooms/25562552?adults=1&children=0&enable_m3_private_room=true&infants=0&pets=0&search_mode=regular_search&check_in=2024-11-17&check_out=2024-11-22&source_impression_id=p3_1730726913_P3zbN2Caye8LKBj-&previous_page_section_name=1000&federated_search_id=ee4b0e0e-dc1e-4588-b137-fb45dd06a313\n",
      "Total de links extraídos hasta ahora: 162\n",
      "Siguiente página...\n",
      "Número de links filtrados en la página: 18\n",
      "Agregando URL: https://www.airbnb.es/rooms/817427291433305535?adults=1&category_tag=Tag%3A8678&children=0&enable_m3_private_room=true&infants=0&pets=0&photo_id=1859139703&search_mode=regular_search&check_in=2024-11-12&check_out=2024-11-17&source_impression_id=p3_1730726917_P322vfQ7wI4s_ZxM&previous_page_section_name=1000&federated_search_id=57300e66-b52d-41eb-9927-ee13f8ed8a11\n",
      "Agregando URL: https://www.airbnb.es/rooms/32571410?adults=1&category_tag=Tag%3A8678&children=0&enable_m3_private_room=true&infants=0&pets=0&photo_id=942421046&search_mode=regular_search&check_in=2024-12-11&check_out=2024-12-16&source_impression_id=p3_1730726917_P3tF1atNRB242qye&previous_page_section_name=1000&federated_search_id=57300e66-b52d-41eb-9927-ee13f8ed8a11\n",
      "Agregando URL: https://www.airbnb.es/rooms/1242470?adults=1&children=0&enable_m3_private_room=true&infants=0&pets=0&search_mode=regular_search&check_in=2024-11-17&check_out=2024-11-22&source_impression_id=p3_1730726917_P3w0GoI50ZmPLt2h&previous_page_section_name=1000&federated_search_id=57300e66-b52d-41eb-9927-ee13f8ed8a11\n",
      "Agregando URL: https://www.airbnb.es/rooms/1210290434392636993?adults=1&children=0&enable_m3_private_room=true&infants=0&pets=0&search_mode=regular_search&check_in=2024-11-04&check_out=2024-11-09&source_impression_id=p3_1730726917_P3jok4OVQ5-igk_m&previous_page_section_name=1000&federated_search_id=57300e66-b52d-41eb-9927-ee13f8ed8a11\n",
      "Agregando URL: https://www.airbnb.es/rooms/34957866?adults=1&children=0&enable_m3_private_room=true&infants=0&pets=0&search_mode=regular_search&check_in=2025-01-07&check_out=2025-01-12&source_impression_id=p3_1730726917_P3lgDOyBllWa3JYB&previous_page_section_name=1000&federated_search_id=57300e66-b52d-41eb-9927-ee13f8ed8a11\n",
      "Agregando URL: https://www.airbnb.es/rooms/1056956000892822023?adults=1&category_tag=Tag%3A8678&children=0&enable_m3_private_room=true&infants=0&pets=0&photo_id=1835096866&search_mode=regular_search&check_in=2024-11-15&check_out=2024-11-20&source_impression_id=p3_1730726917_P3IrN_3Kg6Y3XKeT&previous_page_section_name=1000&federated_search_id=57300e66-b52d-41eb-9927-ee13f8ed8a11\n",
      "Agregando URL: https://www.airbnb.es/rooms/961443747111735031?adults=1&category_tag=Tag%3A8678&children=0&enable_m3_private_room=true&infants=0&pets=0&photo_id=1732716092&search_mode=regular_search&check_in=2024-11-13&check_out=2024-11-18&source_impression_id=p3_1730726917_P34vE__5XcTdSXTp&previous_page_section_name=1000&federated_search_id=57300e66-b52d-41eb-9927-ee13f8ed8a11\n",
      "Agregando URL: https://www.airbnb.es/rooms/52705619?adults=1&category_tag=Tag%3A8678&children=0&enable_m3_private_room=true&infants=0&pets=0&photo_id=1991641045&search_mode=regular_search&check_in=2024-12-13&check_out=2024-12-18&source_impression_id=p3_1730726917_P3ieHk0ZOwjccJ8I&previous_page_section_name=1000&federated_search_id=57300e66-b52d-41eb-9927-ee13f8ed8a11\n",
      "Agregando URL: https://www.airbnb.es/rooms/1018781782349991550?adults=1&children=0&enable_m3_private_room=true&infants=0&pets=0&search_mode=regular_search&check_in=2024-11-10&check_out=2024-11-15&source_impression_id=p3_1730726917_P3Gy_avLBkN6DwuH&previous_page_section_name=1000&federated_search_id=57300e66-b52d-41eb-9927-ee13f8ed8a11\n",
      "Agregando URL: https://www.airbnb.es/rooms/878745920653835415?adults=1&children=0&enable_m3_private_room=true&infants=0&pets=0&search_mode=regular_search&check_in=2024-12-01&check_out=2024-12-06&source_impression_id=p3_1730726917_P3BnMXRJAr7CVIv3&previous_page_section_name=1000&federated_search_id=57300e66-b52d-41eb-9927-ee13f8ed8a11\n",
      "Agregando URL: https://www.airbnb.es/rooms/603015393676553098?adults=1&category_tag=Tag%3A8678&children=0&enable_m3_private_room=true&infants=0&pets=0&photo_id=1607020829&search_mode=regular_search&check_in=2024-11-17&check_out=2024-11-22&source_impression_id=p3_1730726917_P3CykWouy0eLwazr&previous_page_section_name=1000&federated_search_id=57300e66-b52d-41eb-9927-ee13f8ed8a11\n",
      "Agregando URL: https://www.airbnb.es/rooms/2491989?adults=1&children=0&enable_m3_private_room=true&infants=0&pets=0&search_mode=regular_search&check_in=2025-01-10&check_out=2025-01-15&source_impression_id=p3_1730726917_P3XUCt_zxiCrHvoF&previous_page_section_name=1000&federated_search_id=57300e66-b52d-41eb-9927-ee13f8ed8a11\n",
      "Agregando URL: https://www.airbnb.es/rooms/2576955?adults=1&children=0&enable_m3_private_room=true&infants=0&pets=0&search_mode=regular_search&check_in=2024-12-07&check_out=2024-12-12&source_impression_id=p3_1730726917_P3oxMyW7esfbcI-5&previous_page_section_name=1000&federated_search_id=57300e66-b52d-41eb-9927-ee13f8ed8a11\n",
      "Agregando URL: https://www.airbnb.es/rooms/878813716760200926?adults=1&children=0&enable_m3_private_room=true&infants=0&pets=0&search_mode=regular_search&check_in=2024-12-01&check_out=2024-12-06&source_impression_id=p3_1730726917_P34Zft0B_TqEnSqr&previous_page_section_name=1000&federated_search_id=57300e66-b52d-41eb-9927-ee13f8ed8a11\n",
      "Agregando URL: https://www.airbnb.es/rooms/1234633898550186236?adults=1&category_tag=Tag%3A8678&children=0&enable_m3_private_room=true&infants=0&pets=0&photo_id=2022523716&search_mode=regular_search&check_in=2024-11-17&check_out=2024-11-22&source_impression_id=p3_1730726917_P398IP1szA66L0V_&previous_page_section_name=1000&federated_search_id=57300e66-b52d-41eb-9927-ee13f8ed8a11\n",
      "Agregando URL: https://www.airbnb.es/rooms/661534419768040453?adults=1&category_tag=Tag%3A8678&children=0&enable_m3_private_room=true&infants=0&pets=0&photo_id=1673009681&search_mode=regular_search&check_in=2024-12-18&check_out=2024-12-23&source_impression_id=p3_1730726917_P3sKhaKnfoSw9_aK&previous_page_section_name=1000&federated_search_id=57300e66-b52d-41eb-9927-ee13f8ed8a11\n",
      "Agregando URL: https://www.airbnb.es/rooms/44995311?adults=1&children=0&enable_m3_private_room=true&infants=0&pets=0&search_mode=regular_search&check_in=2024-12-14&check_out=2024-12-19&source_impression_id=p3_1730726917_P3xa4t74fM0RsMiT&previous_page_section_name=1000&federated_search_id=57300e66-b52d-41eb-9927-ee13f8ed8a11\n",
      "Agregando URL: https://www.airbnb.es/rooms/23284399?adults=1&children=0&enable_m3_private_room=true&infants=0&pets=0&search_mode=regular_search&check_in=2024-11-24&check_out=2024-11-29&source_impression_id=p3_1730726917_P3FI4IhJUT0gI3Rm&previous_page_section_name=1000&federated_search_id=57300e66-b52d-41eb-9927-ee13f8ed8a11\n",
      "Total de links extraídos hasta ahora: 180\n",
      "Siguiente página...\n",
      "Número de links filtrados en la página: 18\n",
      "Agregando URL: https://www.airbnb.es/rooms/31479637?adults=1&children=0&enable_m3_private_room=true&infants=0&pets=0&search_mode=regular_search&check_in=2024-11-26&check_out=2024-12-01&source_impression_id=p3_1730726922_P3d3LszJasmi0UJB&previous_page_section_name=1000&federated_search_id=89aa0f4a-b34e-41f7-b899-14514d9178c8\n",
      "Agregando URL: https://www.airbnb.es/rooms/723224287057601828?adults=1&children=0&enable_m3_private_room=true&infants=0&pets=0&search_mode=regular_search&check_in=2024-11-16&check_out=2024-11-21&source_impression_id=p3_1730726922_P3fssAiK4hlK_iFo&previous_page_section_name=1000&federated_search_id=89aa0f4a-b34e-41f7-b899-14514d9178c8\n",
      "Agregando URL: https://www.airbnb.es/rooms/23001940?adults=1&children=0&enable_m3_private_room=true&infants=0&pets=0&search_mode=regular_search&check_in=2024-11-19&check_out=2024-11-24&source_impression_id=p3_1730726922_P356vUuDrQOAdw7e&previous_page_section_name=1000&federated_search_id=89aa0f4a-b34e-41f7-b899-14514d9178c8\n",
      "Agregando URL: https://www.airbnb.es/rooms/578659922214252479?adults=1&children=0&enable_m3_private_room=true&infants=0&pets=0&search_mode=regular_search&check_in=2024-12-07&check_out=2024-12-12&source_impression_id=p3_1730726922_P3B532KayO0hOqGR&previous_page_section_name=1000&federated_search_id=89aa0f4a-b34e-41f7-b899-14514d9178c8\n",
      "Agregando URL: https://www.airbnb.es/rooms/24238588?adults=1&children=0&enable_m3_private_room=true&infants=0&pets=0&search_mode=regular_search&check_in=2024-12-02&check_out=2024-12-07&source_impression_id=p3_1730726922_P3BEEZHkLai3_Ule&previous_page_section_name=1000&federated_search_id=89aa0f4a-b34e-41f7-b899-14514d9178c8\n",
      "Agregando URL: https://www.airbnb.es/rooms/893336277308710394?adults=1&category_tag=Tag%3A8678&children=0&enable_m3_private_room=true&infants=0&pets=0&photo_id=1784180668&search_mode=regular_search&check_in=2024-11-10&check_out=2024-11-15&source_impression_id=p3_1730726922_P3SpNRAcwKzBX-6a&previous_page_section_name=1000&federated_search_id=89aa0f4a-b34e-41f7-b899-14514d9178c8\n",
      "Agregando URL: https://www.airbnb.es/rooms/534550?adults=1&children=0&enable_m3_private_room=true&infants=0&pets=0&search_mode=regular_search&check_in=2024-12-07&check_out=2024-12-12&source_impression_id=p3_1730726922_P3f2AJpKLo4MmnCm&previous_page_section_name=1000&federated_search_id=89aa0f4a-b34e-41f7-b899-14514d9178c8\n",
      "Agregando URL: https://www.airbnb.es/rooms/1250668431906746242?adults=1&children=0&enable_m3_private_room=true&infants=0&pets=0&search_mode=regular_search&check_in=2024-11-09&check_out=2024-11-14&source_impression_id=p3_1730726922_P3OMieWSO7mH98lK&previous_page_section_name=1000&federated_search_id=89aa0f4a-b34e-41f7-b899-14514d9178c8\n",
      "Agregando URL: https://www.airbnb.es/rooms/34770183?adults=1&children=0&enable_m3_private_room=true&infants=0&pets=0&search_mode=regular_search&check_in=2024-12-15&check_out=2024-12-20&source_impression_id=p3_1730726922_P3ya6PdS6LoBn60G&previous_page_section_name=1000&federated_search_id=89aa0f4a-b34e-41f7-b899-14514d9178c8\n",
      "Agregando URL: https://www.airbnb.es/rooms/14565867?adults=1&children=0&enable_m3_private_room=true&infants=0&pets=0&search_mode=regular_search&check_in=2024-12-15&check_out=2024-12-20&source_impression_id=p3_1730726922_P3_4P-ca-lzIHlYr&previous_page_section_name=1000&federated_search_id=89aa0f4a-b34e-41f7-b899-14514d9178c8\n",
      "Agregando URL: https://www.airbnb.es/rooms/31479778?adults=1&children=0&enable_m3_private_room=true&infants=0&pets=0&search_mode=regular_search&check_in=2024-11-19&check_out=2024-11-24&source_impression_id=p3_1730726922_P3WI5xfDAtJzv1wf&previous_page_section_name=1000&federated_search_id=89aa0f4a-b34e-41f7-b899-14514d9178c8\n",
      "Agregando URL: https://www.airbnb.es/rooms/1395001?adults=1&children=0&enable_m3_private_room=true&infants=0&pets=0&search_mode=regular_search&check_in=2024-11-17&check_out=2024-11-22&source_impression_id=p3_1730726922_P3oHo5XtfQxLQmhE&previous_page_section_name=1000&federated_search_id=89aa0f4a-b34e-41f7-b899-14514d9178c8\n",
      "Agregando URL: https://www.airbnb.es/rooms/29841719?adults=1&children=0&enable_m3_private_room=true&infants=0&pets=0&search_mode=regular_search&check_in=2024-12-15&check_out=2024-12-20&source_impression_id=p3_1730726922_P3NhIGnFUc1s1MHk&previous_page_section_name=1000&federated_search_id=89aa0f4a-b34e-41f7-b899-14514d9178c8\n",
      "Agregando URL: https://www.airbnb.es/rooms/44159663?adults=1&children=0&enable_m3_private_room=true&infants=0&pets=0&search_mode=regular_search&check_in=2024-11-11&check_out=2024-11-16&source_impression_id=p3_1730726922_P3aBZKTzeHqbhDnq&previous_page_section_name=1000&federated_search_id=89aa0f4a-b34e-41f7-b899-14514d9178c8\n",
      "Agregando URL: https://www.airbnb.es/rooms/1251405079105833124?adults=1&category_tag=Tag%3A8678&children=0&enable_m3_private_room=true&infants=0&pets=0&photo_id=1998310392&search_mode=regular_search&check_in=2024-11-18&check_out=2024-11-23&source_impression_id=p3_1730726922_P3ibKotY6LO9WMud&previous_page_section_name=1000&federated_search_id=89aa0f4a-b34e-41f7-b899-14514d9178c8\n",
      "Agregando URL: https://www.airbnb.es/rooms/1218288098596145710?adults=1&category_tag=Tag%3A8678&children=0&enable_m3_private_room=true&infants=0&pets=0&photo_id=1970899490&search_mode=regular_search&check_in=2024-11-04&check_out=2024-11-09&source_impression_id=p3_1730726922_P3rJNKQN17mKyFoC&previous_page_section_name=1000&federated_search_id=89aa0f4a-b34e-41f7-b899-14514d9178c8\n",
      "Agregando URL: https://www.airbnb.es/rooms/1252854137324361932?adults=1&children=0&enable_m3_private_room=true&infants=0&pets=0&search_mode=regular_search&check_in=2024-12-01&check_out=2024-12-06&source_impression_id=p3_1730726922_P38ozUo4OH6iyL_a&previous_page_section_name=1000&federated_search_id=89aa0f4a-b34e-41f7-b899-14514d9178c8\n",
      "Agregando URL: https://www.airbnb.es/rooms/24978503?adults=1&children=0&enable_m3_private_room=true&infants=0&pets=0&search_mode=regular_search&check_in=2024-12-08&check_out=2024-12-13&source_impression_id=p3_1730726922_P3wVjJxy0b7DyOCH&previous_page_section_name=1000&federated_search_id=89aa0f4a-b34e-41f7-b899-14514d9178c8\n",
      "Total de links extraídos hasta ahora: 198\n",
      "Siguiente página...\n",
      "Número de links filtrados en la página: 18\n",
      "Agregando URL: https://www.airbnb.es/rooms/20966731?adults=1&children=0&enable_m3_private_room=true&infants=0&pets=0&search_mode=regular_search&check_in=2024-11-17&check_out=2024-11-22&source_impression_id=p3_1730726927_P37OfiMFHbw7PiYm&previous_page_section_name=1000&federated_search_id=a9ae78cb-2cc4-4a61-8fe5-7ad3a9526aa7\n",
      "Agregando URL: https://www.airbnb.es/rooms/3350180?adults=1&children=0&enable_m3_private_room=true&infants=0&pets=0&search_mode=regular_search&check_in=2024-12-01&check_out=2024-12-06&source_impression_id=p3_1730726927_P34WDgge63WN9Acb&previous_page_section_name=1000&federated_search_id=a9ae78cb-2cc4-4a61-8fe5-7ad3a9526aa7\n",
      "Agregando URL: https://www.airbnb.es/rooms/673713674997501365?adults=1&children=0&enable_m3_private_room=true&infants=0&pets=0&search_mode=regular_search&check_in=2024-12-16&check_out=2024-12-21&source_impression_id=p3_1730726927_P3BOsj7FReOFeHGE&previous_page_section_name=1000&federated_search_id=a9ae78cb-2cc4-4a61-8fe5-7ad3a9526aa7\n",
      "Agregando URL: https://www.airbnb.es/rooms/2755738?adults=1&children=0&enable_m3_private_room=true&infants=0&pets=0&search_mode=regular_search&check_in=2024-11-10&check_out=2024-11-15&source_impression_id=p3_1730726927_P3n85kVZCa707IEZ&previous_page_section_name=1000&federated_search_id=a9ae78cb-2cc4-4a61-8fe5-7ad3a9526aa7\n",
      "Agregando URL: https://www.airbnb.es/rooms/23661273?adults=1&children=0&enable_m3_private_room=true&infants=0&pets=0&search_mode=regular_search&check_in=2025-02-09&check_out=2025-02-14&source_impression_id=p3_1730726927_P3vd0oEj2gCpShLI&previous_page_section_name=1000&federated_search_id=a9ae78cb-2cc4-4a61-8fe5-7ad3a9526aa7\n",
      "Agregando URL: https://www.airbnb.es/rooms/1237126474672183733?adults=1&children=0&enable_m3_private_room=true&infants=0&pets=0&search_mode=regular_search&check_in=2024-11-24&check_out=2024-11-29&source_impression_id=p3_1730726927_P3JzjpS63xgce717&previous_page_section_name=1000&federated_search_id=a9ae78cb-2cc4-4a61-8fe5-7ad3a9526aa7\n",
      "Agregando URL: https://www.airbnb.es/rooms/12332051?adults=1&children=0&enable_m3_private_room=true&infants=0&pets=0&search_mode=regular_search&check_in=2024-11-04&check_out=2024-11-09&source_impression_id=p3_1730726927_P3O_lWABTWwsYei0&previous_page_section_name=1000&federated_search_id=a9ae78cb-2cc4-4a61-8fe5-7ad3a9526aa7\n",
      "Agregando URL: https://www.airbnb.es/rooms/1604559?adults=1&children=0&enable_m3_private_room=true&infants=0&pets=0&search_mode=regular_search&check_in=2024-12-10&check_out=2024-12-15&source_impression_id=p3_1730726927_P37KGPEHB6jDCbeP&previous_page_section_name=1000&federated_search_id=a9ae78cb-2cc4-4a61-8fe5-7ad3a9526aa7\n",
      "Agregando URL: https://www.airbnb.es/rooms/1277525317189102081?adults=1&category_tag=Tag%3A8678&children=0&enable_m3_private_room=true&infants=0&pets=0&photo_id=2019615549&search_mode=regular_search&check_in=2024-11-10&check_out=2024-11-15&source_impression_id=p3_1730726927_P35Dd4y_J5bhEwyM&previous_page_section_name=1000&federated_search_id=a9ae78cb-2cc4-4a61-8fe5-7ad3a9526aa7\n",
      "Agregando URL: https://www.airbnb.es/rooms/622091179379166142?adults=1&children=0&enable_m3_private_room=true&infants=0&pets=0&search_mode=regular_search&check_in=2024-12-08&check_out=2024-12-13&source_impression_id=p3_1730726927_P3N3fpnGJYv6rSBm&previous_page_section_name=1000&federated_search_id=a9ae78cb-2cc4-4a61-8fe5-7ad3a9526aa7\n",
      "Agregando URL: https://www.airbnb.es/rooms/1158328451584798263?adults=1&children=0&enable_m3_private_room=true&infants=0&pets=0&search_mode=regular_search&check_in=2024-11-09&check_out=2024-11-14&source_impression_id=p3_1730726927_P3ZT6buFFbTnM1UH&previous_page_section_name=1000&federated_search_id=a9ae78cb-2cc4-4a61-8fe5-7ad3a9526aa7\n",
      "Agregando URL: https://www.airbnb.es/rooms/883024011378948768?adults=1&children=0&enable_m3_private_room=true&infants=0&pets=0&search_mode=regular_search&check_in=2024-12-08&check_out=2024-12-13&source_impression_id=p3_1730726927_P35_sA2n_0cTQ0B9&previous_page_section_name=1000&federated_search_id=a9ae78cb-2cc4-4a61-8fe5-7ad3a9526aa7\n",
      "Agregando URL: https://www.airbnb.es/rooms/31480547?adults=1&children=0&enable_m3_private_room=true&infants=0&pets=0&search_mode=regular_search&check_in=2024-12-02&check_out=2024-12-07&source_impression_id=p3_1730726927_P3GveSwpmATGqqv6&previous_page_section_name=1000&federated_search_id=a9ae78cb-2cc4-4a61-8fe5-7ad3a9526aa7\n",
      "Agregando URL: https://www.airbnb.es/rooms/723644764087881659?adults=1&category_tag=Tag%3A8678&children=0&enable_m3_private_room=true&infants=0&pets=0&photo_id=1497241454&search_mode=regular_search&check_in=2024-12-01&check_out=2024-12-06&source_impression_id=p3_1730726927_P3yuYiBEGGo8SBAd&previous_page_section_name=1000&federated_search_id=a9ae78cb-2cc4-4a61-8fe5-7ad3a9526aa7\n",
      "Agregando URL: https://www.airbnb.es/rooms/829229988526268828?adults=1&children=0&enable_m3_private_room=true&infants=0&pets=0&search_mode=regular_search&check_in=2024-11-24&check_out=2024-11-29&source_impression_id=p3_1730726927_P3mZ_2MshdMNWfTg&previous_page_section_name=1000&federated_search_id=a9ae78cb-2cc4-4a61-8fe5-7ad3a9526aa7\n",
      "Agregando URL: https://www.airbnb.es/rooms/19902564?adults=1&children=0&enable_m3_private_room=true&infants=0&pets=0&search_mode=regular_search&check_in=2025-01-11&check_out=2025-01-16&source_impression_id=p3_1730726927_P3sReotbOBAuhoPQ&previous_page_section_name=1000&federated_search_id=a9ae78cb-2cc4-4a61-8fe5-7ad3a9526aa7\n",
      "Agregando URL: https://www.airbnb.es/rooms/7108900?adults=1&category_tag=Tag%3A8678&children=0&enable_m3_private_room=true&infants=0&pets=0&photo_id=50104532&search_mode=regular_search&check_in=2024-11-25&check_out=2024-11-30&source_impression_id=p3_1730726927_P3YOiPpLkMI8u8L6&previous_page_section_name=1000&federated_search_id=a9ae78cb-2cc4-4a61-8fe5-7ad3a9526aa7\n",
      "Agregando URL: https://www.airbnb.es/rooms/1277528490911798669?adults=1&children=0&enable_m3_private_room=true&infants=0&pets=0&search_mode=regular_search&check_in=2024-11-10&check_out=2024-11-15&source_impression_id=p3_1730726927_P3vle_RHyBEzAcGN&previous_page_section_name=1000&federated_search_id=a9ae78cb-2cc4-4a61-8fe5-7ad3a9526aa7\n",
      "Total de links extraídos hasta ahora: 216\n",
      "Siguiente página...\n",
      "Número de links filtrados en la página: 18\n",
      "Agregando URL: https://www.airbnb.es/rooms/39741313?adults=1&category_tag=Tag%3A8678&children=0&enable_m3_private_room=true&infants=0&pets=0&photo_id=1607813582&search_mode=regular_search&check_in=2024-11-23&check_out=2024-11-28&source_impression_id=p3_1730726931_P3v_lEbV4qKaT84A&previous_page_section_name=1000&federated_search_id=8b3e808f-fa4d-42ad-8fc3-c971cbbb5e01\n",
      "Agregando URL: https://www.airbnb.es/rooms/39753264?adults=1&children=0&enable_m3_private_room=true&infants=0&pets=0&search_mode=regular_search&check_in=2024-11-10&check_out=2024-11-15&source_impression_id=p3_1730726931_P3dlxgt5zM7aX_i4&previous_page_section_name=1000&federated_search_id=8b3e808f-fa4d-42ad-8fc3-c971cbbb5e01\n",
      "Agregando URL: https://www.airbnb.es/rooms/976707829466015775?adults=1&category_tag=Tag%3A8678&children=0&enable_m3_private_room=true&infants=0&pets=0&photo_id=1736692845&search_mode=regular_search&check_in=2024-11-04&check_out=2024-11-09&source_impression_id=p3_1730726931_P3y0W58nknMGTPe0&previous_page_section_name=1000&federated_search_id=8b3e808f-fa4d-42ad-8fc3-c971cbbb5e01\n",
      "Agregando URL: https://www.airbnb.es/rooms/1250095973933022993?adults=1&category_tag=Tag%3A8678&children=0&enable_m3_private_room=true&infants=0&pets=0&photo_id=1997518703&search_mode=regular_search&check_in=2024-11-24&check_out=2024-11-29&source_impression_id=p3_1730726931_P3Qd6lv5OcsY1tyt&previous_page_section_name=1000&federated_search_id=8b3e808f-fa4d-42ad-8fc3-c971cbbb5e01\n",
      "Agregando URL: https://www.airbnb.es/rooms/927418121223302860?adults=1&children=0&enable_m3_private_room=true&infants=0&pets=0&search_mode=regular_search&check_in=2024-11-24&check_out=2024-11-29&source_impression_id=p3_1730726931_P3LrguZ8DF9nwW3e&previous_page_section_name=1000&federated_search_id=8b3e808f-fa4d-42ad-8fc3-c971cbbb5e01\n",
      "Agregando URL: https://www.airbnb.es/rooms/705781639252004170?adults=1&category_tag=Tag%3A8678&children=0&enable_m3_private_room=true&infants=0&pets=0&photo_id=1796031551&search_mode=regular_search&check_in=2024-11-09&check_out=2024-11-14&source_impression_id=p3_1730726931_P35CxQjlFzuIKcqu&previous_page_section_name=1000&federated_search_id=8b3e808f-fa4d-42ad-8fc3-c971cbbb5e01\n",
      "Agregando URL: https://www.airbnb.es/rooms/39404484?adults=1&children=0&enable_m3_private_room=true&infants=0&pets=0&search_mode=regular_search&check_in=2024-11-17&check_out=2024-11-22&source_impression_id=p3_1730726931_P3_KKTPyFfVEhqyY&previous_page_section_name=1000&federated_search_id=8b3e808f-fa4d-42ad-8fc3-c971cbbb5e01\n",
      "Agregando URL: https://www.airbnb.es/rooms/40723364?adults=1&children=0&enable_m3_private_room=true&infants=0&pets=0&search_mode=regular_search&check_in=2024-11-08&check_out=2024-11-13&source_impression_id=p3_1730726931_P3BXP_lyXCJM1cVP&previous_page_section_name=1000&federated_search_id=8b3e808f-fa4d-42ad-8fc3-c971cbbb5e01\n",
      "Agregando URL: https://www.airbnb.es/rooms/51661574?adults=1&children=0&enable_m3_private_room=true&infants=0&pets=0&search_mode=regular_search&check_in=2024-12-01&check_out=2024-12-06&source_impression_id=p3_1730726931_P3so4QzBSze5uHBD&previous_page_section_name=1000&federated_search_id=8b3e808f-fa4d-42ad-8fc3-c971cbbb5e01\n",
      "Agregando URL: https://www.airbnb.es/rooms/843583628506984374?adults=1&category_tag=Tag%3A8678&children=0&enable_m3_private_room=true&infants=0&pets=0&photo_id=2003796170&search_mode=regular_search&check_in=2024-11-18&check_out=2024-11-23&source_impression_id=p3_1730726931_P3yzd4m-3RQIzb9Z&previous_page_section_name=1000&federated_search_id=8b3e808f-fa4d-42ad-8fc3-c971cbbb5e01\n",
      "Agregando URL: https://www.airbnb.es/rooms/1110775765657684157?adults=1&children=0&enable_m3_private_room=true&infants=0&pets=0&search_mode=regular_search&check_in=2024-11-24&check_out=2024-11-29&source_impression_id=p3_1730726931_P3m0NP5hE9ChvThi&previous_page_section_name=1000&federated_search_id=8b3e808f-fa4d-42ad-8fc3-c971cbbb5e01\n",
      "Agregando URL: https://www.airbnb.es/rooms/5837152?adults=1&children=0&enable_m3_private_room=true&infants=0&pets=0&search_mode=regular_search&check_in=2024-11-10&check_out=2024-11-15&source_impression_id=p3_1730726931_P389NqNNiDnyhPfX&previous_page_section_name=1000&federated_search_id=8b3e808f-fa4d-42ad-8fc3-c971cbbb5e01\n",
      "Agregando URL: https://www.airbnb.es/rooms/16762460?adults=1&category_tag=Tag%3A8678&children=0&enable_m3_private_room=true&infants=0&pets=0&photo_id=951434518&search_mode=regular_search&check_in=2025-02-04&check_out=2025-02-09&source_impression_id=p3_1730726931_P3MNaITBE87bgY5J&previous_page_section_name=1000&federated_search_id=8b3e808f-fa4d-42ad-8fc3-c971cbbb5e01\n",
      "Agregando URL: https://www.airbnb.es/rooms/1236146172416885944?adults=1&category_tag=Tag%3A8678&children=0&enable_m3_private_room=true&infants=0&pets=0&photo_id=2008926050&search_mode=regular_search&check_in=2024-12-02&check_out=2024-12-07&source_impression_id=p3_1730726931_P3pPFHJJk0-Q3DnH&previous_page_section_name=1000&federated_search_id=8b3e808f-fa4d-42ad-8fc3-c971cbbb5e01\n",
      "Agregando URL: https://www.airbnb.es/rooms/1008554383433120644?adults=1&category_tag=Tag%3A8678&children=0&enable_m3_private_room=true&infants=0&pets=0&photo_id=1765662149&search_mode=regular_search&check_in=2024-12-14&check_out=2024-12-19&source_impression_id=p3_1730726931_P3EPf_aF2TTfQmOm&previous_page_section_name=1000&federated_search_id=8b3e808f-fa4d-42ad-8fc3-c971cbbb5e01\n",
      "Agregando URL: https://www.airbnb.es/rooms/1011083?adults=1&children=0&enable_m3_private_room=true&infants=0&pets=0&search_mode=regular_search&check_in=2024-12-09&check_out=2024-12-14&source_impression_id=p3_1730726931_P3Q90B6p8c3P96N2&previous_page_section_name=1000&federated_search_id=8b3e808f-fa4d-42ad-8fc3-c971cbbb5e01\n",
      "Agregando URL: https://www.airbnb.es/rooms/1270277773495092297?adults=1&category_tag=Tag%3A8678&children=0&enable_m3_private_room=true&infants=0&pets=0&photo_id=2014153548&search_mode=regular_search&check_in=2024-11-06&check_out=2024-11-11&source_impression_id=p3_1730726931_P3GNLp7Fvc2Yr1sQ&previous_page_section_name=1000&federated_search_id=8b3e808f-fa4d-42ad-8fc3-c971cbbb5e01\n",
      "Agregando URL: https://www.airbnb.es/rooms/4029838?adults=1&children=0&enable_m3_private_room=true&infants=0&pets=0&search_mode=regular_search&check_in=2024-11-24&check_out=2024-11-29&source_impression_id=p3_1730726931_P3sMT-Dvz3Hyq95f&previous_page_section_name=1000&federated_search_id=8b3e808f-fa4d-42ad-8fc3-c971cbbb5e01\n",
      "Total de links extraídos hasta ahora: 234\n",
      "Siguiente página...\n",
      "Número de links filtrados en la página: 18\n",
      "Agregando URL: https://www.airbnb.es/rooms/53159288?adults=1&children=0&enable_m3_private_room=true&infants=0&pets=0&search_mode=regular_search&check_in=2024-12-08&check_out=2024-12-13&source_impression_id=p3_1730726936_P31Y6NcX8YNyCHBd&previous_page_section_name=1000&federated_search_id=c7822a6f-3bc1-4ae5-b3d9-fcd1d651eaa8\n",
      "Agregando URL: https://www.airbnb.es/rooms/1221751561372481946?adults=1&category_tag=Tag%3A8678&children=0&enable_m3_private_room=true&infants=0&pets=0&photo_id=1973735631&search_mode=regular_search&check_in=2024-11-21&check_out=2024-11-26&source_impression_id=p3_1730726936_P35Ij5dteDPOu1-c&previous_page_section_name=1000&federated_search_id=c7822a6f-3bc1-4ae5-b3d9-fcd1d651eaa8\n",
      "Agregando URL: https://www.airbnb.es/rooms/1272529396096107602?adults=1&category_tag=Tag%3A8678&children=0&enable_m3_private_room=true&infants=0&pets=0&photo_id=2015731591&search_mode=regular_search&check_in=2024-11-10&check_out=2024-11-15&source_impression_id=p3_1730726936_P3Ckej8qrNn-KZjE&previous_page_section_name=1000&federated_search_id=c7822a6f-3bc1-4ae5-b3d9-fcd1d651eaa8\n",
      "Agregando URL: https://www.airbnb.es/rooms/8811813?adults=1&children=0&enable_m3_private_room=true&infants=0&pets=0&search_mode=regular_search&check_in=2024-11-10&check_out=2024-11-15&source_impression_id=p3_1730726936_P3S-ZRV-JQ1RdN-A&previous_page_section_name=1000&federated_search_id=c7822a6f-3bc1-4ae5-b3d9-fcd1d651eaa8\n",
      "Agregando URL: https://www.airbnb.es/rooms/3212167?adults=1&children=0&enable_m3_private_room=true&infants=0&pets=0&search_mode=regular_search&check_in=2024-12-01&check_out=2024-12-06&source_impression_id=p3_1730726936_P3JR0BbCi_JYT1Zw&previous_page_section_name=1000&federated_search_id=c7822a6f-3bc1-4ae5-b3d9-fcd1d651eaa8\n",
      "Agregando URL: https://www.airbnb.es/rooms/965253230504438294?adults=1&category_tag=Tag%3A8678&children=0&enable_m3_private_room=true&infants=0&pets=0&photo_id=1726566645&search_mode=regular_search&check_in=2024-11-17&check_out=2024-11-22&source_impression_id=p3_1730726936_P32DDNYRTdmzMsan&previous_page_section_name=1000&federated_search_id=c7822a6f-3bc1-4ae5-b3d9-fcd1d651eaa8\n",
      "Agregando URL: https://www.airbnb.es/rooms/14020724?adults=1&children=0&enable_m3_private_room=true&infants=0&pets=0&search_mode=regular_search&check_in=2024-12-15&check_out=2024-12-20&source_impression_id=p3_1730726936_P35ER5s4_uEyUSLS&previous_page_section_name=1000&federated_search_id=c7822a6f-3bc1-4ae5-b3d9-fcd1d651eaa8\n",
      "Agregando URL: https://www.airbnb.es/rooms/46770917?adults=1&category_tag=Tag%3A8678&children=0&enable_m3_private_room=true&infants=0&pets=0&photo_id=1997043716&search_mode=regular_search&check_in=2024-11-06&check_out=2024-11-11&source_impression_id=p3_1730726936_P3TMeUhYZER0Q91K&previous_page_section_name=1000&federated_search_id=c7822a6f-3bc1-4ae5-b3d9-fcd1d651eaa8\n",
      "Agregando URL: https://www.airbnb.es/rooms/31480661?adults=1&children=0&enable_m3_private_room=true&infants=0&pets=0&search_mode=regular_search&check_in=2024-12-01&check_out=2024-12-06&source_impression_id=p3_1730726936_P3SJuuj9wn3oJuxH&previous_page_section_name=1000&federated_search_id=c7822a6f-3bc1-4ae5-b3d9-fcd1d651eaa8\n",
      "Agregando URL: https://www.airbnb.es/rooms/926555538193769079?adults=1&category_tag=Tag%3A8678&children=0&enable_m3_private_room=true&infants=0&pets=0&photo_id=1688252088&search_mode=regular_search&check_in=2024-11-17&check_out=2024-11-22&source_impression_id=p3_1730726936_P3wWjinxj-9OelrH&previous_page_section_name=1000&federated_search_id=c7822a6f-3bc1-4ae5-b3d9-fcd1d651eaa8\n",
      "Agregando URL: https://www.airbnb.es/rooms/17596395?adults=1&children=0&enable_m3_private_room=true&infants=0&pets=0&search_mode=regular_search&check_in=2024-12-08&check_out=2024-12-13&source_impression_id=p3_1730726936_P3D9lg5zMGLYhUot&previous_page_section_name=1000&federated_search_id=c7822a6f-3bc1-4ae5-b3d9-fcd1d651eaa8\n",
      "Agregando URL: https://www.airbnb.es/rooms/19955807?adults=1&children=0&enable_m3_private_room=true&infants=0&pets=0&search_mode=regular_search&check_in=2025-01-11&check_out=2025-01-16&source_impression_id=p3_1730726936_P3de8pJe35Spvcrr&previous_page_section_name=1000&federated_search_id=c7822a6f-3bc1-4ae5-b3d9-fcd1d651eaa8\n",
      "Agregando URL: https://www.airbnb.es/rooms/6270885?adults=1&category_tag=Tag%3A8678&children=0&enable_m3_private_room=true&infants=0&pets=0&photo_id=1921765457&search_mode=regular_search&check_in=2024-11-04&check_out=2024-11-09&source_impression_id=p3_1730726936_P3OYiUoeVXTlCkcq&previous_page_section_name=1000&federated_search_id=c7822a6f-3bc1-4ae5-b3d9-fcd1d651eaa8\n",
      "Agregando URL: https://www.airbnb.es/rooms/1192612229323894350?adults=1&children=0&enable_m3_private_room=true&infants=0&pets=0&search_mode=regular_search&check_in=2024-12-03&check_out=2024-12-08&source_impression_id=p3_1730726936_P3ukmUR6BP6fvsbA&previous_page_section_name=1000&federated_search_id=c7822a6f-3bc1-4ae5-b3d9-fcd1d651eaa8\n",
      "Agregando URL: https://www.airbnb.es/rooms/1158949118855900342?adults=1&category_tag=Tag%3A8678&children=0&enable_m3_private_room=true&infants=0&pets=0&photo_id=1909701677&search_mode=regular_search&check_in=2024-11-26&check_out=2024-12-01&source_impression_id=p3_1730726936_P31B-gbiGdO5HM91&previous_page_section_name=1000&federated_search_id=c7822a6f-3bc1-4ae5-b3d9-fcd1d651eaa8\n",
      "Agregando URL: https://www.airbnb.es/rooms/901939501190614877?adults=1&children=0&enable_m3_private_room=true&infants=0&pets=0&search_mode=regular_search&check_in=2024-11-15&check_out=2024-11-20&source_impression_id=p3_1730726936_P3FegK9Fu9eqnOrO&previous_page_section_name=1000&federated_search_id=c7822a6f-3bc1-4ae5-b3d9-fcd1d651eaa8\n",
      "Agregando URL: https://www.airbnb.es/rooms/1106399114959624659?adults=1&children=0&enable_m3_private_room=true&infants=0&pets=0&search_mode=regular_search&check_in=2024-11-17&check_out=2024-11-22&source_impression_id=p3_1730726936_P3WmLQK2ePawjlvl&previous_page_section_name=1000&federated_search_id=c7822a6f-3bc1-4ae5-b3d9-fcd1d651eaa8\n",
      "Agregando URL: https://www.airbnb.es/rooms/588996?adults=1&children=0&enable_m3_private_room=true&infants=0&pets=0&search_mode=regular_search&check_in=2024-11-30&check_out=2024-12-05&source_impression_id=p3_1730726936_P3b59M495ab3nqxE&previous_page_section_name=1000&federated_search_id=c7822a6f-3bc1-4ae5-b3d9-fcd1d651eaa8\n",
      "Total de links extraídos hasta ahora: 252\n",
      "Siguiente página...\n",
      "Número de links filtrados en la página: 18\n",
      "Agregando URL: https://www.airbnb.es/rooms/52047531?adults=1&children=0&enable_m3_private_room=true&infants=0&pets=0&search_mode=regular_search&check_in=2025-01-06&check_out=2025-01-11&source_impression_id=p3_1730726940_P33LnwELufrwE1Us&previous_page_section_name=1000&federated_search_id=5446da2a-91b9-41a5-b3a2-312fabc299d2\n",
      "Agregando URL: https://www.airbnb.es/rooms/723620525927087811?adults=1&category_tag=Tag%3A8678&children=0&enable_m3_private_room=true&infants=0&pets=0&photo_id=1497226109&search_mode=regular_search&check_in=2024-11-22&check_out=2024-11-27&source_impression_id=p3_1730726941_P3dIk0UrTuUdCblL&previous_page_section_name=1000&federated_search_id=5446da2a-91b9-41a5-b3a2-312fabc299d2\n",
      "Agregando URL: https://www.airbnb.es/rooms/1060821612466718044?adults=1&category_tag=Tag%3A8678&children=0&enable_m3_private_room=true&infants=0&pets=0&photo_id=1829392321&search_mode=regular_search&check_in=2024-11-10&check_out=2024-11-15&source_impression_id=p3_1730726940_P3aqT_5rGB9SsUy2&previous_page_section_name=1000&federated_search_id=5446da2a-91b9-41a5-b3a2-312fabc299d2\n",
      "Agregando URL: https://www.airbnb.es/rooms/988917?adults=1&children=0&enable_m3_private_room=true&infants=0&pets=0&search_mode=regular_search&check_in=2025-01-05&check_out=2025-01-10&source_impression_id=p3_1730726940_P3wRMuzKD42-Gvw_&previous_page_section_name=1000&federated_search_id=5446da2a-91b9-41a5-b3a2-312fabc299d2\n",
      "Agregando URL: https://www.airbnb.es/rooms/971658611130214646?adults=1&children=0&enable_m3_private_room=true&infants=0&pets=0&search_mode=regular_search&check_in=2024-12-13&check_out=2024-12-18&source_impression_id=p3_1730726940_P3Fo2XsXC6zn1ZP4&previous_page_section_name=1000&federated_search_id=5446da2a-91b9-41a5-b3a2-312fabc299d2\n",
      "Agregando URL: https://www.airbnb.es/rooms/1118522947220795858?adults=1&children=0&enable_m3_private_room=true&infants=0&pets=0&search_mode=regular_search&check_in=2024-11-26&check_out=2024-12-01&source_impression_id=p3_1730726940_P36akG7lEvhAIfbV&previous_page_section_name=1000&federated_search_id=5446da2a-91b9-41a5-b3a2-312fabc299d2\n",
      "Agregando URL: https://www.airbnb.es/rooms/1242672145586725001?adults=1&category_tag=Tag%3A8678&children=0&enable_m3_private_room=true&infants=0&pets=0&photo_id=1999565345&search_mode=regular_search&check_in=2024-11-12&check_out=2024-11-17&source_impression_id=p3_1730726940_P3JTKyXwUGHa3v7W&previous_page_section_name=1000&federated_search_id=5446da2a-91b9-41a5-b3a2-312fabc299d2\n",
      "Agregando URL: https://www.airbnb.es/rooms/38199056?adults=1&children=0&enable_m3_private_room=true&infants=0&pets=0&search_mode=regular_search&check_in=2025-03-10&check_out=2025-03-17&source_impression_id=p3_1730726940_P3twLfKa8K53GtZu&previous_page_section_name=1000&federated_search_id=5446da2a-91b9-41a5-b3a2-312fabc299d2\n",
      "Agregando URL: https://www.airbnb.es/rooms/49310121?adults=1&children=0&enable_m3_private_room=true&infants=0&pets=0&search_mode=regular_search&check_in=2025-01-26&check_out=2025-01-31&source_impression_id=p3_1730726941_P3gg2ciotSPSh01k&previous_page_section_name=1000&federated_search_id=5446da2a-91b9-41a5-b3a2-312fabc299d2\n",
      "Agregando URL: https://www.airbnb.es/rooms/31482550?adults=1&children=0&enable_m3_private_room=true&infants=0&pets=0&search_mode=regular_search&check_in=2024-11-26&check_out=2024-12-01&source_impression_id=p3_1730726940_P3Agzu_e7X30hr3o&previous_page_section_name=1000&federated_search_id=5446da2a-91b9-41a5-b3a2-312fabc299d2\n",
      "Agregando URL: https://www.airbnb.es/rooms/904862?adults=1&children=0&enable_m3_private_room=true&infants=0&pets=0&search_mode=regular_search&check_in=2024-11-16&check_out=2024-11-21&source_impression_id=p3_1730726940_P3t9hm2Fgv7J4Xb8&previous_page_section_name=1000&federated_search_id=5446da2a-91b9-41a5-b3a2-312fabc299d2\n",
      "Agregando URL: https://www.airbnb.es/rooms/759351?adults=1&children=0&enable_m3_private_room=true&infants=0&pets=0&search_mode=regular_search&check_in=2024-12-09&check_out=2024-12-14&source_impression_id=p3_1730726940_P3GEO3Bx0ZXzQq-V&previous_page_section_name=1000&federated_search_id=5446da2a-91b9-41a5-b3a2-312fabc299d2\n",
      "Agregando URL: https://www.airbnb.es/rooms/80004?adults=1&children=0&enable_m3_private_room=true&infants=0&pets=0&search_mode=regular_search&check_in=2024-11-15&check_out=2024-11-21&source_impression_id=p3_1730726941_P3uA73w9dE8zU4Ee&previous_page_section_name=1000&federated_search_id=5446da2a-91b9-41a5-b3a2-312fabc299d2\n",
      "Agregando URL: https://www.airbnb.es/rooms/861302823236128053?adults=1&children=0&enable_m3_private_room=true&infants=0&pets=0&search_mode=regular_search&check_in=2024-11-18&check_out=2024-11-23&source_impression_id=p3_1730726941_P3DxVyzJcscQkCp-&previous_page_section_name=1000&federated_search_id=5446da2a-91b9-41a5-b3a2-312fabc299d2\n",
      "Agregando URL: https://www.airbnb.es/rooms/1064588199303595322?adults=1&category_tag=Tag%3A8678&children=0&enable_m3_private_room=true&infants=0&pets=0&photo_id=1820009837&search_mode=regular_search&check_in=2024-11-09&check_out=2024-11-14&source_impression_id=p3_1730726940_P3-Zy_NnJ7cIUP20&previous_page_section_name=1000&federated_search_id=5446da2a-91b9-41a5-b3a2-312fabc299d2\n",
      "Agregando URL: https://www.airbnb.es/rooms/717105293942612635?adults=1&children=0&enable_m3_private_room=true&infants=0&pets=0&search_mode=regular_search&check_in=2024-11-24&check_out=2024-11-29&source_impression_id=p3_1730726940_P3rHjr58jh7W89p8&previous_page_section_name=1000&federated_search_id=5446da2a-91b9-41a5-b3a2-312fabc299d2\n",
      "Agregando URL: https://www.airbnb.es/rooms/961440575589611755?adults=1&category_tag=Tag%3A8678&children=0&enable_m3_private_room=true&infants=0&pets=0&photo_id=1732730844&search_mode=regular_search&check_in=2024-11-09&check_out=2024-11-14&source_impression_id=p3_1730726941_P3hkjEgyE4kAXxkY&previous_page_section_name=1000&federated_search_id=5446da2a-91b9-41a5-b3a2-312fabc299d2\n",
      "Agregando URL: https://www.airbnb.es/rooms/1162317263684669209?adults=1&category_tag=Tag%3A8678&children=0&enable_m3_private_room=true&infants=0&pets=0&photo_id=2019460735&search_mode=regular_search&check_in=2024-11-16&check_out=2024-11-21&source_impression_id=p3_1730726940_P38MYx2L9lMIsHFQ&previous_page_section_name=1000&federated_search_id=5446da2a-91b9-41a5-b3a2-312fabc299d2\n",
      "Total de links extraídos hasta ahora: 270\n"
     ]
    },
    {
     "name": "stderr",
     "output_type": "stream",
     "text": [
      "Accediendo a distritos:  10%|█         | 1/10 [01:15<11:20, 75.59s/it]"
     ]
    },
    {
     "name": "stdout",
     "output_type": "stream",
     "text": [
      "No se pudo cargar la siguiente página o no hay más páginas.\n",
      "Message: no such element: Unable to locate element: {\"method\":\"css selector\",\"selector\":\"a[aria-label=\"Siguiente\"]\"}\n",
      "  (Session info: chrome=130.0.6723.92); For documentation on this error, please visit: https://www.selenium.dev/documentation/webdriver/troubleshooting/errors#no-such-element-exception\n",
      "Stacktrace:\n",
      "\tGetHandleVerifier [0x005638B3+24035]\n",
      "\t(No symbol) [0x004EBC44]\n",
      "\t(No symbol) [0x003CC2D3]\n",
      "\t(No symbol) [0x0040DC86]\n",
      "\t(No symbol) [0x0040DECB]\n",
      "\t(No symbol) [0x0044B9D2]\n",
      "\t(No symbol) [0x0042FED4]\n",
      "\t(No symbol) [0x0044953F]\n",
      "\t(No symbol) [0x0042FC26]\n",
      "\t(No symbol) [0x0040218C]\n",
      "\t(No symbol) [0x0040310D]\n",
      "\tGetHandleVerifier [0x008096D3+2800643]\n",
      "\tGetHandleVerifier [0x0086428E+3172286]\n",
      "\tGetHandleVerifier [0x0085CEA2+3142610]\n",
      "\tGetHandleVerifier [0x00606C60+692624]\n",
      "\t(No symbol) [0x004F4C5D]\n",
      "\t(No symbol) [0x004F1968]\n",
      "\t(No symbol) [0x004F1B00]\n",
      "\t(No symbol) [0x004E3FB0]\n",
      "\tBaseThreadInitThunk [0x74FE7BA9+25]\n",
      "\tRtlInitializeExceptionChain [0x7741C0CB+107]\n",
      "\tRtlClearBits [0x7741C04F+191]\n",
      "\n",
      "Número de links filtrados en la página: 18\n",
      "Agregando URL: https://www.airbnb.es/rooms/35118964?adults=1&children=0&enable_m3_private_room=true&infants=0&pets=0&search_mode=regular_search&check_in=2024-11-04&check_out=2024-11-09&source_impression_id=p3_1730726946_P3EIjmvrOdTxYp5n&previous_page_section_name=1000&federated_search_id=de88bd80-49f9-45fb-aa0a-1e0c4ac14901\n",
      "Agregando URL: https://www.airbnb.es/rooms/1110775765657684157?adults=1&children=0&enable_m3_private_room=true&infants=0&pets=0&search_mode=regular_search&check_in=2024-11-24&check_out=2024-11-29&source_impression_id=p3_1730726946_P3Wa13yJ1zDJJ1XE&previous_page_section_name=1000&federated_search_id=de88bd80-49f9-45fb-aa0a-1e0c4ac14901\n",
      "Agregando URL: https://www.airbnb.es/rooms/719440411250596953?adults=1&children=0&enable_m3_private_room=true&infants=0&pets=0&search_mode=regular_search&check_in=2024-11-17&check_out=2024-11-22&source_impression_id=p3_1730726946_P3R01ikh9XLsy6f8&previous_page_section_name=1000&federated_search_id=de88bd80-49f9-45fb-aa0a-1e0c4ac14901\n",
      "Agregando URL: https://www.airbnb.es/rooms/39598491?adults=1&children=0&enable_m3_private_room=true&infants=0&pets=0&search_mode=regular_search&check_in=2024-11-24&check_out=2024-11-29&source_impression_id=p3_1730726946_P3numteUaBUXJ1dJ&previous_page_section_name=1000&federated_search_id=de88bd80-49f9-45fb-aa0a-1e0c4ac14901\n",
      "Agregando URL: https://www.airbnb.es/rooms/45558244?adults=1&children=0&enable_m3_private_room=true&infants=0&pets=0&search_mode=regular_search&check_in=2024-11-15&check_out=2024-11-20&source_impression_id=p3_1730726946_P3sppkog1rKssUL7&previous_page_section_name=1000&federated_search_id=de88bd80-49f9-45fb-aa0a-1e0c4ac14901\n",
      "Agregando URL: https://www.airbnb.es/rooms/1252854137324361932?adults=1&children=0&enable_m3_private_room=true&infants=0&pets=0&search_mode=regular_search&check_in=2024-12-01&check_out=2024-12-06&source_impression_id=p3_1730726946_P3KwPdDLDhUxpOkU&previous_page_section_name=1000&federated_search_id=de88bd80-49f9-45fb-aa0a-1e0c4ac14901\n",
      "Agregando URL: https://www.airbnb.es/rooms/31977850?adults=1&children=0&enable_m3_private_room=true&infants=0&pets=0&search_mode=regular_search&check_in=2024-11-04&check_out=2024-11-09&source_impression_id=p3_1730726946_P36TZ_thyKlmwbn7&previous_page_section_name=1000&federated_search_id=de88bd80-49f9-45fb-aa0a-1e0c4ac14901\n",
      "Agregando URL: https://www.airbnb.es/rooms/52981104?adults=1&children=0&enable_m3_private_room=true&infants=0&pets=0&search_mode=regular_search&check_in=2024-11-04&check_out=2024-11-09&source_impression_id=p3_1730726946_P3gsiodsB7c6wq0K&previous_page_section_name=1000&federated_search_id=de88bd80-49f9-45fb-aa0a-1e0c4ac14901\n",
      "Agregando URL: https://www.airbnb.es/rooms/961287943216806993?adults=1&children=0&enable_m3_private_room=true&infants=0&pets=0&search_mode=regular_search&check_in=2024-12-08&check_out=2024-12-13&source_impression_id=p3_1730726946_P3rBQzva_9CJTiIU&previous_page_section_name=1000&federated_search_id=de88bd80-49f9-45fb-aa0a-1e0c4ac14901\n",
      "Agregando URL: https://www.airbnb.es/rooms/40553667?adults=1&children=0&enable_m3_private_room=true&infants=0&pets=0&search_mode=regular_search&check_in=2024-11-12&check_out=2024-11-17&source_impression_id=p3_1730726946_P3ahS7jdfQ8rWS1t&previous_page_section_name=1000&federated_search_id=de88bd80-49f9-45fb-aa0a-1e0c4ac14901\n",
      "Agregando URL: https://www.airbnb.es/rooms/1248760917371966497?adults=1&category_tag=Tag%3A8678&children=0&enable_m3_private_room=true&infants=0&pets=0&photo_id=2016541719&search_mode=regular_search&check_in=2024-11-04&check_out=2024-11-09&source_impression_id=p3_1730726946_P3eD9_nvvG5h9MeQ&previous_page_section_name=1000&federated_search_id=de88bd80-49f9-45fb-aa0a-1e0c4ac14901\n",
      "Agregando URL: https://www.airbnb.es/rooms/39940188?adults=1&children=0&enable_m3_private_room=true&infants=0&pets=0&search_mode=regular_search&check_in=2024-11-26&check_out=2024-12-01&source_impression_id=p3_1730726946_P3f3TZPvS4slpfdr&previous_page_section_name=1000&federated_search_id=de88bd80-49f9-45fb-aa0a-1e0c4ac14901\n",
      "Agregando URL: https://www.airbnb.es/rooms/48838696?adults=1&children=0&enable_m3_private_room=true&infants=0&pets=0&search_mode=regular_search&check_in=2024-12-09&check_out=2024-12-14&source_impression_id=p3_1730726946_P3U-VQ2irErPIK04&previous_page_section_name=1000&federated_search_id=de88bd80-49f9-45fb-aa0a-1e0c4ac14901\n",
      "Agregando URL: https://www.airbnb.es/rooms/35488866?adults=1&children=0&enable_m3_private_room=true&infants=0&pets=0&search_mode=regular_search&check_in=2025-09-05&check_out=2025-09-10&source_impression_id=p3_1730726946_P3LqaxoJvXwSqvV2&previous_page_section_name=1000&federated_search_id=de88bd80-49f9-45fb-aa0a-1e0c4ac14901\n",
      "Agregando URL: https://www.airbnb.es/rooms/1164342626799455637?adults=1&category_tag=Tag%3A8678&children=0&enable_m3_private_room=true&infants=0&pets=0&photo_id=1949535167&search_mode=regular_search&check_in=2024-11-24&check_out=2024-11-29&source_impression_id=p3_1730726946_P3yESR3H6j3TmcQd&previous_page_section_name=1000&federated_search_id=de88bd80-49f9-45fb-aa0a-1e0c4ac14901\n",
      "Agregando URL: https://www.airbnb.es/rooms/1250076494871048323?adults=1&category_tag=Tag%3A8678&children=0&enable_m3_private_room=true&infants=0&pets=0&photo_id=1997925728&search_mode=regular_search&check_in=2024-12-01&check_out=2024-12-06&source_impression_id=p3_1730726946_P3LLSag0I_OOo55d&previous_page_section_name=1000&federated_search_id=de88bd80-49f9-45fb-aa0a-1e0c4ac14901\n",
      "Agregando URL: https://www.airbnb.es/rooms/43236801?adults=1&children=0&enable_m3_private_room=true&infants=0&pets=0&search_mode=regular_search&check_in=2024-11-17&check_out=2024-11-22&source_impression_id=p3_1730726946_P3qQgfwtou9KokBJ&previous_page_section_name=1000&federated_search_id=de88bd80-49f9-45fb-aa0a-1e0c4ac14901\n",
      "Agregando URL: https://www.airbnb.es/rooms/1252849636674011237?adults=1&children=0&enable_m3_private_room=true&infants=0&pets=0&search_mode=regular_search&check_in=2024-11-07&check_out=2024-11-12&source_impression_id=p3_1730726946_P34yyORoaIvgkm9E&previous_page_section_name=1000&federated_search_id=de88bd80-49f9-45fb-aa0a-1e0c4ac14901\n",
      "Total de links extraídos hasta ahora: 288\n",
      "Siguiente página...\n",
      "Número de links filtrados en la página: 18\n",
      "Agregando URL: https://www.airbnb.es/rooms/583987826544046548?adults=1&category_tag=Tag%3A8678&children=0&enable_m3_private_room=true&infants=0&pets=0&photo_id=2014996220&search_mode=regular_search&check_in=2024-11-17&check_out=2024-11-22&source_impression_id=p3_1730726955_P3AFf0HtNACErBtv&previous_page_section_name=1000&federated_search_id=4911d0cf-ace0-4b2c-95fc-6bd0b8891ad4\n",
      "Agregando URL: https://www.airbnb.es/rooms/40553596?adults=1&children=0&enable_m3_private_room=true&infants=0&pets=0&search_mode=regular_search&check_in=2024-11-09&check_out=2024-11-14&source_impression_id=p3_1730726955_P3KfOrt06sfTvMGC&previous_page_section_name=1000&federated_search_id=4911d0cf-ace0-4b2c-95fc-6bd0b8891ad4\n",
      "Agregando URL: https://www.airbnb.es/rooms/927418121223302860?adults=1&children=0&enable_m3_private_room=true&infants=0&pets=0&search_mode=regular_search&check_in=2024-11-24&check_out=2024-11-29&source_impression_id=p3_1730726955_P304g9KVG2FoGSmf&previous_page_section_name=1000&federated_search_id=4911d0cf-ace0-4b2c-95fc-6bd0b8891ad4\n",
      "Agregando URL: https://www.airbnb.es/rooms/1252851017334064123?adults=1&children=0&enable_m3_private_room=true&infants=0&pets=0&search_mode=regular_search&check_in=2024-11-08&check_out=2024-11-13&source_impression_id=p3_1730726955_P3jY8kqBIdeK1pzt&previous_page_section_name=1000&federated_search_id=4911d0cf-ace0-4b2c-95fc-6bd0b8891ad4\n",
      "Agregando URL: https://www.airbnb.es/rooms/1243254147120959358?adults=1&category_tag=Tag%3A8678&children=0&enable_m3_private_room=true&infants=0&pets=0&photo_id=2015735133&search_mode=regular_search&check_in=2024-11-10&check_out=2024-11-15&source_impression_id=p3_1730726955_P3upASPGUA2vhtWj&previous_page_section_name=1000&federated_search_id=4911d0cf-ace0-4b2c-95fc-6bd0b8891ad4\n",
      "Agregando URL: https://www.airbnb.es/rooms/801909472414507212?adults=1&children=0&enable_m3_private_room=true&infants=0&pets=0&search_mode=regular_search&check_in=2024-11-17&check_out=2024-11-22&source_impression_id=p3_1730726955_P3eHIL2k_Q0cg3jR&previous_page_section_name=1000&federated_search_id=4911d0cf-ace0-4b2c-95fc-6bd0b8891ad4\n",
      "Agregando URL: https://www.airbnb.es/rooms/979073?adults=1&children=0&enable_m3_private_room=true&infants=0&pets=0&search_mode=regular_search&check_in=2024-12-08&check_out=2024-12-13&source_impression_id=p3_1730726955_P3h-gWBlUyzkYlPL&previous_page_section_name=1000&federated_search_id=4911d0cf-ace0-4b2c-95fc-6bd0b8891ad4\n",
      "Agregando URL: https://www.airbnb.es/rooms/1164492474530834424?adults=1&children=0&enable_m3_private_room=true&infants=0&pets=0&search_mode=regular_search&check_in=2024-12-08&check_out=2024-12-13&source_impression_id=p3_1730726955_P3zvOGM96pqR4h4b&previous_page_section_name=1000&federated_search_id=4911d0cf-ace0-4b2c-95fc-6bd0b8891ad4\n",
      "Agregando URL: https://www.airbnb.es/rooms/1270266469340006214?adults=1&category_tag=Tag%3A8678&children=0&enable_m3_private_room=true&infants=0&pets=0&photo_id=2015148890&search_mode=regular_search&check_in=2024-11-25&check_out=2024-11-30&source_impression_id=p3_1730726955_P3gOmNS6zxu3Bpx0&previous_page_section_name=1000&federated_search_id=4911d0cf-ace0-4b2c-95fc-6bd0b8891ad4\n",
      "Agregando URL: https://www.airbnb.es/rooms/1228812933215136247?adults=1&children=0&enable_m3_private_room=true&infants=0&pets=0&search_mode=regular_search&check_in=2024-11-17&check_out=2024-11-22&source_impression_id=p3_1730726955_P3I41HqwY9I3oVEv&previous_page_section_name=1000&federated_search_id=4911d0cf-ace0-4b2c-95fc-6bd0b8891ad4\n",
      "Agregando URL: https://www.airbnb.es/rooms/995740216386278670?adults=1&children=0&enable_m3_private_room=true&infants=0&pets=0&search_mode=regular_search&check_in=2024-12-04&check_out=2024-12-09&source_impression_id=p3_1730726955_P353tEI_L9p1IQXE&previous_page_section_name=1000&federated_search_id=4911d0cf-ace0-4b2c-95fc-6bd0b8891ad4\n",
      "Agregando URL: https://www.airbnb.es/rooms/1248750542478617295?adults=1&category_tag=Tag%3A8678&children=0&enable_m3_private_room=true&infants=0&pets=0&photo_id=2020476505&search_mode=regular_search&check_in=2024-11-05&check_out=2024-11-10&source_impression_id=p3_1730726955_P3j0NtL3DoVDGQyD&previous_page_section_name=1000&federated_search_id=4911d0cf-ace0-4b2c-95fc-6bd0b8891ad4\n",
      "Agregando URL: https://www.airbnb.es/rooms/33816957?adults=1&children=0&enable_m3_private_room=true&infants=0&pets=0&search_mode=regular_search&check_in=2024-11-25&check_out=2024-11-30&source_impression_id=p3_1730726955_P37Ba8YlvRgf7iLQ&previous_page_section_name=1000&federated_search_id=4911d0cf-ace0-4b2c-95fc-6bd0b8891ad4\n",
      "Agregando URL: https://www.airbnb.es/rooms/47043666?adults=1&children=0&enable_m3_private_room=true&infants=0&pets=0&search_mode=regular_search&check_in=2024-11-24&check_out=2024-11-29&source_impression_id=p3_1730726955_P39h0JBM-aCllZEp&previous_page_section_name=1000&federated_search_id=4911d0cf-ace0-4b2c-95fc-6bd0b8891ad4\n",
      "Agregando URL: https://www.airbnb.es/rooms/8181239?adults=1&children=0&enable_m3_private_room=true&infants=0&pets=0&search_mode=regular_search&check_in=2025-02-07&check_out=2025-02-12&source_impression_id=p3_1730726955_P360Gyn2Lmfep4sY&previous_page_section_name=1000&federated_search_id=4911d0cf-ace0-4b2c-95fc-6bd0b8891ad4\n",
      "Agregando URL: https://www.airbnb.es/rooms/1219516599242285328?adults=1&category_tag=Tag%3A8678&children=0&enable_m3_private_room=true&infants=0&pets=0&photo_id=1972011733&search_mode=regular_search&check_in=2024-11-04&check_out=2024-11-09&source_impression_id=p3_1730726955_P3JZvHnH0Wg52Nw1&previous_page_section_name=1000&federated_search_id=4911d0cf-ace0-4b2c-95fc-6bd0b8891ad4\n",
      "Agregando URL: https://www.airbnb.es/rooms/2510966?adults=1&children=0&enable_m3_private_room=true&infants=0&pets=0&search_mode=regular_search&check_in=2024-11-24&check_out=2024-11-29&source_impression_id=p3_1730726955_P38lpQy39O_tQugo&previous_page_section_name=1000&federated_search_id=4911d0cf-ace0-4b2c-95fc-6bd0b8891ad4\n",
      "Agregando URL: https://www.airbnb.es/rooms/1233912067738312329?adults=1&category_tag=Tag%3A8678&children=0&enable_m3_private_room=true&infants=0&pets=0&photo_id=1983896100&search_mode=regular_search&check_in=2024-12-01&check_out=2024-12-06&source_impression_id=p3_1730726954_P3gkiVfEqpLAII0t&previous_page_section_name=1000&federated_search_id=4911d0cf-ace0-4b2c-95fc-6bd0b8891ad4\n",
      "Total de links extraídos hasta ahora: 306\n",
      "Siguiente página...\n",
      "Número de links filtrados en la página: 18\n",
      "Agregando URL: https://www.airbnb.es/rooms/1186557696488151161?adults=1&children=0&enable_m3_private_room=true&infants=0&pets=0&search_mode=regular_search&check_in=2024-11-17&check_out=2024-11-22&source_impression_id=p3_1730726959_P3MFrSHoUD2nRCWw&previous_page_section_name=1000&federated_search_id=fbf9e845-8c1b-4b51-929d-4d81d781a41d\n",
      "Agregando URL: https://www.airbnb.es/rooms/36054333?adults=1&children=0&enable_m3_private_room=true&infants=0&pets=0&search_mode=regular_search&check_in=2024-11-04&check_out=2024-11-09&source_impression_id=p3_1730726959_P3_RROvSEIxHmmV_&previous_page_section_name=1000&federated_search_id=fbf9e845-8c1b-4b51-929d-4d81d781a41d\n",
      "Agregando URL: https://www.airbnb.es/rooms/708585040013400709?adults=1&children=0&enable_m3_private_room=true&infants=0&pets=0&search_mode=regular_search&check_in=2024-11-24&check_out=2024-11-29&source_impression_id=p3_1730726959_P3oFCKuVv5DUYd3O&previous_page_section_name=1000&federated_search_id=fbf9e845-8c1b-4b51-929d-4d81d781a41d\n",
      "Agregando URL: https://www.airbnb.es/rooms/45889186?adults=1&children=0&enable_m3_private_room=true&infants=0&pets=0&search_mode=regular_search&check_in=2024-11-10&check_out=2024-11-15&source_impression_id=p3_1730726959_P3ZNNkiKPfpw4EDZ&previous_page_section_name=1000&federated_search_id=fbf9e845-8c1b-4b51-929d-4d81d781a41d\n",
      "Agregando URL: https://www.airbnb.es/rooms/1117044813242677570?adults=1&children=0&enable_m3_private_room=true&infants=0&pets=0&search_mode=regular_search&check_in=2024-11-09&check_out=2024-11-14&source_impression_id=p3_1730726959_P3KeAFU3UtYWlkGc&previous_page_section_name=1000&federated_search_id=fbf9e845-8c1b-4b51-929d-4d81d781a41d\n",
      "Agregando URL: https://www.airbnb.es/rooms/994793512972717331?adults=1&children=0&enable_m3_private_room=true&infants=0&pets=0&search_mode=regular_search&check_in=2024-12-01&check_out=2024-12-06&source_impression_id=p3_1730726959_P333qKHv_bykCtLG&previous_page_section_name=1000&federated_search_id=fbf9e845-8c1b-4b51-929d-4d81d781a41d\n",
      "Agregando URL: https://www.airbnb.es/rooms/5483016?adults=1&children=0&enable_m3_private_room=true&infants=0&pets=0&search_mode=regular_search&check_in=2024-11-16&check_out=2024-11-21&source_impression_id=p3_1730726959_P30gagzd8LlcjZFN&previous_page_section_name=1000&federated_search_id=fbf9e845-8c1b-4b51-929d-4d81d781a41d\n",
      "Agregando URL: https://www.airbnb.es/rooms/29274945?adults=1&children=0&enable_m3_private_room=true&infants=0&pets=0&search_mode=regular_search&check_in=2024-12-01&check_out=2024-12-06&source_impression_id=p3_1730726959_P3zZsT07aRbiMBdQ&previous_page_section_name=1000&federated_search_id=fbf9e845-8c1b-4b51-929d-4d81d781a41d\n",
      "Agregando URL: https://www.airbnb.es/rooms/1202780025822678818?adults=1&category_tag=Tag%3A8678&children=0&enable_m3_private_room=true&infants=0&pets=0&photo_id=1991383786&search_mode=regular_search&check_in=2024-12-05&check_out=2024-12-10&source_impression_id=p3_1730726959_P3lbGLXTNO8x5qYH&previous_page_section_name=1000&federated_search_id=fbf9e845-8c1b-4b51-929d-4d81d781a41d\n",
      "Agregando URL: https://www.airbnb.es/rooms/17021004?adults=1&children=0&enable_m3_private_room=true&infants=0&pets=0&search_mode=regular_search&check_in=2024-12-13&check_out=2024-12-18&source_impression_id=p3_1730726959_P3148QvClMdC6r45&previous_page_section_name=1000&federated_search_id=fbf9e845-8c1b-4b51-929d-4d81d781a41d\n",
      "Agregando URL: https://www.airbnb.es/rooms/1222003173128366994?adults=1&category_tag=Tag%3A8678&children=0&enable_m3_private_room=true&infants=0&pets=0&photo_id=1985255593&search_mode=regular_search&check_in=2024-11-24&check_out=2024-11-29&source_impression_id=p3_1730726959_P3GshtcLG0xjWoFk&previous_page_section_name=1000&federated_search_id=fbf9e845-8c1b-4b51-929d-4d81d781a41d\n",
      "Agregando URL: https://www.airbnb.es/rooms/865191?adults=1&children=0&enable_m3_private_room=true&infants=0&pets=0&search_mode=regular_search&check_in=2024-11-29&check_out=2024-12-04&source_impression_id=p3_1730726959_P36ckjd_lW9G_6vi&previous_page_section_name=1000&federated_search_id=fbf9e845-8c1b-4b51-929d-4d81d781a41d\n",
      "Agregando URL: https://www.airbnb.es/rooms/2373057?adults=1&children=0&enable_m3_private_room=true&infants=0&pets=0&search_mode=regular_search&check_in=2024-12-01&check_out=2024-12-06&source_impression_id=p3_1730726959_P3VvWTuefpjBz4wy&previous_page_section_name=1000&federated_search_id=fbf9e845-8c1b-4b51-929d-4d81d781a41d\n",
      "Agregando URL: https://www.airbnb.es/rooms/3539908?adults=1&children=0&enable_m3_private_room=true&infants=0&pets=0&search_mode=regular_search&check_in=2025-02-09&check_out=2025-02-14&source_impression_id=p3_1730726959_P327X_twX5F39FqO&previous_page_section_name=1000&federated_search_id=fbf9e845-8c1b-4b51-929d-4d81d781a41d\n",
      "Agregando URL: https://www.airbnb.es/rooms/1258528215038263464?adults=1&category_tag=Tag%3A8678&children=0&enable_m3_private_room=true&infants=0&pets=0&photo_id=2004515009&search_mode=regular_search&check_in=2024-11-17&check_out=2024-11-22&source_impression_id=p3_1730726959_P3xxudn6AEhXRv0P&previous_page_section_name=1000&federated_search_id=fbf9e845-8c1b-4b51-929d-4d81d781a41d\n",
      "Agregando URL: https://www.airbnb.es/rooms/1263117591292794971?adults=1&children=0&enable_m3_private_room=true&infants=0&pets=0&search_mode=regular_search&check_in=2024-11-16&check_out=2024-11-21&source_impression_id=p3_1730726959_P3_dNWbL0nxc4wEp&previous_page_section_name=1000&federated_search_id=fbf9e845-8c1b-4b51-929d-4d81d781a41d\n",
      "Agregando URL: https://www.airbnb.es/rooms/1204516840130355594?adults=1&category_tag=Tag%3A8678&children=0&enable_m3_private_room=true&infants=0&pets=0&photo_id=1956822303&search_mode=regular_search&check_in=2024-11-11&check_out=2024-11-16&source_impression_id=p3_1730726959_P3rE3Rp45Y70BLRw&previous_page_section_name=1000&federated_search_id=fbf9e845-8c1b-4b51-929d-4d81d781a41d\n",
      "Agregando URL: https://www.airbnb.es/rooms/665558110966084536?adults=1&children=0&enable_m3_private_room=true&infants=0&pets=0&search_mode=regular_search&check_in=2024-12-08&check_out=2024-12-13&source_impression_id=p3_1730726959_P3k6Qvm3zNLxA2_9&previous_page_section_name=1000&federated_search_id=fbf9e845-8c1b-4b51-929d-4d81d781a41d\n",
      "Total de links extraídos hasta ahora: 324\n",
      "Siguiente página...\n",
      "Número de links filtrados en la página: 18\n",
      "Agregando URL: https://www.airbnb.es/rooms/40554669?adults=1&children=0&enable_m3_private_room=true&infants=0&pets=0&search_mode=regular_search&check_in=2024-11-17&check_out=2024-11-22&source_impression_id=p3_1730726964_P3kVXjHuMLWP_NkK&previous_page_section_name=1000&federated_search_id=a5cc4a1e-6edd-499b-ae72-31242d943b20\n",
      "Agregando URL: https://www.airbnb.es/rooms/50427228?adults=1&children=0&enable_m3_private_room=true&infants=0&pets=0&search_mode=regular_search&check_in=2024-11-29&check_out=2024-12-04&source_impression_id=p3_1730726964_P3a7V65uXPhAU-zY&previous_page_section_name=1000&federated_search_id=a5cc4a1e-6edd-499b-ae72-31242d943b20\n",
      "Agregando URL: https://www.airbnb.es/rooms/1258532236251609781?adults=1&category_tag=Tag%3A8678&children=0&enable_m3_private_room=true&infants=0&pets=0&photo_id=2004517945&search_mode=regular_search&check_in=2024-11-25&check_out=2024-11-30&source_impression_id=p3_1730726964_P31RBB_0uc6rVBO_&previous_page_section_name=1000&federated_search_id=a5cc4a1e-6edd-499b-ae72-31242d943b20\n",
      "Agregando URL: https://www.airbnb.es/rooms/988917?adults=1&children=0&enable_m3_private_room=true&infants=0&pets=0&search_mode=regular_search&check_in=2025-01-05&check_out=2025-01-10&source_impression_id=p3_1730726964_P3uaiCTcLcPNpf32&previous_page_section_name=1000&federated_search_id=a5cc4a1e-6edd-499b-ae72-31242d943b20\n",
      "Agregando URL: https://www.airbnb.es/rooms/10447043?adults=1&children=0&enable_m3_private_room=true&infants=0&pets=0&search_mode=regular_search&check_in=2024-11-17&check_out=2024-11-22&source_impression_id=p3_1730726964_P3Lygp-ZXcmA9mBJ&previous_page_section_name=1000&federated_search_id=a5cc4a1e-6edd-499b-ae72-31242d943b20\n",
      "Agregando URL: https://www.airbnb.es/rooms/1268315562716583459?adults=1&category_tag=Tag%3A8678&children=0&enable_m3_private_room=true&infants=0&pets=0&photo_id=2012469117&search_mode=regular_search&check_in=2024-11-09&check_out=2024-11-14&source_impression_id=p3_1730726964_P3R3-62Vg1BIc8gI&previous_page_section_name=1000&federated_search_id=a5cc4a1e-6edd-499b-ae72-31242d943b20\n",
      "Agregando URL: https://www.airbnb.es/rooms/1207065162731542501?adults=1&children=0&enable_m3_private_room=true&infants=0&pets=0&search_mode=regular_search&check_in=2024-11-24&check_out=2024-11-29&source_impression_id=p3_1730726964_P3vvJHwkkQOjWFL2&previous_page_section_name=1000&federated_search_id=a5cc4a1e-6edd-499b-ae72-31242d943b20\n",
      "Agregando URL: https://www.airbnb.es/rooms/2669219?adults=1&children=0&enable_m3_private_room=true&infants=0&pets=0&search_mode=regular_search&check_in=2024-11-10&check_out=2024-11-15&source_impression_id=p3_1730726964_P3PkwTNs6-19neVI&previous_page_section_name=1000&federated_search_id=a5cc4a1e-6edd-499b-ae72-31242d943b20\n",
      "Agregando URL: https://www.airbnb.es/rooms/24343358?adults=1&children=0&enable_m3_private_room=true&infants=0&pets=0&search_mode=regular_search&check_in=2024-12-01&check_out=2024-12-06&source_impression_id=p3_1730726964_P3vUhq3u9uaD88nh&previous_page_section_name=1000&federated_search_id=a5cc4a1e-6edd-499b-ae72-31242d943b20\n",
      "Agregando URL: https://www.airbnb.es/rooms/22991302?adults=1&children=0&enable_m3_private_room=true&infants=0&pets=0&search_mode=regular_search&check_in=2024-12-01&check_out=2024-12-06&source_impression_id=p3_1730726964_P33pHl6SSa36g-fH&previous_page_section_name=1000&federated_search_id=a5cc4a1e-6edd-499b-ae72-31242d943b20\n",
      "Agregando URL: https://www.airbnb.es/rooms/42127782?adults=1&children=0&enable_m3_private_room=true&infants=0&pets=0&search_mode=regular_search&check_in=2024-11-24&check_out=2024-11-29&source_impression_id=p3_1730726964_P3BWNTN16jHqvMo1&previous_page_section_name=1000&federated_search_id=a5cc4a1e-6edd-499b-ae72-31242d943b20\n",
      "Agregando URL: https://www.airbnb.es/rooms/1213691178291414318?adults=1&category_tag=Tag%3A8678&children=0&enable_m3_private_room=true&infants=0&pets=0&photo_id=1985164892&search_mode=regular_search&check_in=2024-11-25&check_out=2024-11-30&source_impression_id=p3_1730726964_P3C4BqGqG2T0ADCl&previous_page_section_name=1000&federated_search_id=a5cc4a1e-6edd-499b-ae72-31242d943b20\n",
      "Agregando URL: https://www.airbnb.es/rooms/53411031?adults=1&children=0&enable_m3_private_room=true&infants=0&pets=0&search_mode=regular_search&check_in=2024-11-11&check_out=2024-11-16&source_impression_id=p3_1730726964_P30FbTc7Y5EMdK_T&previous_page_section_name=1000&federated_search_id=a5cc4a1e-6edd-499b-ae72-31242d943b20\n",
      "Agregando URL: https://www.airbnb.es/rooms/1115353239605825248?adults=1&children=0&enable_m3_private_room=true&infants=0&pets=0&search_mode=regular_search&check_in=2024-11-10&check_out=2024-11-15&source_impression_id=p3_1730726964_P3VZkW2lQwSyGUOJ&previous_page_section_name=1000&federated_search_id=a5cc4a1e-6edd-499b-ae72-31242d943b20\n",
      "Agregando URL: https://www.airbnb.es/rooms/1279040855576324107?adults=1&category_tag=Tag%3A8678&children=0&enable_m3_private_room=true&infants=0&pets=0&photo_id=2020968030&search_mode=regular_search&check_in=2024-11-05&check_out=2024-11-10&source_impression_id=p3_1730726964_P3ZGbrdlUe0G43y-&previous_page_section_name=1000&federated_search_id=a5cc4a1e-6edd-499b-ae72-31242d943b20\n",
      "Agregando URL: https://www.airbnb.es/rooms/53185029?adults=1&children=0&enable_m3_private_room=true&infants=0&pets=0&search_mode=regular_search&check_in=2024-12-01&check_out=2024-12-06&source_impression_id=p3_1730726964_P3TBbTYz1PUXCfA1&previous_page_section_name=1000&federated_search_id=a5cc4a1e-6edd-499b-ae72-31242d943b20\n",
      "Agregando URL: https://www.airbnb.es/rooms/1193500597485584032?adults=1&children=0&enable_m3_private_room=true&infants=0&pets=0&search_mode=regular_search&check_in=2024-11-04&check_out=2024-11-09&source_impression_id=p3_1730726964_P3DshJ0WF1-E9X-X&previous_page_section_name=1000&federated_search_id=a5cc4a1e-6edd-499b-ae72-31242d943b20\n",
      "Agregando URL: https://www.airbnb.es/rooms/696286140249559857?adults=1&children=0&enable_m3_private_room=true&infants=0&pets=0&search_mode=regular_search&check_in=2024-11-10&check_out=2024-11-15&source_impression_id=p3_1730726964_P3dk8R3ZCD76iLWb&previous_page_section_name=1000&federated_search_id=a5cc4a1e-6edd-499b-ae72-31242d943b20\n",
      "Total de links extraídos hasta ahora: 342\n",
      "Siguiente página...\n",
      "Número de links filtrados en la página: 18\n",
      "Agregando URL: https://www.airbnb.es/rooms/1183185927717485350?adults=1&children=0&enable_m3_private_room=true&infants=0&pets=0&search_mode=regular_search&check_in=2024-11-10&check_out=2024-11-15&source_impression_id=p3_1730726968_P3uakZIFgDzOp8-S&previous_page_section_name=1000&federated_search_id=6cdacc7d-6828-4da6-9a39-280b8f42c356\n",
      "Agregando URL: https://www.airbnb.es/rooms/22026733?adults=1&children=0&enable_m3_private_room=true&infants=0&pets=0&search_mode=regular_search&check_in=2024-11-10&check_out=2024-11-15&source_impression_id=p3_1730726968_P3NQE34jVfuwBAds&previous_page_section_name=1000&federated_search_id=6cdacc7d-6828-4da6-9a39-280b8f42c356\n",
      "Agregando URL: https://www.airbnb.es/rooms/1126613779447054663?adults=1&children=0&enable_m3_private_room=true&infants=0&pets=0&search_mode=regular_search&check_in=2024-11-09&check_out=2024-11-14&source_impression_id=p3_1730726968_P3Fz3B2-9kgGjgFl&previous_page_section_name=1000&federated_search_id=6cdacc7d-6828-4da6-9a39-280b8f42c356\n",
      "Agregando URL: https://www.airbnb.es/rooms/28554820?adults=1&children=0&enable_m3_private_room=true&infants=0&pets=0&search_mode=regular_search&check_in=2024-12-08&check_out=2024-12-13&source_impression_id=p3_1730726968_P3SHQkAjv2GdJDJF&previous_page_section_name=1000&federated_search_id=6cdacc7d-6828-4da6-9a39-280b8f42c356\n",
      "Agregando URL: https://www.airbnb.es/rooms/45576362?adults=1&category_tag=Tag%3A8678&children=0&enable_m3_private_room=true&infants=0&pets=0&photo_id=1436856880&search_mode=regular_search&check_in=2024-11-28&check_out=2024-12-03&source_impression_id=p3_1730726968_P33dc-70XNuCODp6&previous_page_section_name=1000&federated_search_id=6cdacc7d-6828-4da6-9a39-280b8f42c356\n",
      "Agregando URL: https://www.airbnb.es/rooms/1262390950809215892?adults=1&category_tag=Tag%3A8678&children=0&enable_m3_private_room=true&infants=0&pets=0&photo_id=2007669443&search_mode=regular_search&check_in=2024-12-01&check_out=2024-12-06&source_impression_id=p3_1730726968_P3waM9yHDkr8jeBz&previous_page_section_name=1000&federated_search_id=6cdacc7d-6828-4da6-9a39-280b8f42c356\n",
      "Agregando URL: https://www.airbnb.es/rooms/34191394?adults=1&children=0&enable_m3_private_room=true&infants=0&pets=0&search_mode=regular_search&check_in=2024-11-16&check_out=2024-11-21&source_impression_id=p3_1730726968_P3Ry7uWIdtXBOOrk&previous_page_section_name=1000&federated_search_id=6cdacc7d-6828-4da6-9a39-280b8f42c356\n",
      "Agregando URL: https://www.airbnb.es/rooms/1239353939252642805?adults=1&category_tag=Tag%3A8678&children=0&enable_m3_private_room=true&infants=0&pets=0&photo_id=1988427769&search_mode=regular_search&check_in=2024-11-10&check_out=2024-11-15&source_impression_id=p3_1730726968_P3X-KmnO5NQHxVBx&previous_page_section_name=1000&federated_search_id=6cdacc7d-6828-4da6-9a39-280b8f42c356\n",
      "Agregando URL: https://www.airbnb.es/rooms/43881409?adults=1&children=0&enable_m3_private_room=true&infants=0&pets=0&search_mode=regular_search&check_in=2024-11-10&check_out=2024-11-15&source_impression_id=p3_1730726968_P31GfkU59tB3mniR&previous_page_section_name=1000&federated_search_id=6cdacc7d-6828-4da6-9a39-280b8f42c356\n",
      "Agregando URL: https://www.airbnb.es/rooms/1025886891634709543?adults=1&category_tag=Tag%3A8678&children=0&enable_m3_private_room=true&infants=0&pets=0&photo_id=1861210605&search_mode=regular_search&check_in=2024-11-10&check_out=2024-11-15&source_impression_id=p3_1730726968_P3EXj01ik7NJm5Dd&previous_page_section_name=1000&federated_search_id=6cdacc7d-6828-4da6-9a39-280b8f42c356\n",
      "Agregando URL: https://www.airbnb.es/rooms/591189288332716179?adults=1&children=0&enable_m3_private_room=true&infants=0&pets=0&search_mode=regular_search&check_in=2024-11-11&check_out=2024-11-16&source_impression_id=p3_1730726968_P34iMDvuxcrVHpBd&previous_page_section_name=1000&federated_search_id=6cdacc7d-6828-4da6-9a39-280b8f42c356\n",
      "Agregando URL: https://www.airbnb.es/rooms/6152624?adults=1&children=0&enable_m3_private_room=true&infants=0&pets=0&search_mode=regular_search&check_in=2024-12-15&check_out=2024-12-20&source_impression_id=p3_1730726968_P38izFwMN988gjf_&previous_page_section_name=1000&federated_search_id=6cdacc7d-6828-4da6-9a39-280b8f42c356\n",
      "Agregando URL: https://www.airbnb.es/rooms/1192692130835760091?adults=1&children=0&enable_m3_private_room=true&infants=0&pets=0&search_mode=regular_search&check_in=2024-11-25&check_out=2024-11-30&source_impression_id=p3_1730726968_P3IKAd3mNfcSTT9y&previous_page_section_name=1000&federated_search_id=6cdacc7d-6828-4da6-9a39-280b8f42c356\n",
      "Agregando URL: https://www.airbnb.es/rooms/1291971?adults=1&children=0&enable_m3_private_room=true&infants=0&pets=0&search_mode=regular_search&check_in=2024-11-17&check_out=2024-11-22&source_impression_id=p3_1730726968_P347loGTWEw15FXu&previous_page_section_name=1000&federated_search_id=6cdacc7d-6828-4da6-9a39-280b8f42c356\n",
      "Agregando URL: https://www.airbnb.es/rooms/27013203?adults=1&children=0&enable_m3_private_room=true&infants=0&pets=0&search_mode=regular_search&check_in=2024-12-16&check_out=2024-12-21&source_impression_id=p3_1730726968_P3nzLfKmPa9jYzSo&previous_page_section_name=1000&federated_search_id=6cdacc7d-6828-4da6-9a39-280b8f42c356\n",
      "Agregando URL: https://www.airbnb.es/rooms/636655325451341783?adults=1&category_tag=Tag%3A8678&children=0&enable_m3_private_room=true&infants=0&pets=0&photo_id=1533484852&search_mode=regular_search&check_in=2024-11-10&check_out=2024-11-15&source_impression_id=p3_1730726968_P3D8WUS5BT7pRu0B&previous_page_section_name=1000&federated_search_id=6cdacc7d-6828-4da6-9a39-280b8f42c356\n",
      "Agregando URL: https://www.airbnb.es/rooms/1219561473030220539?adults=1&children=0&enable_m3_private_room=true&infants=0&pets=0&search_mode=regular_search&check_in=2024-11-10&check_out=2024-11-15&source_impression_id=p3_1730726968_P3dcMhThEBNajzXJ&previous_page_section_name=1000&federated_search_id=6cdacc7d-6828-4da6-9a39-280b8f42c356\n",
      "Agregando URL: https://www.airbnb.es/rooms/16405178?adults=1&children=0&enable_m3_private_room=true&infants=0&pets=0&search_mode=regular_search&check_in=2024-12-01&check_out=2024-12-06&source_impression_id=p3_1730726968_P3YWpzLzZPywVSN9&previous_page_section_name=1000&federated_search_id=6cdacc7d-6828-4da6-9a39-280b8f42c356\n",
      "Total de links extraídos hasta ahora: 360\n",
      "Siguiente página...\n",
      "Número de links filtrados en la página: 18\n",
      "Agregando URL: https://www.airbnb.es/rooms/28688045?adults=1&children=0&enable_m3_private_room=true&infants=0&pets=0&search_mode=regular_search&check_in=2024-11-17&check_out=2024-11-22&source_impression_id=p3_1730726973_P3V1-25e7HRLg1Vo&previous_page_section_name=1000&federated_search_id=0cc05cf4-cec7-4676-a2ad-b80e9448eb66\n",
      "Agregando URL: https://www.airbnb.es/rooms/1529855?adults=1&children=0&enable_m3_private_room=true&infants=0&pets=0&search_mode=regular_search&check_in=2024-12-01&check_out=2024-12-06&source_impression_id=p3_1730726973_P3MIQ0zjoMsqldz6&previous_page_section_name=1000&federated_search_id=0cc05cf4-cec7-4676-a2ad-b80e9448eb66\n",
      "Agregando URL: https://www.airbnb.es/rooms/588996?adults=1&children=0&enable_m3_private_room=true&infants=0&pets=0&search_mode=regular_search&check_in=2024-11-30&check_out=2024-12-05&source_impression_id=p3_1730726973_P3IMp6I9S4VvB69Z&previous_page_section_name=1000&federated_search_id=0cc05cf4-cec7-4676-a2ad-b80e9448eb66\n",
      "Agregando URL: https://www.airbnb.es/rooms/1239053049458811288?adults=1&category_tag=Tag%3A8678&children=0&enable_m3_private_room=true&infants=0&pets=0&photo_id=1988110422&search_mode=regular_search&check_in=2024-11-25&check_out=2024-11-30&source_impression_id=p3_1730726973_P3E9kjRmAcp8xxUz&previous_page_section_name=1000&federated_search_id=0cc05cf4-cec7-4676-a2ad-b80e9448eb66\n",
      "Agregando URL: https://www.airbnb.es/rooms/44994769?adults=1&children=0&enable_m3_private_room=true&infants=0&pets=0&search_mode=regular_search&check_in=2024-12-01&check_out=2024-12-06&source_impression_id=p3_1730726973_P3vQdQiQt9mVjAt3&previous_page_section_name=1000&federated_search_id=0cc05cf4-cec7-4676-a2ad-b80e9448eb66\n",
      "Agregando URL: https://www.airbnb.es/rooms/557929113555451434?adults=1&category_tag=Tag%3A8678&children=0&enable_m3_private_room=true&infants=0&pets=0&photo_id=1619646153&search_mode=regular_search&check_in=2024-12-02&check_out=2024-12-07&source_impression_id=p3_1730726973_P3Gqu5g1L3IQ5HF1&previous_page_section_name=1000&federated_search_id=0cc05cf4-cec7-4676-a2ad-b80e9448eb66\n",
      "Agregando URL: https://www.airbnb.es/rooms/862122500288513146?adults=1&children=0&enable_m3_private_room=true&infants=0&pets=0&search_mode=regular_search&check_in=2024-11-24&check_out=2024-11-29&source_impression_id=p3_1730726973_P3RlteDN6X34NSuI&previous_page_section_name=1000&federated_search_id=0cc05cf4-cec7-4676-a2ad-b80e9448eb66\n",
      "Agregando URL: https://www.airbnb.es/rooms/1277512686840174474?adults=1&category_tag=Tag%3A8678&children=0&enable_m3_private_room=true&infants=0&pets=0&photo_id=2019599957&search_mode=regular_search&check_in=2024-11-04&check_out=2024-11-09&source_impression_id=p3_1730726973_P3NV_DEM6oIkBTxM&previous_page_section_name=1000&federated_search_id=0cc05cf4-cec7-4676-a2ad-b80e9448eb66\n",
      "Agregando URL: https://www.airbnb.es/rooms/943928658717986567?adults=1&children=0&enable_m3_private_room=true&infants=0&pets=0&search_mode=regular_search&check_in=2024-11-17&check_out=2024-11-22&source_impression_id=p3_1730726973_P3whr2JVKUjQvjeQ&previous_page_section_name=1000&federated_search_id=0cc05cf4-cec7-4676-a2ad-b80e9448eb66\n",
      "Agregando URL: https://www.airbnb.es/rooms/775644?adults=1&children=0&enable_m3_private_room=true&infants=0&pets=0&search_mode=regular_search&check_in=2024-11-24&check_out=2024-11-29&source_impression_id=p3_1730726973_P3IKkf2MkueSwebR&previous_page_section_name=1000&federated_search_id=0cc05cf4-cec7-4676-a2ad-b80e9448eb66\n",
      "Agregando URL: https://www.airbnb.es/rooms/43235590?adults=1&children=0&enable_m3_private_room=true&infants=0&pets=0&search_mode=regular_search&check_in=2024-11-10&check_out=2024-11-15&source_impression_id=p3_1730726973_P3LoMAMWm_0rgvi6&previous_page_section_name=1000&federated_search_id=0cc05cf4-cec7-4676-a2ad-b80e9448eb66\n",
      "Agregando URL: https://www.airbnb.es/rooms/661678370861367884?adults=1&category_tag=Tag%3A8678&children=0&enable_m3_private_room=true&infants=0&pets=0&photo_id=1463131046&search_mode=regular_search&check_in=2024-11-18&check_out=2024-11-23&source_impression_id=p3_1730726973_P3955_6elLEbUVpP&previous_page_section_name=1000&federated_search_id=0cc05cf4-cec7-4676-a2ad-b80e9448eb66\n",
      "Agregando URL: https://www.airbnb.es/rooms/906559?adults=1&children=0&enable_m3_private_room=true&infants=0&pets=0&search_mode=regular_search&check_in=2024-12-01&check_out=2024-12-06&source_impression_id=p3_1730726973_P38n601U7p3EL_lj&previous_page_section_name=1000&federated_search_id=0cc05cf4-cec7-4676-a2ad-b80e9448eb66\n",
      "Agregando URL: https://www.airbnb.es/rooms/33385782?adults=1&children=0&enable_m3_private_room=true&infants=0&pets=0&search_mode=regular_search&check_in=2024-11-30&check_out=2024-12-05&source_impression_id=p3_1730726973_P3D-ZtGrm_Iovn4C&previous_page_section_name=1000&federated_search_id=0cc05cf4-cec7-4676-a2ad-b80e9448eb66\n",
      "Agregando URL: https://www.airbnb.es/rooms/543342?adults=1&children=0&enable_m3_private_room=true&infants=0&pets=0&search_mode=regular_search&check_in=2024-12-16&check_out=2024-12-21&source_impression_id=p3_1730726973_P3qHQt4xOgddDilf&previous_page_section_name=1000&federated_search_id=0cc05cf4-cec7-4676-a2ad-b80e9448eb66\n",
      "Agregando URL: https://www.airbnb.es/rooms/32561248?adults=1&children=0&enable_m3_private_room=true&infants=0&pets=0&search_mode=regular_search&check_in=2024-11-27&check_out=2024-12-02&source_impression_id=p3_1730726973_P35vNh5oSTXPhKGG&previous_page_section_name=1000&federated_search_id=0cc05cf4-cec7-4676-a2ad-b80e9448eb66\n",
      "Agregando URL: https://www.airbnb.es/rooms/2469678?adults=1&children=0&enable_m3_private_room=true&infants=0&pets=0&search_mode=regular_search&check_in=2025-08-18&check_out=2025-08-23&source_impression_id=p3_1730726973_P3w9ana1B3PuchM9&previous_page_section_name=1000&federated_search_id=0cc05cf4-cec7-4676-a2ad-b80e9448eb66\n",
      "Agregando URL: https://www.airbnb.es/rooms/1257769885054208712?adults=1&children=0&enable_m3_private_room=true&infants=0&pets=0&search_mode=regular_search&check_in=2024-11-10&check_out=2024-11-15&source_impression_id=p3_1730726973_P3HZB_IQ07RUFEnN&previous_page_section_name=1000&federated_search_id=0cc05cf4-cec7-4676-a2ad-b80e9448eb66\n",
      "Total de links extraídos hasta ahora: 378\n",
      "Siguiente página...\n",
      "Número de links filtrados en la página: 18\n",
      "Agregando URL: https://www.airbnb.es/rooms/44159663?adults=1&children=0&enable_m3_private_room=true&infants=0&pets=0&search_mode=regular_search&check_in=2024-11-11&check_out=2024-11-16&source_impression_id=p3_1730726977_P3y--CLyY49PDViT&previous_page_section_name=1000&federated_search_id=fb97a412-957e-4496-bf85-455739ddf5bf\n",
      "Agregando URL: https://www.airbnb.es/rooms/1188964443225198128?adults=1&category_tag=Tag%3A8678&children=0&enable_m3_private_room=true&infants=0&pets=0&photo_id=1940767936&search_mode=regular_search&check_in=2024-11-06&check_out=2024-11-11&source_impression_id=p3_1730726977_P3Ioysgk3N08Qr93&previous_page_section_name=1000&federated_search_id=fb97a412-957e-4496-bf85-455739ddf5bf\n",
      "Agregando URL: https://www.airbnb.es/rooms/41003481?adults=1&category_tag=Tag%3A8678&children=0&enable_m3_private_room=true&infants=0&pets=0&photo_id=1560753967&search_mode=regular_search&check_in=2024-11-19&check_out=2024-11-24&source_impression_id=p3_1730726977_P3Zc4MdjT8KeWZ0-&previous_page_section_name=1000&federated_search_id=fb97a412-957e-4496-bf85-455739ddf5bf\n",
      "Agregando URL: https://www.airbnb.es/rooms/53056356?adults=1&children=0&enable_m3_private_room=true&infants=0&pets=0&search_mode=regular_search&check_in=2024-12-08&check_out=2024-12-13&source_impression_id=p3_1730726977_P3_0He1oPViR3fH7&previous_page_section_name=1000&federated_search_id=fb97a412-957e-4496-bf85-455739ddf5bf\n",
      "Agregando URL: https://www.airbnb.es/rooms/46459243?adults=1&children=0&enable_m3_private_room=true&infants=0&pets=0&search_mode=regular_search&check_in=2024-11-30&check_out=2024-12-05&source_impression_id=p3_1730726977_P3ZczkOwuQeq2fci&previous_page_section_name=1000&federated_search_id=fb97a412-957e-4496-bf85-455739ddf5bf\n",
      "Agregando URL: https://www.airbnb.es/rooms/2755738?adults=1&children=0&enable_m3_private_room=true&infants=0&pets=0&search_mode=regular_search&check_in=2024-11-10&check_out=2024-11-15&source_impression_id=p3_1730726977_P3n7gp4_wwpe6JTV&previous_page_section_name=1000&federated_search_id=fb97a412-957e-4496-bf85-455739ddf5bf\n",
      "Agregando URL: https://www.airbnb.es/rooms/1233937517542337245?adults=1&category_tag=Tag%3A8678&children=0&enable_m3_private_room=true&infants=0&pets=0&photo_id=1983992736&search_mode=regular_search&check_in=2024-12-13&check_out=2024-12-18&source_impression_id=p3_1730726977_P3cIqrJ-U7oU6lJa&previous_page_section_name=1000&federated_search_id=fb97a412-957e-4496-bf85-455739ddf5bf\n",
      "Agregando URL: https://www.airbnb.es/rooms/1214293444156235308?adults=1&children=0&enable_m3_private_room=true&infants=0&pets=0&search_mode=regular_search&check_in=2024-11-07&check_out=2024-11-12&source_impression_id=p3_1730726977_P3RRWgZhqyaSfrzV&previous_page_section_name=1000&federated_search_id=fb97a412-957e-4496-bf85-455739ddf5bf\n",
      "Agregando URL: https://www.airbnb.es/rooms/1176611230178132461?adults=1&children=0&enable_m3_private_room=true&infants=0&pets=0&search_mode=regular_search&check_in=2024-11-10&check_out=2024-11-15&source_impression_id=p3_1730726977_P3H226Z5WwtNPuUM&previous_page_section_name=1000&federated_search_id=fb97a412-957e-4496-bf85-455739ddf5bf\n",
      "Agregando URL: https://www.airbnb.es/rooms/51319559?adults=1&children=0&enable_m3_private_room=true&infants=0&pets=0&search_mode=regular_search&check_in=2024-11-24&check_out=2024-11-29&source_impression_id=p3_1730726977_P3dPqqv5Sg7XGQSP&previous_page_section_name=1000&federated_search_id=fb97a412-957e-4496-bf85-455739ddf5bf\n",
      "Agregando URL: https://www.airbnb.es/rooms/2167544?adults=1&children=0&enable_m3_private_room=true&infants=0&pets=0&search_mode=regular_search&check_in=2024-11-22&check_out=2024-11-27&source_impression_id=p3_1730726977_P3r6pEE7ZLq1BxKb&previous_page_section_name=1000&federated_search_id=fb97a412-957e-4496-bf85-455739ddf5bf\n",
      "Agregando URL: https://www.airbnb.es/rooms/1123669483735273588?adults=1&children=0&enable_m3_private_room=true&infants=0&pets=0&search_mode=regular_search&check_in=2024-12-01&check_out=2024-12-06&source_impression_id=p3_1730726977_P3bVvNx_KLbVobib&previous_page_section_name=1000&federated_search_id=fb97a412-957e-4496-bf85-455739ddf5bf\n",
      "Agregando URL: https://www.airbnb.es/rooms/1165432?adults=1&children=0&enable_m3_private_room=true&infants=0&pets=0&search_mode=regular_search&check_in=2024-11-17&check_out=2024-11-22&source_impression_id=p3_1730726977_P3ESX9QPselZQDm6&previous_page_section_name=1000&federated_search_id=fb97a412-957e-4496-bf85-455739ddf5bf\n",
      "Agregando URL: https://www.airbnb.es/rooms/1265660833018089515?adults=1&children=0&enable_m3_private_room=true&infants=0&pets=0&search_mode=regular_search&check_in=2024-11-06&check_out=2024-11-11&source_impression_id=p3_1730726977_P3UCVx6c-Kl4hZWw&previous_page_section_name=1000&federated_search_id=fb97a412-957e-4496-bf85-455739ddf5bf\n",
      "Agregando URL: https://www.airbnb.es/rooms/1019340307296601080?adults=1&children=0&enable_m3_private_room=true&infants=0&pets=0&search_mode=regular_search&check_in=2024-11-10&check_out=2024-11-15&source_impression_id=p3_1730726977_P3oGu2I3v7-WB20r&previous_page_section_name=1000&federated_search_id=fb97a412-957e-4496-bf85-455739ddf5bf\n",
      "Agregando URL: https://www.airbnb.es/rooms/44995311?adults=1&children=0&enable_m3_private_room=true&infants=0&pets=0&search_mode=regular_search&check_in=2024-12-14&check_out=2024-12-19&source_impression_id=p3_1730726977_P3qIgyWnM7gdE89O&previous_page_section_name=1000&federated_search_id=fb97a412-957e-4496-bf85-455739ddf5bf\n",
      "Agregando URL: https://www.airbnb.es/rooms/1242062806305975230?adults=1&children=0&enable_m3_private_room=true&infants=0&pets=0&search_mode=regular_search&check_in=2024-11-25&check_out=2024-11-30&source_impression_id=p3_1730726977_P3pq5Pr_A985jML3&previous_page_section_name=1000&federated_search_id=fb97a412-957e-4496-bf85-455739ddf5bf\n",
      "Agregando URL: https://www.airbnb.es/rooms/53824743?adults=1&children=0&enable_m3_private_room=true&infants=0&pets=0&search_mode=regular_search&check_in=2024-11-23&check_out=2024-11-28&source_impression_id=p3_1730726977_P3Rlp98DJzNTrbSn&previous_page_section_name=1000&federated_search_id=fb97a412-957e-4496-bf85-455739ddf5bf\n",
      "Total de links extraídos hasta ahora: 396\n",
      "Siguiente página...\n",
      "Número de links filtrados en la página: 18\n",
      "Agregando URL: https://www.airbnb.es/rooms/757149?adults=1&children=0&enable_m3_private_room=true&infants=0&pets=0&search_mode=regular_search&check_in=2025-02-08&check_out=2025-02-13&source_impression_id=p3_1730726982_P37bFpvgTf0OCds_&previous_page_section_name=1000&federated_search_id=9c1b88d7-aadf-4513-a51c-69285d4f5e8a\n",
      "Agregando URL: https://www.airbnb.es/rooms/5143895?adults=1&children=0&enable_m3_private_room=true&infants=0&pets=0&search_mode=regular_search&check_in=2025-07-10&check_out=2025-07-15&source_impression_id=p3_1730726982_P3V_5154J4Ml6jrT&previous_page_section_name=1000&federated_search_id=9c1b88d7-aadf-4513-a51c-69285d4f5e8a\n",
      "Agregando URL: https://www.airbnb.es/rooms/34279029?adults=1&children=0&enable_m3_private_room=true&infants=0&pets=0&search_mode=regular_search&check_in=2024-11-17&check_out=2024-11-22&source_impression_id=p3_1730726982_P3FfVVdhRD1mUmfa&previous_page_section_name=1000&federated_search_id=9c1b88d7-aadf-4513-a51c-69285d4f5e8a\n",
      "Agregando URL: https://www.airbnb.es/rooms/934979?adults=1&children=0&enable_m3_private_room=true&infants=0&pets=0&search_mode=regular_search&check_in=2024-12-02&check_out=2024-12-07&source_impression_id=p3_1730726982_P3HVLBn2BQrYUPJK&previous_page_section_name=1000&federated_search_id=9c1b88d7-aadf-4513-a51c-69285d4f5e8a\n",
      "Agregando URL: https://www.airbnb.es/rooms/1182544876601100068?adults=1&category_tag=Tag%3A8678&children=0&enable_m3_private_room=true&infants=0&pets=0&photo_id=1933999963&search_mode=regular_search&check_in=2024-12-08&check_out=2024-12-13&source_impression_id=p3_1730726982_P3vbkOOW5OOA2uNw&previous_page_section_name=1000&federated_search_id=9c1b88d7-aadf-4513-a51c-69285d4f5e8a\n",
      "Agregando URL: https://www.airbnb.es/rooms/1197637831227097242?adults=1&children=0&enable_m3_private_room=true&infants=0&pets=0&search_mode=regular_search&check_in=2025-01-04&check_out=2025-01-09&source_impression_id=p3_1730726982_P3yXO8sfMzhZgTDA&previous_page_section_name=1000&federated_search_id=9c1b88d7-aadf-4513-a51c-69285d4f5e8a\n",
      "Agregando URL: https://www.airbnb.es/rooms/7953354?adults=1&children=0&enable_m3_private_room=true&infants=0&pets=0&search_mode=regular_search&check_in=2024-12-08&check_out=2024-12-13&source_impression_id=p3_1730726982_P3VTIjOvMLev3LLh&previous_page_section_name=1000&federated_search_id=9c1b88d7-aadf-4513-a51c-69285d4f5e8a\n",
      "Agregando URL: https://www.airbnb.es/rooms/977631?adults=1&children=0&enable_m3_private_room=true&infants=0&pets=0&search_mode=regular_search&check_in=2024-11-18&check_out=2024-11-23&source_impression_id=p3_1730726982_P3aGvM54Ily_wdtG&previous_page_section_name=1000&federated_search_id=9c1b88d7-aadf-4513-a51c-69285d4f5e8a\n",
      "Agregando URL: https://www.airbnb.es/rooms/717119569864803923?adults=1&children=0&enable_m3_private_room=true&infants=0&pets=0&search_mode=regular_search&check_in=2024-11-24&check_out=2024-11-29&source_impression_id=p3_1730726982_P3137ddvfu71SZ_B&previous_page_section_name=1000&federated_search_id=9c1b88d7-aadf-4513-a51c-69285d4f5e8a\n",
      "Agregando URL: https://www.airbnb.es/rooms/1102498?adults=1&children=0&enable_m3_private_room=true&infants=0&pets=0&search_mode=regular_search&check_in=2024-11-13&check_out=2024-11-18&source_impression_id=p3_1730726982_P3sfJCeoPL_6W3zq&previous_page_section_name=1000&federated_search_id=9c1b88d7-aadf-4513-a51c-69285d4f5e8a\n",
      "Agregando URL: https://www.airbnb.es/rooms/8811813?adults=1&children=0&enable_m3_private_room=true&infants=0&pets=0&search_mode=regular_search&check_in=2024-11-10&check_out=2024-11-15&source_impression_id=p3_1730726982_P3fZbsNs77Lbhx9n&previous_page_section_name=1000&federated_search_id=9c1b88d7-aadf-4513-a51c-69285d4f5e8a\n",
      "Agregando URL: https://www.airbnb.es/rooms/3763933?adults=1&children=0&enable_m3_private_room=true&infants=0&pets=0&search_mode=regular_search&check_in=2024-11-17&check_out=2024-11-22&source_impression_id=p3_1730726982_P3QKYiEy7fdRP4oa&previous_page_section_name=1000&federated_search_id=9c1b88d7-aadf-4513-a51c-69285d4f5e8a\n",
      "Agregando URL: https://www.airbnb.es/rooms/937331?adults=1&children=0&enable_m3_private_room=true&infants=0&pets=0&search_mode=regular_search&check_in=2024-12-01&check_out=2024-12-06&source_impression_id=p3_1730726982_P3MjCXpoW9o1s6AA&previous_page_section_name=1000&federated_search_id=9c1b88d7-aadf-4513-a51c-69285d4f5e8a\n",
      "Agregando URL: https://www.airbnb.es/rooms/37699365?adults=1&children=0&enable_m3_private_room=true&infants=0&pets=0&search_mode=regular_search&check_in=2024-12-08&check_out=2024-12-13&source_impression_id=p3_1730726982_P35o8CeERLKQJx8e&previous_page_section_name=1000&federated_search_id=9c1b88d7-aadf-4513-a51c-69285d4f5e8a\n",
      "Agregando URL: https://www.airbnb.es/rooms/31758760?adults=1&children=0&enable_m3_private_room=true&infants=0&pets=0&search_mode=regular_search&check_in=2024-11-30&check_out=2024-12-05&source_impression_id=p3_1730726982_P3gGrpW-kfSxTUPO&previous_page_section_name=1000&federated_search_id=9c1b88d7-aadf-4513-a51c-69285d4f5e8a\n",
      "Agregando URL: https://www.airbnb.es/rooms/1167355356931891572?adults=1&children=0&enable_m3_private_room=true&infants=0&pets=0&search_mode=regular_search&check_in=2024-11-10&check_out=2024-11-15&source_impression_id=p3_1730726982_P3HIiAmXT481d92o&previous_page_section_name=1000&federated_search_id=9c1b88d7-aadf-4513-a51c-69285d4f5e8a\n",
      "Agregando URL: https://www.airbnb.es/rooms/26940439?adults=1&children=0&enable_m3_private_room=true&infants=0&pets=0&search_mode=regular_search&check_in=2024-11-17&check_out=2024-11-22&source_impression_id=p3_1730726982_P3lX7E0JcUCmW0di&previous_page_section_name=1000&federated_search_id=9c1b88d7-aadf-4513-a51c-69285d4f5e8a\n",
      "Agregando URL: https://www.airbnb.es/rooms/1253564572663779439?adults=1&children=0&enable_m3_private_room=true&infants=0&pets=0&search_mode=regular_search&check_in=2024-12-01&check_out=2024-12-06&source_impression_id=p3_1730726982_P3suYhG6Mge7VsUZ&previous_page_section_name=1000&federated_search_id=9c1b88d7-aadf-4513-a51c-69285d4f5e8a\n",
      "Total de links extraídos hasta ahora: 414\n",
      "Siguiente página...\n",
      "Número de links filtrados en la página: 18\n",
      "Agregando URL: https://www.airbnb.es/rooms/2512546?adults=1&children=0&enable_m3_private_room=true&infants=0&pets=0&search_mode=regular_search&check_in=2024-11-28&check_out=2024-12-03&source_impression_id=p3_1730726987_P3tAFMkXaqsLzhSH&previous_page_section_name=1000&federated_search_id=df5dd2ef-7292-4ecb-9973-61a39a4253e4\n",
      "Agregando URL: https://www.airbnb.es/rooms/23645698?adults=1&children=0&enable_m3_private_room=true&infants=0&pets=0&search_mode=regular_search&check_in=2024-12-01&check_out=2024-12-06&source_impression_id=p3_1730726987_P3qXRCHQqKfXXjeA&previous_page_section_name=1000&federated_search_id=df5dd2ef-7292-4ecb-9973-61a39a4253e4\n",
      "Agregando URL: https://www.airbnb.es/rooms/750696265122288224?adults=1&children=0&enable_m3_private_room=true&infants=0&pets=0&search_mode=regular_search&check_in=2024-12-01&check_out=2024-12-06&source_impression_id=p3_1730726987_P37jWHLO3UmT_MPT&previous_page_section_name=1000&federated_search_id=df5dd2ef-7292-4ecb-9973-61a39a4253e4\n",
      "Agregando URL: https://www.airbnb.es/rooms/923035877480906247?adults=1&category_tag=Tag%3A8678&children=0&enable_m3_private_room=true&infants=0&pets=0&photo_id=1937740086&search_mode=regular_search&check_in=2024-11-11&check_out=2024-11-16&source_impression_id=p3_1730726987_P3L6uQ4kaz9YWqAn&previous_page_section_name=1000&federated_search_id=df5dd2ef-7292-4ecb-9973-61a39a4253e4\n",
      "Agregando URL: https://www.airbnb.es/rooms/1098642619191860965?adults=1&children=0&enable_m3_private_room=true&infants=0&pets=0&search_mode=regular_search&check_in=2024-11-17&check_out=2024-11-22&source_impression_id=p3_1730726987_P3Bv9cVHTjonTwEY&previous_page_section_name=1000&federated_search_id=df5dd2ef-7292-4ecb-9973-61a39a4253e4\n",
      "Agregando URL: https://www.airbnb.es/rooms/637661402684941139?adults=1&children=0&enable_m3_private_room=true&infants=0&pets=0&search_mode=regular_search&check_in=2024-11-06&check_out=2024-11-11&source_impression_id=p3_1730726987_P3gRB9nNBxD-cdrY&previous_page_section_name=1000&federated_search_id=df5dd2ef-7292-4ecb-9973-61a39a4253e4\n",
      "Agregando URL: https://www.airbnb.es/rooms/48715762?adults=1&children=0&enable_m3_private_room=true&infants=0&pets=0&search_mode=regular_search&check_in=2024-11-17&check_out=2024-11-22&source_impression_id=p3_1730726987_P3FLl9klj-LLZ9Br&previous_page_section_name=1000&federated_search_id=df5dd2ef-7292-4ecb-9973-61a39a4253e4\n",
      "Agregando URL: https://www.airbnb.es/rooms/1530586?adults=1&children=0&enable_m3_private_room=true&infants=0&pets=0&search_mode=regular_search&check_in=2025-09-07&check_out=2025-09-12&source_impression_id=p3_1730726987_P3TdGLJAqeRIlcjJ&previous_page_section_name=1000&federated_search_id=df5dd2ef-7292-4ecb-9973-61a39a4253e4\n",
      "Agregando URL: https://www.airbnb.es/rooms/1277705142024688819?adults=1&category_tag=Tag%3A8678&children=0&enable_m3_private_room=true&infants=0&pets=0&photo_id=2019829020&search_mode=regular_search&check_in=2024-11-05&check_out=2024-11-10&source_impression_id=p3_1730726987_P3IXkUV1TSdajD5G&previous_page_section_name=1000&federated_search_id=df5dd2ef-7292-4ecb-9973-61a39a4253e4\n",
      "Agregando URL: https://www.airbnb.es/rooms/921610069244187126?adults=1&category_tag=Tag%3A8678&children=0&enable_m3_private_room=true&infants=0&pets=0&photo_id=2003361046&search_mode=regular_search&check_in=2024-11-11&check_out=2024-11-16&source_impression_id=p3_1730726987_P3zTbSRYTSFHScuq&previous_page_section_name=1000&federated_search_id=df5dd2ef-7292-4ecb-9973-61a39a4253e4\n",
      "Agregando URL: https://www.airbnb.es/rooms/16279645?adults=1&children=0&enable_m3_private_room=true&infants=0&pets=0&search_mode=regular_search&check_in=2024-12-10&check_out=2024-12-15&source_impression_id=p3_1730726987_P3xjpYpY30mNpU49&previous_page_section_name=1000&federated_search_id=df5dd2ef-7292-4ecb-9973-61a39a4253e4\n",
      "Agregando URL: https://www.airbnb.es/rooms/803477361689343237?adults=1&children=0&enable_m3_private_room=true&infants=0&pets=0&search_mode=regular_search&check_in=2024-12-10&check_out=2024-12-15&source_impression_id=p3_1730726987_P3dzfRVdusGi-8VR&previous_page_section_name=1000&federated_search_id=df5dd2ef-7292-4ecb-9973-61a39a4253e4\n",
      "Agregando URL: https://www.airbnb.es/rooms/1235805?adults=1&children=0&enable_m3_private_room=true&infants=0&pets=0&search_mode=regular_search&check_in=2024-11-10&check_out=2024-11-15&source_impression_id=p3_1730726987_P3TbcJy1Asn3X04U&previous_page_section_name=1000&federated_search_id=df5dd2ef-7292-4ecb-9973-61a39a4253e4\n",
      "Agregando URL: https://www.airbnb.es/rooms/34162520?adults=1&children=0&enable_m3_private_room=true&infants=0&pets=0&search_mode=regular_search&check_in=2024-11-09&check_out=2024-11-14&source_impression_id=p3_1730726986_P33X9iA5D6jupVzt&previous_page_section_name=1000&federated_search_id=df5dd2ef-7292-4ecb-9973-61a39a4253e4\n",
      "Agregando URL: https://www.airbnb.es/rooms/47947628?adults=1&children=0&enable_m3_private_room=true&infants=0&pets=0&search_mode=regular_search&check_in=2024-12-10&check_out=2024-12-15&source_impression_id=p3_1730726987_P3dqtf9JDmEHgCpE&previous_page_section_name=1000&federated_search_id=df5dd2ef-7292-4ecb-9973-61a39a4253e4\n",
      "Agregando URL: https://www.airbnb.es/rooms/39753264?adults=1&children=0&enable_m3_private_room=true&infants=0&pets=0&search_mode=regular_search&check_in=2024-11-10&check_out=2024-11-15&source_impression_id=p3_1730726987_P3aahFy3ICet_z_K&previous_page_section_name=1000&federated_search_id=df5dd2ef-7292-4ecb-9973-61a39a4253e4\n",
      "Agregando URL: https://www.airbnb.es/rooms/585762?adults=1&children=0&enable_m3_private_room=true&infants=0&pets=0&search_mode=regular_search&check_in=2024-11-17&check_out=2024-11-22&source_impression_id=p3_1730726987_P3Du6yN_rYYv5axF&previous_page_section_name=1000&federated_search_id=df5dd2ef-7292-4ecb-9973-61a39a4253e4\n",
      "Agregando URL: https://www.airbnb.es/rooms/43182950?adults=1&children=0&enable_m3_private_room=true&infants=0&pets=0&search_mode=regular_search&check_in=2024-12-01&check_out=2024-12-06&source_impression_id=p3_1730726987_P3OxYfjlsW_gS-YO&previous_page_section_name=1000&federated_search_id=df5dd2ef-7292-4ecb-9973-61a39a4253e4\n",
      "Total de links extraídos hasta ahora: 432\n",
      "Siguiente página...\n",
      "Número de links filtrados en la página: 18\n",
      "Agregando URL: https://www.airbnb.es/rooms/1247592899083296771?adults=1&children=0&enable_m3_private_room=true&infants=0&pets=0&search_mode=regular_search&check_in=2024-11-11&check_out=2024-11-16&source_impression_id=p3_1730726991_P3SXdcHDkI9M5NWl&previous_page_section_name=1000&federated_search_id=94685de6-4083-4b94-add6-84d77814be7d\n",
      "Agregando URL: https://www.airbnb.es/rooms/44237066?adults=1&category_tag=Tag%3A8678&children=0&enable_m3_private_room=true&infants=0&pets=0&photo_id=1477874465&search_mode=regular_search&check_in=2024-11-04&check_out=2024-11-09&source_impression_id=p3_1730726991_P3vOaeHvgwQ5E_cZ&previous_page_section_name=1000&federated_search_id=94685de6-4083-4b94-add6-84d77814be7d\n",
      "Agregando URL: https://www.airbnb.es/rooms/12256600?adults=1&children=0&enable_m3_private_room=true&infants=0&pets=0&search_mode=regular_search&check_in=2024-12-08&check_out=2024-12-13&source_impression_id=p3_1730726991_P3QD9XvUr_BUIiAU&previous_page_section_name=1000&federated_search_id=94685de6-4083-4b94-add6-84d77814be7d\n",
      "Agregando URL: https://www.airbnb.es/rooms/9897617?adults=1&children=0&enable_m3_private_room=true&infants=0&pets=0&search_mode=regular_search&check_in=2025-01-08&check_out=2025-01-13&source_impression_id=p3_1730726991_P3pZca1eFCzZgd7h&previous_page_section_name=1000&federated_search_id=94685de6-4083-4b94-add6-84d77814be7d\n",
      "Agregando URL: https://www.airbnb.es/rooms/1170109696564078969?adults=1&category_tag=Tag%3A8678&children=0&enable_m3_private_room=true&infants=0&pets=0&photo_id=1921572494&search_mode=regular_search&check_in=2024-12-06&check_out=2024-12-11&source_impression_id=p3_1730726991_P3KTQnCOxhVm_T3I&previous_page_section_name=1000&federated_search_id=94685de6-4083-4b94-add6-84d77814be7d\n",
      "Agregando URL: https://www.airbnb.es/rooms/40983?adults=1&children=0&enable_m3_private_room=true&infants=0&pets=0&search_mode=regular_search&check_in=2025-01-09&check_out=2025-01-14&source_impression_id=p3_1730726991_P39EE9Tja7qnb5LW&previous_page_section_name=1000&federated_search_id=94685de6-4083-4b94-add6-84d77814be7d\n",
      "Agregando URL: https://www.airbnb.es/rooms/30587399?adults=1&children=0&enable_m3_private_room=true&infants=0&pets=0&search_mode=regular_search&check_in=2024-11-30&check_out=2024-12-05&source_impression_id=p3_1730726991_P3oV3cy6ym3_uoN0&previous_page_section_name=1000&federated_search_id=94685de6-4083-4b94-add6-84d77814be7d\n",
      "Agregando URL: https://www.airbnb.es/rooms/50972615?adults=1&children=0&enable_m3_private_room=true&infants=0&pets=0&search_mode=regular_search&check_in=2024-12-01&check_out=2024-12-06&source_impression_id=p3_1730726991_P3ytACNRFImrib_6&previous_page_section_name=1000&federated_search_id=94685de6-4083-4b94-add6-84d77814be7d\n",
      "Agregando URL: https://www.airbnb.es/rooms/686688413812870347?adults=1&children=0&enable_m3_private_room=true&infants=0&pets=0&search_mode=regular_search&check_in=2024-12-01&check_out=2024-12-06&source_impression_id=p3_1730726991_P3iMUQo9SeKkFe-X&previous_page_section_name=1000&federated_search_id=94685de6-4083-4b94-add6-84d77814be7d\n",
      "Agregando URL: https://www.airbnb.es/rooms/1277528490911798669?adults=1&children=0&enable_m3_private_room=true&infants=0&pets=0&search_mode=regular_search&check_in=2024-11-10&check_out=2024-11-15&source_impression_id=p3_1730726991_P39JVEk-02MIgHm8&previous_page_section_name=1000&federated_search_id=94685de6-4083-4b94-add6-84d77814be7d\n",
      "Agregando URL: https://www.airbnb.es/rooms/50201349?adults=1&children=0&enable_m3_private_room=true&infants=0&pets=0&search_mode=regular_search&check_in=2024-11-18&check_out=2024-11-23&source_impression_id=p3_1730726991_P3Dgyjcn0lz7sIwJ&previous_page_section_name=1000&federated_search_id=94685de6-4083-4b94-add6-84d77814be7d\n",
      "Agregando URL: https://www.airbnb.es/rooms/53236289?adults=1&children=0&enable_m3_private_room=true&infants=0&pets=0&search_mode=regular_search&check_in=2024-11-17&check_out=2024-11-22&source_impression_id=p3_1730726991_P3gLA1QCBsJmtAWA&previous_page_section_name=1000&federated_search_id=94685de6-4083-4b94-add6-84d77814be7d\n",
      "Agregando URL: https://www.airbnb.es/rooms/1025981229888939036?adults=1&children=0&enable_m3_private_room=true&infants=0&pets=0&search_mode=regular_search&check_in=2024-11-17&check_out=2024-11-22&source_impression_id=p3_1730726991_P345LpZ_yVZrsfMh&previous_page_section_name=1000&federated_search_id=94685de6-4083-4b94-add6-84d77814be7d\n",
      "Agregando URL: https://www.airbnb.es/rooms/15367704?adults=1&children=0&enable_m3_private_room=true&infants=0&pets=0&search_mode=regular_search&check_in=2024-11-18&check_out=2024-11-23&source_impression_id=p3_1730726991_P3YYdMlPm1234lJ7&previous_page_section_name=1000&federated_search_id=94685de6-4083-4b94-add6-84d77814be7d\n",
      "Agregando URL: https://www.airbnb.es/rooms/1277501709702124253?adults=1&category_tag=Tag%3A8678&children=0&enable_m3_private_room=true&infants=0&pets=0&photo_id=2019585820&search_mode=regular_search&check_in=2024-11-11&check_out=2024-11-16&source_impression_id=p3_1730726991_P3tA62hGC4nsX5d0&previous_page_section_name=1000&federated_search_id=94685de6-4083-4b94-add6-84d77814be7d\n",
      "Agregando URL: https://www.airbnb.es/rooms/1270219924277836678?adults=1&category_tag=Tag%3A8678&children=0&enable_m3_private_room=true&infants=0&pets=0&photo_id=2014092505&search_mode=regular_search&check_in=2024-11-10&check_out=2024-11-15&source_impression_id=p3_1730726991_P33r_YNAuaLMxFAw&previous_page_section_name=1000&federated_search_id=94685de6-4083-4b94-add6-84d77814be7d\n",
      "Agregando URL: https://www.airbnb.es/rooms/34303018?adults=1&children=0&enable_m3_private_room=true&infants=0&pets=0&search_mode=regular_search&check_in=2024-11-10&check_out=2024-11-15&source_impression_id=p3_1730726991_P39lAIQ9JQmLe9VP&previous_page_section_name=1000&federated_search_id=94685de6-4083-4b94-add6-84d77814be7d\n",
      "Agregando URL: https://www.airbnb.es/rooms/1411945?adults=1&children=0&enable_m3_private_room=true&infants=0&pets=0&search_mode=regular_search&check_in=2024-11-27&check_out=2024-12-02&source_impression_id=p3_1730726991_P3g_qc4ATKHUdd_G&previous_page_section_name=1000&federated_search_id=94685de6-4083-4b94-add6-84d77814be7d\n",
      "Total de links extraídos hasta ahora: 450\n",
      "Siguiente página...\n",
      "Número de links filtrados en la página: 18\n",
      "Agregando URL: https://www.airbnb.es/rooms/8030534?adults=1&children=0&enable_m3_private_room=true&infants=0&pets=0&search_mode=regular_search&check_in=2024-11-30&check_out=2024-12-05&source_impression_id=p3_1730726996_P37ffCgQlLIV79Gx&previous_page_section_name=1000&federated_search_id=b8ffaffa-8a60-43d7-adcf-e752fd93f0ba\n",
      "Agregando URL: https://www.airbnb.es/rooms/29941662?adults=1&children=0&enable_m3_private_room=true&infants=0&pets=0&search_mode=regular_search&check_in=2024-11-17&check_out=2024-11-22&source_impression_id=p3_1730726996_P3r5nBV_gL7KKKKl&previous_page_section_name=1000&federated_search_id=b8ffaffa-8a60-43d7-adcf-e752fd93f0ba\n",
      "Agregando URL: https://www.airbnb.es/rooms/2122261?adults=1&children=0&enable_m3_private_room=true&infants=0&pets=0&search_mode=regular_search&check_in=2024-11-17&check_out=2024-11-22&source_impression_id=p3_1730726996_P32mG3vH5pTF0Beq&previous_page_section_name=1000&federated_search_id=b8ffaffa-8a60-43d7-adcf-e752fd93f0ba\n",
      "Agregando URL: https://www.airbnb.es/rooms/1279034995385137358?adults=1&category_tag=Tag%3A8678&children=0&enable_m3_private_room=true&infants=0&pets=0&photo_id=2020960331&search_mode=regular_search&check_in=2024-11-04&check_out=2024-11-09&source_impression_id=p3_1730726996_P3DVU879sAuuvJo1&previous_page_section_name=1000&federated_search_id=b8ffaffa-8a60-43d7-adcf-e752fd93f0ba\n",
      "Agregando URL: https://www.airbnb.es/rooms/53840732?adults=1&children=0&enable_m3_private_room=true&infants=0&pets=0&search_mode=regular_search&check_in=2024-11-10&check_out=2024-11-15&source_impression_id=p3_1730726996_P3oiUcynnP38dQEr&previous_page_section_name=1000&federated_search_id=b8ffaffa-8a60-43d7-adcf-e752fd93f0ba\n",
      "Agregando URL: https://www.airbnb.es/rooms/45906714?adults=1&children=0&enable_m3_private_room=true&infants=0&pets=0&search_mode=regular_search&check_in=2024-11-10&check_out=2024-11-15&source_impression_id=p3_1730726996_P32gobh2EzP0TuJj&previous_page_section_name=1000&federated_search_id=b8ffaffa-8a60-43d7-adcf-e752fd93f0ba\n",
      "Agregando URL: https://www.airbnb.es/rooms/35605066?adults=1&children=0&enable_m3_private_room=true&infants=0&pets=0&search_mode=regular_search&check_in=2024-11-10&check_out=2024-11-15&source_impression_id=p3_1730726996_P3Ysu5J8qlFJ6-x0&previous_page_section_name=1000&federated_search_id=b8ffaffa-8a60-43d7-adcf-e752fd93f0ba\n",
      "Agregando URL: https://www.airbnb.es/rooms/2563231?adults=1&children=0&enable_m3_private_room=true&infants=0&pets=0&search_mode=regular_search&check_in=2024-11-10&check_out=2024-11-15&source_impression_id=p3_1730726996_P3rwMdRVhczVBLEH&previous_page_section_name=1000&federated_search_id=b8ffaffa-8a60-43d7-adcf-e752fd93f0ba\n",
      "Agregando URL: https://www.airbnb.es/rooms/469710?adults=1&children=0&enable_m3_private_room=true&infants=0&pets=0&search_mode=regular_search&check_in=2024-11-10&check_out=2024-11-15&source_impression_id=p3_1730726996_P3EYLVuQ-jPm2JXX&previous_page_section_name=1000&federated_search_id=b8ffaffa-8a60-43d7-adcf-e752fd93f0ba\n",
      "Agregando URL: https://www.airbnb.es/rooms/1218613893549337378?adults=1&category_tag=Tag%3A8678&children=0&enable_m3_private_room=true&infants=0&pets=0&photo_id=1971128217&search_mode=regular_search&check_in=2024-12-16&check_out=2024-12-21&source_impression_id=p3_1730726996_P3dvhSfG81Os-2as&previous_page_section_name=1000&federated_search_id=b8ffaffa-8a60-43d7-adcf-e752fd93f0ba\n",
      "Agregando URL: https://www.airbnb.es/rooms/7296618?adults=1&children=0&enable_m3_private_room=true&infants=0&pets=0&search_mode=regular_search&check_in=2024-12-01&check_out=2024-12-06&source_impression_id=p3_1730726996_P3_mGwCMwJMEvbfB&previous_page_section_name=1000&federated_search_id=b8ffaffa-8a60-43d7-adcf-e752fd93f0ba\n",
      "Agregando URL: https://www.airbnb.es/rooms/37068370?adults=1&children=0&enable_m3_private_room=true&infants=0&pets=0&search_mode=regular_search&check_in=2024-11-09&check_out=2024-11-14&source_impression_id=p3_1730726996_P3Ot5T0SaWUp9XWX&previous_page_section_name=1000&federated_search_id=b8ffaffa-8a60-43d7-adcf-e752fd93f0ba\n",
      "Agregando URL: https://www.airbnb.es/rooms/1147692746401940575?adults=1&category_tag=Tag%3A8678&children=0&enable_m3_private_room=true&infants=0&pets=0&photo_id=1897406461&search_mode=regular_search&check_in=2024-11-09&check_out=2024-11-14&source_impression_id=p3_1730726996_P3Mgt5DgL8QUsftR&previous_page_section_name=1000&federated_search_id=b8ffaffa-8a60-43d7-adcf-e752fd93f0ba\n",
      "Agregando URL: https://www.airbnb.es/rooms/744153?adults=1&children=0&enable_m3_private_room=true&infants=0&pets=0&search_mode=regular_search&check_in=2025-08-23&check_out=2025-08-29&source_impression_id=p3_1730726996_P31mmdDFwUm3SZ0i&previous_page_section_name=1000&federated_search_id=b8ffaffa-8a60-43d7-adcf-e752fd93f0ba\n",
      "Agregando URL: https://www.airbnb.es/rooms/26408688?adults=1&category_tag=Tag%3A8678&children=0&enable_m3_private_room=true&infants=0&pets=0&photo_id=1200343865&search_mode=regular_search&check_in=2024-11-27&check_out=2024-12-02&source_impression_id=p3_1730726996_P3kheho1O-o7jmtC&previous_page_section_name=1000&federated_search_id=b8ffaffa-8a60-43d7-adcf-e752fd93f0ba\n",
      "Agregando URL: https://www.airbnb.es/rooms/1051389055033236390?adults=1&children=0&enable_m3_private_room=true&infants=0&pets=0&search_mode=regular_search&check_in=2024-11-10&check_out=2024-11-15&source_impression_id=p3_1730726996_P3WJo64MVteOtxlW&previous_page_section_name=1000&federated_search_id=b8ffaffa-8a60-43d7-adcf-e752fd93f0ba\n",
      "Agregando URL: https://www.airbnb.es/rooms/48331557?adults=1&children=0&enable_m3_private_room=true&infants=0&pets=0&search_mode=regular_search&check_in=2024-11-24&check_out=2024-11-29&source_impression_id=p3_1730726996_P3-ktREJ7-aBAwl3&previous_page_section_name=1000&federated_search_id=b8ffaffa-8a60-43d7-adcf-e752fd93f0ba\n",
      "Agregando URL: https://www.airbnb.es/rooms/22409751?adults=1&children=0&enable_m3_private_room=true&infants=0&pets=0&search_mode=regular_search&check_in=2024-11-30&check_out=2024-12-05&source_impression_id=p3_1730726996_P3HmoNqVD8NZfrzw&previous_page_section_name=1000&federated_search_id=b8ffaffa-8a60-43d7-adcf-e752fd93f0ba\n",
      "Total de links extraídos hasta ahora: 468\n",
      "Siguiente página...\n",
      "Número de links filtrados en la página: 18\n",
      "Agregando URL: https://www.airbnb.es/rooms/1024439156015801160?adults=1&category_tag=Tag%3A8678&children=0&enable_m3_private_room=true&infants=0&pets=0&photo_id=2008166036&search_mode=regular_search&check_in=2024-11-17&check_out=2024-11-22&source_impression_id=p3_1730727000_P31TEG0HkGbVTAS6&previous_page_section_name=1000&federated_search_id=1c2c9989-7293-4e71-8e22-79ebc52660b0\n",
      "Agregando URL: https://www.airbnb.es/rooms/1180901133199482783?adults=1&children=0&enable_m3_private_room=true&infants=0&pets=0&search_mode=regular_search&check_in=2024-11-04&check_out=2024-11-09&source_impression_id=p3_1730727000_P3LnsKke534da92u&previous_page_section_name=1000&federated_search_id=1c2c9989-7293-4e71-8e22-79ebc52660b0\n",
      "Agregando URL: https://www.airbnb.es/rooms/11295154?adults=1&children=0&enable_m3_private_room=true&infants=0&pets=0&search_mode=regular_search&check_in=2024-11-11&check_out=2024-11-16&source_impression_id=p3_1730727000_P3VpZSYthZ5nkXsp&previous_page_section_name=1000&federated_search_id=1c2c9989-7293-4e71-8e22-79ebc52660b0\n",
      "Agregando URL: https://www.airbnb.es/rooms/1826858?adults=1&children=0&enable_m3_private_room=true&infants=0&pets=0&search_mode=regular_search&check_in=2024-11-30&check_out=2024-12-05&source_impression_id=p3_1730727000_P3cYiN9NLgaCaAri&previous_page_section_name=1000&federated_search_id=1c2c9989-7293-4e71-8e22-79ebc52660b0\n",
      "Agregando URL: https://www.airbnb.es/rooms/2491989?adults=1&children=0&enable_m3_private_room=true&infants=0&pets=0&search_mode=regular_search&check_in=2025-01-10&check_out=2025-01-15&source_impression_id=p3_1730727000_P3bQznVeZe-YKwDu&previous_page_section_name=1000&federated_search_id=1c2c9989-7293-4e71-8e22-79ebc52660b0\n",
      "Agregando URL: https://www.airbnb.es/rooms/1216583610418476390?adults=1&category_tag=Tag%3A8678&children=0&enable_m3_private_room=true&infants=0&pets=0&photo_id=2018246641&search_mode=regular_search&check_in=2024-12-18&check_out=2024-12-23&source_impression_id=p3_1730727000_P3455M67aQgCH_2D&previous_page_section_name=1000&federated_search_id=1c2c9989-7293-4e71-8e22-79ebc52660b0\n",
      "Agregando URL: https://www.airbnb.es/rooms/53159288?adults=1&children=0&enable_m3_private_room=true&infants=0&pets=0&search_mode=regular_search&check_in=2024-12-08&check_out=2024-12-13&source_impression_id=p3_1730727000_P3X0p36maCF6a1kV&previous_page_section_name=1000&federated_search_id=1c2c9989-7293-4e71-8e22-79ebc52660b0\n",
      "Agregando URL: https://www.airbnb.es/rooms/931591920999936286?adults=1&children=0&enable_m3_private_room=true&infants=0&pets=0&search_mode=regular_search&check_in=2024-12-01&check_out=2024-12-06&source_impression_id=p3_1730727000_P3i3bWa_nmtEv9C2&previous_page_section_name=1000&federated_search_id=1c2c9989-7293-4e71-8e22-79ebc52660b0\n",
      "Agregando URL: https://www.airbnb.es/rooms/790475?adults=1&children=0&enable_m3_private_room=true&infants=0&pets=0&search_mode=regular_search&check_in=2024-11-18&check_out=2024-11-23&source_impression_id=p3_1730727000_P3DrEwm1ZcExq2Iy&previous_page_section_name=1000&federated_search_id=1c2c9989-7293-4e71-8e22-79ebc52660b0\n",
      "Agregando URL: https://www.airbnb.es/rooms/53176052?adults=1&children=0&enable_m3_private_room=true&infants=0&pets=0&search_mode=regular_search&check_in=2024-11-10&check_out=2024-11-15&source_impression_id=p3_1730727000_P30CJDATIK2z-OW6&previous_page_section_name=1000&federated_search_id=1c2c9989-7293-4e71-8e22-79ebc52660b0\n",
      "Agregando URL: https://www.airbnb.es/rooms/32571410?adults=1&category_tag=Tag%3A8678&children=0&enable_m3_private_room=true&infants=0&pets=0&photo_id=942421046&search_mode=regular_search&check_in=2024-12-11&check_out=2024-12-16&source_impression_id=p3_1730727000_P3HKgGUMoKmSZ8Qo&previous_page_section_name=1000&federated_search_id=1c2c9989-7293-4e71-8e22-79ebc52660b0\n",
      "Agregando URL: https://www.airbnb.es/rooms/1247883949782172421?adults=1&category_tag=Tag%3A8678&children=0&enable_m3_private_room=true&infants=0&pets=0&photo_id=1995561109&search_mode=regular_search&check_in=2024-12-06&check_out=2024-12-11&source_impression_id=p3_1730727000_P3dMpjbeyEd43n3W&previous_page_section_name=1000&federated_search_id=1c2c9989-7293-4e71-8e22-79ebc52660b0\n",
      "Agregando URL: https://www.airbnb.es/rooms/14346513?adults=1&children=0&enable_m3_private_room=true&infants=0&pets=0&search_mode=regular_search&check_in=2024-12-01&check_out=2024-12-06&source_impression_id=p3_1730727000_P3aLUu44nq9LZOVz&previous_page_section_name=1000&federated_search_id=1c2c9989-7293-4e71-8e22-79ebc52660b0\n",
      "Agregando URL: https://www.airbnb.es/rooms/1197993987379633328?adults=1&children=0&enable_m3_private_room=true&infants=0&pets=0&search_mode=regular_search&check_in=2024-11-11&check_out=2024-11-16&source_impression_id=p3_1730727000_P3lSq2soF_la7P1l&previous_page_section_name=1000&federated_search_id=1c2c9989-7293-4e71-8e22-79ebc52660b0\n",
      "Agregando URL: https://www.airbnb.es/rooms/893052?adults=1&children=0&enable_m3_private_room=true&infants=0&pets=0&search_mode=regular_search&check_in=2024-11-12&check_out=2024-11-17&source_impression_id=p3_1730727000_P3upbqmlp0pRL7AW&previous_page_section_name=1000&federated_search_id=1c2c9989-7293-4e71-8e22-79ebc52660b0\n",
      "Agregando URL: https://www.airbnb.es/rooms/2324304?adults=1&children=0&enable_m3_private_room=true&infants=0&pets=0&search_mode=regular_search&check_in=2024-12-12&check_out=2024-12-17&source_impression_id=p3_1730727000_P3NU2TOSuO7C6nfc&previous_page_section_name=1000&federated_search_id=1c2c9989-7293-4e71-8e22-79ebc52660b0\n",
      "Agregando URL: https://www.airbnb.es/rooms/1219536029246788151?adults=1&category_tag=Tag%3A8678&children=0&enable_m3_private_room=true&infants=0&pets=0&photo_id=1972022812&search_mode=regular_search&check_in=2024-11-11&check_out=2024-11-16&source_impression_id=p3_1730727000_P3LTcF6-dMYR_cHv&previous_page_section_name=1000&federated_search_id=1c2c9989-7293-4e71-8e22-79ebc52660b0\n",
      "Agregando URL: https://www.airbnb.es/rooms/1128770863630383980?adults=1&category_tag=Tag%3A8678&children=0&enable_m3_private_room=true&infants=0&pets=0&photo_id=1877537894&search_mode=regular_search&check_in=2024-11-04&check_out=2024-11-09&source_impression_id=p3_1730727000_P3_dKv-_KDQoXgx7&previous_page_section_name=1000&federated_search_id=1c2c9989-7293-4e71-8e22-79ebc52660b0\n",
      "Total de links extraídos hasta ahora: 486\n",
      "Siguiente página...\n"
     ]
    },
    {
     "name": "stderr",
     "output_type": "stream",
     "text": [
      "Accediendo a distritos:  20%|██        | 2/10 [02:18<09:02, 67.84s/it]"
     ]
    },
    {
     "name": "stdout",
     "output_type": "stream",
     "text": [
      "Número de links filtrados en la página: 18\n",
      "Agregando URL: https://www.airbnb.es/rooms/1242680451877593023?adults=1&category_tag=Tag%3A8678&children=0&enable_m3_private_room=true&infants=0&pets=0&photo_id=1999572795&search_mode=regular_search&check_in=2024-11-04&check_out=2024-11-09&source_impression_id=p3_1730727005_P3375HKyCS2j8RT5&previous_page_section_name=1000&federated_search_id=5bc98de9-5c60-4bc1-8304-a28789aaf412\n",
      "Agregando URL: https://www.airbnb.es/rooms/41822352?adults=1&category_tag=Tag%3A8678&children=0&enable_m3_private_room=true&infants=0&pets=0&photo_id=1877977358&search_mode=regular_search&check_in=2024-11-27&check_out=2024-12-02&source_impression_id=p3_1730727005_P3_f0S_wUDsOrLcW&previous_page_section_name=1000&federated_search_id=5bc98de9-5c60-4bc1-8304-a28789aaf412\n",
      "Agregando URL: https://www.airbnb.es/rooms/24156044?adults=1&category_tag=Tag%3A8678&children=0&enable_m3_private_room=true&infants=0&pets=0&photo_id=1629445617&search_mode=regular_search&check_in=2024-12-02&check_out=2024-12-07&source_impression_id=p3_1730727005_P3zH8HSo5kbvgmNq&previous_page_section_name=1000&federated_search_id=5bc98de9-5c60-4bc1-8304-a28789aaf412\n",
      "Agregando URL: https://www.airbnb.es/rooms/1145002512960552414?adults=1&children=0&enable_m3_private_room=true&infants=0&pets=0&search_mode=regular_search&check_in=2024-11-10&check_out=2024-11-15&source_impression_id=p3_1730727005_P3k0eEKAIVpro3FV&previous_page_section_name=1000&federated_search_id=5bc98de9-5c60-4bc1-8304-a28789aaf412\n",
      "Agregando URL: https://www.airbnb.es/rooms/36291359?adults=1&children=0&enable_m3_private_room=true&infants=0&pets=0&search_mode=regular_search&check_in=2024-11-24&check_out=2024-11-29&source_impression_id=p3_1730727005_P39iBfD_Jhr2QT8C&previous_page_section_name=1000&federated_search_id=5bc98de9-5c60-4bc1-8304-a28789aaf412\n",
      "Agregando URL: https://www.airbnb.es/rooms/2058080?adults=1&children=0&enable_m3_private_room=true&infants=0&pets=0&search_mode=regular_search&check_in=2024-11-18&check_out=2024-11-23&source_impression_id=p3_1730727005_P3h6rMvolMSkS3R_&previous_page_section_name=1000&federated_search_id=5bc98de9-5c60-4bc1-8304-a28789aaf412\n",
      "Agregando URL: https://www.airbnb.es/rooms/1168874115842972093?adults=1&children=0&enable_m3_private_room=true&infants=0&pets=0&search_mode=regular_search&check_in=2024-12-12&check_out=2024-12-17&source_impression_id=p3_1730727005_P3oZaF-j2W04puMp&previous_page_section_name=1000&federated_search_id=5bc98de9-5c60-4bc1-8304-a28789aaf412\n",
      "Agregando URL: https://www.airbnb.es/rooms/1239920055875442315?adults=1&category_tag=Tag%3A8678&children=0&enable_m3_private_room=true&infants=0&pets=0&photo_id=2016940308&search_mode=regular_search&check_in=2024-11-25&check_out=2024-11-30&source_impression_id=p3_1730727005_P3qpida_UzdTCGsF&previous_page_section_name=1000&federated_search_id=5bc98de9-5c60-4bc1-8304-a28789aaf412\n",
      "Agregando URL: https://www.airbnb.es/rooms/2981721?adults=1&children=0&enable_m3_private_room=true&infants=0&pets=0&search_mode=regular_search&check_in=2024-11-24&check_out=2024-11-29&source_impression_id=p3_1730727005_P3Zp8Umho0vqcB4H&previous_page_section_name=1000&federated_search_id=5bc98de9-5c60-4bc1-8304-a28789aaf412\n",
      "Agregando URL: https://www.airbnb.es/rooms/21722132?adults=1&children=0&enable_m3_private_room=true&infants=0&pets=0&search_mode=regular_search&check_in=2024-12-01&check_out=2024-12-06&source_impression_id=p3_1730727005_P3eg84_R21aWAPWc&previous_page_section_name=1000&federated_search_id=5bc98de9-5c60-4bc1-8304-a28789aaf412\n",
      "Agregando URL: https://www.airbnb.es/rooms/572182415885999147?adults=1&children=0&enable_m3_private_room=true&infants=0&pets=0&search_mode=regular_search&check_in=2024-11-04&check_out=2024-11-09&source_impression_id=p3_1730727005_P3o0Z_v-svH2KKyo&previous_page_section_name=1000&federated_search_id=5bc98de9-5c60-4bc1-8304-a28789aaf412\n",
      "Agregando URL: https://www.airbnb.es/rooms/590503?adults=1&children=0&enable_m3_private_room=true&infants=0&pets=0&search_mode=regular_search&check_in=2024-12-09&check_out=2024-12-14&source_impression_id=p3_1730727005_P3BytjMabZ7GPnQB&previous_page_section_name=1000&federated_search_id=5bc98de9-5c60-4bc1-8304-a28789aaf412\n",
      "Agregando URL: https://www.airbnb.es/rooms/10205793?adults=1&children=0&enable_m3_private_room=true&infants=0&pets=0&search_mode=regular_search&check_in=2024-11-30&check_out=2024-12-05&source_impression_id=p3_1730727005_P3_xfmC4L9HBSl7h&previous_page_section_name=1000&federated_search_id=5bc98de9-5c60-4bc1-8304-a28789aaf412\n",
      "Agregando URL: https://www.airbnb.es/rooms/2555964?adults=1&children=0&enable_m3_private_room=true&infants=0&pets=0&search_mode=regular_search&check_in=2025-01-03&check_out=2025-01-08&source_impression_id=p3_1730727005_P3damnx3URP_Uejc&previous_page_section_name=1000&federated_search_id=5bc98de9-5c60-4bc1-8304-a28789aaf412\n",
      "Total de links extraídos hasta ahora: 500\n",
      "Total de enlaces alcanzado. Deteniendo la extracción......\n"
     ]
    },
    {
     "name": "stderr",
     "output_type": "stream",
     "text": [
      "Accediendo a distritos: 100%|██████████| 10/10 [02:58<00:00, 17.80s/it]"
     ]
    },
    {
     "name": "stdout",
     "output_type": "stream",
     "text": [
      "Extracción completa. Total de links: 500\n"
     ]
    },
    {
     "name": "stderr",
     "output_type": "stream",
     "text": [
      "\n"
     ]
    }
   ],
   "source": [
    "# Lista de distritos de Barcelona\n",
    "distritos = [\n",
    "    \"Ciutat Vella\",\n",
    "    \"Eixample\",\n",
    "    \"Sants-Montjuïc\",\n",
    "    \"Les Corts\",\n",
    "    \"Sarrià-Sant Gervasi\",\n",
    "    \"Gràcia\",\n",
    "    \"Horta-Guinardó\",\n",
    "    \"Nou Barris\",\n",
    "    \"Sant Andreu\",\n",
    "    \"Sant Martí\"\n",
    "]\n",
    "\n",
    "# Creamos una lista para almacenar enlaces de distritos\n",
    "link_distrito = []\n",
    "\n",
    "# URL base con el formato de Airbnb\n",
    "url_base = \"https://www.airbnb.es/s/{distrito}--Barcelona--España/homes?tab_id=home_tab&refinement_paths%5B%5D=%2Fhomes&monthly_start_date=2024-11-01&monthly_length=3&monthly_end_date=2025-02-01&price_filter_input_type=0&channel=EXPLORE&query={distrito}%2C%20Barcelona%2C%20España&date_picker_type=calendar&source=structured_search_input_header&search_type=autocomplete_click\"\n",
    "\n",
    "# Iterar sobre cada distrito y generar el enlace\n",
    "for distrito in distritos:\n",
    "    # Reemplazar espacios por %20 y caracteres especiales\n",
    "    distrito_url = distrito.replace(\" \", \"%20\").replace(\"à\", \"%C3%A0\").replace(\"ç\", \"%C3%A7\").replace(\"í\", \"%C3%AD\")\n",
    "    \n",
    "    # Formatear el enlace con el nombre del distrito\n",
    "    enlace = url_base.format(distrito=distrito_url)\n",
    "\n",
    "    link_distrito.append(enlace)\n",
    "\n",
    "# Lista vacía para almacenar los links de habitaciones\n",
    "links_to_scrapp = []\n",
    "\n",
    "# Accedemos a las paginas de cada distrito\n",
    "for distrito in tqdm(link_distrito, desc=\"Accediendo a distritos\"):\n",
    "    \n",
    "    driver.get(distrito)\n",
    "\n",
    "    # Pausa\n",
    "    sleep(3)\n",
    "\n",
    "    # Bucle para la paginación y extración\n",
    "    while len(links_to_scrapp) < 500:  # Limitar a 500 enlaces\n",
    "        try:\n",
    "            sleep(2)\n",
    "            # Obtener el código fuente de la página actual\n",
    "            page_source = driver.page_source\n",
    "            soup = BeautifulSoup(page_source, 'html.parser')\n",
    "\n",
    "            # Extraer todos los enlaces de habitaciones en la página actual\n",
    "            link_habitacion = driver.find_elements(By.CSS_SELECTOR, 'a[href*=\"/rooms/\"]')\n",
    "\n",
    "            # Lista de urls target\n",
    "            links_target = []\n",
    "\n",
    "            # Recorrer todos los enlaces y filtrar los que contienen '/rooms'\n",
    "            for _ in link_habitacion:\n",
    "                link = _.get_attribute('href')\n",
    "                if link and '/rooms/' in link:\n",
    "                    links_target.append(link)\n",
    "\n",
    "            # Eliminar duplicados en la lista de enlaces\n",
    "            links_filtered = set(links_target)\n",
    "            print(f\"Número de links filtrados en la página: {len(links_filtered)}\")\n",
    "\n",
    "            # Añadimos los links en la lista de scrappeo\n",
    "            for url in links_filtered:\n",
    "                if len(links_to_scrapp) < 500:  # Limitar a 500 enlaces\n",
    "                    links_to_scrapp.append(url)\n",
    "                    print(f'Agregando URL: {url}')\n",
    "                else:\n",
    "                    break\n",
    "\n",
    "            print(f\"Total de links extraídos hasta ahora: {len(links_to_scrapp)}\")\n",
    "\n",
    "            if len(links_to_scrapp) >= 500:  \n",
    "                print('Total de enlaces alcanzado. Deteniendo la extracción......')\n",
    "                break\n",
    "\n",
    "            # Pausa antes de hacer click en la próxima página\n",
    "            sleep(2)\n",
    "\n",
    "            # Buscar y hacer click en el botón \"Siguiente\"\n",
    "            next_button = driver.find_element(By.CSS_SELECTOR, 'a[aria-label=\"Siguiente\"]')\n",
    "            next_button.click()\n",
    "            print('Siguiente página...')\n",
    "\n",
    "        except Exception as e:\n",
    "            print('No se pudo cargar la siguiente página o no hay más páginas.')\n",
    "            print(e)\n",
    "            break\n",
    "\n",
    "# Imprimir a lista final de enlaces\n",
    "print(\"Extracción completa. Total de links:\", len(links_to_scrapp))"
   ]
  },
  {
   "cell_type": "code",
   "execution_count": 6,
   "metadata": {},
   "outputs": [
    {
     "name": "stderr",
     "output_type": "stream",
     "text": [
      "Extrayendo datos:   0%|          | 0/500 [00:00<?, ?it/s]"
     ]
    },
    {
     "name": "stdout",
     "output_type": "stream",
     "text": [
      "Accediendo a: https://www.airbnb.es/rooms/1270266469340006214?adults=1&category_tag=Tag%3A8678&children=0&enable_m3_private_room=true&infants=0&pets=0&photo_id=2015148890&search_mode=regular_search&check_in=2024-11-25&check_out=2024-11-30&source_impression_id=p3_1730726872_P3vj_Ongl2sdAaWK&previous_page_section_name=1000&federated_search_id=474377fe-633e-4c6f-a11b-e5609cfd007a\n"
     ]
    },
    {
     "name": "stderr",
     "output_type": "stream",
     "text": [
      "Extrayendo datos:   0%|          | 1/500 [00:08<1:09:54,  8.41s/it]"
     ]
    },
    {
     "name": "stdout",
     "output_type": "stream",
     "text": [
      "No se encontró el botón de traducción.\n",
      "Accediendo a: https://www.airbnb.es/rooms/1243254147120959358?adults=1&category_tag=Tag%3A8678&children=0&enable_m3_private_room=true&infants=0&pets=0&photo_id=2015735133&search_mode=regular_search&check_in=2024-11-10&check_out=2024-11-15&source_impression_id=p3_1730726872_P38QcbvHB2UsEAkh&previous_page_section_name=1000&federated_search_id=474377fe-633e-4c6f-a11b-e5609cfd007a\n"
     ]
    },
    {
     "name": "stderr",
     "output_type": "stream",
     "text": [
      "Extrayendo datos:   0%|          | 2/500 [00:13<55:20,  6.67s/it]  "
     ]
    },
    {
     "name": "stdout",
     "output_type": "stream",
     "text": [
      "Botón de traducción clicado con éxito.\n",
      "Accediendo a: https://www.airbnb.es/rooms/1268163818980729724?adults=1&children=0&enable_m3_private_room=true&infants=0&pets=0&search_mode=regular_search&check_in=2024-12-01&check_out=2024-12-06&source_impression_id=p3_1730726872_P32sKPRCCTJOZhVj&previous_page_section_name=1000&federated_search_id=474377fe-633e-4c6f-a11b-e5609cfd007a\n"
     ]
    },
    {
     "name": "stderr",
     "output_type": "stream",
     "text": [
      "Extrayendo datos:   1%|          | 3/500 [00:22<1:01:45,  7.45s/it]"
     ]
    },
    {
     "name": "stdout",
     "output_type": "stream",
     "text": [
      "No se encontró el botón de traducción.\n",
      "Accediendo a: https://www.airbnb.es/rooms/44247318?adults=1&children=0&enable_m3_private_room=true&infants=0&pets=0&search_mode=regular_search&check_in=2025-04-01&check_out=2025-04-06&source_impression_id=p3_1730726872_P3XDoHMn5qH4SzVt&previous_page_section_name=1000&federated_search_id=474377fe-633e-4c6f-a11b-e5609cfd007a\n",
      "No se encontró el botón de traducción.\n"
     ]
    },
    {
     "name": "stderr",
     "output_type": "stream",
     "text": [
      "Extrayendo datos:   1%|          | 4/500 [00:30<1:05:01,  7.87s/it]"
     ]
    },
    {
     "name": "stdout",
     "output_type": "stream",
     "text": [
      "Accediendo a: https://www.airbnb.es/rooms/1192692130835760091?adults=1&children=0&enable_m3_private_room=true&infants=0&pets=0&search_mode=regular_search&check_in=2024-11-25&check_out=2024-11-30&source_impression_id=p3_1730726872_P3m2PdANsQ5liCGn&previous_page_section_name=1000&federated_search_id=474377fe-633e-4c6f-a11b-e5609cfd007a\n"
     ]
    },
    {
     "name": "stderr",
     "output_type": "stream",
     "text": [
      "Extrayendo datos:   1%|          | 5/500 [00:39<1:06:30,  8.06s/it]"
     ]
    },
    {
     "name": "stdout",
     "output_type": "stream",
     "text": [
      "No se encontró el botón de traducción.\n",
      "Accediendo a: https://www.airbnb.es/rooms/545602057442226577?adults=1&category_tag=Tag%3A8678&children=0&enable_m3_private_room=true&infants=0&pets=0&photo_id=1559365984&search_mode=regular_search&check_in=2024-11-30&check_out=2024-12-05&source_impression_id=p3_1730726872_P3Nr3qAgwSl86hDW&previous_page_section_name=1000&federated_search_id=474377fe-633e-4c6f-a11b-e5609cfd007a\n"
     ]
    },
    {
     "name": "stderr",
     "output_type": "stream",
     "text": [
      "Extrayendo datos:   1%|          | 6/500 [00:47<1:07:26,  8.19s/it]"
     ]
    },
    {
     "name": "stdout",
     "output_type": "stream",
     "text": [
      "No se encontró el botón de traducción.\n",
      "Accediendo a: https://www.airbnb.es/rooms/1279040855576324107?adults=1&category_tag=Tag%3A8678&children=0&enable_m3_private_room=true&infants=0&pets=0&photo_id=2020968030&search_mode=regular_search&check_in=2024-11-05&check_out=2024-11-10&source_impression_id=p3_1730726872_P3UHSl4_Gg9IkO48&previous_page_section_name=1000&federated_search_id=474377fe-633e-4c6f-a11b-e5609cfd007a\n"
     ]
    },
    {
     "name": "stderr",
     "output_type": "stream",
     "text": [
      "Extrayendo datos:   1%|▏         | 7/500 [00:56<1:07:54,  8.26s/it]"
     ]
    },
    {
     "name": "stdout",
     "output_type": "stream",
     "text": [
      "No se encontró el botón de traducción.\n",
      "Accediendo a: https://www.airbnb.es/rooms/1252849636674011237?adults=1&children=0&enable_m3_private_room=true&infants=0&pets=0&search_mode=regular_search&check_in=2024-11-07&check_out=2024-11-12&source_impression_id=p3_1730726872_P3Gb30zdo82xjjVb&previous_page_section_name=1000&federated_search_id=474377fe-633e-4c6f-a11b-e5609cfd007a\n"
     ]
    },
    {
     "name": "stderr",
     "output_type": "stream",
     "text": [
      "Extrayendo datos:   2%|▏         | 8/500 [01:04<1:08:11,  8.32s/it]"
     ]
    },
    {
     "name": "stdout",
     "output_type": "stream",
     "text": [
      "No se encontró el botón de traducción.\n",
      "Accediendo a: https://www.airbnb.es/rooms/1176611230178132461?adults=1&children=0&enable_m3_private_room=true&infants=0&pets=0&search_mode=regular_search&check_in=2024-11-10&check_out=2024-11-15&source_impression_id=p3_1730726872_P38bDZovbLL3Fcfe&previous_page_section_name=1000&federated_search_id=474377fe-633e-4c6f-a11b-e5609cfd007a\n"
     ]
    },
    {
     "name": "stderr",
     "output_type": "stream",
     "text": [
      "Extrayendo datos:   2%|▏         | 9/500 [01:12<1:08:24,  8.36s/it]"
     ]
    },
    {
     "name": "stdout",
     "output_type": "stream",
     "text": [
      "No se encontró el botón de traducción.\n",
      "Accediendo a: https://www.airbnb.es/rooms/1263117591292794971?adults=1&children=0&enable_m3_private_room=true&infants=0&pets=0&search_mode=regular_search&check_in=2024-11-16&check_out=2024-11-21&source_impression_id=p3_1730726872_P3lx8Zb_YbcaRBn1&previous_page_section_name=1000&federated_search_id=474377fe-633e-4c6f-a11b-e5609cfd007a\n"
     ]
    },
    {
     "name": "stderr",
     "output_type": "stream",
     "text": [
      "Extrayendo datos:   2%|▏         | 10/500 [01:21<1:08:16,  8.36s/it]"
     ]
    },
    {
     "name": "stdout",
     "output_type": "stream",
     "text": [
      "No se encontró el botón de traducción.\n",
      "Accediendo a: https://www.airbnb.es/rooms/1093382940108512105?adults=1&category_tag=Tag%3A8678&children=0&enable_m3_private_room=true&infants=0&pets=0&photo_id=1843038712&search_mode=regular_search&check_in=2025-01-13&check_out=2025-01-18&source_impression_id=p3_1730726872_P3n-lfS2O0f5MtkS&previous_page_section_name=1000&federated_search_id=474377fe-633e-4c6f-a11b-e5609cfd007a\n"
     ]
    },
    {
     "name": "stderr",
     "output_type": "stream",
     "text": [
      "Extrayendo datos:   2%|▏         | 11/500 [01:29<1:08:15,  8.37s/it]"
     ]
    },
    {
     "name": "stdout",
     "output_type": "stream",
     "text": [
      "No se encontró el botón de traducción.\n",
      "Accediendo a: https://www.airbnb.es/rooms/31977850?adults=1&children=0&enable_m3_private_room=true&infants=0&pets=0&search_mode=regular_search&check_in=2024-11-04&check_out=2024-11-09&source_impression_id=p3_1730726872_P3OeGprlNj7bGPWR&previous_page_section_name=1000&federated_search_id=474377fe-633e-4c6f-a11b-e5609cfd007a\n"
     ]
    },
    {
     "name": "stderr",
     "output_type": "stream",
     "text": [
      "Extrayendo datos:   2%|▏         | 12/500 [01:38<1:08:19,  8.40s/it]"
     ]
    },
    {
     "name": "stdout",
     "output_type": "stream",
     "text": [
      "No se encontró el botón de traducción.\n",
      "Accediendo a: https://www.airbnb.es/rooms/549976913937241380?adults=1&category_tag=Tag%3A8678&children=0&enable_m3_private_room=true&infants=0&pets=0&photo_id=1896900555&search_mode=regular_search&check_in=2024-11-17&check_out=2024-11-22&source_impression_id=p3_1730726872_P3l6XZB_G5Uy11FX&previous_page_section_name=1000&federated_search_id=474377fe-633e-4c6f-a11b-e5609cfd007a\n"
     ]
    },
    {
     "name": "stderr",
     "output_type": "stream",
     "text": [
      "Extrayendo datos:   3%|▎         | 13/500 [01:46<1:08:29,  8.44s/it]"
     ]
    },
    {
     "name": "stdout",
     "output_type": "stream",
     "text": [
      "No se encontró el botón de traducción.\n",
      "Accediendo a: https://www.airbnb.es/rooms/1212272386691330030?adults=1&children=0&enable_m3_private_room=true&infants=0&pets=0&search_mode=regular_search&check_in=2024-11-11&check_out=2024-11-16&source_impression_id=p3_1730726872_P3WUrQ0SHZB26xTL&previous_page_section_name=1000&federated_search_id=474377fe-633e-4c6f-a11b-e5609cfd007a\n"
     ]
    },
    {
     "name": "stderr",
     "output_type": "stream",
     "text": [
      "Extrayendo datos:   3%|▎         | 14/500 [01:55<1:08:15,  8.43s/it]"
     ]
    },
    {
     "name": "stdout",
     "output_type": "stream",
     "text": [
      "No se encontró el botón de traducción.\n",
      "Accediendo a: https://www.airbnb.es/rooms/1250076494871048323?adults=1&category_tag=Tag%3A8678&children=0&enable_m3_private_room=true&infants=0&pets=0&photo_id=1997925728&search_mode=regular_search&check_in=2024-12-01&check_out=2024-12-06&source_impression_id=p3_1730726872_P3ZrhAQFHKCkW5EE&previous_page_section_name=1000&federated_search_id=474377fe-633e-4c6f-a11b-e5609cfd007a\n"
     ]
    },
    {
     "name": "stderr",
     "output_type": "stream",
     "text": [
      "Extrayendo datos:   3%|▎         | 15/500 [02:03<1:07:59,  8.41s/it]"
     ]
    },
    {
     "name": "stdout",
     "output_type": "stream",
     "text": [
      "No se encontró el botón de traducción.\n",
      "Accediendo a: https://www.airbnb.es/rooms/1197637831227097242?adults=1&children=0&enable_m3_private_room=true&infants=0&pets=0&search_mode=regular_search&check_in=2025-01-04&check_out=2025-01-09&source_impression_id=p3_1730726872_P3Qsb1W0TWZXE4bI&previous_page_section_name=1000&federated_search_id=474377fe-633e-4c6f-a11b-e5609cfd007a\n"
     ]
    },
    {
     "name": "stderr",
     "output_type": "stream",
     "text": [
      "Extrayendo datos:   3%|▎         | 16/500 [02:11<1:07:59,  8.43s/it]"
     ]
    },
    {
     "name": "stdout",
     "output_type": "stream",
     "text": [
      "No se encontró el botón de traducción.\n",
      "Accediendo a: https://www.airbnb.es/rooms/1248760917371966497?adults=1&category_tag=Tag%3A8678&children=0&enable_m3_private_room=true&infants=0&pets=0&photo_id=2016541719&search_mode=regular_search&check_in=2024-11-04&check_out=2024-11-09&source_impression_id=p3_1730726872_P3Iljx6AKPiqEPM8&previous_page_section_name=1000&federated_search_id=474377fe-633e-4c6f-a11b-e5609cfd007a\n"
     ]
    },
    {
     "name": "stderr",
     "output_type": "stream",
     "text": [
      "Extrayendo datos:   3%|▎         | 17/500 [02:20<1:08:06,  8.46s/it]"
     ]
    },
    {
     "name": "stdout",
     "output_type": "stream",
     "text": [
      "No se encontró el botón de traducción.\n",
      "Accediendo a: https://www.airbnb.es/rooms/52981104?adults=1&children=0&enable_m3_private_room=true&infants=0&pets=0&search_mode=regular_search&check_in=2024-11-04&check_out=2024-11-09&source_impression_id=p3_1730726872_P3DrCES1D6CZyzYJ&previous_page_section_name=1000&federated_search_id=474377fe-633e-4c6f-a11b-e5609cfd007a\n"
     ]
    },
    {
     "name": "stderr",
     "output_type": "stream",
     "text": [
      "Extrayendo datos:   4%|▎         | 18/500 [02:28<1:07:54,  8.45s/it]"
     ]
    },
    {
     "name": "stdout",
     "output_type": "stream",
     "text": [
      "No se encontró el botón de traducción.\n",
      "Accediendo a: https://www.airbnb.es/rooms/35118964?adults=1&children=0&enable_m3_private_room=true&infants=0&pets=0&search_mode=regular_search&check_in=2024-11-04&check_out=2024-11-09&source_impression_id=p3_1730726880_P3_C6C-19LRCBecG&previous_page_section_name=1000&federated_search_id=fc8d8ddd-c8d7-4ea1-b6b9-eb9d050e5555\n"
     ]
    },
    {
     "name": "stderr",
     "output_type": "stream",
     "text": [
      "Extrayendo datos:   4%|▍         | 19/500 [02:37<1:07:55,  8.47s/it]"
     ]
    },
    {
     "name": "stdout",
     "output_type": "stream",
     "text": [
      "No se encontró el botón de traducción.\n",
      "Accediendo a: https://www.airbnb.es/rooms/1252851017334064123?adults=1&children=0&enable_m3_private_room=true&infants=0&pets=0&search_mode=regular_search&check_in=2024-11-08&check_out=2024-11-13&source_impression_id=p3_1730726880_P3jMBjhvmfjj_wdY&previous_page_section_name=1000&federated_search_id=fc8d8ddd-c8d7-4ea1-b6b9-eb9d050e5555\n"
     ]
    },
    {
     "name": "stderr",
     "output_type": "stream",
     "text": [
      "Extrayendo datos:   4%|▍         | 20/500 [02:45<1:07:49,  8.48s/it]"
     ]
    },
    {
     "name": "stdout",
     "output_type": "stream",
     "text": [
      "No se encontró el botón de traducción.\n",
      "Accediendo a: https://www.airbnb.es/rooms/961287943216806993?adults=1&children=0&enable_m3_private_room=true&infants=0&pets=0&search_mode=regular_search&check_in=2024-12-08&check_out=2024-12-13&source_impression_id=p3_1730726880_P3-nAHvVVM_YoYkF&previous_page_section_name=1000&federated_search_id=fc8d8ddd-c8d7-4ea1-b6b9-eb9d050e5555\n"
     ]
    },
    {
     "name": "stderr",
     "output_type": "stream",
     "text": [
      "Extrayendo datos:   4%|▍         | 21/500 [02:54<1:07:34,  8.46s/it]"
     ]
    },
    {
     "name": "stdout",
     "output_type": "stream",
     "text": [
      "No se encontró el botón de traducción.\n",
      "Accediendo a: https://www.airbnb.es/rooms/1242680451877593023?adults=1&category_tag=Tag%3A8678&children=0&enable_m3_private_room=true&infants=0&pets=0&photo_id=1999572795&search_mode=regular_search&check_in=2024-11-04&check_out=2024-11-09&source_impression_id=p3_1730726880_P3N1pOL-SsN0UwmX&previous_page_section_name=1000&federated_search_id=fc8d8ddd-c8d7-4ea1-b6b9-eb9d050e5555\n"
     ]
    },
    {
     "name": "stderr",
     "output_type": "stream",
     "text": [
      "Extrayendo datos:   4%|▍         | 22/500 [03:02<1:07:38,  8.49s/it]"
     ]
    },
    {
     "name": "stdout",
     "output_type": "stream",
     "text": [
      "No se encontró el botón de traducción.\n",
      "Accediendo a: https://www.airbnb.es/rooms/1250792743797805066?adults=1&category_tag=Tag%3A8678&children=0&enable_m3_private_room=true&infants=0&pets=0&photo_id=1997989633&search_mode=regular_search&check_in=2024-12-07&check_out=2024-12-12&source_impression_id=p3_1730726880_P3JX3MQ5NIYsSReL&previous_page_section_name=1000&federated_search_id=fc8d8ddd-c8d7-4ea1-b6b9-eb9d050e5555\n"
     ]
    },
    {
     "name": "stderr",
     "output_type": "stream",
     "text": [
      "Extrayendo datos:   5%|▍         | 23/500 [03:11<1:07:26,  8.48s/it]"
     ]
    },
    {
     "name": "stdout",
     "output_type": "stream",
     "text": [
      "No se encontró el botón de traducción.\n",
      "Accediendo a: https://www.airbnb.es/rooms/40554669?adults=1&children=0&enable_m3_private_room=true&infants=0&pets=0&search_mode=regular_search&check_in=2024-11-17&check_out=2024-11-22&source_impression_id=p3_1730726880_P3PwkLCuXH-p1B-D&previous_page_section_name=1000&federated_search_id=fc8d8ddd-c8d7-4ea1-b6b9-eb9d050e5555\n"
     ]
    },
    {
     "name": "stderr",
     "output_type": "stream",
     "text": [
      "Extrayendo datos:   5%|▍         | 24/500 [03:19<1:07:18,  8.48s/it]"
     ]
    },
    {
     "name": "stdout",
     "output_type": "stream",
     "text": [
      "No se encontró el botón de traducción.\n",
      "Accediendo a: https://www.airbnb.es/rooms/10038461?adults=1&children=0&enable_m3_private_room=true&infants=0&pets=0&search_mode=regular_search&check_in=2024-12-14&check_out=2024-12-19&source_impression_id=p3_1730726880_P3EaS1F4cu4Aunss&previous_page_section_name=1000&federated_search_id=fc8d8ddd-c8d7-4ea1-b6b9-eb9d050e5555\n"
     ]
    },
    {
     "name": "stderr",
     "output_type": "stream",
     "text": [
      "Extrayendo datos:   5%|▌         | 25/500 [03:28<1:07:04,  8.47s/it]"
     ]
    },
    {
     "name": "stdout",
     "output_type": "stream",
     "text": [
      "No se encontró el botón de traducción.\n",
      "Accediendo a: https://www.airbnb.es/rooms/1239353939252642805?adults=1&category_tag=Tag%3A8678&children=0&enable_m3_private_room=true&infants=0&pets=0&photo_id=1988427769&search_mode=regular_search&check_in=2024-11-10&check_out=2024-11-15&source_impression_id=p3_1730726880_P3RS_yAGQHTsIvjQ&previous_page_section_name=1000&federated_search_id=fc8d8ddd-c8d7-4ea1-b6b9-eb9d050e5555\n"
     ]
    },
    {
     "name": "stderr",
     "output_type": "stream",
     "text": [
      "Extrayendo datos:   5%|▌         | 26/500 [03:36<1:07:04,  8.49s/it]"
     ]
    },
    {
     "name": "stdout",
     "output_type": "stream",
     "text": [
      "No se encontró el botón de traducción.\n",
      "Accediendo a: https://www.airbnb.es/rooms/1031002061578844729?adults=1&category_tag=Tag%3A8678&children=0&enable_m3_private_room=true&infants=0&pets=0&photo_id=1884442240&search_mode=regular_search&check_in=2024-11-04&check_out=2024-11-09&source_impression_id=p3_1730726880_P3VDFVYT8Qkaq7IY&previous_page_section_name=1000&federated_search_id=fc8d8ddd-c8d7-4ea1-b6b9-eb9d050e5555\n"
     ]
    },
    {
     "name": "stderr",
     "output_type": "stream",
     "text": [
      "Extrayendo datos:   5%|▌         | 27/500 [03:45<1:06:47,  8.47s/it]"
     ]
    },
    {
     "name": "stdout",
     "output_type": "stream",
     "text": [
      "No se encontró el botón de traducción.\n",
      "Accediendo a: https://www.airbnb.es/rooms/22548858?adults=1&children=0&enable_m3_private_room=true&infants=0&pets=0&search_mode=regular_search&check_in=2024-12-01&check_out=2024-12-06&source_impression_id=p3_1730726880_P3uhyhLnBEJwIcq4&previous_page_section_name=1000&federated_search_id=fc8d8ddd-c8d7-4ea1-b6b9-eb9d050e5555\n"
     ]
    },
    {
     "name": "stderr",
     "output_type": "stream",
     "text": [
      "Extrayendo datos:   6%|▌         | 28/500 [03:53<1:06:30,  8.45s/it]"
     ]
    },
    {
     "name": "stdout",
     "output_type": "stream",
     "text": [
      "No se encontró el botón de traducción.\n",
      "Accediendo a: https://www.airbnb.es/rooms/1279034995385137358?adults=1&category_tag=Tag%3A8678&children=0&enable_m3_private_room=true&infants=0&pets=0&photo_id=2020960331&search_mode=regular_search&check_in=2024-11-04&check_out=2024-11-09&source_impression_id=p3_1730726880_P3dr2ztPoFB4Ge_l&previous_page_section_name=1000&federated_search_id=fc8d8ddd-c8d7-4ea1-b6b9-eb9d050e5555\n"
     ]
    },
    {
     "name": "stderr",
     "output_type": "stream",
     "text": [
      "Extrayendo datos:   6%|▌         | 29/500 [04:02<1:06:10,  8.43s/it]"
     ]
    },
    {
     "name": "stdout",
     "output_type": "stream",
     "text": [
      "No se encontró el botón de traducción.\n",
      "Accediendo a: https://www.airbnb.es/rooms/1115353239605825248?adults=1&children=0&enable_m3_private_room=true&infants=0&pets=0&search_mode=regular_search&check_in=2024-11-10&check_out=2024-11-15&source_impression_id=p3_1730726880_P3jWhQldDJsnWSMN&previous_page_section_name=1000&federated_search_id=fc8d8ddd-c8d7-4ea1-b6b9-eb9d050e5555\n",
      "No se encontró el botón de traducción.\n"
     ]
    },
    {
     "name": "stderr",
     "output_type": "stream",
     "text": [
      "Extrayendo datos:   6%|▌         | 30/500 [04:10<1:06:07,  8.44s/it]"
     ]
    },
    {
     "name": "stdout",
     "output_type": "stream",
     "text": [
      "Accediendo a: https://www.airbnb.es/rooms/40553667?adults=1&children=0&enable_m3_private_room=true&infants=0&pets=0&search_mode=regular_search&check_in=2024-11-12&check_out=2024-11-17&source_impression_id=p3_1730726880_P3Et_YcgBYnghMiY&previous_page_section_name=1000&federated_search_id=fc8d8ddd-c8d7-4ea1-b6b9-eb9d050e5555\n"
     ]
    },
    {
     "name": "stderr",
     "output_type": "stream",
     "text": [
      "Extrayendo datos:   6%|▌         | 31/500 [04:18<1:05:55,  8.43s/it]"
     ]
    },
    {
     "name": "stdout",
     "output_type": "stream",
     "text": [
      "No se encontró el botón de traducción.\n",
      "Accediendo a: https://www.airbnb.es/rooms/6082313?adults=1&children=0&enable_m3_private_room=true&infants=0&pets=0&search_mode=regular_search&check_in=2024-11-24&check_out=2024-11-29&source_impression_id=p3_1730726880_P3M0RcyDewUKbvDB&previous_page_section_name=1000&federated_search_id=fc8d8ddd-c8d7-4ea1-b6b9-eb9d050e5555\n"
     ]
    },
    {
     "name": "stderr",
     "output_type": "stream",
     "text": [
      "Extrayendo datos:   6%|▋         | 32/500 [04:27<1:05:45,  8.43s/it]"
     ]
    },
    {
     "name": "stdout",
     "output_type": "stream",
     "text": [
      "No se encontró el botón de traducción.\n",
      "Accediendo a: https://www.airbnb.es/rooms/52981180?adults=1&children=0&enable_m3_private_room=true&infants=0&pets=0&search_mode=regular_search&check_in=2024-11-04&check_out=2024-11-09&source_impression_id=p3_1730726880_P3QGp16em2Cpuaqb&previous_page_section_name=1000&federated_search_id=fc8d8ddd-c8d7-4ea1-b6b9-eb9d050e5555\n"
     ]
    },
    {
     "name": "stderr",
     "output_type": "stream",
     "text": [
      "Extrayendo datos:   7%|▋         | 33/500 [04:35<1:05:50,  8.46s/it]"
     ]
    },
    {
     "name": "stdout",
     "output_type": "stream",
     "text": [
      "No se encontró el botón de traducción.\n",
      "Accediendo a: https://www.airbnb.es/rooms/1186557696488151161?adults=1&children=0&enable_m3_private_room=true&infants=0&pets=0&search_mode=regular_search&check_in=2024-11-17&check_out=2024-11-22&source_impression_id=p3_1730726880_P3F859-fzK5LSy2p&previous_page_section_name=1000&federated_search_id=fc8d8ddd-c8d7-4ea1-b6b9-eb9d050e5555\n"
     ]
    },
    {
     "name": "stderr",
     "output_type": "stream",
     "text": [
      "Extrayendo datos:   7%|▋         | 34/500 [04:44<1:05:49,  8.48s/it]"
     ]
    },
    {
     "name": "stdout",
     "output_type": "stream",
     "text": [
      "No se encontró el botón de traducción.\n",
      "Accediendo a: https://www.airbnb.es/rooms/1277512686840174474?adults=1&category_tag=Tag%3A8678&children=0&enable_m3_private_room=true&infants=0&pets=0&photo_id=2019599957&search_mode=regular_search&check_in=2024-11-04&check_out=2024-11-09&source_impression_id=p3_1730726880_P3J8nK3b517Q1iVG&previous_page_section_name=1000&federated_search_id=fc8d8ddd-c8d7-4ea1-b6b9-eb9d050e5555\n"
     ]
    },
    {
     "name": "stderr",
     "output_type": "stream",
     "text": [
      "Extrayendo datos:   7%|▋         | 35/500 [04:52<1:05:27,  8.45s/it]"
     ]
    },
    {
     "name": "stdout",
     "output_type": "stream",
     "text": [
      "No se encontró el botón de traducción.\n",
      "Accediendo a: https://www.airbnb.es/rooms/12634537?adults=1&children=0&enable_m3_private_room=true&infants=0&pets=0&search_mode=regular_search&check_in=2024-12-01&check_out=2024-12-06&source_impression_id=p3_1730726880_P3Q4ON8CTvC66NiO&previous_page_section_name=1000&federated_search_id=fc8d8ddd-c8d7-4ea1-b6b9-eb9d050e5555\n"
     ]
    },
    {
     "name": "stderr",
     "output_type": "stream",
     "text": [
      "Extrayendo datos:   7%|▋         | 36/500 [05:01<1:05:18,  8.44s/it]"
     ]
    },
    {
     "name": "stdout",
     "output_type": "stream",
     "text": [
      "No se encontró el botón de traducción.\n",
      "Accediendo a: https://www.airbnb.es/rooms/1986412?adults=1&children=0&enable_m3_private_room=true&infants=0&pets=0&search_mode=regular_search&check_in=2024-11-18&check_out=2024-11-23&source_impression_id=p3_1730726885_P3rF68rqd0_35TIt&previous_page_section_name=1000&federated_search_id=39623e62-7f71-4dc6-85fb-733f2be4feb7\n"
     ]
    },
    {
     "name": "stderr",
     "output_type": "stream",
     "text": [
      "Extrayendo datos:   7%|▋         | 37/500 [05:09<1:05:09,  8.44s/it]"
     ]
    },
    {
     "name": "stdout",
     "output_type": "stream",
     "text": [
      "No se encontró el botón de traducción.\n",
      "Accediendo a: https://www.airbnb.es/rooms/1278855194263502281?adults=1&category_tag=Tag%3A8678&children=0&enable_m3_private_room=true&infants=0&pets=0&photo_id=2020772219&search_mode=regular_search&check_in=2024-11-05&check_out=2024-11-10&source_impression_id=p3_1730726885_P3hKF7T_QAYCa7jp&previous_page_section_name=1000&federated_search_id=39623e62-7f71-4dc6-85fb-733f2be4feb7\n"
     ]
    },
    {
     "name": "stderr",
     "output_type": "stream",
     "text": [
      "Extrayendo datos:   8%|▊         | 38/500 [05:18<1:05:09,  8.46s/it]"
     ]
    },
    {
     "name": "stdout",
     "output_type": "stream",
     "text": [
      "No se encontró el botón de traducción.\n",
      "Accediendo a: https://www.airbnb.es/rooms/7953354?adults=1&children=0&enable_m3_private_room=true&infants=0&pets=0&search_mode=regular_search&check_in=2024-12-08&check_out=2024-12-13&source_impression_id=p3_1730726885_P30cZzlxkhu8h43L&previous_page_section_name=1000&federated_search_id=39623e62-7f71-4dc6-85fb-733f2be4feb7\n"
     ]
    },
    {
     "name": "stderr",
     "output_type": "stream",
     "text": [
      "Extrayendo datos:   8%|▊         | 39/500 [05:26<1:04:56,  8.45s/it]"
     ]
    },
    {
     "name": "stdout",
     "output_type": "stream",
     "text": [
      "No se encontró el botón de traducción.\n",
      "Accediendo a: https://www.airbnb.es/rooms/1197658127949521687?adults=1&children=0&enable_m3_private_room=true&infants=0&pets=0&search_mode=regular_search&check_in=2024-11-10&check_out=2024-11-15&source_impression_id=p3_1730726885_P3rGPJLegwMxHUlC&previous_page_section_name=1000&federated_search_id=39623e62-7f71-4dc6-85fb-733f2be4feb7\n"
     ]
    },
    {
     "name": "stderr",
     "output_type": "stream",
     "text": [
      "Extrayendo datos:   8%|▊         | 40/500 [05:35<1:04:49,  8.46s/it]"
     ]
    },
    {
     "name": "stdout",
     "output_type": "stream",
     "text": [
      "No se encontró el botón de traducción.\n",
      "Accediendo a: https://www.airbnb.es/rooms/1882669?adults=1&children=0&enable_m3_private_room=true&infants=0&pets=0&search_mode=regular_search&check_in=2024-12-08&check_out=2024-12-13&source_impression_id=p3_1730726885_P3pZFn_l_zQTXjA-&previous_page_section_name=1000&federated_search_id=39623e62-7f71-4dc6-85fb-733f2be4feb7\n"
     ]
    },
    {
     "name": "stderr",
     "output_type": "stream",
     "text": [
      "Extrayendo datos:   8%|▊         | 41/500 [05:43<1:04:37,  8.45s/it]"
     ]
    },
    {
     "name": "stdout",
     "output_type": "stream",
     "text": [
      "No se encontró el botón de traducción.\n",
      "Accediendo a: https://www.airbnb.es/rooms/7954069?adults=1&children=0&enable_m3_private_room=true&infants=0&pets=0&search_mode=regular_search&check_in=2024-11-30&check_out=2024-12-05&source_impression_id=p3_1730726885_P3_wQinNfU28Hf_N&previous_page_section_name=1000&federated_search_id=39623e62-7f71-4dc6-85fb-733f2be4feb7\n"
     ]
    },
    {
     "name": "stderr",
     "output_type": "stream",
     "text": [
      "Extrayendo datos:   8%|▊         | 42/500 [05:51<1:04:28,  8.45s/it]"
     ]
    },
    {
     "name": "stdout",
     "output_type": "stream",
     "text": [
      "No se encontró el botón de traducción.\n",
      "Accediendo a: https://www.airbnb.es/rooms/14006090?adults=1&children=0&enable_m3_private_room=true&infants=0&pets=0&search_mode=regular_search&check_in=2024-12-01&check_out=2024-12-06&source_impression_id=p3_1730726885_P31SJoCUvBFt2har&previous_page_section_name=1000&federated_search_id=39623e62-7f71-4dc6-85fb-733f2be4feb7\n"
     ]
    },
    {
     "name": "stderr",
     "output_type": "stream",
     "text": [
      "Extrayendo datos:   9%|▊         | 43/500 [06:00<1:04:27,  8.46s/it]"
     ]
    },
    {
     "name": "stdout",
     "output_type": "stream",
     "text": [
      "No se encontró el botón de traducción.\n",
      "Accediendo a: https://www.airbnb.es/rooms/1155809416104019462?adults=1&children=0&enable_m3_private_room=true&infants=0&pets=0&search_mode=regular_search&check_in=2024-12-09&check_out=2024-12-14&source_impression_id=p3_1730726885_P3Rwz6ffzsZkMlrR&previous_page_section_name=1000&federated_search_id=39623e62-7f71-4dc6-85fb-733f2be4feb7\n"
     ]
    },
    {
     "name": "stderr",
     "output_type": "stream",
     "text": [
      "Extrayendo datos:   9%|▉         | 44/500 [06:08<1:04:11,  8.45s/it]"
     ]
    },
    {
     "name": "stdout",
     "output_type": "stream",
     "text": [
      "No se encontró el botón de traducción.\n",
      "Accediendo a: https://www.airbnb.es/rooms/1170418042392103425?adults=1&children=0&enable_m3_private_room=true&infants=0&pets=0&search_mode=regular_search&check_in=2024-11-17&check_out=2024-11-22&source_impression_id=p3_1730726885_P3k4uzG0rNVmOl65&previous_page_section_name=1000&federated_search_id=39623e62-7f71-4dc6-85fb-733f2be4feb7\n"
     ]
    },
    {
     "name": "stderr",
     "output_type": "stream",
     "text": [
      "Extrayendo datos:   9%|▉         | 45/500 [06:17<1:04:02,  8.44s/it]"
     ]
    },
    {
     "name": "stdout",
     "output_type": "stream",
     "text": [
      "No se encontró el botón de traducción.\n",
      "Accediendo a: https://www.airbnb.es/rooms/36054333?adults=1&children=0&enable_m3_private_room=true&infants=0&pets=0&search_mode=regular_search&check_in=2024-11-04&check_out=2024-11-09&source_impression_id=p3_1730726885_P3zAbAVdgyITCBE3&previous_page_section_name=1000&federated_search_id=39623e62-7f71-4dc6-85fb-733f2be4feb7\n"
     ]
    },
    {
     "name": "stderr",
     "output_type": "stream",
     "text": [
      "Extrayendo datos:   9%|▉         | 46/500 [06:25<1:04:00,  8.46s/it]"
     ]
    },
    {
     "name": "stdout",
     "output_type": "stream",
     "text": [
      "No se encontró el botón de traducción.\n",
      "Accediendo a: https://www.airbnb.es/rooms/729078?adults=1&children=0&enable_m3_private_room=true&infants=0&pets=0&search_mode=regular_search&check_in=2025-08-09&check_out=2025-08-14&source_impression_id=p3_1730726885_P3jk_PTe-fz3YQTZ&previous_page_section_name=1000&federated_search_id=39623e62-7f71-4dc6-85fb-733f2be4feb7\n"
     ]
    },
    {
     "name": "stderr",
     "output_type": "stream",
     "text": [
      "Extrayendo datos:   9%|▉         | 47/500 [06:34<1:04:04,  8.49s/it]"
     ]
    },
    {
     "name": "stdout",
     "output_type": "stream",
     "text": [
      "No se encontró el botón de traducción.\n",
      "Accediendo a: https://www.airbnb.es/rooms/1202780025822678818?adults=1&category_tag=Tag%3A8678&children=0&enable_m3_private_room=true&infants=0&pets=0&photo_id=1991383786&search_mode=regular_search&check_in=2024-12-05&check_out=2024-12-10&source_impression_id=p3_1730726885_P3TfMYWVcVt12uSI&previous_page_section_name=1000&federated_search_id=39623e62-7f71-4dc6-85fb-733f2be4feb7\n"
     ]
    },
    {
     "name": "stderr",
     "output_type": "stream",
     "text": [
      "Extrayendo datos:  10%|▉         | 48/500 [06:42<1:03:45,  8.46s/it]"
     ]
    },
    {
     "name": "stdout",
     "output_type": "stream",
     "text": [
      "No se encontró el botón de traducción.\n",
      "Accediendo a: https://www.airbnb.es/rooms/1126661637688071846?adults=1&children=0&enable_m3_private_room=true&infants=0&pets=0&search_mode=regular_search&check_in=2024-11-10&check_out=2024-11-15&source_impression_id=p3_1730726885_P3C7n5D7xxQj5tFg&previous_page_section_name=1000&federated_search_id=39623e62-7f71-4dc6-85fb-733f2be4feb7\n"
     ]
    },
    {
     "name": "stderr",
     "output_type": "stream",
     "text": [
      "Extrayendo datos:  10%|▉         | 49/500 [06:51<1:03:30,  8.45s/it]"
     ]
    },
    {
     "name": "stdout",
     "output_type": "stream",
     "text": [
      "No se encontró el botón de traducción.\n",
      "Accediendo a: https://www.airbnb.es/rooms/1100921852236177943?adults=1&children=0&enable_m3_private_room=true&infants=0&pets=0&search_mode=regular_search&check_in=2024-11-07&check_out=2024-11-12&source_impression_id=p3_1730726885_P3rCYOVkaBYuaKQ5&previous_page_section_name=1000&federated_search_id=39623e62-7f71-4dc6-85fb-733f2be4feb7\n"
     ]
    },
    {
     "name": "stderr",
     "output_type": "stream",
     "text": [
      "Extrayendo datos:  10%|█         | 50/500 [06:59<1:03:25,  8.46s/it]"
     ]
    },
    {
     "name": "stdout",
     "output_type": "stream",
     "text": [
      "No se encontró el botón de traducción.\n",
      "Accediendo a: https://www.airbnb.es/rooms/988277234856267358?adults=1&category_tag=Tag%3A8678&children=0&enable_m3_private_room=true&infants=0&pets=0&photo_id=1746572457&search_mode=regular_search&check_in=2024-11-11&check_out=2024-11-16&source_impression_id=p3_1730726885_P3NqarvGbvmioZbL&previous_page_section_name=1000&federated_search_id=39623e62-7f71-4dc6-85fb-733f2be4feb7\n"
     ]
    },
    {
     "name": "stderr",
     "output_type": "stream",
     "text": [
      "Extrayendo datos:  10%|█         | 51/500 [07:08<1:03:19,  8.46s/it]"
     ]
    },
    {
     "name": "stdout",
     "output_type": "stream",
     "text": [
      "No se encontró el botón de traducción.\n",
      "Accediendo a: https://www.airbnb.es/rooms/603025887213646958?adults=1&category_tag=Tag%3A8678&children=0&enable_m3_private_room=true&infants=0&pets=0&photo_id=1566144057&search_mode=regular_search&check_in=2024-11-07&check_out=2024-11-12&source_impression_id=p3_1730726885_P30mQS3Scn6bFRbm&previous_page_section_name=1000&federated_search_id=39623e62-7f71-4dc6-85fb-733f2be4feb7\n"
     ]
    },
    {
     "name": "stderr",
     "output_type": "stream",
     "text": [
      "Extrayendo datos:  10%|█         | 52/500 [07:16<1:03:03,  8.44s/it]"
     ]
    },
    {
     "name": "stdout",
     "output_type": "stream",
     "text": [
      "No se encontró el botón de traducción.\n",
      "Accediendo a: https://www.airbnb.es/rooms/1277486454471917370?adults=1&children=0&enable_m3_private_room=true&infants=0&pets=0&search_mode=regular_search&check_in=2024-11-26&check_out=2024-12-01&source_impression_id=p3_1730726885_P3TBCL7MCAwzJ3yy&previous_page_section_name=1000&federated_search_id=39623e62-7f71-4dc6-85fb-733f2be4feb7\n"
     ]
    },
    {
     "name": "stderr",
     "output_type": "stream",
     "text": [
      "Extrayendo datos:  11%|█         | 53/500 [07:24<1:02:45,  8.42s/it]"
     ]
    },
    {
     "name": "stdout",
     "output_type": "stream",
     "text": [
      "No se encontró el botón de traducción.\n",
      "Accediendo a: https://www.airbnb.es/rooms/1228812933215136247?adults=1&children=0&enable_m3_private_room=true&infants=0&pets=0&search_mode=regular_search&check_in=2024-11-17&check_out=2024-11-22&source_impression_id=p3_1730726885_P3pMn9wP-xFxkPBk&previous_page_section_name=1000&federated_search_id=39623e62-7f71-4dc6-85fb-733f2be4feb7\n"
     ]
    },
    {
     "name": "stderr",
     "output_type": "stream",
     "text": [
      "Extrayendo datos:  11%|█         | 54/500 [07:33<1:02:35,  8.42s/it]"
     ]
    },
    {
     "name": "stdout",
     "output_type": "stream",
     "text": [
      "No se encontró el botón de traducción.\n",
      "Accediendo a: https://www.airbnb.es/rooms/1268315562716583459?adults=1&category_tag=Tag%3A8678&children=0&enable_m3_private_room=true&infants=0&pets=0&photo_id=2012469117&search_mode=regular_search&check_in=2024-11-09&check_out=2024-11-14&source_impression_id=p3_1730726889_P3SyraVQOuqTmeDW&previous_page_section_name=1000&federated_search_id=2062df1a-1060-4d32-b4d8-967575a49e67\n",
      "No se encontró el botón de traducción.\n"
     ]
    },
    {
     "name": "stderr",
     "output_type": "stream",
     "text": [
      "Extrayendo datos:  11%|█         | 55/500 [07:41<1:02:32,  8.43s/it]"
     ]
    },
    {
     "name": "stdout",
     "output_type": "stream",
     "text": [
      "Accediendo a: https://www.airbnb.es/rooms/1055670235103150282?adults=1&children=0&enable_m3_private_room=true&infants=0&pets=0&search_mode=regular_search&check_in=2024-11-17&check_out=2024-11-22&source_impression_id=p3_1730726889_P3UDbOJw3O0lUG8f&previous_page_section_name=1000&federated_search_id=2062df1a-1060-4d32-b4d8-967575a49e67\n"
     ]
    },
    {
     "name": "stderr",
     "output_type": "stream",
     "text": [
      "Extrayendo datos:  11%|█         | 56/500 [07:50<1:02:22,  8.43s/it]"
     ]
    },
    {
     "name": "stdout",
     "output_type": "stream",
     "text": [
      "No se encontró el botón de traducción.\n",
      "Accediendo a: https://www.airbnb.es/rooms/45325166?adults=1&children=0&enable_m3_private_room=true&infants=0&pets=0&search_mode=regular_search&check_in=2024-11-10&check_out=2024-11-15&source_impression_id=p3_1730726889_P3YTB9kkN0-ywL8h&previous_page_section_name=1000&federated_search_id=2062df1a-1060-4d32-b4d8-967575a49e67\n"
     ]
    },
    {
     "name": "stderr",
     "output_type": "stream",
     "text": [
      "Extrayendo datos:  11%|█▏        | 57/500 [07:58<1:02:24,  8.45s/it]"
     ]
    },
    {
     "name": "stdout",
     "output_type": "stream",
     "text": [
      "No se encontró el botón de traducción.\n",
      "Accediendo a: https://www.airbnb.es/rooms/51666669?adults=1&category_tag=Tag%3A8678&children=0&enable_m3_private_room=true&infants=0&pets=0&photo_id=1905073231&search_mode=regular_search&check_in=2024-12-19&check_out=2024-12-24&source_impression_id=p3_1730726889_P3m3Q7pSMl0DlkCC&previous_page_section_name=1000&federated_search_id=2062df1a-1060-4d32-b4d8-967575a49e67\n"
     ]
    },
    {
     "name": "stderr",
     "output_type": "stream",
     "text": [
      "Extrayendo datos:  12%|█▏        | 58/500 [08:07<1:02:11,  8.44s/it]"
     ]
    },
    {
     "name": "stdout",
     "output_type": "stream",
     "text": [
      "No se encontró el botón de traducción.\n",
      "Accediendo a: https://www.airbnb.es/rooms/1186999130997502572?adults=1&children=0&enable_m3_private_room=true&infants=0&pets=0&search_mode=regular_search&check_in=2024-11-10&check_out=2024-11-15&source_impression_id=p3_1730726889_P347F5HYqV7NTwkD&previous_page_section_name=1000&federated_search_id=2062df1a-1060-4d32-b4d8-967575a49e67\n",
      "No se encontró el botón de traducción.\n"
     ]
    },
    {
     "name": "stderr",
     "output_type": "stream",
     "text": [
      "Extrayendo datos:  12%|█▏        | 59/500 [08:15<1:02:08,  8.46s/it]"
     ]
    },
    {
     "name": "stdout",
     "output_type": "stream",
     "text": [
      "Accediendo a: https://www.airbnb.es/rooms/957657?adults=1&children=0&enable_m3_private_room=true&infants=0&pets=0&search_mode=regular_search&check_in=2024-11-10&check_out=2024-11-15&source_impression_id=p3_1730726889_P3C0cK68Gy_jb2Kb&previous_page_section_name=1000&federated_search_id=2062df1a-1060-4d32-b4d8-967575a49e67\n"
     ]
    },
    {
     "name": "stderr",
     "output_type": "stream",
     "text": [
      "Extrayendo datos:  12%|█▏        | 60/500 [08:24<1:02:06,  8.47s/it]"
     ]
    },
    {
     "name": "stdout",
     "output_type": "stream",
     "text": [
      "No se encontró el botón de traducción.\n",
      "Accediendo a: https://www.airbnb.es/rooms/1265660833018089515?adults=1&children=0&enable_m3_private_room=true&infants=0&pets=0&search_mode=regular_search&check_in=2024-11-06&check_out=2024-11-11&source_impression_id=p3_1730726889_P35LM6z1EkaRyDfi&previous_page_section_name=1000&federated_search_id=2062df1a-1060-4d32-b4d8-967575a49e67\n"
     ]
    },
    {
     "name": "stderr",
     "output_type": "stream",
     "text": [
      "Extrayendo datos:  12%|█▏        | 61/500 [08:32<1:01:54,  8.46s/it]"
     ]
    },
    {
     "name": "stdout",
     "output_type": "stream",
     "text": [
      "No se encontró el botón de traducción.\n",
      "Accediendo a: https://www.airbnb.es/rooms/1275738933960711672?adults=1&children=0&enable_m3_private_room=true&infants=0&pets=0&search_mode=regular_search&check_in=2024-11-10&check_out=2024-11-15&source_impression_id=p3_1730726889_P3SRDP2BNwtV8FEP&previous_page_section_name=1000&federated_search_id=2062df1a-1060-4d32-b4d8-967575a49e67\n"
     ]
    },
    {
     "name": "stderr",
     "output_type": "stream",
     "text": [
      "Extrayendo datos:  12%|█▏        | 62/500 [08:40<1:01:38,  8.44s/it]"
     ]
    },
    {
     "name": "stdout",
     "output_type": "stream",
     "text": [
      "No se encontró el botón de traducción.\n",
      "Accediendo a: https://www.airbnb.es/rooms/1264417090227650223?adults=1&children=0&enable_m3_private_room=true&infants=0&pets=0&search_mode=regular_search&check_in=2024-11-16&check_out=2024-11-21&source_impression_id=p3_1730726889_P3kkW-5TKIU_Zz8I&previous_page_section_name=1000&federated_search_id=2062df1a-1060-4d32-b4d8-967575a49e67\n"
     ]
    },
    {
     "name": "stderr",
     "output_type": "stream",
     "text": [
      "Extrayendo datos:  13%|█▎        | 63/500 [08:49<1:01:28,  8.44s/it]"
     ]
    },
    {
     "name": "stdout",
     "output_type": "stream",
     "text": [
      "No se encontró el botón de traducción.\n",
      "Accediendo a: https://www.airbnb.es/rooms/33259271?adults=1&category_tag=Tag%3A8678&children=0&enable_m3_private_room=true&infants=0&pets=0&photo_id=713879907&search_mode=regular_search&check_in=2024-11-09&check_out=2024-11-14&source_impression_id=p3_1730726889_P3p3y6JzGnZqcsBz&previous_page_section_name=1000&federated_search_id=2062df1a-1060-4d32-b4d8-967575a49e67\n"
     ]
    },
    {
     "name": "stderr",
     "output_type": "stream",
     "text": [
      "Extrayendo datos:  13%|█▎        | 64/500 [08:57<1:01:17,  8.44s/it]"
     ]
    },
    {
     "name": "stdout",
     "output_type": "stream",
     "text": [
      "No se encontró el botón de traducción.\n",
      "Accediendo a: https://www.airbnb.es/rooms/827628743454560099?adults=1&category_tag=Tag%3A8678&children=0&enable_m3_private_room=true&infants=0&pets=0&photo_id=1799203505&search_mode=regular_search&check_in=2024-11-21&check_out=2024-11-26&source_impression_id=p3_1730726889_P3p0DrxKqRS2uniA&previous_page_section_name=1000&federated_search_id=2062df1a-1060-4d32-b4d8-967575a49e67\n"
     ]
    },
    {
     "name": "stderr",
     "output_type": "stream",
     "text": [
      "Extrayendo datos:  13%|█▎        | 65/500 [09:06<1:01:05,  8.43s/it]"
     ]
    },
    {
     "name": "stdout",
     "output_type": "stream",
     "text": [
      "No se encontró el botón de traducción.\n",
      "Accediendo a: https://www.airbnb.es/rooms/1248750542478617295?adults=1&category_tag=Tag%3A8678&children=0&enable_m3_private_room=true&infants=0&pets=0&photo_id=2020476505&search_mode=regular_search&check_in=2024-11-05&check_out=2024-11-10&source_impression_id=p3_1730726889_P3Egz74YaDtadX4j&previous_page_section_name=1000&federated_search_id=2062df1a-1060-4d32-b4d8-967575a49e67\n"
     ]
    },
    {
     "name": "stderr",
     "output_type": "stream",
     "text": [
      "Extrayendo datos:  13%|█▎        | 66/500 [09:14<1:00:52,  8.42s/it]"
     ]
    },
    {
     "name": "stdout",
     "output_type": "stream",
     "text": [
      "No se encontró el botón de traducción.\n",
      "Accediendo a: https://www.airbnb.es/rooms/3559666?adults=1&children=0&enable_m3_private_room=true&infants=0&pets=0&search_mode=regular_search&check_in=2024-12-01&check_out=2024-12-06&source_impression_id=p3_1730726889_P3sosFnli_kvhYk4&previous_page_section_name=1000&federated_search_id=2062df1a-1060-4d32-b4d8-967575a49e67\n"
     ]
    },
    {
     "name": "stderr",
     "output_type": "stream",
     "text": [
      "Extrayendo datos:  13%|█▎        | 67/500 [09:22<1:00:46,  8.42s/it]"
     ]
    },
    {
     "name": "stdout",
     "output_type": "stream",
     "text": [
      "No se encontró el botón de traducción.\n",
      "Accediendo a: https://www.airbnb.es/rooms/40553596?adults=1&children=0&enable_m3_private_room=true&infants=0&pets=0&search_mode=regular_search&check_in=2024-11-09&check_out=2024-11-14&source_impression_id=p3_1730726889_P3JFRWBoW0i8t2_H&previous_page_section_name=1000&federated_search_id=2062df1a-1060-4d32-b4d8-967575a49e67\n"
     ]
    },
    {
     "name": "stderr",
     "output_type": "stream",
     "text": [
      "Extrayendo datos:  14%|█▎        | 68/500 [09:31<1:00:46,  8.44s/it]"
     ]
    },
    {
     "name": "stdout",
     "output_type": "stream",
     "text": [
      "No se encontró el botón de traducción.\n",
      "Accediendo a: https://www.airbnb.es/rooms/1207065162731542501?adults=1&children=0&enable_m3_private_room=true&infants=0&pets=0&search_mode=regular_search&check_in=2024-11-24&check_out=2024-11-29&source_impression_id=p3_1730726889_P3ri8CbaSdX5r5Vc&previous_page_section_name=1000&federated_search_id=2062df1a-1060-4d32-b4d8-967575a49e67\n"
     ]
    },
    {
     "name": "stderr",
     "output_type": "stream",
     "text": [
      "Extrayendo datos:  14%|█▍        | 69/500 [09:39<1:00:48,  8.46s/it]"
     ]
    },
    {
     "name": "stdout",
     "output_type": "stream",
     "text": [
      "No se encontró el botón de traducción.\n",
      "Accediendo a: https://www.airbnb.es/rooms/850684095339937556?adults=1&children=0&enable_m3_private_room=true&infants=0&pets=0&search_mode=regular_search&check_in=2025-01-06&check_out=2025-01-11&source_impression_id=p3_1730726889_P3AcZEjwbuHK5AR7&previous_page_section_name=1000&federated_search_id=2062df1a-1060-4d32-b4d8-967575a49e67\n"
     ]
    },
    {
     "name": "stderr",
     "output_type": "stream",
     "text": [
      "Extrayendo datos:  14%|█▍        | 70/500 [09:48<1:00:43,  8.47s/it]"
     ]
    },
    {
     "name": "stdout",
     "output_type": "stream",
     "text": [
      "No se encontró el botón de traducción.\n",
      "Accediendo a: https://www.airbnb.es/rooms/1121943650344876902?adults=1&children=0&enable_m3_private_room=true&infants=0&pets=0&search_mode=regular_search&check_in=2024-11-26&check_out=2024-12-01&source_impression_id=p3_1730726889_P3tFFdrdkQgxXqEd&previous_page_section_name=1000&federated_search_id=2062df1a-1060-4d32-b4d8-967575a49e67\n"
     ]
    },
    {
     "name": "stderr",
     "output_type": "stream",
     "text": [
      "Extrayendo datos:  14%|█▍        | 71/500 [09:56<1:00:27,  8.45s/it]"
     ]
    },
    {
     "name": "stdout",
     "output_type": "stream",
     "text": [
      "No se encontró el botón de traducción.\n",
      "Accediendo a: https://www.airbnb.es/rooms/29171393?adults=1&children=0&enable_m3_private_room=true&infants=0&pets=0&search_mode=regular_search&check_in=2024-12-17&check_out=2024-12-22&source_impression_id=p3_1730726889_P3egCnMPPr4A4snt&previous_page_section_name=1000&federated_search_id=2062df1a-1060-4d32-b4d8-967575a49e67\n"
     ]
    },
    {
     "name": "stderr",
     "output_type": "stream",
     "text": [
      "Extrayendo datos:  14%|█▍        | 72/500 [10:05<1:00:25,  8.47s/it]"
     ]
    },
    {
     "name": "stdout",
     "output_type": "stream",
     "text": [
      "No se encontró el botón de traducción.\n",
      "Accediendo a: https://www.airbnb.es/rooms/1242062806305975230?adults=1&children=0&enable_m3_private_room=true&infants=0&pets=0&search_mode=regular_search&check_in=2024-11-25&check_out=2024-11-30&source_impression_id=p3_1730726894_P32FTRpFzL5rxJvS&previous_page_section_name=1000&federated_search_id=23461d9e-0094-47e6-9d61-b1ff5ead21b8\n"
     ]
    },
    {
     "name": "stderr",
     "output_type": "stream",
     "text": [
      "Extrayendo datos:  15%|█▍        | 73/500 [10:13<1:00:16,  8.47s/it]"
     ]
    },
    {
     "name": "stdout",
     "output_type": "stream",
     "text": [
      "No se encontró el botón de traducción.\n",
      "Accediendo a: https://www.airbnb.es/rooms/1259293393052162749?adults=1&category_tag=Tag%3A8678&children=0&enable_m3_private_room=true&infants=0&pets=0&photo_id=2005212154&search_mode=regular_search&check_in=2024-12-01&check_out=2024-12-06&source_impression_id=p3_1730726894_P3XMqWoMd4-AwKd-&previous_page_section_name=1000&federated_search_id=23461d9e-0094-47e6-9d61-b1ff5ead21b8\n"
     ]
    },
    {
     "name": "stderr",
     "output_type": "stream",
     "text": [
      "Extrayendo datos:  15%|█▍        | 74/500 [10:22<1:00:04,  8.46s/it]"
     ]
    },
    {
     "name": "stdout",
     "output_type": "stream",
     "text": [
      "No se encontró el botón de traducción.\n",
      "Accediendo a: https://www.airbnb.es/rooms/2469747?adults=1&children=0&enable_m3_private_room=true&infants=0&pets=0&search_mode=regular_search&check_in=2024-12-08&check_out=2024-12-13&source_impression_id=p3_1730726894_P3FfSAe6lGNv8rbm&previous_page_section_name=1000&federated_search_id=23461d9e-0094-47e6-9d61-b1ff5ead21b8\n"
     ]
    },
    {
     "name": "stderr",
     "output_type": "stream",
     "text": [
      "Extrayendo datos:  15%|█▌        | 75/500 [10:30<59:49,  8.45s/it]  "
     ]
    },
    {
     "name": "stdout",
     "output_type": "stream",
     "text": [
      "No se encontró el botón de traducción.\n",
      "Accediendo a: https://www.airbnb.es/rooms/1004286459862246983?adults=1&category_tag=Tag%3A8678&children=0&enable_m3_private_room=true&infants=0&pets=0&photo_id=1766386385&search_mode=regular_search&check_in=2024-11-10&check_out=2024-11-15&source_impression_id=p3_1730726894_P3XXAt1Wdmwp_ZcC&previous_page_section_name=1000&federated_search_id=23461d9e-0094-47e6-9d61-b1ff5ead21b8\n"
     ]
    },
    {
     "name": "stderr",
     "output_type": "stream",
     "text": [
      "Extrayendo datos:  15%|█▌        | 76/500 [10:39<59:49,  8.46s/it]"
     ]
    },
    {
     "name": "stdout",
     "output_type": "stream",
     "text": [
      "No se encontró el botón de traducción.\n",
      "Accediendo a: https://www.airbnb.es/rooms/1239053049458811288?adults=1&category_tag=Tag%3A8678&children=0&enable_m3_private_room=true&infants=0&pets=0&photo_id=1988110422&search_mode=regular_search&check_in=2024-11-25&check_out=2024-11-30&source_impression_id=p3_1730726894_P3qAWci9c22B0FIA&previous_page_section_name=1000&federated_search_id=23461d9e-0094-47e6-9d61-b1ff5ead21b8\n"
     ]
    },
    {
     "name": "stderr",
     "output_type": "stream",
     "text": [
      "Extrayendo datos:  15%|█▌        | 77/500 [10:47<59:39,  8.46s/it]"
     ]
    },
    {
     "name": "stdout",
     "output_type": "stream",
     "text": [
      "No se encontró el botón de traducción.\n",
      "Accediendo a: https://www.airbnb.es/rooms/45576362?adults=1&category_tag=Tag%3A8678&children=0&enable_m3_private_room=true&infants=0&pets=0&photo_id=1436856880&search_mode=regular_search&check_in=2024-11-28&check_out=2024-12-03&source_impression_id=p3_1730726894_P3ARQDioogMuIE_7&previous_page_section_name=1000&federated_search_id=23461d9e-0094-47e6-9d61-b1ff5ead21b8\n"
     ]
    },
    {
     "name": "stderr",
     "output_type": "stream",
     "text": [
      "Extrayendo datos:  16%|█▌        | 78/500 [10:56<59:27,  8.45s/it]"
     ]
    },
    {
     "name": "stdout",
     "output_type": "stream",
     "text": [
      "No se encontró el botón de traducción.\n",
      "Accediendo a: https://www.airbnb.es/rooms/942564931945558482?adults=1&children=0&enable_m3_private_room=true&infants=0&pets=0&search_mode=regular_search&check_in=2024-12-08&check_out=2024-12-13&source_impression_id=p3_1730726894_P3-lHWlC3fPBsHS1&previous_page_section_name=1000&federated_search_id=23461d9e-0094-47e6-9d61-b1ff5ead21b8\n"
     ]
    },
    {
     "name": "stderr",
     "output_type": "stream",
     "text": [
      "Extrayendo datos:  16%|█▌        | 79/500 [11:04<59:16,  8.45s/it]"
     ]
    },
    {
     "name": "stdout",
     "output_type": "stream",
     "text": [
      "No se encontró el botón de traducción.\n",
      "Accediendo a: https://www.airbnb.es/rooms/1093420674156462128?adults=1&category_tag=Tag%3A8678&children=0&enable_m3_private_room=true&infants=0&pets=0&photo_id=1843049198&search_mode=regular_search&check_in=2025-01-12&check_out=2025-01-17&source_impression_id=p3_1730726894_P3Fi07IaXHnQgTHa&previous_page_section_name=1000&federated_search_id=23461d9e-0094-47e6-9d61-b1ff5ead21b8\n"
     ]
    },
    {
     "name": "stderr",
     "output_type": "stream",
     "text": [
      "Extrayendo datos:  16%|█▌        | 80/500 [11:13<59:22,  8.48s/it]"
     ]
    },
    {
     "name": "stdout",
     "output_type": "stream",
     "text": [
      "No se encontró el botón de traducción.\n",
      "Accediendo a: https://www.airbnb.es/rooms/1258050710501185022?adults=1&children=0&enable_m3_private_room=true&infants=0&pets=0&search_mode=regular_search&check_in=2024-11-23&check_out=2024-11-28&source_impression_id=p3_1730726894_P3-e9FpF7MK8bsr5&previous_page_section_name=1000&federated_search_id=23461d9e-0094-47e6-9d61-b1ff5ead21b8\n"
     ]
    },
    {
     "name": "stderr",
     "output_type": "stream",
     "text": [
      "Extrayendo datos:  16%|█▌        | 81/500 [11:21<59:00,  8.45s/it]"
     ]
    },
    {
     "name": "stdout",
     "output_type": "stream",
     "text": [
      "No se encontró el botón de traducción.\n",
      "Accediendo a: https://www.airbnb.es/rooms/5483016?adults=1&children=0&enable_m3_private_room=true&infants=0&pets=0&search_mode=regular_search&check_in=2024-11-16&check_out=2024-11-21&source_impression_id=p3_1730726894_P3gfEKAsi_9r-6hg&previous_page_section_name=1000&federated_search_id=23461d9e-0094-47e6-9d61-b1ff5ead21b8\n"
     ]
    },
    {
     "name": "stderr",
     "output_type": "stream",
     "text": [
      "Extrayendo datos:  16%|█▋        | 82/500 [11:29<58:47,  8.44s/it]"
     ]
    },
    {
     "name": "stdout",
     "output_type": "stream",
     "text": [
      "No se encontró el botón de traducción.\n",
      "Accediendo a: https://www.airbnb.es/rooms/1000514588274707195?adults=1&category_tag=Tag%3A8678&children=0&enable_m3_private_room=true&infants=0&pets=0&photo_id=1758322400&search_mode=regular_search&check_in=2024-11-07&check_out=2024-11-12&source_impression_id=p3_1730726894_P32uOPfZ8Epl72fs&previous_page_section_name=1000&federated_search_id=23461d9e-0094-47e6-9d61-b1ff5ead21b8\n"
     ]
    },
    {
     "name": "stderr",
     "output_type": "stream",
     "text": [
      "Extrayendo datos:  17%|█▋        | 83/500 [11:38<58:36,  8.43s/it]"
     ]
    },
    {
     "name": "stdout",
     "output_type": "stream",
     "text": [
      "No se encontró el botón de traducción.\n",
      "Accediendo a: https://www.airbnb.es/rooms/908155559326571593?adults=1&category_tag=Tag%3A8678&children=0&enable_m3_private_room=true&infants=0&pets=0&photo_id=1770642236&search_mode=regular_search&check_in=2024-12-02&check_out=2024-12-07&source_impression_id=p3_1730726894_P3W7PRIA1cd7Bu2U&previous_page_section_name=1000&federated_search_id=23461d9e-0094-47e6-9d61-b1ff5ead21b8\n",
      "No se encontró el botón de traducción.\n"
     ]
    },
    {
     "name": "stderr",
     "output_type": "stream",
     "text": [
      "Extrayendo datos:  17%|█▋        | 84/500 [11:46<58:35,  8.45s/it]"
     ]
    },
    {
     "name": "stdout",
     "output_type": "stream",
     "text": [
      "Accediendo a: https://www.airbnb.es/rooms/1248434021796394802?adults=1&category_tag=Tag%3A8678&children=0&enable_m3_private_room=true&infants=0&pets=0&photo_id=1995991646&search_mode=regular_search&check_in=2024-12-08&check_out=2024-12-13&source_impression_id=p3_1730726894_P32WuK3rb4KgCXVg&previous_page_section_name=1000&federated_search_id=23461d9e-0094-47e6-9d61-b1ff5ead21b8\n"
     ]
    },
    {
     "name": "stderr",
     "output_type": "stream",
     "text": [
      "Extrayendo datos:  17%|█▋        | 85/500 [11:55<58:30,  8.46s/it]"
     ]
    },
    {
     "name": "stdout",
     "output_type": "stream",
     "text": [
      "No se encontró el botón de traducción.\n",
      "Accediendo a: https://www.airbnb.es/rooms/1167927143759339825?adults=1&category_tag=Tag%3A8678&children=0&enable_m3_private_room=true&infants=0&pets=0&photo_id=1918858382&search_mode=regular_search&check_in=2024-11-15&check_out=2024-11-22&source_impression_id=p3_1730726894_P3Omw45g6nhX1WgA&previous_page_section_name=1000&federated_search_id=23461d9e-0094-47e6-9d61-b1ff5ead21b8\n"
     ]
    },
    {
     "name": "stderr",
     "output_type": "stream",
     "text": [
      "Extrayendo datos:  17%|█▋        | 86/500 [12:03<58:16,  8.45s/it]"
     ]
    },
    {
     "name": "stdout",
     "output_type": "stream",
     "text": [
      "No se encontró el botón de traducción.\n",
      "Accediendo a: https://www.airbnb.es/rooms/2828143?adults=1&children=0&enable_m3_private_room=true&infants=0&pets=0&search_mode=regular_search&check_in=2024-12-15&check_out=2024-12-20&source_impression_id=p3_1730726894_P3clQyv2JnzjYc2R&previous_page_section_name=1000&federated_search_id=23461d9e-0094-47e6-9d61-b1ff5ead21b8\n"
     ]
    },
    {
     "name": "stderr",
     "output_type": "stream",
     "text": [
      "Extrayendo datos:  17%|█▋        | 87/500 [12:12<58:06,  8.44s/it]"
     ]
    },
    {
     "name": "stdout",
     "output_type": "stream",
     "text": [
      "No se encontró el botón de traducción.\n",
      "Accediendo a: https://www.airbnb.es/rooms/2910491?adults=1&children=0&enable_m3_private_room=true&infants=0&pets=0&search_mode=regular_search&check_in=2024-12-01&check_out=2024-12-06&source_impression_id=p3_1730726894_P349VtBTCihQs_gz&previous_page_section_name=1000&federated_search_id=23461d9e-0094-47e6-9d61-b1ff5ead21b8\n",
      "No se encontró el botón de traducción.\n"
     ]
    },
    {
     "name": "stderr",
     "output_type": "stream",
     "text": [
      "Extrayendo datos:  18%|█▊        | 88/500 [12:20<58:06,  8.46s/it]"
     ]
    },
    {
     "name": "stdout",
     "output_type": "stream",
     "text": [
      "Accediendo a: https://www.airbnb.es/rooms/10737758?adults=1&children=0&enable_m3_private_room=true&infants=0&pets=0&search_mode=regular_search&check_in=2024-11-17&check_out=2024-11-22&source_impression_id=p3_1730726894_P3tEB0rTW2ZAiOP5&previous_page_section_name=1000&federated_search_id=23461d9e-0094-47e6-9d61-b1ff5ead21b8\n"
     ]
    },
    {
     "name": "stderr",
     "output_type": "stream",
     "text": [
      "Extrayendo datos:  18%|█▊        | 89/500 [12:29<58:01,  8.47s/it]"
     ]
    },
    {
     "name": "stdout",
     "output_type": "stream",
     "text": [
      "No se encontró el botón de traducción.\n",
      "Accediendo a: https://www.airbnb.es/rooms/1243996019024503830?adults=1&children=0&enable_m3_private_room=true&infants=0&pets=0&search_mode=regular_search&check_in=2024-11-07&check_out=2024-11-12&source_impression_id=p3_1730726894_P3kJK4AC3vlS8sHK&previous_page_section_name=1000&federated_search_id=23461d9e-0094-47e6-9d61-b1ff5ead21b8\n"
     ]
    },
    {
     "name": "stderr",
     "output_type": "stream",
     "text": [
      "Extrayendo datos:  18%|█▊        | 90/500 [12:37<57:44,  8.45s/it]"
     ]
    },
    {
     "name": "stdout",
     "output_type": "stream",
     "text": [
      "No se encontró el botón de traducción.\n",
      "Accediendo a: https://www.airbnb.es/rooms/52047578?adults=1&children=0&enable_m3_private_room=true&infants=0&pets=0&search_mode=regular_search&check_in=2025-01-11&check_out=2025-01-16&source_impression_id=p3_1730726899_P3AfSS4GFLqCAhrn&previous_page_section_name=1000&federated_search_id=b4225908-c3dc-4060-aeab-5ac20fdc639e\n"
     ]
    },
    {
     "name": "stderr",
     "output_type": "stream",
     "text": [
      "Extrayendo datos:  18%|█▊        | 91/500 [12:45<57:32,  8.44s/it]"
     ]
    },
    {
     "name": "stdout",
     "output_type": "stream",
     "text": [
      "No se encontró el botón de traducción.\n",
      "Accediendo a: https://www.airbnb.es/rooms/1227947729562300326?adults=1&category_tag=Tag%3A8678&children=0&enable_m3_private_room=true&infants=0&pets=0&photo_id=1978992110&search_mode=regular_search&check_in=2024-11-09&check_out=2024-11-14&source_impression_id=p3_1730726899_P3KZ9FOFGDu1k2dZ&previous_page_section_name=1000&federated_search_id=b4225908-c3dc-4060-aeab-5ac20fdc639e\n",
      "No se encontró el botón de traducción.\n"
     ]
    },
    {
     "name": "stderr",
     "output_type": "stream",
     "text": [
      "Extrayendo datos:  18%|█▊        | 92/500 [12:54<57:31,  8.46s/it]"
     ]
    },
    {
     "name": "stdout",
     "output_type": "stream",
     "text": [
      "Accediendo a: https://www.airbnb.es/rooms/696150929415709314?adults=1&category_tag=Tag%3A8678&children=0&enable_m3_private_room=true&infants=0&pets=0&photo_id=2016824537&search_mode=regular_search&check_in=2024-11-07&check_out=2024-11-12&source_impression_id=p3_1730726899_P3gi2FchmauErG1U&previous_page_section_name=1000&federated_search_id=b4225908-c3dc-4060-aeab-5ac20fdc639e\n"
     ]
    },
    {
     "name": "stderr",
     "output_type": "stream",
     "text": [
      "Extrayendo datos:  19%|█▊        | 93/500 [13:02<57:25,  8.47s/it]"
     ]
    },
    {
     "name": "stdout",
     "output_type": "stream",
     "text": [
      "No se encontró el botón de traducción.\n",
      "Accediendo a: https://www.airbnb.es/rooms/1147692746401940575?adults=1&category_tag=Tag%3A8678&children=0&enable_m3_private_room=true&infants=0&pets=0&photo_id=1897406461&search_mode=regular_search&check_in=2024-11-09&check_out=2024-11-14&source_impression_id=p3_1730726899_P3CWDIgWNFlx9rOx&previous_page_section_name=1000&federated_search_id=b4225908-c3dc-4060-aeab-5ac20fdc639e\n"
     ]
    },
    {
     "name": "stderr",
     "output_type": "stream",
     "text": [
      "Extrayendo datos:  19%|█▉        | 94/500 [13:11<57:12,  8.46s/it]"
     ]
    },
    {
     "name": "stdout",
     "output_type": "stream",
     "text": [
      "No se encontró el botón de traducción.\n",
      "Accediendo a: https://www.airbnb.es/rooms/878759262826963543?adults=1&children=0&enable_m3_private_room=true&infants=0&pets=0&search_mode=regular_search&check_in=2024-11-25&check_out=2024-11-30&source_impression_id=p3_1730726899_P3dzjXfh_OtUSsfR&previous_page_section_name=1000&federated_search_id=b4225908-c3dc-4060-aeab-5ac20fdc639e\n"
     ]
    },
    {
     "name": "stderr",
     "output_type": "stream",
     "text": [
      "Extrayendo datos:  19%|█▉        | 95/500 [13:19<57:01,  8.45s/it]"
     ]
    },
    {
     "name": "stdout",
     "output_type": "stream",
     "text": [
      "No se encontró el botón de traducción.\n",
      "Accediendo a: https://www.airbnb.es/rooms/1239920055875442315?adults=1&category_tag=Tag%3A8678&children=0&enable_m3_private_room=true&infants=0&pets=0&photo_id=2016940308&search_mode=regular_search&check_in=2024-11-25&check_out=2024-11-30&source_impression_id=p3_1730726899_P35lClkbdwu53Hyq&previous_page_section_name=1000&federated_search_id=b4225908-c3dc-4060-aeab-5ac20fdc639e\n",
      "No se encontró el botón de traducción.\n"
     ]
    },
    {
     "name": "stderr",
     "output_type": "stream",
     "text": [
      "Extrayendo datos:  19%|█▉        | 96/500 [13:28<57:03,  8.48s/it]"
     ]
    },
    {
     "name": "stdout",
     "output_type": "stream",
     "text": [
      "Accediendo a: https://www.airbnb.es/rooms/563553175219651122?adults=1&children=0&enable_m3_private_room=true&infants=0&pets=0&search_mode=regular_search&check_in=2024-11-04&check_out=2024-11-09&source_impression_id=p3_1730726899_P3Txthh9JVuiJG4O&previous_page_section_name=1000&federated_search_id=b4225908-c3dc-4060-aeab-5ac20fdc639e\n"
     ]
    },
    {
     "name": "stderr",
     "output_type": "stream",
     "text": [
      "Extrayendo datos:  19%|█▉        | 97/500 [13:36<56:47,  8.45s/it]"
     ]
    },
    {
     "name": "stdout",
     "output_type": "stream",
     "text": [
      "No se encontró el botón de traducción.\n",
      "Accediendo a: https://www.airbnb.es/rooms/26766150?adults=1&children=0&enable_m3_private_room=true&infants=0&pets=0&search_mode=regular_search&check_in=2024-11-17&check_out=2024-11-22&source_impression_id=p3_1730726899_P3T5QudEn1tpOmjl&previous_page_section_name=1000&federated_search_id=b4225908-c3dc-4060-aeab-5ac20fdc639e\n"
     ]
    },
    {
     "name": "stderr",
     "output_type": "stream",
     "text": [
      "Extrayendo datos:  20%|█▉        | 98/500 [13:45<56:36,  8.45s/it]"
     ]
    },
    {
     "name": "stdout",
     "output_type": "stream",
     "text": [
      "No se encontró el botón de traducción.\n",
      "Accediendo a: https://www.airbnb.es/rooms/52047123?adults=1&children=0&enable_m3_private_room=true&infants=0&pets=0&search_mode=regular_search&check_in=2025-01-06&check_out=2025-01-11&source_impression_id=p3_1730726899_P3f4zCQSm5h-VYx2&previous_page_section_name=1000&federated_search_id=b4225908-c3dc-4060-aeab-5ac20fdc639e\n"
     ]
    },
    {
     "name": "stderr",
     "output_type": "stream",
     "text": [
      "Extrayendo datos:  20%|█▉        | 99/500 [13:53<56:33,  8.46s/it]"
     ]
    },
    {
     "name": "stdout",
     "output_type": "stream",
     "text": [
      "No se encontró el botón de traducción.\n",
      "Accediendo a: https://www.airbnb.es/rooms/39788335?adults=1&category_tag=Tag%3A8678&children=0&enable_m3_private_room=true&infants=0&pets=0&photo_id=1721184194&search_mode=regular_search&check_in=2024-11-28&check_out=2024-12-03&source_impression_id=p3_1730726899_P3BDrtG6cYYwkqK6&previous_page_section_name=1000&federated_search_id=b4225908-c3dc-4060-aeab-5ac20fdc639e\n",
      "No se encontró el botón de traducción.\n"
     ]
    },
    {
     "name": "stderr",
     "output_type": "stream",
     "text": [
      "Extrayendo datos:  20%|██        | 100/500 [14:02<56:27,  8.47s/it]"
     ]
    },
    {
     "name": "stdout",
     "output_type": "stream",
     "text": [
      "Accediendo a: https://www.airbnb.es/rooms/1238177754017283587?adults=1&children=0&enable_m3_private_room=true&infants=0&pets=0&search_mode=regular_search&check_in=2024-11-10&check_out=2024-11-15&source_impression_id=p3_1730726899_P39nldSMxJ60ovFx&previous_page_section_name=1000&federated_search_id=b4225908-c3dc-4060-aeab-5ac20fdc639e\n"
     ]
    },
    {
     "name": "stderr",
     "output_type": "stream",
     "text": [
      "Extrayendo datos:  20%|██        | 101/500 [14:10<56:13,  8.46s/it]"
     ]
    },
    {
     "name": "stdout",
     "output_type": "stream",
     "text": [
      "No se encontró el botón de traducción.\n",
      "Accediendo a: https://www.airbnb.es/rooms/950039730069038028?adults=1&category_tag=Tag%3A8678&children=0&enable_m3_private_room=true&infants=0&pets=0&photo_id=1998713208&search_mode=regular_search&check_in=2024-11-25&check_out=2024-11-30&source_impression_id=p3_1730726899_P3VN2EtcI6a0YvVV&previous_page_section_name=1000&federated_search_id=b4225908-c3dc-4060-aeab-5ac20fdc639e\n"
     ]
    },
    {
     "name": "stderr",
     "output_type": "stream",
     "text": [
      "Extrayendo datos:  20%|██        | 102/500 [14:19<56:08,  8.46s/it]"
     ]
    },
    {
     "name": "stdout",
     "output_type": "stream",
     "text": [
      "No se encontró el botón de traducción.\n",
      "Accediendo a: https://www.airbnb.es/rooms/1737505?adults=1&children=0&enable_m3_private_room=true&infants=0&pets=0&search_mode=regular_search&check_in=2024-12-09&check_out=2024-12-14&source_impression_id=p3_1730726899_P3Ii0z80aSTOhJbR&previous_page_section_name=1000&federated_search_id=b4225908-c3dc-4060-aeab-5ac20fdc639e\n"
     ]
    },
    {
     "name": "stderr",
     "output_type": "stream",
     "text": [
      "Extrayendo datos:  21%|██        | 103/500 [14:27<55:53,  8.45s/it]"
     ]
    },
    {
     "name": "stdout",
     "output_type": "stream",
     "text": [
      "No se encontró el botón de traducción.\n",
      "Accediendo a: https://www.airbnb.es/rooms/53056356?adults=1&children=0&enable_m3_private_room=true&infants=0&pets=0&search_mode=regular_search&check_in=2024-12-08&check_out=2024-12-13&source_impression_id=p3_1730726899_P3D1_lEuBLSP5ZEu&previous_page_section_name=1000&federated_search_id=b4225908-c3dc-4060-aeab-5ac20fdc639e\n",
      "No se encontró el botón de traducción.\n"
     ]
    },
    {
     "name": "stderr",
     "output_type": "stream",
     "text": [
      "Extrayendo datos:  21%|██        | 104/500 [14:35<55:49,  8.46s/it]"
     ]
    },
    {
     "name": "stdout",
     "output_type": "stream",
     "text": [
      "Accediendo a: https://www.airbnb.es/rooms/31482730?adults=1&children=0&enable_m3_private_room=true&infants=0&pets=0&search_mode=regular_search&check_in=2024-12-16&check_out=2024-12-21&source_impression_id=p3_1730726899_P37KLs_8AYsu2MFF&previous_page_section_name=1000&federated_search_id=b4225908-c3dc-4060-aeab-5ac20fdc639e\n"
     ]
    },
    {
     "name": "stderr",
     "output_type": "stream",
     "text": [
      "Extrayendo datos:  21%|██        | 105/500 [14:44<55:46,  8.47s/it]"
     ]
    },
    {
     "name": "stdout",
     "output_type": "stream",
     "text": [
      "No se encontró el botón de traducción.\n",
      "Accediendo a: https://www.airbnb.es/rooms/2439919?adults=1&children=0&enable_m3_private_room=true&infants=0&pets=0&search_mode=regular_search&check_in=2024-12-08&check_out=2024-12-13&source_impression_id=p3_1730726899_P3B4bkmpPmLZq0Ud&previous_page_section_name=1000&federated_search_id=b4225908-c3dc-4060-aeab-5ac20fdc639e\n"
     ]
    },
    {
     "name": "stderr",
     "output_type": "stream",
     "text": [
      "Extrayendo datos:  21%|██        | 106/500 [14:52<55:40,  8.48s/it]"
     ]
    },
    {
     "name": "stdout",
     "output_type": "stream",
     "text": [
      "No se encontró el botón de traducción.\n",
      "Accediendo a: https://www.airbnb.es/rooms/3512999?adults=1&children=0&enable_m3_private_room=true&infants=0&pets=0&search_mode=regular_search&check_in=2024-11-10&check_out=2024-11-15&source_impression_id=p3_1730726899_P36dlrTqOQsfFG37&previous_page_section_name=1000&federated_search_id=b4225908-c3dc-4060-aeab-5ac20fdc639e\n"
     ]
    },
    {
     "name": "stderr",
     "output_type": "stream",
     "text": [
      "Extrayendo datos:  21%|██▏       | 107/500 [15:01<55:27,  8.47s/it]"
     ]
    },
    {
     "name": "stdout",
     "output_type": "stream",
     "text": [
      "No se encontró el botón de traducción.\n",
      "Accediendo a: https://www.airbnb.es/rooms/3144104?adults=1&children=0&enable_m3_private_room=true&infants=0&pets=0&search_mode=regular_search&check_in=2024-12-08&check_out=2024-12-13&source_impression_id=p3_1730726899_P3m1uPcUI-mJWHgD&previous_page_section_name=1000&federated_search_id=b4225908-c3dc-4060-aeab-5ac20fdc639e\n",
      "No se encontró el botón de traducción.\n"
     ]
    },
    {
     "name": "stderr",
     "output_type": "stream",
     "text": [
      "Extrayendo datos:  22%|██▏       | 108/500 [15:09<55:32,  8.50s/it]"
     ]
    },
    {
     "name": "stdout",
     "output_type": "stream",
     "text": [
      "Accediendo a: https://www.airbnb.es/rooms/1252655664051909932?adults=1&category_tag=Tag%3A8678&children=0&enable_m3_private_room=true&infants=0&pets=0&photo_id=1999365597&search_mode=regular_search&check_in=2024-11-12&check_out=2024-11-17&source_impression_id=p3_1730726903_P3nfhzmbEHkLyKxO&previous_page_section_name=1000&federated_search_id=2ceed9fb-c582-465b-b5f2-597bd7acbd55\n"
     ]
    },
    {
     "name": "stderr",
     "output_type": "stream",
     "text": [
      "Extrayendo datos:  22%|██▏       | 109/500 [15:18<55:23,  8.50s/it]"
     ]
    },
    {
     "name": "stdout",
     "output_type": "stream",
     "text": [
      "No se encontró el botón de traducción.\n",
      "Accediendo a: https://www.airbnb.es/rooms/39772949?adults=1&category_tag=Tag%3A8678&children=0&enable_m3_private_room=true&infants=0&pets=0&photo_id=1608452292&search_mode=regular_search&check_in=2024-12-15&check_out=2024-12-20&source_impression_id=p3_1730726903_P3N2sVDDLxX3LuZS&previous_page_section_name=1000&federated_search_id=2ceed9fb-c582-465b-b5f2-597bd7acbd55\n"
     ]
    },
    {
     "name": "stderr",
     "output_type": "stream",
     "text": [
      "Extrayendo datos:  22%|██▏       | 110/500 [15:27<55:28,  8.54s/it]"
     ]
    },
    {
     "name": "stdout",
     "output_type": "stream",
     "text": [
      "No se encontró el botón de traducción.\n",
      "Accediendo a: https://www.airbnb.es/rooms/1260943457657919926?adults=1&category_tag=Tag%3A8678&children=0&enable_m3_private_room=true&infants=0&pets=0&photo_id=2006562404&search_mode=regular_search&check_in=2024-11-16&check_out=2024-11-21&source_impression_id=p3_1730726903_P3-Kq05xWj_l1ig4&previous_page_section_name=1000&federated_search_id=2ceed9fb-c582-465b-b5f2-597bd7acbd55\n"
     ]
    },
    {
     "name": "stderr",
     "output_type": "stream",
     "text": [
      "Extrayendo datos:  22%|██▏       | 111/500 [15:35<55:05,  8.50s/it]"
     ]
    },
    {
     "name": "stdout",
     "output_type": "stream",
     "text": [
      "No se encontró el botón de traducción.\n",
      "Accediendo a: https://www.airbnb.es/rooms/31301994?adults=1&children=0&enable_m3_private_room=true&infants=0&pets=0&search_mode=regular_search&check_in=2024-11-24&check_out=2024-11-29&source_impression_id=p3_1730726903_P3TJn2uJdgrJefvt&previous_page_section_name=1000&federated_search_id=2ceed9fb-c582-465b-b5f2-597bd7acbd55\n",
      "No se encontró el botón de traducción.\n"
     ]
    },
    {
     "name": "stderr",
     "output_type": "stream",
     "text": [
      "Extrayendo datos:  22%|██▏       | 112/500 [15:43<54:55,  8.49s/it]"
     ]
    },
    {
     "name": "stdout",
     "output_type": "stream",
     "text": [
      "Accediendo a: https://www.airbnb.es/rooms/18913927?adults=1&category_tag=Tag%3A8678&children=0&enable_m3_private_room=true&infants=0&pets=0&photo_id=315346761&search_mode=regular_search&check_in=2024-11-29&check_out=2024-12-04&source_impression_id=p3_1730726903_P3xEe4KiECWrPT_f&previous_page_section_name=1000&federated_search_id=2ceed9fb-c582-465b-b5f2-597bd7acbd55\n"
     ]
    },
    {
     "name": "stderr",
     "output_type": "stream",
     "text": [
      "Extrayendo datos:  23%|██▎       | 113/500 [15:52<54:49,  8.50s/it]"
     ]
    },
    {
     "name": "stdout",
     "output_type": "stream",
     "text": [
      "No se encontró el botón de traducción.\n",
      "Accediendo a: https://www.airbnb.es/rooms/1250094269381769091?adults=1&category_tag=Tag%3A8678&children=0&enable_m3_private_room=true&infants=0&pets=0&photo_id=2019025467&search_mode=regular_search&check_in=2024-11-06&check_out=2024-11-11&source_impression_id=p3_1730726903_P3ymKCF_lcMsne6z&previous_page_section_name=1000&federated_search_id=2ceed9fb-c582-465b-b5f2-597bd7acbd55\n"
     ]
    },
    {
     "name": "stderr",
     "output_type": "stream",
     "text": [
      "Extrayendo datos:  23%|██▎       | 114/500 [16:00<54:25,  8.46s/it]"
     ]
    },
    {
     "name": "stdout",
     "output_type": "stream",
     "text": [
      "No se encontró el botón de traducción.\n",
      "Accediendo a: https://www.airbnb.es/rooms/1192853810979635706?adults=1&category_tag=Tag%3A8678&children=0&enable_m3_private_room=true&infants=0&pets=0&photo_id=1944761166&search_mode=regular_search&check_in=2024-11-18&check_out=2024-11-23&source_impression_id=p3_1730726903_P3aUswv0fA7iaV-m&previous_page_section_name=1000&federated_search_id=2ceed9fb-c582-465b-b5f2-597bd7acbd55\n"
     ]
    },
    {
     "name": "stderr",
     "output_type": "stream",
     "text": [
      "Extrayendo datos:  23%|██▎       | 115/500 [16:09<54:12,  8.45s/it]"
     ]
    },
    {
     "name": "stdout",
     "output_type": "stream",
     "text": [
      "No se encontró el botón de traducción.\n",
      "Accediendo a: https://www.airbnb.es/rooms/1277705142024688819?adults=1&category_tag=Tag%3A8678&children=0&enable_m3_private_room=true&infants=0&pets=0&photo_id=2019829020&search_mode=regular_search&check_in=2024-11-05&check_out=2024-11-10&source_impression_id=p3_1730726903_P3wC10Fo7-krCnib&previous_page_section_name=1000&federated_search_id=2ceed9fb-c582-465b-b5f2-597bd7acbd55\n"
     ]
    },
    {
     "name": "stderr",
     "output_type": "stream",
     "text": [
      "Extrayendo datos:  23%|██▎       | 116/500 [16:17<54:04,  8.45s/it]"
     ]
    },
    {
     "name": "stdout",
     "output_type": "stream",
     "text": [
      "No se encontró el botón de traducción.\n",
      "Accediendo a: https://www.airbnb.es/rooms/1262852403010459443?adults=1&category_tag=Tag%3A8678&children=0&enable_m3_private_room=true&infants=0&pets=0&photo_id=2008038091&search_mode=regular_search&check_in=2024-12-14&check_out=2024-12-19&source_impression_id=p3_1730726903_P33MyG7KwY6XUVYi&previous_page_section_name=1000&federated_search_id=2ceed9fb-c582-465b-b5f2-597bd7acbd55\n"
     ]
    },
    {
     "name": "stderr",
     "output_type": "stream",
     "text": [
      "Extrayendo datos:  23%|██▎       | 117/500 [16:26<53:56,  8.45s/it]"
     ]
    },
    {
     "name": "stdout",
     "output_type": "stream",
     "text": [
      "No se encontró el botón de traducción.\n",
      "Accediendo a: https://www.airbnb.es/rooms/1260094358313659968?adults=1&children=0&enable_m3_private_room=true&infants=0&pets=0&search_mode=regular_search&check_in=2024-11-07&check_out=2024-11-12&source_impression_id=p3_1730726903_P3etAvkxKDoHC-G9&previous_page_section_name=1000&federated_search_id=2ceed9fb-c582-465b-b5f2-597bd7acbd55\n"
     ]
    },
    {
     "name": "stderr",
     "output_type": "stream",
     "text": [
      "Extrayendo datos:  24%|██▎       | 118/500 [16:34<53:41,  8.43s/it]"
     ]
    },
    {
     "name": "stdout",
     "output_type": "stream",
     "text": [
      "No se encontró el botón de traducción.\n",
      "Accediendo a: https://www.airbnb.es/rooms/1109989?adults=1&children=0&enable_m3_private_room=true&infants=0&pets=0&search_mode=regular_search&check_in=2024-11-13&check_out=2024-11-18&source_impression_id=p3_1730726903_P3w4QEqFxerM-WZd&previous_page_section_name=1000&federated_search_id=2ceed9fb-c582-465b-b5f2-597bd7acbd55\n"
     ]
    },
    {
     "name": "stderr",
     "output_type": "stream",
     "text": [
      "Extrayendo datos:  24%|██▍       | 119/500 [16:42<53:30,  8.43s/it]"
     ]
    },
    {
     "name": "stdout",
     "output_type": "stream",
     "text": [
      "No se encontró el botón de traducción.\n",
      "Accediendo a: https://www.airbnb.es/rooms/33578553?adults=1&children=0&enable_m3_private_room=true&infants=0&pets=0&search_mode=regular_search&check_in=2024-11-18&check_out=2024-11-25&source_impression_id=p3_1730726903_P3TD1ptNmxX_nx-3&previous_page_section_name=1000&federated_search_id=2ceed9fb-c582-465b-b5f2-597bd7acbd55\n"
     ]
    },
    {
     "name": "stderr",
     "output_type": "stream",
     "text": [
      "Extrayendo datos:  24%|██▍       | 120/500 [16:51<53:30,  8.45s/it]"
     ]
    },
    {
     "name": "stdout",
     "output_type": "stream",
     "text": [
      "No se encontró el botón de traducción.\n",
      "Accediendo a: https://www.airbnb.es/rooms/1102583562378842806?adults=1&category_tag=Tag%3A8678&children=0&enable_m3_private_room=true&infants=0&pets=0&photo_id=2014221738&search_mode=regular_search&check_in=2024-11-10&check_out=2024-11-15&source_impression_id=p3_1730726903_P3qmI8obE5doDwZI&previous_page_section_name=1000&federated_search_id=2ceed9fb-c582-465b-b5f2-597bd7acbd55\n"
     ]
    },
    {
     "name": "stderr",
     "output_type": "stream",
     "text": [
      "Extrayendo datos:  24%|██▍       | 121/500 [17:00<53:33,  8.48s/it]"
     ]
    },
    {
     "name": "stdout",
     "output_type": "stream",
     "text": [
      "No se encontró el botón de traducción.\n",
      "Accediendo a: https://www.airbnb.es/rooms/656746284190714271?adults=1&category_tag=Tag%3A8678&children=0&enable_m3_private_room=true&infants=0&pets=0&photo_id=1595203017&search_mode=regular_search&check_in=2024-11-25&check_out=2024-11-30&source_impression_id=p3_1730726903_P3CAknUpELqAtls7&previous_page_section_name=1000&federated_search_id=2ceed9fb-c582-465b-b5f2-597bd7acbd55\n"
     ]
    },
    {
     "name": "stderr",
     "output_type": "stream",
     "text": [
      "Extrayendo datos:  24%|██▍       | 122/500 [17:08<53:18,  8.46s/it]"
     ]
    },
    {
     "name": "stdout",
     "output_type": "stream",
     "text": [
      "No se encontró el botón de traducción.\n",
      "Accediendo a: https://www.airbnb.es/rooms/42918242?adults=1&children=0&enable_m3_private_room=true&infants=0&pets=0&search_mode=regular_search&check_in=2024-11-04&check_out=2024-11-09&source_impression_id=p3_1730726903_P3EJqmcijDcnaUZv&previous_page_section_name=1000&federated_search_id=2ceed9fb-c582-465b-b5f2-597bd7acbd55\n"
     ]
    },
    {
     "name": "stderr",
     "output_type": "stream",
     "text": [
      "Extrayendo datos:  25%|██▍       | 123/500 [17:16<53:02,  8.44s/it]"
     ]
    },
    {
     "name": "stdout",
     "output_type": "stream",
     "text": [
      "No se encontró el botón de traducción.\n",
      "Accediendo a: https://www.airbnb.es/rooms/1207219454903654695?adults=1&children=0&enable_m3_private_room=true&infants=0&pets=0&search_mode=regular_search&check_in=2024-12-07&check_out=2024-12-12&source_impression_id=p3_1730726903_P3QehrrGOCboz5Om&previous_page_section_name=1000&federated_search_id=2ceed9fb-c582-465b-b5f2-597bd7acbd55\n"
     ]
    },
    {
     "name": "stderr",
     "output_type": "stream",
     "text": [
      "Extrayendo datos:  25%|██▍       | 124/500 [17:25<52:56,  8.45s/it]"
     ]
    },
    {
     "name": "stdout",
     "output_type": "stream",
     "text": [
      "No se encontró el botón de traducción.\n",
      "Accediendo a: https://www.airbnb.es/rooms/1212352665402231812?adults=1&children=0&enable_m3_private_room=true&infants=0&pets=0&search_mode=regular_search&check_in=2024-11-17&check_out=2024-11-22&source_impression_id=p3_1730726903_P3zKFoJgBGSkt033&previous_page_section_name=1000&federated_search_id=2ceed9fb-c582-465b-b5f2-597bd7acbd55\n",
      "No se encontró el botón de traducción.\n"
     ]
    },
    {
     "name": "stderr",
     "output_type": "stream",
     "text": [
      "Extrayendo datos:  25%|██▌       | 125/500 [17:33<52:49,  8.45s/it]"
     ]
    },
    {
     "name": "stdout",
     "output_type": "stream",
     "text": [
      "Accediendo a: https://www.airbnb.es/rooms/24343358?adults=1&children=0&enable_m3_private_room=true&infants=0&pets=0&search_mode=regular_search&check_in=2024-12-01&check_out=2024-12-06&source_impression_id=p3_1730726903_P3m3JySNaHI2zvQw&previous_page_section_name=1000&federated_search_id=2ceed9fb-c582-465b-b5f2-597bd7acbd55\n"
     ]
    },
    {
     "name": "stderr",
     "output_type": "stream",
     "text": [
      "Extrayendo datos:  25%|██▌       | 126/500 [17:42<52:37,  8.44s/it]"
     ]
    },
    {
     "name": "stdout",
     "output_type": "stream",
     "text": [
      "No se encontró el botón de traducción.\n",
      "Accediendo a: https://www.airbnb.es/rooms/1199066975770288099?adults=1&category_tag=Tag%3A8678&children=0&enable_m3_private_room=true&infants=0&pets=0&photo_id=1968633287&search_mode=regular_search&check_in=2024-11-16&check_out=2024-11-21&source_impression_id=p3_1730726908_P3lgXuh7Uby0bW_o&previous_page_section_name=1000&federated_search_id=5abd0a6d-5fc6-452a-b645-372e0f0660d9\n"
     ]
    },
    {
     "name": "stderr",
     "output_type": "stream",
     "text": [
      "Extrayendo datos:  25%|██▌       | 127/500 [17:50<52:28,  8.44s/it]"
     ]
    },
    {
     "name": "stdout",
     "output_type": "stream",
     "text": [
      "No se encontró el botón de traducción.\n",
      "Accediendo a: https://www.airbnb.es/rooms/52047182?adults=1&children=0&enable_m3_private_room=true&infants=0&pets=0&search_mode=regular_search&check_in=2025-01-02&check_out=2025-01-07&source_impression_id=p3_1730726908_P3TEbxnBv8HD9ial&previous_page_section_name=1000&federated_search_id=5abd0a6d-5fc6-452a-b645-372e0f0660d9\n"
     ]
    },
    {
     "name": "stderr",
     "output_type": "stream",
     "text": [
      "Extrayendo datos:  26%|██▌       | 128/500 [17:59<52:20,  8.44s/it]"
     ]
    },
    {
     "name": "stdout",
     "output_type": "stream",
     "text": [
      "No se encontró el botón de traducción.\n",
      "Accediendo a: https://www.airbnb.es/rooms/34296498?adults=1&children=0&enable_m3_private_room=true&infants=0&pets=0&search_mode=regular_search&check_in=2024-11-04&check_out=2024-11-09&source_impression_id=p3_1730726908_P3bar0QkoGwQpmiM&previous_page_section_name=1000&federated_search_id=5abd0a6d-5fc6-452a-b645-372e0f0660d9\n",
      "No se encontró el botón de traducción.\n"
     ]
    },
    {
     "name": "stderr",
     "output_type": "stream",
     "text": [
      "Extrayendo datos:  26%|██▌       | 129/500 [18:07<52:22,  8.47s/it]"
     ]
    },
    {
     "name": "stdout",
     "output_type": "stream",
     "text": [
      "Accediendo a: https://www.airbnb.es/rooms/52319428?adults=1&children=0&enable_m3_private_room=true&infants=0&pets=0&search_mode=regular_search&check_in=2024-12-10&check_out=2024-12-15&source_impression_id=p3_1730726908_P3LqqryhRSKcmv9t&previous_page_section_name=1000&federated_search_id=5abd0a6d-5fc6-452a-b645-372e0f0660d9\n"
     ]
    },
    {
     "name": "stderr",
     "output_type": "stream",
     "text": [
      "Extrayendo datos:  26%|██▌       | 130/500 [18:16<52:09,  8.46s/it]"
     ]
    },
    {
     "name": "stdout",
     "output_type": "stream",
     "text": [
      "No se encontró el botón de traducción.\n",
      "Accediendo a: https://www.airbnb.es/rooms/1128458021982193302?adults=1&children=0&enable_m3_private_room=true&infants=0&pets=0&search_mode=regular_search&check_in=2024-11-10&check_out=2024-11-15&source_impression_id=p3_1730726908_P36RR1Vq4vUnFKmJ&previous_page_section_name=1000&federated_search_id=5abd0a6d-5fc6-452a-b645-372e0f0660d9\n"
     ]
    },
    {
     "name": "stderr",
     "output_type": "stream",
     "text": [
      "Extrayendo datos:  26%|██▌       | 131/500 [18:24<52:03,  8.47s/it]"
     ]
    },
    {
     "name": "stdout",
     "output_type": "stream",
     "text": [
      "No se encontró el botón de traducción.\n",
      "Accediendo a: https://www.airbnb.es/rooms/8880938?adults=1&children=0&enable_m3_private_room=true&infants=0&pets=0&search_mode=regular_search&check_in=2024-11-17&check_out=2024-11-22&source_impression_id=p3_1730726908_P3Kj6ZATvlgYafQI&previous_page_section_name=1000&federated_search_id=5abd0a6d-5fc6-452a-b645-372e0f0660d9\n"
     ]
    },
    {
     "name": "stderr",
     "output_type": "stream",
     "text": [
      "Extrayendo datos:  26%|██▋       | 132/500 [18:33<52:01,  8.48s/it]"
     ]
    },
    {
     "name": "stdout",
     "output_type": "stream",
     "text": [
      "No se encontró el botón de traducción.\n",
      "Accediendo a: https://www.airbnb.es/rooms/1191419611163489472?adults=1&children=0&enable_m3_private_room=true&infants=0&pets=0&search_mode=regular_search&check_in=2024-11-10&check_out=2024-11-15&source_impression_id=p3_1730726908_P3rgpWxTAa6k1eHC&previous_page_section_name=1000&federated_search_id=5abd0a6d-5fc6-452a-b645-372e0f0660d9\n"
     ]
    },
    {
     "name": "stderr",
     "output_type": "stream",
     "text": [
      "Extrayendo datos:  27%|██▋       | 133/500 [18:41<51:57,  8.50s/it]"
     ]
    },
    {
     "name": "stdout",
     "output_type": "stream",
     "text": [
      "No se encontró el botón de traducción.\n",
      "Accediendo a: https://www.airbnb.es/rooms/20433221?adults=1&children=0&enable_m3_private_room=true&infants=0&pets=0&search_mode=regular_search&check_in=2024-12-14&check_out=2024-12-21&source_impression_id=p3_1730726908_P3_IoH5nbKkDwf07&previous_page_section_name=1000&federated_search_id=5abd0a6d-5fc6-452a-b645-372e0f0660d9\n"
     ]
    },
    {
     "name": "stderr",
     "output_type": "stream",
     "text": [
      "Extrayendo datos:  27%|██▋       | 134/500 [18:50<51:42,  8.48s/it]"
     ]
    },
    {
     "name": "stdout",
     "output_type": "stream",
     "text": [
      "No se encontró el botón de traducción.\n",
      "Accediendo a: https://www.airbnb.es/rooms/25364321?adults=1&children=0&enable_m3_private_room=true&infants=0&pets=0&search_mode=regular_search&check_in=2024-12-01&check_out=2024-12-06&source_impression_id=p3_1730726908_P3sxVOLaWEZGI0_1&previous_page_section_name=1000&federated_search_id=5abd0a6d-5fc6-452a-b645-372e0f0660d9\n"
     ]
    },
    {
     "name": "stderr",
     "output_type": "stream",
     "text": [
      "Extrayendo datos:  27%|██▋       | 135/500 [18:58<51:35,  8.48s/it]"
     ]
    },
    {
     "name": "stdout",
     "output_type": "stream",
     "text": [
      "No se encontró el botón de traducción.\n",
      "Accediendo a: https://www.airbnb.es/rooms/878746003499728024?adults=1&children=0&enable_m3_private_room=true&infants=0&pets=0&search_mode=regular_search&check_in=2024-12-01&check_out=2024-12-06&source_impression_id=p3_1730726908_P34H0Wvhsu3klB-c&previous_page_section_name=1000&federated_search_id=5abd0a6d-5fc6-452a-b645-372e0f0660d9\n"
     ]
    },
    {
     "name": "stderr",
     "output_type": "stream",
     "text": [
      "Extrayendo datos:  27%|██▋       | 136/500 [19:06<51:27,  8.48s/it]"
     ]
    },
    {
     "name": "stdout",
     "output_type": "stream",
     "text": [
      "No se encontró el botón de traducción.\n",
      "Accediendo a: https://www.airbnb.es/rooms/1253648186710032597?adults=1&children=0&enable_m3_private_room=true&infants=0&pets=0&search_mode=regular_search&check_in=2024-11-24&check_out=2024-11-29&source_impression_id=p3_1730726908_P3Bl_7gAFuorNukn&previous_page_section_name=1000&federated_search_id=5abd0a6d-5fc6-452a-b645-372e0f0660d9\n",
      "No se encontró el botón de traducción.\n"
     ]
    },
    {
     "name": "stderr",
     "output_type": "stream",
     "text": [
      "Extrayendo datos:  27%|██▋       | 137/500 [19:15<51:15,  8.47s/it]"
     ]
    },
    {
     "name": "stdout",
     "output_type": "stream",
     "text": [
      "Accediendo a: https://www.airbnb.es/rooms/12693694?adults=1&children=0&enable_m3_private_room=true&infants=0&pets=0&search_mode=regular_search&check_in=2024-11-16&check_out=2024-11-21&source_impression_id=p3_1730726908_P3kqdtaBxNpu-G4C&previous_page_section_name=1000&federated_search_id=5abd0a6d-5fc6-452a-b645-372e0f0660d9\n"
     ]
    },
    {
     "name": "stderr",
     "output_type": "stream",
     "text": [
      "Extrayendo datos:  28%|██▊       | 138/500 [19:23<51:04,  8.47s/it]"
     ]
    },
    {
     "name": "stdout",
     "output_type": "stream",
     "text": [
      "No se encontró el botón de traducción.\n",
      "Accediendo a: https://www.airbnb.es/rooms/41904435?adults=1&category_tag=Tag%3A8678&children=0&enable_m3_private_room=true&infants=0&pets=0&photo_id=1653557675&search_mode=regular_search&check_in=2024-11-11&check_out=2024-11-16&source_impression_id=p3_1730726908_P3StetfQ9s2ANf1V&previous_page_section_name=1000&federated_search_id=5abd0a6d-5fc6-452a-b645-372e0f0660d9\n"
     ]
    },
    {
     "name": "stderr",
     "output_type": "stream",
     "text": [
      "Extrayendo datos:  28%|██▊       | 139/500 [19:32<51:00,  8.48s/it]"
     ]
    },
    {
     "name": "stdout",
     "output_type": "stream",
     "text": [
      "No se encontró el botón de traducción.\n",
      "Accediendo a: https://www.airbnb.es/rooms/1259382773193877348?adults=1&category_tag=Tag%3A8678&children=0&enable_m3_private_room=true&infants=0&pets=0&photo_id=2005305713&search_mode=regular_search&check_in=2024-11-25&check_out=2024-11-30&source_impression_id=p3_1730726908_P3dr6plT2mQmYV9e&previous_page_section_name=1000&federated_search_id=5abd0a6d-5fc6-452a-b645-372e0f0660d9\n"
     ]
    },
    {
     "name": "stderr",
     "output_type": "stream",
     "text": [
      "Extrayendo datos:  28%|██▊       | 140/500 [19:40<50:44,  8.46s/it]"
     ]
    },
    {
     "name": "stdout",
     "output_type": "stream",
     "text": [
      "No se encontró el botón de traducción.\n",
      "Accediendo a: https://www.airbnb.es/rooms/1123775217966601123?adults=1&children=0&enable_m3_private_room=true&infants=0&pets=0&search_mode=regular_search&check_in=2024-12-02&check_out=2024-12-07&source_impression_id=p3_1730726908_P3VaC5FNjXLrvfIW&previous_page_section_name=1000&federated_search_id=5abd0a6d-5fc6-452a-b645-372e0f0660d9\n"
     ]
    },
    {
     "name": "stderr",
     "output_type": "stream",
     "text": [
      "Extrayendo datos:  28%|██▊       | 141/500 [19:49<50:35,  8.45s/it]"
     ]
    },
    {
     "name": "stdout",
     "output_type": "stream",
     "text": [
      "No se encontró el botón de traducción.\n",
      "Accediendo a: https://www.airbnb.es/rooms/4216358?adults=1&children=0&enable_m3_private_room=true&infants=0&pets=0&search_mode=regular_search&check_in=2024-11-24&check_out=2024-11-29&source_impression_id=p3_1730726908_P3eIyEWteHMxRpSm&previous_page_section_name=1000&federated_search_id=5abd0a6d-5fc6-452a-b645-372e0f0660d9\n"
     ]
    },
    {
     "name": "stderr",
     "output_type": "stream",
     "text": [
      "Extrayendo datos:  28%|██▊       | 142/500 [19:57<50:30,  8.47s/it]"
     ]
    },
    {
     "name": "stdout",
     "output_type": "stream",
     "text": [
      "No se encontró el botón de traducción.\n",
      "Accediendo a: https://www.airbnb.es/rooms/878658347316285621?adults=1&children=0&enable_m3_private_room=true&infants=0&pets=0&search_mode=regular_search&check_in=2024-11-16&check_out=2024-11-21&source_impression_id=p3_1730726908_P3FFRga3B0sROALO&previous_page_section_name=1000&federated_search_id=5abd0a6d-5fc6-452a-b645-372e0f0660d9\n"
     ]
    },
    {
     "name": "stderr",
     "output_type": "stream",
     "text": [
      "Extrayendo datos:  29%|██▊       | 143/500 [20:06<50:24,  8.47s/it]"
     ]
    },
    {
     "name": "stdout",
     "output_type": "stream",
     "text": [
      "No se encontró el botón de traducción.\n",
      "Accediendo a: https://www.airbnb.es/rooms/1256437657006404870?adults=1&children=0&enable_m3_private_room=true&infants=0&pets=0&search_mode=regular_search&check_in=2024-11-12&check_out=2024-11-17&source_impression_id=p3_1730726908_P3K34IYHdCk4r-GA&previous_page_section_name=1000&federated_search_id=5abd0a6d-5fc6-452a-b645-372e0f0660d9\n"
     ]
    },
    {
     "name": "stderr",
     "output_type": "stream",
     "text": [
      "Extrayendo datos:  29%|██▉       | 144/500 [20:14<50:08,  8.45s/it]"
     ]
    },
    {
     "name": "stdout",
     "output_type": "stream",
     "text": [
      "No se encontró el botón de traducción.\n",
      "Accediendo a: https://www.airbnb.es/rooms/43918687?adults=1&children=0&enable_m3_private_room=true&infants=0&pets=0&search_mode=regular_search&check_in=2024-11-17&check_out=2024-11-22&source_impression_id=p3_1730726913_P3vcdk9RDX1CSGyA&previous_page_section_name=1000&federated_search_id=ee4b0e0e-dc1e-4588-b137-fb45dd06a313\n"
     ]
    },
    {
     "name": "stderr",
     "output_type": "stream",
     "text": [
      "Extrayendo datos:  29%|██▉       | 145/500 [20:23<49:56,  8.44s/it]"
     ]
    },
    {
     "name": "stdout",
     "output_type": "stream",
     "text": [
      "No se encontró el botón de traducción.\n",
      "Accediendo a: https://www.airbnb.es/rooms/12271535?adults=1&category_tag=Tag%3A8678&children=0&enable_m3_private_room=true&infants=0&pets=0&photo_id=141529929&search_mode=regular_search&check_in=2024-11-05&check_out=2024-11-10&source_impression_id=p3_1730726913_P3zgccrtciOXBvds&previous_page_section_name=1000&federated_search_id=ee4b0e0e-dc1e-4588-b137-fb45dd06a313\n"
     ]
    },
    {
     "name": "stderr",
     "output_type": "stream",
     "text": [
      "Extrayendo datos:  29%|██▉       | 146/500 [20:31<50:00,  8.48s/it]"
     ]
    },
    {
     "name": "stdout",
     "output_type": "stream",
     "text": [
      "No se encontró el botón de traducción.\n",
      "Accediendo a: https://www.airbnb.es/rooms/1091169236240766560?adults=1&children=0&enable_m3_private_room=true&infants=0&pets=0&search_mode=regular_search&check_in=2024-12-07&check_out=2024-12-12&source_impression_id=p3_1730726913_P3cNwla9RHNDT8-k&previous_page_section_name=1000&federated_search_id=ee4b0e0e-dc1e-4588-b137-fb45dd06a313\n"
     ]
    },
    {
     "name": "stderr",
     "output_type": "stream",
     "text": [
      "Extrayendo datos:  29%|██▉       | 147/500 [20:40<49:55,  8.49s/it]"
     ]
    },
    {
     "name": "stdout",
     "output_type": "stream",
     "text": [
      "No se encontró el botón de traducción.\n",
      "Accediendo a: https://www.airbnb.es/rooms/1257769885054208712?adults=1&children=0&enable_m3_private_room=true&infants=0&pets=0&search_mode=regular_search&check_in=2024-11-10&check_out=2024-11-15&source_impression_id=p3_1730726913_P3n1XYL89mNpUMNN&previous_page_section_name=1000&federated_search_id=ee4b0e0e-dc1e-4588-b137-fb45dd06a313\n"
     ]
    },
    {
     "name": "stderr",
     "output_type": "stream",
     "text": [
      "Extrayendo datos:  30%|██▉       | 148/500 [20:48<49:46,  8.48s/it]"
     ]
    },
    {
     "name": "stdout",
     "output_type": "stream",
     "text": [
      "No se encontró el botón de traducción.\n",
      "Accediendo a: https://www.airbnb.es/rooms/16780481?adults=1&category_tag=Tag%3A8678&children=0&enable_m3_private_room=true&infants=0&pets=0&photo_id=1738638103&search_mode=regular_search&check_in=2024-12-15&check_out=2024-12-20&source_impression_id=p3_1730726913_P335nAQKOlVg4Vc4&previous_page_section_name=1000&federated_search_id=ee4b0e0e-dc1e-4588-b137-fb45dd06a313\n"
     ]
    },
    {
     "name": "stderr",
     "output_type": "stream",
     "text": [
      "Extrayendo datos:  30%|██▉       | 149/500 [20:57<49:36,  8.48s/it]"
     ]
    },
    {
     "name": "stdout",
     "output_type": "stream",
     "text": [
      "No se encontró el botón de traducción.\n",
      "Accediendo a: https://www.airbnb.es/rooms/583987826544046548?adults=1&category_tag=Tag%3A8678&children=0&enable_m3_private_room=true&infants=0&pets=0&photo_id=2014996220&search_mode=regular_search&check_in=2024-11-17&check_out=2024-11-22&source_impression_id=p3_1730726913_P3o_mVHEmQPdrHem&previous_page_section_name=1000&federated_search_id=ee4b0e0e-dc1e-4588-b137-fb45dd06a313\n"
     ]
    },
    {
     "name": "stderr",
     "output_type": "stream",
     "text": [
      "Extrayendo datos:  30%|███       | 150/500 [21:05<49:37,  8.51s/it]"
     ]
    },
    {
     "name": "stdout",
     "output_type": "stream",
     "text": [
      "No se encontró el botón de traducción.\n",
      "Accediendo a: https://www.airbnb.es/rooms/24424717?adults=1&children=0&enable_m3_private_room=true&infants=0&pets=0&search_mode=regular_search&check_in=2024-11-19&check_out=2024-11-24&source_impression_id=p3_1730726913_P3-Mi4SgOEmjeRwI&previous_page_section_name=1000&federated_search_id=ee4b0e0e-dc1e-4588-b137-fb45dd06a313\n"
     ]
    },
    {
     "name": "stderr",
     "output_type": "stream",
     "text": [
      "Extrayendo datos:  30%|███       | 151/500 [21:14<49:30,  8.51s/it]"
     ]
    },
    {
     "name": "stdout",
     "output_type": "stream",
     "text": [
      "No se encontró el botón de traducción.\n",
      "Accediendo a: https://www.airbnb.es/rooms/1096969555168929837?adults=1&children=0&enable_m3_private_room=true&infants=0&pets=0&search_mode=regular_search&check_in=2024-12-01&check_out=2024-12-06&source_impression_id=p3_1730726913_P3uFhxkkuFmhh3tL&previous_page_section_name=1000&federated_search_id=ee4b0e0e-dc1e-4588-b137-fb45dd06a313\n"
     ]
    },
    {
     "name": "stderr",
     "output_type": "stream",
     "text": [
      "Extrayendo datos:  30%|███       | 152/500 [21:22<49:12,  8.48s/it]"
     ]
    },
    {
     "name": "stdout",
     "output_type": "stream",
     "text": [
      "No se encontró el botón de traducción.\n",
      "Accediendo a: https://www.airbnb.es/rooms/1140717328893210788?adults=1&category_tag=Tag%3A8678&children=0&enable_m3_private_room=true&infants=0&pets=0&photo_id=1890165173&search_mode=regular_search&check_in=2024-11-10&check_out=2024-11-15&source_impression_id=p3_1730726913_P3SXIumbs3E7x8oN&previous_page_section_name=1000&federated_search_id=ee4b0e0e-dc1e-4588-b137-fb45dd06a313\n"
     ]
    },
    {
     "name": "stderr",
     "output_type": "stream",
     "text": [
      "Extrayendo datos:  31%|███       | 153/500 [21:31<49:05,  8.49s/it]"
     ]
    },
    {
     "name": "stdout",
     "output_type": "stream",
     "text": [
      "No se encontró el botón de traducción.\n",
      "Accediendo a: https://www.airbnb.es/rooms/37358318?adults=1&category_tag=Tag%3A8678&children=0&enable_m3_private_room=true&infants=0&pets=0&photo_id=1453790317&search_mode=regular_search&check_in=2024-11-09&check_out=2024-11-14&source_impression_id=p3_1730726912_P3Jz4mFA7R0IyMk8&previous_page_section_name=1000&federated_search_id=ee4b0e0e-dc1e-4588-b137-fb45dd06a313\n"
     ]
    },
    {
     "name": "stderr",
     "output_type": "stream",
     "text": [
      "Extrayendo datos:  31%|███       | 154/500 [21:39<49:03,  8.51s/it]"
     ]
    },
    {
     "name": "stdout",
     "output_type": "stream",
     "text": [
      "No se encontró el botón de traducción.\n",
      "Accediendo a: https://www.airbnb.es/rooms/50203619?adults=1&children=0&enable_m3_private_room=true&infants=0&pets=0&search_mode=regular_search&check_in=2024-11-18&check_out=2024-11-23&source_impression_id=p3_1730726913_P3_ZlpfAKbjBubww&previous_page_section_name=1000&federated_search_id=ee4b0e0e-dc1e-4588-b137-fb45dd06a313\n"
     ]
    },
    {
     "name": "stderr",
     "output_type": "stream",
     "text": [
      "Extrayendo datos:  31%|███       | 155/500 [21:48<48:46,  8.48s/it]"
     ]
    },
    {
     "name": "stdout",
     "output_type": "stream",
     "text": [
      "No se encontró el botón de traducción.\n",
      "Accediendo a: https://www.airbnb.es/rooms/889658757021971661?adults=1&category_tag=Tag%3A8678&children=0&enable_m3_private_room=true&infants=0&pets=0&photo_id=2006590024&search_mode=regular_search&check_in=2024-11-12&check_out=2024-11-17&source_impression_id=p3_1730726913_P3VrPM3k6kkWwxVb&previous_page_section_name=1000&federated_search_id=ee4b0e0e-dc1e-4588-b137-fb45dd06a313\n"
     ]
    },
    {
     "name": "stderr",
     "output_type": "stream",
     "text": [
      "Extrayendo datos:  31%|███       | 156/500 [21:56<48:39,  8.49s/it]"
     ]
    },
    {
     "name": "stdout",
     "output_type": "stream",
     "text": [
      "No se encontró el botón de traducción.\n",
      "Accediendo a: https://www.airbnb.es/rooms/1129603983391646603?adults=1&children=0&enable_m3_private_room=true&infants=0&pets=0&search_mode=regular_search&check_in=2024-11-07&check_out=2024-11-14&source_impression_id=p3_1730726913_P3RXetuU1oSMYIZA&previous_page_section_name=1000&federated_search_id=ee4b0e0e-dc1e-4588-b137-fb45dd06a313\n"
     ]
    },
    {
     "name": "stderr",
     "output_type": "stream",
     "text": [
      "Extrayendo datos:  31%|███▏      | 157/500 [22:04<48:26,  8.47s/it]"
     ]
    },
    {
     "name": "stdout",
     "output_type": "stream",
     "text": [
      "No se encontró el botón de traducción.\n",
      "Accediendo a: https://www.airbnb.es/rooms/2177176?adults=1&children=0&enable_m3_private_room=true&infants=0&pets=0&search_mode=regular_search&check_in=2025-01-04&check_out=2025-01-09&source_impression_id=p3_1730726913_P3TG1eaiSjsm6kGq&previous_page_section_name=1000&federated_search_id=ee4b0e0e-dc1e-4588-b137-fb45dd06a313\n"
     ]
    },
    {
     "name": "stderr",
     "output_type": "stream",
     "text": [
      "Extrayendo datos:  32%|███▏      | 158/500 [22:13<48:29,  8.51s/it]"
     ]
    },
    {
     "name": "stdout",
     "output_type": "stream",
     "text": [
      "No se encontró el botón de traducción.\n",
      "Accediendo a: https://www.airbnb.es/rooms/4691491?adults=1&children=0&enable_m3_private_room=true&infants=0&pets=0&search_mode=regular_search&check_in=2024-12-01&check_out=2024-12-06&source_impression_id=p3_1730726913_P30HEv87t0ORg7O2&previous_page_section_name=1000&federated_search_id=ee4b0e0e-dc1e-4588-b137-fb45dd06a313\n"
     ]
    },
    {
     "name": "stderr",
     "output_type": "stream",
     "text": [
      "Extrayendo datos:  32%|███▏      | 159/500 [22:22<48:14,  8.49s/it]"
     ]
    },
    {
     "name": "stdout",
     "output_type": "stream",
     "text": [
      "No se encontró el botón de traducción.\n",
      "Accediendo a: https://www.airbnb.es/rooms/53858106?adults=1&children=0&enable_m3_private_room=true&infants=0&pets=0&search_mode=regular_search&check_in=2024-12-02&check_out=2024-12-07&source_impression_id=p3_1730726913_P3zhKXm-l8eGoVu5&previous_page_section_name=1000&federated_search_id=ee4b0e0e-dc1e-4588-b137-fb45dd06a313\n"
     ]
    },
    {
     "name": "stderr",
     "output_type": "stream",
     "text": [
      "Extrayendo datos:  32%|███▏      | 160/500 [22:30<47:59,  8.47s/it]"
     ]
    },
    {
     "name": "stdout",
     "output_type": "stream",
     "text": [
      "No se encontró el botón de traducción.\n",
      "Accediendo a: https://www.airbnb.es/rooms/1210295928648344258?adults=1&category_tag=Tag%3A8678&children=0&enable_m3_private_room=true&infants=0&pets=0&photo_id=2019555333&search_mode=regular_search&check_in=2024-11-09&check_out=2024-11-14&source_impression_id=p3_1730726913_P35xHLQVe1e4Al1d&previous_page_section_name=1000&federated_search_id=ee4b0e0e-dc1e-4588-b137-fb45dd06a313\n"
     ]
    },
    {
     "name": "stderr",
     "output_type": "stream",
     "text": [
      "Extrayendo datos:  32%|███▏      | 161/500 [22:38<47:42,  8.45s/it]"
     ]
    },
    {
     "name": "stdout",
     "output_type": "stream",
     "text": [
      "No se encontró el botón de traducción.\n",
      "Accediendo a: https://www.airbnb.es/rooms/25562552?adults=1&children=0&enable_m3_private_room=true&infants=0&pets=0&search_mode=regular_search&check_in=2024-11-17&check_out=2024-11-22&source_impression_id=p3_1730726913_P3zbN2Caye8LKBj-&previous_page_section_name=1000&federated_search_id=ee4b0e0e-dc1e-4588-b137-fb45dd06a313\n"
     ]
    },
    {
     "name": "stderr",
     "output_type": "stream",
     "text": [
      "Extrayendo datos:  32%|███▏      | 162/500 [22:47<47:39,  8.46s/it]"
     ]
    },
    {
     "name": "stdout",
     "output_type": "stream",
     "text": [
      "No se encontró el botón de traducción.\n",
      "Accediendo a: https://www.airbnb.es/rooms/817427291433305535?adults=1&category_tag=Tag%3A8678&children=0&enable_m3_private_room=true&infants=0&pets=0&photo_id=1859139703&search_mode=regular_search&check_in=2024-11-12&check_out=2024-11-17&source_impression_id=p3_1730726917_P322vfQ7wI4s_ZxM&previous_page_section_name=1000&federated_search_id=57300e66-b52d-41eb-9927-ee13f8ed8a11\n"
     ]
    },
    {
     "name": "stderr",
     "output_type": "stream",
     "text": [
      "Extrayendo datos:  33%|███▎      | 163/500 [22:55<47:35,  8.47s/it]"
     ]
    },
    {
     "name": "stdout",
     "output_type": "stream",
     "text": [
      "No se encontró el botón de traducción.\n",
      "Accediendo a: https://www.airbnb.es/rooms/32571410?adults=1&category_tag=Tag%3A8678&children=0&enable_m3_private_room=true&infants=0&pets=0&photo_id=942421046&search_mode=regular_search&check_in=2024-12-11&check_out=2024-12-16&source_impression_id=p3_1730726917_P3tF1atNRB242qye&previous_page_section_name=1000&federated_search_id=57300e66-b52d-41eb-9927-ee13f8ed8a11\n"
     ]
    },
    {
     "name": "stderr",
     "output_type": "stream",
     "text": [
      "Extrayendo datos:  33%|███▎      | 164/500 [23:04<47:23,  8.46s/it]"
     ]
    },
    {
     "name": "stdout",
     "output_type": "stream",
     "text": [
      "No se encontró el botón de traducción.\n",
      "Accediendo a: https://www.airbnb.es/rooms/1242470?adults=1&children=0&enable_m3_private_room=true&infants=0&pets=0&search_mode=regular_search&check_in=2024-11-17&check_out=2024-11-22&source_impression_id=p3_1730726917_P3w0GoI50ZmPLt2h&previous_page_section_name=1000&federated_search_id=57300e66-b52d-41eb-9927-ee13f8ed8a11\n"
     ]
    },
    {
     "name": "stderr",
     "output_type": "stream",
     "text": [
      "Extrayendo datos:  33%|███▎      | 165/500 [23:12<47:20,  8.48s/it]"
     ]
    },
    {
     "name": "stdout",
     "output_type": "stream",
     "text": [
      "No se encontró el botón de traducción.\n",
      "Accediendo a: https://www.airbnb.es/rooms/1210290434392636993?adults=1&children=0&enable_m3_private_room=true&infants=0&pets=0&search_mode=regular_search&check_in=2024-11-04&check_out=2024-11-09&source_impression_id=p3_1730726917_P3jok4OVQ5-igk_m&previous_page_section_name=1000&federated_search_id=57300e66-b52d-41eb-9927-ee13f8ed8a11\n"
     ]
    },
    {
     "name": "stderr",
     "output_type": "stream",
     "text": [
      "Extrayendo datos:  33%|███▎      | 166/500 [23:21<47:17,  8.50s/it]"
     ]
    },
    {
     "name": "stdout",
     "output_type": "stream",
     "text": [
      "No se encontró el botón de traducción.\n",
      "Accediendo a: https://www.airbnb.es/rooms/34957866?adults=1&children=0&enable_m3_private_room=true&infants=0&pets=0&search_mode=regular_search&check_in=2025-01-07&check_out=2025-01-12&source_impression_id=p3_1730726917_P3lgDOyBllWa3JYB&previous_page_section_name=1000&federated_search_id=57300e66-b52d-41eb-9927-ee13f8ed8a11\n"
     ]
    },
    {
     "name": "stderr",
     "output_type": "stream",
     "text": [
      "Extrayendo datos:  33%|███▎      | 167/500 [23:29<47:05,  8.48s/it]"
     ]
    },
    {
     "name": "stdout",
     "output_type": "stream",
     "text": [
      "No se encontró el botón de traducción.\n",
      "Accediendo a: https://www.airbnb.es/rooms/1056956000892822023?adults=1&category_tag=Tag%3A8678&children=0&enable_m3_private_room=true&infants=0&pets=0&photo_id=1835096866&search_mode=regular_search&check_in=2024-11-15&check_out=2024-11-20&source_impression_id=p3_1730726917_P3IrN_3Kg6Y3XKeT&previous_page_section_name=1000&federated_search_id=57300e66-b52d-41eb-9927-ee13f8ed8a11\n"
     ]
    },
    {
     "name": "stderr",
     "output_type": "stream",
     "text": [
      "Extrayendo datos:  34%|███▎      | 168/500 [23:38<46:57,  8.49s/it]"
     ]
    },
    {
     "name": "stdout",
     "output_type": "stream",
     "text": [
      "No se encontró el botón de traducción.\n",
      "Accediendo a: https://www.airbnb.es/rooms/961443747111735031?adults=1&category_tag=Tag%3A8678&children=0&enable_m3_private_room=true&infants=0&pets=0&photo_id=1732716092&search_mode=regular_search&check_in=2024-11-13&check_out=2024-11-18&source_impression_id=p3_1730726917_P34vE__5XcTdSXTp&previous_page_section_name=1000&federated_search_id=57300e66-b52d-41eb-9927-ee13f8ed8a11\n"
     ]
    },
    {
     "name": "stderr",
     "output_type": "stream",
     "text": [
      "Extrayendo datos:  34%|███▍      | 169/500 [23:46<46:41,  8.46s/it]"
     ]
    },
    {
     "name": "stdout",
     "output_type": "stream",
     "text": [
      "No se encontró el botón de traducción.\n",
      "Accediendo a: https://www.airbnb.es/rooms/52705619?adults=1&category_tag=Tag%3A8678&children=0&enable_m3_private_room=true&infants=0&pets=0&photo_id=1991641045&search_mode=regular_search&check_in=2024-12-13&check_out=2024-12-18&source_impression_id=p3_1730726917_P3ieHk0ZOwjccJ8I&previous_page_section_name=1000&federated_search_id=57300e66-b52d-41eb-9927-ee13f8ed8a11\n"
     ]
    },
    {
     "name": "stderr",
     "output_type": "stream",
     "text": [
      "Extrayendo datos:  34%|███▍      | 170/500 [23:55<46:30,  8.46s/it]"
     ]
    },
    {
     "name": "stdout",
     "output_type": "stream",
     "text": [
      "No se encontró el botón de traducción.\n",
      "Accediendo a: https://www.airbnb.es/rooms/1018781782349991550?adults=1&children=0&enable_m3_private_room=true&infants=0&pets=0&search_mode=regular_search&check_in=2024-11-10&check_out=2024-11-15&source_impression_id=p3_1730726917_P3Gy_avLBkN6DwuH&previous_page_section_name=1000&federated_search_id=57300e66-b52d-41eb-9927-ee13f8ed8a11\n"
     ]
    },
    {
     "name": "stderr",
     "output_type": "stream",
     "text": [
      "Extrayendo datos:  34%|███▍      | 171/500 [24:03<46:21,  8.45s/it]"
     ]
    },
    {
     "name": "stdout",
     "output_type": "stream",
     "text": [
      "No se encontró el botón de traducción.\n",
      "Accediendo a: https://www.airbnb.es/rooms/878745920653835415?adults=1&children=0&enable_m3_private_room=true&infants=0&pets=0&search_mode=regular_search&check_in=2024-12-01&check_out=2024-12-06&source_impression_id=p3_1730726917_P3BnMXRJAr7CVIv3&previous_page_section_name=1000&federated_search_id=57300e66-b52d-41eb-9927-ee13f8ed8a11\n"
     ]
    },
    {
     "name": "stderr",
     "output_type": "stream",
     "text": [
      "Extrayendo datos:  34%|███▍      | 172/500 [24:12<46:19,  8.48s/it]"
     ]
    },
    {
     "name": "stdout",
     "output_type": "stream",
     "text": [
      "No se encontró el botón de traducción.\n",
      "Accediendo a: https://www.airbnb.es/rooms/603015393676553098?adults=1&category_tag=Tag%3A8678&children=0&enable_m3_private_room=true&infants=0&pets=0&photo_id=1607020829&search_mode=regular_search&check_in=2024-11-17&check_out=2024-11-22&source_impression_id=p3_1730726917_P3CykWouy0eLwazr&previous_page_section_name=1000&federated_search_id=57300e66-b52d-41eb-9927-ee13f8ed8a11\n"
     ]
    },
    {
     "name": "stderr",
     "output_type": "stream",
     "text": [
      "Extrayendo datos:  35%|███▍      | 173/500 [24:20<46:05,  8.46s/it]"
     ]
    },
    {
     "name": "stdout",
     "output_type": "stream",
     "text": [
      "No se encontró el botón de traducción.\n",
      "Accediendo a: https://www.airbnb.es/rooms/2491989?adults=1&children=0&enable_m3_private_room=true&infants=0&pets=0&search_mode=regular_search&check_in=2025-01-10&check_out=2025-01-15&source_impression_id=p3_1730726917_P3XUCt_zxiCrHvoF&previous_page_section_name=1000&federated_search_id=57300e66-b52d-41eb-9927-ee13f8ed8a11\n"
     ]
    },
    {
     "name": "stderr",
     "output_type": "stream",
     "text": [
      "Extrayendo datos:  35%|███▍      | 174/500 [24:28<45:59,  8.46s/it]"
     ]
    },
    {
     "name": "stdout",
     "output_type": "stream",
     "text": [
      "No se encontró el botón de traducción.\n",
      "Accediendo a: https://www.airbnb.es/rooms/2576955?adults=1&children=0&enable_m3_private_room=true&infants=0&pets=0&search_mode=regular_search&check_in=2024-12-07&check_out=2024-12-12&source_impression_id=p3_1730726917_P3oxMyW7esfbcI-5&previous_page_section_name=1000&federated_search_id=57300e66-b52d-41eb-9927-ee13f8ed8a11\n"
     ]
    },
    {
     "name": "stderr",
     "output_type": "stream",
     "text": [
      "Extrayendo datos:  35%|███▌      | 175/500 [24:37<45:45,  8.45s/it]"
     ]
    },
    {
     "name": "stdout",
     "output_type": "stream",
     "text": [
      "No se encontró el botón de traducción.\n",
      "Accediendo a: https://www.airbnb.es/rooms/878813716760200926?adults=1&children=0&enable_m3_private_room=true&infants=0&pets=0&search_mode=regular_search&check_in=2024-12-01&check_out=2024-12-06&source_impression_id=p3_1730726917_P34Zft0B_TqEnSqr&previous_page_section_name=1000&federated_search_id=57300e66-b52d-41eb-9927-ee13f8ed8a11\n"
     ]
    },
    {
     "name": "stderr",
     "output_type": "stream",
     "text": [
      "Extrayendo datos:  35%|███▌      | 176/500 [24:45<45:45,  8.47s/it]"
     ]
    },
    {
     "name": "stdout",
     "output_type": "stream",
     "text": [
      "No se encontró el botón de traducción.\n",
      "Accediendo a: https://www.airbnb.es/rooms/1234633898550186236?adults=1&category_tag=Tag%3A8678&children=0&enable_m3_private_room=true&infants=0&pets=0&photo_id=2022523716&search_mode=regular_search&check_in=2024-11-17&check_out=2024-11-22&source_impression_id=p3_1730726917_P398IP1szA66L0V_&previous_page_section_name=1000&federated_search_id=57300e66-b52d-41eb-9927-ee13f8ed8a11\n"
     ]
    },
    {
     "name": "stderr",
     "output_type": "stream",
     "text": [
      "Extrayendo datos:  35%|███▌      | 177/500 [24:54<45:35,  8.47s/it]"
     ]
    },
    {
     "name": "stdout",
     "output_type": "stream",
     "text": [
      "No se encontró el botón de traducción.\n",
      "Accediendo a: https://www.airbnb.es/rooms/661534419768040453?adults=1&category_tag=Tag%3A8678&children=0&enable_m3_private_room=true&infants=0&pets=0&photo_id=1673009681&search_mode=regular_search&check_in=2024-12-18&check_out=2024-12-23&source_impression_id=p3_1730726917_P3sKhaKnfoSw9_aK&previous_page_section_name=1000&federated_search_id=57300e66-b52d-41eb-9927-ee13f8ed8a11\n"
     ]
    },
    {
     "name": "stderr",
     "output_type": "stream",
     "text": [
      "Extrayendo datos:  36%|███▌      | 178/500 [25:02<45:28,  8.47s/it]"
     ]
    },
    {
     "name": "stdout",
     "output_type": "stream",
     "text": [
      "No se encontró el botón de traducción.\n",
      "Accediendo a: https://www.airbnb.es/rooms/44995311?adults=1&children=0&enable_m3_private_room=true&infants=0&pets=0&search_mode=regular_search&check_in=2024-12-14&check_out=2024-12-19&source_impression_id=p3_1730726917_P3xa4t74fM0RsMiT&previous_page_section_name=1000&federated_search_id=57300e66-b52d-41eb-9927-ee13f8ed8a11\n"
     ]
    },
    {
     "name": "stderr",
     "output_type": "stream",
     "text": [
      "Extrayendo datos:  36%|███▌      | 179/500 [25:11<45:16,  8.46s/it]"
     ]
    },
    {
     "name": "stdout",
     "output_type": "stream",
     "text": [
      "No se encontró el botón de traducción.\n",
      "Accediendo a: https://www.airbnb.es/rooms/23284399?adults=1&children=0&enable_m3_private_room=true&infants=0&pets=0&search_mode=regular_search&check_in=2024-11-24&check_out=2024-11-29&source_impression_id=p3_1730726917_P3FI4IhJUT0gI3Rm&previous_page_section_name=1000&federated_search_id=57300e66-b52d-41eb-9927-ee13f8ed8a11\n"
     ]
    },
    {
     "name": "stderr",
     "output_type": "stream",
     "text": [
      "Extrayendo datos:  36%|███▌      | 180/500 [25:19<45:14,  8.48s/it]"
     ]
    },
    {
     "name": "stdout",
     "output_type": "stream",
     "text": [
      "No se encontró el botón de traducción.\n",
      "Accediendo a: https://www.airbnb.es/rooms/31479637?adults=1&children=0&enable_m3_private_room=true&infants=0&pets=0&search_mode=regular_search&check_in=2024-11-26&check_out=2024-12-01&source_impression_id=p3_1730726922_P3d3LszJasmi0UJB&previous_page_section_name=1000&federated_search_id=89aa0f4a-b34e-41f7-b899-14514d9178c8\n"
     ]
    },
    {
     "name": "stderr",
     "output_type": "stream",
     "text": [
      "Extrayendo datos:  36%|███▌      | 181/500 [25:28<45:02,  8.47s/it]"
     ]
    },
    {
     "name": "stdout",
     "output_type": "stream",
     "text": [
      "No se encontró el botón de traducción.\n",
      "Accediendo a: https://www.airbnb.es/rooms/723224287057601828?adults=1&children=0&enable_m3_private_room=true&infants=0&pets=0&search_mode=regular_search&check_in=2024-11-16&check_out=2024-11-21&source_impression_id=p3_1730726922_P3fssAiK4hlK_iFo&previous_page_section_name=1000&federated_search_id=89aa0f4a-b34e-41f7-b899-14514d9178c8\n"
     ]
    },
    {
     "name": "stderr",
     "output_type": "stream",
     "text": [
      "Extrayendo datos:  36%|███▋      | 182/500 [25:36<45:05,  8.51s/it]"
     ]
    },
    {
     "name": "stdout",
     "output_type": "stream",
     "text": [
      "No se encontró el botón de traducción.\n",
      "Accediendo a: https://www.airbnb.es/rooms/23001940?adults=1&children=0&enable_m3_private_room=true&infants=0&pets=0&search_mode=regular_search&check_in=2024-11-19&check_out=2024-11-24&source_impression_id=p3_1730726922_P356vUuDrQOAdw7e&previous_page_section_name=1000&federated_search_id=89aa0f4a-b34e-41f7-b899-14514d9178c8\n"
     ]
    },
    {
     "name": "stderr",
     "output_type": "stream",
     "text": [
      "Extrayendo datos:  37%|███▋      | 183/500 [25:45<44:59,  8.52s/it]"
     ]
    },
    {
     "name": "stdout",
     "output_type": "stream",
     "text": [
      "No se encontró el botón de traducción.\n",
      "Accediendo a: https://www.airbnb.es/rooms/578659922214252479?adults=1&children=0&enable_m3_private_room=true&infants=0&pets=0&search_mode=regular_search&check_in=2024-12-07&check_out=2024-12-12&source_impression_id=p3_1730726922_P3B532KayO0hOqGR&previous_page_section_name=1000&federated_search_id=89aa0f4a-b34e-41f7-b899-14514d9178c8\n"
     ]
    },
    {
     "name": "stderr",
     "output_type": "stream",
     "text": [
      "Extrayendo datos:  37%|███▋      | 184/500 [25:53<44:49,  8.51s/it]"
     ]
    },
    {
     "name": "stdout",
     "output_type": "stream",
     "text": [
      "No se encontró el botón de traducción.\n",
      "Accediendo a: https://www.airbnb.es/rooms/24238588?adults=1&children=0&enable_m3_private_room=true&infants=0&pets=0&search_mode=regular_search&check_in=2024-12-02&check_out=2024-12-07&source_impression_id=p3_1730726922_P3BEEZHkLai3_Ule&previous_page_section_name=1000&federated_search_id=89aa0f4a-b34e-41f7-b899-14514d9178c8\n"
     ]
    },
    {
     "name": "stderr",
     "output_type": "stream",
     "text": [
      "Extrayendo datos:  37%|███▋      | 185/500 [26:02<44:34,  8.49s/it]"
     ]
    },
    {
     "name": "stdout",
     "output_type": "stream",
     "text": [
      "No se encontró el botón de traducción.\n",
      "Accediendo a: https://www.airbnb.es/rooms/893336277308710394?adults=1&category_tag=Tag%3A8678&children=0&enable_m3_private_room=true&infants=0&pets=0&photo_id=1784180668&search_mode=regular_search&check_in=2024-11-10&check_out=2024-11-15&source_impression_id=p3_1730726922_P3SpNRAcwKzBX-6a&previous_page_section_name=1000&federated_search_id=89aa0f4a-b34e-41f7-b899-14514d9178c8\n"
     ]
    },
    {
     "name": "stderr",
     "output_type": "stream",
     "text": [
      "Extrayendo datos:  37%|███▋      | 186/500 [26:10<44:24,  8.49s/it]"
     ]
    },
    {
     "name": "stdout",
     "output_type": "stream",
     "text": [
      "No se encontró el botón de traducción.\n",
      "Accediendo a: https://www.airbnb.es/rooms/534550?adults=1&children=0&enable_m3_private_room=true&infants=0&pets=0&search_mode=regular_search&check_in=2024-12-07&check_out=2024-12-12&source_impression_id=p3_1730726922_P3f2AJpKLo4MmnCm&previous_page_section_name=1000&federated_search_id=89aa0f4a-b34e-41f7-b899-14514d9178c8\n"
     ]
    },
    {
     "name": "stderr",
     "output_type": "stream",
     "text": [
      "Extrayendo datos:  37%|███▋      | 187/500 [26:19<44:13,  8.48s/it]"
     ]
    },
    {
     "name": "stdout",
     "output_type": "stream",
     "text": [
      "No se encontró el botón de traducción.\n",
      "Accediendo a: https://www.airbnb.es/rooms/1250668431906746242?adults=1&children=0&enable_m3_private_room=true&infants=0&pets=0&search_mode=regular_search&check_in=2024-11-09&check_out=2024-11-14&source_impression_id=p3_1730726922_P3OMieWSO7mH98lK&previous_page_section_name=1000&federated_search_id=89aa0f4a-b34e-41f7-b899-14514d9178c8\n"
     ]
    },
    {
     "name": "stderr",
     "output_type": "stream",
     "text": [
      "Extrayendo datos:  38%|███▊      | 188/500 [26:27<43:54,  8.45s/it]"
     ]
    },
    {
     "name": "stdout",
     "output_type": "stream",
     "text": [
      "No se encontró el botón de traducción.\n",
      "Accediendo a: https://www.airbnb.es/rooms/34770183?adults=1&children=0&enable_m3_private_room=true&infants=0&pets=0&search_mode=regular_search&check_in=2024-12-15&check_out=2024-12-20&source_impression_id=p3_1730726922_P3ya6PdS6LoBn60G&previous_page_section_name=1000&federated_search_id=89aa0f4a-b34e-41f7-b899-14514d9178c8\n"
     ]
    },
    {
     "name": "stderr",
     "output_type": "stream",
     "text": [
      "Extrayendo datos:  38%|███▊      | 189/500 [26:36<43:45,  8.44s/it]"
     ]
    },
    {
     "name": "stdout",
     "output_type": "stream",
     "text": [
      "No se encontró el botón de traducción.\n",
      "Accediendo a: https://www.airbnb.es/rooms/14565867?adults=1&children=0&enable_m3_private_room=true&infants=0&pets=0&search_mode=regular_search&check_in=2024-12-15&check_out=2024-12-20&source_impression_id=p3_1730726922_P3_4P-ca-lzIHlYr&previous_page_section_name=1000&federated_search_id=89aa0f4a-b34e-41f7-b899-14514d9178c8\n",
      "No se encontró el botón de traducción.\n"
     ]
    },
    {
     "name": "stderr",
     "output_type": "stream",
     "text": [
      "Extrayendo datos:  38%|███▊      | 190/500 [26:44<43:48,  8.48s/it]"
     ]
    },
    {
     "name": "stdout",
     "output_type": "stream",
     "text": [
      "Accediendo a: https://www.airbnb.es/rooms/31479778?adults=1&children=0&enable_m3_private_room=true&infants=0&pets=0&search_mode=regular_search&check_in=2024-11-19&check_out=2024-11-24&source_impression_id=p3_1730726922_P3WI5xfDAtJzv1wf&previous_page_section_name=1000&federated_search_id=89aa0f4a-b34e-41f7-b899-14514d9178c8\n"
     ]
    },
    {
     "name": "stderr",
     "output_type": "stream",
     "text": [
      "Extrayendo datos:  38%|███▊      | 191/500 [26:53<43:44,  8.50s/it]"
     ]
    },
    {
     "name": "stdout",
     "output_type": "stream",
     "text": [
      "No se encontró el botón de traducción.\n",
      "Accediendo a: https://www.airbnb.es/rooms/1395001?adults=1&children=0&enable_m3_private_room=true&infants=0&pets=0&search_mode=regular_search&check_in=2024-11-17&check_out=2024-11-22&source_impression_id=p3_1730726922_P3oHo5XtfQxLQmhE&previous_page_section_name=1000&federated_search_id=89aa0f4a-b34e-41f7-b899-14514d9178c8\n"
     ]
    },
    {
     "name": "stderr",
     "output_type": "stream",
     "text": [
      "Extrayendo datos:  38%|███▊      | 192/500 [27:01<43:37,  8.50s/it]"
     ]
    },
    {
     "name": "stdout",
     "output_type": "stream",
     "text": [
      "No se encontró el botón de traducción.\n",
      "Accediendo a: https://www.airbnb.es/rooms/29841719?adults=1&children=0&enable_m3_private_room=true&infants=0&pets=0&search_mode=regular_search&check_in=2024-12-15&check_out=2024-12-20&source_impression_id=p3_1730726922_P3NhIGnFUc1s1MHk&previous_page_section_name=1000&federated_search_id=89aa0f4a-b34e-41f7-b899-14514d9178c8\n"
     ]
    },
    {
     "name": "stderr",
     "output_type": "stream",
     "text": [
      "Extrayendo datos:  39%|███▊      | 193/500 [27:10<43:23,  8.48s/it]"
     ]
    },
    {
     "name": "stdout",
     "output_type": "stream",
     "text": [
      "No se encontró el botón de traducción.\n",
      "Accediendo a: https://www.airbnb.es/rooms/44159663?adults=1&children=0&enable_m3_private_room=true&infants=0&pets=0&search_mode=regular_search&check_in=2024-11-11&check_out=2024-11-16&source_impression_id=p3_1730726922_P3aBZKTzeHqbhDnq&previous_page_section_name=1000&federated_search_id=89aa0f4a-b34e-41f7-b899-14514d9178c8\n"
     ]
    },
    {
     "name": "stderr",
     "output_type": "stream",
     "text": [
      "Extrayendo datos:  39%|███▉      | 194/500 [27:18<43:25,  8.51s/it]"
     ]
    },
    {
     "name": "stdout",
     "output_type": "stream",
     "text": [
      "No se encontró el botón de traducción.\n",
      "Accediendo a: https://www.airbnb.es/rooms/1251405079105833124?adults=1&category_tag=Tag%3A8678&children=0&enable_m3_private_room=true&infants=0&pets=0&photo_id=1998310392&search_mode=regular_search&check_in=2024-11-18&check_out=2024-11-23&source_impression_id=p3_1730726922_P3ibKotY6LO9WMud&previous_page_section_name=1000&federated_search_id=89aa0f4a-b34e-41f7-b899-14514d9178c8\n"
     ]
    },
    {
     "name": "stderr",
     "output_type": "stream",
     "text": [
      "Extrayendo datos:  39%|███▉      | 195/500 [27:27<43:08,  8.49s/it]"
     ]
    },
    {
     "name": "stdout",
     "output_type": "stream",
     "text": [
      "No se encontró el botón de traducción.\n",
      "Accediendo a: https://www.airbnb.es/rooms/1218288098596145710?adults=1&category_tag=Tag%3A8678&children=0&enable_m3_private_room=true&infants=0&pets=0&photo_id=1970899490&search_mode=regular_search&check_in=2024-11-04&check_out=2024-11-09&source_impression_id=p3_1730726922_P3rJNKQN17mKyFoC&previous_page_section_name=1000&federated_search_id=89aa0f4a-b34e-41f7-b899-14514d9178c8\n"
     ]
    },
    {
     "name": "stderr",
     "output_type": "stream",
     "text": [
      "Extrayendo datos:  39%|███▉      | 196/500 [27:35<43:02,  8.49s/it]"
     ]
    },
    {
     "name": "stdout",
     "output_type": "stream",
     "text": [
      "No se encontró el botón de traducción.\n",
      "Accediendo a: https://www.airbnb.es/rooms/1252854137324361932?adults=1&children=0&enable_m3_private_room=true&infants=0&pets=0&search_mode=regular_search&check_in=2024-12-01&check_out=2024-12-06&source_impression_id=p3_1730726922_P38ozUo4OH6iyL_a&previous_page_section_name=1000&federated_search_id=89aa0f4a-b34e-41f7-b899-14514d9178c8\n"
     ]
    },
    {
     "name": "stderr",
     "output_type": "stream",
     "text": [
      "Extrayendo datos:  39%|███▉      | 197/500 [27:44<42:50,  8.48s/it]"
     ]
    },
    {
     "name": "stdout",
     "output_type": "stream",
     "text": [
      "No se encontró el botón de traducción.\n",
      "Accediendo a: https://www.airbnb.es/rooms/24978503?adults=1&children=0&enable_m3_private_room=true&infants=0&pets=0&search_mode=regular_search&check_in=2024-12-08&check_out=2024-12-13&source_impression_id=p3_1730726922_P3wVjJxy0b7DyOCH&previous_page_section_name=1000&federated_search_id=89aa0f4a-b34e-41f7-b899-14514d9178c8\n",
      "No se encontró el botón de traducción.\n"
     ]
    },
    {
     "name": "stderr",
     "output_type": "stream",
     "text": [
      "Extrayendo datos:  40%|███▉      | 198/500 [27:52<42:44,  8.49s/it]"
     ]
    },
    {
     "name": "stdout",
     "output_type": "stream",
     "text": [
      "Accediendo a: https://www.airbnb.es/rooms/20966731?adults=1&children=0&enable_m3_private_room=true&infants=0&pets=0&search_mode=regular_search&check_in=2024-11-17&check_out=2024-11-22&source_impression_id=p3_1730726927_P37OfiMFHbw7PiYm&previous_page_section_name=1000&federated_search_id=a9ae78cb-2cc4-4a61-8fe5-7ad3a9526aa7\n"
     ]
    },
    {
     "name": "stderr",
     "output_type": "stream",
     "text": [
      "Extrayendo datos:  40%|███▉      | 199/500 [28:01<42:37,  8.50s/it]"
     ]
    },
    {
     "name": "stdout",
     "output_type": "stream",
     "text": [
      "No se encontró el botón de traducción.\n",
      "Accediendo a: https://www.airbnb.es/rooms/3350180?adults=1&children=0&enable_m3_private_room=true&infants=0&pets=0&search_mode=regular_search&check_in=2024-12-01&check_out=2024-12-06&source_impression_id=p3_1730726927_P34WDgge63WN9Acb&previous_page_section_name=1000&federated_search_id=a9ae78cb-2cc4-4a61-8fe5-7ad3a9526aa7\n"
     ]
    },
    {
     "name": "stderr",
     "output_type": "stream",
     "text": [
      "Extrayendo datos:  40%|████      | 200/500 [28:09<42:21,  8.47s/it]"
     ]
    },
    {
     "name": "stdout",
     "output_type": "stream",
     "text": [
      "No se encontró el botón de traducción.\n",
      "Accediendo a: https://www.airbnb.es/rooms/673713674997501365?adults=1&children=0&enable_m3_private_room=true&infants=0&pets=0&search_mode=regular_search&check_in=2024-12-16&check_out=2024-12-21&source_impression_id=p3_1730726927_P3BOsj7FReOFeHGE&previous_page_section_name=1000&federated_search_id=a9ae78cb-2cc4-4a61-8fe5-7ad3a9526aa7\n"
     ]
    },
    {
     "name": "stderr",
     "output_type": "stream",
     "text": [
      "Extrayendo datos:  40%|████      | 201/500 [28:18<42:09,  8.46s/it]"
     ]
    },
    {
     "name": "stdout",
     "output_type": "stream",
     "text": [
      "No se encontró el botón de traducción.\n",
      "Accediendo a: https://www.airbnb.es/rooms/2755738?adults=1&children=0&enable_m3_private_room=true&infants=0&pets=0&search_mode=regular_search&check_in=2024-11-10&check_out=2024-11-15&source_impression_id=p3_1730726927_P3n85kVZCa707IEZ&previous_page_section_name=1000&federated_search_id=a9ae78cb-2cc4-4a61-8fe5-7ad3a9526aa7\n",
      "No se encontró el botón de traducción.\n"
     ]
    },
    {
     "name": "stderr",
     "output_type": "stream",
     "text": [
      "Extrayendo datos:  40%|████      | 202/500 [28:26<42:12,  8.50s/it]"
     ]
    },
    {
     "name": "stdout",
     "output_type": "stream",
     "text": [
      "Accediendo a: https://www.airbnb.es/rooms/23661273?adults=1&children=0&enable_m3_private_room=true&infants=0&pets=0&search_mode=regular_search&check_in=2025-02-09&check_out=2025-02-14&source_impression_id=p3_1730726927_P3vd0oEj2gCpShLI&previous_page_section_name=1000&federated_search_id=a9ae78cb-2cc4-4a61-8fe5-7ad3a9526aa7\n"
     ]
    },
    {
     "name": "stderr",
     "output_type": "stream",
     "text": [
      "Extrayendo datos:  41%|████      | 203/500 [28:34<41:56,  8.47s/it]"
     ]
    },
    {
     "name": "stdout",
     "output_type": "stream",
     "text": [
      "No se encontró el botón de traducción.\n",
      "Accediendo a: https://www.airbnb.es/rooms/1237126474672183733?adults=1&children=0&enable_m3_private_room=true&infants=0&pets=0&search_mode=regular_search&check_in=2024-11-24&check_out=2024-11-29&source_impression_id=p3_1730726927_P3JzjpS63xgce717&previous_page_section_name=1000&federated_search_id=a9ae78cb-2cc4-4a61-8fe5-7ad3a9526aa7\n"
     ]
    },
    {
     "name": "stderr",
     "output_type": "stream",
     "text": [
      "Extrayendo datos:  41%|████      | 204/500 [28:43<41:39,  8.44s/it]"
     ]
    },
    {
     "name": "stdout",
     "output_type": "stream",
     "text": [
      "No se encontró el botón de traducción.\n",
      "Accediendo a: https://www.airbnb.es/rooms/12332051?adults=1&children=0&enable_m3_private_room=true&infants=0&pets=0&search_mode=regular_search&check_in=2024-11-04&check_out=2024-11-09&source_impression_id=p3_1730726927_P3O_lWABTWwsYei0&previous_page_section_name=1000&federated_search_id=a9ae78cb-2cc4-4a61-8fe5-7ad3a9526aa7\n"
     ]
    },
    {
     "name": "stderr",
     "output_type": "stream",
     "text": [
      "Extrayendo datos:  41%|████      | 205/500 [28:51<41:27,  8.43s/it]"
     ]
    },
    {
     "name": "stdout",
     "output_type": "stream",
     "text": [
      "No se encontró el botón de traducción.\n",
      "Accediendo a: https://www.airbnb.es/rooms/1604559?adults=1&children=0&enable_m3_private_room=true&infants=0&pets=0&search_mode=regular_search&check_in=2024-12-10&check_out=2024-12-15&source_impression_id=p3_1730726927_P37KGPEHB6jDCbeP&previous_page_section_name=1000&federated_search_id=a9ae78cb-2cc4-4a61-8fe5-7ad3a9526aa7\n",
      "No se encontró el botón de traducción.\n"
     ]
    },
    {
     "name": "stderr",
     "output_type": "stream",
     "text": [
      "Extrayendo datos:  41%|████      | 206/500 [29:00<41:25,  8.46s/it]"
     ]
    },
    {
     "name": "stdout",
     "output_type": "stream",
     "text": [
      "Accediendo a: https://www.airbnb.es/rooms/1277525317189102081?adults=1&category_tag=Tag%3A8678&children=0&enable_m3_private_room=true&infants=0&pets=0&photo_id=2019615549&search_mode=regular_search&check_in=2024-11-10&check_out=2024-11-15&source_impression_id=p3_1730726927_P35Dd4y_J5bhEwyM&previous_page_section_name=1000&federated_search_id=a9ae78cb-2cc4-4a61-8fe5-7ad3a9526aa7\n"
     ]
    },
    {
     "name": "stderr",
     "output_type": "stream",
     "text": [
      "Extrayendo datos:  41%|████▏     | 207/500 [29:08<41:16,  8.45s/it]"
     ]
    },
    {
     "name": "stdout",
     "output_type": "stream",
     "text": [
      "No se encontró el botón de traducción.\n",
      "Accediendo a: https://www.airbnb.es/rooms/622091179379166142?adults=1&children=0&enable_m3_private_room=true&infants=0&pets=0&search_mode=regular_search&check_in=2024-12-08&check_out=2024-12-13&source_impression_id=p3_1730726927_P3N3fpnGJYv6rSBm&previous_page_section_name=1000&federated_search_id=a9ae78cb-2cc4-4a61-8fe5-7ad3a9526aa7\n"
     ]
    },
    {
     "name": "stderr",
     "output_type": "stream",
     "text": [
      "Extrayendo datos:  42%|████▏     | 208/500 [29:17<41:05,  8.44s/it]"
     ]
    },
    {
     "name": "stdout",
     "output_type": "stream",
     "text": [
      "No se encontró el botón de traducción.\n",
      "Accediendo a: https://www.airbnb.es/rooms/1158328451584798263?adults=1&children=0&enable_m3_private_room=true&infants=0&pets=0&search_mode=regular_search&check_in=2024-11-09&check_out=2024-11-14&source_impression_id=p3_1730726927_P3ZT6buFFbTnM1UH&previous_page_section_name=1000&federated_search_id=a9ae78cb-2cc4-4a61-8fe5-7ad3a9526aa7\n"
     ]
    },
    {
     "name": "stderr",
     "output_type": "stream",
     "text": [
      "Extrayendo datos:  42%|████▏     | 209/500 [29:25<40:58,  8.45s/it]"
     ]
    },
    {
     "name": "stdout",
     "output_type": "stream",
     "text": [
      "No se encontró el botón de traducción.\n",
      "Accediendo a: https://www.airbnb.es/rooms/883024011378948768?adults=1&children=0&enable_m3_private_room=true&infants=0&pets=0&search_mode=regular_search&check_in=2024-12-08&check_out=2024-12-13&source_impression_id=p3_1730726927_P35_sA2n_0cTQ0B9&previous_page_section_name=1000&federated_search_id=a9ae78cb-2cc4-4a61-8fe5-7ad3a9526aa7\n",
      "No se encontró el botón de traducción.\n"
     ]
    },
    {
     "name": "stderr",
     "output_type": "stream",
     "text": [
      "Extrayendo datos:  42%|████▏     | 210/500 [29:34<41:00,  8.48s/it]"
     ]
    },
    {
     "name": "stdout",
     "output_type": "stream",
     "text": [
      "Accediendo a: https://www.airbnb.es/rooms/31480547?adults=1&children=0&enable_m3_private_room=true&infants=0&pets=0&search_mode=regular_search&check_in=2024-12-02&check_out=2024-12-07&source_impression_id=p3_1730726927_P3GveSwpmATGqqv6&previous_page_section_name=1000&federated_search_id=a9ae78cb-2cc4-4a61-8fe5-7ad3a9526aa7\n"
     ]
    },
    {
     "name": "stderr",
     "output_type": "stream",
     "text": [
      "Extrayendo datos:  42%|████▏     | 211/500 [29:42<40:50,  8.48s/it]"
     ]
    },
    {
     "name": "stdout",
     "output_type": "stream",
     "text": [
      "No se encontró el botón de traducción.\n",
      "Accediendo a: https://www.airbnb.es/rooms/723644764087881659?adults=1&category_tag=Tag%3A8678&children=0&enable_m3_private_room=true&infants=0&pets=0&photo_id=1497241454&search_mode=regular_search&check_in=2024-12-01&check_out=2024-12-06&source_impression_id=p3_1730726927_P3yuYiBEGGo8SBAd&previous_page_section_name=1000&federated_search_id=a9ae78cb-2cc4-4a61-8fe5-7ad3a9526aa7\n"
     ]
    },
    {
     "name": "stderr",
     "output_type": "stream",
     "text": [
      "Extrayendo datos:  42%|████▏     | 212/500 [29:51<40:37,  8.46s/it]"
     ]
    },
    {
     "name": "stdout",
     "output_type": "stream",
     "text": [
      "No se encontró el botón de traducción.\n",
      "Accediendo a: https://www.airbnb.es/rooms/829229988526268828?adults=1&children=0&enable_m3_private_room=true&infants=0&pets=0&search_mode=regular_search&check_in=2024-11-24&check_out=2024-11-29&source_impression_id=p3_1730726927_P3mZ_2MshdMNWfTg&previous_page_section_name=1000&federated_search_id=a9ae78cb-2cc4-4a61-8fe5-7ad3a9526aa7\n"
     ]
    },
    {
     "name": "stderr",
     "output_type": "stream",
     "text": [
      "Extrayendo datos:  43%|████▎     | 213/500 [29:59<40:25,  8.45s/it]"
     ]
    },
    {
     "name": "stdout",
     "output_type": "stream",
     "text": [
      "No se encontró el botón de traducción.\n",
      "Accediendo a: https://www.airbnb.es/rooms/19902564?adults=1&children=0&enable_m3_private_room=true&infants=0&pets=0&search_mode=regular_search&check_in=2025-01-11&check_out=2025-01-16&source_impression_id=p3_1730726927_P3sReotbOBAuhoPQ&previous_page_section_name=1000&federated_search_id=a9ae78cb-2cc4-4a61-8fe5-7ad3a9526aa7\n",
      "No se encontró el botón de traducción.\n"
     ]
    },
    {
     "name": "stderr",
     "output_type": "stream",
     "text": [
      "Extrayendo datos:  43%|████▎     | 214/500 [30:08<40:26,  8.48s/it]"
     ]
    },
    {
     "name": "stdout",
     "output_type": "stream",
     "text": [
      "Accediendo a: https://www.airbnb.es/rooms/7108900?adults=1&category_tag=Tag%3A8678&children=0&enable_m3_private_room=true&infants=0&pets=0&photo_id=50104532&search_mode=regular_search&check_in=2024-11-25&check_out=2024-11-30&source_impression_id=p3_1730726927_P3YOiPpLkMI8u8L6&previous_page_section_name=1000&federated_search_id=a9ae78cb-2cc4-4a61-8fe5-7ad3a9526aa7\n"
     ]
    },
    {
     "name": "stderr",
     "output_type": "stream",
     "text": [
      "Extrayendo datos:  43%|████▎     | 215/500 [30:16<40:12,  8.47s/it]"
     ]
    },
    {
     "name": "stdout",
     "output_type": "stream",
     "text": [
      "No se encontró el botón de traducción.\n",
      "Accediendo a: https://www.airbnb.es/rooms/1277528490911798669?adults=1&children=0&enable_m3_private_room=true&infants=0&pets=0&search_mode=regular_search&check_in=2024-11-10&check_out=2024-11-15&source_impression_id=p3_1730726927_P3vle_RHyBEzAcGN&previous_page_section_name=1000&federated_search_id=a9ae78cb-2cc4-4a61-8fe5-7ad3a9526aa7\n"
     ]
    },
    {
     "name": "stderr",
     "output_type": "stream",
     "text": [
      "Extrayendo datos:  43%|████▎     | 216/500 [30:24<39:56,  8.44s/it]"
     ]
    },
    {
     "name": "stdout",
     "output_type": "stream",
     "text": [
      "No se encontró el botón de traducción.\n",
      "Accediendo a: https://www.airbnb.es/rooms/39741313?adults=1&category_tag=Tag%3A8678&children=0&enable_m3_private_room=true&infants=0&pets=0&photo_id=1607813582&search_mode=regular_search&check_in=2024-11-23&check_out=2024-11-28&source_impression_id=p3_1730726931_P3v_lEbV4qKaT84A&previous_page_section_name=1000&federated_search_id=8b3e808f-fa4d-42ad-8fc3-c971cbbb5e01\n"
     ]
    },
    {
     "name": "stderr",
     "output_type": "stream",
     "text": [
      "Extrayendo datos:  43%|████▎     | 217/500 [30:33<39:46,  8.43s/it]"
     ]
    },
    {
     "name": "stdout",
     "output_type": "stream",
     "text": [
      "No se encontró el botón de traducción.\n",
      "Accediendo a: https://www.airbnb.es/rooms/39753264?adults=1&children=0&enable_m3_private_room=true&infants=0&pets=0&search_mode=regular_search&check_in=2024-11-10&check_out=2024-11-15&source_impression_id=p3_1730726931_P3dlxgt5zM7aX_i4&previous_page_section_name=1000&federated_search_id=8b3e808f-fa4d-42ad-8fc3-c971cbbb5e01\n",
      "No se encontró el botón de traducción.\n"
     ]
    },
    {
     "name": "stderr",
     "output_type": "stream",
     "text": [
      "Extrayendo datos:  44%|████▎     | 218/500 [30:41<39:42,  8.45s/it]"
     ]
    },
    {
     "name": "stdout",
     "output_type": "stream",
     "text": [
      "Accediendo a: https://www.airbnb.es/rooms/976707829466015775?adults=1&category_tag=Tag%3A8678&children=0&enable_m3_private_room=true&infants=0&pets=0&photo_id=1736692845&search_mode=regular_search&check_in=2024-11-04&check_out=2024-11-09&source_impression_id=p3_1730726931_P3y0W58nknMGTPe0&previous_page_section_name=1000&federated_search_id=8b3e808f-fa4d-42ad-8fc3-c971cbbb5e01\n"
     ]
    },
    {
     "name": "stderr",
     "output_type": "stream",
     "text": [
      "Extrayendo datos:  44%|████▍     | 219/500 [30:50<39:31,  8.44s/it]"
     ]
    },
    {
     "name": "stdout",
     "output_type": "stream",
     "text": [
      "No se encontró el botón de traducción.\n",
      "Accediendo a: https://www.airbnb.es/rooms/1250095973933022993?adults=1&category_tag=Tag%3A8678&children=0&enable_m3_private_room=true&infants=0&pets=0&photo_id=1997518703&search_mode=regular_search&check_in=2024-11-24&check_out=2024-11-29&source_impression_id=p3_1730726931_P3Qd6lv5OcsY1tyt&previous_page_section_name=1000&federated_search_id=8b3e808f-fa4d-42ad-8fc3-c971cbbb5e01\n"
     ]
    },
    {
     "name": "stderr",
     "output_type": "stream",
     "text": [
      "Extrayendo datos:  44%|████▍     | 220/500 [30:58<39:22,  8.44s/it]"
     ]
    },
    {
     "name": "stdout",
     "output_type": "stream",
     "text": [
      "No se encontró el botón de traducción.\n",
      "Accediendo a: https://www.airbnb.es/rooms/927418121223302860?adults=1&children=0&enable_m3_private_room=true&infants=0&pets=0&search_mode=regular_search&check_in=2024-11-24&check_out=2024-11-29&source_impression_id=p3_1730726931_P3LrguZ8DF9nwW3e&previous_page_section_name=1000&federated_search_id=8b3e808f-fa4d-42ad-8fc3-c971cbbb5e01\n"
     ]
    },
    {
     "name": "stderr",
     "output_type": "stream",
     "text": [
      "Extrayendo datos:  44%|████▍     | 221/500 [31:07<39:16,  8.45s/it]"
     ]
    },
    {
     "name": "stdout",
     "output_type": "stream",
     "text": [
      "No se encontró el botón de traducción.\n",
      "Accediendo a: https://www.airbnb.es/rooms/705781639252004170?adults=1&category_tag=Tag%3A8678&children=0&enable_m3_private_room=true&infants=0&pets=0&photo_id=1796031551&search_mode=regular_search&check_in=2024-11-09&check_out=2024-11-14&source_impression_id=p3_1730726931_P35CxQjlFzuIKcqu&previous_page_section_name=1000&federated_search_id=8b3e808f-fa4d-42ad-8fc3-c971cbbb5e01\n",
      "No se encontró el botón de traducción.\n"
     ]
    },
    {
     "name": "stderr",
     "output_type": "stream",
     "text": [
      "Extrayendo datos:  44%|████▍     | 222/500 [31:15<39:12,  8.46s/it]"
     ]
    },
    {
     "name": "stdout",
     "output_type": "stream",
     "text": [
      "Accediendo a: https://www.airbnb.es/rooms/39404484?adults=1&children=0&enable_m3_private_room=true&infants=0&pets=0&search_mode=regular_search&check_in=2024-11-17&check_out=2024-11-22&source_impression_id=p3_1730726931_P3_KKTPyFfVEhqyY&previous_page_section_name=1000&federated_search_id=8b3e808f-fa4d-42ad-8fc3-c971cbbb5e01\n"
     ]
    },
    {
     "name": "stderr",
     "output_type": "stream",
     "text": [
      "Extrayendo datos:  45%|████▍     | 223/500 [31:24<39:01,  8.45s/it]"
     ]
    },
    {
     "name": "stdout",
     "output_type": "stream",
     "text": [
      "No se encontró el botón de traducción.\n",
      "Accediendo a: https://www.airbnb.es/rooms/40723364?adults=1&children=0&enable_m3_private_room=true&infants=0&pets=0&search_mode=regular_search&check_in=2024-11-08&check_out=2024-11-13&source_impression_id=p3_1730726931_P3BXP_lyXCJM1cVP&previous_page_section_name=1000&federated_search_id=8b3e808f-fa4d-42ad-8fc3-c971cbbb5e01\n"
     ]
    },
    {
     "name": "stderr",
     "output_type": "stream",
     "text": [
      "Extrayendo datos:  45%|████▍     | 224/500 [31:32<38:55,  8.46s/it]"
     ]
    },
    {
     "name": "stdout",
     "output_type": "stream",
     "text": [
      "No se encontró el botón de traducción.\n",
      "Accediendo a: https://www.airbnb.es/rooms/51661574?adults=1&children=0&enable_m3_private_room=true&infants=0&pets=0&search_mode=regular_search&check_in=2024-12-01&check_out=2024-12-06&source_impression_id=p3_1730726931_P3so4QzBSze5uHBD&previous_page_section_name=1000&federated_search_id=8b3e808f-fa4d-42ad-8fc3-c971cbbb5e01\n"
     ]
    },
    {
     "name": "stderr",
     "output_type": "stream",
     "text": [
      "Extrayendo datos:  45%|████▌     | 225/500 [31:40<38:45,  8.46s/it]"
     ]
    },
    {
     "name": "stdout",
     "output_type": "stream",
     "text": [
      "No se encontró el botón de traducción.\n",
      "Accediendo a: https://www.airbnb.es/rooms/843583628506984374?adults=1&category_tag=Tag%3A8678&children=0&enable_m3_private_room=true&infants=0&pets=0&photo_id=2003796170&search_mode=regular_search&check_in=2024-11-18&check_out=2024-11-23&source_impression_id=p3_1730726931_P3yzd4m-3RQIzb9Z&previous_page_section_name=1000&federated_search_id=8b3e808f-fa4d-42ad-8fc3-c971cbbb5e01\n",
      "No se encontró el botón de traducción.\n"
     ]
    },
    {
     "name": "stderr",
     "output_type": "stream",
     "text": [
      "Extrayendo datos:  45%|████▌     | 226/500 [31:49<38:39,  8.47s/it]"
     ]
    },
    {
     "name": "stdout",
     "output_type": "stream",
     "text": [
      "Accediendo a: https://www.airbnb.es/rooms/1110775765657684157?adults=1&children=0&enable_m3_private_room=true&infants=0&pets=0&search_mode=regular_search&check_in=2024-11-24&check_out=2024-11-29&source_impression_id=p3_1730726931_P3m0NP5hE9ChvThi&previous_page_section_name=1000&federated_search_id=8b3e808f-fa4d-42ad-8fc3-c971cbbb5e01\n"
     ]
    },
    {
     "name": "stderr",
     "output_type": "stream",
     "text": [
      "Extrayendo datos:  45%|████▌     | 227/500 [31:57<38:28,  8.45s/it]"
     ]
    },
    {
     "name": "stdout",
     "output_type": "stream",
     "text": [
      "No se encontró el botón de traducción.\n",
      "Accediendo a: https://www.airbnb.es/rooms/5837152?adults=1&children=0&enable_m3_private_room=true&infants=0&pets=0&search_mode=regular_search&check_in=2024-11-10&check_out=2024-11-15&source_impression_id=p3_1730726931_P389NqNNiDnyhPfX&previous_page_section_name=1000&federated_search_id=8b3e808f-fa4d-42ad-8fc3-c971cbbb5e01\n"
     ]
    },
    {
     "name": "stderr",
     "output_type": "stream",
     "text": [
      "Extrayendo datos:  46%|████▌     | 228/500 [32:06<38:16,  8.44s/it]"
     ]
    },
    {
     "name": "stdout",
     "output_type": "stream",
     "text": [
      "No se encontró el botón de traducción.\n",
      "Accediendo a: https://www.airbnb.es/rooms/16762460?adults=1&category_tag=Tag%3A8678&children=0&enable_m3_private_room=true&infants=0&pets=0&photo_id=951434518&search_mode=regular_search&check_in=2025-02-04&check_out=2025-02-09&source_impression_id=p3_1730726931_P3MNaITBE87bgY5J&previous_page_section_name=1000&federated_search_id=8b3e808f-fa4d-42ad-8fc3-c971cbbb5e01\n"
     ]
    },
    {
     "name": "stderr",
     "output_type": "stream",
     "text": [
      "Extrayendo datos:  46%|████▌     | 229/500 [32:14<38:10,  8.45s/it]"
     ]
    },
    {
     "name": "stdout",
     "output_type": "stream",
     "text": [
      "No se encontró el botón de traducción.\n",
      "Accediendo a: https://www.airbnb.es/rooms/1236146172416885944?adults=1&category_tag=Tag%3A8678&children=0&enable_m3_private_room=true&infants=0&pets=0&photo_id=2008926050&search_mode=regular_search&check_in=2024-12-02&check_out=2024-12-07&source_impression_id=p3_1730726931_P3pPFHJJk0-Q3DnH&previous_page_section_name=1000&federated_search_id=8b3e808f-fa4d-42ad-8fc3-c971cbbb5e01\n",
      "No se encontró el botón de traducción.\n"
     ]
    },
    {
     "name": "stderr",
     "output_type": "stream",
     "text": [
      "Extrayendo datos:  46%|████▌     | 230/500 [32:23<38:08,  8.48s/it]"
     ]
    },
    {
     "name": "stdout",
     "output_type": "stream",
     "text": [
      "Accediendo a: https://www.airbnb.es/rooms/1008554383433120644?adults=1&category_tag=Tag%3A8678&children=0&enable_m3_private_room=true&infants=0&pets=0&photo_id=1765662149&search_mode=regular_search&check_in=2024-12-14&check_out=2024-12-19&source_impression_id=p3_1730726931_P3EPf_aF2TTfQmOm&previous_page_section_name=1000&federated_search_id=8b3e808f-fa4d-42ad-8fc3-c971cbbb5e01\n"
     ]
    },
    {
     "name": "stderr",
     "output_type": "stream",
     "text": [
      "Extrayendo datos:  46%|████▌     | 231/500 [32:31<37:59,  8.47s/it]"
     ]
    },
    {
     "name": "stdout",
     "output_type": "stream",
     "text": [
      "No se encontró el botón de traducción.\n",
      "Accediendo a: https://www.airbnb.es/rooms/1011083?adults=1&children=0&enable_m3_private_room=true&infants=0&pets=0&search_mode=regular_search&check_in=2024-12-09&check_out=2024-12-14&source_impression_id=p3_1730726931_P3Q90B6p8c3P96N2&previous_page_section_name=1000&federated_search_id=8b3e808f-fa4d-42ad-8fc3-c971cbbb5e01\n"
     ]
    },
    {
     "name": "stderr",
     "output_type": "stream",
     "text": [
      "Extrayendo datos:  46%|████▋     | 232/500 [32:40<37:54,  8.49s/it]"
     ]
    },
    {
     "name": "stdout",
     "output_type": "stream",
     "text": [
      "No se encontró el botón de traducción.\n",
      "Accediendo a: https://www.airbnb.es/rooms/1270277773495092297?adults=1&category_tag=Tag%3A8678&children=0&enable_m3_private_room=true&infants=0&pets=0&photo_id=2014153548&search_mode=regular_search&check_in=2024-11-06&check_out=2024-11-11&source_impression_id=p3_1730726931_P3GNLp7Fvc2Yr1sQ&previous_page_section_name=1000&federated_search_id=8b3e808f-fa4d-42ad-8fc3-c971cbbb5e01\n"
     ]
    },
    {
     "name": "stderr",
     "output_type": "stream",
     "text": [
      "Extrayendo datos:  47%|████▋     | 233/500 [32:48<37:42,  8.48s/it]"
     ]
    },
    {
     "name": "stdout",
     "output_type": "stream",
     "text": [
      "No se encontró el botón de traducción.\n",
      "Accediendo a: https://www.airbnb.es/rooms/4029838?adults=1&children=0&enable_m3_private_room=true&infants=0&pets=0&search_mode=regular_search&check_in=2024-11-24&check_out=2024-11-29&source_impression_id=p3_1730726931_P3sMT-Dvz3Hyq95f&previous_page_section_name=1000&federated_search_id=8b3e808f-fa4d-42ad-8fc3-c971cbbb5e01\n",
      "No se encontró el botón de traducción.\n"
     ]
    },
    {
     "name": "stderr",
     "output_type": "stream",
     "text": [
      "Extrayendo datos:  47%|████▋     | 234/500 [32:57<37:38,  8.49s/it]"
     ]
    },
    {
     "name": "stdout",
     "output_type": "stream",
     "text": [
      "Accediendo a: https://www.airbnb.es/rooms/53159288?adults=1&children=0&enable_m3_private_room=true&infants=0&pets=0&search_mode=regular_search&check_in=2024-12-08&check_out=2024-12-13&source_impression_id=p3_1730726936_P31Y6NcX8YNyCHBd&previous_page_section_name=1000&federated_search_id=c7822a6f-3bc1-4ae5-b3d9-fcd1d651eaa8\n"
     ]
    },
    {
     "name": "stderr",
     "output_type": "stream",
     "text": [
      "Extrayendo datos:  47%|████▋     | 235/500 [33:05<37:29,  8.49s/it]"
     ]
    },
    {
     "name": "stdout",
     "output_type": "stream",
     "text": [
      "No se encontró el botón de traducción.\n",
      "Accediendo a: https://www.airbnb.es/rooms/1221751561372481946?adults=1&category_tag=Tag%3A8678&children=0&enable_m3_private_room=true&infants=0&pets=0&photo_id=1973735631&search_mode=regular_search&check_in=2024-11-21&check_out=2024-11-26&source_impression_id=p3_1730726936_P35Ij5dteDPOu1-c&previous_page_section_name=1000&federated_search_id=c7822a6f-3bc1-4ae5-b3d9-fcd1d651eaa8\n"
     ]
    },
    {
     "name": "stderr",
     "output_type": "stream",
     "text": [
      "Extrayendo datos:  47%|████▋     | 236/500 [33:14<37:17,  8.48s/it]"
     ]
    },
    {
     "name": "stdout",
     "output_type": "stream",
     "text": [
      "No se encontró el botón de traducción.\n",
      "Accediendo a: https://www.airbnb.es/rooms/1272529396096107602?adults=1&category_tag=Tag%3A8678&children=0&enable_m3_private_room=true&infants=0&pets=0&photo_id=2015731591&search_mode=regular_search&check_in=2024-11-10&check_out=2024-11-15&source_impression_id=p3_1730726936_P3Ckej8qrNn-KZjE&previous_page_section_name=1000&federated_search_id=c7822a6f-3bc1-4ae5-b3d9-fcd1d651eaa8\n"
     ]
    },
    {
     "name": "stderr",
     "output_type": "stream",
     "text": [
      "Extrayendo datos:  47%|████▋     | 237/500 [33:22<37:05,  8.46s/it]"
     ]
    },
    {
     "name": "stdout",
     "output_type": "stream",
     "text": [
      "No se encontró el botón de traducción.\n",
      "Accediendo a: https://www.airbnb.es/rooms/8811813?adults=1&children=0&enable_m3_private_room=true&infants=0&pets=0&search_mode=regular_search&check_in=2024-11-10&check_out=2024-11-15&source_impression_id=p3_1730726936_P3S-ZRV-JQ1RdN-A&previous_page_section_name=1000&federated_search_id=c7822a6f-3bc1-4ae5-b3d9-fcd1d651eaa8\n"
     ]
    },
    {
     "name": "stderr",
     "output_type": "stream",
     "text": [
      "Extrayendo datos:  48%|████▊     | 238/500 [33:31<36:55,  8.46s/it]"
     ]
    },
    {
     "name": "stdout",
     "output_type": "stream",
     "text": [
      "No se encontró el botón de traducción.\n",
      "Accediendo a: https://www.airbnb.es/rooms/3212167?adults=1&children=0&enable_m3_private_room=true&infants=0&pets=0&search_mode=regular_search&check_in=2024-12-01&check_out=2024-12-06&source_impression_id=p3_1730726936_P3JR0BbCi_JYT1Zw&previous_page_section_name=1000&federated_search_id=c7822a6f-3bc1-4ae5-b3d9-fcd1d651eaa8\n"
     ]
    },
    {
     "name": "stderr",
     "output_type": "stream",
     "text": [
      "Extrayendo datos:  48%|████▊     | 239/500 [33:39<36:51,  8.47s/it]"
     ]
    },
    {
     "name": "stdout",
     "output_type": "stream",
     "text": [
      "No se encontró el botón de traducción.\n",
      "Accediendo a: https://www.airbnb.es/rooms/965253230504438294?adults=1&category_tag=Tag%3A8678&children=0&enable_m3_private_room=true&infants=0&pets=0&photo_id=1726566645&search_mode=regular_search&check_in=2024-11-17&check_out=2024-11-22&source_impression_id=p3_1730726936_P32DDNYRTdmzMsan&previous_page_section_name=1000&federated_search_id=c7822a6f-3bc1-4ae5-b3d9-fcd1d651eaa8\n"
     ]
    },
    {
     "name": "stderr",
     "output_type": "stream",
     "text": [
      "Extrayendo datos:  48%|████▊     | 240/500 [33:48<36:45,  8.48s/it]"
     ]
    },
    {
     "name": "stdout",
     "output_type": "stream",
     "text": [
      "No se encontró el botón de traducción.\n",
      "Accediendo a: https://www.airbnb.es/rooms/14020724?adults=1&children=0&enable_m3_private_room=true&infants=0&pets=0&search_mode=regular_search&check_in=2024-12-15&check_out=2024-12-20&source_impression_id=p3_1730726936_P35ER5s4_uEyUSLS&previous_page_section_name=1000&federated_search_id=c7822a6f-3bc1-4ae5-b3d9-fcd1d651eaa8\n"
     ]
    },
    {
     "name": "stderr",
     "output_type": "stream",
     "text": [
      "Extrayendo datos:  48%|████▊     | 241/500 [33:56<36:31,  8.46s/it]"
     ]
    },
    {
     "name": "stdout",
     "output_type": "stream",
     "text": [
      "No se encontró el botón de traducción.\n",
      "Accediendo a: https://www.airbnb.es/rooms/46770917?adults=1&category_tag=Tag%3A8678&children=0&enable_m3_private_room=true&infants=0&pets=0&photo_id=1997043716&search_mode=regular_search&check_in=2024-11-06&check_out=2024-11-11&source_impression_id=p3_1730726936_P3TMeUhYZER0Q91K&previous_page_section_name=1000&federated_search_id=c7822a6f-3bc1-4ae5-b3d9-fcd1d651eaa8\n"
     ]
    },
    {
     "name": "stderr",
     "output_type": "stream",
     "text": [
      "Extrayendo datos:  48%|████▊     | 242/500 [34:04<36:18,  8.44s/it]"
     ]
    },
    {
     "name": "stdout",
     "output_type": "stream",
     "text": [
      "No se encontró el botón de traducción.\n",
      "Accediendo a: https://www.airbnb.es/rooms/31480661?adults=1&children=0&enable_m3_private_room=true&infants=0&pets=0&search_mode=regular_search&check_in=2024-12-01&check_out=2024-12-06&source_impression_id=p3_1730726936_P3SJuuj9wn3oJuxH&previous_page_section_name=1000&federated_search_id=c7822a6f-3bc1-4ae5-b3d9-fcd1d651eaa8\n"
     ]
    },
    {
     "name": "stderr",
     "output_type": "stream",
     "text": [
      "Extrayendo datos:  49%|████▊     | 243/500 [34:13<36:13,  8.46s/it]"
     ]
    },
    {
     "name": "stdout",
     "output_type": "stream",
     "text": [
      "No se encontró el botón de traducción.\n",
      "Accediendo a: https://www.airbnb.es/rooms/926555538193769079?adults=1&category_tag=Tag%3A8678&children=0&enable_m3_private_room=true&infants=0&pets=0&photo_id=1688252088&search_mode=regular_search&check_in=2024-11-17&check_out=2024-11-22&source_impression_id=p3_1730726936_P3wWjinxj-9OelrH&previous_page_section_name=1000&federated_search_id=c7822a6f-3bc1-4ae5-b3d9-fcd1d651eaa8\n"
     ]
    },
    {
     "name": "stderr",
     "output_type": "stream",
     "text": [
      "Extrayendo datos:  49%|████▉     | 244/500 [34:21<36:08,  8.47s/it]"
     ]
    },
    {
     "name": "stdout",
     "output_type": "stream",
     "text": [
      "No se encontró el botón de traducción.\n",
      "Accediendo a: https://www.airbnb.es/rooms/17596395?adults=1&children=0&enable_m3_private_room=true&infants=0&pets=0&search_mode=regular_search&check_in=2024-12-08&check_out=2024-12-13&source_impression_id=p3_1730726936_P3D9lg5zMGLYhUot&previous_page_section_name=1000&federated_search_id=c7822a6f-3bc1-4ae5-b3d9-fcd1d651eaa8\n"
     ]
    },
    {
     "name": "stderr",
     "output_type": "stream",
     "text": [
      "Extrayendo datos:  49%|████▉     | 245/500 [34:30<35:55,  8.45s/it]"
     ]
    },
    {
     "name": "stdout",
     "output_type": "stream",
     "text": [
      "No se encontró el botón de traducción.\n",
      "Accediendo a: https://www.airbnb.es/rooms/19955807?adults=1&children=0&enable_m3_private_room=true&infants=0&pets=0&search_mode=regular_search&check_in=2025-01-11&check_out=2025-01-16&source_impression_id=p3_1730726936_P3de8pJe35Spvcrr&previous_page_section_name=1000&federated_search_id=c7822a6f-3bc1-4ae5-b3d9-fcd1d651eaa8\n"
     ]
    },
    {
     "name": "stderr",
     "output_type": "stream",
     "text": [
      "Extrayendo datos:  49%|████▉     | 246/500 [34:38<35:45,  8.45s/it]"
     ]
    },
    {
     "name": "stdout",
     "output_type": "stream",
     "text": [
      "No se encontró el botón de traducción.\n",
      "Accediendo a: https://www.airbnb.es/rooms/6270885?adults=1&category_tag=Tag%3A8678&children=0&enable_m3_private_room=true&infants=0&pets=0&photo_id=1921765457&search_mode=regular_search&check_in=2024-11-04&check_out=2024-11-09&source_impression_id=p3_1730726936_P3OYiUoeVXTlCkcq&previous_page_section_name=1000&federated_search_id=c7822a6f-3bc1-4ae5-b3d9-fcd1d651eaa8\n"
     ]
    },
    {
     "name": "stderr",
     "output_type": "stream",
     "text": [
      "Extrayendo datos:  49%|████▉     | 247/500 [34:47<35:45,  8.48s/it]"
     ]
    },
    {
     "name": "stdout",
     "output_type": "stream",
     "text": [
      "No se encontró el botón de traducción.\n",
      "Accediendo a: https://www.airbnb.es/rooms/1192612229323894350?adults=1&children=0&enable_m3_private_room=true&infants=0&pets=0&search_mode=regular_search&check_in=2024-12-03&check_out=2024-12-08&source_impression_id=p3_1730726936_P3ukmUR6BP6fvsbA&previous_page_section_name=1000&federated_search_id=c7822a6f-3bc1-4ae5-b3d9-fcd1d651eaa8\n"
     ]
    },
    {
     "name": "stderr",
     "output_type": "stream",
     "text": [
      "Extrayendo datos:  50%|████▉     | 248/500 [34:55<35:30,  8.45s/it]"
     ]
    },
    {
     "name": "stdout",
     "output_type": "stream",
     "text": [
      "No se encontró el botón de traducción.\n",
      "Accediendo a: https://www.airbnb.es/rooms/1158949118855900342?adults=1&category_tag=Tag%3A8678&children=0&enable_m3_private_room=true&infants=0&pets=0&photo_id=1909701677&search_mode=regular_search&check_in=2024-11-26&check_out=2024-12-01&source_impression_id=p3_1730726936_P31B-gbiGdO5HM91&previous_page_section_name=1000&federated_search_id=c7822a6f-3bc1-4ae5-b3d9-fcd1d651eaa8\n"
     ]
    },
    {
     "name": "stderr",
     "output_type": "stream",
     "text": [
      "Extrayendo datos:  50%|████▉     | 249/500 [35:04<35:20,  8.45s/it]"
     ]
    },
    {
     "name": "stdout",
     "output_type": "stream",
     "text": [
      "No se encontró el botón de traducción.\n",
      "Accediendo a: https://www.airbnb.es/rooms/901939501190614877?adults=1&children=0&enable_m3_private_room=true&infants=0&pets=0&search_mode=regular_search&check_in=2024-11-15&check_out=2024-11-20&source_impression_id=p3_1730726936_P3FegK9Fu9eqnOrO&previous_page_section_name=1000&federated_search_id=c7822a6f-3bc1-4ae5-b3d9-fcd1d651eaa8\n"
     ]
    },
    {
     "name": "stderr",
     "output_type": "stream",
     "text": [
      "Extrayendo datos:  50%|█████     | 250/500 [35:12<35:11,  8.45s/it]"
     ]
    },
    {
     "name": "stdout",
     "output_type": "stream",
     "text": [
      "No se encontró el botón de traducción.\n",
      "Accediendo a: https://www.airbnb.es/rooms/1106399114959624659?adults=1&children=0&enable_m3_private_room=true&infants=0&pets=0&search_mode=regular_search&check_in=2024-11-17&check_out=2024-11-22&source_impression_id=p3_1730726936_P3WmLQK2ePawjlvl&previous_page_section_name=1000&federated_search_id=c7822a6f-3bc1-4ae5-b3d9-fcd1d651eaa8\n"
     ]
    },
    {
     "name": "stderr",
     "output_type": "stream",
     "text": [
      "Extrayendo datos:  50%|█████     | 251/500 [35:21<35:11,  8.48s/it]"
     ]
    },
    {
     "name": "stdout",
     "output_type": "stream",
     "text": [
      "No se encontró el botón de traducción.\n",
      "Accediendo a: https://www.airbnb.es/rooms/588996?adults=1&children=0&enable_m3_private_room=true&infants=0&pets=0&search_mode=regular_search&check_in=2024-11-30&check_out=2024-12-05&source_impression_id=p3_1730726936_P3b59M495ab3nqxE&previous_page_section_name=1000&federated_search_id=c7822a6f-3bc1-4ae5-b3d9-fcd1d651eaa8\n"
     ]
    },
    {
     "name": "stderr",
     "output_type": "stream",
     "text": [
      "Extrayendo datos:  50%|█████     | 252/500 [35:29<34:59,  8.47s/it]"
     ]
    },
    {
     "name": "stdout",
     "output_type": "stream",
     "text": [
      "No se encontró el botón de traducción.\n",
      "Accediendo a: https://www.airbnb.es/rooms/52047531?adults=1&children=0&enable_m3_private_room=true&infants=0&pets=0&search_mode=regular_search&check_in=2025-01-06&check_out=2025-01-11&source_impression_id=p3_1730726940_P33LnwELufrwE1Us&previous_page_section_name=1000&federated_search_id=5446da2a-91b9-41a5-b3a2-312fabc299d2\n"
     ]
    },
    {
     "name": "stderr",
     "output_type": "stream",
     "text": [
      "Extrayendo datos:  51%|█████     | 253/500 [35:37<34:46,  8.45s/it]"
     ]
    },
    {
     "name": "stdout",
     "output_type": "stream",
     "text": [
      "No se encontró el botón de traducción.\n",
      "Accediendo a: https://www.airbnb.es/rooms/723620525927087811?adults=1&category_tag=Tag%3A8678&children=0&enable_m3_private_room=true&infants=0&pets=0&photo_id=1497226109&search_mode=regular_search&check_in=2024-11-22&check_out=2024-11-27&source_impression_id=p3_1730726941_P3dIk0UrTuUdCblL&previous_page_section_name=1000&federated_search_id=5446da2a-91b9-41a5-b3a2-312fabc299d2\n"
     ]
    },
    {
     "name": "stderr",
     "output_type": "stream",
     "text": [
      "Extrayendo datos:  51%|█████     | 254/500 [35:46<34:41,  8.46s/it]"
     ]
    },
    {
     "name": "stdout",
     "output_type": "stream",
     "text": [
      "No se encontró el botón de traducción.\n",
      "Accediendo a: https://www.airbnb.es/rooms/1060821612466718044?adults=1&category_tag=Tag%3A8678&children=0&enable_m3_private_room=true&infants=0&pets=0&photo_id=1829392321&search_mode=regular_search&check_in=2024-11-10&check_out=2024-11-15&source_impression_id=p3_1730726940_P3aqT_5rGB9SsUy2&previous_page_section_name=1000&federated_search_id=5446da2a-91b9-41a5-b3a2-312fabc299d2\n"
     ]
    },
    {
     "name": "stderr",
     "output_type": "stream",
     "text": [
      "Extrayendo datos:  51%|█████     | 255/500 [35:54<34:35,  8.47s/it]"
     ]
    },
    {
     "name": "stdout",
     "output_type": "stream",
     "text": [
      "No se encontró el botón de traducción.\n",
      "Accediendo a: https://www.airbnb.es/rooms/988917?adults=1&children=0&enable_m3_private_room=true&infants=0&pets=0&search_mode=regular_search&check_in=2025-01-05&check_out=2025-01-10&source_impression_id=p3_1730726940_P3wRMuzKD42-Gvw_&previous_page_section_name=1000&federated_search_id=5446da2a-91b9-41a5-b3a2-312fabc299d2\n"
     ]
    },
    {
     "name": "stderr",
     "output_type": "stream",
     "text": [
      "Extrayendo datos:  51%|█████     | 256/500 [36:03<34:27,  8.47s/it]"
     ]
    },
    {
     "name": "stdout",
     "output_type": "stream",
     "text": [
      "No se encontró el botón de traducción.\n",
      "Accediendo a: https://www.airbnb.es/rooms/971658611130214646?adults=1&children=0&enable_m3_private_room=true&infants=0&pets=0&search_mode=regular_search&check_in=2024-12-13&check_out=2024-12-18&source_impression_id=p3_1730726940_P3Fo2XsXC6zn1ZP4&previous_page_section_name=1000&federated_search_id=5446da2a-91b9-41a5-b3a2-312fabc299d2\n"
     ]
    },
    {
     "name": "stderr",
     "output_type": "stream",
     "text": [
      "Extrayendo datos:  51%|█████▏    | 257/500 [36:11<34:14,  8.46s/it]"
     ]
    },
    {
     "name": "stdout",
     "output_type": "stream",
     "text": [
      "No se encontró el botón de traducción.\n",
      "Accediendo a: https://www.airbnb.es/rooms/1118522947220795858?adults=1&children=0&enable_m3_private_room=true&infants=0&pets=0&search_mode=regular_search&check_in=2024-11-26&check_out=2024-12-01&source_impression_id=p3_1730726940_P36akG7lEvhAIfbV&previous_page_section_name=1000&federated_search_id=5446da2a-91b9-41a5-b3a2-312fabc299d2\n"
     ]
    },
    {
     "name": "stderr",
     "output_type": "stream",
     "text": [
      "Extrayendo datos:  52%|█████▏    | 258/500 [36:20<34:07,  8.46s/it]"
     ]
    },
    {
     "name": "stdout",
     "output_type": "stream",
     "text": [
      "No se encontró el botón de traducción.\n",
      "Accediendo a: https://www.airbnb.es/rooms/1242672145586725001?adults=1&category_tag=Tag%3A8678&children=0&enable_m3_private_room=true&infants=0&pets=0&photo_id=1999565345&search_mode=regular_search&check_in=2024-11-12&check_out=2024-11-17&source_impression_id=p3_1730726940_P3JTKyXwUGHa3v7W&previous_page_section_name=1000&federated_search_id=5446da2a-91b9-41a5-b3a2-312fabc299d2\n"
     ]
    },
    {
     "name": "stderr",
     "output_type": "stream",
     "text": [
      "Extrayendo datos:  52%|█████▏    | 259/500 [36:28<34:01,  8.47s/it]"
     ]
    },
    {
     "name": "stdout",
     "output_type": "stream",
     "text": [
      "No se encontró el botón de traducción.\n",
      "Accediendo a: https://www.airbnb.es/rooms/38199056?adults=1&children=0&enable_m3_private_room=true&infants=0&pets=0&search_mode=regular_search&check_in=2025-03-10&check_out=2025-03-17&source_impression_id=p3_1730726940_P3twLfKa8K53GtZu&previous_page_section_name=1000&federated_search_id=5446da2a-91b9-41a5-b3a2-312fabc299d2\n",
      "No se encontró el botón de traducción.\n"
     ]
    },
    {
     "name": "stderr",
     "output_type": "stream",
     "text": [
      "Extrayendo datos:  52%|█████▏    | 260/500 [36:37<33:59,  8.50s/it]"
     ]
    },
    {
     "name": "stdout",
     "output_type": "stream",
     "text": [
      "Accediendo a: https://www.airbnb.es/rooms/49310121?adults=1&children=0&enable_m3_private_room=true&infants=0&pets=0&search_mode=regular_search&check_in=2025-01-26&check_out=2025-01-31&source_impression_id=p3_1730726941_P3gg2ciotSPSh01k&previous_page_section_name=1000&federated_search_id=5446da2a-91b9-41a5-b3a2-312fabc299d2\n"
     ]
    },
    {
     "name": "stderr",
     "output_type": "stream",
     "text": [
      "Extrayendo datos:  52%|█████▏    | 261/500 [36:45<33:46,  8.48s/it]"
     ]
    },
    {
     "name": "stdout",
     "output_type": "stream",
     "text": [
      "No se encontró el botón de traducción.\n",
      "Accediendo a: https://www.airbnb.es/rooms/31482550?adults=1&children=0&enable_m3_private_room=true&infants=0&pets=0&search_mode=regular_search&check_in=2024-11-26&check_out=2024-12-01&source_impression_id=p3_1730726940_P3Agzu_e7X30hr3o&previous_page_section_name=1000&federated_search_id=5446da2a-91b9-41a5-b3a2-312fabc299d2\n"
     ]
    },
    {
     "name": "stderr",
     "output_type": "stream",
     "text": [
      "Extrayendo datos:  52%|█████▏    | 262/500 [36:54<33:37,  8.47s/it]"
     ]
    },
    {
     "name": "stdout",
     "output_type": "stream",
     "text": [
      "No se encontró el botón de traducción.\n",
      "Accediendo a: https://www.airbnb.es/rooms/904862?adults=1&children=0&enable_m3_private_room=true&infants=0&pets=0&search_mode=regular_search&check_in=2024-11-16&check_out=2024-11-21&source_impression_id=p3_1730726940_P3t9hm2Fgv7J4Xb8&previous_page_section_name=1000&federated_search_id=5446da2a-91b9-41a5-b3a2-312fabc299d2\n"
     ]
    },
    {
     "name": "stderr",
     "output_type": "stream",
     "text": [
      "Extrayendo datos:  53%|█████▎    | 263/500 [37:02<33:29,  8.48s/it]"
     ]
    },
    {
     "name": "stdout",
     "output_type": "stream",
     "text": [
      "No se encontró el botón de traducción.\n",
      "Accediendo a: https://www.airbnb.es/rooms/759351?adults=1&children=0&enable_m3_private_room=true&infants=0&pets=0&search_mode=regular_search&check_in=2024-12-09&check_out=2024-12-14&source_impression_id=p3_1730726940_P3GEO3Bx0ZXzQq-V&previous_page_section_name=1000&federated_search_id=5446da2a-91b9-41a5-b3a2-312fabc299d2\n"
     ]
    },
    {
     "name": "stderr",
     "output_type": "stream",
     "text": [
      "Extrayendo datos:  53%|█████▎    | 264/500 [37:11<33:18,  8.47s/it]"
     ]
    },
    {
     "name": "stdout",
     "output_type": "stream",
     "text": [
      "No se encontró el botón de traducción.\n",
      "Accediendo a: https://www.airbnb.es/rooms/80004?adults=1&children=0&enable_m3_private_room=true&infants=0&pets=0&search_mode=regular_search&check_in=2024-11-15&check_out=2024-11-21&source_impression_id=p3_1730726941_P3uA73w9dE8zU4Ee&previous_page_section_name=1000&federated_search_id=5446da2a-91b9-41a5-b3a2-312fabc299d2\n"
     ]
    },
    {
     "name": "stderr",
     "output_type": "stream",
     "text": [
      "Extrayendo datos:  53%|█████▎    | 265/500 [37:19<33:10,  8.47s/it]"
     ]
    },
    {
     "name": "stdout",
     "output_type": "stream",
     "text": [
      "No se encontró el botón de traducción.\n",
      "Accediendo a: https://www.airbnb.es/rooms/861302823236128053?adults=1&children=0&enable_m3_private_room=true&infants=0&pets=0&search_mode=regular_search&check_in=2024-11-18&check_out=2024-11-23&source_impression_id=p3_1730726941_P3DxVyzJcscQkCp-&previous_page_section_name=1000&federated_search_id=5446da2a-91b9-41a5-b3a2-312fabc299d2\n"
     ]
    },
    {
     "name": "stderr",
     "output_type": "stream",
     "text": [
      "Extrayendo datos:  53%|█████▎    | 266/500 [37:28<32:57,  8.45s/it]"
     ]
    },
    {
     "name": "stdout",
     "output_type": "stream",
     "text": [
      "No se encontró el botón de traducción.\n",
      "Accediendo a: https://www.airbnb.es/rooms/1064588199303595322?adults=1&category_tag=Tag%3A8678&children=0&enable_m3_private_room=true&infants=0&pets=0&photo_id=1820009837&search_mode=regular_search&check_in=2024-11-09&check_out=2024-11-14&source_impression_id=p3_1730726940_P3-Zy_NnJ7cIUP20&previous_page_section_name=1000&federated_search_id=5446da2a-91b9-41a5-b3a2-312fabc299d2\n"
     ]
    },
    {
     "name": "stderr",
     "output_type": "stream",
     "text": [
      "Extrayendo datos:  53%|█████▎    | 267/500 [37:36<32:50,  8.46s/it]"
     ]
    },
    {
     "name": "stdout",
     "output_type": "stream",
     "text": [
      "No se encontró el botón de traducción.\n",
      "Accediendo a: https://www.airbnb.es/rooms/717105293942612635?adults=1&children=0&enable_m3_private_room=true&infants=0&pets=0&search_mode=regular_search&check_in=2024-11-24&check_out=2024-11-29&source_impression_id=p3_1730726940_P3rHjr58jh7W89p8&previous_page_section_name=1000&federated_search_id=5446da2a-91b9-41a5-b3a2-312fabc299d2\n"
     ]
    },
    {
     "name": "stderr",
     "output_type": "stream",
     "text": [
      "Extrayendo datos:  54%|█████▎    | 268/500 [37:44<32:38,  8.44s/it]"
     ]
    },
    {
     "name": "stdout",
     "output_type": "stream",
     "text": [
      "No se encontró el botón de traducción.\n",
      "Accediendo a: https://www.airbnb.es/rooms/961440575589611755?adults=1&category_tag=Tag%3A8678&children=0&enable_m3_private_room=true&infants=0&pets=0&photo_id=1732730844&search_mode=regular_search&check_in=2024-11-09&check_out=2024-11-14&source_impression_id=p3_1730726941_P3hkjEgyE4kAXxkY&previous_page_section_name=1000&federated_search_id=5446da2a-91b9-41a5-b3a2-312fabc299d2\n"
     ]
    },
    {
     "name": "stderr",
     "output_type": "stream",
     "text": [
      "Extrayendo datos:  54%|█████▍    | 269/500 [37:53<32:27,  8.43s/it]"
     ]
    },
    {
     "name": "stdout",
     "output_type": "stream",
     "text": [
      "No se encontró el botón de traducción.\n",
      "Accediendo a: https://www.airbnb.es/rooms/1162317263684669209?adults=1&category_tag=Tag%3A8678&children=0&enable_m3_private_room=true&infants=0&pets=0&photo_id=2019460735&search_mode=regular_search&check_in=2024-11-16&check_out=2024-11-21&source_impression_id=p3_1730726940_P38MYx2L9lMIsHFQ&previous_page_section_name=1000&federated_search_id=5446da2a-91b9-41a5-b3a2-312fabc299d2\n"
     ]
    },
    {
     "name": "stderr",
     "output_type": "stream",
     "text": [
      "Extrayendo datos:  54%|█████▍    | 270/500 [38:01<32:15,  8.41s/it]"
     ]
    },
    {
     "name": "stdout",
     "output_type": "stream",
     "text": [
      "No se encontró el botón de traducción.\n",
      "Accediendo a: https://www.airbnb.es/rooms/35118964?adults=1&children=0&enable_m3_private_room=true&infants=0&pets=0&search_mode=regular_search&check_in=2024-11-04&check_out=2024-11-09&source_impression_id=p3_1730726946_P3EIjmvrOdTxYp5n&previous_page_section_name=1000&federated_search_id=de88bd80-49f9-45fb-aa0a-1e0c4ac14901\n"
     ]
    },
    {
     "name": "stderr",
     "output_type": "stream",
     "text": [
      "Extrayendo datos:  54%|█████▍    | 271/500 [38:10<32:10,  8.43s/it]"
     ]
    },
    {
     "name": "stdout",
     "output_type": "stream",
     "text": [
      "No se encontró el botón de traducción.\n",
      "Accediendo a: https://www.airbnb.es/rooms/1110775765657684157?adults=1&children=0&enable_m3_private_room=true&infants=0&pets=0&search_mode=regular_search&check_in=2024-11-24&check_out=2024-11-29&source_impression_id=p3_1730726946_P3Wa13yJ1zDJJ1XE&previous_page_section_name=1000&federated_search_id=de88bd80-49f9-45fb-aa0a-1e0c4ac14901\n"
     ]
    },
    {
     "name": "stderr",
     "output_type": "stream",
     "text": [
      "Extrayendo datos:  54%|█████▍    | 272/500 [38:18<32:03,  8.44s/it]"
     ]
    },
    {
     "name": "stdout",
     "output_type": "stream",
     "text": [
      "No se encontró el botón de traducción.\n",
      "Accediendo a: https://www.airbnb.es/rooms/719440411250596953?adults=1&children=0&enable_m3_private_room=true&infants=0&pets=0&search_mode=regular_search&check_in=2024-11-17&check_out=2024-11-22&source_impression_id=p3_1730726946_P3R01ikh9XLsy6f8&previous_page_section_name=1000&federated_search_id=de88bd80-49f9-45fb-aa0a-1e0c4ac14901\n"
     ]
    },
    {
     "name": "stderr",
     "output_type": "stream",
     "text": [
      "Extrayendo datos:  55%|█████▍    | 273/500 [38:27<32:00,  8.46s/it]"
     ]
    },
    {
     "name": "stdout",
     "output_type": "stream",
     "text": [
      "No se encontró el botón de traducción.\n",
      "Accediendo a: https://www.airbnb.es/rooms/39598491?adults=1&children=0&enable_m3_private_room=true&infants=0&pets=0&search_mode=regular_search&check_in=2024-11-24&check_out=2024-11-29&source_impression_id=p3_1730726946_P3numteUaBUXJ1dJ&previous_page_section_name=1000&federated_search_id=de88bd80-49f9-45fb-aa0a-1e0c4ac14901\n"
     ]
    },
    {
     "name": "stderr",
     "output_type": "stream",
     "text": [
      "Extrayendo datos:  55%|█████▍    | 274/500 [38:35<31:51,  8.46s/it]"
     ]
    },
    {
     "name": "stdout",
     "output_type": "stream",
     "text": [
      "No se encontró el botón de traducción.\n",
      "Accediendo a: https://www.airbnb.es/rooms/45558244?adults=1&children=0&enable_m3_private_room=true&infants=0&pets=0&search_mode=regular_search&check_in=2024-11-15&check_out=2024-11-20&source_impression_id=p3_1730726946_P3sppkog1rKssUL7&previous_page_section_name=1000&federated_search_id=de88bd80-49f9-45fb-aa0a-1e0c4ac14901\n"
     ]
    },
    {
     "name": "stderr",
     "output_type": "stream",
     "text": [
      "Extrayendo datos:  55%|█████▌    | 275/500 [38:44<31:49,  8.49s/it]"
     ]
    },
    {
     "name": "stdout",
     "output_type": "stream",
     "text": [
      "No se encontró el botón de traducción.\n",
      "Accediendo a: https://www.airbnb.es/rooms/1252854137324361932?adults=1&children=0&enable_m3_private_room=true&infants=0&pets=0&search_mode=regular_search&check_in=2024-12-01&check_out=2024-12-06&source_impression_id=p3_1730726946_P3KwPdDLDhUxpOkU&previous_page_section_name=1000&federated_search_id=de88bd80-49f9-45fb-aa0a-1e0c4ac14901\n"
     ]
    },
    {
     "name": "stderr",
     "output_type": "stream",
     "text": [
      "Extrayendo datos:  55%|█████▌    | 276/500 [38:52<31:34,  8.46s/it]"
     ]
    },
    {
     "name": "stdout",
     "output_type": "stream",
     "text": [
      "No se encontró el botón de traducción.\n",
      "Accediendo a: https://www.airbnb.es/rooms/31977850?adults=1&children=0&enable_m3_private_room=true&infants=0&pets=0&search_mode=regular_search&check_in=2024-11-04&check_out=2024-11-09&source_impression_id=p3_1730726946_P36TZ_thyKlmwbn7&previous_page_section_name=1000&federated_search_id=de88bd80-49f9-45fb-aa0a-1e0c4ac14901\n"
     ]
    },
    {
     "name": "stderr",
     "output_type": "stream",
     "text": [
      "Extrayendo datos:  55%|█████▌    | 277/500 [39:00<31:23,  8.45s/it]"
     ]
    },
    {
     "name": "stdout",
     "output_type": "stream",
     "text": [
      "No se encontró el botón de traducción.\n",
      "Accediendo a: https://www.airbnb.es/rooms/52981104?adults=1&children=0&enable_m3_private_room=true&infants=0&pets=0&search_mode=regular_search&check_in=2024-11-04&check_out=2024-11-09&source_impression_id=p3_1730726946_P3gsiodsB7c6wq0K&previous_page_section_name=1000&federated_search_id=de88bd80-49f9-45fb-aa0a-1e0c4ac14901\n"
     ]
    },
    {
     "name": "stderr",
     "output_type": "stream",
     "text": [
      "Extrayendo datos:  56%|█████▌    | 278/500 [39:09<31:12,  8.43s/it]"
     ]
    },
    {
     "name": "stdout",
     "output_type": "stream",
     "text": [
      "No se encontró el botón de traducción.\n",
      "Accediendo a: https://www.airbnb.es/rooms/961287943216806993?adults=1&children=0&enable_m3_private_room=true&infants=0&pets=0&search_mode=regular_search&check_in=2024-12-08&check_out=2024-12-13&source_impression_id=p3_1730726946_P3rBQzva_9CJTiIU&previous_page_section_name=1000&federated_search_id=de88bd80-49f9-45fb-aa0a-1e0c4ac14901\n"
     ]
    },
    {
     "name": "stderr",
     "output_type": "stream",
     "text": [
      "Extrayendo datos:  56%|█████▌    | 279/500 [39:17<31:06,  8.45s/it]"
     ]
    },
    {
     "name": "stdout",
     "output_type": "stream",
     "text": [
      "No se encontró el botón de traducción.\n",
      "Accediendo a: https://www.airbnb.es/rooms/40553667?adults=1&children=0&enable_m3_private_room=true&infants=0&pets=0&search_mode=regular_search&check_in=2024-11-12&check_out=2024-11-17&source_impression_id=p3_1730726946_P3ahS7jdfQ8rWS1t&previous_page_section_name=1000&federated_search_id=de88bd80-49f9-45fb-aa0a-1e0c4ac14901\n"
     ]
    },
    {
     "name": "stderr",
     "output_type": "stream",
     "text": [
      "Extrayendo datos:  56%|█████▌    | 280/500 [39:26<30:59,  8.45s/it]"
     ]
    },
    {
     "name": "stdout",
     "output_type": "stream",
     "text": [
      "No se encontró el botón de traducción.\n",
      "Accediendo a: https://www.airbnb.es/rooms/1248760917371966497?adults=1&category_tag=Tag%3A8678&children=0&enable_m3_private_room=true&infants=0&pets=0&photo_id=2016541719&search_mode=regular_search&check_in=2024-11-04&check_out=2024-11-09&source_impression_id=p3_1730726946_P3eD9_nvvG5h9MeQ&previous_page_section_name=1000&federated_search_id=de88bd80-49f9-45fb-aa0a-1e0c4ac14901\n"
     ]
    },
    {
     "name": "stderr",
     "output_type": "stream",
     "text": [
      "Extrayendo datos:  56%|█████▌    | 281/500 [39:34<30:48,  8.44s/it]"
     ]
    },
    {
     "name": "stdout",
     "output_type": "stream",
     "text": [
      "No se encontró el botón de traducción.\n",
      "Accediendo a: https://www.airbnb.es/rooms/39940188?adults=1&children=0&enable_m3_private_room=true&infants=0&pets=0&search_mode=regular_search&check_in=2024-11-26&check_out=2024-12-01&source_impression_id=p3_1730726946_P3f3TZPvS4slpfdr&previous_page_section_name=1000&federated_search_id=de88bd80-49f9-45fb-aa0a-1e0c4ac14901\n"
     ]
    },
    {
     "name": "stderr",
     "output_type": "stream",
     "text": [
      "Extrayendo datos:  56%|█████▋    | 282/500 [39:43<30:44,  8.46s/it]"
     ]
    },
    {
     "name": "stdout",
     "output_type": "stream",
     "text": [
      "No se encontró el botón de traducción.\n",
      "Accediendo a: https://www.airbnb.es/rooms/48838696?adults=1&children=0&enable_m3_private_room=true&infants=0&pets=0&search_mode=regular_search&check_in=2024-12-09&check_out=2024-12-14&source_impression_id=p3_1730726946_P3U-VQ2irErPIK04&previous_page_section_name=1000&federated_search_id=de88bd80-49f9-45fb-aa0a-1e0c4ac14901\n",
      "No se encontró el botón de traducción.\n"
     ]
    },
    {
     "name": "stderr",
     "output_type": "stream",
     "text": [
      "Extrayendo datos:  57%|█████▋    | 283/500 [39:51<30:36,  8.47s/it]"
     ]
    },
    {
     "name": "stdout",
     "output_type": "stream",
     "text": [
      "Accediendo a: https://www.airbnb.es/rooms/35488866?adults=1&children=0&enable_m3_private_room=true&infants=0&pets=0&search_mode=regular_search&check_in=2025-09-05&check_out=2025-09-10&source_impression_id=p3_1730726946_P3LqaxoJvXwSqvV2&previous_page_section_name=1000&federated_search_id=de88bd80-49f9-45fb-aa0a-1e0c4ac14901\n"
     ]
    },
    {
     "name": "stderr",
     "output_type": "stream",
     "text": [
      "Extrayendo datos:  57%|█████▋    | 284/500 [40:00<30:31,  8.48s/it]"
     ]
    },
    {
     "name": "stdout",
     "output_type": "stream",
     "text": [
      "No se encontró el botón de traducción.\n",
      "Accediendo a: https://www.airbnb.es/rooms/1164342626799455637?adults=1&category_tag=Tag%3A8678&children=0&enable_m3_private_room=true&infants=0&pets=0&photo_id=1949535167&search_mode=regular_search&check_in=2024-11-24&check_out=2024-11-29&source_impression_id=p3_1730726946_P3yESR3H6j3TmcQd&previous_page_section_name=1000&federated_search_id=de88bd80-49f9-45fb-aa0a-1e0c4ac14901\n"
     ]
    },
    {
     "name": "stderr",
     "output_type": "stream",
     "text": [
      "Extrayendo datos:  57%|█████▋    | 285/500 [40:08<30:19,  8.46s/it]"
     ]
    },
    {
     "name": "stdout",
     "output_type": "stream",
     "text": [
      "No se encontró el botón de traducción.\n",
      "Accediendo a: https://www.airbnb.es/rooms/1250076494871048323?adults=1&category_tag=Tag%3A8678&children=0&enable_m3_private_room=true&infants=0&pets=0&photo_id=1997925728&search_mode=regular_search&check_in=2024-12-01&check_out=2024-12-06&source_impression_id=p3_1730726946_P3LLSag0I_OOo55d&previous_page_section_name=1000&federated_search_id=de88bd80-49f9-45fb-aa0a-1e0c4ac14901\n"
     ]
    },
    {
     "name": "stderr",
     "output_type": "stream",
     "text": [
      "Extrayendo datos:  57%|█████▋    | 286/500 [40:17<30:06,  8.44s/it]"
     ]
    },
    {
     "name": "stdout",
     "output_type": "stream",
     "text": [
      "No se encontró el botón de traducción.\n",
      "Accediendo a: https://www.airbnb.es/rooms/43236801?adults=1&children=0&enable_m3_private_room=true&infants=0&pets=0&search_mode=regular_search&check_in=2024-11-17&check_out=2024-11-22&source_impression_id=p3_1730726946_P3qQgfwtou9KokBJ&previous_page_section_name=1000&federated_search_id=de88bd80-49f9-45fb-aa0a-1e0c4ac14901\n"
     ]
    },
    {
     "name": "stderr",
     "output_type": "stream",
     "text": [
      "Extrayendo datos:  57%|█████▋    | 287/500 [40:25<30:02,  8.46s/it]"
     ]
    },
    {
     "name": "stdout",
     "output_type": "stream",
     "text": [
      "No se encontró el botón de traducción.\n",
      "Accediendo a: https://www.airbnb.es/rooms/1252849636674011237?adults=1&children=0&enable_m3_private_room=true&infants=0&pets=0&search_mode=regular_search&check_in=2024-11-07&check_out=2024-11-12&source_impression_id=p3_1730726946_P34yyORoaIvgkm9E&previous_page_section_name=1000&federated_search_id=de88bd80-49f9-45fb-aa0a-1e0c4ac14901\n"
     ]
    },
    {
     "name": "stderr",
     "output_type": "stream",
     "text": [
      "Extrayendo datos:  58%|█████▊    | 288/500 [40:34<29:54,  8.46s/it]"
     ]
    },
    {
     "name": "stdout",
     "output_type": "stream",
     "text": [
      "No se encontró el botón de traducción.\n",
      "Accediendo a: https://www.airbnb.es/rooms/583987826544046548?adults=1&category_tag=Tag%3A8678&children=0&enable_m3_private_room=true&infants=0&pets=0&photo_id=2014996220&search_mode=regular_search&check_in=2024-11-17&check_out=2024-11-22&source_impression_id=p3_1730726955_P3AFf0HtNACErBtv&previous_page_section_name=1000&federated_search_id=4911d0cf-ace0-4b2c-95fc-6bd0b8891ad4\n"
     ]
    },
    {
     "name": "stderr",
     "output_type": "stream",
     "text": [
      "Extrayendo datos:  58%|█████▊    | 289/500 [40:42<29:44,  8.46s/it]"
     ]
    },
    {
     "name": "stdout",
     "output_type": "stream",
     "text": [
      "No se encontró el botón de traducción.\n",
      "Accediendo a: https://www.airbnb.es/rooms/40553596?adults=1&children=0&enable_m3_private_room=true&infants=0&pets=0&search_mode=regular_search&check_in=2024-11-09&check_out=2024-11-14&source_impression_id=p3_1730726955_P3KfOrt06sfTvMGC&previous_page_section_name=1000&federated_search_id=4911d0cf-ace0-4b2c-95fc-6bd0b8891ad4\n"
     ]
    },
    {
     "name": "stderr",
     "output_type": "stream",
     "text": [
      "Extrayendo datos:  58%|█████▊    | 290/500 [40:50<29:33,  8.45s/it]"
     ]
    },
    {
     "name": "stdout",
     "output_type": "stream",
     "text": [
      "No se encontró el botón de traducción.\n",
      "Accediendo a: https://www.airbnb.es/rooms/927418121223302860?adults=1&children=0&enable_m3_private_room=true&infants=0&pets=0&search_mode=regular_search&check_in=2024-11-24&check_out=2024-11-29&source_impression_id=p3_1730726955_P304g9KVG2FoGSmf&previous_page_section_name=1000&federated_search_id=4911d0cf-ace0-4b2c-95fc-6bd0b8891ad4\n"
     ]
    },
    {
     "name": "stderr",
     "output_type": "stream",
     "text": [
      "Extrayendo datos:  58%|█████▊    | 291/500 [40:59<29:30,  8.47s/it]"
     ]
    },
    {
     "name": "stdout",
     "output_type": "stream",
     "text": [
      "No se encontró el botón de traducción.\n",
      "Accediendo a: https://www.airbnb.es/rooms/1252851017334064123?adults=1&children=0&enable_m3_private_room=true&infants=0&pets=0&search_mode=regular_search&check_in=2024-11-08&check_out=2024-11-13&source_impression_id=p3_1730726955_P3jY8kqBIdeK1pzt&previous_page_section_name=1000&federated_search_id=4911d0cf-ace0-4b2c-95fc-6bd0b8891ad4\n"
     ]
    },
    {
     "name": "stderr",
     "output_type": "stream",
     "text": [
      "Extrayendo datos:  58%|█████▊    | 292/500 [41:07<29:25,  8.49s/it]"
     ]
    },
    {
     "name": "stdout",
     "output_type": "stream",
     "text": [
      "No se encontró el botón de traducción.\n",
      "Accediendo a: https://www.airbnb.es/rooms/1243254147120959358?adults=1&category_tag=Tag%3A8678&children=0&enable_m3_private_room=true&infants=0&pets=0&photo_id=2015735133&search_mode=regular_search&check_in=2024-11-10&check_out=2024-11-15&source_impression_id=p3_1730726955_P3upASPGUA2vhtWj&previous_page_section_name=1000&federated_search_id=4911d0cf-ace0-4b2c-95fc-6bd0b8891ad4\n"
     ]
    },
    {
     "name": "stderr",
     "output_type": "stream",
     "text": [
      "Extrayendo datos:  59%|█████▊    | 293/500 [41:16<29:15,  8.48s/it]"
     ]
    },
    {
     "name": "stdout",
     "output_type": "stream",
     "text": [
      "No se encontró el botón de traducción.\n",
      "Accediendo a: https://www.airbnb.es/rooms/801909472414507212?adults=1&children=0&enable_m3_private_room=true&infants=0&pets=0&search_mode=regular_search&check_in=2024-11-17&check_out=2024-11-22&source_impression_id=p3_1730726955_P3eHIL2k_Q0cg3jR&previous_page_section_name=1000&federated_search_id=4911d0cf-ace0-4b2c-95fc-6bd0b8891ad4\n"
     ]
    },
    {
     "name": "stderr",
     "output_type": "stream",
     "text": [
      "Extrayendo datos:  59%|█████▉    | 294/500 [41:24<29:03,  8.46s/it]"
     ]
    },
    {
     "name": "stdout",
     "output_type": "stream",
     "text": [
      "No se encontró el botón de traducción.\n",
      "Accediendo a: https://www.airbnb.es/rooms/979073?adults=1&children=0&enable_m3_private_room=true&infants=0&pets=0&search_mode=regular_search&check_in=2024-12-08&check_out=2024-12-13&source_impression_id=p3_1730726955_P3h-gWBlUyzkYlPL&previous_page_section_name=1000&federated_search_id=4911d0cf-ace0-4b2c-95fc-6bd0b8891ad4\n"
     ]
    },
    {
     "name": "stderr",
     "output_type": "stream",
     "text": [
      "Extrayendo datos:  59%|█████▉    | 295/500 [41:33<28:51,  8.45s/it]"
     ]
    },
    {
     "name": "stdout",
     "output_type": "stream",
     "text": [
      "No se encontró el botón de traducción.\n",
      "Accediendo a: https://www.airbnb.es/rooms/1164492474530834424?adults=1&children=0&enable_m3_private_room=true&infants=0&pets=0&search_mode=regular_search&check_in=2024-12-08&check_out=2024-12-13&source_impression_id=p3_1730726955_P3zvOGM96pqR4h4b&previous_page_section_name=1000&federated_search_id=4911d0cf-ace0-4b2c-95fc-6bd0b8891ad4\n"
     ]
    },
    {
     "name": "stderr",
     "output_type": "stream",
     "text": [
      "Extrayendo datos:  59%|█████▉    | 296/500 [41:41<28:45,  8.46s/it]"
     ]
    },
    {
     "name": "stdout",
     "output_type": "stream",
     "text": [
      "No se encontró el botón de traducción.\n",
      "Accediendo a: https://www.airbnb.es/rooms/1270266469340006214?adults=1&category_tag=Tag%3A8678&children=0&enable_m3_private_room=true&infants=0&pets=0&photo_id=2015148890&search_mode=regular_search&check_in=2024-11-25&check_out=2024-11-30&source_impression_id=p3_1730726955_P3gOmNS6zxu3Bpx0&previous_page_section_name=1000&federated_search_id=4911d0cf-ace0-4b2c-95fc-6bd0b8891ad4\n"
     ]
    },
    {
     "name": "stderr",
     "output_type": "stream",
     "text": [
      "Extrayendo datos:  59%|█████▉    | 297/500 [41:50<28:34,  8.45s/it]"
     ]
    },
    {
     "name": "stdout",
     "output_type": "stream",
     "text": [
      "No se encontró el botón de traducción.\n",
      "Accediendo a: https://www.airbnb.es/rooms/1228812933215136247?adults=1&children=0&enable_m3_private_room=true&infants=0&pets=0&search_mode=regular_search&check_in=2024-11-17&check_out=2024-11-22&source_impression_id=p3_1730726955_P3I41HqwY9I3oVEv&previous_page_section_name=1000&federated_search_id=4911d0cf-ace0-4b2c-95fc-6bd0b8891ad4\n"
     ]
    },
    {
     "name": "stderr",
     "output_type": "stream",
     "text": [
      "Extrayendo datos:  60%|█████▉    | 298/500 [41:58<28:24,  8.44s/it]"
     ]
    },
    {
     "name": "stdout",
     "output_type": "stream",
     "text": [
      "No se encontró el botón de traducción.\n",
      "Accediendo a: https://www.airbnb.es/rooms/995740216386278670?adults=1&children=0&enable_m3_private_room=true&infants=0&pets=0&search_mode=regular_search&check_in=2024-12-04&check_out=2024-12-09&source_impression_id=p3_1730726955_P353tEI_L9p1IQXE&previous_page_section_name=1000&federated_search_id=4911d0cf-ace0-4b2c-95fc-6bd0b8891ad4\n"
     ]
    },
    {
     "name": "stderr",
     "output_type": "stream",
     "text": [
      "Extrayendo datos:  60%|█████▉    | 299/500 [42:06<28:15,  8.44s/it]"
     ]
    },
    {
     "name": "stdout",
     "output_type": "stream",
     "text": [
      "No se encontró el botón de traducción.\n",
      "Accediendo a: https://www.airbnb.es/rooms/1248750542478617295?adults=1&category_tag=Tag%3A8678&children=0&enable_m3_private_room=true&infants=0&pets=0&photo_id=2020476505&search_mode=regular_search&check_in=2024-11-05&check_out=2024-11-10&source_impression_id=p3_1730726955_P3j0NtL3DoVDGQyD&previous_page_section_name=1000&federated_search_id=4911d0cf-ace0-4b2c-95fc-6bd0b8891ad4\n",
      "No se encontró el botón de traducción.\n"
     ]
    },
    {
     "name": "stderr",
     "output_type": "stream",
     "text": [
      "Extrayendo datos:  60%|██████    | 300/500 [42:15<28:14,  8.47s/it]"
     ]
    },
    {
     "name": "stdout",
     "output_type": "stream",
     "text": [
      "Accediendo a: https://www.airbnb.es/rooms/33816957?adults=1&children=0&enable_m3_private_room=true&infants=0&pets=0&search_mode=regular_search&check_in=2024-11-25&check_out=2024-11-30&source_impression_id=p3_1730726955_P37Ba8YlvRgf7iLQ&previous_page_section_name=1000&federated_search_id=4911d0cf-ace0-4b2c-95fc-6bd0b8891ad4\n"
     ]
    },
    {
     "name": "stderr",
     "output_type": "stream",
     "text": [
      "Extrayendo datos:  60%|██████    | 301/500 [42:23<27:59,  8.44s/it]"
     ]
    },
    {
     "name": "stdout",
     "output_type": "stream",
     "text": [
      "No se encontró el botón de traducción.\n",
      "Accediendo a: https://www.airbnb.es/rooms/47043666?adults=1&children=0&enable_m3_private_room=true&infants=0&pets=0&search_mode=regular_search&check_in=2024-11-24&check_out=2024-11-29&source_impression_id=p3_1730726955_P39h0JBM-aCllZEp&previous_page_section_name=1000&federated_search_id=4911d0cf-ace0-4b2c-95fc-6bd0b8891ad4\n"
     ]
    },
    {
     "name": "stderr",
     "output_type": "stream",
     "text": [
      "Extrayendo datos:  60%|██████    | 302/500 [42:32<27:53,  8.45s/it]"
     ]
    },
    {
     "name": "stdout",
     "output_type": "stream",
     "text": [
      "No se encontró el botón de traducción.\n",
      "Accediendo a: https://www.airbnb.es/rooms/8181239?adults=1&children=0&enable_m3_private_room=true&infants=0&pets=0&search_mode=regular_search&check_in=2025-02-07&check_out=2025-02-12&source_impression_id=p3_1730726955_P360Gyn2Lmfep4sY&previous_page_section_name=1000&federated_search_id=4911d0cf-ace0-4b2c-95fc-6bd0b8891ad4\n"
     ]
    },
    {
     "name": "stderr",
     "output_type": "stream",
     "text": [
      "Extrayendo datos:  61%|██████    | 303/500 [42:40<27:44,  8.45s/it]"
     ]
    },
    {
     "name": "stdout",
     "output_type": "stream",
     "text": [
      "No se encontró el botón de traducción.\n",
      "Accediendo a: https://www.airbnb.es/rooms/1219516599242285328?adults=1&category_tag=Tag%3A8678&children=0&enable_m3_private_room=true&infants=0&pets=0&photo_id=1972011733&search_mode=regular_search&check_in=2024-11-04&check_out=2024-11-09&source_impression_id=p3_1730726955_P3JZvHnH0Wg52Nw1&previous_page_section_name=1000&federated_search_id=4911d0cf-ace0-4b2c-95fc-6bd0b8891ad4\n",
      "No se encontró el botón de traducción.\n"
     ]
    },
    {
     "name": "stderr",
     "output_type": "stream",
     "text": [
      "Extrayendo datos:  61%|██████    | 304/500 [42:49<27:40,  8.47s/it]"
     ]
    },
    {
     "name": "stdout",
     "output_type": "stream",
     "text": [
      "Accediendo a: https://www.airbnb.es/rooms/2510966?adults=1&children=0&enable_m3_private_room=true&infants=0&pets=0&search_mode=regular_search&check_in=2024-11-24&check_out=2024-11-29&source_impression_id=p3_1730726955_P38lpQy39O_tQugo&previous_page_section_name=1000&federated_search_id=4911d0cf-ace0-4b2c-95fc-6bd0b8891ad4\n"
     ]
    },
    {
     "name": "stderr",
     "output_type": "stream",
     "text": [
      "Extrayendo datos:  61%|██████    | 305/500 [42:57<27:29,  8.46s/it]"
     ]
    },
    {
     "name": "stdout",
     "output_type": "stream",
     "text": [
      "No se encontró el botón de traducción.\n",
      "Accediendo a: https://www.airbnb.es/rooms/1233912067738312329?adults=1&category_tag=Tag%3A8678&children=0&enable_m3_private_room=true&infants=0&pets=0&photo_id=1983896100&search_mode=regular_search&check_in=2024-12-01&check_out=2024-12-06&source_impression_id=p3_1730726954_P3gkiVfEqpLAII0t&previous_page_section_name=1000&federated_search_id=4911d0cf-ace0-4b2c-95fc-6bd0b8891ad4\n"
     ]
    },
    {
     "name": "stderr",
     "output_type": "stream",
     "text": [
      "Extrayendo datos:  61%|██████    | 306/500 [43:06<27:21,  8.46s/it]"
     ]
    },
    {
     "name": "stdout",
     "output_type": "stream",
     "text": [
      "No se encontró el botón de traducción.\n",
      "Accediendo a: https://www.airbnb.es/rooms/1186557696488151161?adults=1&children=0&enable_m3_private_room=true&infants=0&pets=0&search_mode=regular_search&check_in=2024-11-17&check_out=2024-11-22&source_impression_id=p3_1730726959_P3MFrSHoUD2nRCWw&previous_page_section_name=1000&federated_search_id=fbf9e845-8c1b-4b51-929d-4d81d781a41d\n"
     ]
    },
    {
     "name": "stderr",
     "output_type": "stream",
     "text": [
      "Extrayendo datos:  61%|██████▏   | 307/500 [43:14<27:08,  8.44s/it]"
     ]
    },
    {
     "name": "stdout",
     "output_type": "stream",
     "text": [
      "No se encontró el botón de traducción.\n",
      "Accediendo a: https://www.airbnb.es/rooms/36054333?adults=1&children=0&enable_m3_private_room=true&infants=0&pets=0&search_mode=regular_search&check_in=2024-11-04&check_out=2024-11-09&source_impression_id=p3_1730726959_P3_RROvSEIxHmmV_&previous_page_section_name=1000&federated_search_id=fbf9e845-8c1b-4b51-929d-4d81d781a41d\n",
      "No se encontró el botón de traducción.\n"
     ]
    },
    {
     "name": "stderr",
     "output_type": "stream",
     "text": [
      "Extrayendo datos:  62%|██████▏   | 308/500 [43:23<27:03,  8.46s/it]"
     ]
    },
    {
     "name": "stdout",
     "output_type": "stream",
     "text": [
      "Accediendo a: https://www.airbnb.es/rooms/708585040013400709?adults=1&children=0&enable_m3_private_room=true&infants=0&pets=0&search_mode=regular_search&check_in=2024-11-24&check_out=2024-11-29&source_impression_id=p3_1730726959_P3oFCKuVv5DUYd3O&previous_page_section_name=1000&federated_search_id=fbf9e845-8c1b-4b51-929d-4d81d781a41d\n"
     ]
    },
    {
     "name": "stderr",
     "output_type": "stream",
     "text": [
      "Extrayendo datos:  62%|██████▏   | 309/500 [43:31<26:57,  8.47s/it]"
     ]
    },
    {
     "name": "stdout",
     "output_type": "stream",
     "text": [
      "No se encontró el botón de traducción.\n",
      "Accediendo a: https://www.airbnb.es/rooms/45889186?adults=1&children=0&enable_m3_private_room=true&infants=0&pets=0&search_mode=regular_search&check_in=2024-11-10&check_out=2024-11-15&source_impression_id=p3_1730726959_P3ZNNkiKPfpw4EDZ&previous_page_section_name=1000&federated_search_id=fbf9e845-8c1b-4b51-929d-4d81d781a41d\n"
     ]
    },
    {
     "name": "stderr",
     "output_type": "stream",
     "text": [
      "Extrayendo datos:  62%|██████▏   | 310/500 [43:40<26:49,  8.47s/it]"
     ]
    },
    {
     "name": "stdout",
     "output_type": "stream",
     "text": [
      "No se encontró el botón de traducción.\n",
      "Accediendo a: https://www.airbnb.es/rooms/1117044813242677570?adults=1&children=0&enable_m3_private_room=true&infants=0&pets=0&search_mode=regular_search&check_in=2024-11-09&check_out=2024-11-14&source_impression_id=p3_1730726959_P3KeAFU3UtYWlkGc&previous_page_section_name=1000&federated_search_id=fbf9e845-8c1b-4b51-929d-4d81d781a41d\n"
     ]
    },
    {
     "name": "stderr",
     "output_type": "stream",
     "text": [
      "Extrayendo datos:  62%|██████▏   | 311/500 [43:48<26:39,  8.46s/it]"
     ]
    },
    {
     "name": "stdout",
     "output_type": "stream",
     "text": [
      "No se encontró el botón de traducción.\n",
      "Accediendo a: https://www.airbnb.es/rooms/994793512972717331?adults=1&children=0&enable_m3_private_room=true&infants=0&pets=0&search_mode=regular_search&check_in=2024-12-01&check_out=2024-12-06&source_impression_id=p3_1730726959_P333qKHv_bykCtLG&previous_page_section_name=1000&federated_search_id=fbf9e845-8c1b-4b51-929d-4d81d781a41d\n",
      "No se encontró el botón de traducción.\n"
     ]
    },
    {
     "name": "stderr",
     "output_type": "stream",
     "text": [
      "Extrayendo datos:  62%|██████▏   | 312/500 [43:57<26:38,  8.50s/it]"
     ]
    },
    {
     "name": "stdout",
     "output_type": "stream",
     "text": [
      "Accediendo a: https://www.airbnb.es/rooms/5483016?adults=1&children=0&enable_m3_private_room=true&infants=0&pets=0&search_mode=regular_search&check_in=2024-11-16&check_out=2024-11-21&source_impression_id=p3_1730726959_P30gagzd8LlcjZFN&previous_page_section_name=1000&federated_search_id=fbf9e845-8c1b-4b51-929d-4d81d781a41d\n"
     ]
    },
    {
     "name": "stderr",
     "output_type": "stream",
     "text": [
      "Extrayendo datos:  63%|██████▎   | 313/500 [44:05<26:27,  8.49s/it]"
     ]
    },
    {
     "name": "stdout",
     "output_type": "stream",
     "text": [
      "No se encontró el botón de traducción.\n",
      "Accediendo a: https://www.airbnb.es/rooms/29274945?adults=1&children=0&enable_m3_private_room=true&infants=0&pets=0&search_mode=regular_search&check_in=2024-12-01&check_out=2024-12-06&source_impression_id=p3_1730726959_P3zZsT07aRbiMBdQ&previous_page_section_name=1000&federated_search_id=fbf9e845-8c1b-4b51-929d-4d81d781a41d\n"
     ]
    },
    {
     "name": "stderr",
     "output_type": "stream",
     "text": [
      "Extrayendo datos:  63%|██████▎   | 314/500 [44:14<26:15,  8.47s/it]"
     ]
    },
    {
     "name": "stdout",
     "output_type": "stream",
     "text": [
      "No se encontró el botón de traducción.\n",
      "Accediendo a: https://www.airbnb.es/rooms/1202780025822678818?adults=1&category_tag=Tag%3A8678&children=0&enable_m3_private_room=true&infants=0&pets=0&photo_id=1991383786&search_mode=regular_search&check_in=2024-12-05&check_out=2024-12-10&source_impression_id=p3_1730726959_P3lbGLXTNO8x5qYH&previous_page_section_name=1000&federated_search_id=fbf9e845-8c1b-4b51-929d-4d81d781a41d\n"
     ]
    },
    {
     "name": "stderr",
     "output_type": "stream",
     "text": [
      "Extrayendo datos:  63%|██████▎   | 315/500 [44:22<26:06,  8.47s/it]"
     ]
    },
    {
     "name": "stdout",
     "output_type": "stream",
     "text": [
      "No se encontró el botón de traducción.\n",
      "Accediendo a: https://www.airbnb.es/rooms/17021004?adults=1&children=0&enable_m3_private_room=true&infants=0&pets=0&search_mode=regular_search&check_in=2024-12-13&check_out=2024-12-18&source_impression_id=p3_1730726959_P3148QvClMdC6r45&previous_page_section_name=1000&federated_search_id=fbf9e845-8c1b-4b51-929d-4d81d781a41d\n",
      "No se encontró el botón de traducción.\n"
     ]
    },
    {
     "name": "stderr",
     "output_type": "stream",
     "text": [
      "Extrayendo datos:  63%|██████▎   | 316/500 [44:30<26:00,  8.48s/it]"
     ]
    },
    {
     "name": "stdout",
     "output_type": "stream",
     "text": [
      "Accediendo a: https://www.airbnb.es/rooms/1222003173128366994?adults=1&category_tag=Tag%3A8678&children=0&enable_m3_private_room=true&infants=0&pets=0&photo_id=1985255593&search_mode=regular_search&check_in=2024-11-24&check_out=2024-11-29&source_impression_id=p3_1730726959_P3GshtcLG0xjWoFk&previous_page_section_name=1000&federated_search_id=fbf9e845-8c1b-4b51-929d-4d81d781a41d\n"
     ]
    },
    {
     "name": "stderr",
     "output_type": "stream",
     "text": [
      "Extrayendo datos:  63%|██████▎   | 317/500 [44:39<25:52,  8.48s/it]"
     ]
    },
    {
     "name": "stdout",
     "output_type": "stream",
     "text": [
      "No se encontró el botón de traducción.\n",
      "Accediendo a: https://www.airbnb.es/rooms/865191?adults=1&children=0&enable_m3_private_room=true&infants=0&pets=0&search_mode=regular_search&check_in=2024-11-29&check_out=2024-12-04&source_impression_id=p3_1730726959_P36ckjd_lW9G_6vi&previous_page_section_name=1000&federated_search_id=fbf9e845-8c1b-4b51-929d-4d81d781a41d\n"
     ]
    },
    {
     "name": "stderr",
     "output_type": "stream",
     "text": [
      "Extrayendo datos:  64%|██████▎   | 318/500 [44:47<25:41,  8.47s/it]"
     ]
    },
    {
     "name": "stdout",
     "output_type": "stream",
     "text": [
      "No se encontró el botón de traducción.\n",
      "Accediendo a: https://www.airbnb.es/rooms/2373057?adults=1&children=0&enable_m3_private_room=true&infants=0&pets=0&search_mode=regular_search&check_in=2024-12-01&check_out=2024-12-06&source_impression_id=p3_1730726959_P3VvWTuefpjBz4wy&previous_page_section_name=1000&federated_search_id=fbf9e845-8c1b-4b51-929d-4d81d781a41d\n"
     ]
    },
    {
     "name": "stderr",
     "output_type": "stream",
     "text": [
      "Extrayendo datos:  64%|██████▍   | 319/500 [44:56<25:32,  8.47s/it]"
     ]
    },
    {
     "name": "stdout",
     "output_type": "stream",
     "text": [
      "No se encontró el botón de traducción.\n",
      "Accediendo a: https://www.airbnb.es/rooms/3539908?adults=1&children=0&enable_m3_private_room=true&infants=0&pets=0&search_mode=regular_search&check_in=2025-02-09&check_out=2025-02-14&source_impression_id=p3_1730726959_P327X_twX5F39FqO&previous_page_section_name=1000&federated_search_id=fbf9e845-8c1b-4b51-929d-4d81d781a41d\n",
      "No se encontró el botón de traducción.\n"
     ]
    },
    {
     "name": "stderr",
     "output_type": "stream",
     "text": [
      "Extrayendo datos:  64%|██████▍   | 320/500 [45:04<25:29,  8.50s/it]"
     ]
    },
    {
     "name": "stdout",
     "output_type": "stream",
     "text": [
      "Accediendo a: https://www.airbnb.es/rooms/1258528215038263464?adults=1&category_tag=Tag%3A8678&children=0&enable_m3_private_room=true&infants=0&pets=0&photo_id=2004515009&search_mode=regular_search&check_in=2024-11-17&check_out=2024-11-22&source_impression_id=p3_1730726959_P3xxudn6AEhXRv0P&previous_page_section_name=1000&federated_search_id=fbf9e845-8c1b-4b51-929d-4d81d781a41d\n"
     ]
    },
    {
     "name": "stderr",
     "output_type": "stream",
     "text": [
      "Extrayendo datos:  64%|██████▍   | 321/500 [45:13<25:20,  8.49s/it]"
     ]
    },
    {
     "name": "stdout",
     "output_type": "stream",
     "text": [
      "No se encontró el botón de traducción.\n",
      "Accediendo a: https://www.airbnb.es/rooms/1263117591292794971?adults=1&children=0&enable_m3_private_room=true&infants=0&pets=0&search_mode=regular_search&check_in=2024-11-16&check_out=2024-11-21&source_impression_id=p3_1730726959_P3_dNWbL0nxc4wEp&previous_page_section_name=1000&federated_search_id=fbf9e845-8c1b-4b51-929d-4d81d781a41d\n"
     ]
    },
    {
     "name": "stderr",
     "output_type": "stream",
     "text": [
      "Extrayendo datos:  64%|██████▍   | 322/500 [45:21<25:07,  8.47s/it]"
     ]
    },
    {
     "name": "stdout",
     "output_type": "stream",
     "text": [
      "No se encontró el botón de traducción.\n",
      "Accediendo a: https://www.airbnb.es/rooms/1204516840130355594?adults=1&category_tag=Tag%3A8678&children=0&enable_m3_private_room=true&infants=0&pets=0&photo_id=1956822303&search_mode=regular_search&check_in=2024-11-11&check_out=2024-11-16&source_impression_id=p3_1730726959_P3rE3Rp45Y70BLRw&previous_page_section_name=1000&federated_search_id=fbf9e845-8c1b-4b51-929d-4d81d781a41d\n"
     ]
    },
    {
     "name": "stderr",
     "output_type": "stream",
     "text": [
      "Extrayendo datos:  65%|██████▍   | 323/500 [45:30<24:57,  8.46s/it]"
     ]
    },
    {
     "name": "stdout",
     "output_type": "stream",
     "text": [
      "No se encontró el botón de traducción.\n",
      "Accediendo a: https://www.airbnb.es/rooms/665558110966084536?adults=1&children=0&enable_m3_private_room=true&infants=0&pets=0&search_mode=regular_search&check_in=2024-12-08&check_out=2024-12-13&source_impression_id=p3_1730726959_P3k6Qvm3zNLxA2_9&previous_page_section_name=1000&federated_search_id=fbf9e845-8c1b-4b51-929d-4d81d781a41d\n"
     ]
    },
    {
     "name": "stderr",
     "output_type": "stream",
     "text": [
      "Extrayendo datos:  65%|██████▍   | 324/500 [45:38<24:48,  8.45s/it]"
     ]
    },
    {
     "name": "stdout",
     "output_type": "stream",
     "text": [
      "No se encontró el botón de traducción.\n",
      "Accediendo a: https://www.airbnb.es/rooms/40554669?adults=1&children=0&enable_m3_private_room=true&infants=0&pets=0&search_mode=regular_search&check_in=2024-11-17&check_out=2024-11-22&source_impression_id=p3_1730726964_P3kVXjHuMLWP_NkK&previous_page_section_name=1000&federated_search_id=a5cc4a1e-6edd-499b-ae72-31242d943b20\n"
     ]
    },
    {
     "name": "stderr",
     "output_type": "stream",
     "text": [
      "Extrayendo datos:  65%|██████▌   | 325/500 [45:47<24:46,  8.49s/it]"
     ]
    },
    {
     "name": "stdout",
     "output_type": "stream",
     "text": [
      "No se encontró el botón de traducción.\n",
      "Accediendo a: https://www.airbnb.es/rooms/50427228?adults=1&children=0&enable_m3_private_room=true&infants=0&pets=0&search_mode=regular_search&check_in=2024-11-29&check_out=2024-12-04&source_impression_id=p3_1730726964_P3a7V65uXPhAU-zY&previous_page_section_name=1000&federated_search_id=a5cc4a1e-6edd-499b-ae72-31242d943b20\n"
     ]
    },
    {
     "name": "stderr",
     "output_type": "stream",
     "text": [
      "Extrayendo datos:  65%|██████▌   | 326/500 [45:55<24:37,  8.49s/it]"
     ]
    },
    {
     "name": "stdout",
     "output_type": "stream",
     "text": [
      "No se encontró el botón de traducción.\n",
      "Accediendo a: https://www.airbnb.es/rooms/1258532236251609781?adults=1&category_tag=Tag%3A8678&children=0&enable_m3_private_room=true&infants=0&pets=0&photo_id=2004517945&search_mode=regular_search&check_in=2024-11-25&check_out=2024-11-30&source_impression_id=p3_1730726964_P31RBB_0uc6rVBO_&previous_page_section_name=1000&federated_search_id=a5cc4a1e-6edd-499b-ae72-31242d943b20\n"
     ]
    },
    {
     "name": "stderr",
     "output_type": "stream",
     "text": [
      "Extrayendo datos:  65%|██████▌   | 327/500 [46:04<24:23,  8.46s/it]"
     ]
    },
    {
     "name": "stdout",
     "output_type": "stream",
     "text": [
      "No se encontró el botón de traducción.\n",
      "Accediendo a: https://www.airbnb.es/rooms/988917?adults=1&children=0&enable_m3_private_room=true&infants=0&pets=0&search_mode=regular_search&check_in=2025-01-05&check_out=2025-01-10&source_impression_id=p3_1730726964_P3uaiCTcLcPNpf32&previous_page_section_name=1000&federated_search_id=a5cc4a1e-6edd-499b-ae72-31242d943b20\n"
     ]
    },
    {
     "name": "stderr",
     "output_type": "stream",
     "text": [
      "Extrayendo datos:  66%|██████▌   | 328/500 [46:12<24:13,  8.45s/it]"
     ]
    },
    {
     "name": "stdout",
     "output_type": "stream",
     "text": [
      "No se encontró el botón de traducción.\n",
      "Accediendo a: https://www.airbnb.es/rooms/10447043?adults=1&children=0&enable_m3_private_room=true&infants=0&pets=0&search_mode=regular_search&check_in=2024-11-17&check_out=2024-11-22&source_impression_id=p3_1730726964_P3Lygp-ZXcmA9mBJ&previous_page_section_name=1000&federated_search_id=a5cc4a1e-6edd-499b-ae72-31242d943b20\n"
     ]
    },
    {
     "name": "stderr",
     "output_type": "stream",
     "text": [
      "Extrayendo datos:  66%|██████▌   | 329/500 [46:21<24:06,  8.46s/it]"
     ]
    },
    {
     "name": "stdout",
     "output_type": "stream",
     "text": [
      "No se encontró el botón de traducción.\n",
      "Accediendo a: https://www.airbnb.es/rooms/1268315562716583459?adults=1&category_tag=Tag%3A8678&children=0&enable_m3_private_room=true&infants=0&pets=0&photo_id=2012469117&search_mode=regular_search&check_in=2024-11-09&check_out=2024-11-14&source_impression_id=p3_1730726964_P3R3-62Vg1BIc8gI&previous_page_section_name=1000&federated_search_id=a5cc4a1e-6edd-499b-ae72-31242d943b20\n"
     ]
    },
    {
     "name": "stderr",
     "output_type": "stream",
     "text": [
      "Extrayendo datos:  66%|██████▌   | 330/500 [46:29<23:53,  8.43s/it]"
     ]
    },
    {
     "name": "stdout",
     "output_type": "stream",
     "text": [
      "No se encontró el botón de traducción.\n",
      "Accediendo a: https://www.airbnb.es/rooms/1207065162731542501?adults=1&children=0&enable_m3_private_room=true&infants=0&pets=0&search_mode=regular_search&check_in=2024-11-24&check_out=2024-11-29&source_impression_id=p3_1730726964_P3vvJHwkkQOjWFL2&previous_page_section_name=1000&federated_search_id=a5cc4a1e-6edd-499b-ae72-31242d943b20\n"
     ]
    },
    {
     "name": "stderr",
     "output_type": "stream",
     "text": [
      "Extrayendo datos:  66%|██████▌   | 331/500 [46:37<23:48,  8.45s/it]"
     ]
    },
    {
     "name": "stdout",
     "output_type": "stream",
     "text": [
      "No se encontró el botón de traducción.\n",
      "Accediendo a: https://www.airbnb.es/rooms/2669219?adults=1&children=0&enable_m3_private_room=true&infants=0&pets=0&search_mode=regular_search&check_in=2024-11-10&check_out=2024-11-15&source_impression_id=p3_1730726964_P3PkwTNs6-19neVI&previous_page_section_name=1000&federated_search_id=a5cc4a1e-6edd-499b-ae72-31242d943b20\n"
     ]
    },
    {
     "name": "stderr",
     "output_type": "stream",
     "text": [
      "Extrayendo datos:  66%|██████▋   | 332/500 [46:46<23:39,  8.45s/it]"
     ]
    },
    {
     "name": "stdout",
     "output_type": "stream",
     "text": [
      "No se encontró el botón de traducción.\n",
      "Accediendo a: https://www.airbnb.es/rooms/24343358?adults=1&children=0&enable_m3_private_room=true&infants=0&pets=0&search_mode=regular_search&check_in=2024-12-01&check_out=2024-12-06&source_impression_id=p3_1730726964_P3vUhq3u9uaD88nh&previous_page_section_name=1000&federated_search_id=a5cc4a1e-6edd-499b-ae72-31242d943b20\n"
     ]
    },
    {
     "name": "stderr",
     "output_type": "stream",
     "text": [
      "Extrayendo datos:  67%|██████▋   | 333/500 [46:54<23:34,  8.47s/it]"
     ]
    },
    {
     "name": "stdout",
     "output_type": "stream",
     "text": [
      "No se encontró el botón de traducción.\n",
      "Accediendo a: https://www.airbnb.es/rooms/22991302?adults=1&children=0&enable_m3_private_room=true&infants=0&pets=0&search_mode=regular_search&check_in=2024-12-01&check_out=2024-12-06&source_impression_id=p3_1730726964_P33pHl6SSa36g-fH&previous_page_section_name=1000&federated_search_id=a5cc4a1e-6edd-499b-ae72-31242d943b20\n"
     ]
    },
    {
     "name": "stderr",
     "output_type": "stream",
     "text": [
      "Extrayendo datos:  67%|██████▋   | 334/500 [47:03<23:24,  8.46s/it]"
     ]
    },
    {
     "name": "stdout",
     "output_type": "stream",
     "text": [
      "No se encontró el botón de traducción.\n",
      "Accediendo a: https://www.airbnb.es/rooms/42127782?adults=1&children=0&enable_m3_private_room=true&infants=0&pets=0&search_mode=regular_search&check_in=2024-11-24&check_out=2024-11-29&source_impression_id=p3_1730726964_P3BWNTN16jHqvMo1&previous_page_section_name=1000&federated_search_id=a5cc4a1e-6edd-499b-ae72-31242d943b20\n"
     ]
    },
    {
     "name": "stderr",
     "output_type": "stream",
     "text": [
      "Extrayendo datos:  67%|██████▋   | 335/500 [47:11<23:16,  8.46s/it]"
     ]
    },
    {
     "name": "stdout",
     "output_type": "stream",
     "text": [
      "No se encontró el botón de traducción.\n",
      "Accediendo a: https://www.airbnb.es/rooms/1213691178291414318?adults=1&category_tag=Tag%3A8678&children=0&enable_m3_private_room=true&infants=0&pets=0&photo_id=1985164892&search_mode=regular_search&check_in=2024-11-25&check_out=2024-11-30&source_impression_id=p3_1730726964_P3C4BqGqG2T0ADCl&previous_page_section_name=1000&federated_search_id=a5cc4a1e-6edd-499b-ae72-31242d943b20\n"
     ]
    },
    {
     "name": "stderr",
     "output_type": "stream",
     "text": [
      "Extrayendo datos:  67%|██████▋   | 336/500 [47:20<23:06,  8.45s/it]"
     ]
    },
    {
     "name": "stdout",
     "output_type": "stream",
     "text": [
      "No se encontró el botón de traducción.\n",
      "Accediendo a: https://www.airbnb.es/rooms/53411031?adults=1&children=0&enable_m3_private_room=true&infants=0&pets=0&search_mode=regular_search&check_in=2024-11-11&check_out=2024-11-16&source_impression_id=p3_1730726964_P30FbTc7Y5EMdK_T&previous_page_section_name=1000&federated_search_id=a5cc4a1e-6edd-499b-ae72-31242d943b20\n",
      "No se encontró el botón de traducción.\n"
     ]
    },
    {
     "name": "stderr",
     "output_type": "stream",
     "text": [
      "Extrayendo datos:  67%|██████▋   | 337/500 [47:28<22:59,  8.47s/it]"
     ]
    },
    {
     "name": "stdout",
     "output_type": "stream",
     "text": [
      "Accediendo a: https://www.airbnb.es/rooms/1115353239605825248?adults=1&children=0&enable_m3_private_room=true&infants=0&pets=0&search_mode=regular_search&check_in=2024-11-10&check_out=2024-11-15&source_impression_id=p3_1730726964_P3VZkW2lQwSyGUOJ&previous_page_section_name=1000&federated_search_id=a5cc4a1e-6edd-499b-ae72-31242d943b20\n"
     ]
    },
    {
     "name": "stderr",
     "output_type": "stream",
     "text": [
      "Extrayendo datos:  68%|██████▊   | 338/500 [47:37<22:53,  8.48s/it]"
     ]
    },
    {
     "name": "stdout",
     "output_type": "stream",
     "text": [
      "No se encontró el botón de traducción.\n",
      "Accediendo a: https://www.airbnb.es/rooms/1279040855576324107?adults=1&category_tag=Tag%3A8678&children=0&enable_m3_private_room=true&infants=0&pets=0&photo_id=2020968030&search_mode=regular_search&check_in=2024-11-05&check_out=2024-11-10&source_impression_id=p3_1730726964_P3ZGbrdlUe0G43y-&previous_page_section_name=1000&federated_search_id=a5cc4a1e-6edd-499b-ae72-31242d943b20\n"
     ]
    },
    {
     "name": "stderr",
     "output_type": "stream",
     "text": [
      "Extrayendo datos:  68%|██████▊   | 339/500 [47:45<22:39,  8.45s/it]"
     ]
    },
    {
     "name": "stdout",
     "output_type": "stream",
     "text": [
      "No se encontró el botón de traducción.\n",
      "Accediendo a: https://www.airbnb.es/rooms/53185029?adults=1&children=0&enable_m3_private_room=true&infants=0&pets=0&search_mode=regular_search&check_in=2024-12-01&check_out=2024-12-06&source_impression_id=p3_1730726964_P3TBbTYz1PUXCfA1&previous_page_section_name=1000&federated_search_id=a5cc4a1e-6edd-499b-ae72-31242d943b20\n"
     ]
    },
    {
     "name": "stderr",
     "output_type": "stream",
     "text": [
      "Extrayendo datos:  68%|██████▊   | 340/500 [47:54<22:29,  8.44s/it]"
     ]
    },
    {
     "name": "stdout",
     "output_type": "stream",
     "text": [
      "No se encontró el botón de traducción.\n",
      "Accediendo a: https://www.airbnb.es/rooms/1193500597485584032?adults=1&children=0&enable_m3_private_room=true&infants=0&pets=0&search_mode=regular_search&check_in=2024-11-04&check_out=2024-11-09&source_impression_id=p3_1730726964_P3DshJ0WF1-E9X-X&previous_page_section_name=1000&federated_search_id=a5cc4a1e-6edd-499b-ae72-31242d943b20\n",
      "No se encontró el botón de traducción.\n"
     ]
    },
    {
     "name": "stderr",
     "output_type": "stream",
     "text": [
      "Extrayendo datos:  68%|██████▊   | 341/500 [48:02<22:22,  8.45s/it]"
     ]
    },
    {
     "name": "stdout",
     "output_type": "stream",
     "text": [
      "Accediendo a: https://www.airbnb.es/rooms/696286140249559857?adults=1&children=0&enable_m3_private_room=true&infants=0&pets=0&search_mode=regular_search&check_in=2024-11-10&check_out=2024-11-15&source_impression_id=p3_1730726964_P3dk8R3ZCD76iLWb&previous_page_section_name=1000&federated_search_id=a5cc4a1e-6edd-499b-ae72-31242d943b20\n"
     ]
    },
    {
     "name": "stderr",
     "output_type": "stream",
     "text": [
      "Extrayendo datos:  68%|██████▊   | 342/500 [48:10<22:16,  8.46s/it]"
     ]
    },
    {
     "name": "stdout",
     "output_type": "stream",
     "text": [
      "No se encontró el botón de traducción.\n",
      "Accediendo a: https://www.airbnb.es/rooms/1183185927717485350?adults=1&children=0&enable_m3_private_room=true&infants=0&pets=0&search_mode=regular_search&check_in=2024-11-10&check_out=2024-11-15&source_impression_id=p3_1730726968_P3uakZIFgDzOp8-S&previous_page_section_name=1000&federated_search_id=6cdacc7d-6828-4da6-9a39-280b8f42c356\n"
     ]
    },
    {
     "name": "stderr",
     "output_type": "stream",
     "text": [
      "Extrayendo datos:  69%|██████▊   | 343/500 [48:19<22:07,  8.45s/it]"
     ]
    },
    {
     "name": "stdout",
     "output_type": "stream",
     "text": [
      "No se encontró el botón de traducción.\n",
      "Accediendo a: https://www.airbnb.es/rooms/22026733?adults=1&children=0&enable_m3_private_room=true&infants=0&pets=0&search_mode=regular_search&check_in=2024-11-10&check_out=2024-11-15&source_impression_id=p3_1730726968_P3NQE34jVfuwBAds&previous_page_section_name=1000&federated_search_id=6cdacc7d-6828-4da6-9a39-280b8f42c356\n"
     ]
    },
    {
     "name": "stderr",
     "output_type": "stream",
     "text": [
      "Extrayendo datos:  69%|██████▉   | 344/500 [48:27<22:02,  8.47s/it]"
     ]
    },
    {
     "name": "stdout",
     "output_type": "stream",
     "text": [
      "No se encontró el botón de traducción.\n",
      "Accediendo a: https://www.airbnb.es/rooms/1126613779447054663?adults=1&children=0&enable_m3_private_room=true&infants=0&pets=0&search_mode=regular_search&check_in=2024-11-09&check_out=2024-11-14&source_impression_id=p3_1730726968_P3Fz3B2-9kgGjgFl&previous_page_section_name=1000&federated_search_id=6cdacc7d-6828-4da6-9a39-280b8f42c356\n",
      "No se encontró el botón de traducción.\n"
     ]
    },
    {
     "name": "stderr",
     "output_type": "stream",
     "text": [
      "Extrayendo datos:  69%|██████▉   | 345/500 [48:36<21:58,  8.51s/it]"
     ]
    },
    {
     "name": "stdout",
     "output_type": "stream",
     "text": [
      "Accediendo a: https://www.airbnb.es/rooms/28554820?adults=1&children=0&enable_m3_private_room=true&infants=0&pets=0&search_mode=regular_search&check_in=2024-12-08&check_out=2024-12-13&source_impression_id=p3_1730726968_P3SHQkAjv2GdJDJF&previous_page_section_name=1000&federated_search_id=6cdacc7d-6828-4da6-9a39-280b8f42c356\n"
     ]
    },
    {
     "name": "stderr",
     "output_type": "stream",
     "text": [
      "Extrayendo datos:  69%|██████▉   | 346/500 [48:44<21:46,  8.48s/it]"
     ]
    },
    {
     "name": "stdout",
     "output_type": "stream",
     "text": [
      "No se encontró el botón de traducción.\n",
      "Accediendo a: https://www.airbnb.es/rooms/45576362?adults=1&category_tag=Tag%3A8678&children=0&enable_m3_private_room=true&infants=0&pets=0&photo_id=1436856880&search_mode=regular_search&check_in=2024-11-28&check_out=2024-12-03&source_impression_id=p3_1730726968_P33dc-70XNuCODp6&previous_page_section_name=1000&federated_search_id=6cdacc7d-6828-4da6-9a39-280b8f42c356\n"
     ]
    },
    {
     "name": "stderr",
     "output_type": "stream",
     "text": [
      "Extrayendo datos:  69%|██████▉   | 347/500 [48:53<21:39,  8.49s/it]"
     ]
    },
    {
     "name": "stdout",
     "output_type": "stream",
     "text": [
      "No se encontró el botón de traducción.\n",
      "Accediendo a: https://www.airbnb.es/rooms/1262390950809215892?adults=1&category_tag=Tag%3A8678&children=0&enable_m3_private_room=true&infants=0&pets=0&photo_id=2007669443&search_mode=regular_search&check_in=2024-12-01&check_out=2024-12-06&source_impression_id=p3_1730726968_P3waM9yHDkr8jeBz&previous_page_section_name=1000&federated_search_id=6cdacc7d-6828-4da6-9a39-280b8f42c356\n"
     ]
    },
    {
     "name": "stderr",
     "output_type": "stream",
     "text": [
      "Extrayendo datos:  70%|██████▉   | 348/500 [49:01<21:24,  8.45s/it]"
     ]
    },
    {
     "name": "stdout",
     "output_type": "stream",
     "text": [
      "No se encontró el botón de traducción.\n",
      "Accediendo a: https://www.airbnb.es/rooms/34191394?adults=1&children=0&enable_m3_private_room=true&infants=0&pets=0&search_mode=regular_search&check_in=2024-11-16&check_out=2024-11-21&source_impression_id=p3_1730726968_P3Ry7uWIdtXBOOrk&previous_page_section_name=1000&federated_search_id=6cdacc7d-6828-4da6-9a39-280b8f42c356\n",
      "No se encontró el botón de traducción.\n"
     ]
    },
    {
     "name": "stderr",
     "output_type": "stream",
     "text": [
      "Extrayendo datos:  70%|██████▉   | 349/500 [49:10<21:17,  8.46s/it]"
     ]
    },
    {
     "name": "stdout",
     "output_type": "stream",
     "text": [
      "Accediendo a: https://www.airbnb.es/rooms/1239353939252642805?adults=1&category_tag=Tag%3A8678&children=0&enable_m3_private_room=true&infants=0&pets=0&photo_id=1988427769&search_mode=regular_search&check_in=2024-11-10&check_out=2024-11-15&source_impression_id=p3_1730726968_P3X-KmnO5NQHxVBx&previous_page_section_name=1000&federated_search_id=6cdacc7d-6828-4da6-9a39-280b8f42c356\n"
     ]
    },
    {
     "name": "stderr",
     "output_type": "stream",
     "text": [
      "Extrayendo datos:  70%|███████   | 350/500 [49:18<21:08,  8.45s/it]"
     ]
    },
    {
     "name": "stdout",
     "output_type": "stream",
     "text": [
      "No se encontró el botón de traducción.\n",
      "Accediendo a: https://www.airbnb.es/rooms/43881409?adults=1&children=0&enable_m3_private_room=true&infants=0&pets=0&search_mode=regular_search&check_in=2024-11-10&check_out=2024-11-15&source_impression_id=p3_1730726968_P31GfkU59tB3mniR&previous_page_section_name=1000&federated_search_id=6cdacc7d-6828-4da6-9a39-280b8f42c356\n"
     ]
    },
    {
     "name": "stderr",
     "output_type": "stream",
     "text": [
      "Extrayendo datos:  70%|███████   | 351/500 [49:27<21:01,  8.47s/it]"
     ]
    },
    {
     "name": "stdout",
     "output_type": "stream",
     "text": [
      "No se encontró el botón de traducción.\n",
      "Accediendo a: https://www.airbnb.es/rooms/1025886891634709543?adults=1&category_tag=Tag%3A8678&children=0&enable_m3_private_room=true&infants=0&pets=0&photo_id=1861210605&search_mode=regular_search&check_in=2024-11-10&check_out=2024-11-15&source_impression_id=p3_1730726968_P3EXj01ik7NJm5Dd&previous_page_section_name=1000&federated_search_id=6cdacc7d-6828-4da6-9a39-280b8f42c356\n"
     ]
    },
    {
     "name": "stderr",
     "output_type": "stream",
     "text": [
      "Extrayendo datos:  70%|███████   | 352/500 [49:35<20:52,  8.47s/it]"
     ]
    },
    {
     "name": "stdout",
     "output_type": "stream",
     "text": [
      "No se encontró el botón de traducción.\n",
      "Accediendo a: https://www.airbnb.es/rooms/591189288332716179?adults=1&children=0&enable_m3_private_room=true&infants=0&pets=0&search_mode=regular_search&check_in=2024-11-11&check_out=2024-11-16&source_impression_id=p3_1730726968_P34iMDvuxcrVHpBd&previous_page_section_name=1000&federated_search_id=6cdacc7d-6828-4da6-9a39-280b8f42c356\n",
      "No se encontró el botón de traducción.\n"
     ]
    },
    {
     "name": "stderr",
     "output_type": "stream",
     "text": [
      "Extrayendo datos:  71%|███████   | 353/500 [49:44<20:46,  8.48s/it]"
     ]
    },
    {
     "name": "stdout",
     "output_type": "stream",
     "text": [
      "Accediendo a: https://www.airbnb.es/rooms/6152624?adults=1&children=0&enable_m3_private_room=true&infants=0&pets=0&search_mode=regular_search&check_in=2024-12-15&check_out=2024-12-20&source_impression_id=p3_1730726968_P38izFwMN988gjf_&previous_page_section_name=1000&federated_search_id=6cdacc7d-6828-4da6-9a39-280b8f42c356\n"
     ]
    },
    {
     "name": "stderr",
     "output_type": "stream",
     "text": [
      "Extrayendo datos:  71%|███████   | 354/500 [49:52<20:37,  8.48s/it]"
     ]
    },
    {
     "name": "stdout",
     "output_type": "stream",
     "text": [
      "No se encontró el botón de traducción.\n",
      "Accediendo a: https://www.airbnb.es/rooms/1192692130835760091?adults=1&children=0&enable_m3_private_room=true&infants=0&pets=0&search_mode=regular_search&check_in=2024-11-25&check_out=2024-11-30&source_impression_id=p3_1730726968_P3IKAd3mNfcSTT9y&previous_page_section_name=1000&federated_search_id=6cdacc7d-6828-4da6-9a39-280b8f42c356\n"
     ]
    },
    {
     "name": "stderr",
     "output_type": "stream",
     "text": [
      "Extrayendo datos:  71%|███████   | 355/500 [50:01<20:30,  8.49s/it]"
     ]
    },
    {
     "name": "stdout",
     "output_type": "stream",
     "text": [
      "No se encontró el botón de traducción.\n",
      "Accediendo a: https://www.airbnb.es/rooms/1291971?adults=1&children=0&enable_m3_private_room=true&infants=0&pets=0&search_mode=regular_search&check_in=2024-11-17&check_out=2024-11-22&source_impression_id=p3_1730726968_P347loGTWEw15FXu&previous_page_section_name=1000&federated_search_id=6cdacc7d-6828-4da6-9a39-280b8f42c356\n"
     ]
    },
    {
     "name": "stderr",
     "output_type": "stream",
     "text": [
      "Extrayendo datos:  71%|███████   | 356/500 [50:09<20:21,  8.48s/it]"
     ]
    },
    {
     "name": "stdout",
     "output_type": "stream",
     "text": [
      "No se encontró el botón de traducción.\n",
      "Accediendo a: https://www.airbnb.es/rooms/27013203?adults=1&children=0&enable_m3_private_room=true&infants=0&pets=0&search_mode=regular_search&check_in=2024-12-16&check_out=2024-12-21&source_impression_id=p3_1730726968_P3nzLfKmPa9jYzSo&previous_page_section_name=1000&federated_search_id=6cdacc7d-6828-4da6-9a39-280b8f42c356\n",
      "No se encontró el botón de traducción.\n"
     ]
    },
    {
     "name": "stderr",
     "output_type": "stream",
     "text": [
      "Extrayendo datos:  71%|███████▏  | 357/500 [50:18<20:13,  8.48s/it]"
     ]
    },
    {
     "name": "stdout",
     "output_type": "stream",
     "text": [
      "Accediendo a: https://www.airbnb.es/rooms/636655325451341783?adults=1&category_tag=Tag%3A8678&children=0&enable_m3_private_room=true&infants=0&pets=0&photo_id=1533484852&search_mode=regular_search&check_in=2024-11-10&check_out=2024-11-15&source_impression_id=p3_1730726968_P3D8WUS5BT7pRu0B&previous_page_section_name=1000&federated_search_id=6cdacc7d-6828-4da6-9a39-280b8f42c356\n"
     ]
    },
    {
     "name": "stderr",
     "output_type": "stream",
     "text": [
      "Extrayendo datos:  72%|███████▏  | 358/500 [50:26<20:02,  8.47s/it]"
     ]
    },
    {
     "name": "stdout",
     "output_type": "stream",
     "text": [
      "No se encontró el botón de traducción.\n",
      "Accediendo a: https://www.airbnb.es/rooms/1219561473030220539?adults=1&children=0&enable_m3_private_room=true&infants=0&pets=0&search_mode=regular_search&check_in=2024-11-10&check_out=2024-11-15&source_impression_id=p3_1730726968_P3dcMhThEBNajzXJ&previous_page_section_name=1000&federated_search_id=6cdacc7d-6828-4da6-9a39-280b8f42c356\n"
     ]
    },
    {
     "name": "stderr",
     "output_type": "stream",
     "text": [
      "Extrayendo datos:  72%|███████▏  | 359/500 [50:34<19:50,  8.44s/it]"
     ]
    },
    {
     "name": "stdout",
     "output_type": "stream",
     "text": [
      "No se encontró el botón de traducción.\n",
      "Accediendo a: https://www.airbnb.es/rooms/16405178?adults=1&children=0&enable_m3_private_room=true&infants=0&pets=0&search_mode=regular_search&check_in=2024-12-01&check_out=2024-12-06&source_impression_id=p3_1730726968_P3YWpzLzZPywVSN9&previous_page_section_name=1000&federated_search_id=6cdacc7d-6828-4da6-9a39-280b8f42c356\n"
     ]
    },
    {
     "name": "stderr",
     "output_type": "stream",
     "text": [
      "Extrayendo datos:  72%|███████▏  | 360/500 [50:43<19:41,  8.44s/it]"
     ]
    },
    {
     "name": "stdout",
     "output_type": "stream",
     "text": [
      "No se encontró el botón de traducción.\n",
      "Accediendo a: https://www.airbnb.es/rooms/28688045?adults=1&children=0&enable_m3_private_room=true&infants=0&pets=0&search_mode=regular_search&check_in=2024-11-17&check_out=2024-11-22&source_impression_id=p3_1730726973_P3V1-25e7HRLg1Vo&previous_page_section_name=1000&federated_search_id=0cc05cf4-cec7-4676-a2ad-b80e9448eb66\n",
      "No se encontró el botón de traducción.\n"
     ]
    },
    {
     "name": "stderr",
     "output_type": "stream",
     "text": [
      "Extrayendo datos:  72%|███████▏  | 361/500 [50:51<19:38,  8.48s/it]"
     ]
    },
    {
     "name": "stdout",
     "output_type": "stream",
     "text": [
      "Accediendo a: https://www.airbnb.es/rooms/1529855?adults=1&children=0&enable_m3_private_room=true&infants=0&pets=0&search_mode=regular_search&check_in=2024-12-01&check_out=2024-12-06&source_impression_id=p3_1730726973_P3MIQ0zjoMsqldz6&previous_page_section_name=1000&federated_search_id=0cc05cf4-cec7-4676-a2ad-b80e9448eb66\n"
     ]
    },
    {
     "name": "stderr",
     "output_type": "stream",
     "text": [
      "Extrayendo datos:  72%|███████▏  | 362/500 [51:00<19:27,  8.46s/it]"
     ]
    },
    {
     "name": "stdout",
     "output_type": "stream",
     "text": [
      "No se encontró el botón de traducción.\n",
      "Accediendo a: https://www.airbnb.es/rooms/588996?adults=1&children=0&enable_m3_private_room=true&infants=0&pets=0&search_mode=regular_search&check_in=2024-11-30&check_out=2024-12-05&source_impression_id=p3_1730726973_P3IMp6I9S4VvB69Z&previous_page_section_name=1000&federated_search_id=0cc05cf4-cec7-4676-a2ad-b80e9448eb66\n"
     ]
    },
    {
     "name": "stderr",
     "output_type": "stream",
     "text": [
      "Extrayendo datos:  73%|███████▎  | 363/500 [51:08<19:18,  8.46s/it]"
     ]
    },
    {
     "name": "stdout",
     "output_type": "stream",
     "text": [
      "No se encontró el botón de traducción.\n",
      "Accediendo a: https://www.airbnb.es/rooms/1239053049458811288?adults=1&category_tag=Tag%3A8678&children=0&enable_m3_private_room=true&infants=0&pets=0&photo_id=1988110422&search_mode=regular_search&check_in=2024-11-25&check_out=2024-11-30&source_impression_id=p3_1730726973_P3E9kjRmAcp8xxUz&previous_page_section_name=1000&federated_search_id=0cc05cf4-cec7-4676-a2ad-b80e9448eb66\n"
     ]
    },
    {
     "name": "stderr",
     "output_type": "stream",
     "text": [
      "Extrayendo datos:  73%|███████▎  | 364/500 [51:17<19:07,  8.44s/it]"
     ]
    },
    {
     "name": "stdout",
     "output_type": "stream",
     "text": [
      "No se encontró el botón de traducción.\n",
      "Accediendo a: https://www.airbnb.es/rooms/44994769?adults=1&children=0&enable_m3_private_room=true&infants=0&pets=0&search_mode=regular_search&check_in=2024-12-01&check_out=2024-12-06&source_impression_id=p3_1730726973_P3vQdQiQt9mVjAt3&previous_page_section_name=1000&federated_search_id=0cc05cf4-cec7-4676-a2ad-b80e9448eb66\n",
      "No se encontró el botón de traducción.\n"
     ]
    },
    {
     "name": "stderr",
     "output_type": "stream",
     "text": [
      "Extrayendo datos:  73%|███████▎  | 365/500 [51:25<19:00,  8.45s/it]"
     ]
    },
    {
     "name": "stdout",
     "output_type": "stream",
     "text": [
      "Accediendo a: https://www.airbnb.es/rooms/557929113555451434?adults=1&category_tag=Tag%3A8678&children=0&enable_m3_private_room=true&infants=0&pets=0&photo_id=1619646153&search_mode=regular_search&check_in=2024-12-02&check_out=2024-12-07&source_impression_id=p3_1730726973_P3Gqu5g1L3IQ5HF1&previous_page_section_name=1000&federated_search_id=0cc05cf4-cec7-4676-a2ad-b80e9448eb66\n"
     ]
    },
    {
     "name": "stderr",
     "output_type": "stream",
     "text": [
      "Extrayendo datos:  73%|███████▎  | 366/500 [51:34<18:52,  8.45s/it]"
     ]
    },
    {
     "name": "stdout",
     "output_type": "stream",
     "text": [
      "No se encontró el botón de traducción.\n",
      "Accediendo a: https://www.airbnb.es/rooms/862122500288513146?adults=1&children=0&enable_m3_private_room=true&infants=0&pets=0&search_mode=regular_search&check_in=2024-11-24&check_out=2024-11-29&source_impression_id=p3_1730726973_P3RlteDN6X34NSuI&previous_page_section_name=1000&federated_search_id=0cc05cf4-cec7-4676-a2ad-b80e9448eb66\n"
     ]
    },
    {
     "name": "stderr",
     "output_type": "stream",
     "text": [
      "Extrayendo datos:  73%|███████▎  | 367/500 [51:42<18:45,  8.47s/it]"
     ]
    },
    {
     "name": "stdout",
     "output_type": "stream",
     "text": [
      "No se encontró el botón de traducción.\n",
      "Accediendo a: https://www.airbnb.es/rooms/1277512686840174474?adults=1&category_tag=Tag%3A8678&children=0&enable_m3_private_room=true&infants=0&pets=0&photo_id=2019599957&search_mode=regular_search&check_in=2024-11-04&check_out=2024-11-09&source_impression_id=p3_1730726973_P3NV_DEM6oIkBTxM&previous_page_section_name=1000&federated_search_id=0cc05cf4-cec7-4676-a2ad-b80e9448eb66\n"
     ]
    },
    {
     "name": "stderr",
     "output_type": "stream",
     "text": [
      "Extrayendo datos:  74%|███████▎  | 368/500 [51:51<18:34,  8.44s/it]"
     ]
    },
    {
     "name": "stdout",
     "output_type": "stream",
     "text": [
      "No se encontró el botón de traducción.\n",
      "Accediendo a: https://www.airbnb.es/rooms/943928658717986567?adults=1&children=0&enable_m3_private_room=true&infants=0&pets=0&search_mode=regular_search&check_in=2024-11-17&check_out=2024-11-22&source_impression_id=p3_1730726973_P3whr2JVKUjQvjeQ&previous_page_section_name=1000&federated_search_id=0cc05cf4-cec7-4676-a2ad-b80e9448eb66\n",
      "No se encontró el botón de traducción.\n"
     ]
    },
    {
     "name": "stderr",
     "output_type": "stream",
     "text": [
      "Extrayendo datos:  74%|███████▍  | 369/500 [51:59<18:28,  8.46s/it]"
     ]
    },
    {
     "name": "stdout",
     "output_type": "stream",
     "text": [
      "Accediendo a: https://www.airbnb.es/rooms/775644?adults=1&children=0&enable_m3_private_room=true&infants=0&pets=0&search_mode=regular_search&check_in=2024-11-24&check_out=2024-11-29&source_impression_id=p3_1730726973_P3IKkf2MkueSwebR&previous_page_section_name=1000&federated_search_id=0cc05cf4-cec7-4676-a2ad-b80e9448eb66\n"
     ]
    },
    {
     "name": "stderr",
     "output_type": "stream",
     "text": [
      "Extrayendo datos:  74%|███████▍  | 370/500 [52:08<18:26,  8.51s/it]"
     ]
    },
    {
     "name": "stdout",
     "output_type": "stream",
     "text": [
      "No se encontró el botón de traducción.\n",
      "Accediendo a: https://www.airbnb.es/rooms/43235590?adults=1&children=0&enable_m3_private_room=true&infants=0&pets=0&search_mode=regular_search&check_in=2024-11-10&check_out=2024-11-15&source_impression_id=p3_1730726973_P3LoMAMWm_0rgvi6&previous_page_section_name=1000&federated_search_id=0cc05cf4-cec7-4676-a2ad-b80e9448eb66\n"
     ]
    },
    {
     "name": "stderr",
     "output_type": "stream",
     "text": [
      "Extrayendo datos:  74%|███████▍  | 371/500 [52:16<18:18,  8.52s/it]"
     ]
    },
    {
     "name": "stdout",
     "output_type": "stream",
     "text": [
      "No se encontró el botón de traducción.\n",
      "Accediendo a: https://www.airbnb.es/rooms/661678370861367884?adults=1&category_tag=Tag%3A8678&children=0&enable_m3_private_room=true&infants=0&pets=0&photo_id=1463131046&search_mode=regular_search&check_in=2024-11-18&check_out=2024-11-23&source_impression_id=p3_1730726973_P3955_6elLEbUVpP&previous_page_section_name=1000&federated_search_id=0cc05cf4-cec7-4676-a2ad-b80e9448eb66\n"
     ]
    },
    {
     "name": "stderr",
     "output_type": "stream",
     "text": [
      "Extrayendo datos:  74%|███████▍  | 372/500 [52:25<18:09,  8.51s/it]"
     ]
    },
    {
     "name": "stdout",
     "output_type": "stream",
     "text": [
      "No se encontró el botón de traducción.\n",
      "Accediendo a: https://www.airbnb.es/rooms/906559?adults=1&children=0&enable_m3_private_room=true&infants=0&pets=0&search_mode=regular_search&check_in=2024-12-01&check_out=2024-12-06&source_impression_id=p3_1730726973_P38n601U7p3EL_lj&previous_page_section_name=1000&federated_search_id=0cc05cf4-cec7-4676-a2ad-b80e9448eb66\n",
      "No se encontró el botón de traducción.\n"
     ]
    },
    {
     "name": "stderr",
     "output_type": "stream",
     "text": [
      "Extrayendo datos:  75%|███████▍  | 373/500 [52:33<18:01,  8.52s/it]"
     ]
    },
    {
     "name": "stdout",
     "output_type": "stream",
     "text": [
      "Accediendo a: https://www.airbnb.es/rooms/33385782?adults=1&children=0&enable_m3_private_room=true&infants=0&pets=0&search_mode=regular_search&check_in=2024-11-30&check_out=2024-12-05&source_impression_id=p3_1730726973_P3D-ZtGrm_Iovn4C&previous_page_section_name=1000&federated_search_id=0cc05cf4-cec7-4676-a2ad-b80e9448eb66\n"
     ]
    },
    {
     "name": "stderr",
     "output_type": "stream",
     "text": [
      "Extrayendo datos:  75%|███████▍  | 374/500 [52:42<17:53,  8.52s/it]"
     ]
    },
    {
     "name": "stdout",
     "output_type": "stream",
     "text": [
      "No se encontró el botón de traducción.\n",
      "Accediendo a: https://www.airbnb.es/rooms/543342?adults=1&children=0&enable_m3_private_room=true&infants=0&pets=0&search_mode=regular_search&check_in=2024-12-16&check_out=2024-12-21&source_impression_id=p3_1730726973_P3qHQt4xOgddDilf&previous_page_section_name=1000&federated_search_id=0cc05cf4-cec7-4676-a2ad-b80e9448eb66\n"
     ]
    },
    {
     "name": "stderr",
     "output_type": "stream",
     "text": [
      "Extrayendo datos:  75%|███████▌  | 375/500 [52:50<17:44,  8.52s/it]"
     ]
    },
    {
     "name": "stdout",
     "output_type": "stream",
     "text": [
      "No se encontró el botón de traducción.\n",
      "Accediendo a: https://www.airbnb.es/rooms/32561248?adults=1&children=0&enable_m3_private_room=true&infants=0&pets=0&search_mode=regular_search&check_in=2024-11-27&check_out=2024-12-02&source_impression_id=p3_1730726973_P35vNh5oSTXPhKGG&previous_page_section_name=1000&federated_search_id=0cc05cf4-cec7-4676-a2ad-b80e9448eb66\n"
     ]
    },
    {
     "name": "stderr",
     "output_type": "stream",
     "text": [
      "Extrayendo datos:  75%|███████▌  | 376/500 [52:59<17:35,  8.51s/it]"
     ]
    },
    {
     "name": "stdout",
     "output_type": "stream",
     "text": [
      "No se encontró el botón de traducción.\n",
      "Accediendo a: https://www.airbnb.es/rooms/2469678?adults=1&children=0&enable_m3_private_room=true&infants=0&pets=0&search_mode=regular_search&check_in=2025-08-18&check_out=2025-08-23&source_impression_id=p3_1730726973_P3w9ana1B3PuchM9&previous_page_section_name=1000&federated_search_id=0cc05cf4-cec7-4676-a2ad-b80e9448eb66\n",
      "No se encontró el botón de traducción.\n"
     ]
    },
    {
     "name": "stderr",
     "output_type": "stream",
     "text": [
      "Extrayendo datos:  75%|███████▌  | 377/500 [53:07<17:29,  8.54s/it]"
     ]
    },
    {
     "name": "stdout",
     "output_type": "stream",
     "text": [
      "Accediendo a: https://www.airbnb.es/rooms/1257769885054208712?adults=1&children=0&enable_m3_private_room=true&infants=0&pets=0&search_mode=regular_search&check_in=2024-11-10&check_out=2024-11-15&source_impression_id=p3_1730726973_P3HZB_IQ07RUFEnN&previous_page_section_name=1000&federated_search_id=0cc05cf4-cec7-4676-a2ad-b80e9448eb66\n"
     ]
    },
    {
     "name": "stderr",
     "output_type": "stream",
     "text": [
      "Extrayendo datos:  76%|███████▌  | 378/500 [53:16<17:19,  8.52s/it]"
     ]
    },
    {
     "name": "stdout",
     "output_type": "stream",
     "text": [
      "No se encontró el botón de traducción.\n",
      "Accediendo a: https://www.airbnb.es/rooms/44159663?adults=1&children=0&enable_m3_private_room=true&infants=0&pets=0&search_mode=regular_search&check_in=2024-11-11&check_out=2024-11-16&source_impression_id=p3_1730726977_P3y--CLyY49PDViT&previous_page_section_name=1000&federated_search_id=fb97a412-957e-4496-bf85-455739ddf5bf\n"
     ]
    },
    {
     "name": "stderr",
     "output_type": "stream",
     "text": [
      "Extrayendo datos:  76%|███████▌  | 379/500 [53:24<17:07,  8.49s/it]"
     ]
    },
    {
     "name": "stdout",
     "output_type": "stream",
     "text": [
      "No se encontró el botón de traducción.\n",
      "Accediendo a: https://www.airbnb.es/rooms/1188964443225198128?adults=1&category_tag=Tag%3A8678&children=0&enable_m3_private_room=true&infants=0&pets=0&photo_id=1940767936&search_mode=regular_search&check_in=2024-11-06&check_out=2024-11-11&source_impression_id=p3_1730726977_P3Ioysgk3N08Qr93&previous_page_section_name=1000&federated_search_id=fb97a412-957e-4496-bf85-455739ddf5bf\n"
     ]
    },
    {
     "name": "stderr",
     "output_type": "stream",
     "text": [
      "Extrayendo datos:  76%|███████▌  | 380/500 [53:33<16:54,  8.45s/it]"
     ]
    },
    {
     "name": "stdout",
     "output_type": "stream",
     "text": [
      "No se encontró el botón de traducción.\n",
      "Accediendo a: https://www.airbnb.es/rooms/41003481?adults=1&category_tag=Tag%3A8678&children=0&enable_m3_private_room=true&infants=0&pets=0&photo_id=1560753967&search_mode=regular_search&check_in=2024-11-19&check_out=2024-11-24&source_impression_id=p3_1730726977_P3Zc4MdjT8KeWZ0-&previous_page_section_name=1000&federated_search_id=fb97a412-957e-4496-bf85-455739ddf5bf\n",
      "No se encontró el botón de traducción.\n"
     ]
    },
    {
     "name": "stderr",
     "output_type": "stream",
     "text": [
      "Extrayendo datos:  76%|███████▌  | 381/500 [53:41<16:47,  8.47s/it]"
     ]
    },
    {
     "name": "stdout",
     "output_type": "stream",
     "text": [
      "Accediendo a: https://www.airbnb.es/rooms/53056356?adults=1&children=0&enable_m3_private_room=true&infants=0&pets=0&search_mode=regular_search&check_in=2024-12-08&check_out=2024-12-13&source_impression_id=p3_1730726977_P3_0He1oPViR3fH7&previous_page_section_name=1000&federated_search_id=fb97a412-957e-4496-bf85-455739ddf5bf\n"
     ]
    },
    {
     "name": "stderr",
     "output_type": "stream",
     "text": [
      "Extrayendo datos:  76%|███████▋  | 382/500 [53:50<16:36,  8.45s/it]"
     ]
    },
    {
     "name": "stdout",
     "output_type": "stream",
     "text": [
      "No se encontró el botón de traducción.\n",
      "Accediendo a: https://www.airbnb.es/rooms/46459243?adults=1&children=0&enable_m3_private_room=true&infants=0&pets=0&search_mode=regular_search&check_in=2024-11-30&check_out=2024-12-05&source_impression_id=p3_1730726977_P3ZczkOwuQeq2fci&previous_page_section_name=1000&federated_search_id=fb97a412-957e-4496-bf85-455739ddf5bf\n"
     ]
    },
    {
     "name": "stderr",
     "output_type": "stream",
     "text": [
      "Extrayendo datos:  77%|███████▋  | 383/500 [53:58<16:27,  8.44s/it]"
     ]
    },
    {
     "name": "stdout",
     "output_type": "stream",
     "text": [
      "No se encontró el botón de traducción.\n",
      "Accediendo a: https://www.airbnb.es/rooms/2755738?adults=1&children=0&enable_m3_private_room=true&infants=0&pets=0&search_mode=regular_search&check_in=2024-11-10&check_out=2024-11-15&source_impression_id=p3_1730726977_P3n7gp4_wwpe6JTV&previous_page_section_name=1000&federated_search_id=fb97a412-957e-4496-bf85-455739ddf5bf\n"
     ]
    },
    {
     "name": "stderr",
     "output_type": "stream",
     "text": [
      "Extrayendo datos:  77%|███████▋  | 384/500 [54:06<16:19,  8.44s/it]"
     ]
    },
    {
     "name": "stdout",
     "output_type": "stream",
     "text": [
      "No se encontró el botón de traducción.\n",
      "Accediendo a: https://www.airbnb.es/rooms/1233937517542337245?adults=1&category_tag=Tag%3A8678&children=0&enable_m3_private_room=true&infants=0&pets=0&photo_id=1983992736&search_mode=regular_search&check_in=2024-12-13&check_out=2024-12-18&source_impression_id=p3_1730726977_P3cIqrJ-U7oU6lJa&previous_page_section_name=1000&federated_search_id=fb97a412-957e-4496-bf85-455739ddf5bf\n",
      "No se encontró el botón de traducción.\n"
     ]
    },
    {
     "name": "stderr",
     "output_type": "stream",
     "text": [
      "Extrayendo datos:  77%|███████▋  | 385/500 [54:15<16:11,  8.45s/it]"
     ]
    },
    {
     "name": "stdout",
     "output_type": "stream",
     "text": [
      "Accediendo a: https://www.airbnb.es/rooms/1214293444156235308?adults=1&children=0&enable_m3_private_room=true&infants=0&pets=0&search_mode=regular_search&check_in=2024-11-07&check_out=2024-11-12&source_impression_id=p3_1730726977_P3RRWgZhqyaSfrzV&previous_page_section_name=1000&federated_search_id=fb97a412-957e-4496-bf85-455739ddf5bf\n"
     ]
    },
    {
     "name": "stderr",
     "output_type": "stream",
     "text": [
      "Extrayendo datos:  77%|███████▋  | 386/500 [54:23<16:01,  8.43s/it]"
     ]
    },
    {
     "name": "stdout",
     "output_type": "stream",
     "text": [
      "No se encontró el botón de traducción.\n",
      "Accediendo a: https://www.airbnb.es/rooms/1176611230178132461?adults=1&children=0&enable_m3_private_room=true&infants=0&pets=0&search_mode=regular_search&check_in=2024-11-10&check_out=2024-11-15&source_impression_id=p3_1730726977_P3H226Z5WwtNPuUM&previous_page_section_name=1000&federated_search_id=fb97a412-957e-4496-bf85-455739ddf5bf\n"
     ]
    },
    {
     "name": "stderr",
     "output_type": "stream",
     "text": [
      "Extrayendo datos:  77%|███████▋  | 387/500 [54:32<15:51,  8.42s/it]"
     ]
    },
    {
     "name": "stdout",
     "output_type": "stream",
     "text": [
      "No se encontró el botón de traducción.\n",
      "Accediendo a: https://www.airbnb.es/rooms/51319559?adults=1&children=0&enable_m3_private_room=true&infants=0&pets=0&search_mode=regular_search&check_in=2024-11-24&check_out=2024-11-29&source_impression_id=p3_1730726977_P3dPqqv5Sg7XGQSP&previous_page_section_name=1000&federated_search_id=fb97a412-957e-4496-bf85-455739ddf5bf\n"
     ]
    },
    {
     "name": "stderr",
     "output_type": "stream",
     "text": [
      "Extrayendo datos:  78%|███████▊  | 388/500 [54:40<15:48,  8.47s/it]"
     ]
    },
    {
     "name": "stdout",
     "output_type": "stream",
     "text": [
      "No se encontró el botón de traducción.\n",
      "Accediendo a: https://www.airbnb.es/rooms/2167544?adults=1&children=0&enable_m3_private_room=true&infants=0&pets=0&search_mode=regular_search&check_in=2024-11-22&check_out=2024-11-27&source_impression_id=p3_1730726977_P3r6pEE7ZLq1BxKb&previous_page_section_name=1000&federated_search_id=fb97a412-957e-4496-bf85-455739ddf5bf\n",
      "No se encontró el botón de traducción.\n"
     ]
    },
    {
     "name": "stderr",
     "output_type": "stream",
     "text": [
      "Extrayendo datos:  78%|███████▊  | 389/500 [54:49<15:40,  8.47s/it]"
     ]
    },
    {
     "name": "stdout",
     "output_type": "stream",
     "text": [
      "Accediendo a: https://www.airbnb.es/rooms/1123669483735273588?adults=1&children=0&enable_m3_private_room=true&infants=0&pets=0&search_mode=regular_search&check_in=2024-12-01&check_out=2024-12-06&source_impression_id=p3_1730726977_P3bVvNx_KLbVobib&previous_page_section_name=1000&federated_search_id=fb97a412-957e-4496-bf85-455739ddf5bf\n"
     ]
    },
    {
     "name": "stderr",
     "output_type": "stream",
     "text": [
      "Extrayendo datos:  78%|███████▊  | 390/500 [54:57<15:32,  8.47s/it]"
     ]
    },
    {
     "name": "stdout",
     "output_type": "stream",
     "text": [
      "No se encontró el botón de traducción.\n",
      "Accediendo a: https://www.airbnb.es/rooms/1165432?adults=1&children=0&enable_m3_private_room=true&infants=0&pets=0&search_mode=regular_search&check_in=2024-11-17&check_out=2024-11-22&source_impression_id=p3_1730726977_P3ESX9QPselZQDm6&previous_page_section_name=1000&federated_search_id=fb97a412-957e-4496-bf85-455739ddf5bf\n"
     ]
    },
    {
     "name": "stderr",
     "output_type": "stream",
     "text": [
      "Extrayendo datos:  78%|███████▊  | 391/500 [55:06<15:24,  8.48s/it]"
     ]
    },
    {
     "name": "stdout",
     "output_type": "stream",
     "text": [
      "No se encontró el botón de traducción.\n",
      "Accediendo a: https://www.airbnb.es/rooms/1265660833018089515?adults=1&children=0&enable_m3_private_room=true&infants=0&pets=0&search_mode=regular_search&check_in=2024-11-06&check_out=2024-11-11&source_impression_id=p3_1730726977_P3UCVx6c-Kl4hZWw&previous_page_section_name=1000&federated_search_id=fb97a412-957e-4496-bf85-455739ddf5bf\n"
     ]
    },
    {
     "name": "stderr",
     "output_type": "stream",
     "text": [
      "Extrayendo datos:  78%|███████▊  | 392/500 [55:14<15:16,  8.49s/it]"
     ]
    },
    {
     "name": "stdout",
     "output_type": "stream",
     "text": [
      "No se encontró el botón de traducción.\n",
      "Accediendo a: https://www.airbnb.es/rooms/1019340307296601080?adults=1&children=0&enable_m3_private_room=true&infants=0&pets=0&search_mode=regular_search&check_in=2024-11-10&check_out=2024-11-15&source_impression_id=p3_1730726977_P3oGu2I3v7-WB20r&previous_page_section_name=1000&federated_search_id=fb97a412-957e-4496-bf85-455739ddf5bf\n",
      "No se encontró el botón de traducción.\n"
     ]
    },
    {
     "name": "stderr",
     "output_type": "stream",
     "text": [
      "Extrayendo datos:  79%|███████▊  | 393/500 [55:23<15:09,  8.50s/it]"
     ]
    },
    {
     "name": "stdout",
     "output_type": "stream",
     "text": [
      "Accediendo a: https://www.airbnb.es/rooms/44995311?adults=1&children=0&enable_m3_private_room=true&infants=0&pets=0&search_mode=regular_search&check_in=2024-12-14&check_out=2024-12-19&source_impression_id=p3_1730726977_P3qIgyWnM7gdE89O&previous_page_section_name=1000&federated_search_id=fb97a412-957e-4496-bf85-455739ddf5bf\n"
     ]
    },
    {
     "name": "stderr",
     "output_type": "stream",
     "text": [
      "Extrayendo datos:  79%|███████▉  | 394/500 [55:31<15:01,  8.50s/it]"
     ]
    },
    {
     "name": "stdout",
     "output_type": "stream",
     "text": [
      "No se encontró el botón de traducción.\n",
      "Accediendo a: https://www.airbnb.es/rooms/1242062806305975230?adults=1&children=0&enable_m3_private_room=true&infants=0&pets=0&search_mode=regular_search&check_in=2024-11-25&check_out=2024-11-30&source_impression_id=p3_1730726977_P3pq5Pr_A985jML3&previous_page_section_name=1000&federated_search_id=fb97a412-957e-4496-bf85-455739ddf5bf\n"
     ]
    },
    {
     "name": "stderr",
     "output_type": "stream",
     "text": [
      "Extrayendo datos:  79%|███████▉  | 395/500 [55:40<14:50,  8.48s/it]"
     ]
    },
    {
     "name": "stdout",
     "output_type": "stream",
     "text": [
      "No se encontró el botón de traducción.\n",
      "Accediendo a: https://www.airbnb.es/rooms/53824743?adults=1&children=0&enable_m3_private_room=true&infants=0&pets=0&search_mode=regular_search&check_in=2024-11-23&check_out=2024-11-28&source_impression_id=p3_1730726977_P3Rlp98DJzNTrbSn&previous_page_section_name=1000&federated_search_id=fb97a412-957e-4496-bf85-455739ddf5bf\n"
     ]
    },
    {
     "name": "stderr",
     "output_type": "stream",
     "text": [
      "Extrayendo datos:  79%|███████▉  | 396/500 [55:48<14:40,  8.47s/it]"
     ]
    },
    {
     "name": "stdout",
     "output_type": "stream",
     "text": [
      "No se encontró el botón de traducción.\n",
      "Accediendo a: https://www.airbnb.es/rooms/757149?adults=1&children=0&enable_m3_private_room=true&infants=0&pets=0&search_mode=regular_search&check_in=2025-02-08&check_out=2025-02-13&source_impression_id=p3_1730726982_P37bFpvgTf0OCds_&previous_page_section_name=1000&federated_search_id=9c1b88d7-aadf-4513-a51c-69285d4f5e8a\n",
      "No se encontró el botón de traducción.\n"
     ]
    },
    {
     "name": "stderr",
     "output_type": "stream",
     "text": [
      "Extrayendo datos:  79%|███████▉  | 397/500 [55:57<14:36,  8.51s/it]"
     ]
    },
    {
     "name": "stdout",
     "output_type": "stream",
     "text": [
      "Accediendo a: https://www.airbnb.es/rooms/5143895?adults=1&children=0&enable_m3_private_room=true&infants=0&pets=0&search_mode=regular_search&check_in=2025-07-10&check_out=2025-07-15&source_impression_id=p3_1730726982_P3V_5154J4Ml6jrT&previous_page_section_name=1000&federated_search_id=9c1b88d7-aadf-4513-a51c-69285d4f5e8a\n"
     ]
    },
    {
     "name": "stderr",
     "output_type": "stream",
     "text": [
      "Extrayendo datos:  80%|███████▉  | 398/500 [56:05<14:24,  8.48s/it]"
     ]
    },
    {
     "name": "stdout",
     "output_type": "stream",
     "text": [
      "No se encontró el botón de traducción.\n",
      "Accediendo a: https://www.airbnb.es/rooms/34279029?adults=1&children=0&enable_m3_private_room=true&infants=0&pets=0&search_mode=regular_search&check_in=2024-11-17&check_out=2024-11-22&source_impression_id=p3_1730726982_P3FfVVdhRD1mUmfa&previous_page_section_name=1000&federated_search_id=9c1b88d7-aadf-4513-a51c-69285d4f5e8a\n"
     ]
    },
    {
     "name": "stderr",
     "output_type": "stream",
     "text": [
      "Extrayendo datos:  80%|███████▉  | 399/500 [56:14<14:14,  8.46s/it]"
     ]
    },
    {
     "name": "stdout",
     "output_type": "stream",
     "text": [
      "No se encontró el botón de traducción.\n",
      "Accediendo a: https://www.airbnb.es/rooms/934979?adults=1&children=0&enable_m3_private_room=true&infants=0&pets=0&search_mode=regular_search&check_in=2024-12-02&check_out=2024-12-07&source_impression_id=p3_1730726982_P3HVLBn2BQrYUPJK&previous_page_section_name=1000&federated_search_id=9c1b88d7-aadf-4513-a51c-69285d4f5e8a\n"
     ]
    },
    {
     "name": "stderr",
     "output_type": "stream",
     "text": [
      "Extrayendo datos:  80%|████████  | 400/500 [56:22<14:04,  8.45s/it]"
     ]
    },
    {
     "name": "stdout",
     "output_type": "stream",
     "text": [
      "No se encontró el botón de traducción.\n",
      "Accediendo a: https://www.airbnb.es/rooms/1182544876601100068?adults=1&category_tag=Tag%3A8678&children=0&enable_m3_private_room=true&infants=0&pets=0&photo_id=1933999963&search_mode=regular_search&check_in=2024-12-08&check_out=2024-12-13&source_impression_id=p3_1730726982_P3vbkOOW5OOA2uNw&previous_page_section_name=1000&federated_search_id=9c1b88d7-aadf-4513-a51c-69285d4f5e8a\n",
      "No se encontró el botón de traducción.\n"
     ]
    },
    {
     "name": "stderr",
     "output_type": "stream",
     "text": [
      "Extrayendo datos:  80%|████████  | 401/500 [56:31<14:01,  8.50s/it]"
     ]
    },
    {
     "name": "stdout",
     "output_type": "stream",
     "text": [
      "Accediendo a: https://www.airbnb.es/rooms/1197637831227097242?adults=1&children=0&enable_m3_private_room=true&infants=0&pets=0&search_mode=regular_search&check_in=2025-01-04&check_out=2025-01-09&source_impression_id=p3_1730726982_P3yXO8sfMzhZgTDA&previous_page_section_name=1000&federated_search_id=9c1b88d7-aadf-4513-a51c-69285d4f5e8a\n"
     ]
    },
    {
     "name": "stderr",
     "output_type": "stream",
     "text": [
      "Extrayendo datos:  80%|████████  | 402/500 [56:39<13:50,  8.47s/it]"
     ]
    },
    {
     "name": "stdout",
     "output_type": "stream",
     "text": [
      "No se encontró el botón de traducción.\n",
      "Accediendo a: https://www.airbnb.es/rooms/7953354?adults=1&children=0&enable_m3_private_room=true&infants=0&pets=0&search_mode=regular_search&check_in=2024-12-08&check_out=2024-12-13&source_impression_id=p3_1730726982_P3VTIjOvMLev3LLh&previous_page_section_name=1000&federated_search_id=9c1b88d7-aadf-4513-a51c-69285d4f5e8a\n"
     ]
    },
    {
     "name": "stderr",
     "output_type": "stream",
     "text": [
      "Extrayendo datos:  81%|████████  | 403/500 [56:47<13:41,  8.47s/it]"
     ]
    },
    {
     "name": "stdout",
     "output_type": "stream",
     "text": [
      "No se encontró el botón de traducción.\n",
      "Accediendo a: https://www.airbnb.es/rooms/977631?adults=1&children=0&enable_m3_private_room=true&infants=0&pets=0&search_mode=regular_search&check_in=2024-11-18&check_out=2024-11-23&source_impression_id=p3_1730726982_P3aGvM54Ily_wdtG&previous_page_section_name=1000&federated_search_id=9c1b88d7-aadf-4513-a51c-69285d4f5e8a\n"
     ]
    },
    {
     "name": "stderr",
     "output_type": "stream",
     "text": [
      "Extrayendo datos:  81%|████████  | 404/500 [56:56<13:32,  8.46s/it]"
     ]
    },
    {
     "name": "stdout",
     "output_type": "stream",
     "text": [
      "No se encontró el botón de traducción.\n",
      "Accediendo a: https://www.airbnb.es/rooms/717119569864803923?adults=1&children=0&enable_m3_private_room=true&infants=0&pets=0&search_mode=regular_search&check_in=2024-11-24&check_out=2024-11-29&source_impression_id=p3_1730726982_P3137ddvfu71SZ_B&previous_page_section_name=1000&federated_search_id=9c1b88d7-aadf-4513-a51c-69285d4f5e8a\n",
      "No se encontró el botón de traducción.\n"
     ]
    },
    {
     "name": "stderr",
     "output_type": "stream",
     "text": [
      "Extrayendo datos:  81%|████████  | 405/500 [57:04<13:25,  8.48s/it]"
     ]
    },
    {
     "name": "stdout",
     "output_type": "stream",
     "text": [
      "Accediendo a: https://www.airbnb.es/rooms/1102498?adults=1&children=0&enable_m3_private_room=true&infants=0&pets=0&search_mode=regular_search&check_in=2024-11-13&check_out=2024-11-18&source_impression_id=p3_1730726982_P3sfJCeoPL_6W3zq&previous_page_section_name=1000&federated_search_id=9c1b88d7-aadf-4513-a51c-69285d4f5e8a\n"
     ]
    },
    {
     "name": "stderr",
     "output_type": "stream",
     "text": [
      "Extrayendo datos:  81%|████████  | 406/500 [57:13<13:15,  8.47s/it]"
     ]
    },
    {
     "name": "stdout",
     "output_type": "stream",
     "text": [
      "No se encontró el botón de traducción.\n",
      "Accediendo a: https://www.airbnb.es/rooms/8811813?adults=1&children=0&enable_m3_private_room=true&infants=0&pets=0&search_mode=regular_search&check_in=2024-11-10&check_out=2024-11-15&source_impression_id=p3_1730726982_P3fZbsNs77Lbhx9n&previous_page_section_name=1000&federated_search_id=9c1b88d7-aadf-4513-a51c-69285d4f5e8a\n"
     ]
    },
    {
     "name": "stderr",
     "output_type": "stream",
     "text": [
      "Extrayendo datos:  81%|████████▏ | 407/500 [57:21<13:08,  8.48s/it]"
     ]
    },
    {
     "name": "stdout",
     "output_type": "stream",
     "text": [
      "No se encontró el botón de traducción.\n",
      "Accediendo a: https://www.airbnb.es/rooms/3763933?adults=1&children=0&enable_m3_private_room=true&infants=0&pets=0&search_mode=regular_search&check_in=2024-11-17&check_out=2024-11-22&source_impression_id=p3_1730726982_P3QKYiEy7fdRP4oa&previous_page_section_name=1000&federated_search_id=9c1b88d7-aadf-4513-a51c-69285d4f5e8a\n"
     ]
    },
    {
     "name": "stderr",
     "output_type": "stream",
     "text": [
      "Extrayendo datos:  82%|████████▏ | 408/500 [57:30<13:00,  8.49s/it]"
     ]
    },
    {
     "name": "stdout",
     "output_type": "stream",
     "text": [
      "No se encontró el botón de traducción.\n",
      "Accediendo a: https://www.airbnb.es/rooms/937331?adults=1&children=0&enable_m3_private_room=true&infants=0&pets=0&search_mode=regular_search&check_in=2024-12-01&check_out=2024-12-06&source_impression_id=p3_1730726982_P3MjCXpoW9o1s6AA&previous_page_section_name=1000&federated_search_id=9c1b88d7-aadf-4513-a51c-69285d4f5e8a\n",
      "No se encontró el botón de traducción.\n"
     ]
    },
    {
     "name": "stderr",
     "output_type": "stream",
     "text": [
      "Extrayendo datos:  82%|████████▏ | 409/500 [57:38<12:52,  8.48s/it]"
     ]
    },
    {
     "name": "stdout",
     "output_type": "stream",
     "text": [
      "Accediendo a: https://www.airbnb.es/rooms/37699365?adults=1&children=0&enable_m3_private_room=true&infants=0&pets=0&search_mode=regular_search&check_in=2024-12-08&check_out=2024-12-13&source_impression_id=p3_1730726982_P35o8CeERLKQJx8e&previous_page_section_name=1000&federated_search_id=9c1b88d7-aadf-4513-a51c-69285d4f5e8a\n"
     ]
    },
    {
     "name": "stderr",
     "output_type": "stream",
     "text": [
      "Extrayendo datos:  82%|████████▏ | 410/500 [57:47<12:41,  8.46s/it]"
     ]
    },
    {
     "name": "stdout",
     "output_type": "stream",
     "text": [
      "No se encontró el botón de traducción.\n",
      "Accediendo a: https://www.airbnb.es/rooms/31758760?adults=1&children=0&enable_m3_private_room=true&infants=0&pets=0&search_mode=regular_search&check_in=2024-11-30&check_out=2024-12-05&source_impression_id=p3_1730726982_P3gGrpW-kfSxTUPO&previous_page_section_name=1000&federated_search_id=9c1b88d7-aadf-4513-a51c-69285d4f5e8a\n"
     ]
    },
    {
     "name": "stderr",
     "output_type": "stream",
     "text": [
      "Extrayendo datos:  82%|████████▏ | 411/500 [57:55<12:32,  8.45s/it]"
     ]
    },
    {
     "name": "stdout",
     "output_type": "stream",
     "text": [
      "No se encontró el botón de traducción.\n",
      "Accediendo a: https://www.airbnb.es/rooms/1167355356931891572?adults=1&children=0&enable_m3_private_room=true&infants=0&pets=0&search_mode=regular_search&check_in=2024-11-10&check_out=2024-11-15&source_impression_id=p3_1730726982_P3HIiAmXT481d92o&previous_page_section_name=1000&federated_search_id=9c1b88d7-aadf-4513-a51c-69285d4f5e8a\n"
     ]
    },
    {
     "name": "stderr",
     "output_type": "stream",
     "text": [
      "Extrayendo datos:  82%|████████▏ | 412/500 [58:04<12:24,  8.46s/it]"
     ]
    },
    {
     "name": "stdout",
     "output_type": "stream",
     "text": [
      "No se encontró el botón de traducción.\n",
      "Accediendo a: https://www.airbnb.es/rooms/26940439?adults=1&children=0&enable_m3_private_room=true&infants=0&pets=0&search_mode=regular_search&check_in=2024-11-17&check_out=2024-11-22&source_impression_id=p3_1730726982_P3lX7E0JcUCmW0di&previous_page_section_name=1000&federated_search_id=9c1b88d7-aadf-4513-a51c-69285d4f5e8a\n"
     ]
    },
    {
     "name": "stderr",
     "output_type": "stream",
     "text": [
      "Extrayendo datos:  83%|████████▎ | 413/500 [58:12<12:16,  8.47s/it]"
     ]
    },
    {
     "name": "stdout",
     "output_type": "stream",
     "text": [
      "No se encontró el botón de traducción.\n",
      "Accediendo a: https://www.airbnb.es/rooms/1253564572663779439?adults=1&children=0&enable_m3_private_room=true&infants=0&pets=0&search_mode=regular_search&check_in=2024-12-01&check_out=2024-12-06&source_impression_id=p3_1730726982_P3suYhG6Mge7VsUZ&previous_page_section_name=1000&federated_search_id=9c1b88d7-aadf-4513-a51c-69285d4f5e8a\n"
     ]
    },
    {
     "name": "stderr",
     "output_type": "stream",
     "text": [
      "Extrayendo datos:  83%|████████▎ | 414/500 [58:21<12:06,  8.44s/it]"
     ]
    },
    {
     "name": "stdout",
     "output_type": "stream",
     "text": [
      "No se encontró el botón de traducción.\n",
      "Accediendo a: https://www.airbnb.es/rooms/2512546?adults=1&children=0&enable_m3_private_room=true&infants=0&pets=0&search_mode=regular_search&check_in=2024-11-28&check_out=2024-12-03&source_impression_id=p3_1730726987_P3tAFMkXaqsLzhSH&previous_page_section_name=1000&federated_search_id=df5dd2ef-7292-4ecb-9973-61a39a4253e4\n"
     ]
    },
    {
     "name": "stderr",
     "output_type": "stream",
     "text": [
      "Extrayendo datos:  83%|████████▎ | 415/500 [58:29<11:57,  8.44s/it]"
     ]
    },
    {
     "name": "stdout",
     "output_type": "stream",
     "text": [
      "No se encontró el botón de traducción.\n",
      "Accediendo a: https://www.airbnb.es/rooms/23645698?adults=1&children=0&enable_m3_private_room=true&infants=0&pets=0&search_mode=regular_search&check_in=2024-12-01&check_out=2024-12-06&source_impression_id=p3_1730726987_P3qXRCHQqKfXXjeA&previous_page_section_name=1000&federated_search_id=df5dd2ef-7292-4ecb-9973-61a39a4253e4\n"
     ]
    },
    {
     "name": "stderr",
     "output_type": "stream",
     "text": [
      "Extrayendo datos:  83%|████████▎ | 416/500 [58:37<11:50,  8.46s/it]"
     ]
    },
    {
     "name": "stdout",
     "output_type": "stream",
     "text": [
      "No se encontró el botón de traducción.\n",
      "Accediendo a: https://www.airbnb.es/rooms/750696265122288224?adults=1&children=0&enable_m3_private_room=true&infants=0&pets=0&search_mode=regular_search&check_in=2024-12-01&check_out=2024-12-06&source_impression_id=p3_1730726987_P37jWHLO3UmT_MPT&previous_page_section_name=1000&federated_search_id=df5dd2ef-7292-4ecb-9973-61a39a4253e4\n",
      "No se encontró el botón de traducción.\n"
     ]
    },
    {
     "name": "stderr",
     "output_type": "stream",
     "text": [
      "Extrayendo datos:  83%|████████▎ | 417/500 [58:46<11:43,  8.48s/it]"
     ]
    },
    {
     "name": "stdout",
     "output_type": "stream",
     "text": [
      "Accediendo a: https://www.airbnb.es/rooms/923035877480906247?adults=1&category_tag=Tag%3A8678&children=0&enable_m3_private_room=true&infants=0&pets=0&photo_id=1937740086&search_mode=regular_search&check_in=2024-11-11&check_out=2024-11-16&source_impression_id=p3_1730726987_P3L6uQ4kaz9YWqAn&previous_page_section_name=1000&federated_search_id=df5dd2ef-7292-4ecb-9973-61a39a4253e4\n"
     ]
    },
    {
     "name": "stderr",
     "output_type": "stream",
     "text": [
      "Extrayendo datos:  84%|████████▎ | 418/500 [58:54<11:34,  8.47s/it]"
     ]
    },
    {
     "name": "stdout",
     "output_type": "stream",
     "text": [
      "No se encontró el botón de traducción.\n",
      "Accediendo a: https://www.airbnb.es/rooms/1098642619191860965?adults=1&children=0&enable_m3_private_room=true&infants=0&pets=0&search_mode=regular_search&check_in=2024-11-17&check_out=2024-11-22&source_impression_id=p3_1730726987_P3Bv9cVHTjonTwEY&previous_page_section_name=1000&federated_search_id=df5dd2ef-7292-4ecb-9973-61a39a4253e4\n"
     ]
    },
    {
     "name": "stderr",
     "output_type": "stream",
     "text": [
      "Extrayendo datos:  84%|████████▍ | 419/500 [59:03<11:25,  8.46s/it]"
     ]
    },
    {
     "name": "stdout",
     "output_type": "stream",
     "text": [
      "No se encontró el botón de traducción.\n",
      "Accediendo a: https://www.airbnb.es/rooms/637661402684941139?adults=1&children=0&enable_m3_private_room=true&infants=0&pets=0&search_mode=regular_search&check_in=2024-11-06&check_out=2024-11-11&source_impression_id=p3_1730726987_P3gRB9nNBxD-cdrY&previous_page_section_name=1000&federated_search_id=df5dd2ef-7292-4ecb-9973-61a39a4253e4\n"
     ]
    },
    {
     "name": "stderr",
     "output_type": "stream",
     "text": [
      "Extrayendo datos:  84%|████████▍ | 420/500 [59:11<11:17,  8.46s/it]"
     ]
    },
    {
     "name": "stdout",
     "output_type": "stream",
     "text": [
      "No se encontró el botón de traducción.\n",
      "Accediendo a: https://www.airbnb.es/rooms/48715762?adults=1&children=0&enable_m3_private_room=true&infants=0&pets=0&search_mode=regular_search&check_in=2024-11-17&check_out=2024-11-22&source_impression_id=p3_1730726987_P3FLl9klj-LLZ9Br&previous_page_section_name=1000&federated_search_id=df5dd2ef-7292-4ecb-9973-61a39a4253e4\n"
     ]
    },
    {
     "name": "stderr",
     "output_type": "stream",
     "text": [
      "Extrayendo datos:  84%|████████▍ | 421/500 [59:20<11:11,  8.50s/it]"
     ]
    },
    {
     "name": "stdout",
     "output_type": "stream",
     "text": [
      "No se encontró el botón de traducción.\n",
      "Accediendo a: https://www.airbnb.es/rooms/1530586?adults=1&children=0&enable_m3_private_room=true&infants=0&pets=0&search_mode=regular_search&check_in=2025-09-07&check_out=2025-09-12&source_impression_id=p3_1730726987_P3TdGLJAqeRIlcjJ&previous_page_section_name=1000&federated_search_id=df5dd2ef-7292-4ecb-9973-61a39a4253e4\n"
     ]
    },
    {
     "name": "stderr",
     "output_type": "stream",
     "text": [
      "Extrayendo datos:  84%|████████▍ | 422/500 [59:28<11:02,  8.50s/it]"
     ]
    },
    {
     "name": "stdout",
     "output_type": "stream",
     "text": [
      "No se encontró el botón de traducción.\n",
      "Accediendo a: https://www.airbnb.es/rooms/1277705142024688819?adults=1&category_tag=Tag%3A8678&children=0&enable_m3_private_room=true&infants=0&pets=0&photo_id=2019829020&search_mode=regular_search&check_in=2024-11-05&check_out=2024-11-10&source_impression_id=p3_1730726987_P3IXkUV1TSdajD5G&previous_page_section_name=1000&federated_search_id=df5dd2ef-7292-4ecb-9973-61a39a4253e4\n"
     ]
    },
    {
     "name": "stderr",
     "output_type": "stream",
     "text": [
      "Extrayendo datos:  85%|████████▍ | 423/500 [59:37<10:51,  8.46s/it]"
     ]
    },
    {
     "name": "stdout",
     "output_type": "stream",
     "text": [
      "No se encontró el botón de traducción.\n",
      "Accediendo a: https://www.airbnb.es/rooms/921610069244187126?adults=1&category_tag=Tag%3A8678&children=0&enable_m3_private_room=true&infants=0&pets=0&photo_id=2003361046&search_mode=regular_search&check_in=2024-11-11&check_out=2024-11-16&source_impression_id=p3_1730726987_P3zTbSRYTSFHScuq&previous_page_section_name=1000&federated_search_id=df5dd2ef-7292-4ecb-9973-61a39a4253e4\n"
     ]
    },
    {
     "name": "stderr",
     "output_type": "stream",
     "text": [
      "Extrayendo datos:  85%|████████▍ | 424/500 [59:45<10:41,  8.44s/it]"
     ]
    },
    {
     "name": "stdout",
     "output_type": "stream",
     "text": [
      "No se encontró el botón de traducción.\n",
      "Accediendo a: https://www.airbnb.es/rooms/16279645?adults=1&children=0&enable_m3_private_room=true&infants=0&pets=0&search_mode=regular_search&check_in=2024-12-10&check_out=2024-12-15&source_impression_id=p3_1730726987_P3xjpYpY30mNpU49&previous_page_section_name=1000&federated_search_id=df5dd2ef-7292-4ecb-9973-61a39a4253e4\n",
      "No se encontró el botón de traducción.\n"
     ]
    },
    {
     "name": "stderr",
     "output_type": "stream",
     "text": [
      "Extrayendo datos:  85%|████████▌ | 425/500 [59:54<10:35,  8.47s/it]"
     ]
    },
    {
     "name": "stdout",
     "output_type": "stream",
     "text": [
      "Accediendo a: https://www.airbnb.es/rooms/803477361689343237?adults=1&children=0&enable_m3_private_room=true&infants=0&pets=0&search_mode=regular_search&check_in=2024-12-10&check_out=2024-12-15&source_impression_id=p3_1730726987_P3dzfRVdusGi-8VR&previous_page_section_name=1000&federated_search_id=df5dd2ef-7292-4ecb-9973-61a39a4253e4\n"
     ]
    },
    {
     "name": "stderr",
     "output_type": "stream",
     "text": [
      "Extrayendo datos:  85%|████████▌ | 426/500 [1:00:02<10:25,  8.45s/it]"
     ]
    },
    {
     "name": "stdout",
     "output_type": "stream",
     "text": [
      "No se encontró el botón de traducción.\n",
      "Accediendo a: https://www.airbnb.es/rooms/1235805?adults=1&children=0&enable_m3_private_room=true&infants=0&pets=0&search_mode=regular_search&check_in=2024-11-10&check_out=2024-11-15&source_impression_id=p3_1730726987_P3TbcJy1Asn3X04U&previous_page_section_name=1000&federated_search_id=df5dd2ef-7292-4ecb-9973-61a39a4253e4\n"
     ]
    },
    {
     "name": "stderr",
     "output_type": "stream",
     "text": [
      "Extrayendo datos:  85%|████████▌ | 427/500 [1:00:11<10:16,  8.44s/it]"
     ]
    },
    {
     "name": "stdout",
     "output_type": "stream",
     "text": [
      "No se encontró el botón de traducción.\n",
      "Accediendo a: https://www.airbnb.es/rooms/34162520?adults=1&children=0&enable_m3_private_room=true&infants=0&pets=0&search_mode=regular_search&check_in=2024-11-09&check_out=2024-11-14&source_impression_id=p3_1730726986_P33X9iA5D6jupVzt&previous_page_section_name=1000&federated_search_id=df5dd2ef-7292-4ecb-9973-61a39a4253e4\n"
     ]
    },
    {
     "name": "stderr",
     "output_type": "stream",
     "text": [
      "Extrayendo datos:  86%|████████▌ | 428/500 [1:00:19<10:07,  8.43s/it]"
     ]
    },
    {
     "name": "stdout",
     "output_type": "stream",
     "text": [
      "No se encontró el botón de traducción.\n",
      "Accediendo a: https://www.airbnb.es/rooms/47947628?adults=1&children=0&enable_m3_private_room=true&infants=0&pets=0&search_mode=regular_search&check_in=2024-12-10&check_out=2024-12-15&source_impression_id=p3_1730726987_P3dqtf9JDmEHgCpE&previous_page_section_name=1000&federated_search_id=df5dd2ef-7292-4ecb-9973-61a39a4253e4\n",
      "No se encontró el botón de traducción.\n"
     ]
    },
    {
     "name": "stderr",
     "output_type": "stream",
     "text": [
      "Extrayendo datos:  86%|████████▌ | 429/500 [1:00:27<09:57,  8.41s/it]"
     ]
    },
    {
     "name": "stdout",
     "output_type": "stream",
     "text": [
      "Accediendo a: https://www.airbnb.es/rooms/39753264?adults=1&children=0&enable_m3_private_room=true&infants=0&pets=0&search_mode=regular_search&check_in=2024-11-10&check_out=2024-11-15&source_impression_id=p3_1730726987_P3aahFy3ICet_z_K&previous_page_section_name=1000&federated_search_id=df5dd2ef-7292-4ecb-9973-61a39a4253e4\n"
     ]
    },
    {
     "name": "stderr",
     "output_type": "stream",
     "text": [
      "Extrayendo datos:  86%|████████▌ | 430/500 [1:00:36<09:48,  8.41s/it]"
     ]
    },
    {
     "name": "stdout",
     "output_type": "stream",
     "text": [
      "No se encontró el botón de traducción.\n",
      "Accediendo a: https://www.airbnb.es/rooms/585762?adults=1&children=0&enable_m3_private_room=true&infants=0&pets=0&search_mode=regular_search&check_in=2024-11-17&check_out=2024-11-22&source_impression_id=p3_1730726987_P3Du6yN_rYYv5axF&previous_page_section_name=1000&federated_search_id=df5dd2ef-7292-4ecb-9973-61a39a4253e4\n"
     ]
    },
    {
     "name": "stderr",
     "output_type": "stream",
     "text": [
      "Extrayendo datos:  86%|████████▌ | 431/500 [1:00:44<09:41,  8.42s/it]"
     ]
    },
    {
     "name": "stdout",
     "output_type": "stream",
     "text": [
      "No se encontró el botón de traducción.\n",
      "Accediendo a: https://www.airbnb.es/rooms/43182950?adults=1&children=0&enable_m3_private_room=true&infants=0&pets=0&search_mode=regular_search&check_in=2024-12-01&check_out=2024-12-06&source_impression_id=p3_1730726987_P3OxYfjlsW_gS-YO&previous_page_section_name=1000&federated_search_id=df5dd2ef-7292-4ecb-9973-61a39a4253e4\n"
     ]
    },
    {
     "name": "stderr",
     "output_type": "stream",
     "text": [
      "Extrayendo datos:  86%|████████▋ | 432/500 [1:00:53<09:34,  8.45s/it]"
     ]
    },
    {
     "name": "stdout",
     "output_type": "stream",
     "text": [
      "No se encontró el botón de traducción.\n",
      "Accediendo a: https://www.airbnb.es/rooms/1247592899083296771?adults=1&children=0&enable_m3_private_room=true&infants=0&pets=0&search_mode=regular_search&check_in=2024-11-11&check_out=2024-11-16&source_impression_id=p3_1730726991_P3SXdcHDkI9M5NWl&previous_page_section_name=1000&federated_search_id=94685de6-4083-4b94-add6-84d77814be7d\n",
      "No se encontró el botón de traducción.\n"
     ]
    },
    {
     "name": "stderr",
     "output_type": "stream",
     "text": [
      "Extrayendo datos:  87%|████████▋ | 433/500 [1:01:01<09:28,  8.48s/it]"
     ]
    },
    {
     "name": "stdout",
     "output_type": "stream",
     "text": [
      "Accediendo a: https://www.airbnb.es/rooms/44237066?adults=1&category_tag=Tag%3A8678&children=0&enable_m3_private_room=true&infants=0&pets=0&photo_id=1477874465&search_mode=regular_search&check_in=2024-11-04&check_out=2024-11-09&source_impression_id=p3_1730726991_P3vOaeHvgwQ5E_cZ&previous_page_section_name=1000&federated_search_id=94685de6-4083-4b94-add6-84d77814be7d\n"
     ]
    },
    {
     "name": "stderr",
     "output_type": "stream",
     "text": [
      "Extrayendo datos:  87%|████████▋ | 434/500 [1:01:10<09:20,  8.49s/it]"
     ]
    },
    {
     "name": "stdout",
     "output_type": "stream",
     "text": [
      "No se encontró el botón de traducción.\n",
      "Accediendo a: https://www.airbnb.es/rooms/12256600?adults=1&children=0&enable_m3_private_room=true&infants=0&pets=0&search_mode=regular_search&check_in=2024-12-08&check_out=2024-12-13&source_impression_id=p3_1730726991_P3QD9XvUr_BUIiAU&previous_page_section_name=1000&federated_search_id=94685de6-4083-4b94-add6-84d77814be7d\n"
     ]
    },
    {
     "name": "stderr",
     "output_type": "stream",
     "text": [
      "Extrayendo datos:  87%|████████▋ | 435/500 [1:01:18<09:10,  8.47s/it]"
     ]
    },
    {
     "name": "stdout",
     "output_type": "stream",
     "text": [
      "No se encontró el botón de traducción.\n",
      "Accediendo a: https://www.airbnb.es/rooms/9897617?adults=1&children=0&enable_m3_private_room=true&infants=0&pets=0&search_mode=regular_search&check_in=2025-01-08&check_out=2025-01-13&source_impression_id=p3_1730726991_P3pZca1eFCzZgd7h&previous_page_section_name=1000&federated_search_id=94685de6-4083-4b94-add6-84d77814be7d\n"
     ]
    },
    {
     "name": "stderr",
     "output_type": "stream",
     "text": [
      "Extrayendo datos:  87%|████████▋ | 436/500 [1:01:27<09:01,  8.46s/it]"
     ]
    },
    {
     "name": "stdout",
     "output_type": "stream",
     "text": [
      "No se encontró el botón de traducción.\n",
      "Accediendo a: https://www.airbnb.es/rooms/1170109696564078969?adults=1&category_tag=Tag%3A8678&children=0&enable_m3_private_room=true&infants=0&pets=0&photo_id=1921572494&search_mode=regular_search&check_in=2024-12-06&check_out=2024-12-11&source_impression_id=p3_1730726991_P3KTQnCOxhVm_T3I&previous_page_section_name=1000&federated_search_id=94685de6-4083-4b94-add6-84d77814be7d\n",
      "No se encontró el botón de traducción.\n"
     ]
    },
    {
     "name": "stderr",
     "output_type": "stream",
     "text": [
      "Extrayendo datos:  87%|████████▋ | 437/500 [1:01:35<08:54,  8.49s/it]"
     ]
    },
    {
     "name": "stdout",
     "output_type": "stream",
     "text": [
      "Accediendo a: https://www.airbnb.es/rooms/40983?adults=1&children=0&enable_m3_private_room=true&infants=0&pets=0&search_mode=regular_search&check_in=2025-01-09&check_out=2025-01-14&source_impression_id=p3_1730726991_P39EE9Tja7qnb5LW&previous_page_section_name=1000&federated_search_id=94685de6-4083-4b94-add6-84d77814be7d\n"
     ]
    },
    {
     "name": "stderr",
     "output_type": "stream",
     "text": [
      "Extrayendo datos:  88%|████████▊ | 438/500 [1:01:44<08:45,  8.48s/it]"
     ]
    },
    {
     "name": "stdout",
     "output_type": "stream",
     "text": [
      "No se encontró el botón de traducción.\n",
      "Accediendo a: https://www.airbnb.es/rooms/30587399?adults=1&children=0&enable_m3_private_room=true&infants=0&pets=0&search_mode=regular_search&check_in=2024-11-30&check_out=2024-12-05&source_impression_id=p3_1730726991_P3oV3cy6ym3_uoN0&previous_page_section_name=1000&federated_search_id=94685de6-4083-4b94-add6-84d77814be7d\n"
     ]
    },
    {
     "name": "stderr",
     "output_type": "stream",
     "text": [
      "Extrayendo datos:  88%|████████▊ | 439/500 [1:01:52<08:37,  8.49s/it]"
     ]
    },
    {
     "name": "stdout",
     "output_type": "stream",
     "text": [
      "No se encontró el botón de traducción.\n",
      "Accediendo a: https://www.airbnb.es/rooms/50972615?adults=1&children=0&enable_m3_private_room=true&infants=0&pets=0&search_mode=regular_search&check_in=2024-12-01&check_out=2024-12-06&source_impression_id=p3_1730726991_P3ytACNRFImrib_6&previous_page_section_name=1000&federated_search_id=94685de6-4083-4b94-add6-84d77814be7d\n"
     ]
    },
    {
     "name": "stderr",
     "output_type": "stream",
     "text": [
      "Extrayendo datos:  88%|████████▊ | 440/500 [1:02:01<08:28,  8.48s/it]"
     ]
    },
    {
     "name": "stdout",
     "output_type": "stream",
     "text": [
      "No se encontró el botón de traducción.\n",
      "Accediendo a: https://www.airbnb.es/rooms/686688413812870347?adults=1&children=0&enable_m3_private_room=true&infants=0&pets=0&search_mode=regular_search&check_in=2024-12-01&check_out=2024-12-06&source_impression_id=p3_1730726991_P3iMUQo9SeKkFe-X&previous_page_section_name=1000&federated_search_id=94685de6-4083-4b94-add6-84d77814be7d\n"
     ]
    },
    {
     "name": "stderr",
     "output_type": "stream",
     "text": [
      "Extrayendo datos:  88%|████████▊ | 441/500 [1:02:09<08:21,  8.50s/it]"
     ]
    },
    {
     "name": "stdout",
     "output_type": "stream",
     "text": [
      "No se encontró el botón de traducción.\n",
      "Accediendo a: https://www.airbnb.es/rooms/1277528490911798669?adults=1&children=0&enable_m3_private_room=true&infants=0&pets=0&search_mode=regular_search&check_in=2024-11-10&check_out=2024-11-15&source_impression_id=p3_1730726991_P39JVEk-02MIgHm8&previous_page_section_name=1000&federated_search_id=94685de6-4083-4b94-add6-84d77814be7d\n"
     ]
    },
    {
     "name": "stderr",
     "output_type": "stream",
     "text": [
      "Extrayendo datos:  88%|████████▊ | 442/500 [1:02:18<08:10,  8.46s/it]"
     ]
    },
    {
     "name": "stdout",
     "output_type": "stream",
     "text": [
      "No se encontró el botón de traducción.\n",
      "Accediendo a: https://www.airbnb.es/rooms/50201349?adults=1&children=0&enable_m3_private_room=true&infants=0&pets=0&search_mode=regular_search&check_in=2024-11-18&check_out=2024-11-23&source_impression_id=p3_1730726991_P3Dgyjcn0lz7sIwJ&previous_page_section_name=1000&federated_search_id=94685de6-4083-4b94-add6-84d77814be7d\n"
     ]
    },
    {
     "name": "stderr",
     "output_type": "stream",
     "text": [
      "Extrayendo datos:  89%|████████▊ | 443/500 [1:02:26<08:01,  8.45s/it]"
     ]
    },
    {
     "name": "stdout",
     "output_type": "stream",
     "text": [
      "No se encontró el botón de traducción.\n",
      "Accediendo a: https://www.airbnb.es/rooms/53236289?adults=1&children=0&enable_m3_private_room=true&infants=0&pets=0&search_mode=regular_search&check_in=2024-11-17&check_out=2024-11-22&source_impression_id=p3_1730726991_P3gLA1QCBsJmtAWA&previous_page_section_name=1000&federated_search_id=94685de6-4083-4b94-add6-84d77814be7d\n"
     ]
    },
    {
     "name": "stderr",
     "output_type": "stream",
     "text": [
      "Extrayendo datos:  89%|████████▉ | 444/500 [1:02:34<07:53,  8.46s/it]"
     ]
    },
    {
     "name": "stdout",
     "output_type": "stream",
     "text": [
      "No se encontró el botón de traducción.\n",
      "Accediendo a: https://www.airbnb.es/rooms/1025981229888939036?adults=1&children=0&enable_m3_private_room=true&infants=0&pets=0&search_mode=regular_search&check_in=2024-11-17&check_out=2024-11-22&source_impression_id=p3_1730726991_P345LpZ_yVZrsfMh&previous_page_section_name=1000&federated_search_id=94685de6-4083-4b94-add6-84d77814be7d\n"
     ]
    },
    {
     "name": "stderr",
     "output_type": "stream",
     "text": [
      "Extrayendo datos:  89%|████████▉ | 445/500 [1:02:43<07:46,  8.48s/it]"
     ]
    },
    {
     "name": "stdout",
     "output_type": "stream",
     "text": [
      "No se encontró el botón de traducción.\n",
      "Accediendo a: https://www.airbnb.es/rooms/15367704?adults=1&children=0&enable_m3_private_room=true&infants=0&pets=0&search_mode=regular_search&check_in=2024-11-18&check_out=2024-11-23&source_impression_id=p3_1730726991_P3YYdMlPm1234lJ7&previous_page_section_name=1000&federated_search_id=94685de6-4083-4b94-add6-84d77814be7d\n"
     ]
    },
    {
     "name": "stderr",
     "output_type": "stream",
     "text": [
      "Extrayendo datos:  89%|████████▉ | 446/500 [1:02:51<07:37,  8.47s/it]"
     ]
    },
    {
     "name": "stdout",
     "output_type": "stream",
     "text": [
      "No se encontró el botón de traducción.\n",
      "Accediendo a: https://www.airbnb.es/rooms/1277501709702124253?adults=1&category_tag=Tag%3A8678&children=0&enable_m3_private_room=true&infants=0&pets=0&photo_id=2019585820&search_mode=regular_search&check_in=2024-11-11&check_out=2024-11-16&source_impression_id=p3_1730726991_P3tA62hGC4nsX5d0&previous_page_section_name=1000&federated_search_id=94685de6-4083-4b94-add6-84d77814be7d\n"
     ]
    },
    {
     "name": "stderr",
     "output_type": "stream",
     "text": [
      "Extrayendo datos:  89%|████████▉ | 447/500 [1:03:00<07:27,  8.45s/it]"
     ]
    },
    {
     "name": "stdout",
     "output_type": "stream",
     "text": [
      "No se encontró el botón de traducción.\n",
      "Accediendo a: https://www.airbnb.es/rooms/1270219924277836678?adults=1&category_tag=Tag%3A8678&children=0&enable_m3_private_room=true&infants=0&pets=0&photo_id=2014092505&search_mode=regular_search&check_in=2024-11-10&check_out=2024-11-15&source_impression_id=p3_1730726991_P33r_YNAuaLMxFAw&previous_page_section_name=1000&federated_search_id=94685de6-4083-4b94-add6-84d77814be7d\n"
     ]
    },
    {
     "name": "stderr",
     "output_type": "stream",
     "text": [
      "Extrayendo datos:  90%|████████▉ | 448/500 [1:03:08<07:18,  8.43s/it]"
     ]
    },
    {
     "name": "stdout",
     "output_type": "stream",
     "text": [
      "No se encontró el botón de traducción.\n",
      "Accediendo a: https://www.airbnb.es/rooms/34303018?adults=1&children=0&enable_m3_private_room=true&infants=0&pets=0&search_mode=regular_search&check_in=2024-11-10&check_out=2024-11-15&source_impression_id=p3_1730726991_P39lAIQ9JQmLe9VP&previous_page_section_name=1000&federated_search_id=94685de6-4083-4b94-add6-84d77814be7d\n",
      "No se encontró el botón de traducción.\n"
     ]
    },
    {
     "name": "stderr",
     "output_type": "stream",
     "text": [
      "Extrayendo datos:  90%|████████▉ | 449/500 [1:03:17<07:11,  8.45s/it]"
     ]
    },
    {
     "name": "stdout",
     "output_type": "stream",
     "text": [
      "Accediendo a: https://www.airbnb.es/rooms/1411945?adults=1&children=0&enable_m3_private_room=true&infants=0&pets=0&search_mode=regular_search&check_in=2024-11-27&check_out=2024-12-02&source_impression_id=p3_1730726991_P3g_qc4ATKHUdd_G&previous_page_section_name=1000&federated_search_id=94685de6-4083-4b94-add6-84d77814be7d\n"
     ]
    },
    {
     "name": "stderr",
     "output_type": "stream",
     "text": [
      "Extrayendo datos:  90%|█████████ | 450/500 [1:03:25<07:02,  8.45s/it]"
     ]
    },
    {
     "name": "stdout",
     "output_type": "stream",
     "text": [
      "No se encontró el botón de traducción.\n",
      "Accediendo a: https://www.airbnb.es/rooms/8030534?adults=1&children=0&enable_m3_private_room=true&infants=0&pets=0&search_mode=regular_search&check_in=2024-11-30&check_out=2024-12-05&source_impression_id=p3_1730726996_P37ffCgQlLIV79Gx&previous_page_section_name=1000&federated_search_id=b8ffaffa-8a60-43d7-adcf-e752fd93f0ba\n"
     ]
    },
    {
     "name": "stderr",
     "output_type": "stream",
     "text": [
      "Extrayendo datos:  90%|█████████ | 451/500 [1:03:34<06:54,  8.46s/it]"
     ]
    },
    {
     "name": "stdout",
     "output_type": "stream",
     "text": [
      "No se encontró el botón de traducción.\n",
      "Accediendo a: https://www.airbnb.es/rooms/29941662?adults=1&children=0&enable_m3_private_room=true&infants=0&pets=0&search_mode=regular_search&check_in=2024-11-17&check_out=2024-11-22&source_impression_id=p3_1730726996_P3r5nBV_gL7KKKKl&previous_page_section_name=1000&federated_search_id=b8ffaffa-8a60-43d7-adcf-e752fd93f0ba\n"
     ]
    },
    {
     "name": "stderr",
     "output_type": "stream",
     "text": [
      "Extrayendo datos:  90%|█████████ | 452/500 [1:03:42<06:45,  8.45s/it]"
     ]
    },
    {
     "name": "stdout",
     "output_type": "stream",
     "text": [
      "No se encontró el botón de traducción.\n",
      "Accediendo a: https://www.airbnb.es/rooms/2122261?adults=1&children=0&enable_m3_private_room=true&infants=0&pets=0&search_mode=regular_search&check_in=2024-11-17&check_out=2024-11-22&source_impression_id=p3_1730726996_P32mG3vH5pTF0Beq&previous_page_section_name=1000&federated_search_id=b8ffaffa-8a60-43d7-adcf-e752fd93f0ba\n",
      "No se encontró el botón de traducción.\n"
     ]
    },
    {
     "name": "stderr",
     "output_type": "stream",
     "text": [
      "Extrayendo datos:  91%|█████████ | 453/500 [1:03:51<06:37,  8.46s/it]"
     ]
    },
    {
     "name": "stdout",
     "output_type": "stream",
     "text": [
      "Accediendo a: https://www.airbnb.es/rooms/1279034995385137358?adults=1&category_tag=Tag%3A8678&children=0&enable_m3_private_room=true&infants=0&pets=0&photo_id=2020960331&search_mode=regular_search&check_in=2024-11-04&check_out=2024-11-09&source_impression_id=p3_1730726996_P3DVU879sAuuvJo1&previous_page_section_name=1000&federated_search_id=b8ffaffa-8a60-43d7-adcf-e752fd93f0ba\n"
     ]
    },
    {
     "name": "stderr",
     "output_type": "stream",
     "text": [
      "Extrayendo datos:  91%|█████████ | 454/500 [1:03:59<06:28,  8.44s/it]"
     ]
    },
    {
     "name": "stdout",
     "output_type": "stream",
     "text": [
      "No se encontró el botón de traducción.\n",
      "Accediendo a: https://www.airbnb.es/rooms/53840732?adults=1&children=0&enable_m3_private_room=true&infants=0&pets=0&search_mode=regular_search&check_in=2024-11-10&check_out=2024-11-15&source_impression_id=p3_1730726996_P3oiUcynnP38dQEr&previous_page_section_name=1000&federated_search_id=b8ffaffa-8a60-43d7-adcf-e752fd93f0ba\n"
     ]
    },
    {
     "name": "stderr",
     "output_type": "stream",
     "text": [
      "Extrayendo datos:  91%|█████████ | 455/500 [1:04:07<06:19,  8.43s/it]"
     ]
    },
    {
     "name": "stdout",
     "output_type": "stream",
     "text": [
      "No se encontró el botón de traducción.\n",
      "Accediendo a: https://www.airbnb.es/rooms/45906714?adults=1&children=0&enable_m3_private_room=true&infants=0&pets=0&search_mode=regular_search&check_in=2024-11-10&check_out=2024-11-15&source_impression_id=p3_1730726996_P32gobh2EzP0TuJj&previous_page_section_name=1000&federated_search_id=b8ffaffa-8a60-43d7-adcf-e752fd93f0ba\n"
     ]
    },
    {
     "name": "stderr",
     "output_type": "stream",
     "text": [
      "Extrayendo datos:  91%|█████████ | 456/500 [1:04:16<06:11,  8.45s/it]"
     ]
    },
    {
     "name": "stdout",
     "output_type": "stream",
     "text": [
      "No se encontró el botón de traducción.\n",
      "Accediendo a: https://www.airbnb.es/rooms/35605066?adults=1&children=0&enable_m3_private_room=true&infants=0&pets=0&search_mode=regular_search&check_in=2024-11-10&check_out=2024-11-15&source_impression_id=p3_1730726996_P3Ysu5J8qlFJ6-x0&previous_page_section_name=1000&federated_search_id=b8ffaffa-8a60-43d7-adcf-e752fd93f0ba\n",
      "No se encontró el botón de traducción.\n"
     ]
    },
    {
     "name": "stderr",
     "output_type": "stream",
     "text": [
      "Extrayendo datos:  91%|█████████▏| 457/500 [1:04:24<06:03,  8.46s/it]"
     ]
    },
    {
     "name": "stdout",
     "output_type": "stream",
     "text": [
      "Accediendo a: https://www.airbnb.es/rooms/2563231?adults=1&children=0&enable_m3_private_room=true&infants=0&pets=0&search_mode=regular_search&check_in=2024-11-10&check_out=2024-11-15&source_impression_id=p3_1730726996_P3rwMdRVhczVBLEH&previous_page_section_name=1000&federated_search_id=b8ffaffa-8a60-43d7-adcf-e752fd93f0ba\n"
     ]
    },
    {
     "name": "stderr",
     "output_type": "stream",
     "text": [
      "Extrayendo datos:  92%|█████████▏| 458/500 [1:04:33<05:55,  8.46s/it]"
     ]
    },
    {
     "name": "stdout",
     "output_type": "stream",
     "text": [
      "No se encontró el botón de traducción.\n",
      "Accediendo a: https://www.airbnb.es/rooms/469710?adults=1&children=0&enable_m3_private_room=true&infants=0&pets=0&search_mode=regular_search&check_in=2024-11-10&check_out=2024-11-15&source_impression_id=p3_1730726996_P3EYLVuQ-jPm2JXX&previous_page_section_name=1000&federated_search_id=b8ffaffa-8a60-43d7-adcf-e752fd93f0ba\n"
     ]
    },
    {
     "name": "stderr",
     "output_type": "stream",
     "text": [
      "Extrayendo datos:  92%|█████████▏| 459/500 [1:04:41<05:47,  8.47s/it]"
     ]
    },
    {
     "name": "stdout",
     "output_type": "stream",
     "text": [
      "No se encontró el botón de traducción.\n",
      "Accediendo a: https://www.airbnb.es/rooms/1218613893549337378?adults=1&category_tag=Tag%3A8678&children=0&enable_m3_private_room=true&infants=0&pets=0&photo_id=1971128217&search_mode=regular_search&check_in=2024-12-16&check_out=2024-12-21&source_impression_id=p3_1730726996_P3dvhSfG81Os-2as&previous_page_section_name=1000&federated_search_id=b8ffaffa-8a60-43d7-adcf-e752fd93f0ba\n"
     ]
    },
    {
     "name": "stderr",
     "output_type": "stream",
     "text": [
      "Extrayendo datos:  92%|█████████▏| 460/500 [1:04:50<05:37,  8.45s/it]"
     ]
    },
    {
     "name": "stdout",
     "output_type": "stream",
     "text": [
      "No se encontró el botón de traducción.\n",
      "Accediendo a: https://www.airbnb.es/rooms/7296618?adults=1&children=0&enable_m3_private_room=true&infants=0&pets=0&search_mode=regular_search&check_in=2024-12-01&check_out=2024-12-06&source_impression_id=p3_1730726996_P3_mGwCMwJMEvbfB&previous_page_section_name=1000&federated_search_id=b8ffaffa-8a60-43d7-adcf-e752fd93f0ba\n",
      "No se encontró el botón de traducción.\n"
     ]
    },
    {
     "name": "stderr",
     "output_type": "stream",
     "text": [
      "Extrayendo datos:  92%|█████████▏| 461/500 [1:04:58<05:30,  8.47s/it]"
     ]
    },
    {
     "name": "stdout",
     "output_type": "stream",
     "text": [
      "Accediendo a: https://www.airbnb.es/rooms/37068370?adults=1&children=0&enable_m3_private_room=true&infants=0&pets=0&search_mode=regular_search&check_in=2024-11-09&check_out=2024-11-14&source_impression_id=p3_1730726996_P3Ot5T0SaWUp9XWX&previous_page_section_name=1000&federated_search_id=b8ffaffa-8a60-43d7-adcf-e752fd93f0ba\n"
     ]
    },
    {
     "name": "stderr",
     "output_type": "stream",
     "text": [
      "Extrayendo datos:  92%|█████████▏| 462/500 [1:05:07<05:19,  8.42s/it]"
     ]
    },
    {
     "name": "stdout",
     "output_type": "stream",
     "text": [
      "No se encontró el botón de traducción.\n",
      "Accediendo a: https://www.airbnb.es/rooms/1147692746401940575?adults=1&category_tag=Tag%3A8678&children=0&enable_m3_private_room=true&infants=0&pets=0&photo_id=1897406461&search_mode=regular_search&check_in=2024-11-09&check_out=2024-11-14&source_impression_id=p3_1730726996_P3Mgt5DgL8QUsftR&previous_page_section_name=1000&federated_search_id=b8ffaffa-8a60-43d7-adcf-e752fd93f0ba\n"
     ]
    },
    {
     "name": "stderr",
     "output_type": "stream",
     "text": [
      "Extrayendo datos:  93%|█████████▎| 463/500 [1:05:15<05:10,  8.41s/it]"
     ]
    },
    {
     "name": "stdout",
     "output_type": "stream",
     "text": [
      "No se encontró el botón de traducción.\n",
      "Accediendo a: https://www.airbnb.es/rooms/744153?adults=1&children=0&enable_m3_private_room=true&infants=0&pets=0&search_mode=regular_search&check_in=2025-08-23&check_out=2025-08-29&source_impression_id=p3_1730726996_P31mmdDFwUm3SZ0i&previous_page_section_name=1000&federated_search_id=b8ffaffa-8a60-43d7-adcf-e752fd93f0ba\n"
     ]
    },
    {
     "name": "stderr",
     "output_type": "stream",
     "text": [
      "Extrayendo datos:  93%|█████████▎| 464/500 [1:05:23<05:02,  8.41s/it]"
     ]
    },
    {
     "name": "stdout",
     "output_type": "stream",
     "text": [
      "No se encontró el botón de traducción.\n",
      "Accediendo a: https://www.airbnb.es/rooms/26408688?adults=1&category_tag=Tag%3A8678&children=0&enable_m3_private_room=true&infants=0&pets=0&photo_id=1200343865&search_mode=regular_search&check_in=2024-11-27&check_out=2024-12-02&source_impression_id=p3_1730726996_P3kheho1O-o7jmtC&previous_page_section_name=1000&federated_search_id=b8ffaffa-8a60-43d7-adcf-e752fd93f0ba\n",
      "No se encontró el botón de traducción.\n"
     ]
    },
    {
     "name": "stderr",
     "output_type": "stream",
     "text": [
      "Extrayendo datos:  93%|█████████▎| 465/500 [1:05:32<04:55,  8.45s/it]"
     ]
    },
    {
     "name": "stdout",
     "output_type": "stream",
     "text": [
      "Accediendo a: https://www.airbnb.es/rooms/1051389055033236390?adults=1&children=0&enable_m3_private_room=true&infants=0&pets=0&search_mode=regular_search&check_in=2024-11-10&check_out=2024-11-15&source_impression_id=p3_1730726996_P3WJo64MVteOtxlW&previous_page_section_name=1000&federated_search_id=b8ffaffa-8a60-43d7-adcf-e752fd93f0ba\n"
     ]
    },
    {
     "name": "stderr",
     "output_type": "stream",
     "text": [
      "Extrayendo datos:  93%|█████████▎| 466/500 [1:05:40<04:47,  8.46s/it]"
     ]
    },
    {
     "name": "stdout",
     "output_type": "stream",
     "text": [
      "No se encontró el botón de traducción.\n",
      "Accediendo a: https://www.airbnb.es/rooms/48331557?adults=1&children=0&enable_m3_private_room=true&infants=0&pets=0&search_mode=regular_search&check_in=2024-11-24&check_out=2024-11-29&source_impression_id=p3_1730726996_P3-ktREJ7-aBAwl3&previous_page_section_name=1000&federated_search_id=b8ffaffa-8a60-43d7-adcf-e752fd93f0ba\n"
     ]
    },
    {
     "name": "stderr",
     "output_type": "stream",
     "text": [
      "Extrayendo datos:  93%|█████████▎| 467/500 [1:05:49<04:39,  8.48s/it]"
     ]
    },
    {
     "name": "stdout",
     "output_type": "stream",
     "text": [
      "No se encontró el botón de traducción.\n",
      "Accediendo a: https://www.airbnb.es/rooms/22409751?adults=1&children=0&enable_m3_private_room=true&infants=0&pets=0&search_mode=regular_search&check_in=2024-11-30&check_out=2024-12-05&source_impression_id=p3_1730726996_P3HmoNqVD8NZfrzw&previous_page_section_name=1000&federated_search_id=b8ffaffa-8a60-43d7-adcf-e752fd93f0ba\n"
     ]
    },
    {
     "name": "stderr",
     "output_type": "stream",
     "text": [
      "Extrayendo datos:  94%|█████████▎| 468/500 [1:05:57<04:30,  8.47s/it]"
     ]
    },
    {
     "name": "stdout",
     "output_type": "stream",
     "text": [
      "No se encontró el botón de traducción.\n",
      "Accediendo a: https://www.airbnb.es/rooms/1024439156015801160?adults=1&category_tag=Tag%3A8678&children=0&enable_m3_private_room=true&infants=0&pets=0&photo_id=2008166036&search_mode=regular_search&check_in=2024-11-17&check_out=2024-11-22&source_impression_id=p3_1730727000_P31TEG0HkGbVTAS6&previous_page_section_name=1000&federated_search_id=1c2c9989-7293-4e71-8e22-79ebc52660b0\n",
      "No se encontró el botón de traducción.\n"
     ]
    },
    {
     "name": "stderr",
     "output_type": "stream",
     "text": [
      "Extrayendo datos:  94%|█████████▍| 469/500 [1:06:06<04:23,  8.49s/it]"
     ]
    },
    {
     "name": "stdout",
     "output_type": "stream",
     "text": [
      "Accediendo a: https://www.airbnb.es/rooms/1180901133199482783?adults=1&children=0&enable_m3_private_room=true&infants=0&pets=0&search_mode=regular_search&check_in=2024-11-04&check_out=2024-11-09&source_impression_id=p3_1730727000_P3LnsKke534da92u&previous_page_section_name=1000&federated_search_id=1c2c9989-7293-4e71-8e22-79ebc52660b0\n"
     ]
    },
    {
     "name": "stderr",
     "output_type": "stream",
     "text": [
      "Extrayendo datos:  94%|█████████▍| 470/500 [1:06:14<04:14,  8.48s/it]"
     ]
    },
    {
     "name": "stdout",
     "output_type": "stream",
     "text": [
      "No se encontró el botón de traducción.\n",
      "Accediendo a: https://www.airbnb.es/rooms/11295154?adults=1&children=0&enable_m3_private_room=true&infants=0&pets=0&search_mode=regular_search&check_in=2024-11-11&check_out=2024-11-16&source_impression_id=p3_1730727000_P3VpZSYthZ5nkXsp&previous_page_section_name=1000&federated_search_id=1c2c9989-7293-4e71-8e22-79ebc52660b0\n"
     ]
    },
    {
     "name": "stderr",
     "output_type": "stream",
     "text": [
      "Extrayendo datos:  94%|█████████▍| 471/500 [1:06:23<04:06,  8.48s/it]"
     ]
    },
    {
     "name": "stdout",
     "output_type": "stream",
     "text": [
      "No se encontró el botón de traducción.\n",
      "Accediendo a: https://www.airbnb.es/rooms/1826858?adults=1&children=0&enable_m3_private_room=true&infants=0&pets=0&search_mode=regular_search&check_in=2024-11-30&check_out=2024-12-05&source_impression_id=p3_1730727000_P3cYiN9NLgaCaAri&previous_page_section_name=1000&federated_search_id=1c2c9989-7293-4e71-8e22-79ebc52660b0\n"
     ]
    },
    {
     "name": "stderr",
     "output_type": "stream",
     "text": [
      "Extrayendo datos:  94%|█████████▍| 472/500 [1:06:31<03:57,  8.49s/it]"
     ]
    },
    {
     "name": "stdout",
     "output_type": "stream",
     "text": [
      "No se encontró el botón de traducción.\n",
      "Accediendo a: https://www.airbnb.es/rooms/2491989?adults=1&children=0&enable_m3_private_room=true&infants=0&pets=0&search_mode=regular_search&check_in=2025-01-10&check_out=2025-01-15&source_impression_id=p3_1730727000_P3bQznVeZe-YKwDu&previous_page_section_name=1000&federated_search_id=1c2c9989-7293-4e71-8e22-79ebc52660b0\n"
     ]
    },
    {
     "name": "stderr",
     "output_type": "stream",
     "text": [
      "Extrayendo datos:  95%|█████████▍| 473/500 [1:06:40<03:49,  8.51s/it]"
     ]
    },
    {
     "name": "stdout",
     "output_type": "stream",
     "text": [
      "No se encontró el botón de traducción.\n",
      "Accediendo a: https://www.airbnb.es/rooms/1216583610418476390?adults=1&category_tag=Tag%3A8678&children=0&enable_m3_private_room=true&infants=0&pets=0&photo_id=2018246641&search_mode=regular_search&check_in=2024-12-18&check_out=2024-12-23&source_impression_id=p3_1730727000_P3455M67aQgCH_2D&previous_page_section_name=1000&federated_search_id=1c2c9989-7293-4e71-8e22-79ebc52660b0\n"
     ]
    },
    {
     "name": "stderr",
     "output_type": "stream",
     "text": [
      "Extrayendo datos:  95%|█████████▍| 474/500 [1:06:48<03:40,  8.48s/it]"
     ]
    },
    {
     "name": "stdout",
     "output_type": "stream",
     "text": [
      "No se encontró el botón de traducción.\n",
      "Accediendo a: https://www.airbnb.es/rooms/53159288?adults=1&children=0&enable_m3_private_room=true&infants=0&pets=0&search_mode=regular_search&check_in=2024-12-08&check_out=2024-12-13&source_impression_id=p3_1730727000_P3X0p36maCF6a1kV&previous_page_section_name=1000&federated_search_id=1c2c9989-7293-4e71-8e22-79ebc52660b0\n"
     ]
    },
    {
     "name": "stderr",
     "output_type": "stream",
     "text": [
      "Extrayendo datos:  95%|█████████▌| 475/500 [1:06:57<03:31,  8.47s/it]"
     ]
    },
    {
     "name": "stdout",
     "output_type": "stream",
     "text": [
      "No se encontró el botón de traducción.\n",
      "Accediendo a: https://www.airbnb.es/rooms/931591920999936286?adults=1&children=0&enable_m3_private_room=true&infants=0&pets=0&search_mode=regular_search&check_in=2024-12-01&check_out=2024-12-06&source_impression_id=p3_1730727000_P3i3bWa_nmtEv9C2&previous_page_section_name=1000&federated_search_id=1c2c9989-7293-4e71-8e22-79ebc52660b0\n"
     ]
    },
    {
     "name": "stderr",
     "output_type": "stream",
     "text": [
      "Extrayendo datos:  95%|█████████▌| 476/500 [1:07:05<03:23,  8.48s/it]"
     ]
    },
    {
     "name": "stdout",
     "output_type": "stream",
     "text": [
      "No se encontró el botón de traducción.\n",
      "Accediendo a: https://www.airbnb.es/rooms/790475?adults=1&children=0&enable_m3_private_room=true&infants=0&pets=0&search_mode=regular_search&check_in=2024-11-18&check_out=2024-11-23&source_impression_id=p3_1730727000_P3DrEwm1ZcExq2Iy&previous_page_section_name=1000&federated_search_id=1c2c9989-7293-4e71-8e22-79ebc52660b0\n"
     ]
    },
    {
     "name": "stderr",
     "output_type": "stream",
     "text": [
      "Extrayendo datos:  95%|█████████▌| 477/500 [1:07:14<03:15,  8.51s/it]"
     ]
    },
    {
     "name": "stdout",
     "output_type": "stream",
     "text": [
      "No se encontró el botón de traducción.\n",
      "Accediendo a: https://www.airbnb.es/rooms/53176052?adults=1&children=0&enable_m3_private_room=true&infants=0&pets=0&search_mode=regular_search&check_in=2024-11-10&check_out=2024-11-15&source_impression_id=p3_1730727000_P30CJDATIK2z-OW6&previous_page_section_name=1000&federated_search_id=1c2c9989-7293-4e71-8e22-79ebc52660b0\n"
     ]
    },
    {
     "name": "stderr",
     "output_type": "stream",
     "text": [
      "Extrayendo datos:  96%|█████████▌| 478/500 [1:07:22<03:06,  8.49s/it]"
     ]
    },
    {
     "name": "stdout",
     "output_type": "stream",
     "text": [
      "No se encontró el botón de traducción.\n",
      "Accediendo a: https://www.airbnb.es/rooms/32571410?adults=1&category_tag=Tag%3A8678&children=0&enable_m3_private_room=true&infants=0&pets=0&photo_id=942421046&search_mode=regular_search&check_in=2024-12-11&check_out=2024-12-16&source_impression_id=p3_1730727000_P3HKgGUMoKmSZ8Qo&previous_page_section_name=1000&federated_search_id=1c2c9989-7293-4e71-8e22-79ebc52660b0\n"
     ]
    },
    {
     "name": "stderr",
     "output_type": "stream",
     "text": [
      "Extrayendo datos:  96%|█████████▌| 479/500 [1:07:31<02:58,  8.49s/it]"
     ]
    },
    {
     "name": "stdout",
     "output_type": "stream",
     "text": [
      "No se encontró el botón de traducción.\n",
      "Accediendo a: https://www.airbnb.es/rooms/1247883949782172421?adults=1&category_tag=Tag%3A8678&children=0&enable_m3_private_room=true&infants=0&pets=0&photo_id=1995561109&search_mode=regular_search&check_in=2024-12-06&check_out=2024-12-11&source_impression_id=p3_1730727000_P3dMpjbeyEd43n3W&previous_page_section_name=1000&federated_search_id=1c2c9989-7293-4e71-8e22-79ebc52660b0\n"
     ]
    },
    {
     "name": "stderr",
     "output_type": "stream",
     "text": [
      "Extrayendo datos:  96%|█████████▌| 480/500 [1:07:39<02:49,  8.46s/it]"
     ]
    },
    {
     "name": "stdout",
     "output_type": "stream",
     "text": [
      "No se encontró el botón de traducción.\n",
      "Accediendo a: https://www.airbnb.es/rooms/14346513?adults=1&children=0&enable_m3_private_room=true&infants=0&pets=0&search_mode=regular_search&check_in=2024-12-01&check_out=2024-12-06&source_impression_id=p3_1730727000_P3aLUu44nq9LZOVz&previous_page_section_name=1000&federated_search_id=1c2c9989-7293-4e71-8e22-79ebc52660b0\n"
     ]
    },
    {
     "name": "stderr",
     "output_type": "stream",
     "text": [
      "Extrayendo datos:  96%|█████████▌| 481/500 [1:07:48<02:42,  8.53s/it]"
     ]
    },
    {
     "name": "stdout",
     "output_type": "stream",
     "text": [
      "No se encontró el botón de traducción.\n",
      "Accediendo a: https://www.airbnb.es/rooms/1197993987379633328?adults=1&children=0&enable_m3_private_room=true&infants=0&pets=0&search_mode=regular_search&check_in=2024-11-11&check_out=2024-11-16&source_impression_id=p3_1730727000_P3lSq2soF_la7P1l&previous_page_section_name=1000&federated_search_id=1c2c9989-7293-4e71-8e22-79ebc52660b0\n"
     ]
    },
    {
     "name": "stderr",
     "output_type": "stream",
     "text": [
      "Extrayendo datos:  96%|█████████▋| 482/500 [1:07:56<02:32,  8.49s/it]"
     ]
    },
    {
     "name": "stdout",
     "output_type": "stream",
     "text": [
      "No se encontró el botón de traducción.\n",
      "Accediendo a: https://www.airbnb.es/rooms/893052?adults=1&children=0&enable_m3_private_room=true&infants=0&pets=0&search_mode=regular_search&check_in=2024-11-12&check_out=2024-11-17&source_impression_id=p3_1730727000_P3upbqmlp0pRL7AW&previous_page_section_name=1000&federated_search_id=1c2c9989-7293-4e71-8e22-79ebc52660b0\n"
     ]
    },
    {
     "name": "stderr",
     "output_type": "stream",
     "text": [
      "Extrayendo datos:  97%|█████████▋| 483/500 [1:08:05<02:24,  8.48s/it]"
     ]
    },
    {
     "name": "stdout",
     "output_type": "stream",
     "text": [
      "No se encontró el botón de traducción.\n",
      "Accediendo a: https://www.airbnb.es/rooms/2324304?adults=1&children=0&enable_m3_private_room=true&infants=0&pets=0&search_mode=regular_search&check_in=2024-12-12&check_out=2024-12-17&source_impression_id=p3_1730727000_P3NU2TOSuO7C6nfc&previous_page_section_name=1000&federated_search_id=1c2c9989-7293-4e71-8e22-79ebc52660b0\n"
     ]
    },
    {
     "name": "stderr",
     "output_type": "stream",
     "text": [
      "Extrayendo datos:  97%|█████████▋| 484/500 [1:08:13<02:15,  8.49s/it]"
     ]
    },
    {
     "name": "stdout",
     "output_type": "stream",
     "text": [
      "No se encontró el botón de traducción.\n",
      "Accediendo a: https://www.airbnb.es/rooms/1219536029246788151?adults=1&category_tag=Tag%3A8678&children=0&enable_m3_private_room=true&infants=0&pets=0&photo_id=1972022812&search_mode=regular_search&check_in=2024-11-11&check_out=2024-11-16&source_impression_id=p3_1730727000_P3LTcF6-dMYR_cHv&previous_page_section_name=1000&federated_search_id=1c2c9989-7293-4e71-8e22-79ebc52660b0\n",
      "No se encontró el botón de traducción.\n"
     ]
    },
    {
     "name": "stderr",
     "output_type": "stream",
     "text": [
      "Extrayendo datos:  97%|█████████▋| 485/500 [1:08:22<02:07,  8.48s/it]"
     ]
    },
    {
     "name": "stdout",
     "output_type": "stream",
     "text": [
      "Accediendo a: https://www.airbnb.es/rooms/1128770863630383980?adults=1&category_tag=Tag%3A8678&children=0&enable_m3_private_room=true&infants=0&pets=0&photo_id=1877537894&search_mode=regular_search&check_in=2024-11-04&check_out=2024-11-09&source_impression_id=p3_1730727000_P3_dKv-_KDQoXgx7&previous_page_section_name=1000&federated_search_id=1c2c9989-7293-4e71-8e22-79ebc52660b0\n"
     ]
    },
    {
     "name": "stderr",
     "output_type": "stream",
     "text": [
      "Extrayendo datos:  97%|█████████▋| 486/500 [1:08:30<01:58,  8.46s/it]"
     ]
    },
    {
     "name": "stdout",
     "output_type": "stream",
     "text": [
      "No se encontró el botón de traducción.\n",
      "Accediendo a: https://www.airbnb.es/rooms/1242680451877593023?adults=1&category_tag=Tag%3A8678&children=0&enable_m3_private_room=true&infants=0&pets=0&photo_id=1999572795&search_mode=regular_search&check_in=2024-11-04&check_out=2024-11-09&source_impression_id=p3_1730727005_P3375HKyCS2j8RT5&previous_page_section_name=1000&federated_search_id=5bc98de9-5c60-4bc1-8304-a28789aaf412\n"
     ]
    },
    {
     "name": "stderr",
     "output_type": "stream",
     "text": [
      "Extrayendo datos:  97%|█████████▋| 487/500 [1:08:38<01:49,  8.44s/it]"
     ]
    },
    {
     "name": "stdout",
     "output_type": "stream",
     "text": [
      "No se encontró el botón de traducción.\n",
      "Accediendo a: https://www.airbnb.es/rooms/41822352?adults=1&category_tag=Tag%3A8678&children=0&enable_m3_private_room=true&infants=0&pets=0&photo_id=1877977358&search_mode=regular_search&check_in=2024-11-27&check_out=2024-12-02&source_impression_id=p3_1730727005_P3_f0S_wUDsOrLcW&previous_page_section_name=1000&federated_search_id=5bc98de9-5c60-4bc1-8304-a28789aaf412\n"
     ]
    },
    {
     "name": "stderr",
     "output_type": "stream",
     "text": [
      "Extrayendo datos:  98%|█████████▊| 488/500 [1:08:47<01:40,  8.39s/it]"
     ]
    },
    {
     "name": "stdout",
     "output_type": "stream",
     "text": [
      "No se encontró el botón de traducción.\n",
      "Accediendo a: https://www.airbnb.es/rooms/24156044?adults=1&category_tag=Tag%3A8678&children=0&enable_m3_private_room=true&infants=0&pets=0&photo_id=1629445617&search_mode=regular_search&check_in=2024-12-02&check_out=2024-12-07&source_impression_id=p3_1730727005_P3zH8HSo5kbvgmNq&previous_page_section_name=1000&federated_search_id=5bc98de9-5c60-4bc1-8304-a28789aaf412\n",
      "No se encontró el botón de traducción.\n"
     ]
    },
    {
     "name": "stderr",
     "output_type": "stream",
     "text": [
      "Extrayendo datos:  98%|█████████▊| 489/500 [1:08:55<01:32,  8.43s/it]"
     ]
    },
    {
     "name": "stdout",
     "output_type": "stream",
     "text": [
      "Accediendo a: https://www.airbnb.es/rooms/1145002512960552414?adults=1&children=0&enable_m3_private_room=true&infants=0&pets=0&search_mode=regular_search&check_in=2024-11-10&check_out=2024-11-15&source_impression_id=p3_1730727005_P3k0eEKAIVpro3FV&previous_page_section_name=1000&federated_search_id=5bc98de9-5c60-4bc1-8304-a28789aaf412\n"
     ]
    },
    {
     "name": "stderr",
     "output_type": "stream",
     "text": [
      "Extrayendo datos:  98%|█████████▊| 490/500 [1:09:04<01:24,  8.45s/it]"
     ]
    },
    {
     "name": "stdout",
     "output_type": "stream",
     "text": [
      "No se encontró el botón de traducción.\n",
      "Accediendo a: https://www.airbnb.es/rooms/36291359?adults=1&children=0&enable_m3_private_room=true&infants=0&pets=0&search_mode=regular_search&check_in=2024-11-24&check_out=2024-11-29&source_impression_id=p3_1730727005_P39iBfD_Jhr2QT8C&previous_page_section_name=1000&federated_search_id=5bc98de9-5c60-4bc1-8304-a28789aaf412\n"
     ]
    },
    {
     "name": "stderr",
     "output_type": "stream",
     "text": [
      "Extrayendo datos:  98%|█████████▊| 491/500 [1:09:12<01:16,  8.45s/it]"
     ]
    },
    {
     "name": "stdout",
     "output_type": "stream",
     "text": [
      "No se encontró el botón de traducción.\n",
      "Accediendo a: https://www.airbnb.es/rooms/2058080?adults=1&children=0&enable_m3_private_room=true&infants=0&pets=0&search_mode=regular_search&check_in=2024-11-18&check_out=2024-11-23&source_impression_id=p3_1730727005_P3h6rMvolMSkS3R_&previous_page_section_name=1000&federated_search_id=5bc98de9-5c60-4bc1-8304-a28789aaf412\n"
     ]
    },
    {
     "name": "stderr",
     "output_type": "stream",
     "text": [
      "Extrayendo datos:  98%|█████████▊| 492/500 [1:09:21<01:07,  8.47s/it]"
     ]
    },
    {
     "name": "stdout",
     "output_type": "stream",
     "text": [
      "No se encontró el botón de traducción.\n",
      "Accediendo a: https://www.airbnb.es/rooms/1168874115842972093?adults=1&children=0&enable_m3_private_room=true&infants=0&pets=0&search_mode=regular_search&check_in=2024-12-12&check_out=2024-12-17&source_impression_id=p3_1730727005_P3oZaF-j2W04puMp&previous_page_section_name=1000&federated_search_id=5bc98de9-5c60-4bc1-8304-a28789aaf412\n"
     ]
    },
    {
     "name": "stderr",
     "output_type": "stream",
     "text": [
      "Extrayendo datos:  99%|█████████▊| 493/500 [1:09:29<00:59,  8.48s/it]"
     ]
    },
    {
     "name": "stdout",
     "output_type": "stream",
     "text": [
      "No se encontró el botón de traducción.\n",
      "Accediendo a: https://www.airbnb.es/rooms/1239920055875442315?adults=1&category_tag=Tag%3A8678&children=0&enable_m3_private_room=true&infants=0&pets=0&photo_id=2016940308&search_mode=regular_search&check_in=2024-11-25&check_out=2024-11-30&source_impression_id=p3_1730727005_P3qpida_UzdTCGsF&previous_page_section_name=1000&federated_search_id=5bc98de9-5c60-4bc1-8304-a28789aaf412\n"
     ]
    },
    {
     "name": "stderr",
     "output_type": "stream",
     "text": [
      "Extrayendo datos:  99%|█████████▉| 494/500 [1:09:38<00:50,  8.48s/it]"
     ]
    },
    {
     "name": "stdout",
     "output_type": "stream",
     "text": [
      "No se encontró el botón de traducción.\n",
      "Accediendo a: https://www.airbnb.es/rooms/2981721?adults=1&children=0&enable_m3_private_room=true&infants=0&pets=0&search_mode=regular_search&check_in=2024-11-24&check_out=2024-11-29&source_impression_id=p3_1730727005_P3Zp8Umho0vqcB4H&previous_page_section_name=1000&federated_search_id=5bc98de9-5c60-4bc1-8304-a28789aaf412\n"
     ]
    },
    {
     "name": "stderr",
     "output_type": "stream",
     "text": [
      "Extrayendo datos:  99%|█████████▉| 495/500 [1:09:46<00:42,  8.49s/it]"
     ]
    },
    {
     "name": "stdout",
     "output_type": "stream",
     "text": [
      "No se encontró el botón de traducción.\n",
      "Accediendo a: https://www.airbnb.es/rooms/21722132?adults=1&children=0&enable_m3_private_room=true&infants=0&pets=0&search_mode=regular_search&check_in=2024-12-01&check_out=2024-12-06&source_impression_id=p3_1730727005_P3eg84_R21aWAPWc&previous_page_section_name=1000&federated_search_id=5bc98de9-5c60-4bc1-8304-a28789aaf412\n",
      "No se encontró el botón de traducción.\n"
     ]
    },
    {
     "name": "stderr",
     "output_type": "stream",
     "text": [
      "Extrayendo datos:  99%|█████████▉| 496/500 [1:09:55<00:33,  8.48s/it]"
     ]
    },
    {
     "name": "stdout",
     "output_type": "stream",
     "text": [
      "Accediendo a: https://www.airbnb.es/rooms/572182415885999147?adults=1&children=0&enable_m3_private_room=true&infants=0&pets=0&search_mode=regular_search&check_in=2024-11-04&check_out=2024-11-09&source_impression_id=p3_1730727005_P3o0Z_v-svH2KKyo&previous_page_section_name=1000&federated_search_id=5bc98de9-5c60-4bc1-8304-a28789aaf412\n"
     ]
    },
    {
     "name": "stderr",
     "output_type": "stream",
     "text": [
      "Extrayendo datos:  99%|█████████▉| 497/500 [1:10:03<00:25,  8.50s/it]"
     ]
    },
    {
     "name": "stdout",
     "output_type": "stream",
     "text": [
      "No se encontró el botón de traducción.\n",
      "Accediendo a: https://www.airbnb.es/rooms/590503?adults=1&children=0&enable_m3_private_room=true&infants=0&pets=0&search_mode=regular_search&check_in=2024-12-09&check_out=2024-12-14&source_impression_id=p3_1730727005_P3BytjMabZ7GPnQB&previous_page_section_name=1000&federated_search_id=5bc98de9-5c60-4bc1-8304-a28789aaf412\n"
     ]
    },
    {
     "name": "stderr",
     "output_type": "stream",
     "text": [
      "Extrayendo datos: 100%|█████████▉| 498/500 [1:10:12<00:16,  8.50s/it]"
     ]
    },
    {
     "name": "stdout",
     "output_type": "stream",
     "text": [
      "No se encontró el botón de traducción.\n",
      "Accediendo a: https://www.airbnb.es/rooms/10205793?adults=1&children=0&enable_m3_private_room=true&infants=0&pets=0&search_mode=regular_search&check_in=2024-11-30&check_out=2024-12-05&source_impression_id=p3_1730727005_P3_xfmC4L9HBSl7h&previous_page_section_name=1000&federated_search_id=5bc98de9-5c60-4bc1-8304-a28789aaf412\n"
     ]
    },
    {
     "name": "stderr",
     "output_type": "stream",
     "text": [
      "Extrayendo datos: 100%|█████████▉| 499/500 [1:10:20<00:08,  8.48s/it]"
     ]
    },
    {
     "name": "stdout",
     "output_type": "stream",
     "text": [
      "No se encontró el botón de traducción.\n",
      "Accediendo a: https://www.airbnb.es/rooms/2555964?adults=1&children=0&enable_m3_private_room=true&infants=0&pets=0&search_mode=regular_search&check_in=2025-01-03&check_out=2025-01-08&source_impression_id=p3_1730727005_P3damnx3URP_Uejc&previous_page_section_name=1000&federated_search_id=5bc98de9-5c60-4bc1-8304-a28789aaf412\n"
     ]
    },
    {
     "name": "stderr",
     "output_type": "stream",
     "text": [
      "Extrayendo datos: 100%|██████████| 500/500 [1:10:29<00:00,  8.46s/it]"
     ]
    },
    {
     "name": "stdout",
     "output_type": "stream",
     "text": [
      "No se encontró el botón de traducción.\n"
     ]
    },
    {
     "name": "stderr",
     "output_type": "stream",
     "text": [
      "\n"
     ]
    }
   ],
   "source": [
    "now = datetime.now()\n",
    "\n",
    "# Función para extraer el texto de un elemento dado\n",
    "def extract_text(soup, tag, class_name, index=0, default=np.nan):\n",
    "    try:\n",
    "        elements = soup.find_all(tag, class_=class_name)\n",
    "        return elements[index].text.strip() if elements else default  # Retorna el texto del elemento especificado\n",
    "    except (AttributeError, IndexError):\n",
    "        return default\n",
    "\n",
    "# Diccionario para los campos a extraer, organizados en el orden deseado\n",
    "fields = {\n",
    "    \"Titles\": (\"span\", \"l1h825yc\", 1),  # Título del alojamiento\n",
    "    \"Host_name\": (\"div\", \"t1pxe1a4\", 0),  # Nombre del anfitrión\n",
    "    \"Property_types\": (\"h2\", \"hpipapi\", 0),  # Tipo de propiedad\n",
    "    \"Prices_per_night\": (\"span\", \"_11jcbg2\", 0),  # Precio por noche\n",
    "    \"Check_ins\": (\"div\", \"i1303y2k\", 0),  # Check-in\n",
    "    \"Check_outs\": (\"div\", \"i1303y2k\", 1),  # Check-out\n",
    "    \"Location\": (\"div\", \"_152qbzi\", 0),  # Ubicación\n",
    "}\n",
    "\n",
    "# Limitar a 500 enlaces para la muestra\n",
    "sample_links = links_to_scrapp[:500]\n",
    "\n",
    "# Lista para almacenar los datos extraídos\n",
    "data_list = []\n",
    "\n",
    "# Iterar sobre cada enlace en la muestra\n",
    "for link in tqdm(sample_links, desc=\"Extrayendo datos\"):\n",
    "    if 'adults' not in link:\n",
    "        # Verificar si ya hay parámetros en la URL\n",
    "        if '?' in link:\n",
    "            link += '&adults=1'  # Agregar & si ya hay otros parámetros\n",
    "        else:\n",
    "            link += '?adults=1'  # Agregar ? si no hay parámetros\n",
    "\n",
    "    print(f\"Accediendo a: {link}\")        \n",
    "\n",
    "    driver.get(link)  # Acceder a la página\n",
    "    sleep(5)  # Espera para cargar la página\n",
    "\n",
    "    # Obtener el objeto BeautifulSoup\n",
    "    page_source = driver.page_source\n",
    "    soup = BeautifulSoup(page_source, 'html.parser')\n",
    "\n",
    "\n",
    "    try:\n",
    "        # Boton de traduccion\n",
    "\n",
    "        button_trad = WebDriverWait(driver, 3).until(\n",
    "            EC.element_to_be_clickable((By.XPATH, \"//button[@aria-label='Cerrar']\"))\n",
    "        )\n",
    "        button_trad.click()\n",
    "        print(\"Botón de traducción clicado con éxito.\")\n",
    "\n",
    "    except (NoSuchElementException, TimeoutException):\n",
    "        print(\"No se encontró el botón de traducción.\")\n",
    "    \n",
    "\n",
    "        # Capturar el contenido de la página -----------> Provisional\n",
    "    page_source = driver.page_source\n",
    "    soup = BeautifulSoup(page_source, 'html.parser')\n",
    "\n",
    "    data = {\n",
    "    'urls': link,\n",
    "    'timestamp': now.strftime('%Y-%m-%d %H:%M:%S'),  # Añadir la fecha y hora formateada\n",
    "    'record_id': link.split('/')[-1].split('?')[0]  # Usar el ID de la URL como record_id\n",
    "    }\n",
    "\n",
    "    # Extraer usando el diccionario y la función de extracción\n",
    "    data.update({field: extract_text(soup, *details) for field, details in fields.items()})\n",
    "\n",
    "    # Obtener las reseñas y calificaciones usando XPATH\n",
    "    ratings_xpaths = [\n",
    "        \"/html/body/div[5]/div/div/div[1]/div/div[2]/div/div/div/div[1]/main/div/div[1]/div[3]/div/div[1]/div/div[1]/div/div/div/section/div[3]/div[2]\",\n",
    "        \"/html/body/div[5]/div/div/div[1]/div/div[2]/div/div/div/div[1]/main/div/div[1]/div[3]/div/div[1]/div/div[2]/div/div/div/a/div/div[6]/div[1]\",\n",
    "        \"/html/body/div[5]/div/div/div[1]/div/div[2]/div/div/div/div[1]/main/div/div[1]/div[3]/div/div[1]/div/div[1]/div/div/div/section/div[3]/div[2]\",\n",
    "    ]\n",
    "\n",
    "    reviews_xpaths = [\n",
    "        \"/html/body/div[5]/div/div/div[1]/div/div[2]/div/div/div/div[1]/main/div/div[1]/div[3]/div/div[1]/div/div[1]/div/div/div/section/div[3]/a\",\n",
    "        \"/html/body/div[5]/div/div/div[1]/div/div[2]/div/div/div/div[1]/main/div/div[1]/div[3]/div/div[1]/div/div[2]/div/div/div/a/div/div[10]/div[1]\",\n",
    "        \"/html/body/div[5]/div/div/div[1]/div/div[2]/div/div/div/div[1]/main/div/div[1]/div[3]/div/div[1]/div/div[1]/div/div/div/section/div[3]/a\",\n",
    "    ]\n",
    "\n",
    "    rating = num_reviews = np.nan  # Inicializa como NaN\n",
    "\n",
    "    # Intentar obtener las calificaciones\n",
    "    for xpath in ratings_xpaths:\n",
    "        try:\n",
    "            rating = driver.find_element(By.XPATH, xpath).text\n",
    "            break  # Salir del bucle si se encuentra la calificación\n",
    "        except:\n",
    "            continue  # Continuar intentando con el siguiente XPATH\n",
    "\n",
    "    # Intentar obtener el número de reseñas\n",
    "    for xpath in reviews_xpaths:\n",
    "        try:\n",
    "            num_reviews_text = driver.find_element(By.XPATH, xpath).text\n",
    "            if 'evaluaciones' in num_reviews_text:\n",
    "                num_reviews = num_reviews_text.split()[0]  # Captura el número de evaluaciones\n",
    "                break  # Salir del bucle si se encuentra el número de evaluaciones\n",
    "        except:\n",
    "            continue  # Continuar intentando con el siguiente XPATH\n",
    "\n",
    "    # Añadir calificaciones y número de reseñas al diccionario de datos\n",
    "    data['Ratings'] = rating\n",
    "    data['Num_reviews'] = num_reviews\n",
    "    \n",
    "    # Extraccion de cleaning fee\n",
    "    try:\n",
    "        # Buscar el elemento de gastos de limpieza\n",
    "        cleaning_fee_loc = driver.find_element(By.CSS_SELECTOR, \"div[data-plugin-in-point-id='BOOK_IT_SIDEBAR'] div._m495dq\")\n",
    "        \n",
    "        # Buscar el dato de la tarifa con expresión regular\n",
    "        gastos_limpieza = re.search(r\"Gastos de limpieza.*?(\\d+ €)\", cleaning_fee_loc.text, re.DOTALL)\n",
    "        \n",
    "        if gastos_limpieza:\n",
    "            cleaning_fee = gastos_limpieza.group(1)\n",
    "        else:\n",
    "            print(\"No se encontraron los gastos de limpieza.\")\n",
    "            cleaning_fee = \"No hay gasto\"  # Indicar que no se encontraron gastos de limpieza\n",
    "\n",
    "    except Exception as e:\n",
    "        print(f\"No se pudo encontrar el elemento de gastos de limpieza: {e}\")\n",
    "        cleaning_fee = \"Elemento no encontrado\"  # Indicar que el elemento no estaba en la página\n",
    "\n",
    "    # Añadir el cleaning_fee al diccionario de datos\n",
    "    data['Cleaning_fee'] = cleaning_fee\n",
    "    \n",
    "\n",
    "    # Extracción de detalles (camas, baños, etc.) usando el selector CSS\n",
    "    details = driver.find_elements(By.CSS_SELECTOR, \"div.o1kjrihn ol.lgx66tx\")\n",
    "    detalles = [_.text for _ in details]\n",
    "\n",
    "    # Procesar cada detalle y categorizar\n",
    "    detalles_limpio = {}\n",
    "    for i in detalles:\n",
    "        for fragment in i.split(\" · \"):\n",
    "            # Detecta y asigna cada categoría por palabras clave en cada fragmento\n",
    "            if \"viajero\" in fragment:\n",
    "                detalles_limpio['Viajeros'] = fragment\n",
    "            elif \"dormitorio\" in fragment:\n",
    "                detalles_limpio['Dormitorios'] = fragment\n",
    "            elif \"cama\" in fragment:\n",
    "                detalles_limpio['Camas'] = fragment\n",
    "            elif \"baño\" in fragment or \"Baño\" in fragment:\n",
    "                detalles_limpio['Baños'] = fragment\n",
    "            else:\n",
    "                detalles_limpio['Otros'] = fragment\n",
    "\n",
    "    # Agregar detalles categorizados al diccionario de datos sin afectar los campos existentes\n",
    "    data.update(detalles_limpio)\n",
    "\n",
    "    # Agregar el número máximo de huéspedes\n",
    "    n_guests = driver.find_elements(By.CSS_SELECTOR, \"div[data-plugin-in-point-id='POLICIES_DEFAULT'] div.i1303y2k span\")\n",
    "    guests_count = np.nan  # Valor predeterminado en caso de no encontrar\n",
    "    for guest in n_guests:\n",
    "        if 'huésped' in guest.text or 'huéspedes' in guest.text:\n",
    "            guests_count = guest.text.split()[1]  # Extraer solo el número de huéspedes\n",
    "            break  # Salir del bucle si se encuentra el número de huéspedes\n",
    "\n",
    "    # Añadir el número máximo de huéspedes al diccionario de datos\n",
    "    data['Maximum_guests'] = guests_count\n",
    "\n",
    "    # Añadir los datos extraídos a la lista\n",
    "    data_list.append(data)\n",
    "\n",
    "# Crear el DataFrame final con los datos extraídos\n",
    "df = pd.DataFrame(data_list)"
   ]
  },
  {
   "cell_type": "code",
   "execution_count": 7,
   "metadata": {},
   "outputs": [
    {
     "data": {
      "text/html": [
       "<div>\n",
       "<style scoped>\n",
       "    .dataframe tbody tr th:only-of-type {\n",
       "        vertical-align: middle;\n",
       "    }\n",
       "\n",
       "    .dataframe tbody tr th {\n",
       "        vertical-align: top;\n",
       "    }\n",
       "\n",
       "    .dataframe thead th {\n",
       "        text-align: right;\n",
       "    }\n",
       "</style>\n",
       "<table border=\"1\" class=\"dataframe\">\n",
       "  <thead>\n",
       "    <tr style=\"text-align: right;\">\n",
       "      <th></th>\n",
       "      <th>urls</th>\n",
       "      <th>timestamp</th>\n",
       "      <th>record_id</th>\n",
       "      <th>Titles</th>\n",
       "      <th>Host_name</th>\n",
       "      <th>Property_types</th>\n",
       "      <th>Prices_per_night</th>\n",
       "      <th>Check_ins</th>\n",
       "      <th>Check_outs</th>\n",
       "      <th>Cleaning_fees</th>\n",
       "      <th>Location</th>\n",
       "      <th>Ratings</th>\n",
       "      <th>Num_reviews</th>\n",
       "      <th>Camas</th>\n",
       "      <th>Baños</th>\n",
       "      <th>Maximum_guests</th>\n",
       "      <th>Viajeros</th>\n",
       "      <th>Dormitorios</th>\n",
       "      <th>Otros</th>\n",
       "    </tr>\n",
       "  </thead>\n",
       "  <tbody>\n",
       "    <tr>\n",
       "      <th>0</th>\n",
       "      <td>https://www.airbnb.es/rooms/127026646934000621...</td>\n",
       "      <td>2024-11-04 14:30:46</td>\n",
       "      <td>1270266469340006214</td>\n",
       "      <td>Cancelación gratuita antes del 24 nov. Si canc...</td>\n",
       "      <td>Anfitrión: Joar</td>\n",
       "      <td>Habitación en Barcelona, España</td>\n",
       "      <td>46 €</td>\n",
       "      <td>Llegada a partir de las 10:00</td>\n",
       "      <td>Salida antes de las 12:00</td>\n",
       "      <td>10 €</td>\n",
       "      <td>Barcelona, Catalunya, España</td>\n",
       "      <td>Nuevo</td>\n",
       "      <td>NaN</td>\n",
       "      <td>1 cama</td>\n",
       "      <td>Baño compartido</td>\n",
       "      <td>2</td>\n",
       "      <td>NaN</td>\n",
       "      <td>NaN</td>\n",
       "      <td>NaN</td>\n",
       "    </tr>\n",
       "    <tr>\n",
       "      <th>1</th>\n",
       "      <td>https://www.airbnb.es/rooms/124325414712095935...</td>\n",
       "      <td>2024-11-04 14:30:46</td>\n",
       "      <td>1243254147120959358</td>\n",
       "      <td>Este alojamiento tiene una ubicación estratégi...</td>\n",
       "      <td>Anfitrión: Valentina Sofia</td>\n",
       "      <td>Habitación en Barcelona, España</td>\n",
       "      <td>45 €</td>\n",
       "      <td>Horario de llegada: de 15:00 a 23:00</td>\n",
       "      <td>Salida antes de las 11:00</td>\n",
       "      <td>20 €</td>\n",
       "      <td>Barcelona, Catalunya, España</td>\n",
       "      <td>Nuevo</td>\n",
       "      <td>NaN</td>\n",
       "      <td>1 cama</td>\n",
       "      <td>Baño compartido</td>\n",
       "      <td>NaN</td>\n",
       "      <td>NaN</td>\n",
       "      <td>NaN</td>\n",
       "      <td>NaN</td>\n",
       "    </tr>\n",
       "    <tr>\n",
       "      <th>2</th>\n",
       "      <td>https://www.airbnb.es/rooms/126816381898072972...</td>\n",
       "      <td>2024-11-04 14:30:46</td>\n",
       "      <td>1268163818980729724</td>\n",
       "      <td>¡Bienvenido a tu escapada perfecta en el coraz...</td>\n",
       "      <td>Anfitrión: Joonas</td>\n",
       "      <td>Alojamiento entero: apartamento en Barcelona, ...</td>\n",
       "      <td>147 €</td>\n",
       "      <td>Llegada a partir de las 15:00</td>\n",
       "      <td>Salida antes de las 12:00</td>\n",
       "      <td>126 €</td>\n",
       "      <td>Barcelona, Catalunya, España</td>\n",
       "      <td>Nuevo</td>\n",
       "      <td>NaN</td>\n",
       "      <td>2 camas</td>\n",
       "      <td>1 baño</td>\n",
       "      <td>4</td>\n",
       "      <td>4 viajeros</td>\n",
       "      <td>2 dormitorios</td>\n",
       "      <td>NaN</td>\n",
       "    </tr>\n",
       "    <tr>\n",
       "      <th>3</th>\n",
       "      <td>https://www.airbnb.es/rooms/44247318?adults=1&amp;...</td>\n",
       "      <td>2024-11-04 14:30:46</td>\n",
       "      <td>44247318</td>\n",
       "      <td>ACOGEDOR APARTAMENTO DE PLAYA DE 1 DORMITORIO ...</td>\n",
       "      <td>Anfitrión: Jan</td>\n",
       "      <td>Alojamiento entero: apartamento en Barcelona, ...</td>\n",
       "      <td>55 €</td>\n",
       "      <td>Horario de llegada: de 18:00 a 23:00</td>\n",
       "      <td>Salida antes de las 11:00</td>\n",
       "      <td>80 €</td>\n",
       "      <td>Barcelona, Catalunya, España</td>\n",
       "      <td>4,68</td>\n",
       "      <td>19</td>\n",
       "      <td>1 cama</td>\n",
       "      <td>1 baño</td>\n",
       "      <td>2</td>\n",
       "      <td>2 viajeros</td>\n",
       "      <td>1 dormitorio</td>\n",
       "      <td>NaN</td>\n",
       "    </tr>\n",
       "    <tr>\n",
       "      <th>4</th>\n",
       "      <td>https://www.airbnb.es/rooms/119269213083576009...</td>\n",
       "      <td>2024-11-04 14:30:46</td>\n",
       "      <td>1192692130835760091</td>\n",
       "      <td>Disfruta de la privacidad  de este alojamiento...</td>\n",
       "      <td>Anfitrión: Ele</td>\n",
       "      <td>Habitación privada en: loft en Barcelona, España</td>\n",
       "      <td>56 €</td>\n",
       "      <td>Horario de llegada: de 14:00 a 21:00</td>\n",
       "      <td>Salida antes de las 12:00</td>\n",
       "      <td>48 €</td>\n",
       "      <td>Barcelona, Catalunya, España</td>\n",
       "      <td>5,0</td>\n",
       "      <td>4</td>\n",
       "      <td>2 camas</td>\n",
       "      <td>1 baño privado</td>\n",
       "      <td>1</td>\n",
       "      <td>1 viajero</td>\n",
       "      <td>1 dormitorio</td>\n",
       "      <td>NaN</td>\n",
       "    </tr>\n",
       "    <tr>\n",
       "      <th>...</th>\n",
       "      <td>...</td>\n",
       "      <td>...</td>\n",
       "      <td>...</td>\n",
       "      <td>...</td>\n",
       "      <td>...</td>\n",
       "      <td>...</td>\n",
       "      <td>...</td>\n",
       "      <td>...</td>\n",
       "      <td>...</td>\n",
       "      <td>...</td>\n",
       "      <td>...</td>\n",
       "      <td>...</td>\n",
       "      <td>...</td>\n",
       "      <td>...</td>\n",
       "      <td>...</td>\n",
       "      <td>...</td>\n",
       "      <td>...</td>\n",
       "      <td>...</td>\n",
       "      <td>...</td>\n",
       "    </tr>\n",
       "    <tr>\n",
       "      <th>495</th>\n",
       "      <td>https://www.airbnb.es/rooms/21722132?adults=1&amp;...</td>\n",
       "      <td>2024-11-04 14:30:46</td>\n",
       "      <td>21722132</td>\n",
       "      <td>El apartamento Batlló Balocnies se encuentra e...</td>\n",
       "      <td>Anfitrión: Habitat Apartments</td>\n",
       "      <td>Alojamiento entero: apartamento en Barcelona, ...</td>\n",
       "      <td>115 €</td>\n",
       "      <td>Horario de llegada: de 15:00 a 21:00</td>\n",
       "      <td>Salida antes de las 11:00</td>\n",
       "      <td>NaN</td>\n",
       "      <td>NaN</td>\n",
       "      <td>4,31</td>\n",
       "      <td>62</td>\n",
       "      <td>2 camas</td>\n",
       "      <td>1 baño</td>\n",
       "      <td>3</td>\n",
       "      <td>3 viajeros</td>\n",
       "      <td>1 dormitorio</td>\n",
       "      <td>NaN</td>\n",
       "    </tr>\n",
       "    <tr>\n",
       "      <th>496</th>\n",
       "      <td>https://www.airbnb.es/rooms/572182415885999147...</td>\n",
       "      <td>2024-11-04 14:30:46</td>\n",
       "      <td>572182415885999147</td>\n",
       "      <td>Muy bien ubicado: centro ciudad, con muchas at...</td>\n",
       "      <td>Anfitrión: Pau</td>\n",
       "      <td>Alojamiento entero: apartamento en Barcelona, ...</td>\n",
       "      <td>149 €</td>\n",
       "      <td>Horario de llegada: de 16:00 a 21:00</td>\n",
       "      <td>Salida antes de las 11:00</td>\n",
       "      <td>70 €</td>\n",
       "      <td>NaN</td>\n",
       "      <td>4,81</td>\n",
       "      <td>43</td>\n",
       "      <td>2 camas</td>\n",
       "      <td>1 baño</td>\n",
       "      <td>2</td>\n",
       "      <td>2 viajeros</td>\n",
       "      <td>1 dormitorio</td>\n",
       "      <td>NaN</td>\n",
       "    </tr>\n",
       "    <tr>\n",
       "      <th>497</th>\n",
       "      <td>https://www.airbnb.es/rooms/590503?adults=1&amp;ch...</td>\n",
       "      <td>2024-11-04 14:30:46</td>\n",
       "      <td>590503</td>\n",
       "      <td>Apartamento tipo LOFT en ZONA MUY SEGURA y muy...</td>\n",
       "      <td>Anfitrión: Alex</td>\n",
       "      <td>Alojamiento entero: apartamento en Barcelona, ...</td>\n",
       "      <td>86 €</td>\n",
       "      <td>Horario de llegada: de 15:00 a 0:00</td>\n",
       "      <td>Salida antes de las 11:00</td>\n",
       "      <td>60 €</td>\n",
       "      <td>Barcelona, España</td>\n",
       "      <td>NaN</td>\n",
       "      <td>NaN</td>\n",
       "      <td>1 cama</td>\n",
       "      <td>1 baño</td>\n",
       "      <td>5</td>\n",
       "      <td>5 viajeros</td>\n",
       "      <td>2 dormitorios</td>\n",
       "      <td>NaN</td>\n",
       "    </tr>\n",
       "    <tr>\n",
       "      <th>498</th>\n",
       "      <td>https://www.airbnb.es/rooms/10205793?adults=1&amp;...</td>\n",
       "      <td>2024-11-04 14:30:46</td>\n",
       "      <td>10205793</td>\n",
       "      <td>Precioso apartamento situado en la mejor zona ...</td>\n",
       "      <td>Anfitrión: Pilar</td>\n",
       "      <td>Alojamiento entero: apartamento en Barcelona, ...</td>\n",
       "      <td>112 €</td>\n",
       "      <td>Llegada flexible</td>\n",
       "      <td>Salida antes de las 11:00</td>\n",
       "      <td>50 €</td>\n",
       "      <td>NaN</td>\n",
       "      <td>4,73</td>\n",
       "      <td>187</td>\n",
       "      <td>3 camas</td>\n",
       "      <td>1 baño</td>\n",
       "      <td>6</td>\n",
       "      <td>6 viajeros</td>\n",
       "      <td>3 dormitorios</td>\n",
       "      <td>NaN</td>\n",
       "    </tr>\n",
       "    <tr>\n",
       "      <th>499</th>\n",
       "      <td>https://www.airbnb.es/rooms/2555964?adults=1&amp;c...</td>\n",
       "      <td>2024-11-04 14:30:46</td>\n",
       "      <td>2555964</td>\n",
       "      <td>Hola!! Bienvenidos a Barcelona!!!Os ofrecemos ...</td>\n",
       "      <td>Anfitrión: Alex &amp; Marc</td>\n",
       "      <td>Alojamiento entero: loft en Barcelona, España</td>\n",
       "      <td>127 €</td>\n",
       "      <td>Llegada a partir de las 15:00</td>\n",
       "      <td>Salida antes de las 11:00</td>\n",
       "      <td>60 €</td>\n",
       "      <td>NaN</td>\n",
       "      <td>NaN</td>\n",
       "      <td>NaN</td>\n",
       "      <td>5 camas</td>\n",
       "      <td>2 baños</td>\n",
       "      <td>6</td>\n",
       "      <td>6 viajeros</td>\n",
       "      <td>2 dormitorios</td>\n",
       "      <td>NaN</td>\n",
       "    </tr>\n",
       "  </tbody>\n",
       "</table>\n",
       "<p>500 rows × 19 columns</p>\n",
       "</div>"
      ],
      "text/plain": [
       "                                                  urls            timestamp  \\\n",
       "0    https://www.airbnb.es/rooms/127026646934000621...  2024-11-04 14:30:46   \n",
       "1    https://www.airbnb.es/rooms/124325414712095935...  2024-11-04 14:30:46   \n",
       "2    https://www.airbnb.es/rooms/126816381898072972...  2024-11-04 14:30:46   \n",
       "3    https://www.airbnb.es/rooms/44247318?adults=1&...  2024-11-04 14:30:46   \n",
       "4    https://www.airbnb.es/rooms/119269213083576009...  2024-11-04 14:30:46   \n",
       "..                                                 ...                  ...   \n",
       "495  https://www.airbnb.es/rooms/21722132?adults=1&...  2024-11-04 14:30:46   \n",
       "496  https://www.airbnb.es/rooms/572182415885999147...  2024-11-04 14:30:46   \n",
       "497  https://www.airbnb.es/rooms/590503?adults=1&ch...  2024-11-04 14:30:46   \n",
       "498  https://www.airbnb.es/rooms/10205793?adults=1&...  2024-11-04 14:30:46   \n",
       "499  https://www.airbnb.es/rooms/2555964?adults=1&c...  2024-11-04 14:30:46   \n",
       "\n",
       "               record_id                                             Titles  \\\n",
       "0    1270266469340006214  Cancelación gratuita antes del 24 nov. Si canc...   \n",
       "1    1243254147120959358  Este alojamiento tiene una ubicación estratégi...   \n",
       "2    1268163818980729724  ¡Bienvenido a tu escapada perfecta en el coraz...   \n",
       "3               44247318  ACOGEDOR APARTAMENTO DE PLAYA DE 1 DORMITORIO ...   \n",
       "4    1192692130835760091  Disfruta de la privacidad  de este alojamiento...   \n",
       "..                   ...                                                ...   \n",
       "495             21722132  El apartamento Batlló Balocnies se encuentra e...   \n",
       "496   572182415885999147  Muy bien ubicado: centro ciudad, con muchas at...   \n",
       "497               590503  Apartamento tipo LOFT en ZONA MUY SEGURA y muy...   \n",
       "498             10205793  Precioso apartamento situado en la mejor zona ...   \n",
       "499              2555964  Hola!! Bienvenidos a Barcelona!!!Os ofrecemos ...   \n",
       "\n",
       "                         Host_name  \\\n",
       "0                  Anfitrión: Joar   \n",
       "1       Anfitrión: Valentina Sofia   \n",
       "2                Anfitrión: Joonas   \n",
       "3                   Anfitrión: Jan   \n",
       "4                   Anfitrión: Ele   \n",
       "..                             ...   \n",
       "495  Anfitrión: Habitat Apartments   \n",
       "496                 Anfitrión: Pau   \n",
       "497                Anfitrión: Alex   \n",
       "498               Anfitrión: Pilar   \n",
       "499         Anfitrión: Alex & Marc   \n",
       "\n",
       "                                        Property_types Prices_per_night  \\\n",
       "0                      Habitación en Barcelona, España             46 €   \n",
       "1                      Habitación en Barcelona, España             45 €   \n",
       "2    Alojamiento entero: apartamento en Barcelona, ...            147 €   \n",
       "3    Alojamiento entero: apartamento en Barcelona, ...             55 €   \n",
       "4     Habitación privada en: loft en Barcelona, España             56 €   \n",
       "..                                                 ...              ...   \n",
       "495  Alojamiento entero: apartamento en Barcelona, ...            115 €   \n",
       "496  Alojamiento entero: apartamento en Barcelona, ...            149 €   \n",
       "497  Alojamiento entero: apartamento en Barcelona, ...             86 €   \n",
       "498  Alojamiento entero: apartamento en Barcelona, ...            112 €   \n",
       "499      Alojamiento entero: loft en Barcelona, España            127 €   \n",
       "\n",
       "                                Check_ins                 Check_outs  \\\n",
       "0           Llegada a partir de las 10:00  Salida antes de las 12:00   \n",
       "1    Horario de llegada: de 15:00 a 23:00  Salida antes de las 11:00   \n",
       "2           Llegada a partir de las 15:00  Salida antes de las 12:00   \n",
       "3    Horario de llegada: de 18:00 a 23:00  Salida antes de las 11:00   \n",
       "4    Horario de llegada: de 14:00 a 21:00  Salida antes de las 12:00   \n",
       "..                                    ...                        ...   \n",
       "495  Horario de llegada: de 15:00 a 21:00  Salida antes de las 11:00   \n",
       "496  Horario de llegada: de 16:00 a 21:00  Salida antes de las 11:00   \n",
       "497   Horario de llegada: de 15:00 a 0:00  Salida antes de las 11:00   \n",
       "498                      Llegada flexible  Salida antes de las 11:00   \n",
       "499         Llegada a partir de las 15:00  Salida antes de las 11:00   \n",
       "\n",
       "    Cleaning_fees                      Location Ratings Num_reviews    Camas  \\\n",
       "0            10 €  Barcelona, Catalunya, España   Nuevo         NaN   1 cama   \n",
       "1            20 €  Barcelona, Catalunya, España   Nuevo         NaN   1 cama   \n",
       "2           126 €  Barcelona, Catalunya, España   Nuevo         NaN  2 camas   \n",
       "3            80 €  Barcelona, Catalunya, España    4,68          19   1 cama   \n",
       "4            48 €  Barcelona, Catalunya, España     5,0           4  2 camas   \n",
       "..            ...                           ...     ...         ...      ...   \n",
       "495           NaN                           NaN    4,31          62  2 camas   \n",
       "496          70 €                           NaN    4,81          43  2 camas   \n",
       "497          60 €             Barcelona, España     NaN         NaN   1 cama   \n",
       "498          50 €                           NaN    4,73         187  3 camas   \n",
       "499          60 €                           NaN     NaN         NaN  5 camas   \n",
       "\n",
       "               Baños Maximum_guests    Viajeros    Dormitorios Otros  \n",
       "0    Baño compartido              2         NaN            NaN   NaN  \n",
       "1    Baño compartido            NaN         NaN            NaN   NaN  \n",
       "2             1 baño              4  4 viajeros  2 dormitorios   NaN  \n",
       "3             1 baño              2  2 viajeros   1 dormitorio   NaN  \n",
       "4     1 baño privado              1   1 viajero   1 dormitorio   NaN  \n",
       "..               ...            ...         ...            ...   ...  \n",
       "495           1 baño              3  3 viajeros   1 dormitorio   NaN  \n",
       "496           1 baño              2  2 viajeros   1 dormitorio   NaN  \n",
       "497           1 baño              5  5 viajeros  2 dormitorios   NaN  \n",
       "498           1 baño              6  6 viajeros  3 dormitorios   NaN  \n",
       "499          2 baños              6  6 viajeros  2 dormitorios   NaN  \n",
       "\n",
       "[500 rows x 19 columns]"
      ]
     },
     "execution_count": 7,
     "metadata": {},
     "output_type": "execute_result"
    }
   ],
   "source": [
    "df"
   ]
  },
  {
   "cell_type": "code",
   "execution_count": 10,
   "metadata": {},
   "outputs": [
    {
     "data": {
      "text/plain": [
       "(500, 19)"
      ]
     },
     "execution_count": 10,
     "metadata": {},
     "output_type": "execute_result"
    }
   ],
   "source": [
    "df.shape"
   ]
  },
  {
   "cell_type": "code",
   "execution_count": 14,
   "metadata": {},
   "outputs": [],
   "source": [
    "df.to_csv('df_sample_V3.csv', index = False)"
   ]
  },
  {
   "cell_type": "code",
   "execution_count": null,
   "metadata": {},
   "outputs": [],
   "source": []
  },
  {
   "cell_type": "code",
   "execution_count": null,
   "metadata": {},
   "outputs": [],
   "source": []
  },
  {
   "cell_type": "code",
   "execution_count": 8,
   "metadata": {
    "collapsed": true,
    "jupyter": {
     "outputs_hidden": true
    }
   },
   "outputs": [
    {
     "ename": "FileNotFoundError",
     "evalue": "[Errno 2] No such file or directory: 'df_sample_V2'",
     "output_type": "error",
     "traceback": [
      "\u001b[1;31m---------------------------------------------------------------------------\u001b[0m",
      "\u001b[1;31mFileNotFoundError\u001b[0m                         Traceback (most recent call last)",
      "Cell \u001b[1;32mIn[8], line 1\u001b[0m\n\u001b[1;32m----> 1\u001b[0m df \u001b[38;5;241m=\u001b[39m pd\u001b[38;5;241m.\u001b[39mread_csv(\u001b[38;5;124m'\u001b[39m\u001b[38;5;124mdf_sample_V2\u001b[39m\u001b[38;5;124m'\u001b[39m)\n\u001b[0;32m      2\u001b[0m df\n",
      "File \u001b[1;32m~\\anaconda3\\Lib\\site-packages\\pandas\\io\\parsers\\readers.py:948\u001b[0m, in \u001b[0;36mread_csv\u001b[1;34m(filepath_or_buffer, sep, delimiter, header, names, index_col, usecols, dtype, engine, converters, true_values, false_values, skipinitialspace, skiprows, skipfooter, nrows, na_values, keep_default_na, na_filter, verbose, skip_blank_lines, parse_dates, infer_datetime_format, keep_date_col, date_parser, date_format, dayfirst, cache_dates, iterator, chunksize, compression, thousands, decimal, lineterminator, quotechar, quoting, doublequote, escapechar, comment, encoding, encoding_errors, dialect, on_bad_lines, delim_whitespace, low_memory, memory_map, float_precision, storage_options, dtype_backend)\u001b[0m\n\u001b[0;32m    935\u001b[0m kwds_defaults \u001b[38;5;241m=\u001b[39m _refine_defaults_read(\n\u001b[0;32m    936\u001b[0m     dialect,\n\u001b[0;32m    937\u001b[0m     delimiter,\n\u001b[1;32m   (...)\u001b[0m\n\u001b[0;32m    944\u001b[0m     dtype_backend\u001b[38;5;241m=\u001b[39mdtype_backend,\n\u001b[0;32m    945\u001b[0m )\n\u001b[0;32m    946\u001b[0m kwds\u001b[38;5;241m.\u001b[39mupdate(kwds_defaults)\n\u001b[1;32m--> 948\u001b[0m \u001b[38;5;28;01mreturn\u001b[39;00m _read(filepath_or_buffer, kwds)\n",
      "File \u001b[1;32m~\\anaconda3\\Lib\\site-packages\\pandas\\io\\parsers\\readers.py:611\u001b[0m, in \u001b[0;36m_read\u001b[1;34m(filepath_or_buffer, kwds)\u001b[0m\n\u001b[0;32m    608\u001b[0m _validate_names(kwds\u001b[38;5;241m.\u001b[39mget(\u001b[38;5;124m\"\u001b[39m\u001b[38;5;124mnames\u001b[39m\u001b[38;5;124m\"\u001b[39m, \u001b[38;5;28;01mNone\u001b[39;00m))\n\u001b[0;32m    610\u001b[0m \u001b[38;5;66;03m# Create the parser.\u001b[39;00m\n\u001b[1;32m--> 611\u001b[0m parser \u001b[38;5;241m=\u001b[39m TextFileReader(filepath_or_buffer, \u001b[38;5;241m*\u001b[39m\u001b[38;5;241m*\u001b[39mkwds)\n\u001b[0;32m    613\u001b[0m \u001b[38;5;28;01mif\u001b[39;00m chunksize \u001b[38;5;129;01mor\u001b[39;00m iterator:\n\u001b[0;32m    614\u001b[0m     \u001b[38;5;28;01mreturn\u001b[39;00m parser\n",
      "File \u001b[1;32m~\\anaconda3\\Lib\\site-packages\\pandas\\io\\parsers\\readers.py:1448\u001b[0m, in \u001b[0;36mTextFileReader.__init__\u001b[1;34m(self, f, engine, **kwds)\u001b[0m\n\u001b[0;32m   1445\u001b[0m     \u001b[38;5;28mself\u001b[39m\u001b[38;5;241m.\u001b[39moptions[\u001b[38;5;124m\"\u001b[39m\u001b[38;5;124mhas_index_names\u001b[39m\u001b[38;5;124m\"\u001b[39m] \u001b[38;5;241m=\u001b[39m kwds[\u001b[38;5;124m\"\u001b[39m\u001b[38;5;124mhas_index_names\u001b[39m\u001b[38;5;124m\"\u001b[39m]\n\u001b[0;32m   1447\u001b[0m \u001b[38;5;28mself\u001b[39m\u001b[38;5;241m.\u001b[39mhandles: IOHandles \u001b[38;5;241m|\u001b[39m \u001b[38;5;28;01mNone\u001b[39;00m \u001b[38;5;241m=\u001b[39m \u001b[38;5;28;01mNone\u001b[39;00m\n\u001b[1;32m-> 1448\u001b[0m \u001b[38;5;28mself\u001b[39m\u001b[38;5;241m.\u001b[39m_engine \u001b[38;5;241m=\u001b[39m \u001b[38;5;28mself\u001b[39m\u001b[38;5;241m.\u001b[39m_make_engine(f, \u001b[38;5;28mself\u001b[39m\u001b[38;5;241m.\u001b[39mengine)\n",
      "File \u001b[1;32m~\\anaconda3\\Lib\\site-packages\\pandas\\io\\parsers\\readers.py:1705\u001b[0m, in \u001b[0;36mTextFileReader._make_engine\u001b[1;34m(self, f, engine)\u001b[0m\n\u001b[0;32m   1703\u001b[0m     \u001b[38;5;28;01mif\u001b[39;00m \u001b[38;5;124m\"\u001b[39m\u001b[38;5;124mb\u001b[39m\u001b[38;5;124m\"\u001b[39m \u001b[38;5;129;01mnot\u001b[39;00m \u001b[38;5;129;01min\u001b[39;00m mode:\n\u001b[0;32m   1704\u001b[0m         mode \u001b[38;5;241m+\u001b[39m\u001b[38;5;241m=\u001b[39m \u001b[38;5;124m\"\u001b[39m\u001b[38;5;124mb\u001b[39m\u001b[38;5;124m\"\u001b[39m\n\u001b[1;32m-> 1705\u001b[0m \u001b[38;5;28mself\u001b[39m\u001b[38;5;241m.\u001b[39mhandles \u001b[38;5;241m=\u001b[39m get_handle(\n\u001b[0;32m   1706\u001b[0m     f,\n\u001b[0;32m   1707\u001b[0m     mode,\n\u001b[0;32m   1708\u001b[0m     encoding\u001b[38;5;241m=\u001b[39m\u001b[38;5;28mself\u001b[39m\u001b[38;5;241m.\u001b[39moptions\u001b[38;5;241m.\u001b[39mget(\u001b[38;5;124m\"\u001b[39m\u001b[38;5;124mencoding\u001b[39m\u001b[38;5;124m\"\u001b[39m, \u001b[38;5;28;01mNone\u001b[39;00m),\n\u001b[0;32m   1709\u001b[0m     compression\u001b[38;5;241m=\u001b[39m\u001b[38;5;28mself\u001b[39m\u001b[38;5;241m.\u001b[39moptions\u001b[38;5;241m.\u001b[39mget(\u001b[38;5;124m\"\u001b[39m\u001b[38;5;124mcompression\u001b[39m\u001b[38;5;124m\"\u001b[39m, \u001b[38;5;28;01mNone\u001b[39;00m),\n\u001b[0;32m   1710\u001b[0m     memory_map\u001b[38;5;241m=\u001b[39m\u001b[38;5;28mself\u001b[39m\u001b[38;5;241m.\u001b[39moptions\u001b[38;5;241m.\u001b[39mget(\u001b[38;5;124m\"\u001b[39m\u001b[38;5;124mmemory_map\u001b[39m\u001b[38;5;124m\"\u001b[39m, \u001b[38;5;28;01mFalse\u001b[39;00m),\n\u001b[0;32m   1711\u001b[0m     is_text\u001b[38;5;241m=\u001b[39mis_text,\n\u001b[0;32m   1712\u001b[0m     errors\u001b[38;5;241m=\u001b[39m\u001b[38;5;28mself\u001b[39m\u001b[38;5;241m.\u001b[39moptions\u001b[38;5;241m.\u001b[39mget(\u001b[38;5;124m\"\u001b[39m\u001b[38;5;124mencoding_errors\u001b[39m\u001b[38;5;124m\"\u001b[39m, \u001b[38;5;124m\"\u001b[39m\u001b[38;5;124mstrict\u001b[39m\u001b[38;5;124m\"\u001b[39m),\n\u001b[0;32m   1713\u001b[0m     storage_options\u001b[38;5;241m=\u001b[39m\u001b[38;5;28mself\u001b[39m\u001b[38;5;241m.\u001b[39moptions\u001b[38;5;241m.\u001b[39mget(\u001b[38;5;124m\"\u001b[39m\u001b[38;5;124mstorage_options\u001b[39m\u001b[38;5;124m\"\u001b[39m, \u001b[38;5;28;01mNone\u001b[39;00m),\n\u001b[0;32m   1714\u001b[0m )\n\u001b[0;32m   1715\u001b[0m \u001b[38;5;28;01massert\u001b[39;00m \u001b[38;5;28mself\u001b[39m\u001b[38;5;241m.\u001b[39mhandles \u001b[38;5;129;01mis\u001b[39;00m \u001b[38;5;129;01mnot\u001b[39;00m \u001b[38;5;28;01mNone\u001b[39;00m\n\u001b[0;32m   1716\u001b[0m f \u001b[38;5;241m=\u001b[39m \u001b[38;5;28mself\u001b[39m\u001b[38;5;241m.\u001b[39mhandles\u001b[38;5;241m.\u001b[39mhandle\n",
      "File \u001b[1;32m~\\anaconda3\\Lib\\site-packages\\pandas\\io\\common.py:863\u001b[0m, in \u001b[0;36mget_handle\u001b[1;34m(path_or_buf, mode, encoding, compression, memory_map, is_text, errors, storage_options)\u001b[0m\n\u001b[0;32m    858\u001b[0m \u001b[38;5;28;01melif\u001b[39;00m \u001b[38;5;28misinstance\u001b[39m(handle, \u001b[38;5;28mstr\u001b[39m):\n\u001b[0;32m    859\u001b[0m     \u001b[38;5;66;03m# Check whether the filename is to be opened in binary mode.\u001b[39;00m\n\u001b[0;32m    860\u001b[0m     \u001b[38;5;66;03m# Binary mode does not support 'encoding' and 'newline'.\u001b[39;00m\n\u001b[0;32m    861\u001b[0m     \u001b[38;5;28;01mif\u001b[39;00m ioargs\u001b[38;5;241m.\u001b[39mencoding \u001b[38;5;129;01mand\u001b[39;00m \u001b[38;5;124m\"\u001b[39m\u001b[38;5;124mb\u001b[39m\u001b[38;5;124m\"\u001b[39m \u001b[38;5;129;01mnot\u001b[39;00m \u001b[38;5;129;01min\u001b[39;00m ioargs\u001b[38;5;241m.\u001b[39mmode:\n\u001b[0;32m    862\u001b[0m         \u001b[38;5;66;03m# Encoding\u001b[39;00m\n\u001b[1;32m--> 863\u001b[0m         handle \u001b[38;5;241m=\u001b[39m \u001b[38;5;28mopen\u001b[39m(\n\u001b[0;32m    864\u001b[0m             handle,\n\u001b[0;32m    865\u001b[0m             ioargs\u001b[38;5;241m.\u001b[39mmode,\n\u001b[0;32m    866\u001b[0m             encoding\u001b[38;5;241m=\u001b[39mioargs\u001b[38;5;241m.\u001b[39mencoding,\n\u001b[0;32m    867\u001b[0m             errors\u001b[38;5;241m=\u001b[39merrors,\n\u001b[0;32m    868\u001b[0m             newline\u001b[38;5;241m=\u001b[39m\u001b[38;5;124m\"\u001b[39m\u001b[38;5;124m\"\u001b[39m,\n\u001b[0;32m    869\u001b[0m         )\n\u001b[0;32m    870\u001b[0m     \u001b[38;5;28;01melse\u001b[39;00m:\n\u001b[0;32m    871\u001b[0m         \u001b[38;5;66;03m# Binary mode\u001b[39;00m\n\u001b[0;32m    872\u001b[0m         handle \u001b[38;5;241m=\u001b[39m \u001b[38;5;28mopen\u001b[39m(handle, ioargs\u001b[38;5;241m.\u001b[39mmode)\n",
      "\u001b[1;31mFileNotFoundError\u001b[0m: [Errno 2] No such file or directory: 'df_sample_V2'"
     ]
    }
   ],
   "source": [
    "df = pd.read_csv('df_sample_V2')\n",
    "df"
   ]
  },
  {
   "cell_type": "code",
   "execution_count": null,
   "metadata": {},
   "outputs": [],
   "source": []
  },
  {
   "cell_type": "code",
   "execution_count": null,
   "metadata": {},
   "outputs": [],
   "source": []
  }
 ],
 "metadata": {
  "kernelspec": {
   "display_name": "Python 3 (ipykernel)",
   "language": "python",
   "name": "python3"
  },
  "language_info": {
   "codemirror_mode": {
    "name": "ipython",
    "version": 3
   },
   "file_extension": ".py",
   "mimetype": "text/x-python",
   "name": "python",
   "nbconvert_exporter": "python",
   "pygments_lexer": "ipython3",
   "version": "3.11.9"
  }
 },
 "nbformat": 4,
 "nbformat_minor": 4
}
