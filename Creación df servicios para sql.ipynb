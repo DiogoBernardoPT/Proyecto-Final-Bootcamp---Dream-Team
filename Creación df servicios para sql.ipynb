{
 "cells": [
  {
   "cell_type": "markdown",
   "metadata": {},
   "source": [
    "# Unión de df´s "
   ]
  },
  {
   "cell_type": "markdown",
   "metadata": {},
   "source": [
    "Aqui vamos a unir dos df´s sobretodo pensando en la subida de datos de sQL y para su mejor manejo."
   ]
  },
  {
   "cell_type": "code",
   "execution_count": 1,
   "metadata": {},
   "outputs": [],
   "source": [
    "import pandas as pd\n",
    "import numpy as np"
   ]
  },
  {
   "cell_type": "markdown",
   "metadata": {},
   "source": [
    "Abrimos los df"
   ]
  },
  {
   "cell_type": "code",
   "execution_count": 3,
   "metadata": {},
   "outputs": [
    {
     "data": {
      "text/html": [
       "<div>\n",
       "<style scoped>\n",
       "    .dataframe tbody tr th:only-of-type {\n",
       "        vertical-align: middle;\n",
       "    }\n",
       "\n",
       "    .dataframe tbody tr th {\n",
       "        vertical-align: top;\n",
       "    }\n",
       "\n",
       "    .dataframe thead th {\n",
       "        text-align: right;\n",
       "    }\n",
       "</style>\n",
       "<table border=\"1\" class=\"dataframe\">\n",
       "  <thead>\n",
       "    <tr style=\"text-align: right;\">\n",
       "      <th></th>\n",
       "      <th>category</th>\n",
       "      <th>service</th>\n",
       "      <th>url</th>\n",
       "      <th>services</th>\n",
       "      <th>record_id</th>\n",
       "    </tr>\n",
       "  </thead>\n",
       "  <tbody>\n",
       "    <tr>\n",
       "      <th>0</th>\n",
       "      <td>baño</td>\n",
       "      <td>secador de pelo</td>\n",
       "      <td>https://www.airbnb.es/rooms/126311759129279497...</td>\n",
       "      <td>secador de pelo</td>\n",
       "      <td>1263117591292794971</td>\n",
       "    </tr>\n",
       "    <tr>\n",
       "      <th>1</th>\n",
       "      <td>baño</td>\n",
       "      <td>productos de limpieza</td>\n",
       "      <td>https://www.airbnb.es/rooms/126311759129279497...</td>\n",
       "      <td>productos de limpieza</td>\n",
       "      <td>1263117591292794971</td>\n",
       "    </tr>\n",
       "    <tr>\n",
       "      <th>2</th>\n",
       "      <td>baño</td>\n",
       "      <td>champú</td>\n",
       "      <td>https://www.airbnb.es/rooms/126311759129279497...</td>\n",
       "      <td>champú</td>\n",
       "      <td>1263117591292794971</td>\n",
       "    </tr>\n",
       "    <tr>\n",
       "      <th>3</th>\n",
       "      <td>baño</td>\n",
       "      <td>gel de ducha</td>\n",
       "      <td>https://www.airbnb.es/rooms/126311759129279497...</td>\n",
       "      <td>gel de ducha</td>\n",
       "      <td>1263117591292794971</td>\n",
       "    </tr>\n",
       "    <tr>\n",
       "      <th>4</th>\n",
       "      <td>baño</td>\n",
       "      <td>agua caliente</td>\n",
       "      <td>https://www.airbnb.es/rooms/126311759129279497...</td>\n",
       "      <td>agua caliente</td>\n",
       "      <td>1263117591292794971</td>\n",
       "    </tr>\n",
       "  </tbody>\n",
       "</table>\n",
       "</div>"
      ],
      "text/plain": [
       "  category                service  \\\n",
       "0     baño        secador de pelo   \n",
       "1     baño  productos de limpieza   \n",
       "2     baño                 champú   \n",
       "3     baño           gel de ducha   \n",
       "4     baño          agua caliente   \n",
       "\n",
       "                                                 url               services  \\\n",
       "0  https://www.airbnb.es/rooms/126311759129279497...        secador de pelo   \n",
       "1  https://www.airbnb.es/rooms/126311759129279497...  productos de limpieza   \n",
       "2  https://www.airbnb.es/rooms/126311759129279497...                 champú   \n",
       "3  https://www.airbnb.es/rooms/126311759129279497...           gel de ducha   \n",
       "4  https://www.airbnb.es/rooms/126311759129279497...          agua caliente   \n",
       "\n",
       "             record_id  \n",
       "0  1263117591292794971  \n",
       "1  1263117591292794971  \n",
       "2  1263117591292794971  \n",
       "3  1263117591292794971  \n",
       "4  1263117591292794971  "
      ]
     },
     "execution_count": 3,
     "metadata": {},
     "output_type": "execute_result"
    }
   ],
   "source": [
    "df_servicios = pd.read_csv('C:/Users/peni_/Desktop/proyecto/Proyecto-Final-Bootcamp---Dream-Team/data/df_servicios_record_id.csv')\n",
    "df_servicios.head()"
   ]
  },
  {
   "cell_type": "markdown",
   "metadata": {},
   "source": [
    "Creamos un df de servicios con los record_id con este codigo :"
   ]
  },
  {
   "cell_type": "code",
   "execution_count": null,
   "metadata": {},
   "outputs": [],
   "source": [
    "df_servicios_final_cleaned['record_id'] = df_servicios_final_cleaned['url'].apply(lambda link: link.split('/')[-1].split('?')[0])"
   ]
  },
  {
   "cell_type": "markdown",
   "metadata": {},
   "source": [
    "Dropeamos lo que no vale "
   ]
  },
  {
   "cell_type": "code",
   "execution_count": 5,
   "metadata": {},
   "outputs": [
    {
     "data": {
      "text/html": [
       "<div>\n",
       "<style scoped>\n",
       "    .dataframe tbody tr th:only-of-type {\n",
       "        vertical-align: middle;\n",
       "    }\n",
       "\n",
       "    .dataframe tbody tr th {\n",
       "        vertical-align: top;\n",
       "    }\n",
       "\n",
       "    .dataframe thead th {\n",
       "        text-align: right;\n",
       "    }\n",
       "</style>\n",
       "<table border=\"1\" class=\"dataframe\">\n",
       "  <thead>\n",
       "    <tr style=\"text-align: right;\">\n",
       "      <th></th>\n",
       "      <th>category</th>\n",
       "      <th>service</th>\n",
       "      <th>record_id</th>\n",
       "    </tr>\n",
       "  </thead>\n",
       "  <tbody>\n",
       "    <tr>\n",
       "      <th>0</th>\n",
       "      <td>baño</td>\n",
       "      <td>secador de pelo</td>\n",
       "      <td>1263117591292794971</td>\n",
       "    </tr>\n",
       "    <tr>\n",
       "      <th>1</th>\n",
       "      <td>baño</td>\n",
       "      <td>productos de limpieza</td>\n",
       "      <td>1263117591292794971</td>\n",
       "    </tr>\n",
       "    <tr>\n",
       "      <th>2</th>\n",
       "      <td>baño</td>\n",
       "      <td>champú</td>\n",
       "      <td>1263117591292794971</td>\n",
       "    </tr>\n",
       "    <tr>\n",
       "      <th>3</th>\n",
       "      <td>baño</td>\n",
       "      <td>gel de ducha</td>\n",
       "      <td>1263117591292794971</td>\n",
       "    </tr>\n",
       "    <tr>\n",
       "      <th>4</th>\n",
       "      <td>baño</td>\n",
       "      <td>agua caliente</td>\n",
       "      <td>1263117591292794971</td>\n",
       "    </tr>\n",
       "    <tr>\n",
       "      <th>...</th>\n",
       "      <td>...</td>\n",
       "      <td>...</td>\n",
       "      <td>...</td>\n",
       "    </tr>\n",
       "    <tr>\n",
       "      <th>75051</th>\n",
       "      <td>aparcamiento e instalaciones</td>\n",
       "      <td>ascensorel alojamiento o edificio dispone de u...</td>\n",
       "      <td>14352069</td>\n",
       "    </tr>\n",
       "    <tr>\n",
       "      <th>75052</th>\n",
       "      <td>aparcamiento e instalaciones</td>\n",
       "      <td>aparcamiento de pago fuera de las instalaciones</td>\n",
       "      <td>14352069</td>\n",
       "    </tr>\n",
       "    <tr>\n",
       "      <th>75053</th>\n",
       "      <td>servicios</td>\n",
       "      <td>disponible para estancias largaspermite estanc...</td>\n",
       "      <td>14352069</td>\n",
       "    </tr>\n",
       "    <tr>\n",
       "      <th>75054</th>\n",
       "      <td>servicios</td>\n",
       "      <td>llegada autónoma</td>\n",
       "      <td>14352069</td>\n",
       "    </tr>\n",
       "    <tr>\n",
       "      <th>75055</th>\n",
       "      <td>servicios</td>\n",
       "      <td>caja de seguridad para llaves</td>\n",
       "      <td>14352069</td>\n",
       "    </tr>\n",
       "  </tbody>\n",
       "</table>\n",
       "<p>75056 rows × 3 columns</p>\n",
       "</div>"
      ],
      "text/plain": [
       "                           category  \\\n",
       "0                              baño   \n",
       "1                              baño   \n",
       "2                              baño   \n",
       "3                              baño   \n",
       "4                              baño   \n",
       "...                             ...   \n",
       "75051  aparcamiento e instalaciones   \n",
       "75052  aparcamiento e instalaciones   \n",
       "75053                     servicios   \n",
       "75054                     servicios   \n",
       "75055                     servicios   \n",
       "\n",
       "                                                 service            record_id  \n",
       "0                                        secador de pelo  1263117591292794971  \n",
       "1                                  productos de limpieza  1263117591292794971  \n",
       "2                                                 champú  1263117591292794971  \n",
       "3                                           gel de ducha  1263117591292794971  \n",
       "4                                          agua caliente  1263117591292794971  \n",
       "...                                                  ...                  ...  \n",
       "75051  ascensorel alojamiento o edificio dispone de u...             14352069  \n",
       "75052    aparcamiento de pago fuera de las instalaciones             14352069  \n",
       "75053  disponible para estancias largaspermite estanc...             14352069  \n",
       "75054                                   llegada autónoma             14352069  \n",
       "75055                      caja de seguridad para llaves             14352069  \n",
       "\n",
       "[75056 rows x 3 columns]"
      ]
     },
     "execution_count": 5,
     "metadata": {},
     "output_type": "execute_result"
    }
   ],
   "source": [
    "df_servicios.drop([\"url\", \"services\"], axis = 1, inplace = True)\n",
    "\n",
    "df_servicios"
   ]
  },
  {
   "cell_type": "markdown",
   "metadata": {},
   "source": [
    "Aqui empezamos con la creación de los df para las tablas de sql "
   ]
  },
  {
   "cell_type": "code",
   "execution_count": 37,
   "metadata": {},
   "outputs": [
    {
     "data": {
      "text/plain": [
       "((13, 2), (1143, 2))"
      ]
     },
     "execution_count": 37,
     "metadata": {},
     "output_type": "execute_result"
    }
   ],
   "source": [
    "df_category = pd.DataFrame(data = {num : category for num, category in enumerate(df_servicios[\"category\"].unique(), start = 1)}.items(),\n",
    "             columns = [\"category_id\", \"category\"])\n",
    "\n",
    "df_service = pd.DataFrame(data = {num : service for num, service in enumerate(df_servicios[\"service\"].unique(), start = 1)}.items(),\n",
    "             columns = [\"service_id\", \"service\"])\n",
    "\n",
    "df_category.shape, df_service.shape"
   ]
  },
  {
   "cell_type": "markdown",
   "metadata": {},
   "source": [
    "Creamos un id para category y otro para service"
   ]
  },
  {
   "cell_type": "code",
   "execution_count": 38,
   "metadata": {},
   "outputs": [
    {
     "data": {
      "text/html": [
       "<div>\n",
       "<style scoped>\n",
       "    .dataframe tbody tr th:only-of-type {\n",
       "        vertical-align: middle;\n",
       "    }\n",
       "\n",
       "    .dataframe tbody tr th {\n",
       "        vertical-align: top;\n",
       "    }\n",
       "\n",
       "    .dataframe thead th {\n",
       "        text-align: right;\n",
       "    }\n",
       "</style>\n",
       "<table border=\"1\" class=\"dataframe\">\n",
       "  <thead>\n",
       "    <tr style=\"text-align: right;\">\n",
       "      <th></th>\n",
       "      <th>category_id</th>\n",
       "      <th>category</th>\n",
       "    </tr>\n",
       "  </thead>\n",
       "  <tbody>\n",
       "    <tr>\n",
       "      <th>0</th>\n",
       "      <td>1</td>\n",
       "      <td>baño</td>\n",
       "    </tr>\n",
       "    <tr>\n",
       "      <th>1</th>\n",
       "      <td>2</td>\n",
       "      <td>dormitorio y lavandería</td>\n",
       "    </tr>\n",
       "    <tr>\n",
       "      <th>2</th>\n",
       "      <td>3</td>\n",
       "      <td>entretenimiento</td>\n",
       "    </tr>\n",
       "  </tbody>\n",
       "</table>\n",
       "</div>"
      ],
      "text/plain": [
       "   category_id                 category\n",
       "0            1                     baño\n",
       "1            2  dormitorio y lavandería\n",
       "2            3          entretenimiento"
      ]
     },
     "execution_count": 38,
     "metadata": {},
     "output_type": "execute_result"
    }
   ],
   "source": [
    "df_category.head(3)"
   ]
  },
  {
   "cell_type": "code",
   "execution_count": 41,
   "metadata": {},
   "outputs": [],
   "source": [
    "df_category.to_csv('data/df_category', index=False)"
   ]
  },
  {
   "cell_type": "code",
   "execution_count": 39,
   "metadata": {},
   "outputs": [
    {
     "data": {
      "text/html": [
       "<div>\n",
       "<style scoped>\n",
       "    .dataframe tbody tr th:only-of-type {\n",
       "        vertical-align: middle;\n",
       "    }\n",
       "\n",
       "    .dataframe tbody tr th {\n",
       "        vertical-align: top;\n",
       "    }\n",
       "\n",
       "    .dataframe thead th {\n",
       "        text-align: right;\n",
       "    }\n",
       "</style>\n",
       "<table border=\"1\" class=\"dataframe\">\n",
       "  <thead>\n",
       "    <tr style=\"text-align: right;\">\n",
       "      <th></th>\n",
       "      <th>service_id</th>\n",
       "      <th>service</th>\n",
       "    </tr>\n",
       "  </thead>\n",
       "  <tbody>\n",
       "    <tr>\n",
       "      <th>0</th>\n",
       "      <td>1</td>\n",
       "      <td>secador de pelo</td>\n",
       "    </tr>\n",
       "    <tr>\n",
       "      <th>1</th>\n",
       "      <td>2</td>\n",
       "      <td>productos de limpieza</td>\n",
       "    </tr>\n",
       "    <tr>\n",
       "      <th>2</th>\n",
       "      <td>3</td>\n",
       "      <td>champú</td>\n",
       "    </tr>\n",
       "  </tbody>\n",
       "</table>\n",
       "</div>"
      ],
      "text/plain": [
       "   service_id                service\n",
       "0           1        secador de pelo\n",
       "1           2  productos de limpieza\n",
       "2           3                 champú"
      ]
     },
     "execution_count": 39,
     "metadata": {},
     "output_type": "execute_result"
    }
   ],
   "source": [
    "df_service.head(3)"
   ]
  },
  {
   "cell_type": "code",
   "execution_count": 42,
   "metadata": {},
   "outputs": [],
   "source": [
    "df_service.to_csv('data/df_service', index=False)"
   ]
  },
  {
   "cell_type": "markdown",
   "metadata": {},
   "source": [
    "Unimos service_id con record_id"
   ]
  },
  {
   "cell_type": "code",
   "execution_count": 40,
   "metadata": {},
   "outputs": [
    {
     "name": "stderr",
     "output_type": "stream",
     "text": [
      "C:\\Users\\peni_\\AppData\\Local\\Temp\\ipykernel_27372\\3497196516.py:4: SettingWithCopyWarning: \n",
      "A value is trying to be set on a copy of a slice from a DataFrame.\n",
      "Try using .loc[row_indexer,col_indexer] = value instead\n",
      "\n",
      "See the caveats in the documentation: https://pandas.pydata.org/pandas-docs/stable/user_guide/indexing.html#returning-a-view-versus-a-copy\n",
      "  df_service_record[\"service\"] = df_service_record[\"service\"].map(map_service)\n"
     ]
    },
    {
     "data": {
      "text/html": [
       "<div>\n",
       "<style scoped>\n",
       "    .dataframe tbody tr th:only-of-type {\n",
       "        vertical-align: middle;\n",
       "    }\n",
       "\n",
       "    .dataframe tbody tr th {\n",
       "        vertical-align: top;\n",
       "    }\n",
       "\n",
       "    .dataframe thead th {\n",
       "        text-align: right;\n",
       "    }\n",
       "</style>\n",
       "<table border=\"1\" class=\"dataframe\">\n",
       "  <thead>\n",
       "    <tr style=\"text-align: right;\">\n",
       "      <th></th>\n",
       "      <th>service</th>\n",
       "      <th>record_id</th>\n",
       "    </tr>\n",
       "  </thead>\n",
       "  <tbody>\n",
       "    <tr>\n",
       "      <th>0</th>\n",
       "      <td>1</td>\n",
       "      <td>1263117591292794971</td>\n",
       "    </tr>\n",
       "    <tr>\n",
       "      <th>1</th>\n",
       "      <td>2</td>\n",
       "      <td>1263117591292794971</td>\n",
       "    </tr>\n",
       "    <tr>\n",
       "      <th>2</th>\n",
       "      <td>3</td>\n",
       "      <td>1263117591292794971</td>\n",
       "    </tr>\n",
       "  </tbody>\n",
       "</table>\n",
       "</div>"
      ],
      "text/plain": [
       "   service            record_id\n",
       "0        1  1263117591292794971\n",
       "1        2  1263117591292794971\n",
       "2        3  1263117591292794971"
      ]
     },
     "execution_count": 40,
     "metadata": {},
     "output_type": "execute_result"
    }
   ],
   "source": [
    "df_service_record = df_servicios[[\"service\", \"record_id\"]]\n",
    "map_service = {s : id_ for id_, s in df_service.values}\n",
    "\n",
    "df_service_record[\"service\"] = df_service_record[\"service\"].map(map_service)\n",
    "\n",
    "df_service_record.head(3)"
   ]
  },
  {
   "cell_type": "code",
   "execution_count": 43,
   "metadata": {},
   "outputs": [],
   "source": [
    "df_service_record.to_csv('data/df_service_record', index=False)"
   ]
  },
  {
   "cell_type": "markdown",
   "metadata": {},
   "source": [
    "Unimos category_id con service_id"
   ]
  },
  {
   "cell_type": "code",
   "execution_count": null,
   "metadata": {},
   "outputs": [
    {
     "name": "stderr",
     "output_type": "stream",
     "text": [
      "C:\\Users\\peni_\\AppData\\Local\\Temp\\ipykernel_27372\\3549252317.py:4: SettingWithCopyWarning: \n",
      "A value is trying to be set on a copy of a slice from a DataFrame.\n",
      "Try using .loc[row_indexer,col_indexer] = value instead\n",
      "\n",
      "See the caveats in the documentation: https://pandas.pydata.org/pandas-docs/stable/user_guide/indexing.html#returning-a-view-versus-a-copy\n",
      "  df_category_service[\"category\"] = df_category_service[\"category\"].map(map_category)\n",
      "C:\\Users\\peni_\\AppData\\Local\\Temp\\ipykernel_27372\\3549252317.py:5: SettingWithCopyWarning: \n",
      "A value is trying to be set on a copy of a slice from a DataFrame.\n",
      "Try using .loc[row_indexer,col_indexer] = value instead\n",
      "\n",
      "See the caveats in the documentation: https://pandas.pydata.org/pandas-docs/stable/user_guide/indexing.html#returning-a-view-versus-a-copy\n",
      "  df_category_service[\"service\"] = df_category_service[\"service\"].map(map_service)\n"
     ]
    },
    {
     "data": {
      "text/html": [
       "<div>\n",
       "<style scoped>\n",
       "    .dataframe tbody tr th:only-of-type {\n",
       "        vertical-align: middle;\n",
       "    }\n",
       "\n",
       "    .dataframe tbody tr th {\n",
       "        vertical-align: top;\n",
       "    }\n",
       "\n",
       "    .dataframe thead th {\n",
       "        text-align: right;\n",
       "    }\n",
       "</style>\n",
       "<table border=\"1\" class=\"dataframe\">\n",
       "  <thead>\n",
       "    <tr style=\"text-align: right;\">\n",
       "      <th></th>\n",
       "      <th>category</th>\n",
       "      <th>service</th>\n",
       "    </tr>\n",
       "  </thead>\n",
       "  <tbody>\n",
       "    <tr>\n",
       "      <th>0</th>\n",
       "      <td>1</td>\n",
       "      <td>1</td>\n",
       "    </tr>\n",
       "    <tr>\n",
       "      <th>1</th>\n",
       "      <td>1</td>\n",
       "      <td>2</td>\n",
       "    </tr>\n",
       "    <tr>\n",
       "      <th>2</th>\n",
       "      <td>1</td>\n",
       "      <td>3</td>\n",
       "    </tr>\n",
       "    <tr>\n",
       "      <th>3</th>\n",
       "      <td>1</td>\n",
       "      <td>4</td>\n",
       "    </tr>\n",
       "    <tr>\n",
       "      <th>4</th>\n",
       "      <td>1</td>\n",
       "      <td>5</td>\n",
       "    </tr>\n",
       "    <tr>\n",
       "      <th>...</th>\n",
       "      <td>...</td>\n",
       "      <td>...</td>\n",
       "    </tr>\n",
       "    <tr>\n",
       "      <th>1145</th>\n",
       "      <td>5</td>\n",
       "      <td>1139</td>\n",
       "    </tr>\n",
       "    <tr>\n",
       "      <th>1146</th>\n",
       "      <td>11</td>\n",
       "      <td>1140</td>\n",
       "    </tr>\n",
       "    <tr>\n",
       "      <th>1147</th>\n",
       "      <td>6</td>\n",
       "      <td>1141</td>\n",
       "    </tr>\n",
       "    <tr>\n",
       "      <th>1148</th>\n",
       "      <td>3</td>\n",
       "      <td>1142</td>\n",
       "    </tr>\n",
       "    <tr>\n",
       "      <th>1149</th>\n",
       "      <td>6</td>\n",
       "      <td>1143</td>\n",
       "    </tr>\n",
       "  </tbody>\n",
       "</table>\n",
       "<p>1150 rows × 2 columns</p>\n",
       "</div>"
      ],
      "text/plain": [
       "      category  service\n",
       "0            1        1\n",
       "1            1        2\n",
       "2            1        3\n",
       "3            1        4\n",
       "4            1        5\n",
       "...        ...      ...\n",
       "1145         5     1139\n",
       "1146        11     1140\n",
       "1147         6     1141\n",
       "1148         3     1142\n",
       "1149         6     1143\n",
       "\n",
       "[1150 rows x 2 columns]"
      ]
     },
     "execution_count": 36,
     "metadata": {},
     "output_type": "execute_result"
    }
   ],
   "source": [
    "df_category_service = df_servicios[[\"category\", \"service\"]]\n",
    "map_category = {s : id_ for id_, s in df_category.values}\n",
    "\n",
    "df_category_service[\"category\"] = df_category_service[\"category\"].map(map_category)\n",
    "df_category_service[\"service\"] = df_category_service[\"service\"].map(map_service)\n",
    "\n",
    "df_category_service = df_category_service.drop_duplicates().reset_index(drop = True)\n",
    "df_category_service.head(3)"
   ]
  },
  {
   "cell_type": "code",
   "execution_count": 44,
   "metadata": {},
   "outputs": [],
   "source": [
    "df_category_service.to_csv('data/df_category_service', index=False)"
   ]
  },
  {
   "cell_type": "code",
   "execution_count": null,
   "metadata": {},
   "outputs": [],
   "source": []
  }
 ],
 "metadata": {
  "kernelspec": {
   "display_name": "base",
   "language": "python",
   "name": "python3"
  },
  "language_info": {
   "codemirror_mode": {
    "name": "ipython",
    "version": 3
   },
   "file_extension": ".py",
   "mimetype": "text/x-python",
   "name": "python",
   "nbconvert_exporter": "python",
   "pygments_lexer": "ipython3",
   "version": "3.12.7"
  }
 },
 "nbformat": 4,
 "nbformat_minor": 2
}
