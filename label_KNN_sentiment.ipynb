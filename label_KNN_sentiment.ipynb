{
 "cells": [
  {
   "cell_type": "markdown",
   "metadata": {},
   "source": [
    "# Basicamente estamos haciendo un label para los sentimientos y luego un knn para los valores nan, despues lo devolvemos todo a str,todo esto lo he hecho para poder agregarlo al codigo de los ejemplos (CODE NEIGHBORS)"
   ]
  },
  {
   "cell_type": "code",
   "execution_count": 1,
   "metadata": {},
   "outputs": [],
   "source": [
    "import pandas as pd \n",
    "import numpy as np\n",
    "import pandas as pd\n",
    "import pickle\n",
    "\n",
    "# Encoders\n",
    "from sklearn.preprocessing import LabelEncoder\n",
    "from sklearn.impute import KNNImputer\n",
    "\n",
    "# Data Visualisation\n",
    "import seaborn as sns\n",
    "import matplotlib.pyplot as plt\n",
    "\n",
    "# Feature Importance\n",
    "from sklearn.ensemble import RandomForestRegressor"
   ]
  },
  {
   "cell_type": "code",
   "execution_count": 2,
   "metadata": {},
   "outputs": [],
   "source": [
    "df = pd.read_csv('C:/Users/peni_/Desktop/proyecto/Proyecto-Final-Bootcamp---Dream-Team/data/df_processed_ML.csv')\n",
    "df_sentiment = pd.read_csv('C:/Users/peni_/Desktop/proyecto/Proyecto-Final-Bootcamp---Dream-Team/data/df_sentiment_mean.csv')"
   ]
  },
  {
   "cell_type": "code",
   "execution_count": 3,
   "metadata": {},
   "outputs": [
    {
     "name": "stdout",
     "output_type": "stream",
     "text": [
      "<class 'pandas.core.frame.DataFrame'>\n",
      "RangeIndex: 2456 entries, 0 to 2455\n",
      "Data columns (total 3 columns):\n",
      " #   Column                       Non-Null Count  Dtype  \n",
      "---  ------                       --------------  -----  \n",
      " 0   Url                          2456 non-null   object \n",
      " 1   mean_sentiment               2456 non-null   float64\n",
      " 2   sentiment_label_transformed  2456 non-null   object \n",
      "dtypes: float64(1), object(2)\n",
      "memory usage: 57.7+ KB\n"
     ]
    }
   ],
   "source": [
    "df_sentiment.info()"
   ]
  },
  {
   "cell_type": "markdown",
   "metadata": {},
   "source": [
    "unimos df"
   ]
  },
  {
   "cell_type": "code",
   "execution_count": 4,
   "metadata": {},
   "outputs": [],
   "source": [
    "df['sentiment_label_transformed'] = df_sentiment['sentiment_label_transformed']"
   ]
  },
  {
   "cell_type": "markdown",
   "metadata": {},
   "source": [
    "Reemplazamos NaN por una categoría missing, se hace para que una vez hecho el label no hayan problemas"
   ]
  },
  {
   "cell_type": "code",
   "execution_count": null,
   "metadata": {},
   "outputs": [],
   "source": [
    "df['sentiment_label_transformed'] = df['sentiment_label_transformed'].fillna('missing')"
   ]
  },
  {
   "cell_type": "markdown",
   "metadata": {},
   "source": [
    "Usamos el Label"
   ]
  },
  {
   "cell_type": "code",
   "execution_count": null,
   "metadata": {},
   "outputs": [],
   "source": [
    "label_encoder = LabelEncoder()\n",
    "df['sentiment_encoded'] = label_encoder.fit_transform(df['sentiment_label_transformed'])\n",
    "df.head()"
   ]
  },
  {
   "cell_type": "markdown",
   "metadata": {},
   "source": [
    "Aplicamos el KNN solo para esa columna"
   ]
  },
  {
   "cell_type": "code",
   "execution_count": null,
   "metadata": {},
   "outputs": [],
   "source": [
    "imputer = KNNImputer(n_neighbors=2)  # Puedes ajustar el número de vecinos\n",
    "df['sentiment_imputed'] = imputer.fit_transform(df[['sentiment_encoded']])\n",
    "df.head()"
   ]
  },
  {
   "cell_type": "markdown",
   "metadata": {},
   "source": [
    "Reconvertimos los valores númericos a las categorias originales"
   ]
  },
  {
   "cell_type": "code",
   "execution_count": null,
   "metadata": {},
   "outputs": [
    {
     "name": "stdout",
     "output_type": "stream",
     "text": [
      "Categorías codificadas: {0: 'Negativo', 1: 'Neutral', 2: 'Positivo', 3: 'missing'}\n",
      "DataFrame con etiquetas codificadas:\n",
      "      prices_per_night  ratings  cleaning_fee  dormitorios  camas  baños  \\\n",
      "0                115.0     0.00           0.0          1.0    1.0    1.0   \n",
      "1                 46.0     0.00          15.0          1.0    1.0    0.5   \n",
      "2                 47.0     4.66           0.0          1.0    1.0    0.5   \n",
      "3                100.0     4.89          35.0          1.0    1.0    1.0   \n",
      "4                 33.0     4.40           0.0          1.0    1.0    0.5   \n",
      "...                ...      ...           ...          ...    ...    ...   \n",
      "2492              55.0     4.74          10.0          1.0    1.0    0.5   \n",
      "2493              60.0     4.78           0.0          1.0    1.0    0.5   \n",
      "2494             104.0     4.96           0.0          2.0    3.0    2.0   \n",
      "2495             120.0     4.83          50.0          1.0    1.0    1.0   \n",
      "2496             100.0     4.78           0.0          1.0    2.0    1.0   \n",
      "\n",
      "      maximum_guests  check_in_hour  check_out_hour  total_hours_checkin  ...  \\\n",
      "0                2.0          900.0           720.0                  9.0  ...   \n",
      "1                1.0         1020.0           660.0                  7.0  ...   \n",
      "2                1.0          900.0           720.0                  9.0  ...   \n",
      "3                1.0          960.0           720.0                  8.0  ...   \n",
      "4                1.0          900.0           660.0                  9.0  ...   \n",
      "...              ...            ...             ...                  ...  ...   \n",
      "2492             3.0          900.0           660.0                  9.0  ...   \n",
      "2493             2.0          900.0           600.0                  9.0  ...   \n",
      "2494             4.0          900.0           720.0                  9.0  ...   \n",
      "2495             2.0          900.0           660.0                  9.0  ...   \n",
      "2496             4.0          960.0           660.0                  8.0  ...   \n",
      "\n",
      "      exterior  internet y oficina  para familias  privacidad y seguridad  \\\n",
      "0          2.0                 1.0            0.0                     0.0   \n",
      "1          0.0                 2.0            0.0                     2.0   \n",
      "2          1.0                 1.0            0.0                     1.0   \n",
      "3          3.0                 2.0            2.0                     0.0   \n",
      "4          1.0                 1.0            0.0                     0.0   \n",
      "...        ...                 ...            ...                     ...   \n",
      "2492       0.0                 2.0            0.0                     3.0   \n",
      "2493       0.0                 1.0            0.0                     1.0   \n",
      "2494       0.0                 2.0            0.0                     0.0   \n",
      "2495       3.0                 2.0            0.0                     0.0   \n",
      "2496       1.0                 2.0            1.0                     0.0   \n",
      "\n",
      "      seguridad en el hogar  servicios  habitacion  alojamiento entero  \\\n",
      "0                       1.0        4.0         0.0                 0.0   \n",
      "1                       0.0        1.0         1.0                 0.0   \n",
      "2                       0.0        5.0         1.0                 0.0   \n",
      "3                       5.0        4.0         0.0                 0.0   \n",
      "4                       3.0        1.0         1.0                 0.0   \n",
      "...                     ...        ...         ...                 ...   \n",
      "2492                    0.0        1.0         1.0                 0.0   \n",
      "2493                    0.0        1.0         1.0                 0.0   \n",
      "2494                    2.0        3.0         0.0                 0.0   \n",
      "2495                    2.0        1.0         0.0                 0.0   \n",
      "2496                    2.0        3.0         0.0                 0.0   \n",
      "\n",
      "      sentiment_label_transformed  sentiment_encoded  \n",
      "0                        Positivo                  2  \n",
      "1                        Positivo                  2  \n",
      "2                        Positivo                  2  \n",
      "3                        Positivo                  2  \n",
      "4                        Positivo                  2  \n",
      "...                           ...                ...  \n",
      "2492                      missing                  3  \n",
      "2493                      missing                  3  \n",
      "2494                      missing                  3  \n",
      "2495                      missing                  3  \n",
      "2496                      missing                  3  \n",
      "\n",
      "[2497 rows x 28 columns]\n",
      "\n",
      "DataFrame después de imputar los valores faltantes:\n",
      "      prices_per_night  ratings  cleaning_fee  dormitorios  camas  baños  \\\n",
      "0                115.0     0.00           0.0          1.0    1.0    1.0   \n",
      "1                 46.0     0.00          15.0          1.0    1.0    0.5   \n",
      "2                 47.0     4.66           0.0          1.0    1.0    0.5   \n",
      "3                100.0     4.89          35.0          1.0    1.0    1.0   \n",
      "4                 33.0     4.40           0.0          1.0    1.0    0.5   \n",
      "...                ...      ...           ...          ...    ...    ...   \n",
      "2492              55.0     4.74          10.0          1.0    1.0    0.5   \n",
      "2493              60.0     4.78           0.0          1.0    1.0    0.5   \n",
      "2494             104.0     4.96           0.0          2.0    3.0    2.0   \n",
      "2495             120.0     4.83          50.0          1.0    1.0    1.0   \n",
      "2496             100.0     4.78           0.0          1.0    2.0    1.0   \n",
      "\n",
      "      maximum_guests  check_in_hour  check_out_hour  total_hours_checkin  ...  \\\n",
      "0                2.0          900.0           720.0                  9.0  ...   \n",
      "1                1.0         1020.0           660.0                  7.0  ...   \n",
      "2                1.0          900.0           720.0                  9.0  ...   \n",
      "3                1.0          960.0           720.0                  8.0  ...   \n",
      "4                1.0          900.0           660.0                  9.0  ...   \n",
      "...              ...            ...             ...                  ...  ...   \n",
      "2492             3.0          900.0           660.0                  9.0  ...   \n",
      "2493             2.0          900.0           600.0                  9.0  ...   \n",
      "2494             4.0          900.0           720.0                  9.0  ...   \n",
      "2495             2.0          900.0           660.0                  9.0  ...   \n",
      "2496             4.0          960.0           660.0                  8.0  ...   \n",
      "\n",
      "      internet y oficina  para familias  privacidad y seguridad  \\\n",
      "0                    1.0            0.0                     0.0   \n",
      "1                    2.0            0.0                     2.0   \n",
      "2                    1.0            0.0                     1.0   \n",
      "3                    2.0            2.0                     0.0   \n",
      "4                    1.0            0.0                     0.0   \n",
      "...                  ...            ...                     ...   \n",
      "2492                 2.0            0.0                     3.0   \n",
      "2493                 1.0            0.0                     1.0   \n",
      "2494                 2.0            0.0                     0.0   \n",
      "2495                 2.0            0.0                     0.0   \n",
      "2496                 2.0            1.0                     0.0   \n",
      "\n",
      "      seguridad en el hogar  servicios  habitacion  alojamiento entero  \\\n",
      "0                       1.0        4.0         0.0                 0.0   \n",
      "1                       0.0        1.0         1.0                 0.0   \n",
      "2                       0.0        5.0         1.0                 0.0   \n",
      "3                       5.0        4.0         0.0                 0.0   \n",
      "4                       3.0        1.0         1.0                 0.0   \n",
      "...                     ...        ...         ...                 ...   \n",
      "2492                    0.0        1.0         1.0                 0.0   \n",
      "2493                    0.0        1.0         1.0                 0.0   \n",
      "2494                    2.0        3.0         0.0                 0.0   \n",
      "2495                    2.0        1.0         0.0                 0.0   \n",
      "2496                    2.0        3.0         0.0                 0.0   \n",
      "\n",
      "      sentiment_label_transformed  sentiment_encoded  sentiment_imputed  \n",
      "0                        Positivo                  2                2.0  \n",
      "1                        Positivo                  2                2.0  \n",
      "2                        Positivo                  2                2.0  \n",
      "3                        Positivo                  2                2.0  \n",
      "4                        Positivo                  2                2.0  \n",
      "...                           ...                ...                ...  \n",
      "2492                      missing                  3                3.0  \n",
      "2493                      missing                  3                3.0  \n",
      "2494                      missing                  3                3.0  \n",
      "2495                      missing                  3                3.0  \n",
      "2496                      missing                  3                3.0  \n",
      "\n",
      "[2497 rows x 29 columns]\n",
      "\n",
      "DataFrame con los valores imputados convertidos a categorías:\n",
      "      prices_per_night  ratings  cleaning_fee  dormitorios  camas  baños  \\\n",
      "0                115.0     0.00           0.0          1.0    1.0    1.0   \n",
      "1                 46.0     0.00          15.0          1.0    1.0    0.5   \n",
      "2                 47.0     4.66           0.0          1.0    1.0    0.5   \n",
      "3                100.0     4.89          35.0          1.0    1.0    1.0   \n",
      "4                 33.0     4.40           0.0          1.0    1.0    0.5   \n",
      "...                ...      ...           ...          ...    ...    ...   \n",
      "2492              55.0     4.74          10.0          1.0    1.0    0.5   \n",
      "2493              60.0     4.78           0.0          1.0    1.0    0.5   \n",
      "2494             104.0     4.96           0.0          2.0    3.0    2.0   \n",
      "2495             120.0     4.83          50.0          1.0    1.0    1.0   \n",
      "2496             100.0     4.78           0.0          1.0    2.0    1.0   \n",
      "\n",
      "      maximum_guests  check_in_hour  check_out_hour  total_hours_checkin  ...  \\\n",
      "0                2.0          900.0           720.0                  9.0  ...   \n",
      "1                1.0         1020.0           660.0                  7.0  ...   \n",
      "2                1.0          900.0           720.0                  9.0  ...   \n",
      "3                1.0          960.0           720.0                  8.0  ...   \n",
      "4                1.0          900.0           660.0                  9.0  ...   \n",
      "...              ...            ...             ...                  ...  ...   \n",
      "2492             3.0          900.0           660.0                  9.0  ...   \n",
      "2493             2.0          900.0           600.0                  9.0  ...   \n",
      "2494             4.0          900.0           720.0                  9.0  ...   \n",
      "2495             2.0          900.0           660.0                  9.0  ...   \n",
      "2496             4.0          960.0           660.0                  8.0  ...   \n",
      "\n",
      "      para familias  privacidad y seguridad  seguridad en el hogar  servicios  \\\n",
      "0               0.0                     0.0                    1.0        4.0   \n",
      "1               0.0                     2.0                    0.0        1.0   \n",
      "2               0.0                     1.0                    0.0        5.0   \n",
      "3               2.0                     0.0                    5.0        4.0   \n",
      "4               0.0                     0.0                    3.0        1.0   \n",
      "...             ...                     ...                    ...        ...   \n",
      "2492            0.0                     3.0                    0.0        1.0   \n",
      "2493            0.0                     1.0                    0.0        1.0   \n",
      "2494            0.0                     0.0                    2.0        3.0   \n",
      "2495            0.0                     0.0                    2.0        1.0   \n",
      "2496            1.0                     0.0                    2.0        3.0   \n",
      "\n",
      "      habitacion  alojamiento entero  sentiment_label_transformed  \\\n",
      "0            0.0                 0.0                     Positivo   \n",
      "1            1.0                 0.0                     Positivo   \n",
      "2            1.0                 0.0                     Positivo   \n",
      "3            0.0                 0.0                     Positivo   \n",
      "4            1.0                 0.0                     Positivo   \n",
      "...          ...                 ...                          ...   \n",
      "2492         1.0                 0.0                      missing   \n",
      "2493         1.0                 0.0                      missing   \n",
      "2494         0.0                 0.0                      missing   \n",
      "2495         0.0                 0.0                      missing   \n",
      "2496         0.0                 0.0                      missing   \n",
      "\n",
      "      sentiment_encoded  sentiment_imputed  sentiment_final  \n",
      "0                     2                  2         Positivo  \n",
      "1                     2                  2         Positivo  \n",
      "2                     2                  2         Positivo  \n",
      "3                     2                  2         Positivo  \n",
      "4                     2                  2         Positivo  \n",
      "...                 ...                ...              ...  \n",
      "2492                  3                  3          missing  \n",
      "2493                  3                  3          missing  \n",
      "2494                  3                  3          missing  \n",
      "2495                  3                  3          missing  \n",
      "2496                  3                  3          missing  \n",
      "\n",
      "[2497 rows x 30 columns]\n"
     ]
    }
   ],
   "source": [
    "# Paso 4: Reconvertir los valores numéricos imputados a las categorías originales\n",
    "df['sentiment_imputed'] = df['sentiment_imputed'].round().astype(int)\n",
    "df['sentiment_final'] = label_encoder.inverse_transform(df['sentiment_imputed'])\n",
    "df.head()"
   ]
  },
  {
   "cell_type": "markdown",
   "metadata": {},
   "source": [
    "Drop de las columnas que no nos interesan (son como columnas intermedias)"
   ]
  },
  {
   "cell_type": "code",
   "execution_count": 8,
   "metadata": {},
   "outputs": [],
   "source": [
    "df = df.drop(columns=['sentiment_label_transformed', 'sentiment_encoded', 'sentiment_imputed'])"
   ]
  },
  {
   "cell_type": "markdown",
   "metadata": {},
   "source": [
    "Creamos el csv que usaremos en el CODE NEIGHBORS"
   ]
  },
  {
   "cell_type": "code",
   "execution_count": 9,
   "metadata": {},
   "outputs": [],
   "source": [
    "df.to_csv('df_sentiment_complet.csv', index = False)"
   ]
  }
 ],
 "metadata": {
  "kernelspec": {
   "display_name": "base",
   "language": "python",
   "name": "python3"
  },
  "language_info": {
   "codemirror_mode": {
    "name": "ipython",
    "version": 3
   },
   "file_extension": ".py",
   "mimetype": "text/x-python",
   "name": "python",
   "nbconvert_exporter": "python",
   "pygments_lexer": "ipython3",
   "version": "3.12.7"
  }
 },
 "nbformat": 4,
 "nbformat_minor": 2
}
