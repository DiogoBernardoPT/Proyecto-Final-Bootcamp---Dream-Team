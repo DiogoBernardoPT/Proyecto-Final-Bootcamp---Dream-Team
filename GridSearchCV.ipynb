{
 "cells": [
  {
   "cell_type": "code",
   "execution_count": 1,
   "metadata": {},
   "outputs": [],
   "source": [
    "import pandas as pd\n",
    "from sklearn.model_selection import train_test_split, GridSearchCV\n",
    "from lightgbm import LGBMRegressor\n",
    "from sklearn.metrics import mean_absolute_error, mean_squared_error, r2_score, root_mean_squared_error"
   ]
  },
  {
   "cell_type": "code",
   "execution_count": 3,
   "metadata": {},
   "outputs": [],
   "source": [
    "df = pd.read_csv('data/df_depuracion.csv')"
   ]
  },
  {
   "cell_type": "code",
   "execution_count": 5,
   "metadata": {},
   "outputs": [],
   "source": [
    "X = df.drop(columns=['prices_per_night'])\n",
    "y = df['prices_per_night']\n"
   ]
  },
  {
   "cell_type": "code",
   "execution_count": 7,
   "metadata": {},
   "outputs": [],
   "source": [
    "X_train, X_test, y_train, y_test = train_test_split(X, y, test_size=0.2, random_state=42)"
   ]
  },
  {
   "cell_type": "markdown",
   "metadata": {},
   "source": [
    "## Definimos el modelo y sus parámetros"
   ]
  },
  {
   "cell_type": "code",
   "execution_count": 9,
   "metadata": {},
   "outputs": [],
   "source": [
    "lgb = LGBMRegressor(random_state=42) # Quizas el objective se pone aquí\n",
    "param_grid = {\n",
    "    'n_estimators': [100, 500, 700, 1000], # Mas arboles mejoran rendimiento\n",
    "    'num_leaves' : [15, 31, 63, 127], # Aumenta flexibilidad (riesgo sobreajuste)\n",
    "    'min_child_samples' : [10, 20, 50, 100], # Prevencion de sobreajuste\n",
    "    'max_depth': [3, 5, 7, 10, 12], # control de complejidad\n",
    "    'learning_rate': [0.01, 0.05, 0.1, 0.2, 0.25],\n",
    "    'min_split_gain' : [0, 0.01, 0.1],\n",
    "    'subsample': [ 0.7, 0.8, 1],\n",
    "    'reg_lambda' : [0, 0.1, 1, 10], # Estabiliza\n",
    "    'reg_alpha' : [0, 0.1, 1, 10], # reduce complejidad\n",
    "    'feature_fraction' : [0.6, 0.8, 1.0], # Reduce riesgo sobreajuste\n",
    "    'bagging_fraction' : [0.6, 0.8, 1.0],\n",
    "    'bagging_freq' : [0, 1, 5],\n",
    "    'boosting_type' : ['gbdt', 'dart', 'goss'],\n",
    "    'objective' : ['regression', 'huber']\n",
    "}"
   ]
  },
  {
   "cell_type": "markdown",
   "metadata": {},
   "source": [
    "## Configuramos GridSearchCV"
   ]
  },
  {
   "cell_type": "code",
   "execution_count": 11,
   "metadata": {},
   "outputs": [],
   "source": [
    "grid_search = GridSearchCV(estimator=lgb, param_grid=param_grid, \n",
    "                           scoring='neg_mean_absolute_error', cv=3, \n",
    "                           verbose=1, n_jobs=-1)"
   ]
  },
  {
   "cell_type": "markdown",
   "metadata": {},
   "source": [
    "## Ejecutamos y mostramos"
   ]
  },
  {
   "cell_type": "code",
   "execution_count": null,
   "metadata": {},
   "outputs": [],
   "source": [
    "%%time\n",
    "\n",
    "grid_search.fit(X_train, y_train)\n",
    "# Mostramos los mejores parámetros y resultados\n",
    "best_params = grid_search.best_params_\n",
    "print(\"Mejores hiperparámetros:\", best_params)\n",
    "\n",
    "# comprobamos los  mejores parámetros\n",
    "best_model = grid_search.best_estimator_\n",
    "y_pred = best_model.predict(X_test)\n",
    "\n",
    "# Calculamos y mostramos las métricas\n",
    "mae = mean_absolute_error(y_test, y_pred)\n",
    "mse = mean_squared_error(y_test, y_pred)\n",
    "rmse = root_mean_squared_error(y_test, y_pred)\n",
    "r2 = r2_score(y_test, y_pred)\n",
    "print(\"MAE:\", mae)\n",
    "print(\"MSE:\", mse)\n",
    "print(\"RMSE\", rmse)\n",
    "print(\"R²:\", r2)\n"
   ]
  },
  {
   "cell_type": "code",
   "execution_count": null,
   "metadata": {},
   "outputs": [],
   "source": []
  }
 ],
 "metadata": {
  "kernelspec": {
   "display_name": "Python 3 (ipykernel)",
   "language": "python",
   "name": "python3"
  },
  "language_info": {
   "codemirror_mode": {
    "name": "ipython",
    "version": 3
   },
   "file_extension": ".py",
   "mimetype": "text/x-python",
   "name": "python",
   "nbconvert_exporter": "python",
   "pygments_lexer": "ipython3",
   "version": "3.11.9"
  }
 },
 "nbformat": 4,
 "nbformat_minor": 4
}
