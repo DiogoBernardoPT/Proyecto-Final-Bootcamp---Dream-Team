{
 "cells": [
  {
   "cell_type": "code",
   "execution_count": null,
   "metadata": {},
   "outputs": [],
   "source": [
    "import pandas as pd\n",
    "from sklearn.model_selection import train_test_split, GridSearchCV\n",
    "from lightgbm import LGBMRegressor\n",
    "from sklearn.metrics import mean_absolute_error, mean_squared_error, r2_score, root_mean_squared_error"
   ]
  },
  {
   "cell_type": "code",
   "execution_count": null,
   "metadata": {},
   "outputs": [],
   "source": [
    "df = pd.read_csv('df_depuracion.csv')"
   ]
  },
  {
   "cell_type": "code",
   "execution_count": null,
   "metadata": {},
   "outputs": [],
   "source": [
    "X = df.drop(columns=['prices_per_night'])\n",
    "y = df['prices_per_night']\n"
   ]
  },
  {
   "cell_type": "code",
   "execution_count": null,
   "metadata": {},
   "outputs": [],
   "source": [
    "X_train, X_test, y_train, y_test = train_test_split(X, y, test_size=0.2, random_state=42)"
   ]
  },
  {
   "cell_type": "markdown",
   "metadata": {},
   "source": [
    "## Definimos el modelo y sus parámetros"
   ]
  },
  {
   "cell_type": "code",
   "execution_count": null,
   "metadata": {},
   "outputs": [],
   "source": [
    "param_grid_reduced = {\n",
    "    'n_estimators': [100, 500, 1000],\n",
    "    'num_leaves': [31, 63, 127],\n",
    "    'max_depth': [5, 7, 10],\n",
    "    'learning_rate': [0.01, 0.05, 0.1],\n",
    "    'min_child_samples': [20, 50],\n",
    "    'subsample': [0.7, 0.8],\n",
    "    'reg_lambda': [0, 1],\n",
    "    'reg_alpha': [0, 1],\n",
    "    'boosting_type': ['gbdt', 'dart'],\n",
    "    'objective': ['regression']\n",
    "}"
   ]
  },
  {
   "cell_type": "code",
   "execution_count": null,
   "metadata": {},
   "outputs": [],
   "source": [
    "# Modelo base\n",
    "lgb = LGBMRegressor(random_state=42)\n",
    "# GridSearchCV\n",
    "grid_search = GridSearchCV(\n",
    "    estimator=lgb,\n",
    "    param_grid=param_grid_reduced,\n",
    "    scoring='neg_mean_squared_error',\n",
    "    cv=5,  # Validación cruzada\n",
    "    verbose=0\n",
    ")\n",
    "# Entrenamiento\n",
    "grid_search.fit(X, y)  # Sustituye X e y por tus datos"
   ]
  },
  {
   "cell_type": "code",
   "execution_count": null,
   "metadata": {},
   "outputs": [],
   "source": [
    "# Resultados\n",
    "print(\"Mejores parámetros encontrados:\")\n",
    "print(grid_search.best_params_)"
   ]
  },
  {
   "cell_type": "markdown",
   "metadata": {},
   "source": [
    "RESULTADO\n",
    "\n",
    "·'boosting_type': 'gbdt'                                                                       \n",
    "\n",
    "·'max_depth': 10\n",
    "\n",
    "·'learning_rate': 0.05                                                                          \n",
    "\n",
    "·'min_child_samples': 20\n",
    "\n",
    "·'n_estimators': 1000                       \n",
    "\n",
    "·'num_leaves': 63\n",
    "\n",
    "·'objective': 'regression'                  \n",
    "\n",
    "·'reg_alpha': 1\n",
    "\n",
    "·'reg_lambda': 0                           \n",
    "\n",
    "·'subsample': 0.7"
   ]
  }
 ],
 "metadata": {
  "kernelspec": {
   "display_name": "base",
   "language": "python",
   "name": "python3"
  },
  "language_info": {
   "codemirror_mode": {
    "name": "ipython",
    "version": 3
   },
   "file_extension": ".py",
   "mimetype": "text/x-python",
   "name": "python",
   "nbconvert_exporter": "python",
   "pygments_lexer": "ipython3",
   "version": "3.12.7"
  }
 },
 "nbformat": 4,
 "nbformat_minor": 4
}
