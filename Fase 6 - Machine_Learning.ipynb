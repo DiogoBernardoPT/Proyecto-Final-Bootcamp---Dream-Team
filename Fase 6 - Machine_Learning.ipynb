{
 "cells": [
  {
   "cell_type": "markdown",
   "metadata": {
    "vscode": {
     "languageId": "plaintext"
    }
   },
   "source": [
    "## **Fase 6 - Machine Learning: Construcción y Evaluación del Modelo Predictivo**\n",
    "*En esta fase, nos centramos en construir un modelo predictivo que sea capaz de estimar con precisión el **precio por noche** de las propiedades. Este paso es crucial para convertir los datos procesados en un conocimiento valioso, ya que nos permitirá hacer predicciones sobre el precio de futuras propiedades a partir de sus características. A través de técnicas de machine learning avanzadas, buscamos encontrar el modelo más eficiente, que no solo sea preciso, sino también interpretativo y generalizable*\n",
    "\n",
    "A lo largo de esta fase, aplicaremos una serie de algoritmos y evaluaremos su rendimiento, seleccionando aquel que mejor se ajuste a nuestras necesidades. Además, dedicaremos tiempo a ajustar los parámetros del modelo para maximizar su capacidad predictiva, asegurando así que sea robusto y confiable.\n",
    "Con este enfoque, buscamos no solo predecir el precio de forma precisa, sino también proporcionar una comprensión profunda de los factores clave que afectan los precios de las propiedades, lo que puede ser útil en la toma de decisiones empresariales y en el desarrollo de futuras investigaciones."
   ]
  },
  {
   "cell_type": "code",
   "execution_count": 1,
   "metadata": {},
   "outputs": [],
   "source": [
    "# General\n",
    "import pandas as pd\n",
    "import numpy as np\n",
    "import joblib\n",
    "\n",
    "# Escaladores\n",
    "from sklearn.preprocessing import MinMaxScaler\n",
    "from sklearn.preprocessing import StandardScaler\n",
    "\n",
    "# Train, Test\n",
    "from sklearn.model_selection import train_test_split\n",
    "\n",
    "# Modelos\n",
    "from xgboost import XGBRegressor\n",
    "from lightgbm import LGBMRegressor\n",
    "from sklearn.neural_network import MLPRegressor\n",
    "from sklearn.linear_model import LinearRegression\n",
    "from sklearn.ensemble import RandomForestRegressor, GradientBoostingRegressor\n",
    "from sklearn.svm import SVR\n",
    "\n",
    "# Neural Neutworks\n",
    "from tensorflow.keras.models import Sequential\n",
    "from tensorflow.keras.layers import Input, Dense, Dropout\n",
    "from tensorflow.keras.optimizers import Adam\n",
    "from keras.callbacks import EarlyStopping\n",
    "\n",
    "# Cross Validation\n",
    "from sklearn.model_selection import cross_val_score\n",
    "from sklearn.model_selection import KFold\n",
    "\n",
    "# Hiperparametrización\n",
    "from sklearn.model_selection import GridSearchCV\n",
    "\n",
    "# Métricas\n",
    "from sklearn.metrics import mean_absolute_error\n",
    "from sklearn.metrics import mean_squared_error\n",
    "from sklearn.metrics import r2_score\n",
    "from sklearn.metrics import root_mean_squared_error"
   ]
  },
  {
   "cell_type": "code",
   "execution_count": null,
   "metadata": {},
   "outputs": [
    {
     "name": "stderr",
     "output_type": "stream",
     "text": [
      "<>:1: SyntaxWarning: invalid escape sequence '\\d'\n",
      "<>:1: SyntaxWarning: invalid escape sequence '\\d'\n",
      "C:\\Users\\diogo\\AppData\\Local\\Temp\\ipykernel_2972\\3088068979.py:1: SyntaxWarning: invalid escape sequence '\\d'\n",
      "  df_encoded = pd.read_csv('data\\df_processed_ML.csv')\n"
     ]
    }
   ],
   "source": [
    "df_encoded = pd.read_csv('data\\df_processed_to_ML.csv')"
   ]
  },
  {
   "cell_type": "code",
   "execution_count": 3,
   "metadata": {},
   "outputs": [
    {
     "data": {
      "text/html": [
       "<div>\n",
       "<style scoped>\n",
       "    .dataframe tbody tr th:only-of-type {\n",
       "        vertical-align: middle;\n",
       "    }\n",
       "\n",
       "    .dataframe tbody tr th {\n",
       "        vertical-align: top;\n",
       "    }\n",
       "\n",
       "    .dataframe thead th {\n",
       "        text-align: right;\n",
       "    }\n",
       "</style>\n",
       "<table border=\"1\" class=\"dataframe\">\n",
       "  <thead>\n",
       "    <tr style=\"text-align: right;\">\n",
       "      <th></th>\n",
       "      <th>prices_per_night</th>\n",
       "      <th>ratings</th>\n",
       "      <th>cleaning_fee</th>\n",
       "      <th>dormitorios</th>\n",
       "      <th>camas</th>\n",
       "      <th>baños</th>\n",
       "      <th>maximum_guests</th>\n",
       "      <th>check_in_hour</th>\n",
       "      <th>check_out_hour</th>\n",
       "      <th>total_hours_checkin</th>\n",
       "      <th>...</th>\n",
       "      <th>dormitorio y lavandería</th>\n",
       "      <th>entretenimiento</th>\n",
       "      <th>exterior</th>\n",
       "      <th>internet y oficina</th>\n",
       "      <th>para familias</th>\n",
       "      <th>privacidad y seguridad</th>\n",
       "      <th>seguridad en el hogar</th>\n",
       "      <th>servicios</th>\n",
       "      <th>habitacion</th>\n",
       "      <th>alojamiento entero</th>\n",
       "    </tr>\n",
       "  </thead>\n",
       "  <tbody>\n",
       "    <tr>\n",
       "      <th>0</th>\n",
       "      <td>115.0</td>\n",
       "      <td>0.00</td>\n",
       "      <td>0.0</td>\n",
       "      <td>1.0</td>\n",
       "      <td>1.0</td>\n",
       "      <td>1.0</td>\n",
       "      <td>2.0</td>\n",
       "      <td>900.0</td>\n",
       "      <td>720.0</td>\n",
       "      <td>9.0</td>\n",
       "      <td>...</td>\n",
       "      <td>7.0</td>\n",
       "      <td>1.0</td>\n",
       "      <td>2.0</td>\n",
       "      <td>1.0</td>\n",
       "      <td>0.0</td>\n",
       "      <td>0.0</td>\n",
       "      <td>1.0</td>\n",
       "      <td>4.0</td>\n",
       "      <td>0.0</td>\n",
       "      <td>0.0</td>\n",
       "    </tr>\n",
       "    <tr>\n",
       "      <th>1</th>\n",
       "      <td>46.0</td>\n",
       "      <td>0.00</td>\n",
       "      <td>15.0</td>\n",
       "      <td>1.0</td>\n",
       "      <td>1.0</td>\n",
       "      <td>0.5</td>\n",
       "      <td>1.0</td>\n",
       "      <td>1020.0</td>\n",
       "      <td>660.0</td>\n",
       "      <td>7.0</td>\n",
       "      <td>...</td>\n",
       "      <td>6.0</td>\n",
       "      <td>0.0</td>\n",
       "      <td>0.0</td>\n",
       "      <td>2.0</td>\n",
       "      <td>0.0</td>\n",
       "      <td>2.0</td>\n",
       "      <td>0.0</td>\n",
       "      <td>1.0</td>\n",
       "      <td>1.0</td>\n",
       "      <td>0.0</td>\n",
       "    </tr>\n",
       "    <tr>\n",
       "      <th>2</th>\n",
       "      <td>47.0</td>\n",
       "      <td>4.66</td>\n",
       "      <td>0.0</td>\n",
       "      <td>1.0</td>\n",
       "      <td>1.0</td>\n",
       "      <td>0.5</td>\n",
       "      <td>1.0</td>\n",
       "      <td>900.0</td>\n",
       "      <td>720.0</td>\n",
       "      <td>9.0</td>\n",
       "      <td>...</td>\n",
       "      <td>8.0</td>\n",
       "      <td>1.0</td>\n",
       "      <td>1.0</td>\n",
       "      <td>1.0</td>\n",
       "      <td>0.0</td>\n",
       "      <td>1.0</td>\n",
       "      <td>0.0</td>\n",
       "      <td>5.0</td>\n",
       "      <td>1.0</td>\n",
       "      <td>0.0</td>\n",
       "    </tr>\n",
       "    <tr>\n",
       "      <th>3</th>\n",
       "      <td>100.0</td>\n",
       "      <td>4.89</td>\n",
       "      <td>35.0</td>\n",
       "      <td>1.0</td>\n",
       "      <td>1.0</td>\n",
       "      <td>1.0</td>\n",
       "      <td>1.0</td>\n",
       "      <td>960.0</td>\n",
       "      <td>720.0</td>\n",
       "      <td>8.0</td>\n",
       "      <td>...</td>\n",
       "      <td>10.0</td>\n",
       "      <td>10.0</td>\n",
       "      <td>3.0</td>\n",
       "      <td>2.0</td>\n",
       "      <td>2.0</td>\n",
       "      <td>0.0</td>\n",
       "      <td>5.0</td>\n",
       "      <td>4.0</td>\n",
       "      <td>0.0</td>\n",
       "      <td>0.0</td>\n",
       "    </tr>\n",
       "    <tr>\n",
       "      <th>4</th>\n",
       "      <td>33.0</td>\n",
       "      <td>4.40</td>\n",
       "      <td>0.0</td>\n",
       "      <td>1.0</td>\n",
       "      <td>1.0</td>\n",
       "      <td>0.5</td>\n",
       "      <td>1.0</td>\n",
       "      <td>900.0</td>\n",
       "      <td>660.0</td>\n",
       "      <td>9.0</td>\n",
       "      <td>...</td>\n",
       "      <td>4.0</td>\n",
       "      <td>0.0</td>\n",
       "      <td>1.0</td>\n",
       "      <td>1.0</td>\n",
       "      <td>0.0</td>\n",
       "      <td>0.0</td>\n",
       "      <td>3.0</td>\n",
       "      <td>1.0</td>\n",
       "      <td>1.0</td>\n",
       "      <td>0.0</td>\n",
       "    </tr>\n",
       "    <tr>\n",
       "      <th>...</th>\n",
       "      <td>...</td>\n",
       "      <td>...</td>\n",
       "      <td>...</td>\n",
       "      <td>...</td>\n",
       "      <td>...</td>\n",
       "      <td>...</td>\n",
       "      <td>...</td>\n",
       "      <td>...</td>\n",
       "      <td>...</td>\n",
       "      <td>...</td>\n",
       "      <td>...</td>\n",
       "      <td>...</td>\n",
       "      <td>...</td>\n",
       "      <td>...</td>\n",
       "      <td>...</td>\n",
       "      <td>...</td>\n",
       "      <td>...</td>\n",
       "      <td>...</td>\n",
       "      <td>...</td>\n",
       "      <td>...</td>\n",
       "      <td>...</td>\n",
       "    </tr>\n",
       "    <tr>\n",
       "      <th>2492</th>\n",
       "      <td>55.0</td>\n",
       "      <td>4.74</td>\n",
       "      <td>10.0</td>\n",
       "      <td>1.0</td>\n",
       "      <td>1.0</td>\n",
       "      <td>0.5</td>\n",
       "      <td>3.0</td>\n",
       "      <td>900.0</td>\n",
       "      <td>660.0</td>\n",
       "      <td>9.0</td>\n",
       "      <td>...</td>\n",
       "      <td>7.0</td>\n",
       "      <td>1.0</td>\n",
       "      <td>0.0</td>\n",
       "      <td>2.0</td>\n",
       "      <td>0.0</td>\n",
       "      <td>3.0</td>\n",
       "      <td>0.0</td>\n",
       "      <td>1.0</td>\n",
       "      <td>1.0</td>\n",
       "      <td>0.0</td>\n",
       "    </tr>\n",
       "    <tr>\n",
       "      <th>2493</th>\n",
       "      <td>60.0</td>\n",
       "      <td>4.78</td>\n",
       "      <td>0.0</td>\n",
       "      <td>1.0</td>\n",
       "      <td>1.0</td>\n",
       "      <td>0.5</td>\n",
       "      <td>2.0</td>\n",
       "      <td>900.0</td>\n",
       "      <td>600.0</td>\n",
       "      <td>9.0</td>\n",
       "      <td>...</td>\n",
       "      <td>4.0</td>\n",
       "      <td>1.0</td>\n",
       "      <td>0.0</td>\n",
       "      <td>1.0</td>\n",
       "      <td>0.0</td>\n",
       "      <td>1.0</td>\n",
       "      <td>0.0</td>\n",
       "      <td>1.0</td>\n",
       "      <td>1.0</td>\n",
       "      <td>0.0</td>\n",
       "    </tr>\n",
       "    <tr>\n",
       "      <th>2494</th>\n",
       "      <td>104.0</td>\n",
       "      <td>4.96</td>\n",
       "      <td>0.0</td>\n",
       "      <td>2.0</td>\n",
       "      <td>3.0</td>\n",
       "      <td>2.0</td>\n",
       "      <td>4.0</td>\n",
       "      <td>900.0</td>\n",
       "      <td>720.0</td>\n",
       "      <td>9.0</td>\n",
       "      <td>...</td>\n",
       "      <td>9.0</td>\n",
       "      <td>1.0</td>\n",
       "      <td>0.0</td>\n",
       "      <td>2.0</td>\n",
       "      <td>0.0</td>\n",
       "      <td>0.0</td>\n",
       "      <td>2.0</td>\n",
       "      <td>3.0</td>\n",
       "      <td>0.0</td>\n",
       "      <td>0.0</td>\n",
       "    </tr>\n",
       "    <tr>\n",
       "      <th>2495</th>\n",
       "      <td>120.0</td>\n",
       "      <td>4.83</td>\n",
       "      <td>50.0</td>\n",
       "      <td>1.0</td>\n",
       "      <td>1.0</td>\n",
       "      <td>1.0</td>\n",
       "      <td>2.0</td>\n",
       "      <td>900.0</td>\n",
       "      <td>660.0</td>\n",
       "      <td>9.0</td>\n",
       "      <td>...</td>\n",
       "      <td>8.0</td>\n",
       "      <td>3.0</td>\n",
       "      <td>3.0</td>\n",
       "      <td>2.0</td>\n",
       "      <td>0.0</td>\n",
       "      <td>0.0</td>\n",
       "      <td>2.0</td>\n",
       "      <td>1.0</td>\n",
       "      <td>0.0</td>\n",
       "      <td>0.0</td>\n",
       "    </tr>\n",
       "    <tr>\n",
       "      <th>2496</th>\n",
       "      <td>100.0</td>\n",
       "      <td>4.78</td>\n",
       "      <td>0.0</td>\n",
       "      <td>1.0</td>\n",
       "      <td>2.0</td>\n",
       "      <td>1.0</td>\n",
       "      <td>4.0</td>\n",
       "      <td>960.0</td>\n",
       "      <td>660.0</td>\n",
       "      <td>8.0</td>\n",
       "      <td>...</td>\n",
       "      <td>8.0</td>\n",
       "      <td>1.0</td>\n",
       "      <td>1.0</td>\n",
       "      <td>2.0</td>\n",
       "      <td>1.0</td>\n",
       "      <td>0.0</td>\n",
       "      <td>2.0</td>\n",
       "      <td>3.0</td>\n",
       "      <td>0.0</td>\n",
       "      <td>0.0</td>\n",
       "    </tr>\n",
       "  </tbody>\n",
       "</table>\n",
       "<p>2497 rows × 26 columns</p>\n",
       "</div>"
      ],
      "text/plain": [
       "      prices_per_night  ratings  cleaning_fee  dormitorios  camas  baños  \\\n",
       "0                115.0     0.00           0.0          1.0    1.0    1.0   \n",
       "1                 46.0     0.00          15.0          1.0    1.0    0.5   \n",
       "2                 47.0     4.66           0.0          1.0    1.0    0.5   \n",
       "3                100.0     4.89          35.0          1.0    1.0    1.0   \n",
       "4                 33.0     4.40           0.0          1.0    1.0    0.5   \n",
       "...                ...      ...           ...          ...    ...    ...   \n",
       "2492              55.0     4.74          10.0          1.0    1.0    0.5   \n",
       "2493              60.0     4.78           0.0          1.0    1.0    0.5   \n",
       "2494             104.0     4.96           0.0          2.0    3.0    2.0   \n",
       "2495             120.0     4.83          50.0          1.0    1.0    1.0   \n",
       "2496             100.0     4.78           0.0          1.0    2.0    1.0   \n",
       "\n",
       "      maximum_guests  check_in_hour  check_out_hour  total_hours_checkin  ...  \\\n",
       "0                2.0          900.0           720.0                  9.0  ...   \n",
       "1                1.0         1020.0           660.0                  7.0  ...   \n",
       "2                1.0          900.0           720.0                  9.0  ...   \n",
       "3                1.0          960.0           720.0                  8.0  ...   \n",
       "4                1.0          900.0           660.0                  9.0  ...   \n",
       "...              ...            ...             ...                  ...  ...   \n",
       "2492             3.0          900.0           660.0                  9.0  ...   \n",
       "2493             2.0          900.0           600.0                  9.0  ...   \n",
       "2494             4.0          900.0           720.0                  9.0  ...   \n",
       "2495             2.0          900.0           660.0                  9.0  ...   \n",
       "2496             4.0          960.0           660.0                  8.0  ...   \n",
       "\n",
       "      dormitorio y lavandería  entretenimiento  exterior  internet y oficina  \\\n",
       "0                         7.0              1.0       2.0                 1.0   \n",
       "1                         6.0              0.0       0.0                 2.0   \n",
       "2                         8.0              1.0       1.0                 1.0   \n",
       "3                        10.0             10.0       3.0                 2.0   \n",
       "4                         4.0              0.0       1.0                 1.0   \n",
       "...                       ...              ...       ...                 ...   \n",
       "2492                      7.0              1.0       0.0                 2.0   \n",
       "2493                      4.0              1.0       0.0                 1.0   \n",
       "2494                      9.0              1.0       0.0                 2.0   \n",
       "2495                      8.0              3.0       3.0                 2.0   \n",
       "2496                      8.0              1.0       1.0                 2.0   \n",
       "\n",
       "      para familias  privacidad y seguridad  seguridad en el hogar  servicios  \\\n",
       "0               0.0                     0.0                    1.0        4.0   \n",
       "1               0.0                     2.0                    0.0        1.0   \n",
       "2               0.0                     1.0                    0.0        5.0   \n",
       "3               2.0                     0.0                    5.0        4.0   \n",
       "4               0.0                     0.0                    3.0        1.0   \n",
       "...             ...                     ...                    ...        ...   \n",
       "2492            0.0                     3.0                    0.0        1.0   \n",
       "2493            0.0                     1.0                    0.0        1.0   \n",
       "2494            0.0                     0.0                    2.0        3.0   \n",
       "2495            0.0                     0.0                    2.0        1.0   \n",
       "2496            1.0                     0.0                    2.0        3.0   \n",
       "\n",
       "      habitacion  alojamiento entero  \n",
       "0            0.0                 0.0  \n",
       "1            1.0                 0.0  \n",
       "2            1.0                 0.0  \n",
       "3            0.0                 0.0  \n",
       "4            1.0                 0.0  \n",
       "...          ...                 ...  \n",
       "2492         1.0                 0.0  \n",
       "2493         1.0                 0.0  \n",
       "2494         0.0                 0.0  \n",
       "2495         0.0                 0.0  \n",
       "2496         0.0                 0.0  \n",
       "\n",
       "[2497 rows x 26 columns]"
      ]
     },
     "execution_count": 3,
     "metadata": {},
     "output_type": "execute_result"
    }
   ],
   "source": [
    "df_encoded"
   ]
  },
  {
   "cell_type": "markdown",
   "metadata": {},
   "source": [
    "**Train Test Split**"
   ]
  },
  {
   "cell_type": "code",
   "execution_count": 4,
   "metadata": {},
   "outputs": [
    {
     "name": "stdout",
     "output_type": "stream",
     "text": [
      "(2497, 25) (2497,)\n"
     ]
    }
   ],
   "source": [
    "X = df_encoded.drop(\"prices_per_night\", axis = 1)\n",
    "y = df_encoded[\"prices_per_night\"]\n",
    "print(X.shape, y.shape)"
   ]
  },
  {
   "cell_type": "code",
   "execution_count": 5,
   "metadata": {},
   "outputs": [
    {
     "name": "stdout",
     "output_type": "stream",
     "text": [
      "X_train: (1997, 25), y_train: (1997,)\n",
      "X_test: (500, 25), y_test: (500,)\n"
     ]
    }
   ],
   "source": [
    "X_train, X_test, y_train, y_test = train_test_split(X, y, test_size = 0.2, random_state = 42)\n",
    "\n",
    "print(f\"X_train: {X_train.shape}, y_train: {y_train.shape}\")\n",
    "print(f\"X_test: {X_test.shape}, y_test: {y_test.shape}\")"
   ]
  },
  {
   "cell_type": "code",
   "execution_count": 6,
   "metadata": {},
   "outputs": [
    {
     "data": {
      "text/plain": [
       "['ratings',\n",
       " 'cleaning_fee',\n",
       " 'dormitorios',\n",
       " 'camas',\n",
       " 'baños',\n",
       " 'maximum_guests',\n",
       " 'check_in_hour',\n",
       " 'check_out_hour',\n",
       " 'total_hours_checkin',\n",
       " 'log_num_reviews',\n",
       " 'aparcamiento e instalaciones',\n",
       " 'baño',\n",
       " 'calefacción y refrigeración',\n",
       " 'características de la ubicación',\n",
       " 'cocina y comedor',\n",
       " 'dormitorio y lavandería',\n",
       " 'entretenimiento',\n",
       " 'exterior',\n",
       " 'internet y oficina',\n",
       " 'para familias',\n",
       " 'privacidad y seguridad',\n",
       " 'seguridad en el hogar',\n",
       " 'servicios',\n",
       " 'habitacion',\n",
       " 'alojamiento entero']"
      ]
     },
     "execution_count": 6,
     "metadata": {},
     "output_type": "execute_result"
    }
   ],
   "source": [
    "# Guardar los nombres originales de las columnas para usar en streamlit\n",
    "original_columns = X.columns.tolist()\n",
    "original_columns"
   ]
  },
  {
   "cell_type": "markdown",
   "metadata": {},
   "source": [
    "**Escaladores**"
   ]
  },
  {
   "cell_type": "code",
   "execution_count": 7,
   "metadata": {},
   "outputs": [],
   "source": [
    "x_scaler = MinMaxScaler()\n",
    "X_train = x_scaler.fit_transform(X_train)\n",
    "X_test = x_scaler.transform(X_test)\n",
    "\n",
    "y_scaler = MinMaxScaler()\n",
    "y_train = y_scaler.fit_transform(np.array(y_train).reshape(-1, 1))\n",
    "y_test = y_scaler.transform(np.array(y_test).reshape(-1, 1))"
   ]
  },
  {
   "cell_type": "code",
   "execution_count": 8,
   "metadata": {},
   "outputs": [
    {
     "data": {
      "text/plain": [
       "['data/y_scaler.pkl']"
      ]
     },
     "execution_count": 8,
     "metadata": {},
     "output_type": "execute_result"
    }
   ],
   "source": [
    "# Salvar los escaladores para usar en streamlit\n",
    "joblib.dump(x_scaler, 'data/x_scaler.pkl')\n",
    "joblib.dump(y_scaler, 'data/y_scaler.pkl')"
   ]
  },
  {
   "cell_type": "markdown",
   "metadata": {},
   "source": [
    "**Selección de los Modelos**\n",
    "- Evaluaremos cada modelo mediante las **métricas de rendimiento**, tales como el **Error Cuadrático Medio (RMSE)** y el **R^2**, con el fin de seleccionar el que brinde el mejor rendimiento predictivo."
   ]
  },
  {
   "cell_type": "code",
   "execution_count": 10,
   "metadata": {},
   "outputs": [],
   "source": [
    "# Definimos los modelos\n",
    "models = {\n",
    "    \"Linear Regression\": LinearRegression(),\n",
    "    \"Random Forest\": RandomForestRegressor(random_state=42),\n",
    "    \"Support Vector Regressor\": SVR(),\n",
    "    \"Gradient Boosting\": GradientBoostingRegressor(random_state=42),\n",
    "    \"XGBoost\": XGBRegressor(random_state=42),\n",
    "    \"LightGBM\": LGBMRegressor(random_state=42),\n",
    "    \"MLP Regressor\": MLPRegressor(random_state=42)\n",
    "}"
   ]
  },
  {
   "cell_type": "code",
   "execution_count": 11,
   "metadata": {},
   "outputs": [
    {
     "name": "stdout",
     "output_type": "stream",
     "text": [
      "[LightGBM] [Info] Auto-choosing row-wise multi-threading, the overhead of testing was 0.000610 seconds.\n",
      "You can set `force_row_wise=true` to remove the overhead.\n",
      "And if memory is not enough, you can set `force_col_wise=true`.\n",
      "[LightGBM] [Info] Total Bins 582\n",
      "[LightGBM] [Info] Number of data points in the train set: 1997, number of used features: 24\n",
      "[LightGBM] [Info] Start training from score 0.143845\n"
     ]
    }
   ],
   "source": [
    "# Lista para almacenar los resultados\n",
    "resultados_lista = []\n",
    "\n",
    "# Bucle para entrenar cada modelo y calcular métricas\n",
    "for model_name, model in models.items():\n",
    "    model.fit(X_train, y_train.ravel())\n",
    "    \n",
    "    y_hat = model.predict(X_test)\n",
    "    \n",
    "    # Desescalado de las predicciones\n",
    "    y_test_inv = y_scaler.inverse_transform(y_test.reshape(-1, 1)).ravel()\n",
    "    y_hat_inv = y_scaler.inverse_transform(y_hat.reshape(-1, 1)).ravel()\n",
    "    \n",
    "    # Cálculo de métricas\n",
    "    mae = mean_absolute_error(y_test_inv, y_hat_inv)\n",
    "    mse = mean_squared_error(y_test_inv, y_hat_inv)\n",
    "    rmse = root_mean_squared_error(y_test_inv, y_hat_inv)\n",
    "    r2 = r2_score(y_test_inv, y_hat_inv)\n",
    "    \n",
    "    # Almacenar resultados\n",
    "    resultados_lista.append({\n",
    "        \"model_name\": model_name,\n",
    "        \"mae\": mae,\n",
    "        \"mse\": mse,\n",
    "        \"rmse\" : rmse,\n",
    "        \"r2_score\": r2\n",
    "    })\n",
    "\n"
   ]
  },
  {
   "cell_type": "code",
   "execution_count": 12,
   "metadata": {},
   "outputs": [],
   "source": [
    "# Crear DataFrame y ordenar por r2_score\n",
    "resultados = pd.DataFrame(resultados_lista)\n",
    "resultados = resultados.sort_values(by=\"r2_score\", ascending=False)\n",
    "#Creamos el pickle\n",
    "resultados.to_pickle(\"data/resultados_modelos.pkl\")"
   ]
  },
  {
   "cell_type": "code",
   "execution_count": 13,
   "metadata": {},
   "outputs": [
    {
     "data": {
      "text/html": [
       "<div>\n",
       "<style scoped>\n",
       "    .dataframe tbody tr th:only-of-type {\n",
       "        vertical-align: middle;\n",
       "    }\n",
       "\n",
       "    .dataframe tbody tr th {\n",
       "        vertical-align: top;\n",
       "    }\n",
       "\n",
       "    .dataframe thead th {\n",
       "        text-align: right;\n",
       "    }\n",
       "</style>\n",
       "<table border=\"1\" class=\"dataframe\">\n",
       "  <thead>\n",
       "    <tr style=\"text-align: right;\">\n",
       "      <th></th>\n",
       "      <th>model_name</th>\n",
       "      <th>mae</th>\n",
       "      <th>mse</th>\n",
       "      <th>rmse</th>\n",
       "      <th>r2_score</th>\n",
       "    </tr>\n",
       "  </thead>\n",
       "  <tbody>\n",
       "    <tr>\n",
       "      <th>5</th>\n",
       "      <td>LightGBM</td>\n",
       "      <td>9.727440</td>\n",
       "      <td>244.834744</td>\n",
       "      <td>15.647196</td>\n",
       "      <td>0.860073</td>\n",
       "    </tr>\n",
       "    <tr>\n",
       "      <th>1</th>\n",
       "      <td>Random Forest</td>\n",
       "      <td>8.654486</td>\n",
       "      <td>265.400936</td>\n",
       "      <td>16.291131</td>\n",
       "      <td>0.848319</td>\n",
       "    </tr>\n",
       "    <tr>\n",
       "      <th>4</th>\n",
       "      <td>XGBoost</td>\n",
       "      <td>8.297636</td>\n",
       "      <td>292.500981</td>\n",
       "      <td>17.102660</td>\n",
       "      <td>0.832831</td>\n",
       "    </tr>\n",
       "    <tr>\n",
       "      <th>3</th>\n",
       "      <td>Gradient Boosting</td>\n",
       "      <td>13.716214</td>\n",
       "      <td>376.139506</td>\n",
       "      <td>19.394316</td>\n",
       "      <td>0.785031</td>\n",
       "    </tr>\n",
       "    <tr>\n",
       "      <th>0</th>\n",
       "      <td>Linear Regression</td>\n",
       "      <td>17.901984</td>\n",
       "      <td>615.842171</td>\n",
       "      <td>24.816168</td>\n",
       "      <td>0.648037</td>\n",
       "    </tr>\n",
       "    <tr>\n",
       "      <th>6</th>\n",
       "      <td>MLP Regressor</td>\n",
       "      <td>19.023449</td>\n",
       "      <td>636.524040</td>\n",
       "      <td>25.229428</td>\n",
       "      <td>0.636217</td>\n",
       "    </tr>\n",
       "    <tr>\n",
       "      <th>2</th>\n",
       "      <td>Support Vector Regressor</td>\n",
       "      <td>20.278318</td>\n",
       "      <td>652.793475</td>\n",
       "      <td>25.549823</td>\n",
       "      <td>0.626919</td>\n",
       "    </tr>\n",
       "  </tbody>\n",
       "</table>\n",
       "</div>"
      ],
      "text/plain": [
       "                 model_name        mae         mse       rmse  r2_score\n",
       "5                  LightGBM   9.727440  244.834744  15.647196  0.860073\n",
       "1             Random Forest   8.654486  265.400936  16.291131  0.848319\n",
       "4                   XGBoost   8.297636  292.500981  17.102660  0.832831\n",
       "3         Gradient Boosting  13.716214  376.139506  19.394316  0.785031\n",
       "0         Linear Regression  17.901984  615.842171  24.816168  0.648037\n",
       "6             MLP Regressor  19.023449  636.524040  25.229428  0.636217\n",
       "2  Support Vector Regressor  20.278318  652.793475  25.549823  0.626919"
      ]
     },
     "execution_count": 13,
     "metadata": {},
     "output_type": "execute_result"
    }
   ],
   "source": [
    "resultados"
   ]
  },
  {
   "cell_type": "markdown",
   "metadata": {},
   "source": [
    "**Ajuste de Hiperparámetros**\n",
    "   - Para maximizar el rendimiento del modelo, ajustaremos los hiperparámetros clave utilizando **Grid Search**. Este paso es crucial para obtener el mejor modelo posible para nuestros datos."
   ]
  },
  {
   "cell_type": "code",
   "execution_count": 14,
   "metadata": {},
   "outputs": [],
   "source": [
    "lgb = LGBMRegressor(random_state=42) # Quizas el objective se pone aquí\n",
    "param_grid = {\n",
    "    'n_estimators': [100, 500, 1000],\n",
    "    'num_leaves': [31, 63, 127],\n",
    "    'max_depth': [5, 7, 10],\n",
    "    'learning_rate': [0.01, 0.05, 0.1],\n",
    "    'min_child_samples': [20, 50],\n",
    "    'subsample': [0.7, 0.8],\n",
    "    'reg_lambda': [0, 1],\n",
    "    'reg_alpha': [0, 1],\n",
    "    'boosting_type': ['gbdt', 'dart'],\n",
    "    'objective': ['regression']\n",
    "}"
   ]
  },
  {
   "cell_type": "code",
   "execution_count": 15,
   "metadata": {},
   "outputs": [],
   "source": [
    "grid_search = GridSearchCV(estimator=lgb, param_grid=param_grid, \n",
    "                           scoring='neg_mean_absolute_error', cv=3, \n",
    "                           verbose=1, n_jobs=-1)"
   ]
  },
  {
   "cell_type": "code",
   "execution_count": null,
   "metadata": {},
   "outputs": [],
   "source": [
    "%%time\n",
    "\n",
    "grid_search.fit(X_train, y_train)\n",
    "# Mostramos los mejores parámetros y resultados\n",
    "best_params = grid_search.best_params_\n",
    "print(\"Mejores hiperparámetros:\", best_params)\n",
    "\n",
    "# comprobamos los  mejores parámetros\n",
    "best_model = grid_search.best_estimator_\n",
    "y_pred = best_model.predict(X_test)\n",
    "\n",
    "# Calculamos y mostramos las métricas\n",
    "mae = mean_absolute_error(y_test, y_pred)\n",
    "mse = mean_squared_error(y_test, y_pred)\n",
    "rmse = root_mean_squared_error(y_test, y_pred)\n",
    "r2 = r2_score(y_test, y_pred)\n",
    "print(\"MAE:\", mae)\n",
    "print(\"MSE:\", mse)\n",
    "print(\"RMSE\", rmse)\n",
    "print(\"R²:\", r2)"
   ]
  },
  {
   "cell_type": "markdown",
   "metadata": {},
   "source": [
    "Creación del pickle"
   ]
  },
  {
   "cell_type": "code",
   "execution_count": null,
   "metadata": {},
   "outputs": [],
   "source": [
    "# Creamos un diccionario con los resultados\n",
    "grid_search = {\n",
    "    \"best_params\": best_params,\n",
    "    \"mae\": mae,\n",
    "    \"mse\": mse,\n",
    "    \"rmse\": rmse,\n",
    "    \"r2_score\": r2\n",
    "}\n",
    "\n",
    "grid_search = pd.DataFrame(grid_search)\n",
    "grid_search = grid_search.sort_values(by=\"r2_score\", ascending=False)\n",
    "grid_search.to_pickle(\"data/resultados_gridsearch.pkl\")\n"
   ]
  },
  {
   "cell_type": "code",
   "execution_count": null,
   "metadata": {},
   "outputs": [
    {
     "data": {
      "text/html": [
       "<div>\n",
       "<style scoped>\n",
       "    .dataframe tbody tr th:only-of-type {\n",
       "        vertical-align: middle;\n",
       "    }\n",
       "\n",
       "    .dataframe tbody tr th {\n",
       "        vertical-align: top;\n",
       "    }\n",
       "\n",
       "    .dataframe thead th {\n",
       "        text-align: right;\n",
       "    }\n",
       "</style>\n",
       "<table border=\"1\" class=\"dataframe\">\n",
       "  <thead>\n",
       "    <tr style=\"text-align: right;\">\n",
       "      <th></th>\n",
       "      <th>best_params</th>\n",
       "      <th>mae</th>\n",
       "      <th>mse</th>\n",
       "      <th>rmse</th>\n",
       "      <th>r2_score</th>\n",
       "    </tr>\n",
       "  </thead>\n",
       "  <tbody>\n",
       "    <tr>\n",
       "      <th>boosting_type</th>\n",
       "      <td>gbdt</td>\n",
       "      <td>0.016778</td>\n",
       "      <td>0.001221</td>\n",
       "      <td>0.034942</td>\n",
       "      <td>0.868567</td>\n",
       "    </tr>\n",
       "    <tr>\n",
       "      <th>learning_rate</th>\n",
       "      <td>0.1</td>\n",
       "      <td>0.016778</td>\n",
       "      <td>0.001221</td>\n",
       "      <td>0.034942</td>\n",
       "      <td>0.868567</td>\n",
       "    </tr>\n",
       "    <tr>\n",
       "      <th>max_depth</th>\n",
       "      <td>10</td>\n",
       "      <td>0.016778</td>\n",
       "      <td>0.001221</td>\n",
       "      <td>0.034942</td>\n",
       "      <td>0.868567</td>\n",
       "    </tr>\n",
       "    <tr>\n",
       "      <th>min_child_samples</th>\n",
       "      <td>20</td>\n",
       "      <td>0.016778</td>\n",
       "      <td>0.001221</td>\n",
       "      <td>0.034942</td>\n",
       "      <td>0.868567</td>\n",
       "    </tr>\n",
       "    <tr>\n",
       "      <th>n_estimators</th>\n",
       "      <td>1000</td>\n",
       "      <td>0.016778</td>\n",
       "      <td>0.001221</td>\n",
       "      <td>0.034942</td>\n",
       "      <td>0.868567</td>\n",
       "    </tr>\n",
       "    <tr>\n",
       "      <th>num_leaves</th>\n",
       "      <td>31</td>\n",
       "      <td>0.016778</td>\n",
       "      <td>0.001221</td>\n",
       "      <td>0.034942</td>\n",
       "      <td>0.868567</td>\n",
       "    </tr>\n",
       "    <tr>\n",
       "      <th>objective</th>\n",
       "      <td>regression</td>\n",
       "      <td>0.016778</td>\n",
       "      <td>0.001221</td>\n",
       "      <td>0.034942</td>\n",
       "      <td>0.868567</td>\n",
       "    </tr>\n",
       "    <tr>\n",
       "      <th>reg_alpha</th>\n",
       "      <td>0</td>\n",
       "      <td>0.016778</td>\n",
       "      <td>0.001221</td>\n",
       "      <td>0.034942</td>\n",
       "      <td>0.868567</td>\n",
       "    </tr>\n",
       "    <tr>\n",
       "      <th>reg_lambda</th>\n",
       "      <td>0</td>\n",
       "      <td>0.016778</td>\n",
       "      <td>0.001221</td>\n",
       "      <td>0.034942</td>\n",
       "      <td>0.868567</td>\n",
       "    </tr>\n",
       "    <tr>\n",
       "      <th>subsample</th>\n",
       "      <td>0.7</td>\n",
       "      <td>0.016778</td>\n",
       "      <td>0.001221</td>\n",
       "      <td>0.034942</td>\n",
       "      <td>0.868567</td>\n",
       "    </tr>\n",
       "  </tbody>\n",
       "</table>\n",
       "</div>"
      ],
      "text/plain": [
       "                  best_params       mae       mse      rmse  r2_score\n",
       "boosting_type            gbdt  0.016778  0.001221  0.034942  0.868567\n",
       "learning_rate             0.1  0.016778  0.001221  0.034942  0.868567\n",
       "max_depth                  10  0.016778  0.001221  0.034942  0.868567\n",
       "min_child_samples          20  0.016778  0.001221  0.034942  0.868567\n",
       "n_estimators             1000  0.016778  0.001221  0.034942  0.868567\n",
       "num_leaves                 31  0.016778  0.001221  0.034942  0.868567\n",
       "objective          regression  0.016778  0.001221  0.034942  0.868567\n",
       "reg_alpha                   0  0.016778  0.001221  0.034942  0.868567\n",
       "reg_lambda                  0  0.016778  0.001221  0.034942  0.868567\n",
       "subsample                 0.7  0.016778  0.001221  0.034942  0.868567"
      ]
     },
     "execution_count": 18,
     "metadata": {},
     "output_type": "execute_result"
    }
   ],
   "source": [
    "grid_search"
   ]
  },
  {
   "cell_type": "code",
   "execution_count": 8,
   "metadata": {},
   "outputs": [
    {
     "name": "stdout",
     "output_type": "stream",
     "text": [
      "[LightGBM] [Info] Auto-choosing row-wise multi-threading, the overhead of testing was 0.001331 seconds.\n",
      "You can set `force_row_wise=true` to remove the overhead.\n",
      "And if memory is not enough, you can set `force_col_wise=true`.\n",
      "[LightGBM] [Info] Total Bins 582\n",
      "[LightGBM] [Info] Number of data points in the train set: 1997, number of used features: 24\n",
      "[LightGBM] [Info] Start training from score 0.143845\n",
      "[LightGBM] [Warning] No further splits with positive gain, best gain: -inf\n",
      "[LightGBM] [Warning] No further splits with positive gain, best gain: -inf\n",
      "[LightGBM] [Warning] No further splits with positive gain, best gain: -inf\n",
      "[LightGBM] [Warning] No further splits with positive gain, best gain: -inf\n",
      "[LightGBM] [Warning] No further splits with positive gain, best gain: -inf\n",
      "[LightGBM] [Warning] No further splits with positive gain, best gain: -inf\n",
      "[LightGBM] [Warning] No further splits with positive gain, best gain: -inf\n",
      "[LightGBM] [Warning] No further splits with positive gain, best gain: -inf\n",
      "[LightGBM] [Warning] No further splits with positive gain, best gain: -inf\n",
      "[LightGBM] [Warning] No further splits with positive gain, best gain: -inf\n",
      "[LightGBM] [Warning] No further splits with positive gain, best gain: -inf\n",
      "[LightGBM] [Warning] No further splits with positive gain, best gain: -inf\n",
      "[LightGBM] [Warning] No further splits with positive gain, best gain: -inf\n",
      "[LightGBM] [Warning] No further splits with positive gain, best gain: -inf\n",
      "[LightGBM] [Warning] No further splits with positive gain, best gain: -inf\n",
      "[LightGBM] [Warning] No further splits with positive gain, best gain: -inf\n",
      "[LightGBM] [Warning] No further splits with positive gain, best gain: -inf\n",
      "[LightGBM] [Warning] No further splits with positive gain, best gain: -inf\n",
      "[LightGBM] [Warning] No further splits with positive gain, best gain: -inf\n",
      "[LightGBM] [Warning] No further splits with positive gain, best gain: -inf\n",
      "[LightGBM] [Warning] No further splits with positive gain, best gain: -inf\n",
      "[LightGBM] [Warning] No further splits with positive gain, best gain: -inf\n",
      "[LightGBM] [Warning] No further splits with positive gain, best gain: -inf\n",
      "[LightGBM] [Warning] No further splits with positive gain, best gain: -inf\n",
      "[LightGBM] [Warning] No further splits with positive gain, best gain: -inf\n",
      "[LightGBM] [Warning] No further splits with positive gain, best gain: -inf\n",
      "[LightGBM] [Warning] No further splits with positive gain, best gain: -inf\n",
      "[LightGBM] [Warning] No further splits with positive gain, best gain: -inf\n",
      "[LightGBM] [Warning] No further splits with positive gain, best gain: -inf\n",
      "[LightGBM] [Warning] No further splits with positive gain, best gain: -inf\n",
      "[LightGBM] [Warning] No further splits with positive gain, best gain: -inf\n",
      "[LightGBM] [Warning] No further splits with positive gain, best gain: -inf\n",
      "[LightGBM] [Warning] No further splits with positive gain, best gain: -inf\n",
      "[LightGBM] [Warning] No further splits with positive gain, best gain: -inf\n",
      "[LightGBM] [Warning] No further splits with positive gain, best gain: -inf\n",
      "[LightGBM] [Warning] No further splits with positive gain, best gain: -inf\n",
      "[LightGBM] [Warning] No further splits with positive gain, best gain: -inf\n",
      "[LightGBM] [Warning] No further splits with positive gain, best gain: -inf\n",
      "[LightGBM] [Warning] No further splits with positive gain, best gain: -inf\n",
      "[LightGBM] [Warning] No further splits with positive gain, best gain: -inf\n",
      "[LightGBM] [Warning] No further splits with positive gain, best gain: -inf\n",
      "[LightGBM] [Warning] No further splits with positive gain, best gain: -inf\n",
      "[LightGBM] [Warning] No further splits with positive gain, best gain: -inf\n",
      "[LightGBM] [Warning] No further splits with positive gain, best gain: -inf\n",
      "[LightGBM] [Warning] No further splits with positive gain, best gain: -inf\n",
      "[LightGBM] [Warning] No further splits with positive gain, best gain: -inf\n",
      "[LightGBM] [Warning] No further splits with positive gain, best gain: -inf\n",
      "[LightGBM] [Warning] No further splits with positive gain, best gain: -inf\n",
      "[LightGBM] [Warning] No further splits with positive gain, best gain: -inf\n",
      "[LightGBM] [Warning] No further splits with positive gain, best gain: -inf\n",
      "[LightGBM] [Warning] No further splits with positive gain, best gain: -inf\n",
      "[LightGBM] [Warning] No further splits with positive gain, best gain: -inf\n",
      "[LightGBM] [Warning] No further splits with positive gain, best gain: -inf\n",
      "[LightGBM] [Warning] No further splits with positive gain, best gain: -inf\n",
      "[LightGBM] [Warning] No further splits with positive gain, best gain: -inf\n",
      "[LightGBM] [Warning] No further splits with positive gain, best gain: -inf\n",
      "[LightGBM] [Warning] No further splits with positive gain, best gain: -inf\n",
      "[LightGBM] [Warning] No further splits with positive gain, best gain: -inf\n",
      "[LightGBM] [Warning] No further splits with positive gain, best gain: -inf\n",
      "[LightGBM] [Warning] No further splits with positive gain, best gain: -inf\n",
      "[LightGBM] [Warning] No further splits with positive gain, best gain: -inf\n",
      "[LightGBM] [Warning] No further splits with positive gain, best gain: -inf\n",
      "[LightGBM] [Warning] No further splits with positive gain, best gain: -inf\n",
      "[LightGBM] [Warning] No further splits with positive gain, best gain: -inf\n",
      "[LightGBM] [Warning] No further splits with positive gain, best gain: -inf\n",
      "[LightGBM] [Warning] No further splits with positive gain, best gain: -inf\n",
      "[LightGBM] [Warning] No further splits with positive gain, best gain: -inf\n",
      "[LightGBM] [Warning] No further splits with positive gain, best gain: -inf\n",
      "[LightGBM] [Warning] No further splits with positive gain, best gain: -inf\n",
      "[LightGBM] [Warning] No further splits with positive gain, best gain: -inf\n",
      "[LightGBM] [Warning] No further splits with positive gain, best gain: -inf\n",
      "[LightGBM] [Warning] No further splits with positive gain, best gain: -inf\n",
      "[LightGBM] [Warning] No further splits with positive gain, best gain: -inf\n",
      "[LightGBM] [Warning] No further splits with positive gain, best gain: -inf\n",
      "[LightGBM] [Warning] No further splits with positive gain, best gain: -inf\n",
      "[LightGBM] [Warning] No further splits with positive gain, best gain: -inf\n",
      "[LightGBM] [Warning] No further splits with positive gain, best gain: -inf\n",
      "[LightGBM] [Warning] No further splits with positive gain, best gain: -inf\n",
      "[LightGBM] [Warning] No further splits with positive gain, best gain: -inf\n",
      "[LightGBM] [Warning] No further splits with positive gain, best gain: -inf\n",
      "[LightGBM] [Warning] No further splits with positive gain, best gain: -inf\n",
      "[LightGBM] [Warning] No further splits with positive gain, best gain: -inf\n",
      "[LightGBM] [Warning] No further splits with positive gain, best gain: -inf\n",
      "[LightGBM] [Warning] No further splits with positive gain, best gain: -inf\n",
      "[LightGBM] [Warning] No further splits with positive gain, best gain: -inf\n",
      "[LightGBM] [Warning] No further splits with positive gain, best gain: -inf\n",
      "[LightGBM] [Warning] No further splits with positive gain, best gain: -inf\n",
      "[LightGBM] [Warning] No further splits with positive gain, best gain: -inf\n",
      "[LightGBM] [Warning] No further splits with positive gain, best gain: -inf\n",
      "[LightGBM] [Warning] No further splits with positive gain, best gain: -inf\n",
      "[LightGBM] [Warning] No further splits with positive gain, best gain: -inf\n",
      "[LightGBM] [Warning] No further splits with positive gain, best gain: -inf\n",
      "[LightGBM] [Warning] No further splits with positive gain, best gain: -inf\n",
      "[LightGBM] [Warning] No further splits with positive gain, best gain: -inf\n",
      "[LightGBM] [Warning] No further splits with positive gain, best gain: -inf\n",
      "[LightGBM] [Warning] No further splits with positive gain, best gain: -inf\n",
      "[LightGBM] [Warning] No further splits with positive gain, best gain: -inf\n",
      "[LightGBM] [Warning] No further splits with positive gain, best gain: -inf\n",
      "[LightGBM] [Warning] No further splits with positive gain, best gain: -inf\n",
      "[LightGBM] [Warning] No further splits with positive gain, best gain: -inf\n",
      "[LightGBM] [Warning] No further splits with positive gain, best gain: -inf\n",
      "[LightGBM] [Warning] No further splits with positive gain, best gain: -inf\n",
      "[LightGBM] [Warning] No further splits with positive gain, best gain: -inf\n",
      "[LightGBM] [Warning] No further splits with positive gain, best gain: -inf\n",
      "[LightGBM] [Warning] No further splits with positive gain, best gain: -inf\n",
      "[LightGBM] [Warning] No further splits with positive gain, best gain: -inf\n",
      "[LightGBM] [Warning] No further splits with positive gain, best gain: -inf\n",
      "[LightGBM] [Warning] No further splits with positive gain, best gain: -inf\n",
      "[LightGBM] [Warning] No further splits with positive gain, best gain: -inf\n",
      "[LightGBM] [Warning] No further splits with positive gain, best gain: -inf\n",
      "[LightGBM] [Warning] No further splits with positive gain, best gain: -inf\n",
      "[LightGBM] [Warning] No further splits with positive gain, best gain: -inf\n",
      "[LightGBM] [Warning] No further splits with positive gain, best gain: -inf\n",
      "[LightGBM] [Warning] No further splits with positive gain, best gain: -inf\n",
      "[LightGBM] [Warning] No further splits with positive gain, best gain: -inf\n",
      "[LightGBM] [Warning] No further splits with positive gain, best gain: -inf\n",
      "[LightGBM] [Warning] No further splits with positive gain, best gain: -inf\n",
      "[LightGBM] [Warning] No further splits with positive gain, best gain: -inf\n",
      "[LightGBM] [Warning] No further splits with positive gain, best gain: -inf\n",
      "[LightGBM] [Warning] No further splits with positive gain, best gain: -inf\n",
      "[LightGBM] [Warning] No further splits with positive gain, best gain: -inf\n",
      "[LightGBM] [Warning] No further splits with positive gain, best gain: -inf\n",
      "[LightGBM] [Warning] No further splits with positive gain, best gain: -inf\n",
      "[LightGBM] [Warning] No further splits with positive gain, best gain: -inf\n",
      "[LightGBM] [Warning] No further splits with positive gain, best gain: -inf\n",
      "[LightGBM] [Warning] No further splits with positive gain, best gain: -inf\n",
      "[LightGBM] [Warning] No further splits with positive gain, best gain: -inf\n",
      "[LightGBM] [Warning] No further splits with positive gain, best gain: -inf\n",
      "[LightGBM] [Warning] No further splits with positive gain, best gain: -inf\n",
      "[LightGBM] [Warning] No further splits with positive gain, best gain: -inf\n",
      "[LightGBM] [Warning] No further splits with positive gain, best gain: -inf\n",
      "[LightGBM] [Warning] No further splits with positive gain, best gain: -inf\n",
      "[LightGBM] [Warning] No further splits with positive gain, best gain: -inf\n",
      "[LightGBM] [Warning] No further splits with positive gain, best gain: -inf\n",
      "[LightGBM] [Warning] No further splits with positive gain, best gain: -inf\n",
      "[LightGBM] [Warning] No further splits with positive gain, best gain: -inf\n",
      "[LightGBM] [Warning] No further splits with positive gain, best gain: -inf\n",
      "[LightGBM] [Warning] No further splits with positive gain, best gain: -inf\n",
      "[LightGBM] [Warning] No further splits with positive gain, best gain: -inf\n",
      "[LightGBM] [Warning] No further splits with positive gain, best gain: -inf\n",
      "[LightGBM] [Warning] No further splits with positive gain, best gain: -inf\n",
      "[LightGBM] [Warning] No further splits with positive gain, best gain: -inf\n",
      "[LightGBM] [Warning] No further splits with positive gain, best gain: -inf\n",
      "[LightGBM] [Warning] No further splits with positive gain, best gain: -inf\n",
      "[LightGBM] [Warning] No further splits with positive gain, best gain: -inf\n",
      "[LightGBM] [Warning] No further splits with positive gain, best gain: -inf\n",
      "[LightGBM] [Warning] No further splits with positive gain, best gain: -inf\n",
      "[LightGBM] [Warning] No further splits with positive gain, best gain: -inf\n",
      "[LightGBM] [Warning] No further splits with positive gain, best gain: -inf\n",
      "[LightGBM] [Warning] No further splits with positive gain, best gain: -inf\n",
      "[LightGBM] [Warning] No further splits with positive gain, best gain: -inf\n",
      "[LightGBM] [Warning] No further splits with positive gain, best gain: -inf\n",
      "[LightGBM] [Warning] No further splits with positive gain, best gain: -inf\n",
      "[LightGBM] [Warning] No further splits with positive gain, best gain: -inf\n",
      "[LightGBM] [Warning] No further splits with positive gain, best gain: -inf\n",
      "[LightGBM] [Warning] No further splits with positive gain, best gain: -inf\n",
      "[LightGBM] [Warning] No further splits with positive gain, best gain: -inf\n",
      "[LightGBM] [Warning] No further splits with positive gain, best gain: -inf\n",
      "[LightGBM] [Warning] No further splits with positive gain, best gain: -inf\n",
      "[LightGBM] [Warning] No further splits with positive gain, best gain: -inf\n",
      "[LightGBM] [Warning] No further splits with positive gain, best gain: -inf\n",
      "[LightGBM] [Warning] No further splits with positive gain, best gain: -inf\n",
      "[LightGBM] [Warning] No further splits with positive gain, best gain: -inf\n",
      "[LightGBM] [Warning] No further splits with positive gain, best gain: -inf\n",
      "[LightGBM] [Warning] No further splits with positive gain, best gain: -inf\n",
      "[LightGBM] [Warning] No further splits with positive gain, best gain: -inf\n",
      "[LightGBM] [Warning] No further splits with positive gain, best gain: -inf\n",
      "[LightGBM] [Warning] No further splits with positive gain, best gain: -inf\n",
      "[LightGBM] [Warning] No further splits with positive gain, best gain: -inf\n",
      "[LightGBM] [Warning] No further splits with positive gain, best gain: -inf\n",
      "[LightGBM] [Warning] No further splits with positive gain, best gain: -inf\n",
      "[LightGBM] [Warning] No further splits with positive gain, best gain: -inf\n",
      "[LightGBM] [Warning] No further splits with positive gain, best gain: -inf\n",
      "[LightGBM] [Warning] No further splits with positive gain, best gain: -inf\n",
      "[LightGBM] [Warning] No further splits with positive gain, best gain: -inf\n",
      "[LightGBM] [Warning] No further splits with positive gain, best gain: -inf\n",
      "[LightGBM] [Warning] No further splits with positive gain, best gain: -inf\n",
      "[LightGBM] [Warning] No further splits with positive gain, best gain: -inf\n",
      "[LightGBM] [Warning] No further splits with positive gain, best gain: -inf\n",
      "[LightGBM] [Warning] No further splits with positive gain, best gain: -inf\n",
      "[LightGBM] [Warning] No further splits with positive gain, best gain: -inf\n",
      "[LightGBM] [Warning] No further splits with positive gain, best gain: -inf\n",
      "[LightGBM] [Warning] No further splits with positive gain, best gain: -inf\n",
      "[LightGBM] [Warning] No further splits with positive gain, best gain: -inf\n",
      "[LightGBM] [Warning] No further splits with positive gain, best gain: -inf\n",
      "[LightGBM] [Warning] No further splits with positive gain, best gain: -inf\n",
      "[LightGBM] [Warning] No further splits with positive gain, best gain: -inf\n",
      "[LightGBM] [Warning] No further splits with positive gain, best gain: -inf\n",
      "[LightGBM] [Warning] No further splits with positive gain, best gain: -inf\n",
      "[LightGBM] [Warning] No further splits with positive gain, best gain: -inf\n",
      "[LightGBM] [Warning] No further splits with positive gain, best gain: -inf\n",
      "[LightGBM] [Warning] No further splits with positive gain, best gain: -inf\n",
      "[LightGBM] [Warning] No further splits with positive gain, best gain: -inf\n",
      "[LightGBM] [Warning] No further splits with positive gain, best gain: -inf\n",
      "[LightGBM] [Warning] No further splits with positive gain, best gain: -inf\n",
      "[LightGBM] [Warning] No further splits with positive gain, best gain: -inf\n",
      "[LightGBM] [Warning] No further splits with positive gain, best gain: -inf\n",
      "[LightGBM] [Warning] No further splits with positive gain, best gain: -inf\n",
      "[LightGBM] [Warning] No further splits with positive gain, best gain: -inf\n",
      "[LightGBM] [Warning] No further splits with positive gain, best gain: -inf\n",
      "[LightGBM] [Warning] No further splits with positive gain, best gain: -inf\n",
      "[LightGBM] [Warning] No further splits with positive gain, best gain: -inf\n",
      "[LightGBM] [Warning] No further splits with positive gain, best gain: -inf\n",
      "[LightGBM] [Warning] No further splits with positive gain, best gain: -inf\n",
      "[LightGBM] [Warning] No further splits with positive gain, best gain: -inf\n",
      "[LightGBM] [Warning] No further splits with positive gain, best gain: -inf\n",
      "[LightGBM] [Warning] No further splits with positive gain, best gain: -inf\n",
      "[LightGBM] [Warning] No further splits with positive gain, best gain: -inf\n",
      "[LightGBM] [Warning] No further splits with positive gain, best gain: -inf\n",
      "[LightGBM] [Warning] No further splits with positive gain, best gain: -inf\n",
      "[LightGBM] [Warning] No further splits with positive gain, best gain: -inf\n",
      "[LightGBM] [Warning] No further splits with positive gain, best gain: -inf\n",
      "[LightGBM] [Warning] No further splits with positive gain, best gain: -inf\n",
      "[LightGBM] [Warning] No further splits with positive gain, best gain: -inf\n",
      "[LightGBM] [Warning] No further splits with positive gain, best gain: -inf\n",
      "[LightGBM] [Warning] No further splits with positive gain, best gain: -inf\n",
      "[LightGBM] [Warning] No further splits with positive gain, best gain: -inf\n",
      "[LightGBM] [Warning] No further splits with positive gain, best gain: -inf\n",
      "[LightGBM] [Warning] No further splits with positive gain, best gain: -inf\n",
      "[LightGBM] [Warning] No further splits with positive gain, best gain: -inf\n",
      "[LightGBM] [Warning] No further splits with positive gain, best gain: -inf\n",
      "[LightGBM] [Warning] No further splits with positive gain, best gain: -inf\n",
      "[LightGBM] [Warning] No further splits with positive gain, best gain: -inf\n",
      "[LightGBM] [Warning] No further splits with positive gain, best gain: -inf\n",
      "[LightGBM] [Warning] No further splits with positive gain, best gain: -inf\n",
      "[LightGBM] [Warning] No further splits with positive gain, best gain: -inf\n",
      "[LightGBM] [Warning] No further splits with positive gain, best gain: -inf\n",
      "[LightGBM] [Warning] No further splits with positive gain, best gain: -inf\n",
      "[LightGBM] [Warning] No further splits with positive gain, best gain: -inf\n",
      "[LightGBM] [Warning] No further splits with positive gain, best gain: -inf\n",
      "[LightGBM] [Warning] No further splits with positive gain, best gain: -inf\n",
      "[LightGBM] [Warning] No further splits with positive gain, best gain: -inf\n",
      "[LightGBM] [Warning] No further splits with positive gain, best gain: -inf\n",
      "[LightGBM] [Warning] No further splits with positive gain, best gain: -inf\n",
      "[LightGBM] [Warning] No further splits with positive gain, best gain: -inf\n",
      "[LightGBM] [Warning] No further splits with positive gain, best gain: -inf\n",
      "[LightGBM] [Warning] No further splits with positive gain, best gain: -inf\n",
      "[LightGBM] [Warning] No further splits with positive gain, best gain: -inf\n",
      "[LightGBM] [Warning] No further splits with positive gain, best gain: -inf\n",
      "[LightGBM] [Warning] No further splits with positive gain, best gain: -inf\n",
      "[LightGBM] [Warning] No further splits with positive gain, best gain: -inf\n",
      "[LightGBM] [Warning] No further splits with positive gain, best gain: -inf\n",
      "[LightGBM] [Warning] No further splits with positive gain, best gain: -inf\n",
      "[LightGBM] [Warning] No further splits with positive gain, best gain: -inf\n",
      "[LightGBM] [Warning] No further splits with positive gain, best gain: -inf\n",
      "[LightGBM] [Warning] No further splits with positive gain, best gain: -inf\n",
      "[LightGBM] [Warning] No further splits with positive gain, best gain: -inf\n",
      "[LightGBM] [Warning] No further splits with positive gain, best gain: -inf\n",
      "[LightGBM] [Warning] No further splits with positive gain, best gain: -inf\n",
      "[LightGBM] [Warning] No further splits with positive gain, best gain: -inf\n",
      "[LightGBM] [Warning] No further splits with positive gain, best gain: -inf\n",
      "[LightGBM] [Warning] No further splits with positive gain, best gain: -inf\n",
      "[LightGBM] [Warning] No further splits with positive gain, best gain: -inf\n",
      "[LightGBM] [Warning] No further splits with positive gain, best gain: -inf\n",
      "[LightGBM] [Warning] No further splits with positive gain, best gain: -inf\n",
      "[LightGBM] [Warning] No further splits with positive gain, best gain: -inf\n",
      "[LightGBM] [Warning] No further splits with positive gain, best gain: -inf\n",
      "[LightGBM] [Warning] No further splits with positive gain, best gain: -inf\n",
      "[LightGBM] [Warning] No further splits with positive gain, best gain: -inf\n",
      "[LightGBM] [Warning] No further splits with positive gain, best gain: -inf\n",
      "[LightGBM] [Warning] No further splits with positive gain, best gain: -inf\n",
      "[LightGBM] [Warning] No further splits with positive gain, best gain: -inf\n",
      "[LightGBM] [Warning] No further splits with positive gain, best gain: -inf\n",
      "[LightGBM] [Warning] No further splits with positive gain, best gain: -inf\n",
      "[LightGBM] [Warning] No further splits with positive gain, best gain: -inf\n",
      "[LightGBM] [Warning] No further splits with positive gain, best gain: -inf\n",
      "[LightGBM] [Warning] No further splits with positive gain, best gain: -inf\n",
      "[LightGBM] [Warning] No further splits with positive gain, best gain: -inf\n",
      "[LightGBM] [Warning] No further splits with positive gain, best gain: -inf\n",
      "[LightGBM] [Warning] No further splits with positive gain, best gain: -inf\n",
      "[LightGBM] [Warning] No further splits with positive gain, best gain: -inf\n",
      "[LightGBM] [Warning] No further splits with positive gain, best gain: -inf\n",
      "[LightGBM] [Warning] No further splits with positive gain, best gain: -inf\n",
      "[LightGBM] [Warning] No further splits with positive gain, best gain: -inf\n",
      "[LightGBM] [Warning] No further splits with positive gain, best gain: -inf\n",
      "[LightGBM] [Warning] No further splits with positive gain, best gain: -inf\n",
      "[LightGBM] [Warning] No further splits with positive gain, best gain: -inf\n",
      "[LightGBM] [Warning] No further splits with positive gain, best gain: -inf\n",
      "[LightGBM] [Warning] No further splits with positive gain, best gain: -inf\n",
      "[LightGBM] [Warning] No further splits with positive gain, best gain: -inf\n",
      "[LightGBM] [Warning] No further splits with positive gain, best gain: -inf\n",
      "[LightGBM] [Warning] No further splits with positive gain, best gain: -inf\n",
      "[LightGBM] [Warning] No further splits with positive gain, best gain: -inf\n",
      "[LightGBM] [Warning] No further splits with positive gain, best gain: -inf\n",
      "[LightGBM] [Warning] No further splits with positive gain, best gain: -inf\n",
      "[LightGBM] [Warning] No further splits with positive gain, best gain: -inf\n",
      "[LightGBM] [Warning] No further splits with positive gain, best gain: -inf\n",
      "[LightGBM] [Warning] No further splits with positive gain, best gain: -inf\n",
      "[LightGBM] [Warning] No further splits with positive gain, best gain: -inf\n",
      "[LightGBM] [Warning] No further splits with positive gain, best gain: -inf\n",
      "[LightGBM] [Warning] No further splits with positive gain, best gain: -inf\n",
      "[LightGBM] [Warning] No further splits with positive gain, best gain: -inf\n",
      "[LightGBM] [Warning] No further splits with positive gain, best gain: -inf\n",
      "[LightGBM] [Warning] No further splits with positive gain, best gain: -inf\n",
      "[LightGBM] [Warning] No further splits with positive gain, best gain: -inf\n",
      "[LightGBM] [Warning] No further splits with positive gain, best gain: -inf\n",
      "[LightGBM] [Warning] No further splits with positive gain, best gain: -inf\n",
      "[LightGBM] [Warning] No further splits with positive gain, best gain: -inf\n",
      "[LightGBM] [Warning] No further splits with positive gain, best gain: -inf\n",
      "[LightGBM] [Warning] No further splits with positive gain, best gain: -inf\n",
      "[LightGBM] [Warning] No further splits with positive gain, best gain: -inf\n",
      "[LightGBM] [Warning] No further splits with positive gain, best gain: -inf\n",
      "[LightGBM] [Warning] No further splits with positive gain, best gain: -inf\n",
      "[LightGBM] [Warning] No further splits with positive gain, best gain: -inf\n",
      "[LightGBM] [Warning] No further splits with positive gain, best gain: -inf\n",
      "[LightGBM] [Warning] No further splits with positive gain, best gain: -inf\n",
      "[LightGBM] [Warning] No further splits with positive gain, best gain: -inf\n",
      "[LightGBM] [Warning] No further splits with positive gain, best gain: -inf\n",
      "[LightGBM] [Warning] No further splits with positive gain, best gain: -inf\n",
      "[LightGBM] [Warning] No further splits with positive gain, best gain: -inf\n",
      "[LightGBM] [Warning] No further splits with positive gain, best gain: -inf\n",
      "[LightGBM] [Warning] No further splits with positive gain, best gain: -inf\n",
      "[LightGBM] [Warning] No further splits with positive gain, best gain: -inf\n",
      "[LightGBM] [Warning] No further splits with positive gain, best gain: -inf\n",
      "[LightGBM] [Warning] No further splits with positive gain, best gain: -inf\n",
      "[LightGBM] [Warning] No further splits with positive gain, best gain: -inf\n",
      "[LightGBM] [Warning] No further splits with positive gain, best gain: -inf\n",
      "[LightGBM] [Warning] No further splits with positive gain, best gain: -inf\n",
      "[LightGBM] [Warning] No further splits with positive gain, best gain: -inf\n",
      "[LightGBM] [Warning] No further splits with positive gain, best gain: -inf\n",
      "[LightGBM] [Warning] No further splits with positive gain, best gain: -inf\n",
      "[LightGBM] [Warning] No further splits with positive gain, best gain: -inf\n",
      "[LightGBM] [Warning] No further splits with positive gain, best gain: -inf\n",
      "[LightGBM] [Warning] No further splits with positive gain, best gain: -inf\n",
      "[LightGBM] [Warning] No further splits with positive gain, best gain: -inf\n",
      "[LightGBM] [Warning] No further splits with positive gain, best gain: -inf\n",
      "[LightGBM] [Warning] No further splits with positive gain, best gain: -inf\n",
      "[LightGBM] [Warning] No further splits with positive gain, best gain: -inf\n",
      "[LightGBM] [Warning] No further splits with positive gain, best gain: -inf\n",
      "[LightGBM] [Warning] No further splits with positive gain, best gain: -inf\n",
      "[LightGBM] [Warning] No further splits with positive gain, best gain: -inf\n",
      "[LightGBM] [Warning] No further splits with positive gain, best gain: -inf\n",
      "[LightGBM] [Warning] No further splits with positive gain, best gain: -inf\n",
      "[LightGBM] [Warning] No further splits with positive gain, best gain: -inf\n",
      "[LightGBM] [Warning] No further splits with positive gain, best gain: -inf\n",
      "[LightGBM] [Warning] No further splits with positive gain, best gain: -inf\n",
      "[LightGBM] [Warning] No further splits with positive gain, best gain: -inf\n",
      "[LightGBM] [Warning] No further splits with positive gain, best gain: -inf\n",
      "[LightGBM] [Warning] No further splits with positive gain, best gain: -inf\n",
      "[LightGBM] [Warning] No further splits with positive gain, best gain: -inf\n",
      "[LightGBM] [Warning] No further splits with positive gain, best gain: -inf\n",
      "[LightGBM] [Warning] No further splits with positive gain, best gain: -inf\n",
      "[LightGBM] [Warning] No further splits with positive gain, best gain: -inf\n",
      "[LightGBM] [Warning] No further splits with positive gain, best gain: -inf\n",
      "[LightGBM] [Warning] No further splits with positive gain, best gain: -inf\n",
      "[LightGBM] [Warning] No further splits with positive gain, best gain: -inf\n",
      "[LightGBM] [Warning] No further splits with positive gain, best gain: -inf\n",
      "[LightGBM] [Warning] No further splits with positive gain, best gain: -inf\n",
      "[LightGBM] [Warning] No further splits with positive gain, best gain: -inf\n",
      "[LightGBM] [Warning] No further splits with positive gain, best gain: -inf\n",
      "[LightGBM] [Warning] No further splits with positive gain, best gain: -inf\n",
      "[LightGBM] [Warning] No further splits with positive gain, best gain: -inf\n",
      "[LightGBM] [Warning] No further splits with positive gain, best gain: -inf\n",
      "[LightGBM] [Warning] No further splits with positive gain, best gain: -inf\n",
      "[LightGBM] [Warning] No further splits with positive gain, best gain: -inf\n",
      "[LightGBM] [Warning] No further splits with positive gain, best gain: -inf\n",
      "[LightGBM] [Warning] No further splits with positive gain, best gain: -inf\n",
      "[LightGBM] [Warning] No further splits with positive gain, best gain: -inf\n",
      "[LightGBM] [Warning] No further splits with positive gain, best gain: -inf\n",
      "[LightGBM] [Warning] No further splits with positive gain, best gain: -inf\n",
      "[LightGBM] [Warning] No further splits with positive gain, best gain: -inf\n",
      "[LightGBM] [Warning] No further splits with positive gain, best gain: -inf\n",
      "[LightGBM] [Warning] No further splits with positive gain, best gain: -inf\n",
      "[LightGBM] [Warning] No further splits with positive gain, best gain: -inf\n",
      "[LightGBM] [Warning] No further splits with positive gain, best gain: -inf\n",
      "[LightGBM] [Warning] No further splits with positive gain, best gain: -inf\n",
      "[LightGBM] [Warning] No further splits with positive gain, best gain: -inf\n",
      "[LightGBM] [Warning] No further splits with positive gain, best gain: -inf\n",
      "[LightGBM] [Warning] No further splits with positive gain, best gain: -inf\n",
      "[LightGBM] [Warning] No further splits with positive gain, best gain: -inf\n",
      "[LightGBM] [Warning] No further splits with positive gain, best gain: -inf\n",
      "[LightGBM] [Warning] No further splits with positive gain, best gain: -inf\n",
      "[LightGBM] [Warning] No further splits with positive gain, best gain: -inf\n",
      "[LightGBM] [Warning] No further splits with positive gain, best gain: -inf\n",
      "[LightGBM] [Warning] No further splits with positive gain, best gain: -inf\n",
      "[LightGBM] [Warning] No further splits with positive gain, best gain: -inf\n",
      "[LightGBM] [Warning] No further splits with positive gain, best gain: -inf\n",
      "[LightGBM] [Warning] No further splits with positive gain, best gain: -inf\n",
      "[LightGBM] [Warning] No further splits with positive gain, best gain: -inf\n",
      "[LightGBM] [Warning] No further splits with positive gain, best gain: -inf\n",
      "[LightGBM] [Warning] No further splits with positive gain, best gain: -inf\n",
      "[LightGBM] [Warning] No further splits with positive gain, best gain: -inf\n",
      "[LightGBM] [Warning] No further splits with positive gain, best gain: -inf\n",
      "[LightGBM] [Warning] No further splits with positive gain, best gain: -inf\n",
      "[LightGBM] [Warning] No further splits with positive gain, best gain: -inf\n",
      "[LightGBM] [Warning] No further splits with positive gain, best gain: -inf\n",
      "[LightGBM] [Warning] No further splits with positive gain, best gain: -inf\n",
      "[LightGBM] [Warning] No further splits with positive gain, best gain: -inf\n",
      "[LightGBM] [Warning] No further splits with positive gain, best gain: -inf\n",
      "[LightGBM] [Warning] No further splits with positive gain, best gain: -inf\n",
      "[LightGBM] [Warning] No further splits with positive gain, best gain: -inf\n",
      "[LightGBM] [Warning] No further splits with positive gain, best gain: -inf\n",
      "[LightGBM] [Warning] No further splits with positive gain, best gain: -inf\n",
      "[LightGBM] [Warning] No further splits with positive gain, best gain: -inf\n",
      "[LightGBM] [Warning] No further splits with positive gain, best gain: -inf\n",
      "[LightGBM] [Warning] No further splits with positive gain, best gain: -inf\n",
      "[LightGBM] [Warning] No further splits with positive gain, best gain: -inf\n",
      "[LightGBM] [Warning] No further splits with positive gain, best gain: -inf\n",
      "[LightGBM] [Warning] No further splits with positive gain, best gain: -inf\n",
      "[LightGBM] [Warning] No further splits with positive gain, best gain: -inf\n",
      "MAE: 0.016778357053656913\n",
      "MSE: 0.0012209482815996606\n",
      "RMSE 0.03494207036796275\n",
      "R²: 0.8685670597469859\n"
     ]
    }
   ],
   "source": [
    "grid_search_results = pd.read_pickle(\"data/resultados_gridsearch.pkl\")\n",
    "\n",
    "best_params = grid_search_results['best_params'].to_dict() # Transformar en dict para usar en el modelo\n",
    "best_params\n",
    "\n",
    "# Entrenar el modelo con los mejores parámetros\n",
    "best_model = LGBMRegressor(random_state=42, **best_params)\n",
    "best_model.fit(X_train, y_train.ravel())\n",
    "\n",
    "y_pred = best_model.predict(X_test)\n",
    "\n",
    "# Calculamos y mostramos las métricas\n",
    "mae = mean_absolute_error(y_test, y_pred)\n",
    "mse = mean_squared_error(y_test, y_pred)\n",
    "rmse = root_mean_squared_error(y_test, y_pred)\n",
    "r2 = r2_score(y_test, y_pred)\n",
    "print(\"MAE:\", mae)\n",
    "print(\"MSE:\", mse)\n",
    "print(\"RMSE\", rmse)\n",
    "print(\"R²:\", r2)\n"
   ]
  },
  {
   "cell_type": "code",
   "execution_count": null,
   "metadata": {},
   "outputs": [
    {
     "data": {
      "text/plain": [
       "['ETL - Fase 4 - Streamlit/models/best_lightgbm_model.pkl']"
      ]
     },
     "execution_count": 9,
     "metadata": {},
     "output_type": "execute_result"
    }
   ],
   "source": [
    "# Guardar el modelo para usar en streamlit\n",
    "joblib.dump({\"model\": best_model, \"original_columns\": original_columns}, 'data/best_lightgbm_model.pkl')\n",
    "\n"
   ]
  },
  {
   "cell_type": "markdown",
   "metadata": {},
   "source": [
    "Neural Networks"
   ]
  },
  {
   "cell_type": "code",
   "execution_count": null,
   "metadata": {},
   "outputs": [],
   "source": [
    "# Cargar los dados escalados en el ultimo modelo\n",
    "df = pd.read_pickle(\"data/Scaler.pkl\") ##### **** Hay que modificar el archivo de los escaladores *** ####\n",
    "\n",
    "# Cargar los dados escalados en el ultimo modelo\n",
    "df_x = pd.read_pickle(\"pkl/x_scaler.pkl\")\n",
    "df_y = pd.read_pickle('pkl/y_scaler.pkl')\n",
    "\n",
    "# Filtrar los datos de train y test\n",
    "X_train = df[df['Set'] == 'Train'].drop(columns=['y', 'Set'])\n",
    "X_test = df[df['Set'] == 'Test'].drop(columns=['y', 'Set'])\n",
    "y_train = df[df['Set'] == 'Train']['y']\n",
    "y_test = df[df['Set'] == 'Test']['y']"
   ]
  },
  {
   "cell_type": "code",
   "execution_count": 3,
   "metadata": {},
   "outputs": [
    {
     "name": "stdout",
     "output_type": "stream",
     "text": [
      "Epoch 1/100\n",
      "\u001b[1m63/63\u001b[0m \u001b[32m━━━━━━━━━━━━━━━━━━━━\u001b[0m\u001b[37m\u001b[0m \u001b[1m2s\u001b[0m 4ms/step - loss: 0.0116 - val_loss: 0.0038\n",
      "Epoch 2/100\n",
      "\u001b[1m63/63\u001b[0m \u001b[32m━━━━━━━━━━━━━━━━━━━━\u001b[0m\u001b[37m\u001b[0m \u001b[1m0s\u001b[0m 2ms/step - loss: 0.0038 - val_loss: 0.0033\n",
      "Epoch 3/100\n",
      "\u001b[1m63/63\u001b[0m \u001b[32m━━━━━━━━━━━━━━━━━━━━\u001b[0m\u001b[37m\u001b[0m \u001b[1m0s\u001b[0m 2ms/step - loss: 0.0034 - val_loss: 0.0032\n",
      "Epoch 4/100\n",
      "\u001b[1m63/63\u001b[0m \u001b[32m━━━━━━━━━━━━━━━━━━━━\u001b[0m\u001b[37m\u001b[0m \u001b[1m0s\u001b[0m 2ms/step - loss: 0.0031 - val_loss: 0.0029\n",
      "Epoch 5/100\n",
      "\u001b[1m63/63\u001b[0m \u001b[32m━━━━━━━━━━━━━━━━━━━━\u001b[0m\u001b[37m\u001b[0m \u001b[1m0s\u001b[0m 2ms/step - loss: 0.0033 - val_loss: 0.0028\n",
      "Epoch 6/100\n",
      "\u001b[1m63/63\u001b[0m \u001b[32m━━━━━━━━━━━━━━━━━━━━\u001b[0m\u001b[37m\u001b[0m \u001b[1m0s\u001b[0m 2ms/step - loss: 0.0033 - val_loss: 0.0029\n",
      "Epoch 7/100\n",
      "\u001b[1m63/63\u001b[0m \u001b[32m━━━━━━━━━━━━━━━━━━━━\u001b[0m\u001b[37m\u001b[0m \u001b[1m0s\u001b[0m 2ms/step - loss: 0.0028 - val_loss: 0.0027\n",
      "Epoch 8/100\n",
      "\u001b[1m63/63\u001b[0m \u001b[32m━━━━━━━━━━━━━━━━━━━━\u001b[0m\u001b[37m\u001b[0m \u001b[1m0s\u001b[0m 2ms/step - loss: 0.0025 - val_loss: 0.0026\n",
      "Epoch 9/100\n",
      "\u001b[1m63/63\u001b[0m \u001b[32m━━━━━━━━━━━━━━━━━━━━\u001b[0m\u001b[37m\u001b[0m \u001b[1m0s\u001b[0m 2ms/step - loss: 0.0025 - val_loss: 0.0026\n",
      "Epoch 10/100\n",
      "\u001b[1m63/63\u001b[0m \u001b[32m━━━━━━━━━━━━━━━━━━━━\u001b[0m\u001b[37m\u001b[0m \u001b[1m0s\u001b[0m 2ms/step - loss: 0.0024 - val_loss: 0.0024\n",
      "Epoch 11/100\n",
      "\u001b[1m63/63\u001b[0m \u001b[32m━━━━━━━━━━━━━━━━━━━━\u001b[0m\u001b[37m\u001b[0m \u001b[1m0s\u001b[0m 2ms/step - loss: 0.0026 - val_loss: 0.0026\n",
      "Epoch 12/100\n",
      "\u001b[1m63/63\u001b[0m \u001b[32m━━━━━━━━━━━━━━━━━━━━\u001b[0m\u001b[37m\u001b[0m \u001b[1m0s\u001b[0m 2ms/step - loss: 0.0020 - val_loss: 0.0024\n",
      "Epoch 13/100\n",
      "\u001b[1m63/63\u001b[0m \u001b[32m━━━━━━━━━━━━━━━━━━━━\u001b[0m\u001b[37m\u001b[0m \u001b[1m0s\u001b[0m 2ms/step - loss: 0.0021 - val_loss: 0.0027\n",
      "Epoch 14/100\n",
      "\u001b[1m63/63\u001b[0m \u001b[32m━━━━━━━━━━━━━━━━━━━━\u001b[0m\u001b[37m\u001b[0m \u001b[1m0s\u001b[0m 2ms/step - loss: 0.0023 - val_loss: 0.0023\n",
      "Epoch 15/100\n",
      "\u001b[1m63/63\u001b[0m \u001b[32m━━━━━━━━━━━━━━━━━━━━\u001b[0m\u001b[37m\u001b[0m \u001b[1m0s\u001b[0m 2ms/step - loss: 0.0025 - val_loss: 0.0023\n",
      "Epoch 16/100\n",
      "\u001b[1m63/63\u001b[0m \u001b[32m━━━━━━━━━━━━━━━━━━━━\u001b[0m\u001b[37m\u001b[0m \u001b[1m0s\u001b[0m 2ms/step - loss: 0.0019 - val_loss: 0.0022\n",
      "Epoch 17/100\n",
      "\u001b[1m63/63\u001b[0m \u001b[32m━━━━━━━━━━━━━━━━━━━━\u001b[0m\u001b[37m\u001b[0m \u001b[1m0s\u001b[0m 2ms/step - loss: 0.0019 - val_loss: 0.0023\n",
      "Epoch 18/100\n",
      "\u001b[1m63/63\u001b[0m \u001b[32m━━━━━━━━━━━━━━━━━━━━\u001b[0m\u001b[37m\u001b[0m \u001b[1m0s\u001b[0m 3ms/step - loss: 0.0024 - val_loss: 0.0022\n",
      "Epoch 19/100\n",
      "\u001b[1m63/63\u001b[0m \u001b[32m━━━━━━━━━━━━━━━━━━━━\u001b[0m\u001b[37m\u001b[0m \u001b[1m0s\u001b[0m 2ms/step - loss: 0.0018 - val_loss: 0.0023\n",
      "Epoch 20/100\n",
      "\u001b[1m63/63\u001b[0m \u001b[32m━━━━━━━━━━━━━━━━━━━━\u001b[0m\u001b[37m\u001b[0m \u001b[1m0s\u001b[0m 2ms/step - loss: 0.0017 - val_loss: 0.0024\n",
      "Epoch 21/100\n",
      "\u001b[1m63/63\u001b[0m \u001b[32m━━━━━━━━━━━━━━━━━━━━\u001b[0m\u001b[37m\u001b[0m \u001b[1m0s\u001b[0m 2ms/step - loss: 0.0018 - val_loss: 0.0026\n",
      "Epoch 22/100\n",
      "\u001b[1m63/63\u001b[0m \u001b[32m━━━━━━━━━━━━━━━━━━━━\u001b[0m\u001b[37m\u001b[0m \u001b[1m0s\u001b[0m 2ms/step - loss: 0.0015 - val_loss: 0.0022\n",
      "Epoch 23/100\n",
      "\u001b[1m63/63\u001b[0m \u001b[32m━━━━━━━━━━━━━━━━━━━━\u001b[0m\u001b[37m\u001b[0m \u001b[1m0s\u001b[0m 2ms/step - loss: 0.0020 - val_loss: 0.0022\n",
      "Epoch 24/100\n",
      "\u001b[1m63/63\u001b[0m \u001b[32m━━━━━━━━━━━━━━━━━━━━\u001b[0m\u001b[37m\u001b[0m \u001b[1m0s\u001b[0m 2ms/step - loss: 0.0018 - val_loss: 0.0020\n",
      "Epoch 25/100\n",
      "\u001b[1m63/63\u001b[0m \u001b[32m━━━━━━━━━━━━━━━━━━━━\u001b[0m\u001b[37m\u001b[0m \u001b[1m0s\u001b[0m 2ms/step - loss: 0.0015 - val_loss: 0.0025\n",
      "Epoch 26/100\n",
      "\u001b[1m63/63\u001b[0m \u001b[32m━━━━━━━━━━━━━━━━━━━━\u001b[0m\u001b[37m\u001b[0m \u001b[1m0s\u001b[0m 3ms/step - loss: 0.0013 - val_loss: 0.0021\n",
      "Epoch 27/100\n",
      "\u001b[1m63/63\u001b[0m \u001b[32m━━━━━━━━━━━━━━━━━━━━\u001b[0m\u001b[37m\u001b[0m \u001b[1m0s\u001b[0m 2ms/step - loss: 0.0012 - val_loss: 0.0021\n",
      "Epoch 28/100\n",
      "\u001b[1m63/63\u001b[0m \u001b[32m━━━━━━━━━━━━━━━━━━━━\u001b[0m\u001b[37m\u001b[0m \u001b[1m0s\u001b[0m 2ms/step - loss: 0.0015 - val_loss: 0.0021\n",
      "Epoch 29/100\n",
      "\u001b[1m63/63\u001b[0m \u001b[32m━━━━━━━━━━━━━━━━━━━━\u001b[0m\u001b[37m\u001b[0m \u001b[1m0s\u001b[0m 3ms/step - loss: 0.0012 - val_loss: 0.0023\n",
      "Epoch 30/100\n",
      "\u001b[1m63/63\u001b[0m \u001b[32m━━━━━━━━━━━━━━━━━━━━\u001b[0m\u001b[37m\u001b[0m \u001b[1m0s\u001b[0m 2ms/step - loss: 0.0013 - val_loss: 0.0020\n",
      "Epoch 31/100\n",
      "\u001b[1m63/63\u001b[0m \u001b[32m━━━━━━━━━━━━━━━━━━━━\u001b[0m\u001b[37m\u001b[0m \u001b[1m0s\u001b[0m 2ms/step - loss: 0.0014 - val_loss: 0.0022\n",
      "Epoch 32/100\n",
      "\u001b[1m63/63\u001b[0m \u001b[32m━━━━━━━━━━━━━━━━━━━━\u001b[0m\u001b[37m\u001b[0m \u001b[1m0s\u001b[0m 2ms/step - loss: 0.0014 - val_loss: 0.0021\n",
      "Epoch 33/100\n",
      "\u001b[1m63/63\u001b[0m \u001b[32m━━━━━━━━━━━━━━━━━━━━\u001b[0m\u001b[37m\u001b[0m \u001b[1m0s\u001b[0m 2ms/step - loss: 0.0013 - val_loss: 0.0022\n",
      "Epoch 34/100\n",
      "\u001b[1m63/63\u001b[0m \u001b[32m━━━━━━━━━━━━━━━━━━━━\u001b[0m\u001b[37m\u001b[0m \u001b[1m0s\u001b[0m 2ms/step - loss: 0.0013 - val_loss: 0.0021\n",
      "Epoch 35/100\n",
      "\u001b[1m63/63\u001b[0m \u001b[32m━━━━━━━━━━━━━━━━━━━━\u001b[0m\u001b[37m\u001b[0m \u001b[1m0s\u001b[0m 2ms/step - loss: 0.0011 - val_loss: 0.0020\n",
      "Epoch 36/100\n",
      "\u001b[1m63/63\u001b[0m \u001b[32m━━━━━━━━━━━━━━━━━━━━\u001b[0m\u001b[37m\u001b[0m \u001b[1m0s\u001b[0m 2ms/step - loss: 0.0012 - val_loss: 0.0021\n",
      "Epoch 37/100\n",
      "\u001b[1m63/63\u001b[0m \u001b[32m━━━━━━━━━━━━━━━━━━━━\u001b[0m\u001b[37m\u001b[0m \u001b[1m0s\u001b[0m 2ms/step - loss: 0.0012 - val_loss: 0.0022\n",
      "Epoch 38/100\n",
      "\u001b[1m63/63\u001b[0m \u001b[32m━━━━━━━━━━━━━━━━━━━━\u001b[0m\u001b[37m\u001b[0m \u001b[1m0s\u001b[0m 2ms/step - loss: 0.0014 - val_loss: 0.0022\n",
      "Epoch 39/100\n",
      "\u001b[1m63/63\u001b[0m \u001b[32m━━━━━━━━━━━━━━━━━━━━\u001b[0m\u001b[37m\u001b[0m \u001b[1m0s\u001b[0m 2ms/step - loss: 0.0012 - val_loss: 0.0020\n",
      "Epoch 40/100\n",
      "\u001b[1m63/63\u001b[0m \u001b[32m━━━━━━━━━━━━━━━━━━━━\u001b[0m\u001b[37m\u001b[0m \u001b[1m0s\u001b[0m 2ms/step - loss: 0.0010 - val_loss: 0.0021\n",
      "Epoch 41/100\n",
      "\u001b[1m63/63\u001b[0m \u001b[32m━━━━━━━━━━━━━━━━━━━━\u001b[0m\u001b[37m\u001b[0m \u001b[1m0s\u001b[0m 2ms/step - loss: 0.0011 - val_loss: 0.0022\n",
      "Epoch 42/100\n",
      "\u001b[1m63/63\u001b[0m \u001b[32m━━━━━━━━━━━━━━━━━━━━\u001b[0m\u001b[37m\u001b[0m \u001b[1m0s\u001b[0m 3ms/step - loss: 0.0011 - val_loss: 0.0021\n",
      "Epoch 43/100\n",
      "\u001b[1m63/63\u001b[0m \u001b[32m━━━━━━━━━━━━━━━━━━━━\u001b[0m\u001b[37m\u001b[0m \u001b[1m0s\u001b[0m 2ms/step - loss: 9.8004e-04 - val_loss: 0.0020\n",
      "Epoch 44/100\n",
      "\u001b[1m63/63\u001b[0m \u001b[32m━━━━━━━━━━━━━━━━━━━━\u001b[0m\u001b[37m\u001b[0m \u001b[1m0s\u001b[0m 2ms/step - loss: 0.0010 - val_loss: 0.0020\n",
      "Epoch 45/100\n",
      "\u001b[1m63/63\u001b[0m \u001b[32m━━━━━━━━━━━━━━━━━━━━\u001b[0m\u001b[37m\u001b[0m \u001b[1m0s\u001b[0m 3ms/step - loss: 0.0011 - val_loss: 0.0020\n",
      "Epoch 46/100\n",
      "\u001b[1m63/63\u001b[0m \u001b[32m━━━━━━━━━━━━━━━━━━━━\u001b[0m\u001b[37m\u001b[0m \u001b[1m0s\u001b[0m 2ms/step - loss: 9.5577e-04 - val_loss: 0.0021\n",
      "Epoch 47/100\n",
      "\u001b[1m63/63\u001b[0m \u001b[32m━━━━━━━━━━━━━━━━━━━━\u001b[0m\u001b[37m\u001b[0m \u001b[1m0s\u001b[0m 2ms/step - loss: 9.5144e-04 - val_loss: 0.0019\n",
      "Epoch 48/100\n",
      "\u001b[1m63/63\u001b[0m \u001b[32m━━━━━━━━━━━━━━━━━━━━\u001b[0m\u001b[37m\u001b[0m \u001b[1m0s\u001b[0m 2ms/step - loss: 8.5207e-04 - val_loss: 0.0019\n",
      "Epoch 49/100\n",
      "\u001b[1m63/63\u001b[0m \u001b[32m━━━━━━━━━━━━━━━━━━━━\u001b[0m\u001b[37m\u001b[0m \u001b[1m0s\u001b[0m 2ms/step - loss: 9.3049e-04 - val_loss: 0.0020\n",
      "Epoch 50/100\n",
      "\u001b[1m63/63\u001b[0m \u001b[32m━━━━━━━━━━━━━━━━━━━━\u001b[0m\u001b[37m\u001b[0m \u001b[1m0s\u001b[0m 2ms/step - loss: 9.7970e-04 - val_loss: 0.0020\n",
      "Epoch 51/100\n",
      "\u001b[1m63/63\u001b[0m \u001b[32m━━━━━━━━━━━━━━━━━━━━\u001b[0m\u001b[37m\u001b[0m \u001b[1m0s\u001b[0m 2ms/step - loss: 8.8287e-04 - val_loss: 0.0019\n",
      "Epoch 52/100\n",
      "\u001b[1m63/63\u001b[0m \u001b[32m━━━━━━━━━━━━━━━━━━━━\u001b[0m\u001b[37m\u001b[0m \u001b[1m0s\u001b[0m 2ms/step - loss: 7.7984e-04 - val_loss: 0.0019\n",
      "Epoch 53/100\n",
      "\u001b[1m63/63\u001b[0m \u001b[32m━━━━━━━━━━━━━━━━━━━━\u001b[0m\u001b[37m\u001b[0m \u001b[1m0s\u001b[0m 2ms/step - loss: 8.0675e-04 - val_loss: 0.0019\n",
      "Epoch 54/100\n",
      "\u001b[1m63/63\u001b[0m \u001b[32m━━━━━━━━━━━━━━━━━━━━\u001b[0m\u001b[37m\u001b[0m \u001b[1m0s\u001b[0m 2ms/step - loss: 0.0011 - val_loss: 0.0020\n",
      "Epoch 55/100\n",
      "\u001b[1m63/63\u001b[0m \u001b[32m━━━━━━━━━━━━━━━━━━━━\u001b[0m\u001b[37m\u001b[0m \u001b[1m0s\u001b[0m 2ms/step - loss: 8.5945e-04 - val_loss: 0.0019\n",
      "Epoch 56/100\n",
      "\u001b[1m63/63\u001b[0m \u001b[32m━━━━━━━━━━━━━━━━━━━━\u001b[0m\u001b[37m\u001b[0m \u001b[1m0s\u001b[0m 2ms/step - loss: 7.5751e-04 - val_loss: 0.0020\n",
      "Epoch 57/100\n",
      "\u001b[1m63/63\u001b[0m \u001b[32m━━━━━━━━━━━━━━━━━━━━\u001b[0m\u001b[37m\u001b[0m \u001b[1m0s\u001b[0m 2ms/step - loss: 8.0694e-04 - val_loss: 0.0020\n",
      "Epoch 58/100\n",
      "\u001b[1m63/63\u001b[0m \u001b[32m━━━━━━━━━━━━━━━━━━━━\u001b[0m\u001b[37m\u001b[0m \u001b[1m0s\u001b[0m 2ms/step - loss: 8.5113e-04 - val_loss: 0.0020\n",
      "Epoch 59/100\n",
      "\u001b[1m63/63\u001b[0m \u001b[32m━━━━━━━━━━━━━━━━━━━━\u001b[0m\u001b[37m\u001b[0m \u001b[1m0s\u001b[0m 3ms/step - loss: 7.5950e-04 - val_loss: 0.0019\n",
      "Epoch 60/100\n",
      "\u001b[1m63/63\u001b[0m \u001b[32m━━━━━━━━━━━━━━━━━━━━\u001b[0m\u001b[37m\u001b[0m \u001b[1m0s\u001b[0m 2ms/step - loss: 7.3205e-04 - val_loss: 0.0019\n",
      "Epoch 61/100\n",
      "\u001b[1m63/63\u001b[0m \u001b[32m━━━━━━━━━━━━━━━━━━━━\u001b[0m\u001b[37m\u001b[0m \u001b[1m0s\u001b[0m 2ms/step - loss: 7.8098e-04 - val_loss: 0.0020\n",
      "Epoch 62/100\n",
      "\u001b[1m63/63\u001b[0m \u001b[32m━━━━━━━━━━━━━━━━━━━━\u001b[0m\u001b[37m\u001b[0m \u001b[1m0s\u001b[0m 2ms/step - loss: 7.8831e-04 - val_loss: 0.0019\n",
      "Epoch 63/100\n",
      "\u001b[1m63/63\u001b[0m \u001b[32m━━━━━━━━━━━━━━━━━━━━\u001b[0m\u001b[37m\u001b[0m \u001b[1m0s\u001b[0m 2ms/step - loss: 6.4797e-04 - val_loss: 0.0017\n",
      "Epoch 64/100\n",
      "\u001b[1m63/63\u001b[0m \u001b[32m━━━━━━━━━━━━━━━━━━━━\u001b[0m\u001b[37m\u001b[0m \u001b[1m0s\u001b[0m 3ms/step - loss: 6.4401e-04 - val_loss: 0.0019\n",
      "Epoch 65/100\n",
      "\u001b[1m63/63\u001b[0m \u001b[32m━━━━━━━━━━━━━━━━━━━━\u001b[0m\u001b[37m\u001b[0m \u001b[1m0s\u001b[0m 2ms/step - loss: 7.5508e-04 - val_loss: 0.0019\n",
      "Epoch 66/100\n",
      "\u001b[1m63/63\u001b[0m \u001b[32m━━━━━━━━━━━━━━━━━━━━\u001b[0m\u001b[37m\u001b[0m \u001b[1m0s\u001b[0m 2ms/step - loss: 7.2843e-04 - val_loss: 0.0018\n",
      "Epoch 67/100\n",
      "\u001b[1m63/63\u001b[0m \u001b[32m━━━━━━━━━━━━━━━━━━━━\u001b[0m\u001b[37m\u001b[0m \u001b[1m0s\u001b[0m 2ms/step - loss: 6.7581e-04 - val_loss: 0.0020\n",
      "Epoch 68/100\n",
      "\u001b[1m63/63\u001b[0m \u001b[32m━━━━━━━━━━━━━━━━━━━━\u001b[0m\u001b[37m\u001b[0m \u001b[1m0s\u001b[0m 2ms/step - loss: 7.1989e-04 - val_loss: 0.0018\n",
      "Epoch 69/100\n",
      "\u001b[1m63/63\u001b[0m \u001b[32m━━━━━━━━━━━━━━━━━━━━\u001b[0m\u001b[37m\u001b[0m \u001b[1m0s\u001b[0m 2ms/step - loss: 6.6508e-04 - val_loss: 0.0022\n",
      "Epoch 70/100\n",
      "\u001b[1m63/63\u001b[0m \u001b[32m━━━━━━━━━━━━━━━━━━━━\u001b[0m\u001b[37m\u001b[0m \u001b[1m0s\u001b[0m 2ms/step - loss: 8.1083e-04 - val_loss: 0.0019\n",
      "Epoch 71/100\n",
      "\u001b[1m63/63\u001b[0m \u001b[32m━━━━━━━━━━━━━━━━━━━━\u001b[0m\u001b[37m\u001b[0m \u001b[1m0s\u001b[0m 2ms/step - loss: 6.8345e-04 - val_loss: 0.0019\n",
      "Epoch 72/100\n",
      "\u001b[1m63/63\u001b[0m \u001b[32m━━━━━━━━━━━━━━━━━━━━\u001b[0m\u001b[37m\u001b[0m \u001b[1m0s\u001b[0m 2ms/step - loss: 6.1773e-04 - val_loss: 0.0019\n",
      "Epoch 73/100\n",
      "\u001b[1m63/63\u001b[0m \u001b[32m━━━━━━━━━━━━━━━━━━━━\u001b[0m\u001b[37m\u001b[0m \u001b[1m0s\u001b[0m 2ms/step - loss: 6.4883e-04 - val_loss: 0.0020\n",
      "Epoch 74/100\n",
      "\u001b[1m63/63\u001b[0m \u001b[32m━━━━━━━━━━━━━━━━━━━━\u001b[0m\u001b[37m\u001b[0m \u001b[1m0s\u001b[0m 2ms/step - loss: 5.7408e-04 - val_loss: 0.0019\n",
      "Epoch 75/100\n",
      "\u001b[1m63/63\u001b[0m \u001b[32m━━━━━━━━━━━━━━━━━━━━\u001b[0m\u001b[37m\u001b[0m \u001b[1m0s\u001b[0m 2ms/step - loss: 7.3436e-04 - val_loss: 0.0020\n",
      "Epoch 76/100\n",
      "\u001b[1m63/63\u001b[0m \u001b[32m━━━━━━━━━━━━━━━━━━━━\u001b[0m\u001b[37m\u001b[0m \u001b[1m0s\u001b[0m 2ms/step - loss: 7.2676e-04 - val_loss: 0.0020\n",
      "Epoch 77/100\n",
      "\u001b[1m63/63\u001b[0m \u001b[32m━━━━━━━━━━━━━━━━━━━━\u001b[0m\u001b[37m\u001b[0m \u001b[1m0s\u001b[0m 2ms/step - loss: 6.3273e-04 - val_loss: 0.0019\n",
      "Epoch 78/100\n",
      "\u001b[1m63/63\u001b[0m \u001b[32m━━━━━━━━━━━━━━━━━━━━\u001b[0m\u001b[37m\u001b[0m \u001b[1m0s\u001b[0m 2ms/step - loss: 6.1173e-04 - val_loss: 0.0018\n",
      "Epoch 79/100\n",
      "\u001b[1m63/63\u001b[0m \u001b[32m━━━━━━━━━━━━━━━━━━━━\u001b[0m\u001b[37m\u001b[0m \u001b[1m0s\u001b[0m 2ms/step - loss: 5.2924e-04 - val_loss: 0.0019\n",
      "Epoch 80/100\n",
      "\u001b[1m63/63\u001b[0m \u001b[32m━━━━━━━━━━━━━━━━━━━━\u001b[0m\u001b[37m\u001b[0m \u001b[1m0s\u001b[0m 2ms/step - loss: 4.8194e-04 - val_loss: 0.0020\n",
      "Epoch 81/100\n",
      "\u001b[1m63/63\u001b[0m \u001b[32m━━━━━━━━━━━━━━━━━━━━\u001b[0m\u001b[37m\u001b[0m \u001b[1m0s\u001b[0m 2ms/step - loss: 5.4557e-04 - val_loss: 0.0019\n",
      "Epoch 82/100\n",
      "\u001b[1m63/63\u001b[0m \u001b[32m━━━━━━━━━━━━━━━━━━━━\u001b[0m\u001b[37m\u001b[0m \u001b[1m0s\u001b[0m 2ms/step - loss: 5.9539e-04 - val_loss: 0.0020\n",
      "Epoch 83/100\n",
      "\u001b[1m63/63\u001b[0m \u001b[32m━━━━━━━━━━━━━━━━━━━━\u001b[0m\u001b[37m\u001b[0m \u001b[1m0s\u001b[0m 2ms/step - loss: 5.6966e-04 - val_loss: 0.0021\n",
      "Epoch 84/100\n",
      "\u001b[1m63/63\u001b[0m \u001b[32m━━━━━━━━━━━━━━━━━━━━\u001b[0m\u001b[37m\u001b[0m \u001b[1m0s\u001b[0m 3ms/step - loss: 5.9705e-04 - val_loss: 0.0021\n",
      "Epoch 85/100\n",
      "\u001b[1m63/63\u001b[0m \u001b[32m━━━━━━━━━━━━━━━━━━━━\u001b[0m\u001b[37m\u001b[0m \u001b[1m0s\u001b[0m 2ms/step - loss: 5.7797e-04 - val_loss: 0.0019\n",
      "Epoch 86/100\n",
      "\u001b[1m63/63\u001b[0m \u001b[32m━━━━━━━━━━━━━━━━━━━━\u001b[0m\u001b[37m\u001b[0m \u001b[1m0s\u001b[0m 3ms/step - loss: 4.5456e-04 - val_loss: 0.0019\n",
      "Epoch 87/100\n",
      "\u001b[1m63/63\u001b[0m \u001b[32m━━━━━━━━━━━━━━━━━━━━\u001b[0m\u001b[37m\u001b[0m \u001b[1m0s\u001b[0m 2ms/step - loss: 5.0253e-04 - val_loss: 0.0019\n",
      "Epoch 88/100\n",
      "\u001b[1m63/63\u001b[0m \u001b[32m━━━━━━━━━━━━━━━━━━━━\u001b[0m\u001b[37m\u001b[0m \u001b[1m0s\u001b[0m 2ms/step - loss: 5.5358e-04 - val_loss: 0.0020\n",
      "Epoch 89/100\n",
      "\u001b[1m63/63\u001b[0m \u001b[32m━━━━━━━━━━━━━━━━━━━━\u001b[0m\u001b[37m\u001b[0m \u001b[1m0s\u001b[0m 2ms/step - loss: 5.2057e-04 - val_loss: 0.0019\n",
      "Epoch 90/100\n",
      "\u001b[1m63/63\u001b[0m \u001b[32m━━━━━━━━━━━━━━━━━━━━\u001b[0m\u001b[37m\u001b[0m \u001b[1m0s\u001b[0m 2ms/step - loss: 4.3041e-04 - val_loss: 0.0018\n",
      "Epoch 91/100\n",
      "\u001b[1m63/63\u001b[0m \u001b[32m━━━━━━━━━━━━━━━━━━━━\u001b[0m\u001b[37m\u001b[0m \u001b[1m0s\u001b[0m 2ms/step - loss: 4.8543e-04 - val_loss: 0.0019\n",
      "Epoch 92/100\n",
      "\u001b[1m63/63\u001b[0m \u001b[32m━━━━━━━━━━━━━━━━━━━━\u001b[0m\u001b[37m\u001b[0m \u001b[1m0s\u001b[0m 2ms/step - loss: 4.7694e-04 - val_loss: 0.0018\n",
      "Epoch 93/100\n",
      "\u001b[1m63/63\u001b[0m \u001b[32m━━━━━━━━━━━━━━━━━━━━\u001b[0m\u001b[37m\u001b[0m \u001b[1m0s\u001b[0m 2ms/step - loss: 4.1677e-04 - val_loss: 0.0019\n",
      "Epoch 94/100\n",
      "\u001b[1m63/63\u001b[0m \u001b[32m━━━━━━━━━━━━━━━━━━━━\u001b[0m\u001b[37m\u001b[0m \u001b[1m0s\u001b[0m 2ms/step - loss: 4.3686e-04 - val_loss: 0.0018\n",
      "Epoch 95/100\n",
      "\u001b[1m63/63\u001b[0m \u001b[32m━━━━━━━━━━━━━━━━━━━━\u001b[0m\u001b[37m\u001b[0m \u001b[1m0s\u001b[0m 2ms/step - loss: 4.6351e-04 - val_loss: 0.0018\n",
      "Epoch 96/100\n",
      "\u001b[1m63/63\u001b[0m \u001b[32m━━━━━━━━━━━━━━━━━━━━\u001b[0m\u001b[37m\u001b[0m \u001b[1m0s\u001b[0m 2ms/step - loss: 5.3808e-04 - val_loss: 0.0019\n",
      "Epoch 97/100\n",
      "\u001b[1m63/63\u001b[0m \u001b[32m━━━━━━━━━━━━━━━━━━━━\u001b[0m\u001b[37m\u001b[0m \u001b[1m0s\u001b[0m 2ms/step - loss: 5.9921e-04 - val_loss: 0.0019\n",
      "Epoch 98/100\n",
      "\u001b[1m63/63\u001b[0m \u001b[32m━━━━━━━━━━━━━━━━━━━━\u001b[0m\u001b[37m\u001b[0m \u001b[1m0s\u001b[0m 3ms/step - loss: 6.0626e-04 - val_loss: 0.0019\n",
      "Epoch 99/100\n",
      "\u001b[1m63/63\u001b[0m \u001b[32m━━━━━━━━━━━━━━━━━━━━\u001b[0m\u001b[37m\u001b[0m \u001b[1m0s\u001b[0m 2ms/step - loss: 5.8450e-04 - val_loss: 0.0020\n",
      "Epoch 100/100\n",
      "\u001b[1m63/63\u001b[0m \u001b[32m━━━━━━━━━━━━━━━━━━━━\u001b[0m\u001b[37m\u001b[0m \u001b[1m0s\u001b[0m 2ms/step - loss: 4.2317e-04 - val_loss: 0.0018\n"
     ]
    },
    {
     "data": {
      "application/vnd.plotly.v1+json": {
       "config": {
        "plotlyServerURL": "https://plot.ly"
       },
       "data": [
        {
         "line": {
          "color": "blue"
         },
         "mode": "lines",
         "name": "Train Loss",
         "type": "scatter",
         "y": [
          0.0070236786268651485,
          0.003921288065612316,
          0.0035240482538938522,
          0.0032460044603794813,
          0.0032082328107208014,
          0.0029562099371105433,
          0.002835481194779277,
          0.002685173647478223,
          0.0025499213952571154,
          0.0024241774808615446,
          0.002470337552949786,
          0.0022950840648263693,
          0.0022344307508319616,
          0.002141582081094384,
          0.002120229182764888,
          0.0019812763202935457,
          0.00197884114459157,
          0.0019306933972984552,
          0.0018635678570717573,
          0.0018128996016457677,
          0.0017429825384169817,
          0.0017071397742256522,
          0.0019772257655858994,
          0.001714247278869152,
          0.001561699784360826,
          0.0015175240114331245,
          0.0015170819824561477,
          0.0014872831525281072,
          0.001503452891483903,
          0.0014073483180254698,
          0.0015563656343147159,
          0.0014005277771502733,
          0.0013358619762584567,
          0.0013204949209466577,
          0.0012557812733575702,
          0.001300686039030552,
          0.001414058730006218,
          0.001283869962207973,
          0.0011948744067922235,
          0.0011110453633591533,
          0.0010728257475420833,
          0.0010339849395677447,
          0.001056777429766953,
          0.0010072608711197972,
          0.0010359493317082524,
          0.0009765401482582092,
          0.0009176688618026674,
          0.0009685978293418884,
          0.00095218769274652,
          0.0009189228876493871,
          0.0008568409830331802,
          0.0008354057208634913,
          0.0008141715079545975,
          0.0009620837518014014,
          0.0008651904063299298,
          0.0007956888875924051,
          0.0008613051031716168,
          0.0007906214450486004,
          0.000743736163713038,
          0.0006813951767981052,
          0.0007026208331808448,
          0.0007450518314726651,
          0.0007149066659621894,
          0.0007007432286627591,
          0.0007559676887467504,
          0.0006881665321998298,
          0.0006791263003833592,
          0.0007064254605211318,
          0.0006404435262084007,
          0.0007371691172011197,
          0.0006999659817665815,
          0.0006596173043362796,
          0.0006531658000312746,
          0.0005782476509921253,
          0.0008084262954071164,
          0.0006707013817504048,
          0.000643861189018935,
          0.000591838441323489,
          0.0005407027783803642,
          0.0005362163065001369,
          0.0005604403559118509,
          0.0005622219759970903,
          0.0006213642773218453,
          0.0006222892552614212,
          0.0005406746058724821,
          0.0005310539272613823,
          0.0005221979808993638,
          0.0005372024606913328,
          0.0004802297044079751,
          0.0004807485966011882,
          0.0005377234774641693,
          0.0004976406344212592,
          0.000443373282905668,
          0.0004603736160788685,
          0.000478268601000309,
          0.000638866622466594,
          0.0006065465859137475,
          0.0005848011351190507,
          0.0005600295844487846,
          0.0004371133982203901
         ]
        },
        {
         "line": {
          "color": "orange"
         },
         "mode": "lines",
         "name": "Validation Loss",
         "type": "scatter",
         "y": [
          0.0037607671692967415,
          0.0032644891180098057,
          0.003249409841373563,
          0.0029207435436546803,
          0.0028205246198922396,
          0.0028615042101591825,
          0.0027088026981800795,
          0.002608788199722767,
          0.0025502946227788925,
          0.0024393133353441954,
          0.002562857698649168,
          0.0024421492125838995,
          0.002665780484676361,
          0.0023468127474188805,
          0.002250785008072853,
          0.002238611690700054,
          0.002336859703063965,
          0.0022207126021385193,
          0.002256441628560424,
          0.00235617789439857,
          0.0025534257292747498,
          0.002202969277277589,
          0.0021586490329355,
          0.0020090327598154545,
          0.002456578193232417,
          0.002097959630191326,
          0.00211767153814435,
          0.002082300838083029,
          0.0022774164099246264,
          0.0020168537739664316,
          0.0022135749459266663,
          0.0021349897142499685,
          0.0022427409421652555,
          0.0021049315109848976,
          0.002032606163993478,
          0.002100948244333267,
          0.002218171488493681,
          0.0022093974985182285,
          0.0020007274579256773,
          0.002050545299425721,
          0.0021840117406100035,
          0.0021185362711548805,
          0.002031198237091303,
          0.002011552918702364,
          0.0019766727928072214,
          0.00205290038138628,
          0.001899637863971293,
          0.0018568153027445078,
          0.002037932863458991,
          0.0019805273041129112,
          0.001877077971585095,
          0.0018554509151726961,
          0.0019139013020321727,
          0.001966313226148486,
          0.0018562423065304756,
          0.0020009935833513737,
          0.0020276957657188177,
          0.00195705727674067,
          0.0018547174986451864,
          0.0018540172604843974,
          0.002037767553701997,
          0.0019330352079123259,
          0.0017333978321403265,
          0.0018982088658958673,
          0.0018663076916709542,
          0.0018480175640434027,
          0.0019708117470145226,
          0.0018356356304138899,
          0.002215813612565398,
          0.0018562256591394544,
          0.001868042629212141,
          0.0019234123174101114,
          0.001965173287317157,
          0.0019490589620545506,
          0.0020409272983670235,
          0.0019542521331459284,
          0.0019270583288744092,
          0.0018495917320251465,
          0.0019033830612897873,
          0.001980357337743044,
          0.001907932572066784,
          0.0019799554720520973,
          0.002070822287350893,
          0.0020774556323885918,
          0.0018937850836664438,
          0.0019092981237918139,
          0.0019054677104577422,
          0.002021280350163579,
          0.0018934436375275254,
          0.0018163693603128195,
          0.0019239336252212524,
          0.0018388594035059214,
          0.0019199431408196688,
          0.0017931836191564798,
          0.0018359594978392124,
          0.0018613465363159776,
          0.001894234330393374,
          0.0018727622227743268,
          0.0019952808506786823,
          0.001819880330003798
         ]
        }
       ],
       "layout": {
        "legend": {
         "orientation": "h",
         "x": 0.5,
         "xanchor": "center",
         "y": 1
        },
        "template": {
         "data": {
          "bar": [
           {
            "error_x": {
             "color": "#2a3f5f"
            },
            "error_y": {
             "color": "#2a3f5f"
            },
            "marker": {
             "line": {
              "color": "white",
              "width": 0.5
             },
             "pattern": {
              "fillmode": "overlay",
              "size": 10,
              "solidity": 0.2
             }
            },
            "type": "bar"
           }
          ],
          "barpolar": [
           {
            "marker": {
             "line": {
              "color": "white",
              "width": 0.5
             },
             "pattern": {
              "fillmode": "overlay",
              "size": 10,
              "solidity": 0.2
             }
            },
            "type": "barpolar"
           }
          ],
          "carpet": [
           {
            "aaxis": {
             "endlinecolor": "#2a3f5f",
             "gridcolor": "#C8D4E3",
             "linecolor": "#C8D4E3",
             "minorgridcolor": "#C8D4E3",
             "startlinecolor": "#2a3f5f"
            },
            "baxis": {
             "endlinecolor": "#2a3f5f",
             "gridcolor": "#C8D4E3",
             "linecolor": "#C8D4E3",
             "minorgridcolor": "#C8D4E3",
             "startlinecolor": "#2a3f5f"
            },
            "type": "carpet"
           }
          ],
          "choropleth": [
           {
            "colorbar": {
             "outlinewidth": 0,
             "ticks": ""
            },
            "type": "choropleth"
           }
          ],
          "contour": [
           {
            "colorbar": {
             "outlinewidth": 0,
             "ticks": ""
            },
            "colorscale": [
             [
              0,
              "#0d0887"
             ],
             [
              0.1111111111111111,
              "#46039f"
             ],
             [
              0.2222222222222222,
              "#7201a8"
             ],
             [
              0.3333333333333333,
              "#9c179e"
             ],
             [
              0.4444444444444444,
              "#bd3786"
             ],
             [
              0.5555555555555556,
              "#d8576b"
             ],
             [
              0.6666666666666666,
              "#ed7953"
             ],
             [
              0.7777777777777778,
              "#fb9f3a"
             ],
             [
              0.8888888888888888,
              "#fdca26"
             ],
             [
              1,
              "#f0f921"
             ]
            ],
            "type": "contour"
           }
          ],
          "contourcarpet": [
           {
            "colorbar": {
             "outlinewidth": 0,
             "ticks": ""
            },
            "type": "contourcarpet"
           }
          ],
          "heatmap": [
           {
            "colorbar": {
             "outlinewidth": 0,
             "ticks": ""
            },
            "colorscale": [
             [
              0,
              "#0d0887"
             ],
             [
              0.1111111111111111,
              "#46039f"
             ],
             [
              0.2222222222222222,
              "#7201a8"
             ],
             [
              0.3333333333333333,
              "#9c179e"
             ],
             [
              0.4444444444444444,
              "#bd3786"
             ],
             [
              0.5555555555555556,
              "#d8576b"
             ],
             [
              0.6666666666666666,
              "#ed7953"
             ],
             [
              0.7777777777777778,
              "#fb9f3a"
             ],
             [
              0.8888888888888888,
              "#fdca26"
             ],
             [
              1,
              "#f0f921"
             ]
            ],
            "type": "heatmap"
           }
          ],
          "heatmapgl": [
           {
            "colorbar": {
             "outlinewidth": 0,
             "ticks": ""
            },
            "colorscale": [
             [
              0,
              "#0d0887"
             ],
             [
              0.1111111111111111,
              "#46039f"
             ],
             [
              0.2222222222222222,
              "#7201a8"
             ],
             [
              0.3333333333333333,
              "#9c179e"
             ],
             [
              0.4444444444444444,
              "#bd3786"
             ],
             [
              0.5555555555555556,
              "#d8576b"
             ],
             [
              0.6666666666666666,
              "#ed7953"
             ],
             [
              0.7777777777777778,
              "#fb9f3a"
             ],
             [
              0.8888888888888888,
              "#fdca26"
             ],
             [
              1,
              "#f0f921"
             ]
            ],
            "type": "heatmapgl"
           }
          ],
          "histogram": [
           {
            "marker": {
             "pattern": {
              "fillmode": "overlay",
              "size": 10,
              "solidity": 0.2
             }
            },
            "type": "histogram"
           }
          ],
          "histogram2d": [
           {
            "colorbar": {
             "outlinewidth": 0,
             "ticks": ""
            },
            "colorscale": [
             [
              0,
              "#0d0887"
             ],
             [
              0.1111111111111111,
              "#46039f"
             ],
             [
              0.2222222222222222,
              "#7201a8"
             ],
             [
              0.3333333333333333,
              "#9c179e"
             ],
             [
              0.4444444444444444,
              "#bd3786"
             ],
             [
              0.5555555555555556,
              "#d8576b"
             ],
             [
              0.6666666666666666,
              "#ed7953"
             ],
             [
              0.7777777777777778,
              "#fb9f3a"
             ],
             [
              0.8888888888888888,
              "#fdca26"
             ],
             [
              1,
              "#f0f921"
             ]
            ],
            "type": "histogram2d"
           }
          ],
          "histogram2dcontour": [
           {
            "colorbar": {
             "outlinewidth": 0,
             "ticks": ""
            },
            "colorscale": [
             [
              0,
              "#0d0887"
             ],
             [
              0.1111111111111111,
              "#46039f"
             ],
             [
              0.2222222222222222,
              "#7201a8"
             ],
             [
              0.3333333333333333,
              "#9c179e"
             ],
             [
              0.4444444444444444,
              "#bd3786"
             ],
             [
              0.5555555555555556,
              "#d8576b"
             ],
             [
              0.6666666666666666,
              "#ed7953"
             ],
             [
              0.7777777777777778,
              "#fb9f3a"
             ],
             [
              0.8888888888888888,
              "#fdca26"
             ],
             [
              1,
              "#f0f921"
             ]
            ],
            "type": "histogram2dcontour"
           }
          ],
          "mesh3d": [
           {
            "colorbar": {
             "outlinewidth": 0,
             "ticks": ""
            },
            "type": "mesh3d"
           }
          ],
          "parcoords": [
           {
            "line": {
             "colorbar": {
              "outlinewidth": 0,
              "ticks": ""
             }
            },
            "type": "parcoords"
           }
          ],
          "pie": [
           {
            "automargin": true,
            "type": "pie"
           }
          ],
          "scatter": [
           {
            "fillpattern": {
             "fillmode": "overlay",
             "size": 10,
             "solidity": 0.2
            },
            "type": "scatter"
           }
          ],
          "scatter3d": [
           {
            "line": {
             "colorbar": {
              "outlinewidth": 0,
              "ticks": ""
             }
            },
            "marker": {
             "colorbar": {
              "outlinewidth": 0,
              "ticks": ""
             }
            },
            "type": "scatter3d"
           }
          ],
          "scattercarpet": [
           {
            "marker": {
             "colorbar": {
              "outlinewidth": 0,
              "ticks": ""
             }
            },
            "type": "scattercarpet"
           }
          ],
          "scattergeo": [
           {
            "marker": {
             "colorbar": {
              "outlinewidth": 0,
              "ticks": ""
             }
            },
            "type": "scattergeo"
           }
          ],
          "scattergl": [
           {
            "marker": {
             "colorbar": {
              "outlinewidth": 0,
              "ticks": ""
             }
            },
            "type": "scattergl"
           }
          ],
          "scattermapbox": [
           {
            "marker": {
             "colorbar": {
              "outlinewidth": 0,
              "ticks": ""
             }
            },
            "type": "scattermapbox"
           }
          ],
          "scatterpolar": [
           {
            "marker": {
             "colorbar": {
              "outlinewidth": 0,
              "ticks": ""
             }
            },
            "type": "scatterpolar"
           }
          ],
          "scatterpolargl": [
           {
            "marker": {
             "colorbar": {
              "outlinewidth": 0,
              "ticks": ""
             }
            },
            "type": "scatterpolargl"
           }
          ],
          "scatterternary": [
           {
            "marker": {
             "colorbar": {
              "outlinewidth": 0,
              "ticks": ""
             }
            },
            "type": "scatterternary"
           }
          ],
          "surface": [
           {
            "colorbar": {
             "outlinewidth": 0,
             "ticks": ""
            },
            "colorscale": [
             [
              0,
              "#0d0887"
             ],
             [
              0.1111111111111111,
              "#46039f"
             ],
             [
              0.2222222222222222,
              "#7201a8"
             ],
             [
              0.3333333333333333,
              "#9c179e"
             ],
             [
              0.4444444444444444,
              "#bd3786"
             ],
             [
              0.5555555555555556,
              "#d8576b"
             ],
             [
              0.6666666666666666,
              "#ed7953"
             ],
             [
              0.7777777777777778,
              "#fb9f3a"
             ],
             [
              0.8888888888888888,
              "#fdca26"
             ],
             [
              1,
              "#f0f921"
             ]
            ],
            "type": "surface"
           }
          ],
          "table": [
           {
            "cells": {
             "fill": {
              "color": "#EBF0F8"
             },
             "line": {
              "color": "white"
             }
            },
            "header": {
             "fill": {
              "color": "#C8D4E3"
             },
             "line": {
              "color": "white"
             }
            },
            "type": "table"
           }
          ]
         },
         "layout": {
          "annotationdefaults": {
           "arrowcolor": "#2a3f5f",
           "arrowhead": 0,
           "arrowwidth": 1
          },
          "autotypenumbers": "strict",
          "coloraxis": {
           "colorbar": {
            "outlinewidth": 0,
            "ticks": ""
           }
          },
          "colorscale": {
           "diverging": [
            [
             0,
             "#8e0152"
            ],
            [
             0.1,
             "#c51b7d"
            ],
            [
             0.2,
             "#de77ae"
            ],
            [
             0.3,
             "#f1b6da"
            ],
            [
             0.4,
             "#fde0ef"
            ],
            [
             0.5,
             "#f7f7f7"
            ],
            [
             0.6,
             "#e6f5d0"
            ],
            [
             0.7,
             "#b8e186"
            ],
            [
             0.8,
             "#7fbc41"
            ],
            [
             0.9,
             "#4d9221"
            ],
            [
             1,
             "#276419"
            ]
           ],
           "sequential": [
            [
             0,
             "#0d0887"
            ],
            [
             0.1111111111111111,
             "#46039f"
            ],
            [
             0.2222222222222222,
             "#7201a8"
            ],
            [
             0.3333333333333333,
             "#9c179e"
            ],
            [
             0.4444444444444444,
             "#bd3786"
            ],
            [
             0.5555555555555556,
             "#d8576b"
            ],
            [
             0.6666666666666666,
             "#ed7953"
            ],
            [
             0.7777777777777778,
             "#fb9f3a"
            ],
            [
             0.8888888888888888,
             "#fdca26"
            ],
            [
             1,
             "#f0f921"
            ]
           ],
           "sequentialminus": [
            [
             0,
             "#0d0887"
            ],
            [
             0.1111111111111111,
             "#46039f"
            ],
            [
             0.2222222222222222,
             "#7201a8"
            ],
            [
             0.3333333333333333,
             "#9c179e"
            ],
            [
             0.4444444444444444,
             "#bd3786"
            ],
            [
             0.5555555555555556,
             "#d8576b"
            ],
            [
             0.6666666666666666,
             "#ed7953"
            ],
            [
             0.7777777777777778,
             "#fb9f3a"
            ],
            [
             0.8888888888888888,
             "#fdca26"
            ],
            [
             1,
             "#f0f921"
            ]
           ]
          },
          "colorway": [
           "#636efa",
           "#EF553B",
           "#00cc96",
           "#ab63fa",
           "#FFA15A",
           "#19d3f3",
           "#FF6692",
           "#B6E880",
           "#FF97FF",
           "#FECB52"
          ],
          "font": {
           "color": "#2a3f5f"
          },
          "geo": {
           "bgcolor": "white",
           "lakecolor": "white",
           "landcolor": "white",
           "showlakes": true,
           "showland": true,
           "subunitcolor": "#C8D4E3"
          },
          "hoverlabel": {
           "align": "left"
          },
          "hovermode": "closest",
          "mapbox": {
           "style": "light"
          },
          "paper_bgcolor": "white",
          "plot_bgcolor": "white",
          "polar": {
           "angularaxis": {
            "gridcolor": "#EBF0F8",
            "linecolor": "#EBF0F8",
            "ticks": ""
           },
           "bgcolor": "white",
           "radialaxis": {
            "gridcolor": "#EBF0F8",
            "linecolor": "#EBF0F8",
            "ticks": ""
           }
          },
          "scene": {
           "xaxis": {
            "backgroundcolor": "white",
            "gridcolor": "#DFE8F3",
            "gridwidth": 2,
            "linecolor": "#EBF0F8",
            "showbackground": true,
            "ticks": "",
            "zerolinecolor": "#EBF0F8"
           },
           "yaxis": {
            "backgroundcolor": "white",
            "gridcolor": "#DFE8F3",
            "gridwidth": 2,
            "linecolor": "#EBF0F8",
            "showbackground": true,
            "ticks": "",
            "zerolinecolor": "#EBF0F8"
           },
           "zaxis": {
            "backgroundcolor": "white",
            "gridcolor": "#DFE8F3",
            "gridwidth": 2,
            "linecolor": "#EBF0F8",
            "showbackground": true,
            "ticks": "",
            "zerolinecolor": "#EBF0F8"
           }
          },
          "shapedefaults": {
           "line": {
            "color": "#2a3f5f"
           }
          },
          "ternary": {
           "aaxis": {
            "gridcolor": "#DFE8F3",
            "linecolor": "#A2B1C6",
            "ticks": ""
           },
           "baxis": {
            "gridcolor": "#DFE8F3",
            "linecolor": "#A2B1C6",
            "ticks": ""
           },
           "bgcolor": "white",
           "caxis": {
            "gridcolor": "#DFE8F3",
            "linecolor": "#A2B1C6",
            "ticks": ""
           }
          },
          "title": {
           "x": 0.05
          },
          "xaxis": {
           "automargin": true,
           "gridcolor": "#EBF0F8",
           "linecolor": "#EBF0F8",
           "ticks": "",
           "title": {
            "standoff": 15
           },
           "zerolinecolor": "#EBF0F8",
           "zerolinewidth": 2
          },
          "yaxis": {
           "automargin": true,
           "gridcolor": "#EBF0F8",
           "linecolor": "#EBF0F8",
           "ticks": "",
           "title": {
            "standoff": 15
           },
           "zerolinecolor": "#EBF0F8",
           "zerolinewidth": 2
          }
         }
        },
        "title": {
         "text": "Pérdida durante el entrenamiento y validación (Modelo 1)"
        },
        "xaxis": {
         "title": {
          "text": "Epochs"
         }
        },
        "yaxis": {
         "title": {
          "text": "Loss"
         }
        }
       }
      }
     },
     "metadata": {},
     "output_type": "display_data"
    },
    {
     "name": "stdout",
     "output_type": "stream",
     "text": [
      "\u001b[1m16/16\u001b[0m \u001b[32m━━━━━━━━━━━━━━━━━━━━\u001b[0m\u001b[37m\u001b[0m \u001b[1m0s\u001b[0m 2ms/step - loss: 0.0019 \n",
      "Pierda en el conjunto de teste: 0.001819880330003798\n",
      "\u001b[1m16/16\u001b[0m \u001b[32m━━━━━━━━━━━━━━━━━━━━\u001b[0m\u001b[37m\u001b[0m \u001b[1m0s\u001b[0m 5ms/step\n"
     ]
    },
    {
     "data": {
      "application/vnd.plotly.v1+json": {
       "config": {
        "plotlyServerURL": "https://plot.ly"
       },
       "data": [
        {
         "hovertemplate": "Valores Reales=%{x}<br>Predicciones=%{y}<extra></extra>",
         "legendgroup": "",
         "marker": {
          "color": "#636efa",
          "symbol": "circle"
         },
         "mode": "markers",
         "name": "",
         "orientation": "v",
         "showlegend": false,
         "type": "scatter",
         "x": [
          0.21658986175115208,
          0.1912442396313364,
          0.09216589861751151,
          0.12442396313364054,
          0.23732718894009214,
          0.1889400921658986,
          0.10138248847926268,
          0.22811059907834103,
          0.11981566820276496,
          0.052995391705069124,
          0.06682027649769584,
          0.23963133640552997,
          0.14746543778801843,
          0.3617511520737327,
          0.3087557603686636,
          0.07834101382488479,
          0.04377880184331797,
          0.020737327188940093,
          0.347926267281106,
          0.08755760368663595,
          0.2626728110599078,
          0.12442396313364054,
          0.13824884792626727,
          0.009216589861751154,
          0.023041474654377878,
          0.08986175115207373,
          0.05069124423963133,
          0.04608294930875576,
          0.004608294930875577,
          0.2626728110599078,
          0.22119815668202764,
          0.027649769585253454,
          0.2626728110599078,
          0.2073732718894009,
          0.07834101382488479,
          0.23502304147465436,
          0.1912442396313364,
          0.20506912442396313,
          0.20506912442396313,
          0.16359447004608293,
          0.03225806451612904,
          0.11059907834101382,
          0.0184331797235023,
          0.12211981566820276,
          0.048387096774193554,
          0.1129032258064516,
          0.10138248847926268,
          0.1497695852534562,
          0.08294930875576037,
          0.055299539170506916,
          0.027649769585253454,
          0.034562211981566816,
          0.08986175115207373,
          0.059907834101382486,
          0.1935483870967742,
          0.24193548387096775,
          0.04147465437788018,
          0.016129032258064516,
          0.3433179723502304,
          0.06221198156682028,
          0.22811059907834103,
          0.25115207373271886,
          0.19815668202764977,
          0.12903225806451613,
          0.1935483870967742,
          0.2995391705069124,
          0.052995391705069124,
          0.1728110599078341,
          0.2119815668202765,
          0.4608294930875576,
          0.10138248847926268,
          0.20046082949308755,
          0.19585253456221197,
          0.10138248847926268,
          0.12211981566820276,
          0.09907834101382487,
          0.016129032258064516,
          0.33410138248847926,
          0.152073732718894,
          0.41935483870967744,
          0.21658986175115208,
          0.03225806451612904,
          0.05069124423963133,
          0.07834101382488479,
          0.03225806451612904,
          0.10829493087557604,
          0.23963133640552997,
          0.3087557603686636,
          0.06221198156682028,
          0.22811059907834103,
          0.271889400921659,
          0.3294930875576037,
          0.016129032258064516,
          0.15898617511520738,
          0.0391705069124424,
          0.07834101382488479,
          0.08294930875576037,
          0.22811059907834103,
          0.1912442396313364,
          0.034562211981566816,
          0.12442396313364054,
          0.08755760368663595,
          0.023041474654377878,
          0.08986175115207373,
          0.14746543778801843,
          0.07603686635944701,
          0.06682027649769584,
          0.07834101382488479,
          0.1705069124423963,
          0.06682027649769584,
          0.0737327188940092,
          0.009216589861751154,
          0.055299539170506916,
          0.12672811059907835,
          0.18433179723502302,
          0.04608294930875576,
          0.1705069124423963,
          0.2926267281105991,
          0.19815668202764977,
          0.1705069124423963,
          0.04377880184331797,
          0.25115207373271886,
          0.1912442396313364,
          0.055299539170506916,
          0.009216589861751154,
          0.02534562211981567,
          0.15668202764976957,
          0.07834101382488479,
          0.18433179723502302,
          0.016129032258064516,
          0.24423963133640553,
          0.3617511520737327,
          0.2857142857142857,
          0.1935483870967742,
          0.05069124423963133,
          0.21658986175115208,
          0.057603686635944694,
          0.05069124423963133,
          0.23963133640552997,
          0.0391705069124424,
          0.059907834101382486,
          0.24884792626728108,
          0.08986175115207373,
          0.07834101382488479,
          0.3387096774193548,
          0.10599078341013823,
          0.03686635944700461,
          0.07834101382488479,
          0.055299539170506916,
          0.2626728110599078,
          0.21658986175115208,
          0.2119815668202765,
          0.11981566820276496,
          0.03225806451612904,
          0.18663594470046083,
          0.21889400921658986,
          0.15898617511520738,
          0.25806451612903225,
          0.25806451612903225,
          0.048387096774193554,
          0.1129032258064516,
          0.048387096774193554,
          0.16359447004608293,
          0.05069124423963133,
          0.10138248847926268,
          0.07834101382488479,
          0.08294930875576037,
          0.2857142857142857,
          0.2880184331797235,
          0.21658986175115208,
          0.0967741935483871,
          0.15898617511520738,
          0.04608294930875576,
          0.08755760368663595,
          0.1336405529953917,
          0.03686635944700461,
          0.1912442396313364,
          0.24423963133640553,
          0.23963133640552997,
          0.1543778801843318,
          0.04377880184331797,
          0.0737327188940092,
          0.20276497695852533,
          0.07834101382488479,
          0.057603686635944694,
          0.0184331797235023,
          0.08294930875576037,
          0.23732718894009214,
          0.4009216589861751,
          0.14516129032258063,
          0.055299539170506916,
          0.15898617511520738,
          0.21658986175115208,
          0.23963133640552997,
          0.10138248847926268,
          0.057603686635944694,
          0.15668202764976957,
          0.09447004608294929,
          0.2534562211981567,
          0.20046082949308755,
          0.06682027649769584,
          0.0737327188940092,
          0.0737327188940092,
          0.055299539170506916,
          0.03686635944700461,
          0.25806451612903225,
          0.04608294930875576,
          0.3456221198156682,
          0.1728110599078341,
          0.2626728110599078,
          0.18202764976958524,
          0.02534562211981567,
          0.24193548387096775,
          0.016129032258064516,
          0.1313364055299539,
          0.24193548387096775,
          0.04608294930875576,
          0.08755760368663595,
          0.3225806451612903,
          0.2834101382488479,
          0.18202764976958524,
          0.07834101382488479,
          0.22811059907834103,
          0.2235023041474654,
          0.07834101382488479,
          0.2119815668202765,
          0.1935483870967742,
          0.3064516129032258,
          0.43317972350230416,
          0.055299539170506916,
          0.2258064516129032,
          0.35023041474654376,
          0.3087557603686636,
          0.1705069124423963,
          0.152073732718894,
          0.1129032258064516,
          0.1889400921658986,
          0.3225806451612903,
          0.04608294930875576,
          0.17972350230414746,
          0.04377880184331797,
          0.20276497695852533,
          0.24193548387096775,
          0.05069124423963133,
          0.1129032258064516,
          -0.03686635944700461,
          0.12211981566820276,
          0.26036866359447003,
          0.15898617511520738,
          0.057603686635944694,
          0.11981566820276496,
          0.07142857142857142,
          0.04377880184331797,
          0.14746543778801843,
          0.04608294930875576,
          0.1912442396313364,
          0.19815668202764977,
          0.05069124423963133,
          0.059907834101382486,
          0.4009216589861751,
          0.05069124423963133,
          0.3387096774193548,
          0.059907834101382486,
          0.25115207373271886,
          0.24423963133640553,
          0.023041474654377878,
          0.06682027649769584,
          0.03686635944700461,
          0.1912442396313364,
          0.1336405529953917,
          0.03225806451612904,
          0.06221198156682028,
          0.19815668202764977,
          0.3548387096774194,
          0.15668202764976957,
          0.08294930875576037,
          0.06451612903225806,
          0.06682027649769584,
          0.06682027649769584,
          0.06451612903225806,
          0.14516129032258063,
          0.1935483870967742,
          0.10138248847926268,
          0.24423963133640553,
          0.22119815668202764,
          0.17511520737327188,
          0.22119815668202764,
          0.06912442396313365,
          0.23732718894009214,
          0.23963133640552997,
          0.07834101382488479,
          0.2235023041474654,
          0.027649769585253454,
          0.16589861751152074,
          0.18433179723502302,
          0.01382488479262673,
          0.20276497695852533,
          0.16589861751152074,
          0.07834101382488479,
          0.04377880184331797,
          0.11059907834101382,
          0.1705069124423963,
          0.2857142857142857,
          0.09216589861751151,
          0.07603686635944701,
          0.25115207373271886,
          0.059907834101382486,
          0.17972350230414746,
          0.08294930875576037,
          0.03225806451612904,
          0.25115207373271886,
          0.06682027649769584,
          0.055299539170506916,
          0.08294930875576037,
          0.04377880184331797,
          0.04147465437788018,
          0.09447004608294929,
          0.21889400921658986,
          0.009216589861751154,
          0.18433179723502302,
          0.21658986175115208,
          0.1912442396313364,
          0.07142857142857142,
          0.06451612903225806,
          0.03686635944700461,
          0.04608294930875576,
          0.17741935483870966,
          0.04377880184331797,
          0.1889400921658986,
          0.18663594470046083,
          0.20046082949308755,
          0.2096774193548387,
          0.10138248847926268,
          0.04608294930875576,
          0.5046082949308757,
          0.11751152073732718,
          0.057603686635944694,
          0.1543778801843318,
          0.016129032258064516,
          0.08294930875576037,
          0.11059907834101382,
          0.2119815668202765,
          0.2995391705069124,
          0.1705069124423963,
          0.10138248847926268,
          0.16359447004608293,
          0.07603686635944701,
          0.07142857142857142,
          0.41244239631336405,
          0.08986175115207373,
          0.08755760368663595,
          0.11751152073732718,
          0.21658986175115208,
          0.055299539170506916,
          0.06682027649769584,
          0.07834101382488479,
          0.3064516129032258,
          0.02534562211981567,
          0.12442396313364054,
          0.1336405529953917,
          0.23732718894009214,
          0.04377880184331797,
          0.02534562211981567,
          0.07142857142857142,
          0.052995391705069124,
          0.07603686635944701,
          0.1705069124423963,
          0.023041474654377878,
          0.0737327188940092,
          0.029953917050691246,
          0.17511520737327188,
          0.27419354838709675,
          0.048387096774193554,
          0.07834101382488479,
          0.3433179723502304,
          0.15898617511520738,
          0.4170506912442396,
          0.08986175115207373,
          0.24423963133640553,
          0.3018433179723502,
          0.006912442396313362,
          0.20046082949308755,
          0.27649769585253453,
          0.27649769585253453,
          0.1336405529953917,
          0.1152073732718894,
          0.08294930875576037,
          0.23963133640552997,
          0.04147465437788018,
          0.32027649769585254,
          0.11981566820276496,
          0.18202764976958524,
          0.16129032258064516,
          0.16359447004608293,
          0.02534562211981567,
          0.2073732718894009,
          0.07142857142857142,
          0.17741935483870966,
          0.1705069124423963,
          0.16359447004608293,
          0.07142857142857142,
          0.034562211981566816,
          0.07603686635944701,
          0.2142857142857143,
          0.1705069124423963,
          0.12442396313364054,
          0.055299539170506916,
          0.0391705069124424,
          0.21658986175115208,
          0.048387096774193554,
          0.07834101382488479,
          0.07834101382488479,
          0.09216589861751151,
          0.06912442396313365,
          0.26036866359447003,
          0.055299539170506916,
          0.07834101382488479,
          0.04377880184331797,
          0.22811059907834103,
          0.10829493087557604,
          0.18202764976958524,
          0.0391705069124424,
          0.08294930875576037,
          0.25806451612903225,
          0.016129032258064516,
          0.06682027649769584,
          0.06682027649769584,
          0.07142857142857142,
          0.1359447004608295,
          0.07142857142857142,
          0.12442396313364054,
          0.08986175115207373,
          0.4400921658986175,
          0.04377880184331797,
          0.10829493087557604,
          0.22811059907834103,
          0.2857142857142857,
          0.2258064516129032,
          0.1705069124423963,
          0.07834101382488479,
          0.1728110599078341,
          0.059907834101382486,
          0.06682027649769584,
          0.14285714285714285,
          0.10368663594470046,
          0.14285714285714285,
          0.055299539170506916,
          0.059907834101382486,
          0.055299539170506916,
          0.1935483870967742,
          0.1935483870967742,
          0.1935483870967742,
          0.3686635944700461,
          0.08064516129032259,
          0.06682027649769584,
          0.1705069124423963,
          0.05069124423963133,
          0.19585253456221197,
          0.22119815668202764,
          0.12442396313364054,
          0.3410138248847926,
          0.1152073732718894,
          0.19815668202764977,
          0.1129032258064516,
          0.04377880184331797,
          0.18663594470046083,
          0.12442396313364054,
          0.1497695852534562,
          0.1935483870967742,
          0.10138248847926268,
          0.01382488479262673,
          0.25115207373271886,
          0.0391705069124424,
          0.22811059907834103,
          0.19815668202764977,
          0.07834101382488479,
          0.1129032258064516,
          0.271889400921659,
          0.152073732718894,
          0.06221198156682028,
          0.0391705069124424,
          0.08986175115207373,
          0.0737327188940092,
          0.2626728110599078,
          0.11059907834101382,
          0.14746543778801843,
          0.0391705069124424,
          0.3456221198156682,
          0.1543778801843318,
          0.10138248847926268,
          0.12442396313364054,
          0.25115207373271886,
          0.1336405529953917,
          0.2995391705069124,
          0.41244239631336405,
          0.04147465437788018,
          0.02534562211981567,
          0.07834101382488479,
          0.10138248847926268,
          0.16129032258064516
         ],
         "xaxis": "x",
         "y": [
          0.13855764269828796,
          0.2156050205230713,
          0.13094794750213623,
          0.18188953399658203,
          0.2385755181312561,
          0.19947099685668945,
          0.11636839807033539,
          0.24637043476104736,
          0.12201279401779175,
          0.06802710890769958,
          0.060491226613521576,
          0.2588086426258087,
          0.21172606945037842,
          0.28851252794265747,
          0.29664668440818787,
          0.06469227373600006,
          0.03558732196688652,
          0.033225979655981064,
          0.2659594416618347,
          0.09217116236686707,
          0.20131909847259521,
          0.1428431272506714,
          0.1283522993326187,
          0.019691839814186096,
          0.019289657473564148,
          0.09649531543254852,
          0.04818229004740715,
          0.05869143828749657,
          0.008446324616670609,
          0.20131909847259521,
          0.20717138051986694,
          0.04123162850737572,
          0.18498694896697998,
          0.19984954595565796,
          0.09905575215816498,
          0.24454298615455627,
          0.16038912534713745,
          0.19187986850738525,
          0.23693859577178955,
          0.18816906213760376,
          0.035963065922260284,
          0.05608729273080826,
          0.01565840281546116,
          0.11839088797569275,
          0.04374969005584717,
          0.12758132815361023,
          0.09025932848453522,
          0.15505492687225342,
          0.07285606116056442,
          0.06779761612415314,
          0.023949474096298218,
          0.059671878814697266,
          0.07530709356069565,
          0.07059352099895477,
          0.19193512201309204,
          0.17939651012420654,
          0.06123701483011246,
          0.02977907657623291,
          0.3568251430988312,
          0.04575861245393753,
          0.22361326217651367,
          0.25128310918807983,
          0.1898207664489746,
          0.13382014632225037,
          0.19299742579460144,
          0.21286934614181519,
          0.08515720069408417,
          0.19364917278289795,
          0.17462515830993652,
          0.3774054944515228,
          0.13446220755577087,
          0.23526594042778015,
          0.19723990559577942,
          0.13446220755577087,
          0.33487462997436523,
          0.10750135779380798,
          0.035208676010370255,
          0.31588441133499146,
          0.17302417755126953,
          0.08643653988838196,
          0.23899057507514954,
          0.04625846818089485,
          0.056695953011512756,
          0.08052229881286621,
          0.06629674136638641,
          0.12024353444576263,
          0.18148007988929749,
          0.31859803199768066,
          0.055341921746730804,
          0.19164666533470154,
          0.3107520043849945,
          0.3507364094257355,
          0.05673779547214508,
          0.15635159611701965,
          0.03061106987297535,
          0.08099213242530823,
          0.11341806501150131,
          0.22897234559059143,
          0.21143758296966553,
          0.04564126580953598,
          0.1428431272506714,
          0.08765426278114319,
          0.019289657473564148,
          0.07651639729738235,
          0.095017209649086,
          0.07701604068279266,
          0.07210355997085571,
          0.08052229881286621,
          0.26365286111831665,
          0.07210355997085571,
          0.07084102928638458,
          0.03873611241579056,
          0.06183042377233505,
          0.11522728949785233,
          0.22134342789649963,
          0.04051928222179413,
          0.18392261862754822,
          0.28425806760787964,
          0.17979520559310913,
          0.18880802392959595,
          0.0419824942946434,
          0.25585484504699707,
          0.2156050205230713,
          0.06779761612415314,
          0.029285352677106857,
          0.056303720921278,
          0.17252159118652344,
          0.06644462049007416,
          0.26619619131088257,
          0.02074403315782547,
          0.2554989457130432,
          0.28851252794265747,
          0.2014036774635315,
          0.1880156695842743,
          0.09022656083106995,
          0.21437767148017883,
          0.054103486239910126,
          0.06827699393033981,
          0.2767055034637451,
          0.030611027032136917,
          0.09640129655599594,
          0.25202885270118713,
          0.09578942507505417,
          0.05370011180639267,
          0.27987363934516907,
          0.10351613909006119,
          0.04296765476465225,
          0.07166127860546112,
          0.06373614072799683,
          0.3028966188430786,
          0.2740103006362915,
          0.19674447178840637,
          0.03167606145143509,
          0.08313539624214172,
          0.20769956707954407,
          0.21832367777824402,
          0.1663053035736084,
          0.41737687587738037,
          0.250774621963501,
          0.05786524713039398,
          0.12758132815361023,
          0.04374969005584717,
          0.17565739154815674,
          0.050393201410770416,
          0.09348450601100922,
          0.04380658268928528,
          0.09294570982456207,
          0.32381534576416016,
          0.26657694578170776,
          0.21701380610466003,
          0.09975048154592514,
          0.07987852394580841,
          0.052751924842596054,
          0.1057402566075325,
          0.17738786339759827,
          0.04581022262573242,
          0.20411169528961182,
          0.1605648696422577,
          0.2478538155555725,
          0.1527375876903534,
          0.07232284545898438,
          0.07191532850265503,
          0.1589747965335846,
          0.07284171134233475,
          0.0629422664642334,
          0.05352839082479477,
          0.09417799860239029,
          0.22861206531524658,
          0.37114766240119934,
          0.20364606380462646,
          0.04924355819821358,
          0.1135791540145874,
          0.2740103006362915,
          0.22823989391326904,
          0.09787625819444656,
          0.055520035326480865,
          0.1938878297805786,
          0.06935912370681763,
          0.1913887858390808,
          0.215315580368042,
          0.06355683505535126,
          0.06115582957863808,
          0.1002018079161644,
          0.24552425742149353,
          0.04391776770353317,
          0.25077471137046814,
          0.039771173149347305,
          0.2920358180999756,
          0.18439710140228271,
          0.2600077986717224,
          0.1693943738937378,
          0.03091859258711338,
          0.2204986810684204,
          0.05673779547214508,
          0.24784111976623535,
          0.2747940421104431,
          0.05803711712360382,
          0.09935901314020157,
          0.3366270363330841,
          0.2872156500816345,
          0.19155189394950867,
          0.06555503606796265,
          0.24174213409423828,
          0.2326427400112152,
          0.0637323260307312,
          0.17462515830993652,
          0.25084611773490906,
          0.19472968578338623,
          0.31411468982696533,
          0.05017295107245445,
          0.1678752899169922,
          0.3533806800842285,
          0.2824302613735199,
          0.1612021028995514,
          0.1824394166469574,
          0.12134530395269394,
          0.20886388421058655,
          0.2643909156322479,
          0.05330318212509155,
          0.2075253129005432,
          0.05400821566581726,
          0.23159241676330566,
          0.22307881712913513,
          0.047455932945013046,
          0.08492930233478546,
          0.1010960191488266,
          0.11839088797569275,
          0.22025948762893677,
          0.22706210613250732,
          0.07571551203727722,
          0.03167606145143509,
          0.06451930850744247,
          0.05400821566581726,
          0.14247016608715057,
          0.027615660801529884,
          0.24784231185913086,
          0.22491329908370972,
          0.047455932945013046,
          0.08629482984542847,
          0.32899010181427,
          0.06158527359366417,
          0.2541503608226776,
          0.07059352099895477,
          0.21919849514961243,
          0.1196424588561058,
          0.021161168813705444,
          0.06962525844573975,
          0.07156266272068024,
          0.1289767026901245,
          0.15104295313358307,
          0.08313539624214172,
          0.01109052449464798,
          0.293427437543869,
          0.3266950249671936,
          0.16298747062683105,
          0.06107658892869949,
          0.08572334051132202,
          0.08111639320850372,
          0.06683763861656189,
          0.059118494391441345,
          0.1355215460062027,
          0.2623134255409241,
          0.09787625819444656,
          0.11092207580804825,
          0.239190012216568,
          0.19070389866828918,
          0.18403446674346924,
          0.07340539246797562,
          0.2510565519332886,
          0.2044258415699005,
          0.05297132581472397,
          0.22858726978302002,
          0.04123162478208542,
          0.20607396960258484,
          0.18727582693099976,
          0.018340256065130234,
          0.2581050992012024,
          0.20607396960258484,
          0.04376164823770523,
          0.0419824942946434,
          0.14857879281044006,
          0.11674096435308456,
          0.23595240712165833,
          0.08012625575065613,
          0.06759987026453018,
          0.25585484504699707,
          0.09199395775794983,
          0.2245188057422638,
          0.061508797109127045,
          0.0740603432059288,
          0.29373669624328613,
          0.07882721722126007,
          0.06373614072799683,
          0.06107658892869949,
          0.07139818370342255,
          0.06102338805794716,
          0.09092322736978531,
          0.2170010507106781,
          0.019691843539476395,
          0.20783832669258118,
          0.22258958220481873,
          0.19618189334869385,
          0.058595262467861176,
          0.07418066263198853,
          0.039701927453279495,
          0.06971964240074158,
          0.20998364686965942,
          0.0433875173330307,
          0.2003980278968811,
          0.18677261471748352,
          0.2099842131137848,
          0.21443277597427368,
          0.11407365649938583,
          0.06039778143167496,
          0.3289746642112732,
          0.140779048204422,
          0.07571551203727722,
          0.2337227761745453,
          0.020063281059265137,
          0.08101936429738998,
          0.09827888756990433,
          0.17462515830993652,
          0.3083042800426483,
          0.1882065236568451,
          0.26509085297584534,
          0.2262062430381775,
          0.06939323991537094,
          0.06451930850744247,
          0.2710568904876709,
          0.07388515770435333,
          0.09296752512454987,
          0.10767848044633865,
          0.20360451936721802,
          0.05146273970603943,
          0.1021236777305603,
          0.07871629297733307,
          0.20021718740463257,
          0.018662473186850548,
          0.1428431272506714,
          0.15382781624794006,
          0.17025360465049744,
          0.027264762669801712,
          0.03597141429781914,
          0.06451930850744247,
          0.07149472087621689,
          0.06759987026453018,
          0.1882065236568451,
          0.021161168813705444,
          0.06882017850875854,
          0.03959919884800911,
          0.17644193768501282,
          0.19118043780326843,
          0.06403659284114838,
          0.03664567321538925,
          0.28082701563835144,
          0.17195582389831543,
          0.4208028316497803,
          0.05530766397714615,
          0.23918944597244263,
          0.25469520688056946,
          0.008446324616670609,
          0.22360512614250183,
          0.2196662425994873,
          0.28304237127304077,
          0.17738786339759827,
          0.11605492234230042,
          0.060486502945423126,
          0.3070646822452545,
          0.09414757788181305,
          0.1934000551700592,
          0.03167606145143509,
          0.1670234203338623,
          0.14676320552825928,
          0.09396194666624069,
          0.03091859258711338,
          0.2270326316356659,
          0.06796189397573471,
          0.16368550062179565,
          0.18217289447784424,
          0.17565739154815674,
          0.05246151238679886,
          0.03268451243638992,
          0.07701604068279266,
          0.22781333327293396,
          0.15694567561149597,
          0.08315400779247284,
          0.04924355819821358,
          0.04857991635799408,
          0.19687536358833313,
          0.051333677023649216,
          0.08682036399841309,
          0.08682036399841309,
          0.06873636692762375,
          0.07340537011623383,
          0.2349277138710022,
          0.05513092875480652,
          0.07049901783466339,
          0.04986995458602905,
          0.22897234559059143,
          0.09036190807819366,
          0.2360190749168396,
          0.05137040466070175,
          0.07967567443847656,
          0.251815527677536,
          0.05673779547214508,
          0.08476081490516663,
          0.08274079859256744,
          0.08942383527755737,
          0.08327524363994598,
          0.024221891537308693,
          0.14589592814445496,
          0.0497102364897728,
          0.3682468831539154,
          0.07232284545898438,
          0.12024353444576263,
          0.22897234559059143,
          0.23595240712165833,
          0.24500927329063416,
          0.15969517827033997,
          0.0609997920691967,
          0.1703321635723114,
          0.028834756463766098,
          0.0615539625287056,
          0.15584000945091248,
          0.10186468809843063,
          0.12562787532806396,
          0.07268763333559036,
          0.07392780482769012,
          0.08194597065448761,
          0.195477694272995,
          0.25084611773490906,
          0.2272762656211853,
          0.24559369683265686,
          0.05955345183610916,
          0.060491226613521576,
          0.17102405428886414,
          0.062324680387973785,
          0.19538328051567078,
          0.2187437117099762,
          0.07115302234888077,
          0.35521838068962097,
          0.1363719403743744,
          0.1059175655245781,
          0.05640963092446327,
          0.033040206879377365,
          0.1797654926776886,
          0.12985053658485413,
          0.14556661248207092,
          0.19502156972885132,
          0.07022213935852051,
          0.018340256065130234,
          0.22569572925567627,
          0.05580101162195206,
          0.22897234559059143,
          0.18172258138656616,
          0.07049901783466339,
          0.08162611722946167,
          0.20516368746757507,
          0.17302420735359192,
          0.05534195899963379,
          0.03538357838988304,
          0.06401017308235168,
          0.06882017850875854,
          0.3239607810974121,
          0.09827888756990433,
          0.11575035005807877,
          0.030611027032136917,
          0.31204330921173096,
          0.2337227761745453,
          0.16827356815338135,
          0.06423220783472061,
          0.23543626070022583,
          0.24253153800964355,
          0.3083042800426483,
          0.3185412585735321,
          0.04732226952910423,
          0.03091859258711338,
          0.07683844864368439,
          0.0902593582868576,
          0.22840547561645508
         ],
         "yaxis": "y"
        }
       ],
       "layout": {
        "legend": {
         "tracegroupgap": 0
        },
        "shapes": [
         {
          "line": {
           "color": "red",
           "dash": "dot"
          },
          "type": "line",
          "x0": -0.03686635944700461,
          "x1": 0.5046082949308757,
          "y0": -0.03686635944700461,
          "y1": 0.5046082949308757
         }
        ],
        "template": {
         "data": {
          "bar": [
           {
            "error_x": {
             "color": "#2a3f5f"
            },
            "error_y": {
             "color": "#2a3f5f"
            },
            "marker": {
             "line": {
              "color": "white",
              "width": 0.5
             },
             "pattern": {
              "fillmode": "overlay",
              "size": 10,
              "solidity": 0.2
             }
            },
            "type": "bar"
           }
          ],
          "barpolar": [
           {
            "marker": {
             "line": {
              "color": "white",
              "width": 0.5
             },
             "pattern": {
              "fillmode": "overlay",
              "size": 10,
              "solidity": 0.2
             }
            },
            "type": "barpolar"
           }
          ],
          "carpet": [
           {
            "aaxis": {
             "endlinecolor": "#2a3f5f",
             "gridcolor": "#C8D4E3",
             "linecolor": "#C8D4E3",
             "minorgridcolor": "#C8D4E3",
             "startlinecolor": "#2a3f5f"
            },
            "baxis": {
             "endlinecolor": "#2a3f5f",
             "gridcolor": "#C8D4E3",
             "linecolor": "#C8D4E3",
             "minorgridcolor": "#C8D4E3",
             "startlinecolor": "#2a3f5f"
            },
            "type": "carpet"
           }
          ],
          "choropleth": [
           {
            "colorbar": {
             "outlinewidth": 0,
             "ticks": ""
            },
            "type": "choropleth"
           }
          ],
          "contour": [
           {
            "colorbar": {
             "outlinewidth": 0,
             "ticks": ""
            },
            "colorscale": [
             [
              0,
              "#0d0887"
             ],
             [
              0.1111111111111111,
              "#46039f"
             ],
             [
              0.2222222222222222,
              "#7201a8"
             ],
             [
              0.3333333333333333,
              "#9c179e"
             ],
             [
              0.4444444444444444,
              "#bd3786"
             ],
             [
              0.5555555555555556,
              "#d8576b"
             ],
             [
              0.6666666666666666,
              "#ed7953"
             ],
             [
              0.7777777777777778,
              "#fb9f3a"
             ],
             [
              0.8888888888888888,
              "#fdca26"
             ],
             [
              1,
              "#f0f921"
             ]
            ],
            "type": "contour"
           }
          ],
          "contourcarpet": [
           {
            "colorbar": {
             "outlinewidth": 0,
             "ticks": ""
            },
            "type": "contourcarpet"
           }
          ],
          "heatmap": [
           {
            "colorbar": {
             "outlinewidth": 0,
             "ticks": ""
            },
            "colorscale": [
             [
              0,
              "#0d0887"
             ],
             [
              0.1111111111111111,
              "#46039f"
             ],
             [
              0.2222222222222222,
              "#7201a8"
             ],
             [
              0.3333333333333333,
              "#9c179e"
             ],
             [
              0.4444444444444444,
              "#bd3786"
             ],
             [
              0.5555555555555556,
              "#d8576b"
             ],
             [
              0.6666666666666666,
              "#ed7953"
             ],
             [
              0.7777777777777778,
              "#fb9f3a"
             ],
             [
              0.8888888888888888,
              "#fdca26"
             ],
             [
              1,
              "#f0f921"
             ]
            ],
            "type": "heatmap"
           }
          ],
          "heatmapgl": [
           {
            "colorbar": {
             "outlinewidth": 0,
             "ticks": ""
            },
            "colorscale": [
             [
              0,
              "#0d0887"
             ],
             [
              0.1111111111111111,
              "#46039f"
             ],
             [
              0.2222222222222222,
              "#7201a8"
             ],
             [
              0.3333333333333333,
              "#9c179e"
             ],
             [
              0.4444444444444444,
              "#bd3786"
             ],
             [
              0.5555555555555556,
              "#d8576b"
             ],
             [
              0.6666666666666666,
              "#ed7953"
             ],
             [
              0.7777777777777778,
              "#fb9f3a"
             ],
             [
              0.8888888888888888,
              "#fdca26"
             ],
             [
              1,
              "#f0f921"
             ]
            ],
            "type": "heatmapgl"
           }
          ],
          "histogram": [
           {
            "marker": {
             "pattern": {
              "fillmode": "overlay",
              "size": 10,
              "solidity": 0.2
             }
            },
            "type": "histogram"
           }
          ],
          "histogram2d": [
           {
            "colorbar": {
             "outlinewidth": 0,
             "ticks": ""
            },
            "colorscale": [
             [
              0,
              "#0d0887"
             ],
             [
              0.1111111111111111,
              "#46039f"
             ],
             [
              0.2222222222222222,
              "#7201a8"
             ],
             [
              0.3333333333333333,
              "#9c179e"
             ],
             [
              0.4444444444444444,
              "#bd3786"
             ],
             [
              0.5555555555555556,
              "#d8576b"
             ],
             [
              0.6666666666666666,
              "#ed7953"
             ],
             [
              0.7777777777777778,
              "#fb9f3a"
             ],
             [
              0.8888888888888888,
              "#fdca26"
             ],
             [
              1,
              "#f0f921"
             ]
            ],
            "type": "histogram2d"
           }
          ],
          "histogram2dcontour": [
           {
            "colorbar": {
             "outlinewidth": 0,
             "ticks": ""
            },
            "colorscale": [
             [
              0,
              "#0d0887"
             ],
             [
              0.1111111111111111,
              "#46039f"
             ],
             [
              0.2222222222222222,
              "#7201a8"
             ],
             [
              0.3333333333333333,
              "#9c179e"
             ],
             [
              0.4444444444444444,
              "#bd3786"
             ],
             [
              0.5555555555555556,
              "#d8576b"
             ],
             [
              0.6666666666666666,
              "#ed7953"
             ],
             [
              0.7777777777777778,
              "#fb9f3a"
             ],
             [
              0.8888888888888888,
              "#fdca26"
             ],
             [
              1,
              "#f0f921"
             ]
            ],
            "type": "histogram2dcontour"
           }
          ],
          "mesh3d": [
           {
            "colorbar": {
             "outlinewidth": 0,
             "ticks": ""
            },
            "type": "mesh3d"
           }
          ],
          "parcoords": [
           {
            "line": {
             "colorbar": {
              "outlinewidth": 0,
              "ticks": ""
             }
            },
            "type": "parcoords"
           }
          ],
          "pie": [
           {
            "automargin": true,
            "type": "pie"
           }
          ],
          "scatter": [
           {
            "fillpattern": {
             "fillmode": "overlay",
             "size": 10,
             "solidity": 0.2
            },
            "type": "scatter"
           }
          ],
          "scatter3d": [
           {
            "line": {
             "colorbar": {
              "outlinewidth": 0,
              "ticks": ""
             }
            },
            "marker": {
             "colorbar": {
              "outlinewidth": 0,
              "ticks": ""
             }
            },
            "type": "scatter3d"
           }
          ],
          "scattercarpet": [
           {
            "marker": {
             "colorbar": {
              "outlinewidth": 0,
              "ticks": ""
             }
            },
            "type": "scattercarpet"
           }
          ],
          "scattergeo": [
           {
            "marker": {
             "colorbar": {
              "outlinewidth": 0,
              "ticks": ""
             }
            },
            "type": "scattergeo"
           }
          ],
          "scattergl": [
           {
            "marker": {
             "colorbar": {
              "outlinewidth": 0,
              "ticks": ""
             }
            },
            "type": "scattergl"
           }
          ],
          "scattermapbox": [
           {
            "marker": {
             "colorbar": {
              "outlinewidth": 0,
              "ticks": ""
             }
            },
            "type": "scattermapbox"
           }
          ],
          "scatterpolar": [
           {
            "marker": {
             "colorbar": {
              "outlinewidth": 0,
              "ticks": ""
             }
            },
            "type": "scatterpolar"
           }
          ],
          "scatterpolargl": [
           {
            "marker": {
             "colorbar": {
              "outlinewidth": 0,
              "ticks": ""
             }
            },
            "type": "scatterpolargl"
           }
          ],
          "scatterternary": [
           {
            "marker": {
             "colorbar": {
              "outlinewidth": 0,
              "ticks": ""
             }
            },
            "type": "scatterternary"
           }
          ],
          "surface": [
           {
            "colorbar": {
             "outlinewidth": 0,
             "ticks": ""
            },
            "colorscale": [
             [
              0,
              "#0d0887"
             ],
             [
              0.1111111111111111,
              "#46039f"
             ],
             [
              0.2222222222222222,
              "#7201a8"
             ],
             [
              0.3333333333333333,
              "#9c179e"
             ],
             [
              0.4444444444444444,
              "#bd3786"
             ],
             [
              0.5555555555555556,
              "#d8576b"
             ],
             [
              0.6666666666666666,
              "#ed7953"
             ],
             [
              0.7777777777777778,
              "#fb9f3a"
             ],
             [
              0.8888888888888888,
              "#fdca26"
             ],
             [
              1,
              "#f0f921"
             ]
            ],
            "type": "surface"
           }
          ],
          "table": [
           {
            "cells": {
             "fill": {
              "color": "#EBF0F8"
             },
             "line": {
              "color": "white"
             }
            },
            "header": {
             "fill": {
              "color": "#C8D4E3"
             },
             "line": {
              "color": "white"
             }
            },
            "type": "table"
           }
          ]
         },
         "layout": {
          "annotationdefaults": {
           "arrowcolor": "#2a3f5f",
           "arrowhead": 0,
           "arrowwidth": 1
          },
          "autotypenumbers": "strict",
          "coloraxis": {
           "colorbar": {
            "outlinewidth": 0,
            "ticks": ""
           }
          },
          "colorscale": {
           "diverging": [
            [
             0,
             "#8e0152"
            ],
            [
             0.1,
             "#c51b7d"
            ],
            [
             0.2,
             "#de77ae"
            ],
            [
             0.3,
             "#f1b6da"
            ],
            [
             0.4,
             "#fde0ef"
            ],
            [
             0.5,
             "#f7f7f7"
            ],
            [
             0.6,
             "#e6f5d0"
            ],
            [
             0.7,
             "#b8e186"
            ],
            [
             0.8,
             "#7fbc41"
            ],
            [
             0.9,
             "#4d9221"
            ],
            [
             1,
             "#276419"
            ]
           ],
           "sequential": [
            [
             0,
             "#0d0887"
            ],
            [
             0.1111111111111111,
             "#46039f"
            ],
            [
             0.2222222222222222,
             "#7201a8"
            ],
            [
             0.3333333333333333,
             "#9c179e"
            ],
            [
             0.4444444444444444,
             "#bd3786"
            ],
            [
             0.5555555555555556,
             "#d8576b"
            ],
            [
             0.6666666666666666,
             "#ed7953"
            ],
            [
             0.7777777777777778,
             "#fb9f3a"
            ],
            [
             0.8888888888888888,
             "#fdca26"
            ],
            [
             1,
             "#f0f921"
            ]
           ],
           "sequentialminus": [
            [
             0,
             "#0d0887"
            ],
            [
             0.1111111111111111,
             "#46039f"
            ],
            [
             0.2222222222222222,
             "#7201a8"
            ],
            [
             0.3333333333333333,
             "#9c179e"
            ],
            [
             0.4444444444444444,
             "#bd3786"
            ],
            [
             0.5555555555555556,
             "#d8576b"
            ],
            [
             0.6666666666666666,
             "#ed7953"
            ],
            [
             0.7777777777777778,
             "#fb9f3a"
            ],
            [
             0.8888888888888888,
             "#fdca26"
            ],
            [
             1,
             "#f0f921"
            ]
           ]
          },
          "colorway": [
           "#636efa",
           "#EF553B",
           "#00cc96",
           "#ab63fa",
           "#FFA15A",
           "#19d3f3",
           "#FF6692",
           "#B6E880",
           "#FF97FF",
           "#FECB52"
          ],
          "font": {
           "color": "#2a3f5f"
          },
          "geo": {
           "bgcolor": "white",
           "lakecolor": "white",
           "landcolor": "white",
           "showlakes": true,
           "showland": true,
           "subunitcolor": "#C8D4E3"
          },
          "hoverlabel": {
           "align": "left"
          },
          "hovermode": "closest",
          "mapbox": {
           "style": "light"
          },
          "paper_bgcolor": "white",
          "plot_bgcolor": "white",
          "polar": {
           "angularaxis": {
            "gridcolor": "#EBF0F8",
            "linecolor": "#EBF0F8",
            "ticks": ""
           },
           "bgcolor": "white",
           "radialaxis": {
            "gridcolor": "#EBF0F8",
            "linecolor": "#EBF0F8",
            "ticks": ""
           }
          },
          "scene": {
           "xaxis": {
            "backgroundcolor": "white",
            "gridcolor": "#DFE8F3",
            "gridwidth": 2,
            "linecolor": "#EBF0F8",
            "showbackground": true,
            "ticks": "",
            "zerolinecolor": "#EBF0F8"
           },
           "yaxis": {
            "backgroundcolor": "white",
            "gridcolor": "#DFE8F3",
            "gridwidth": 2,
            "linecolor": "#EBF0F8",
            "showbackground": true,
            "ticks": "",
            "zerolinecolor": "#EBF0F8"
           },
           "zaxis": {
            "backgroundcolor": "white",
            "gridcolor": "#DFE8F3",
            "gridwidth": 2,
            "linecolor": "#EBF0F8",
            "showbackground": true,
            "ticks": "",
            "zerolinecolor": "#EBF0F8"
           }
          },
          "shapedefaults": {
           "line": {
            "color": "#2a3f5f"
           }
          },
          "ternary": {
           "aaxis": {
            "gridcolor": "#DFE8F3",
            "linecolor": "#A2B1C6",
            "ticks": ""
           },
           "baxis": {
            "gridcolor": "#DFE8F3",
            "linecolor": "#A2B1C6",
            "ticks": ""
           },
           "bgcolor": "white",
           "caxis": {
            "gridcolor": "#DFE8F3",
            "linecolor": "#A2B1C6",
            "ticks": ""
           }
          },
          "title": {
           "x": 0.05
          },
          "xaxis": {
           "automargin": true,
           "gridcolor": "#EBF0F8",
           "linecolor": "#EBF0F8",
           "ticks": "",
           "title": {
            "standoff": 15
           },
           "zerolinecolor": "#EBF0F8",
           "zerolinewidth": 2
          },
          "yaxis": {
           "automargin": true,
           "gridcolor": "#EBF0F8",
           "linecolor": "#EBF0F8",
           "ticks": "",
           "title": {
            "standoff": 15
           },
           "zerolinecolor": "#EBF0F8",
           "zerolinewidth": 2
          }
         }
        },
        "title": {
         "text": "Valores Reales vs Predicciones"
        },
        "xaxis": {
         "anchor": "y",
         "domain": [
          0,
          1
         ],
         "title": {
          "text": "Valores Reales"
         }
        },
        "yaxis": {
         "anchor": "x",
         "domain": [
          0,
          1
         ],
         "title": {
          "text": "Predicciones"
         }
        }
       }
      }
     },
     "metadata": {},
     "output_type": "display_data"
    }
   ],
   "source": [
    "import plotly.express as px\n",
    "import plotly.graph_objects as go\n",
    "\n",
    "model = Sequential([\n",
    "    Input(shape=(X_train.shape[1],)),  # Camada de entrada\n",
    "    Dense(units=64, activation='relu'),\n",
    "    Dense(units=32, activation='relu'),\n",
    "    Dense(units=16, activation='relu'),\n",
    "    Dense(units=8, activation='relu'),\n",
    "    Dense(units=1)  # Camada de salida\n",
    "])\n",
    "\n",
    "model.compile(optimizer=Adam(learning_rate=0.001), loss='mean_squared_error')\n",
    "\n",
    "history = model.fit(\n",
    "    X_train, y_train,\n",
    "    validation_data=(X_test, y_test),\n",
    "    epochs=100,\n",
    "    batch_size=32,\n",
    "    verbose=1\n",
    ")\n",
    "\n",
    "fig = go.Figure()\n",
    "fig.add_trace(go.Scatter(y=history.history['loss'], mode='lines', name='Train Loss', line=dict(color='blue')))\n",
    "fig.add_trace(go.Scatter(y=history.history['val_loss'], mode='lines', name='Validation Loss', line=dict(color='orange')))\n",
    "fig.update_layout(title=\"Pérdida durante el entrenamiento y validación (Modelo 1)\",\n",
    "                  xaxis_title=\"Epochs\", yaxis_title=\"Loss\", template=\"plotly_white\",\n",
    "                  legend=dict(x=0.5, y=1, xanchor='center', orientation='h'))\n",
    "fig.show()\n",
    "\n",
    "test_loss = model.evaluate(X_test, y_test)\n",
    "print(f\"Pierda en el conjunto de teste: {test_loss}\")\n",
    "\n",
    "predictions = model.predict(X_test)\n",
    "\n",
    "\n",
    "# Graficar el resultado del entrenamiento del modelo usando plotly\n",
    "resultados_df = pd.DataFrame({\n",
    "    \"Valores Reales\": y_test,\n",
    "    \"Predicciones\": predictions.ravel() # predictions tiene 2D, ravel para transformar en 1D para la creación del df\n",
    "})\n",
    "\n",
    "fig = px.scatter(\n",
    "    resultados_df,\n",
    "    x=\"Valores Reales\",\n",
    "    y=\"Predicciones\",\n",
    "    title=\"Valores Reales vs Predicciones\",\n",
    "    template=\"plotly_white\"\n",
    ")\n",
    "\n",
    "# Añadir una línea de referencia donde las predicciones coinciden perfectamente con los valores reales\n",
    "fig.add_shape(\n",
    "    type=\"line\",\n",
    "    x0=resultados_df[\"Valores Reales\"].min(),\n",
    "    y0=resultados_df[\"Valores Reales\"].min(),\n",
    "    x1=resultados_df[\"Valores Reales\"].max(),\n",
    "    y1=resultados_df[\"Valores Reales\"].max(),\n",
    "    line=dict(color=\"red\", dash=\"dot\")\n",
    ")\n",
    "\n",
    "fig.show()\n"
   ]
  },
  {
   "cell_type": "code",
   "execution_count": 4,
   "metadata": {},
   "outputs": [
    {
     "name": "stdout",
     "output_type": "stream",
     "text": [
      "Métricas de evaluación del primer modelo:\n",
      "MAE: 0.026530180860465297\n",
      "RMSE: 0.04266005739974983\n",
      "R2: 0.8040930576007388\n"
     ]
    }
   ],
   "source": [
    "# Metricas\n",
    "def calculate_metrics(y_real, y_pred):\n",
    "    mae = mean_absolute_error(y_real, y_pred)\n",
    "    rmse = np.sqrt(mean_squared_error(y_real, y_pred))\n",
    "    r2 = r2_score(y_real, y_pred)\n",
    "    return mae, rmse, r2\n",
    "\n",
    "mae, rmse, r2 = calculate_metrics(y_test, predictions.ravel())\n",
    "\n",
    "print(\"Métricas de evaluación del primer modelo:\")\n",
    "print(f\"MAE: {mae}\")\n",
    "print(f\"RMSE: {rmse}\")\n",
    "print(f\"R2: {r2}\")\n"
   ]
  },
  {
   "cell_type": "code",
   "execution_count": null,
   "metadata": {},
   "outputs": [],
   "source": [
    "# # Guardar el modelo para usar en streamlit\n",
    "model.save('data/pkl/simple_nn_model.keras')"
   ]
  },
  {
   "cell_type": "markdown",
   "metadata": {},
   "source": [
    "Neural Networks - Hiperparametrización"
   ]
  },
  {
   "cell_type": "code",
   "execution_count": 6,
   "metadata": {},
   "outputs": [
    {
     "data": {
      "text/html": [
       "<div>\n",
       "<style scoped>\n",
       "    .dataframe tbody tr th:only-of-type {\n",
       "        vertical-align: middle;\n",
       "    }\n",
       "\n",
       "    .dataframe tbody tr th {\n",
       "        vertical-align: top;\n",
       "    }\n",
       "\n",
       "    .dataframe thead th {\n",
       "        text-align: right;\n",
       "    }\n",
       "</style>\n",
       "<table border=\"1\" class=\"dataframe\">\n",
       "  <thead>\n",
       "    <tr style=\"text-align: right;\">\n",
       "      <th></th>\n",
       "      <th>learning_rate</th>\n",
       "      <th>validation_loss</th>\n",
       "    </tr>\n",
       "  </thead>\n",
       "  <tbody>\n",
       "    <tr>\n",
       "      <th>0</th>\n",
       "      <td>0.0001</td>\n",
       "      <td>0.058527</td>\n",
       "    </tr>\n",
       "    <tr>\n",
       "      <th>1</th>\n",
       "      <td>0.0010</td>\n",
       "      <td>0.053330</td>\n",
       "    </tr>\n",
       "    <tr>\n",
       "      <th>2</th>\n",
       "      <td>0.0100</td>\n",
       "      <td>0.044313</td>\n",
       "    </tr>\n",
       "    <tr>\n",
       "      <th>3</th>\n",
       "      <td>0.1000</td>\n",
       "      <td>0.153214</td>\n",
       "    </tr>\n",
       "    <tr>\n",
       "      <th>4</th>\n",
       "      <td>0.5000</td>\n",
       "      <td>0.153214</td>\n",
       "    </tr>\n",
       "  </tbody>\n",
       "</table>\n",
       "</div>"
      ],
      "text/plain": [
       "   learning_rate  validation_loss\n",
       "0         0.0001         0.058527\n",
       "1         0.0010         0.053330\n",
       "2         0.0100         0.044313\n",
       "3         0.1000         0.153214\n",
       "4         0.5000         0.153214"
      ]
     },
     "execution_count": 6,
     "metadata": {},
     "output_type": "execute_result"
    }
   ],
   "source": [
    "# Definir learning rates para probar\n",
    "learning_rates = [0.0001, 0.001, 0.01, 0.1, 0.5]\n",
    "\n",
    "early_stopping = EarlyStopping(\n",
    "    monitor=\"val_loss\",  # Monitorar la pierda en la validación\n",
    "    patience=3,          # Número de epochs sin mejora antes de parar\n",
    "    restore_best_weights=True  # Restaurar los pesos del mejor epoch\n",
    ")\n",
    "\n",
    "# Lista para almacenar los resultados\n",
    "results_lr = []\n",
    "\n",
    "# Loop para entrenar el modelo con diferentes learning rates\n",
    "for lr in learning_rates:\n",
    "    model = Sequential([\n",
    "    Input(shape=(X_train.shape[1],)),\n",
    "    Dense(units=128, activation='relu'),\n",
    "    Dense(units=64, activation='relu'),\n",
    "    Dense(units=32, activation='relu'),\n",
    "    Dense(units=8, activation='relu')\n",
    "])\n",
    "    \n",
    "    # Compilar el modelo con el learning rate actual\n",
    "    model.compile(optimizer=Adam(learning_rate=lr), loss='mean_absolute_error')\n",
    "    \n",
    "    # Entrenar el modelo (con pocas epochs para pruebas rápidas)\n",
    "    history = model.fit(\n",
    "        X_train, y_train,\n",
    "        validation_split=0.2,\n",
    "        epochs=10,\n",
    "        batch_size=32,\n",
    "        callbacks=[early_stopping],\n",
    "        verbose=0  # Silenciar la salida para facilitar la lectura\n",
    "    )\n",
    "\n",
    "    results_lr.append({\n",
    "        \"learning_rate\": lr,\n",
    "        \"validation_loss\": history.history[\"val_loss\"][-1]\n",
    "    })\n",
    "\n",
    "# Crear un DataFrame con los resultados\n",
    "results_lr = pd.DataFrame(results_lr)\n",
    "results_lr\n"
   ]
  },
  {
   "cell_type": "code",
   "execution_count": 7,
   "metadata": {},
   "outputs": [
    {
     "data": {
      "application/vnd.plotly.v1+json": {
       "config": {
        "plotlyServerURL": "https://plot.ly"
       },
       "data": [
        {
         "hovertemplate": "Learning Rate=%{x}<br>Validation Loss=%{y}<extra></extra>",
         "legendgroup": "",
         "line": {
          "color": "#636efa",
          "dash": "solid"
         },
         "marker": {
          "symbol": "circle"
         },
         "mode": "lines",
         "name": "",
         "orientation": "v",
         "showlegend": false,
         "type": "scatter",
         "x": [
          0.0001,
          0.001,
          0.01,
          0.1,
          0.5
         ],
         "xaxis": "x",
         "y": [
          0.05852707475423813,
          0.05332978814840317,
          0.04431332275271416,
          0.15321427583694458,
          0.15321427583694458
         ],
         "yaxis": "y"
        }
       ],
       "layout": {
        "legend": {
         "tracegroupgap": 0
        },
        "template": {
         "data": {
          "bar": [
           {
            "error_x": {
             "color": "#2a3f5f"
            },
            "error_y": {
             "color": "#2a3f5f"
            },
            "marker": {
             "line": {
              "color": "white",
              "width": 0.5
             },
             "pattern": {
              "fillmode": "overlay",
              "size": 10,
              "solidity": 0.2
             }
            },
            "type": "bar"
           }
          ],
          "barpolar": [
           {
            "marker": {
             "line": {
              "color": "white",
              "width": 0.5
             },
             "pattern": {
              "fillmode": "overlay",
              "size": 10,
              "solidity": 0.2
             }
            },
            "type": "barpolar"
           }
          ],
          "carpet": [
           {
            "aaxis": {
             "endlinecolor": "#2a3f5f",
             "gridcolor": "#C8D4E3",
             "linecolor": "#C8D4E3",
             "minorgridcolor": "#C8D4E3",
             "startlinecolor": "#2a3f5f"
            },
            "baxis": {
             "endlinecolor": "#2a3f5f",
             "gridcolor": "#C8D4E3",
             "linecolor": "#C8D4E3",
             "minorgridcolor": "#C8D4E3",
             "startlinecolor": "#2a3f5f"
            },
            "type": "carpet"
           }
          ],
          "choropleth": [
           {
            "colorbar": {
             "outlinewidth": 0,
             "ticks": ""
            },
            "type": "choropleth"
           }
          ],
          "contour": [
           {
            "colorbar": {
             "outlinewidth": 0,
             "ticks": ""
            },
            "colorscale": [
             [
              0,
              "#0d0887"
             ],
             [
              0.1111111111111111,
              "#46039f"
             ],
             [
              0.2222222222222222,
              "#7201a8"
             ],
             [
              0.3333333333333333,
              "#9c179e"
             ],
             [
              0.4444444444444444,
              "#bd3786"
             ],
             [
              0.5555555555555556,
              "#d8576b"
             ],
             [
              0.6666666666666666,
              "#ed7953"
             ],
             [
              0.7777777777777778,
              "#fb9f3a"
             ],
             [
              0.8888888888888888,
              "#fdca26"
             ],
             [
              1,
              "#f0f921"
             ]
            ],
            "type": "contour"
           }
          ],
          "contourcarpet": [
           {
            "colorbar": {
             "outlinewidth": 0,
             "ticks": ""
            },
            "type": "contourcarpet"
           }
          ],
          "heatmap": [
           {
            "colorbar": {
             "outlinewidth": 0,
             "ticks": ""
            },
            "colorscale": [
             [
              0,
              "#0d0887"
             ],
             [
              0.1111111111111111,
              "#46039f"
             ],
             [
              0.2222222222222222,
              "#7201a8"
             ],
             [
              0.3333333333333333,
              "#9c179e"
             ],
             [
              0.4444444444444444,
              "#bd3786"
             ],
             [
              0.5555555555555556,
              "#d8576b"
             ],
             [
              0.6666666666666666,
              "#ed7953"
             ],
             [
              0.7777777777777778,
              "#fb9f3a"
             ],
             [
              0.8888888888888888,
              "#fdca26"
             ],
             [
              1,
              "#f0f921"
             ]
            ],
            "type": "heatmap"
           }
          ],
          "heatmapgl": [
           {
            "colorbar": {
             "outlinewidth": 0,
             "ticks": ""
            },
            "colorscale": [
             [
              0,
              "#0d0887"
             ],
             [
              0.1111111111111111,
              "#46039f"
             ],
             [
              0.2222222222222222,
              "#7201a8"
             ],
             [
              0.3333333333333333,
              "#9c179e"
             ],
             [
              0.4444444444444444,
              "#bd3786"
             ],
             [
              0.5555555555555556,
              "#d8576b"
             ],
             [
              0.6666666666666666,
              "#ed7953"
             ],
             [
              0.7777777777777778,
              "#fb9f3a"
             ],
             [
              0.8888888888888888,
              "#fdca26"
             ],
             [
              1,
              "#f0f921"
             ]
            ],
            "type": "heatmapgl"
           }
          ],
          "histogram": [
           {
            "marker": {
             "pattern": {
              "fillmode": "overlay",
              "size": 10,
              "solidity": 0.2
             }
            },
            "type": "histogram"
           }
          ],
          "histogram2d": [
           {
            "colorbar": {
             "outlinewidth": 0,
             "ticks": ""
            },
            "colorscale": [
             [
              0,
              "#0d0887"
             ],
             [
              0.1111111111111111,
              "#46039f"
             ],
             [
              0.2222222222222222,
              "#7201a8"
             ],
             [
              0.3333333333333333,
              "#9c179e"
             ],
             [
              0.4444444444444444,
              "#bd3786"
             ],
             [
              0.5555555555555556,
              "#d8576b"
             ],
             [
              0.6666666666666666,
              "#ed7953"
             ],
             [
              0.7777777777777778,
              "#fb9f3a"
             ],
             [
              0.8888888888888888,
              "#fdca26"
             ],
             [
              1,
              "#f0f921"
             ]
            ],
            "type": "histogram2d"
           }
          ],
          "histogram2dcontour": [
           {
            "colorbar": {
             "outlinewidth": 0,
             "ticks": ""
            },
            "colorscale": [
             [
              0,
              "#0d0887"
             ],
             [
              0.1111111111111111,
              "#46039f"
             ],
             [
              0.2222222222222222,
              "#7201a8"
             ],
             [
              0.3333333333333333,
              "#9c179e"
             ],
             [
              0.4444444444444444,
              "#bd3786"
             ],
             [
              0.5555555555555556,
              "#d8576b"
             ],
             [
              0.6666666666666666,
              "#ed7953"
             ],
             [
              0.7777777777777778,
              "#fb9f3a"
             ],
             [
              0.8888888888888888,
              "#fdca26"
             ],
             [
              1,
              "#f0f921"
             ]
            ],
            "type": "histogram2dcontour"
           }
          ],
          "mesh3d": [
           {
            "colorbar": {
             "outlinewidth": 0,
             "ticks": ""
            },
            "type": "mesh3d"
           }
          ],
          "parcoords": [
           {
            "line": {
             "colorbar": {
              "outlinewidth": 0,
              "ticks": ""
             }
            },
            "type": "parcoords"
           }
          ],
          "pie": [
           {
            "automargin": true,
            "type": "pie"
           }
          ],
          "scatter": [
           {
            "fillpattern": {
             "fillmode": "overlay",
             "size": 10,
             "solidity": 0.2
            },
            "type": "scatter"
           }
          ],
          "scatter3d": [
           {
            "line": {
             "colorbar": {
              "outlinewidth": 0,
              "ticks": ""
             }
            },
            "marker": {
             "colorbar": {
              "outlinewidth": 0,
              "ticks": ""
             }
            },
            "type": "scatter3d"
           }
          ],
          "scattercarpet": [
           {
            "marker": {
             "colorbar": {
              "outlinewidth": 0,
              "ticks": ""
             }
            },
            "type": "scattercarpet"
           }
          ],
          "scattergeo": [
           {
            "marker": {
             "colorbar": {
              "outlinewidth": 0,
              "ticks": ""
             }
            },
            "type": "scattergeo"
           }
          ],
          "scattergl": [
           {
            "marker": {
             "colorbar": {
              "outlinewidth": 0,
              "ticks": ""
             }
            },
            "type": "scattergl"
           }
          ],
          "scattermapbox": [
           {
            "marker": {
             "colorbar": {
              "outlinewidth": 0,
              "ticks": ""
             }
            },
            "type": "scattermapbox"
           }
          ],
          "scatterpolar": [
           {
            "marker": {
             "colorbar": {
              "outlinewidth": 0,
              "ticks": ""
             }
            },
            "type": "scatterpolar"
           }
          ],
          "scatterpolargl": [
           {
            "marker": {
             "colorbar": {
              "outlinewidth": 0,
              "ticks": ""
             }
            },
            "type": "scatterpolargl"
           }
          ],
          "scatterternary": [
           {
            "marker": {
             "colorbar": {
              "outlinewidth": 0,
              "ticks": ""
             }
            },
            "type": "scatterternary"
           }
          ],
          "surface": [
           {
            "colorbar": {
             "outlinewidth": 0,
             "ticks": ""
            },
            "colorscale": [
             [
              0,
              "#0d0887"
             ],
             [
              0.1111111111111111,
              "#46039f"
             ],
             [
              0.2222222222222222,
              "#7201a8"
             ],
             [
              0.3333333333333333,
              "#9c179e"
             ],
             [
              0.4444444444444444,
              "#bd3786"
             ],
             [
              0.5555555555555556,
              "#d8576b"
             ],
             [
              0.6666666666666666,
              "#ed7953"
             ],
             [
              0.7777777777777778,
              "#fb9f3a"
             ],
             [
              0.8888888888888888,
              "#fdca26"
             ],
             [
              1,
              "#f0f921"
             ]
            ],
            "type": "surface"
           }
          ],
          "table": [
           {
            "cells": {
             "fill": {
              "color": "#EBF0F8"
             },
             "line": {
              "color": "white"
             }
            },
            "header": {
             "fill": {
              "color": "#C8D4E3"
             },
             "line": {
              "color": "white"
             }
            },
            "type": "table"
           }
          ]
         },
         "layout": {
          "annotationdefaults": {
           "arrowcolor": "#2a3f5f",
           "arrowhead": 0,
           "arrowwidth": 1
          },
          "autotypenumbers": "strict",
          "coloraxis": {
           "colorbar": {
            "outlinewidth": 0,
            "ticks": ""
           }
          },
          "colorscale": {
           "diverging": [
            [
             0,
             "#8e0152"
            ],
            [
             0.1,
             "#c51b7d"
            ],
            [
             0.2,
             "#de77ae"
            ],
            [
             0.3,
             "#f1b6da"
            ],
            [
             0.4,
             "#fde0ef"
            ],
            [
             0.5,
             "#f7f7f7"
            ],
            [
             0.6,
             "#e6f5d0"
            ],
            [
             0.7,
             "#b8e186"
            ],
            [
             0.8,
             "#7fbc41"
            ],
            [
             0.9,
             "#4d9221"
            ],
            [
             1,
             "#276419"
            ]
           ],
           "sequential": [
            [
             0,
             "#0d0887"
            ],
            [
             0.1111111111111111,
             "#46039f"
            ],
            [
             0.2222222222222222,
             "#7201a8"
            ],
            [
             0.3333333333333333,
             "#9c179e"
            ],
            [
             0.4444444444444444,
             "#bd3786"
            ],
            [
             0.5555555555555556,
             "#d8576b"
            ],
            [
             0.6666666666666666,
             "#ed7953"
            ],
            [
             0.7777777777777778,
             "#fb9f3a"
            ],
            [
             0.8888888888888888,
             "#fdca26"
            ],
            [
             1,
             "#f0f921"
            ]
           ],
           "sequentialminus": [
            [
             0,
             "#0d0887"
            ],
            [
             0.1111111111111111,
             "#46039f"
            ],
            [
             0.2222222222222222,
             "#7201a8"
            ],
            [
             0.3333333333333333,
             "#9c179e"
            ],
            [
             0.4444444444444444,
             "#bd3786"
            ],
            [
             0.5555555555555556,
             "#d8576b"
            ],
            [
             0.6666666666666666,
             "#ed7953"
            ],
            [
             0.7777777777777778,
             "#fb9f3a"
            ],
            [
             0.8888888888888888,
             "#fdca26"
            ],
            [
             1,
             "#f0f921"
            ]
           ]
          },
          "colorway": [
           "#636efa",
           "#EF553B",
           "#00cc96",
           "#ab63fa",
           "#FFA15A",
           "#19d3f3",
           "#FF6692",
           "#B6E880",
           "#FF97FF",
           "#FECB52"
          ],
          "font": {
           "color": "#2a3f5f"
          },
          "geo": {
           "bgcolor": "white",
           "lakecolor": "white",
           "landcolor": "white",
           "showlakes": true,
           "showland": true,
           "subunitcolor": "#C8D4E3"
          },
          "hoverlabel": {
           "align": "left"
          },
          "hovermode": "closest",
          "mapbox": {
           "style": "light"
          },
          "paper_bgcolor": "white",
          "plot_bgcolor": "white",
          "polar": {
           "angularaxis": {
            "gridcolor": "#EBF0F8",
            "linecolor": "#EBF0F8",
            "ticks": ""
           },
           "bgcolor": "white",
           "radialaxis": {
            "gridcolor": "#EBF0F8",
            "linecolor": "#EBF0F8",
            "ticks": ""
           }
          },
          "scene": {
           "xaxis": {
            "backgroundcolor": "white",
            "gridcolor": "#DFE8F3",
            "gridwidth": 2,
            "linecolor": "#EBF0F8",
            "showbackground": true,
            "ticks": "",
            "zerolinecolor": "#EBF0F8"
           },
           "yaxis": {
            "backgroundcolor": "white",
            "gridcolor": "#DFE8F3",
            "gridwidth": 2,
            "linecolor": "#EBF0F8",
            "showbackground": true,
            "ticks": "",
            "zerolinecolor": "#EBF0F8"
           },
           "zaxis": {
            "backgroundcolor": "white",
            "gridcolor": "#DFE8F3",
            "gridwidth": 2,
            "linecolor": "#EBF0F8",
            "showbackground": true,
            "ticks": "",
            "zerolinecolor": "#EBF0F8"
           }
          },
          "shapedefaults": {
           "line": {
            "color": "#2a3f5f"
           }
          },
          "ternary": {
           "aaxis": {
            "gridcolor": "#DFE8F3",
            "linecolor": "#A2B1C6",
            "ticks": ""
           },
           "baxis": {
            "gridcolor": "#DFE8F3",
            "linecolor": "#A2B1C6",
            "ticks": ""
           },
           "bgcolor": "white",
           "caxis": {
            "gridcolor": "#DFE8F3",
            "linecolor": "#A2B1C6",
            "ticks": ""
           }
          },
          "title": {
           "x": 0.05
          },
          "xaxis": {
           "automargin": true,
           "gridcolor": "#EBF0F8",
           "linecolor": "#EBF0F8",
           "ticks": "",
           "title": {
            "standoff": 15
           },
           "zerolinecolor": "#EBF0F8",
           "zerolinewidth": 2
          },
          "yaxis": {
           "automargin": true,
           "gridcolor": "#EBF0F8",
           "linecolor": "#EBF0F8",
           "ticks": "",
           "title": {
            "standoff": 15
           },
           "zerolinecolor": "#EBF0F8",
           "zerolinewidth": 2
          }
         }
        },
        "title": {
         "text": "Learning Rate vs Validation Loss"
        },
        "xaxis": {
         "anchor": "y",
         "domain": [
          0,
          1
         ],
         "title": {
          "text": "Learning Rate"
         },
         "type": "log"
        },
        "yaxis": {
         "anchor": "x",
         "domain": [
          0,
          1
         ],
         "title": {
          "text": "Validation Loss"
         }
        }
       }
      }
     },
     "metadata": {},
     "output_type": "display_data"
    }
   ],
   "source": [
    "fig = px.line(\n",
    "    results_lr,\n",
    "    x=\"learning_rate\",\n",
    "    y=\"validation_loss\",\n",
    "    title=\"Learning Rate vs Validation Loss\",\n",
    "    labels={\"learning_rate\": \"Learning Rate\", \"validation_loss\": \"Validation Loss\"},\n",
    "    log_x=True,  # Escala logarítmica para mejor visualización\n",
    "    template=\"plotly_white\"\n",
    ")\n",
    "fig.show()"
   ]
  },
  {
   "cell_type": "code",
   "execution_count": 8,
   "metadata": {},
   "outputs": [
    {
     "name": "stdout",
     "output_type": "stream",
     "text": [
      "Epoch 1/100\n",
      "\u001b[1m50/50\u001b[0m \u001b[32m━━━━━━━━━━━━━━━━━━━━\u001b[0m\u001b[37m\u001b[0m \u001b[1m3s\u001b[0m 12ms/step - loss: 0.0973 - val_loss: 0.0460\n",
      "Epoch 2/100\n",
      "\u001b[1m50/50\u001b[0m \u001b[32m━━━━━━━━━━━━━━━━━━━━\u001b[0m\u001b[37m\u001b[0m \u001b[1m0s\u001b[0m 4ms/step - loss: 0.0517 - val_loss: 0.0475\n",
      "Epoch 3/100\n",
      "\u001b[1m50/50\u001b[0m \u001b[32m━━━━━━━━━━━━━━━━━━━━\u001b[0m\u001b[37m\u001b[0m \u001b[1m0s\u001b[0m 2ms/step - loss: 0.0472 - val_loss: 0.0487\n",
      "Epoch 4/100\n",
      "\u001b[1m50/50\u001b[0m \u001b[32m━━━━━━━━━━━━━━━━━━━━\u001b[0m\u001b[37m\u001b[0m \u001b[1m0s\u001b[0m 2ms/step - loss: 0.0458 - val_loss: 0.0428\n",
      "Epoch 5/100\n",
      "\u001b[1m50/50\u001b[0m \u001b[32m━━━━━━━━━━━━━━━━━━━━\u001b[0m\u001b[37m\u001b[0m \u001b[1m0s\u001b[0m 3ms/step - loss: 0.0435 - val_loss: 0.0440\n",
      "Epoch 6/100\n",
      "\u001b[1m50/50\u001b[0m \u001b[32m━━━━━━━━━━━━━━━━━━━━\u001b[0m\u001b[37m\u001b[0m \u001b[1m0s\u001b[0m 2ms/step - loss: 0.0435 - val_loss: 0.0492\n",
      "Epoch 7/100\n",
      "\u001b[1m50/50\u001b[0m \u001b[32m━━━━━━━━━━━━━━━━━━━━\u001b[0m\u001b[37m\u001b[0m \u001b[1m0s\u001b[0m 2ms/step - loss: 0.0459 - val_loss: 0.0426\n",
      "Epoch 8/100\n",
      "\u001b[1m50/50\u001b[0m \u001b[32m━━━━━━━━━━━━━━━━━━━━\u001b[0m\u001b[37m\u001b[0m \u001b[1m0s\u001b[0m 3ms/step - loss: 0.0445 - val_loss: 0.0427\n",
      "Epoch 9/100\n",
      "\u001b[1m50/50\u001b[0m \u001b[32m━━━━━━━━━━━━━━━━━━━━\u001b[0m\u001b[37m\u001b[0m \u001b[1m0s\u001b[0m 3ms/step - loss: 0.0423 - val_loss: 0.0526\n",
      "Epoch 10/100\n",
      "\u001b[1m50/50\u001b[0m \u001b[32m━━━━━━━━━━━━━━━━━━━━\u001b[0m\u001b[37m\u001b[0m \u001b[1m0s\u001b[0m 2ms/step - loss: 0.0420 - val_loss: 0.0442\n",
      "Epoch 11/100\n",
      "\u001b[1m50/50\u001b[0m \u001b[32m━━━━━━━━━━━━━━━━━━━━\u001b[0m\u001b[37m\u001b[0m \u001b[1m0s\u001b[0m 5ms/step - loss: 0.0394 - val_loss: 0.0482\n",
      "Epoch 12/100\n",
      "\u001b[1m50/50\u001b[0m \u001b[32m━━━━━━━━━━━━━━━━━━━━\u001b[0m\u001b[37m\u001b[0m \u001b[1m0s\u001b[0m 3ms/step - loss: 0.0413 - val_loss: 0.0407\n",
      "Epoch 13/100\n",
      "\u001b[1m50/50\u001b[0m \u001b[32m━━━━━━━━━━━━━━━━━━━━\u001b[0m\u001b[37m\u001b[0m \u001b[1m0s\u001b[0m 4ms/step - loss: 0.0421 - val_loss: 0.0427\n",
      "Epoch 14/100\n",
      "\u001b[1m50/50\u001b[0m \u001b[32m━━━━━━━━━━━━━━━━━━━━\u001b[0m\u001b[37m\u001b[0m \u001b[1m0s\u001b[0m 7ms/step - loss: 0.0429 - val_loss: 0.0430\n",
      "Epoch 15/100\n",
      "\u001b[1m50/50\u001b[0m \u001b[32m━━━━━━━━━━━━━━━━━━━━\u001b[0m\u001b[37m\u001b[0m \u001b[1m0s\u001b[0m 3ms/step - loss: 0.0458 - val_loss: 0.0409\n",
      "Epoch 16/100\n",
      "\u001b[1m50/50\u001b[0m \u001b[32m━━━━━━━━━━━━━━━━━━━━\u001b[0m\u001b[37m\u001b[0m \u001b[1m0s\u001b[0m 3ms/step - loss: 0.0406 - val_loss: 0.0419\n",
      "Epoch 17/100\n",
      "\u001b[1m50/50\u001b[0m \u001b[32m━━━━━━━━━━━━━━━━━━━━\u001b[0m\u001b[37m\u001b[0m \u001b[1m0s\u001b[0m 3ms/step - loss: 0.0438 - val_loss: 0.0429\n"
     ]
    },
    {
     "data": {
      "application/vnd.plotly.v1+json": {
       "config": {
        "plotlyServerURL": "https://plot.ly"
       },
       "data": [
        {
         "line": {
          "color": "blue"
         },
         "mode": "lines",
         "name": "Train Loss",
         "type": "scatter",
         "y": [
          0.07163462787866592,
          0.050551168620586395,
          0.046414896845817566,
          0.04526927322149277,
          0.043786171823740005,
          0.043671127408742905,
          0.044901881366968155,
          0.04386245459318161,
          0.04430043697357178,
          0.0425897017121315,
          0.041820771992206573,
          0.04244549572467804,
          0.041930295526981354,
          0.04384799301624298,
          0.04250990226864815,
          0.04190962016582489,
          0.043352991342544556
         ]
        },
        {
         "line": {
          "color": "orange"
         },
         "mode": "lines",
         "name": "Validation Loss",
         "type": "scatter",
         "y": [
          0.04602843150496483,
          0.04753175750374794,
          0.048738278448581696,
          0.04280245304107666,
          0.044010572135448456,
          0.04921254515647888,
          0.0426194854080677,
          0.04265407472848892,
          0.052592020481824875,
          0.04420686140656471,
          0.04822998866438866,
          0.040713850408792496,
          0.042739976197481155,
          0.043013349175453186,
          0.040850792080163956,
          0.04187452793121338,
          0.04285810515284538
         ]
        }
       ],
       "layout": {
        "legend": {
         "orientation": "h",
         "x": 0.5,
         "xanchor": "center",
         "y": 1
        },
        "template": {
         "data": {
          "bar": [
           {
            "error_x": {
             "color": "#2a3f5f"
            },
            "error_y": {
             "color": "#2a3f5f"
            },
            "marker": {
             "line": {
              "color": "white",
              "width": 0.5
             },
             "pattern": {
              "fillmode": "overlay",
              "size": 10,
              "solidity": 0.2
             }
            },
            "type": "bar"
           }
          ],
          "barpolar": [
           {
            "marker": {
             "line": {
              "color": "white",
              "width": 0.5
             },
             "pattern": {
              "fillmode": "overlay",
              "size": 10,
              "solidity": 0.2
             }
            },
            "type": "barpolar"
           }
          ],
          "carpet": [
           {
            "aaxis": {
             "endlinecolor": "#2a3f5f",
             "gridcolor": "#C8D4E3",
             "linecolor": "#C8D4E3",
             "minorgridcolor": "#C8D4E3",
             "startlinecolor": "#2a3f5f"
            },
            "baxis": {
             "endlinecolor": "#2a3f5f",
             "gridcolor": "#C8D4E3",
             "linecolor": "#C8D4E3",
             "minorgridcolor": "#C8D4E3",
             "startlinecolor": "#2a3f5f"
            },
            "type": "carpet"
           }
          ],
          "choropleth": [
           {
            "colorbar": {
             "outlinewidth": 0,
             "ticks": ""
            },
            "type": "choropleth"
           }
          ],
          "contour": [
           {
            "colorbar": {
             "outlinewidth": 0,
             "ticks": ""
            },
            "colorscale": [
             [
              0,
              "#0d0887"
             ],
             [
              0.1111111111111111,
              "#46039f"
             ],
             [
              0.2222222222222222,
              "#7201a8"
             ],
             [
              0.3333333333333333,
              "#9c179e"
             ],
             [
              0.4444444444444444,
              "#bd3786"
             ],
             [
              0.5555555555555556,
              "#d8576b"
             ],
             [
              0.6666666666666666,
              "#ed7953"
             ],
             [
              0.7777777777777778,
              "#fb9f3a"
             ],
             [
              0.8888888888888888,
              "#fdca26"
             ],
             [
              1,
              "#f0f921"
             ]
            ],
            "type": "contour"
           }
          ],
          "contourcarpet": [
           {
            "colorbar": {
             "outlinewidth": 0,
             "ticks": ""
            },
            "type": "contourcarpet"
           }
          ],
          "heatmap": [
           {
            "colorbar": {
             "outlinewidth": 0,
             "ticks": ""
            },
            "colorscale": [
             [
              0,
              "#0d0887"
             ],
             [
              0.1111111111111111,
              "#46039f"
             ],
             [
              0.2222222222222222,
              "#7201a8"
             ],
             [
              0.3333333333333333,
              "#9c179e"
             ],
             [
              0.4444444444444444,
              "#bd3786"
             ],
             [
              0.5555555555555556,
              "#d8576b"
             ],
             [
              0.6666666666666666,
              "#ed7953"
             ],
             [
              0.7777777777777778,
              "#fb9f3a"
             ],
             [
              0.8888888888888888,
              "#fdca26"
             ],
             [
              1,
              "#f0f921"
             ]
            ],
            "type": "heatmap"
           }
          ],
          "heatmapgl": [
           {
            "colorbar": {
             "outlinewidth": 0,
             "ticks": ""
            },
            "colorscale": [
             [
              0,
              "#0d0887"
             ],
             [
              0.1111111111111111,
              "#46039f"
             ],
             [
              0.2222222222222222,
              "#7201a8"
             ],
             [
              0.3333333333333333,
              "#9c179e"
             ],
             [
              0.4444444444444444,
              "#bd3786"
             ],
             [
              0.5555555555555556,
              "#d8576b"
             ],
             [
              0.6666666666666666,
              "#ed7953"
             ],
             [
              0.7777777777777778,
              "#fb9f3a"
             ],
             [
              0.8888888888888888,
              "#fdca26"
             ],
             [
              1,
              "#f0f921"
             ]
            ],
            "type": "heatmapgl"
           }
          ],
          "histogram": [
           {
            "marker": {
             "pattern": {
              "fillmode": "overlay",
              "size": 10,
              "solidity": 0.2
             }
            },
            "type": "histogram"
           }
          ],
          "histogram2d": [
           {
            "colorbar": {
             "outlinewidth": 0,
             "ticks": ""
            },
            "colorscale": [
             [
              0,
              "#0d0887"
             ],
             [
              0.1111111111111111,
              "#46039f"
             ],
             [
              0.2222222222222222,
              "#7201a8"
             ],
             [
              0.3333333333333333,
              "#9c179e"
             ],
             [
              0.4444444444444444,
              "#bd3786"
             ],
             [
              0.5555555555555556,
              "#d8576b"
             ],
             [
              0.6666666666666666,
              "#ed7953"
             ],
             [
              0.7777777777777778,
              "#fb9f3a"
             ],
             [
              0.8888888888888888,
              "#fdca26"
             ],
             [
              1,
              "#f0f921"
             ]
            ],
            "type": "histogram2d"
           }
          ],
          "histogram2dcontour": [
           {
            "colorbar": {
             "outlinewidth": 0,
             "ticks": ""
            },
            "colorscale": [
             [
              0,
              "#0d0887"
             ],
             [
              0.1111111111111111,
              "#46039f"
             ],
             [
              0.2222222222222222,
              "#7201a8"
             ],
             [
              0.3333333333333333,
              "#9c179e"
             ],
             [
              0.4444444444444444,
              "#bd3786"
             ],
             [
              0.5555555555555556,
              "#d8576b"
             ],
             [
              0.6666666666666666,
              "#ed7953"
             ],
             [
              0.7777777777777778,
              "#fb9f3a"
             ],
             [
              0.8888888888888888,
              "#fdca26"
             ],
             [
              1,
              "#f0f921"
             ]
            ],
            "type": "histogram2dcontour"
           }
          ],
          "mesh3d": [
           {
            "colorbar": {
             "outlinewidth": 0,
             "ticks": ""
            },
            "type": "mesh3d"
           }
          ],
          "parcoords": [
           {
            "line": {
             "colorbar": {
              "outlinewidth": 0,
              "ticks": ""
             }
            },
            "type": "parcoords"
           }
          ],
          "pie": [
           {
            "automargin": true,
            "type": "pie"
           }
          ],
          "scatter": [
           {
            "fillpattern": {
             "fillmode": "overlay",
             "size": 10,
             "solidity": 0.2
            },
            "type": "scatter"
           }
          ],
          "scatter3d": [
           {
            "line": {
             "colorbar": {
              "outlinewidth": 0,
              "ticks": ""
             }
            },
            "marker": {
             "colorbar": {
              "outlinewidth": 0,
              "ticks": ""
             }
            },
            "type": "scatter3d"
           }
          ],
          "scattercarpet": [
           {
            "marker": {
             "colorbar": {
              "outlinewidth": 0,
              "ticks": ""
             }
            },
            "type": "scattercarpet"
           }
          ],
          "scattergeo": [
           {
            "marker": {
             "colorbar": {
              "outlinewidth": 0,
              "ticks": ""
             }
            },
            "type": "scattergeo"
           }
          ],
          "scattergl": [
           {
            "marker": {
             "colorbar": {
              "outlinewidth": 0,
              "ticks": ""
             }
            },
            "type": "scattergl"
           }
          ],
          "scattermapbox": [
           {
            "marker": {
             "colorbar": {
              "outlinewidth": 0,
              "ticks": ""
             }
            },
            "type": "scattermapbox"
           }
          ],
          "scatterpolar": [
           {
            "marker": {
             "colorbar": {
              "outlinewidth": 0,
              "ticks": ""
             }
            },
            "type": "scatterpolar"
           }
          ],
          "scatterpolargl": [
           {
            "marker": {
             "colorbar": {
              "outlinewidth": 0,
              "ticks": ""
             }
            },
            "type": "scatterpolargl"
           }
          ],
          "scatterternary": [
           {
            "marker": {
             "colorbar": {
              "outlinewidth": 0,
              "ticks": ""
             }
            },
            "type": "scatterternary"
           }
          ],
          "surface": [
           {
            "colorbar": {
             "outlinewidth": 0,
             "ticks": ""
            },
            "colorscale": [
             [
              0,
              "#0d0887"
             ],
             [
              0.1111111111111111,
              "#46039f"
             ],
             [
              0.2222222222222222,
              "#7201a8"
             ],
             [
              0.3333333333333333,
              "#9c179e"
             ],
             [
              0.4444444444444444,
              "#bd3786"
             ],
             [
              0.5555555555555556,
              "#d8576b"
             ],
             [
              0.6666666666666666,
              "#ed7953"
             ],
             [
              0.7777777777777778,
              "#fb9f3a"
             ],
             [
              0.8888888888888888,
              "#fdca26"
             ],
             [
              1,
              "#f0f921"
             ]
            ],
            "type": "surface"
           }
          ],
          "table": [
           {
            "cells": {
             "fill": {
              "color": "#EBF0F8"
             },
             "line": {
              "color": "white"
             }
            },
            "header": {
             "fill": {
              "color": "#C8D4E3"
             },
             "line": {
              "color": "white"
             }
            },
            "type": "table"
           }
          ]
         },
         "layout": {
          "annotationdefaults": {
           "arrowcolor": "#2a3f5f",
           "arrowhead": 0,
           "arrowwidth": 1
          },
          "autotypenumbers": "strict",
          "coloraxis": {
           "colorbar": {
            "outlinewidth": 0,
            "ticks": ""
           }
          },
          "colorscale": {
           "diverging": [
            [
             0,
             "#8e0152"
            ],
            [
             0.1,
             "#c51b7d"
            ],
            [
             0.2,
             "#de77ae"
            ],
            [
             0.3,
             "#f1b6da"
            ],
            [
             0.4,
             "#fde0ef"
            ],
            [
             0.5,
             "#f7f7f7"
            ],
            [
             0.6,
             "#e6f5d0"
            ],
            [
             0.7,
             "#b8e186"
            ],
            [
             0.8,
             "#7fbc41"
            ],
            [
             0.9,
             "#4d9221"
            ],
            [
             1,
             "#276419"
            ]
           ],
           "sequential": [
            [
             0,
             "#0d0887"
            ],
            [
             0.1111111111111111,
             "#46039f"
            ],
            [
             0.2222222222222222,
             "#7201a8"
            ],
            [
             0.3333333333333333,
             "#9c179e"
            ],
            [
             0.4444444444444444,
             "#bd3786"
            ],
            [
             0.5555555555555556,
             "#d8576b"
            ],
            [
             0.6666666666666666,
             "#ed7953"
            ],
            [
             0.7777777777777778,
             "#fb9f3a"
            ],
            [
             0.8888888888888888,
             "#fdca26"
            ],
            [
             1,
             "#f0f921"
            ]
           ],
           "sequentialminus": [
            [
             0,
             "#0d0887"
            ],
            [
             0.1111111111111111,
             "#46039f"
            ],
            [
             0.2222222222222222,
             "#7201a8"
            ],
            [
             0.3333333333333333,
             "#9c179e"
            ],
            [
             0.4444444444444444,
             "#bd3786"
            ],
            [
             0.5555555555555556,
             "#d8576b"
            ],
            [
             0.6666666666666666,
             "#ed7953"
            ],
            [
             0.7777777777777778,
             "#fb9f3a"
            ],
            [
             0.8888888888888888,
             "#fdca26"
            ],
            [
             1,
             "#f0f921"
            ]
           ]
          },
          "colorway": [
           "#636efa",
           "#EF553B",
           "#00cc96",
           "#ab63fa",
           "#FFA15A",
           "#19d3f3",
           "#FF6692",
           "#B6E880",
           "#FF97FF",
           "#FECB52"
          ],
          "font": {
           "color": "#2a3f5f"
          },
          "geo": {
           "bgcolor": "white",
           "lakecolor": "white",
           "landcolor": "white",
           "showlakes": true,
           "showland": true,
           "subunitcolor": "#C8D4E3"
          },
          "hoverlabel": {
           "align": "left"
          },
          "hovermode": "closest",
          "mapbox": {
           "style": "light"
          },
          "paper_bgcolor": "white",
          "plot_bgcolor": "white",
          "polar": {
           "angularaxis": {
            "gridcolor": "#EBF0F8",
            "linecolor": "#EBF0F8",
            "ticks": ""
           },
           "bgcolor": "white",
           "radialaxis": {
            "gridcolor": "#EBF0F8",
            "linecolor": "#EBF0F8",
            "ticks": ""
           }
          },
          "scene": {
           "xaxis": {
            "backgroundcolor": "white",
            "gridcolor": "#DFE8F3",
            "gridwidth": 2,
            "linecolor": "#EBF0F8",
            "showbackground": true,
            "ticks": "",
            "zerolinecolor": "#EBF0F8"
           },
           "yaxis": {
            "backgroundcolor": "white",
            "gridcolor": "#DFE8F3",
            "gridwidth": 2,
            "linecolor": "#EBF0F8",
            "showbackground": true,
            "ticks": "",
            "zerolinecolor": "#EBF0F8"
           },
           "zaxis": {
            "backgroundcolor": "white",
            "gridcolor": "#DFE8F3",
            "gridwidth": 2,
            "linecolor": "#EBF0F8",
            "showbackground": true,
            "ticks": "",
            "zerolinecolor": "#EBF0F8"
           }
          },
          "shapedefaults": {
           "line": {
            "color": "#2a3f5f"
           }
          },
          "ternary": {
           "aaxis": {
            "gridcolor": "#DFE8F3",
            "linecolor": "#A2B1C6",
            "ticks": ""
           },
           "baxis": {
            "gridcolor": "#DFE8F3",
            "linecolor": "#A2B1C6",
            "ticks": ""
           },
           "bgcolor": "white",
           "caxis": {
            "gridcolor": "#DFE8F3",
            "linecolor": "#A2B1C6",
            "ticks": ""
           }
          },
          "title": {
           "x": 0.05
          },
          "xaxis": {
           "automargin": true,
           "gridcolor": "#EBF0F8",
           "linecolor": "#EBF0F8",
           "ticks": "",
           "title": {
            "standoff": 15
           },
           "zerolinecolor": "#EBF0F8",
           "zerolinewidth": 2
          },
          "yaxis": {
           "automargin": true,
           "gridcolor": "#EBF0F8",
           "linecolor": "#EBF0F8",
           "ticks": "",
           "title": {
            "standoff": 15
           },
           "zerolinecolor": "#EBF0F8",
           "zerolinewidth": 2
          }
         }
        },
        "title": {
         "text": "Pérdida durante el entrenamiento y validación (Mejor LR)"
        },
        "xaxis": {
         "title": {
          "text": "Epochs"
         }
        },
        "yaxis": {
         "title": {
          "text": "Pérdida (Loss)"
         }
        }
       }
      }
     },
     "metadata": {},
     "output_type": "display_data"
    },
    {
     "name": "stdout",
     "output_type": "stream",
     "text": [
      "\u001b[1m16/16\u001b[0m \u001b[32m━━━━━━━━━━━━━━━━━━━━\u001b[0m\u001b[37m\u001b[0m \u001b[1m0s\u001b[0m 1ms/step - loss: 0.0437 \n",
      "Pierda en el conjunto de teste: 0.04164654016494751\n",
      "\u001b[1m16/16\u001b[0m \u001b[32m━━━━━━━━━━━━━━━━━━━━\u001b[0m\u001b[37m\u001b[0m \u001b[1m0s\u001b[0m 6ms/step\n"
     ]
    },
    {
     "data": {
      "application/vnd.plotly.v1+json": {
       "config": {
        "plotlyServerURL": "https://plot.ly"
       },
       "data": [
        {
         "hovertemplate": "Valores Reales=%{x}<br>Predicciones=%{y}<extra></extra>",
         "legendgroup": "",
         "marker": {
          "color": "#636efa",
          "symbol": "circle"
         },
         "mode": "markers",
         "name": "",
         "orientation": "v",
         "showlegend": false,
         "type": "scatter",
         "x": [
          0.21658986175115208,
          0.1912442396313364,
          0.09216589861751151,
          0.12442396313364054,
          0.23732718894009214,
          0.1889400921658986,
          0.10138248847926268,
          0.22811059907834103,
          0.11981566820276496,
          0.052995391705069124,
          0.06682027649769584,
          0.23963133640552997,
          0.14746543778801843,
          0.3617511520737327,
          0.3087557603686636,
          0.07834101382488479,
          0.04377880184331797,
          0.020737327188940093,
          0.347926267281106,
          0.08755760368663595,
          0.2626728110599078,
          0.12442396313364054,
          0.13824884792626727,
          0.009216589861751154,
          0.023041474654377878,
          0.08986175115207373,
          0.05069124423963133,
          0.04608294930875576,
          0.004608294930875577,
          0.2626728110599078,
          0.22119815668202764,
          0.027649769585253454,
          0.2626728110599078,
          0.2073732718894009,
          0.07834101382488479,
          0.23502304147465436,
          0.1912442396313364,
          0.20506912442396313,
          0.20506912442396313,
          0.16359447004608293,
          0.03225806451612904,
          0.11059907834101382,
          0.0184331797235023,
          0.12211981566820276,
          0.048387096774193554,
          0.1129032258064516,
          0.10138248847926268,
          0.1497695852534562,
          0.08294930875576037,
          0.055299539170506916,
          0.027649769585253454,
          0.034562211981566816,
          0.08986175115207373,
          0.059907834101382486,
          0.1935483870967742,
          0.24193548387096775,
          0.04147465437788018,
          0.016129032258064516,
          0.3433179723502304,
          0.06221198156682028,
          0.22811059907834103,
          0.25115207373271886,
          0.19815668202764977,
          0.12903225806451613,
          0.1935483870967742,
          0.2995391705069124,
          0.052995391705069124,
          0.1728110599078341,
          0.2119815668202765,
          0.4608294930875576,
          0.10138248847926268,
          0.20046082949308755,
          0.19585253456221197,
          0.10138248847926268,
          0.12211981566820276,
          0.09907834101382487,
          0.016129032258064516,
          0.33410138248847926,
          0.152073732718894,
          0.41935483870967744,
          0.21658986175115208,
          0.03225806451612904,
          0.05069124423963133,
          0.07834101382488479,
          0.03225806451612904,
          0.10829493087557604,
          0.23963133640552997,
          0.3087557603686636,
          0.06221198156682028,
          0.22811059907834103,
          0.271889400921659,
          0.3294930875576037,
          0.016129032258064516,
          0.15898617511520738,
          0.0391705069124424,
          0.07834101382488479,
          0.08294930875576037,
          0.22811059907834103,
          0.1912442396313364,
          0.034562211981566816,
          0.12442396313364054,
          0.08755760368663595,
          0.023041474654377878,
          0.08986175115207373,
          0.14746543778801843,
          0.07603686635944701,
          0.06682027649769584,
          0.07834101382488479,
          0.1705069124423963,
          0.06682027649769584,
          0.0737327188940092,
          0.009216589861751154,
          0.055299539170506916,
          0.12672811059907835,
          0.18433179723502302,
          0.04608294930875576,
          0.1705069124423963,
          0.2926267281105991,
          0.19815668202764977,
          0.1705069124423963,
          0.04377880184331797,
          0.25115207373271886,
          0.1912442396313364,
          0.055299539170506916,
          0.009216589861751154,
          0.02534562211981567,
          0.15668202764976957,
          0.07834101382488479,
          0.18433179723502302,
          0.016129032258064516,
          0.24423963133640553,
          0.3617511520737327,
          0.2857142857142857,
          0.1935483870967742,
          0.05069124423963133,
          0.21658986175115208,
          0.057603686635944694,
          0.05069124423963133,
          0.23963133640552997,
          0.0391705069124424,
          0.059907834101382486,
          0.24884792626728108,
          0.08986175115207373,
          0.07834101382488479,
          0.3387096774193548,
          0.10599078341013823,
          0.03686635944700461,
          0.07834101382488479,
          0.055299539170506916,
          0.2626728110599078,
          0.21658986175115208,
          0.2119815668202765,
          0.11981566820276496,
          0.03225806451612904,
          0.18663594470046083,
          0.21889400921658986,
          0.15898617511520738,
          0.25806451612903225,
          0.25806451612903225,
          0.048387096774193554,
          0.1129032258064516,
          0.048387096774193554,
          0.16359447004608293,
          0.05069124423963133,
          0.10138248847926268,
          0.07834101382488479,
          0.08294930875576037,
          0.2857142857142857,
          0.2880184331797235,
          0.21658986175115208,
          0.0967741935483871,
          0.15898617511520738,
          0.04608294930875576,
          0.08755760368663595,
          0.1336405529953917,
          0.03686635944700461,
          0.1912442396313364,
          0.24423963133640553,
          0.23963133640552997,
          0.1543778801843318,
          0.04377880184331797,
          0.0737327188940092,
          0.20276497695852533,
          0.07834101382488479,
          0.057603686635944694,
          0.0184331797235023,
          0.08294930875576037,
          0.23732718894009214,
          0.4009216589861751,
          0.14516129032258063,
          0.055299539170506916,
          0.15898617511520738,
          0.21658986175115208,
          0.23963133640552997,
          0.10138248847926268,
          0.057603686635944694,
          0.15668202764976957,
          0.09447004608294929,
          0.2534562211981567,
          0.20046082949308755,
          0.06682027649769584,
          0.0737327188940092,
          0.0737327188940092,
          0.055299539170506916,
          0.03686635944700461,
          0.25806451612903225,
          0.04608294930875576,
          0.3456221198156682,
          0.1728110599078341,
          0.2626728110599078,
          0.18202764976958524,
          0.02534562211981567,
          0.24193548387096775,
          0.016129032258064516,
          0.1313364055299539,
          0.24193548387096775,
          0.04608294930875576,
          0.08755760368663595,
          0.3225806451612903,
          0.2834101382488479,
          0.18202764976958524,
          0.07834101382488479,
          0.22811059907834103,
          0.2235023041474654,
          0.07834101382488479,
          0.2119815668202765,
          0.1935483870967742,
          0.3064516129032258,
          0.43317972350230416,
          0.055299539170506916,
          0.2258064516129032,
          0.35023041474654376,
          0.3087557603686636,
          0.1705069124423963,
          0.152073732718894,
          0.1129032258064516,
          0.1889400921658986,
          0.3225806451612903,
          0.04608294930875576,
          0.17972350230414746,
          0.04377880184331797,
          0.20276497695852533,
          0.24193548387096775,
          0.05069124423963133,
          0.1129032258064516,
          -0.03686635944700461,
          0.12211981566820276,
          0.26036866359447003,
          0.15898617511520738,
          0.057603686635944694,
          0.11981566820276496,
          0.07142857142857142,
          0.04377880184331797,
          0.14746543778801843,
          0.04608294930875576,
          0.1912442396313364,
          0.19815668202764977,
          0.05069124423963133,
          0.059907834101382486,
          0.4009216589861751,
          0.05069124423963133,
          0.3387096774193548,
          0.059907834101382486,
          0.25115207373271886,
          0.24423963133640553,
          0.023041474654377878,
          0.06682027649769584,
          0.03686635944700461,
          0.1912442396313364,
          0.1336405529953917,
          0.03225806451612904,
          0.06221198156682028,
          0.19815668202764977,
          0.3548387096774194,
          0.15668202764976957,
          0.08294930875576037,
          0.06451612903225806,
          0.06682027649769584,
          0.06682027649769584,
          0.06451612903225806,
          0.14516129032258063,
          0.1935483870967742,
          0.10138248847926268,
          0.24423963133640553,
          0.22119815668202764,
          0.17511520737327188,
          0.22119815668202764,
          0.06912442396313365,
          0.23732718894009214,
          0.23963133640552997,
          0.07834101382488479,
          0.2235023041474654,
          0.027649769585253454,
          0.16589861751152074,
          0.18433179723502302,
          0.01382488479262673,
          0.20276497695852533,
          0.16589861751152074,
          0.07834101382488479,
          0.04377880184331797,
          0.11059907834101382,
          0.1705069124423963,
          0.2857142857142857,
          0.09216589861751151,
          0.07603686635944701,
          0.25115207373271886,
          0.059907834101382486,
          0.17972350230414746,
          0.08294930875576037,
          0.03225806451612904,
          0.25115207373271886,
          0.06682027649769584,
          0.055299539170506916,
          0.08294930875576037,
          0.04377880184331797,
          0.04147465437788018,
          0.09447004608294929,
          0.21889400921658986,
          0.009216589861751154,
          0.18433179723502302,
          0.21658986175115208,
          0.1912442396313364,
          0.07142857142857142,
          0.06451612903225806,
          0.03686635944700461,
          0.04608294930875576,
          0.17741935483870966,
          0.04377880184331797,
          0.1889400921658986,
          0.18663594470046083,
          0.20046082949308755,
          0.2096774193548387,
          0.10138248847926268,
          0.04608294930875576,
          0.5046082949308757,
          0.11751152073732718,
          0.057603686635944694,
          0.1543778801843318,
          0.016129032258064516,
          0.08294930875576037,
          0.11059907834101382,
          0.2119815668202765,
          0.2995391705069124,
          0.1705069124423963,
          0.10138248847926268,
          0.16359447004608293,
          0.07603686635944701,
          0.07142857142857142,
          0.41244239631336405,
          0.08986175115207373,
          0.08755760368663595,
          0.11751152073732718,
          0.21658986175115208,
          0.055299539170506916,
          0.06682027649769584,
          0.07834101382488479,
          0.3064516129032258,
          0.02534562211981567,
          0.12442396313364054,
          0.1336405529953917,
          0.23732718894009214,
          0.04377880184331797,
          0.02534562211981567,
          0.07142857142857142,
          0.052995391705069124,
          0.07603686635944701,
          0.1705069124423963,
          0.023041474654377878,
          0.0737327188940092,
          0.029953917050691246,
          0.17511520737327188,
          0.27419354838709675,
          0.048387096774193554,
          0.07834101382488479,
          0.3433179723502304,
          0.15898617511520738,
          0.4170506912442396,
          0.08986175115207373,
          0.24423963133640553,
          0.3018433179723502,
          0.006912442396313362,
          0.20046082949308755,
          0.27649769585253453,
          0.27649769585253453,
          0.1336405529953917,
          0.1152073732718894,
          0.08294930875576037,
          0.23963133640552997,
          0.04147465437788018,
          0.32027649769585254,
          0.11981566820276496,
          0.18202764976958524,
          0.16129032258064516,
          0.16359447004608293,
          0.02534562211981567,
          0.2073732718894009,
          0.07142857142857142,
          0.17741935483870966,
          0.1705069124423963,
          0.16359447004608293,
          0.07142857142857142,
          0.034562211981566816,
          0.07603686635944701,
          0.2142857142857143,
          0.1705069124423963,
          0.12442396313364054,
          0.055299539170506916,
          0.0391705069124424,
          0.21658986175115208,
          0.048387096774193554,
          0.07834101382488479,
          0.07834101382488479,
          0.09216589861751151,
          0.06912442396313365,
          0.26036866359447003,
          0.055299539170506916,
          0.07834101382488479,
          0.04377880184331797,
          0.22811059907834103,
          0.10829493087557604,
          0.18202764976958524,
          0.0391705069124424,
          0.08294930875576037,
          0.25806451612903225,
          0.016129032258064516,
          0.06682027649769584,
          0.06682027649769584,
          0.07142857142857142,
          0.1359447004608295,
          0.07142857142857142,
          0.12442396313364054,
          0.08986175115207373,
          0.4400921658986175,
          0.04377880184331797,
          0.10829493087557604,
          0.22811059907834103,
          0.2857142857142857,
          0.2258064516129032,
          0.1705069124423963,
          0.07834101382488479,
          0.1728110599078341,
          0.059907834101382486,
          0.06682027649769584,
          0.14285714285714285,
          0.10368663594470046,
          0.14285714285714285,
          0.055299539170506916,
          0.059907834101382486,
          0.055299539170506916,
          0.1935483870967742,
          0.1935483870967742,
          0.1935483870967742,
          0.3686635944700461,
          0.08064516129032259,
          0.06682027649769584,
          0.1705069124423963,
          0.05069124423963133,
          0.19585253456221197,
          0.22119815668202764,
          0.12442396313364054,
          0.3410138248847926,
          0.1152073732718894,
          0.19815668202764977,
          0.1129032258064516,
          0.04377880184331797,
          0.18663594470046083,
          0.12442396313364054,
          0.1497695852534562,
          0.1935483870967742,
          0.10138248847926268,
          0.01382488479262673,
          0.25115207373271886,
          0.0391705069124424,
          0.22811059907834103,
          0.19815668202764977,
          0.07834101382488479,
          0.1129032258064516,
          0.271889400921659,
          0.152073732718894,
          0.06221198156682028,
          0.0391705069124424,
          0.08986175115207373,
          0.0737327188940092,
          0.2626728110599078,
          0.11059907834101382,
          0.14746543778801843,
          0.0391705069124424,
          0.3456221198156682,
          0.1543778801843318,
          0.10138248847926268,
          0.12442396313364054,
          0.25115207373271886,
          0.1336405529953917,
          0.2995391705069124,
          0.41244239631336405,
          0.04147465437788018,
          0.02534562211981567,
          0.07834101382488479,
          0.10138248847926268,
          0.16129032258064516
         ],
         "xaxis": "x",
         "y": [
          0.252333402633667,
          0.2032865583896637,
          0.20911258459091187,
          0.19672620296478271,
          0.07008666545152664,
          0.20092874765396118,
          0.07008666545152664,
          0.2185787558555603,
          0.21850281953811646,
          0.06910721212625504,
          0.07008666545152664,
          0.23001405596733093,
          0.20835131406784058,
          0.20682016015052795,
          0.175546795129776,
          0.07008666545152664,
          0.07008666545152664,
          0.07008666545152664,
          0.2591037154197693,
          0.07008666545152664,
          0.18089285492897034,
          0.191997230052948,
          0.17070193588733673,
          0.061629846692085266,
          0.06673561036586761,
          0.07008666545152664,
          0.06710205972194672,
          0.06897784769535065,
          0.06601602584123611,
          0.18089285492897034,
          0.2492174208164215,
          0.07008666545152664,
          0.21504157781600952,
          0.21839773654937744,
          0.07008666545152664,
          0.23643505573272705,
          0.07008666545152664,
          0.18389001488685608,
          0.22695153951644897,
          0.2004903256893158,
          0.06841272115707397,
          0.07008666545152664,
          0.061271436512470245,
          0.22214412689208984,
          0.06581031531095505,
          0.17851859331130981,
          0.07008666545152664,
          0.18378961086273193,
          0.07008666545152664,
          0.07008666545152664,
          0.06426946073770523,
          0.07008666545152664,
          0.07008666545152664,
          0.07008666545152664,
          0.20714548230171204,
          0.1887102723121643,
          0.07008666545152664,
          0.07008666545152664,
          0.23706328868865967,
          0.07008666545152664,
          0.22034728527069092,
          0.2546115815639496,
          0.2138403058052063,
          0.19726866483688354,
          0.1779477745294571,
          0.22293621301651,
          0.16165688633918762,
          0.19063694775104523,
          0.07008666545152664,
          0.35878774523735046,
          0.17146959900856018,
          0.17305046319961548,
          0.0676986575126648,
          0.17146959900856018,
          0.21626016497612,
          0.08942229300737381,
          0.06592956185340881,
          0.21568438410758972,
          0.16507424414157867,
          0.3567747473716736,
          0.23261693120002747,
          0.07008666545152664,
          0.07008666545152664,
          0.07008666545152664,
          0.07008666545152664,
          0.17810970544815063,
          0.19576621055603027,
          0.22139599919319153,
          0.07008666545152664,
          0.19182616472244263,
          0.24176427721977234,
          0.21770930290222168,
          0.0676615834236145,
          0.2065507173538208,
          0.06651385873556137,
          0.07008666545152664,
          0.17634010314941406,
          0.2689627707004547,
          0.22483757138252258,
          0.07008666545152664,
          0.191997230052948,
          0.07008666545152664,
          0.06673561036586761,
          0.07008666545152664,
          0.07008666545152664,
          0.07008666545152664,
          0.07008666545152664,
          0.07008666545152664,
          0.20476242899894714,
          0.07008666545152664,
          0.07008666545152664,
          0.067676842212677,
          0.07008666545152664,
          0.07008666545152664,
          0.2059411108493805,
          0.07008666545152664,
          0.22804927825927734,
          0.18068358302116394,
          0.21556812524795532,
          0.18982568383216858,
          0.07008666545152664,
          0.23790952563285828,
          0.2032865583896637,
          0.07008666545152664,
          0.07008666545152664,
          0.07008666545152664,
          0.1682714968919754,
          0.07008666545152664,
          0.19179773330688477,
          0.066037617623806,
          0.2396126389503479,
          0.20682016015052795,
          0.07008666545152664,
          0.24074995517730713,
          0.06981626152992249,
          0.176820769906044,
          0.08079563826322556,
          0.07008666545152664,
          0.20465287566184998,
          0.06651386618614197,
          0.1415250599384308,
          0.24151408672332764,
          0.07008666545152664,
          0.07008666545152664,
          0.20775189995765686,
          0.25080031156539917,
          0.07008666545152664,
          0.07008666545152664,
          0.06932301819324493,
          0.27605125308036804,
          0.2512543797492981,
          0.21935847401618958,
          0.07008666545152664,
          0.07008666545152664,
          0.20522281527519226,
          0.2533515691757202,
          0.1849338263273239,
          0.2668405771255493,
          0.20360785722732544,
          0.0810406357049942,
          0.17851859331130981,
          0.06581031531095505,
          0.17722150683403015,
          0.07008666545152664,
          0.07008666545152664,
          0.07008666545152664,
          0.07008666545152664,
          0.21020957827568054,
          0.2206614911556244,
          0.19985538721084595,
          0.07008666545152664,
          0.07008666545152664,
          0.07008666545152664,
          0.20588147640228271,
          0.1953735053539276,
          0.06285670399665833,
          0.2258721888065338,
          0.12991391122341156,
          0.24847054481506348,
          0.17171710729599,
          0.07008666545152664,
          0.0676279291510582,
          0.20831400156021118,
          0.06850098073482513,
          0.07008666545152664,
          0.06258359551429749,
          0.17445605993270874,
          0.23113170266151428,
          0.26245808601379395,
          0.19319617748260498,
          0.07008666545152664,
          0.07008666545152664,
          0.2512543797492981,
          0.21048590540885925,
          0.1899305284023285,
          0.07008666545152664,
          0.21496284008026123,
          0.07008666545152664,
          0.24922820925712585,
          0.06776488572359085,
          0.07008666545152664,
          0.07008666545152664,
          0.07008666545152664,
          0.17020979523658752,
          0.0685725286602974,
          0.20360785722732544,
          0.06803374737501144,
          0.23121652007102966,
          0.21015486121177673,
          0.23434245586395264,
          0.22155368328094482,
          0.07008666545152664,
          0.19710662961006165,
          0.0676615834236145,
          0.1955317258834839,
          0.25040191411972046,
          0.07008666545152664,
          0.07008666545152664,
          0.29735395312309265,
          0.22237274050712585,
          0.19396480917930603,
          0.06752680242061615,
          0.21545138955116272,
          0.21373039484024048,
          0.07008666545152664,
          0.07008666545152664,
          0.24157953262329102,
          0.21057066321372986,
          0.2431493103504181,
          0.07008666545152664,
          0.20075872540473938,
          0.2577706575393677,
          0.1806766837835312,
          0.23910924792289734,
          0.2089393138885498,
          0.19610485434532166,
          0.06882348656654358,
          0.2200125753879547,
          0.07008666545152664,
          0.1848611831665039,
          0.07008666545152664,
          0.22453895211219788,
          0.22184202075004578,
          0.07008666545152664,
          0.07008666545152664,
          0.0989178717136383,
          0.22214412689208984,
          0.20632633566856384,
          0.20439812541007996,
          0.07008666545152664,
          0.07008666545152664,
          0.07008666545152664,
          0.07008666545152664,
          0.06940867006778717,
          0.07008666545152664,
          0.19812986254692078,
          0.2002142369747162,
          0.07008666545152664,
          0.14146703481674194,
          0.20358163118362427,
          0.07008666545152664,
          0.31707537174224854,
          0.07008666545152664,
          0.2246060073375702,
          0.19401629269123077,
          0.05511612445116043,
          0.07008666545152664,
          0.07008666545152664,
          0.17365603148937225,
          0.07008666545152664,
          0.07008666545152664,
          0.07008666545152664,
          0.23228663206100464,
          0.25426724553108215,
          0.21288809180259705,
          0.06994463503360748,
          0.07008666545152664,
          0.07008666545152664,
          0.07008666545152664,
          0.1988370418548584,
          0.07008666545152664,
          0.1967732012271881,
          0.1899305284023285,
          0.21170133352279663,
          0.21141588687896729,
          0.18492954969406128,
          0.2434026598930359,
          0.07008666545152664,
          0.18037784099578857,
          0.2558576464653015,
          0.07008666545152664,
          0.20080184936523438,
          0.07008666545152664,
          0.1697191596031189,
          0.17403022944927216,
          0.06634814292192459,
          0.2541083097457886,
          0.1697191596031189,
          0.07008666545152664,
          0.07008666545152664,
          0.19400934875011444,
          0.07008666545152664,
          0.20422714948654175,
          0.07008666545152664,
          0.07008666545152664,
          0.23790952563285828,
          0.15907873213291168,
          0.20685294270515442,
          0.07008666545152664,
          0.07008666545152664,
          0.23593804240226746,
          0.07008666545152664,
          0.06932301819324493,
          0.06994463503360748,
          0.07008666545152664,
          0.11813931167125702,
          0.07008666545152664,
          0.2186470329761505,
          0.061629846692085266,
          0.201488196849823,
          0.21703305840492249,
          0.07008666545152664,
          0.07008666545152664,
          0.07008666545152664,
          0.06800881773233414,
          0.07008666545152664,
          0.21874579787254333,
          0.07008666545152664,
          0.21692335605621338,
          0.23382902145385742,
          0.18849551677703857,
          0.21658727526664734,
          0.17851132154464722,
          0.07008666545152664,
          0.28091683983802795,
          0.18174287676811218,
          0.07008666545152664,
          0.21362796425819397,
          0.052553094923496246,
          0.06825323402881622,
          0.0698666200041771,
          0.07008666545152664,
          0.26445525884628296,
          0.18029901385307312,
          0.22737687826156616,
          0.1758081018924713,
          0.07008666545152664,
          0.07008666545152664,
          0.2429167926311493,
          0.06535891443490982,
          0.07008666545152664,
          0.23705431818962097,
          0.17541798949241638,
          0.07008666545152664,
          0.07008666545152664,
          0.0693882405757904,
          0.21961748600006104,
          0.0672929510474205,
          0.191997230052948,
          0.1640639305114746,
          0.1934698075056076,
          0.06818928569555283,
          0.06948558986186981,
          0.07008666545152664,
          0.07008666545152664,
          0.07008666545152664,
          0.18029901385307312,
          0.05511612445116043,
          0.07008666545152664,
          0.07008666545152664,
          0.19623512029647827,
          0.20735648274421692,
          0.0667785108089447,
          0.06933236122131348,
          0.2318064570426941,
          0.17286273837089539,
          0.24909886717796326,
          0.07008666545152664,
          0.19168925285339355,
          0.21985077857971191,
          0.06601602584123611,
          0.19510039687156677,
          0.22047734260559082,
          0.2551693320274353,
          0.1953735053539276,
          0.16660743951797485,
          0.07008666545152664,
          0.20090332627296448,
          0.07008666545152664,
          0.20393690466880798,
          0.07008666545152664,
          0.21643507480621338,
          0.2354092001914978,
          0.07008666545152664,
          0.07008666545152664,
          0.1934228241443634,
          0.06807653605937958,
          0.21145334839820862,
          0.2146701216697693,
          0.17722150683403015,
          0.07008666545152664,
          0.06356970965862274,
          0.07008666545152664,
          0.2130875587463379,
          0.18133676052093506,
          0.07008666545152664,
          0.07008666545152664,
          0.07008666545152664,
          0.18335063755512238,
          0.07008666545152664,
          0.06976476311683655,
          0.06976476311683655,
          0.07008666545152664,
          0.07008666545152664,
          0.22576743364334106,
          0.06496217846870422,
          0.07008666545152664,
          0.07008666545152664,
          0.2689627707004547,
          0.15458855032920837,
          0.2172684371471405,
          0.0700642392039299,
          0.07008666545152664,
          0.23240622878074646,
          0.0676615834236145,
          0.06979525834321976,
          0.07008666545152664,
          0.07008666545152664,
          0.07008666545152664,
          0.07008666545152664,
          0.18520335853099823,
          0.07008666545152664,
          0.309188574552536,
          0.07008666545152664,
          0.17810970544815063,
          0.2689627707004547,
          0.20422714948654175,
          0.21392470598220825,
          0.23425209522247314,
          0.07008666545152664,
          0.2117443084716797,
          0.07008666545152664,
          0.07008666545152664,
          0.18069007992744446,
          0.07008666545152664,
          0.16152460873126984,
          0.07008666545152664,
          0.07008666545152664,
          0.07008666545152664,
          0.2178163230419159,
          0.24157953262329102,
          0.17924033105373383,
          0.2337864637374878,
          0.07008666545152664,
          0.07008666545152664,
          0.16944293677806854,
          0.07008666545152664,
          0.06956277042627335,
          0.2478342056274414,
          0.07008666545152664,
          0.2774983048439026,
          0.07008666545152664,
          0.2698992192745209,
          0.07008666545152664,
          0.07008666545152664,
          0.18721777200698853,
          0.2449113130569458,
          0.17369075119495392,
          0.20163676142692566,
          0.06784790754318237,
          0.06634814292192459,
          0.22129902243614197,
          0.07008666545152664,
          0.2689627707004547,
          0.17447233200073242,
          0.07008666545152664,
          0.07008666545152664,
          0.07008666545152664,
          0.16507424414157867,
          0.07008666545152664,
          0.11462138593196869,
          0.07008666545152664,
          0.07008666545152664,
          0.24620023369789124,
          0.0698666200041771,
          0.16400384902954102,
          0.06651386618614197,
          0.2226296067237854,
          0.21362796425819397,
          0.19525590538978577,
          0.07008666545152664,
          0.23887279629707336,
          0.18145647644996643,
          0.26445525884628296,
          0.22844567894935608,
          0.06792258471250534,
          0.07008666545152664,
          0.07008666545152664,
          0.07008666545152664,
          0.1793118566274643
         ],
         "yaxis": "y"
        }
       ],
       "layout": {
        "legend": {
         "tracegroupgap": 0
        },
        "shapes": [
         {
          "line": {
           "color": "red",
           "dash": "dot"
          },
          "type": "line",
          "x0": -0.03686635944700461,
          "x1": 0.5046082949308757,
          "y0": -0.03686635944700461,
          "y1": 0.5046082949308757
         }
        ],
        "template": {
         "data": {
          "bar": [
           {
            "error_x": {
             "color": "#2a3f5f"
            },
            "error_y": {
             "color": "#2a3f5f"
            },
            "marker": {
             "line": {
              "color": "white",
              "width": 0.5
             },
             "pattern": {
              "fillmode": "overlay",
              "size": 10,
              "solidity": 0.2
             }
            },
            "type": "bar"
           }
          ],
          "barpolar": [
           {
            "marker": {
             "line": {
              "color": "white",
              "width": 0.5
             },
             "pattern": {
              "fillmode": "overlay",
              "size": 10,
              "solidity": 0.2
             }
            },
            "type": "barpolar"
           }
          ],
          "carpet": [
           {
            "aaxis": {
             "endlinecolor": "#2a3f5f",
             "gridcolor": "#C8D4E3",
             "linecolor": "#C8D4E3",
             "minorgridcolor": "#C8D4E3",
             "startlinecolor": "#2a3f5f"
            },
            "baxis": {
             "endlinecolor": "#2a3f5f",
             "gridcolor": "#C8D4E3",
             "linecolor": "#C8D4E3",
             "minorgridcolor": "#C8D4E3",
             "startlinecolor": "#2a3f5f"
            },
            "type": "carpet"
           }
          ],
          "choropleth": [
           {
            "colorbar": {
             "outlinewidth": 0,
             "ticks": ""
            },
            "type": "choropleth"
           }
          ],
          "contour": [
           {
            "colorbar": {
             "outlinewidth": 0,
             "ticks": ""
            },
            "colorscale": [
             [
              0,
              "#0d0887"
             ],
             [
              0.1111111111111111,
              "#46039f"
             ],
             [
              0.2222222222222222,
              "#7201a8"
             ],
             [
              0.3333333333333333,
              "#9c179e"
             ],
             [
              0.4444444444444444,
              "#bd3786"
             ],
             [
              0.5555555555555556,
              "#d8576b"
             ],
             [
              0.6666666666666666,
              "#ed7953"
             ],
             [
              0.7777777777777778,
              "#fb9f3a"
             ],
             [
              0.8888888888888888,
              "#fdca26"
             ],
             [
              1,
              "#f0f921"
             ]
            ],
            "type": "contour"
           }
          ],
          "contourcarpet": [
           {
            "colorbar": {
             "outlinewidth": 0,
             "ticks": ""
            },
            "type": "contourcarpet"
           }
          ],
          "heatmap": [
           {
            "colorbar": {
             "outlinewidth": 0,
             "ticks": ""
            },
            "colorscale": [
             [
              0,
              "#0d0887"
             ],
             [
              0.1111111111111111,
              "#46039f"
             ],
             [
              0.2222222222222222,
              "#7201a8"
             ],
             [
              0.3333333333333333,
              "#9c179e"
             ],
             [
              0.4444444444444444,
              "#bd3786"
             ],
             [
              0.5555555555555556,
              "#d8576b"
             ],
             [
              0.6666666666666666,
              "#ed7953"
             ],
             [
              0.7777777777777778,
              "#fb9f3a"
             ],
             [
              0.8888888888888888,
              "#fdca26"
             ],
             [
              1,
              "#f0f921"
             ]
            ],
            "type": "heatmap"
           }
          ],
          "heatmapgl": [
           {
            "colorbar": {
             "outlinewidth": 0,
             "ticks": ""
            },
            "colorscale": [
             [
              0,
              "#0d0887"
             ],
             [
              0.1111111111111111,
              "#46039f"
             ],
             [
              0.2222222222222222,
              "#7201a8"
             ],
             [
              0.3333333333333333,
              "#9c179e"
             ],
             [
              0.4444444444444444,
              "#bd3786"
             ],
             [
              0.5555555555555556,
              "#d8576b"
             ],
             [
              0.6666666666666666,
              "#ed7953"
             ],
             [
              0.7777777777777778,
              "#fb9f3a"
             ],
             [
              0.8888888888888888,
              "#fdca26"
             ],
             [
              1,
              "#f0f921"
             ]
            ],
            "type": "heatmapgl"
           }
          ],
          "histogram": [
           {
            "marker": {
             "pattern": {
              "fillmode": "overlay",
              "size": 10,
              "solidity": 0.2
             }
            },
            "type": "histogram"
           }
          ],
          "histogram2d": [
           {
            "colorbar": {
             "outlinewidth": 0,
             "ticks": ""
            },
            "colorscale": [
             [
              0,
              "#0d0887"
             ],
             [
              0.1111111111111111,
              "#46039f"
             ],
             [
              0.2222222222222222,
              "#7201a8"
             ],
             [
              0.3333333333333333,
              "#9c179e"
             ],
             [
              0.4444444444444444,
              "#bd3786"
             ],
             [
              0.5555555555555556,
              "#d8576b"
             ],
             [
              0.6666666666666666,
              "#ed7953"
             ],
             [
              0.7777777777777778,
              "#fb9f3a"
             ],
             [
              0.8888888888888888,
              "#fdca26"
             ],
             [
              1,
              "#f0f921"
             ]
            ],
            "type": "histogram2d"
           }
          ],
          "histogram2dcontour": [
           {
            "colorbar": {
             "outlinewidth": 0,
             "ticks": ""
            },
            "colorscale": [
             [
              0,
              "#0d0887"
             ],
             [
              0.1111111111111111,
              "#46039f"
             ],
             [
              0.2222222222222222,
              "#7201a8"
             ],
             [
              0.3333333333333333,
              "#9c179e"
             ],
             [
              0.4444444444444444,
              "#bd3786"
             ],
             [
              0.5555555555555556,
              "#d8576b"
             ],
             [
              0.6666666666666666,
              "#ed7953"
             ],
             [
              0.7777777777777778,
              "#fb9f3a"
             ],
             [
              0.8888888888888888,
              "#fdca26"
             ],
             [
              1,
              "#f0f921"
             ]
            ],
            "type": "histogram2dcontour"
           }
          ],
          "mesh3d": [
           {
            "colorbar": {
             "outlinewidth": 0,
             "ticks": ""
            },
            "type": "mesh3d"
           }
          ],
          "parcoords": [
           {
            "line": {
             "colorbar": {
              "outlinewidth": 0,
              "ticks": ""
             }
            },
            "type": "parcoords"
           }
          ],
          "pie": [
           {
            "automargin": true,
            "type": "pie"
           }
          ],
          "scatter": [
           {
            "fillpattern": {
             "fillmode": "overlay",
             "size": 10,
             "solidity": 0.2
            },
            "type": "scatter"
           }
          ],
          "scatter3d": [
           {
            "line": {
             "colorbar": {
              "outlinewidth": 0,
              "ticks": ""
             }
            },
            "marker": {
             "colorbar": {
              "outlinewidth": 0,
              "ticks": ""
             }
            },
            "type": "scatter3d"
           }
          ],
          "scattercarpet": [
           {
            "marker": {
             "colorbar": {
              "outlinewidth": 0,
              "ticks": ""
             }
            },
            "type": "scattercarpet"
           }
          ],
          "scattergeo": [
           {
            "marker": {
             "colorbar": {
              "outlinewidth": 0,
              "ticks": ""
             }
            },
            "type": "scattergeo"
           }
          ],
          "scattergl": [
           {
            "marker": {
             "colorbar": {
              "outlinewidth": 0,
              "ticks": ""
             }
            },
            "type": "scattergl"
           }
          ],
          "scattermapbox": [
           {
            "marker": {
             "colorbar": {
              "outlinewidth": 0,
              "ticks": ""
             }
            },
            "type": "scattermapbox"
           }
          ],
          "scatterpolar": [
           {
            "marker": {
             "colorbar": {
              "outlinewidth": 0,
              "ticks": ""
             }
            },
            "type": "scatterpolar"
           }
          ],
          "scatterpolargl": [
           {
            "marker": {
             "colorbar": {
              "outlinewidth": 0,
              "ticks": ""
             }
            },
            "type": "scatterpolargl"
           }
          ],
          "scatterternary": [
           {
            "marker": {
             "colorbar": {
              "outlinewidth": 0,
              "ticks": ""
             }
            },
            "type": "scatterternary"
           }
          ],
          "surface": [
           {
            "colorbar": {
             "outlinewidth": 0,
             "ticks": ""
            },
            "colorscale": [
             [
              0,
              "#0d0887"
             ],
             [
              0.1111111111111111,
              "#46039f"
             ],
             [
              0.2222222222222222,
              "#7201a8"
             ],
             [
              0.3333333333333333,
              "#9c179e"
             ],
             [
              0.4444444444444444,
              "#bd3786"
             ],
             [
              0.5555555555555556,
              "#d8576b"
             ],
             [
              0.6666666666666666,
              "#ed7953"
             ],
             [
              0.7777777777777778,
              "#fb9f3a"
             ],
             [
              0.8888888888888888,
              "#fdca26"
             ],
             [
              1,
              "#f0f921"
             ]
            ],
            "type": "surface"
           }
          ],
          "table": [
           {
            "cells": {
             "fill": {
              "color": "#EBF0F8"
             },
             "line": {
              "color": "white"
             }
            },
            "header": {
             "fill": {
              "color": "#C8D4E3"
             },
             "line": {
              "color": "white"
             }
            },
            "type": "table"
           }
          ]
         },
         "layout": {
          "annotationdefaults": {
           "arrowcolor": "#2a3f5f",
           "arrowhead": 0,
           "arrowwidth": 1
          },
          "autotypenumbers": "strict",
          "coloraxis": {
           "colorbar": {
            "outlinewidth": 0,
            "ticks": ""
           }
          },
          "colorscale": {
           "diverging": [
            [
             0,
             "#8e0152"
            ],
            [
             0.1,
             "#c51b7d"
            ],
            [
             0.2,
             "#de77ae"
            ],
            [
             0.3,
             "#f1b6da"
            ],
            [
             0.4,
             "#fde0ef"
            ],
            [
             0.5,
             "#f7f7f7"
            ],
            [
             0.6,
             "#e6f5d0"
            ],
            [
             0.7,
             "#b8e186"
            ],
            [
             0.8,
             "#7fbc41"
            ],
            [
             0.9,
             "#4d9221"
            ],
            [
             1,
             "#276419"
            ]
           ],
           "sequential": [
            [
             0,
             "#0d0887"
            ],
            [
             0.1111111111111111,
             "#46039f"
            ],
            [
             0.2222222222222222,
             "#7201a8"
            ],
            [
             0.3333333333333333,
             "#9c179e"
            ],
            [
             0.4444444444444444,
             "#bd3786"
            ],
            [
             0.5555555555555556,
             "#d8576b"
            ],
            [
             0.6666666666666666,
             "#ed7953"
            ],
            [
             0.7777777777777778,
             "#fb9f3a"
            ],
            [
             0.8888888888888888,
             "#fdca26"
            ],
            [
             1,
             "#f0f921"
            ]
           ],
           "sequentialminus": [
            [
             0,
             "#0d0887"
            ],
            [
             0.1111111111111111,
             "#46039f"
            ],
            [
             0.2222222222222222,
             "#7201a8"
            ],
            [
             0.3333333333333333,
             "#9c179e"
            ],
            [
             0.4444444444444444,
             "#bd3786"
            ],
            [
             0.5555555555555556,
             "#d8576b"
            ],
            [
             0.6666666666666666,
             "#ed7953"
            ],
            [
             0.7777777777777778,
             "#fb9f3a"
            ],
            [
             0.8888888888888888,
             "#fdca26"
            ],
            [
             1,
             "#f0f921"
            ]
           ]
          },
          "colorway": [
           "#636efa",
           "#EF553B",
           "#00cc96",
           "#ab63fa",
           "#FFA15A",
           "#19d3f3",
           "#FF6692",
           "#B6E880",
           "#FF97FF",
           "#FECB52"
          ],
          "font": {
           "color": "#2a3f5f"
          },
          "geo": {
           "bgcolor": "white",
           "lakecolor": "white",
           "landcolor": "white",
           "showlakes": true,
           "showland": true,
           "subunitcolor": "#C8D4E3"
          },
          "hoverlabel": {
           "align": "left"
          },
          "hovermode": "closest",
          "mapbox": {
           "style": "light"
          },
          "paper_bgcolor": "white",
          "plot_bgcolor": "white",
          "polar": {
           "angularaxis": {
            "gridcolor": "#EBF0F8",
            "linecolor": "#EBF0F8",
            "ticks": ""
           },
           "bgcolor": "white",
           "radialaxis": {
            "gridcolor": "#EBF0F8",
            "linecolor": "#EBF0F8",
            "ticks": ""
           }
          },
          "scene": {
           "xaxis": {
            "backgroundcolor": "white",
            "gridcolor": "#DFE8F3",
            "gridwidth": 2,
            "linecolor": "#EBF0F8",
            "showbackground": true,
            "ticks": "",
            "zerolinecolor": "#EBF0F8"
           },
           "yaxis": {
            "backgroundcolor": "white",
            "gridcolor": "#DFE8F3",
            "gridwidth": 2,
            "linecolor": "#EBF0F8",
            "showbackground": true,
            "ticks": "",
            "zerolinecolor": "#EBF0F8"
           },
           "zaxis": {
            "backgroundcolor": "white",
            "gridcolor": "#DFE8F3",
            "gridwidth": 2,
            "linecolor": "#EBF0F8",
            "showbackground": true,
            "ticks": "",
            "zerolinecolor": "#EBF0F8"
           }
          },
          "shapedefaults": {
           "line": {
            "color": "#2a3f5f"
           }
          },
          "ternary": {
           "aaxis": {
            "gridcolor": "#DFE8F3",
            "linecolor": "#A2B1C6",
            "ticks": ""
           },
           "baxis": {
            "gridcolor": "#DFE8F3",
            "linecolor": "#A2B1C6",
            "ticks": ""
           },
           "bgcolor": "white",
           "caxis": {
            "gridcolor": "#DFE8F3",
            "linecolor": "#A2B1C6",
            "ticks": ""
           }
          },
          "title": {
           "x": 0.05
          },
          "xaxis": {
           "automargin": true,
           "gridcolor": "#EBF0F8",
           "linecolor": "#EBF0F8",
           "ticks": "",
           "title": {
            "standoff": 15
           },
           "zerolinecolor": "#EBF0F8",
           "zerolinewidth": 2
          },
          "yaxis": {
           "automargin": true,
           "gridcolor": "#EBF0F8",
           "linecolor": "#EBF0F8",
           "ticks": "",
           "title": {
            "standoff": 15
           },
           "zerolinecolor": "#EBF0F8",
           "zerolinewidth": 2
          }
         }
        },
        "title": {
         "text": "Valores Reales vs Predicciones (Mejor LR)"
        },
        "xaxis": {
         "anchor": "y",
         "domain": [
          0,
          1
         ],
         "title": {
          "text": "Valores Reales"
         }
        },
        "yaxis": {
         "anchor": "x",
         "domain": [
          0,
          1
         ],
         "title": {
          "text": "Predicciones"
         }
        }
       }
      }
     },
     "metadata": {},
     "output_type": "display_data"
    }
   ],
   "source": [
    "# Encontrar el mejor learning rate basado en validation_loss\n",
    "best_lr = results_lr.loc[results_lr[\"validation_loss\"].idxmin(), \"learning_rate\"]\n",
    "\n",
    "early_stopping = EarlyStopping(\n",
    "    monitor=\"val_loss\",\n",
    "    patience=5,# Incrementar para prevenir paradas prematuras\n",
    "    restore_best_weights=True # Restaurar mejores pesos\n",
    ")\n",
    "\n",
    "# Entrenar el mejor modelo con el mejor learning rate\n",
    "model = Sequential([\n",
    "    Input(shape=(X_train.shape[1],)),\n",
    "    Dense(units=128, activation='relu'),\n",
    "    Dropout(0.2),  # Añadir Dropout para evitar overfitting\n",
    "    Dense(units=64, activation='relu'),\n",
    "    Dropout(0.2),\n",
    "    Dense(units=32, activation='relu'),\n",
    "    Dropout(0.2),\n",
    "    Dense(units=8, activation='relu'),\n",
    "    Dense(units=1)\n",
    "])    \n",
    "\n",
    "model.compile(optimizer=Adam(learning_rate=best_lr), loss='mean_absolute_error')\n",
    "\n",
    "\n",
    "# Entrenar nuevamente el mejor modelo\n",
    "history = model.fit(\n",
    "    X_train, y_train,\n",
    "    validation_split=0.2,\n",
    "    epochs=100,  # Más epochs para ajustar bien\n",
    "    batch_size=32,\n",
    "    callbacks=[early_stopping],\n",
    "    verbose=1\n",
    ")\n",
    "\n",
    "fig = go.Figure()\n",
    "fig.add_trace(go.Scatter(y=history.history['loss'], mode='lines', name='Train Loss', line=dict(color='blue')))\n",
    "fig.add_trace(go.Scatter(y=history.history['val_loss'], mode='lines', name='Validation Loss', line=dict(color='orange')))\n",
    "fig.update_layout(title=\"Pérdida durante el entrenamiento y validación (Mejor LR)\",\n",
    "                  xaxis_title=\"Epochs\", yaxis_title=\"Pérdida (Loss)\", template=\"plotly_white\",\n",
    "                  legend=dict(x=0.5, y=1, xanchor='center', orientation='h'))\n",
    "fig.show()\n",
    "\n",
    "test_loss = model.evaluate(X_test, y_test)\n",
    "print(f\"Pierda en el conjunto de teste: {test_loss}\")\n",
    "\n",
    "predictions = model.predict(X_test)\n",
    "\n",
    "resultados_df = pd.DataFrame({\n",
    "    \"Valores Reales\": y_test,\n",
    "    \"Predicciones\": predictions.ravel()  # predictions tiene 2D, ravel para transformar en 1D para la creación del df\n",
    "})\n",
    "\n",
    "fig = px.scatter(\n",
    "    resultados_df,\n",
    "    x=\"Valores Reales\",\n",
    "    y=\"Predicciones\",\n",
    "    title=\"Valores Reales vs Predicciones (Mejor LR)\",\n",
    "    template=\"plotly_white\"\n",
    ")\n",
    "\n",
    "# Añadir una línea de referencia donde las predicciones coinciden perfectamente con los valores reales\n",
    "fig.add_shape(\n",
    "    type=\"line\",\n",
    "    x0=resultados_df[\"Valores Reales\"].min(),\n",
    "    y0=resultados_df[\"Valores Reales\"].min(),\n",
    "    x1=resultados_df[\"Valores Reales\"].max(),\n",
    "    y1=resultados_df[\"Valores Reales\"].max(),\n",
    "    line=dict(color=\"red\", dash=\"dot\")\n",
    ")\n",
    "\n",
    "fig.show()"
   ]
  },
  {
   "cell_type": "code",
   "execution_count": 9,
   "metadata": {},
   "outputs": [
    {
     "name": "stdout",
     "output_type": "stream",
     "text": [
      "Métricas de evaluación del segundo modelo:\n",
      "MAE: 0.04164654120809746\n",
      "RMSE: 0.05762372199250429\n",
      "R2: 0.6425547184483199\n"
     ]
    }
   ],
   "source": [
    "# Llamar la función definida en el primer modelo\n",
    "mae, rmse, r2 = calculate_metrics(y_test, predictions.ravel())\n",
    "\n",
    "print(\"Métricas de evaluación del segundo modelo:\")\n",
    "print(f\"MAE: {mae}\")\n",
    "print(f\"RMSE: {rmse}\")\n",
    "print(f\"R2: {r2}\")\n"
   ]
  },
  {
   "cell_type": "code",
   "execution_count": null,
   "metadata": {},
   "outputs": [],
   "source": [
    "# Guardar el modelo para usar en streamlit\n",
    "model.save('data/pkl/complex_nn_model.keras')"
   ]
  },
  {
   "cell_type": "code",
   "execution_count": null,
   "metadata": {},
   "outputs": [],
   "source": []
  },
  {
   "cell_type": "code",
   "execution_count": null,
   "metadata": {},
   "outputs": [],
   "source": []
  },
  {
   "cell_type": "code",
   "execution_count": null,
   "metadata": {},
   "outputs": [],
   "source": []
  },
  {
   "cell_type": "code",
   "execution_count": null,
   "metadata": {},
   "outputs": [],
   "source": []
  },
  {
   "cell_type": "code",
   "execution_count": null,
   "metadata": {},
   "outputs": [],
   "source": []
  },
  {
   "cell_type": "code",
   "execution_count": null,
   "metadata": {},
   "outputs": [],
   "source": []
  }
 ],
 "metadata": {
  "kernelspec": {
   "display_name": "Python 3",
   "language": "python",
   "name": "python3"
  },
  "language_info": {
   "codemirror_mode": {
    "name": "ipython",
    "version": 3
   },
   "file_extension": ".py",
   "mimetype": "text/x-python",
   "name": "python",
   "nbconvert_exporter": "python",
   "pygments_lexer": "ipython3",
   "version": "3.12.2"
  }
 },
 "nbformat": 4,
 "nbformat_minor": 2
}
