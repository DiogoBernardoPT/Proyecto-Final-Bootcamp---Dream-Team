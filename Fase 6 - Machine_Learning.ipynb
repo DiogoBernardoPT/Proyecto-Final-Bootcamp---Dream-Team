{
 "cells": [
  {
   "cell_type": "markdown",
   "metadata": {
    "vscode": {
     "languageId": "plaintext"
    }
   },
   "source": [
    "## **Fase 6 - Machine Learning: Construcción y Evaluación del Modelo Predictivo**\n",
    "*En esta fase, nos centramos en construir un modelo predictivo que sea capaz de estimar con precisión el **precio por noche** de las propiedades. Este paso es crucial para convertir los datos procesados en un conocimiento valioso, ya que nos permitirá hacer predicciones sobre el precio de futuras propiedades a partir de sus características. A través de técnicas de machine learning avanzadas, buscamos encontrar el modelo más eficiente, que no solo sea preciso, sino también interpretativo y generalizable*\n",
    "\n",
    "A lo largo de esta fase, aplicaremos una serie de algoritmos y evaluaremos su rendimiento, seleccionando aquel que mejor se ajuste a nuestras necesidades. Además, dedicaremos tiempo a ajustar los parámetros del modelo para maximizar su capacidad predictiva, asegurando así que sea robusto y confiable.\n",
    "Con este enfoque, buscamos no solo predecir el precio de forma precisa, sino también proporcionar una comprensión profunda de los factores clave que afectan los precios de las propiedades, lo que puede ser útil en la toma de decisiones empresariales y en el desarrollo de futuras investigaciones."
   ]
  },
  {
   "cell_type": "code",
   "execution_count": 1,
   "metadata": {},
   "outputs": [],
   "source": [
    "# General\n",
    "import pandas as pd\n",
    "import numpy as np\n",
    "\n",
    "# Escaladores\n",
    "from sklearn.preprocessing import MinMaxScaler\n",
    "from sklearn.preprocessing import StandardScaler\n",
    "\n",
    "# Train, Test\n",
    "from sklearn.model_selection import train_test_split\n",
    "\n",
    "# Modelos\n",
    "from xgboost import XGBRegressor\n",
    "from lightgbm import LGBMRegressor\n",
    "from sklearn.neural_network import MLPRegressor\n",
    "from sklearn.linear_model import LinearRegression\n",
    "from sklearn.ensemble import RandomForestRegressor, GradientBoostingRegressor\n",
    "from sklearn.svm import SVR\n",
    "\n",
    "# Neural Neutworks\n",
    "from tensorflow.keras.models import Sequential\n",
    "from tensorflow.keras.layers import Input, Dense, Dropout\n",
    "from tensorflow.keras.optimizers import Adam\n",
    "from keras.callbacks import EarlyStopping\n",
    "\n",
    "# Cross Validation\n",
    "from sklearn.model_selection import cross_val_score\n",
    "from sklearn.model_selection import KFold\n",
    "\n",
    "# Hiperparametrización\n",
    "from sklearn.model_selection import GridSearchCV\n",
    "\n",
    "# Métricas\n",
    "from sklearn.metrics import mean_absolute_error\n",
    "from sklearn.metrics import mean_squared_error\n",
    "from sklearn.metrics import r2_score\n",
    "from sklearn.metrics import root_mean_squared_error"
   ]
  },
  {
   "cell_type": "code",
   "execution_count": 2,
   "metadata": {},
   "outputs": [
    {
     "name": "stderr",
     "output_type": "stream",
     "text": [
      "<>:1: SyntaxWarning: invalid escape sequence '\\d'\n",
      "<>:1: SyntaxWarning: invalid escape sequence '\\d'\n",
      "C:\\Users\\diogo\\AppData\\Local\\Temp\\ipykernel_1268\\3088068979.py:1: SyntaxWarning: invalid escape sequence '\\d'\n",
      "  df_encoded = pd.read_csv('data\\df_processed_ML.csv')\n"
     ]
    }
   ],
   "source": [
    "df_encoded = pd.read_csv('data\\df_processed_ML.csv')"
   ]
  },
  {
   "cell_type": "code",
   "execution_count": 3,
   "metadata": {},
   "outputs": [
    {
     "data": {
      "text/html": [
       "<div>\n",
       "<style scoped>\n",
       "    .dataframe tbody tr th:only-of-type {\n",
       "        vertical-align: middle;\n",
       "    }\n",
       "\n",
       "    .dataframe tbody tr th {\n",
       "        vertical-align: top;\n",
       "    }\n",
       "\n",
       "    .dataframe thead th {\n",
       "        text-align: right;\n",
       "    }\n",
       "</style>\n",
       "<table border=\"1\" class=\"dataframe\">\n",
       "  <thead>\n",
       "    <tr style=\"text-align: right;\">\n",
       "      <th></th>\n",
       "      <th>prices_per_night</th>\n",
       "      <th>ratings</th>\n",
       "      <th>cleaning_fee</th>\n",
       "      <th>dormitorios</th>\n",
       "      <th>camas</th>\n",
       "      <th>baños</th>\n",
       "      <th>maximum_guests</th>\n",
       "      <th>check_in_hour</th>\n",
       "      <th>check_out_hour</th>\n",
       "      <th>total_hours_checkin</th>\n",
       "      <th>...</th>\n",
       "      <th>dormitorio y lavandería</th>\n",
       "      <th>entretenimiento</th>\n",
       "      <th>exterior</th>\n",
       "      <th>internet y oficina</th>\n",
       "      <th>para familias</th>\n",
       "      <th>privacidad y seguridad</th>\n",
       "      <th>seguridad en el hogar</th>\n",
       "      <th>servicios</th>\n",
       "      <th>habitacion</th>\n",
       "      <th>alojamiento entero</th>\n",
       "    </tr>\n",
       "  </thead>\n",
       "  <tbody>\n",
       "    <tr>\n",
       "      <th>0</th>\n",
       "      <td>115.0</td>\n",
       "      <td>0.00</td>\n",
       "      <td>0.0</td>\n",
       "      <td>1.0</td>\n",
       "      <td>1.0</td>\n",
       "      <td>1.0</td>\n",
       "      <td>2.0</td>\n",
       "      <td>900.0</td>\n",
       "      <td>720.0</td>\n",
       "      <td>9.0</td>\n",
       "      <td>...</td>\n",
       "      <td>7.0</td>\n",
       "      <td>1.0</td>\n",
       "      <td>2.0</td>\n",
       "      <td>1.0</td>\n",
       "      <td>0.0</td>\n",
       "      <td>0.0</td>\n",
       "      <td>1.0</td>\n",
       "      <td>4.0</td>\n",
       "      <td>0.0</td>\n",
       "      <td>0.0</td>\n",
       "    </tr>\n",
       "    <tr>\n",
       "      <th>1</th>\n",
       "      <td>46.0</td>\n",
       "      <td>0.00</td>\n",
       "      <td>15.0</td>\n",
       "      <td>1.0</td>\n",
       "      <td>1.0</td>\n",
       "      <td>0.5</td>\n",
       "      <td>1.0</td>\n",
       "      <td>1020.0</td>\n",
       "      <td>660.0</td>\n",
       "      <td>7.0</td>\n",
       "      <td>...</td>\n",
       "      <td>6.0</td>\n",
       "      <td>0.0</td>\n",
       "      <td>0.0</td>\n",
       "      <td>2.0</td>\n",
       "      <td>0.0</td>\n",
       "      <td>2.0</td>\n",
       "      <td>0.0</td>\n",
       "      <td>1.0</td>\n",
       "      <td>1.0</td>\n",
       "      <td>0.0</td>\n",
       "    </tr>\n",
       "    <tr>\n",
       "      <th>2</th>\n",
       "      <td>47.0</td>\n",
       "      <td>4.66</td>\n",
       "      <td>0.0</td>\n",
       "      <td>1.0</td>\n",
       "      <td>1.0</td>\n",
       "      <td>0.5</td>\n",
       "      <td>1.0</td>\n",
       "      <td>900.0</td>\n",
       "      <td>720.0</td>\n",
       "      <td>9.0</td>\n",
       "      <td>...</td>\n",
       "      <td>8.0</td>\n",
       "      <td>1.0</td>\n",
       "      <td>1.0</td>\n",
       "      <td>1.0</td>\n",
       "      <td>0.0</td>\n",
       "      <td>1.0</td>\n",
       "      <td>0.0</td>\n",
       "      <td>5.0</td>\n",
       "      <td>1.0</td>\n",
       "      <td>0.0</td>\n",
       "    </tr>\n",
       "    <tr>\n",
       "      <th>3</th>\n",
       "      <td>100.0</td>\n",
       "      <td>4.89</td>\n",
       "      <td>35.0</td>\n",
       "      <td>1.0</td>\n",
       "      <td>1.0</td>\n",
       "      <td>1.0</td>\n",
       "      <td>1.0</td>\n",
       "      <td>960.0</td>\n",
       "      <td>720.0</td>\n",
       "      <td>8.0</td>\n",
       "      <td>...</td>\n",
       "      <td>10.0</td>\n",
       "      <td>10.0</td>\n",
       "      <td>3.0</td>\n",
       "      <td>2.0</td>\n",
       "      <td>2.0</td>\n",
       "      <td>0.0</td>\n",
       "      <td>5.0</td>\n",
       "      <td>4.0</td>\n",
       "      <td>0.0</td>\n",
       "      <td>0.0</td>\n",
       "    </tr>\n",
       "    <tr>\n",
       "      <th>4</th>\n",
       "      <td>33.0</td>\n",
       "      <td>4.40</td>\n",
       "      <td>0.0</td>\n",
       "      <td>1.0</td>\n",
       "      <td>1.0</td>\n",
       "      <td>0.5</td>\n",
       "      <td>1.0</td>\n",
       "      <td>900.0</td>\n",
       "      <td>660.0</td>\n",
       "      <td>9.0</td>\n",
       "      <td>...</td>\n",
       "      <td>4.0</td>\n",
       "      <td>0.0</td>\n",
       "      <td>1.0</td>\n",
       "      <td>1.0</td>\n",
       "      <td>0.0</td>\n",
       "      <td>0.0</td>\n",
       "      <td>3.0</td>\n",
       "      <td>1.0</td>\n",
       "      <td>1.0</td>\n",
       "      <td>0.0</td>\n",
       "    </tr>\n",
       "    <tr>\n",
       "      <th>...</th>\n",
       "      <td>...</td>\n",
       "      <td>...</td>\n",
       "      <td>...</td>\n",
       "      <td>...</td>\n",
       "      <td>...</td>\n",
       "      <td>...</td>\n",
       "      <td>...</td>\n",
       "      <td>...</td>\n",
       "      <td>...</td>\n",
       "      <td>...</td>\n",
       "      <td>...</td>\n",
       "      <td>...</td>\n",
       "      <td>...</td>\n",
       "      <td>...</td>\n",
       "      <td>...</td>\n",
       "      <td>...</td>\n",
       "      <td>...</td>\n",
       "      <td>...</td>\n",
       "      <td>...</td>\n",
       "      <td>...</td>\n",
       "      <td>...</td>\n",
       "    </tr>\n",
       "    <tr>\n",
       "      <th>2492</th>\n",
       "      <td>55.0</td>\n",
       "      <td>4.74</td>\n",
       "      <td>10.0</td>\n",
       "      <td>1.0</td>\n",
       "      <td>1.0</td>\n",
       "      <td>0.5</td>\n",
       "      <td>3.0</td>\n",
       "      <td>900.0</td>\n",
       "      <td>660.0</td>\n",
       "      <td>9.0</td>\n",
       "      <td>...</td>\n",
       "      <td>7.0</td>\n",
       "      <td>1.0</td>\n",
       "      <td>0.0</td>\n",
       "      <td>2.0</td>\n",
       "      <td>0.0</td>\n",
       "      <td>3.0</td>\n",
       "      <td>0.0</td>\n",
       "      <td>1.0</td>\n",
       "      <td>1.0</td>\n",
       "      <td>0.0</td>\n",
       "    </tr>\n",
       "    <tr>\n",
       "      <th>2493</th>\n",
       "      <td>60.0</td>\n",
       "      <td>4.78</td>\n",
       "      <td>0.0</td>\n",
       "      <td>1.0</td>\n",
       "      <td>1.0</td>\n",
       "      <td>0.5</td>\n",
       "      <td>2.0</td>\n",
       "      <td>900.0</td>\n",
       "      <td>600.0</td>\n",
       "      <td>9.0</td>\n",
       "      <td>...</td>\n",
       "      <td>4.0</td>\n",
       "      <td>1.0</td>\n",
       "      <td>0.0</td>\n",
       "      <td>1.0</td>\n",
       "      <td>0.0</td>\n",
       "      <td>1.0</td>\n",
       "      <td>0.0</td>\n",
       "      <td>1.0</td>\n",
       "      <td>1.0</td>\n",
       "      <td>0.0</td>\n",
       "    </tr>\n",
       "    <tr>\n",
       "      <th>2494</th>\n",
       "      <td>104.0</td>\n",
       "      <td>4.96</td>\n",
       "      <td>0.0</td>\n",
       "      <td>2.0</td>\n",
       "      <td>3.0</td>\n",
       "      <td>2.0</td>\n",
       "      <td>4.0</td>\n",
       "      <td>900.0</td>\n",
       "      <td>720.0</td>\n",
       "      <td>9.0</td>\n",
       "      <td>...</td>\n",
       "      <td>9.0</td>\n",
       "      <td>1.0</td>\n",
       "      <td>0.0</td>\n",
       "      <td>2.0</td>\n",
       "      <td>0.0</td>\n",
       "      <td>0.0</td>\n",
       "      <td>2.0</td>\n",
       "      <td>3.0</td>\n",
       "      <td>0.0</td>\n",
       "      <td>0.0</td>\n",
       "    </tr>\n",
       "    <tr>\n",
       "      <th>2495</th>\n",
       "      <td>120.0</td>\n",
       "      <td>4.83</td>\n",
       "      <td>50.0</td>\n",
       "      <td>1.0</td>\n",
       "      <td>1.0</td>\n",
       "      <td>1.0</td>\n",
       "      <td>2.0</td>\n",
       "      <td>900.0</td>\n",
       "      <td>660.0</td>\n",
       "      <td>9.0</td>\n",
       "      <td>...</td>\n",
       "      <td>8.0</td>\n",
       "      <td>3.0</td>\n",
       "      <td>3.0</td>\n",
       "      <td>2.0</td>\n",
       "      <td>0.0</td>\n",
       "      <td>0.0</td>\n",
       "      <td>2.0</td>\n",
       "      <td>1.0</td>\n",
       "      <td>0.0</td>\n",
       "      <td>0.0</td>\n",
       "    </tr>\n",
       "    <tr>\n",
       "      <th>2496</th>\n",
       "      <td>100.0</td>\n",
       "      <td>4.78</td>\n",
       "      <td>0.0</td>\n",
       "      <td>1.0</td>\n",
       "      <td>2.0</td>\n",
       "      <td>1.0</td>\n",
       "      <td>4.0</td>\n",
       "      <td>960.0</td>\n",
       "      <td>660.0</td>\n",
       "      <td>8.0</td>\n",
       "      <td>...</td>\n",
       "      <td>8.0</td>\n",
       "      <td>1.0</td>\n",
       "      <td>1.0</td>\n",
       "      <td>2.0</td>\n",
       "      <td>1.0</td>\n",
       "      <td>0.0</td>\n",
       "      <td>2.0</td>\n",
       "      <td>3.0</td>\n",
       "      <td>0.0</td>\n",
       "      <td>0.0</td>\n",
       "    </tr>\n",
       "  </tbody>\n",
       "</table>\n",
       "<p>2497 rows × 26 columns</p>\n",
       "</div>"
      ],
      "text/plain": [
       "      prices_per_night  ratings  cleaning_fee  dormitorios  camas  baños  \\\n",
       "0                115.0     0.00           0.0          1.0    1.0    1.0   \n",
       "1                 46.0     0.00          15.0          1.0    1.0    0.5   \n",
       "2                 47.0     4.66           0.0          1.0    1.0    0.5   \n",
       "3                100.0     4.89          35.0          1.0    1.0    1.0   \n",
       "4                 33.0     4.40           0.0          1.0    1.0    0.5   \n",
       "...                ...      ...           ...          ...    ...    ...   \n",
       "2492              55.0     4.74          10.0          1.0    1.0    0.5   \n",
       "2493              60.0     4.78           0.0          1.0    1.0    0.5   \n",
       "2494             104.0     4.96           0.0          2.0    3.0    2.0   \n",
       "2495             120.0     4.83          50.0          1.0    1.0    1.0   \n",
       "2496             100.0     4.78           0.0          1.0    2.0    1.0   \n",
       "\n",
       "      maximum_guests  check_in_hour  check_out_hour  total_hours_checkin  ...  \\\n",
       "0                2.0          900.0           720.0                  9.0  ...   \n",
       "1                1.0         1020.0           660.0                  7.0  ...   \n",
       "2                1.0          900.0           720.0                  9.0  ...   \n",
       "3                1.0          960.0           720.0                  8.0  ...   \n",
       "4                1.0          900.0           660.0                  9.0  ...   \n",
       "...              ...            ...             ...                  ...  ...   \n",
       "2492             3.0          900.0           660.0                  9.0  ...   \n",
       "2493             2.0          900.0           600.0                  9.0  ...   \n",
       "2494             4.0          900.0           720.0                  9.0  ...   \n",
       "2495             2.0          900.0           660.0                  9.0  ...   \n",
       "2496             4.0          960.0           660.0                  8.0  ...   \n",
       "\n",
       "      dormitorio y lavandería  entretenimiento  exterior  internet y oficina  \\\n",
       "0                         7.0              1.0       2.0                 1.0   \n",
       "1                         6.0              0.0       0.0                 2.0   \n",
       "2                         8.0              1.0       1.0                 1.0   \n",
       "3                        10.0             10.0       3.0                 2.0   \n",
       "4                         4.0              0.0       1.0                 1.0   \n",
       "...                       ...              ...       ...                 ...   \n",
       "2492                      7.0              1.0       0.0                 2.0   \n",
       "2493                      4.0              1.0       0.0                 1.0   \n",
       "2494                      9.0              1.0       0.0                 2.0   \n",
       "2495                      8.0              3.0       3.0                 2.0   \n",
       "2496                      8.0              1.0       1.0                 2.0   \n",
       "\n",
       "      para familias  privacidad y seguridad  seguridad en el hogar  servicios  \\\n",
       "0               0.0                     0.0                    1.0        4.0   \n",
       "1               0.0                     2.0                    0.0        1.0   \n",
       "2               0.0                     1.0                    0.0        5.0   \n",
       "3               2.0                     0.0                    5.0        4.0   \n",
       "4               0.0                     0.0                    3.0        1.0   \n",
       "...             ...                     ...                    ...        ...   \n",
       "2492            0.0                     3.0                    0.0        1.0   \n",
       "2493            0.0                     1.0                    0.0        1.0   \n",
       "2494            0.0                     0.0                    2.0        3.0   \n",
       "2495            0.0                     0.0                    2.0        1.0   \n",
       "2496            1.0                     0.0                    2.0        3.0   \n",
       "\n",
       "      habitacion  alojamiento entero  \n",
       "0            0.0                 0.0  \n",
       "1            1.0                 0.0  \n",
       "2            1.0                 0.0  \n",
       "3            0.0                 0.0  \n",
       "4            1.0                 0.0  \n",
       "...          ...                 ...  \n",
       "2492         1.0                 0.0  \n",
       "2493         1.0                 0.0  \n",
       "2494         0.0                 0.0  \n",
       "2495         0.0                 0.0  \n",
       "2496         0.0                 0.0  \n",
       "\n",
       "[2497 rows x 26 columns]"
      ]
     },
     "execution_count": 3,
     "metadata": {},
     "output_type": "execute_result"
    }
   ],
   "source": [
    "df_encoded"
   ]
  },
  {
   "cell_type": "markdown",
   "metadata": {},
   "source": [
    "**Train Test Split**"
   ]
  },
  {
   "cell_type": "code",
   "execution_count": 4,
   "metadata": {},
   "outputs": [
    {
     "name": "stdout",
     "output_type": "stream",
     "text": [
      "(2497, 25) (2497,)\n"
     ]
    }
   ],
   "source": [
    "X = df_encoded.drop(\"prices_per_night\", axis = 1)\n",
    "y = df_encoded[\"prices_per_night\"]\n",
    "print(X.shape, y.shape)"
   ]
  },
  {
   "cell_type": "code",
   "execution_count": 5,
   "metadata": {},
   "outputs": [
    {
     "name": "stdout",
     "output_type": "stream",
     "text": [
      "X_train: (1997, 25), y_train: (1997,)\n",
      "X_test: (500, 25), y_test: (500,)\n"
     ]
    }
   ],
   "source": [
    "X_train, X_test, y_train, y_test = train_test_split(X, y, test_size = 0.2, random_state = 42)\n",
    "\n",
    "print(f\"X_train: {X_train.shape}, y_train: {y_train.shape}\")\n",
    "print(f\"X_test: {X_test.shape}, y_test: {y_test.shape}\")"
   ]
  },
  {
   "cell_type": "markdown",
   "metadata": {},
   "source": [
    "**Escaladores**"
   ]
  },
  {
   "cell_type": "code",
   "execution_count": 6,
   "metadata": {},
   "outputs": [],
   "source": [
    "x_scaler = MinMaxScaler()\n",
    "X_train = x_scaler.fit_transform(X_train)\n",
    "X_test = x_scaler.transform(X_test)\n",
    "\n",
    "y_scaler = MinMaxScaler()\n",
    "y_train = y_scaler.fit_transform(np.array(y_train).reshape(-1, 1))\n",
    "y_test = y_scaler.transform(np.array(y_test).reshape(-1, 1))"
   ]
  },
  {
   "cell_type": "code",
   "execution_count": 7,
   "metadata": {},
   "outputs": [],
   "source": [
    "# Crear un DataFrame combinando los datos escalados\n",
    "df_X = pd.DataFrame(\n",
    "    np.vstack([X_train, X_test]), \n",
    "    columns=[f\"X_feature_{i}\" for i in range(X_train.shape[1])]\n",
    ")\n",
    "df_X[\"Set\"] = [\"Train\"] * len(X_train) + [\"Test\"] * len(X_test)\n",
    "\n",
    "df_y = pd.DataFrame(\n",
    "    np.vstack([y_train, y_test]), \n",
    "    columns=[\"y\"]\n",
    ")\n",
    "df_y[\"Set\"] = [\"Train\"] * len(y_train) + [\"Test\"] * len(y_test)\n",
    "\n",
    "# Concatenar las características y las etiquetas\n",
    "df = pd.concat([df_X, df_y[\"y\"]], axis=1)\n"
   ]
  },
  {
   "cell_type": "code",
   "execution_count": 8,
   "metadata": {},
   "outputs": [],
   "source": [
    "# Crear DataFrame \n",
    "Scaler = pd.DataFrame(df)\n",
    "#Creamos el pickle\n",
    "Scaler.to_pickle(\"data/Scaler.pkl\")"
   ]
  },
  {
   "cell_type": "code",
   "execution_count": 9,
   "metadata": {},
   "outputs": [
    {
     "data": {
      "text/html": [
       "<div>\n",
       "<style scoped>\n",
       "    .dataframe tbody tr th:only-of-type {\n",
       "        vertical-align: middle;\n",
       "    }\n",
       "\n",
       "    .dataframe tbody tr th {\n",
       "        vertical-align: top;\n",
       "    }\n",
       "\n",
       "    .dataframe thead th {\n",
       "        text-align: right;\n",
       "    }\n",
       "</style>\n",
       "<table border=\"1\" class=\"dataframe\">\n",
       "  <thead>\n",
       "    <tr style=\"text-align: right;\">\n",
       "      <th></th>\n",
       "      <th>X_feature_0</th>\n",
       "      <th>X_feature_1</th>\n",
       "      <th>X_feature_2</th>\n",
       "      <th>X_feature_3</th>\n",
       "      <th>X_feature_4</th>\n",
       "      <th>X_feature_5</th>\n",
       "      <th>X_feature_6</th>\n",
       "      <th>X_feature_7</th>\n",
       "      <th>X_feature_8</th>\n",
       "      <th>X_feature_9</th>\n",
       "      <th>...</th>\n",
       "      <th>X_feature_17</th>\n",
       "      <th>X_feature_18</th>\n",
       "      <th>X_feature_19</th>\n",
       "      <th>X_feature_20</th>\n",
       "      <th>X_feature_21</th>\n",
       "      <th>X_feature_22</th>\n",
       "      <th>X_feature_23</th>\n",
       "      <th>X_feature_24</th>\n",
       "      <th>Set</th>\n",
       "      <th>y</th>\n",
       "    </tr>\n",
       "  </thead>\n",
       "  <tbody>\n",
       "    <tr>\n",
       "      <th>0</th>\n",
       "      <td>0.882</td>\n",
       "      <td>0.000000</td>\n",
       "      <td>0.2</td>\n",
       "      <td>0.000000</td>\n",
       "      <td>0.1</td>\n",
       "      <td>0.0</td>\n",
       "      <td>0.761905</td>\n",
       "      <td>0.400000</td>\n",
       "      <td>0.238095</td>\n",
       "      <td>0.600429</td>\n",
       "      <td>...</td>\n",
       "      <td>0.0</td>\n",
       "      <td>0.333333</td>\n",
       "      <td>0.000000</td>\n",
       "      <td>0.166667</td>\n",
       "      <td>0.000000</td>\n",
       "      <td>0.142857</td>\n",
       "      <td>1.0</td>\n",
       "      <td>0.0</td>\n",
       "      <td>Train</td>\n",
       "      <td>0.046083</td>\n",
       "    </tr>\n",
       "    <tr>\n",
       "      <th>1</th>\n",
       "      <td>0.956</td>\n",
       "      <td>0.000000</td>\n",
       "      <td>0.2</td>\n",
       "      <td>0.000000</td>\n",
       "      <td>0.1</td>\n",
       "      <td>0.1</td>\n",
       "      <td>0.666667</td>\n",
       "      <td>0.300000</td>\n",
       "      <td>0.333333</td>\n",
       "      <td>0.565941</td>\n",
       "      <td>...</td>\n",
       "      <td>0.0</td>\n",
       "      <td>0.666667</td>\n",
       "      <td>0.000000</td>\n",
       "      <td>0.333333</td>\n",
       "      <td>0.000000</td>\n",
       "      <td>0.285714</td>\n",
       "      <td>1.0</td>\n",
       "      <td>0.0</td>\n",
       "      <td>Train</td>\n",
       "      <td>0.055300</td>\n",
       "    </tr>\n",
       "    <tr>\n",
       "      <th>2</th>\n",
       "      <td>0.000</td>\n",
       "      <td>0.264706</td>\n",
       "      <td>0.2</td>\n",
       "      <td>0.000000</td>\n",
       "      <td>0.1</td>\n",
       "      <td>0.0</td>\n",
       "      <td>0.714286</td>\n",
       "      <td>0.300000</td>\n",
       "      <td>0.285714</td>\n",
       "      <td>0.000000</td>\n",
       "      <td>...</td>\n",
       "      <td>0.0</td>\n",
       "      <td>0.333333</td>\n",
       "      <td>0.000000</td>\n",
       "      <td>0.166667</td>\n",
       "      <td>0.000000</td>\n",
       "      <td>0.000000</td>\n",
       "      <td>1.0</td>\n",
       "      <td>0.0</td>\n",
       "      <td>Train</td>\n",
       "      <td>0.034562</td>\n",
       "    </tr>\n",
       "    <tr>\n",
       "      <th>3</th>\n",
       "      <td>0.000</td>\n",
       "      <td>0.000000</td>\n",
       "      <td>0.2</td>\n",
       "      <td>0.066667</td>\n",
       "      <td>0.1</td>\n",
       "      <td>0.1</td>\n",
       "      <td>0.714286</td>\n",
       "      <td>0.233333</td>\n",
       "      <td>0.285714</td>\n",
       "      <td>0.000000</td>\n",
       "      <td>...</td>\n",
       "      <td>0.0</td>\n",
       "      <td>0.333333</td>\n",
       "      <td>0.000000</td>\n",
       "      <td>0.333333</td>\n",
       "      <td>0.000000</td>\n",
       "      <td>0.000000</td>\n",
       "      <td>1.0</td>\n",
       "      <td>0.0</td>\n",
       "      <td>Train</td>\n",
       "      <td>0.101382</td>\n",
       "    </tr>\n",
       "    <tr>\n",
       "      <th>4</th>\n",
       "      <td>0.000</td>\n",
       "      <td>0.000000</td>\n",
       "      <td>0.2</td>\n",
       "      <td>0.000000</td>\n",
       "      <td>0.1</td>\n",
       "      <td>0.1</td>\n",
       "      <td>0.571429</td>\n",
       "      <td>0.166667</td>\n",
       "      <td>0.428571</td>\n",
       "      <td>0.000000</td>\n",
       "      <td>...</td>\n",
       "      <td>0.0</td>\n",
       "      <td>0.333333</td>\n",
       "      <td>0.000000</td>\n",
       "      <td>0.333333</td>\n",
       "      <td>0.000000</td>\n",
       "      <td>0.000000</td>\n",
       "      <td>1.0</td>\n",
       "      <td>0.0</td>\n",
       "      <td>Train</td>\n",
       "      <td>0.062212</td>\n",
       "    </tr>\n",
       "    <tr>\n",
       "      <th>...</th>\n",
       "      <td>...</td>\n",
       "      <td>...</td>\n",
       "      <td>...</td>\n",
       "      <td>...</td>\n",
       "      <td>...</td>\n",
       "      <td>...</td>\n",
       "      <td>...</td>\n",
       "      <td>...</td>\n",
       "      <td>...</td>\n",
       "      <td>...</td>\n",
       "      <td>...</td>\n",
       "      <td>...</td>\n",
       "      <td>...</td>\n",
       "      <td>...</td>\n",
       "      <td>...</td>\n",
       "      <td>...</td>\n",
       "      <td>...</td>\n",
       "      <td>...</td>\n",
       "      <td>...</td>\n",
       "      <td>...</td>\n",
       "      <td>...</td>\n",
       "    </tr>\n",
       "    <tr>\n",
       "      <th>2492</th>\n",
       "      <td>0.942</td>\n",
       "      <td>0.000000</td>\n",
       "      <td>0.2</td>\n",
       "      <td>0.000000</td>\n",
       "      <td>0.1</td>\n",
       "      <td>0.0</td>\n",
       "      <td>0.666667</td>\n",
       "      <td>0.300000</td>\n",
       "      <td>0.333333</td>\n",
       "      <td>0.389728</td>\n",
       "      <td>...</td>\n",
       "      <td>0.0</td>\n",
       "      <td>0.666667</td>\n",
       "      <td>0.111111</td>\n",
       "      <td>0.000000</td>\n",
       "      <td>0.333333</td>\n",
       "      <td>0.142857</td>\n",
       "      <td>1.0</td>\n",
       "      <td>0.0</td>\n",
       "      <td>Test</td>\n",
       "      <td>0.041475</td>\n",
       "    </tr>\n",
       "    <tr>\n",
       "      <th>2493</th>\n",
       "      <td>0.000</td>\n",
       "      <td>0.205882</td>\n",
       "      <td>0.2</td>\n",
       "      <td>0.000000</td>\n",
       "      <td>0.1</td>\n",
       "      <td>0.1</td>\n",
       "      <td>0.714286</td>\n",
       "      <td>0.200000</td>\n",
       "      <td>0.285714</td>\n",
       "      <td>0.000000</td>\n",
       "      <td>...</td>\n",
       "      <td>0.0</td>\n",
       "      <td>0.333333</td>\n",
       "      <td>0.000000</td>\n",
       "      <td>0.166667</td>\n",
       "      <td>0.000000</td>\n",
       "      <td>0.000000</td>\n",
       "      <td>1.0</td>\n",
       "      <td>0.0</td>\n",
       "      <td>Test</td>\n",
       "      <td>0.025346</td>\n",
       "    </tr>\n",
       "    <tr>\n",
       "      <th>2494</th>\n",
       "      <td>1.000</td>\n",
       "      <td>0.041176</td>\n",
       "      <td>0.2</td>\n",
       "      <td>0.000000</td>\n",
       "      <td>0.1</td>\n",
       "      <td>0.0</td>\n",
       "      <td>0.714286</td>\n",
       "      <td>0.200000</td>\n",
       "      <td>0.285714</td>\n",
       "      <td>0.000000</td>\n",
       "      <td>...</td>\n",
       "      <td>0.2</td>\n",
       "      <td>0.666667</td>\n",
       "      <td>0.111111</td>\n",
       "      <td>0.333333</td>\n",
       "      <td>0.000000</td>\n",
       "      <td>0.428571</td>\n",
       "      <td>1.0</td>\n",
       "      <td>0.0</td>\n",
       "      <td>Test</td>\n",
       "      <td>0.078341</td>\n",
       "    </tr>\n",
       "    <tr>\n",
       "      <th>2495</th>\n",
       "      <td>0.978</td>\n",
       "      <td>0.000000</td>\n",
       "      <td>0.2</td>\n",
       "      <td>0.000000</td>\n",
       "      <td>0.1</td>\n",
       "      <td>0.1</td>\n",
       "      <td>0.619048</td>\n",
       "      <td>0.300000</td>\n",
       "      <td>0.380952</td>\n",
       "      <td>0.000000</td>\n",
       "      <td>...</td>\n",
       "      <td>0.0</td>\n",
       "      <td>0.333333</td>\n",
       "      <td>0.000000</td>\n",
       "      <td>0.166667</td>\n",
       "      <td>0.000000</td>\n",
       "      <td>0.000000</td>\n",
       "      <td>1.0</td>\n",
       "      <td>0.0</td>\n",
       "      <td>Test</td>\n",
       "      <td>0.101382</td>\n",
       "    </tr>\n",
       "    <tr>\n",
       "      <th>2496</th>\n",
       "      <td>0.938</td>\n",
       "      <td>0.411765</td>\n",
       "      <td>0.2</td>\n",
       "      <td>0.000000</td>\n",
       "      <td>0.2</td>\n",
       "      <td>0.1</td>\n",
       "      <td>0.714286</td>\n",
       "      <td>0.200000</td>\n",
       "      <td>0.285714</td>\n",
       "      <td>0.681186</td>\n",
       "      <td>...</td>\n",
       "      <td>0.2</td>\n",
       "      <td>0.333333</td>\n",
       "      <td>0.222222</td>\n",
       "      <td>0.000000</td>\n",
       "      <td>0.166667</td>\n",
       "      <td>0.142857</td>\n",
       "      <td>0.0</td>\n",
       "      <td>0.0</td>\n",
       "      <td>Test</td>\n",
       "      <td>0.161290</td>\n",
       "    </tr>\n",
       "  </tbody>\n",
       "</table>\n",
       "<p>2497 rows × 27 columns</p>\n",
       "</div>"
      ],
      "text/plain": [
       "      X_feature_0  X_feature_1  X_feature_2  X_feature_3  X_feature_4  \\\n",
       "0           0.882     0.000000          0.2     0.000000          0.1   \n",
       "1           0.956     0.000000          0.2     0.000000          0.1   \n",
       "2           0.000     0.264706          0.2     0.000000          0.1   \n",
       "3           0.000     0.000000          0.2     0.066667          0.1   \n",
       "4           0.000     0.000000          0.2     0.000000          0.1   \n",
       "...           ...          ...          ...          ...          ...   \n",
       "2492        0.942     0.000000          0.2     0.000000          0.1   \n",
       "2493        0.000     0.205882          0.2     0.000000          0.1   \n",
       "2494        1.000     0.041176          0.2     0.000000          0.1   \n",
       "2495        0.978     0.000000          0.2     0.000000          0.1   \n",
       "2496        0.938     0.411765          0.2     0.000000          0.2   \n",
       "\n",
       "      X_feature_5  X_feature_6  X_feature_7  X_feature_8  X_feature_9  ...  \\\n",
       "0             0.0     0.761905     0.400000     0.238095     0.600429  ...   \n",
       "1             0.1     0.666667     0.300000     0.333333     0.565941  ...   \n",
       "2             0.0     0.714286     0.300000     0.285714     0.000000  ...   \n",
       "3             0.1     0.714286     0.233333     0.285714     0.000000  ...   \n",
       "4             0.1     0.571429     0.166667     0.428571     0.000000  ...   \n",
       "...           ...          ...          ...          ...          ...  ...   \n",
       "2492          0.0     0.666667     0.300000     0.333333     0.389728  ...   \n",
       "2493          0.1     0.714286     0.200000     0.285714     0.000000  ...   \n",
       "2494          0.0     0.714286     0.200000     0.285714     0.000000  ...   \n",
       "2495          0.1     0.619048     0.300000     0.380952     0.000000  ...   \n",
       "2496          0.1     0.714286     0.200000     0.285714     0.681186  ...   \n",
       "\n",
       "      X_feature_17  X_feature_18  X_feature_19  X_feature_20  X_feature_21  \\\n",
       "0              0.0      0.333333      0.000000      0.166667      0.000000   \n",
       "1              0.0      0.666667      0.000000      0.333333      0.000000   \n",
       "2              0.0      0.333333      0.000000      0.166667      0.000000   \n",
       "3              0.0      0.333333      0.000000      0.333333      0.000000   \n",
       "4              0.0      0.333333      0.000000      0.333333      0.000000   \n",
       "...            ...           ...           ...           ...           ...   \n",
       "2492           0.0      0.666667      0.111111      0.000000      0.333333   \n",
       "2493           0.0      0.333333      0.000000      0.166667      0.000000   \n",
       "2494           0.2      0.666667      0.111111      0.333333      0.000000   \n",
       "2495           0.0      0.333333      0.000000      0.166667      0.000000   \n",
       "2496           0.2      0.333333      0.222222      0.000000      0.166667   \n",
       "\n",
       "      X_feature_22  X_feature_23  X_feature_24    Set         y  \n",
       "0         0.142857           1.0           0.0  Train  0.046083  \n",
       "1         0.285714           1.0           0.0  Train  0.055300  \n",
       "2         0.000000           1.0           0.0  Train  0.034562  \n",
       "3         0.000000           1.0           0.0  Train  0.101382  \n",
       "4         0.000000           1.0           0.0  Train  0.062212  \n",
       "...            ...           ...           ...    ...       ...  \n",
       "2492      0.142857           1.0           0.0   Test  0.041475  \n",
       "2493      0.000000           1.0           0.0   Test  0.025346  \n",
       "2494      0.428571           1.0           0.0   Test  0.078341  \n",
       "2495      0.000000           1.0           0.0   Test  0.101382  \n",
       "2496      0.142857           0.0           0.0   Test  0.161290  \n",
       "\n",
       "[2497 rows x 27 columns]"
      ]
     },
     "execution_count": 9,
     "metadata": {},
     "output_type": "execute_result"
    }
   ],
   "source": [
    "Scaler"
   ]
  },
  {
   "cell_type": "markdown",
   "metadata": {},
   "source": [
    "**Selección de los Modelos**\n",
    "- Evaluaremos cada modelo mediante las **métricas de rendimiento**, tales como el **Error Cuadrático Medio (RMSE)** y el **R^2**, con el fin de seleccionar el que brinde el mejor rendimiento predictivo."
   ]
  },
  {
   "cell_type": "code",
   "execution_count": 10,
   "metadata": {},
   "outputs": [],
   "source": [
    "# Definimos los modelos\n",
    "models = {\n",
    "    \"Linear Regression\": LinearRegression(),\n",
    "    \"Random Forest\": RandomForestRegressor(random_state=42),\n",
    "    \"Support Vector Regressor\": SVR(),\n",
    "    \"Gradient Boosting\": GradientBoostingRegressor(random_state=42),\n",
    "    \"XGBoost\": XGBRegressor(random_state=42),\n",
    "    \"LightGBM\": LGBMRegressor(random_state=42),\n",
    "    \"MLP Regressor\": MLPRegressor(random_state=42)\n",
    "}"
   ]
  },
  {
   "cell_type": "code",
   "execution_count": 11,
   "metadata": {},
   "outputs": [
    {
     "name": "stdout",
     "output_type": "stream",
     "text": [
      "[LightGBM] [Info] Auto-choosing row-wise multi-threading, the overhead of testing was 0.000610 seconds.\n",
      "You can set `force_row_wise=true` to remove the overhead.\n",
      "And if memory is not enough, you can set `force_col_wise=true`.\n",
      "[LightGBM] [Info] Total Bins 582\n",
      "[LightGBM] [Info] Number of data points in the train set: 1997, number of used features: 24\n",
      "[LightGBM] [Info] Start training from score 0.143845\n"
     ]
    }
   ],
   "source": [
    "# Lista para almacenar los resultados\n",
    "resultados_lista = []\n",
    "\n",
    "# Bucle para entrenar cada modelo y calcular métricas\n",
    "for model_name, model in models.items():\n",
    "    model.fit(X_train, y_train.ravel())\n",
    "    \n",
    "    y_hat = model.predict(X_test)\n",
    "    \n",
    "    # Desescalado de las predicciones\n",
    "    y_test_inv = y_scaler.inverse_transform(y_test.reshape(-1, 1)).ravel()\n",
    "    y_hat_inv = y_scaler.inverse_transform(y_hat.reshape(-1, 1)).ravel()\n",
    "    \n",
    "    # Cálculo de métricas\n",
    "    mae = mean_absolute_error(y_test_inv, y_hat_inv)\n",
    "    mse = mean_squared_error(y_test_inv, y_hat_inv)\n",
    "    rmse = root_mean_squared_error(y_test_inv, y_hat_inv)\n",
    "    r2 = r2_score(y_test_inv, y_hat_inv)\n",
    "    \n",
    "    # Almacenar resultados\n",
    "    resultados_lista.append({\n",
    "        \"model_name\": model_name,\n",
    "        \"mae\": mae,\n",
    "        \"mse\": mse,\n",
    "        \"rmse\" : rmse,\n",
    "        \"r2_score\": r2\n",
    "    })\n",
    "\n"
   ]
  },
  {
   "cell_type": "code",
   "execution_count": 12,
   "metadata": {},
   "outputs": [],
   "source": [
    "# Crear DataFrame y ordenar por r2_score\n",
    "resultados = pd.DataFrame(resultados_lista)\n",
    "resultados = resultados.sort_values(by=\"r2_score\", ascending=False)\n",
    "#Creamos el pickle\n",
    "resultados.to_pickle(\"data/resultados_modelos.pkl\")"
   ]
  },
  {
   "cell_type": "code",
   "execution_count": 13,
   "metadata": {},
   "outputs": [
    {
     "data": {
      "text/html": [
       "<div>\n",
       "<style scoped>\n",
       "    .dataframe tbody tr th:only-of-type {\n",
       "        vertical-align: middle;\n",
       "    }\n",
       "\n",
       "    .dataframe tbody tr th {\n",
       "        vertical-align: top;\n",
       "    }\n",
       "\n",
       "    .dataframe thead th {\n",
       "        text-align: right;\n",
       "    }\n",
       "</style>\n",
       "<table border=\"1\" class=\"dataframe\">\n",
       "  <thead>\n",
       "    <tr style=\"text-align: right;\">\n",
       "      <th></th>\n",
       "      <th>model_name</th>\n",
       "      <th>mae</th>\n",
       "      <th>mse</th>\n",
       "      <th>rmse</th>\n",
       "      <th>r2_score</th>\n",
       "    </tr>\n",
       "  </thead>\n",
       "  <tbody>\n",
       "    <tr>\n",
       "      <th>5</th>\n",
       "      <td>LightGBM</td>\n",
       "      <td>9.727440</td>\n",
       "      <td>244.834744</td>\n",
       "      <td>15.647196</td>\n",
       "      <td>0.860073</td>\n",
       "    </tr>\n",
       "    <tr>\n",
       "      <th>1</th>\n",
       "      <td>Random Forest</td>\n",
       "      <td>8.654486</td>\n",
       "      <td>265.400936</td>\n",
       "      <td>16.291131</td>\n",
       "      <td>0.848319</td>\n",
       "    </tr>\n",
       "    <tr>\n",
       "      <th>4</th>\n",
       "      <td>XGBoost</td>\n",
       "      <td>8.297636</td>\n",
       "      <td>292.500981</td>\n",
       "      <td>17.102660</td>\n",
       "      <td>0.832831</td>\n",
       "    </tr>\n",
       "    <tr>\n",
       "      <th>3</th>\n",
       "      <td>Gradient Boosting</td>\n",
       "      <td>13.716214</td>\n",
       "      <td>376.139506</td>\n",
       "      <td>19.394316</td>\n",
       "      <td>0.785031</td>\n",
       "    </tr>\n",
       "    <tr>\n",
       "      <th>0</th>\n",
       "      <td>Linear Regression</td>\n",
       "      <td>17.901984</td>\n",
       "      <td>615.842171</td>\n",
       "      <td>24.816168</td>\n",
       "      <td>0.648037</td>\n",
       "    </tr>\n",
       "    <tr>\n",
       "      <th>6</th>\n",
       "      <td>MLP Regressor</td>\n",
       "      <td>19.023449</td>\n",
       "      <td>636.524040</td>\n",
       "      <td>25.229428</td>\n",
       "      <td>0.636217</td>\n",
       "    </tr>\n",
       "    <tr>\n",
       "      <th>2</th>\n",
       "      <td>Support Vector Regressor</td>\n",
       "      <td>20.278318</td>\n",
       "      <td>652.793475</td>\n",
       "      <td>25.549823</td>\n",
       "      <td>0.626919</td>\n",
       "    </tr>\n",
       "  </tbody>\n",
       "</table>\n",
       "</div>"
      ],
      "text/plain": [
       "                 model_name        mae         mse       rmse  r2_score\n",
       "5                  LightGBM   9.727440  244.834744  15.647196  0.860073\n",
       "1             Random Forest   8.654486  265.400936  16.291131  0.848319\n",
       "4                   XGBoost   8.297636  292.500981  17.102660  0.832831\n",
       "3         Gradient Boosting  13.716214  376.139506  19.394316  0.785031\n",
       "0         Linear Regression  17.901984  615.842171  24.816168  0.648037\n",
       "6             MLP Regressor  19.023449  636.524040  25.229428  0.636217\n",
       "2  Support Vector Regressor  20.278318  652.793475  25.549823  0.626919"
      ]
     },
     "execution_count": 13,
     "metadata": {},
     "output_type": "execute_result"
    }
   ],
   "source": [
    "resultados"
   ]
  },
  {
   "cell_type": "markdown",
   "metadata": {},
   "source": [
    "**Ajuste de Hiperparámetros**\n",
    "   - Para maximizar el rendimiento del modelo, ajustaremos los hiperparámetros clave utilizando **Grid Search**. Este paso es crucial para obtener el mejor modelo posible para nuestros datos."
   ]
  },
  {
   "cell_type": "code",
   "execution_count": 14,
   "metadata": {},
   "outputs": [],
   "source": [
    "lgb = LGBMRegressor(random_state=42) # Quizas el objective se pone aquí\n",
    "param_grid = {\n",
    "    'n_estimators': [100, 500, 1000],\n",
    "    'num_leaves': [31, 63, 127],\n",
    "    'max_depth': [5, 7, 10],\n",
    "    'learning_rate': [0.01, 0.05, 0.1],\n",
    "    'min_child_samples': [20, 50],\n",
    "    'subsample': [0.7, 0.8],\n",
    "    'reg_lambda': [0, 1],\n",
    "    'reg_alpha': [0, 1],\n",
    "    'boosting_type': ['gbdt', 'dart'],\n",
    "    'objective': ['regression']\n",
    "}"
   ]
  },
  {
   "cell_type": "code",
   "execution_count": 15,
   "metadata": {},
   "outputs": [],
   "source": [
    "grid_search = GridSearchCV(estimator=lgb, param_grid=param_grid, \n",
    "                           scoring='neg_mean_absolute_error', cv=3, \n",
    "                           verbose=1, n_jobs=-1)"
   ]
  },
  {
   "cell_type": "code",
   "execution_count": null,
   "metadata": {},
   "outputs": [],
   "source": [
    "%%time\n",
    "\n",
    "grid_search.fit(X_train, y_train)\n",
    "# Mostramos los mejores parámetros y resultados\n",
    "best_params = grid_search.best_params_\n",
    "print(\"Mejores hiperparámetros:\", best_params)\n",
    "\n",
    "# comprobamos los  mejores parámetros\n",
    "best_model = grid_search.best_estimator_\n",
    "y_pred = best_model.predict(X_test)\n",
    "\n",
    "# Calculamos y mostramos las métricas\n",
    "mae = mean_absolute_error(y_test, y_pred)\n",
    "mse = mean_squared_error(y_test, y_pred)\n",
    "rmse = root_mean_squared_error(y_test, y_pred)\n",
    "r2 = r2_score(y_test, y_pred)\n",
    "print(\"MAE:\", mae)\n",
    "print(\"MSE:\", mse)\n",
    "print(\"RMSE\", rmse)\n",
    "print(\"R²:\", r2)"
   ]
  },
  {
   "cell_type": "markdown",
   "metadata": {},
   "source": [
    "Creación del pickle"
   ]
  },
  {
   "cell_type": "code",
   "execution_count": null,
   "metadata": {},
   "outputs": [],
   "source": [
    "# Creamos un diccionario con los resultados\n",
    "grid_search = {\n",
    "    \"best_params\": best_params,\n",
    "    \"mae\": mae,\n",
    "    \"mse\": mse,\n",
    "    \"rmse\": rmse,\n",
    "    \"r2_score\": r2\n",
    "}\n",
    "\n",
    "grid_search = pd.DataFrame(grid_search)\n",
    "grid_search = grid_search.sort_values(by=\"r2_score\", ascending=False)\n",
    "#Creamos el pickle\n",
    "grid_search.to_pickle(\"data/resultados_gridsearch.pkl\")"
   ]
  },
  {
   "cell_type": "code",
   "execution_count": null,
   "metadata": {},
   "outputs": [
    {
     "data": {
      "text/html": [
       "<div>\n",
       "<style scoped>\n",
       "    .dataframe tbody tr th:only-of-type {\n",
       "        vertical-align: middle;\n",
       "    }\n",
       "\n",
       "    .dataframe tbody tr th {\n",
       "        vertical-align: top;\n",
       "    }\n",
       "\n",
       "    .dataframe thead th {\n",
       "        text-align: right;\n",
       "    }\n",
       "</style>\n",
       "<table border=\"1\" class=\"dataframe\">\n",
       "  <thead>\n",
       "    <tr style=\"text-align: right;\">\n",
       "      <th></th>\n",
       "      <th>best_params</th>\n",
       "      <th>mae</th>\n",
       "      <th>mse</th>\n",
       "      <th>rmse</th>\n",
       "      <th>r2_score</th>\n",
       "    </tr>\n",
       "  </thead>\n",
       "  <tbody>\n",
       "    <tr>\n",
       "      <th>boosting_type</th>\n",
       "      <td>gbdt</td>\n",
       "      <td>0.016778</td>\n",
       "      <td>0.001221</td>\n",
       "      <td>0.034942</td>\n",
       "      <td>0.868567</td>\n",
       "    </tr>\n",
       "    <tr>\n",
       "      <th>learning_rate</th>\n",
       "      <td>0.1</td>\n",
       "      <td>0.016778</td>\n",
       "      <td>0.001221</td>\n",
       "      <td>0.034942</td>\n",
       "      <td>0.868567</td>\n",
       "    </tr>\n",
       "    <tr>\n",
       "      <th>max_depth</th>\n",
       "      <td>10</td>\n",
       "      <td>0.016778</td>\n",
       "      <td>0.001221</td>\n",
       "      <td>0.034942</td>\n",
       "      <td>0.868567</td>\n",
       "    </tr>\n",
       "    <tr>\n",
       "      <th>min_child_samples</th>\n",
       "      <td>20</td>\n",
       "      <td>0.016778</td>\n",
       "      <td>0.001221</td>\n",
       "      <td>0.034942</td>\n",
       "      <td>0.868567</td>\n",
       "    </tr>\n",
       "    <tr>\n",
       "      <th>n_estimators</th>\n",
       "      <td>1000</td>\n",
       "      <td>0.016778</td>\n",
       "      <td>0.001221</td>\n",
       "      <td>0.034942</td>\n",
       "      <td>0.868567</td>\n",
       "    </tr>\n",
       "    <tr>\n",
       "      <th>num_leaves</th>\n",
       "      <td>31</td>\n",
       "      <td>0.016778</td>\n",
       "      <td>0.001221</td>\n",
       "      <td>0.034942</td>\n",
       "      <td>0.868567</td>\n",
       "    </tr>\n",
       "    <tr>\n",
       "      <th>objective</th>\n",
       "      <td>regression</td>\n",
       "      <td>0.016778</td>\n",
       "      <td>0.001221</td>\n",
       "      <td>0.034942</td>\n",
       "      <td>0.868567</td>\n",
       "    </tr>\n",
       "    <tr>\n",
       "      <th>reg_alpha</th>\n",
       "      <td>0</td>\n",
       "      <td>0.016778</td>\n",
       "      <td>0.001221</td>\n",
       "      <td>0.034942</td>\n",
       "      <td>0.868567</td>\n",
       "    </tr>\n",
       "    <tr>\n",
       "      <th>reg_lambda</th>\n",
       "      <td>0</td>\n",
       "      <td>0.016778</td>\n",
       "      <td>0.001221</td>\n",
       "      <td>0.034942</td>\n",
       "      <td>0.868567</td>\n",
       "    </tr>\n",
       "    <tr>\n",
       "      <th>subsample</th>\n",
       "      <td>0.7</td>\n",
       "      <td>0.016778</td>\n",
       "      <td>0.001221</td>\n",
       "      <td>0.034942</td>\n",
       "      <td>0.868567</td>\n",
       "    </tr>\n",
       "  </tbody>\n",
       "</table>\n",
       "</div>"
      ],
      "text/plain": [
       "                  best_params       mae       mse      rmse  r2_score\n",
       "boosting_type            gbdt  0.016778  0.001221  0.034942  0.868567\n",
       "learning_rate             0.1  0.016778  0.001221  0.034942  0.868567\n",
       "max_depth                  10  0.016778  0.001221  0.034942  0.868567\n",
       "min_child_samples          20  0.016778  0.001221  0.034942  0.868567\n",
       "n_estimators             1000  0.016778  0.001221  0.034942  0.868567\n",
       "num_leaves                 31  0.016778  0.001221  0.034942  0.868567\n",
       "objective          regression  0.016778  0.001221  0.034942  0.868567\n",
       "reg_alpha                   0  0.016778  0.001221  0.034942  0.868567\n",
       "reg_lambda                  0  0.016778  0.001221  0.034942  0.868567\n",
       "subsample                 0.7  0.016778  0.001221  0.034942  0.868567"
      ]
     },
     "execution_count": 18,
     "metadata": {},
     "output_type": "execute_result"
    }
   ],
   "source": [
    "grid_search"
   ]
  },
  {
   "cell_type": "markdown",
   "metadata": {},
   "source": [
    "Neural Networks"
   ]
  },
  {
   "cell_type": "code",
   "execution_count": 2,
   "metadata": {},
   "outputs": [],
   "source": [
    "# Cargar los dados escalados en el ultimo modelo\n",
    "df = pd.read_pickle(\"data/Scaler.pkl\")\n",
    "\n",
    "# Filtrar los datos de train y test\n",
    "X_train = df[df['Set'] == 'Train'].drop(columns=['y', 'Set'])\n",
    "X_test = df[df['Set'] == 'Test'].drop(columns=['y', 'Set'])\n",
    "y_train = df[df['Set'] == 'Train']['y']\n",
    "y_test = df[df['Set'] == 'Test']['y']"
   ]
  },
  {
   "cell_type": "code",
   "execution_count": 3,
   "metadata": {},
   "outputs": [
    {
     "name": "stdout",
     "output_type": "stream",
     "text": [
      "Epoch 1/100\n",
      "\u001b[1m63/63\u001b[0m \u001b[32m━━━━━━━━━━━━━━━━━━━━\u001b[0m\u001b[37m\u001b[0m \u001b[1m2s\u001b[0m 4ms/step - loss: 0.0162 - val_loss: 0.0044\n",
      "Epoch 2/100\n",
      "\u001b[1m63/63\u001b[0m \u001b[32m━━━━━━━━━━━━━━━━━━━━\u001b[0m\u001b[37m\u001b[0m \u001b[1m0s\u001b[0m 2ms/step - loss: 0.0066 - val_loss: 0.0044\n",
      "Epoch 3/100\n",
      "\u001b[1m63/63\u001b[0m \u001b[32m━━━━━━━━━━━━━━━━━━━━\u001b[0m\u001b[37m\u001b[0m \u001b[1m0s\u001b[0m 2ms/step - loss: 0.0057 - val_loss: 0.0039\n",
      "Epoch 4/100\n",
      "\u001b[1m63/63\u001b[0m \u001b[32m━━━━━━━━━━━━━━━━━━━━\u001b[0m\u001b[37m\u001b[0m \u001b[1m0s\u001b[0m 2ms/step - loss: 0.0050 - val_loss: 0.0039\n",
      "Epoch 5/100\n",
      "\u001b[1m63/63\u001b[0m \u001b[32m━━━━━━━━━━━━━━━━━━━━\u001b[0m\u001b[37m\u001b[0m \u001b[1m0s\u001b[0m 2ms/step - loss: 0.0051 - val_loss: 0.0037\n",
      "Epoch 6/100\n",
      "\u001b[1m63/63\u001b[0m \u001b[32m━━━━━━━━━━━━━━━━━━━━\u001b[0m\u001b[37m\u001b[0m \u001b[1m0s\u001b[0m 3ms/step - loss: 0.0048 - val_loss: 0.0035\n",
      "Epoch 7/100\n",
      "\u001b[1m63/63\u001b[0m \u001b[32m━━━━━━━━━━━━━━━━━━━━\u001b[0m\u001b[37m\u001b[0m \u001b[1m0s\u001b[0m 2ms/step - loss: 0.0043 - val_loss: 0.0036\n",
      "Epoch 8/100\n",
      "\u001b[1m63/63\u001b[0m \u001b[32m━━━━━━━━━━━━━━━━━━━━\u001b[0m\u001b[37m\u001b[0m \u001b[1m0s\u001b[0m 2ms/step - loss: 0.0046 - val_loss: 0.0033\n",
      "Epoch 9/100\n",
      "\u001b[1m63/63\u001b[0m \u001b[32m━━━━━━━━━━━━━━━━━━━━\u001b[0m\u001b[37m\u001b[0m \u001b[1m0s\u001b[0m 2ms/step - loss: 0.0042 - val_loss: 0.0034\n",
      "Epoch 10/100\n",
      "\u001b[1m63/63\u001b[0m \u001b[32m━━━━━━━━━━━━━━━━━━━━\u001b[0m\u001b[37m\u001b[0m \u001b[1m0s\u001b[0m 2ms/step - loss: 0.0045 - val_loss: 0.0035\n",
      "Epoch 11/100\n",
      "\u001b[1m63/63\u001b[0m \u001b[32m━━━━━━━━━━━━━━━━━━━━\u001b[0m\u001b[37m\u001b[0m \u001b[1m0s\u001b[0m 2ms/step - loss: 0.0042 - val_loss: 0.0031\n",
      "Epoch 12/100\n",
      "\u001b[1m63/63\u001b[0m \u001b[32m━━━━━━━━━━━━━━━━━━━━\u001b[0m\u001b[37m\u001b[0m \u001b[1m0s\u001b[0m 2ms/step - loss: 0.0041 - val_loss: 0.0034\n",
      "Epoch 13/100\n",
      "\u001b[1m63/63\u001b[0m \u001b[32m━━━━━━━━━━━━━━━━━━━━\u001b[0m\u001b[37m\u001b[0m \u001b[1m0s\u001b[0m 2ms/step - loss: 0.0042 - val_loss: 0.0032\n",
      "Epoch 14/100\n",
      "\u001b[1m63/63\u001b[0m \u001b[32m━━━━━━━━━━━━━━━━━━━━\u001b[0m\u001b[37m\u001b[0m \u001b[1m0s\u001b[0m 2ms/step - loss: 0.0039 - val_loss: 0.0030\n",
      "Epoch 15/100\n",
      "\u001b[1m63/63\u001b[0m \u001b[32m━━━━━━━━━━━━━━━━━━━━\u001b[0m\u001b[37m\u001b[0m \u001b[1m0s\u001b[0m 2ms/step - loss: 0.0041 - val_loss: 0.0030\n",
      "Epoch 16/100\n",
      "\u001b[1m63/63\u001b[0m \u001b[32m━━━━━━━━━━━━━━━━━━━━\u001b[0m\u001b[37m\u001b[0m \u001b[1m0s\u001b[0m 2ms/step - loss: 0.0036 - val_loss: 0.0030\n",
      "Epoch 17/100\n",
      "\u001b[1m63/63\u001b[0m \u001b[32m━━━━━━━━━━━━━━━━━━━━\u001b[0m\u001b[37m\u001b[0m \u001b[1m0s\u001b[0m 5ms/step - loss: 0.0033 - val_loss: 0.0029\n",
      "Epoch 18/100\n",
      "\u001b[1m63/63\u001b[0m \u001b[32m━━━━━━━━━━━━━━━━━━━━\u001b[0m\u001b[37m\u001b[0m \u001b[1m0s\u001b[0m 2ms/step - loss: 0.0033 - val_loss: 0.0029\n",
      "Epoch 19/100\n",
      "\u001b[1m63/63\u001b[0m \u001b[32m━━━━━━━━━━━━━━━━━━━━\u001b[0m\u001b[37m\u001b[0m \u001b[1m0s\u001b[0m 2ms/step - loss: 0.0036 - val_loss: 0.0029\n",
      "Epoch 20/100\n",
      "\u001b[1m63/63\u001b[0m \u001b[32m━━━━━━━━━━━━━━━━━━━━\u001b[0m\u001b[37m\u001b[0m \u001b[1m0s\u001b[0m 2ms/step - loss: 0.0033 - val_loss: 0.0029\n",
      "Epoch 21/100\n",
      "\u001b[1m63/63\u001b[0m \u001b[32m━━━━━━━━━━━━━━━━━━━━\u001b[0m\u001b[37m\u001b[0m \u001b[1m0s\u001b[0m 2ms/step - loss: 0.0028 - val_loss: 0.0029\n",
      "Epoch 22/100\n",
      "\u001b[1m63/63\u001b[0m \u001b[32m━━━━━━━━━━━━━━━━━━━━\u001b[0m\u001b[37m\u001b[0m \u001b[1m0s\u001b[0m 3ms/step - loss: 0.0046 - val_loss: 0.0030\n",
      "Epoch 23/100\n",
      "\u001b[1m63/63\u001b[0m \u001b[32m━━━━━━━━━━━━━━━━━━━━\u001b[0m\u001b[37m\u001b[0m \u001b[1m0s\u001b[0m 2ms/step - loss: 0.0032 - val_loss: 0.0028\n",
      "Epoch 24/100\n",
      "\u001b[1m63/63\u001b[0m \u001b[32m━━━━━━━━━━━━━━━━━━━━\u001b[0m\u001b[37m\u001b[0m \u001b[1m0s\u001b[0m 2ms/step - loss: 0.0035 - val_loss: 0.0030\n",
      "Epoch 25/100\n",
      "\u001b[1m63/63\u001b[0m \u001b[32m━━━━━━━━━━━━━━━━━━━━\u001b[0m\u001b[37m\u001b[0m \u001b[1m0s\u001b[0m 2ms/step - loss: 0.0034 - val_loss: 0.0029\n",
      "Epoch 26/100\n",
      "\u001b[1m63/63\u001b[0m \u001b[32m━━━━━━━━━━━━━━━━━━━━\u001b[0m\u001b[37m\u001b[0m \u001b[1m0s\u001b[0m 2ms/step - loss: 0.0033 - val_loss: 0.0028\n",
      "Epoch 27/100\n",
      "\u001b[1m63/63\u001b[0m \u001b[32m━━━━━━━━━━━━━━━━━━━━\u001b[0m\u001b[37m\u001b[0m \u001b[1m0s\u001b[0m 2ms/step - loss: 0.0032 - val_loss: 0.0029\n",
      "Epoch 28/100\n",
      "\u001b[1m63/63\u001b[0m \u001b[32m━━━━━━━━━━━━━━━━━━━━\u001b[0m\u001b[37m\u001b[0m \u001b[1m0s\u001b[0m 2ms/step - loss: 0.0030 - val_loss: 0.0028\n",
      "Epoch 29/100\n",
      "\u001b[1m63/63\u001b[0m \u001b[32m━━━━━━━━━━━━━━━━━━━━\u001b[0m\u001b[37m\u001b[0m \u001b[1m0s\u001b[0m 2ms/step - loss: 0.0026 - val_loss: 0.0026\n",
      "Epoch 30/100\n",
      "\u001b[1m63/63\u001b[0m \u001b[32m━━━━━━━━━━━━━━━━━━━━\u001b[0m\u001b[37m\u001b[0m \u001b[1m0s\u001b[0m 2ms/step - loss: 0.0029 - val_loss: 0.0027\n",
      "Epoch 31/100\n",
      "\u001b[1m63/63\u001b[0m \u001b[32m━━━━━━━━━━━━━━━━━━━━\u001b[0m\u001b[37m\u001b[0m \u001b[1m0s\u001b[0m 2ms/step - loss: 0.0033 - val_loss: 0.0026\n",
      "Epoch 32/100\n",
      "\u001b[1m63/63\u001b[0m \u001b[32m━━━━━━━━━━━━━━━━━━━━\u001b[0m\u001b[37m\u001b[0m \u001b[1m0s\u001b[0m 2ms/step - loss: 0.0031 - val_loss: 0.0026\n",
      "Epoch 33/100\n",
      "\u001b[1m63/63\u001b[0m \u001b[32m━━━━━━━━━━━━━━━━━━━━\u001b[0m\u001b[37m\u001b[0m \u001b[1m0s\u001b[0m 2ms/step - loss: 0.0030 - val_loss: 0.0027\n",
      "Epoch 34/100\n",
      "\u001b[1m63/63\u001b[0m \u001b[32m━━━━━━━━━━━━━━━━━━━━\u001b[0m\u001b[37m\u001b[0m \u001b[1m0s\u001b[0m 2ms/step - loss: 0.0033 - val_loss: 0.0028\n",
      "Epoch 35/100\n",
      "\u001b[1m63/63\u001b[0m \u001b[32m━━━━━━━━━━━━━━━━━━━━\u001b[0m\u001b[37m\u001b[0m \u001b[1m0s\u001b[0m 2ms/step - loss: 0.0026 - val_loss: 0.0027\n",
      "Epoch 36/100\n",
      "\u001b[1m63/63\u001b[0m \u001b[32m━━━━━━━━━━━━━━━━━━━━\u001b[0m\u001b[37m\u001b[0m \u001b[1m0s\u001b[0m 2ms/step - loss: 0.0027 - val_loss: 0.0025\n",
      "Epoch 37/100\n",
      "\u001b[1m63/63\u001b[0m \u001b[32m━━━━━━━━━━━━━━━━━━━━\u001b[0m\u001b[37m\u001b[0m \u001b[1m0s\u001b[0m 2ms/step - loss: 0.0028 - val_loss: 0.0026\n",
      "Epoch 38/100\n",
      "\u001b[1m63/63\u001b[0m \u001b[32m━━━━━━━━━━━━━━━━━━━━\u001b[0m\u001b[37m\u001b[0m \u001b[1m0s\u001b[0m 2ms/step - loss: 0.0030 - val_loss: 0.0026\n",
      "Epoch 39/100\n",
      "\u001b[1m63/63\u001b[0m \u001b[32m━━━━━━━━━━━━━━━━━━━━\u001b[0m\u001b[37m\u001b[0m \u001b[1m0s\u001b[0m 2ms/step - loss: 0.0023 - val_loss: 0.0025\n",
      "Epoch 40/100\n",
      "\u001b[1m63/63\u001b[0m \u001b[32m━━━━━━━━━━━━━━━━━━━━\u001b[0m\u001b[37m\u001b[0m \u001b[1m0s\u001b[0m 2ms/step - loss: 0.0027 - val_loss: 0.0028\n",
      "Epoch 41/100\n",
      "\u001b[1m63/63\u001b[0m \u001b[32m━━━━━━━━━━━━━━━━━━━━\u001b[0m\u001b[37m\u001b[0m \u001b[1m0s\u001b[0m 2ms/step - loss: 0.0028 - val_loss: 0.0027\n",
      "Epoch 42/100\n",
      "\u001b[1m63/63\u001b[0m \u001b[32m━━━━━━━━━━━━━━━━━━━━\u001b[0m\u001b[37m\u001b[0m \u001b[1m0s\u001b[0m 2ms/step - loss: 0.0024 - val_loss: 0.0029\n",
      "Epoch 43/100\n",
      "\u001b[1m63/63\u001b[0m \u001b[32m━━━━━━━━━━━━━━━━━━━━\u001b[0m\u001b[37m\u001b[0m \u001b[1m0s\u001b[0m 3ms/step - loss: 0.0024 - val_loss: 0.0028\n",
      "Epoch 44/100\n",
      "\u001b[1m63/63\u001b[0m \u001b[32m━━━━━━━━━━━━━━━━━━━━\u001b[0m\u001b[37m\u001b[0m \u001b[1m0s\u001b[0m 2ms/step - loss: 0.0026 - val_loss: 0.0026\n",
      "Epoch 45/100\n",
      "\u001b[1m63/63\u001b[0m \u001b[32m━━━━━━━━━━━━━━━━━━━━\u001b[0m\u001b[37m\u001b[0m \u001b[1m0s\u001b[0m 2ms/step - loss: 0.0025 - val_loss: 0.0027\n",
      "Epoch 46/100\n",
      "\u001b[1m63/63\u001b[0m \u001b[32m━━━━━━━━━━━━━━━━━━━━\u001b[0m\u001b[37m\u001b[0m \u001b[1m0s\u001b[0m 2ms/step - loss: 0.0026 - val_loss: 0.0025\n",
      "Epoch 47/100\n",
      "\u001b[1m63/63\u001b[0m \u001b[32m━━━━━━━━━━━━━━━━━━━━\u001b[0m\u001b[37m\u001b[0m \u001b[1m0s\u001b[0m 2ms/step - loss: 0.0023 - val_loss: 0.0026\n",
      "Epoch 48/100\n",
      "\u001b[1m63/63\u001b[0m \u001b[32m━━━━━━━━━━━━━━━━━━━━\u001b[0m\u001b[37m\u001b[0m \u001b[1m0s\u001b[0m 2ms/step - loss: 0.0024 - val_loss: 0.0024\n",
      "Epoch 49/100\n",
      "\u001b[1m63/63\u001b[0m \u001b[32m━━━━━━━━━━━━━━━━━━━━\u001b[0m\u001b[37m\u001b[0m \u001b[1m0s\u001b[0m 2ms/step - loss: 0.0028 - val_loss: 0.0029\n",
      "Epoch 50/100\n",
      "\u001b[1m63/63\u001b[0m \u001b[32m━━━━━━━━━━━━━━━━━━━━\u001b[0m\u001b[37m\u001b[0m \u001b[1m0s\u001b[0m 2ms/step - loss: 0.0023 - val_loss: 0.0027\n",
      "Epoch 51/100\n",
      "\u001b[1m63/63\u001b[0m \u001b[32m━━━━━━━━━━━━━━━━━━━━\u001b[0m\u001b[37m\u001b[0m \u001b[1m0s\u001b[0m 2ms/step - loss: 0.0025 - val_loss: 0.0026\n",
      "Epoch 52/100\n",
      "\u001b[1m63/63\u001b[0m \u001b[32m━━━━━━━━━━━━━━━━━━━━\u001b[0m\u001b[37m\u001b[0m \u001b[1m0s\u001b[0m 2ms/step - loss: 0.0022 - val_loss: 0.0024\n",
      "Epoch 53/100\n",
      "\u001b[1m63/63\u001b[0m \u001b[32m━━━━━━━━━━━━━━━━━━━━\u001b[0m\u001b[37m\u001b[0m \u001b[1m0s\u001b[0m 2ms/step - loss: 0.0026 - val_loss: 0.0024\n",
      "Epoch 54/100\n",
      "\u001b[1m63/63\u001b[0m \u001b[32m━━━━━━━━━━━━━━━━━━━━\u001b[0m\u001b[37m\u001b[0m \u001b[1m0s\u001b[0m 2ms/step - loss: 0.0022 - val_loss: 0.0023\n",
      "Epoch 55/100\n",
      "\u001b[1m63/63\u001b[0m \u001b[32m━━━━━━━━━━━━━━━━━━━━\u001b[0m\u001b[37m\u001b[0m \u001b[1m0s\u001b[0m 2ms/step - loss: 0.0025 - val_loss: 0.0025\n",
      "Epoch 56/100\n",
      "\u001b[1m63/63\u001b[0m \u001b[32m━━━━━━━━━━━━━━━━━━━━\u001b[0m\u001b[37m\u001b[0m \u001b[1m0s\u001b[0m 2ms/step - loss: 0.0025 - val_loss: 0.0025\n",
      "Epoch 57/100\n",
      "\u001b[1m63/63\u001b[0m \u001b[32m━━━━━━━━━━━━━━━━━━━━\u001b[0m\u001b[37m\u001b[0m \u001b[1m0s\u001b[0m 2ms/step - loss: 0.0023 - val_loss: 0.0025\n",
      "Epoch 58/100\n",
      "\u001b[1m63/63\u001b[0m \u001b[32m━━━━━━━━━━━━━━━━━━━━\u001b[0m\u001b[37m\u001b[0m \u001b[1m0s\u001b[0m 2ms/step - loss: 0.0026 - val_loss: 0.0024\n",
      "Epoch 59/100\n",
      "\u001b[1m63/63\u001b[0m \u001b[32m━━━━━━━━━━━━━━━━━━━━\u001b[0m\u001b[37m\u001b[0m \u001b[1m0s\u001b[0m 2ms/step - loss: 0.0024 - val_loss: 0.0025\n",
      "Epoch 60/100\n",
      "\u001b[1m63/63\u001b[0m \u001b[32m━━━━━━━━━━━━━━━━━━━━\u001b[0m\u001b[37m\u001b[0m \u001b[1m0s\u001b[0m 2ms/step - loss: 0.0025 - val_loss: 0.0027\n",
      "Epoch 61/100\n",
      "\u001b[1m63/63\u001b[0m \u001b[32m━━━━━━━━━━━━━━━━━━━━\u001b[0m\u001b[37m\u001b[0m \u001b[1m0s\u001b[0m 2ms/step - loss: 0.0030 - val_loss: 0.0025\n",
      "Epoch 62/100\n",
      "\u001b[1m63/63\u001b[0m \u001b[32m━━━━━━━━━━━━━━━━━━━━\u001b[0m\u001b[37m\u001b[0m \u001b[1m0s\u001b[0m 2ms/step - loss: 0.0021 - val_loss: 0.0025\n",
      "Epoch 63/100\n",
      "\u001b[1m63/63\u001b[0m \u001b[32m━━━━━━━━━━━━━━━━━━━━\u001b[0m\u001b[37m\u001b[0m \u001b[1m0s\u001b[0m 2ms/step - loss: 0.0026 - val_loss: 0.0025\n",
      "Epoch 64/100\n",
      "\u001b[1m63/63\u001b[0m \u001b[32m━━━━━━━━━━━━━━━━━━━━\u001b[0m\u001b[37m\u001b[0m \u001b[1m0s\u001b[0m 2ms/step - loss: 0.0022 - val_loss: 0.0023\n",
      "Epoch 65/100\n",
      "\u001b[1m63/63\u001b[0m \u001b[32m━━━━━━━━━━━━━━━━━━━━\u001b[0m\u001b[37m\u001b[0m \u001b[1m0s\u001b[0m 2ms/step - loss: 0.0022 - val_loss: 0.0026\n",
      "Epoch 66/100\n",
      "\u001b[1m63/63\u001b[0m \u001b[32m━━━━━━━━━━━━━━━━━━━━\u001b[0m\u001b[37m\u001b[0m \u001b[1m0s\u001b[0m 2ms/step - loss: 0.0032 - val_loss: 0.0024\n",
      "Epoch 67/100\n",
      "\u001b[1m63/63\u001b[0m \u001b[32m━━━━━━━━━━━━━━━━━━━━\u001b[0m\u001b[37m\u001b[0m \u001b[1m0s\u001b[0m 2ms/step - loss: 0.0022 - val_loss: 0.0023\n",
      "Epoch 68/100\n",
      "\u001b[1m63/63\u001b[0m \u001b[32m━━━━━━━━━━━━━━━━━━━━\u001b[0m\u001b[37m\u001b[0m \u001b[1m0s\u001b[0m 2ms/step - loss: 0.0026 - val_loss: 0.0025\n",
      "Epoch 69/100\n",
      "\u001b[1m63/63\u001b[0m \u001b[32m━━━━━━━━━━━━━━━━━━━━\u001b[0m\u001b[37m\u001b[0m \u001b[1m0s\u001b[0m 4ms/step - loss: 0.0030 - val_loss: 0.0024\n",
      "Epoch 70/100\n",
      "\u001b[1m63/63\u001b[0m \u001b[32m━━━━━━━━━━━━━━━━━━━━\u001b[0m\u001b[37m\u001b[0m \u001b[1m0s\u001b[0m 2ms/step - loss: 0.0026 - val_loss: 0.0024\n",
      "Epoch 71/100\n",
      "\u001b[1m63/63\u001b[0m \u001b[32m━━━━━━━━━━━━━━━━━━━━\u001b[0m\u001b[37m\u001b[0m \u001b[1m0s\u001b[0m 2ms/step - loss: 0.0023 - val_loss: 0.0024\n",
      "Epoch 72/100\n",
      "\u001b[1m63/63\u001b[0m \u001b[32m━━━━━━━━━━━━━━━━━━━━\u001b[0m\u001b[37m\u001b[0m \u001b[1m0s\u001b[0m 2ms/step - loss: 0.0021 - val_loss: 0.0022\n",
      "Epoch 73/100\n",
      "\u001b[1m63/63\u001b[0m \u001b[32m━━━━━━━━━━━━━━━━━━━━\u001b[0m\u001b[37m\u001b[0m \u001b[1m0s\u001b[0m 2ms/step - loss: 0.0022 - val_loss: 0.0023\n",
      "Epoch 74/100\n",
      "\u001b[1m63/63\u001b[0m \u001b[32m━━━━━━━━━━━━━━━━━━━━\u001b[0m\u001b[37m\u001b[0m \u001b[1m0s\u001b[0m 2ms/step - loss: 0.0022 - val_loss: 0.0027\n",
      "Epoch 75/100\n",
      "\u001b[1m63/63\u001b[0m \u001b[32m━━━━━━━━━━━━━━━━━━━━\u001b[0m\u001b[37m\u001b[0m \u001b[1m0s\u001b[0m 2ms/step - loss: 0.0021 - val_loss: 0.0023\n",
      "Epoch 76/100\n",
      "\u001b[1m63/63\u001b[0m \u001b[32m━━━━━━━━━━━━━━━━━━━━\u001b[0m\u001b[37m\u001b[0m \u001b[1m0s\u001b[0m 2ms/step - loss: 0.0024 - val_loss: 0.0025\n",
      "Epoch 77/100\n",
      "\u001b[1m63/63\u001b[0m \u001b[32m━━━━━━━━━━━━━━━━━━━━\u001b[0m\u001b[37m\u001b[0m \u001b[1m0s\u001b[0m 2ms/step - loss: 0.0022 - val_loss: 0.0023\n",
      "Epoch 78/100\n",
      "\u001b[1m63/63\u001b[0m \u001b[32m━━━━━━━━━━━━━━━━━━━━\u001b[0m\u001b[37m\u001b[0m \u001b[1m0s\u001b[0m 2ms/step - loss: 0.0020 - val_loss: 0.0022\n",
      "Epoch 79/100\n",
      "\u001b[1m63/63\u001b[0m \u001b[32m━━━━━━━━━━━━━━━━━━━━\u001b[0m\u001b[37m\u001b[0m \u001b[1m0s\u001b[0m 2ms/step - loss: 0.0020 - val_loss: 0.0023\n",
      "Epoch 80/100\n",
      "\u001b[1m63/63\u001b[0m \u001b[32m━━━━━━━━━━━━━━━━━━━━\u001b[0m\u001b[37m\u001b[0m \u001b[1m0s\u001b[0m 3ms/step - loss: 0.0021 - val_loss: 0.0024\n",
      "Epoch 81/100\n",
      "\u001b[1m63/63\u001b[0m \u001b[32m━━━━━━━━━━━━━━━━━━━━\u001b[0m\u001b[37m\u001b[0m \u001b[1m0s\u001b[0m 2ms/step - loss: 0.0019 - val_loss: 0.0025\n",
      "Epoch 82/100\n",
      "\u001b[1m63/63\u001b[0m \u001b[32m━━━━━━━━━━━━━━━━━━━━\u001b[0m\u001b[37m\u001b[0m \u001b[1m0s\u001b[0m 2ms/step - loss: 0.0020 - val_loss: 0.0024\n",
      "Epoch 83/100\n",
      "\u001b[1m63/63\u001b[0m \u001b[32m━━━━━━━━━━━━━━━━━━━━\u001b[0m\u001b[37m\u001b[0m \u001b[1m0s\u001b[0m 2ms/step - loss: 0.0019 - val_loss: 0.0025\n",
      "Epoch 84/100\n",
      "\u001b[1m63/63\u001b[0m \u001b[32m━━━━━━━━━━━━━━━━━━━━\u001b[0m\u001b[37m\u001b[0m \u001b[1m0s\u001b[0m 2ms/step - loss: 0.0022 - val_loss: 0.0025\n",
      "Epoch 85/100\n",
      "\u001b[1m63/63\u001b[0m \u001b[32m━━━━━━━━━━━━━━━━━━━━\u001b[0m\u001b[37m\u001b[0m \u001b[1m0s\u001b[0m 2ms/step - loss: 0.0019 - val_loss: 0.0025\n",
      "Epoch 86/100\n",
      "\u001b[1m63/63\u001b[0m \u001b[32m━━━━━━━━━━━━━━━━━━━━\u001b[0m\u001b[37m\u001b[0m \u001b[1m0s\u001b[0m 2ms/step - loss: 0.0020 - val_loss: 0.0024\n",
      "Epoch 87/100\n",
      "\u001b[1m63/63\u001b[0m \u001b[32m━━━━━━━━━━━━━━━━━━━━\u001b[0m\u001b[37m\u001b[0m \u001b[1m0s\u001b[0m 2ms/step - loss: 0.0021 - val_loss: 0.0024\n",
      "Epoch 88/100\n",
      "\u001b[1m63/63\u001b[0m \u001b[32m━━━━━━━━━━━━━━━━━━━━\u001b[0m\u001b[37m\u001b[0m \u001b[1m0s\u001b[0m 2ms/step - loss: 0.0019 - val_loss: 0.0022\n",
      "Epoch 89/100\n",
      "\u001b[1m63/63\u001b[0m \u001b[32m━━━━━━━━━━━━━━━━━━━━\u001b[0m\u001b[37m\u001b[0m \u001b[1m0s\u001b[0m 2ms/step - loss: 0.0021 - val_loss: 0.0023\n",
      "Epoch 90/100\n",
      "\u001b[1m63/63\u001b[0m \u001b[32m━━━━━━━━━━━━━━━━━━━━\u001b[0m\u001b[37m\u001b[0m \u001b[1m0s\u001b[0m 2ms/step - loss: 0.0019 - val_loss: 0.0025\n",
      "Epoch 91/100\n",
      "\u001b[1m63/63\u001b[0m \u001b[32m━━━━━━━━━━━━━━━━━━━━\u001b[0m\u001b[37m\u001b[0m \u001b[1m0s\u001b[0m 2ms/step - loss: 0.0020 - val_loss: 0.0023\n",
      "Epoch 92/100\n",
      "\u001b[1m63/63\u001b[0m \u001b[32m━━━━━━━━━━━━━━━━━━━━\u001b[0m\u001b[37m\u001b[0m \u001b[1m0s\u001b[0m 2ms/step - loss: 0.0019 - val_loss: 0.0025\n",
      "Epoch 93/100\n",
      "\u001b[1m63/63\u001b[0m \u001b[32m━━━━━━━━━━━━━━━━━━━━\u001b[0m\u001b[37m\u001b[0m \u001b[1m0s\u001b[0m 2ms/step - loss: 0.0019 - val_loss: 0.0021\n",
      "Epoch 94/100\n",
      "\u001b[1m63/63\u001b[0m \u001b[32m━━━━━━━━━━━━━━━━━━━━\u001b[0m\u001b[37m\u001b[0m \u001b[1m0s\u001b[0m 3ms/step - loss: 0.0020 - val_loss: 0.0023\n",
      "Epoch 95/100\n",
      "\u001b[1m63/63\u001b[0m \u001b[32m━━━━━━━━━━━━━━━━━━━━\u001b[0m\u001b[37m\u001b[0m \u001b[1m0s\u001b[0m 2ms/step - loss: 0.0021 - val_loss: 0.0022\n",
      "Epoch 96/100\n",
      "\u001b[1m63/63\u001b[0m \u001b[32m━━━━━━━━━━━━━━━━━━━━\u001b[0m\u001b[37m\u001b[0m \u001b[1m0s\u001b[0m 2ms/step - loss: 0.0018 - val_loss: 0.0023\n",
      "Epoch 97/100\n",
      "\u001b[1m63/63\u001b[0m \u001b[32m━━━━━━━━━━━━━━━━━━━━\u001b[0m\u001b[37m\u001b[0m \u001b[1m0s\u001b[0m 2ms/step - loss: 0.0017 - val_loss: 0.0022\n",
      "Epoch 98/100\n",
      "\u001b[1m63/63\u001b[0m \u001b[32m━━━━━━━━━━━━━━━━━━━━\u001b[0m\u001b[37m\u001b[0m \u001b[1m0s\u001b[0m 2ms/step - loss: 0.0018 - val_loss: 0.0023\n",
      "Epoch 99/100\n",
      "\u001b[1m63/63\u001b[0m \u001b[32m━━━━━━━━━━━━━━━━━━━━\u001b[0m\u001b[37m\u001b[0m \u001b[1m0s\u001b[0m 2ms/step - loss: 0.0018 - val_loss: 0.0022\n",
      "Epoch 100/100\n",
      "\u001b[1m63/63\u001b[0m \u001b[32m━━━━━━━━━━━━━━━━━━━━\u001b[0m\u001b[37m\u001b[0m \u001b[1m0s\u001b[0m 2ms/step - loss: 0.0018 - val_loss: 0.0023\n"
     ]
    },
    {
     "data": {
      "application/vnd.plotly.v1+json": {
       "config": {
        "plotlyServerURL": "https://plot.ly"
       },
       "data": [
        {
         "line": {
          "color": "blue"
         },
         "mode": "lines",
         "name": "Train Loss",
         "type": "scatter",
         "y": [
          0.011500243097543716,
          0.006377422716468573,
          0.005783736240118742,
          0.005211873445659876,
          0.005016913637518883,
          0.004716626834124327,
          0.004426553845405579,
          0.004399148281663656,
          0.004299459978938103,
          0.004177161492407322,
          0.0039683133363723755,
          0.003964503761380911,
          0.0038678692653775215,
          0.00386953167617321,
          0.003808723296970129,
          0.0036789611913263798,
          0.0035463972017169,
          0.0035250161308795214,
          0.0036259412299841642,
          0.0033389844466000795,
          0.0033281324431300163,
          0.00343959778547287,
          0.003259535413235426,
          0.0033434240613132715,
          0.003208736889064312,
          0.003248254070058465,
          0.0032721241004765034,
          0.003193834563717246,
          0.002934435848146677,
          0.003129195189103484,
          0.0030038601253181696,
          0.0028968416154384613,
          0.002977052005007863,
          0.0029540027026087046,
          0.0029252003878355026,
          0.0028755641542375088,
          0.002916567027568817,
          0.002992213238030672,
          0.002648318186402321,
          0.0028301363345235586,
          0.0028799399733543396,
          0.002684191567823291,
          0.002713141730055213,
          0.0026774019934237003,
          0.0027272801380604506,
          0.0027022287249565125,
          0.0026952377520501614,
          0.0025805849581956863,
          0.002584597794339061,
          0.002621428109705448,
          0.002604773733764887,
          0.0025067010428756475,
          0.002575899241492152,
          0.002546315547078848,
          0.0024291551671922207,
          0.002551738638430834,
          0.0024139732122421265,
          0.0024516053963452578,
          0.002425522543489933,
          0.0023295748978853226,
          0.002518030349165201,
          0.002273407531902194,
          0.0023016443010419607,
          0.002431793138384819,
          0.002322554588317871,
          0.0024659985210746527,
          0.002373252995312214,
          0.0023791175335645676,
          0.002409994835034013,
          0.0023974692448973656,
          0.002329884795472026,
          0.0021711543668061495,
          0.0021741585806012154,
          0.0021874946542084217,
          0.00222203996963799,
          0.0022228483576327562,
          0.0021899344865232706,
          0.0020831087604165077,
          0.0022510692942887545,
          0.002095658564940095,
          0.0019710056949406862,
          0.001999049447476864,
          0.0019381606252864003,
          0.0020602401345968246,
          0.002165281679481268,
          0.0021332204341888428,
          0.0021508275531232357,
          0.0020341293420642614,
          0.0020910839084535837,
          0.0019586002454161644,
          0.002008355688303709,
          0.002039439044892788,
          0.001988954609259963,
          0.001991123193874955,
          0.002067402470856905,
          0.0019631849136203527,
          0.0018766659777611494,
          0.0019179923692718148,
          0.001946984906680882,
          0.0020283248741179705
         ]
        },
        {
         "line": {
          "color": "orange"
         },
         "mode": "lines",
         "name": "Validation Loss",
         "type": "scatter",
         "y": [
          0.004363185726106167,
          0.004432993475347757,
          0.003897386835888028,
          0.003871543798595667,
          0.003715173341333866,
          0.0035449694842100143,
          0.0035716420970857143,
          0.003329596249386668,
          0.003430633805692196,
          0.0035170218907296658,
          0.0031403140164911747,
          0.003350332612171769,
          0.003198060905560851,
          0.0030079218558967113,
          0.0029778971802443266,
          0.002989825326949358,
          0.0028834682889282703,
          0.0028542864602059126,
          0.002940676873549819,
          0.00285462848842144,
          0.002880292944610119,
          0.003022754332050681,
          0.0028301647398620844,
          0.0029699543956667185,
          0.002939728321507573,
          0.0028090986888855696,
          0.0029128356836736202,
          0.002751966705545783,
          0.002610746305435896,
          0.002696750219911337,
          0.002647319110110402,
          0.002613421995192766,
          0.002700141165405512,
          0.0028071561828255653,
          0.0026680452283471823,
          0.0025357978884130716,
          0.002575007500126958,
          0.002608486218377948,
          0.0025239174719899893,
          0.0027959055732935667,
          0.0026927590370178223,
          0.002934456570073962,
          0.002756238915026188,
          0.0025873181875795126,
          0.002661294536665082,
          0.0025126950349658728,
          0.0026288223452866077,
          0.0024478775449097157,
          0.0028769546188414097,
          0.0026609161868691444,
          0.002649444155395031,
          0.0023692757822573185,
          0.0024458272382616997,
          0.0023442055098712444,
          0.0024926248006522655,
          0.0024932310916483402,
          0.0025025501381605864,
          0.0024109678342938423,
          0.0024831858463585377,
          0.002741279313340783,
          0.0024874743539839983,
          0.0024798139929771423,
          0.002461123513057828,
          0.0023096171207726,
          0.0025744037702679634,
          0.0023922601249068975,
          0.0022707232274115086,
          0.0024608115199953318,
          0.0024332504253834486,
          0.0023646936751902103,
          0.0024231504648923874,
          0.002183550037443638,
          0.0023468192666769028,
          0.0027387388981878757,
          0.0022796925622969866,
          0.002516278298571706,
          0.002339150058105588,
          0.0022367462515830994,
          0.00230210367590189,
          0.0023572565987706184,
          0.0024637712631374598,
          0.0023947753943502903,
          0.0024850727058947086,
          0.0024574308190494776,
          0.0024917933624237776,
          0.0023673116229474545,
          0.002389649162068963,
          0.0021719925571233034,
          0.0023035926278680563,
          0.002484087599441409,
          0.0023234563414007425,
          0.0024664478842169046,
          0.0020554959774017334,
          0.0022958035115152597,
          0.002172208856791258,
          0.0022597976494580507,
          0.002171796513721347,
          0.002310883952304721,
          0.0021959063597023487,
          0.0022859361488372087
         ]
        }
       ],
       "layout": {
        "legend": {
         "orientation": "h",
         "x": 0.5,
         "xanchor": "center",
         "y": 1
        },
        "template": {
         "data": {
          "bar": [
           {
            "error_x": {
             "color": "#2a3f5f"
            },
            "error_y": {
             "color": "#2a3f5f"
            },
            "marker": {
             "line": {
              "color": "white",
              "width": 0.5
             },
             "pattern": {
              "fillmode": "overlay",
              "size": 10,
              "solidity": 0.2
             }
            },
            "type": "bar"
           }
          ],
          "barpolar": [
           {
            "marker": {
             "line": {
              "color": "white",
              "width": 0.5
             },
             "pattern": {
              "fillmode": "overlay",
              "size": 10,
              "solidity": 0.2
             }
            },
            "type": "barpolar"
           }
          ],
          "carpet": [
           {
            "aaxis": {
             "endlinecolor": "#2a3f5f",
             "gridcolor": "#C8D4E3",
             "linecolor": "#C8D4E3",
             "minorgridcolor": "#C8D4E3",
             "startlinecolor": "#2a3f5f"
            },
            "baxis": {
             "endlinecolor": "#2a3f5f",
             "gridcolor": "#C8D4E3",
             "linecolor": "#C8D4E3",
             "minorgridcolor": "#C8D4E3",
             "startlinecolor": "#2a3f5f"
            },
            "type": "carpet"
           }
          ],
          "choropleth": [
           {
            "colorbar": {
             "outlinewidth": 0,
             "ticks": ""
            },
            "type": "choropleth"
           }
          ],
          "contour": [
           {
            "colorbar": {
             "outlinewidth": 0,
             "ticks": ""
            },
            "colorscale": [
             [
              0,
              "#0d0887"
             ],
             [
              0.1111111111111111,
              "#46039f"
             ],
             [
              0.2222222222222222,
              "#7201a8"
             ],
             [
              0.3333333333333333,
              "#9c179e"
             ],
             [
              0.4444444444444444,
              "#bd3786"
             ],
             [
              0.5555555555555556,
              "#d8576b"
             ],
             [
              0.6666666666666666,
              "#ed7953"
             ],
             [
              0.7777777777777778,
              "#fb9f3a"
             ],
             [
              0.8888888888888888,
              "#fdca26"
             ],
             [
              1,
              "#f0f921"
             ]
            ],
            "type": "contour"
           }
          ],
          "contourcarpet": [
           {
            "colorbar": {
             "outlinewidth": 0,
             "ticks": ""
            },
            "type": "contourcarpet"
           }
          ],
          "heatmap": [
           {
            "colorbar": {
             "outlinewidth": 0,
             "ticks": ""
            },
            "colorscale": [
             [
              0,
              "#0d0887"
             ],
             [
              0.1111111111111111,
              "#46039f"
             ],
             [
              0.2222222222222222,
              "#7201a8"
             ],
             [
              0.3333333333333333,
              "#9c179e"
             ],
             [
              0.4444444444444444,
              "#bd3786"
             ],
             [
              0.5555555555555556,
              "#d8576b"
             ],
             [
              0.6666666666666666,
              "#ed7953"
             ],
             [
              0.7777777777777778,
              "#fb9f3a"
             ],
             [
              0.8888888888888888,
              "#fdca26"
             ],
             [
              1,
              "#f0f921"
             ]
            ],
            "type": "heatmap"
           }
          ],
          "heatmapgl": [
           {
            "colorbar": {
             "outlinewidth": 0,
             "ticks": ""
            },
            "colorscale": [
             [
              0,
              "#0d0887"
             ],
             [
              0.1111111111111111,
              "#46039f"
             ],
             [
              0.2222222222222222,
              "#7201a8"
             ],
             [
              0.3333333333333333,
              "#9c179e"
             ],
             [
              0.4444444444444444,
              "#bd3786"
             ],
             [
              0.5555555555555556,
              "#d8576b"
             ],
             [
              0.6666666666666666,
              "#ed7953"
             ],
             [
              0.7777777777777778,
              "#fb9f3a"
             ],
             [
              0.8888888888888888,
              "#fdca26"
             ],
             [
              1,
              "#f0f921"
             ]
            ],
            "type": "heatmapgl"
           }
          ],
          "histogram": [
           {
            "marker": {
             "pattern": {
              "fillmode": "overlay",
              "size": 10,
              "solidity": 0.2
             }
            },
            "type": "histogram"
           }
          ],
          "histogram2d": [
           {
            "colorbar": {
             "outlinewidth": 0,
             "ticks": ""
            },
            "colorscale": [
             [
              0,
              "#0d0887"
             ],
             [
              0.1111111111111111,
              "#46039f"
             ],
             [
              0.2222222222222222,
              "#7201a8"
             ],
             [
              0.3333333333333333,
              "#9c179e"
             ],
             [
              0.4444444444444444,
              "#bd3786"
             ],
             [
              0.5555555555555556,
              "#d8576b"
             ],
             [
              0.6666666666666666,
              "#ed7953"
             ],
             [
              0.7777777777777778,
              "#fb9f3a"
             ],
             [
              0.8888888888888888,
              "#fdca26"
             ],
             [
              1,
              "#f0f921"
             ]
            ],
            "type": "histogram2d"
           }
          ],
          "histogram2dcontour": [
           {
            "colorbar": {
             "outlinewidth": 0,
             "ticks": ""
            },
            "colorscale": [
             [
              0,
              "#0d0887"
             ],
             [
              0.1111111111111111,
              "#46039f"
             ],
             [
              0.2222222222222222,
              "#7201a8"
             ],
             [
              0.3333333333333333,
              "#9c179e"
             ],
             [
              0.4444444444444444,
              "#bd3786"
             ],
             [
              0.5555555555555556,
              "#d8576b"
             ],
             [
              0.6666666666666666,
              "#ed7953"
             ],
             [
              0.7777777777777778,
              "#fb9f3a"
             ],
             [
              0.8888888888888888,
              "#fdca26"
             ],
             [
              1,
              "#f0f921"
             ]
            ],
            "type": "histogram2dcontour"
           }
          ],
          "mesh3d": [
           {
            "colorbar": {
             "outlinewidth": 0,
             "ticks": ""
            },
            "type": "mesh3d"
           }
          ],
          "parcoords": [
           {
            "line": {
             "colorbar": {
              "outlinewidth": 0,
              "ticks": ""
             }
            },
            "type": "parcoords"
           }
          ],
          "pie": [
           {
            "automargin": true,
            "type": "pie"
           }
          ],
          "scatter": [
           {
            "fillpattern": {
             "fillmode": "overlay",
             "size": 10,
             "solidity": 0.2
            },
            "type": "scatter"
           }
          ],
          "scatter3d": [
           {
            "line": {
             "colorbar": {
              "outlinewidth": 0,
              "ticks": ""
             }
            },
            "marker": {
             "colorbar": {
              "outlinewidth": 0,
              "ticks": ""
             }
            },
            "type": "scatter3d"
           }
          ],
          "scattercarpet": [
           {
            "marker": {
             "colorbar": {
              "outlinewidth": 0,
              "ticks": ""
             }
            },
            "type": "scattercarpet"
           }
          ],
          "scattergeo": [
           {
            "marker": {
             "colorbar": {
              "outlinewidth": 0,
              "ticks": ""
             }
            },
            "type": "scattergeo"
           }
          ],
          "scattergl": [
           {
            "marker": {
             "colorbar": {
              "outlinewidth": 0,
              "ticks": ""
             }
            },
            "type": "scattergl"
           }
          ],
          "scattermapbox": [
           {
            "marker": {
             "colorbar": {
              "outlinewidth": 0,
              "ticks": ""
             }
            },
            "type": "scattermapbox"
           }
          ],
          "scatterpolar": [
           {
            "marker": {
             "colorbar": {
              "outlinewidth": 0,
              "ticks": ""
             }
            },
            "type": "scatterpolar"
           }
          ],
          "scatterpolargl": [
           {
            "marker": {
             "colorbar": {
              "outlinewidth": 0,
              "ticks": ""
             }
            },
            "type": "scatterpolargl"
           }
          ],
          "scatterternary": [
           {
            "marker": {
             "colorbar": {
              "outlinewidth": 0,
              "ticks": ""
             }
            },
            "type": "scatterternary"
           }
          ],
          "surface": [
           {
            "colorbar": {
             "outlinewidth": 0,
             "ticks": ""
            },
            "colorscale": [
             [
              0,
              "#0d0887"
             ],
             [
              0.1111111111111111,
              "#46039f"
             ],
             [
              0.2222222222222222,
              "#7201a8"
             ],
             [
              0.3333333333333333,
              "#9c179e"
             ],
             [
              0.4444444444444444,
              "#bd3786"
             ],
             [
              0.5555555555555556,
              "#d8576b"
             ],
             [
              0.6666666666666666,
              "#ed7953"
             ],
             [
              0.7777777777777778,
              "#fb9f3a"
             ],
             [
              0.8888888888888888,
              "#fdca26"
             ],
             [
              1,
              "#f0f921"
             ]
            ],
            "type": "surface"
           }
          ],
          "table": [
           {
            "cells": {
             "fill": {
              "color": "#EBF0F8"
             },
             "line": {
              "color": "white"
             }
            },
            "header": {
             "fill": {
              "color": "#C8D4E3"
             },
             "line": {
              "color": "white"
             }
            },
            "type": "table"
           }
          ]
         },
         "layout": {
          "annotationdefaults": {
           "arrowcolor": "#2a3f5f",
           "arrowhead": 0,
           "arrowwidth": 1
          },
          "autotypenumbers": "strict",
          "coloraxis": {
           "colorbar": {
            "outlinewidth": 0,
            "ticks": ""
           }
          },
          "colorscale": {
           "diverging": [
            [
             0,
             "#8e0152"
            ],
            [
             0.1,
             "#c51b7d"
            ],
            [
             0.2,
             "#de77ae"
            ],
            [
             0.3,
             "#f1b6da"
            ],
            [
             0.4,
             "#fde0ef"
            ],
            [
             0.5,
             "#f7f7f7"
            ],
            [
             0.6,
             "#e6f5d0"
            ],
            [
             0.7,
             "#b8e186"
            ],
            [
             0.8,
             "#7fbc41"
            ],
            [
             0.9,
             "#4d9221"
            ],
            [
             1,
             "#276419"
            ]
           ],
           "sequential": [
            [
             0,
             "#0d0887"
            ],
            [
             0.1111111111111111,
             "#46039f"
            ],
            [
             0.2222222222222222,
             "#7201a8"
            ],
            [
             0.3333333333333333,
             "#9c179e"
            ],
            [
             0.4444444444444444,
             "#bd3786"
            ],
            [
             0.5555555555555556,
             "#d8576b"
            ],
            [
             0.6666666666666666,
             "#ed7953"
            ],
            [
             0.7777777777777778,
             "#fb9f3a"
            ],
            [
             0.8888888888888888,
             "#fdca26"
            ],
            [
             1,
             "#f0f921"
            ]
           ],
           "sequentialminus": [
            [
             0,
             "#0d0887"
            ],
            [
             0.1111111111111111,
             "#46039f"
            ],
            [
             0.2222222222222222,
             "#7201a8"
            ],
            [
             0.3333333333333333,
             "#9c179e"
            ],
            [
             0.4444444444444444,
             "#bd3786"
            ],
            [
             0.5555555555555556,
             "#d8576b"
            ],
            [
             0.6666666666666666,
             "#ed7953"
            ],
            [
             0.7777777777777778,
             "#fb9f3a"
            ],
            [
             0.8888888888888888,
             "#fdca26"
            ],
            [
             1,
             "#f0f921"
            ]
           ]
          },
          "colorway": [
           "#636efa",
           "#EF553B",
           "#00cc96",
           "#ab63fa",
           "#FFA15A",
           "#19d3f3",
           "#FF6692",
           "#B6E880",
           "#FF97FF",
           "#FECB52"
          ],
          "font": {
           "color": "#2a3f5f"
          },
          "geo": {
           "bgcolor": "white",
           "lakecolor": "white",
           "landcolor": "white",
           "showlakes": true,
           "showland": true,
           "subunitcolor": "#C8D4E3"
          },
          "hoverlabel": {
           "align": "left"
          },
          "hovermode": "closest",
          "mapbox": {
           "style": "light"
          },
          "paper_bgcolor": "white",
          "plot_bgcolor": "white",
          "polar": {
           "angularaxis": {
            "gridcolor": "#EBF0F8",
            "linecolor": "#EBF0F8",
            "ticks": ""
           },
           "bgcolor": "white",
           "radialaxis": {
            "gridcolor": "#EBF0F8",
            "linecolor": "#EBF0F8",
            "ticks": ""
           }
          },
          "scene": {
           "xaxis": {
            "backgroundcolor": "white",
            "gridcolor": "#DFE8F3",
            "gridwidth": 2,
            "linecolor": "#EBF0F8",
            "showbackground": true,
            "ticks": "",
            "zerolinecolor": "#EBF0F8"
           },
           "yaxis": {
            "backgroundcolor": "white",
            "gridcolor": "#DFE8F3",
            "gridwidth": 2,
            "linecolor": "#EBF0F8",
            "showbackground": true,
            "ticks": "",
            "zerolinecolor": "#EBF0F8"
           },
           "zaxis": {
            "backgroundcolor": "white",
            "gridcolor": "#DFE8F3",
            "gridwidth": 2,
            "linecolor": "#EBF0F8",
            "showbackground": true,
            "ticks": "",
            "zerolinecolor": "#EBF0F8"
           }
          },
          "shapedefaults": {
           "line": {
            "color": "#2a3f5f"
           }
          },
          "ternary": {
           "aaxis": {
            "gridcolor": "#DFE8F3",
            "linecolor": "#A2B1C6",
            "ticks": ""
           },
           "baxis": {
            "gridcolor": "#DFE8F3",
            "linecolor": "#A2B1C6",
            "ticks": ""
           },
           "bgcolor": "white",
           "caxis": {
            "gridcolor": "#DFE8F3",
            "linecolor": "#A2B1C6",
            "ticks": ""
           }
          },
          "title": {
           "x": 0.05
          },
          "xaxis": {
           "automargin": true,
           "gridcolor": "#EBF0F8",
           "linecolor": "#EBF0F8",
           "ticks": "",
           "title": {
            "standoff": 15
           },
           "zerolinecolor": "#EBF0F8",
           "zerolinewidth": 2
          },
          "yaxis": {
           "automargin": true,
           "gridcolor": "#EBF0F8",
           "linecolor": "#EBF0F8",
           "ticks": "",
           "title": {
            "standoff": 15
           },
           "zerolinecolor": "#EBF0F8",
           "zerolinewidth": 2
          }
         }
        },
        "title": {
         "text": "Pérdida durante el entrenamiento y validación (Modelo 1)"
        },
        "xaxis": {
         "title": {
          "text": "Epochs"
         }
        },
        "yaxis": {
         "title": {
          "text": "Loss"
         }
        }
       }
      }
     },
     "metadata": {},
     "output_type": "display_data"
    },
    {
     "name": "stdout",
     "output_type": "stream",
     "text": [
      "\u001b[1m16/16\u001b[0m \u001b[32m━━━━━━━━━━━━━━━━━━━━\u001b[0m\u001b[37m\u001b[0m \u001b[1m0s\u001b[0m 2ms/step - loss: 0.0023  \n",
      "Pierda en el conjunto de teste: 0.0022859361488372087\n",
      "\u001b[1m16/16\u001b[0m \u001b[32m━━━━━━━━━━━━━━━━━━━━\u001b[0m\u001b[37m\u001b[0m \u001b[1m0s\u001b[0m 6ms/step\n"
     ]
    },
    {
     "data": {
      "application/vnd.plotly.v1+json": {
       "config": {
        "plotlyServerURL": "https://plot.ly"
       },
       "data": [
        {
         "hovertemplate": "Valores Reales=%{x}<br>Predicciones=%{y}<extra></extra>",
         "legendgroup": "",
         "marker": {
          "color": "#636efa",
          "symbol": "circle"
         },
         "mode": "markers",
         "name": "",
         "orientation": "v",
         "showlegend": false,
         "type": "scatter",
         "x": [
          0.21658986175115208,
          0.1912442396313364,
          0.09216589861751151,
          0.12442396313364054,
          0.23732718894009214,
          0.1889400921658986,
          0.10138248847926268,
          0.22811059907834103,
          0.11981566820276496,
          0.052995391705069124,
          0.06682027649769584,
          0.23963133640552997,
          0.14746543778801843,
          0.3617511520737327,
          0.3087557603686636,
          0.07834101382488479,
          0.04377880184331797,
          0.020737327188940093,
          0.347926267281106,
          0.08755760368663595,
          0.2626728110599078,
          0.12442396313364054,
          0.13824884792626727,
          0.009216589861751154,
          0.023041474654377878,
          0.08986175115207373,
          0.05069124423963133,
          0.04608294930875576,
          0.004608294930875577,
          0.2626728110599078,
          0.22119815668202764,
          0.027649769585253454,
          0.2626728110599078,
          0.2073732718894009,
          0.07834101382488479,
          0.23502304147465436,
          0.1912442396313364,
          0.20506912442396313,
          0.20506912442396313,
          0.16359447004608293,
          0.03225806451612904,
          0.11059907834101382,
          0.0184331797235023,
          0.12211981566820276,
          0.048387096774193554,
          0.1129032258064516,
          0.10138248847926268,
          0.1497695852534562,
          0.08294930875576037,
          0.055299539170506916,
          0.027649769585253454,
          0.034562211981566816,
          0.08986175115207373,
          0.059907834101382486,
          0.1935483870967742,
          0.24193548387096775,
          0.04147465437788018,
          0.016129032258064516,
          0.3433179723502304,
          0.06221198156682028,
          0.22811059907834103,
          0.25115207373271886,
          0.19815668202764977,
          0.12903225806451613,
          0.1935483870967742,
          0.2995391705069124,
          0.052995391705069124,
          0.1728110599078341,
          0.2119815668202765,
          0.4608294930875576,
          0.10138248847926268,
          0.20046082949308755,
          0.19585253456221197,
          0.10138248847926268,
          0.12211981566820276,
          0.09907834101382487,
          0.016129032258064516,
          0.33410138248847926,
          0.152073732718894,
          0.41935483870967744,
          0.21658986175115208,
          0.03225806451612904,
          0.05069124423963133,
          0.07834101382488479,
          0.03225806451612904,
          0.10829493087557604,
          0.23963133640552997,
          0.3087557603686636,
          0.06221198156682028,
          0.22811059907834103,
          0.271889400921659,
          0.3294930875576037,
          0.016129032258064516,
          0.15898617511520738,
          0.0391705069124424,
          0.07834101382488479,
          0.08294930875576037,
          0.22811059907834103,
          0.1912442396313364,
          0.034562211981566816,
          0.12442396313364054,
          0.08755760368663595,
          0.023041474654377878,
          0.08986175115207373,
          0.14746543778801843,
          0.07603686635944701,
          0.06682027649769584,
          0.07834101382488479,
          0.1705069124423963,
          0.06682027649769584,
          0.0737327188940092,
          0.009216589861751154,
          0.055299539170506916,
          0.12672811059907835,
          0.18433179723502302,
          0.04608294930875576,
          0.1705069124423963,
          0.2926267281105991,
          0.19815668202764977,
          0.1705069124423963,
          0.04377880184331797,
          0.25115207373271886,
          0.1912442396313364,
          0.055299539170506916,
          0.009216589861751154,
          0.02534562211981567,
          0.15668202764976957,
          0.07834101382488479,
          0.18433179723502302,
          0.016129032258064516,
          0.24423963133640553,
          0.3617511520737327,
          0.2857142857142857,
          0.1935483870967742,
          0.05069124423963133,
          0.21658986175115208,
          0.057603686635944694,
          0.05069124423963133,
          0.23963133640552997,
          0.0391705069124424,
          0.059907834101382486,
          0.24884792626728108,
          0.08986175115207373,
          0.07834101382488479,
          0.3387096774193548,
          0.10599078341013823,
          0.03686635944700461,
          0.07834101382488479,
          0.055299539170506916,
          0.2626728110599078,
          0.21658986175115208,
          0.2119815668202765,
          0.11981566820276496,
          0.03225806451612904,
          0.18663594470046083,
          0.21889400921658986,
          0.15898617511520738,
          0.25806451612903225,
          0.25806451612903225,
          0.048387096774193554,
          0.1129032258064516,
          0.048387096774193554,
          0.16359447004608293,
          0.05069124423963133,
          0.10138248847926268,
          0.07834101382488479,
          0.08294930875576037,
          0.2857142857142857,
          0.2880184331797235,
          0.21658986175115208,
          0.0967741935483871,
          0.15898617511520738,
          0.04608294930875576,
          0.08755760368663595,
          0.1336405529953917,
          0.03686635944700461,
          0.1912442396313364,
          0.24423963133640553,
          0.23963133640552997,
          0.1543778801843318,
          0.04377880184331797,
          0.0737327188940092,
          0.20276497695852533,
          0.07834101382488479,
          0.057603686635944694,
          0.0184331797235023,
          0.08294930875576037,
          0.23732718894009214,
          0.4009216589861751,
          0.14516129032258063,
          0.055299539170506916,
          0.15898617511520738,
          0.21658986175115208,
          0.23963133640552997,
          0.10138248847926268,
          0.057603686635944694,
          0.15668202764976957,
          0.09447004608294929,
          0.2534562211981567,
          0.20046082949308755,
          0.06682027649769584,
          0.0737327188940092,
          0.0737327188940092,
          0.055299539170506916,
          0.03686635944700461,
          0.25806451612903225,
          0.04608294930875576,
          0.3456221198156682,
          0.1728110599078341,
          0.2626728110599078,
          0.18202764976958524,
          0.02534562211981567,
          0.24193548387096775,
          0.016129032258064516,
          0.1313364055299539,
          0.24193548387096775,
          0.04608294930875576,
          0.08755760368663595,
          0.3225806451612903,
          0.2834101382488479,
          0.18202764976958524,
          0.07834101382488479,
          0.22811059907834103,
          0.2235023041474654,
          0.07834101382488479,
          0.2119815668202765,
          0.1935483870967742,
          0.3064516129032258,
          0.43317972350230416,
          0.055299539170506916,
          0.2258064516129032,
          0.35023041474654376,
          0.3087557603686636,
          0.1705069124423963,
          0.152073732718894,
          0.1129032258064516,
          0.1889400921658986,
          0.3225806451612903,
          0.04608294930875576,
          0.17972350230414746,
          0.04377880184331797,
          0.20276497695852533,
          0.24193548387096775,
          0.05069124423963133,
          0.1129032258064516,
          -0.03686635944700461,
          0.12211981566820276,
          0.26036866359447003,
          0.15898617511520738,
          0.057603686635944694,
          0.11981566820276496,
          0.07142857142857142,
          0.04377880184331797,
          0.14746543778801843,
          0.04608294930875576,
          0.1912442396313364,
          0.19815668202764977,
          0.05069124423963133,
          0.059907834101382486,
          0.4009216589861751,
          0.05069124423963133,
          0.3387096774193548,
          0.059907834101382486,
          0.25115207373271886,
          0.24423963133640553,
          0.023041474654377878,
          0.06682027649769584,
          0.03686635944700461,
          0.1912442396313364,
          0.1336405529953917,
          0.03225806451612904,
          0.06221198156682028,
          0.19815668202764977,
          0.3548387096774194,
          0.15668202764976957,
          0.08294930875576037,
          0.06451612903225806,
          0.06682027649769584,
          0.06682027649769584,
          0.06451612903225806,
          0.14516129032258063,
          0.1935483870967742,
          0.10138248847926268,
          0.24423963133640553,
          0.22119815668202764,
          0.17511520737327188,
          0.22119815668202764,
          0.06912442396313365,
          0.23732718894009214,
          0.23963133640552997,
          0.07834101382488479,
          0.2235023041474654,
          0.027649769585253454,
          0.16589861751152074,
          0.18433179723502302,
          0.01382488479262673,
          0.20276497695852533,
          0.16589861751152074,
          0.07834101382488479,
          0.04377880184331797,
          0.11059907834101382,
          0.1705069124423963,
          0.2857142857142857,
          0.09216589861751151,
          0.07603686635944701,
          0.25115207373271886,
          0.059907834101382486,
          0.17972350230414746,
          0.08294930875576037,
          0.03225806451612904,
          0.25115207373271886,
          0.06682027649769584,
          0.055299539170506916,
          0.08294930875576037,
          0.04377880184331797,
          0.04147465437788018,
          0.09447004608294929,
          0.21889400921658986,
          0.009216589861751154,
          0.18433179723502302,
          0.21658986175115208,
          0.1912442396313364,
          0.07142857142857142,
          0.06451612903225806,
          0.03686635944700461,
          0.04608294930875576,
          0.17741935483870966,
          0.04377880184331797,
          0.1889400921658986,
          0.18663594470046083,
          0.20046082949308755,
          0.2096774193548387,
          0.10138248847926268,
          0.04608294930875576,
          0.5046082949308757,
          0.11751152073732718,
          0.057603686635944694,
          0.1543778801843318,
          0.016129032258064516,
          0.08294930875576037,
          0.11059907834101382,
          0.2119815668202765,
          0.2995391705069124,
          0.1705069124423963,
          0.10138248847926268,
          0.16359447004608293,
          0.07603686635944701,
          0.07142857142857142,
          0.41244239631336405,
          0.08986175115207373,
          0.08755760368663595,
          0.11751152073732718,
          0.21658986175115208,
          0.055299539170506916,
          0.06682027649769584,
          0.07834101382488479,
          0.3064516129032258,
          0.02534562211981567,
          0.12442396313364054,
          0.1336405529953917,
          0.23732718894009214,
          0.04377880184331797,
          0.02534562211981567,
          0.07142857142857142,
          0.052995391705069124,
          0.07603686635944701,
          0.1705069124423963,
          0.023041474654377878,
          0.0737327188940092,
          0.029953917050691246,
          0.17511520737327188,
          0.27419354838709675,
          0.048387096774193554,
          0.07834101382488479,
          0.3433179723502304,
          0.15898617511520738,
          0.4170506912442396,
          0.08986175115207373,
          0.24423963133640553,
          0.3018433179723502,
          0.006912442396313362,
          0.20046082949308755,
          0.27649769585253453,
          0.27649769585253453,
          0.1336405529953917,
          0.1152073732718894,
          0.08294930875576037,
          0.23963133640552997,
          0.04147465437788018,
          0.32027649769585254,
          0.11981566820276496,
          0.18202764976958524,
          0.16129032258064516,
          0.16359447004608293,
          0.02534562211981567,
          0.2073732718894009,
          0.07142857142857142,
          0.17741935483870966,
          0.1705069124423963,
          0.16359447004608293,
          0.07142857142857142,
          0.034562211981566816,
          0.07603686635944701,
          0.2142857142857143,
          0.1705069124423963,
          0.12442396313364054,
          0.055299539170506916,
          0.0391705069124424,
          0.21658986175115208,
          0.048387096774193554,
          0.07834101382488479,
          0.07834101382488479,
          0.09216589861751151,
          0.06912442396313365,
          0.26036866359447003,
          0.055299539170506916,
          0.07834101382488479,
          0.04377880184331797,
          0.22811059907834103,
          0.10829493087557604,
          0.18202764976958524,
          0.0391705069124424,
          0.08294930875576037,
          0.25806451612903225,
          0.016129032258064516,
          0.06682027649769584,
          0.06682027649769584,
          0.07142857142857142,
          0.1359447004608295,
          0.07142857142857142,
          0.12442396313364054,
          0.08986175115207373,
          0.4400921658986175,
          0.04377880184331797,
          0.10829493087557604,
          0.22811059907834103,
          0.2857142857142857,
          0.2258064516129032,
          0.1705069124423963,
          0.07834101382488479,
          0.1728110599078341,
          0.059907834101382486,
          0.06682027649769584,
          0.14285714285714285,
          0.10368663594470046,
          0.14285714285714285,
          0.055299539170506916,
          0.059907834101382486,
          0.055299539170506916,
          0.1935483870967742,
          0.1935483870967742,
          0.1935483870967742,
          0.3686635944700461,
          0.08064516129032259,
          0.06682027649769584,
          0.1705069124423963,
          0.05069124423963133,
          0.19585253456221197,
          0.22119815668202764,
          0.12442396313364054,
          0.3410138248847926,
          0.1152073732718894,
          0.19815668202764977,
          0.1129032258064516,
          0.04377880184331797,
          0.18663594470046083,
          0.12442396313364054,
          0.1497695852534562,
          0.1935483870967742,
          0.10138248847926268,
          0.01382488479262673,
          0.25115207373271886,
          0.0391705069124424,
          0.22811059907834103,
          0.19815668202764977,
          0.07834101382488479,
          0.1129032258064516,
          0.271889400921659,
          0.152073732718894,
          0.06221198156682028,
          0.0391705069124424,
          0.08986175115207373,
          0.0737327188940092,
          0.2626728110599078,
          0.11059907834101382,
          0.14746543778801843,
          0.0391705069124424,
          0.3456221198156682,
          0.1543778801843318,
          0.10138248847926268,
          0.12442396313364054,
          0.25115207373271886,
          0.1336405529953917,
          0.2995391705069124,
          0.41244239631336405,
          0.04147465437788018,
          0.02534562211981567,
          0.07834101382488479,
          0.10138248847926268,
          0.16129032258064516
         ],
         "xaxis": "x",
         "y": [
          0.20897826552391052,
          0.20121586322784424,
          0.20464780926704407,
          0.20085398852825165,
          0.21339339017868042,
          0.17136424779891968,
          0.07642652839422226,
          0.22025077044963837,
          0.21403495967388153,
          0.0638469010591507,
          0.06515152752399445,
          0.22933901846408844,
          0.2067420333623886,
          0.22024810314178467,
          0.21248093247413635,
          0.067206971347332,
          0.06989866495132446,
          0.0684710144996643,
          0.24096447229385376,
          0.06940876692533493,
          0.18429969251155853,
          0.13919252157211304,
          0.15593096613883972,
          0.035915642976760864,
          0.044252850115299225,
          0.0717909038066864,
          0.06140798702836037,
          0.0596824511885643,
          0.042946621775627136,
          0.18429969251155853,
          0.19786536693572998,
          0.060791388154029846,
          0.20185290277004242,
          0.18187670409679413,
          0.07466304302215576,
          0.20079053938388824,
          0.07257965952157974,
          0.16546976566314697,
          0.22351014614105225,
          0.1600704789161682,
          0.06126413121819496,
          0.0711301788687706,
          0.03756370022892952,
          0.16796723008155823,
          0.06307438760995865,
          0.14826564490795135,
          0.07370812445878983,
          0.18573220074176788,
          0.06569890677928925,
          0.07271530479192734,
          0.045398540794849396,
          0.06392128765583038,
          0.0666428655385971,
          0.06689368933439255,
          0.2191784679889679,
          0.18311908841133118,
          0.06863163411617279,
          0.06249900907278061,
          0.33345842361450195,
          0.06802073121070862,
          0.20661309361457825,
          0.21420416235923767,
          0.21877960860729218,
          0.1693662405014038,
          0.16558505594730377,
          0.20298433303833008,
          0.09572358429431915,
          0.18560338020324707,
          0.17447605729103088,
          0.33825671672821045,
          0.1365450620651245,
          0.19777819514274597,
          0.16948005557060242,
          0.1365450620651245,
          0.21740686893463135,
          0.11174023151397705,
          0.05245398357510567,
          0.26110976934432983,
          0.17341619729995728,
          0.3444381356239319,
          0.20489473640918732,
          0.06918876618146896,
          0.07098518311977386,
          0.07043158262968063,
          0.07118882238864899,
          0.1368153840303421,
          0.14898306131362915,
          0.234566792845726,
          0.0662003606557846,
          0.19462884962558746,
          0.2371382862329483,
          0.2533416748046875,
          0.06519991904497147,
          0.18730616569519043,
          0.05129152163863182,
          0.07062949985265732,
          0.15753544867038727,
          0.21663901209831238,
          0.19458164274692535,
          0.06618349999189377,
          0.13919252157211304,
          0.06718305498361588,
          0.044252850115299225,
          0.0691075250506401,
          0.07509385794401169,
          0.07014955580234528,
          0.067125104367733,
          0.07043158262968063,
          0.2100067138671875,
          0.067125104367733,
          0.07255072146654129,
          0.05660006403923035,
          0.07263879477977753,
          0.13624432682991028,
          0.23795168101787567,
          0.06953407824039459,
          0.2274065911769867,
          0.20531296730041504,
          0.205325648188591,
          0.18567389249801636,
          0.06968265026807785,
          0.24166488647460938,
          0.20121586322784424,
          0.07271530479192734,
          0.06077250838279724,
          0.07103847712278366,
          0.15295475721359253,
          0.06872415542602539,
          0.2093774527311325,
          0.054355278611183167,
          0.22661933302879333,
          0.22024810314178467,
          0.22613246738910675,
          0.19653654098510742,
          0.05817563831806183,
          0.18321791291236877,
          0.07494334131479263,
          0.06648958474397659,
          0.20425176620483398,
          0.05129152536392212,
          0.07510845363140106,
          0.22713378071784973,
          0.07261460274457932,
          0.06916123628616333,
          0.2063942700624466,
          0.220732644200325,
          0.06183704361319542,
          0.07266625761985779,
          0.06727524846792221,
          0.215262308716774,
          0.23764526844024658,
          0.22280383110046387,
          0.06992503255605698,
          0.06983836740255356,
          0.20993785560131073,
          0.23762094974517822,
          0.1657516360282898,
          0.2134508192539215,
          0.22286801040172577,
          0.07281304895877838,
          0.14826564490795135,
          0.06307438760995865,
          0.15961046516895294,
          0.06703082472085953,
          0.0714549794793129,
          0.06812408566474915,
          0.07695899903774261,
          0.21674752235412598,
          0.22235935926437378,
          0.2095925360918045,
          0.07012837380170822,
          0.07059269398450851,
          0.06172328442335129,
          0.1828947365283966,
          0.19723646342754364,
          0.06403066962957382,
          0.1760755181312561,
          0.10764755308628082,
          0.23226329684257507,
          0.18218009173870087,
          0.07134219259023666,
          0.05648168921470642,
          0.19443677365779877,
          0.06619372963905334,
          0.06785488873720169,
          0.04113829880952835,
          0.09236383438110352,
          0.21091260015964508,
          0.24690242111682892,
          0.18466508388519287,
          0.06670054793357849,
          0.08243009448051453,
          0.23764526844024658,
          0.19117888808250427,
          0.15715906023979187,
          0.06949283927679062,
          0.21385198831558228,
          0.07092543691396713,
          0.23077116906642914,
          0.19908887147903442,
          0.06640443205833435,
          0.07054807245731354,
          0.07846985757350922,
          0.05732601508498192,
          0.06640081107616425,
          0.22286801040172577,
          0.06703498214483261,
          0.22240419685840607,
          0.1959742307662964,
          0.23802068829536438,
          0.14729011058807373,
          0.06350012868642807,
          0.207783043384552,
          0.06519991904497147,
          0.2006475329399109,
          0.2397904098033905,
          0.0730789378285408,
          0.07605607807636261,
          0.2792564630508423,
          0.21526701748371124,
          0.19756124913692474,
          0.060267284512519836,
          0.2058381289243698,
          0.20177742838859558,
          0.0699026957154274,
          0.17447605729103088,
          0.24160157144069672,
          0.19969558715820312,
          0.22937293350696564,
          0.06674595177173615,
          0.1982991099357605,
          0.2736285328865051,
          0.21237780153751373,
          0.20488594472408295,
          0.19296090304851532,
          0.14258939027786255,
          0.07232107222080231,
          0.21751359105110168,
          0.0660010501742363,
          0.18519103527069092,
          0.0717601552605629,
          0.19803620874881744,
          0.15784433484077454,
          0.07144135236740112,
          0.07000283896923065,
          0.0648748129606247,
          0.16796723008155823,
          0.18081089854240417,
          0.1919112503528595,
          0.06909779459238052,
          0.06992503255605698,
          0.06638535112142563,
          0.0717601552605629,
          0.14327675104141235,
          0.05758385360240936,
          0.19742955267429352,
          0.1628509759902954,
          0.07144135236740112,
          0.07546975463628769,
          0.20887599885463715,
          0.0718468576669693,
          0.2847127914428711,
          0.06689368933439255,
          0.23864960670471191,
          0.1643051654100418,
          0.04068247601389885,
          0.07133447378873825,
          0.06665583699941635,
          0.19659942388534546,
          0.16486719250679016,
          0.06983836740255356,
          0.0685797706246376,
          0.25385668873786926,
          0.2675621509552002,
          0.1988597810268402,
          0.06627774238586426,
          0.07377417385578156,
          0.06783848255872726,
          0.07283566892147064,
          0.07023870199918747,
          0.1270112246274948,
          0.20872989296913147,
          0.15715906023979187,
          0.1959686130285263,
          0.22687748074531555,
          0.18622130155563354,
          0.2206171154975891,
          0.06330672651529312,
          0.1890139877796173,
          0.2507452964782715,
          0.06807073205709457,
          0.20540449023246765,
          0.060791388154029846,
          0.1951124519109726,
          0.17272654175758362,
          0.05444744974374771,
          0.24560903012752533,
          0.1951124519109726,
          0.0712614506483078,
          0.06968265026807785,
          0.17861562967300415,
          0.14726105332374573,
          0.15399159491062164,
          0.07448436319828033,
          0.06363341957330704,
          0.24166488647460938,
          0.07842706143856049,
          0.19775716960430145,
          0.06388523429632187,
          0.06427828967571259,
          0.22769364714622498,
          0.06962689757347107,
          0.06727524846792221,
          0.06627774238586426,
          0.06761641800403595,
          0.07261304557323456,
          0.0766012892127037,
          0.21010540425777435,
          0.03591563552618027,
          0.21160481870174408,
          0.22969603538513184,
          0.22314472496509552,
          0.07100123167037964,
          0.07393837720155716,
          0.06703019142150879,
          0.06893866509199142,
          0.22938933968544006,
          0.07170143723487854,
          0.20121654868125916,
          0.22525927424430847,
          0.15947750210762024,
          0.20813515782356262,
          0.15460383892059326,
          0.06881951540708542,
          0.2383061945438385,
          0.14423857629299164,
          0.06909779459238052,
          0.2019309401512146,
          0.04008374363183975,
          0.06689167767763138,
          0.06934983283281326,
          0.17447605729103088,
          0.23983922600746155,
          0.14881348609924316,
          0.26766180992126465,
          0.19374902546405792,
          0.07060061395168304,
          0.06638535112142563,
          0.23840127885341644,
          0.06073202192783356,
          0.0716291144490242,
          0.10328149795532227,
          0.1812041997909546,
          0.06681635230779648,
          0.0716213807463646,
          0.0708133801817894,
          0.2146395891904831,
          0.04566984251141548,
          0.13919252157211304,
          0.1504765748977661,
          0.20164614915847778,
          0.061612941324710846,
          0.06032426655292511,
          0.06638535112142563,
          0.07153356820344925,
          0.06363341957330704,
          0.14881348609924316,
          0.04068247601389885,
          0.07108830660581589,
          0.07167411595582962,
          0.20055392384529114,
          0.20392073690891266,
          0.05725099518895149,
          0.055557981133461,
          0.26055705547332764,
          0.157064750790596,
          0.36365461349487305,
          0.06672920286655426,
          0.20343740284442902,
          0.2277362197637558,
          0.042946621775627136,
          0.20356324315071106,
          0.20604753494262695,
          0.29088330268859863,
          0.19723646342754364,
          0.13303068280220032,
          0.07279055565595627,
          0.1981530785560608,
          0.06677758693695068,
          0.17717880010604858,
          0.06992503255605698,
          0.1728287637233734,
          0.23950088024139404,
          0.07122793048620224,
          0.06350012868642807,
          0.1811748743057251,
          0.06731576472520828,
          0.18067096173763275,
          0.17373508214950562,
          0.15961046516895294,
          0.06117814779281616,
          0.060692355036735535,
          0.07014955580234528,
          0.20892353355884552,
          0.16189789772033691,
          0.07625119388103485,
          0.0667005404829979,
          0.06291048228740692,
          0.1904134601354599,
          0.06628730893135071,
          0.06862340122461319,
          0.06862340122461319,
          0.06799615919589996,
          0.06330672651529312,
          0.22080692648887634,
          0.06575051695108414,
          0.07172323018312454,
          0.06551579385995865,
          0.21663901209831238,
          0.08988691866397858,
          0.2013939768075943,
          0.061671361327171326,
          0.07077690958976746,
          0.20973315834999084,
          0.06519991904497147,
          0.07069603353738785,
          0.07128431648015976,
          0.07486409693956375,
          0.07094426453113556,
          0.06993661820888519,
          0.17328843474388123,
          0.07534924894571304,
          0.31916821002960205,
          0.07134219259023666,
          0.1368153840303421,
          0.21663901209831238,
          0.15399159491062164,
          0.20774120092391968,
          0.1801176518201828,
          0.06743890047073364,
          0.18289411067962646,
          0.06197555735707283,
          0.06807484477758408,
          0.1604902595281601,
          0.07479631900787354,
          0.13480214774608612,
          0.07111622393131256,
          0.06974177062511444,
          0.06508136540651321,
          0.20144136250019073,
          0.24160157144069672,
          0.18015018105506897,
          0.21292467415332794,
          0.0714123472571373,
          0.06515152752399445,
          0.15769924223423004,
          0.06078711897134781,
          0.2086247056722641,
          0.21717619895935059,
          0.07037454843521118,
          0.2428198903799057,
          0.1053704023361206,
          0.23186056315898895,
          0.07434551417827606,
          0.06974944472312927,
          0.2003631740808487,
          0.22000940144062042,
          0.15406250953674316,
          0.22503845393657684,
          0.07071201503276825,
          0.05444744974374771,
          0.2073056697845459,
          0.07025154680013657,
          0.21663901209831238,
          0.15728451311588287,
          0.07172323018312454,
          0.07162296772003174,
          0.1872062087059021,
          0.17341619729995728,
          0.0662003681063652,
          0.055918965488672256,
          0.06986036151647568,
          0.07108830660581589,
          0.2428157925605774,
          0.06934983283281326,
          0.07474353909492493,
          0.05129152536392212,
          0.21133001148700714,
          0.2019309401512146,
          0.1662042737007141,
          0.07266820967197418,
          0.2637428045272827,
          0.2037038803100586,
          0.23983922600746155,
          0.3491961359977722,
          0.05821094661951065,
          0.06350012868642807,
          0.07069770991802216,
          0.07370812445878983,
          0.16732826828956604
         ],
         "yaxis": "y"
        }
       ],
       "layout": {
        "legend": {
         "tracegroupgap": 0
        },
        "shapes": [
         {
          "line": {
           "color": "red",
           "dash": "dot"
          },
          "type": "line",
          "x0": -0.03686635944700461,
          "x1": 0.5046082949308757,
          "y0": -0.03686635944700461,
          "y1": 0.5046082949308757
         }
        ],
        "template": {
         "data": {
          "bar": [
           {
            "error_x": {
             "color": "#2a3f5f"
            },
            "error_y": {
             "color": "#2a3f5f"
            },
            "marker": {
             "line": {
              "color": "white",
              "width": 0.5
             },
             "pattern": {
              "fillmode": "overlay",
              "size": 10,
              "solidity": 0.2
             }
            },
            "type": "bar"
           }
          ],
          "barpolar": [
           {
            "marker": {
             "line": {
              "color": "white",
              "width": 0.5
             },
             "pattern": {
              "fillmode": "overlay",
              "size": 10,
              "solidity": 0.2
             }
            },
            "type": "barpolar"
           }
          ],
          "carpet": [
           {
            "aaxis": {
             "endlinecolor": "#2a3f5f",
             "gridcolor": "#C8D4E3",
             "linecolor": "#C8D4E3",
             "minorgridcolor": "#C8D4E3",
             "startlinecolor": "#2a3f5f"
            },
            "baxis": {
             "endlinecolor": "#2a3f5f",
             "gridcolor": "#C8D4E3",
             "linecolor": "#C8D4E3",
             "minorgridcolor": "#C8D4E3",
             "startlinecolor": "#2a3f5f"
            },
            "type": "carpet"
           }
          ],
          "choropleth": [
           {
            "colorbar": {
             "outlinewidth": 0,
             "ticks": ""
            },
            "type": "choropleth"
           }
          ],
          "contour": [
           {
            "colorbar": {
             "outlinewidth": 0,
             "ticks": ""
            },
            "colorscale": [
             [
              0,
              "#0d0887"
             ],
             [
              0.1111111111111111,
              "#46039f"
             ],
             [
              0.2222222222222222,
              "#7201a8"
             ],
             [
              0.3333333333333333,
              "#9c179e"
             ],
             [
              0.4444444444444444,
              "#bd3786"
             ],
             [
              0.5555555555555556,
              "#d8576b"
             ],
             [
              0.6666666666666666,
              "#ed7953"
             ],
             [
              0.7777777777777778,
              "#fb9f3a"
             ],
             [
              0.8888888888888888,
              "#fdca26"
             ],
             [
              1,
              "#f0f921"
             ]
            ],
            "type": "contour"
           }
          ],
          "contourcarpet": [
           {
            "colorbar": {
             "outlinewidth": 0,
             "ticks": ""
            },
            "type": "contourcarpet"
           }
          ],
          "heatmap": [
           {
            "colorbar": {
             "outlinewidth": 0,
             "ticks": ""
            },
            "colorscale": [
             [
              0,
              "#0d0887"
             ],
             [
              0.1111111111111111,
              "#46039f"
             ],
             [
              0.2222222222222222,
              "#7201a8"
             ],
             [
              0.3333333333333333,
              "#9c179e"
             ],
             [
              0.4444444444444444,
              "#bd3786"
             ],
             [
              0.5555555555555556,
              "#d8576b"
             ],
             [
              0.6666666666666666,
              "#ed7953"
             ],
             [
              0.7777777777777778,
              "#fb9f3a"
             ],
             [
              0.8888888888888888,
              "#fdca26"
             ],
             [
              1,
              "#f0f921"
             ]
            ],
            "type": "heatmap"
           }
          ],
          "heatmapgl": [
           {
            "colorbar": {
             "outlinewidth": 0,
             "ticks": ""
            },
            "colorscale": [
             [
              0,
              "#0d0887"
             ],
             [
              0.1111111111111111,
              "#46039f"
             ],
             [
              0.2222222222222222,
              "#7201a8"
             ],
             [
              0.3333333333333333,
              "#9c179e"
             ],
             [
              0.4444444444444444,
              "#bd3786"
             ],
             [
              0.5555555555555556,
              "#d8576b"
             ],
             [
              0.6666666666666666,
              "#ed7953"
             ],
             [
              0.7777777777777778,
              "#fb9f3a"
             ],
             [
              0.8888888888888888,
              "#fdca26"
             ],
             [
              1,
              "#f0f921"
             ]
            ],
            "type": "heatmapgl"
           }
          ],
          "histogram": [
           {
            "marker": {
             "pattern": {
              "fillmode": "overlay",
              "size": 10,
              "solidity": 0.2
             }
            },
            "type": "histogram"
           }
          ],
          "histogram2d": [
           {
            "colorbar": {
             "outlinewidth": 0,
             "ticks": ""
            },
            "colorscale": [
             [
              0,
              "#0d0887"
             ],
             [
              0.1111111111111111,
              "#46039f"
             ],
             [
              0.2222222222222222,
              "#7201a8"
             ],
             [
              0.3333333333333333,
              "#9c179e"
             ],
             [
              0.4444444444444444,
              "#bd3786"
             ],
             [
              0.5555555555555556,
              "#d8576b"
             ],
             [
              0.6666666666666666,
              "#ed7953"
             ],
             [
              0.7777777777777778,
              "#fb9f3a"
             ],
             [
              0.8888888888888888,
              "#fdca26"
             ],
             [
              1,
              "#f0f921"
             ]
            ],
            "type": "histogram2d"
           }
          ],
          "histogram2dcontour": [
           {
            "colorbar": {
             "outlinewidth": 0,
             "ticks": ""
            },
            "colorscale": [
             [
              0,
              "#0d0887"
             ],
             [
              0.1111111111111111,
              "#46039f"
             ],
             [
              0.2222222222222222,
              "#7201a8"
             ],
             [
              0.3333333333333333,
              "#9c179e"
             ],
             [
              0.4444444444444444,
              "#bd3786"
             ],
             [
              0.5555555555555556,
              "#d8576b"
             ],
             [
              0.6666666666666666,
              "#ed7953"
             ],
             [
              0.7777777777777778,
              "#fb9f3a"
             ],
             [
              0.8888888888888888,
              "#fdca26"
             ],
             [
              1,
              "#f0f921"
             ]
            ],
            "type": "histogram2dcontour"
           }
          ],
          "mesh3d": [
           {
            "colorbar": {
             "outlinewidth": 0,
             "ticks": ""
            },
            "type": "mesh3d"
           }
          ],
          "parcoords": [
           {
            "line": {
             "colorbar": {
              "outlinewidth": 0,
              "ticks": ""
             }
            },
            "type": "parcoords"
           }
          ],
          "pie": [
           {
            "automargin": true,
            "type": "pie"
           }
          ],
          "scatter": [
           {
            "fillpattern": {
             "fillmode": "overlay",
             "size": 10,
             "solidity": 0.2
            },
            "type": "scatter"
           }
          ],
          "scatter3d": [
           {
            "line": {
             "colorbar": {
              "outlinewidth": 0,
              "ticks": ""
             }
            },
            "marker": {
             "colorbar": {
              "outlinewidth": 0,
              "ticks": ""
             }
            },
            "type": "scatter3d"
           }
          ],
          "scattercarpet": [
           {
            "marker": {
             "colorbar": {
              "outlinewidth": 0,
              "ticks": ""
             }
            },
            "type": "scattercarpet"
           }
          ],
          "scattergeo": [
           {
            "marker": {
             "colorbar": {
              "outlinewidth": 0,
              "ticks": ""
             }
            },
            "type": "scattergeo"
           }
          ],
          "scattergl": [
           {
            "marker": {
             "colorbar": {
              "outlinewidth": 0,
              "ticks": ""
             }
            },
            "type": "scattergl"
           }
          ],
          "scattermapbox": [
           {
            "marker": {
             "colorbar": {
              "outlinewidth": 0,
              "ticks": ""
             }
            },
            "type": "scattermapbox"
           }
          ],
          "scatterpolar": [
           {
            "marker": {
             "colorbar": {
              "outlinewidth": 0,
              "ticks": ""
             }
            },
            "type": "scatterpolar"
           }
          ],
          "scatterpolargl": [
           {
            "marker": {
             "colorbar": {
              "outlinewidth": 0,
              "ticks": ""
             }
            },
            "type": "scatterpolargl"
           }
          ],
          "scatterternary": [
           {
            "marker": {
             "colorbar": {
              "outlinewidth": 0,
              "ticks": ""
             }
            },
            "type": "scatterternary"
           }
          ],
          "surface": [
           {
            "colorbar": {
             "outlinewidth": 0,
             "ticks": ""
            },
            "colorscale": [
             [
              0,
              "#0d0887"
             ],
             [
              0.1111111111111111,
              "#46039f"
             ],
             [
              0.2222222222222222,
              "#7201a8"
             ],
             [
              0.3333333333333333,
              "#9c179e"
             ],
             [
              0.4444444444444444,
              "#bd3786"
             ],
             [
              0.5555555555555556,
              "#d8576b"
             ],
             [
              0.6666666666666666,
              "#ed7953"
             ],
             [
              0.7777777777777778,
              "#fb9f3a"
             ],
             [
              0.8888888888888888,
              "#fdca26"
             ],
             [
              1,
              "#f0f921"
             ]
            ],
            "type": "surface"
           }
          ],
          "table": [
           {
            "cells": {
             "fill": {
              "color": "#EBF0F8"
             },
             "line": {
              "color": "white"
             }
            },
            "header": {
             "fill": {
              "color": "#C8D4E3"
             },
             "line": {
              "color": "white"
             }
            },
            "type": "table"
           }
          ]
         },
         "layout": {
          "annotationdefaults": {
           "arrowcolor": "#2a3f5f",
           "arrowhead": 0,
           "arrowwidth": 1
          },
          "autotypenumbers": "strict",
          "coloraxis": {
           "colorbar": {
            "outlinewidth": 0,
            "ticks": ""
           }
          },
          "colorscale": {
           "diverging": [
            [
             0,
             "#8e0152"
            ],
            [
             0.1,
             "#c51b7d"
            ],
            [
             0.2,
             "#de77ae"
            ],
            [
             0.3,
             "#f1b6da"
            ],
            [
             0.4,
             "#fde0ef"
            ],
            [
             0.5,
             "#f7f7f7"
            ],
            [
             0.6,
             "#e6f5d0"
            ],
            [
             0.7,
             "#b8e186"
            ],
            [
             0.8,
             "#7fbc41"
            ],
            [
             0.9,
             "#4d9221"
            ],
            [
             1,
             "#276419"
            ]
           ],
           "sequential": [
            [
             0,
             "#0d0887"
            ],
            [
             0.1111111111111111,
             "#46039f"
            ],
            [
             0.2222222222222222,
             "#7201a8"
            ],
            [
             0.3333333333333333,
             "#9c179e"
            ],
            [
             0.4444444444444444,
             "#bd3786"
            ],
            [
             0.5555555555555556,
             "#d8576b"
            ],
            [
             0.6666666666666666,
             "#ed7953"
            ],
            [
             0.7777777777777778,
             "#fb9f3a"
            ],
            [
             0.8888888888888888,
             "#fdca26"
            ],
            [
             1,
             "#f0f921"
            ]
           ],
           "sequentialminus": [
            [
             0,
             "#0d0887"
            ],
            [
             0.1111111111111111,
             "#46039f"
            ],
            [
             0.2222222222222222,
             "#7201a8"
            ],
            [
             0.3333333333333333,
             "#9c179e"
            ],
            [
             0.4444444444444444,
             "#bd3786"
            ],
            [
             0.5555555555555556,
             "#d8576b"
            ],
            [
             0.6666666666666666,
             "#ed7953"
            ],
            [
             0.7777777777777778,
             "#fb9f3a"
            ],
            [
             0.8888888888888888,
             "#fdca26"
            ],
            [
             1,
             "#f0f921"
            ]
           ]
          },
          "colorway": [
           "#636efa",
           "#EF553B",
           "#00cc96",
           "#ab63fa",
           "#FFA15A",
           "#19d3f3",
           "#FF6692",
           "#B6E880",
           "#FF97FF",
           "#FECB52"
          ],
          "font": {
           "color": "#2a3f5f"
          },
          "geo": {
           "bgcolor": "white",
           "lakecolor": "white",
           "landcolor": "white",
           "showlakes": true,
           "showland": true,
           "subunitcolor": "#C8D4E3"
          },
          "hoverlabel": {
           "align": "left"
          },
          "hovermode": "closest",
          "mapbox": {
           "style": "light"
          },
          "paper_bgcolor": "white",
          "plot_bgcolor": "white",
          "polar": {
           "angularaxis": {
            "gridcolor": "#EBF0F8",
            "linecolor": "#EBF0F8",
            "ticks": ""
           },
           "bgcolor": "white",
           "radialaxis": {
            "gridcolor": "#EBF0F8",
            "linecolor": "#EBF0F8",
            "ticks": ""
           }
          },
          "scene": {
           "xaxis": {
            "backgroundcolor": "white",
            "gridcolor": "#DFE8F3",
            "gridwidth": 2,
            "linecolor": "#EBF0F8",
            "showbackground": true,
            "ticks": "",
            "zerolinecolor": "#EBF0F8"
           },
           "yaxis": {
            "backgroundcolor": "white",
            "gridcolor": "#DFE8F3",
            "gridwidth": 2,
            "linecolor": "#EBF0F8",
            "showbackground": true,
            "ticks": "",
            "zerolinecolor": "#EBF0F8"
           },
           "zaxis": {
            "backgroundcolor": "white",
            "gridcolor": "#DFE8F3",
            "gridwidth": 2,
            "linecolor": "#EBF0F8",
            "showbackground": true,
            "ticks": "",
            "zerolinecolor": "#EBF0F8"
           }
          },
          "shapedefaults": {
           "line": {
            "color": "#2a3f5f"
           }
          },
          "ternary": {
           "aaxis": {
            "gridcolor": "#DFE8F3",
            "linecolor": "#A2B1C6",
            "ticks": ""
           },
           "baxis": {
            "gridcolor": "#DFE8F3",
            "linecolor": "#A2B1C6",
            "ticks": ""
           },
           "bgcolor": "white",
           "caxis": {
            "gridcolor": "#DFE8F3",
            "linecolor": "#A2B1C6",
            "ticks": ""
           }
          },
          "title": {
           "x": 0.05
          },
          "xaxis": {
           "automargin": true,
           "gridcolor": "#EBF0F8",
           "linecolor": "#EBF0F8",
           "ticks": "",
           "title": {
            "standoff": 15
           },
           "zerolinecolor": "#EBF0F8",
           "zerolinewidth": 2
          },
          "yaxis": {
           "automargin": true,
           "gridcolor": "#EBF0F8",
           "linecolor": "#EBF0F8",
           "ticks": "",
           "title": {
            "standoff": 15
           },
           "zerolinecolor": "#EBF0F8",
           "zerolinewidth": 2
          }
         }
        },
        "title": {
         "text": "Valores Reales vs Predicciones"
        },
        "xaxis": {
         "anchor": "y",
         "domain": [
          0,
          1
         ],
         "title": {
          "text": "Valores Reales"
         }
        },
        "yaxis": {
         "anchor": "x",
         "domain": [
          0,
          1
         ],
         "title": {
          "text": "Predicciones"
         }
        }
       }
      }
     },
     "metadata": {},
     "output_type": "display_data"
    }
   ],
   "source": [
    "import plotly.express as px\n",
    "import plotly.graph_objects as go\n",
    "\n",
    "model = Sequential([\n",
    "    Input(shape=(X_train.shape[1],)),  # Camada de entrada\n",
    "    Dense(units=64, activation='relu'),\n",
    "    Dropout(0.2),  # Regularizar para evitar overfitting\n",
    "    Dense(units=32, activation='relu'),\n",
    "    Dropout(0.2),\n",
    "    Dense(units=16, activation='relu'),\n",
    "    Dropout(0.2),\n",
    "    Dense(units=8, activation='relu'),\n",
    "    Dense(units=1)  # Camada de salida\n",
    "])\n",
    "\n",
    "model.compile(optimizer=Adam(learning_rate=0.001), loss='mean_squared_error')\n",
    "\n",
    "history = model.fit(\n",
    "    X_train, y_train,\n",
    "    validation_data=(X_test, y_test),\n",
    "    epochs=100,\n",
    "    batch_size=32,\n",
    "    verbose=1\n",
    ")\n",
    "\n",
    "fig = go.Figure()\n",
    "fig.add_trace(go.Scatter(y=history.history['loss'], mode='lines', name='Train Loss', line=dict(color='blue')))\n",
    "fig.add_trace(go.Scatter(y=history.history['val_loss'], mode='lines', name='Validation Loss', line=dict(color='orange')))\n",
    "fig.update_layout(title=\"Pérdida durante el entrenamiento y validación (Modelo 1)\",\n",
    "                  xaxis_title=\"Epochs\", yaxis_title=\"Loss\", template=\"plotly_white\",\n",
    "                  legend=dict(x=0.5, y=1, xanchor='center', orientation='h'))\n",
    "fig.show()\n",
    "\n",
    "test_loss = model.evaluate(X_test, y_test)\n",
    "print(f\"Pierda en el conjunto de teste: {test_loss}\")\n",
    "\n",
    "predictions = model.predict(X_test)\n",
    "\n",
    "\n",
    "# Graficar el resultado del entrenamiento del modelo usando plotly\n",
    "resultados_df = pd.DataFrame({\n",
    "    \"Valores Reales\": y_test,\n",
    "    \"Predicciones\": predictions.ravel() # predictions tiene 2D, ravel para transformar en 1D para la creación del df\n",
    "})\n",
    "\n",
    "fig = px.scatter(\n",
    "    resultados_df,\n",
    "    x=\"Valores Reales\",\n",
    "    y=\"Predicciones\",\n",
    "    title=\"Valores Reales vs Predicciones\",\n",
    "    template=\"plotly_white\"\n",
    ")\n",
    "\n",
    "# Añadir una línea de referencia donde las predicciones coinciden perfectamente con los valores reales\n",
    "fig.add_shape(\n",
    "    type=\"line\",\n",
    "    x0=resultados_df[\"Valores Reales\"].min(),\n",
    "    y0=resultados_df[\"Valores Reales\"].min(),\n",
    "    x1=resultados_df[\"Valores Reales\"].max(),\n",
    "    y1=resultados_df[\"Valores Reales\"].max(),\n",
    "    line=dict(color=\"red\", dash=\"dot\")\n",
    ")\n",
    "\n",
    "fig.show()\n"
   ]
  },
  {
   "cell_type": "code",
   "execution_count": 4,
   "metadata": {},
   "outputs": [
    {
     "name": "stdout",
     "output_type": "stream",
     "text": [
      "Métricas de evaluación del primer modelo:\n",
      "MAE: 0.033455867152369236\n",
      "RMSE: 0.0478114630026273\n",
      "R2: 0.7539230010731234\n"
     ]
    }
   ],
   "source": [
    "# Metricas\n",
    "def calculate_metrics(y_real, y_pred):\n",
    "    mae = mean_absolute_error(y_real, y_pred)\n",
    "    rmse = np.sqrt(mean_squared_error(y_real, y_pred))\n",
    "    r2 = r2_score(y_real, y_pred)\n",
    "    return mae, rmse, r2\n",
    "\n",
    "mae, rmse, r2 = calculate_metrics(y_test, predictions.ravel())\n",
    "\n",
    "print(\"Métricas de evaluación del primer modelo:\")\n",
    "print(f\"MAE: {mae}\")\n",
    "print(f\"RMSE: {rmse}\")\n",
    "print(f\"R2: {r2}\")\n"
   ]
  },
  {
   "cell_type": "markdown",
   "metadata": {},
   "source": [
    "Neural Networks - Hiperparametrización"
   ]
  },
  {
   "cell_type": "code",
   "execution_count": 5,
   "metadata": {},
   "outputs": [
    {
     "data": {
      "text/html": [
       "<div>\n",
       "<style scoped>\n",
       "    .dataframe tbody tr th:only-of-type {\n",
       "        vertical-align: middle;\n",
       "    }\n",
       "\n",
       "    .dataframe tbody tr th {\n",
       "        vertical-align: top;\n",
       "    }\n",
       "\n",
       "    .dataframe thead th {\n",
       "        text-align: right;\n",
       "    }\n",
       "</style>\n",
       "<table border=\"1\" class=\"dataframe\">\n",
       "  <thead>\n",
       "    <tr style=\"text-align: right;\">\n",
       "      <th></th>\n",
       "      <th>learning_rate</th>\n",
       "      <th>validation_loss</th>\n",
       "    </tr>\n",
       "  </thead>\n",
       "  <tbody>\n",
       "    <tr>\n",
       "      <th>0</th>\n",
       "      <td>0.0001</td>\n",
       "      <td>0.060712</td>\n",
       "    </tr>\n",
       "    <tr>\n",
       "      <th>1</th>\n",
       "      <td>0.0010</td>\n",
       "      <td>0.052635</td>\n",
       "    </tr>\n",
       "    <tr>\n",
       "      <th>2</th>\n",
       "      <td>0.0100</td>\n",
       "      <td>0.076233</td>\n",
       "    </tr>\n",
       "    <tr>\n",
       "      <th>3</th>\n",
       "      <td>0.1000</td>\n",
       "      <td>0.153214</td>\n",
       "    </tr>\n",
       "    <tr>\n",
       "      <th>4</th>\n",
       "      <td>0.5000</td>\n",
       "      <td>0.153214</td>\n",
       "    </tr>\n",
       "  </tbody>\n",
       "</table>\n",
       "</div>"
      ],
      "text/plain": [
       "   learning_rate  validation_loss\n",
       "0         0.0001         0.060712\n",
       "1         0.0010         0.052635\n",
       "2         0.0100         0.076233\n",
       "3         0.1000         0.153214\n",
       "4         0.5000         0.153214"
      ]
     },
     "execution_count": 5,
     "metadata": {},
     "output_type": "execute_result"
    }
   ],
   "source": [
    "# Definir learning rates para probar\n",
    "learning_rates = [0.0001, 0.001, 0.01, 0.1, 0.5]\n",
    "\n",
    "early_stopping = EarlyStopping(\n",
    "    monitor=\"val_loss\",  # Monitorar la pierda en la validación\n",
    "    patience=3,          # Número de epochs sin mejora antes de parar\n",
    "    restore_best_weights=True  # Restaurar los pesos del mejor epoch\n",
    ")\n",
    "\n",
    "# Lista para almacenar los resultados\n",
    "results_lr = []\n",
    "\n",
    "# Loop para entrenar el modelo con diferentes learning rates\n",
    "for lr in learning_rates:\n",
    "    model = Sequential([\n",
    "    Input(shape=(X_train.shape[1],)),\n",
    "    Dense(units=128, activation='relu'),\n",
    "    Dense(units=64, activation='relu'),\n",
    "    Dense(units=32, activation='relu'),\n",
    "    Dense(units=8, activation='relu')\n",
    "])\n",
    "    \n",
    "    # Compilar el modelo con el learning rate actual\n",
    "    model.compile(optimizer=Adam(learning_rate=lr), loss='mean_absolute_error')\n",
    "    \n",
    "    # Entrenar el modelo (con pocas epochs para pruebas rápidas)\n",
    "    history = model.fit(\n",
    "        X_train, y_train,\n",
    "        validation_split=0.2,\n",
    "        epochs=10,\n",
    "        batch_size=32,\n",
    "        callbacks=[early_stopping],\n",
    "        verbose=0  # Silenciar la salida para facilitar la lectura\n",
    "    )\n",
    "\n",
    "    results_lr.append({\n",
    "        \"learning_rate\": lr,\n",
    "        \"validation_loss\": history.history[\"val_loss\"][-1]\n",
    "    })\n",
    "\n",
    "# Crear un DataFrame con los resultados\n",
    "results_lr = pd.DataFrame(results_lr)\n",
    "results_lr\n"
   ]
  },
  {
   "cell_type": "code",
   "execution_count": 6,
   "metadata": {},
   "outputs": [
    {
     "data": {
      "application/vnd.plotly.v1+json": {
       "config": {
        "plotlyServerURL": "https://plot.ly"
       },
       "data": [
        {
         "hovertemplate": "Learning Rate=%{x}<br>Validation Loss=%{y}<extra></extra>",
         "legendgroup": "",
         "line": {
          "color": "#636efa",
          "dash": "solid"
         },
         "marker": {
          "symbol": "circle"
         },
         "mode": "lines",
         "name": "",
         "orientation": "v",
         "showlegend": false,
         "type": "scatter",
         "x": [
          0.0001,
          0.001,
          0.01,
          0.1,
          0.5
         ],
         "xaxis": "x",
         "y": [
          0.060711830854415894,
          0.05263521149754524,
          0.07623341679573059,
          0.15321427583694458,
          0.15321427583694458
         ],
         "yaxis": "y"
        }
       ],
       "layout": {
        "legend": {
         "tracegroupgap": 0
        },
        "template": {
         "data": {
          "bar": [
           {
            "error_x": {
             "color": "#2a3f5f"
            },
            "error_y": {
             "color": "#2a3f5f"
            },
            "marker": {
             "line": {
              "color": "white",
              "width": 0.5
             },
             "pattern": {
              "fillmode": "overlay",
              "size": 10,
              "solidity": 0.2
             }
            },
            "type": "bar"
           }
          ],
          "barpolar": [
           {
            "marker": {
             "line": {
              "color": "white",
              "width": 0.5
             },
             "pattern": {
              "fillmode": "overlay",
              "size": 10,
              "solidity": 0.2
             }
            },
            "type": "barpolar"
           }
          ],
          "carpet": [
           {
            "aaxis": {
             "endlinecolor": "#2a3f5f",
             "gridcolor": "#C8D4E3",
             "linecolor": "#C8D4E3",
             "minorgridcolor": "#C8D4E3",
             "startlinecolor": "#2a3f5f"
            },
            "baxis": {
             "endlinecolor": "#2a3f5f",
             "gridcolor": "#C8D4E3",
             "linecolor": "#C8D4E3",
             "minorgridcolor": "#C8D4E3",
             "startlinecolor": "#2a3f5f"
            },
            "type": "carpet"
           }
          ],
          "choropleth": [
           {
            "colorbar": {
             "outlinewidth": 0,
             "ticks": ""
            },
            "type": "choropleth"
           }
          ],
          "contour": [
           {
            "colorbar": {
             "outlinewidth": 0,
             "ticks": ""
            },
            "colorscale": [
             [
              0,
              "#0d0887"
             ],
             [
              0.1111111111111111,
              "#46039f"
             ],
             [
              0.2222222222222222,
              "#7201a8"
             ],
             [
              0.3333333333333333,
              "#9c179e"
             ],
             [
              0.4444444444444444,
              "#bd3786"
             ],
             [
              0.5555555555555556,
              "#d8576b"
             ],
             [
              0.6666666666666666,
              "#ed7953"
             ],
             [
              0.7777777777777778,
              "#fb9f3a"
             ],
             [
              0.8888888888888888,
              "#fdca26"
             ],
             [
              1,
              "#f0f921"
             ]
            ],
            "type": "contour"
           }
          ],
          "contourcarpet": [
           {
            "colorbar": {
             "outlinewidth": 0,
             "ticks": ""
            },
            "type": "contourcarpet"
           }
          ],
          "heatmap": [
           {
            "colorbar": {
             "outlinewidth": 0,
             "ticks": ""
            },
            "colorscale": [
             [
              0,
              "#0d0887"
             ],
             [
              0.1111111111111111,
              "#46039f"
             ],
             [
              0.2222222222222222,
              "#7201a8"
             ],
             [
              0.3333333333333333,
              "#9c179e"
             ],
             [
              0.4444444444444444,
              "#bd3786"
             ],
             [
              0.5555555555555556,
              "#d8576b"
             ],
             [
              0.6666666666666666,
              "#ed7953"
             ],
             [
              0.7777777777777778,
              "#fb9f3a"
             ],
             [
              0.8888888888888888,
              "#fdca26"
             ],
             [
              1,
              "#f0f921"
             ]
            ],
            "type": "heatmap"
           }
          ],
          "heatmapgl": [
           {
            "colorbar": {
             "outlinewidth": 0,
             "ticks": ""
            },
            "colorscale": [
             [
              0,
              "#0d0887"
             ],
             [
              0.1111111111111111,
              "#46039f"
             ],
             [
              0.2222222222222222,
              "#7201a8"
             ],
             [
              0.3333333333333333,
              "#9c179e"
             ],
             [
              0.4444444444444444,
              "#bd3786"
             ],
             [
              0.5555555555555556,
              "#d8576b"
             ],
             [
              0.6666666666666666,
              "#ed7953"
             ],
             [
              0.7777777777777778,
              "#fb9f3a"
             ],
             [
              0.8888888888888888,
              "#fdca26"
             ],
             [
              1,
              "#f0f921"
             ]
            ],
            "type": "heatmapgl"
           }
          ],
          "histogram": [
           {
            "marker": {
             "pattern": {
              "fillmode": "overlay",
              "size": 10,
              "solidity": 0.2
             }
            },
            "type": "histogram"
           }
          ],
          "histogram2d": [
           {
            "colorbar": {
             "outlinewidth": 0,
             "ticks": ""
            },
            "colorscale": [
             [
              0,
              "#0d0887"
             ],
             [
              0.1111111111111111,
              "#46039f"
             ],
             [
              0.2222222222222222,
              "#7201a8"
             ],
             [
              0.3333333333333333,
              "#9c179e"
             ],
             [
              0.4444444444444444,
              "#bd3786"
             ],
             [
              0.5555555555555556,
              "#d8576b"
             ],
             [
              0.6666666666666666,
              "#ed7953"
             ],
             [
              0.7777777777777778,
              "#fb9f3a"
             ],
             [
              0.8888888888888888,
              "#fdca26"
             ],
             [
              1,
              "#f0f921"
             ]
            ],
            "type": "histogram2d"
           }
          ],
          "histogram2dcontour": [
           {
            "colorbar": {
             "outlinewidth": 0,
             "ticks": ""
            },
            "colorscale": [
             [
              0,
              "#0d0887"
             ],
             [
              0.1111111111111111,
              "#46039f"
             ],
             [
              0.2222222222222222,
              "#7201a8"
             ],
             [
              0.3333333333333333,
              "#9c179e"
             ],
             [
              0.4444444444444444,
              "#bd3786"
             ],
             [
              0.5555555555555556,
              "#d8576b"
             ],
             [
              0.6666666666666666,
              "#ed7953"
             ],
             [
              0.7777777777777778,
              "#fb9f3a"
             ],
             [
              0.8888888888888888,
              "#fdca26"
             ],
             [
              1,
              "#f0f921"
             ]
            ],
            "type": "histogram2dcontour"
           }
          ],
          "mesh3d": [
           {
            "colorbar": {
             "outlinewidth": 0,
             "ticks": ""
            },
            "type": "mesh3d"
           }
          ],
          "parcoords": [
           {
            "line": {
             "colorbar": {
              "outlinewidth": 0,
              "ticks": ""
             }
            },
            "type": "parcoords"
           }
          ],
          "pie": [
           {
            "automargin": true,
            "type": "pie"
           }
          ],
          "scatter": [
           {
            "fillpattern": {
             "fillmode": "overlay",
             "size": 10,
             "solidity": 0.2
            },
            "type": "scatter"
           }
          ],
          "scatter3d": [
           {
            "line": {
             "colorbar": {
              "outlinewidth": 0,
              "ticks": ""
             }
            },
            "marker": {
             "colorbar": {
              "outlinewidth": 0,
              "ticks": ""
             }
            },
            "type": "scatter3d"
           }
          ],
          "scattercarpet": [
           {
            "marker": {
             "colorbar": {
              "outlinewidth": 0,
              "ticks": ""
             }
            },
            "type": "scattercarpet"
           }
          ],
          "scattergeo": [
           {
            "marker": {
             "colorbar": {
              "outlinewidth": 0,
              "ticks": ""
             }
            },
            "type": "scattergeo"
           }
          ],
          "scattergl": [
           {
            "marker": {
             "colorbar": {
              "outlinewidth": 0,
              "ticks": ""
             }
            },
            "type": "scattergl"
           }
          ],
          "scattermapbox": [
           {
            "marker": {
             "colorbar": {
              "outlinewidth": 0,
              "ticks": ""
             }
            },
            "type": "scattermapbox"
           }
          ],
          "scatterpolar": [
           {
            "marker": {
             "colorbar": {
              "outlinewidth": 0,
              "ticks": ""
             }
            },
            "type": "scatterpolar"
           }
          ],
          "scatterpolargl": [
           {
            "marker": {
             "colorbar": {
              "outlinewidth": 0,
              "ticks": ""
             }
            },
            "type": "scatterpolargl"
           }
          ],
          "scatterternary": [
           {
            "marker": {
             "colorbar": {
              "outlinewidth": 0,
              "ticks": ""
             }
            },
            "type": "scatterternary"
           }
          ],
          "surface": [
           {
            "colorbar": {
             "outlinewidth": 0,
             "ticks": ""
            },
            "colorscale": [
             [
              0,
              "#0d0887"
             ],
             [
              0.1111111111111111,
              "#46039f"
             ],
             [
              0.2222222222222222,
              "#7201a8"
             ],
             [
              0.3333333333333333,
              "#9c179e"
             ],
             [
              0.4444444444444444,
              "#bd3786"
             ],
             [
              0.5555555555555556,
              "#d8576b"
             ],
             [
              0.6666666666666666,
              "#ed7953"
             ],
             [
              0.7777777777777778,
              "#fb9f3a"
             ],
             [
              0.8888888888888888,
              "#fdca26"
             ],
             [
              1,
              "#f0f921"
             ]
            ],
            "type": "surface"
           }
          ],
          "table": [
           {
            "cells": {
             "fill": {
              "color": "#EBF0F8"
             },
             "line": {
              "color": "white"
             }
            },
            "header": {
             "fill": {
              "color": "#C8D4E3"
             },
             "line": {
              "color": "white"
             }
            },
            "type": "table"
           }
          ]
         },
         "layout": {
          "annotationdefaults": {
           "arrowcolor": "#2a3f5f",
           "arrowhead": 0,
           "arrowwidth": 1
          },
          "autotypenumbers": "strict",
          "coloraxis": {
           "colorbar": {
            "outlinewidth": 0,
            "ticks": ""
           }
          },
          "colorscale": {
           "diverging": [
            [
             0,
             "#8e0152"
            ],
            [
             0.1,
             "#c51b7d"
            ],
            [
             0.2,
             "#de77ae"
            ],
            [
             0.3,
             "#f1b6da"
            ],
            [
             0.4,
             "#fde0ef"
            ],
            [
             0.5,
             "#f7f7f7"
            ],
            [
             0.6,
             "#e6f5d0"
            ],
            [
             0.7,
             "#b8e186"
            ],
            [
             0.8,
             "#7fbc41"
            ],
            [
             0.9,
             "#4d9221"
            ],
            [
             1,
             "#276419"
            ]
           ],
           "sequential": [
            [
             0,
             "#0d0887"
            ],
            [
             0.1111111111111111,
             "#46039f"
            ],
            [
             0.2222222222222222,
             "#7201a8"
            ],
            [
             0.3333333333333333,
             "#9c179e"
            ],
            [
             0.4444444444444444,
             "#bd3786"
            ],
            [
             0.5555555555555556,
             "#d8576b"
            ],
            [
             0.6666666666666666,
             "#ed7953"
            ],
            [
             0.7777777777777778,
             "#fb9f3a"
            ],
            [
             0.8888888888888888,
             "#fdca26"
            ],
            [
             1,
             "#f0f921"
            ]
           ],
           "sequentialminus": [
            [
             0,
             "#0d0887"
            ],
            [
             0.1111111111111111,
             "#46039f"
            ],
            [
             0.2222222222222222,
             "#7201a8"
            ],
            [
             0.3333333333333333,
             "#9c179e"
            ],
            [
             0.4444444444444444,
             "#bd3786"
            ],
            [
             0.5555555555555556,
             "#d8576b"
            ],
            [
             0.6666666666666666,
             "#ed7953"
            ],
            [
             0.7777777777777778,
             "#fb9f3a"
            ],
            [
             0.8888888888888888,
             "#fdca26"
            ],
            [
             1,
             "#f0f921"
            ]
           ]
          },
          "colorway": [
           "#636efa",
           "#EF553B",
           "#00cc96",
           "#ab63fa",
           "#FFA15A",
           "#19d3f3",
           "#FF6692",
           "#B6E880",
           "#FF97FF",
           "#FECB52"
          ],
          "font": {
           "color": "#2a3f5f"
          },
          "geo": {
           "bgcolor": "white",
           "lakecolor": "white",
           "landcolor": "white",
           "showlakes": true,
           "showland": true,
           "subunitcolor": "#C8D4E3"
          },
          "hoverlabel": {
           "align": "left"
          },
          "hovermode": "closest",
          "mapbox": {
           "style": "light"
          },
          "paper_bgcolor": "white",
          "plot_bgcolor": "white",
          "polar": {
           "angularaxis": {
            "gridcolor": "#EBF0F8",
            "linecolor": "#EBF0F8",
            "ticks": ""
           },
           "bgcolor": "white",
           "radialaxis": {
            "gridcolor": "#EBF0F8",
            "linecolor": "#EBF0F8",
            "ticks": ""
           }
          },
          "scene": {
           "xaxis": {
            "backgroundcolor": "white",
            "gridcolor": "#DFE8F3",
            "gridwidth": 2,
            "linecolor": "#EBF0F8",
            "showbackground": true,
            "ticks": "",
            "zerolinecolor": "#EBF0F8"
           },
           "yaxis": {
            "backgroundcolor": "white",
            "gridcolor": "#DFE8F3",
            "gridwidth": 2,
            "linecolor": "#EBF0F8",
            "showbackground": true,
            "ticks": "",
            "zerolinecolor": "#EBF0F8"
           },
           "zaxis": {
            "backgroundcolor": "white",
            "gridcolor": "#DFE8F3",
            "gridwidth": 2,
            "linecolor": "#EBF0F8",
            "showbackground": true,
            "ticks": "",
            "zerolinecolor": "#EBF0F8"
           }
          },
          "shapedefaults": {
           "line": {
            "color": "#2a3f5f"
           }
          },
          "ternary": {
           "aaxis": {
            "gridcolor": "#DFE8F3",
            "linecolor": "#A2B1C6",
            "ticks": ""
           },
           "baxis": {
            "gridcolor": "#DFE8F3",
            "linecolor": "#A2B1C6",
            "ticks": ""
           },
           "bgcolor": "white",
           "caxis": {
            "gridcolor": "#DFE8F3",
            "linecolor": "#A2B1C6",
            "ticks": ""
           }
          },
          "title": {
           "x": 0.05
          },
          "xaxis": {
           "automargin": true,
           "gridcolor": "#EBF0F8",
           "linecolor": "#EBF0F8",
           "ticks": "",
           "title": {
            "standoff": 15
           },
           "zerolinecolor": "#EBF0F8",
           "zerolinewidth": 2
          },
          "yaxis": {
           "automargin": true,
           "gridcolor": "#EBF0F8",
           "linecolor": "#EBF0F8",
           "ticks": "",
           "title": {
            "standoff": 15
           },
           "zerolinecolor": "#EBF0F8",
           "zerolinewidth": 2
          }
         }
        },
        "title": {
         "text": "Learning Rate vs Validation Loss"
        },
        "xaxis": {
         "anchor": "y",
         "domain": [
          0,
          1
         ],
         "title": {
          "text": "Learning Rate"
         },
         "type": "log"
        },
        "yaxis": {
         "anchor": "x",
         "domain": [
          0,
          1
         ],
         "title": {
          "text": "Validation Loss"
         }
        }
       }
      }
     },
     "metadata": {},
     "output_type": "display_data"
    }
   ],
   "source": [
    "fig = px.line(\n",
    "    results_lr,\n",
    "    x=\"learning_rate\",\n",
    "    y=\"validation_loss\",\n",
    "    title=\"Learning Rate vs Validation Loss\",\n",
    "    labels={\"learning_rate\": \"Learning Rate\", \"validation_loss\": \"Validation Loss\"},\n",
    "    log_x=True,  # Escala logarítmica para mejor visualización\n",
    "    template=\"plotly_white\"\n",
    ")\n",
    "fig.show()"
   ]
  },
  {
   "cell_type": "code",
   "execution_count": 7,
   "metadata": {},
   "outputs": [
    {
     "name": "stdout",
     "output_type": "stream",
     "text": [
      "Epoch 1/100\n",
      "\u001b[1m50/50\u001b[0m \u001b[32m━━━━━━━━━━━━━━━━━━━━\u001b[0m\u001b[37m\u001b[0m \u001b[1m2s\u001b[0m 4ms/step - loss: 0.1130 - val_loss: 0.0536\n",
      "Epoch 2/100\n",
      "\u001b[1m50/50\u001b[0m \u001b[32m━━━━━━━━━━━━━━━━━━━━\u001b[0m\u001b[37m\u001b[0m \u001b[1m0s\u001b[0m 2ms/step - loss: 0.0606 - val_loss: 0.0445\n",
      "Epoch 3/100\n",
      "\u001b[1m50/50\u001b[0m \u001b[32m━━━━━━━━━━━━━━━━━━━━\u001b[0m\u001b[37m\u001b[0m \u001b[1m0s\u001b[0m 3ms/step - loss: 0.0540 - val_loss: 0.0435\n",
      "Epoch 4/100\n",
      "\u001b[1m50/50\u001b[0m \u001b[32m━━━━━━━━━━━━━━━━━━━━\u001b[0m\u001b[37m\u001b[0m \u001b[1m0s\u001b[0m 2ms/step - loss: 0.0497 - val_loss: 0.0445\n",
      "Epoch 5/100\n",
      "\u001b[1m50/50\u001b[0m \u001b[32m━━━━━━━━━━━━━━━━━━━━\u001b[0m\u001b[37m\u001b[0m \u001b[1m0s\u001b[0m 2ms/step - loss: 0.0486 - val_loss: 0.0417\n",
      "Epoch 6/100\n",
      "\u001b[1m50/50\u001b[0m \u001b[32m━━━━━━━━━━━━━━━━━━━━\u001b[0m\u001b[37m\u001b[0m \u001b[1m0s\u001b[0m 2ms/step - loss: 0.0483 - val_loss: 0.0424\n",
      "Epoch 7/100\n",
      "\u001b[1m50/50\u001b[0m \u001b[32m━━━━━━━━━━━━━━━━━━━━\u001b[0m\u001b[37m\u001b[0m \u001b[1m0s\u001b[0m 2ms/step - loss: 0.0468 - val_loss: 0.0463\n",
      "Epoch 8/100\n",
      "\u001b[1m50/50\u001b[0m \u001b[32m━━━━━━━━━━━━━━━━━━━━\u001b[0m\u001b[37m\u001b[0m \u001b[1m0s\u001b[0m 2ms/step - loss: 0.0422 - val_loss: 0.0446\n",
      "Epoch 9/100\n",
      "\u001b[1m50/50\u001b[0m \u001b[32m━━━━━━━━━━━━━━━━━━━━\u001b[0m\u001b[37m\u001b[0m \u001b[1m0s\u001b[0m 2ms/step - loss: 0.0435 - val_loss: 0.0416\n",
      "Epoch 10/100\n",
      "\u001b[1m50/50\u001b[0m \u001b[32m━━━━━━━━━━━━━━━━━━━━\u001b[0m\u001b[37m\u001b[0m \u001b[1m0s\u001b[0m 2ms/step - loss: 0.0451 - val_loss: 0.0428\n",
      "Epoch 11/100\n",
      "\u001b[1m50/50\u001b[0m \u001b[32m━━━━━━━━━━━━━━━━━━━━\u001b[0m\u001b[37m\u001b[0m \u001b[1m0s\u001b[0m 2ms/step - loss: 0.0438 - val_loss: 0.0422\n",
      "Epoch 12/100\n",
      "\u001b[1m50/50\u001b[0m \u001b[32m━━━━━━━━━━━━━━━━━━━━\u001b[0m\u001b[37m\u001b[0m \u001b[1m0s\u001b[0m 3ms/step - loss: 0.0421 - val_loss: 0.0437\n",
      "Epoch 13/100\n",
      "\u001b[1m50/50\u001b[0m \u001b[32m━━━━━━━━━━━━━━━━━━━━\u001b[0m\u001b[37m\u001b[0m \u001b[1m0s\u001b[0m 2ms/step - loss: 0.0401 - val_loss: 0.0434\n",
      "Epoch 14/100\n",
      "\u001b[1m50/50\u001b[0m \u001b[32m━━━━━━━━━━━━━━━━━━━━\u001b[0m\u001b[37m\u001b[0m \u001b[1m0s\u001b[0m 2ms/step - loss: 0.0425 - val_loss: 0.0399\n",
      "Epoch 15/100\n",
      "\u001b[1m50/50\u001b[0m \u001b[32m━━━━━━━━━━━━━━━━━━━━\u001b[0m\u001b[37m\u001b[0m \u001b[1m0s\u001b[0m 2ms/step - loss: 0.0394 - val_loss: 0.0398\n",
      "Epoch 16/100\n",
      "\u001b[1m50/50\u001b[0m \u001b[32m━━━━━━━━━━━━━━━━━━━━\u001b[0m\u001b[37m\u001b[0m \u001b[1m0s\u001b[0m 2ms/step - loss: 0.0409 - val_loss: 0.0408\n",
      "Epoch 17/100\n",
      "\u001b[1m50/50\u001b[0m \u001b[32m━━━━━━━━━━━━━━━━━━━━\u001b[0m\u001b[37m\u001b[0m \u001b[1m0s\u001b[0m 2ms/step - loss: 0.0403 - val_loss: 0.0402\n",
      "Epoch 18/100\n",
      "\u001b[1m50/50\u001b[0m \u001b[32m━━━━━━━━━━━━━━━━━━━━\u001b[0m\u001b[37m\u001b[0m \u001b[1m0s\u001b[0m 2ms/step - loss: 0.0410 - val_loss: 0.0414\n",
      "Epoch 19/100\n",
      "\u001b[1m50/50\u001b[0m \u001b[32m━━━━━━━━━━━━━━━━━━━━\u001b[0m\u001b[37m\u001b[0m \u001b[1m0s\u001b[0m 2ms/step - loss: 0.0394 - val_loss: 0.0392\n",
      "Epoch 20/100\n",
      "\u001b[1m50/50\u001b[0m \u001b[32m━━━━━━━━━━━━━━━━━━━━\u001b[0m\u001b[37m\u001b[0m \u001b[1m0s\u001b[0m 2ms/step - loss: 0.0398 - val_loss: 0.0397\n",
      "Epoch 21/100\n",
      "\u001b[1m50/50\u001b[0m \u001b[32m━━━━━━━━━━━━━━━━━━━━\u001b[0m\u001b[37m\u001b[0m \u001b[1m0s\u001b[0m 2ms/step - loss: 0.0365 - val_loss: 0.0386\n",
      "Epoch 22/100\n",
      "\u001b[1m50/50\u001b[0m \u001b[32m━━━━━━━━━━━━━━━━━━━━\u001b[0m\u001b[37m\u001b[0m \u001b[1m0s\u001b[0m 2ms/step - loss: 0.0399 - val_loss: 0.0382\n",
      "Epoch 23/100\n",
      "\u001b[1m50/50\u001b[0m \u001b[32m━━━━━━━━━━━━━━━━━━━━\u001b[0m\u001b[37m\u001b[0m \u001b[1m0s\u001b[0m 2ms/step - loss: 0.0391 - val_loss: 0.0388\n",
      "Epoch 24/100\n",
      "\u001b[1m50/50\u001b[0m \u001b[32m━━━━━━━━━━━━━━━━━━━━\u001b[0m\u001b[37m\u001b[0m \u001b[1m0s\u001b[0m 2ms/step - loss: 0.0363 - val_loss: 0.0386\n",
      "Epoch 25/100\n",
      "\u001b[1m50/50\u001b[0m \u001b[32m━━━━━━━━━━━━━━━━━━━━\u001b[0m\u001b[37m\u001b[0m \u001b[1m0s\u001b[0m 2ms/step - loss: 0.0377 - val_loss: 0.0376\n",
      "Epoch 26/100\n",
      "\u001b[1m50/50\u001b[0m \u001b[32m━━━━━━━━━━━━━━━━━━━━\u001b[0m\u001b[37m\u001b[0m \u001b[1m0s\u001b[0m 2ms/step - loss: 0.0371 - val_loss: 0.0382\n",
      "Epoch 27/100\n",
      "\u001b[1m50/50\u001b[0m \u001b[32m━━━━━━━━━━━━━━━━━━━━\u001b[0m\u001b[37m\u001b[0m \u001b[1m0s\u001b[0m 2ms/step - loss: 0.0357 - val_loss: 0.0381\n",
      "Epoch 28/100\n",
      "\u001b[1m50/50\u001b[0m \u001b[32m━━━━━━━━━━━━━━━━━━━━\u001b[0m\u001b[37m\u001b[0m \u001b[1m0s\u001b[0m 2ms/step - loss: 0.0373 - val_loss: 0.0373\n",
      "Epoch 29/100\n",
      "\u001b[1m50/50\u001b[0m \u001b[32m━━━━━━━━━━━━━━━━━━━━\u001b[0m\u001b[37m\u001b[0m \u001b[1m0s\u001b[0m 2ms/step - loss: 0.0352 - val_loss: 0.0367\n",
      "Epoch 30/100\n",
      "\u001b[1m50/50\u001b[0m \u001b[32m━━━━━━━━━━━━━━━━━━━━\u001b[0m\u001b[37m\u001b[0m \u001b[1m0s\u001b[0m 2ms/step - loss: 0.0353 - val_loss: 0.0373\n",
      "Epoch 31/100\n",
      "\u001b[1m50/50\u001b[0m \u001b[32m━━━━━━━━━━━━━━━━━━━━\u001b[0m\u001b[37m\u001b[0m \u001b[1m0s\u001b[0m 2ms/step - loss: 0.0351 - val_loss: 0.0371\n",
      "Epoch 32/100\n",
      "\u001b[1m50/50\u001b[0m \u001b[32m━━━━━━━━━━━━━━━━━━━━\u001b[0m\u001b[37m\u001b[0m \u001b[1m0s\u001b[0m 2ms/step - loss: 0.0352 - val_loss: 0.0359\n",
      "Epoch 33/100\n",
      "\u001b[1m50/50\u001b[0m \u001b[32m━━━━━━━━━━━━━━━━━━━━\u001b[0m\u001b[37m\u001b[0m \u001b[1m0s\u001b[0m 2ms/step - loss: 0.0327 - val_loss: 0.0360\n",
      "Epoch 34/100\n",
      "\u001b[1m50/50\u001b[0m \u001b[32m━━━━━━━━━━━━━━━━━━━━\u001b[0m\u001b[37m\u001b[0m \u001b[1m0s\u001b[0m 2ms/step - loss: 0.0354 - val_loss: 0.0364\n",
      "Epoch 35/100\n",
      "\u001b[1m50/50\u001b[0m \u001b[32m━━━━━━━━━━━━━━━━━━━━\u001b[0m\u001b[37m\u001b[0m \u001b[1m0s\u001b[0m 2ms/step - loss: 0.0332 - val_loss: 0.0366\n",
      "Epoch 36/100\n",
      "\u001b[1m50/50\u001b[0m \u001b[32m━━━━━━━━━━━━━━━━━━━━\u001b[0m\u001b[37m\u001b[0m \u001b[1m0s\u001b[0m 2ms/step - loss: 0.0345 - val_loss: 0.0353\n",
      "Epoch 37/100\n",
      "\u001b[1m50/50\u001b[0m \u001b[32m━━━━━━━━━━━━━━━━━━━━\u001b[0m\u001b[37m\u001b[0m \u001b[1m0s\u001b[0m 2ms/step - loss: 0.0341 - val_loss: 0.0354\n",
      "Epoch 38/100\n",
      "\u001b[1m50/50\u001b[0m \u001b[32m━━━━━━━━━━━━━━━━━━━━\u001b[0m\u001b[37m\u001b[0m \u001b[1m0s\u001b[0m 2ms/step - loss: 0.0333 - val_loss: 0.0355\n",
      "Epoch 39/100\n",
      "\u001b[1m50/50\u001b[0m \u001b[32m━━━━━━━━━━━━━━━━━━━━\u001b[0m\u001b[37m\u001b[0m \u001b[1m0s\u001b[0m 2ms/step - loss: 0.0350 - val_loss: 0.0356\n",
      "Epoch 40/100\n",
      "\u001b[1m50/50\u001b[0m \u001b[32m━━━━━━━━━━━━━━━━━━━━\u001b[0m\u001b[37m\u001b[0m \u001b[1m0s\u001b[0m 2ms/step - loss: 0.0312 - val_loss: 0.0364\n",
      "Epoch 41/100\n",
      "\u001b[1m50/50\u001b[0m \u001b[32m━━━━━━━━━━━━━━━━━━━━\u001b[0m\u001b[37m\u001b[0m \u001b[1m0s\u001b[0m 2ms/step - loss: 0.0327 - val_loss: 0.0351\n",
      "Epoch 42/100\n",
      "\u001b[1m50/50\u001b[0m \u001b[32m━━━━━━━━━━━━━━━━━━━━\u001b[0m\u001b[37m\u001b[0m \u001b[1m0s\u001b[0m 2ms/step - loss: 0.0328 - val_loss: 0.0341\n",
      "Epoch 43/100\n",
      "\u001b[1m50/50\u001b[0m \u001b[32m━━━━━━━━━━━━━━━━━━━━\u001b[0m\u001b[37m\u001b[0m \u001b[1m0s\u001b[0m 2ms/step - loss: 0.0311 - val_loss: 0.0357\n",
      "Epoch 44/100\n",
      "\u001b[1m50/50\u001b[0m \u001b[32m━━━━━━━━━━━━━━━━━━━━\u001b[0m\u001b[37m\u001b[0m \u001b[1m0s\u001b[0m 2ms/step - loss: 0.0303 - val_loss: 0.0335\n",
      "Epoch 45/100\n",
      "\u001b[1m50/50\u001b[0m \u001b[32m━━━━━━━━━━━━━━━━━━━━\u001b[0m\u001b[37m\u001b[0m \u001b[1m0s\u001b[0m 3ms/step - loss: 0.0313 - val_loss: 0.0346\n",
      "Epoch 46/100\n",
      "\u001b[1m50/50\u001b[0m \u001b[32m━━━━━━━━━━━━━━━━━━━━\u001b[0m\u001b[37m\u001b[0m \u001b[1m0s\u001b[0m 2ms/step - loss: 0.0312 - val_loss: 0.0334\n",
      "Epoch 47/100\n",
      "\u001b[1m50/50\u001b[0m \u001b[32m━━━━━━━━━━━━━━━━━━━━\u001b[0m\u001b[37m\u001b[0m \u001b[1m0s\u001b[0m 2ms/step - loss: 0.0310 - val_loss: 0.0336\n",
      "Epoch 48/100\n",
      "\u001b[1m50/50\u001b[0m \u001b[32m━━━━━━━━━━━━━━━━━━━━\u001b[0m\u001b[37m\u001b[0m \u001b[1m0s\u001b[0m 2ms/step - loss: 0.0311 - val_loss: 0.0358\n",
      "Epoch 49/100\n",
      "\u001b[1m50/50\u001b[0m \u001b[32m━━━━━━━━━━━━━━━━━━━━\u001b[0m\u001b[37m\u001b[0m \u001b[1m0s\u001b[0m 2ms/step - loss: 0.0323 - val_loss: 0.0339\n",
      "Epoch 50/100\n",
      "\u001b[1m50/50\u001b[0m \u001b[32m━━━━━━━━━━━━━━━━━━━━\u001b[0m\u001b[37m\u001b[0m \u001b[1m0s\u001b[0m 3ms/step - loss: 0.0299 - val_loss: 0.0345\n",
      "Epoch 51/100\n",
      "\u001b[1m50/50\u001b[0m \u001b[32m━━━━━━━━━━━━━━━━━━━━\u001b[0m\u001b[37m\u001b[0m \u001b[1m0s\u001b[0m 2ms/step - loss: 0.0304 - val_loss: 0.0359\n"
     ]
    },
    {
     "data": {
      "application/vnd.plotly.v1+json": {
       "config": {
        "plotlyServerURL": "https://plot.ly"
       },
       "data": [
        {
         "line": {
          "color": "blue"
         },
         "mode": "lines",
         "name": "Train Loss",
         "type": "scatter",
         "y": [
          0.0870138630270958,
          0.059316277503967285,
          0.0518607459962368,
          0.04988880828022957,
          0.047242969274520874,
          0.04743925854563713,
          0.04555337503552437,
          0.0439135916531086,
          0.04329944774508476,
          0.04384463652968407,
          0.042976800352334976,
          0.04231321066617966,
          0.04123437777161598,
          0.04183099418878555,
          0.04058176651597023,
          0.040446825325489044,
          0.041220761835575104,
          0.039812177419662476,
          0.03912747651338577,
          0.038478776812553406,
          0.039121173322200775,
          0.03883849084377289,
          0.03830831125378609,
          0.03817271441221237,
          0.03742166608572006,
          0.03744557127356529,
          0.03617895022034645,
          0.036801982671022415,
          0.035936448723077774,
          0.035443343222141266,
          0.03532242774963379,
          0.034347016364336014,
          0.0345928817987442,
          0.03456488251686096,
          0.034086015075445175,
          0.033702898770570755,
          0.03352770954370499,
          0.03327532112598419,
          0.03297611325979233,
          0.032690007239580154,
          0.0324246846139431,
          0.032107092440128326,
          0.03165673837065697,
          0.030723297968506813,
          0.03131009265780449,
          0.0319448746740818,
          0.0314175970852375,
          0.030766937881708145,
          0.030517879873514175,
          0.02987268567085266,
          0.02994132973253727
         ]
        },
        {
         "line": {
          "color": "orange"
         },
         "mode": "lines",
         "name": "Validation Loss",
         "type": "scatter",
         "y": [
          0.05355096235871315,
          0.044505391269922256,
          0.04354226216673851,
          0.04451149329543114,
          0.041730765253305435,
          0.042417965829372406,
          0.046273089945316315,
          0.04459977522492409,
          0.04163316637277603,
          0.042814888060092926,
          0.04217293858528137,
          0.043726466596126556,
          0.04337116330862045,
          0.039873555302619934,
          0.03981805965304375,
          0.04075632244348526,
          0.040198132395744324,
          0.041398901492357254,
          0.03918050602078438,
          0.03965672105550766,
          0.03861762955784798,
          0.03816555067896843,
          0.038828760385513306,
          0.03857405111193657,
          0.03756392374634743,
          0.03817164525389671,
          0.03805556893348694,
          0.03733328729867935,
          0.03667192906141281,
          0.03727265074849129,
          0.03707515820860863,
          0.03589567914605141,
          0.03597312048077583,
          0.036404743790626526,
          0.036601472645998,
          0.03529292345046997,
          0.03541151061654091,
          0.03550989180803299,
          0.03558860719203949,
          0.03640858829021454,
          0.03510231152176857,
          0.03406504914164543,
          0.03565232828259468,
          0.03346017375588417,
          0.034646209329366684,
          0.033435508608818054,
          0.033609744161367416,
          0.03584152087569237,
          0.03393496945500374,
          0.03448362648487091,
          0.03593551740050316
         ]
        }
       ],
       "layout": {
        "legend": {
         "orientation": "h",
         "x": 0.5,
         "xanchor": "center",
         "y": 1
        },
        "template": {
         "data": {
          "bar": [
           {
            "error_x": {
             "color": "#2a3f5f"
            },
            "error_y": {
             "color": "#2a3f5f"
            },
            "marker": {
             "line": {
              "color": "white",
              "width": 0.5
             },
             "pattern": {
              "fillmode": "overlay",
              "size": 10,
              "solidity": 0.2
             }
            },
            "type": "bar"
           }
          ],
          "barpolar": [
           {
            "marker": {
             "line": {
              "color": "white",
              "width": 0.5
             },
             "pattern": {
              "fillmode": "overlay",
              "size": 10,
              "solidity": 0.2
             }
            },
            "type": "barpolar"
           }
          ],
          "carpet": [
           {
            "aaxis": {
             "endlinecolor": "#2a3f5f",
             "gridcolor": "#C8D4E3",
             "linecolor": "#C8D4E3",
             "minorgridcolor": "#C8D4E3",
             "startlinecolor": "#2a3f5f"
            },
            "baxis": {
             "endlinecolor": "#2a3f5f",
             "gridcolor": "#C8D4E3",
             "linecolor": "#C8D4E3",
             "minorgridcolor": "#C8D4E3",
             "startlinecolor": "#2a3f5f"
            },
            "type": "carpet"
           }
          ],
          "choropleth": [
           {
            "colorbar": {
             "outlinewidth": 0,
             "ticks": ""
            },
            "type": "choropleth"
           }
          ],
          "contour": [
           {
            "colorbar": {
             "outlinewidth": 0,
             "ticks": ""
            },
            "colorscale": [
             [
              0,
              "#0d0887"
             ],
             [
              0.1111111111111111,
              "#46039f"
             ],
             [
              0.2222222222222222,
              "#7201a8"
             ],
             [
              0.3333333333333333,
              "#9c179e"
             ],
             [
              0.4444444444444444,
              "#bd3786"
             ],
             [
              0.5555555555555556,
              "#d8576b"
             ],
             [
              0.6666666666666666,
              "#ed7953"
             ],
             [
              0.7777777777777778,
              "#fb9f3a"
             ],
             [
              0.8888888888888888,
              "#fdca26"
             ],
             [
              1,
              "#f0f921"
             ]
            ],
            "type": "contour"
           }
          ],
          "contourcarpet": [
           {
            "colorbar": {
             "outlinewidth": 0,
             "ticks": ""
            },
            "type": "contourcarpet"
           }
          ],
          "heatmap": [
           {
            "colorbar": {
             "outlinewidth": 0,
             "ticks": ""
            },
            "colorscale": [
             [
              0,
              "#0d0887"
             ],
             [
              0.1111111111111111,
              "#46039f"
             ],
             [
              0.2222222222222222,
              "#7201a8"
             ],
             [
              0.3333333333333333,
              "#9c179e"
             ],
             [
              0.4444444444444444,
              "#bd3786"
             ],
             [
              0.5555555555555556,
              "#d8576b"
             ],
             [
              0.6666666666666666,
              "#ed7953"
             ],
             [
              0.7777777777777778,
              "#fb9f3a"
             ],
             [
              0.8888888888888888,
              "#fdca26"
             ],
             [
              1,
              "#f0f921"
             ]
            ],
            "type": "heatmap"
           }
          ],
          "heatmapgl": [
           {
            "colorbar": {
             "outlinewidth": 0,
             "ticks": ""
            },
            "colorscale": [
             [
              0,
              "#0d0887"
             ],
             [
              0.1111111111111111,
              "#46039f"
             ],
             [
              0.2222222222222222,
              "#7201a8"
             ],
             [
              0.3333333333333333,
              "#9c179e"
             ],
             [
              0.4444444444444444,
              "#bd3786"
             ],
             [
              0.5555555555555556,
              "#d8576b"
             ],
             [
              0.6666666666666666,
              "#ed7953"
             ],
             [
              0.7777777777777778,
              "#fb9f3a"
             ],
             [
              0.8888888888888888,
              "#fdca26"
             ],
             [
              1,
              "#f0f921"
             ]
            ],
            "type": "heatmapgl"
           }
          ],
          "histogram": [
           {
            "marker": {
             "pattern": {
              "fillmode": "overlay",
              "size": 10,
              "solidity": 0.2
             }
            },
            "type": "histogram"
           }
          ],
          "histogram2d": [
           {
            "colorbar": {
             "outlinewidth": 0,
             "ticks": ""
            },
            "colorscale": [
             [
              0,
              "#0d0887"
             ],
             [
              0.1111111111111111,
              "#46039f"
             ],
             [
              0.2222222222222222,
              "#7201a8"
             ],
             [
              0.3333333333333333,
              "#9c179e"
             ],
             [
              0.4444444444444444,
              "#bd3786"
             ],
             [
              0.5555555555555556,
              "#d8576b"
             ],
             [
              0.6666666666666666,
              "#ed7953"
             ],
             [
              0.7777777777777778,
              "#fb9f3a"
             ],
             [
              0.8888888888888888,
              "#fdca26"
             ],
             [
              1,
              "#f0f921"
             ]
            ],
            "type": "histogram2d"
           }
          ],
          "histogram2dcontour": [
           {
            "colorbar": {
             "outlinewidth": 0,
             "ticks": ""
            },
            "colorscale": [
             [
              0,
              "#0d0887"
             ],
             [
              0.1111111111111111,
              "#46039f"
             ],
             [
              0.2222222222222222,
              "#7201a8"
             ],
             [
              0.3333333333333333,
              "#9c179e"
             ],
             [
              0.4444444444444444,
              "#bd3786"
             ],
             [
              0.5555555555555556,
              "#d8576b"
             ],
             [
              0.6666666666666666,
              "#ed7953"
             ],
             [
              0.7777777777777778,
              "#fb9f3a"
             ],
             [
              0.8888888888888888,
              "#fdca26"
             ],
             [
              1,
              "#f0f921"
             ]
            ],
            "type": "histogram2dcontour"
           }
          ],
          "mesh3d": [
           {
            "colorbar": {
             "outlinewidth": 0,
             "ticks": ""
            },
            "type": "mesh3d"
           }
          ],
          "parcoords": [
           {
            "line": {
             "colorbar": {
              "outlinewidth": 0,
              "ticks": ""
             }
            },
            "type": "parcoords"
           }
          ],
          "pie": [
           {
            "automargin": true,
            "type": "pie"
           }
          ],
          "scatter": [
           {
            "fillpattern": {
             "fillmode": "overlay",
             "size": 10,
             "solidity": 0.2
            },
            "type": "scatter"
           }
          ],
          "scatter3d": [
           {
            "line": {
             "colorbar": {
              "outlinewidth": 0,
              "ticks": ""
             }
            },
            "marker": {
             "colorbar": {
              "outlinewidth": 0,
              "ticks": ""
             }
            },
            "type": "scatter3d"
           }
          ],
          "scattercarpet": [
           {
            "marker": {
             "colorbar": {
              "outlinewidth": 0,
              "ticks": ""
             }
            },
            "type": "scattercarpet"
           }
          ],
          "scattergeo": [
           {
            "marker": {
             "colorbar": {
              "outlinewidth": 0,
              "ticks": ""
             }
            },
            "type": "scattergeo"
           }
          ],
          "scattergl": [
           {
            "marker": {
             "colorbar": {
              "outlinewidth": 0,
              "ticks": ""
             }
            },
            "type": "scattergl"
           }
          ],
          "scattermapbox": [
           {
            "marker": {
             "colorbar": {
              "outlinewidth": 0,
              "ticks": ""
             }
            },
            "type": "scattermapbox"
           }
          ],
          "scatterpolar": [
           {
            "marker": {
             "colorbar": {
              "outlinewidth": 0,
              "ticks": ""
             }
            },
            "type": "scatterpolar"
           }
          ],
          "scatterpolargl": [
           {
            "marker": {
             "colorbar": {
              "outlinewidth": 0,
              "ticks": ""
             }
            },
            "type": "scatterpolargl"
           }
          ],
          "scatterternary": [
           {
            "marker": {
             "colorbar": {
              "outlinewidth": 0,
              "ticks": ""
             }
            },
            "type": "scatterternary"
           }
          ],
          "surface": [
           {
            "colorbar": {
             "outlinewidth": 0,
             "ticks": ""
            },
            "colorscale": [
             [
              0,
              "#0d0887"
             ],
             [
              0.1111111111111111,
              "#46039f"
             ],
             [
              0.2222222222222222,
              "#7201a8"
             ],
             [
              0.3333333333333333,
              "#9c179e"
             ],
             [
              0.4444444444444444,
              "#bd3786"
             ],
             [
              0.5555555555555556,
              "#d8576b"
             ],
             [
              0.6666666666666666,
              "#ed7953"
             ],
             [
              0.7777777777777778,
              "#fb9f3a"
             ],
             [
              0.8888888888888888,
              "#fdca26"
             ],
             [
              1,
              "#f0f921"
             ]
            ],
            "type": "surface"
           }
          ],
          "table": [
           {
            "cells": {
             "fill": {
              "color": "#EBF0F8"
             },
             "line": {
              "color": "white"
             }
            },
            "header": {
             "fill": {
              "color": "#C8D4E3"
             },
             "line": {
              "color": "white"
             }
            },
            "type": "table"
           }
          ]
         },
         "layout": {
          "annotationdefaults": {
           "arrowcolor": "#2a3f5f",
           "arrowhead": 0,
           "arrowwidth": 1
          },
          "autotypenumbers": "strict",
          "coloraxis": {
           "colorbar": {
            "outlinewidth": 0,
            "ticks": ""
           }
          },
          "colorscale": {
           "diverging": [
            [
             0,
             "#8e0152"
            ],
            [
             0.1,
             "#c51b7d"
            ],
            [
             0.2,
             "#de77ae"
            ],
            [
             0.3,
             "#f1b6da"
            ],
            [
             0.4,
             "#fde0ef"
            ],
            [
             0.5,
             "#f7f7f7"
            ],
            [
             0.6,
             "#e6f5d0"
            ],
            [
             0.7,
             "#b8e186"
            ],
            [
             0.8,
             "#7fbc41"
            ],
            [
             0.9,
             "#4d9221"
            ],
            [
             1,
             "#276419"
            ]
           ],
           "sequential": [
            [
             0,
             "#0d0887"
            ],
            [
             0.1111111111111111,
             "#46039f"
            ],
            [
             0.2222222222222222,
             "#7201a8"
            ],
            [
             0.3333333333333333,
             "#9c179e"
            ],
            [
             0.4444444444444444,
             "#bd3786"
            ],
            [
             0.5555555555555556,
             "#d8576b"
            ],
            [
             0.6666666666666666,
             "#ed7953"
            ],
            [
             0.7777777777777778,
             "#fb9f3a"
            ],
            [
             0.8888888888888888,
             "#fdca26"
            ],
            [
             1,
             "#f0f921"
            ]
           ],
           "sequentialminus": [
            [
             0,
             "#0d0887"
            ],
            [
             0.1111111111111111,
             "#46039f"
            ],
            [
             0.2222222222222222,
             "#7201a8"
            ],
            [
             0.3333333333333333,
             "#9c179e"
            ],
            [
             0.4444444444444444,
             "#bd3786"
            ],
            [
             0.5555555555555556,
             "#d8576b"
            ],
            [
             0.6666666666666666,
             "#ed7953"
            ],
            [
             0.7777777777777778,
             "#fb9f3a"
            ],
            [
             0.8888888888888888,
             "#fdca26"
            ],
            [
             1,
             "#f0f921"
            ]
           ]
          },
          "colorway": [
           "#636efa",
           "#EF553B",
           "#00cc96",
           "#ab63fa",
           "#FFA15A",
           "#19d3f3",
           "#FF6692",
           "#B6E880",
           "#FF97FF",
           "#FECB52"
          ],
          "font": {
           "color": "#2a3f5f"
          },
          "geo": {
           "bgcolor": "white",
           "lakecolor": "white",
           "landcolor": "white",
           "showlakes": true,
           "showland": true,
           "subunitcolor": "#C8D4E3"
          },
          "hoverlabel": {
           "align": "left"
          },
          "hovermode": "closest",
          "mapbox": {
           "style": "light"
          },
          "paper_bgcolor": "white",
          "plot_bgcolor": "white",
          "polar": {
           "angularaxis": {
            "gridcolor": "#EBF0F8",
            "linecolor": "#EBF0F8",
            "ticks": ""
           },
           "bgcolor": "white",
           "radialaxis": {
            "gridcolor": "#EBF0F8",
            "linecolor": "#EBF0F8",
            "ticks": ""
           }
          },
          "scene": {
           "xaxis": {
            "backgroundcolor": "white",
            "gridcolor": "#DFE8F3",
            "gridwidth": 2,
            "linecolor": "#EBF0F8",
            "showbackground": true,
            "ticks": "",
            "zerolinecolor": "#EBF0F8"
           },
           "yaxis": {
            "backgroundcolor": "white",
            "gridcolor": "#DFE8F3",
            "gridwidth": 2,
            "linecolor": "#EBF0F8",
            "showbackground": true,
            "ticks": "",
            "zerolinecolor": "#EBF0F8"
           },
           "zaxis": {
            "backgroundcolor": "white",
            "gridcolor": "#DFE8F3",
            "gridwidth": 2,
            "linecolor": "#EBF0F8",
            "showbackground": true,
            "ticks": "",
            "zerolinecolor": "#EBF0F8"
           }
          },
          "shapedefaults": {
           "line": {
            "color": "#2a3f5f"
           }
          },
          "ternary": {
           "aaxis": {
            "gridcolor": "#DFE8F3",
            "linecolor": "#A2B1C6",
            "ticks": ""
           },
           "baxis": {
            "gridcolor": "#DFE8F3",
            "linecolor": "#A2B1C6",
            "ticks": ""
           },
           "bgcolor": "white",
           "caxis": {
            "gridcolor": "#DFE8F3",
            "linecolor": "#A2B1C6",
            "ticks": ""
           }
          },
          "title": {
           "x": 0.05
          },
          "xaxis": {
           "automargin": true,
           "gridcolor": "#EBF0F8",
           "linecolor": "#EBF0F8",
           "ticks": "",
           "title": {
            "standoff": 15
           },
           "zerolinecolor": "#EBF0F8",
           "zerolinewidth": 2
          },
          "yaxis": {
           "automargin": true,
           "gridcolor": "#EBF0F8",
           "linecolor": "#EBF0F8",
           "ticks": "",
           "title": {
            "standoff": 15
           },
           "zerolinecolor": "#EBF0F8",
           "zerolinewidth": 2
          }
         }
        },
        "title": {
         "text": "Pérdida durante el entrenamiento y validación (Mejor LR)"
        },
        "xaxis": {
         "title": {
          "text": "Epochs"
         }
        },
        "yaxis": {
         "title": {
          "text": "Pérdida (Loss)"
         }
        }
       }
      }
     },
     "metadata": {},
     "output_type": "display_data"
    },
    {
     "name": "stdout",
     "output_type": "stream",
     "text": [
      "\u001b[1m16/16\u001b[0m \u001b[32m━━━━━━━━━━━━━━━━━━━━\u001b[0m\u001b[37m\u001b[0m \u001b[1m0s\u001b[0m 4ms/step\n",
      "Tamaño de predictions: 500\n"
     ]
    },
    {
     "data": {
      "application/vnd.plotly.v1+json": {
       "config": {
        "plotlyServerURL": "https://plot.ly"
       },
       "data": [
        {
         "hovertemplate": "Valores Reales=%{x}<br>Predicciones=%{y}<extra></extra>",
         "legendgroup": "",
         "marker": {
          "color": "#636efa",
          "symbol": "circle"
         },
         "mode": "markers",
         "name": "",
         "orientation": "v",
         "showlegend": false,
         "type": "scatter",
         "x": [
          0.21658986175115208,
          0.1912442396313364,
          0.09216589861751151,
          0.12442396313364054,
          0.23732718894009214,
          0.1889400921658986,
          0.10138248847926268,
          0.22811059907834103,
          0.11981566820276496,
          0.052995391705069124,
          0.06682027649769584,
          0.23963133640552997,
          0.14746543778801843,
          0.3617511520737327,
          0.3087557603686636,
          0.07834101382488479,
          0.04377880184331797,
          0.020737327188940093,
          0.347926267281106,
          0.08755760368663595,
          0.2626728110599078,
          0.12442396313364054,
          0.13824884792626727,
          0.009216589861751154,
          0.023041474654377878,
          0.08986175115207373,
          0.05069124423963133,
          0.04608294930875576,
          0.004608294930875577,
          0.2626728110599078,
          0.22119815668202764,
          0.027649769585253454,
          0.2626728110599078,
          0.2073732718894009,
          0.07834101382488479,
          0.23502304147465436,
          0.1912442396313364,
          0.20506912442396313,
          0.20506912442396313,
          0.16359447004608293,
          0.03225806451612904,
          0.11059907834101382,
          0.0184331797235023,
          0.12211981566820276,
          0.048387096774193554,
          0.1129032258064516,
          0.10138248847926268,
          0.1497695852534562,
          0.08294930875576037,
          0.055299539170506916,
          0.027649769585253454,
          0.034562211981566816,
          0.08986175115207373,
          0.059907834101382486,
          0.1935483870967742,
          0.24193548387096775,
          0.04147465437788018,
          0.016129032258064516,
          0.3433179723502304,
          0.06221198156682028,
          0.22811059907834103,
          0.25115207373271886,
          0.19815668202764977,
          0.12903225806451613,
          0.1935483870967742,
          0.2995391705069124,
          0.052995391705069124,
          0.1728110599078341,
          0.2119815668202765,
          0.4608294930875576,
          0.10138248847926268,
          0.20046082949308755,
          0.19585253456221197,
          0.10138248847926268,
          0.12211981566820276,
          0.09907834101382487,
          0.016129032258064516,
          0.33410138248847926,
          0.152073732718894,
          0.41935483870967744,
          0.21658986175115208,
          0.03225806451612904,
          0.05069124423963133,
          0.07834101382488479,
          0.03225806451612904,
          0.10829493087557604,
          0.23963133640552997,
          0.3087557603686636,
          0.06221198156682028,
          0.22811059907834103,
          0.271889400921659,
          0.3294930875576037,
          0.016129032258064516,
          0.15898617511520738,
          0.0391705069124424,
          0.07834101382488479,
          0.08294930875576037,
          0.22811059907834103,
          0.1912442396313364,
          0.034562211981566816,
          0.12442396313364054,
          0.08755760368663595,
          0.023041474654377878,
          0.08986175115207373,
          0.14746543778801843,
          0.07603686635944701,
          0.06682027649769584,
          0.07834101382488479,
          0.1705069124423963,
          0.06682027649769584,
          0.0737327188940092,
          0.009216589861751154,
          0.055299539170506916,
          0.12672811059907835,
          0.18433179723502302,
          0.04608294930875576,
          0.1705069124423963,
          0.2926267281105991,
          0.19815668202764977,
          0.1705069124423963,
          0.04377880184331797,
          0.25115207373271886,
          0.1912442396313364,
          0.055299539170506916,
          0.009216589861751154,
          0.02534562211981567,
          0.15668202764976957,
          0.07834101382488479,
          0.18433179723502302,
          0.016129032258064516,
          0.24423963133640553,
          0.3617511520737327,
          0.2857142857142857,
          0.1935483870967742,
          0.05069124423963133,
          0.21658986175115208,
          0.057603686635944694,
          0.05069124423963133,
          0.23963133640552997,
          0.0391705069124424,
          0.059907834101382486,
          0.24884792626728108,
          0.08986175115207373,
          0.07834101382488479,
          0.3387096774193548,
          0.10599078341013823,
          0.03686635944700461,
          0.07834101382488479,
          0.055299539170506916,
          0.2626728110599078,
          0.21658986175115208,
          0.2119815668202765,
          0.11981566820276496,
          0.03225806451612904,
          0.18663594470046083,
          0.21889400921658986,
          0.15898617511520738,
          0.25806451612903225,
          0.25806451612903225,
          0.048387096774193554,
          0.1129032258064516,
          0.048387096774193554,
          0.16359447004608293,
          0.05069124423963133,
          0.10138248847926268,
          0.07834101382488479,
          0.08294930875576037,
          0.2857142857142857,
          0.2880184331797235,
          0.21658986175115208,
          0.0967741935483871,
          0.15898617511520738,
          0.04608294930875576,
          0.08755760368663595,
          0.1336405529953917,
          0.03686635944700461,
          0.1912442396313364,
          0.24423963133640553,
          0.23963133640552997,
          0.1543778801843318,
          0.04377880184331797,
          0.0737327188940092,
          0.20276497695852533,
          0.07834101382488479,
          0.057603686635944694,
          0.0184331797235023,
          0.08294930875576037,
          0.23732718894009214,
          0.4009216589861751,
          0.14516129032258063,
          0.055299539170506916,
          0.15898617511520738,
          0.21658986175115208,
          0.23963133640552997,
          0.10138248847926268,
          0.057603686635944694,
          0.15668202764976957,
          0.09447004608294929,
          0.2534562211981567,
          0.20046082949308755,
          0.06682027649769584,
          0.0737327188940092,
          0.0737327188940092,
          0.055299539170506916,
          0.03686635944700461,
          0.25806451612903225,
          0.04608294930875576,
          0.3456221198156682,
          0.1728110599078341,
          0.2626728110599078,
          0.18202764976958524,
          0.02534562211981567,
          0.24193548387096775,
          0.016129032258064516,
          0.1313364055299539,
          0.24193548387096775,
          0.04608294930875576,
          0.08755760368663595,
          0.3225806451612903,
          0.2834101382488479,
          0.18202764976958524,
          0.07834101382488479,
          0.22811059907834103,
          0.2235023041474654,
          0.07834101382488479,
          0.2119815668202765,
          0.1935483870967742,
          0.3064516129032258,
          0.43317972350230416,
          0.055299539170506916,
          0.2258064516129032,
          0.35023041474654376,
          0.3087557603686636,
          0.1705069124423963,
          0.152073732718894,
          0.1129032258064516,
          0.1889400921658986,
          0.3225806451612903,
          0.04608294930875576,
          0.17972350230414746,
          0.04377880184331797,
          0.20276497695852533,
          0.24193548387096775,
          0.05069124423963133,
          0.1129032258064516,
          -0.03686635944700461,
          0.12211981566820276,
          0.26036866359447003,
          0.15898617511520738,
          0.057603686635944694,
          0.11981566820276496,
          0.07142857142857142,
          0.04377880184331797,
          0.14746543778801843,
          0.04608294930875576,
          0.1912442396313364,
          0.19815668202764977,
          0.05069124423963133,
          0.059907834101382486,
          0.4009216589861751,
          0.05069124423963133,
          0.3387096774193548,
          0.059907834101382486,
          0.25115207373271886,
          0.24423963133640553,
          0.023041474654377878,
          0.06682027649769584,
          0.03686635944700461,
          0.1912442396313364,
          0.1336405529953917,
          0.03225806451612904,
          0.06221198156682028,
          0.19815668202764977,
          0.3548387096774194,
          0.15668202764976957,
          0.08294930875576037,
          0.06451612903225806,
          0.06682027649769584,
          0.06682027649769584,
          0.06451612903225806,
          0.14516129032258063,
          0.1935483870967742,
          0.10138248847926268,
          0.24423963133640553,
          0.22119815668202764,
          0.17511520737327188,
          0.22119815668202764,
          0.06912442396313365,
          0.23732718894009214,
          0.23963133640552997,
          0.07834101382488479,
          0.2235023041474654,
          0.027649769585253454,
          0.16589861751152074,
          0.18433179723502302,
          0.01382488479262673,
          0.20276497695852533,
          0.16589861751152074,
          0.07834101382488479,
          0.04377880184331797,
          0.11059907834101382,
          0.1705069124423963,
          0.2857142857142857,
          0.09216589861751151,
          0.07603686635944701,
          0.25115207373271886,
          0.059907834101382486,
          0.17972350230414746,
          0.08294930875576037,
          0.03225806451612904,
          0.25115207373271886,
          0.06682027649769584,
          0.055299539170506916,
          0.08294930875576037,
          0.04377880184331797,
          0.04147465437788018,
          0.09447004608294929,
          0.21889400921658986,
          0.009216589861751154,
          0.18433179723502302,
          0.21658986175115208,
          0.1912442396313364,
          0.07142857142857142,
          0.06451612903225806,
          0.03686635944700461,
          0.04608294930875576,
          0.17741935483870966,
          0.04377880184331797,
          0.1889400921658986,
          0.18663594470046083,
          0.20046082949308755,
          0.2096774193548387,
          0.10138248847926268,
          0.04608294930875576,
          0.5046082949308757,
          0.11751152073732718,
          0.057603686635944694,
          0.1543778801843318,
          0.016129032258064516,
          0.08294930875576037,
          0.11059907834101382,
          0.2119815668202765,
          0.2995391705069124,
          0.1705069124423963,
          0.10138248847926268,
          0.16359447004608293,
          0.07603686635944701,
          0.07142857142857142,
          0.41244239631336405,
          0.08986175115207373,
          0.08755760368663595,
          0.11751152073732718,
          0.21658986175115208,
          0.055299539170506916,
          0.06682027649769584,
          0.07834101382488479,
          0.3064516129032258,
          0.02534562211981567,
          0.12442396313364054,
          0.1336405529953917,
          0.23732718894009214,
          0.04377880184331797,
          0.02534562211981567,
          0.07142857142857142,
          0.052995391705069124,
          0.07603686635944701,
          0.1705069124423963,
          0.023041474654377878,
          0.0737327188940092,
          0.029953917050691246,
          0.17511520737327188,
          0.27419354838709675,
          0.048387096774193554,
          0.07834101382488479,
          0.3433179723502304,
          0.15898617511520738,
          0.4170506912442396,
          0.08986175115207373,
          0.24423963133640553,
          0.3018433179723502,
          0.006912442396313362,
          0.20046082949308755,
          0.27649769585253453,
          0.27649769585253453,
          0.1336405529953917,
          0.1152073732718894,
          0.08294930875576037,
          0.23963133640552997,
          0.04147465437788018,
          0.32027649769585254,
          0.11981566820276496,
          0.18202764976958524,
          0.16129032258064516,
          0.16359447004608293,
          0.02534562211981567,
          0.2073732718894009,
          0.07142857142857142,
          0.17741935483870966,
          0.1705069124423963,
          0.16359447004608293,
          0.07142857142857142,
          0.034562211981566816,
          0.07603686635944701,
          0.2142857142857143,
          0.1705069124423963,
          0.12442396313364054,
          0.055299539170506916,
          0.0391705069124424,
          0.21658986175115208,
          0.048387096774193554,
          0.07834101382488479,
          0.07834101382488479,
          0.09216589861751151,
          0.06912442396313365,
          0.26036866359447003,
          0.055299539170506916,
          0.07834101382488479,
          0.04377880184331797,
          0.22811059907834103,
          0.10829493087557604,
          0.18202764976958524,
          0.0391705069124424,
          0.08294930875576037,
          0.25806451612903225,
          0.016129032258064516,
          0.06682027649769584,
          0.06682027649769584,
          0.07142857142857142,
          0.1359447004608295,
          0.07142857142857142,
          0.12442396313364054,
          0.08986175115207373,
          0.4400921658986175,
          0.04377880184331797,
          0.10829493087557604,
          0.22811059907834103,
          0.2857142857142857,
          0.2258064516129032,
          0.1705069124423963,
          0.07834101382488479,
          0.1728110599078341,
          0.059907834101382486,
          0.06682027649769584,
          0.14285714285714285,
          0.10368663594470046,
          0.14285714285714285,
          0.055299539170506916,
          0.059907834101382486,
          0.055299539170506916,
          0.1935483870967742,
          0.1935483870967742,
          0.1935483870967742,
          0.3686635944700461,
          0.08064516129032259,
          0.06682027649769584,
          0.1705069124423963,
          0.05069124423963133,
          0.19585253456221197,
          0.22119815668202764,
          0.12442396313364054,
          0.3410138248847926,
          0.1152073732718894,
          0.19815668202764977,
          0.1129032258064516,
          0.04377880184331797,
          0.18663594470046083,
          0.12442396313364054,
          0.1497695852534562,
          0.1935483870967742,
          0.10138248847926268,
          0.01382488479262673,
          0.25115207373271886,
          0.0391705069124424,
          0.22811059907834103,
          0.19815668202764977,
          0.07834101382488479,
          0.1129032258064516,
          0.271889400921659,
          0.152073732718894,
          0.06221198156682028,
          0.0391705069124424,
          0.08986175115207373,
          0.0737327188940092,
          0.2626728110599078,
          0.11059907834101382,
          0.14746543778801843,
          0.0391705069124424,
          0.3456221198156682,
          0.1543778801843318,
          0.10138248847926268,
          0.12442396313364054,
          0.25115207373271886,
          0.1336405529953917,
          0.2995391705069124,
          0.41244239631336405,
          0.04147465437788018,
          0.02534562211981567,
          0.07834101382488479,
          0.10138248847926268,
          0.16129032258064516
         ],
         "xaxis": "x",
         "y": [
          0.2168920934200287,
          0.21106243133544922,
          0.19549712538719177,
          0.1992558240890503,
          0.21257628500461578,
          0.1990070790052414,
          0.08031285554170609,
          0.22249475121498108,
          0.20667938888072968,
          0.06418779492378235,
          0.06413163244724274,
          0.24739353358745575,
          0.20023398101329803,
          0.21681131422519684,
          0.22975021600723267,
          0.06235940009355545,
          0.059654153883457184,
          0.06247033178806305,
          0.26867231726646423,
          0.07127747684717178,
          0.1978984773159027,
          0.14587774872779846,
          0.13801753520965576,
          0.031537383794784546,
          0.037621233612298965,
          0.12383246421813965,
          0.062865249812603,
          0.060554638504981995,
          0.029823612421751022,
          0.1978984773159027,
          0.22744891047477722,
          0.0444268062710762,
          0.19873720407485962,
          0.20343342423439026,
          0.08019056171178818,
          0.22348716855049133,
          0.13536541163921356,
          0.19008958339691162,
          0.23953749239444733,
          0.1773655116558075,
          0.05930349975824356,
          0.06918081641197205,
          0.021821491420269012,
          0.21044093370437622,
          0.061363331973552704,
          0.13134512305259705,
          0.07925578206777573,
          0.14923593401908875,
          0.0724724754691124,
          0.07307536154985428,
          0.04464941844344139,
          0.0650576576590538,
          0.07160969823598862,
          0.06353937834501266,
          0.2335587739944458,
          0.19463932514190674,
          0.06911639124155045,
          0.056940093636512756,
          0.3454239070415497,
          0.05758003145456314,
          0.2283025085926056,
          0.23346582055091858,
          0.23469994962215424,
          0.18707767128944397,
          0.14445161819458008,
          0.18474078178405762,
          0.0685422271490097,
          0.19622370600700378,
          0.2126154601573944,
          0.360101580619812,
          0.15227171778678894,
          0.21077880263328552,
          0.12114492058753967,
          0.15227171778678894,
          0.22632873058319092,
          0.22460874915122986,
          0.03485081344842911,
          0.2341979593038559,
          0.1717960238456726,
          0.41572555899620056,
          0.22487293183803558,
          0.06520075350999832,
          0.07386679202318192,
          0.07687138766050339,
          0.07280388474464417,
          0.1493825912475586,
          0.20612883567810059,
          0.24784545600414276,
          0.05530434474349022,
          0.22326558828353882,
          0.24752961099147797,
          0.2377401739358902,
          0.0694703608751297,
          0.19703269004821777,
          0.040032580494880676,
          0.06972914934158325,
          0.16558480262756348,
          0.24238817393779755,
          0.22311590611934662,
          0.06114809215068817,
          0.14587774872779846,
          0.06297950446605682,
          0.037621233612298965,
          0.06828296184539795,
          0.07153435796499252,
          0.07508552819490433,
          0.06812617927789688,
          0.07687138766050339,
          0.20674479007720947,
          0.06812617927789688,
          0.07121807336807251,
          0.04305946081876755,
          0.07604555040597916,
          0.1331177055835724,
          0.20048019289970398,
          0.07129272073507309,
          0.20536135137081146,
          0.18093186616897583,
          0.20633888244628906,
          0.20595687627792358,
          0.06604588031768799,
          0.27557045221328735,
          0.21106243133544922,
          0.07307536154985428,
          0.052204154431819916,
          0.07758926600217819,
          0.14462721347808838,
          0.07194450497627258,
          0.2071821540594101,
          0.03750031441450119,
          0.22647669911384583,
          0.21681131422519684,
          0.1060093492269516,
          0.22576570510864258,
          0.05138557031750679,
          0.20434421300888062,
          0.08238416165113449,
          0.06870424747467041,
          0.1919478476047516,
          0.040032584220170975,
          0.06398575007915497,
          0.24284370243549347,
          0.08253180980682373,
          0.0747625008225441,
          0.22500918805599213,
          0.2620335817337036,
          0.05918778479099274,
          0.07915744930505753,
          0.0736931785941124,
          0.24551980197429657,
          0.24827279150485992,
          0.19734233617782593,
          0.07417391240596771,
          0.07093111425638199,
          0.20963452756404877,
          0.22304460406303406,
          0.1646828055381775,
          0.258698433637619,
          0.2369002252817154,
          0.06100459396839142,
          0.13134512305259705,
          0.061363331973552704,
          0.1684555560350418,
          0.05905505269765854,
          0.0792425125837326,
          0.07417909055948257,
          0.08054382354021072,
          0.24447469413280487,
          0.24673232436180115,
          0.21064478158950806,
          0.07322914898395538,
          0.07123885303735733,
          0.05454297363758087,
          0.15015944838523865,
          0.1666061133146286,
          0.05322574824094772,
          0.18873360753059387,
          0.09125515073537827,
          0.2499646693468094,
          0.1783524453639984,
          0.07160235941410065,
          0.05201452225446701,
          0.1851777732372284,
          0.07137325406074524,
          0.07600275427103043,
          0.04226164147257805,
          0.0755356177687645,
          0.2230612188577652,
          0.270549476146698,
          0.1877056062221527,
          0.06569714099168777,
          0.08253180980682373,
          0.24827279150485992,
          0.20417805016040802,
          0.13400743901729584,
          0.06683889031410217,
          0.21774646639823914,
          0.06888985633850098,
          0.27052146196365356,
          0.21546891331672668,
          0.06464189291000366,
          0.07349324226379395,
          0.08057498186826706,
          0.15022516250610352,
          0.05400881916284561,
          0.2369002252817154,
          0.056817084550857544,
          0.2507728040218353,
          0.20578917860984802,
          0.2546223998069763,
          0.1084372028708458,
          0.06178293377161026,
          0.1957772672176361,
          0.0694703608751297,
          0.2076907902956009,
          0.2517620325088501,
          0.06487416476011276,
          0.08206555992364883,
          0.297100692987442,
          0.23182524740695953,
          0.19847559928894043,
          0.05745972692966461,
          0.20902733504772186,
          0.24523098766803741,
          0.06671169400215149,
          0.2126154601573944,
          0.24896664917469025,
          0.21012912690639496,
          0.24258986115455627,
          0.06258708983659744,
          0.2179596722126007,
          0.2769469618797302,
          0.17491090297698975,
          0.23151588439941406,
          0.20942431688308716,
          0.13767722249031067,
          0.06259442120790482,
          0.23227013647556305,
          0.06217432767152786,
          0.18975061178207397,
          0.07207310944795609,
          0.20999570190906525,
          0.2078501135110855,
          0.06756754964590073,
          0.062045976519584656,
          0.0665712058544159,
          0.21044093370437622,
          0.18467393517494202,
          0.22780829668045044,
          0.0695154219865799,
          0.07417391240596771,
          0.06457789987325668,
          0.07207310944795609,
          0.17462077736854553,
          0.055887360125780106,
          0.19166168570518494,
          0.1885361671447754,
          0.06756754964590073,
          0.06434375047683716,
          0.20169618725776672,
          0.07533027976751328,
          0.3256448805332184,
          0.06353937834501266,
          0.20329204201698303,
          0.14289800822734833,
          0.03436381369829178,
          0.07572062313556671,
          0.06199384480714798,
          0.18930694460868835,
          0.20850040018558502,
          0.07093111425638199,
          0.07194425910711288,
          0.26414600014686584,
          0.27926281094551086,
          0.1924610435962677,
          0.0663565993309021,
          0.07791710644960403,
          0.07442732900381088,
          0.06830304861068726,
          0.07371819019317627,
          0.1002378761768341,
          0.2134958803653717,
          0.13400743901729584,
          0.20884473621845245,
          0.24820716679096222,
          0.20052121579647064,
          0.23382943868637085,
          0.06286338716745377,
          0.17789363861083984,
          0.24319690465927124,
          0.06023125723004341,
          0.2249855250120163,
          0.0444268062710762,
          0.20663319528102875,
          0.1670648157596588,
          0.03324347734451294,
          0.26184114813804626,
          0.20663319528102875,
          0.07375495135784149,
          0.06604588031768799,
          0.208516925573349,
          0.1163778156042099,
          0.15982703864574432,
          0.07890566438436508,
          0.06624583899974823,
          0.27557045221328735,
          0.06776747852563858,
          0.20675422251224518,
          0.0632251501083374,
          0.05563103407621384,
          0.23456646502017975,
          0.07436729967594147,
          0.0736931785941124,
          0.0663565993309021,
          0.05858001857995987,
          0.06285041570663452,
          0.08253180980682373,
          0.20858097076416016,
          0.031537383794784546,
          0.22296300530433655,
          0.2263808250427246,
          0.20941376686096191,
          0.07333123683929443,
          0.07745113968849182,
          0.05679669231176376,
          0.07449730485677719,
          0.22129200398921967,
          0.0819619745016098,
          0.21960844099521637,
          0.23076777160167694,
          0.21850192546844482,
          0.20784951746463776,
          0.13877788186073303,
          0.0718698650598526,
          0.26550543308258057,
          0.19258317351341248,
          0.0695154219865799,
          0.21725742518901825,
          0.02943195402622223,
          0.07322631776332855,
          0.06578034907579422,
          0.2126154601573944,
          0.31277549266815186,
          0.17563489079475403,
          0.2379521280527115,
          0.2134285271167755,
          0.07437974214553833,
          0.06457789987325668,
          0.26047036051750183,
          0.06031917780637741,
          0.06921391189098358,
          0.11587588489055634,
          0.21081337332725525,
          0.06243111938238144,
          0.0795387253165245,
          0.07052917778491974,
          0.20011559128761292,
          0.03939685598015785,
          0.14587774872779846,
          0.14958810806274414,
          0.19862131774425507,
          0.048729874193668365,
          0.05568282678723335,
          0.06457789987325668,
          0.06778306514024734,
          0.06624583899974823,
          0.17563489079475403,
          0.03436381369829178,
          0.07290629297494888,
          0.07304057478904724,
          0.1944475620985031,
          0.20858360826969147,
          0.045217134058475494,
          0.04009690880775452,
          0.21457691490650177,
          0.1505717933177948,
          0.25519251823425293,
          0.06838079541921616,
          0.1928749680519104,
          0.2065071165561676,
          0.029823612421751022,
          0.22371384501457214,
          0.2439306527376175,
          0.2651523947715759,
          0.1666061133146286,
          0.1395099014043808,
          0.07418682426214218,
          0.2219274640083313,
          0.06824731826782227,
          0.22465470433235168,
          0.07417391240596771,
          0.1955319046974182,
          0.244455486536026,
          0.06968235969543457,
          0.06178293377161026,
          0.19525226950645447,
          0.06766917556524277,
          0.2072780430316925,
          0.2149747759103775,
          0.1684555560350418,
          0.06104957312345505,
          0.044231656938791275,
          0.07508552819490433,
          0.2228042483329773,
          0.18557403981685638,
          0.08158821612596512,
          0.06569714099168777,
          0.05494271218776703,
          0.17976799607276917,
          0.05364927649497986,
          0.07706868648529053,
          0.07706868648529053,
          0.06824126839637756,
          0.06286337971687317,
          0.22867152094841003,
          0.0597398616373539,
          0.07221698760986328,
          0.0592951662838459,
          0.24238817393779755,
          0.08770579099655151,
          0.1855344921350479,
          0.05967726558446884,
          0.0749540627002716,
          0.23357582092285156,
          0.0694703608751297,
          0.06350509077310562,
          0.09501650184392929,
          0.07970684766769409,
          0.07038518786430359,
          0.07393065840005875,
          0.15706175565719604,
          0.0760805681347847,
          0.3617883026599884,
          0.07160235941410065,
          0.1493825912475586,
          0.24238817393779755,
          0.15982703864574432,
          0.21616792678833008,
          0.189283087849617,
          0.06803916394710541,
          0.1958635151386261,
          0.05055532976984978,
          0.0682205855846405,
          0.16536779701709747,
          0.07914061844348907,
          0.15914055705070496,
          0.07276754826307297,
          0.07028309255838394,
          0.06183262914419174,
          0.2168150395154953,
          0.24896664917469025,
          0.18932390213012695,
          0.2367791384458542,
          0.06951980292797089,
          0.06413163244724274,
          0.1573392003774643,
          0.050715263932943344,
          0.2004781812429428,
          0.2215748429298401,
          0.07259893417358398,
          0.2639330327510834,
          0.1662096083164215,
          0.22847333550453186,
          0.07308070361614227,
          0.059061333537101746,
          0.23189805448055267,
          0.21678617596626282,
          0.1715434193611145,
          0.21338890492916107,
          0.07265119254589081,
          0.03324347734451294,
          0.2294958382844925,
          0.06673587113618851,
          0.24238817393779755,
          0.178449809551239,
          0.07221698760986328,
          0.06930036842823029,
          0.1637578159570694,
          0.1717960238456726,
          0.05530434101819992,
          0.057297639548778534,
          0.07455932348966599,
          0.07290629297494888,
          0.25092393159866333,
          0.06578034907579422,
          0.06779695302248001,
          0.040032584220170975,
          0.22807541489601135,
          0.21725742518901825,
          0.19514165818691254,
          0.07476049661636353,
          0.2405042201280594,
          0.20262925326824188,
          0.31277549266815186,
          0.3251703679561615,
          0.05394234135746956,
          0.06178293377161026,
          0.07549721002578735,
          0.07925578206777573,
          0.20912428200244904
         ],
         "yaxis": "y"
        }
       ],
       "layout": {
        "legend": {
         "tracegroupgap": 0
        },
        "shapes": [
         {
          "line": {
           "color": "red",
           "dash": "dot"
          },
          "type": "line",
          "x0": -0.03686635944700461,
          "x1": 0.5046082949308757,
          "y0": -0.03686635944700461,
          "y1": 0.5046082949308757
         }
        ],
        "template": {
         "data": {
          "bar": [
           {
            "error_x": {
             "color": "#2a3f5f"
            },
            "error_y": {
             "color": "#2a3f5f"
            },
            "marker": {
             "line": {
              "color": "white",
              "width": 0.5
             },
             "pattern": {
              "fillmode": "overlay",
              "size": 10,
              "solidity": 0.2
             }
            },
            "type": "bar"
           }
          ],
          "barpolar": [
           {
            "marker": {
             "line": {
              "color": "white",
              "width": 0.5
             },
             "pattern": {
              "fillmode": "overlay",
              "size": 10,
              "solidity": 0.2
             }
            },
            "type": "barpolar"
           }
          ],
          "carpet": [
           {
            "aaxis": {
             "endlinecolor": "#2a3f5f",
             "gridcolor": "#C8D4E3",
             "linecolor": "#C8D4E3",
             "minorgridcolor": "#C8D4E3",
             "startlinecolor": "#2a3f5f"
            },
            "baxis": {
             "endlinecolor": "#2a3f5f",
             "gridcolor": "#C8D4E3",
             "linecolor": "#C8D4E3",
             "minorgridcolor": "#C8D4E3",
             "startlinecolor": "#2a3f5f"
            },
            "type": "carpet"
           }
          ],
          "choropleth": [
           {
            "colorbar": {
             "outlinewidth": 0,
             "ticks": ""
            },
            "type": "choropleth"
           }
          ],
          "contour": [
           {
            "colorbar": {
             "outlinewidth": 0,
             "ticks": ""
            },
            "colorscale": [
             [
              0,
              "#0d0887"
             ],
             [
              0.1111111111111111,
              "#46039f"
             ],
             [
              0.2222222222222222,
              "#7201a8"
             ],
             [
              0.3333333333333333,
              "#9c179e"
             ],
             [
              0.4444444444444444,
              "#bd3786"
             ],
             [
              0.5555555555555556,
              "#d8576b"
             ],
             [
              0.6666666666666666,
              "#ed7953"
             ],
             [
              0.7777777777777778,
              "#fb9f3a"
             ],
             [
              0.8888888888888888,
              "#fdca26"
             ],
             [
              1,
              "#f0f921"
             ]
            ],
            "type": "contour"
           }
          ],
          "contourcarpet": [
           {
            "colorbar": {
             "outlinewidth": 0,
             "ticks": ""
            },
            "type": "contourcarpet"
           }
          ],
          "heatmap": [
           {
            "colorbar": {
             "outlinewidth": 0,
             "ticks": ""
            },
            "colorscale": [
             [
              0,
              "#0d0887"
             ],
             [
              0.1111111111111111,
              "#46039f"
             ],
             [
              0.2222222222222222,
              "#7201a8"
             ],
             [
              0.3333333333333333,
              "#9c179e"
             ],
             [
              0.4444444444444444,
              "#bd3786"
             ],
             [
              0.5555555555555556,
              "#d8576b"
             ],
             [
              0.6666666666666666,
              "#ed7953"
             ],
             [
              0.7777777777777778,
              "#fb9f3a"
             ],
             [
              0.8888888888888888,
              "#fdca26"
             ],
             [
              1,
              "#f0f921"
             ]
            ],
            "type": "heatmap"
           }
          ],
          "heatmapgl": [
           {
            "colorbar": {
             "outlinewidth": 0,
             "ticks": ""
            },
            "colorscale": [
             [
              0,
              "#0d0887"
             ],
             [
              0.1111111111111111,
              "#46039f"
             ],
             [
              0.2222222222222222,
              "#7201a8"
             ],
             [
              0.3333333333333333,
              "#9c179e"
             ],
             [
              0.4444444444444444,
              "#bd3786"
             ],
             [
              0.5555555555555556,
              "#d8576b"
             ],
             [
              0.6666666666666666,
              "#ed7953"
             ],
             [
              0.7777777777777778,
              "#fb9f3a"
             ],
             [
              0.8888888888888888,
              "#fdca26"
             ],
             [
              1,
              "#f0f921"
             ]
            ],
            "type": "heatmapgl"
           }
          ],
          "histogram": [
           {
            "marker": {
             "pattern": {
              "fillmode": "overlay",
              "size": 10,
              "solidity": 0.2
             }
            },
            "type": "histogram"
           }
          ],
          "histogram2d": [
           {
            "colorbar": {
             "outlinewidth": 0,
             "ticks": ""
            },
            "colorscale": [
             [
              0,
              "#0d0887"
             ],
             [
              0.1111111111111111,
              "#46039f"
             ],
             [
              0.2222222222222222,
              "#7201a8"
             ],
             [
              0.3333333333333333,
              "#9c179e"
             ],
             [
              0.4444444444444444,
              "#bd3786"
             ],
             [
              0.5555555555555556,
              "#d8576b"
             ],
             [
              0.6666666666666666,
              "#ed7953"
             ],
             [
              0.7777777777777778,
              "#fb9f3a"
             ],
             [
              0.8888888888888888,
              "#fdca26"
             ],
             [
              1,
              "#f0f921"
             ]
            ],
            "type": "histogram2d"
           }
          ],
          "histogram2dcontour": [
           {
            "colorbar": {
             "outlinewidth": 0,
             "ticks": ""
            },
            "colorscale": [
             [
              0,
              "#0d0887"
             ],
             [
              0.1111111111111111,
              "#46039f"
             ],
             [
              0.2222222222222222,
              "#7201a8"
             ],
             [
              0.3333333333333333,
              "#9c179e"
             ],
             [
              0.4444444444444444,
              "#bd3786"
             ],
             [
              0.5555555555555556,
              "#d8576b"
             ],
             [
              0.6666666666666666,
              "#ed7953"
             ],
             [
              0.7777777777777778,
              "#fb9f3a"
             ],
             [
              0.8888888888888888,
              "#fdca26"
             ],
             [
              1,
              "#f0f921"
             ]
            ],
            "type": "histogram2dcontour"
           }
          ],
          "mesh3d": [
           {
            "colorbar": {
             "outlinewidth": 0,
             "ticks": ""
            },
            "type": "mesh3d"
           }
          ],
          "parcoords": [
           {
            "line": {
             "colorbar": {
              "outlinewidth": 0,
              "ticks": ""
             }
            },
            "type": "parcoords"
           }
          ],
          "pie": [
           {
            "automargin": true,
            "type": "pie"
           }
          ],
          "scatter": [
           {
            "fillpattern": {
             "fillmode": "overlay",
             "size": 10,
             "solidity": 0.2
            },
            "type": "scatter"
           }
          ],
          "scatter3d": [
           {
            "line": {
             "colorbar": {
              "outlinewidth": 0,
              "ticks": ""
             }
            },
            "marker": {
             "colorbar": {
              "outlinewidth": 0,
              "ticks": ""
             }
            },
            "type": "scatter3d"
           }
          ],
          "scattercarpet": [
           {
            "marker": {
             "colorbar": {
              "outlinewidth": 0,
              "ticks": ""
             }
            },
            "type": "scattercarpet"
           }
          ],
          "scattergeo": [
           {
            "marker": {
             "colorbar": {
              "outlinewidth": 0,
              "ticks": ""
             }
            },
            "type": "scattergeo"
           }
          ],
          "scattergl": [
           {
            "marker": {
             "colorbar": {
              "outlinewidth": 0,
              "ticks": ""
             }
            },
            "type": "scattergl"
           }
          ],
          "scattermapbox": [
           {
            "marker": {
             "colorbar": {
              "outlinewidth": 0,
              "ticks": ""
             }
            },
            "type": "scattermapbox"
           }
          ],
          "scatterpolar": [
           {
            "marker": {
             "colorbar": {
              "outlinewidth": 0,
              "ticks": ""
             }
            },
            "type": "scatterpolar"
           }
          ],
          "scatterpolargl": [
           {
            "marker": {
             "colorbar": {
              "outlinewidth": 0,
              "ticks": ""
             }
            },
            "type": "scatterpolargl"
           }
          ],
          "scatterternary": [
           {
            "marker": {
             "colorbar": {
              "outlinewidth": 0,
              "ticks": ""
             }
            },
            "type": "scatterternary"
           }
          ],
          "surface": [
           {
            "colorbar": {
             "outlinewidth": 0,
             "ticks": ""
            },
            "colorscale": [
             [
              0,
              "#0d0887"
             ],
             [
              0.1111111111111111,
              "#46039f"
             ],
             [
              0.2222222222222222,
              "#7201a8"
             ],
             [
              0.3333333333333333,
              "#9c179e"
             ],
             [
              0.4444444444444444,
              "#bd3786"
             ],
             [
              0.5555555555555556,
              "#d8576b"
             ],
             [
              0.6666666666666666,
              "#ed7953"
             ],
             [
              0.7777777777777778,
              "#fb9f3a"
             ],
             [
              0.8888888888888888,
              "#fdca26"
             ],
             [
              1,
              "#f0f921"
             ]
            ],
            "type": "surface"
           }
          ],
          "table": [
           {
            "cells": {
             "fill": {
              "color": "#EBF0F8"
             },
             "line": {
              "color": "white"
             }
            },
            "header": {
             "fill": {
              "color": "#C8D4E3"
             },
             "line": {
              "color": "white"
             }
            },
            "type": "table"
           }
          ]
         },
         "layout": {
          "annotationdefaults": {
           "arrowcolor": "#2a3f5f",
           "arrowhead": 0,
           "arrowwidth": 1
          },
          "autotypenumbers": "strict",
          "coloraxis": {
           "colorbar": {
            "outlinewidth": 0,
            "ticks": ""
           }
          },
          "colorscale": {
           "diverging": [
            [
             0,
             "#8e0152"
            ],
            [
             0.1,
             "#c51b7d"
            ],
            [
             0.2,
             "#de77ae"
            ],
            [
             0.3,
             "#f1b6da"
            ],
            [
             0.4,
             "#fde0ef"
            ],
            [
             0.5,
             "#f7f7f7"
            ],
            [
             0.6,
             "#e6f5d0"
            ],
            [
             0.7,
             "#b8e186"
            ],
            [
             0.8,
             "#7fbc41"
            ],
            [
             0.9,
             "#4d9221"
            ],
            [
             1,
             "#276419"
            ]
           ],
           "sequential": [
            [
             0,
             "#0d0887"
            ],
            [
             0.1111111111111111,
             "#46039f"
            ],
            [
             0.2222222222222222,
             "#7201a8"
            ],
            [
             0.3333333333333333,
             "#9c179e"
            ],
            [
             0.4444444444444444,
             "#bd3786"
            ],
            [
             0.5555555555555556,
             "#d8576b"
            ],
            [
             0.6666666666666666,
             "#ed7953"
            ],
            [
             0.7777777777777778,
             "#fb9f3a"
            ],
            [
             0.8888888888888888,
             "#fdca26"
            ],
            [
             1,
             "#f0f921"
            ]
           ],
           "sequentialminus": [
            [
             0,
             "#0d0887"
            ],
            [
             0.1111111111111111,
             "#46039f"
            ],
            [
             0.2222222222222222,
             "#7201a8"
            ],
            [
             0.3333333333333333,
             "#9c179e"
            ],
            [
             0.4444444444444444,
             "#bd3786"
            ],
            [
             0.5555555555555556,
             "#d8576b"
            ],
            [
             0.6666666666666666,
             "#ed7953"
            ],
            [
             0.7777777777777778,
             "#fb9f3a"
            ],
            [
             0.8888888888888888,
             "#fdca26"
            ],
            [
             1,
             "#f0f921"
            ]
           ]
          },
          "colorway": [
           "#636efa",
           "#EF553B",
           "#00cc96",
           "#ab63fa",
           "#FFA15A",
           "#19d3f3",
           "#FF6692",
           "#B6E880",
           "#FF97FF",
           "#FECB52"
          ],
          "font": {
           "color": "#2a3f5f"
          },
          "geo": {
           "bgcolor": "white",
           "lakecolor": "white",
           "landcolor": "white",
           "showlakes": true,
           "showland": true,
           "subunitcolor": "#C8D4E3"
          },
          "hoverlabel": {
           "align": "left"
          },
          "hovermode": "closest",
          "mapbox": {
           "style": "light"
          },
          "paper_bgcolor": "white",
          "plot_bgcolor": "white",
          "polar": {
           "angularaxis": {
            "gridcolor": "#EBF0F8",
            "linecolor": "#EBF0F8",
            "ticks": ""
           },
           "bgcolor": "white",
           "radialaxis": {
            "gridcolor": "#EBF0F8",
            "linecolor": "#EBF0F8",
            "ticks": ""
           }
          },
          "scene": {
           "xaxis": {
            "backgroundcolor": "white",
            "gridcolor": "#DFE8F3",
            "gridwidth": 2,
            "linecolor": "#EBF0F8",
            "showbackground": true,
            "ticks": "",
            "zerolinecolor": "#EBF0F8"
           },
           "yaxis": {
            "backgroundcolor": "white",
            "gridcolor": "#DFE8F3",
            "gridwidth": 2,
            "linecolor": "#EBF0F8",
            "showbackground": true,
            "ticks": "",
            "zerolinecolor": "#EBF0F8"
           },
           "zaxis": {
            "backgroundcolor": "white",
            "gridcolor": "#DFE8F3",
            "gridwidth": 2,
            "linecolor": "#EBF0F8",
            "showbackground": true,
            "ticks": "",
            "zerolinecolor": "#EBF0F8"
           }
          },
          "shapedefaults": {
           "line": {
            "color": "#2a3f5f"
           }
          },
          "ternary": {
           "aaxis": {
            "gridcolor": "#DFE8F3",
            "linecolor": "#A2B1C6",
            "ticks": ""
           },
           "baxis": {
            "gridcolor": "#DFE8F3",
            "linecolor": "#A2B1C6",
            "ticks": ""
           },
           "bgcolor": "white",
           "caxis": {
            "gridcolor": "#DFE8F3",
            "linecolor": "#A2B1C6",
            "ticks": ""
           }
          },
          "title": {
           "x": 0.05
          },
          "xaxis": {
           "automargin": true,
           "gridcolor": "#EBF0F8",
           "linecolor": "#EBF0F8",
           "ticks": "",
           "title": {
            "standoff": 15
           },
           "zerolinecolor": "#EBF0F8",
           "zerolinewidth": 2
          },
          "yaxis": {
           "automargin": true,
           "gridcolor": "#EBF0F8",
           "linecolor": "#EBF0F8",
           "ticks": "",
           "title": {
            "standoff": 15
           },
           "zerolinecolor": "#EBF0F8",
           "zerolinewidth": 2
          }
         }
        },
        "title": {
         "text": "Valores Reales vs Predicciones (Mejor LR)"
        },
        "xaxis": {
         "anchor": "y",
         "domain": [
          0,
          1
         ],
         "title": {
          "text": "Valores Reales"
         }
        },
        "yaxis": {
         "anchor": "x",
         "domain": [
          0,
          1
         ],
         "title": {
          "text": "Predicciones"
         }
        }
       }
      }
     },
     "metadata": {},
     "output_type": "display_data"
    }
   ],
   "source": [
    "# Encontrar el mejor learning rate basado en validation_loss\n",
    "best_lr = results_lr.loc[results_lr[\"validation_loss\"].idxmin(), \"learning_rate\"]\n",
    "\n",
    "early_stopping = EarlyStopping(\n",
    "    monitor=\"val_loss\",\n",
    "    patience=5,# Incrementar para prevenir paradas prematuras\n",
    "    restore_best_weights=True # Restaurar mejores pesos\n",
    ")\n",
    "\n",
    "# Entrenar el mejor modelo con el mejor learning rate\n",
    "model = Sequential([\n",
    "    Input(shape=(X_train.shape[1],)),\n",
    "    Dense(units=128, activation='relu'),\n",
    "    Dropout(0.2),  # Añadir Dropout para evitar overfitting\n",
    "    Dense(units=64, activation='relu'),\n",
    "    Dropout(0.2),\n",
    "    Dense(units=32, activation='relu'),\n",
    "    Dropout(0.2),\n",
    "    Dense(units=8, activation='relu'),\n",
    "    Dense(units=1)\n",
    "])    \n",
    "\n",
    "model.compile(optimizer=Adam(learning_rate=best_lr), loss='mean_absolute_error')\n",
    "\n",
    "\n",
    "# Entrenar nuevamente el mejor modelo\n",
    "history = model.fit(\n",
    "    X_train, y_train,\n",
    "    validation_split=0.2,\n",
    "    epochs=100,  # Más epochs para ajustar bien\n",
    "    batch_size=32,\n",
    "    callbacks=[early_stopping],\n",
    "    verbose=1\n",
    ")\n",
    "\n",
    "fig = go.Figure()\n",
    "fig.add_trace(go.Scatter(y=history.history['loss'], mode='lines', name='Train Loss', line=dict(color='blue')))\n",
    "fig.add_trace(go.Scatter(y=history.history['val_loss'], mode='lines', name='Validation Loss', line=dict(color='orange')))\n",
    "fig.update_layout(title=\"Pérdida durante el entrenamiento y validación (Mejor LR)\",\n",
    "                  xaxis_title=\"Epochs\", yaxis_title=\"Pérdida (Loss)\", template=\"plotly_white\",\n",
    "                  legend=dict(x=0.5, y=1, xanchor='center', orientation='h'))\n",
    "fig.show()\n",
    "\n",
    "# Realizar predicciones con el conjunto de test\n",
    "predictions = model.predict(X_test)\n",
    "\n",
    "print(f\"Tamaño de predictions: {len(predictions.ravel())}\")\n",
    "\n",
    "resultados_df = pd.DataFrame({\n",
    "    \"Valores Reales\": y_test,\n",
    "    \"Predicciones\": predictions.ravel()  # predictions tiene 2D, ravel para transformar en 1D para la creación del df\n",
    "})\n",
    "\n",
    "fig = px.scatter(\n",
    "    resultados_df,\n",
    "    x=\"Valores Reales\",\n",
    "    y=\"Predicciones\",\n",
    "    title=\"Valores Reales vs Predicciones (Mejor LR)\",\n",
    "    template=\"plotly_white\"\n",
    ")\n",
    "\n",
    "# Añadir una línea de referencia donde las predicciones coinciden perfectamente con los valores reales\n",
    "fig.add_shape(\n",
    "    type=\"line\",\n",
    "    x0=resultados_df[\"Valores Reales\"].min(),\n",
    "    y0=resultados_df[\"Valores Reales\"].min(),\n",
    "    x1=resultados_df[\"Valores Reales\"].max(),\n",
    "    y1=resultados_df[\"Valores Reales\"].max(),\n",
    "    line=dict(color=\"red\", dash=\"dot\")\n",
    ")\n",
    "\n",
    "fig.show()"
   ]
  },
  {
   "cell_type": "code",
   "execution_count": 8,
   "metadata": {},
   "outputs": [
    {
     "name": "stdout",
     "output_type": "stream",
     "text": [
      "Métricas de evaluación del segundo modelo:\n",
      "MAE: 0.032441394229981754\n",
      "RMSE: 0.04789550221297124\n",
      "R2: 0.7530571714033774\n"
     ]
    }
   ],
   "source": [
    "# Llamar la función definida en el primer modelo\n",
    "mae, rmse, r2 = calculate_metrics(y_test, predictions.ravel())\n",
    "\n",
    "print(\"Métricas de evaluación del segundo modelo:\")\n",
    "print(f\"MAE: {mae}\")\n",
    "print(f\"RMSE: {rmse}\")\n",
    "print(f\"R2: {r2}\")\n"
   ]
  },
  {
   "cell_type": "code",
   "execution_count": null,
   "metadata": {},
   "outputs": [],
   "source": []
  },
  {
   "cell_type": "code",
   "execution_count": null,
   "metadata": {},
   "outputs": [],
   "source": []
  },
  {
   "cell_type": "code",
   "execution_count": null,
   "metadata": {},
   "outputs": [],
   "source": []
  },
  {
   "cell_type": "code",
   "execution_count": null,
   "metadata": {},
   "outputs": [],
   "source": []
  },
  {
   "cell_type": "code",
   "execution_count": null,
   "metadata": {},
   "outputs": [],
   "source": []
  },
  {
   "cell_type": "code",
   "execution_count": null,
   "metadata": {},
   "outputs": [],
   "source": []
  },
  {
   "cell_type": "code",
   "execution_count": null,
   "metadata": {},
   "outputs": [],
   "source": []
  },
  {
   "cell_type": "code",
   "execution_count": null,
   "metadata": {},
   "outputs": [],
   "source": []
  }
 ],
 "metadata": {
  "kernelspec": {
   "display_name": "Python 3",
   "language": "python",
   "name": "python3"
  },
  "language_info": {
   "codemirror_mode": {
    "name": "ipython",
    "version": 3
   },
   "file_extension": ".py",
   "mimetype": "text/x-python",
   "name": "python",
   "nbconvert_exporter": "python",
   "pygments_lexer": "ipython3",
   "version": "3.12.2"
  }
 },
 "nbformat": 4,
 "nbformat_minor": 2
}
