{
 "cells": [
  {
   "cell_type": "markdown",
   "metadata": {
    "vscode": {
     "languageId": "plaintext"
    }
   },
   "source": [
    "## **Fase 6 - Machine Learning: Construcción y Evaluación del Modelo Predictivo**\n",
    "*En esta fase, nos centramos en construir un modelo predictivo que sea capaz de estimar con precisión el **precio por noche** de las propiedades. Este paso es crucial para convertir los datos procesados en un conocimiento valioso, ya que nos permitirá hacer predicciones sobre el precio de futuras propiedades a partir de sus características. A través de técnicas de machine learning avanzadas, buscamos encontrar el modelo más eficiente, que no solo sea preciso, sino también interpretativo y generalizable*\n",
    "\n",
    "A lo largo de esta fase, aplicaremos una serie de algoritmos y evaluaremos su rendimiento, seleccionando aquel que mejor se ajuste a nuestras necesidades. Además, dedicaremos tiempo a ajustar los parámetros del modelo para maximizar su capacidad predictiva, asegurando así que sea robusto y confiable.\n",
    "Con este enfoque, buscamos no solo predecir el precio de forma precisa, sino también proporcionar una comprensión profunda de los factores clave que afectan los precios de las propiedades, lo que puede ser útil en la toma de decisiones empresariales y en el desarrollo de futuras investigaciones."
   ]
  },
  {
   "cell_type": "code",
   "execution_count": 1,
   "metadata": {},
   "outputs": [],
   "source": [
    "# General\n",
    "import pandas as pd\n",
    "import numpy as np\n",
    "\n",
    "# Escaladores\n",
    "from sklearn.preprocessing import MinMaxScaler\n",
    "from sklearn.preprocessing import StandardScaler\n",
    "\n",
    "# Train, Test\n",
    "from sklearn.model_selection import train_test_split\n",
    "\n",
    "# Modelos\n",
    "from xgboost import XGBRegressor\n",
    "from lightgbm import LGBMRegressor\n",
    "from sklearn.neural_network import MLPRegressor\n",
    "from sklearn.linear_model import LinearRegression\n",
    "from sklearn.ensemble import RandomForestRegressor, GradientBoostingRegressor\n",
    "from sklearn.svm import SVR\n",
    "\n",
    "# Neural Neutworks\n",
    "from tensorflow.keras.models import Sequential\n",
    "from tensorflow.keras.layers import Input, Dense, Dropout\n",
    "from tensorflow.keras.optimizers import Adam\n",
    "from keras.callbacks import EarlyStopping\n",
    "\n",
    "# Cross Validation\n",
    "from sklearn.model_selection import cross_val_score\n",
    "from sklearn.model_selection import KFold\n",
    "\n",
    "# Hiperparametrización\n",
    "from sklearn.model_selection import GridSearchCV\n",
    "\n",
    "# Métricas\n",
    "from sklearn.metrics import mean_absolute_error\n",
    "from sklearn.metrics import mean_squared_error\n",
    "from sklearn.metrics import r2_score\n",
    "from sklearn.metrics import root_mean_squared_error"
   ]
  },
  {
   "cell_type": "code",
   "execution_count": 2,
   "metadata": {},
   "outputs": [
    {
     "name": "stderr",
     "output_type": "stream",
     "text": [
      "<>:1: SyntaxWarning: invalid escape sequence '\\d'\n",
      "<>:1: SyntaxWarning: invalid escape sequence '\\d'\n",
      "C:\\Users\\diogo\\AppData\\Local\\Temp\\ipykernel_1268\\3088068979.py:1: SyntaxWarning: invalid escape sequence '\\d'\n",
      "  df_encoded = pd.read_csv('data\\df_processed_ML.csv')\n"
     ]
    }
   ],
   "source": [
    "df_encoded = pd.read_csv('data\\df_processed_ML.csv')"
   ]
  },
  {
   "cell_type": "code",
   "execution_count": 3,
   "metadata": {},
   "outputs": [
    {
     "data": {
      "text/html": [
       "<div>\n",
       "<style scoped>\n",
       "    .dataframe tbody tr th:only-of-type {\n",
       "        vertical-align: middle;\n",
       "    }\n",
       "\n",
       "    .dataframe tbody tr th {\n",
       "        vertical-align: top;\n",
       "    }\n",
       "\n",
       "    .dataframe thead th {\n",
       "        text-align: right;\n",
       "    }\n",
       "</style>\n",
       "<table border=\"1\" class=\"dataframe\">\n",
       "  <thead>\n",
       "    <tr style=\"text-align: right;\">\n",
       "      <th></th>\n",
       "      <th>prices_per_night</th>\n",
       "      <th>ratings</th>\n",
       "      <th>cleaning_fee</th>\n",
       "      <th>dormitorios</th>\n",
       "      <th>camas</th>\n",
       "      <th>baños</th>\n",
       "      <th>maximum_guests</th>\n",
       "      <th>check_in_hour</th>\n",
       "      <th>check_out_hour</th>\n",
       "      <th>total_hours_checkin</th>\n",
       "      <th>...</th>\n",
       "      <th>dormitorio y lavandería</th>\n",
       "      <th>entretenimiento</th>\n",
       "      <th>exterior</th>\n",
       "      <th>internet y oficina</th>\n",
       "      <th>para familias</th>\n",
       "      <th>privacidad y seguridad</th>\n",
       "      <th>seguridad en el hogar</th>\n",
       "      <th>servicios</th>\n",
       "      <th>habitacion</th>\n",
       "      <th>alojamiento entero</th>\n",
       "    </tr>\n",
       "  </thead>\n",
       "  <tbody>\n",
       "    <tr>\n",
       "      <th>0</th>\n",
       "      <td>115.0</td>\n",
       "      <td>0.00</td>\n",
       "      <td>0.0</td>\n",
       "      <td>1.0</td>\n",
       "      <td>1.0</td>\n",
       "      <td>1.0</td>\n",
       "      <td>2.0</td>\n",
       "      <td>900.0</td>\n",
       "      <td>720.0</td>\n",
       "      <td>9.0</td>\n",
       "      <td>...</td>\n",
       "      <td>7.0</td>\n",
       "      <td>1.0</td>\n",
       "      <td>2.0</td>\n",
       "      <td>1.0</td>\n",
       "      <td>0.0</td>\n",
       "      <td>0.0</td>\n",
       "      <td>1.0</td>\n",
       "      <td>4.0</td>\n",
       "      <td>0.0</td>\n",
       "      <td>0.0</td>\n",
       "    </tr>\n",
       "    <tr>\n",
       "      <th>1</th>\n",
       "      <td>46.0</td>\n",
       "      <td>0.00</td>\n",
       "      <td>15.0</td>\n",
       "      <td>1.0</td>\n",
       "      <td>1.0</td>\n",
       "      <td>0.5</td>\n",
       "      <td>1.0</td>\n",
       "      <td>1020.0</td>\n",
       "      <td>660.0</td>\n",
       "      <td>7.0</td>\n",
       "      <td>...</td>\n",
       "      <td>6.0</td>\n",
       "      <td>0.0</td>\n",
       "      <td>0.0</td>\n",
       "      <td>2.0</td>\n",
       "      <td>0.0</td>\n",
       "      <td>2.0</td>\n",
       "      <td>0.0</td>\n",
       "      <td>1.0</td>\n",
       "      <td>1.0</td>\n",
       "      <td>0.0</td>\n",
       "    </tr>\n",
       "    <tr>\n",
       "      <th>2</th>\n",
       "      <td>47.0</td>\n",
       "      <td>4.66</td>\n",
       "      <td>0.0</td>\n",
       "      <td>1.0</td>\n",
       "      <td>1.0</td>\n",
       "      <td>0.5</td>\n",
       "      <td>1.0</td>\n",
       "      <td>900.0</td>\n",
       "      <td>720.0</td>\n",
       "      <td>9.0</td>\n",
       "      <td>...</td>\n",
       "      <td>8.0</td>\n",
       "      <td>1.0</td>\n",
       "      <td>1.0</td>\n",
       "      <td>1.0</td>\n",
       "      <td>0.0</td>\n",
       "      <td>1.0</td>\n",
       "      <td>0.0</td>\n",
       "      <td>5.0</td>\n",
       "      <td>1.0</td>\n",
       "      <td>0.0</td>\n",
       "    </tr>\n",
       "    <tr>\n",
       "      <th>3</th>\n",
       "      <td>100.0</td>\n",
       "      <td>4.89</td>\n",
       "      <td>35.0</td>\n",
       "      <td>1.0</td>\n",
       "      <td>1.0</td>\n",
       "      <td>1.0</td>\n",
       "      <td>1.0</td>\n",
       "      <td>960.0</td>\n",
       "      <td>720.0</td>\n",
       "      <td>8.0</td>\n",
       "      <td>...</td>\n",
       "      <td>10.0</td>\n",
       "      <td>10.0</td>\n",
       "      <td>3.0</td>\n",
       "      <td>2.0</td>\n",
       "      <td>2.0</td>\n",
       "      <td>0.0</td>\n",
       "      <td>5.0</td>\n",
       "      <td>4.0</td>\n",
       "      <td>0.0</td>\n",
       "      <td>0.0</td>\n",
       "    </tr>\n",
       "    <tr>\n",
       "      <th>4</th>\n",
       "      <td>33.0</td>\n",
       "      <td>4.40</td>\n",
       "      <td>0.0</td>\n",
       "      <td>1.0</td>\n",
       "      <td>1.0</td>\n",
       "      <td>0.5</td>\n",
       "      <td>1.0</td>\n",
       "      <td>900.0</td>\n",
       "      <td>660.0</td>\n",
       "      <td>9.0</td>\n",
       "      <td>...</td>\n",
       "      <td>4.0</td>\n",
       "      <td>0.0</td>\n",
       "      <td>1.0</td>\n",
       "      <td>1.0</td>\n",
       "      <td>0.0</td>\n",
       "      <td>0.0</td>\n",
       "      <td>3.0</td>\n",
       "      <td>1.0</td>\n",
       "      <td>1.0</td>\n",
       "      <td>0.0</td>\n",
       "    </tr>\n",
       "    <tr>\n",
       "      <th>...</th>\n",
       "      <td>...</td>\n",
       "      <td>...</td>\n",
       "      <td>...</td>\n",
       "      <td>...</td>\n",
       "      <td>...</td>\n",
       "      <td>...</td>\n",
       "      <td>...</td>\n",
       "      <td>...</td>\n",
       "      <td>...</td>\n",
       "      <td>...</td>\n",
       "      <td>...</td>\n",
       "      <td>...</td>\n",
       "      <td>...</td>\n",
       "      <td>...</td>\n",
       "      <td>...</td>\n",
       "      <td>...</td>\n",
       "      <td>...</td>\n",
       "      <td>...</td>\n",
       "      <td>...</td>\n",
       "      <td>...</td>\n",
       "      <td>...</td>\n",
       "    </tr>\n",
       "    <tr>\n",
       "      <th>2492</th>\n",
       "      <td>55.0</td>\n",
       "      <td>4.74</td>\n",
       "      <td>10.0</td>\n",
       "      <td>1.0</td>\n",
       "      <td>1.0</td>\n",
       "      <td>0.5</td>\n",
       "      <td>3.0</td>\n",
       "      <td>900.0</td>\n",
       "      <td>660.0</td>\n",
       "      <td>9.0</td>\n",
       "      <td>...</td>\n",
       "      <td>7.0</td>\n",
       "      <td>1.0</td>\n",
       "      <td>0.0</td>\n",
       "      <td>2.0</td>\n",
       "      <td>0.0</td>\n",
       "      <td>3.0</td>\n",
       "      <td>0.0</td>\n",
       "      <td>1.0</td>\n",
       "      <td>1.0</td>\n",
       "      <td>0.0</td>\n",
       "    </tr>\n",
       "    <tr>\n",
       "      <th>2493</th>\n",
       "      <td>60.0</td>\n",
       "      <td>4.78</td>\n",
       "      <td>0.0</td>\n",
       "      <td>1.0</td>\n",
       "      <td>1.0</td>\n",
       "      <td>0.5</td>\n",
       "      <td>2.0</td>\n",
       "      <td>900.0</td>\n",
       "      <td>600.0</td>\n",
       "      <td>9.0</td>\n",
       "      <td>...</td>\n",
       "      <td>4.0</td>\n",
       "      <td>1.0</td>\n",
       "      <td>0.0</td>\n",
       "      <td>1.0</td>\n",
       "      <td>0.0</td>\n",
       "      <td>1.0</td>\n",
       "      <td>0.0</td>\n",
       "      <td>1.0</td>\n",
       "      <td>1.0</td>\n",
       "      <td>0.0</td>\n",
       "    </tr>\n",
       "    <tr>\n",
       "      <th>2494</th>\n",
       "      <td>104.0</td>\n",
       "      <td>4.96</td>\n",
       "      <td>0.0</td>\n",
       "      <td>2.0</td>\n",
       "      <td>3.0</td>\n",
       "      <td>2.0</td>\n",
       "      <td>4.0</td>\n",
       "      <td>900.0</td>\n",
       "      <td>720.0</td>\n",
       "      <td>9.0</td>\n",
       "      <td>...</td>\n",
       "      <td>9.0</td>\n",
       "      <td>1.0</td>\n",
       "      <td>0.0</td>\n",
       "      <td>2.0</td>\n",
       "      <td>0.0</td>\n",
       "      <td>0.0</td>\n",
       "      <td>2.0</td>\n",
       "      <td>3.0</td>\n",
       "      <td>0.0</td>\n",
       "      <td>0.0</td>\n",
       "    </tr>\n",
       "    <tr>\n",
       "      <th>2495</th>\n",
       "      <td>120.0</td>\n",
       "      <td>4.83</td>\n",
       "      <td>50.0</td>\n",
       "      <td>1.0</td>\n",
       "      <td>1.0</td>\n",
       "      <td>1.0</td>\n",
       "      <td>2.0</td>\n",
       "      <td>900.0</td>\n",
       "      <td>660.0</td>\n",
       "      <td>9.0</td>\n",
       "      <td>...</td>\n",
       "      <td>8.0</td>\n",
       "      <td>3.0</td>\n",
       "      <td>3.0</td>\n",
       "      <td>2.0</td>\n",
       "      <td>0.0</td>\n",
       "      <td>0.0</td>\n",
       "      <td>2.0</td>\n",
       "      <td>1.0</td>\n",
       "      <td>0.0</td>\n",
       "      <td>0.0</td>\n",
       "    </tr>\n",
       "    <tr>\n",
       "      <th>2496</th>\n",
       "      <td>100.0</td>\n",
       "      <td>4.78</td>\n",
       "      <td>0.0</td>\n",
       "      <td>1.0</td>\n",
       "      <td>2.0</td>\n",
       "      <td>1.0</td>\n",
       "      <td>4.0</td>\n",
       "      <td>960.0</td>\n",
       "      <td>660.0</td>\n",
       "      <td>8.0</td>\n",
       "      <td>...</td>\n",
       "      <td>8.0</td>\n",
       "      <td>1.0</td>\n",
       "      <td>1.0</td>\n",
       "      <td>2.0</td>\n",
       "      <td>1.0</td>\n",
       "      <td>0.0</td>\n",
       "      <td>2.0</td>\n",
       "      <td>3.0</td>\n",
       "      <td>0.0</td>\n",
       "      <td>0.0</td>\n",
       "    </tr>\n",
       "  </tbody>\n",
       "</table>\n",
       "<p>2497 rows × 26 columns</p>\n",
       "</div>"
      ],
      "text/plain": [
       "      prices_per_night  ratings  cleaning_fee  dormitorios  camas  baños  \\\n",
       "0                115.0     0.00           0.0          1.0    1.0    1.0   \n",
       "1                 46.0     0.00          15.0          1.0    1.0    0.5   \n",
       "2                 47.0     4.66           0.0          1.0    1.0    0.5   \n",
       "3                100.0     4.89          35.0          1.0    1.0    1.0   \n",
       "4                 33.0     4.40           0.0          1.0    1.0    0.5   \n",
       "...                ...      ...           ...          ...    ...    ...   \n",
       "2492              55.0     4.74          10.0          1.0    1.0    0.5   \n",
       "2493              60.0     4.78           0.0          1.0    1.0    0.5   \n",
       "2494             104.0     4.96           0.0          2.0    3.0    2.0   \n",
       "2495             120.0     4.83          50.0          1.0    1.0    1.0   \n",
       "2496             100.0     4.78           0.0          1.0    2.0    1.0   \n",
       "\n",
       "      maximum_guests  check_in_hour  check_out_hour  total_hours_checkin  ...  \\\n",
       "0                2.0          900.0           720.0                  9.0  ...   \n",
       "1                1.0         1020.0           660.0                  7.0  ...   \n",
       "2                1.0          900.0           720.0                  9.0  ...   \n",
       "3                1.0          960.0           720.0                  8.0  ...   \n",
       "4                1.0          900.0           660.0                  9.0  ...   \n",
       "...              ...            ...             ...                  ...  ...   \n",
       "2492             3.0          900.0           660.0                  9.0  ...   \n",
       "2493             2.0          900.0           600.0                  9.0  ...   \n",
       "2494             4.0          900.0           720.0                  9.0  ...   \n",
       "2495             2.0          900.0           660.0                  9.0  ...   \n",
       "2496             4.0          960.0           660.0                  8.0  ...   \n",
       "\n",
       "      dormitorio y lavandería  entretenimiento  exterior  internet y oficina  \\\n",
       "0                         7.0              1.0       2.0                 1.0   \n",
       "1                         6.0              0.0       0.0                 2.0   \n",
       "2                         8.0              1.0       1.0                 1.0   \n",
       "3                        10.0             10.0       3.0                 2.0   \n",
       "4                         4.0              0.0       1.0                 1.0   \n",
       "...                       ...              ...       ...                 ...   \n",
       "2492                      7.0              1.0       0.0                 2.0   \n",
       "2493                      4.0              1.0       0.0                 1.0   \n",
       "2494                      9.0              1.0       0.0                 2.0   \n",
       "2495                      8.0              3.0       3.0                 2.0   \n",
       "2496                      8.0              1.0       1.0                 2.0   \n",
       "\n",
       "      para familias  privacidad y seguridad  seguridad en el hogar  servicios  \\\n",
       "0               0.0                     0.0                    1.0        4.0   \n",
       "1               0.0                     2.0                    0.0        1.0   \n",
       "2               0.0                     1.0                    0.0        5.0   \n",
       "3               2.0                     0.0                    5.0        4.0   \n",
       "4               0.0                     0.0                    3.0        1.0   \n",
       "...             ...                     ...                    ...        ...   \n",
       "2492            0.0                     3.0                    0.0        1.0   \n",
       "2493            0.0                     1.0                    0.0        1.0   \n",
       "2494            0.0                     0.0                    2.0        3.0   \n",
       "2495            0.0                     0.0                    2.0        1.0   \n",
       "2496            1.0                     0.0                    2.0        3.0   \n",
       "\n",
       "      habitacion  alojamiento entero  \n",
       "0            0.0                 0.0  \n",
       "1            1.0                 0.0  \n",
       "2            1.0                 0.0  \n",
       "3            0.0                 0.0  \n",
       "4            1.0                 0.0  \n",
       "...          ...                 ...  \n",
       "2492         1.0                 0.0  \n",
       "2493         1.0                 0.0  \n",
       "2494         0.0                 0.0  \n",
       "2495         0.0                 0.0  \n",
       "2496         0.0                 0.0  \n",
       "\n",
       "[2497 rows x 26 columns]"
      ]
     },
     "execution_count": 3,
     "metadata": {},
     "output_type": "execute_result"
    }
   ],
   "source": [
    "df_encoded"
   ]
  },
  {
   "cell_type": "markdown",
   "metadata": {},
   "source": [
    "**Train Test Split**"
   ]
  },
  {
   "cell_type": "code",
   "execution_count": 4,
   "metadata": {},
   "outputs": [
    {
     "name": "stdout",
     "output_type": "stream",
     "text": [
      "(2497, 25) (2497,)\n"
     ]
    }
   ],
   "source": [
    "X = df_encoded.drop(\"prices_per_night\", axis = 1)\n",
    "y = df_encoded[\"prices_per_night\"]\n",
    "print(X.shape, y.shape)"
   ]
  },
  {
   "cell_type": "code",
   "execution_count": 5,
   "metadata": {},
   "outputs": [
    {
     "name": "stdout",
     "output_type": "stream",
     "text": [
      "X_train: (1997, 25), y_train: (1997,)\n",
      "X_test: (500, 25), y_test: (500,)\n"
     ]
    }
   ],
   "source": [
    "X_train, X_test, y_train, y_test = train_test_split(X, y, test_size = 0.2, random_state = 42)\n",
    "\n",
    "print(f\"X_train: {X_train.shape}, y_train: {y_train.shape}\")\n",
    "print(f\"X_test: {X_test.shape}, y_test: {y_test.shape}\")"
   ]
  },
  {
   "cell_type": "markdown",
   "metadata": {},
   "source": [
    "**Escaladores**"
   ]
  },
  {
   "cell_type": "code",
   "execution_count": 6,
   "metadata": {},
   "outputs": [],
   "source": [
    "x_scaler = MinMaxScaler()\n",
    "X_train = x_scaler.fit_transform(X_train)\n",
    "X_test = x_scaler.transform(X_test)\n",
    "\n",
    "y_scaler = MinMaxScaler()\n",
    "y_train = y_scaler.fit_transform(np.array(y_train).reshape(-1, 1))\n",
    "y_test = y_scaler.transform(np.array(y_test).reshape(-1, 1))"
   ]
  },
  {
   "cell_type": "code",
   "execution_count": 7,
   "metadata": {},
   "outputs": [],
   "source": [
    "# Crear un DataFrame combinando los datos escalados\n",
    "df_X = pd.DataFrame(\n",
    "    np.vstack([X_train, X_test]), \n",
    "    columns=[f\"X_feature_{i}\" for i in range(X_train.shape[1])]\n",
    ")\n",
    "df_X[\"Set\"] = [\"Train\"] * len(X_train) + [\"Test\"] * len(X_test)\n",
    "\n",
    "df_y = pd.DataFrame(\n",
    "    np.vstack([y_train, y_test]), \n",
    "    columns=[\"y\"]\n",
    ")\n",
    "df_y[\"Set\"] = [\"Train\"] * len(y_train) + [\"Test\"] * len(y_test)\n",
    "\n",
    "# Concatenar las características y las etiquetas\n",
    "df = pd.concat([df_X, df_y[\"y\"]], axis=1)\n"
   ]
  },
  {
   "cell_type": "code",
   "execution_count": 8,
   "metadata": {},
   "outputs": [],
   "source": [
    "# Crear DataFrame \n",
    "Scaler = pd.DataFrame(df)\n",
    "#Creamos el pickle\n",
    "Scaler.to_pickle(\"data/Scaler.pkl\")"
   ]
  },
  {
   "cell_type": "code",
   "execution_count": 9,
   "metadata": {},
   "outputs": [
    {
     "data": {
      "text/html": [
       "<div>\n",
       "<style scoped>\n",
       "    .dataframe tbody tr th:only-of-type {\n",
       "        vertical-align: middle;\n",
       "    }\n",
       "\n",
       "    .dataframe tbody tr th {\n",
       "        vertical-align: top;\n",
       "    }\n",
       "\n",
       "    .dataframe thead th {\n",
       "        text-align: right;\n",
       "    }\n",
       "</style>\n",
       "<table border=\"1\" class=\"dataframe\">\n",
       "  <thead>\n",
       "    <tr style=\"text-align: right;\">\n",
       "      <th></th>\n",
       "      <th>X_feature_0</th>\n",
       "      <th>X_feature_1</th>\n",
       "      <th>X_feature_2</th>\n",
       "      <th>X_feature_3</th>\n",
       "      <th>X_feature_4</th>\n",
       "      <th>X_feature_5</th>\n",
       "      <th>X_feature_6</th>\n",
       "      <th>X_feature_7</th>\n",
       "      <th>X_feature_8</th>\n",
       "      <th>X_feature_9</th>\n",
       "      <th>...</th>\n",
       "      <th>X_feature_17</th>\n",
       "      <th>X_feature_18</th>\n",
       "      <th>X_feature_19</th>\n",
       "      <th>X_feature_20</th>\n",
       "      <th>X_feature_21</th>\n",
       "      <th>X_feature_22</th>\n",
       "      <th>X_feature_23</th>\n",
       "      <th>X_feature_24</th>\n",
       "      <th>Set</th>\n",
       "      <th>y</th>\n",
       "    </tr>\n",
       "  </thead>\n",
       "  <tbody>\n",
       "    <tr>\n",
       "      <th>0</th>\n",
       "      <td>0.882</td>\n",
       "      <td>0.000000</td>\n",
       "      <td>0.2</td>\n",
       "      <td>0.000000</td>\n",
       "      <td>0.1</td>\n",
       "      <td>0.0</td>\n",
       "      <td>0.761905</td>\n",
       "      <td>0.400000</td>\n",
       "      <td>0.238095</td>\n",
       "      <td>0.600429</td>\n",
       "      <td>...</td>\n",
       "      <td>0.0</td>\n",
       "      <td>0.333333</td>\n",
       "      <td>0.000000</td>\n",
       "      <td>0.166667</td>\n",
       "      <td>0.000000</td>\n",
       "      <td>0.142857</td>\n",
       "      <td>1.0</td>\n",
       "      <td>0.0</td>\n",
       "      <td>Train</td>\n",
       "      <td>0.046083</td>\n",
       "    </tr>\n",
       "    <tr>\n",
       "      <th>1</th>\n",
       "      <td>0.956</td>\n",
       "      <td>0.000000</td>\n",
       "      <td>0.2</td>\n",
       "      <td>0.000000</td>\n",
       "      <td>0.1</td>\n",
       "      <td>0.1</td>\n",
       "      <td>0.666667</td>\n",
       "      <td>0.300000</td>\n",
       "      <td>0.333333</td>\n",
       "      <td>0.565941</td>\n",
       "      <td>...</td>\n",
       "      <td>0.0</td>\n",
       "      <td>0.666667</td>\n",
       "      <td>0.000000</td>\n",
       "      <td>0.333333</td>\n",
       "      <td>0.000000</td>\n",
       "      <td>0.285714</td>\n",
       "      <td>1.0</td>\n",
       "      <td>0.0</td>\n",
       "      <td>Train</td>\n",
       "      <td>0.055300</td>\n",
       "    </tr>\n",
       "    <tr>\n",
       "      <th>2</th>\n",
       "      <td>0.000</td>\n",
       "      <td>0.264706</td>\n",
       "      <td>0.2</td>\n",
       "      <td>0.000000</td>\n",
       "      <td>0.1</td>\n",
       "      <td>0.0</td>\n",
       "      <td>0.714286</td>\n",
       "      <td>0.300000</td>\n",
       "      <td>0.285714</td>\n",
       "      <td>0.000000</td>\n",
       "      <td>...</td>\n",
       "      <td>0.0</td>\n",
       "      <td>0.333333</td>\n",
       "      <td>0.000000</td>\n",
       "      <td>0.166667</td>\n",
       "      <td>0.000000</td>\n",
       "      <td>0.000000</td>\n",
       "      <td>1.0</td>\n",
       "      <td>0.0</td>\n",
       "      <td>Train</td>\n",
       "      <td>0.034562</td>\n",
       "    </tr>\n",
       "    <tr>\n",
       "      <th>3</th>\n",
       "      <td>0.000</td>\n",
       "      <td>0.000000</td>\n",
       "      <td>0.2</td>\n",
       "      <td>0.066667</td>\n",
       "      <td>0.1</td>\n",
       "      <td>0.1</td>\n",
       "      <td>0.714286</td>\n",
       "      <td>0.233333</td>\n",
       "      <td>0.285714</td>\n",
       "      <td>0.000000</td>\n",
       "      <td>...</td>\n",
       "      <td>0.0</td>\n",
       "      <td>0.333333</td>\n",
       "      <td>0.000000</td>\n",
       "      <td>0.333333</td>\n",
       "      <td>0.000000</td>\n",
       "      <td>0.000000</td>\n",
       "      <td>1.0</td>\n",
       "      <td>0.0</td>\n",
       "      <td>Train</td>\n",
       "      <td>0.101382</td>\n",
       "    </tr>\n",
       "    <tr>\n",
       "      <th>4</th>\n",
       "      <td>0.000</td>\n",
       "      <td>0.000000</td>\n",
       "      <td>0.2</td>\n",
       "      <td>0.000000</td>\n",
       "      <td>0.1</td>\n",
       "      <td>0.1</td>\n",
       "      <td>0.571429</td>\n",
       "      <td>0.166667</td>\n",
       "      <td>0.428571</td>\n",
       "      <td>0.000000</td>\n",
       "      <td>...</td>\n",
       "      <td>0.0</td>\n",
       "      <td>0.333333</td>\n",
       "      <td>0.000000</td>\n",
       "      <td>0.333333</td>\n",
       "      <td>0.000000</td>\n",
       "      <td>0.000000</td>\n",
       "      <td>1.0</td>\n",
       "      <td>0.0</td>\n",
       "      <td>Train</td>\n",
       "      <td>0.062212</td>\n",
       "    </tr>\n",
       "    <tr>\n",
       "      <th>...</th>\n",
       "      <td>...</td>\n",
       "      <td>...</td>\n",
       "      <td>...</td>\n",
       "      <td>...</td>\n",
       "      <td>...</td>\n",
       "      <td>...</td>\n",
       "      <td>...</td>\n",
       "      <td>...</td>\n",
       "      <td>...</td>\n",
       "      <td>...</td>\n",
       "      <td>...</td>\n",
       "      <td>...</td>\n",
       "      <td>...</td>\n",
       "      <td>...</td>\n",
       "      <td>...</td>\n",
       "      <td>...</td>\n",
       "      <td>...</td>\n",
       "      <td>...</td>\n",
       "      <td>...</td>\n",
       "      <td>...</td>\n",
       "      <td>...</td>\n",
       "    </tr>\n",
       "    <tr>\n",
       "      <th>2492</th>\n",
       "      <td>0.942</td>\n",
       "      <td>0.000000</td>\n",
       "      <td>0.2</td>\n",
       "      <td>0.000000</td>\n",
       "      <td>0.1</td>\n",
       "      <td>0.0</td>\n",
       "      <td>0.666667</td>\n",
       "      <td>0.300000</td>\n",
       "      <td>0.333333</td>\n",
       "      <td>0.389728</td>\n",
       "      <td>...</td>\n",
       "      <td>0.0</td>\n",
       "      <td>0.666667</td>\n",
       "      <td>0.111111</td>\n",
       "      <td>0.000000</td>\n",
       "      <td>0.333333</td>\n",
       "      <td>0.142857</td>\n",
       "      <td>1.0</td>\n",
       "      <td>0.0</td>\n",
       "      <td>Test</td>\n",
       "      <td>0.041475</td>\n",
       "    </tr>\n",
       "    <tr>\n",
       "      <th>2493</th>\n",
       "      <td>0.000</td>\n",
       "      <td>0.205882</td>\n",
       "      <td>0.2</td>\n",
       "      <td>0.000000</td>\n",
       "      <td>0.1</td>\n",
       "      <td>0.1</td>\n",
       "      <td>0.714286</td>\n",
       "      <td>0.200000</td>\n",
       "      <td>0.285714</td>\n",
       "      <td>0.000000</td>\n",
       "      <td>...</td>\n",
       "      <td>0.0</td>\n",
       "      <td>0.333333</td>\n",
       "      <td>0.000000</td>\n",
       "      <td>0.166667</td>\n",
       "      <td>0.000000</td>\n",
       "      <td>0.000000</td>\n",
       "      <td>1.0</td>\n",
       "      <td>0.0</td>\n",
       "      <td>Test</td>\n",
       "      <td>0.025346</td>\n",
       "    </tr>\n",
       "    <tr>\n",
       "      <th>2494</th>\n",
       "      <td>1.000</td>\n",
       "      <td>0.041176</td>\n",
       "      <td>0.2</td>\n",
       "      <td>0.000000</td>\n",
       "      <td>0.1</td>\n",
       "      <td>0.0</td>\n",
       "      <td>0.714286</td>\n",
       "      <td>0.200000</td>\n",
       "      <td>0.285714</td>\n",
       "      <td>0.000000</td>\n",
       "      <td>...</td>\n",
       "      <td>0.2</td>\n",
       "      <td>0.666667</td>\n",
       "      <td>0.111111</td>\n",
       "      <td>0.333333</td>\n",
       "      <td>0.000000</td>\n",
       "      <td>0.428571</td>\n",
       "      <td>1.0</td>\n",
       "      <td>0.0</td>\n",
       "      <td>Test</td>\n",
       "      <td>0.078341</td>\n",
       "    </tr>\n",
       "    <tr>\n",
       "      <th>2495</th>\n",
       "      <td>0.978</td>\n",
       "      <td>0.000000</td>\n",
       "      <td>0.2</td>\n",
       "      <td>0.000000</td>\n",
       "      <td>0.1</td>\n",
       "      <td>0.1</td>\n",
       "      <td>0.619048</td>\n",
       "      <td>0.300000</td>\n",
       "      <td>0.380952</td>\n",
       "      <td>0.000000</td>\n",
       "      <td>...</td>\n",
       "      <td>0.0</td>\n",
       "      <td>0.333333</td>\n",
       "      <td>0.000000</td>\n",
       "      <td>0.166667</td>\n",
       "      <td>0.000000</td>\n",
       "      <td>0.000000</td>\n",
       "      <td>1.0</td>\n",
       "      <td>0.0</td>\n",
       "      <td>Test</td>\n",
       "      <td>0.101382</td>\n",
       "    </tr>\n",
       "    <tr>\n",
       "      <th>2496</th>\n",
       "      <td>0.938</td>\n",
       "      <td>0.411765</td>\n",
       "      <td>0.2</td>\n",
       "      <td>0.000000</td>\n",
       "      <td>0.2</td>\n",
       "      <td>0.1</td>\n",
       "      <td>0.714286</td>\n",
       "      <td>0.200000</td>\n",
       "      <td>0.285714</td>\n",
       "      <td>0.681186</td>\n",
       "      <td>...</td>\n",
       "      <td>0.2</td>\n",
       "      <td>0.333333</td>\n",
       "      <td>0.222222</td>\n",
       "      <td>0.000000</td>\n",
       "      <td>0.166667</td>\n",
       "      <td>0.142857</td>\n",
       "      <td>0.0</td>\n",
       "      <td>0.0</td>\n",
       "      <td>Test</td>\n",
       "      <td>0.161290</td>\n",
       "    </tr>\n",
       "  </tbody>\n",
       "</table>\n",
       "<p>2497 rows × 27 columns</p>\n",
       "</div>"
      ],
      "text/plain": [
       "      X_feature_0  X_feature_1  X_feature_2  X_feature_3  X_feature_4  \\\n",
       "0           0.882     0.000000          0.2     0.000000          0.1   \n",
       "1           0.956     0.000000          0.2     0.000000          0.1   \n",
       "2           0.000     0.264706          0.2     0.000000          0.1   \n",
       "3           0.000     0.000000          0.2     0.066667          0.1   \n",
       "4           0.000     0.000000          0.2     0.000000          0.1   \n",
       "...           ...          ...          ...          ...          ...   \n",
       "2492        0.942     0.000000          0.2     0.000000          0.1   \n",
       "2493        0.000     0.205882          0.2     0.000000          0.1   \n",
       "2494        1.000     0.041176          0.2     0.000000          0.1   \n",
       "2495        0.978     0.000000          0.2     0.000000          0.1   \n",
       "2496        0.938     0.411765          0.2     0.000000          0.2   \n",
       "\n",
       "      X_feature_5  X_feature_6  X_feature_7  X_feature_8  X_feature_9  ...  \\\n",
       "0             0.0     0.761905     0.400000     0.238095     0.600429  ...   \n",
       "1             0.1     0.666667     0.300000     0.333333     0.565941  ...   \n",
       "2             0.0     0.714286     0.300000     0.285714     0.000000  ...   \n",
       "3             0.1     0.714286     0.233333     0.285714     0.000000  ...   \n",
       "4             0.1     0.571429     0.166667     0.428571     0.000000  ...   \n",
       "...           ...          ...          ...          ...          ...  ...   \n",
       "2492          0.0     0.666667     0.300000     0.333333     0.389728  ...   \n",
       "2493          0.1     0.714286     0.200000     0.285714     0.000000  ...   \n",
       "2494          0.0     0.714286     0.200000     0.285714     0.000000  ...   \n",
       "2495          0.1     0.619048     0.300000     0.380952     0.000000  ...   \n",
       "2496          0.1     0.714286     0.200000     0.285714     0.681186  ...   \n",
       "\n",
       "      X_feature_17  X_feature_18  X_feature_19  X_feature_20  X_feature_21  \\\n",
       "0              0.0      0.333333      0.000000      0.166667      0.000000   \n",
       "1              0.0      0.666667      0.000000      0.333333      0.000000   \n",
       "2              0.0      0.333333      0.000000      0.166667      0.000000   \n",
       "3              0.0      0.333333      0.000000      0.333333      0.000000   \n",
       "4              0.0      0.333333      0.000000      0.333333      0.000000   \n",
       "...            ...           ...           ...           ...           ...   \n",
       "2492           0.0      0.666667      0.111111      0.000000      0.333333   \n",
       "2493           0.0      0.333333      0.000000      0.166667      0.000000   \n",
       "2494           0.2      0.666667      0.111111      0.333333      0.000000   \n",
       "2495           0.0      0.333333      0.000000      0.166667      0.000000   \n",
       "2496           0.2      0.333333      0.222222      0.000000      0.166667   \n",
       "\n",
       "      X_feature_22  X_feature_23  X_feature_24    Set         y  \n",
       "0         0.142857           1.0           0.0  Train  0.046083  \n",
       "1         0.285714           1.0           0.0  Train  0.055300  \n",
       "2         0.000000           1.0           0.0  Train  0.034562  \n",
       "3         0.000000           1.0           0.0  Train  0.101382  \n",
       "4         0.000000           1.0           0.0  Train  0.062212  \n",
       "...            ...           ...           ...    ...       ...  \n",
       "2492      0.142857           1.0           0.0   Test  0.041475  \n",
       "2493      0.000000           1.0           0.0   Test  0.025346  \n",
       "2494      0.428571           1.0           0.0   Test  0.078341  \n",
       "2495      0.000000           1.0           0.0   Test  0.101382  \n",
       "2496      0.142857           0.0           0.0   Test  0.161290  \n",
       "\n",
       "[2497 rows x 27 columns]"
      ]
     },
     "execution_count": 9,
     "metadata": {},
     "output_type": "execute_result"
    }
   ],
   "source": [
    "Scaler"
   ]
  },
  {
   "cell_type": "markdown",
   "metadata": {},
   "source": [
    "**Selección de los Modelos**\n",
    "- Evaluaremos cada modelo mediante las **métricas de rendimiento**, tales como el **Error Cuadrático Medio (RMSE)** y el **R^2**, con el fin de seleccionar el que brinde el mejor rendimiento predictivo."
   ]
  },
  {
   "cell_type": "code",
   "execution_count": 10,
   "metadata": {},
   "outputs": [],
   "source": [
    "# Definimos los modelos\n",
    "models = {\n",
    "    \"Linear Regression\": LinearRegression(),\n",
    "    \"Random Forest\": RandomForestRegressor(random_state=42),\n",
    "    \"Support Vector Regressor\": SVR(),\n",
    "    \"Gradient Boosting\": GradientBoostingRegressor(random_state=42),\n",
    "    \"XGBoost\": XGBRegressor(random_state=42),\n",
    "    \"LightGBM\": LGBMRegressor(random_state=42),\n",
    "    \"MLP Regressor\": MLPRegressor(random_state=42)\n",
    "}"
   ]
  },
  {
   "cell_type": "code",
   "execution_count": 11,
   "metadata": {},
   "outputs": [
    {
     "name": "stdout",
     "output_type": "stream",
     "text": [
      "[LightGBM] [Info] Auto-choosing row-wise multi-threading, the overhead of testing was 0.000610 seconds.\n",
      "You can set `force_row_wise=true` to remove the overhead.\n",
      "And if memory is not enough, you can set `force_col_wise=true`.\n",
      "[LightGBM] [Info] Total Bins 582\n",
      "[LightGBM] [Info] Number of data points in the train set: 1997, number of used features: 24\n",
      "[LightGBM] [Info] Start training from score 0.143845\n"
     ]
    }
   ],
   "source": [
    "# Lista para almacenar los resultados\n",
    "resultados_lista = []\n",
    "\n",
    "# Bucle para entrenar cada modelo y calcular métricas\n",
    "for model_name, model in models.items():\n",
    "    model.fit(X_train, y_train.ravel())\n",
    "    \n",
    "    y_hat = model.predict(X_test)\n",
    "    \n",
    "    # Desescalado de las predicciones\n",
    "    y_test_inv = y_scaler.inverse_transform(y_test.reshape(-1, 1)).ravel()\n",
    "    y_hat_inv = y_scaler.inverse_transform(y_hat.reshape(-1, 1)).ravel()\n",
    "    \n",
    "    # Cálculo de métricas\n",
    "    mae = mean_absolute_error(y_test_inv, y_hat_inv)\n",
    "    mse = mean_squared_error(y_test_inv, y_hat_inv)\n",
    "    rmse = root_mean_squared_error(y_test_inv, y_hat_inv)\n",
    "    r2 = r2_score(y_test_inv, y_hat_inv)\n",
    "    \n",
    "    # Almacenar resultados\n",
    "    resultados_lista.append({\n",
    "        \"model_name\": model_name,\n",
    "        \"mae\": mae,\n",
    "        \"mse\": mse,\n",
    "        \"rmse\" : rmse,\n",
    "        \"r2_score\": r2\n",
    "    })\n",
    "\n"
   ]
  },
  {
   "cell_type": "code",
   "execution_count": 12,
   "metadata": {},
   "outputs": [],
   "source": [
    "# Crear DataFrame y ordenar por r2_score\n",
    "resultados = pd.DataFrame(resultados_lista)\n",
    "resultados = resultados.sort_values(by=\"r2_score\", ascending=False)\n",
    "#Creamos el pickle\n",
    "resultados.to_pickle(\"data/resultados_modelos.pkl\")"
   ]
  },
  {
   "cell_type": "code",
   "execution_count": 13,
   "metadata": {},
   "outputs": [
    {
     "data": {
      "text/html": [
       "<div>\n",
       "<style scoped>\n",
       "    .dataframe tbody tr th:only-of-type {\n",
       "        vertical-align: middle;\n",
       "    }\n",
       "\n",
       "    .dataframe tbody tr th {\n",
       "        vertical-align: top;\n",
       "    }\n",
       "\n",
       "    .dataframe thead th {\n",
       "        text-align: right;\n",
       "    }\n",
       "</style>\n",
       "<table border=\"1\" class=\"dataframe\">\n",
       "  <thead>\n",
       "    <tr style=\"text-align: right;\">\n",
       "      <th></th>\n",
       "      <th>model_name</th>\n",
       "      <th>mae</th>\n",
       "      <th>mse</th>\n",
       "      <th>rmse</th>\n",
       "      <th>r2_score</th>\n",
       "    </tr>\n",
       "  </thead>\n",
       "  <tbody>\n",
       "    <tr>\n",
       "      <th>5</th>\n",
       "      <td>LightGBM</td>\n",
       "      <td>9.727440</td>\n",
       "      <td>244.834744</td>\n",
       "      <td>15.647196</td>\n",
       "      <td>0.860073</td>\n",
       "    </tr>\n",
       "    <tr>\n",
       "      <th>1</th>\n",
       "      <td>Random Forest</td>\n",
       "      <td>8.654486</td>\n",
       "      <td>265.400936</td>\n",
       "      <td>16.291131</td>\n",
       "      <td>0.848319</td>\n",
       "    </tr>\n",
       "    <tr>\n",
       "      <th>4</th>\n",
       "      <td>XGBoost</td>\n",
       "      <td>8.297636</td>\n",
       "      <td>292.500981</td>\n",
       "      <td>17.102660</td>\n",
       "      <td>0.832831</td>\n",
       "    </tr>\n",
       "    <tr>\n",
       "      <th>3</th>\n",
       "      <td>Gradient Boosting</td>\n",
       "      <td>13.716214</td>\n",
       "      <td>376.139506</td>\n",
       "      <td>19.394316</td>\n",
       "      <td>0.785031</td>\n",
       "    </tr>\n",
       "    <tr>\n",
       "      <th>0</th>\n",
       "      <td>Linear Regression</td>\n",
       "      <td>17.901984</td>\n",
       "      <td>615.842171</td>\n",
       "      <td>24.816168</td>\n",
       "      <td>0.648037</td>\n",
       "    </tr>\n",
       "    <tr>\n",
       "      <th>6</th>\n",
       "      <td>MLP Regressor</td>\n",
       "      <td>19.023449</td>\n",
       "      <td>636.524040</td>\n",
       "      <td>25.229428</td>\n",
       "      <td>0.636217</td>\n",
       "    </tr>\n",
       "    <tr>\n",
       "      <th>2</th>\n",
       "      <td>Support Vector Regressor</td>\n",
       "      <td>20.278318</td>\n",
       "      <td>652.793475</td>\n",
       "      <td>25.549823</td>\n",
       "      <td>0.626919</td>\n",
       "    </tr>\n",
       "  </tbody>\n",
       "</table>\n",
       "</div>"
      ],
      "text/plain": [
       "                 model_name        mae         mse       rmse  r2_score\n",
       "5                  LightGBM   9.727440  244.834744  15.647196  0.860073\n",
       "1             Random Forest   8.654486  265.400936  16.291131  0.848319\n",
       "4                   XGBoost   8.297636  292.500981  17.102660  0.832831\n",
       "3         Gradient Boosting  13.716214  376.139506  19.394316  0.785031\n",
       "0         Linear Regression  17.901984  615.842171  24.816168  0.648037\n",
       "6             MLP Regressor  19.023449  636.524040  25.229428  0.636217\n",
       "2  Support Vector Regressor  20.278318  652.793475  25.549823  0.626919"
      ]
     },
     "execution_count": 13,
     "metadata": {},
     "output_type": "execute_result"
    }
   ],
   "source": [
    "resultados"
   ]
  },
  {
   "cell_type": "markdown",
   "metadata": {},
   "source": [
    "**Ajuste de Hiperparámetros**\n",
    "   - Para maximizar el rendimiento del modelo, ajustaremos los hiperparámetros clave utilizando **Grid Search**. Este paso es crucial para obtener el mejor modelo posible para nuestros datos."
   ]
  },
  {
   "cell_type": "code",
   "execution_count": 14,
   "metadata": {},
   "outputs": [],
   "source": [
    "lgb = LGBMRegressor(random_state=42) # Quizas el objective se pone aquí\n",
    "param_grid = {\n",
    "    'n_estimators': [100, 500, 1000],\n",
    "    'num_leaves': [31, 63, 127],\n",
    "    'max_depth': [5, 7, 10],\n",
    "    'learning_rate': [0.01, 0.05, 0.1],\n",
    "    'min_child_samples': [20, 50],\n",
    "    'subsample': [0.7, 0.8],\n",
    "    'reg_lambda': [0, 1],\n",
    "    'reg_alpha': [0, 1],\n",
    "    'boosting_type': ['gbdt', 'dart'],\n",
    "    'objective': ['regression']\n",
    "}"
   ]
  },
  {
   "cell_type": "code",
   "execution_count": 15,
   "metadata": {},
   "outputs": [],
   "source": [
    "grid_search = GridSearchCV(estimator=lgb, param_grid=param_grid, \n",
    "                           scoring='neg_mean_absolute_error', cv=3, \n",
    "                           verbose=1, n_jobs=-1)"
   ]
  },
  {
   "cell_type": "code",
   "execution_count": null,
   "metadata": {},
   "outputs": [],
   "source": [
    "%%time\n",
    "\n",
    "grid_search.fit(X_train, y_train)\n",
    "# Mostramos los mejores parámetros y resultados\n",
    "best_params = grid_search.best_params_\n",
    "print(\"Mejores hiperparámetros:\", best_params)\n",
    "\n",
    "# comprobamos los  mejores parámetros\n",
    "best_model = grid_search.best_estimator_\n",
    "y_pred = best_model.predict(X_test)\n",
    "\n",
    "# Calculamos y mostramos las métricas\n",
    "mae = mean_absolute_error(y_test, y_pred)\n",
    "mse = mean_squared_error(y_test, y_pred)\n",
    "rmse = root_mean_squared_error(y_test, y_pred)\n",
    "r2 = r2_score(y_test, y_pred)\n",
    "print(\"MAE:\", mae)\n",
    "print(\"MSE:\", mse)\n",
    "print(\"RMSE\", rmse)\n",
    "print(\"R²:\", r2)"
   ]
  },
  {
   "cell_type": "markdown",
   "metadata": {},
   "source": [
    "Creación del pickle"
   ]
  },
  {
   "cell_type": "code",
   "execution_count": null,
   "metadata": {},
   "outputs": [],
   "source": [
    "# Creamos un diccionario con los resultados\n",
    "grid_search = {\n",
    "    \"best_params\": best_params,\n",
    "    \"mae\": mae,\n",
    "    \"mse\": mse,\n",
    "    \"rmse\": rmse,\n",
    "    \"r2_score\": r2\n",
    "}\n",
    "\n",
    "grid_search = pd.DataFrame(grid_search)\n",
    "grid_search = grid_search.sort_values(by=\"r2_score\", ascending=False)\n",
    "#Creamos el pickle\n",
    "grid_search.to_pickle(\"data/resultados_gridsearch.pkl\")"
   ]
  },
  {
   "cell_type": "code",
   "execution_count": null,
   "metadata": {},
   "outputs": [
    {
     "data": {
      "text/html": [
       "<div>\n",
       "<style scoped>\n",
       "    .dataframe tbody tr th:only-of-type {\n",
       "        vertical-align: middle;\n",
       "    }\n",
       "\n",
       "    .dataframe tbody tr th {\n",
       "        vertical-align: top;\n",
       "    }\n",
       "\n",
       "    .dataframe thead th {\n",
       "        text-align: right;\n",
       "    }\n",
       "</style>\n",
       "<table border=\"1\" class=\"dataframe\">\n",
       "  <thead>\n",
       "    <tr style=\"text-align: right;\">\n",
       "      <th></th>\n",
       "      <th>best_params</th>\n",
       "      <th>mae</th>\n",
       "      <th>mse</th>\n",
       "      <th>rmse</th>\n",
       "      <th>r2_score</th>\n",
       "    </tr>\n",
       "  </thead>\n",
       "  <tbody>\n",
       "    <tr>\n",
       "      <th>boosting_type</th>\n",
       "      <td>gbdt</td>\n",
       "      <td>0.016778</td>\n",
       "      <td>0.001221</td>\n",
       "      <td>0.034942</td>\n",
       "      <td>0.868567</td>\n",
       "    </tr>\n",
       "    <tr>\n",
       "      <th>learning_rate</th>\n",
       "      <td>0.1</td>\n",
       "      <td>0.016778</td>\n",
       "      <td>0.001221</td>\n",
       "      <td>0.034942</td>\n",
       "      <td>0.868567</td>\n",
       "    </tr>\n",
       "    <tr>\n",
       "      <th>max_depth</th>\n",
       "      <td>10</td>\n",
       "      <td>0.016778</td>\n",
       "      <td>0.001221</td>\n",
       "      <td>0.034942</td>\n",
       "      <td>0.868567</td>\n",
       "    </tr>\n",
       "    <tr>\n",
       "      <th>min_child_samples</th>\n",
       "      <td>20</td>\n",
       "      <td>0.016778</td>\n",
       "      <td>0.001221</td>\n",
       "      <td>0.034942</td>\n",
       "      <td>0.868567</td>\n",
       "    </tr>\n",
       "    <tr>\n",
       "      <th>n_estimators</th>\n",
       "      <td>1000</td>\n",
       "      <td>0.016778</td>\n",
       "      <td>0.001221</td>\n",
       "      <td>0.034942</td>\n",
       "      <td>0.868567</td>\n",
       "    </tr>\n",
       "    <tr>\n",
       "      <th>num_leaves</th>\n",
       "      <td>31</td>\n",
       "      <td>0.016778</td>\n",
       "      <td>0.001221</td>\n",
       "      <td>0.034942</td>\n",
       "      <td>0.868567</td>\n",
       "    </tr>\n",
       "    <tr>\n",
       "      <th>objective</th>\n",
       "      <td>regression</td>\n",
       "      <td>0.016778</td>\n",
       "      <td>0.001221</td>\n",
       "      <td>0.034942</td>\n",
       "      <td>0.868567</td>\n",
       "    </tr>\n",
       "    <tr>\n",
       "      <th>reg_alpha</th>\n",
       "      <td>0</td>\n",
       "      <td>0.016778</td>\n",
       "      <td>0.001221</td>\n",
       "      <td>0.034942</td>\n",
       "      <td>0.868567</td>\n",
       "    </tr>\n",
       "    <tr>\n",
       "      <th>reg_lambda</th>\n",
       "      <td>0</td>\n",
       "      <td>0.016778</td>\n",
       "      <td>0.001221</td>\n",
       "      <td>0.034942</td>\n",
       "      <td>0.868567</td>\n",
       "    </tr>\n",
       "    <tr>\n",
       "      <th>subsample</th>\n",
       "      <td>0.7</td>\n",
       "      <td>0.016778</td>\n",
       "      <td>0.001221</td>\n",
       "      <td>0.034942</td>\n",
       "      <td>0.868567</td>\n",
       "    </tr>\n",
       "  </tbody>\n",
       "</table>\n",
       "</div>"
      ],
      "text/plain": [
       "                  best_params       mae       mse      rmse  r2_score\n",
       "boosting_type            gbdt  0.016778  0.001221  0.034942  0.868567\n",
       "learning_rate             0.1  0.016778  0.001221  0.034942  0.868567\n",
       "max_depth                  10  0.016778  0.001221  0.034942  0.868567\n",
       "min_child_samples          20  0.016778  0.001221  0.034942  0.868567\n",
       "n_estimators             1000  0.016778  0.001221  0.034942  0.868567\n",
       "num_leaves                 31  0.016778  0.001221  0.034942  0.868567\n",
       "objective          regression  0.016778  0.001221  0.034942  0.868567\n",
       "reg_alpha                   0  0.016778  0.001221  0.034942  0.868567\n",
       "reg_lambda                  0  0.016778  0.001221  0.034942  0.868567\n",
       "subsample                 0.7  0.016778  0.001221  0.034942  0.868567"
      ]
     },
     "execution_count": 18,
     "metadata": {},
     "output_type": "execute_result"
    }
   ],
   "source": [
    "grid_search"
   ]
  },
  {
   "cell_type": "markdown",
   "metadata": {},
   "source": [
    "Neural Networks"
   ]
  },
  {
   "cell_type": "code",
   "execution_count": 2,
   "metadata": {},
   "outputs": [],
   "source": [
    "# Cargar los dados escalados en el ultimo modelo\n",
    "df = pd.read_pickle(\"data/Scaler.pkl\")\n",
    "\n",
    "# Filtrar los datos de train y test\n",
    "X_train = df[df['Set'] == 'Train'].drop(columns=['y', 'Set'])\n",
    "X_test = df[df['Set'] == 'Test'].drop(columns=['y', 'Set'])\n",
    "y_train = df[df['Set'] == 'Train']['y']\n",
    "y_test = df[df['Set'] == 'Test']['y']"
   ]
  },
  {
   "cell_type": "code",
   "execution_count": 3,
   "metadata": {},
   "outputs": [
    {
     "name": "stdout",
     "output_type": "stream",
     "text": [
      "Epoch 1/100\n",
      "\u001b[1m63/63\u001b[0m \u001b[32m━━━━━━━━━━━━━━━━━━━━\u001b[0m\u001b[37m\u001b[0m \u001b[1m2s\u001b[0m 4ms/step - loss: 0.0537 - val_loss: 0.0055\n",
      "Epoch 2/100\n",
      "\u001b[1m63/63\u001b[0m \u001b[32m━━━━━━━━━━━━━━━━━━━━\u001b[0m\u001b[37m\u001b[0m \u001b[1m0s\u001b[0m 2ms/step - loss: 0.0053 - val_loss: 0.0039\n",
      "Epoch 3/100\n",
      "\u001b[1m63/63\u001b[0m \u001b[32m━━━━━━━━━━━━━━━━━━━━\u001b[0m\u001b[37m\u001b[0m \u001b[1m0s\u001b[0m 2ms/step - loss: 0.0039 - val_loss: 0.0035\n",
      "Epoch 4/100\n",
      "\u001b[1m63/63\u001b[0m \u001b[32m━━━━━━━━━━━━━━━━━━━━\u001b[0m\u001b[37m\u001b[0m \u001b[1m0s\u001b[0m 2ms/step - loss: 0.0034 - val_loss: 0.0035\n",
      "Epoch 5/100\n",
      "\u001b[1m63/63\u001b[0m \u001b[32m━━━━━━━━━━━━━━━━━━━━\u001b[0m\u001b[37m\u001b[0m \u001b[1m0s\u001b[0m 2ms/step - loss: 0.0038 - val_loss: 0.0033\n",
      "Epoch 6/100\n",
      "\u001b[1m63/63\u001b[0m \u001b[32m━━━━━━━━━━━━━━━━━━━━\u001b[0m\u001b[37m\u001b[0m \u001b[1m0s\u001b[0m 2ms/step - loss: 0.0035 - val_loss: 0.0032\n",
      "Epoch 7/100\n",
      "\u001b[1m63/63\u001b[0m \u001b[32m━━━━━━━━━━━━━━━━━━━━\u001b[0m\u001b[37m\u001b[0m \u001b[1m0s\u001b[0m 1ms/step - loss: 0.0031 - val_loss: 0.0035\n",
      "Epoch 8/100\n",
      "\u001b[1m63/63\u001b[0m \u001b[32m━━━━━━━━━━━━━━━━━━━━\u001b[0m\u001b[37m\u001b[0m \u001b[1m0s\u001b[0m 2ms/step - loss: 0.0034 - val_loss: 0.0030\n",
      "Epoch 9/100\n",
      "\u001b[1m63/63\u001b[0m \u001b[32m━━━━━━━━━━━━━━━━━━━━\u001b[0m\u001b[37m\u001b[0m \u001b[1m0s\u001b[0m 2ms/step - loss: 0.0031 - val_loss: 0.0030\n",
      "Epoch 10/100\n",
      "\u001b[1m63/63\u001b[0m \u001b[32m━━━━━━━━━━━━━━━━━━━━\u001b[0m\u001b[37m\u001b[0m \u001b[1m0s\u001b[0m 2ms/step - loss: 0.0033 - val_loss: 0.0029\n",
      "Epoch 11/100\n",
      "\u001b[1m63/63\u001b[0m \u001b[32m━━━━━━━━━━━━━━━━━━━━\u001b[0m\u001b[37m\u001b[0m \u001b[1m0s\u001b[0m 2ms/step - loss: 0.0033 - val_loss: 0.0029\n",
      "Epoch 12/100\n",
      "\u001b[1m63/63\u001b[0m \u001b[32m━━━━━━━━━━━━━━━━━━━━\u001b[0m\u001b[37m\u001b[0m \u001b[1m0s\u001b[0m 2ms/step - loss: 0.0025 - val_loss: 0.0028\n",
      "Epoch 13/100\n",
      "\u001b[1m63/63\u001b[0m \u001b[32m━━━━━━━━━━━━━━━━━━━━\u001b[0m\u001b[37m\u001b[0m \u001b[1m0s\u001b[0m 1ms/step - loss: 0.0028 - val_loss: 0.0028\n",
      "Epoch 14/100\n",
      "\u001b[1m63/63\u001b[0m \u001b[32m━━━━━━━━━━━━━━━━━━━━\u001b[0m\u001b[37m\u001b[0m \u001b[1m0s\u001b[0m 2ms/step - loss: 0.0029 - val_loss: 0.0027\n",
      "Epoch 15/100\n",
      "\u001b[1m63/63\u001b[0m \u001b[32m━━━━━━━━━━━━━━━━━━━━\u001b[0m\u001b[37m\u001b[0m \u001b[1m0s\u001b[0m 2ms/step - loss: 0.0030 - val_loss: 0.0026\n",
      "Epoch 16/100\n",
      "\u001b[1m63/63\u001b[0m \u001b[32m━━━━━━━━━━━━━━━━━━━━\u001b[0m\u001b[37m\u001b[0m \u001b[1m0s\u001b[0m 2ms/step - loss: 0.0025 - val_loss: 0.0026\n",
      "Epoch 17/100\n",
      "\u001b[1m63/63\u001b[0m \u001b[32m━━━━━━━━━━━━━━━━━━━━\u001b[0m\u001b[37m\u001b[0m \u001b[1m0s\u001b[0m 2ms/step - loss: 0.0026 - val_loss: 0.0025\n",
      "Epoch 18/100\n",
      "\u001b[1m63/63\u001b[0m \u001b[32m━━━━━━━━━━━━━━━━━━━━\u001b[0m\u001b[37m\u001b[0m \u001b[1m0s\u001b[0m 1ms/step - loss: 0.0023 - val_loss: 0.0027\n",
      "Epoch 19/100\n",
      "\u001b[1m63/63\u001b[0m \u001b[32m━━━━━━━━━━━━━━━━━━━━\u001b[0m\u001b[37m\u001b[0m \u001b[1m0s\u001b[0m 2ms/step - loss: 0.0031 - val_loss: 0.0024\n",
      "Epoch 20/100\n",
      "\u001b[1m63/63\u001b[0m \u001b[32m━━━━━━━━━━━━━━━━━━━━\u001b[0m\u001b[37m\u001b[0m \u001b[1m0s\u001b[0m 2ms/step - loss: 0.0024 - val_loss: 0.0024\n",
      "Epoch 21/100\n",
      "\u001b[1m63/63\u001b[0m \u001b[32m━━━━━━━━━━━━━━━━━━━━\u001b[0m\u001b[37m\u001b[0m \u001b[1m0s\u001b[0m 2ms/step - loss: 0.0022 - val_loss: 0.0024\n",
      "Epoch 22/100\n",
      "\u001b[1m63/63\u001b[0m \u001b[32m━━━━━━━━━━━━━━━━━━━━\u001b[0m\u001b[37m\u001b[0m \u001b[1m0s\u001b[0m 2ms/step - loss: 0.0023 - val_loss: 0.0024\n",
      "Epoch 23/100\n",
      "\u001b[1m63/63\u001b[0m \u001b[32m━━━━━━━━━━━━━━━━━━━━\u001b[0m\u001b[37m\u001b[0m \u001b[1m0s\u001b[0m 2ms/step - loss: 0.0023 - val_loss: 0.0023\n",
      "Epoch 24/100\n",
      "\u001b[1m63/63\u001b[0m \u001b[32m━━━━━━━━━━━━━━━━━━━━\u001b[0m\u001b[37m\u001b[0m \u001b[1m0s\u001b[0m 2ms/step - loss: 0.0024 - val_loss: 0.0023\n",
      "Epoch 25/100\n",
      "\u001b[1m63/63\u001b[0m \u001b[32m━━━━━━━━━━━━━━━━━━━━\u001b[0m\u001b[37m\u001b[0m \u001b[1m0s\u001b[0m 2ms/step - loss: 0.0021 - val_loss: 0.0023\n",
      "Epoch 26/100\n",
      "\u001b[1m63/63\u001b[0m \u001b[32m━━━━━━━━━━━━━━━━━━━━\u001b[0m\u001b[37m\u001b[0m \u001b[1m0s\u001b[0m 1ms/step - loss: 0.0024 - val_loss: 0.0026\n",
      "Epoch 27/100\n",
      "\u001b[1m63/63\u001b[0m \u001b[32m━━━━━━━━━━━━━━━━━━━━\u001b[0m\u001b[37m\u001b[0m \u001b[1m0s\u001b[0m 1ms/step - loss: 0.0021 - val_loss: 0.0022\n",
      "Epoch 28/100\n",
      "\u001b[1m63/63\u001b[0m \u001b[32m━━━━━━━━━━━━━━━━━━━━\u001b[0m\u001b[37m\u001b[0m \u001b[1m0s\u001b[0m 2ms/step - loss: 0.0023 - val_loss: 0.0023\n",
      "Epoch 29/100\n",
      "\u001b[1m63/63\u001b[0m \u001b[32m━━━━━━━━━━━━━━━━━━━━\u001b[0m\u001b[37m\u001b[0m \u001b[1m0s\u001b[0m 2ms/step - loss: 0.0017 - val_loss: 0.0024\n",
      "Epoch 30/100\n",
      "\u001b[1m63/63\u001b[0m \u001b[32m━━━━━━━━━━━━━━━━━━━━\u001b[0m\u001b[37m\u001b[0m \u001b[1m0s\u001b[0m 2ms/step - loss: 0.0018 - val_loss: 0.0022\n",
      "Epoch 31/100\n",
      "\u001b[1m63/63\u001b[0m \u001b[32m━━━━━━━━━━━━━━━━━━━━\u001b[0m\u001b[37m\u001b[0m \u001b[1m0s\u001b[0m 1ms/step - loss: 0.0018 - val_loss: 0.0023\n",
      "Epoch 32/100\n",
      "\u001b[1m63/63\u001b[0m \u001b[32m━━━━━━━━━━━━━━━━━━━━\u001b[0m\u001b[37m\u001b[0m \u001b[1m0s\u001b[0m 2ms/step - loss: 0.0019 - val_loss: 0.0022\n",
      "Epoch 33/100\n",
      "\u001b[1m63/63\u001b[0m \u001b[32m━━━━━━━━━━━━━━━━━━━━\u001b[0m\u001b[37m\u001b[0m \u001b[1m0s\u001b[0m 1ms/step - loss: 0.0021 - val_loss: 0.0023\n",
      "Epoch 34/100\n",
      "\u001b[1m63/63\u001b[0m \u001b[32m━━━━━━━━━━━━━━━━━━━━\u001b[0m\u001b[37m\u001b[0m \u001b[1m0s\u001b[0m 2ms/step - loss: 0.0018 - val_loss: 0.0022\n",
      "Epoch 35/100\n",
      "\u001b[1m63/63\u001b[0m \u001b[32m━━━━━━━━━━━━━━━━━━━━\u001b[0m\u001b[37m\u001b[0m \u001b[1m0s\u001b[0m 2ms/step - loss: 0.0016 - val_loss: 0.0023\n",
      "Epoch 36/100\n",
      "\u001b[1m63/63\u001b[0m \u001b[32m━━━━━━━━━━━━━━━━━━━━\u001b[0m\u001b[37m\u001b[0m \u001b[1m0s\u001b[0m 2ms/step - loss: 0.0019 - val_loss: 0.0022\n",
      "Epoch 37/100\n",
      "\u001b[1m63/63\u001b[0m \u001b[32m━━━━━━━━━━━━━━━━━━━━\u001b[0m\u001b[37m\u001b[0m \u001b[1m0s\u001b[0m 2ms/step - loss: 0.0019 - val_loss: 0.0021\n",
      "Epoch 38/100\n",
      "\u001b[1m63/63\u001b[0m \u001b[32m━━━━━━━━━━━━━━━━━━━━\u001b[0m\u001b[37m\u001b[0m \u001b[1m0s\u001b[0m 2ms/step - loss: 0.0020 - val_loss: 0.0023\n",
      "Epoch 39/100\n",
      "\u001b[1m63/63\u001b[0m \u001b[32m━━━━━━━━━━━━━━━━━━━━\u001b[0m\u001b[37m\u001b[0m \u001b[1m0s\u001b[0m 3ms/step - loss: 0.0016 - val_loss: 0.0023\n",
      "Epoch 40/100\n",
      "\u001b[1m63/63\u001b[0m \u001b[32m━━━━━━━━━━━━━━━━━━━━\u001b[0m\u001b[37m\u001b[0m \u001b[1m0s\u001b[0m 2ms/step - loss: 0.0015 - val_loss: 0.0022\n",
      "Epoch 41/100\n",
      "\u001b[1m63/63\u001b[0m \u001b[32m━━━━━━━━━━━━━━━━━━━━\u001b[0m\u001b[37m\u001b[0m \u001b[1m0s\u001b[0m 2ms/step - loss: 0.0014 - val_loss: 0.0022\n",
      "Epoch 42/100\n",
      "\u001b[1m63/63\u001b[0m \u001b[32m━━━━━━━━━━━━━━━━━━━━\u001b[0m\u001b[37m\u001b[0m \u001b[1m0s\u001b[0m 2ms/step - loss: 0.0015 - val_loss: 0.0021\n",
      "Epoch 43/100\n",
      "\u001b[1m63/63\u001b[0m \u001b[32m━━━━━━━━━━━━━━━━━━━━\u001b[0m\u001b[37m\u001b[0m \u001b[1m0s\u001b[0m 2ms/step - loss: 0.0014 - val_loss: 0.0023\n",
      "Epoch 44/100\n",
      "\u001b[1m63/63\u001b[0m \u001b[32m━━━━━━━━━━━━━━━━━━━━\u001b[0m\u001b[37m\u001b[0m \u001b[1m0s\u001b[0m 2ms/step - loss: 0.0014 - val_loss: 0.0020\n",
      "Epoch 45/100\n",
      "\u001b[1m63/63\u001b[0m \u001b[32m━━━━━━━━━━━━━━━━━━━━\u001b[0m\u001b[37m\u001b[0m \u001b[1m0s\u001b[0m 2ms/step - loss: 0.0016 - val_loss: 0.0021\n",
      "Epoch 46/100\n",
      "\u001b[1m63/63\u001b[0m \u001b[32m━━━━━━━━━━━━━━━━━━━━\u001b[0m\u001b[37m\u001b[0m \u001b[1m0s\u001b[0m 2ms/step - loss: 0.0013 - val_loss: 0.0021\n",
      "Epoch 47/100\n",
      "\u001b[1m63/63\u001b[0m \u001b[32m━━━━━━━━━━━━━━━━━━━━\u001b[0m\u001b[37m\u001b[0m \u001b[1m0s\u001b[0m 2ms/step - loss: 0.0014 - val_loss: 0.0027\n",
      "Epoch 48/100\n",
      "\u001b[1m63/63\u001b[0m \u001b[32m━━━━━━━━━━━━━━━━━━━━\u001b[0m\u001b[37m\u001b[0m \u001b[1m0s\u001b[0m 2ms/step - loss: 0.0015 - val_loss: 0.0021\n",
      "Epoch 49/100\n",
      "\u001b[1m63/63\u001b[0m \u001b[32m━━━━━━━━━━━━━━━━━━━━\u001b[0m\u001b[37m\u001b[0m \u001b[1m0s\u001b[0m 2ms/step - loss: 0.0011 - val_loss: 0.0021\n",
      "Epoch 50/100\n",
      "\u001b[1m63/63\u001b[0m \u001b[32m━━━━━━━━━━━━━━━━━━━━\u001b[0m\u001b[37m\u001b[0m \u001b[1m0s\u001b[0m 2ms/step - loss: 0.0015 - val_loss: 0.0021\n",
      "Epoch 51/100\n",
      "\u001b[1m63/63\u001b[0m \u001b[32m━━━━━━━━━━━━━━━━━━━━\u001b[0m\u001b[37m\u001b[0m \u001b[1m0s\u001b[0m 2ms/step - loss: 0.0014 - val_loss: 0.0024\n",
      "Epoch 52/100\n",
      "\u001b[1m63/63\u001b[0m \u001b[32m━━━━━━━━━━━━━━━━━━━━\u001b[0m\u001b[37m\u001b[0m \u001b[1m0s\u001b[0m 2ms/step - loss: 0.0012 - val_loss: 0.0020\n",
      "Epoch 53/100\n",
      "\u001b[1m63/63\u001b[0m \u001b[32m━━━━━━━━━━━━━━━━━━━━\u001b[0m\u001b[37m\u001b[0m \u001b[1m0s\u001b[0m 2ms/step - loss: 0.0012 - val_loss: 0.0022\n",
      "Epoch 54/100\n",
      "\u001b[1m63/63\u001b[0m \u001b[32m━━━━━━━━━━━━━━━━━━━━\u001b[0m\u001b[37m\u001b[0m \u001b[1m0s\u001b[0m 2ms/step - loss: 0.0013 - val_loss: 0.0021\n",
      "Epoch 55/100\n",
      "\u001b[1m63/63\u001b[0m \u001b[32m━━━━━━━━━━━━━━━━━━━━\u001b[0m\u001b[37m\u001b[0m \u001b[1m0s\u001b[0m 2ms/step - loss: 0.0013 - val_loss: 0.0019\n",
      "Epoch 56/100\n",
      "\u001b[1m63/63\u001b[0m \u001b[32m━━━━━━━━━━━━━━━━━━━━\u001b[0m\u001b[37m\u001b[0m \u001b[1m0s\u001b[0m 2ms/step - loss: 0.0012 - val_loss: 0.0022\n",
      "Epoch 57/100\n",
      "\u001b[1m63/63\u001b[0m \u001b[32m━━━━━━━━━━━━━━━━━━━━\u001b[0m\u001b[37m\u001b[0m \u001b[1m0s\u001b[0m 2ms/step - loss: 0.0011 - val_loss: 0.0022\n",
      "Epoch 58/100\n",
      "\u001b[1m63/63\u001b[0m \u001b[32m━━━━━━━━━━━━━━━━━━━━\u001b[0m\u001b[37m\u001b[0m \u001b[1m0s\u001b[0m 2ms/step - loss: 0.0011 - val_loss: 0.0020\n",
      "Epoch 59/100\n",
      "\u001b[1m63/63\u001b[0m \u001b[32m━━━━━━━━━━━━━━━━━━━━\u001b[0m\u001b[37m\u001b[0m \u001b[1m0s\u001b[0m 2ms/step - loss: 0.0010 - val_loss: 0.0020\n",
      "Epoch 60/100\n",
      "\u001b[1m63/63\u001b[0m \u001b[32m━━━━━━━━━━━━━━━━━━━━\u001b[0m\u001b[37m\u001b[0m \u001b[1m0s\u001b[0m 2ms/step - loss: 0.0012 - val_loss: 0.0022\n",
      "Epoch 61/100\n",
      "\u001b[1m63/63\u001b[0m \u001b[32m━━━━━━━━━━━━━━━━━━━━\u001b[0m\u001b[37m\u001b[0m \u001b[1m0s\u001b[0m 2ms/step - loss: 0.0010 - val_loss: 0.0022\n",
      "Epoch 62/100\n",
      "\u001b[1m63/63\u001b[0m \u001b[32m━━━━━━━━━━━━━━━━━━━━\u001b[0m\u001b[37m\u001b[0m \u001b[1m0s\u001b[0m 2ms/step - loss: 8.0764e-04 - val_loss: 0.0022\n",
      "Epoch 63/100\n",
      "\u001b[1m63/63\u001b[0m \u001b[32m━━━━━━━━━━━━━━━━━━━━\u001b[0m\u001b[37m\u001b[0m \u001b[1m0s\u001b[0m 2ms/step - loss: 9.6528e-04 - val_loss: 0.0019\n",
      "Epoch 64/100\n",
      "\u001b[1m63/63\u001b[0m \u001b[32m━━━━━━━━━━━━━━━━━━━━\u001b[0m\u001b[37m\u001b[0m \u001b[1m0s\u001b[0m 2ms/step - loss: 9.9064e-04 - val_loss: 0.0021\n",
      "Epoch 65/100\n",
      "\u001b[1m63/63\u001b[0m \u001b[32m━━━━━━━━━━━━━━━━━━━━\u001b[0m\u001b[37m\u001b[0m \u001b[1m0s\u001b[0m 2ms/step - loss: 9.5862e-04 - val_loss: 0.0020\n",
      "Epoch 66/100\n",
      "\u001b[1m63/63\u001b[0m \u001b[32m━━━━━━━━━━━━━━━━━━━━\u001b[0m\u001b[37m\u001b[0m \u001b[1m0s\u001b[0m 2ms/step - loss: 8.8575e-04 - val_loss: 0.0021\n",
      "Epoch 67/100\n",
      "\u001b[1m63/63\u001b[0m \u001b[32m━━━━━━━━━━━━━━━━━━━━\u001b[0m\u001b[37m\u001b[0m \u001b[1m0s\u001b[0m 2ms/step - loss: 8.2097e-04 - val_loss: 0.0021\n",
      "Epoch 68/100\n",
      "\u001b[1m63/63\u001b[0m \u001b[32m━━━━━━━━━━━━━━━━━━━━\u001b[0m\u001b[37m\u001b[0m \u001b[1m0s\u001b[0m 2ms/step - loss: 0.0011 - val_loss: 0.0021\n",
      "Epoch 69/100\n",
      "\u001b[1m63/63\u001b[0m \u001b[32m━━━━━━━━━━━━━━━━━━━━\u001b[0m\u001b[37m\u001b[0m \u001b[1m0s\u001b[0m 2ms/step - loss: 9.9257e-04 - val_loss: 0.0021\n",
      "Epoch 70/100\n",
      "\u001b[1m63/63\u001b[0m \u001b[32m━━━━━━━━━━━━━━━━━━━━\u001b[0m\u001b[37m\u001b[0m \u001b[1m0s\u001b[0m 2ms/step - loss: 7.8437e-04 - val_loss: 0.0020\n",
      "Epoch 71/100\n",
      "\u001b[1m63/63\u001b[0m \u001b[32m━━━━━━━━━━━━━━━━━━━━\u001b[0m\u001b[37m\u001b[0m \u001b[1m0s\u001b[0m 2ms/step - loss: 8.0730e-04 - val_loss: 0.0020\n",
      "Epoch 72/100\n",
      "\u001b[1m63/63\u001b[0m \u001b[32m━━━━━━━━━━━━━━━━━━━━\u001b[0m\u001b[37m\u001b[0m \u001b[1m0s\u001b[0m 2ms/step - loss: 9.4164e-04 - val_loss: 0.0020\n",
      "Epoch 73/100\n",
      "\u001b[1m63/63\u001b[0m \u001b[32m━━━━━━━━━━━━━━━━━━━━\u001b[0m\u001b[37m\u001b[0m \u001b[1m0s\u001b[0m 2ms/step - loss: 7.9133e-04 - val_loss: 0.0019\n",
      "Epoch 74/100\n",
      "\u001b[1m63/63\u001b[0m \u001b[32m━━━━━━━━━━━━━━━━━━━━\u001b[0m\u001b[37m\u001b[0m \u001b[1m0s\u001b[0m 2ms/step - loss: 7.4786e-04 - val_loss: 0.0021\n",
      "Epoch 75/100\n",
      "\u001b[1m63/63\u001b[0m \u001b[32m━━━━━━━━━━━━━━━━━━━━\u001b[0m\u001b[37m\u001b[0m \u001b[1m0s\u001b[0m 2ms/step - loss: 8.6767e-04 - val_loss: 0.0019\n",
      "Epoch 76/100\n",
      "\u001b[1m63/63\u001b[0m \u001b[32m━━━━━━━━━━━━━━━━━━━━\u001b[0m\u001b[37m\u001b[0m \u001b[1m0s\u001b[0m 2ms/step - loss: 6.4211e-04 - val_loss: 0.0019\n",
      "Epoch 77/100\n",
      "\u001b[1m63/63\u001b[0m \u001b[32m━━━━━━━━━━━━━━━━━━━━\u001b[0m\u001b[37m\u001b[0m \u001b[1m0s\u001b[0m 1ms/step - loss: 5.9573e-04 - val_loss: 0.0019\n",
      "Epoch 78/100\n",
      "\u001b[1m63/63\u001b[0m \u001b[32m━━━━━━━━━━━━━━━━━━━━\u001b[0m\u001b[37m\u001b[0m \u001b[1m0s\u001b[0m 2ms/step - loss: 5.6311e-04 - val_loss: 0.0021\n",
      "Epoch 79/100\n",
      "\u001b[1m63/63\u001b[0m \u001b[32m━━━━━━━━━━━━━━━━━━━━\u001b[0m\u001b[37m\u001b[0m \u001b[1m0s\u001b[0m 2ms/step - loss: 7.6398e-04 - val_loss: 0.0021\n",
      "Epoch 80/100\n",
      "\u001b[1m63/63\u001b[0m \u001b[32m━━━━━━━━━━━━━━━━━━━━\u001b[0m\u001b[37m\u001b[0m \u001b[1m0s\u001b[0m 2ms/step - loss: 6.9787e-04 - val_loss: 0.0022\n",
      "Epoch 81/100\n",
      "\u001b[1m63/63\u001b[0m \u001b[32m━━━━━━━━━━━━━━━━━━━━\u001b[0m\u001b[37m\u001b[0m \u001b[1m0s\u001b[0m 3ms/step - loss: 8.0397e-04 - val_loss: 0.0020\n",
      "Epoch 82/100\n",
      "\u001b[1m63/63\u001b[0m \u001b[32m━━━━━━━━━━━━━━━━━━━━\u001b[0m\u001b[37m\u001b[0m \u001b[1m0s\u001b[0m 2ms/step - loss: 7.5392e-04 - val_loss: 0.0020\n",
      "Epoch 83/100\n",
      "\u001b[1m63/63\u001b[0m \u001b[32m━━━━━━━━━━━━━━━━━━━━\u001b[0m\u001b[37m\u001b[0m \u001b[1m0s\u001b[0m 2ms/step - loss: 6.1649e-04 - val_loss: 0.0019\n",
      "Epoch 84/100\n",
      "\u001b[1m63/63\u001b[0m \u001b[32m━━━━━━━━━━━━━━━━━━━━\u001b[0m\u001b[37m\u001b[0m \u001b[1m0s\u001b[0m 2ms/step - loss: 5.9841e-04 - val_loss: 0.0030\n",
      "Epoch 85/100\n",
      "\u001b[1m63/63\u001b[0m \u001b[32m━━━━━━━━━━━━━━━━━━━━\u001b[0m\u001b[37m\u001b[0m \u001b[1m0s\u001b[0m 2ms/step - loss: 9.9342e-04 - val_loss: 0.0020\n",
      "Epoch 86/100\n",
      "\u001b[1m63/63\u001b[0m \u001b[32m━━━━━━━━━━━━━━━━━━━━\u001b[0m\u001b[37m\u001b[0m \u001b[1m0s\u001b[0m 2ms/step - loss: 6.5289e-04 - val_loss: 0.0019\n",
      "Epoch 87/100\n",
      "\u001b[1m63/63\u001b[0m \u001b[32m━━━━━━━━━━━━━━━━━━━━\u001b[0m\u001b[37m\u001b[0m \u001b[1m0s\u001b[0m 2ms/step - loss: 6.0187e-04 - val_loss: 0.0019\n",
      "Epoch 88/100\n",
      "\u001b[1m63/63\u001b[0m \u001b[32m━━━━━━━━━━━━━━━━━━━━\u001b[0m\u001b[37m\u001b[0m \u001b[1m0s\u001b[0m 2ms/step - loss: 5.5420e-04 - val_loss: 0.0018\n",
      "Epoch 89/100\n",
      "\u001b[1m63/63\u001b[0m \u001b[32m━━━━━━━━━━━━━━━━━━━━\u001b[0m\u001b[37m\u001b[0m \u001b[1m0s\u001b[0m 2ms/step - loss: 4.7084e-04 - val_loss: 0.0020\n",
      "Epoch 90/100\n",
      "\u001b[1m63/63\u001b[0m \u001b[32m━━━━━━━━━━━━━━━━━━━━\u001b[0m\u001b[37m\u001b[0m \u001b[1m0s\u001b[0m 2ms/step - loss: 5.8424e-04 - val_loss: 0.0019\n",
      "Epoch 91/100\n",
      "\u001b[1m63/63\u001b[0m \u001b[32m━━━━━━━━━━━━━━━━━━━━\u001b[0m\u001b[37m\u001b[0m \u001b[1m0s\u001b[0m 2ms/step - loss: 5.2615e-04 - val_loss: 0.0021\n",
      "Epoch 92/100\n",
      "\u001b[1m63/63\u001b[0m \u001b[32m━━━━━━━━━━━━━━━━━━━━\u001b[0m\u001b[37m\u001b[0m \u001b[1m0s\u001b[0m 2ms/step - loss: 4.7484e-04 - val_loss: 0.0020\n",
      "Epoch 93/100\n",
      "\u001b[1m63/63\u001b[0m \u001b[32m━━━━━━━━━━━━━━━━━━━━\u001b[0m\u001b[37m\u001b[0m \u001b[1m0s\u001b[0m 2ms/step - loss: 4.7905e-04 - val_loss: 0.0021\n",
      "Epoch 94/100\n",
      "\u001b[1m63/63\u001b[0m \u001b[32m━━━━━━━━━━━━━━━━━━━━\u001b[0m\u001b[37m\u001b[0m \u001b[1m0s\u001b[0m 2ms/step - loss: 5.1817e-04 - val_loss: 0.0019\n",
      "Epoch 95/100\n",
      "\u001b[1m63/63\u001b[0m \u001b[32m━━━━━━━━━━━━━━━━━━━━\u001b[0m\u001b[37m\u001b[0m \u001b[1m0s\u001b[0m 4ms/step - loss: 4.7473e-04 - val_loss: 0.0019\n",
      "Epoch 96/100\n",
      "\u001b[1m63/63\u001b[0m \u001b[32m━━━━━━━━━━━━━━━━━━━━\u001b[0m\u001b[37m\u001b[0m \u001b[1m0s\u001b[0m 2ms/step - loss: 4.2923e-04 - val_loss: 0.0019\n",
      "Epoch 97/100\n",
      "\u001b[1m63/63\u001b[0m \u001b[32m━━━━━━━━━━━━━━━━━━━━\u001b[0m\u001b[37m\u001b[0m \u001b[1m0s\u001b[0m 2ms/step - loss: 5.4582e-04 - val_loss: 0.0020\n",
      "Epoch 98/100\n",
      "\u001b[1m63/63\u001b[0m \u001b[32m━━━━━━━━━━━━━━━━━━━━\u001b[0m\u001b[37m\u001b[0m \u001b[1m0s\u001b[0m 2ms/step - loss: 5.5329e-04 - val_loss: 0.0018\n",
      "Epoch 99/100\n",
      "\u001b[1m63/63\u001b[0m \u001b[32m━━━━━━━━━━━━━━━━━━━━\u001b[0m\u001b[37m\u001b[0m \u001b[1m0s\u001b[0m 2ms/step - loss: 4.8144e-04 - val_loss: 0.0020\n",
      "Epoch 100/100\n",
      "\u001b[1m63/63\u001b[0m \u001b[32m━━━━━━━━━━━━━━━━━━━━\u001b[0m\u001b[37m\u001b[0m \u001b[1m0s\u001b[0m 2ms/step - loss: 4.1502e-04 - val_loss: 0.0020\n"
     ]
    },
    {
     "data": {
      "application/vnd.plotly.v1+json": {
       "config": {
        "plotlyServerURL": "https://plot.ly"
       },
       "data": [
        {
         "line": {
          "color": "blue"
         },
         "mode": "lines",
         "name": "Train Loss",
         "type": "scatter",
         "y": [
          0.02295566350221634,
          0.004906236194074154,
          0.004154502879828215,
          0.0038340124301612377,
          0.0036774505861103535,
          0.0035142139531672,
          0.0033534669782966375,
          0.00329017941839993,
          0.0031856908462941647,
          0.003082970157265663,
          0.0030285404063761234,
          0.0029484787955880165,
          0.002906608395278454,
          0.0028188577853143215,
          0.0027062478475272655,
          0.0026243929751217365,
          0.0026213349774479866,
          0.002466474426910281,
          0.0024008832406252623,
          0.0024169739335775375,
          0.0023709035012871027,
          0.002287553623318672,
          0.0022983429953455925,
          0.0021957564167678356,
          0.00213891570456326,
          0.002206578617915511,
          0.0020948336459696293,
          0.002167074242606759,
          0.0020023135002702475,
          0.0019341196166351438,
          0.001963244052603841,
          0.0020015316549688578,
          0.0019062712090089917,
          0.0018141738837584853,
          0.0017436452908441424,
          0.0018547434592619538,
          0.0017452200409024954,
          0.00163930538110435,
          0.0016452274285256863,
          0.0015853903023526073,
          0.0015201916685327888,
          0.0015404174337163568,
          0.001520813792012632,
          0.0015336350770667195,
          0.0015261961380019784,
          0.0014540001284331083,
          0.001464937929995358,
          0.0013614932540804148,
          0.0012742143590003252,
          0.0013471405254676938,
          0.0012683485401794314,
          0.0012521091848611832,
          0.0012830068590119481,
          0.0013134469045326114,
          0.0013340434525161982,
          0.001203608000651002,
          0.0010743116727098823,
          0.0011203369358554482,
          0.0011046931613236666,
          0.0010072512086480856,
          0.0010310172801837325,
          0.0009595236624591053,
          0.0010156441712751985,
          0.001022154581733048,
          0.0009594647563062608,
          0.0009748481679707766,
          0.0009674443863332272,
          0.0010020716581493616,
          0.0008689977112226188,
          0.0008564096642658114,
          0.000792179664131254,
          0.0008851686725392938,
          0.0007951038423925638,
          0.0008427040302194655,
          0.0008131354697979987,
          0.0007695172680541873,
          0.0006732988404110074,
          0.0006432025693356991,
          0.0008181293960660696,
          0.0007529540453106165,
          0.0007403544732369483,
          0.0006896655540913343,
          0.0006363779539242387,
          0.0006936783320270479,
          0.0008382675587199628,
          0.0006423804443329573,
          0.0006127360975369811,
          0.0005610661464743316,
          0.0005144263850525022,
          0.0005439973319880664,
          0.0005368732381612062,
          0.0005271764821372926,
          0.00047231357893906534,
          0.0005139171262271702,
          0.00045338907511904836,
          0.0005167998606339097,
          0.0005211892421357334,
          0.0005431321333162487,
          0.0004960119840689003,
          0.00044774689013138413
         ]
        },
        {
         "line": {
          "color": "orange"
         },
         "mode": "lines",
         "name": "Validation Loss",
         "type": "scatter",
         "y": [
          0.005469141528010368,
          0.0038903402164578438,
          0.0035372653510421515,
          0.0034615257754921913,
          0.0032612185459583998,
          0.003161816857755184,
          0.003502221778035164,
          0.0030251718126237392,
          0.00302495458163321,
          0.0029435469768941402,
          0.00291432230733335,
          0.002770638559013605,
          0.0028028269298374653,
          0.002710834378376603,
          0.0026083937846124172,
          0.002642016625031829,
          0.002524570794776082,
          0.002662645885720849,
          0.0023837322369217873,
          0.002386529929935932,
          0.002426487859338522,
          0.002405134728178382,
          0.002338625956326723,
          0.0022813305258750916,
          0.002309088595211506,
          0.0025591386947780848,
          0.0021630791015923023,
          0.002292767632752657,
          0.002402180340141058,
          0.002159138210117817,
          0.002305778907611966,
          0.002167423954233527,
          0.0022678454406559467,
          0.0021631575655192137,
          0.0022568940185010433,
          0.0021843034774065018,
          0.0021075094118714333,
          0.002267826348543167,
          0.0022830793168395758,
          0.0022394380066543818,
          0.002152028726413846,
          0.002118660369887948,
          0.002334786346182227,
          0.0019841014873236418,
          0.0020964578725397587,
          0.0021414346992969513,
          0.0026816995814442635,
          0.0020673838444054127,
          0.0020562484860420227,
          0.0020530608016997576,
          0.002390918554738164,
          0.002043807180598378,
          0.002159826224669814,
          0.002148894127458334,
          0.0019439535681158304,
          0.0021565889474004507,
          0.0021983229089528322,
          0.002026414265856147,
          0.0020116432569921017,
          0.0021894543897360563,
          0.002233529696241021,
          0.0021584320347756147,
          0.0019406178034842014,
          0.0021425518207252026,
          0.0020034732297062874,
          0.002143984427675605,
          0.0021155644208192825,
          0.0020840000361204147,
          0.002106867963448167,
          0.0019638242665678263,
          0.0020237681455910206,
          0.0020432218443602324,
          0.001928397105075419,
          0.002092027338221669,
          0.001932164072059095,
          0.0019436334259808064,
          0.001897124107927084,
          0.002083585364744067,
          0.0020678816363215446,
          0.002245143987238407,
          0.00199018488638103,
          0.0019508302211761475,
          0.0018928784411400557,
          0.002985292812809348,
          0.001998971216380596,
          0.0019312831573188305,
          0.0019371032249182463,
          0.001833324320614338,
          0.0019642955157905817,
          0.0019342456944286823,
          0.0021043710876256227,
          0.001979757333174348,
          0.00213225232437253,
          0.001862450153566897,
          0.001876234426163137,
          0.0018594864523038268,
          0.0020060434471815825,
          0.0017808862030506134,
          0.002023540437221527,
          0.002032068558037281
         ]
        }
       ],
       "layout": {
        "legend": {
         "orientation": "h",
         "x": 0.5,
         "xanchor": "center",
         "y": 1
        },
        "template": {
         "data": {
          "bar": [
           {
            "error_x": {
             "color": "#2a3f5f"
            },
            "error_y": {
             "color": "#2a3f5f"
            },
            "marker": {
             "line": {
              "color": "white",
              "width": 0.5
             },
             "pattern": {
              "fillmode": "overlay",
              "size": 10,
              "solidity": 0.2
             }
            },
            "type": "bar"
           }
          ],
          "barpolar": [
           {
            "marker": {
             "line": {
              "color": "white",
              "width": 0.5
             },
             "pattern": {
              "fillmode": "overlay",
              "size": 10,
              "solidity": 0.2
             }
            },
            "type": "barpolar"
           }
          ],
          "carpet": [
           {
            "aaxis": {
             "endlinecolor": "#2a3f5f",
             "gridcolor": "#C8D4E3",
             "linecolor": "#C8D4E3",
             "minorgridcolor": "#C8D4E3",
             "startlinecolor": "#2a3f5f"
            },
            "baxis": {
             "endlinecolor": "#2a3f5f",
             "gridcolor": "#C8D4E3",
             "linecolor": "#C8D4E3",
             "minorgridcolor": "#C8D4E3",
             "startlinecolor": "#2a3f5f"
            },
            "type": "carpet"
           }
          ],
          "choropleth": [
           {
            "colorbar": {
             "outlinewidth": 0,
             "ticks": ""
            },
            "type": "choropleth"
           }
          ],
          "contour": [
           {
            "colorbar": {
             "outlinewidth": 0,
             "ticks": ""
            },
            "colorscale": [
             [
              0,
              "#0d0887"
             ],
             [
              0.1111111111111111,
              "#46039f"
             ],
             [
              0.2222222222222222,
              "#7201a8"
             ],
             [
              0.3333333333333333,
              "#9c179e"
             ],
             [
              0.4444444444444444,
              "#bd3786"
             ],
             [
              0.5555555555555556,
              "#d8576b"
             ],
             [
              0.6666666666666666,
              "#ed7953"
             ],
             [
              0.7777777777777778,
              "#fb9f3a"
             ],
             [
              0.8888888888888888,
              "#fdca26"
             ],
             [
              1,
              "#f0f921"
             ]
            ],
            "type": "contour"
           }
          ],
          "contourcarpet": [
           {
            "colorbar": {
             "outlinewidth": 0,
             "ticks": ""
            },
            "type": "contourcarpet"
           }
          ],
          "heatmap": [
           {
            "colorbar": {
             "outlinewidth": 0,
             "ticks": ""
            },
            "colorscale": [
             [
              0,
              "#0d0887"
             ],
             [
              0.1111111111111111,
              "#46039f"
             ],
             [
              0.2222222222222222,
              "#7201a8"
             ],
             [
              0.3333333333333333,
              "#9c179e"
             ],
             [
              0.4444444444444444,
              "#bd3786"
             ],
             [
              0.5555555555555556,
              "#d8576b"
             ],
             [
              0.6666666666666666,
              "#ed7953"
             ],
             [
              0.7777777777777778,
              "#fb9f3a"
             ],
             [
              0.8888888888888888,
              "#fdca26"
             ],
             [
              1,
              "#f0f921"
             ]
            ],
            "type": "heatmap"
           }
          ],
          "heatmapgl": [
           {
            "colorbar": {
             "outlinewidth": 0,
             "ticks": ""
            },
            "colorscale": [
             [
              0,
              "#0d0887"
             ],
             [
              0.1111111111111111,
              "#46039f"
             ],
             [
              0.2222222222222222,
              "#7201a8"
             ],
             [
              0.3333333333333333,
              "#9c179e"
             ],
             [
              0.4444444444444444,
              "#bd3786"
             ],
             [
              0.5555555555555556,
              "#d8576b"
             ],
             [
              0.6666666666666666,
              "#ed7953"
             ],
             [
              0.7777777777777778,
              "#fb9f3a"
             ],
             [
              0.8888888888888888,
              "#fdca26"
             ],
             [
              1,
              "#f0f921"
             ]
            ],
            "type": "heatmapgl"
           }
          ],
          "histogram": [
           {
            "marker": {
             "pattern": {
              "fillmode": "overlay",
              "size": 10,
              "solidity": 0.2
             }
            },
            "type": "histogram"
           }
          ],
          "histogram2d": [
           {
            "colorbar": {
             "outlinewidth": 0,
             "ticks": ""
            },
            "colorscale": [
             [
              0,
              "#0d0887"
             ],
             [
              0.1111111111111111,
              "#46039f"
             ],
             [
              0.2222222222222222,
              "#7201a8"
             ],
             [
              0.3333333333333333,
              "#9c179e"
             ],
             [
              0.4444444444444444,
              "#bd3786"
             ],
             [
              0.5555555555555556,
              "#d8576b"
             ],
             [
              0.6666666666666666,
              "#ed7953"
             ],
             [
              0.7777777777777778,
              "#fb9f3a"
             ],
             [
              0.8888888888888888,
              "#fdca26"
             ],
             [
              1,
              "#f0f921"
             ]
            ],
            "type": "histogram2d"
           }
          ],
          "histogram2dcontour": [
           {
            "colorbar": {
             "outlinewidth": 0,
             "ticks": ""
            },
            "colorscale": [
             [
              0,
              "#0d0887"
             ],
             [
              0.1111111111111111,
              "#46039f"
             ],
             [
              0.2222222222222222,
              "#7201a8"
             ],
             [
              0.3333333333333333,
              "#9c179e"
             ],
             [
              0.4444444444444444,
              "#bd3786"
             ],
             [
              0.5555555555555556,
              "#d8576b"
             ],
             [
              0.6666666666666666,
              "#ed7953"
             ],
             [
              0.7777777777777778,
              "#fb9f3a"
             ],
             [
              0.8888888888888888,
              "#fdca26"
             ],
             [
              1,
              "#f0f921"
             ]
            ],
            "type": "histogram2dcontour"
           }
          ],
          "mesh3d": [
           {
            "colorbar": {
             "outlinewidth": 0,
             "ticks": ""
            },
            "type": "mesh3d"
           }
          ],
          "parcoords": [
           {
            "line": {
             "colorbar": {
              "outlinewidth": 0,
              "ticks": ""
             }
            },
            "type": "parcoords"
           }
          ],
          "pie": [
           {
            "automargin": true,
            "type": "pie"
           }
          ],
          "scatter": [
           {
            "fillpattern": {
             "fillmode": "overlay",
             "size": 10,
             "solidity": 0.2
            },
            "type": "scatter"
           }
          ],
          "scatter3d": [
           {
            "line": {
             "colorbar": {
              "outlinewidth": 0,
              "ticks": ""
             }
            },
            "marker": {
             "colorbar": {
              "outlinewidth": 0,
              "ticks": ""
             }
            },
            "type": "scatter3d"
           }
          ],
          "scattercarpet": [
           {
            "marker": {
             "colorbar": {
              "outlinewidth": 0,
              "ticks": ""
             }
            },
            "type": "scattercarpet"
           }
          ],
          "scattergeo": [
           {
            "marker": {
             "colorbar": {
              "outlinewidth": 0,
              "ticks": ""
             }
            },
            "type": "scattergeo"
           }
          ],
          "scattergl": [
           {
            "marker": {
             "colorbar": {
              "outlinewidth": 0,
              "ticks": ""
             }
            },
            "type": "scattergl"
           }
          ],
          "scattermapbox": [
           {
            "marker": {
             "colorbar": {
              "outlinewidth": 0,
              "ticks": ""
             }
            },
            "type": "scattermapbox"
           }
          ],
          "scatterpolar": [
           {
            "marker": {
             "colorbar": {
              "outlinewidth": 0,
              "ticks": ""
             }
            },
            "type": "scatterpolar"
           }
          ],
          "scatterpolargl": [
           {
            "marker": {
             "colorbar": {
              "outlinewidth": 0,
              "ticks": ""
             }
            },
            "type": "scatterpolargl"
           }
          ],
          "scatterternary": [
           {
            "marker": {
             "colorbar": {
              "outlinewidth": 0,
              "ticks": ""
             }
            },
            "type": "scatterternary"
           }
          ],
          "surface": [
           {
            "colorbar": {
             "outlinewidth": 0,
             "ticks": ""
            },
            "colorscale": [
             [
              0,
              "#0d0887"
             ],
             [
              0.1111111111111111,
              "#46039f"
             ],
             [
              0.2222222222222222,
              "#7201a8"
             ],
             [
              0.3333333333333333,
              "#9c179e"
             ],
             [
              0.4444444444444444,
              "#bd3786"
             ],
             [
              0.5555555555555556,
              "#d8576b"
             ],
             [
              0.6666666666666666,
              "#ed7953"
             ],
             [
              0.7777777777777778,
              "#fb9f3a"
             ],
             [
              0.8888888888888888,
              "#fdca26"
             ],
             [
              1,
              "#f0f921"
             ]
            ],
            "type": "surface"
           }
          ],
          "table": [
           {
            "cells": {
             "fill": {
              "color": "#EBF0F8"
             },
             "line": {
              "color": "white"
             }
            },
            "header": {
             "fill": {
              "color": "#C8D4E3"
             },
             "line": {
              "color": "white"
             }
            },
            "type": "table"
           }
          ]
         },
         "layout": {
          "annotationdefaults": {
           "arrowcolor": "#2a3f5f",
           "arrowhead": 0,
           "arrowwidth": 1
          },
          "autotypenumbers": "strict",
          "coloraxis": {
           "colorbar": {
            "outlinewidth": 0,
            "ticks": ""
           }
          },
          "colorscale": {
           "diverging": [
            [
             0,
             "#8e0152"
            ],
            [
             0.1,
             "#c51b7d"
            ],
            [
             0.2,
             "#de77ae"
            ],
            [
             0.3,
             "#f1b6da"
            ],
            [
             0.4,
             "#fde0ef"
            ],
            [
             0.5,
             "#f7f7f7"
            ],
            [
             0.6,
             "#e6f5d0"
            ],
            [
             0.7,
             "#b8e186"
            ],
            [
             0.8,
             "#7fbc41"
            ],
            [
             0.9,
             "#4d9221"
            ],
            [
             1,
             "#276419"
            ]
           ],
           "sequential": [
            [
             0,
             "#0d0887"
            ],
            [
             0.1111111111111111,
             "#46039f"
            ],
            [
             0.2222222222222222,
             "#7201a8"
            ],
            [
             0.3333333333333333,
             "#9c179e"
            ],
            [
             0.4444444444444444,
             "#bd3786"
            ],
            [
             0.5555555555555556,
             "#d8576b"
            ],
            [
             0.6666666666666666,
             "#ed7953"
            ],
            [
             0.7777777777777778,
             "#fb9f3a"
            ],
            [
             0.8888888888888888,
             "#fdca26"
            ],
            [
             1,
             "#f0f921"
            ]
           ],
           "sequentialminus": [
            [
             0,
             "#0d0887"
            ],
            [
             0.1111111111111111,
             "#46039f"
            ],
            [
             0.2222222222222222,
             "#7201a8"
            ],
            [
             0.3333333333333333,
             "#9c179e"
            ],
            [
             0.4444444444444444,
             "#bd3786"
            ],
            [
             0.5555555555555556,
             "#d8576b"
            ],
            [
             0.6666666666666666,
             "#ed7953"
            ],
            [
             0.7777777777777778,
             "#fb9f3a"
            ],
            [
             0.8888888888888888,
             "#fdca26"
            ],
            [
             1,
             "#f0f921"
            ]
           ]
          },
          "colorway": [
           "#636efa",
           "#EF553B",
           "#00cc96",
           "#ab63fa",
           "#FFA15A",
           "#19d3f3",
           "#FF6692",
           "#B6E880",
           "#FF97FF",
           "#FECB52"
          ],
          "font": {
           "color": "#2a3f5f"
          },
          "geo": {
           "bgcolor": "white",
           "lakecolor": "white",
           "landcolor": "white",
           "showlakes": true,
           "showland": true,
           "subunitcolor": "#C8D4E3"
          },
          "hoverlabel": {
           "align": "left"
          },
          "hovermode": "closest",
          "mapbox": {
           "style": "light"
          },
          "paper_bgcolor": "white",
          "plot_bgcolor": "white",
          "polar": {
           "angularaxis": {
            "gridcolor": "#EBF0F8",
            "linecolor": "#EBF0F8",
            "ticks": ""
           },
           "bgcolor": "white",
           "radialaxis": {
            "gridcolor": "#EBF0F8",
            "linecolor": "#EBF0F8",
            "ticks": ""
           }
          },
          "scene": {
           "xaxis": {
            "backgroundcolor": "white",
            "gridcolor": "#DFE8F3",
            "gridwidth": 2,
            "linecolor": "#EBF0F8",
            "showbackground": true,
            "ticks": "",
            "zerolinecolor": "#EBF0F8"
           },
           "yaxis": {
            "backgroundcolor": "white",
            "gridcolor": "#DFE8F3",
            "gridwidth": 2,
            "linecolor": "#EBF0F8",
            "showbackground": true,
            "ticks": "",
            "zerolinecolor": "#EBF0F8"
           },
           "zaxis": {
            "backgroundcolor": "white",
            "gridcolor": "#DFE8F3",
            "gridwidth": 2,
            "linecolor": "#EBF0F8",
            "showbackground": true,
            "ticks": "",
            "zerolinecolor": "#EBF0F8"
           }
          },
          "shapedefaults": {
           "line": {
            "color": "#2a3f5f"
           }
          },
          "ternary": {
           "aaxis": {
            "gridcolor": "#DFE8F3",
            "linecolor": "#A2B1C6",
            "ticks": ""
           },
           "baxis": {
            "gridcolor": "#DFE8F3",
            "linecolor": "#A2B1C6",
            "ticks": ""
           },
           "bgcolor": "white",
           "caxis": {
            "gridcolor": "#DFE8F3",
            "linecolor": "#A2B1C6",
            "ticks": ""
           }
          },
          "title": {
           "x": 0.05
          },
          "xaxis": {
           "automargin": true,
           "gridcolor": "#EBF0F8",
           "linecolor": "#EBF0F8",
           "ticks": "",
           "title": {
            "standoff": 15
           },
           "zerolinecolor": "#EBF0F8",
           "zerolinewidth": 2
          },
          "yaxis": {
           "automargin": true,
           "gridcolor": "#EBF0F8",
           "linecolor": "#EBF0F8",
           "ticks": "",
           "title": {
            "standoff": 15
           },
           "zerolinecolor": "#EBF0F8",
           "zerolinewidth": 2
          }
         }
        },
        "title": {
         "text": "Pérdida durante el entrenamiento y validación (Modelo 1)"
        },
        "xaxis": {
         "title": {
          "text": "Epochs"
         }
        },
        "yaxis": {
         "title": {
          "text": "Loss"
         }
        }
       }
      }
     },
     "metadata": {},
     "output_type": "display_data"
    },
    {
     "name": "stdout",
     "output_type": "stream",
     "text": [
      "\u001b[1m16/16\u001b[0m \u001b[32m━━━━━━━━━━━━━━━━━━━━\u001b[0m\u001b[37m\u001b[0m \u001b[1m0s\u001b[0m 2ms/step - loss: 0.0020 \n",
      "Pierda en el conjunto de teste: 0.002032068558037281\n",
      "\u001b[1m16/16\u001b[0m \u001b[32m━━━━━━━━━━━━━━━━━━━━\u001b[0m\u001b[37m\u001b[0m \u001b[1m0s\u001b[0m 4ms/step\n"
     ]
    },
    {
     "data": {
      "application/vnd.plotly.v1+json": {
       "config": {
        "plotlyServerURL": "https://plot.ly"
       },
       "data": [
        {
         "hovertemplate": "Valores Reales=%{x}<br>Predicciones=%{y}<extra></extra>",
         "legendgroup": "",
         "marker": {
          "color": "#636efa",
          "symbol": "circle"
         },
         "mode": "markers",
         "name": "",
         "orientation": "v",
         "showlegend": false,
         "type": "scatter",
         "x": [
          0.21658986175115208,
          0.1912442396313364,
          0.09216589861751151,
          0.12442396313364054,
          0.23732718894009214,
          0.1889400921658986,
          0.10138248847926268,
          0.22811059907834103,
          0.11981566820276496,
          0.052995391705069124,
          0.06682027649769584,
          0.23963133640552997,
          0.14746543778801843,
          0.3617511520737327,
          0.3087557603686636,
          0.07834101382488479,
          0.04377880184331797,
          0.020737327188940093,
          0.347926267281106,
          0.08755760368663595,
          0.2626728110599078,
          0.12442396313364054,
          0.13824884792626727,
          0.009216589861751154,
          0.023041474654377878,
          0.08986175115207373,
          0.05069124423963133,
          0.04608294930875576,
          0.004608294930875577,
          0.2626728110599078,
          0.22119815668202764,
          0.027649769585253454,
          0.2626728110599078,
          0.2073732718894009,
          0.07834101382488479,
          0.23502304147465436,
          0.1912442396313364,
          0.20506912442396313,
          0.20506912442396313,
          0.16359447004608293,
          0.03225806451612904,
          0.11059907834101382,
          0.0184331797235023,
          0.12211981566820276,
          0.048387096774193554,
          0.1129032258064516,
          0.10138248847926268,
          0.1497695852534562,
          0.08294930875576037,
          0.055299539170506916,
          0.027649769585253454,
          0.034562211981566816,
          0.08986175115207373,
          0.059907834101382486,
          0.1935483870967742,
          0.24193548387096775,
          0.04147465437788018,
          0.016129032258064516,
          0.3433179723502304,
          0.06221198156682028,
          0.22811059907834103,
          0.25115207373271886,
          0.19815668202764977,
          0.12903225806451613,
          0.1935483870967742,
          0.2995391705069124,
          0.052995391705069124,
          0.1728110599078341,
          0.2119815668202765,
          0.4608294930875576,
          0.10138248847926268,
          0.20046082949308755,
          0.19585253456221197,
          0.10138248847926268,
          0.12211981566820276,
          0.09907834101382487,
          0.016129032258064516,
          0.33410138248847926,
          0.152073732718894,
          0.41935483870967744,
          0.21658986175115208,
          0.03225806451612904,
          0.05069124423963133,
          0.07834101382488479,
          0.03225806451612904,
          0.10829493087557604,
          0.23963133640552997,
          0.3087557603686636,
          0.06221198156682028,
          0.22811059907834103,
          0.271889400921659,
          0.3294930875576037,
          0.016129032258064516,
          0.15898617511520738,
          0.0391705069124424,
          0.07834101382488479,
          0.08294930875576037,
          0.22811059907834103,
          0.1912442396313364,
          0.034562211981566816,
          0.12442396313364054,
          0.08755760368663595,
          0.023041474654377878,
          0.08986175115207373,
          0.14746543778801843,
          0.07603686635944701,
          0.06682027649769584,
          0.07834101382488479,
          0.1705069124423963,
          0.06682027649769584,
          0.0737327188940092,
          0.009216589861751154,
          0.055299539170506916,
          0.12672811059907835,
          0.18433179723502302,
          0.04608294930875576,
          0.1705069124423963,
          0.2926267281105991,
          0.19815668202764977,
          0.1705069124423963,
          0.04377880184331797,
          0.25115207373271886,
          0.1912442396313364,
          0.055299539170506916,
          0.009216589861751154,
          0.02534562211981567,
          0.15668202764976957,
          0.07834101382488479,
          0.18433179723502302,
          0.016129032258064516,
          0.24423963133640553,
          0.3617511520737327,
          0.2857142857142857,
          0.1935483870967742,
          0.05069124423963133,
          0.21658986175115208,
          0.057603686635944694,
          0.05069124423963133,
          0.23963133640552997,
          0.0391705069124424,
          0.059907834101382486,
          0.24884792626728108,
          0.08986175115207373,
          0.07834101382488479,
          0.3387096774193548,
          0.10599078341013823,
          0.03686635944700461,
          0.07834101382488479,
          0.055299539170506916,
          0.2626728110599078,
          0.21658986175115208,
          0.2119815668202765,
          0.11981566820276496,
          0.03225806451612904,
          0.18663594470046083,
          0.21889400921658986,
          0.15898617511520738,
          0.25806451612903225,
          0.25806451612903225,
          0.048387096774193554,
          0.1129032258064516,
          0.048387096774193554,
          0.16359447004608293,
          0.05069124423963133,
          0.10138248847926268,
          0.07834101382488479,
          0.08294930875576037,
          0.2857142857142857,
          0.2880184331797235,
          0.21658986175115208,
          0.0967741935483871,
          0.15898617511520738,
          0.04608294930875576,
          0.08755760368663595,
          0.1336405529953917,
          0.03686635944700461,
          0.1912442396313364,
          0.24423963133640553,
          0.23963133640552997,
          0.1543778801843318,
          0.04377880184331797,
          0.0737327188940092,
          0.20276497695852533,
          0.07834101382488479,
          0.057603686635944694,
          0.0184331797235023,
          0.08294930875576037,
          0.23732718894009214,
          0.4009216589861751,
          0.14516129032258063,
          0.055299539170506916,
          0.15898617511520738,
          0.21658986175115208,
          0.23963133640552997,
          0.10138248847926268,
          0.057603686635944694,
          0.15668202764976957,
          0.09447004608294929,
          0.2534562211981567,
          0.20046082949308755,
          0.06682027649769584,
          0.0737327188940092,
          0.0737327188940092,
          0.055299539170506916,
          0.03686635944700461,
          0.25806451612903225,
          0.04608294930875576,
          0.3456221198156682,
          0.1728110599078341,
          0.2626728110599078,
          0.18202764976958524,
          0.02534562211981567,
          0.24193548387096775,
          0.016129032258064516,
          0.1313364055299539,
          0.24193548387096775,
          0.04608294930875576,
          0.08755760368663595,
          0.3225806451612903,
          0.2834101382488479,
          0.18202764976958524,
          0.07834101382488479,
          0.22811059907834103,
          0.2235023041474654,
          0.07834101382488479,
          0.2119815668202765,
          0.1935483870967742,
          0.3064516129032258,
          0.43317972350230416,
          0.055299539170506916,
          0.2258064516129032,
          0.35023041474654376,
          0.3087557603686636,
          0.1705069124423963,
          0.152073732718894,
          0.1129032258064516,
          0.1889400921658986,
          0.3225806451612903,
          0.04608294930875576,
          0.17972350230414746,
          0.04377880184331797,
          0.20276497695852533,
          0.24193548387096775,
          0.05069124423963133,
          0.1129032258064516,
          -0.03686635944700461,
          0.12211981566820276,
          0.26036866359447003,
          0.15898617511520738,
          0.057603686635944694,
          0.11981566820276496,
          0.07142857142857142,
          0.04377880184331797,
          0.14746543778801843,
          0.04608294930875576,
          0.1912442396313364,
          0.19815668202764977,
          0.05069124423963133,
          0.059907834101382486,
          0.4009216589861751,
          0.05069124423963133,
          0.3387096774193548,
          0.059907834101382486,
          0.25115207373271886,
          0.24423963133640553,
          0.023041474654377878,
          0.06682027649769584,
          0.03686635944700461,
          0.1912442396313364,
          0.1336405529953917,
          0.03225806451612904,
          0.06221198156682028,
          0.19815668202764977,
          0.3548387096774194,
          0.15668202764976957,
          0.08294930875576037,
          0.06451612903225806,
          0.06682027649769584,
          0.06682027649769584,
          0.06451612903225806,
          0.14516129032258063,
          0.1935483870967742,
          0.10138248847926268,
          0.24423963133640553,
          0.22119815668202764,
          0.17511520737327188,
          0.22119815668202764,
          0.06912442396313365,
          0.23732718894009214,
          0.23963133640552997,
          0.07834101382488479,
          0.2235023041474654,
          0.027649769585253454,
          0.16589861751152074,
          0.18433179723502302,
          0.01382488479262673,
          0.20276497695852533,
          0.16589861751152074,
          0.07834101382488479,
          0.04377880184331797,
          0.11059907834101382,
          0.1705069124423963,
          0.2857142857142857,
          0.09216589861751151,
          0.07603686635944701,
          0.25115207373271886,
          0.059907834101382486,
          0.17972350230414746,
          0.08294930875576037,
          0.03225806451612904,
          0.25115207373271886,
          0.06682027649769584,
          0.055299539170506916,
          0.08294930875576037,
          0.04377880184331797,
          0.04147465437788018,
          0.09447004608294929,
          0.21889400921658986,
          0.009216589861751154,
          0.18433179723502302,
          0.21658986175115208,
          0.1912442396313364,
          0.07142857142857142,
          0.06451612903225806,
          0.03686635944700461,
          0.04608294930875576,
          0.17741935483870966,
          0.04377880184331797,
          0.1889400921658986,
          0.18663594470046083,
          0.20046082949308755,
          0.2096774193548387,
          0.10138248847926268,
          0.04608294930875576,
          0.5046082949308757,
          0.11751152073732718,
          0.057603686635944694,
          0.1543778801843318,
          0.016129032258064516,
          0.08294930875576037,
          0.11059907834101382,
          0.2119815668202765,
          0.2995391705069124,
          0.1705069124423963,
          0.10138248847926268,
          0.16359447004608293,
          0.07603686635944701,
          0.07142857142857142,
          0.41244239631336405,
          0.08986175115207373,
          0.08755760368663595,
          0.11751152073732718,
          0.21658986175115208,
          0.055299539170506916,
          0.06682027649769584,
          0.07834101382488479,
          0.3064516129032258,
          0.02534562211981567,
          0.12442396313364054,
          0.1336405529953917,
          0.23732718894009214,
          0.04377880184331797,
          0.02534562211981567,
          0.07142857142857142,
          0.052995391705069124,
          0.07603686635944701,
          0.1705069124423963,
          0.023041474654377878,
          0.0737327188940092,
          0.029953917050691246,
          0.17511520737327188,
          0.27419354838709675,
          0.048387096774193554,
          0.07834101382488479,
          0.3433179723502304,
          0.15898617511520738,
          0.4170506912442396,
          0.08986175115207373,
          0.24423963133640553,
          0.3018433179723502,
          0.006912442396313362,
          0.20046082949308755,
          0.27649769585253453,
          0.27649769585253453,
          0.1336405529953917,
          0.1152073732718894,
          0.08294930875576037,
          0.23963133640552997,
          0.04147465437788018,
          0.32027649769585254,
          0.11981566820276496,
          0.18202764976958524,
          0.16129032258064516,
          0.16359447004608293,
          0.02534562211981567,
          0.2073732718894009,
          0.07142857142857142,
          0.17741935483870966,
          0.1705069124423963,
          0.16359447004608293,
          0.07142857142857142,
          0.034562211981566816,
          0.07603686635944701,
          0.2142857142857143,
          0.1705069124423963,
          0.12442396313364054,
          0.055299539170506916,
          0.0391705069124424,
          0.21658986175115208,
          0.048387096774193554,
          0.07834101382488479,
          0.07834101382488479,
          0.09216589861751151,
          0.06912442396313365,
          0.26036866359447003,
          0.055299539170506916,
          0.07834101382488479,
          0.04377880184331797,
          0.22811059907834103,
          0.10829493087557604,
          0.18202764976958524,
          0.0391705069124424,
          0.08294930875576037,
          0.25806451612903225,
          0.016129032258064516,
          0.06682027649769584,
          0.06682027649769584,
          0.07142857142857142,
          0.1359447004608295,
          0.07142857142857142,
          0.12442396313364054,
          0.08986175115207373,
          0.4400921658986175,
          0.04377880184331797,
          0.10829493087557604,
          0.22811059907834103,
          0.2857142857142857,
          0.2258064516129032,
          0.1705069124423963,
          0.07834101382488479,
          0.1728110599078341,
          0.059907834101382486,
          0.06682027649769584,
          0.14285714285714285,
          0.10368663594470046,
          0.14285714285714285,
          0.055299539170506916,
          0.059907834101382486,
          0.055299539170506916,
          0.1935483870967742,
          0.1935483870967742,
          0.1935483870967742,
          0.3686635944700461,
          0.08064516129032259,
          0.06682027649769584,
          0.1705069124423963,
          0.05069124423963133,
          0.19585253456221197,
          0.22119815668202764,
          0.12442396313364054,
          0.3410138248847926,
          0.1152073732718894,
          0.19815668202764977,
          0.1129032258064516,
          0.04377880184331797,
          0.18663594470046083,
          0.12442396313364054,
          0.1497695852534562,
          0.1935483870967742,
          0.10138248847926268,
          0.01382488479262673,
          0.25115207373271886,
          0.0391705069124424,
          0.22811059907834103,
          0.19815668202764977,
          0.07834101382488479,
          0.1129032258064516,
          0.271889400921659,
          0.152073732718894,
          0.06221198156682028,
          0.0391705069124424,
          0.08986175115207373,
          0.0737327188940092,
          0.2626728110599078,
          0.11059907834101382,
          0.14746543778801843,
          0.0391705069124424,
          0.3456221198156682,
          0.1543778801843318,
          0.10138248847926268,
          0.12442396313364054,
          0.25115207373271886,
          0.1336405529953917,
          0.2995391705069124,
          0.41244239631336405,
          0.04147465437788018,
          0.02534562211981567,
          0.07834101382488479,
          0.10138248847926268,
          0.16129032258064516
         ],
         "xaxis": "x",
         "y": [
          0.21699368953704834,
          0.17844578623771667,
          0.11721309274435043,
          0.23774975538253784,
          0.2234937846660614,
          0.1861540675163269,
          0.02563808113336563,
          0.23707285523414612,
          0.055336758494377136,
          0.06656043231487274,
          0.05662711337208748,
          0.15727010369300842,
          0.2255728542804718,
          0.2945074737071991,
          0.2889573276042938,
          0.034076668322086334,
          0.03554107993841171,
          0.03678245097398758,
          0.2040507197380066,
          0.06681455671787262,
          0.16257911920547485,
          0.1253553330898285,
          0.1465320885181427,
          0.01700996607542038,
          0.028026580810546875,
          0.10878672450780869,
          0.03581218793988228,
          0.06535856425762177,
          0.01005314290523529,
          0.16257911920547485,
          0.26425665616989136,
          0.03783997893333435,
          0.2476910650730133,
          0.2223607301712036,
          0.09483388811349869,
          0.21373051404953003,
          0.14447638392448425,
          0.22138077020645142,
          0.22211307287216187,
          0.15973827242851257,
          0.042709000408649445,
          0.045366134494543076,
          0.02916368842124939,
          0.15818700194358826,
          0.05470571666955948,
          0.15846922993659973,
          0.10126917064189911,
          0.19130077958106995,
          0.05709659308195114,
          0.05285771191120148,
          0.02274797484278679,
          0.0333501435816288,
          0.08663326501846313,
          0.03828253597021103,
          0.2025725245475769,
          0.20680022239685059,
          0.07177409529685974,
          0.015722233802080154,
          0.36760663986206055,
          0.091182641685009,
          0.24295732378959656,
          0.2662458121776581,
          0.22783052921295166,
          0.13728809356689453,
          0.13059672713279724,
          0.2147524058818817,
          0.08419729024171829,
          0.2317187786102295,
          0.1654362976551056,
          0.3046860694885254,
          0.12060157209634781,
          0.19037705659866333,
          0.1599276065826416,
          0.12060157209634781,
          0.2810593545436859,
          0.11118706315755844,
          0.013724327087402344,
          0.33253952860832214,
          0.16363558173179626,
          0.3189231753349304,
          0.2237321138381958,
          0.0577637255191803,
          0.05362942814826965,
          0.06330753117799759,
          0.07152954488992691,
          0.13812151551246643,
          0.1723269820213318,
          0.334213525056839,
          0.08803790807723999,
          0.27384233474731445,
          0.28047502040863037,
          0.34717944264411926,
          0.0778103694319725,
          0.15019479393959045,
          0.03577050566673279,
          0.06217647343873978,
          0.15316909551620483,
          0.18600940704345703,
          0.2184852957725525,
          0.03934992849826813,
          0.1253553330898285,
          0.08010566979646683,
          0.028026580810546875,
          0.06742391735315323,
          0.07881345599889755,
          0.06968797743320465,
          0.08623393625020981,
          0.06330753117799759,
          0.3593393862247467,
          0.08623393625020981,
          0.0767722800374031,
          0.024843864142894745,
          0.05629992112517357,
          0.12943562865257263,
          0.19523885846138,
          0.04493214935064316,
          0.18964219093322754,
          0.2838451564311981,
          0.2273697853088379,
          0.19390630722045898,
          0.045304909348487854,
          0.28292402625083923,
          0.17844578623771667,
          0.05285771191120148,
          0.011710196733474731,
          0.026683349162340164,
          0.1702551543712616,
          0.08364355564117432,
          0.2344878911972046,
          0.03155957907438278,
          0.23484867811203003,
          0.2945074737071991,
          0.16398897767066956,
          0.18025708198547363,
          -0.04779324680566788,
          0.16808640956878662,
          0.05328088626265526,
          0.06801721453666687,
          0.27263984084129333,
          0.035770513117313385,
          0.09704774618148804,
          0.24134215712547302,
          0.07687054574489594,
          0.06615042686462402,
          0.21498984098434448,
          0.15058639645576477,
          0.04585140570998192,
          0.07051727920770645,
          0.062477193772792816,
          0.26891857385635376,
          0.22173607349395752,
          0.23478543758392334,
          0.06917315721511841,
          0.04829815402626991,
          0.22322413325309753,
          0.2989598214626312,
          0.1926639974117279,
          0.2726213037967682,
          0.2568819224834442,
          0.053066354244947433,
          0.15846922993659973,
          0.05470571666955948,
          0.12219393253326416,
          0.05383805185556412,
          0.08570294827222824,
          0.09470457583665848,
          0.0972895622253418,
          0.2688601613044739,
          0.2416459023952484,
          0.22227627038955688,
          0.09527741372585297,
          0.06902297586202621,
          0.039224445819854736,
          0.141500324010849,
          0.11682350188493729,
          0.0387992262840271,
          0.20846408605575562,
          0.1495259404182434,
          0.28516480326652527,
          0.12025786191225052,
          0.030109014362096786,
          0.05128811299800873,
          0.1891648769378662,
          0.07652126252651215,
          0.06983257830142975,
          0.01710107922554016,
          0.057328615337610245,
          0.19059517979621887,
          0.38732460141181946,
          0.22104090452194214,
          0.060249440371990204,
          0.14790576696395874,
          0.22173607349395752,
          0.2233988344669342,
          0.08641429990530014,
          0.054053500294685364,
          0.16399824619293213,
          0.06965652108192444,
          0.2855309545993805,
          0.17571896314620972,
          0.053736984729766846,
          0.08428265899419785,
          0.09620016068220139,
          0.1734658181667328,
          0.035832300782203674,
          0.2568819224834442,
          0.04075658321380615,
          0.3477412760257721,
          0.17916932702064514,
          0.29307690262794495,
          0.20193687081336975,
          0.02520749717950821,
          0.2129586637020111,
          0.0778103694319725,
          0.1755257546901703,
          0.3241809010505676,
          0.0476987287402153,
          0.08269291371107101,
          0.32609930634498596,
          0.29117920994758606,
          0.18294841051101685,
          0.07008907198905945,
          0.23388421535491943,
          0.2282591164112091,
          0.09475286304950714,
          0.1654362976551056,
          0.22147488594055176,
          0.15765011310577393,
          0.2725718915462494,
          0.046444330364465714,
          0.17799615859985352,
          0.3277532160282135,
          0.26507043838500977,
          0.16560211777687073,
          0.19797182083129883,
          0.14059928059577942,
          0.15219998359680176,
          0.254967600107193,
          0.058227162808179855,
          0.18780624866485596,
          0.06745985150337219,
          0.19757729768753052,
          0.2648039162158966,
          0.05563241243362427,
          0.0644305944442749,
          0.036307334899902344,
          0.15818700194358826,
          0.214838445186615,
          0.18938252329826355,
          0.09467687457799911,
          0.06917315721511841,
          0.08421096205711365,
          0.06745985150337219,
          0.14802223443984985,
          0.03413990139961243,
          0.19167017936706543,
          0.19840571284294128,
          0.05563241243362427,
          0.0902191624045372,
          0.31724873185157776,
          0.06520718336105347,
          0.32664623856544495,
          0.03828253597021103,
          0.17847740650177002,
          0.22199469804763794,
          0.02137354016304016,
          0.06265606731176376,
          0.097682885825634,
          0.268976628780365,
          0.1436060070991516,
          0.04829815402626991,
          -0.028889834880828857,
          0.22852513194084167,
          0.27390769124031067,
          0.15701451897621155,
          0.04156670719385147,
          0.06462465226650238,
          0.06658557057380676,
          0.050500787794589996,
          0.06855356693267822,
          0.11720042675733566,
          0.33050867915153503,
          0.08641429990530014,
          0.08973340690135956,
          0.251625120639801,
          0.1698949933052063,
          0.21421095728874207,
          0.06787753850221634,
          0.2558344006538391,
          0.3342229425907135,
          0.06490318477153778,
          0.23499733209609985,
          0.03783998638391495,
          0.16211405396461487,
          0.2063203752040863,
          0.014536269009113312,
          0.24431756138801575,
          0.16211405396461487,
          0.08080989867448807,
          0.045304909348487854,
          0.11596991866827011,
          0.09529682993888855,
          0.23349148035049438,
          0.0941503569483757,
          0.06375101953744888,
          0.28292402625083923,
          0.07385390251874924,
          0.18839868903160095,
          0.07816585153341293,
          0.07792526483535767,
          0.2726381719112396,
          0.05638352036476135,
          0.062477193772792816,
          0.04156670719385147,
          0.03889111429452896,
          0.042612288147211075,
          0.09539590030908585,
          0.22350162267684937,
          0.017009958624839783,
          0.17862963676452637,
          0.24343907833099365,
          0.1438150703907013,
          0.07723567634820938,
          0.06472381204366684,
          0.040423788130283356,
          0.05714235454797745,
          0.2329900860786438,
          0.06351010501384735,
          0.19498050212860107,
          0.1813960075378418,
          0.18152478337287903,
          0.20387420058250427,
          0.12252070754766464,
          0.07020440697669983,
          0.26514559984207153,
          0.1481604278087616,
          0.09467687457799911,
          0.1993221640586853,
          0.016057737171649933,
          0.07064764946699142,
          0.10855548828840256,
          0.1654362976551056,
          0.2950185239315033,
          0.18433603644371033,
          0.26395466923713684,
          0.21297243237495422,
          0.08505446463823318,
          0.08421096205711365,
          0.24310052394866943,
          0.0841616615653038,
          0.08489736914634705,
          0.10071320086717606,
          0.21753019094467163,
          0.051130831241607666,
          0.07692784070968628,
          0.08662659674882889,
          0.26287397742271423,
          0.03282003104686737,
          0.1253553330898285,
          0.15573740005493164,
          0.19808226823806763,
          0.024036087095737457,
          0.03821427747607231,
          0.08421096205711365,
          0.07449723780155182,
          0.06375101953744888,
          0.18433603644371033,
          0.02137354016304016,
          0.06662215292453766,
          0.01749361865222454,
          0.18254590034484863,
          0.21459758281707764,
          0.05479060113430023,
          0.04499202221632004,
          0.20930960774421692,
          0.1434548795223236,
          0.4120209515094757,
          0.049923431128263474,
          0.23530030250549316,
          0.23147308826446533,
          0.01005314290523529,
          0.2021695077419281,
          0.2767648696899414,
          0.3172167241573334,
          0.11682350188493729,
          0.11782227456569672,
          0.06267150491476059,
          0.22469481825828552,
          0.06293366104364395,
          0.2046343982219696,
          0.06917315721511841,
          0.180117666721344,
          0.1752702295780182,
          0.04468776658177376,
          0.02520749717950821,
          0.19907331466674805,
          0.056722816079854965,
          0.24522006511688232,
          0.23268678784370422,
          0.12219393253326416,
          0.12102469801902771,
          0.01804448291659355,
          0.06968797743320465,
          0.21268108487129211,
          0.15870964527130127,
          0.06692882627248764,
          0.06024947017431259,
          0.04965735226869583,
          0.18495804071426392,
          0.062443479895591736,
          0.06203298643231392,
          0.06203298643231392,
          0.05726451426744461,
          0.06787753105163574,
          0.24420446157455444,
          0.06165361404418945,
          0.06960512697696686,
          0.05839651823043823,
          0.18600940704345703,
          0.054757896810770035,
          0.24226319789886475,
          0.016928955912590027,
          0.08371435105800629,
          0.2598695755004883,
          0.0778103694319725,
          0.024261176586151123,
          0.13444790244102478,
          0.11059676855802536,
          0.10590367764234543,
          0.031861551105976105,
          0.1489909589290619,
          0.06013046205043793,
          0.3671535849571228,
          0.030109014362096786,
          0.13812151551246643,
          0.18600940704345703,
          0.23349148035049438,
          0.23525932431221008,
          0.16741490364074707,
          0.0792481079697609,
          0.17579036951065063,
          0.041848886758089066,
          0.08207333087921143,
          0.14137524366378784,
          0.09790532290935516,
          0.07661925256252289,
          0.06348874419927597,
          0.0630597397685051,
          0.060820937156677246,
          0.2008148431777954,
          0.22147488594055176,
          0.17225900292396545,
          0.27345284819602966,
          0.08316539973020554,
          0.05662711337208748,
          0.2004547417163849,
          0.042045824229717255,
          0.20533090829849243,
          0.20852336287498474,
          0.06646425276994705,
          0.16994252800941467,
          0.11947252601385117,
          0.346792608499527,
          0.07437890768051147,
          0.03431117907166481,
          0.20420965552330017,
          0.1068829745054245,
          0.13735303282737732,
          0.20416349172592163,
          0.07160505652427673,
          0.014536269009113312,
          0.25030288100242615,
          0.03225836902856827,
          0.18600940704345703,
          0.2016594409942627,
          0.06960512697696686,
          0.08404137194156647,
          0.2078368365764618,
          0.16363555192947388,
          0.08803786337375641,
          0.040992461144924164,
          0.10503726452589035,
          0.06662215292453766,
          0.35299548506736755,
          0.10855548828840256,
          0.09066882729530334,
          0.035770513117313385,
          0.3242912292480469,
          0.1993221640586853,
          0.2362760603427887,
          0.056399211287498474,
          0.26268139481544495,
          0.29878851771354675,
          0.2950185239315033,
          0.27401524782180786,
          0.03688935935497284,
          0.02520749717950821,
          0.0753517895936966,
          0.10126914829015732,
          0.14034709334373474
         ],
         "yaxis": "y"
        }
       ],
       "layout": {
        "legend": {
         "tracegroupgap": 0
        },
        "shapes": [
         {
          "line": {
           "color": "red",
           "dash": "dot"
          },
          "type": "line",
          "x0": -0.03686635944700461,
          "x1": 0.5046082949308757,
          "y0": -0.03686635944700461,
          "y1": 0.5046082949308757
         }
        ],
        "template": {
         "data": {
          "bar": [
           {
            "error_x": {
             "color": "#2a3f5f"
            },
            "error_y": {
             "color": "#2a3f5f"
            },
            "marker": {
             "line": {
              "color": "white",
              "width": 0.5
             },
             "pattern": {
              "fillmode": "overlay",
              "size": 10,
              "solidity": 0.2
             }
            },
            "type": "bar"
           }
          ],
          "barpolar": [
           {
            "marker": {
             "line": {
              "color": "white",
              "width": 0.5
             },
             "pattern": {
              "fillmode": "overlay",
              "size": 10,
              "solidity": 0.2
             }
            },
            "type": "barpolar"
           }
          ],
          "carpet": [
           {
            "aaxis": {
             "endlinecolor": "#2a3f5f",
             "gridcolor": "#C8D4E3",
             "linecolor": "#C8D4E3",
             "minorgridcolor": "#C8D4E3",
             "startlinecolor": "#2a3f5f"
            },
            "baxis": {
             "endlinecolor": "#2a3f5f",
             "gridcolor": "#C8D4E3",
             "linecolor": "#C8D4E3",
             "minorgridcolor": "#C8D4E3",
             "startlinecolor": "#2a3f5f"
            },
            "type": "carpet"
           }
          ],
          "choropleth": [
           {
            "colorbar": {
             "outlinewidth": 0,
             "ticks": ""
            },
            "type": "choropleth"
           }
          ],
          "contour": [
           {
            "colorbar": {
             "outlinewidth": 0,
             "ticks": ""
            },
            "colorscale": [
             [
              0,
              "#0d0887"
             ],
             [
              0.1111111111111111,
              "#46039f"
             ],
             [
              0.2222222222222222,
              "#7201a8"
             ],
             [
              0.3333333333333333,
              "#9c179e"
             ],
             [
              0.4444444444444444,
              "#bd3786"
             ],
             [
              0.5555555555555556,
              "#d8576b"
             ],
             [
              0.6666666666666666,
              "#ed7953"
             ],
             [
              0.7777777777777778,
              "#fb9f3a"
             ],
             [
              0.8888888888888888,
              "#fdca26"
             ],
             [
              1,
              "#f0f921"
             ]
            ],
            "type": "contour"
           }
          ],
          "contourcarpet": [
           {
            "colorbar": {
             "outlinewidth": 0,
             "ticks": ""
            },
            "type": "contourcarpet"
           }
          ],
          "heatmap": [
           {
            "colorbar": {
             "outlinewidth": 0,
             "ticks": ""
            },
            "colorscale": [
             [
              0,
              "#0d0887"
             ],
             [
              0.1111111111111111,
              "#46039f"
             ],
             [
              0.2222222222222222,
              "#7201a8"
             ],
             [
              0.3333333333333333,
              "#9c179e"
             ],
             [
              0.4444444444444444,
              "#bd3786"
             ],
             [
              0.5555555555555556,
              "#d8576b"
             ],
             [
              0.6666666666666666,
              "#ed7953"
             ],
             [
              0.7777777777777778,
              "#fb9f3a"
             ],
             [
              0.8888888888888888,
              "#fdca26"
             ],
             [
              1,
              "#f0f921"
             ]
            ],
            "type": "heatmap"
           }
          ],
          "heatmapgl": [
           {
            "colorbar": {
             "outlinewidth": 0,
             "ticks": ""
            },
            "colorscale": [
             [
              0,
              "#0d0887"
             ],
             [
              0.1111111111111111,
              "#46039f"
             ],
             [
              0.2222222222222222,
              "#7201a8"
             ],
             [
              0.3333333333333333,
              "#9c179e"
             ],
             [
              0.4444444444444444,
              "#bd3786"
             ],
             [
              0.5555555555555556,
              "#d8576b"
             ],
             [
              0.6666666666666666,
              "#ed7953"
             ],
             [
              0.7777777777777778,
              "#fb9f3a"
             ],
             [
              0.8888888888888888,
              "#fdca26"
             ],
             [
              1,
              "#f0f921"
             ]
            ],
            "type": "heatmapgl"
           }
          ],
          "histogram": [
           {
            "marker": {
             "pattern": {
              "fillmode": "overlay",
              "size": 10,
              "solidity": 0.2
             }
            },
            "type": "histogram"
           }
          ],
          "histogram2d": [
           {
            "colorbar": {
             "outlinewidth": 0,
             "ticks": ""
            },
            "colorscale": [
             [
              0,
              "#0d0887"
             ],
             [
              0.1111111111111111,
              "#46039f"
             ],
             [
              0.2222222222222222,
              "#7201a8"
             ],
             [
              0.3333333333333333,
              "#9c179e"
             ],
             [
              0.4444444444444444,
              "#bd3786"
             ],
             [
              0.5555555555555556,
              "#d8576b"
             ],
             [
              0.6666666666666666,
              "#ed7953"
             ],
             [
              0.7777777777777778,
              "#fb9f3a"
             ],
             [
              0.8888888888888888,
              "#fdca26"
             ],
             [
              1,
              "#f0f921"
             ]
            ],
            "type": "histogram2d"
           }
          ],
          "histogram2dcontour": [
           {
            "colorbar": {
             "outlinewidth": 0,
             "ticks": ""
            },
            "colorscale": [
             [
              0,
              "#0d0887"
             ],
             [
              0.1111111111111111,
              "#46039f"
             ],
             [
              0.2222222222222222,
              "#7201a8"
             ],
             [
              0.3333333333333333,
              "#9c179e"
             ],
             [
              0.4444444444444444,
              "#bd3786"
             ],
             [
              0.5555555555555556,
              "#d8576b"
             ],
             [
              0.6666666666666666,
              "#ed7953"
             ],
             [
              0.7777777777777778,
              "#fb9f3a"
             ],
             [
              0.8888888888888888,
              "#fdca26"
             ],
             [
              1,
              "#f0f921"
             ]
            ],
            "type": "histogram2dcontour"
           }
          ],
          "mesh3d": [
           {
            "colorbar": {
             "outlinewidth": 0,
             "ticks": ""
            },
            "type": "mesh3d"
           }
          ],
          "parcoords": [
           {
            "line": {
             "colorbar": {
              "outlinewidth": 0,
              "ticks": ""
             }
            },
            "type": "parcoords"
           }
          ],
          "pie": [
           {
            "automargin": true,
            "type": "pie"
           }
          ],
          "scatter": [
           {
            "fillpattern": {
             "fillmode": "overlay",
             "size": 10,
             "solidity": 0.2
            },
            "type": "scatter"
           }
          ],
          "scatter3d": [
           {
            "line": {
             "colorbar": {
              "outlinewidth": 0,
              "ticks": ""
             }
            },
            "marker": {
             "colorbar": {
              "outlinewidth": 0,
              "ticks": ""
             }
            },
            "type": "scatter3d"
           }
          ],
          "scattercarpet": [
           {
            "marker": {
             "colorbar": {
              "outlinewidth": 0,
              "ticks": ""
             }
            },
            "type": "scattercarpet"
           }
          ],
          "scattergeo": [
           {
            "marker": {
             "colorbar": {
              "outlinewidth": 0,
              "ticks": ""
             }
            },
            "type": "scattergeo"
           }
          ],
          "scattergl": [
           {
            "marker": {
             "colorbar": {
              "outlinewidth": 0,
              "ticks": ""
             }
            },
            "type": "scattergl"
           }
          ],
          "scattermapbox": [
           {
            "marker": {
             "colorbar": {
              "outlinewidth": 0,
              "ticks": ""
             }
            },
            "type": "scattermapbox"
           }
          ],
          "scatterpolar": [
           {
            "marker": {
             "colorbar": {
              "outlinewidth": 0,
              "ticks": ""
             }
            },
            "type": "scatterpolar"
           }
          ],
          "scatterpolargl": [
           {
            "marker": {
             "colorbar": {
              "outlinewidth": 0,
              "ticks": ""
             }
            },
            "type": "scatterpolargl"
           }
          ],
          "scatterternary": [
           {
            "marker": {
             "colorbar": {
              "outlinewidth": 0,
              "ticks": ""
             }
            },
            "type": "scatterternary"
           }
          ],
          "surface": [
           {
            "colorbar": {
             "outlinewidth": 0,
             "ticks": ""
            },
            "colorscale": [
             [
              0,
              "#0d0887"
             ],
             [
              0.1111111111111111,
              "#46039f"
             ],
             [
              0.2222222222222222,
              "#7201a8"
             ],
             [
              0.3333333333333333,
              "#9c179e"
             ],
             [
              0.4444444444444444,
              "#bd3786"
             ],
             [
              0.5555555555555556,
              "#d8576b"
             ],
             [
              0.6666666666666666,
              "#ed7953"
             ],
             [
              0.7777777777777778,
              "#fb9f3a"
             ],
             [
              0.8888888888888888,
              "#fdca26"
             ],
             [
              1,
              "#f0f921"
             ]
            ],
            "type": "surface"
           }
          ],
          "table": [
           {
            "cells": {
             "fill": {
              "color": "#EBF0F8"
             },
             "line": {
              "color": "white"
             }
            },
            "header": {
             "fill": {
              "color": "#C8D4E3"
             },
             "line": {
              "color": "white"
             }
            },
            "type": "table"
           }
          ]
         },
         "layout": {
          "annotationdefaults": {
           "arrowcolor": "#2a3f5f",
           "arrowhead": 0,
           "arrowwidth": 1
          },
          "autotypenumbers": "strict",
          "coloraxis": {
           "colorbar": {
            "outlinewidth": 0,
            "ticks": ""
           }
          },
          "colorscale": {
           "diverging": [
            [
             0,
             "#8e0152"
            ],
            [
             0.1,
             "#c51b7d"
            ],
            [
             0.2,
             "#de77ae"
            ],
            [
             0.3,
             "#f1b6da"
            ],
            [
             0.4,
             "#fde0ef"
            ],
            [
             0.5,
             "#f7f7f7"
            ],
            [
             0.6,
             "#e6f5d0"
            ],
            [
             0.7,
             "#b8e186"
            ],
            [
             0.8,
             "#7fbc41"
            ],
            [
             0.9,
             "#4d9221"
            ],
            [
             1,
             "#276419"
            ]
           ],
           "sequential": [
            [
             0,
             "#0d0887"
            ],
            [
             0.1111111111111111,
             "#46039f"
            ],
            [
             0.2222222222222222,
             "#7201a8"
            ],
            [
             0.3333333333333333,
             "#9c179e"
            ],
            [
             0.4444444444444444,
             "#bd3786"
            ],
            [
             0.5555555555555556,
             "#d8576b"
            ],
            [
             0.6666666666666666,
             "#ed7953"
            ],
            [
             0.7777777777777778,
             "#fb9f3a"
            ],
            [
             0.8888888888888888,
             "#fdca26"
            ],
            [
             1,
             "#f0f921"
            ]
           ],
           "sequentialminus": [
            [
             0,
             "#0d0887"
            ],
            [
             0.1111111111111111,
             "#46039f"
            ],
            [
             0.2222222222222222,
             "#7201a8"
            ],
            [
             0.3333333333333333,
             "#9c179e"
            ],
            [
             0.4444444444444444,
             "#bd3786"
            ],
            [
             0.5555555555555556,
             "#d8576b"
            ],
            [
             0.6666666666666666,
             "#ed7953"
            ],
            [
             0.7777777777777778,
             "#fb9f3a"
            ],
            [
             0.8888888888888888,
             "#fdca26"
            ],
            [
             1,
             "#f0f921"
            ]
           ]
          },
          "colorway": [
           "#636efa",
           "#EF553B",
           "#00cc96",
           "#ab63fa",
           "#FFA15A",
           "#19d3f3",
           "#FF6692",
           "#B6E880",
           "#FF97FF",
           "#FECB52"
          ],
          "font": {
           "color": "#2a3f5f"
          },
          "geo": {
           "bgcolor": "white",
           "lakecolor": "white",
           "landcolor": "white",
           "showlakes": true,
           "showland": true,
           "subunitcolor": "#C8D4E3"
          },
          "hoverlabel": {
           "align": "left"
          },
          "hovermode": "closest",
          "mapbox": {
           "style": "light"
          },
          "paper_bgcolor": "white",
          "plot_bgcolor": "white",
          "polar": {
           "angularaxis": {
            "gridcolor": "#EBF0F8",
            "linecolor": "#EBF0F8",
            "ticks": ""
           },
           "bgcolor": "white",
           "radialaxis": {
            "gridcolor": "#EBF0F8",
            "linecolor": "#EBF0F8",
            "ticks": ""
           }
          },
          "scene": {
           "xaxis": {
            "backgroundcolor": "white",
            "gridcolor": "#DFE8F3",
            "gridwidth": 2,
            "linecolor": "#EBF0F8",
            "showbackground": true,
            "ticks": "",
            "zerolinecolor": "#EBF0F8"
           },
           "yaxis": {
            "backgroundcolor": "white",
            "gridcolor": "#DFE8F3",
            "gridwidth": 2,
            "linecolor": "#EBF0F8",
            "showbackground": true,
            "ticks": "",
            "zerolinecolor": "#EBF0F8"
           },
           "zaxis": {
            "backgroundcolor": "white",
            "gridcolor": "#DFE8F3",
            "gridwidth": 2,
            "linecolor": "#EBF0F8",
            "showbackground": true,
            "ticks": "",
            "zerolinecolor": "#EBF0F8"
           }
          },
          "shapedefaults": {
           "line": {
            "color": "#2a3f5f"
           }
          },
          "ternary": {
           "aaxis": {
            "gridcolor": "#DFE8F3",
            "linecolor": "#A2B1C6",
            "ticks": ""
           },
           "baxis": {
            "gridcolor": "#DFE8F3",
            "linecolor": "#A2B1C6",
            "ticks": ""
           },
           "bgcolor": "white",
           "caxis": {
            "gridcolor": "#DFE8F3",
            "linecolor": "#A2B1C6",
            "ticks": ""
           }
          },
          "title": {
           "x": 0.05
          },
          "xaxis": {
           "automargin": true,
           "gridcolor": "#EBF0F8",
           "linecolor": "#EBF0F8",
           "ticks": "",
           "title": {
            "standoff": 15
           },
           "zerolinecolor": "#EBF0F8",
           "zerolinewidth": 2
          },
          "yaxis": {
           "automargin": true,
           "gridcolor": "#EBF0F8",
           "linecolor": "#EBF0F8",
           "ticks": "",
           "title": {
            "standoff": 15
           },
           "zerolinecolor": "#EBF0F8",
           "zerolinewidth": 2
          }
         }
        },
        "title": {
         "text": "Valores Reales vs Predicciones"
        },
        "xaxis": {
         "anchor": "y",
         "domain": [
          0,
          1
         ],
         "title": {
          "text": "Valores Reales"
         }
        },
        "yaxis": {
         "anchor": "x",
         "domain": [
          0,
          1
         ],
         "title": {
          "text": "Predicciones"
         }
        }
       }
      }
     },
     "metadata": {},
     "output_type": "display_data"
    }
   ],
   "source": [
    "import plotly.express as px\n",
    "import plotly.graph_objects as go\n",
    "\n",
    "model = Sequential([\n",
    "    Input(shape=(X_train.shape[1],)),  # Camada de entrada\n",
    "    Dense(units=64, activation='relu'),\n",
    "    Dense(units=32, activation='relu'),\n",
    "    Dense(units=16, activation='relu'),\n",
    "    Dense(units=8, activation='relu'),\n",
    "    Dense(units=1)  # Camada de salida\n",
    "])\n",
    "\n",
    "model.compile(optimizer=Adam(learning_rate=0.001), loss='mean_squared_error')\n",
    "\n",
    "history = model.fit(\n",
    "    X_train, y_train,\n",
    "    validation_data=(X_test, y_test),\n",
    "    epochs=100,\n",
    "    batch_size=32,\n",
    "    verbose=1\n",
    ")\n",
    "\n",
    "fig = go.Figure()\n",
    "fig.add_trace(go.Scatter(y=history.history['loss'], mode='lines', name='Train Loss', line=dict(color='blue')))\n",
    "fig.add_trace(go.Scatter(y=history.history['val_loss'], mode='lines', name='Validation Loss', line=dict(color='orange')))\n",
    "fig.update_layout(title=\"Pérdida durante el entrenamiento y validación (Modelo 1)\",\n",
    "                  xaxis_title=\"Epochs\", yaxis_title=\"Loss\", template=\"plotly_white\",\n",
    "                  legend=dict(x=0.5, y=1, xanchor='center', orientation='h'))\n",
    "fig.show()\n",
    "\n",
    "test_loss = model.evaluate(X_test, y_test)\n",
    "print(f\"Pierda en el conjunto de teste: {test_loss}\")\n",
    "\n",
    "predictions = model.predict(X_test)\n",
    "\n",
    "\n",
    "# Graficar el resultado del entrenamiento del modelo usando plotly\n",
    "resultados_df = pd.DataFrame({\n",
    "    \"Valores Reales\": y_test,\n",
    "    \"Predicciones\": predictions.ravel() # predictions tiene 2D, ravel para transformar en 1D para la creación del df\n",
    "})\n",
    "\n",
    "fig = px.scatter(\n",
    "    resultados_df,\n",
    "    x=\"Valores Reales\",\n",
    "    y=\"Predicciones\",\n",
    "    title=\"Valores Reales vs Predicciones\",\n",
    "    template=\"plotly_white\"\n",
    ")\n",
    "\n",
    "# Añadir una línea de referencia donde las predicciones coinciden perfectamente con los valores reales\n",
    "fig.add_shape(\n",
    "    type=\"line\",\n",
    "    x0=resultados_df[\"Valores Reales\"].min(),\n",
    "    y0=resultados_df[\"Valores Reales\"].min(),\n",
    "    x1=resultados_df[\"Valores Reales\"].max(),\n",
    "    y1=resultados_df[\"Valores Reales\"].max(),\n",
    "    line=dict(color=\"red\", dash=\"dot\")\n",
    ")\n",
    "\n",
    "fig.show()\n"
   ]
  },
  {
   "cell_type": "code",
   "execution_count": 4,
   "metadata": {},
   "outputs": [
    {
     "name": "stdout",
     "output_type": "stream",
     "text": [
      "Métricas de evaluación del primer modelo:\n",
      "MAE: 0.028419848050544472\n",
      "RMSE: 0.04507846939785292\n",
      "R2: 0.781251401832609\n"
     ]
    }
   ],
   "source": [
    "# Metricas\n",
    "def calculate_metrics(y_real, y_pred):\n",
    "    mae = mean_absolute_error(y_real, y_pred)\n",
    "    rmse = np.sqrt(mean_squared_error(y_real, y_pred))\n",
    "    r2 = r2_score(y_real, y_pred)\n",
    "    return mae, rmse, r2\n",
    "\n",
    "mae, rmse, r2 = calculate_metrics(y_test, predictions.ravel())\n",
    "\n",
    "print(\"Métricas de evaluación del primer modelo:\")\n",
    "print(f\"MAE: {mae}\")\n",
    "print(f\"RMSE: {rmse}\")\n",
    "print(f\"R2: {r2}\")\n"
   ]
  },
  {
   "cell_type": "markdown",
   "metadata": {},
   "source": [
    "Neural Networks - Hiperparametrización"
   ]
  },
  {
   "cell_type": "code",
   "execution_count": 5,
   "metadata": {},
   "outputs": [
    {
     "data": {
      "text/html": [
       "<div>\n",
       "<style scoped>\n",
       "    .dataframe tbody tr th:only-of-type {\n",
       "        vertical-align: middle;\n",
       "    }\n",
       "\n",
       "    .dataframe tbody tr th {\n",
       "        vertical-align: top;\n",
       "    }\n",
       "\n",
       "    .dataframe thead th {\n",
       "        text-align: right;\n",
       "    }\n",
       "</style>\n",
       "<table border=\"1\" class=\"dataframe\">\n",
       "  <thead>\n",
       "    <tr style=\"text-align: right;\">\n",
       "      <th></th>\n",
       "      <th>learning_rate</th>\n",
       "      <th>validation_loss</th>\n",
       "    </tr>\n",
       "  </thead>\n",
       "  <tbody>\n",
       "    <tr>\n",
       "      <th>0</th>\n",
       "      <td>0.0001</td>\n",
       "      <td>0.043479</td>\n",
       "    </tr>\n",
       "    <tr>\n",
       "      <th>1</th>\n",
       "      <td>0.0010</td>\n",
       "      <td>0.040389</td>\n",
       "    </tr>\n",
       "    <tr>\n",
       "      <th>2</th>\n",
       "      <td>0.0100</td>\n",
       "      <td>0.076856</td>\n",
       "    </tr>\n",
       "    <tr>\n",
       "      <th>3</th>\n",
       "      <td>0.1000</td>\n",
       "      <td>0.153214</td>\n",
       "    </tr>\n",
       "    <tr>\n",
       "      <th>4</th>\n",
       "      <td>0.5000</td>\n",
       "      <td>0.153214</td>\n",
       "    </tr>\n",
       "  </tbody>\n",
       "</table>\n",
       "</div>"
      ],
      "text/plain": [
       "   learning_rate  validation_loss\n",
       "0         0.0001         0.043479\n",
       "1         0.0010         0.040389\n",
       "2         0.0100         0.076856\n",
       "3         0.1000         0.153214\n",
       "4         0.5000         0.153214"
      ]
     },
     "execution_count": 5,
     "metadata": {},
     "output_type": "execute_result"
    }
   ],
   "source": [
    "# Definir learning rates para probar\n",
    "learning_rates = [0.0001, 0.001, 0.01, 0.1, 0.5]\n",
    "\n",
    "early_stopping = EarlyStopping(\n",
    "    monitor=\"val_loss\",  # Monitorar la pierda en la validación\n",
    "    patience=3,          # Número de epochs sin mejora antes de parar\n",
    "    restore_best_weights=True  # Restaurar los pesos del mejor epoch\n",
    ")\n",
    "\n",
    "# Lista para almacenar los resultados\n",
    "results_lr = []\n",
    "\n",
    "# Loop para entrenar el modelo con diferentes learning rates\n",
    "for lr in learning_rates:\n",
    "    model = Sequential([\n",
    "    Input(shape=(X_train.shape[1],)),\n",
    "    Dense(units=128, activation='relu'),\n",
    "    Dense(units=64, activation='relu'),\n",
    "    Dense(units=32, activation='relu'),\n",
    "    Dense(units=8, activation='relu')\n",
    "])\n",
    "    \n",
    "    # Compilar el modelo con el learning rate actual\n",
    "    model.compile(optimizer=Adam(learning_rate=lr), loss='mean_absolute_error')\n",
    "    \n",
    "    # Entrenar el modelo (con pocas epochs para pruebas rápidas)\n",
    "    history = model.fit(\n",
    "        X_train, y_train,\n",
    "        validation_split=0.2,\n",
    "        epochs=10,\n",
    "        batch_size=32,\n",
    "        callbacks=[early_stopping],\n",
    "        verbose=0  # Silenciar la salida para facilitar la lectura\n",
    "    )\n",
    "\n",
    "    results_lr.append({\n",
    "        \"learning_rate\": lr,\n",
    "        \"validation_loss\": history.history[\"val_loss\"][-1]\n",
    "    })\n",
    "\n",
    "# Crear un DataFrame con los resultados\n",
    "results_lr = pd.DataFrame(results_lr)\n",
    "results_lr\n"
   ]
  },
  {
   "cell_type": "code",
   "execution_count": 6,
   "metadata": {},
   "outputs": [
    {
     "data": {
      "application/vnd.plotly.v1+json": {
       "config": {
        "plotlyServerURL": "https://plot.ly"
       },
       "data": [
        {
         "hovertemplate": "Learning Rate=%{x}<br>Validation Loss=%{y}<extra></extra>",
         "legendgroup": "",
         "line": {
          "color": "#636efa",
          "dash": "solid"
         },
         "marker": {
          "symbol": "circle"
         },
         "mode": "lines",
         "name": "",
         "orientation": "v",
         "showlegend": false,
         "type": "scatter",
         "x": [
          0.0001,
          0.001,
          0.01,
          0.1,
          0.5
         ],
         "xaxis": "x",
         "y": [
          0.043478693813085556,
          0.040389012545347214,
          0.07685551792383194,
          0.15321427583694458,
          0.15321427583694458
         ],
         "yaxis": "y"
        }
       ],
       "layout": {
        "legend": {
         "tracegroupgap": 0
        },
        "template": {
         "data": {
          "bar": [
           {
            "error_x": {
             "color": "#2a3f5f"
            },
            "error_y": {
             "color": "#2a3f5f"
            },
            "marker": {
             "line": {
              "color": "white",
              "width": 0.5
             },
             "pattern": {
              "fillmode": "overlay",
              "size": 10,
              "solidity": 0.2
             }
            },
            "type": "bar"
           }
          ],
          "barpolar": [
           {
            "marker": {
             "line": {
              "color": "white",
              "width": 0.5
             },
             "pattern": {
              "fillmode": "overlay",
              "size": 10,
              "solidity": 0.2
             }
            },
            "type": "barpolar"
           }
          ],
          "carpet": [
           {
            "aaxis": {
             "endlinecolor": "#2a3f5f",
             "gridcolor": "#C8D4E3",
             "linecolor": "#C8D4E3",
             "minorgridcolor": "#C8D4E3",
             "startlinecolor": "#2a3f5f"
            },
            "baxis": {
             "endlinecolor": "#2a3f5f",
             "gridcolor": "#C8D4E3",
             "linecolor": "#C8D4E3",
             "minorgridcolor": "#C8D4E3",
             "startlinecolor": "#2a3f5f"
            },
            "type": "carpet"
           }
          ],
          "choropleth": [
           {
            "colorbar": {
             "outlinewidth": 0,
             "ticks": ""
            },
            "type": "choropleth"
           }
          ],
          "contour": [
           {
            "colorbar": {
             "outlinewidth": 0,
             "ticks": ""
            },
            "colorscale": [
             [
              0,
              "#0d0887"
             ],
             [
              0.1111111111111111,
              "#46039f"
             ],
             [
              0.2222222222222222,
              "#7201a8"
             ],
             [
              0.3333333333333333,
              "#9c179e"
             ],
             [
              0.4444444444444444,
              "#bd3786"
             ],
             [
              0.5555555555555556,
              "#d8576b"
             ],
             [
              0.6666666666666666,
              "#ed7953"
             ],
             [
              0.7777777777777778,
              "#fb9f3a"
             ],
             [
              0.8888888888888888,
              "#fdca26"
             ],
             [
              1,
              "#f0f921"
             ]
            ],
            "type": "contour"
           }
          ],
          "contourcarpet": [
           {
            "colorbar": {
             "outlinewidth": 0,
             "ticks": ""
            },
            "type": "contourcarpet"
           }
          ],
          "heatmap": [
           {
            "colorbar": {
             "outlinewidth": 0,
             "ticks": ""
            },
            "colorscale": [
             [
              0,
              "#0d0887"
             ],
             [
              0.1111111111111111,
              "#46039f"
             ],
             [
              0.2222222222222222,
              "#7201a8"
             ],
             [
              0.3333333333333333,
              "#9c179e"
             ],
             [
              0.4444444444444444,
              "#bd3786"
             ],
             [
              0.5555555555555556,
              "#d8576b"
             ],
             [
              0.6666666666666666,
              "#ed7953"
             ],
             [
              0.7777777777777778,
              "#fb9f3a"
             ],
             [
              0.8888888888888888,
              "#fdca26"
             ],
             [
              1,
              "#f0f921"
             ]
            ],
            "type": "heatmap"
           }
          ],
          "heatmapgl": [
           {
            "colorbar": {
             "outlinewidth": 0,
             "ticks": ""
            },
            "colorscale": [
             [
              0,
              "#0d0887"
             ],
             [
              0.1111111111111111,
              "#46039f"
             ],
             [
              0.2222222222222222,
              "#7201a8"
             ],
             [
              0.3333333333333333,
              "#9c179e"
             ],
             [
              0.4444444444444444,
              "#bd3786"
             ],
             [
              0.5555555555555556,
              "#d8576b"
             ],
             [
              0.6666666666666666,
              "#ed7953"
             ],
             [
              0.7777777777777778,
              "#fb9f3a"
             ],
             [
              0.8888888888888888,
              "#fdca26"
             ],
             [
              1,
              "#f0f921"
             ]
            ],
            "type": "heatmapgl"
           }
          ],
          "histogram": [
           {
            "marker": {
             "pattern": {
              "fillmode": "overlay",
              "size": 10,
              "solidity": 0.2
             }
            },
            "type": "histogram"
           }
          ],
          "histogram2d": [
           {
            "colorbar": {
             "outlinewidth": 0,
             "ticks": ""
            },
            "colorscale": [
             [
              0,
              "#0d0887"
             ],
             [
              0.1111111111111111,
              "#46039f"
             ],
             [
              0.2222222222222222,
              "#7201a8"
             ],
             [
              0.3333333333333333,
              "#9c179e"
             ],
             [
              0.4444444444444444,
              "#bd3786"
             ],
             [
              0.5555555555555556,
              "#d8576b"
             ],
             [
              0.6666666666666666,
              "#ed7953"
             ],
             [
              0.7777777777777778,
              "#fb9f3a"
             ],
             [
              0.8888888888888888,
              "#fdca26"
             ],
             [
              1,
              "#f0f921"
             ]
            ],
            "type": "histogram2d"
           }
          ],
          "histogram2dcontour": [
           {
            "colorbar": {
             "outlinewidth": 0,
             "ticks": ""
            },
            "colorscale": [
             [
              0,
              "#0d0887"
             ],
             [
              0.1111111111111111,
              "#46039f"
             ],
             [
              0.2222222222222222,
              "#7201a8"
             ],
             [
              0.3333333333333333,
              "#9c179e"
             ],
             [
              0.4444444444444444,
              "#bd3786"
             ],
             [
              0.5555555555555556,
              "#d8576b"
             ],
             [
              0.6666666666666666,
              "#ed7953"
             ],
             [
              0.7777777777777778,
              "#fb9f3a"
             ],
             [
              0.8888888888888888,
              "#fdca26"
             ],
             [
              1,
              "#f0f921"
             ]
            ],
            "type": "histogram2dcontour"
           }
          ],
          "mesh3d": [
           {
            "colorbar": {
             "outlinewidth": 0,
             "ticks": ""
            },
            "type": "mesh3d"
           }
          ],
          "parcoords": [
           {
            "line": {
             "colorbar": {
              "outlinewidth": 0,
              "ticks": ""
             }
            },
            "type": "parcoords"
           }
          ],
          "pie": [
           {
            "automargin": true,
            "type": "pie"
           }
          ],
          "scatter": [
           {
            "fillpattern": {
             "fillmode": "overlay",
             "size": 10,
             "solidity": 0.2
            },
            "type": "scatter"
           }
          ],
          "scatter3d": [
           {
            "line": {
             "colorbar": {
              "outlinewidth": 0,
              "ticks": ""
             }
            },
            "marker": {
             "colorbar": {
              "outlinewidth": 0,
              "ticks": ""
             }
            },
            "type": "scatter3d"
           }
          ],
          "scattercarpet": [
           {
            "marker": {
             "colorbar": {
              "outlinewidth": 0,
              "ticks": ""
             }
            },
            "type": "scattercarpet"
           }
          ],
          "scattergeo": [
           {
            "marker": {
             "colorbar": {
              "outlinewidth": 0,
              "ticks": ""
             }
            },
            "type": "scattergeo"
           }
          ],
          "scattergl": [
           {
            "marker": {
             "colorbar": {
              "outlinewidth": 0,
              "ticks": ""
             }
            },
            "type": "scattergl"
           }
          ],
          "scattermapbox": [
           {
            "marker": {
             "colorbar": {
              "outlinewidth": 0,
              "ticks": ""
             }
            },
            "type": "scattermapbox"
           }
          ],
          "scatterpolar": [
           {
            "marker": {
             "colorbar": {
              "outlinewidth": 0,
              "ticks": ""
             }
            },
            "type": "scatterpolar"
           }
          ],
          "scatterpolargl": [
           {
            "marker": {
             "colorbar": {
              "outlinewidth": 0,
              "ticks": ""
             }
            },
            "type": "scatterpolargl"
           }
          ],
          "scatterternary": [
           {
            "marker": {
             "colorbar": {
              "outlinewidth": 0,
              "ticks": ""
             }
            },
            "type": "scatterternary"
           }
          ],
          "surface": [
           {
            "colorbar": {
             "outlinewidth": 0,
             "ticks": ""
            },
            "colorscale": [
             [
              0,
              "#0d0887"
             ],
             [
              0.1111111111111111,
              "#46039f"
             ],
             [
              0.2222222222222222,
              "#7201a8"
             ],
             [
              0.3333333333333333,
              "#9c179e"
             ],
             [
              0.4444444444444444,
              "#bd3786"
             ],
             [
              0.5555555555555556,
              "#d8576b"
             ],
             [
              0.6666666666666666,
              "#ed7953"
             ],
             [
              0.7777777777777778,
              "#fb9f3a"
             ],
             [
              0.8888888888888888,
              "#fdca26"
             ],
             [
              1,
              "#f0f921"
             ]
            ],
            "type": "surface"
           }
          ],
          "table": [
           {
            "cells": {
             "fill": {
              "color": "#EBF0F8"
             },
             "line": {
              "color": "white"
             }
            },
            "header": {
             "fill": {
              "color": "#C8D4E3"
             },
             "line": {
              "color": "white"
             }
            },
            "type": "table"
           }
          ]
         },
         "layout": {
          "annotationdefaults": {
           "arrowcolor": "#2a3f5f",
           "arrowhead": 0,
           "arrowwidth": 1
          },
          "autotypenumbers": "strict",
          "coloraxis": {
           "colorbar": {
            "outlinewidth": 0,
            "ticks": ""
           }
          },
          "colorscale": {
           "diverging": [
            [
             0,
             "#8e0152"
            ],
            [
             0.1,
             "#c51b7d"
            ],
            [
             0.2,
             "#de77ae"
            ],
            [
             0.3,
             "#f1b6da"
            ],
            [
             0.4,
             "#fde0ef"
            ],
            [
             0.5,
             "#f7f7f7"
            ],
            [
             0.6,
             "#e6f5d0"
            ],
            [
             0.7,
             "#b8e186"
            ],
            [
             0.8,
             "#7fbc41"
            ],
            [
             0.9,
             "#4d9221"
            ],
            [
             1,
             "#276419"
            ]
           ],
           "sequential": [
            [
             0,
             "#0d0887"
            ],
            [
             0.1111111111111111,
             "#46039f"
            ],
            [
             0.2222222222222222,
             "#7201a8"
            ],
            [
             0.3333333333333333,
             "#9c179e"
            ],
            [
             0.4444444444444444,
             "#bd3786"
            ],
            [
             0.5555555555555556,
             "#d8576b"
            ],
            [
             0.6666666666666666,
             "#ed7953"
            ],
            [
             0.7777777777777778,
             "#fb9f3a"
            ],
            [
             0.8888888888888888,
             "#fdca26"
            ],
            [
             1,
             "#f0f921"
            ]
           ],
           "sequentialminus": [
            [
             0,
             "#0d0887"
            ],
            [
             0.1111111111111111,
             "#46039f"
            ],
            [
             0.2222222222222222,
             "#7201a8"
            ],
            [
             0.3333333333333333,
             "#9c179e"
            ],
            [
             0.4444444444444444,
             "#bd3786"
            ],
            [
             0.5555555555555556,
             "#d8576b"
            ],
            [
             0.6666666666666666,
             "#ed7953"
            ],
            [
             0.7777777777777778,
             "#fb9f3a"
            ],
            [
             0.8888888888888888,
             "#fdca26"
            ],
            [
             1,
             "#f0f921"
            ]
           ]
          },
          "colorway": [
           "#636efa",
           "#EF553B",
           "#00cc96",
           "#ab63fa",
           "#FFA15A",
           "#19d3f3",
           "#FF6692",
           "#B6E880",
           "#FF97FF",
           "#FECB52"
          ],
          "font": {
           "color": "#2a3f5f"
          },
          "geo": {
           "bgcolor": "white",
           "lakecolor": "white",
           "landcolor": "white",
           "showlakes": true,
           "showland": true,
           "subunitcolor": "#C8D4E3"
          },
          "hoverlabel": {
           "align": "left"
          },
          "hovermode": "closest",
          "mapbox": {
           "style": "light"
          },
          "paper_bgcolor": "white",
          "plot_bgcolor": "white",
          "polar": {
           "angularaxis": {
            "gridcolor": "#EBF0F8",
            "linecolor": "#EBF0F8",
            "ticks": ""
           },
           "bgcolor": "white",
           "radialaxis": {
            "gridcolor": "#EBF0F8",
            "linecolor": "#EBF0F8",
            "ticks": ""
           }
          },
          "scene": {
           "xaxis": {
            "backgroundcolor": "white",
            "gridcolor": "#DFE8F3",
            "gridwidth": 2,
            "linecolor": "#EBF0F8",
            "showbackground": true,
            "ticks": "",
            "zerolinecolor": "#EBF0F8"
           },
           "yaxis": {
            "backgroundcolor": "white",
            "gridcolor": "#DFE8F3",
            "gridwidth": 2,
            "linecolor": "#EBF0F8",
            "showbackground": true,
            "ticks": "",
            "zerolinecolor": "#EBF0F8"
           },
           "zaxis": {
            "backgroundcolor": "white",
            "gridcolor": "#DFE8F3",
            "gridwidth": 2,
            "linecolor": "#EBF0F8",
            "showbackground": true,
            "ticks": "",
            "zerolinecolor": "#EBF0F8"
           }
          },
          "shapedefaults": {
           "line": {
            "color": "#2a3f5f"
           }
          },
          "ternary": {
           "aaxis": {
            "gridcolor": "#DFE8F3",
            "linecolor": "#A2B1C6",
            "ticks": ""
           },
           "baxis": {
            "gridcolor": "#DFE8F3",
            "linecolor": "#A2B1C6",
            "ticks": ""
           },
           "bgcolor": "white",
           "caxis": {
            "gridcolor": "#DFE8F3",
            "linecolor": "#A2B1C6",
            "ticks": ""
           }
          },
          "title": {
           "x": 0.05
          },
          "xaxis": {
           "automargin": true,
           "gridcolor": "#EBF0F8",
           "linecolor": "#EBF0F8",
           "ticks": "",
           "title": {
            "standoff": 15
           },
           "zerolinecolor": "#EBF0F8",
           "zerolinewidth": 2
          },
          "yaxis": {
           "automargin": true,
           "gridcolor": "#EBF0F8",
           "linecolor": "#EBF0F8",
           "ticks": "",
           "title": {
            "standoff": 15
           },
           "zerolinecolor": "#EBF0F8",
           "zerolinewidth": 2
          }
         }
        },
        "title": {
         "text": "Learning Rate vs Validation Loss"
        },
        "xaxis": {
         "anchor": "y",
         "domain": [
          0,
          1
         ],
         "title": {
          "text": "Learning Rate"
         },
         "type": "log"
        },
        "yaxis": {
         "anchor": "x",
         "domain": [
          0,
          1
         ],
         "title": {
          "text": "Validation Loss"
         }
        }
       }
      }
     },
     "metadata": {},
     "output_type": "display_data"
    }
   ],
   "source": [
    "fig = px.line(\n",
    "    results_lr,\n",
    "    x=\"learning_rate\",\n",
    "    y=\"validation_loss\",\n",
    "    title=\"Learning Rate vs Validation Loss\",\n",
    "    labels={\"learning_rate\": \"Learning Rate\", \"validation_loss\": \"Validation Loss\"},\n",
    "    log_x=True,  # Escala logarítmica para mejor visualización\n",
    "    template=\"plotly_white\"\n",
    ")\n",
    "fig.show()"
   ]
  },
  {
   "cell_type": "code",
   "execution_count": null,
   "metadata": {},
   "outputs": [
    {
     "name": "stdout",
     "output_type": "stream",
     "text": [
      "Epoch 1/100\n",
      "\u001b[1m50/50\u001b[0m \u001b[32m━━━━━━━━━━━━━━━━━━━━\u001b[0m\u001b[37m\u001b[0m \u001b[1m2s\u001b[0m 5ms/step - loss: 0.1341 - val_loss: 0.0500\n",
      "Epoch 2/100\n",
      "\u001b[1m50/50\u001b[0m \u001b[32m━━━━━━━━━━━━━━━━━━━━\u001b[0m\u001b[37m\u001b[0m \u001b[1m0s\u001b[0m 2ms/step - loss: 0.0586 - val_loss: 0.0481\n",
      "Epoch 3/100\n",
      "\u001b[1m50/50\u001b[0m \u001b[32m━━━━━━━━━━━━━━━━━━━━\u001b[0m\u001b[37m\u001b[0m \u001b[1m0s\u001b[0m 2ms/step - loss: 0.0535 - val_loss: 0.0455\n",
      "Epoch 4/100\n",
      "\u001b[1m50/50\u001b[0m \u001b[32m━━━━━━━━━━━━━━━━━━━━\u001b[0m\u001b[37m\u001b[0m \u001b[1m0s\u001b[0m 3ms/step - loss: 0.0481 - val_loss: 0.0450\n",
      "Epoch 5/100\n",
      "\u001b[1m50/50\u001b[0m \u001b[32m━━━━━━━━━━━━━━━━━━━━\u001b[0m\u001b[37m\u001b[0m \u001b[1m0s\u001b[0m 3ms/step - loss: 0.0479 - val_loss: 0.0490\n",
      "Epoch 6/100\n",
      "\u001b[1m50/50\u001b[0m \u001b[32m━━━━━━━━━━━━━━━━━━━━\u001b[0m\u001b[37m\u001b[0m \u001b[1m0s\u001b[0m 2ms/step - loss: 0.0472 - val_loss: 0.0465\n",
      "Epoch 7/100\n",
      "\u001b[1m50/50\u001b[0m \u001b[32m━━━━━━━━━━━━━━━━━━━━\u001b[0m\u001b[37m\u001b[0m \u001b[1m0s\u001b[0m 2ms/step - loss: 0.0467 - val_loss: 0.0443\n",
      "Epoch 8/100\n",
      "\u001b[1m50/50\u001b[0m \u001b[32m━━━━━━━━━━━━━━━━━━━━\u001b[0m\u001b[37m\u001b[0m \u001b[1m0s\u001b[0m 2ms/step - loss: 0.0440 - val_loss: 0.0435\n",
      "Epoch 9/100\n",
      "\u001b[1m50/50\u001b[0m \u001b[32m━━━━━━━━━━━━━━━━━━━━\u001b[0m\u001b[37m\u001b[0m \u001b[1m0s\u001b[0m 2ms/step - loss: 0.0451 - val_loss: 0.0431\n",
      "Epoch 10/100\n",
      "\u001b[1m50/50\u001b[0m \u001b[32m━━━━━━━━━━━━━━━━━━━━\u001b[0m\u001b[37m\u001b[0m \u001b[1m0s\u001b[0m 2ms/step - loss: 0.0439 - val_loss: 0.0427\n",
      "Epoch 11/100\n",
      "\u001b[1m50/50\u001b[0m \u001b[32m━━━━━━━━━━━━━━━━━━━━\u001b[0m\u001b[37m\u001b[0m \u001b[1m0s\u001b[0m 2ms/step - loss: 0.0448 - val_loss: 0.0430\n",
      "Epoch 12/100\n",
      "\u001b[1m50/50\u001b[0m \u001b[32m━━━━━━━━━━━━━━━━━━━━\u001b[0m\u001b[37m\u001b[0m \u001b[1m0s\u001b[0m 2ms/step - loss: 0.0428 - val_loss: 0.0412\n",
      "Epoch 13/100\n",
      "\u001b[1m50/50\u001b[0m \u001b[32m━━━━━━━━━━━━━━━━━━━━\u001b[0m\u001b[37m\u001b[0m \u001b[1m0s\u001b[0m 2ms/step - loss: 0.0426 - val_loss: 0.0403\n",
      "Epoch 14/100\n",
      "\u001b[1m50/50\u001b[0m \u001b[32m━━━━━━━━━━━━━━━━━━━━\u001b[0m\u001b[37m\u001b[0m \u001b[1m0s\u001b[0m 3ms/step - loss: 0.0418 - val_loss: 0.0402\n",
      "Epoch 15/100\n",
      "\u001b[1m50/50\u001b[0m \u001b[32m━━━━━━━━━━━━━━━━━━━━\u001b[0m\u001b[37m\u001b[0m \u001b[1m0s\u001b[0m 2ms/step - loss: 0.0431 - val_loss: 0.0418\n",
      "Epoch 16/100\n",
      "\u001b[1m50/50\u001b[0m \u001b[32m━━━━━━━━━━━━━━━━━━━━\u001b[0m\u001b[37m\u001b[0m \u001b[1m0s\u001b[0m 2ms/step - loss: 0.0405 - val_loss: 0.0396\n",
      "Epoch 17/100\n",
      "\u001b[1m50/50\u001b[0m \u001b[32m━━━━━━━━━━━━━━━━━━━━\u001b[0m\u001b[37m\u001b[0m \u001b[1m0s\u001b[0m 3ms/step - loss: 0.0411 - val_loss: 0.0420\n",
      "Epoch 18/100\n",
      "\u001b[1m50/50\u001b[0m \u001b[32m━━━━━━━━━━━━━━━━━━━━\u001b[0m\u001b[37m\u001b[0m \u001b[1m0s\u001b[0m 2ms/step - loss: 0.0393 - val_loss: 0.0397\n",
      "Epoch 19/100\n",
      "\u001b[1m50/50\u001b[0m \u001b[32m━━━━━━━━━━━━━━━━━━━━\u001b[0m\u001b[37m\u001b[0m \u001b[1m0s\u001b[0m 2ms/step - loss: 0.0412 - val_loss: 0.0405\n",
      "Epoch 20/100\n",
      "\u001b[1m50/50\u001b[0m \u001b[32m━━━━━━━━━━━━━━━━━━━━\u001b[0m\u001b[37m\u001b[0m \u001b[1m0s\u001b[0m 2ms/step - loss: 0.0408 - val_loss: 0.0392\n",
      "Epoch 21/100\n",
      "\u001b[1m50/50\u001b[0m \u001b[32m━━━━━━━━━━━━━━━━━━━━\u001b[0m\u001b[37m\u001b[0m \u001b[1m0s\u001b[0m 2ms/step - loss: 0.0398 - val_loss: 0.0394\n",
      "Epoch 22/100\n",
      "\u001b[1m50/50\u001b[0m \u001b[32m━━━━━━━━━━━━━━━━━━━━\u001b[0m\u001b[37m\u001b[0m \u001b[1m0s\u001b[0m 3ms/step - loss: 0.0377 - val_loss: 0.0407\n",
      "Epoch 23/100\n",
      "\u001b[1m50/50\u001b[0m \u001b[32m━━━━━━━━━━━━━━━━━━━━\u001b[0m\u001b[37m\u001b[0m \u001b[1m0s\u001b[0m 2ms/step - loss: 0.0365 - val_loss: 0.0385\n",
      "Epoch 24/100\n",
      "\u001b[1m50/50\u001b[0m \u001b[32m━━━━━━━━━━━━━━━━━━━━\u001b[0m\u001b[37m\u001b[0m \u001b[1m0s\u001b[0m 2ms/step - loss: 0.0372 - val_loss: 0.0396\n",
      "Epoch 25/100\n",
      "\u001b[1m50/50\u001b[0m \u001b[32m━━━━━━━━━━━━━━━━━━━━\u001b[0m\u001b[37m\u001b[0m \u001b[1m0s\u001b[0m 2ms/step - loss: 0.0376 - val_loss: 0.0378\n",
      "Epoch 26/100\n",
      "\u001b[1m50/50\u001b[0m \u001b[32m━━━━━━━━━━━━━━━━━━━━\u001b[0m\u001b[37m\u001b[0m \u001b[1m0s\u001b[0m 2ms/step - loss: 0.0349 - val_loss: 0.0366\n",
      "Epoch 27/100\n",
      "\u001b[1m50/50\u001b[0m \u001b[32m━━━━━━━━━━━━━━━━━━━━\u001b[0m\u001b[37m\u001b[0m \u001b[1m0s\u001b[0m 2ms/step - loss: 0.0370 - val_loss: 0.0391\n",
      "Epoch 28/100\n",
      "\u001b[1m50/50\u001b[0m \u001b[32m━━━━━━━━━━━━━━━━━━━━\u001b[0m\u001b[37m\u001b[0m \u001b[1m0s\u001b[0m 2ms/step - loss: 0.0366 - val_loss: 0.0366\n",
      "Epoch 29/100\n",
      "\u001b[1m50/50\u001b[0m \u001b[32m━━━━━━━━━━━━━━━━━━━━\u001b[0m\u001b[37m\u001b[0m \u001b[1m0s\u001b[0m 2ms/step - loss: 0.0340 - val_loss: 0.0361\n",
      "Epoch 30/100\n",
      "\u001b[1m50/50\u001b[0m \u001b[32m━━━━━━━━━━━━━━━━━━━━\u001b[0m\u001b[37m\u001b[0m \u001b[1m0s\u001b[0m 2ms/step - loss: 0.0367 - val_loss: 0.0371\n",
      "Epoch 31/100\n",
      "\u001b[1m50/50\u001b[0m \u001b[32m━━━━━━━━━━━━━━━━━━━━\u001b[0m\u001b[37m\u001b[0m \u001b[1m0s\u001b[0m 3ms/step - loss: 0.0361 - val_loss: 0.0368\n",
      "Epoch 32/100\n",
      "\u001b[1m50/50\u001b[0m \u001b[32m━━━━━━━━━━━━━━━━━━━━\u001b[0m\u001b[37m\u001b[0m \u001b[1m0s\u001b[0m 2ms/step - loss: 0.0355 - val_loss: 0.0364\n",
      "Epoch 33/100\n",
      "\u001b[1m50/50\u001b[0m \u001b[32m━━━━━━━━━━━━━━━━━━━━\u001b[0m\u001b[37m\u001b[0m \u001b[1m0s\u001b[0m 2ms/step - loss: 0.0360 - val_loss: 0.0357\n",
      "Epoch 34/100\n",
      "\u001b[1m50/50\u001b[0m \u001b[32m━━━━━━━━━━━━━━━━━━━━\u001b[0m\u001b[37m\u001b[0m \u001b[1m0s\u001b[0m 2ms/step - loss: 0.0336 - val_loss: 0.0352\n",
      "Epoch 35/100\n",
      "\u001b[1m50/50\u001b[0m \u001b[32m━━━━━━━━━━━━━━━━━━━━\u001b[0m\u001b[37m\u001b[0m \u001b[1m0s\u001b[0m 2ms/step - loss: 0.0323 - val_loss: 0.0347\n",
      "Epoch 36/100\n",
      "\u001b[1m50/50\u001b[0m \u001b[32m━━━━━━━━━━━━━━━━━━━━\u001b[0m\u001b[37m\u001b[0m \u001b[1m0s\u001b[0m 4ms/step - loss: 0.0329 - val_loss: 0.0379\n",
      "Epoch 37/100\n",
      "\u001b[1m50/50\u001b[0m \u001b[32m━━━━━━━━━━━━━━━━━━━━\u001b[0m\u001b[37m\u001b[0m \u001b[1m0s\u001b[0m 3ms/step - loss: 0.0342 - val_loss: 0.0361\n",
      "Epoch 38/100\n",
      "\u001b[1m50/50\u001b[0m \u001b[32m━━━━━━━━━━━━━━━━━━━━\u001b[0m\u001b[37m\u001b[0m \u001b[1m0s\u001b[0m 5ms/step - loss: 0.0339 - val_loss: 0.0351\n",
      "Epoch 39/100\n",
      "\u001b[1m50/50\u001b[0m \u001b[32m━━━━━━━━━━━━━━━━━━━━\u001b[0m\u001b[37m\u001b[0m \u001b[1m0s\u001b[0m 3ms/step - loss: 0.0322 - val_loss: 0.0354\n",
      "Epoch 40/100\n",
      "\u001b[1m50/50\u001b[0m \u001b[32m━━━━━━━━━━━━━━━━━━━━\u001b[0m\u001b[37m\u001b[0m \u001b[1m0s\u001b[0m 2ms/step - loss: 0.0313 - val_loss: 0.0348\n"
     ]
    },
    {
     "data": {
      "application/vnd.plotly.v1+json": {
       "config": {
        "plotlyServerURL": "https://plot.ly"
       },
       "data": [
        {
         "line": {
          "color": "blue"
         },
         "mode": "lines",
         "name": "Train Loss",
         "type": "scatter",
         "y": [
          0.09316142648458481,
          0.05572831630706787,
          0.05095285177230835,
          0.04872271418571472,
          0.04906870052218437,
          0.04719756916165352,
          0.045634180307388306,
          0.04466595873236656,
          0.04456071928143501,
          0.04426809772849083,
          0.04280254244804382,
          0.04303915798664093,
          0.04232054948806763,
          0.04244237020611763,
          0.04214511066675186,
          0.04151078686118126,
          0.0411420539021492,
          0.04011120647192001,
          0.040302980691194534,
          0.04072475805878639,
          0.03974827006459236,
          0.03797276318073273,
          0.038021720945835114,
          0.038075849413871765,
          0.037343718111515045,
          0.03565814346075058,
          0.03732019290328026,
          0.03651883080601692,
          0.035377997905015945,
          0.03610171750187874,
          0.035521719604730606,
          0.035089798271656036,
          0.034514181315898895,
          0.034197986125946045,
          0.032792944461107254,
          0.03279387578368187,
          0.03298018127679825,
          0.03298215568065643,
          0.03246331587433815,
          0.03190181776881218
         ]
        },
        {
         "line": {
          "color": "orange"
         },
         "mode": "lines",
         "name": "Validation Loss",
         "type": "scatter",
         "y": [
          0.050017476081848145,
          0.048097334802150726,
          0.0454990528523922,
          0.045004721730947495,
          0.04900228604674339,
          0.04646291211247444,
          0.04430036619305611,
          0.04351912811398506,
          0.04310895502567291,
          0.04266461730003357,
          0.04295336827635765,
          0.04124514013528824,
          0.040266696363687515,
          0.0401691235601902,
          0.04180680215358734,
          0.039614345878362656,
          0.04195340722799301,
          0.03973543271422386,
          0.04050741717219353,
          0.03920649364590645,
          0.03943656384944916,
          0.04071163013577461,
          0.03853811323642731,
          0.03955686092376709,
          0.03775198757648468,
          0.03664153814315796,
          0.03908542916178703,
          0.03655361384153366,
          0.036124370992183685,
          0.037078216671943665,
          0.0368054062128067,
          0.036416713148355484,
          0.03568502515554428,
          0.03519591689109802,
          0.034661274403333664,
          0.03794935345649719,
          0.03608417138457298,
          0.035144928842782974,
          0.035373102873563766,
          0.03482846915721893
         ]
        }
       ],
       "layout": {
        "legend": {
         "orientation": "h",
         "x": 0.5,
         "xanchor": "center",
         "y": 1
        },
        "template": {
         "data": {
          "bar": [
           {
            "error_x": {
             "color": "#2a3f5f"
            },
            "error_y": {
             "color": "#2a3f5f"
            },
            "marker": {
             "line": {
              "color": "white",
              "width": 0.5
             },
             "pattern": {
              "fillmode": "overlay",
              "size": 10,
              "solidity": 0.2
             }
            },
            "type": "bar"
           }
          ],
          "barpolar": [
           {
            "marker": {
             "line": {
              "color": "white",
              "width": 0.5
             },
             "pattern": {
              "fillmode": "overlay",
              "size": 10,
              "solidity": 0.2
             }
            },
            "type": "barpolar"
           }
          ],
          "carpet": [
           {
            "aaxis": {
             "endlinecolor": "#2a3f5f",
             "gridcolor": "#C8D4E3",
             "linecolor": "#C8D4E3",
             "minorgridcolor": "#C8D4E3",
             "startlinecolor": "#2a3f5f"
            },
            "baxis": {
             "endlinecolor": "#2a3f5f",
             "gridcolor": "#C8D4E3",
             "linecolor": "#C8D4E3",
             "minorgridcolor": "#C8D4E3",
             "startlinecolor": "#2a3f5f"
            },
            "type": "carpet"
           }
          ],
          "choropleth": [
           {
            "colorbar": {
             "outlinewidth": 0,
             "ticks": ""
            },
            "type": "choropleth"
           }
          ],
          "contour": [
           {
            "colorbar": {
             "outlinewidth": 0,
             "ticks": ""
            },
            "colorscale": [
             [
              0,
              "#0d0887"
             ],
             [
              0.1111111111111111,
              "#46039f"
             ],
             [
              0.2222222222222222,
              "#7201a8"
             ],
             [
              0.3333333333333333,
              "#9c179e"
             ],
             [
              0.4444444444444444,
              "#bd3786"
             ],
             [
              0.5555555555555556,
              "#d8576b"
             ],
             [
              0.6666666666666666,
              "#ed7953"
             ],
             [
              0.7777777777777778,
              "#fb9f3a"
             ],
             [
              0.8888888888888888,
              "#fdca26"
             ],
             [
              1,
              "#f0f921"
             ]
            ],
            "type": "contour"
           }
          ],
          "contourcarpet": [
           {
            "colorbar": {
             "outlinewidth": 0,
             "ticks": ""
            },
            "type": "contourcarpet"
           }
          ],
          "heatmap": [
           {
            "colorbar": {
             "outlinewidth": 0,
             "ticks": ""
            },
            "colorscale": [
             [
              0,
              "#0d0887"
             ],
             [
              0.1111111111111111,
              "#46039f"
             ],
             [
              0.2222222222222222,
              "#7201a8"
             ],
             [
              0.3333333333333333,
              "#9c179e"
             ],
             [
              0.4444444444444444,
              "#bd3786"
             ],
             [
              0.5555555555555556,
              "#d8576b"
             ],
             [
              0.6666666666666666,
              "#ed7953"
             ],
             [
              0.7777777777777778,
              "#fb9f3a"
             ],
             [
              0.8888888888888888,
              "#fdca26"
             ],
             [
              1,
              "#f0f921"
             ]
            ],
            "type": "heatmap"
           }
          ],
          "heatmapgl": [
           {
            "colorbar": {
             "outlinewidth": 0,
             "ticks": ""
            },
            "colorscale": [
             [
              0,
              "#0d0887"
             ],
             [
              0.1111111111111111,
              "#46039f"
             ],
             [
              0.2222222222222222,
              "#7201a8"
             ],
             [
              0.3333333333333333,
              "#9c179e"
             ],
             [
              0.4444444444444444,
              "#bd3786"
             ],
             [
              0.5555555555555556,
              "#d8576b"
             ],
             [
              0.6666666666666666,
              "#ed7953"
             ],
             [
              0.7777777777777778,
              "#fb9f3a"
             ],
             [
              0.8888888888888888,
              "#fdca26"
             ],
             [
              1,
              "#f0f921"
             ]
            ],
            "type": "heatmapgl"
           }
          ],
          "histogram": [
           {
            "marker": {
             "pattern": {
              "fillmode": "overlay",
              "size": 10,
              "solidity": 0.2
             }
            },
            "type": "histogram"
           }
          ],
          "histogram2d": [
           {
            "colorbar": {
             "outlinewidth": 0,
             "ticks": ""
            },
            "colorscale": [
             [
              0,
              "#0d0887"
             ],
             [
              0.1111111111111111,
              "#46039f"
             ],
             [
              0.2222222222222222,
              "#7201a8"
             ],
             [
              0.3333333333333333,
              "#9c179e"
             ],
             [
              0.4444444444444444,
              "#bd3786"
             ],
             [
              0.5555555555555556,
              "#d8576b"
             ],
             [
              0.6666666666666666,
              "#ed7953"
             ],
             [
              0.7777777777777778,
              "#fb9f3a"
             ],
             [
              0.8888888888888888,
              "#fdca26"
             ],
             [
              1,
              "#f0f921"
             ]
            ],
            "type": "histogram2d"
           }
          ],
          "histogram2dcontour": [
           {
            "colorbar": {
             "outlinewidth": 0,
             "ticks": ""
            },
            "colorscale": [
             [
              0,
              "#0d0887"
             ],
             [
              0.1111111111111111,
              "#46039f"
             ],
             [
              0.2222222222222222,
              "#7201a8"
             ],
             [
              0.3333333333333333,
              "#9c179e"
             ],
             [
              0.4444444444444444,
              "#bd3786"
             ],
             [
              0.5555555555555556,
              "#d8576b"
             ],
             [
              0.6666666666666666,
              "#ed7953"
             ],
             [
              0.7777777777777778,
              "#fb9f3a"
             ],
             [
              0.8888888888888888,
              "#fdca26"
             ],
             [
              1,
              "#f0f921"
             ]
            ],
            "type": "histogram2dcontour"
           }
          ],
          "mesh3d": [
           {
            "colorbar": {
             "outlinewidth": 0,
             "ticks": ""
            },
            "type": "mesh3d"
           }
          ],
          "parcoords": [
           {
            "line": {
             "colorbar": {
              "outlinewidth": 0,
              "ticks": ""
             }
            },
            "type": "parcoords"
           }
          ],
          "pie": [
           {
            "automargin": true,
            "type": "pie"
           }
          ],
          "scatter": [
           {
            "fillpattern": {
             "fillmode": "overlay",
             "size": 10,
             "solidity": 0.2
            },
            "type": "scatter"
           }
          ],
          "scatter3d": [
           {
            "line": {
             "colorbar": {
              "outlinewidth": 0,
              "ticks": ""
             }
            },
            "marker": {
             "colorbar": {
              "outlinewidth": 0,
              "ticks": ""
             }
            },
            "type": "scatter3d"
           }
          ],
          "scattercarpet": [
           {
            "marker": {
             "colorbar": {
              "outlinewidth": 0,
              "ticks": ""
             }
            },
            "type": "scattercarpet"
           }
          ],
          "scattergeo": [
           {
            "marker": {
             "colorbar": {
              "outlinewidth": 0,
              "ticks": ""
             }
            },
            "type": "scattergeo"
           }
          ],
          "scattergl": [
           {
            "marker": {
             "colorbar": {
              "outlinewidth": 0,
              "ticks": ""
             }
            },
            "type": "scattergl"
           }
          ],
          "scattermapbox": [
           {
            "marker": {
             "colorbar": {
              "outlinewidth": 0,
              "ticks": ""
             }
            },
            "type": "scattermapbox"
           }
          ],
          "scatterpolar": [
           {
            "marker": {
             "colorbar": {
              "outlinewidth": 0,
              "ticks": ""
             }
            },
            "type": "scatterpolar"
           }
          ],
          "scatterpolargl": [
           {
            "marker": {
             "colorbar": {
              "outlinewidth": 0,
              "ticks": ""
             }
            },
            "type": "scatterpolargl"
           }
          ],
          "scatterternary": [
           {
            "marker": {
             "colorbar": {
              "outlinewidth": 0,
              "ticks": ""
             }
            },
            "type": "scatterternary"
           }
          ],
          "surface": [
           {
            "colorbar": {
             "outlinewidth": 0,
             "ticks": ""
            },
            "colorscale": [
             [
              0,
              "#0d0887"
             ],
             [
              0.1111111111111111,
              "#46039f"
             ],
             [
              0.2222222222222222,
              "#7201a8"
             ],
             [
              0.3333333333333333,
              "#9c179e"
             ],
             [
              0.4444444444444444,
              "#bd3786"
             ],
             [
              0.5555555555555556,
              "#d8576b"
             ],
             [
              0.6666666666666666,
              "#ed7953"
             ],
             [
              0.7777777777777778,
              "#fb9f3a"
             ],
             [
              0.8888888888888888,
              "#fdca26"
             ],
             [
              1,
              "#f0f921"
             ]
            ],
            "type": "surface"
           }
          ],
          "table": [
           {
            "cells": {
             "fill": {
              "color": "#EBF0F8"
             },
             "line": {
              "color": "white"
             }
            },
            "header": {
             "fill": {
              "color": "#C8D4E3"
             },
             "line": {
              "color": "white"
             }
            },
            "type": "table"
           }
          ]
         },
         "layout": {
          "annotationdefaults": {
           "arrowcolor": "#2a3f5f",
           "arrowhead": 0,
           "arrowwidth": 1
          },
          "autotypenumbers": "strict",
          "coloraxis": {
           "colorbar": {
            "outlinewidth": 0,
            "ticks": ""
           }
          },
          "colorscale": {
           "diverging": [
            [
             0,
             "#8e0152"
            ],
            [
             0.1,
             "#c51b7d"
            ],
            [
             0.2,
             "#de77ae"
            ],
            [
             0.3,
             "#f1b6da"
            ],
            [
             0.4,
             "#fde0ef"
            ],
            [
             0.5,
             "#f7f7f7"
            ],
            [
             0.6,
             "#e6f5d0"
            ],
            [
             0.7,
             "#b8e186"
            ],
            [
             0.8,
             "#7fbc41"
            ],
            [
             0.9,
             "#4d9221"
            ],
            [
             1,
             "#276419"
            ]
           ],
           "sequential": [
            [
             0,
             "#0d0887"
            ],
            [
             0.1111111111111111,
             "#46039f"
            ],
            [
             0.2222222222222222,
             "#7201a8"
            ],
            [
             0.3333333333333333,
             "#9c179e"
            ],
            [
             0.4444444444444444,
             "#bd3786"
            ],
            [
             0.5555555555555556,
             "#d8576b"
            ],
            [
             0.6666666666666666,
             "#ed7953"
            ],
            [
             0.7777777777777778,
             "#fb9f3a"
            ],
            [
             0.8888888888888888,
             "#fdca26"
            ],
            [
             1,
             "#f0f921"
            ]
           ],
           "sequentialminus": [
            [
             0,
             "#0d0887"
            ],
            [
             0.1111111111111111,
             "#46039f"
            ],
            [
             0.2222222222222222,
             "#7201a8"
            ],
            [
             0.3333333333333333,
             "#9c179e"
            ],
            [
             0.4444444444444444,
             "#bd3786"
            ],
            [
             0.5555555555555556,
             "#d8576b"
            ],
            [
             0.6666666666666666,
             "#ed7953"
            ],
            [
             0.7777777777777778,
             "#fb9f3a"
            ],
            [
             0.8888888888888888,
             "#fdca26"
            ],
            [
             1,
             "#f0f921"
            ]
           ]
          },
          "colorway": [
           "#636efa",
           "#EF553B",
           "#00cc96",
           "#ab63fa",
           "#FFA15A",
           "#19d3f3",
           "#FF6692",
           "#B6E880",
           "#FF97FF",
           "#FECB52"
          ],
          "font": {
           "color": "#2a3f5f"
          },
          "geo": {
           "bgcolor": "white",
           "lakecolor": "white",
           "landcolor": "white",
           "showlakes": true,
           "showland": true,
           "subunitcolor": "#C8D4E3"
          },
          "hoverlabel": {
           "align": "left"
          },
          "hovermode": "closest",
          "mapbox": {
           "style": "light"
          },
          "paper_bgcolor": "white",
          "plot_bgcolor": "white",
          "polar": {
           "angularaxis": {
            "gridcolor": "#EBF0F8",
            "linecolor": "#EBF0F8",
            "ticks": ""
           },
           "bgcolor": "white",
           "radialaxis": {
            "gridcolor": "#EBF0F8",
            "linecolor": "#EBF0F8",
            "ticks": ""
           }
          },
          "scene": {
           "xaxis": {
            "backgroundcolor": "white",
            "gridcolor": "#DFE8F3",
            "gridwidth": 2,
            "linecolor": "#EBF0F8",
            "showbackground": true,
            "ticks": "",
            "zerolinecolor": "#EBF0F8"
           },
           "yaxis": {
            "backgroundcolor": "white",
            "gridcolor": "#DFE8F3",
            "gridwidth": 2,
            "linecolor": "#EBF0F8",
            "showbackground": true,
            "ticks": "",
            "zerolinecolor": "#EBF0F8"
           },
           "zaxis": {
            "backgroundcolor": "white",
            "gridcolor": "#DFE8F3",
            "gridwidth": 2,
            "linecolor": "#EBF0F8",
            "showbackground": true,
            "ticks": "",
            "zerolinecolor": "#EBF0F8"
           }
          },
          "shapedefaults": {
           "line": {
            "color": "#2a3f5f"
           }
          },
          "ternary": {
           "aaxis": {
            "gridcolor": "#DFE8F3",
            "linecolor": "#A2B1C6",
            "ticks": ""
           },
           "baxis": {
            "gridcolor": "#DFE8F3",
            "linecolor": "#A2B1C6",
            "ticks": ""
           },
           "bgcolor": "white",
           "caxis": {
            "gridcolor": "#DFE8F3",
            "linecolor": "#A2B1C6",
            "ticks": ""
           }
          },
          "title": {
           "x": 0.05
          },
          "xaxis": {
           "automargin": true,
           "gridcolor": "#EBF0F8",
           "linecolor": "#EBF0F8",
           "ticks": "",
           "title": {
            "standoff": 15
           },
           "zerolinecolor": "#EBF0F8",
           "zerolinewidth": 2
          },
          "yaxis": {
           "automargin": true,
           "gridcolor": "#EBF0F8",
           "linecolor": "#EBF0F8",
           "ticks": "",
           "title": {
            "standoff": 15
           },
           "zerolinecolor": "#EBF0F8",
           "zerolinewidth": 2
          }
         }
        },
        "title": {
         "text": "Pérdida durante el entrenamiento y validación (Mejor LR)"
        },
        "xaxis": {
         "title": {
          "text": "Epochs"
         }
        },
        "yaxis": {
         "title": {
          "text": "Pérdida (Loss)"
         }
        }
       }
      }
     },
     "metadata": {},
     "output_type": "display_data"
    },
    {
     "name": "stdout",
     "output_type": "stream",
     "text": [
      "\u001b[1m16/16\u001b[0m \u001b[32m━━━━━━━━━━━━━━━━━━━━\u001b[0m\u001b[37m\u001b[0m \u001b[1m0s\u001b[0m 1ms/step - loss: 0.0343 \n",
      "Pierda en el conjunto de teste: 0.033771272748708725\n",
      "\u001b[1m16/16\u001b[0m \u001b[32m━━━━━━━━━━━━━━━━━━━━\u001b[0m\u001b[37m\u001b[0m \u001b[1m0s\u001b[0m 4ms/step\n",
      "Tamaño de predictions: 500\n"
     ]
    },
    {
     "data": {
      "application/vnd.plotly.v1+json": {
       "config": {
        "plotlyServerURL": "https://plot.ly"
       },
       "data": [
        {
         "hovertemplate": "Valores Reales=%{x}<br>Predicciones=%{y}<extra></extra>",
         "legendgroup": "",
         "marker": {
          "color": "#636efa",
          "symbol": "circle"
         },
         "mode": "markers",
         "name": "",
         "orientation": "v",
         "showlegend": false,
         "type": "scatter",
         "x": [
          0.21658986175115208,
          0.1912442396313364,
          0.09216589861751151,
          0.12442396313364054,
          0.23732718894009214,
          0.1889400921658986,
          0.10138248847926268,
          0.22811059907834103,
          0.11981566820276496,
          0.052995391705069124,
          0.06682027649769584,
          0.23963133640552997,
          0.14746543778801843,
          0.3617511520737327,
          0.3087557603686636,
          0.07834101382488479,
          0.04377880184331797,
          0.020737327188940093,
          0.347926267281106,
          0.08755760368663595,
          0.2626728110599078,
          0.12442396313364054,
          0.13824884792626727,
          0.009216589861751154,
          0.023041474654377878,
          0.08986175115207373,
          0.05069124423963133,
          0.04608294930875576,
          0.004608294930875577,
          0.2626728110599078,
          0.22119815668202764,
          0.027649769585253454,
          0.2626728110599078,
          0.2073732718894009,
          0.07834101382488479,
          0.23502304147465436,
          0.1912442396313364,
          0.20506912442396313,
          0.20506912442396313,
          0.16359447004608293,
          0.03225806451612904,
          0.11059907834101382,
          0.0184331797235023,
          0.12211981566820276,
          0.048387096774193554,
          0.1129032258064516,
          0.10138248847926268,
          0.1497695852534562,
          0.08294930875576037,
          0.055299539170506916,
          0.027649769585253454,
          0.034562211981566816,
          0.08986175115207373,
          0.059907834101382486,
          0.1935483870967742,
          0.24193548387096775,
          0.04147465437788018,
          0.016129032258064516,
          0.3433179723502304,
          0.06221198156682028,
          0.22811059907834103,
          0.25115207373271886,
          0.19815668202764977,
          0.12903225806451613,
          0.1935483870967742,
          0.2995391705069124,
          0.052995391705069124,
          0.1728110599078341,
          0.2119815668202765,
          0.4608294930875576,
          0.10138248847926268,
          0.20046082949308755,
          0.19585253456221197,
          0.10138248847926268,
          0.12211981566820276,
          0.09907834101382487,
          0.016129032258064516,
          0.33410138248847926,
          0.152073732718894,
          0.41935483870967744,
          0.21658986175115208,
          0.03225806451612904,
          0.05069124423963133,
          0.07834101382488479,
          0.03225806451612904,
          0.10829493087557604,
          0.23963133640552997,
          0.3087557603686636,
          0.06221198156682028,
          0.22811059907834103,
          0.271889400921659,
          0.3294930875576037,
          0.016129032258064516,
          0.15898617511520738,
          0.0391705069124424,
          0.07834101382488479,
          0.08294930875576037,
          0.22811059907834103,
          0.1912442396313364,
          0.034562211981566816,
          0.12442396313364054,
          0.08755760368663595,
          0.023041474654377878,
          0.08986175115207373,
          0.14746543778801843,
          0.07603686635944701,
          0.06682027649769584,
          0.07834101382488479,
          0.1705069124423963,
          0.06682027649769584,
          0.0737327188940092,
          0.009216589861751154,
          0.055299539170506916,
          0.12672811059907835,
          0.18433179723502302,
          0.04608294930875576,
          0.1705069124423963,
          0.2926267281105991,
          0.19815668202764977,
          0.1705069124423963,
          0.04377880184331797,
          0.25115207373271886,
          0.1912442396313364,
          0.055299539170506916,
          0.009216589861751154,
          0.02534562211981567,
          0.15668202764976957,
          0.07834101382488479,
          0.18433179723502302,
          0.016129032258064516,
          0.24423963133640553,
          0.3617511520737327,
          0.2857142857142857,
          0.1935483870967742,
          0.05069124423963133,
          0.21658986175115208,
          0.057603686635944694,
          0.05069124423963133,
          0.23963133640552997,
          0.0391705069124424,
          0.059907834101382486,
          0.24884792626728108,
          0.08986175115207373,
          0.07834101382488479,
          0.3387096774193548,
          0.10599078341013823,
          0.03686635944700461,
          0.07834101382488479,
          0.055299539170506916,
          0.2626728110599078,
          0.21658986175115208,
          0.2119815668202765,
          0.11981566820276496,
          0.03225806451612904,
          0.18663594470046083,
          0.21889400921658986,
          0.15898617511520738,
          0.25806451612903225,
          0.25806451612903225,
          0.048387096774193554,
          0.1129032258064516,
          0.048387096774193554,
          0.16359447004608293,
          0.05069124423963133,
          0.10138248847926268,
          0.07834101382488479,
          0.08294930875576037,
          0.2857142857142857,
          0.2880184331797235,
          0.21658986175115208,
          0.0967741935483871,
          0.15898617511520738,
          0.04608294930875576,
          0.08755760368663595,
          0.1336405529953917,
          0.03686635944700461,
          0.1912442396313364,
          0.24423963133640553,
          0.23963133640552997,
          0.1543778801843318,
          0.04377880184331797,
          0.0737327188940092,
          0.20276497695852533,
          0.07834101382488479,
          0.057603686635944694,
          0.0184331797235023,
          0.08294930875576037,
          0.23732718894009214,
          0.4009216589861751,
          0.14516129032258063,
          0.055299539170506916,
          0.15898617511520738,
          0.21658986175115208,
          0.23963133640552997,
          0.10138248847926268,
          0.057603686635944694,
          0.15668202764976957,
          0.09447004608294929,
          0.2534562211981567,
          0.20046082949308755,
          0.06682027649769584,
          0.0737327188940092,
          0.0737327188940092,
          0.055299539170506916,
          0.03686635944700461,
          0.25806451612903225,
          0.04608294930875576,
          0.3456221198156682,
          0.1728110599078341,
          0.2626728110599078,
          0.18202764976958524,
          0.02534562211981567,
          0.24193548387096775,
          0.016129032258064516,
          0.1313364055299539,
          0.24193548387096775,
          0.04608294930875576,
          0.08755760368663595,
          0.3225806451612903,
          0.2834101382488479,
          0.18202764976958524,
          0.07834101382488479,
          0.22811059907834103,
          0.2235023041474654,
          0.07834101382488479,
          0.2119815668202765,
          0.1935483870967742,
          0.3064516129032258,
          0.43317972350230416,
          0.055299539170506916,
          0.2258064516129032,
          0.35023041474654376,
          0.3087557603686636,
          0.1705069124423963,
          0.152073732718894,
          0.1129032258064516,
          0.1889400921658986,
          0.3225806451612903,
          0.04608294930875576,
          0.17972350230414746,
          0.04377880184331797,
          0.20276497695852533,
          0.24193548387096775,
          0.05069124423963133,
          0.1129032258064516,
          -0.03686635944700461,
          0.12211981566820276,
          0.26036866359447003,
          0.15898617511520738,
          0.057603686635944694,
          0.11981566820276496,
          0.07142857142857142,
          0.04377880184331797,
          0.14746543778801843,
          0.04608294930875576,
          0.1912442396313364,
          0.19815668202764977,
          0.05069124423963133,
          0.059907834101382486,
          0.4009216589861751,
          0.05069124423963133,
          0.3387096774193548,
          0.059907834101382486,
          0.25115207373271886,
          0.24423963133640553,
          0.023041474654377878,
          0.06682027649769584,
          0.03686635944700461,
          0.1912442396313364,
          0.1336405529953917,
          0.03225806451612904,
          0.06221198156682028,
          0.19815668202764977,
          0.3548387096774194,
          0.15668202764976957,
          0.08294930875576037,
          0.06451612903225806,
          0.06682027649769584,
          0.06682027649769584,
          0.06451612903225806,
          0.14516129032258063,
          0.1935483870967742,
          0.10138248847926268,
          0.24423963133640553,
          0.22119815668202764,
          0.17511520737327188,
          0.22119815668202764,
          0.06912442396313365,
          0.23732718894009214,
          0.23963133640552997,
          0.07834101382488479,
          0.2235023041474654,
          0.027649769585253454,
          0.16589861751152074,
          0.18433179723502302,
          0.01382488479262673,
          0.20276497695852533,
          0.16589861751152074,
          0.07834101382488479,
          0.04377880184331797,
          0.11059907834101382,
          0.1705069124423963,
          0.2857142857142857,
          0.09216589861751151,
          0.07603686635944701,
          0.25115207373271886,
          0.059907834101382486,
          0.17972350230414746,
          0.08294930875576037,
          0.03225806451612904,
          0.25115207373271886,
          0.06682027649769584,
          0.055299539170506916,
          0.08294930875576037,
          0.04377880184331797,
          0.04147465437788018,
          0.09447004608294929,
          0.21889400921658986,
          0.009216589861751154,
          0.18433179723502302,
          0.21658986175115208,
          0.1912442396313364,
          0.07142857142857142,
          0.06451612903225806,
          0.03686635944700461,
          0.04608294930875576,
          0.17741935483870966,
          0.04377880184331797,
          0.1889400921658986,
          0.18663594470046083,
          0.20046082949308755,
          0.2096774193548387,
          0.10138248847926268,
          0.04608294930875576,
          0.5046082949308757,
          0.11751152073732718,
          0.057603686635944694,
          0.1543778801843318,
          0.016129032258064516,
          0.08294930875576037,
          0.11059907834101382,
          0.2119815668202765,
          0.2995391705069124,
          0.1705069124423963,
          0.10138248847926268,
          0.16359447004608293,
          0.07603686635944701,
          0.07142857142857142,
          0.41244239631336405,
          0.08986175115207373,
          0.08755760368663595,
          0.11751152073732718,
          0.21658986175115208,
          0.055299539170506916,
          0.06682027649769584,
          0.07834101382488479,
          0.3064516129032258,
          0.02534562211981567,
          0.12442396313364054,
          0.1336405529953917,
          0.23732718894009214,
          0.04377880184331797,
          0.02534562211981567,
          0.07142857142857142,
          0.052995391705069124,
          0.07603686635944701,
          0.1705069124423963,
          0.023041474654377878,
          0.0737327188940092,
          0.029953917050691246,
          0.17511520737327188,
          0.27419354838709675,
          0.048387096774193554,
          0.07834101382488479,
          0.3433179723502304,
          0.15898617511520738,
          0.4170506912442396,
          0.08986175115207373,
          0.24423963133640553,
          0.3018433179723502,
          0.006912442396313362,
          0.20046082949308755,
          0.27649769585253453,
          0.27649769585253453,
          0.1336405529953917,
          0.1152073732718894,
          0.08294930875576037,
          0.23963133640552997,
          0.04147465437788018,
          0.32027649769585254,
          0.11981566820276496,
          0.18202764976958524,
          0.16129032258064516,
          0.16359447004608293,
          0.02534562211981567,
          0.2073732718894009,
          0.07142857142857142,
          0.17741935483870966,
          0.1705069124423963,
          0.16359447004608293,
          0.07142857142857142,
          0.034562211981566816,
          0.07603686635944701,
          0.2142857142857143,
          0.1705069124423963,
          0.12442396313364054,
          0.055299539170506916,
          0.0391705069124424,
          0.21658986175115208,
          0.048387096774193554,
          0.07834101382488479,
          0.07834101382488479,
          0.09216589861751151,
          0.06912442396313365,
          0.26036866359447003,
          0.055299539170506916,
          0.07834101382488479,
          0.04377880184331797,
          0.22811059907834103,
          0.10829493087557604,
          0.18202764976958524,
          0.0391705069124424,
          0.08294930875576037,
          0.25806451612903225,
          0.016129032258064516,
          0.06682027649769584,
          0.06682027649769584,
          0.07142857142857142,
          0.1359447004608295,
          0.07142857142857142,
          0.12442396313364054,
          0.08986175115207373,
          0.4400921658986175,
          0.04377880184331797,
          0.10829493087557604,
          0.22811059907834103,
          0.2857142857142857,
          0.2258064516129032,
          0.1705069124423963,
          0.07834101382488479,
          0.1728110599078341,
          0.059907834101382486,
          0.06682027649769584,
          0.14285714285714285,
          0.10368663594470046,
          0.14285714285714285,
          0.055299539170506916,
          0.059907834101382486,
          0.055299539170506916,
          0.1935483870967742,
          0.1935483870967742,
          0.1935483870967742,
          0.3686635944700461,
          0.08064516129032259,
          0.06682027649769584,
          0.1705069124423963,
          0.05069124423963133,
          0.19585253456221197,
          0.22119815668202764,
          0.12442396313364054,
          0.3410138248847926,
          0.1152073732718894,
          0.19815668202764977,
          0.1129032258064516,
          0.04377880184331797,
          0.18663594470046083,
          0.12442396313364054,
          0.1497695852534562,
          0.1935483870967742,
          0.10138248847926268,
          0.01382488479262673,
          0.25115207373271886,
          0.0391705069124424,
          0.22811059907834103,
          0.19815668202764977,
          0.07834101382488479,
          0.1129032258064516,
          0.271889400921659,
          0.152073732718894,
          0.06221198156682028,
          0.0391705069124424,
          0.08986175115207373,
          0.0737327188940092,
          0.2626728110599078,
          0.11059907834101382,
          0.14746543778801843,
          0.0391705069124424,
          0.3456221198156682,
          0.1543778801843318,
          0.10138248847926268,
          0.12442396313364054,
          0.25115207373271886,
          0.1336405529953917,
          0.2995391705069124,
          0.41244239631336405,
          0.04147465437788018,
          0.02534562211981567,
          0.07834101382488479,
          0.10138248847926268,
          0.16129032258064516
         ],
         "xaxis": "x",
         "y": [
          0.23655825853347778,
          0.20779892802238464,
          0.20670059323310852,
          0.20294132828712463,
          0.18631738424301147,
          0.19317930936813354,
          0.06984392553567886,
          0.21735113859176636,
          0.2404446005821228,
          0.06258256733417511,
          0.06199657917022705,
          0.2380083203315735,
          0.21698355674743652,
          0.2359679937362671,
          0.24983659386634827,
          0.06421871483325958,
          0.06064624711871147,
          0.0649339035153389,
          0.27979061007499695,
          0.06052056699991226,
          0.1754511296749115,
          0.12953397631645203,
          0.12745583057403564,
          0.022623609751462936,
          0.0288817398250103,
          0.07836674153804779,
          0.05834926292300224,
          0.06005911901593208,
          0.0228973887860775,
          0.1754511296749115,
          0.2567543089389801,
          0.0455486997961998,
          0.2233925759792328,
          0.20032906532287598,
          0.06984392553567886,
          0.22953441739082336,
          0.1267927885055542,
          0.187612384557724,
          0.24602752923965454,
          0.20847201347351074,
          0.057256702333688736,
          0.06912876665592194,
          0.010815136134624481,
          0.22209498286247253,
          0.04891308397054672,
          0.1268213838338852,
          0.06359927356243134,
          0.1955992877483368,
          0.06478659808635712,
          0.06651943176984787,
          0.032782044261693954,
          0.06512795388698578,
          0.06626518815755844,
          0.06263220310211182,
          0.213206946849823,
          0.19507434964179993,
          0.06535294651985168,
          0.06306514143943787,
          0.3044593930244446,
          0.06477299332618713,
          0.2203177511692047,
          0.2474808394908905,
          0.2319883108139038,
          0.19605979323387146,
          0.16172371804714203,
          0.20952406525611877,
          0.06651638448238373,
          0.1972079873085022,
          0.1880013644695282,
          0.3596239387989044,
          0.15603578090667725,
          0.19513660669326782,
          0.10650187730789185,
          0.15603578090667725,
          0.24194487929344177,
          0.16939212381839752,
          0.02612808346748352,
          0.22909563779830933,
          0.16674330830574036,
          0.4003005921840668,
          0.22220593690872192,
          0.04268849641084671,
          0.06984392553567886,
          0.06797345727682114,
          0.06429806351661682,
          0.1826935112476349,
          0.194415882229805,
          0.24310478568077087,
          0.05802695080637932,
          0.20555290579795837,
          0.24813994765281677,
          0.23201221227645874,
          0.06898322701454163,
          0.18070361018180847,
          0.03177893906831741,
          0.058332767337560654,
          0.16195183992385864,
          0.2709350883960724,
          0.21672427654266357,
          0.06211826950311661,
          0.12953397631645203,
          0.06706801056861877,
          0.0288817398250103,
          0.06984392553567886,
          0.06591463088989258,
          0.0627284049987793,
          0.06866426765918732,
          0.06797345727682114,
          0.23545831441879272,
          0.06866426765918732,
          0.06636044383049011,
          0.036722175776958466,
          0.06547989696264267,
          0.15546050667762756,
          0.21562573313713074,
          0.06984392553567886,
          0.21405258774757385,
          0.1905355453491211,
          0.22108131647109985,
          0.19988274574279785,
          0.06984392553567886,
          0.24353179335594177,
          0.20779892802238464,
          0.06651943176984787,
          0.053125083446502686,
          0.06984392553567886,
          0.15808650851249695,
          0.06486386060714722,
          0.21542587876319885,
          0.03863440081477165,
          0.235611230134964,
          0.2359679937362671,
          0.12126826494932175,
          0.22222930192947388,
          0.04218650609254837,
          0.19363850355148315,
          0.0899895504117012,
          0.06354264169931412,
          0.22307422757148743,
          0.03177893906831741,
          0.06510644406080246,
          0.2528798580169678,
          0.06984392553567886,
          0.06984392553567886,
          0.21968021988868713,
          0.27063053846359253,
          0.06059219688177109,
          0.06984392553567886,
          0.06572463363409042,
          0.2812691628932953,
          0.2512971758842468,
          0.19874456524848938,
          0.0879688411951065,
          0.06567111611366272,
          0.21731585264205933,
          0.24428802728652954,
          0.1959032118320465,
          0.29593759775161743,
          0.23056510090827942,
          0.06520682573318481,
          0.1268213838338852,
          0.04891308397054672,
          0.1781812608242035,
          0.06848054379224777,
          0.06749647110700607,
          0.06722027063369751,
          0.06984392553567886,
          0.22034284472465515,
          0.22706186771392822,
          0.2208118438720703,
          0.06656906008720398,
          0.06695841997861862,
          0.057502150535583496,
          0.2014891505241394,
          0.19928449392318726,
          0.042812131345272064,
          0.1821267306804657,
          0.07452470064163208,
          0.26662465929985046,
          0.15447379648685455,
          0.06621015071868896,
          0.04466160759329796,
          0.18841814994812012,
          0.06984392553567886,
          0.05777749419212341,
          0.03878405690193176,
          0.07653845101594925,
          0.2136419713497162,
          0.28692224621772766,
          0.19096854329109192,
          0.06402930617332458,
          0.06984392553567886,
          0.2512971758842468,
          0.20955368876457214,
          0.17082801461219788,
          0.0632018893957138,
          0.23590350151062012,
          0.06485814601182938,
          0.2408287525177002,
          0.16996091604232788,
          0.06331765651702881,
          0.06490149348974228,
          0.06947333365678787,
          0.0457586869597435,
          0.04911769926548004,
          0.23056510090827942,
          0.06549704819917679,
          0.2412286102771759,
          0.2256382405757904,
          0.26015421748161316,
          0.12916281819343567,
          0.05860135704278946,
          0.21647050976753235,
          0.06898322701454163,
          0.21416622400283813,
          0.26551827788352966,
          0.06012720614671707,
          0.06984392553567886,
          0.30710145831108093,
          0.22499492764472961,
          0.20769008994102478,
          0.05397629737854004,
          0.2275441288948059,
          0.23205840587615967,
          0.06484214216470718,
          0.1880013644695282,
          0.24651968479156494,
          0.20015454292297363,
          0.24995002150535583,
          0.06984392553567886,
          0.21095839142799377,
          0.2835804224014282,
          0.2081967294216156,
          0.2350197434425354,
          0.20962470769882202,
          0.14856621623039246,
          0.05955253541469574,
          0.2216319441795349,
          0.06215202435851097,
          0.2101091742515564,
          0.06833869218826294,
          0.24217167496681213,
          0.22182723879814148,
          0.06434748321771622,
          0.060551270842552185,
          0.07146649807691574,
          0.22209498286247253,
          0.20738255977630615,
          0.2184194028377533,
          0.06604202836751938,
          0.0879688411951065,
          0.06757201999425888,
          0.06833869218826294,
          0.13562512397766113,
          0.05658769607543945,
          0.21304264664649963,
          0.2068263590335846,
          0.06434748321771622,
          0.06509006023406982,
          0.22785884141921997,
          0.06751830875873566,
          0.3326030671596527,
          0.06263220310211182,
          0.20632123947143555,
          0.19345104694366455,
          0.023975659161806107,
          0.06582416594028473,
          0.05822805315256119,
          0.1967456340789795,
          0.18606972694396973,
          0.06567111611366272,
          0.06984392553567886,
          0.2571938633918762,
          0.27010858058929443,
          0.194580540060997,
          0.06984392553567886,
          0.06842547655105591,
          0.06984392553567886,
          0.06366591900587082,
          0.05723671242594719,
          0.07048369944095612,
          0.21606019139289856,
          0.17082801461219788,
          0.19070814549922943,
          0.20292973518371582,
          0.16670292615890503,
          0.2449258267879486,
          0.05636898800730705,
          0.20067152380943298,
          0.26574113965034485,
          0.060794807970523834,
          0.2226860523223877,
          0.0455486997961998,
          0.18602025508880615,
          0.18139900267124176,
          0.02421809732913971,
          0.273286372423172,
          0.18602025508880615,
          0.06984392553567886,
          0.06984392553567886,
          0.18485450744628906,
          0.11293184012174606,
          0.2206999957561493,
          0.07626917958259583,
          0.06684231013059616,
          0.24353179335594177,
          0.06614869087934494,
          0.21038159728050232,
          0.059440091252326965,
          0.06512251496315002,
          0.25919657945632935,
          0.0688924714922905,
          0.06572463363409042,
          0.06984392553567886,
          0.05726867914199829,
          0.06549158692359924,
          0.06984392553567886,
          0.2155904471874237,
          0.022623613476753235,
          0.24097514152526855,
          0.2298394739627838,
          0.18293944001197815,
          0.0642392635345459,
          0.06938355416059494,
          0.06547601521015167,
          0.06040952354669571,
          0.2423391044139862,
          0.06162426620721817,
          0.2230142056941986,
          0.24737077951431274,
          0.20145580172538757,
          0.22349175810813904,
          0.16523203253746033,
          0.06927836686372757,
          0.2799083888530731,
          0.1730261892080307,
          0.06604202836751938,
          0.2029496431350708,
          0.02251996099948883,
          0.06622342765331268,
          0.08354194462299347,
          0.1880013644695282,
          0.2909397482872009,
          0.17203263938426971,
          0.2728716731071472,
          0.2046869397163391,
          0.06298468261957169,
          0.06757201999425888,
          0.2609546482563019,
          0.06149757653474808,
          0.07147818058729172,
          0.14266875386238098,
          0.19639286398887634,
          0.06984392553567886,
          0.06857293099164963,
          0.06751976162195206,
          0.2134416699409485,
          0.030007269233465195,
          0.12953397631645203,
          0.14418518543243408,
          0.1966782510280609,
          0.060229841619729996,
          0.05594826117157936,
          0.06757201999425888,
          0.06651996076107025,
          0.06684231013059616,
          0.17203263938426971,
          0.023975659161806107,
          0.0691022053360939,
          0.06984392553567886,
          0.21802416443824768,
          0.2146080732345581,
          0.053532861173152924,
          0.04067586362361908,
          0.23733866214752197,
          0.17919281125068665,
          0.2347816824913025,
          0.06686876714229584,
          0.19314701855182648,
          0.2061881124973297,
          0.0228973887860775,
          0.2159644067287445,
          0.23053395748138428,
          0.2715299427509308,
          0.19928449392318726,
          0.13620257377624512,
          0.06500239670276642,
          0.22527244687080383,
          0.05251890420913696,
          0.211274653673172,
          0.0879688411951065,
          0.20594456791877747,
          0.22992336750030518,
          0.06564709544181824,
          0.05860135704278946,
          0.1875917911529541,
          0.06921977549791336,
          0.21933525800704956,
          0.20530742406845093,
          0.1781812608242035,
          0.0565461702644825,
          0.040719978511333466,
          0.0627284049987793,
          0.20614910125732422,
          0.167497456073761,
          0.06984392553567886,
          0.06402930617332458,
          0.06118207052350044,
          0.14902523159980774,
          0.05166478455066681,
          0.06792205572128296,
          0.06792205572128296,
          0.06247791275382042,
          0.05636898800730705,
          0.23172712326049805,
          0.06586073338985443,
          0.06810479611158371,
          0.0663025826215744,
          0.2709350883960724,
          0.06533212959766388,
          0.19271990656852722,
          0.05619191750884056,
          0.06930238008499146,
          0.22704339027404785,
          0.06898322701454163,
          0.06214788928627968,
          0.06885862350463867,
          0.06869953870773315,
          0.06712885946035385,
          0.06950976699590683,
          0.16198322176933289,
          0.06805560737848282,
          0.3746947944164276,
          0.06621015071868896,
          0.1826935112476349,
          0.2709350883960724,
          0.2206999957561493,
          0.21866345405578613,
          0.22386488318443298,
          0.06668207049369812,
          0.1925230622291565,
          0.05644067004323006,
          0.06058771535754204,
          0.17912110686302185,
          0.06984392553567886,
          0.1289702206850052,
          0.06837204843759537,
          0.06455276161432266,
          0.06828421354293823,
          0.214022696018219,
          0.24651968479156494,
          0.178045392036438,
          0.2244090735912323,
          0.06879673898220062,
          0.06199657917022705,
          0.15896441042423248,
          0.057910576462745667,
          0.19154319167137146,
          0.26664936542510986,
          0.0592680424451828,
          0.29316696524620056,
          0.17013919353485107,
          0.24949511885643005,
          0.06704694032669067,
          0.060123685747385025,
          0.18938609957695007,
          0.24284455180168152,
          0.19070687890052795,
          0.20159494876861572,
          0.06947383284568787,
          0.02421809732913971,
          0.2221474051475525,
          0.06202325597405434,
          0.2709350883960724,
          0.16039767861366272,
          0.06810479611158371,
          0.06796227395534515,
          0.1773918867111206,
          0.16674327850341797,
          0.05802695080637932,
          0.03226861357688904,
          0.06954439729452133,
          0.0691022053360939,
          0.24926364421844482,
          0.08354194462299347,
          0.06760746985673904,
          0.03177893906831741,
          0.22251489758491516,
          0.2029496431350708,
          0.19993680715560913,
          0.0644279420375824,
          0.2043524980545044,
          0.190271258354187,
          0.2909397482872009,
          0.2774975001811981,
          0.05707837641239166,
          0.05860135704278946,
          0.06984392553567886,
          0.06359927356243134,
          0.19383558630943298
         ],
         "yaxis": "y"
        }
       ],
       "layout": {
        "legend": {
         "tracegroupgap": 0
        },
        "shapes": [
         {
          "line": {
           "color": "red",
           "dash": "dot"
          },
          "type": "line",
          "x0": -0.03686635944700461,
          "x1": 0.5046082949308757,
          "y0": -0.03686635944700461,
          "y1": 0.5046082949308757
         }
        ],
        "template": {
         "data": {
          "bar": [
           {
            "error_x": {
             "color": "#2a3f5f"
            },
            "error_y": {
             "color": "#2a3f5f"
            },
            "marker": {
             "line": {
              "color": "white",
              "width": 0.5
             },
             "pattern": {
              "fillmode": "overlay",
              "size": 10,
              "solidity": 0.2
             }
            },
            "type": "bar"
           }
          ],
          "barpolar": [
           {
            "marker": {
             "line": {
              "color": "white",
              "width": 0.5
             },
             "pattern": {
              "fillmode": "overlay",
              "size": 10,
              "solidity": 0.2
             }
            },
            "type": "barpolar"
           }
          ],
          "carpet": [
           {
            "aaxis": {
             "endlinecolor": "#2a3f5f",
             "gridcolor": "#C8D4E3",
             "linecolor": "#C8D4E3",
             "minorgridcolor": "#C8D4E3",
             "startlinecolor": "#2a3f5f"
            },
            "baxis": {
             "endlinecolor": "#2a3f5f",
             "gridcolor": "#C8D4E3",
             "linecolor": "#C8D4E3",
             "minorgridcolor": "#C8D4E3",
             "startlinecolor": "#2a3f5f"
            },
            "type": "carpet"
           }
          ],
          "choropleth": [
           {
            "colorbar": {
             "outlinewidth": 0,
             "ticks": ""
            },
            "type": "choropleth"
           }
          ],
          "contour": [
           {
            "colorbar": {
             "outlinewidth": 0,
             "ticks": ""
            },
            "colorscale": [
             [
              0,
              "#0d0887"
             ],
             [
              0.1111111111111111,
              "#46039f"
             ],
             [
              0.2222222222222222,
              "#7201a8"
             ],
             [
              0.3333333333333333,
              "#9c179e"
             ],
             [
              0.4444444444444444,
              "#bd3786"
             ],
             [
              0.5555555555555556,
              "#d8576b"
             ],
             [
              0.6666666666666666,
              "#ed7953"
             ],
             [
              0.7777777777777778,
              "#fb9f3a"
             ],
             [
              0.8888888888888888,
              "#fdca26"
             ],
             [
              1,
              "#f0f921"
             ]
            ],
            "type": "contour"
           }
          ],
          "contourcarpet": [
           {
            "colorbar": {
             "outlinewidth": 0,
             "ticks": ""
            },
            "type": "contourcarpet"
           }
          ],
          "heatmap": [
           {
            "colorbar": {
             "outlinewidth": 0,
             "ticks": ""
            },
            "colorscale": [
             [
              0,
              "#0d0887"
             ],
             [
              0.1111111111111111,
              "#46039f"
             ],
             [
              0.2222222222222222,
              "#7201a8"
             ],
             [
              0.3333333333333333,
              "#9c179e"
             ],
             [
              0.4444444444444444,
              "#bd3786"
             ],
             [
              0.5555555555555556,
              "#d8576b"
             ],
             [
              0.6666666666666666,
              "#ed7953"
             ],
             [
              0.7777777777777778,
              "#fb9f3a"
             ],
             [
              0.8888888888888888,
              "#fdca26"
             ],
             [
              1,
              "#f0f921"
             ]
            ],
            "type": "heatmap"
           }
          ],
          "heatmapgl": [
           {
            "colorbar": {
             "outlinewidth": 0,
             "ticks": ""
            },
            "colorscale": [
             [
              0,
              "#0d0887"
             ],
             [
              0.1111111111111111,
              "#46039f"
             ],
             [
              0.2222222222222222,
              "#7201a8"
             ],
             [
              0.3333333333333333,
              "#9c179e"
             ],
             [
              0.4444444444444444,
              "#bd3786"
             ],
             [
              0.5555555555555556,
              "#d8576b"
             ],
             [
              0.6666666666666666,
              "#ed7953"
             ],
             [
              0.7777777777777778,
              "#fb9f3a"
             ],
             [
              0.8888888888888888,
              "#fdca26"
             ],
             [
              1,
              "#f0f921"
             ]
            ],
            "type": "heatmapgl"
           }
          ],
          "histogram": [
           {
            "marker": {
             "pattern": {
              "fillmode": "overlay",
              "size": 10,
              "solidity": 0.2
             }
            },
            "type": "histogram"
           }
          ],
          "histogram2d": [
           {
            "colorbar": {
             "outlinewidth": 0,
             "ticks": ""
            },
            "colorscale": [
             [
              0,
              "#0d0887"
             ],
             [
              0.1111111111111111,
              "#46039f"
             ],
             [
              0.2222222222222222,
              "#7201a8"
             ],
             [
              0.3333333333333333,
              "#9c179e"
             ],
             [
              0.4444444444444444,
              "#bd3786"
             ],
             [
              0.5555555555555556,
              "#d8576b"
             ],
             [
              0.6666666666666666,
              "#ed7953"
             ],
             [
              0.7777777777777778,
              "#fb9f3a"
             ],
             [
              0.8888888888888888,
              "#fdca26"
             ],
             [
              1,
              "#f0f921"
             ]
            ],
            "type": "histogram2d"
           }
          ],
          "histogram2dcontour": [
           {
            "colorbar": {
             "outlinewidth": 0,
             "ticks": ""
            },
            "colorscale": [
             [
              0,
              "#0d0887"
             ],
             [
              0.1111111111111111,
              "#46039f"
             ],
             [
              0.2222222222222222,
              "#7201a8"
             ],
             [
              0.3333333333333333,
              "#9c179e"
             ],
             [
              0.4444444444444444,
              "#bd3786"
             ],
             [
              0.5555555555555556,
              "#d8576b"
             ],
             [
              0.6666666666666666,
              "#ed7953"
             ],
             [
              0.7777777777777778,
              "#fb9f3a"
             ],
             [
              0.8888888888888888,
              "#fdca26"
             ],
             [
              1,
              "#f0f921"
             ]
            ],
            "type": "histogram2dcontour"
           }
          ],
          "mesh3d": [
           {
            "colorbar": {
             "outlinewidth": 0,
             "ticks": ""
            },
            "type": "mesh3d"
           }
          ],
          "parcoords": [
           {
            "line": {
             "colorbar": {
              "outlinewidth": 0,
              "ticks": ""
             }
            },
            "type": "parcoords"
           }
          ],
          "pie": [
           {
            "automargin": true,
            "type": "pie"
           }
          ],
          "scatter": [
           {
            "fillpattern": {
             "fillmode": "overlay",
             "size": 10,
             "solidity": 0.2
            },
            "type": "scatter"
           }
          ],
          "scatter3d": [
           {
            "line": {
             "colorbar": {
              "outlinewidth": 0,
              "ticks": ""
             }
            },
            "marker": {
             "colorbar": {
              "outlinewidth": 0,
              "ticks": ""
             }
            },
            "type": "scatter3d"
           }
          ],
          "scattercarpet": [
           {
            "marker": {
             "colorbar": {
              "outlinewidth": 0,
              "ticks": ""
             }
            },
            "type": "scattercarpet"
           }
          ],
          "scattergeo": [
           {
            "marker": {
             "colorbar": {
              "outlinewidth": 0,
              "ticks": ""
             }
            },
            "type": "scattergeo"
           }
          ],
          "scattergl": [
           {
            "marker": {
             "colorbar": {
              "outlinewidth": 0,
              "ticks": ""
             }
            },
            "type": "scattergl"
           }
          ],
          "scattermapbox": [
           {
            "marker": {
             "colorbar": {
              "outlinewidth": 0,
              "ticks": ""
             }
            },
            "type": "scattermapbox"
           }
          ],
          "scatterpolar": [
           {
            "marker": {
             "colorbar": {
              "outlinewidth": 0,
              "ticks": ""
             }
            },
            "type": "scatterpolar"
           }
          ],
          "scatterpolargl": [
           {
            "marker": {
             "colorbar": {
              "outlinewidth": 0,
              "ticks": ""
             }
            },
            "type": "scatterpolargl"
           }
          ],
          "scatterternary": [
           {
            "marker": {
             "colorbar": {
              "outlinewidth": 0,
              "ticks": ""
             }
            },
            "type": "scatterternary"
           }
          ],
          "surface": [
           {
            "colorbar": {
             "outlinewidth": 0,
             "ticks": ""
            },
            "colorscale": [
             [
              0,
              "#0d0887"
             ],
             [
              0.1111111111111111,
              "#46039f"
             ],
             [
              0.2222222222222222,
              "#7201a8"
             ],
             [
              0.3333333333333333,
              "#9c179e"
             ],
             [
              0.4444444444444444,
              "#bd3786"
             ],
             [
              0.5555555555555556,
              "#d8576b"
             ],
             [
              0.6666666666666666,
              "#ed7953"
             ],
             [
              0.7777777777777778,
              "#fb9f3a"
             ],
             [
              0.8888888888888888,
              "#fdca26"
             ],
             [
              1,
              "#f0f921"
             ]
            ],
            "type": "surface"
           }
          ],
          "table": [
           {
            "cells": {
             "fill": {
              "color": "#EBF0F8"
             },
             "line": {
              "color": "white"
             }
            },
            "header": {
             "fill": {
              "color": "#C8D4E3"
             },
             "line": {
              "color": "white"
             }
            },
            "type": "table"
           }
          ]
         },
         "layout": {
          "annotationdefaults": {
           "arrowcolor": "#2a3f5f",
           "arrowhead": 0,
           "arrowwidth": 1
          },
          "autotypenumbers": "strict",
          "coloraxis": {
           "colorbar": {
            "outlinewidth": 0,
            "ticks": ""
           }
          },
          "colorscale": {
           "diverging": [
            [
             0,
             "#8e0152"
            ],
            [
             0.1,
             "#c51b7d"
            ],
            [
             0.2,
             "#de77ae"
            ],
            [
             0.3,
             "#f1b6da"
            ],
            [
             0.4,
             "#fde0ef"
            ],
            [
             0.5,
             "#f7f7f7"
            ],
            [
             0.6,
             "#e6f5d0"
            ],
            [
             0.7,
             "#b8e186"
            ],
            [
             0.8,
             "#7fbc41"
            ],
            [
             0.9,
             "#4d9221"
            ],
            [
             1,
             "#276419"
            ]
           ],
           "sequential": [
            [
             0,
             "#0d0887"
            ],
            [
             0.1111111111111111,
             "#46039f"
            ],
            [
             0.2222222222222222,
             "#7201a8"
            ],
            [
             0.3333333333333333,
             "#9c179e"
            ],
            [
             0.4444444444444444,
             "#bd3786"
            ],
            [
             0.5555555555555556,
             "#d8576b"
            ],
            [
             0.6666666666666666,
             "#ed7953"
            ],
            [
             0.7777777777777778,
             "#fb9f3a"
            ],
            [
             0.8888888888888888,
             "#fdca26"
            ],
            [
             1,
             "#f0f921"
            ]
           ],
           "sequentialminus": [
            [
             0,
             "#0d0887"
            ],
            [
             0.1111111111111111,
             "#46039f"
            ],
            [
             0.2222222222222222,
             "#7201a8"
            ],
            [
             0.3333333333333333,
             "#9c179e"
            ],
            [
             0.4444444444444444,
             "#bd3786"
            ],
            [
             0.5555555555555556,
             "#d8576b"
            ],
            [
             0.6666666666666666,
             "#ed7953"
            ],
            [
             0.7777777777777778,
             "#fb9f3a"
            ],
            [
             0.8888888888888888,
             "#fdca26"
            ],
            [
             1,
             "#f0f921"
            ]
           ]
          },
          "colorway": [
           "#636efa",
           "#EF553B",
           "#00cc96",
           "#ab63fa",
           "#FFA15A",
           "#19d3f3",
           "#FF6692",
           "#B6E880",
           "#FF97FF",
           "#FECB52"
          ],
          "font": {
           "color": "#2a3f5f"
          },
          "geo": {
           "bgcolor": "white",
           "lakecolor": "white",
           "landcolor": "white",
           "showlakes": true,
           "showland": true,
           "subunitcolor": "#C8D4E3"
          },
          "hoverlabel": {
           "align": "left"
          },
          "hovermode": "closest",
          "mapbox": {
           "style": "light"
          },
          "paper_bgcolor": "white",
          "plot_bgcolor": "white",
          "polar": {
           "angularaxis": {
            "gridcolor": "#EBF0F8",
            "linecolor": "#EBF0F8",
            "ticks": ""
           },
           "bgcolor": "white",
           "radialaxis": {
            "gridcolor": "#EBF0F8",
            "linecolor": "#EBF0F8",
            "ticks": ""
           }
          },
          "scene": {
           "xaxis": {
            "backgroundcolor": "white",
            "gridcolor": "#DFE8F3",
            "gridwidth": 2,
            "linecolor": "#EBF0F8",
            "showbackground": true,
            "ticks": "",
            "zerolinecolor": "#EBF0F8"
           },
           "yaxis": {
            "backgroundcolor": "white",
            "gridcolor": "#DFE8F3",
            "gridwidth": 2,
            "linecolor": "#EBF0F8",
            "showbackground": true,
            "ticks": "",
            "zerolinecolor": "#EBF0F8"
           },
           "zaxis": {
            "backgroundcolor": "white",
            "gridcolor": "#DFE8F3",
            "gridwidth": 2,
            "linecolor": "#EBF0F8",
            "showbackground": true,
            "ticks": "",
            "zerolinecolor": "#EBF0F8"
           }
          },
          "shapedefaults": {
           "line": {
            "color": "#2a3f5f"
           }
          },
          "ternary": {
           "aaxis": {
            "gridcolor": "#DFE8F3",
            "linecolor": "#A2B1C6",
            "ticks": ""
           },
           "baxis": {
            "gridcolor": "#DFE8F3",
            "linecolor": "#A2B1C6",
            "ticks": ""
           },
           "bgcolor": "white",
           "caxis": {
            "gridcolor": "#DFE8F3",
            "linecolor": "#A2B1C6",
            "ticks": ""
           }
          },
          "title": {
           "x": 0.05
          },
          "xaxis": {
           "automargin": true,
           "gridcolor": "#EBF0F8",
           "linecolor": "#EBF0F8",
           "ticks": "",
           "title": {
            "standoff": 15
           },
           "zerolinecolor": "#EBF0F8",
           "zerolinewidth": 2
          },
          "yaxis": {
           "automargin": true,
           "gridcolor": "#EBF0F8",
           "linecolor": "#EBF0F8",
           "ticks": "",
           "title": {
            "standoff": 15
           },
           "zerolinecolor": "#EBF0F8",
           "zerolinewidth": 2
          }
         }
        },
        "title": {
         "text": "Valores Reales vs Predicciones (Mejor LR)"
        },
        "xaxis": {
         "anchor": "y",
         "domain": [
          0,
          1
         ],
         "title": {
          "text": "Valores Reales"
         }
        },
        "yaxis": {
         "anchor": "x",
         "domain": [
          0,
          1
         ],
         "title": {
          "text": "Predicciones"
         }
        }
       }
      }
     },
     "metadata": {},
     "output_type": "display_data"
    }
   ],
   "source": [
    "# Encontrar el mejor learning rate basado en validation_loss\n",
    "best_lr = results_lr.loc[results_lr[\"validation_loss\"].idxmin(), \"learning_rate\"]\n",
    "\n",
    "early_stopping = EarlyStopping(\n",
    "    monitor=\"val_loss\",\n",
    "    patience=5,# Incrementar para prevenir paradas prematuras\n",
    "    restore_best_weights=True # Restaurar mejores pesos\n",
    ")\n",
    "\n",
    "# Entrenar el mejor modelo con el mejor learning rate\n",
    "model = Sequential([\n",
    "    Input(shape=(X_train.shape[1],)),\n",
    "    Dense(units=128, activation='relu'),\n",
    "    Dropout(0.2),  # Añadir Dropout para evitar overfitting\n",
    "    Dense(units=64, activation='relu'),\n",
    "    Dropout(0.2),\n",
    "    Dense(units=32, activation='relu'),\n",
    "    Dropout(0.2),\n",
    "    Dense(units=8, activation='relu'),\n",
    "    Dense(units=1)\n",
    "])    \n",
    "\n",
    "model.compile(optimizer=Adam(learning_rate=best_lr), loss='mean_absolute_error')\n",
    "\n",
    "\n",
    "# Entrenar nuevamente el mejor modelo\n",
    "history = model.fit(\n",
    "    X_train, y_train,\n",
    "    validation_split=0.2,\n",
    "    epochs=100,  # Más epochs para ajustar bien\n",
    "    batch_size=32,\n",
    "    callbacks=[early_stopping],\n",
    "    verbose=1\n",
    ")\n",
    "\n",
    "fig = go.Figure()\n",
    "fig.add_trace(go.Scatter(y=history.history['loss'], mode='lines', name='Train Loss', line=dict(color='blue')))\n",
    "fig.add_trace(go.Scatter(y=history.history['val_loss'], mode='lines', name='Validation Loss', line=dict(color='orange')))\n",
    "fig.update_layout(title=\"Pérdida durante el entrenamiento y validación (Mejor LR)\",\n",
    "                  xaxis_title=\"Epochs\", yaxis_title=\"Pérdida (Loss)\", template=\"plotly_white\",\n",
    "                  legend=dict(x=0.5, y=1, xanchor='center', orientation='h'))\n",
    "fig.show()\n",
    "\n",
    "test_loss = model.evaluate(X_test, y_test)\n",
    "print(f\"Pierda en el conjunto de teste: {test_loss}\")\n",
    "\n",
    "predictions = model.predict(X_test)\n",
    "\n",
    "resultados_df = pd.DataFrame({\n",
    "    \"Valores Reales\": y_test,\n",
    "    \"Predicciones\": predictions.ravel()  # predictions tiene 2D, ravel para transformar en 1D para la creación del df\n",
    "})\n",
    "\n",
    "fig = px.scatter(\n",
    "    resultados_df,\n",
    "    x=\"Valores Reales\",\n",
    "    y=\"Predicciones\",\n",
    "    title=\"Valores Reales vs Predicciones (Mejor LR)\",\n",
    "    template=\"plotly_white\"\n",
    ")\n",
    "\n",
    "# Añadir una línea de referencia donde las predicciones coinciden perfectamente con los valores reales\n",
    "fig.add_shape(\n",
    "    type=\"line\",\n",
    "    x0=resultados_df[\"Valores Reales\"].min(),\n",
    "    y0=resultados_df[\"Valores Reales\"].min(),\n",
    "    x1=resultados_df[\"Valores Reales\"].max(),\n",
    "    y1=resultados_df[\"Valores Reales\"].max(),\n",
    "    line=dict(color=\"red\", dash=\"dot\")\n",
    ")\n",
    "\n",
    "fig.show()"
   ]
  },
  {
   "cell_type": "code",
   "execution_count": 8,
   "metadata": {},
   "outputs": [
    {
     "name": "stdout",
     "output_type": "stream",
     "text": [
      "Métricas de evaluación del segundo modelo:\n",
      "MAE: 0.03377127479610767\n",
      "RMSE: 0.048559747334431524\n",
      "R2: 0.7461601559681195\n"
     ]
    }
   ],
   "source": [
    "# Llamar la función definida en el primer modelo\n",
    "mae, rmse, r2 = calculate_metrics(y_test, predictions.ravel())\n",
    "\n",
    "print(\"Métricas de evaluación del segundo modelo:\")\n",
    "print(f\"MAE: {mae}\")\n",
    "print(f\"RMSE: {rmse}\")\n",
    "print(f\"R2: {r2}\")\n"
   ]
  },
  {
   "cell_type": "code",
   "execution_count": null,
   "metadata": {},
   "outputs": [],
   "source": []
  },
  {
   "cell_type": "code",
   "execution_count": null,
   "metadata": {},
   "outputs": [],
   "source": []
  },
  {
   "cell_type": "code",
   "execution_count": null,
   "metadata": {},
   "outputs": [],
   "source": []
  },
  {
   "cell_type": "code",
   "execution_count": null,
   "metadata": {},
   "outputs": [],
   "source": []
  },
  {
   "cell_type": "code",
   "execution_count": null,
   "metadata": {},
   "outputs": [],
   "source": []
  },
  {
   "cell_type": "code",
   "execution_count": null,
   "metadata": {},
   "outputs": [],
   "source": []
  },
  {
   "cell_type": "code",
   "execution_count": null,
   "metadata": {},
   "outputs": [],
   "source": []
  },
  {
   "cell_type": "code",
   "execution_count": null,
   "metadata": {},
   "outputs": [],
   "source": []
  }
 ],
 "metadata": {
  "kernelspec": {
   "display_name": "Python 3",
   "language": "python",
   "name": "python3"
  },
  "language_info": {
   "codemirror_mode": {
    "name": "ipython",
    "version": 3
   },
   "file_extension": ".py",
   "mimetype": "text/x-python",
   "name": "python",
   "nbconvert_exporter": "python",
   "pygments_lexer": "ipython3",
   "version": "3.12.2"
  }
 },
 "nbformat": 4,
 "nbformat_minor": 2
}
