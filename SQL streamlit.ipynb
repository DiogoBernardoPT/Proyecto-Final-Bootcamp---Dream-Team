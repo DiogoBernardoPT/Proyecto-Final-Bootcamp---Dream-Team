{
 "cells": [
  {
   "cell_type": "markdown",
   "metadata": {},
   "source": [
    "## SQL STREAMLIT"
   ]
  },
  {
   "cell_type": "markdown",
   "metadata": {},
   "source": [
    "Este código en teoria nos va a servir para conectar nuestra base de datos en sql con streamlit"
   ]
  },
  {
   "cell_type": "code",
   "execution_count": 1,
   "metadata": {},
   "outputs": [],
   "source": [
    "import streamlit as st\n",
    "import mysql.connector\n",
    "import pandas as pd"
   ]
  },
  {
   "cell_type": "markdown",
   "metadata": {},
   "source": [
    "Configuramos una función para la conecsion y la obtención de datos de la base de datos"
   ]
  },
  {
   "cell_type": "code",
   "execution_count": 2,
   "metadata": {},
   "outputs": [],
   "source": [
    "def connect_to_database():\n",
    "    connection = mysql.connector.connect(\n",
    "        host=\"localhost\",       \n",
    "        user=\"root\",\n",
    "        password=\"contraseña123\",\n",
    "        database=\"AIRBNB\"\n",
    "    )\n",
    "    return connection\n",
    "\n",
    "\n",
    "def fetch_data(query):\n",
    "    connection = connect_to_database()\n",
    "    cursor = connection.cursor()\n",
    "    cursor.execute(query)\n",
    "    result = cursor.fetchall()\n",
    "    cursor.close()\n",
    "    connection.close()\n",
    "    return result"
   ]
  },
  {
   "cell_type": "code",
   "execution_count": null,
   "metadata": {},
   "outputs": [],
   "source": [
    "# Interfaz de Streamlit\n",
    "st.title(\"Dashboard de Airbnb using SQL\")\n",
    "# Opciones de visualización\n",
    "opcion = st.selectbox(\"Select an analysis:\", [\n",
    "    \"Ratings Distribution\",\n",
    "    \"Number of Reviews vs Price\",\n",
    "    \"Distribution by Property Type\",\n",
    "    \"Correlation Map\",\n",
    "    \"Prices by Property Type\",\n",
    "    \"Average Price by Capacity\",\n",
    "    \"Top 10 Most Offered Services\"\n",
    "])"
   ]
  },
  {
   "cell_type": "code",
   "execution_count": null,
   "metadata": {},
   "outputs": [],
   "source": [
    "if opcion == \"Ratings Distribution\":\n",
    "    query = \"\"\"\n",
    "        SELECT Ratings.ratings, COUNT(*) as count \n",
    "        FROM Ratings \n",
    "        GROUP BY Ratings.ratings \n",
    "        ORDER BY Ratings.ratings;\n",
    "    \"\"\"\n",
    "    data = fetch_data(query)\n",
    "    fig = px.bar(data, x=\"ratings\", y=\"count\", title=\"Ratings Distribution\")\n",
    "    st.plotly_chart(fig)\n",
    "\n",
    "elif opcion == \"Number of Reviews vs Price\":\n",
    "    query = \"\"\"\n",
    "        SELECT Ratings.num_reviews, Description_.prices_per_night \n",
    "        FROM Ratings \n",
    "        JOIN Description_ ON Ratings.record_id = Description_.id;\n",
    "    \"\"\"\n",
    "    data = fetch_data(query)\n",
    "    fig = px.scatter(data, x=\"num_reviews\", y=\"prices_per_night\", title=\"Number of Reviews vs Price\")\n",
    "    st.plotly_chart(fig)\n",
    "\n",
    "elif opcion == \"Distribution by Property Type\":\n",
    "    query = \"\"\"\n",
    "        SELECT Hosting.property_types, Ratings.ratings, Ratings.num_reviews, Description_.prices_per_night \n",
    "        FROM Hosting\n",
    "        JOIN Ratings ON Hosting.record_id = Ratings.record_id\n",
    "        JOIN Description_ ON Hosting.record_id = Description_.id;\n",
    "    \"\"\"\n",
    "    data = fetch_data(query)\n",
    "    fig = px.scatter(data, x=\"ratings\", y=\"num_reviews\", color=\"property_types\",\n",
    "                     size=\"prices_per_night\", title=\"Distribution by Property Type\")\n",
    "    st.plotly_chart(fig)\n",
    "\n",
    "elif opcion == \"Correlation Map\":\n",
    "    query = \"\"\"\n",
    "        SELECT Ratings.ratings, Ratings.num_reviews, Description_.prices_per_night, Description_.maximum_guests \n",
    "        FROM Ratings\n",
    "        JOIN Description_ ON Ratings.record_id = Description_.id;\n",
    "    \"\"\"\n",
    "    data = fetch_data(query)\n",
    "    correlation_matrix = data.corr()\n",
    "    st.write(\"Correlation Map\")\n",
    "    st.dataframe(correlation_matrix)\n",
    "\n",
    "elif opcion == \"Prices by Property Type\":\n",
    "    query = \"\"\"\n",
    "        SELECT Hosting.property_types, Description_.prices_per_night \n",
    "        FROM Hosting\n",
    "        JOIN Description_ ON Hosting.record_id = Description_.id;\n",
    "    \"\"\"\n",
    "    data = fetch_data(query)\n",
    "    fig = px.box(data, x=\"property_types\", y=\"prices_per_night\", title=\"Prices by Property Type\")\n",
    "    st.plotly_chart(fig)\n",
    "\n",
    "elif opcion == \"Average Price by Capacity\":\n",
    "    query = \"\"\"\n",
    "        SELECT Description_.maximum_guests, AVG(Description_.prices_per_night) as avg_price \n",
    "        FROM Description_ \n",
    "        GROUP BY Description_.maximum_guests;\n",
    "    \"\"\"\n",
    "    data = fetch_data(query)\n",
    "    fig = px.bar(data, x=\"maximum_guests\", y=\"avg_price\", title=\"Average Price by Capacity\")\n",
    "    st.plotly_chart(fig)\n",
    "\n",
    "#elif opcion == \"Top 10 Most Offered Services\":\n",
    " #   query = \"\"\"\n",
    "  #      SELECT Services_.service, COUNT(*) as count \n",
    "   #     FROM Services_ \n",
    "    #    JOIN Services_Hosting ON Services_.service_id = Services_Hosting.service_id\n",
    "     #   GROUP BY Services_.service \n",
    "      #  ORDER BY count DESC \n",
    "       # LIMIT 10;\n",
    "    #\"\"\"\n",
    "    #data = fetch_data(query)\n",
    "    #fig = px.bar(data, x=\"service\", y=\"count\", title=\"Top 10 Most Offered Services\")\n",
    "    #st.plotly_chart(fig)\n"
   ]
  }
 ],
 "metadata": {
  "kernelspec": {
   "display_name": "base",
   "language": "python",
   "name": "python3"
  },
  "language_info": {
   "codemirror_mode": {
    "name": "ipython",
    "version": 3
   },
   "file_extension": ".py",
   "mimetype": "text/x-python",
   "name": "python",
   "nbconvert_exporter": "python",
   "pygments_lexer": "ipython3",
   "version": "3.12.7"
  }
 },
 "nbformat": 4,
 "nbformat_minor": 2
}
