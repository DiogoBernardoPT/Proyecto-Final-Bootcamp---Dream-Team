{
 "cells": [
  {
   "cell_type": "markdown",
   "metadata": {},
   "source": [
    "## SQL STREAMLIT"
   ]
  },
  {
   "cell_type": "markdown",
   "metadata": {},
   "source": [
    "Este código en teoria nos va a servir para conectar nuestra base de datos en sql con streamlit"
   ]
  },
  {
   "cell_type": "code",
   "execution_count": 1,
   "metadata": {},
   "outputs": [],
   "source": [
    "import streamlit as st\n",
    "import mysql.connector\n",
    "import pandas as pd"
   ]
  },
  {
   "cell_type": "markdown",
   "metadata": {},
   "source": [
    "Configuramos una función para la conecxión y la obtención de datos de la base de datos"
   ]
  },
  {
   "cell_type": "code",
   "execution_count": 2,
   "metadata": {},
   "outputs": [],
   "source": [
    "def connect_to_database():\n",
    "    connection = mysql.connector.connect(\n",
    "        host=\"localhost\",       \n",
    "        user=\"root\",\n",
    "        password=\"contraseña123\",\n",
    "        database=\"AIRBNB\"\n",
    "    )\n",
    "    return connection\n",
    "\n",
    "\n",
    "def fetch_data(query):\n",
    "    connection = connect_to_database()\n",
    "    cursor = connection.cursor()\n",
    "    cursor.execute(query)\n",
    "    result = cursor.fetchall()\n",
    "    cursor.close()\n",
    "    connection.close()\n",
    "    return result"
   ]
  },
  {
   "cell_type": "markdown",
   "metadata": {},
   "source": [
    "Todas las consultas deben hacerse en modo sql rollo (SELECT dormitorios FROM Description_)"
   ]
  },
  {
   "cell_type": "code",
   "execution_count": null,
   "metadata": {},
   "outputs": [],
   "source": [
    "# Interfaz de Streamlit\n",
    "st.title(\"Search your perfect airbnb:\")\n",
    "\n",
    "# Input para escribir una consulta\n",
    "query = st.text_area(\"Search\")\n",
    "\n",
    "# Botón para ejecutar la consulta\n",
    "if st.button(\"Insert here your query\"):\n",
    "    if query:\n",
    "        try:\n",
    "            data = fetch_data(query)\n",
    "            st.write(\"Results:\")\n",
    "            st.dataframe(data)\n",
    "        except Exception as e:\n",
    "            st.error(f\"Error: {e}\")\n",
    "else:\n",
    "        st.warning(\"Please insert another query.\")\n"
   ]
  }
 ],
 "metadata": {
  "kernelspec": {
   "display_name": "base",
   "language": "python",
   "name": "python3"
  },
  "language_info": {
   "codemirror_mode": {
    "name": "ipython",
    "version": 3
   },
   "file_extension": ".py",
   "mimetype": "text/x-python",
   "name": "python",
   "nbconvert_exporter": "python",
   "pygments_lexer": "ipython3",
   "version": "3.12.7"
  }
 },
 "nbformat": 4,
 "nbformat_minor": 2
}
