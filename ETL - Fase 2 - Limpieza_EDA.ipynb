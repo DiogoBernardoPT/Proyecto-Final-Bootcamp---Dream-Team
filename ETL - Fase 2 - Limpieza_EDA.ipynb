{
 "cells": [
  {
   "cell_type": "markdown",
   "metadata": {},
   "source": [
    "## **Fase 2 - Transform**\n",
    "\n",
    "*En esta fase del proceso ETL, nos centramos en transformar los datos extraídos para adecuarlos para el análisis posterior. La transformación incluye la limpieza de datos, conversión de tipos de datos y creación de nuevas columnas relevantes. Estas acciones permiten mejorar la calidad y la utilidad de los datos, facilitando un análisis más preciso y efectivo. La transformación asegura que los datos estén en un formato coherente y listo para ser utilizado y analizado con gráficos de visualización para entender cómo se correlacionan las columnas y poder identificar patrones en los datos.*."
   ]
  },
  {
   "cell_type": "code",
   "execution_count": null,
   "metadata": {},
   "outputs": [],
   "source": []
  }
 ],
 "metadata": {
  "language_info": {
   "name": "python"
  }
 },
 "nbformat": 4,
 "nbformat_minor": 2
}
