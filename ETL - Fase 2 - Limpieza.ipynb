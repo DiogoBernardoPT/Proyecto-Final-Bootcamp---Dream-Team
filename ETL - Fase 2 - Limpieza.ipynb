{
 "cells": [
  {
   "cell_type": "markdown",
   "metadata": {},
   "source": [
    "## **Fase 2 - Limpieza de Datos**\n",
    "*En esta fase crucial del proceso ETL, la limpieza de datos se convierte en la base para un análisis confiable y preciso. La limpieza implica la eliminación de valores nulos, la corrección de incoherencias y el tratamiento de datos que podrían distorsionar los resultados. Este proceso garantiza que el conjunto de datos esté libre de ruido y preparado para extraer información valiosa. Al limpiar los datos, aseguramos que las conclusiones posteriores reflejen fielmente la realidad representada en los datos, estableciendo una base sólida sobre la cual se construirá nuestro análisis*."
   ]
  },
  {
   "cell_type": "code",
   "execution_count": 1,
   "metadata": {},
   "outputs": [],
   "source": [
    "# General\n",
    "import numpy as np\n",
    "import pandas as pd\n",
    "from datetime import datetime"
   ]
  },
  {
   "cell_type": "code",
   "execution_count": 2,
   "metadata": {},
   "outputs": [],
   "source": [
    "df = pd.read_csv('df_completo.csv')"
   ]
  },
  {
   "cell_type": "markdown",
   "metadata": {},
   "source": [
    "### **Análisis inicial del dataset para entender la estructura, los tipos de datos, los valores ausentes y las estadísticas generales**"
   ]
  },
  {
   "cell_type": "code",
   "execution_count": 3,
   "metadata": {},
   "outputs": [
    {
     "data": {
      "text/html": [
       "<div>\n",
       "<style scoped>\n",
       "    .dataframe tbody tr th:only-of-type {\n",
       "        vertical-align: middle;\n",
       "    }\n",
       "\n",
       "    .dataframe tbody tr th {\n",
       "        vertical-align: top;\n",
       "    }\n",
       "\n",
       "    .dataframe thead th {\n",
       "        text-align: right;\n",
       "    }\n",
       "</style>\n",
       "<table border=\"1\" class=\"dataframe\">\n",
       "  <thead>\n",
       "    <tr style=\"text-align: right;\">\n",
       "      <th></th>\n",
       "      <th>urls</th>\n",
       "      <th>timestamp</th>\n",
       "      <th>record_id</th>\n",
       "      <th>Titles</th>\n",
       "      <th>Host_name</th>\n",
       "      <th>Property_types</th>\n",
       "      <th>Prices_per_night</th>\n",
       "      <th>Check_ins</th>\n",
       "      <th>Check_outs</th>\n",
       "      <th>Location</th>\n",
       "      <th>Ratings</th>\n",
       "      <th>Num_reviews</th>\n",
       "      <th>Cleaning_fee</th>\n",
       "      <th>Com_fee</th>\n",
       "      <th>Otros</th>\n",
       "      <th>Baños</th>\n",
       "      <th>Maximum_guests</th>\n",
       "      <th>Viajeros</th>\n",
       "      <th>Dormitorios</th>\n",
       "      <th>Camas</th>\n",
       "    </tr>\n",
       "  </thead>\n",
       "  <tbody>\n",
       "    <tr>\n",
       "      <th>0</th>\n",
       "      <td>https://www.airbnb.es/rooms/125284963667401123...</td>\n",
       "      <td>2024-11-07 10:12:02</td>\n",
       "      <td>1252849636674011237</td>\n",
       "      <td>Reserva una (o más) camas en este dormitorio c...</td>\n",
       "      <td>Anfitrión: Generator</td>\n",
       "      <td>Habitación en Barcelona, España</td>\n",
       "      <td>19 €</td>\n",
       "      <td>Horario de llegada: de 14:00 a 0:00</td>\n",
       "      <td>Salida antes de las 10:00</td>\n",
       "      <td>NaN</td>\n",
       "      <td>4,75</td>\n",
       "      <td>4.0</td>\n",
       "      <td>0</td>\n",
       "      <td>0</td>\n",
       "      <td>1 litera</td>\n",
       "      <td>Baño compartido</td>\n",
       "      <td>NaN</td>\n",
       "      <td>NaN</td>\n",
       "      <td>NaN</td>\n",
       "      <td>NaN</td>\n",
       "    </tr>\n",
       "    <tr>\n",
       "      <th>1</th>\n",
       "      <td>https://www.airbnb.es/rooms/128244586043482024...</td>\n",
       "      <td>2024-11-07 10:12:02</td>\n",
       "      <td>1282445860434820248</td>\n",
       "      <td>Te damos la bienvenida a este elegante apartam...</td>\n",
       "      <td>Anfitrión: HostPro</td>\n",
       "      <td>Alojamiento entero: apartamento en Barcelona, ...</td>\n",
       "      <td>110 €</td>\n",
       "      <td>Llegada a partir de las 15:00</td>\n",
       "      <td>Salida antes de las 11:00</td>\n",
       "      <td>Barcelona, Catalunya, España</td>\n",
       "      <td>Nuevo</td>\n",
       "      <td>NaN</td>\n",
       "      <td>60 €</td>\n",
       "      <td>0</td>\n",
       "      <td>NaN</td>\n",
       "      <td>1 baño</td>\n",
       "      <td>NaN</td>\n",
       "      <td>4 viajeros</td>\n",
       "      <td>2 dormitorios</td>\n",
       "      <td>3 camas</td>\n",
       "    </tr>\n",
       "    <tr>\n",
       "      <th>2</th>\n",
       "      <td>https://www.airbnb.es/rooms/128028819924646861...</td>\n",
       "      <td>2024-11-07 10:12:02</td>\n",
       "      <td>1280288199246468615</td>\n",
       "      <td>Excelente y acogedor apartamento a solo '2 cam...</td>\n",
       "      <td>Quédate con Lautaro Gaspar</td>\n",
       "      <td>Habitación en Barcelona, España</td>\n",
       "      <td>32 €</td>\n",
       "      <td>Llegada a partir de las 16:00</td>\n",
       "      <td>Salida antes de las 11:00</td>\n",
       "      <td>Barcelona, Catalunya, España</td>\n",
       "      <td>Nuevo</td>\n",
       "      <td>NaN</td>\n",
       "      <td>0</td>\n",
       "      <td>0</td>\n",
       "      <td>NaN</td>\n",
       "      <td>Baño compartido</td>\n",
       "      <td>NaN</td>\n",
       "      <td>NaN</td>\n",
       "      <td>NaN</td>\n",
       "      <td>1 cama individual</td>\n",
       "    </tr>\n",
       "    <tr>\n",
       "      <th>3</th>\n",
       "      <td>https://www.airbnb.es/rooms/850684095339937556...</td>\n",
       "      <td>2024-11-07 10:12:02</td>\n",
       "      <td>850684095339937556</td>\n",
       "      <td>Desconecta de la rutina en este alojamiento  a...</td>\n",
       "      <td>Anfitrión: Marta+Paul</td>\n",
       "      <td>Alojamiento entero: apartamento en Barcelona, ...</td>\n",
       "      <td>80 €</td>\n",
       "      <td>Llegada a partir de las 15:00</td>\n",
       "      <td>Salida antes de las 11:00</td>\n",
       "      <td>NaN</td>\n",
       "      <td>5,0</td>\n",
       "      <td>5.0</td>\n",
       "      <td>90 €</td>\n",
       "      <td>0</td>\n",
       "      <td>NaN</td>\n",
       "      <td>1 baño</td>\n",
       "      <td>NaN</td>\n",
       "      <td>2 viajeros</td>\n",
       "      <td>1 dormitorio</td>\n",
       "      <td>1 cama</td>\n",
       "    </tr>\n",
       "    <tr>\n",
       "      <th>4</th>\n",
       "      <td>https://www.airbnb.es/rooms/127904085557632410...</td>\n",
       "      <td>2024-11-07 10:12:02</td>\n",
       "      <td>1279040855576324107</td>\n",
       "      <td>Este anfitrión tiene 979 evaluaciones de otros...</td>\n",
       "      <td>Anfitrión: David</td>\n",
       "      <td>Habitación en Barcelona, España</td>\n",
       "      <td>46 €</td>\n",
       "      <td>Horario de llegada: de 17:00 a 2:00</td>\n",
       "      <td>Salida antes de las 11:00</td>\n",
       "      <td>Barcelona, Catalunya, España</td>\n",
       "      <td>Nuevo</td>\n",
       "      <td>NaN</td>\n",
       "      <td>15 €</td>\n",
       "      <td>42 €</td>\n",
       "      <td>NaN</td>\n",
       "      <td>Baño compartido</td>\n",
       "      <td>1.0</td>\n",
       "      <td>NaN</td>\n",
       "      <td>NaN</td>\n",
       "      <td>1 cama</td>\n",
       "    </tr>\n",
       "  </tbody>\n",
       "</table>\n",
       "</div>"
      ],
      "text/plain": [
       "                                                urls            timestamp  \\\n",
       "0  https://www.airbnb.es/rooms/125284963667401123...  2024-11-07 10:12:02   \n",
       "1  https://www.airbnb.es/rooms/128244586043482024...  2024-11-07 10:12:02   \n",
       "2  https://www.airbnb.es/rooms/128028819924646861...  2024-11-07 10:12:02   \n",
       "3  https://www.airbnb.es/rooms/850684095339937556...  2024-11-07 10:12:02   \n",
       "4  https://www.airbnb.es/rooms/127904085557632410...  2024-11-07 10:12:02   \n",
       "\n",
       "             record_id                                             Titles  \\\n",
       "0  1252849636674011237  Reserva una (o más) camas en este dormitorio c...   \n",
       "1  1282445860434820248  Te damos la bienvenida a este elegante apartam...   \n",
       "2  1280288199246468615  Excelente y acogedor apartamento a solo '2 cam...   \n",
       "3   850684095339937556  Desconecta de la rutina en este alojamiento  a...   \n",
       "4  1279040855576324107  Este anfitrión tiene 979 evaluaciones de otros...   \n",
       "\n",
       "                    Host_name  \\\n",
       "0        Anfitrión: Generator   \n",
       "1          Anfitrión: HostPro   \n",
       "2  Quédate con Lautaro Gaspar   \n",
       "3       Anfitrión: Marta+Paul   \n",
       "4            Anfitrión: David   \n",
       "\n",
       "                                      Property_types Prices_per_night  \\\n",
       "0                    Habitación en Barcelona, España             19 €   \n",
       "1  Alojamiento entero: apartamento en Barcelona, ...            110 €   \n",
       "2                    Habitación en Barcelona, España             32 €   \n",
       "3  Alojamiento entero: apartamento en Barcelona, ...             80 €   \n",
       "4                    Habitación en Barcelona, España             46 €   \n",
       "\n",
       "                             Check_ins                 Check_outs  \\\n",
       "0  Horario de llegada: de 14:00 a 0:00  Salida antes de las 10:00   \n",
       "1        Llegada a partir de las 15:00  Salida antes de las 11:00   \n",
       "2        Llegada a partir de las 16:00  Salida antes de las 11:00   \n",
       "3        Llegada a partir de las 15:00  Salida antes de las 11:00   \n",
       "4  Horario de llegada: de 17:00 a 2:00  Salida antes de las 11:00   \n",
       "\n",
       "                       Location Ratings  Num_reviews Cleaning_fee Com_fee  \\\n",
       "0                           NaN    4,75          4.0            0       0   \n",
       "1  Barcelona, Catalunya, España   Nuevo          NaN         60 €       0   \n",
       "2  Barcelona, Catalunya, España   Nuevo          NaN            0       0   \n",
       "3                           NaN     5,0          5.0         90 €       0   \n",
       "4  Barcelona, Catalunya, España   Nuevo          NaN         15 €    42 €   \n",
       "\n",
       "      Otros            Baños  Maximum_guests    Viajeros    Dormitorios  \\\n",
       "0  1 litera  Baño compartido             NaN         NaN            NaN   \n",
       "1       NaN           1 baño             NaN  4 viajeros  2 dormitorios   \n",
       "2       NaN  Baño compartido             NaN         NaN            NaN   \n",
       "3       NaN           1 baño             NaN  2 viajeros   1 dormitorio   \n",
       "4       NaN  Baño compartido             1.0         NaN            NaN   \n",
       "\n",
       "               Camas  \n",
       "0                NaN  \n",
       "1            3 camas  \n",
       "2  1 cama individual  \n",
       "3             1 cama  \n",
       "4             1 cama  "
      ]
     },
     "execution_count": 3,
     "metadata": {},
     "output_type": "execute_result"
    }
   ],
   "source": [
    "df.head()"
   ]
  },
  {
   "cell_type": "code",
   "execution_count": 4,
   "metadata": {},
   "outputs": [
    {
     "data": {
      "text/plain": [
       "(2700, 20)"
      ]
     },
     "execution_count": 4,
     "metadata": {},
     "output_type": "execute_result"
    }
   ],
   "source": [
    "df.shape"
   ]
  },
  {
   "cell_type": "code",
   "execution_count": 5,
   "metadata": {},
   "outputs": [
    {
     "name": "stdout",
     "output_type": "stream",
     "text": [
      "<class 'pandas.core.frame.DataFrame'>\n",
      "RangeIndex: 2700 entries, 0 to 2699\n",
      "Data columns (total 20 columns):\n",
      " #   Column            Non-Null Count  Dtype  \n",
      "---  ------            --------------  -----  \n",
      " 0   urls              2700 non-null   object \n",
      " 1   timestamp         2700 non-null   object \n",
      " 2   record_id         2700 non-null   int64  \n",
      " 3   Titles            2685 non-null   object \n",
      " 4   Host_name         2685 non-null   object \n",
      " 5   Property_types    2685 non-null   object \n",
      " 6   Prices_per_night  2573 non-null   object \n",
      " 7   Check_ins         2685 non-null   object \n",
      " 8   Check_outs        2685 non-null   object \n",
      " 9   Location          1626 non-null   object \n",
      " 10  Ratings           2643 non-null   object \n",
      " 11  Num_reviews       1500 non-null   float64\n",
      " 12  Cleaning_fee      2700 non-null   object \n",
      " 13  Com_fee           2700 non-null   object \n",
      " 14  Otros             146 non-null    object \n",
      " 15  Baños             2618 non-null   object \n",
      " 16  Maximum_guests    2667 non-null   float64\n",
      " 17  Viajeros          1420 non-null   object \n",
      " 18  Dormitorios       1453 non-null   object \n",
      " 19  Camas             2584 non-null   object \n",
      "dtypes: float64(2), int64(1), object(17)\n",
      "memory usage: 422.0+ KB\n"
     ]
    }
   ],
   "source": [
    "df.info()"
   ]
  },
  {
   "cell_type": "code",
   "execution_count": 6,
   "metadata": {},
   "outputs": [
    {
     "data": {
      "text/html": [
       "<div>\n",
       "<style scoped>\n",
       "    .dataframe tbody tr th:only-of-type {\n",
       "        vertical-align: middle;\n",
       "    }\n",
       "\n",
       "    .dataframe tbody tr th {\n",
       "        vertical-align: top;\n",
       "    }\n",
       "\n",
       "    .dataframe thead th {\n",
       "        text-align: right;\n",
       "    }\n",
       "</style>\n",
       "<table border=\"1\" class=\"dataframe\">\n",
       "  <thead>\n",
       "    <tr style=\"text-align: right;\">\n",
       "      <th></th>\n",
       "      <th>record_id</th>\n",
       "      <th>Num_reviews</th>\n",
       "      <th>Maximum_guests</th>\n",
       "    </tr>\n",
       "  </thead>\n",
       "  <tbody>\n",
       "    <tr>\n",
       "      <th>count</th>\n",
       "      <td>2.700000e+03</td>\n",
       "      <td>1500.000000</td>\n",
       "      <td>2667.000000</td>\n",
       "    </tr>\n",
       "    <tr>\n",
       "      <th>mean</th>\n",
       "      <td>8.081992e+17</td>\n",
       "      <td>119.248000</td>\n",
       "      <td>2.693663</td>\n",
       "    </tr>\n",
       "    <tr>\n",
       "      <th>std</th>\n",
       "      <td>5.151280e+17</td>\n",
       "      <td>230.681026</td>\n",
       "      <td>1.615371</td>\n",
       "    </tr>\n",
       "    <tr>\n",
       "      <th>min</th>\n",
       "      <td>8.000400e+04</td>\n",
       "      <td>2.000000</td>\n",
       "      <td>1.000000</td>\n",
       "    </tr>\n",
       "    <tr>\n",
       "      <th>25%</th>\n",
       "      <td>5.138602e+07</td>\n",
       "      <td>15.000000</td>\n",
       "      <td>2.000000</td>\n",
       "    </tr>\n",
       "    <tr>\n",
       "      <th>50%</th>\n",
       "      <td>1.064768e+18</td>\n",
       "      <td>52.000000</td>\n",
       "      <td>2.000000</td>\n",
       "    </tr>\n",
       "    <tr>\n",
       "      <th>75%</th>\n",
       "      <td>1.238310e+18</td>\n",
       "      <td>136.000000</td>\n",
       "      <td>4.000000</td>\n",
       "    </tr>\n",
       "    <tr>\n",
       "      <th>max</th>\n",
       "      <td>1.283387e+18</td>\n",
       "      <td>2781.000000</td>\n",
       "      <td>13.000000</td>\n",
       "    </tr>\n",
       "  </tbody>\n",
       "</table>\n",
       "</div>"
      ],
      "text/plain": [
       "          record_id  Num_reviews  Maximum_guests\n",
       "count  2.700000e+03  1500.000000     2667.000000\n",
       "mean   8.081992e+17   119.248000        2.693663\n",
       "std    5.151280e+17   230.681026        1.615371\n",
       "min    8.000400e+04     2.000000        1.000000\n",
       "25%    5.138602e+07    15.000000        2.000000\n",
       "50%    1.064768e+18    52.000000        2.000000\n",
       "75%    1.238310e+18   136.000000        4.000000\n",
       "max    1.283387e+18  2781.000000       13.000000"
      ]
     },
     "execution_count": 6,
     "metadata": {},
     "output_type": "execute_result"
    }
   ],
   "source": [
    "df.describe()"
   ]
  },
  {
   "cell_type": "code",
   "execution_count": 7,
   "metadata": {},
   "outputs": [
    {
     "data": {
      "text/plain": [
       "urls                   0\n",
       "timestamp              0\n",
       "record_id              0\n",
       "Titles                15\n",
       "Host_name             15\n",
       "Property_types        15\n",
       "Prices_per_night     127\n",
       "Check_ins             15\n",
       "Check_outs            15\n",
       "Location            1074\n",
       "Ratings               57\n",
       "Num_reviews         1200\n",
       "Cleaning_fee           0\n",
       "Com_fee                0\n",
       "Otros               2554\n",
       "Baños                 82\n",
       "Maximum_guests        33\n",
       "Viajeros            1280\n",
       "Dormitorios         1247\n",
       "Camas                116\n",
       "dtype: int64"
      ]
     },
     "execution_count": 7,
     "metadata": {},
     "output_type": "execute_result"
    }
   ],
   "source": [
    "df.isna().sum()"
   ]
  },
  {
   "cell_type": "markdown",
   "metadata": {},
   "source": [
    "#### **Eliminación de columnas redundantes o duplicadas que no aportan valor al proceso de análisis**"
   ]
  },
  {
   "cell_type": "code",
   "execution_count": 8,
   "metadata": {},
   "outputs": [],
   "source": [
    "df = df.drop(['Viajeros', 'Otros', 'Com_fee'], axis=1)"
   ]
  },
  {
   "cell_type": "markdown",
   "metadata": {},
   "source": [
    "#### **Limpieza y Formateo de Columnas del DataFrame**"
   ]
  },
  {
   "cell_type": "markdown",
   "metadata": {},
   "source": [
    "#### Titles"
   ]
  },
  {
   "cell_type": "code",
   "execution_count": 9,
   "metadata": {},
   "outputs": [],
   "source": [
    "df['Titles'] = df['Titles'].str.capitalize()\n",
    "# 2. Eliminar puntuación innecesaria\n",
    "df['Titles'] = df['Titles'].str.replace('¡', '', regex=False)\n",
    "# 3. Corregir espacios y saltos de línea\n",
    "df['Titles'] = df['Titles'].str.replace(r'\\s+', ' ', regex=True)\n",
    "df['Titles'] = df['Titles'].str.strip()\n"
   ]
  },
  {
   "cell_type": "markdown",
   "metadata": {},
   "source": [
    "#### Host"
   ]
  },
  {
   "cell_type": "code",
   "execution_count": 10,
   "metadata": {},
   "outputs": [],
   "source": [
    "# Extraer solo el nombre del anfitrión, removendo \"Anfitrión: \" y cualquier outro prefixo\n",
    "df['Host_name'] = df['Host_name'].str.replace('Anfitrión: ', '', regex=False).str.replace('Quédate con ', '', regex=False)"
   ]
  },
  {
   "cell_type": "markdown",
   "metadata": {},
   "source": [
    "#### Property types"
   ]
  },
  {
   "cell_type": "code",
   "execution_count": 11,
   "metadata": {},
   "outputs": [],
   "source": [
    "# Clasificamos los tipos de propiedad en tres categorías para extraer solo la información que queremos con una función\n",
    "def category_types(value):\n",
    "    if isinstance(value, float) and pd.isna(value):\n",
    "        return \"otro\"\n",
    "    elif \"Alojamiento entero\" in value:\n",
    "        return \"Alojamiento entero\"\n",
    "    elif \"Habitación\" in value:\n",
    "        return \"Habitación\"\n",
    "    else:\n",
    "        return \"otro\"\n",
    "df[\"Property_types\"] = df[\"Property_types\"].apply(category_types)    "
   ]
  },
  {
   "cell_type": "markdown",
   "metadata": {},
   "source": [
    "#### Prices"
   ]
  },
  {
   "cell_type": "code",
   "execution_count": 12,
   "metadata": {},
   "outputs": [],
   "source": [
    "# Remover el símbolo € y convertir a valores numéricos\n",
    "df['Prices_per_night'] = pd.to_numeric(df['Prices_per_night'].str.replace('€', '').str.strip(), errors='coerce')\n",
    "df = df.dropna(subset=['Prices_per_night']) # Mantener solo registros válidos para análisis"
   ]
  },
  {
   "cell_type": "code",
   "execution_count": 13,
   "metadata": {},
   "outputs": [
    {
     "data": {
      "text/plain": [
       "(2573, 17)"
      ]
     },
     "execution_count": 13,
     "metadata": {},
     "output_type": "execute_result"
    }
   ],
   "source": [
    "# Verificación después del dropna\n",
    "df.shape"
   ]
  },
  {
   "cell_type": "markdown",
   "metadata": {},
   "source": [
    "#### Check in/Check out"
   ]
  },
  {
   "cell_type": "code",
   "execution_count": 14,
   "metadata": {},
   "outputs": [],
   "source": [
    "def process_check_times(df):\n",
    "\n",
    "    def extract_check_in_hour(check_in):\n",
    "\n",
    "        if isinstance(check_in, str):\n",
    "            check_in = check_in.strip().lower()\n",
    "\n",
    "            if 'llegada' in check_in:\n",
    "                # Elimina la parte \"llegada\" y obtiene la primera hora válida\n",
    "                check_in = check_in.replace('llegada:', '')\n",
    "                check_in = check_in.replace('de', '')\n",
    "                parts = check_in.split()\n",
    "                for part in parts:\n",
    "                    if \":\" in part:  # Verifica si el elemento tiene formato de hora \"HH:MM\"\n",
    "                        return part.strip()\n",
    "\n",
    "        return np.nan\n",
    "\n",
    "    def extract_check_out_hour(check_out):\n",
    "\n",
    "        if isinstance(check_out, str) and \"antes de las\" in check_out:\n",
    "            try:  # Extrae solo la hora\n",
    "                hour_str = check_out.split(\"antes de las\")[1].split(\":\")[0].strip() + \":00\"  # Devuelve la hora en formato \"HH:00\"\n",
    "                return hour_str\n",
    "            except:\n",
    "                return np.nan\n",
    "        return np.nan\n",
    "\n",
    "    # Función para calcular las horas restantes hasta el check-in\n",
    "    def calculate_hours_to_check_in(check_in_hour):\n",
    "        try:\n",
    "            # Extraímos la hora directamente de la cadena\n",
    "            hour = int(check_in_hour.split(\":\")[0])  # Obtiene la hora (antes de los minutos)\n",
    "\n",
    "            # Verifica si la hora es válida\n",
    "            if 0 <= hour < 24:\n",
    "                return 24 - hour  # Calcula las horas restantes hasta el check-in\n",
    "        except Exception:\n",
    "            return np.nan\n",
    "\n",
    "        return np.nan\n",
    "\n",
    "    # Aplica las funciones a las columnas correspondientes\n",
    "    df['check_in_hour'] = df['Check_ins'].apply(extract_check_in_hour)\n",
    "    df['check_out_hour'] = df['Check_outs'].apply(extract_check_out_hour)\n",
    "    df['total_hours_checkin'] = df['check_in_hour'].apply(calculate_hours_to_check_in)\n",
    "\n",
    "    df = df.drop(columns=['Check_ins', 'Check_outs'])\n",
    "\n",
    "    return df\n"
   ]
  },
  {
   "cell_type": "code",
   "execution_count": 15,
   "metadata": {},
   "outputs": [],
   "source": [
    "df = process_check_times(df)"
   ]
  },
  {
   "cell_type": "markdown",
   "metadata": {},
   "source": [
    "#### Cleaning Fees"
   ]
  },
  {
   "cell_type": "code",
   "execution_count": 16,
   "metadata": {},
   "outputs": [],
   "source": [
    "df['Cleaning_fee'] = pd.to_numeric(df['Cleaning_fee'].str.replace('€', '').str.strip(), errors='coerce')"
   ]
  },
  {
   "cell_type": "markdown",
   "metadata": {},
   "source": [
    "#### Ratings"
   ]
  },
  {
   "cell_type": "code",
   "execution_count": 17,
   "metadata": {},
   "outputs": [],
   "source": [
    "# Sustituir valores \"Nuevo\" y \"Sin evaluaciones\" por 0\n",
    "df['Ratings'] = df['Ratings'].replace({'Nuevo': '0', 'Sin evaluaciones': '0'})\n",
    "\n",
    "# Eliminar comas y convertir a numérico\n",
    "df['Ratings'] = pd.to_numeric(df['Ratings'].str.replace(',', '.'), errors='coerce').fillna(0)"
   ]
  },
  {
   "cell_type": "markdown",
   "metadata": {},
   "source": [
    "#### Number of reviews"
   ]
  },
  {
   "cell_type": "code",
   "execution_count": 18,
   "metadata": {},
   "outputs": [],
   "source": [
    "# Convertir a numérico y reemplazar valores nulos con 0\n",
    "df['Num_reviews'] = pd.to_numeric(df['Num_reviews'], errors='coerce').fillna(0)"
   ]
  },
  {
   "cell_type": "markdown",
   "metadata": {},
   "source": [
    "#### Dormitorios"
   ]
  },
  {
   "cell_type": "code",
   "execution_count": 19,
   "metadata": {},
   "outputs": [
    {
     "name": "stderr",
     "output_type": "stream",
     "text": [
      "<>:2: SyntaxWarning: invalid escape sequence '\\d'\n",
      "<>:2: SyntaxWarning: invalid escape sequence '\\d'\n",
      "C:\\Users\\diogo\\AppData\\Local\\Temp\\ipykernel_26496\\3909473064.py:2: SyntaxWarning: invalid escape sequence '\\d'\n",
      "  df['Dormitorios'] = df['Dormitorios'].str.extract('(\\d+)')[0]\n"
     ]
    }
   ],
   "source": [
    "# Extraer solo el número de dormitorios eliminando letras\n",
    "df['Dormitorios'] = df['Dormitorios'].str.extract('(\\d+)')[0]\n",
    "\n",
    "df['Dormitorios'] = pd.to_numeric(df['Dormitorios'], errors='coerce')"
   ]
  },
  {
   "cell_type": "markdown",
   "metadata": {},
   "source": [
    "#### Camas"
   ]
  },
  {
   "cell_type": "code",
   "execution_count": 20,
   "metadata": {},
   "outputs": [
    {
     "name": "stderr",
     "output_type": "stream",
     "text": [
      "<>:2: SyntaxWarning: invalid escape sequence '\\d'\n",
      "<>:2: SyntaxWarning: invalid escape sequence '\\d'\n",
      "C:\\Users\\diogo\\AppData\\Local\\Temp\\ipykernel_26496\\1413491753.py:2: SyntaxWarning: invalid escape sequence '\\d'\n",
      "  df['Camas'] = df['Camas'].str.extract('(\\d+)')[0]\n"
     ]
    }
   ],
   "source": [
    "# Extraer solo el número de camas eliminando letras\n",
    "df['Camas'] = df['Camas'].str.extract('(\\d+)')[0]\n",
    "\n",
    "df['Camas'] = pd.to_numeric(df['Camas'], errors='coerce')"
   ]
  },
  {
   "cell_type": "markdown",
   "metadata": {},
   "source": [
    "#### Baños"
   ]
  },
  {
   "cell_type": "code",
   "execution_count": 21,
   "metadata": {},
   "outputs": [
    {
     "name": "stderr",
     "output_type": "stream",
     "text": [
      "<>:5: SyntaxWarning: invalid escape sequence '\\d'\n",
      "<>:5: SyntaxWarning: invalid escape sequence '\\d'\n",
      "C:\\Users\\diogo\\AppData\\Local\\Temp\\ipykernel_26496\\280671281.py:5: SyntaxWarning: invalid escape sequence '\\d'\n",
      "  df['Baños'] = df['Baños'].str.extract('(\\d+[.,]?\\d*)')[0]# El resultado es una Serie con el número y usamos '[0]' para seleccionar esa columna\n"
     ]
    }
   ],
   "source": [
    "# Reemplazar \"Baño compartido\" por 0.5 y \"Baño privado\" por 1\n",
    "df['Baños'] = df['Baños'].replace({'Baño compartido': 0.5, 'Baño privado': 1})\n",
    "\n",
    "# Extraer números eliminando letras\n",
    "df['Baños'] = df['Baños'].str.extract('(\\d+[.,]?\\d*)')[0]# El resultado es una Serie con el número y usamos '[0]' para seleccionar esa columna\n",
    "\n",
    "df['Baños'] = pd.to_numeric(df['Baños'].str.replace(',', '.'), errors='coerce')"
   ]
  },
  {
   "cell_type": "code",
   "execution_count": null,
   "metadata": {},
   "outputs": [],
   "source": [
    "df.to_csv('df_final_cleaned.csv', index=False)"
   ]
  },
  {
   "cell_type": "code",
   "execution_count": null,
   "metadata": {},
   "outputs": [],
   "source": []
  },
  {
   "cell_type": "code",
   "execution_count": null,
   "metadata": {},
   "outputs": [],
   "source": []
  },
  {
   "cell_type": "code",
   "execution_count": null,
   "metadata": {},
   "outputs": [],
   "source": []
  },
  {
   "cell_type": "code",
   "execution_count": null,
   "metadata": {},
   "outputs": [],
   "source": []
  },
  {
   "cell_type": "code",
   "execution_count": null,
   "metadata": {},
   "outputs": [],
   "source": []
  }
 ],
 "metadata": {
  "kernelspec": {
   "display_name": "Python 3",
   "language": "python",
   "name": "python3"
  },
  "language_info": {
   "codemirror_mode": {
    "name": "ipython",
    "version": 3
   },
   "file_extension": ".py",
   "mimetype": "text/x-python",
   "name": "python",
   "nbconvert_exporter": "python",
   "pygments_lexer": "ipython3",
   "version": "3.12.2"
  }
 },
 "nbformat": 4,
 "nbformat_minor": 2
}
