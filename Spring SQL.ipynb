{
 "cells": [
  {
   "cell_type": "markdown",
   "metadata": {},
   "source": [
    "# SQL"
   ]
  },
  {
   "cell_type": "markdown",
   "metadata": {},
   "source": [
    "Hemos creado en nuestra base de datos, de momento tres tablas usando como primary key el id de las url.\n",
    "las hemos dividido en: \n",
    "                      Hosting\n",
    "                      Description_\n",
    "                      Ratings\n",
    "\n",
    "Hosting incluye la información básica del propietario o propietaria del airbb y la primiry key, record_id.\n",
    "Description_ incorpora todo lo relacionado con la descripción del airbb como num.baños, Check in , etc. y conecta con las otras dos tablas con id. \n",
    "Ratings contiene todo lo que tiene que ver con las review, las puntuaciones y demás esta a su vez enlaza con las otras dos anteriores con record_id."
   ]
  },
  {
   "cell_type": "markdown",
   "metadata": {},
   "source": []
  }
 ],
 "metadata": {
  "kernelspec": {
   "display_name": "base",
   "language": "python",
   "name": "python3"
  },
  "language_info": {
   "name": "python",
   "version": "3.12.4"
  }
 },
 "nbformat": 4,
 "nbformat_minor": 2
}
