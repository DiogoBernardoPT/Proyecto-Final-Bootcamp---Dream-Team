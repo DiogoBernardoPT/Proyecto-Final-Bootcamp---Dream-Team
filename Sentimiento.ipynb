{
 "cells": [
  {
   "cell_type": "code",
   "execution_count": 1,
   "metadata": {},
   "outputs": [],
   "source": [
    "import pandas as pd\n",
    "from transformers import pipeline"
   ]
  },
  {
   "cell_type": "code",
   "execution_count": 2,
   "metadata": {},
   "outputs": [],
   "source": [
    "#Cargar el df de comentarios Traducirlo?\n",
    "df = pd.read_csv('C:/Users/peni_/Desktop/proyecto/df_coments_extract.csv')"
   ]
  },
  {
   "cell_type": "code",
   "execution_count": 3,
   "metadata": {},
   "outputs": [
    {
     "data": {
      "text/html": [
       "<div>\n",
       "<style scoped>\n",
       "    .dataframe tbody tr th:only-of-type {\n",
       "        vertical-align: middle;\n",
       "    }\n",
       "\n",
       "    .dataframe tbody tr th {\n",
       "        vertical-align: top;\n",
       "    }\n",
       "\n",
       "    .dataframe thead th {\n",
       "        text-align: right;\n",
       "    }\n",
       "</style>\n",
       "<table border=\"1\" class=\"dataframe\">\n",
       "  <thead>\n",
       "    <tr style=\"text-align: right;\">\n",
       "      <th></th>\n",
       "      <th>Rating</th>\n",
       "      <th>Comentario</th>\n",
       "      <th>Url</th>\n",
       "      <th>Timestamp</th>\n",
       "    </tr>\n",
       "  </thead>\n",
       "  <tbody>\n",
       "    <tr>\n",
       "      <th>0</th>\n",
       "      <td>Valoración: 5 estrellas</td>\n",
       "      <td>Todo muy bien, el lugar es nuevo moderno y lim...</td>\n",
       "      <td>https://www.airbnb.es/rooms/126566083301808951...</td>\n",
       "      <td>2024-11-08 14:47:32.703516</td>\n",
       "    </tr>\n",
       "    <tr>\n",
       "      <th>1</th>\n",
       "      <td>Valoración: 5 estrellas</td>\n",
       "      <td>Excelente alojamiento, trabajo remoto y cumpli...</td>\n",
       "      <td>https://www.airbnb.es/rooms/126566083301808951...</td>\n",
       "      <td>2024-11-08 14:47:32.731027</td>\n",
       "    </tr>\n",
       "    <tr>\n",
       "      <th>2</th>\n",
       "      <td>Valoración: 5 estrellas</td>\n",
       "      <td>Un lugar estupendo</td>\n",
       "      <td>https://www.airbnb.es/rooms/126566083301808951...</td>\n",
       "      <td>2024-11-08 14:47:32.745032</td>\n",
       "    </tr>\n",
       "    <tr>\n",
       "      <th>3</th>\n",
       "      <td>Valoración: 5 estrellas</td>\n",
       "      <td>totalmente nuevo, muy limpio personaluy atento</td>\n",
       "      <td>https://www.airbnb.es/rooms/126566083301808951...</td>\n",
       "      <td>2024-11-08 14:47:32.759035</td>\n",
       "    </tr>\n",
       "    <tr>\n",
       "      <th>4</th>\n",
       "      <td>Valoración: 5 estrellas</td>\n",
       "      <td>Me quedé en Blau mientras estaba en un viaje d...</td>\n",
       "      <td>https://www.airbnb.es/rooms/126566083301808951...</td>\n",
       "      <td>2024-11-08 14:47:32.773038</td>\n",
       "    </tr>\n",
       "  </tbody>\n",
       "</table>\n",
       "</div>"
      ],
      "text/plain": [
       "                    Rating                                         Comentario  \\\n",
       "0  Valoración: 5 estrellas  Todo muy bien, el lugar es nuevo moderno y lim...   \n",
       "1  Valoración: 5 estrellas  Excelente alojamiento, trabajo remoto y cumpli...   \n",
       "2  Valoración: 5 estrellas                                 Un lugar estupendo   \n",
       "3  Valoración: 5 estrellas     totalmente nuevo, muy limpio personaluy atento   \n",
       "4  Valoración: 5 estrellas  Me quedé en Blau mientras estaba en un viaje d...   \n",
       "\n",
       "                                                 Url  \\\n",
       "0  https://www.airbnb.es/rooms/126566083301808951...   \n",
       "1  https://www.airbnb.es/rooms/126566083301808951...   \n",
       "2  https://www.airbnb.es/rooms/126566083301808951...   \n",
       "3  https://www.airbnb.es/rooms/126566083301808951...   \n",
       "4  https://www.airbnb.es/rooms/126566083301808951...   \n",
       "\n",
       "                    Timestamp  \n",
       "0  2024-11-08 14:47:32.703516  \n",
       "1  2024-11-08 14:47:32.731027  \n",
       "2  2024-11-08 14:47:32.745032  \n",
       "3  2024-11-08 14:47:32.759035  \n",
       "4  2024-11-08 14:47:32.773038  "
      ]
     },
     "execution_count": 3,
     "metadata": {},
     "output_type": "execute_result"
    }
   ],
   "source": [
    "df.head()"
   ]
  },
  {
   "cell_type": "code",
   "execution_count": 4,
   "metadata": {},
   "outputs": [],
   "source": [
    "# Función para truncar los comentarios y manejar valores nulos\n",
    "def truncate_coment(Comentario, max_length=512):\n",
    "    if not isinstance(Comentario, str) or pd.isnull(Comentario):\n",
    "        return \"Reseña no disponible\"\n",
    "    return Comentario[:max_length]"
   ]
  },
  {
   "cell_type": "code",
   "execution_count": 5,
   "metadata": {},
   "outputs": [],
   "source": [
    "# Función para convertir las estrellas en sentimientos\n",
    "def convert_to_sentiment(label):\n",
    "    star_rating = int(label[0])  # Extraer el número de estrellas del label\n",
    "    if star_rating <= 2:\n",
    "        return \"Negativo\"\n",
    "    elif star_rating == 3:\n",
    "        return \"Neutral\"\n",
    "    else:\n",
    "        return \"Positivo\"\n"
   ]
  },
  {
   "cell_type": "code",
   "execution_count": 6,
   "metadata": {},
   "outputs": [],
   "source": [
    "# Truncar comentarios\n",
    "df[\"truncated_coment\"] = df[\"Comentario\"].apply(truncate_coment)"
   ]
  },
  {
   "cell_type": "code",
   "execution_count": 7,
   "metadata": {},
   "outputs": [],
   "source": [
    "# Cargar el modelo para análisis de sentimientos\n",
    "sentiment_model = pipeline(\"sentiment-analysis\", model=\"nlptown/bert-base-multilingual-uncased-sentiment\")"
   ]
  },
  {
   "cell_type": "code",
   "execution_count": 8,
   "metadata": {},
   "outputs": [],
   "source": [
    "# Procesar sentimientos en lotes\n",
    "truncated_comments = df[\"truncated_coment\"].tolist()  # Convertir a lista\n",
    "sentiment_results = sentiment_model(truncated_comments)  # Procesar en lote\n",
    "\n",
    "# Añadir los resultados al DataFrame\n",
    "df[\"label\"] = [res[\"label\"] for res in sentiment_results]\n",
    "df[\"score\"] = [res[\"score\"] for res in sentiment_results]\n",
    "\n",
    "# Eliminamos columnas intermedias\n",
    "df = df.drop(columns=[\"truncated_coment\"])"
   ]
  },
  {
   "cell_type": "code",
   "execution_count": 9,
   "metadata": {},
   "outputs": [
    {
     "data": {
      "text/html": [
       "<div>\n",
       "<style scoped>\n",
       "    .dataframe tbody tr th:only-of-type {\n",
       "        vertical-align: middle;\n",
       "    }\n",
       "\n",
       "    .dataframe tbody tr th {\n",
       "        vertical-align: top;\n",
       "    }\n",
       "\n",
       "    .dataframe thead th {\n",
       "        text-align: right;\n",
       "    }\n",
       "</style>\n",
       "<table border=\"1\" class=\"dataframe\">\n",
       "  <thead>\n",
       "    <tr style=\"text-align: right;\">\n",
       "      <th></th>\n",
       "      <th>Rating</th>\n",
       "      <th>Comentario</th>\n",
       "      <th>Url</th>\n",
       "      <th>Timestamp</th>\n",
       "      <th>label</th>\n",
       "      <th>score</th>\n",
       "    </tr>\n",
       "  </thead>\n",
       "  <tbody>\n",
       "    <tr>\n",
       "      <th>0</th>\n",
       "      <td>Valoración: 5 estrellas</td>\n",
       "      <td>Todo muy bien, el lugar es nuevo moderno y lim...</td>\n",
       "      <td>https://www.airbnb.es/rooms/126566083301808951...</td>\n",
       "      <td>2024-11-08 14:47:32.703516</td>\n",
       "      <td>4 stars</td>\n",
       "      <td>0.805798</td>\n",
       "    </tr>\n",
       "    <tr>\n",
       "      <th>1</th>\n",
       "      <td>Valoración: 5 estrellas</td>\n",
       "      <td>Excelente alojamiento, trabajo remoto y cumpli...</td>\n",
       "      <td>https://www.airbnb.es/rooms/126566083301808951...</td>\n",
       "      <td>2024-11-08 14:47:32.731027</td>\n",
       "      <td>5 stars</td>\n",
       "      <td>0.752465</td>\n",
       "    </tr>\n",
       "    <tr>\n",
       "      <th>2</th>\n",
       "      <td>Valoración: 5 estrellas</td>\n",
       "      <td>Un lugar estupendo</td>\n",
       "      <td>https://www.airbnb.es/rooms/126566083301808951...</td>\n",
       "      <td>2024-11-08 14:47:32.745032</td>\n",
       "      <td>5 stars</td>\n",
       "      <td>0.636184</td>\n",
       "    </tr>\n",
       "    <tr>\n",
       "      <th>3</th>\n",
       "      <td>Valoración: 5 estrellas</td>\n",
       "      <td>totalmente nuevo, muy limpio personaluy atento</td>\n",
       "      <td>https://www.airbnb.es/rooms/126566083301808951...</td>\n",
       "      <td>2024-11-08 14:47:32.759035</td>\n",
       "      <td>5 stars</td>\n",
       "      <td>0.745236</td>\n",
       "    </tr>\n",
       "    <tr>\n",
       "      <th>4</th>\n",
       "      <td>Valoración: 5 estrellas</td>\n",
       "      <td>Me quedé en Blau mientras estaba en un viaje d...</td>\n",
       "      <td>https://www.airbnb.es/rooms/126566083301808951...</td>\n",
       "      <td>2024-11-08 14:47:32.773038</td>\n",
       "      <td>4 stars</td>\n",
       "      <td>0.476711</td>\n",
       "    </tr>\n",
       "  </tbody>\n",
       "</table>\n",
       "</div>"
      ],
      "text/plain": [
       "                    Rating                                         Comentario  \\\n",
       "0  Valoración: 5 estrellas  Todo muy bien, el lugar es nuevo moderno y lim...   \n",
       "1  Valoración: 5 estrellas  Excelente alojamiento, trabajo remoto y cumpli...   \n",
       "2  Valoración: 5 estrellas                                 Un lugar estupendo   \n",
       "3  Valoración: 5 estrellas     totalmente nuevo, muy limpio personaluy atento   \n",
       "4  Valoración: 5 estrellas  Me quedé en Blau mientras estaba en un viaje d...   \n",
       "\n",
       "                                                 Url  \\\n",
       "0  https://www.airbnb.es/rooms/126566083301808951...   \n",
       "1  https://www.airbnb.es/rooms/126566083301808951...   \n",
       "2  https://www.airbnb.es/rooms/126566083301808951...   \n",
       "3  https://www.airbnb.es/rooms/126566083301808951...   \n",
       "4  https://www.airbnb.es/rooms/126566083301808951...   \n",
       "\n",
       "                    Timestamp    label     score  \n",
       "0  2024-11-08 14:47:32.703516  4 stars  0.805798  \n",
       "1  2024-11-08 14:47:32.731027  5 stars  0.752465  \n",
       "2  2024-11-08 14:47:32.745032  5 stars  0.636184  \n",
       "3  2024-11-08 14:47:32.759035  5 stars  0.745236  \n",
       "4  2024-11-08 14:47:32.773038  4 stars  0.476711  "
      ]
     },
     "execution_count": 9,
     "metadata": {},
     "output_type": "execute_result"
    }
   ],
   "source": [
    "df.head()"
   ]
  },
  {
   "cell_type": "code",
   "execution_count": 11,
   "metadata": {},
   "outputs": [
    {
     "data": {
      "text/html": [
       "<div>\n",
       "<style scoped>\n",
       "    .dataframe tbody tr th:only-of-type {\n",
       "        vertical-align: middle;\n",
       "    }\n",
       "\n",
       "    .dataframe tbody tr th {\n",
       "        vertical-align: top;\n",
       "    }\n",
       "\n",
       "    .dataframe thead th {\n",
       "        text-align: right;\n",
       "    }\n",
       "</style>\n",
       "<table border=\"1\" class=\"dataframe\">\n",
       "  <thead>\n",
       "    <tr style=\"text-align: right;\">\n",
       "      <th></th>\n",
       "      <th>Rating</th>\n",
       "      <th>Comentario</th>\n",
       "      <th>Url</th>\n",
       "      <th>Timestamp</th>\n",
       "      <th>label</th>\n",
       "      <th>score</th>\n",
       "      <th>sentiment_label</th>\n",
       "    </tr>\n",
       "  </thead>\n",
       "  <tbody>\n",
       "    <tr>\n",
       "      <th>0</th>\n",
       "      <td>Valoración: 5 estrellas</td>\n",
       "      <td>Todo muy bien, el lugar es nuevo moderno y lim...</td>\n",
       "      <td>https://www.airbnb.es/rooms/126566083301808951...</td>\n",
       "      <td>2024-11-08 14:47:32.703516</td>\n",
       "      <td>4 stars</td>\n",
       "      <td>0.805798</td>\n",
       "      <td>Positivo</td>\n",
       "    </tr>\n",
       "    <tr>\n",
       "      <th>1</th>\n",
       "      <td>Valoración: 5 estrellas</td>\n",
       "      <td>Excelente alojamiento, trabajo remoto y cumpli...</td>\n",
       "      <td>https://www.airbnb.es/rooms/126566083301808951...</td>\n",
       "      <td>2024-11-08 14:47:32.731027</td>\n",
       "      <td>5 stars</td>\n",
       "      <td>0.752465</td>\n",
       "      <td>Positivo</td>\n",
       "    </tr>\n",
       "    <tr>\n",
       "      <th>2</th>\n",
       "      <td>Valoración: 5 estrellas</td>\n",
       "      <td>Un lugar estupendo</td>\n",
       "      <td>https://www.airbnb.es/rooms/126566083301808951...</td>\n",
       "      <td>2024-11-08 14:47:32.745032</td>\n",
       "      <td>5 stars</td>\n",
       "      <td>0.636184</td>\n",
       "      <td>Positivo</td>\n",
       "    </tr>\n",
       "    <tr>\n",
       "      <th>3</th>\n",
       "      <td>Valoración: 5 estrellas</td>\n",
       "      <td>totalmente nuevo, muy limpio personaluy atento</td>\n",
       "      <td>https://www.airbnb.es/rooms/126566083301808951...</td>\n",
       "      <td>2024-11-08 14:47:32.759035</td>\n",
       "      <td>5 stars</td>\n",
       "      <td>0.745236</td>\n",
       "      <td>Positivo</td>\n",
       "    </tr>\n",
       "    <tr>\n",
       "      <th>4</th>\n",
       "      <td>Valoración: 5 estrellas</td>\n",
       "      <td>Me quedé en Blau mientras estaba en un viaje d...</td>\n",
       "      <td>https://www.airbnb.es/rooms/126566083301808951...</td>\n",
       "      <td>2024-11-08 14:47:32.773038</td>\n",
       "      <td>4 stars</td>\n",
       "      <td>0.476711</td>\n",
       "      <td>Positivo</td>\n",
       "    </tr>\n",
       "  </tbody>\n",
       "</table>\n",
       "</div>"
      ],
      "text/plain": [
       "                    Rating                                         Comentario  \\\n",
       "0  Valoración: 5 estrellas  Todo muy bien, el lugar es nuevo moderno y lim...   \n",
       "1  Valoración: 5 estrellas  Excelente alojamiento, trabajo remoto y cumpli...   \n",
       "2  Valoración: 5 estrellas                                 Un lugar estupendo   \n",
       "3  Valoración: 5 estrellas     totalmente nuevo, muy limpio personaluy atento   \n",
       "4  Valoración: 5 estrellas  Me quedé en Blau mientras estaba en un viaje d...   \n",
       "\n",
       "                                                 Url  \\\n",
       "0  https://www.airbnb.es/rooms/126566083301808951...   \n",
       "1  https://www.airbnb.es/rooms/126566083301808951...   \n",
       "2  https://www.airbnb.es/rooms/126566083301808951...   \n",
       "3  https://www.airbnb.es/rooms/126566083301808951...   \n",
       "4  https://www.airbnb.es/rooms/126566083301808951...   \n",
       "\n",
       "                    Timestamp    label     score sentiment_label  \n",
       "0  2024-11-08 14:47:32.703516  4 stars  0.805798        Positivo  \n",
       "1  2024-11-08 14:47:32.731027  5 stars  0.752465        Positivo  \n",
       "2  2024-11-08 14:47:32.745032  5 stars  0.636184        Positivo  \n",
       "3  2024-11-08 14:47:32.759035  5 stars  0.745236        Positivo  \n",
       "4  2024-11-08 14:47:32.773038  4 stars  0.476711        Positivo  "
      ]
     },
     "execution_count": 11,
     "metadata": {},
     "output_type": "execute_result"
    }
   ],
   "source": [
    "# Aplicar la conversión\n",
    "df[\"sentiment_label\"] = df[\"label\"].apply(convert_to_sentiment)\n",
    "df.head()"
   ]
  },
  {
   "cell_type": "code",
   "execution_count": 12,
   "metadata": {},
   "outputs": [],
   "source": [
    "df.to_csv('df_sentiment.csv', index=False)"
   ]
  },
  {
   "cell_type": "markdown",
   "metadata": {},
   "source": [
    "Dropeamos las columnas que no resultan necesarias para el usuario"
   ]
  },
  {
   "cell_type": "code",
   "execution_count": null,
   "metadata": {},
   "outputs": [],
   "source": [
    "df = df.drop(columns=['Rating', 'Comentario', 'Timestamp', 'label', 'score' ])"
   ]
  },
  {
   "cell_type": "markdown",
   "metadata": {},
   "source": [
    "Cambiamos a valores númericos los sentimientos siendo positivo 1, negativo -1 y neutro 0 \n",
    "\n",
    "despues realizamos la media de esos resultados sabiendo que si da un resultado positivo va a ser una media de sentimiento positivo y al contrario si es negativo, siendo un valor neutro si es un 0"
   ]
  },
  {
   "cell_type": "code",
   "execution_count": null,
   "metadata": {},
   "outputs": [],
   "source": [
    "# Mapear etiquetas de sentimiento a valores numéricos\n",
    "sentiment_mapping = {'Positivo': 1, 'Negativo': -1, 'Neutral': 0}  # Ejemplo general\n",
    "df['sentiment_numeric'] = df['sentiment_label'].map(sentiment_mapping)\n",
    "\n",
    "# Calcular la media para cada URL única\n",
    "df_mean_sentiment = df.groupby('Url')['sentiment_numeric'].mean().reset_index()\n",
    "\n",
    "# Renombrar columnas para mayor claridad\n",
    "df_mean_sentiment.rename(columns={'sentiment_numeric': 'mean_sentiment'}, inplace=True)\n",
    "\n",
    "# Mostrar el resultado final\n",
    "df_mean_sentiment.head()"
   ]
  },
  {
   "cell_type": "markdown",
   "metadata": {},
   "source": [
    "Aqui transformamos los valores numericos de nuevo a positivo, negativo o neutro basandonos en lo que he explicado antes(valos positivo = sentimiento positivo, valor negativo = sentimiento negativo, valor 0 = sentimiento neutro)"
   ]
  },
  {
   "cell_type": "code",
   "execution_count": null,
   "metadata": {},
   "outputs": [],
   "source": [
    "# Crear una nueva columna con la etiqueta transformada de acuerdo a la media del sentimiento\n",
    "df_mean_sentiment['sentiment_label_transformed'] = df_mean_sentiment['mean_sentiment'].apply(\n",
    "    lambda x: 'Positivo' if x > 0 else ('Negativo' if x < 0 else 'Neutral')\n",
    ")\n",
    "\n",
    "# Mostrar el dataframe actualizado con la nueva columna\n",
    "df_mean_sentiment.head()"
   ]
  },
  {
   "cell_type": "code",
   "execution_count": null,
   "metadata": {},
   "outputs": [],
   "source": [
    "df_mean_sentiment.to_csv('df_sentiment_mean.csv', index=False)"
   ]
  },
  {
   "cell_type": "code",
   "execution_count": null,
   "metadata": {},
   "outputs": [],
   "source": []
  },
  {
   "cell_type": "code",
   "execution_count": null,
   "metadata": {},
   "outputs": [],
   "source": []
  }
 ],
 "metadata": {
  "kernelspec": {
   "display_name": "base",
   "language": "python",
   "name": "python3"
  },
  "language_info": {
   "codemirror_mode": {
    "name": "ipython",
    "version": 3
   },
   "file_extension": ".py",
   "mimetype": "text/x-python",
   "name": "python",
   "nbconvert_exporter": "python",
   "pygments_lexer": "ipython3",
   "version": "3.12.7"
  }
 },
 "nbformat": 4,
 "nbformat_minor": 2
}
