{
 "cells": [
  {
   "cell_type": "markdown",
   "metadata": {},
   "source": [
    "## SQL ##"
   ]
  },
  {
   "cell_type": "markdown",
   "metadata": {},
   "source": [
    "Este es el codigo usado en sql para crear nuestra base de datos."
   ]
  },
  {
   "cell_type": "code",
   "execution_count": null,
   "metadata": {},
   "outputs": [],
   "source": [
    "\"\"\"\n",
    "CREATE DATABASE IF NOT EXIST AIRBB\n",
    "USE AIRBB\n",
    "\n",
    "CREATE A TABLE Hosting (\n",
    "urls VARCHAR(255)\n",
    "record_id INT,\n",
    "Titles VARCHAR(255),\n",
    "Property_types VARCHAR (255),\n",
    "Host_name VARCHAR (255),\n",
    "PRIMARY KEY (Ids),\n",
    ");\n",
    "\n",
    "CREATE A TABLE Description_ (\n",
    "id (INT)\n",
    "Host_name VARCHAR (255),\n",
    "Prices_per_night INT,\n",
    "Check_ins DATETIME,\n",
    "Check_outs DATETIME,\n",
    "Cleaning_fees INT,\n",
    "Maximum_guests INT,\n",
    "Location VARCHAR (255),\n",
    "Beds INT,\n",
    "Baths INT,\n",
    "Rooms INT,\n",
    "FOREING KEY (id) REFERENCE Hosting (record_id)\n",
    "\n",
    ");\n",
    "\n",
    "CREATE A TABLE Ratings (\n",
    "record_id INT,\n",
    "Ratings INT,\n",
    "Num_reviews VARCHAR(255),\n",
    "FOREING KEY (record_id) REFERENCE Hosting (record_id)\n",
    ");\n",
    "\"\"\""
   ]
  },
  {
   "cell_type": "markdown",
   "metadata": {},
   "source": [
    "Codigo para crear desde python la base de datos en sql "
   ]
  },
  {
   "cell_type": "code",
   "execution_count": null,
   "metadata": {},
   "outputs": [],
   "source": [
    "db = mysql.connector.connect(host     = \"localhost\",\n",
    "                             user     = \"root\",\n",
    "                             password = \"password\",\n",
    "                             database = database)\n",
    "\n",
    "cursor = db.cursor()\n",
    "\n",
    "cursor.execute('CREATE DATABASE IF NOT EXIST AIRBB') #Con el cursor lo que estamos haciendo básicamente es usar las queris aqui pero alli, no se explicarme mejor sorry.\n",
    "\n",
    "cursor.execute('USE AIRBB')\n",
    "\n",
    "cursor.execute('''CREATE A TABLE IF NOT EXIST Hosting (\n",
    "                    urls VARCHAR(255)\n",
    "                    record_id INT,\n",
    "                    Titles VARCHAR(255),\n",
    "                    Property_types VARCHAR (255),\n",
    "                    Host_name VARCHAR (255),\n",
    "                    PRIMARY KEY (record_id),\n",
    "                        );''' )\n",
    "\n",
    "cursor.execute('''CREATE A TABLE IF NOT EXIST Description_ (\n",
    "                    id (INT)\n",
    "                    Host_name VARCHAR (255),\n",
    "                    Prices_per_night INT,\n",
    "                    Check_ins DATETIME,\n",
    "                    Check_outs DATETIME,\n",
    "                    Cleaning_fees INT,\n",
    "                    Maximum_guests INT,\n",
    "                    Location VARCHAR (255),\n",
    "                    Camas INT,\n",
    "                    Baños INT,\n",
    "                    Dormitorios INT,\n",
    "                    FOREING KEY (id) REFERENCE Hosting (record_id)\n",
    "                );''' )\n",
    "\n",
    "cursor.execute('''CREATE A TABLE IF NOT EXIST Ratings (\n",
    "                    record_id INT,\n",
    "                    Ratings INT,\n",
    "                    Num_reviews INT,\n",
    "                    FOREING KEY (record_id) REFERENCE Hosting (record_id)\n",
    "                    ); ''')\n",
    "\n",
    "cursor.fetchall() # Vaciamos el cursor\n",
    "cursor.close()\n",
    "db.close()"
   ]
  },
  {
   "cell_type": "markdown",
   "metadata": {},
   "source": [
    "Este es el codigo para la subida a la base de datos"
   ]
  },
  {
   "cell_type": "code",
   "execution_count": null,
   "metadata": {},
   "outputs": [],
   "source": [
    "import pandas as pd"
   ]
  },
  {
   "cell_type": "code",
   "execution_count": null,
   "metadata": {},
   "outputs": [],
   "source": [
    "df = pd.read_csv('df_clean.csv')\n",
    "df.head()"
   ]
  },
  {
   "cell_type": "markdown",
   "metadata": {},
   "source": [
    "Dividimos las columnas del df en distintos df segun las tablas de nuestra base de datos."
   ]
  },
  {
   "cell_type": "code",
   "execution_count": null,
   "metadata": {},
   "outputs": [],
   "source": [
    "df_Hosting = df[['urls','record_id','Titles','Property_types','Host_name']]"
   ]
  },
  {
   "cell_type": "code",
   "execution_count": null,
   "metadata": {},
   "outputs": [],
   "source": [
    "df_Description_ = df[['record_id','Host_name', 'Prices_per_night','Check_ins','Check_outs','Cleaning_fees','Maximum_guests','Location','Camas','Baños','Dormitorios']]\n",
    "df_Description_ = df_Description_.rename(columns={'record_id': 'id'})\n"
   ]
  },
  {
   "cell_type": "code",
   "execution_count": null,
   "metadata": {},
   "outputs": [],
   "source": [
    "df_Ratings = df[['record_id','Ratings','Num_reviews']]"
   ]
  },
  {
   "cell_type": "markdown",
   "metadata": {},
   "source": [
    "Aqui nos aseguramos de que no haya ningun nan sustituyendolos todos por none (valor que si admite sql)."
   ]
  },
  {
   "cell_type": "code",
   "execution_count": null,
   "metadata": {},
   "outputs": [],
   "source": [
    "df_Description_ = df_Description_.replace({np.nan : None}) #Sustituimos todos los posibles nan por none para poder subirlos\n",
    "df_Hosting = df_Hosting.replace({np.nan : None})\n",
    "df_Ratings = df_Ratings.replace({np.nan : None})"
   ]
  },
  {
   "cell_type": "markdown",
   "metadata": {},
   "source": [
    "Aqui procedemos a la subida de las distintas tablas."
   ]
  },
  {
   "cell_type": "markdown",
   "metadata": {},
   "source": [
    "Hosting"
   ]
  },
  {
   "cell_type": "code",
   "execution_count": null,
   "metadata": {},
   "outputs": [],
   "source": [
    "column_names= ['urls','record_id','Titles','Property_types','Host_name']"
   ]
  },
  {
   "cell_type": "code",
   "execution_count": null,
   "metadata": {},
   "outputs": [],
   "source": [
    "database = \"AIRBB\"\n",
    "table_name = \"Hosting\"\n",
    "\n",
    "db = mysql.connector.connect(host=\"localhost\",\n",
    "                             user=\"root\",\n",
    "                             password=\"password\",\n",
    "                             database=database,\n",
    "                             consume_results = True)\n",
    "\n",
    "cursor = db.cursor()\n",
    "\n",
    "# Seleccionamos las columnas de la tabla, omitiendo la Primary Key\n",
    "cursor.execute(f\"SELECT * FROM {table_name} LIMIT 0;\")\n",
    "column_names = cursor.column_names\n",
    "\n",
    "# Aseguramos que todas las filas del DataFrame tengan el mismo número de columnas que en la tabla\n",
    "if len(df_HOSTING.columns) != len(column_names):\n",
    "    raise ValueError(\"El número de columnas en el DataFrame no coincide con el número de columnas en la tabla de la base de datos.\")\n",
    "\n",
    "# Preparar la consulta de inserción\n",
    "insert_query = f\"INSERT INTO {table_name} ({', '.join(column_names)}) VALUES ({', '.join(['%s' for _ in column_names])})\"\n",
    "\n",
    "# Convertir las filas del DataFrame a tuplas\n",
    "values = [tuple(row) for row in df_HOSTING[list(column_names)].values]\n",
    "\n",
    "# Ejecutar la consulta de inserción\n",
    "cursor.executemany(insert_query, values)\n",
    "\n",
    "# Confirmar los cambios en la base de datos\n",
    "db.commit()\n",
    "\n",
    "print(f\"Añadidas: {cursor.rowcount} filas\")\n",
    "\n",
    "# Vaciamos el cursor\n",
    "cursor.close()\n",
    "db.close()"
   ]
  },
  {
   "cell_type": "markdown",
   "metadata": {},
   "source": [
    "Description_"
   ]
  },
  {
   "cell_type": "code",
   "execution_count": null,
   "metadata": {},
   "outputs": [],
   "source": [
    "column_names = ['id','Host_name', 'Prices_per_night','Check_ins','Check_outs','Cleaning_fees','Maximum_guests','Location','Camas','Baños','Dormitorios']"
   ]
  },
  {
   "cell_type": "code",
   "execution_count": null,
   "metadata": {},
   "outputs": [],
   "source": [
    "database = \"AIRBB\"\n",
    "table_name = \"Description_\"\n",
    "\n",
    "db = mysql.connector.connect(host=\"localhost\",\n",
    "                             user=\"root\",\n",
    "                             password=\"password\",\n",
    "                             database=database,\n",
    "                             consume_results = True)\n",
    "\n",
    "cursor = db.cursor()\n",
    "\n",
    "# Seleccionamos las columnas de la tabla, omitiendo la Primary Key\n",
    "cursor.execute(f\"SELECT * FROM {table_name} LIMIT 0;\")\n",
    "column_names = cursor.column_names\n",
    "\n",
    "# Aseguramos que todas las filas del DataFrame tengan el mismo número de columnas que en la tabla\n",
    "if len(df_DESCRIPTION_.columns) != len(column_names):\n",
    "    raise ValueError(\"El número de columnas en el DataFrame no coincide con el número de columnas en la tabla de la base de datos.\")\n",
    "\n",
    "# Preparar la consulta de inserción\n",
    "insert_query = f\"INSERT INTO {table_name} ({', '.join(column_names)}) VALUES ({', '.join(['%s' for _ in column_names])})\"\n",
    "\n",
    "# Convertir las filas del DataFrame a tuplas\n",
    "values = [tuple(row) for row in df_DESCRIPTION_[list(column_names)].values]\n",
    "\n",
    "# Ejecutar la consulta de inserción\n",
    "cursor.executemany(insert_query, values)\n",
    "\n",
    "# Confirmar los cambios en la base de datos\n",
    "db.commit()\n",
    "\n",
    "print(f\"Añadidas: {cursor.rowcount} filas\")\n",
    "\n",
    "# Vaciamos el cursor\n",
    "cursor.close()\n",
    "db.close()"
   ]
  },
  {
   "cell_type": "markdown",
   "metadata": {},
   "source": [
    "Ratings"
   ]
  },
  {
   "cell_type": "code",
   "execution_count": null,
   "metadata": {},
   "outputs": [],
   "source": [
    "column_names= ['record_id','Ratings','Num_reviews']"
   ]
  },
  {
   "cell_type": "code",
   "execution_count": null,
   "metadata": {},
   "outputs": [],
   "source": [
    "database = \"AIRBB\"\n",
    "table_name = \"Ratings\"\n",
    "\n",
    "db = mysql.connector.connect(host=\"localhost\",\n",
    "                             user=\"root\",\n",
    "                             password=\"password\",\n",
    "                             database=database,\n",
    "                             consume_results = True)\n",
    "\n",
    "cursor = db.cursor()\n",
    "\n",
    "# Seleccionamos las columnas de la tabla, omitiendo la Primary Key\n",
    "cursor.execute(f\"SELECT * FROM {table_name} LIMIT 0;\")\n",
    "column_names = cursor.column_names\n",
    "\n",
    "# Aseguramos que todas las filas del DataFrame tengan el mismo número de columnas que en la tabla\n",
    "if len(df_HOSTING.columns) != len(column_names):\n",
    "    raise ValueError(\"El número de columnas en el DataFrame no coincide con el número de columnas en la tabla de la base de datos.\")\n",
    "\n",
    "# Preparar la consulta de inserción\n",
    "insert_query = f\"INSERT INTO {table_name} ({', '.join(column_names)}) VALUES ({', '.join(['%s' for _ in column_names])})\"\n",
    "\n",
    "# Convertir las filas del DataFrame a tuplas\n",
    "values = [tuple(row) for row in df_HOSTING[list(column_names)].values]\n",
    "\n",
    "# Ejecutar la consulta de inserción\n",
    "cursor.executemany(insert_query, values)\n",
    "\n",
    "# Confirmar los cambios en la base de datos\n",
    "db.commit()\n",
    "\n",
    "print(f\"Añadidas: {cursor.rowcount} filas\")\n",
    "\n",
    "# Vaciamos el cursor\n",
    "cursor.close()\n",
    "db.close()"
   ]
  },
  {
   "cell_type": "markdown",
   "metadata": {},
   "source": [
    "# Extracción de datos"
   ]
  },
  {
   "cell_type": "code",
   "execution_count": null,
   "metadata": {},
   "outputs": [],
   "source": [
    "import mysql.connector"
   ]
  },
  {
   "cell_type": "code",
   "execution_count": null,
   "metadata": {},
   "outputs": [],
   "source": [
    "def extraer_datos_mysql(host, user, password, database, query):\n",
    "    # Conectarse a la base de datos\n",
    "    db = mysql.connector.connect(\n",
    "        host=host,\n",
    "        user=user,\n",
    "        password=password,\n",
    "        database=database\n",
    "    )\n",
    "    \n",
    "    # Crear cursor para ejecutar la consulta\n",
    "    cursor = db.cursor()\n",
    "\n",
    "    # Ejecutar la consulta\n",
    "    cursor.execute(query)\n",
    "    \n",
    "    # Obtener los nombres de las columnas\n",
    "    column_names = cursor.column_names\n",
    "    print(\"Nombres de las columnas:\", column_names)\n",
    "\n",
    "    # Guardar y mostrar los datos de la tabla\n",
    "    data = cursor.fetchall()\n",
    "    for fila in data:\n",
    "        print(fila)\n",
    "\n",
    "    # Cerrar el cursor y la conexión\n",
    "    cursor.close()\n",
    "    db.close()\n"
   ]
  },
  {
   "cell_type": "markdown",
   "metadata": {},
   "source": [
    "Hosting"
   ]
  },
  {
   "cell_type": "code",
   "execution_count": null,
   "metadata": {},
   "outputs": [],
   "source": [
    "host = \"localhost\"\n",
    "user = \"root\"\n",
    "password = \"password\"\n",
    "database = \"AIRBB\"\n",
    "query = \"SELECT * FROM Hosting;\"\n",
    "\n",
    "extraer_datos_mysql(host, user, password, database, query)"
   ]
  },
  {
   "cell_type": "markdown",
   "metadata": {},
   "source": [
    "Description_"
   ]
  },
  {
   "cell_type": "code",
   "execution_count": null,
   "metadata": {},
   "outputs": [],
   "source": [
    "host = \"localhost\"\n",
    "user = \"root\"\n",
    "password = \"password\"\n",
    "database = \"AIRBB\"\n",
    "query = \"SELECT * FROM Description_;\"\n",
    "\n",
    "extraer_datos_mysql(host, user, password, database, query)"
   ]
  },
  {
   "cell_type": "markdown",
   "metadata": {},
   "source": [
    "Ratings"
   ]
  },
  {
   "cell_type": "code",
   "execution_count": null,
   "metadata": {},
   "outputs": [],
   "source": [
    "host = \"localhost\"\n",
    "user = \"root\"\n",
    "password = \"password\"\n",
    "database = \"AIRBB\"\n",
    "query = \"SELECT * FROM Ratings;\"\n",
    "\n",
    "extraer_datos_mysql(host, user, password, database, query)"
   ]
  }
 ],
 "metadata": {
  "kernelspec": {
   "display_name": "base",
   "language": "python",
   "name": "python3"
  },
  "language_info": {
   "codemirror_mode": {
    "name": "ipython",
    "version": 3
   },
   "file_extension": ".py",
   "mimetype": "text/x-python",
   "name": "python",
   "nbconvert_exporter": "python",
   "pygments_lexer": "ipython3",
   "version": "3.12.4"
  }
 },
 "nbformat": 4,
 "nbformat_minor": 2
}
