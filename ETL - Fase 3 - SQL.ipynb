{
 "cells": [
  {
   "cell_type": "markdown",
   "metadata": {},
   "source": [
    "## SQL ##"
   ]
  },
  {
   "cell_type": "markdown",
   "metadata": {},
   "source": [
    "*En esta fase del proceso de ETL  vamos a crear paso a paso una base de datos en sql desde python, para despúes crear las tablas con sus PK y sus FK.*\n",
    "\n",
    "*Una vez todo esto este creado procedemos a poblarla desde python con nuestro df limpio y actualizado.*"
   ]
  },
  {
   "cell_type": "markdown",
   "metadata": {},
   "source": [
    "Este es el codigo usado en sql para crear nuestra base de datos. *Este codigo se puede usar para crear la base de datos directamente desde SQL,pero vamos a crearla desde este entorno*"
   ]
  },
  {
   "cell_type": "code",
   "execution_count": null,
   "metadata": {},
   "outputs": [],
   "source": [
    "import pandas as pd\n",
    "import mysql.connector\n",
    "import numpy as np"
   ]
  },
  {
   "cell_type": "markdown",
   "metadata": {},
   "source": [
    "Este es el codigo para crear desde python la base de datos en sql."
   ]
  },
  {
   "cell_type": "markdown",
   "metadata": {},
   "source": [
    "*Correr solo una vez*"
   ]
  },
  {
   "cell_type": "code",
   "execution_count": null,
   "metadata": {},
   "outputs": [],
   "source": [
    "db = mysql.connector.connect(\n",
    "     host=\"localhost\",\n",
    "     user=\"root\",\n",
    "     password=\"contraseña123\"#Aqui teneis que poner vuestra contraeña.\n",
    ")\n",
    "\n",
    "cursor = db.cursor()\n",
    "\n",
    "# Crear la base de datos si no existe\n",
    "cursor.execute('CREATE DATABASE IF NOT EXISTS AIRBNB')\n",
    "\n",
    "# Conectar a la base de datos recién creada\n",
    "db.database = 'AIRBNB'\n",
    "\n",
    "# Crear la tabla Hosting\n",
    "cursor.execute('''\n",
    "    CREATE TABLE IF NOT EXISTS Hosting (\n",
    "        record_id BIGINT,\n",
    "        titles TEXT,\n",
    "        property_types TEXT,\n",
    "        host_name TEXT,\n",
    "        PRIMARY KEY (record_id)               \n",
    "    );\n",
    "''')\n",
    "\n",
    "# Crear la tabla Description_\n",
    "cursor.execute('''\n",
    "    CREATE TABLE IF NOT EXISTS Description_ (\n",
    "        id BIGINT,\n",
    "        prices_per_night INT,\n",
    "        check_in_hour TIME,\n",
    "        check_out_hour TIME,\n",
    "        total_hours_checkin INT,\n",
    "        cleaning_fee INT,\n",
    "        maximum_guests INT,\n",
    "        camas INT,\n",
    "        baños INT,\n",
    "        dormitorios INT,\n",
    "        FOREIGN KEY (id) REFERENCES Hosting(record_id)\n",
    "    );\n",
    "''')\n",
    "\n",
    "# Crear la tabla Ratings\n",
    "cursor.execute('''\n",
    "    CREATE TABLE IF NOT EXISTS Ratings (\n",
    "        record_id BIGINT,\n",
    "        ratings FLOAT,\n",
    "        num_reviews FLOAT,\n",
    "        \n",
    "        FOREIGN KEY (record_id) REFERENCES Hosting(record_id)\n",
    "    );\n",
    "''')\n",
    "\n",
    "#Creamos la tabla de Services_\n",
    "cursor.execute('''\n",
    "    CREATE TABLE IF NOT EXISTS Services_ (\n",
    "        service_id INT,\n",
    "        service TEXT,\n",
    "        PRIMARY KEY (service_id)\n",
    "   );\n",
    "''')\n",
    "#Creamos la tabla de Service_ids\n",
    "cursor.execute('''\n",
    "    CREATE TABLE IF NOT EXISTS Services_Hosting (\n",
    "        service_id INT,\n",
    "        record_id BIGINT,\n",
    "        FOREIGN KEY (service_id) REFERENCES Services_(service_id),\n",
    "        FOREIGN KEY (record_id) REFERENCES Hosting (record_id)\n",
    ");\n",
    "''')   \n",
    "#Creamos la tabla de Category\n",
    "cursor.execute('''\n",
    "    CREATE TABLE IF NOT EXISTS Category (\n",
    "        category_id INT,\n",
    "        category TEXT,\n",
    "        PRIMARY KEY (category_id)\n",
    " );\n",
    "''')\n",
    "\n",
    "#Creamos la tabla de Category_ids\n",
    "cursor.execute('''\n",
    "    CREATE TABLE IF NOT EXISTS Category_Services (\n",
    "        service_id INT,\n",
    "        category_id INT,\n",
    "        FOREIGN KEY (service_id) REFERENCES Services_(service_id),\n",
    "        FOREIGN KEY (category_id) REFERENCES Category(category_id)\n",
    ");\n",
    "''')   \n",
    "\n",
    "# Cerrar el cursor y la conexión\n",
    "cursor.close()\n",
    "db.close()\n"
   ]
  },
  {
   "cell_type": "markdown",
   "metadata": {},
   "source": [
    "Este es el codigo para la subida de nuestro df a la base de datos"
   ]
  },
  {
   "cell_type": "code",
   "execution_count": null,
   "metadata": {},
   "outputs": [],
   "source": [
    "#Hay que añadir el df de coments\n",
    "df = pd.read_csv('C:/Users/peni_/Desktop/proyecto/Proyecto-Final-Bootcamp---Dream-Team/data/df_final_cleaned.csv')\n",
    "df_category = pd.read_csv('C:/Users/peni_/Desktop/proyecto/Proyecto-Final-Bootcamp---Dream-Team/data/df_category.csv')\n",
    "df_service = pd.read_csv('C:/Users/peni_/Desktop/proyecto/Proyecto-Final-Bootcamp---Dream-Team/data/df_service.csv')\n",
    "df_service_record = pd.read_csv('C:/Users/peni_/Desktop/proyecto/Proyecto-Final-Bootcamp---Dream-Team/data/df_service_record.csv')\n",
    "df_category_service = pd.read_csv('C:/Users/peni_/Desktop/proyecto/Proyecto-Final-Bootcamp---Dream-Team/data/df_category_service.csv')"
   ]
  },
  {
   "cell_type": "markdown",
   "metadata": {},
   "source": [
    "Dividimos las columnas del df en distintos df segun las tablas de nuestra base de datos."
   ]
  },
  {
   "cell_type": "markdown",
   "metadata": {},
   "source": [
    "*Elinamos las filas que tengan duplicada la columna record_id*"
   ]
  },
  {
   "cell_type": "code",
   "execution_count": null,
   "metadata": {},
   "outputs": [],
   "source": [
    "df_sin_duplicados = df.drop_duplicates(subset='record_id', keep=False)"
   ]
  },
  {
   "cell_type": "code",
   "execution_count": null,
   "metadata": {},
   "outputs": [],
   "source": [
    "df_service_record = df_service_record.drop_duplicates(subset='record_id', keep=False)"
   ]
  },
  {
   "cell_type": "code",
   "execution_count": null,
   "metadata": {},
   "outputs": [],
   "source": [
    "df_sin_duplicados.head()"
   ]
  },
  {
   "cell_type": "code",
   "execution_count": null,
   "metadata": {},
   "outputs": [],
   "source": [
    "df_Hosting = df_sin_duplicados[['record_id','titles','property_types','host_name']]"
   ]
  },
  {
   "cell_type": "code",
   "execution_count": null,
   "metadata": {},
   "outputs": [],
   "source": [
    "df_Hosting.head()"
   ]
  },
  {
   "cell_type": "code",
   "execution_count": null,
   "metadata": {},
   "outputs": [],
   "source": [
    "df_service_record.head()"
   ]
  },
  {
   "cell_type": "code",
   "execution_count": null,
   "metadata": {},
   "outputs": [],
   "source": [
    "df_Description_ = df_sin_duplicados[['record_id', 'prices_per_night','check_in_hour','check_out_hour','cleaning_fee','total_hours_checkin','maximum_guests','camas','baños','dormitorios']]\n",
    "df_Description_ = df_Description_.rename(columns={'record_id': 'id'})"
   ]
  },
  {
   "cell_type": "code",
   "execution_count": null,
   "metadata": {},
   "outputs": [],
   "source": [
    "#Hay que añadir los coments\n",
    "df_Ratings = df_sin_duplicados[['record_id','ratings','num_reviews']]"
   ]
  },
  {
   "cell_type": "markdown",
   "metadata": {},
   "source": [
    "Aqui nos aseguramos de que no haya ningun nan sustituyendolos todos por none (valor que si admite sql)."
   ]
  },
  {
   "cell_type": "code",
   "execution_count": null,
   "metadata": {},
   "outputs": [],
   "source": [
    "df_Description_ = df_Description_.replace({np.nan : None}).reset_index(drop = True) #Sustituimos todos los posibles nan por none para poder subirlos\n",
    "df_Hosting = df_Hosting.replace({np.nan : None}).reset_index(drop = True)\n",
    "df_Ratings = df_Ratings.replace({np.nan : None}).reset_index(drop = True)\n",
    "df_service_record = df_service_record.replace({np.nan : None}).reset_index(drop = True)\n",
    "df_category_service = df_category_service.replace({np.nan : None}).reset_index(drop = True)"
   ]
  },
  {
   "cell_type": "markdown",
   "metadata": {},
   "source": [
    "Aqui procedemos a la subida de las distintas tablas."
   ]
  },
  {
   "cell_type": "markdown",
   "metadata": {},
   "source": [
    "Hosting"
   ]
  },
  {
   "cell_type": "code",
   "execution_count": null,
   "metadata": {},
   "outputs": [],
   "source": [
    "column_names= ['record_id','titles','property_types','host_name']"
   ]
  },
  {
   "cell_type": "code",
   "execution_count": null,
   "metadata": {},
   "outputs": [],
   "source": [
    "database = \"AIRBNB\"\n",
    "table_name = \"Hosting\"\n",
    "\n",
    "db = mysql.connector.connect(host=\"localhost\",\n",
    "                             user=\"root\",\n",
    "                             password=\"contraseña123\",#Aqui teneis que poner vuestra contraeña.\n",
    "                             database=database,\n",
    "                             consume_results = True)\n",
    "\n",
    "cursor = db.cursor()\n",
    "\n",
    "# Seleccionamos las columnas de la tabla, omitiendo la Primary Key\n",
    "cursor.execute(f\"SELECT * FROM {table_name} LIMIT 0;\")\n",
    "column_names = cursor.column_names\n",
    "\n",
    "# Aseguramos que todas las filas del DataFrame tengan el mismo número de columnas que en la tabla\n",
    "if len(df_Hosting.columns) != len(column_names):\n",
    "    raise ValueError(\"El número de columnas en el DataFrame no coincide con el número de columnas en la tabla de la base de datos.\")\n",
    "\n",
    "# Preparar la consulta de inserción\n",
    "insert_query = f\"INSERT INTO {table_name} ({', '.join(column_names)}) VALUES ({', '.join(['%s' for _ in column_names])})\"\n",
    "\n",
    "# Convertir las filas del DataFrame a tuplas\n",
    "values = [tuple(row) for row in df_Hosting[list(column_names)].values]\n",
    "\n",
    "# Ejecutar la consulta de inserción\n",
    "cursor.executemany(insert_query, values)\n",
    "\n",
    "# Confirmar los cambios en la base de datos\n",
    "db.commit()\n",
    "\n",
    "print(f\"Añadidas: {cursor.rowcount} filas\")\n",
    "\n",
    "# Vaciamos el cursor\n",
    "cursor.close()\n",
    "db.close()"
   ]
  },
  {
   "cell_type": "markdown",
   "metadata": {},
   "source": [
    "Description_"
   ]
  },
  {
   "cell_type": "code",
   "execution_count": null,
   "metadata": {},
   "outputs": [],
   "source": [
    "column_names = ['id', 'prices_per_night','check_in_hour','check_out_hour','cleaning_fee','total_hours_checkin','maximum_guests','camas','baños','dormitorios']"
   ]
  },
  {
   "cell_type": "code",
   "execution_count": null,
   "metadata": {},
   "outputs": [],
   "source": [
    "database = \"AIRBNB\"\n",
    "table_name = \"Description_\"\n",
    "\n",
    "db = mysql.connector.connect(host=\"localhost\",\n",
    "                             user=\"root\",\n",
    "                             password=\"contraseña123\",#Aqui teneis que poner vuestra contraeña.\n",
    "                             database=database,\n",
    "                             consume_results = True)\n",
    "\n",
    "cursor = db.cursor()\n",
    "\n",
    "# Seleccionamos las columnas de la tabla, omitiendo la Primary Key\n",
    "cursor.execute(f\"SELECT * FROM {table_name} LIMIT 0;\")\n",
    "column_names = cursor.column_names\n",
    "\n",
    "# Aseguramos que todas las filas del DataFrame tengan el mismo número de columnas que en la tabla\n",
    "if len(df_Description_.columns) != len(column_names):\n",
    "    raise ValueError(\"El número de columnas en el DataFrame no coincide con el número de columnas en la tabla de la base de datos.\")\n",
    "\n",
    "# Preparar la consulta de inserción\n",
    "insert_query = f\"INSERT INTO {table_name} ({', '.join(column_names)}) VALUES ({', '.join(['%s' for _ in column_names])})\"\n",
    "\n",
    "# Convertir las filas del DataFrame a tuplas\n",
    "values = [tuple(row) for row in df_Description_[list(column_names)].values]\n",
    "\n",
    "# Ejecutar la consulta de inserción\n",
    "cursor.executemany(insert_query, values)\n",
    "\n",
    "# Confirmar los cambios en la base de datos\n",
    "db.commit()\n",
    "\n",
    "print(f\"Añadidas: {cursor.rowcount} filas\")\n",
    "\n",
    "# Vaciamos el cursor\n",
    "cursor.close()\n",
    "db.close()"
   ]
  },
  {
   "cell_type": "markdown",
   "metadata": {},
   "source": [
    "Ratings"
   ]
  },
  {
   "cell_type": "code",
   "execution_count": null,
   "metadata": {},
   "outputs": [],
   "source": [
    "#Hay que añadir los coments\n",
    "column_names= ['record_id','ratings','num_reviews']"
   ]
  },
  {
   "cell_type": "code",
   "execution_count": null,
   "metadata": {},
   "outputs": [],
   "source": [
    "df_Ratings[\"record_id\"] = df_Ratings[\"record_id\"].apply(lambda x : str(x))"
   ]
  },
  {
   "cell_type": "code",
   "execution_count": null,
   "metadata": {},
   "outputs": [],
   "source": [
    "database = \"AIRBNB\"\n",
    "table_name = \"Ratings\"\n",
    "\n",
    "db = mysql.connector.connect(host=\"localhost\",\n",
    "                             user=\"root\",\n",
    "                             password=\"contraseña123\",#Aqui teneis que poner vuestra contraeña.\n",
    "                             database=database,\n",
    "                             consume_results = True)\n",
    "\n",
    "cursor = db.cursor()\n",
    "\n",
    "# Seleccionamos las columnas de la tabla, omitiendo la Primary Key\n",
    "cursor.execute(f\"SELECT * FROM {table_name} LIMIT 0;\")\n",
    "column_names = cursor.column_names\n",
    "print(column_names)\n",
    "\n",
    "# Aseguramos que todas las filas del DataFrame tengan el mismo número de columnas que en la tabla\n",
    "if len(df_Ratings.columns) != len(column_names):\n",
    "    raise ValueError(\"El número de columnas en el DataFrame no coincide con el número de columnas en la tabla de la base de datos.\")\n",
    "\n",
    "# Preparar la consulta de inserción\n",
    "insert_query = f\"INSERT INTO {table_name} ({', '.join(column_names)}) VALUES ({', '.join(['%s' for _ in column_names])})\"\n",
    "print(insert_query)\n",
    "\n",
    "# Convertir las filas del DataFrame a tuplas\n",
    "values = [tuple(row) for row in df_Ratings[list(column_names)].values]\n",
    "\n",
    "# Ejecutar la consulta de inserción\n",
    "cursor.executemany(insert_query, values)\n",
    "\n",
    "# Confirmar los cambios en la base de datos\n",
    "db.commit()\n",
    "\n",
    "print(f\"Añadidas: {cursor.rowcount} filas\")\n",
    "\n",
    "# Vaciamos el cursor\n",
    "cursor.close()\n",
    "db.close()"
   ]
  },
  {
   "cell_type": "markdown",
   "metadata": {},
   "source": [
    "Services_"
   ]
  },
  {
   "cell_type": "code",
   "execution_count": null,
   "metadata": {},
   "outputs": [],
   "source": [
    "column_names = ['service_id', 'service']"
   ]
  },
  {
   "cell_type": "code",
   "execution_count": null,
   "metadata": {},
   "outputs": [],
   "source": [
    "database = \"AIRBNB\"\n",
    "table_name = \"Services_\"\n",
    "\n",
    "db = mysql.connector.connect(host=\"localhost\",\n",
    "                             user=\"root\",\n",
    "                             password=\"contraseña123\",#Aqui teneis que poner vuestra contraeña.\n",
    "                             database=database,\n",
    "                             consume_results = True)\n",
    "\n",
    "cursor = db.cursor()\n",
    "\n",
    "# Seleccionamos las columnas de la tabla, omitiendo la Primary Key\n",
    "cursor.execute(f\"SELECT * FROM {table_name} LIMIT 0;\")\n",
    "column_names = cursor.column_names\n",
    "\n",
    "# Aseguramos que todas las filas del DataFrame tengan el mismo número de columnas que en la tabla\n",
    "if len(df_service.columns) != len(column_names):\n",
    "    raise ValueError(\"El número de columnas en el DataFrame no coincide con el número de columnas en la tabla de la base de datos.\")\n",
    "\n",
    "# Preparar la consulta de inserción\n",
    "insert_query = f\"INSERT INTO {table_name} ({', '.join(column_names)}) VALUES ({', '.join(['%s' for _ in column_names])})\"\n",
    "\n",
    "# Convertir las filas del DataFrame a tuplas\n",
    "values = [tuple(row) for row in df_service[list(column_names)].values]\n",
    "\n",
    "# Ejecutar la consulta de inserción\n",
    "cursor.executemany(insert_query, values)\n",
    "\n",
    "# Confirmar los cambios en la base de datos\n",
    "db.commit()\n",
    "\n",
    "print(f\"Añadidas: {cursor.rowcount} filas\")\n",
    "\n",
    "# Vaciamos el cursor\n",
    "cursor.close()\n",
    "db.close()"
   ]
  },
  {
   "cell_type": "markdown",
   "metadata": {},
   "source": [
    "Services_Hosting"
   ]
  },
  {
   "cell_type": "code",
   "execution_count": null,
   "metadata": {},
   "outputs": [],
   "source": [
    "column_names = ['service_id', 'record_id']"
   ]
  },
  {
   "cell_type": "code",
   "execution_count": null,
   "metadata": {},
   "outputs": [],
   "source": [
    "df_service_record = df_service_record.rename(columns={'service': 'service_id'})"
   ]
  },
  {
   "cell_type": "code",
   "execution_count": null,
   "metadata": {},
   "outputs": [],
   "source": [
    "df_service_record.info()"
   ]
  },
  {
   "cell_type": "code",
   "execution_count": null,
   "metadata": {},
   "outputs": [],
   "source": [
    "df_service_record[\"service_id\"] = df_service_record[\"service_id\"].apply(lambda x : str(x))"
   ]
  },
  {
   "cell_type": "code",
   "execution_count": null,
   "metadata": {},
   "outputs": [],
   "source": [
    "df_service_record[\"record_id\"] = df_service_record[\"record_id\"].apply(lambda x : str(x))"
   ]
  },
  {
   "cell_type": "code",
   "execution_count": null,
   "metadata": {},
   "outputs": [],
   "source": [
    "database = \"AIRBNB\"\n",
    "table_name = \"Services_Hosting\"\n",
    "\n",
    "db = mysql.connector.connect(host=\"localhost\",\n",
    "                             user=\"root\",\n",
    "                             password=\"contraseña123\",#Aqui teneis que poner vuestra contraseña.\n",
    "                             database=database,\n",
    "                             consume_results = True)\n",
    "\n",
    "cursor = db.cursor()\n",
    "\n",
    "# Seleccionamos las columnas de la tabla, omitiendo la Primary Key\n",
    "cursor.execute(f\"SELECT * FROM {table_name} LIMIT 0;\")\n",
    "column_names = cursor.column_names\n",
    "\n",
    "# Aseguramos que todas las filas del DataFrame tengan el mismo número de columnas que en la tabla\n",
    "if len(df_service_record.columns) != len(column_names):\n",
    "    raise ValueError(\"El número de columnas en el DataFrame no coincide con el número de columnas en la tabla de la base de datos.\")\n",
    "\n",
    "# Preparar la consulta de inserción\n",
    "insert_query = f\"INSERT INTO {table_name} ({', '.join(column_names)}) VALUES ({', '.join(['%s' for _ in column_names])})\"\n",
    "\n",
    "# Convertir las filas del DataFrame a tuplas\n",
    "values = [tuple(row) for row in df_service_record[list(column_names)].values] \n",
    "\n",
    "# Ejecutar la consulta de inserción\n",
    "cursor.executemany(insert_query, values) #Parece que es aqui donde da el error,no funciona ni en int ni en obj\n",
    "\n",
    "# Confirmar los cambios en la base de datos\n",
    "db.commit()\n",
    "\n",
    "print(f\"Añadidas: {cursor.rowcount} filas\")\n",
    "\n",
    "# Vaciamos el cursor\n",
    "cursor.close()\n",
    "db.close()"
   ]
  },
  {
   "cell_type": "markdown",
   "metadata": {},
   "source": [
    "Category"
   ]
  },
  {
   "cell_type": "code",
   "execution_count": null,
   "metadata": {},
   "outputs": [],
   "source": [
    "column_names = ['category_id', 'category']"
   ]
  },
  {
   "cell_type": "code",
   "execution_count": null,
   "metadata": {},
   "outputs": [],
   "source": [
    "database = \"AIRBNB\"\n",
    "table_name = \"Category\"\n",
    "\n",
    "db = mysql.connector.connect(host=\"localhost\",\n",
    "                             user=\"root\",\n",
    "                             password=\"contraseña123\",#Aqui teneis que poner vuestra contraeña.\n",
    "                             database=database,\n",
    "                             consume_results = True)\n",
    "\n",
    "cursor = db.cursor()\n",
    "\n",
    "# Seleccionamos las columnas de la tabla, omitiendo la Primary Key\n",
    "cursor.execute(f\"SELECT * FROM {table_name} LIMIT 0;\")\n",
    "column_names = cursor.column_names\n",
    "\n",
    "# Aseguramos que todas las filas del DataFrame tengan el mismo número de columnas que en la tabla\n",
    "if len(df_category.columns) != len(column_names):\n",
    "    raise ValueError(\"El número de columnas en el DataFrame no coincide con el número de columnas en la tabla de la base de datos.\")\n",
    "\n",
    "# Preparar la consulta de inserción\n",
    "insert_query = f\"INSERT INTO {table_name} ({', '.join(column_names)}) VALUES ({', '.join(['%s' for _ in column_names])})\"\n",
    "\n",
    "# Convertir las filas del DataFrame a tuplas\n",
    "values = [tuple(row) for row in df_category[list(column_names)].values]\n",
    "\n",
    "# Ejecutar la consulta de inserción\n",
    "cursor.executemany(insert_query, values)\n",
    "\n",
    "# Confirmar los cambios en la base de datos\n",
    "db.commit()\n",
    "\n",
    "print(f\"Añadidas: {cursor.rowcount} filas\")\n",
    "\n",
    "# Vaciamos el cursor\n",
    "cursor.close()\n",
    "db.close()"
   ]
  },
  {
   "cell_type": "markdown",
   "metadata": {},
   "source": [
    "Category_Services"
   ]
  },
  {
   "cell_type": "code",
   "execution_count": null,
   "metadata": {},
   "outputs": [],
   "source": [
    "column_names = ['category_id', 'service_id']"
   ]
  },
  {
   "cell_type": "code",
   "execution_count": null,
   "metadata": {},
   "outputs": [],
   "source": [
    "df_category_service = df_category_service.rename(columns={'category': 'category_id'})\n",
    "df_category_service = df_category_service.rename(columns={'service': 'service_id'})"
   ]
  },
  {
   "cell_type": "code",
   "execution_count": null,
   "metadata": {},
   "outputs": [],
   "source": [
    "df_category_service.info()"
   ]
  },
  {
   "cell_type": "code",
   "execution_count": null,
   "metadata": {},
   "outputs": [],
   "source": [
    "df_category_service[\"service_id\"] = df_category_service[\"service_id\"].apply(lambda x : str(x))"
   ]
  },
  {
   "cell_type": "code",
   "execution_count": null,
   "metadata": {},
   "outputs": [],
   "source": [
    "df_category_service[\"category_id\"] = df_category_service[\"category_id\"].apply(lambda x : str(x))"
   ]
  },
  {
   "cell_type": "code",
   "execution_count": null,
   "metadata": {},
   "outputs": [],
   "source": [
    "database = \"AIRBNB\"\n",
    "table_name = \"Category_Services\"\n",
    "\n",
    "db = mysql.connector.connect(host=\"localhost\",\n",
    "                             user=\"root\",\n",
    "                             password=\"contraseña123\",#Aqui teneis que poner vuestra contraeña.\n",
    "                             database=database,\n",
    "                             consume_results = True)\n",
    "\n",
    "cursor = db.cursor()\n",
    "\n",
    "# Seleccionamos las columnas de la tabla, omitiendo la Primary Key\n",
    "cursor.execute(f\"SELECT * FROM {table_name} LIMIT 0;\")\n",
    "column_names = cursor.column_names\n",
    "\n",
    "# Aseguramos que todas las filas del DataFrame tengan el mismo número de columnas que en la tabla\n",
    "if len(df_category_service.columns) != len(column_names):\n",
    "    raise ValueError(\"El número de columnas en el DataFrame no coincide con el número de columnas en la tabla de la base de datos.\")\n",
    "\n",
    "# Preparar la consulta de inserción\n",
    "insert_query = f\"INSERT INTO {table_name} ({', '.join(column_names)}) VALUES ({', '.join(['%s' for _ in column_names])})\"\n",
    "\n",
    "# Convertir las filas del DataFrame a tuplas\n",
    "values = [tuple(row) for row in df_category_service[list(column_names)].values]\n",
    "\n",
    "# Ejecutar la consulta de inserción\n",
    "cursor.executemany(insert_query, values)\n",
    "\n",
    "# Confirmar los cambios en la base de datos\n",
    "db.commit()\n",
    "\n",
    "print(f\"Añadidas: {cursor.rowcount} filas\")\n",
    "\n",
    "# Vaciamos el cursor\n",
    "cursor.close()\n",
    "db.close()"
   ]
  },
  {
   "cell_type": "markdown",
   "metadata": {},
   "source": [
    "# Actualizar base de datos"
   ]
  },
  {
   "cell_type": "markdown",
   "metadata": {},
   "source": [
    "**Inserta solo los datos que no existan en la base de datos.**\n",
    "\n",
    "*ruta_csv*: Ruta del archivo CSV que contiene los nuevos datos.\n",
    "\n",
    "*conexion_db*: Objeto de conexión a la base de datos MySQL (usando mysql.connector).\n",
    "\n",
    "*tabla*: Nombre de la tabla en la que se insertarán los datos.\n",
    "\n",
    "*columnas_unicas*: Lista de columnas que definen la unicidad de los registros. "
   ]
  },
  {
   "cell_type": "code",
   "execution_count": null,
   "metadata": {},
   "outputs": [],
   "source": [
    "def actualizar_base_datos(ruta_csv, conexion_db, tabla, columnas_unicas):\n",
    "    \n",
    "    # Crear cursor\n",
    "    cursor = conexion_db.cursor(dictionary=True)\n",
    "\n",
    "    # Cargar datos desde el archivo CSV\n",
    "    nuevos_datos = pd.read_csv(ruta_csv)\n",
    "\n",
    "    # Iterar sobre cada fila de datos nuevos\n",
    "    for _, fila in nuevos_datos.iterrows():\n",
    "        # Construir la condición para la consulta de verificación\n",
    "        condicion = \" AND \".join([f\"{col} = %s\" for col in columnas_unicas])\n",
    "        valores_condicion = [fila[col] for col in columnas_unicas]\n",
    "        query = f\"SELECT COUNT(*) as conteo FROM {tabla} WHERE {condicion}\"\n",
    "        \n",
    "        # Ejecutar la consulta de verificación\n",
    "        cursor.execute(query, valores_condicion)\n",
    "        resultado = cursor.fetchone()\n",
    "        \n",
    "        # Si no hay registros duplicados, insertar la fila\n",
    "        if resultado['conteo'] == 0:\n",
    "            columnas = \", \".join(fila.index)\n",
    "            valores = \", \".join([\"%s\"] * len(fila))\n",
    "            insert_query = f\"INSERT INTO {tabla} ({columnas}) VALUES ({valores})\"\n",
    "            cursor.execute(insert_query, list(fila))\n",
    "            conexion_db.commit()\n",
    "            print(f\"Datos insertados: {fila[columnas_unicas].to_dict()}\")\n",
    "        else:\n",
    "            print(f\"Duplicado encontrado, datos no insertados: {fila[columnas_unicas].to_dict()}\")\n",
    "\n",
    "    # Cerrar el cursor al finalizar\n",
    "    cursor.close()"
   ]
  },
  {
   "cell_type": "markdown",
   "metadata": {},
   "source": [
    "Ejemplo"
   ]
  },
  {
   "cell_type": "code",
   "execution_count": null,
   "metadata": {},
   "outputs": [],
   "source": [
    "\"\"\"\n",
    "db = mysql.connector.connect(\n",
    "     host=\"localhost\",\n",
    "     user=\"root\",\n",
    "     password=\"contraseña123\"\n",
    " )\n",
    "db.database = 'AIRBNB'\n",
    "actualizar_base_datos('ruta.csv', db, 'nombre_tabla', ['columnas'])\n",
    "\"\"\""
   ]
  },
  {
   "cell_type": "markdown",
   "metadata": {},
   "source": [
    "# Extracción de datos"
   ]
  },
  {
   "cell_type": "code",
   "execution_count": null,
   "metadata": {},
   "outputs": [],
   "source": [
    "def extraer_datos_mysql(host, user, password, database, query):\n",
    "    # Conectarse a la base de datos\n",
    "    db = mysql.connector.connect(\n",
    "        host=host,\n",
    "        user=user,\n",
    "        password=password,\n",
    "        database=database\n",
    "    )\n",
    "    \n",
    "    # Crear cursor para ejecutar la consulta\n",
    "    cursor = db.cursor()\n",
    "\n",
    "    # Ejecutar la consulta\n",
    "    cursor.execute(query)\n",
    "    \n",
    "    # Obtener los nombres de las columnas\n",
    "    column_names = cursor.column_names\n",
    "    print(\"Nombres de las columnas:\", column_names)\n",
    "\n",
    "    # Guardar y mostrar los datos de la tabla\n",
    "    data = cursor.fetchall()\n",
    "    for fila in data:\n",
    "        print(fila)\n",
    "\n",
    "    # Cerrar el cursor y la conexión\n",
    "    cursor.close()\n",
    "    db.close()\n"
   ]
  },
  {
   "cell_type": "markdown",
   "metadata": {},
   "source": [
    "Hosting"
   ]
  },
  {
   "cell_type": "code",
   "execution_count": null,
   "metadata": {},
   "outputs": [],
   "source": [
    "host = \"localhost\"\n",
    "user = \"root\"\n",
    "password = \"contraseña123\"\n",
    "database = \"AIRBNB\"\n",
    "query = \"SELECT * FROM Hosting;\"\n",
    "\n",
    "extraer_datos_mysql(host, user, password, database, query)"
   ]
  },
  {
   "cell_type": "markdown",
   "metadata": {},
   "source": [
    "Description_"
   ]
  },
  {
   "cell_type": "code",
   "execution_count": null,
   "metadata": {},
   "outputs": [],
   "source": [
    "host = \"localhost\"\n",
    "user = \"root\"\n",
    "password = \"contraseña123\"\n",
    "database = \"AIRBNB\"\n",
    "query = \"SELECT * FROM Description_;\"\n",
    "\n",
    "extraer_datos_mysql(host, user, password, database, query)"
   ]
  },
  {
   "cell_type": "markdown",
   "metadata": {},
   "source": [
    "Ratings"
   ]
  },
  {
   "cell_type": "code",
   "execution_count": null,
   "metadata": {},
   "outputs": [],
   "source": [
    "host = \"localhost\"\n",
    "user = \"root\"\n",
    "password = \"contraseña123\"\n",
    "database = \"AIRBNB\"\n",
    "query = \"SELECT * FROM Ratings;\"\n",
    "\n",
    "extraer_datos_mysql(host, user, password, database, query)"
   ]
  },
  {
   "cell_type": "markdown",
   "metadata": {},
   "source": [
    "Services"
   ]
  },
  {
   "cell_type": "code",
   "execution_count": null,
   "metadata": {},
   "outputs": [],
   "source": [
    "host = \"localhost\"\n",
    "user = \"root\"\n",
    "password = \"contraseña123\"\n",
    "database = \"AIRBNB\"\n",
    "query = \"SELECT * FROM Services_;\"\n",
    "\n",
    "extraer_datos_mysql(host, user, password, database, query)"
   ]
  },
  {
   "cell_type": "markdown",
   "metadata": {},
   "source": [
    "Category"
   ]
  },
  {
   "cell_type": "code",
   "execution_count": null,
   "metadata": {},
   "outputs": [],
   "source": [
    "host = \"localhost\"\n",
    "user = \"root\"\n",
    "password = \"contraseña123\"\n",
    "database = \"AIRBNB\"\n",
    "query = \"SELECT * FROM Category;\"\n",
    "\n",
    "extraer_datos_mysql(host, user, password, database, query)"
   ]
  },
  {
   "cell_type": "code",
   "execution_count": null,
   "metadata": {},
   "outputs": [],
   "source": []
  }
 ],
 "metadata": {
  "kernelspec": {
   "display_name": "base",
   "language": "python",
   "name": "python3"
  },
  "language_info": {
   "codemirror_mode": {
    "name": "ipython",
    "version": 3
   },
   "file_extension": ".py",
   "mimetype": "text/x-python",
   "name": "python",
   "nbconvert_exporter": "python",
   "pygments_lexer": "ipython3",
   "version": "3.12.7"
  }
 },
 "nbformat": 4,
 "nbformat_minor": 2
}
