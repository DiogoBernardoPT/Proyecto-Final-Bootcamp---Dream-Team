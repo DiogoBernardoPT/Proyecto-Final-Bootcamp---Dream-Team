{
 "cells": [
  {
   "cell_type": "markdown",
   "metadata": {},
   "source": [
    "## SQL ##"
   ]
  },
  {
   "cell_type": "code",
   "execution_count": null,
   "metadata": {},
   "outputs": [],
   "source": [
    "\"\"\"\n",
    "CREATE DATABASE IF NOT EXIST AIRBB\n",
    "USE AIRBB\n",
    "\n",
    "CREATE A TABLE DESCRIPTION_ (\n",
    "HOST_NAME VARCHAR (255),\n",
    "PRICE_NIGTH INT,\n",
    "N_BEDS INT,\n",
    "N_BATHS INT,\n",
    "CLEANING_FEE INT,\n",
    "TOTAL_GUESTS INT,\n",
    "PRIMARY KEY (HOST_NAME)\n",
    ");\n",
    "\n",
    "CREATE A TABLE HOSTING (\n",
    "URL VARCHAR(255),\n",
    "NAME_ VARCHAR(255),\n",
    "PROPERTY_TYPE VARCHAR (255),\n",
    "HOST_NAME VARCHAR (255),\n",
    "PRIMARY KEY (URL),\n",
    "FOREING KEY (HOST_NAME) REFERENCE DESCRIPTION_ (HOST_NAME)\n",
    ");\n",
    "\n",
    "CREATE A TABLE COMENTS (\n",
    "URL VARCHAR (255),\n",
    "STARS INT,\n",
    "COMENTS VARCHAR(255),\n",
    "FOREING KEY (URL) REFERENCE HOSTING (URL)\n",
    ");\n",
    "\"\"\""
   ]
  }
 ],
 "metadata": {
  "kernelspec": {
   "display_name": "base",
   "language": "python",
   "name": "python3"
  },
  "language_info": {
   "codemirror_mode": {
    "name": "ipython",
    "version": 3
   },
   "file_extension": ".py",
   "mimetype": "text/x-python",
   "name": "python",
   "nbconvert_exporter": "python",
   "pygments_lexer": "ipython3",
   "version": "3.12.4"
  }
 },
 "nbformat": 4,
 "nbformat_minor": 2
}
