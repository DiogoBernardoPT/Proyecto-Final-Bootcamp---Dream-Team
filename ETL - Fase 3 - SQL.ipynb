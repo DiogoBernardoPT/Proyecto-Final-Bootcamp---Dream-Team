{
 "cells": [
  {
   "cell_type": "markdown",
   "metadata": {},
   "source": [
    "## SQL ##"
   ]
  },
  {
   "cell_type": "markdown",
   "metadata": {},
   "source": [
    "*En esta fase del proceso de ETL  vamos a crear paso a paso una base de datos en sql desde python, para despúes crear las tablas con sus PK y sus FK.*\n",
    "\n",
    "*Una vez todo esto este creado procedemos a poblarla desde python con nuestro df limpio y actualizado.*"
   ]
  },
  {
   "cell_type": "markdown",
   "metadata": {},
   "source": [
    "Este es el codigo usado en sql para crear nuestra base de datos. *Este codigo se puede usar para crear la base de datos directamente desde SQL,pero vamos a crearla desde este entorno*"
   ]
  },
  {
   "cell_type": "code",
   "execution_count": 1,
   "metadata": {},
   "outputs": [],
   "source": [
    "import pandas as pd\n",
    "import mysql.connector\n",
    "import numpy as np"
   ]
  },
  {
   "cell_type": "markdown",
   "metadata": {},
   "source": [
    "Este es el codigo para crear desde python la base de datos en sql."
   ]
  },
  {
   "cell_type": "markdown",
   "metadata": {},
   "source": [
    "*Correr solo una vez*"
   ]
  },
  {
   "cell_type": "code",
   "execution_count": 2,
   "metadata": {},
   "outputs": [],
   "source": [
    "db = mysql.connector.connect(\n",
    "     host=\"localhost\",\n",
    "     user=\"root\",\n",
    "     password=\"contraseña123\"#Aqui teneis que poner vuestra contraeña.\n",
    ")\n",
    "\n",
    "cursor = db.cursor()\n",
    "\n",
    "# Crear la base de datos si no existe\n",
    "cursor.execute('CREATE DATABASE IF NOT EXISTS AIRBNB')\n",
    "\n",
    "# Conectar a la base de datos recién creada\n",
    "db.database = 'AIRBNB'\n",
    "\n",
    "# Crear la tabla Hosting\n",
    "cursor.execute('''\n",
    "    CREATE TABLE IF NOT EXISTS Hosting (\n",
    "        record_id BIGINT,\n",
    "        titles TEXT,\n",
    "        property_types TEXT,\n",
    "        host_name TEXT,\n",
    "        PRIMARY KEY (record_id)               \n",
    "    );\n",
    "''')\n",
    "\n",
    "# Crear la tabla Description_\n",
    "cursor.execute('''\n",
    "    CREATE TABLE IF NOT EXISTS Description_ (\n",
    "        id BIGINT,\n",
    "        prices_per_night INT,\n",
    "        check_in_hour TIME,\n",
    "        check_out_hour TIME,\n",
    "        total_hours_checkin INT,\n",
    "        cleaning_fee INT,\n",
    "        maximum_guests INT,\n",
    "        location TEXT,\n",
    "        camas INT,\n",
    "        baños INT,\n",
    "        dormitorios INT,\n",
    "        FOREIGN KEY (id) REFERENCES Hosting(record_id)\n",
    "    );\n",
    "''')\n",
    "\n",
    "# Crear la tabla Ratings\n",
    "cursor.execute('''\n",
    "    CREATE TABLE IF NOT EXISTS Ratings (\n",
    "        record_id BIGINT,\n",
    "        ratings FLOAT,\n",
    "        num_reviews FLOAT,\n",
    "        FOREIGN KEY (record_id) REFERENCES Hosting(record_id)\n",
    "    );\n",
    "''')\n",
    "\n",
    "#Creamos la tabla de Services_\n",
    "cursor.execute('''\n",
    "    CREATE TABLE IF NOT EXISTS Services_ (\n",
    "        service_id INT,\n",
    "        service TEXT,\n",
    "        PRIMARY KEY (service_id)\n",
    "   );\n",
    "''')\n",
    "#Creamos la tabla de Service_ids\n",
    "cursor.execute('''\n",
    "    CREATE TABLE IF NOT EXISTS Services_ids (\n",
    "        service_id INT,\n",
    "        record_id BIGINT,\n",
    "        FOREIGN KEY (service_id) REFERENCES Services_(service_id),\n",
    "        FOREIGN KEY (record_id) REFERENCES Hosting (record_id)\n",
    ");\n",
    "''')   \n",
    "#Creamos la tabla de Category\n",
    "cursor.execute('''\n",
    "    CREATE TABLE IF NOT EXISTS Category (\n",
    "        category_id INT,\n",
    "        category TEXT,\n",
    "        PRIMARY KEY (category_id)\n",
    " );\n",
    "''')\n",
    "\n",
    "#Creamos la tabla de Category_ids\n",
    "cursor.execute('''\n",
    "    CREATE TABLE IF NOT EXISTS Category_ids (\n",
    "        service_id INT,\n",
    "        category_id INT,\n",
    "        FOREIGN KEY (service_id) REFERENCES Services_(service_id),\n",
    "        FOREIGN KEY (category_id) REFERENCES Category(category_id)\n",
    ");\n",
    "''')   \n",
    "\n",
    "# Cerrar el cursor y la conexión\n",
    "cursor.close()\n",
    "db.close()\n"
   ]
  },
  {
   "cell_type": "markdown",
   "metadata": {},
   "source": [
    "Este es el codigo para la subida de nuestro df a la base de datos"
   ]
  },
  {
   "cell_type": "code",
   "execution_count": 2,
   "metadata": {},
   "outputs": [],
   "source": [
    "df = pd.read_csv('C:/Users/peni_/Desktop/proyecto/Proyecto-Final-Bootcamp---Dream-Team/data/df_final_cleaned.csv')\n",
    "df_category = pd.read_csv('C:/Users/peni_/Desktop/proyecto/Proyecto-Final-Bootcamp---Dream-Team/data/df_category')\n",
    "df_service = pd.read_csv('C:/Users/peni_/Desktop/proyecto/Proyecto-Final-Bootcamp---Dream-Team/data/df_service')\n",
    "df_service_record = pd.read_csv('C:/Users/peni_/Desktop/proyecto/Proyecto-Final-Bootcamp---Dream-Team/data/df_service_record')\n",
    "df_category_service = pd.read_csv('C:/Users/peni_/Desktop/proyecto/Proyecto-Final-Bootcamp---Dream-Team/data/df_category_service')"
   ]
  },
  {
   "cell_type": "markdown",
   "metadata": {},
   "source": [
    "Dividimos las columnas del df en distintos df segun las tablas de nuestra base de datos."
   ]
  },
  {
   "cell_type": "markdown",
   "metadata": {},
   "source": [
    "*Elinamos las filas que tengan duplicada la columna record_id*"
   ]
  },
  {
   "cell_type": "code",
   "execution_count": 3,
   "metadata": {},
   "outputs": [],
   "source": [
    "df_sin_duplicados = df.drop_duplicates(subset='record_id', keep=False)"
   ]
  },
  {
   "cell_type": "code",
   "execution_count": 4,
   "metadata": {},
   "outputs": [
    {
     "data": {
      "text/html": [
       "<div>\n",
       "<style scoped>\n",
       "    .dataframe tbody tr th:only-of-type {\n",
       "        vertical-align: middle;\n",
       "    }\n",
       "\n",
       "    .dataframe tbody tr th {\n",
       "        vertical-align: top;\n",
       "    }\n",
       "\n",
       "    .dataframe thead th {\n",
       "        text-align: right;\n",
       "    }\n",
       "</style>\n",
       "<table border=\"1\" class=\"dataframe\">\n",
       "  <thead>\n",
       "    <tr style=\"text-align: right;\">\n",
       "      <th></th>\n",
       "      <th>urls</th>\n",
       "      <th>timestamp</th>\n",
       "      <th>record_id</th>\n",
       "      <th>titles</th>\n",
       "      <th>host_name</th>\n",
       "      <th>property_types</th>\n",
       "      <th>prices_per_night</th>\n",
       "      <th>location</th>\n",
       "      <th>ratings</th>\n",
       "      <th>num_reviews</th>\n",
       "      <th>cleaning_fee</th>\n",
       "      <th>baños</th>\n",
       "      <th>maximum_guests</th>\n",
       "      <th>dormitorios</th>\n",
       "      <th>camas</th>\n",
       "      <th>check_in_hour</th>\n",
       "      <th>check_out_hour</th>\n",
       "      <th>total_hours_checkin</th>\n",
       "    </tr>\n",
       "  </thead>\n",
       "  <tbody>\n",
       "    <tr>\n",
       "      <th>18</th>\n",
       "      <td>https://www.airbnb.es/rooms/113755436612856989...</td>\n",
       "      <td>2024-11-07 10:12:02</td>\n",
       "      <td>1137554366128569898</td>\n",
       "      <td>Haz base en este alojamiento y estarás a un pa...</td>\n",
       "      <td>Steven</td>\n",
       "      <td>Habitación</td>\n",
       "      <td>40.0</td>\n",
       "      <td>Barcelona, Catalunya, España</td>\n",
       "      <td>4.12</td>\n",
       "      <td>17.0</td>\n",
       "      <td>0.0</td>\n",
       "      <td>NaN</td>\n",
       "      <td>NaN</td>\n",
       "      <td>NaN</td>\n",
       "      <td>2.0</td>\n",
       "      <td>15:00</td>\n",
       "      <td>11:00</td>\n",
       "      <td>9.0</td>\n",
       "    </tr>\n",
       "    <tr>\n",
       "      <th>30</th>\n",
       "      <td>https://www.airbnb.es/rooms/124996142740169379...</td>\n",
       "      <td>2024-11-07 10:12:02</td>\n",
       "      <td>1249961427401693793</td>\n",
       "      <td>Disfruten de unos días regeneradores en un amb...</td>\n",
       "      <td>Antonio</td>\n",
       "      <td>otro</td>\n",
       "      <td>128.0</td>\n",
       "      <td>Barcelona, Catalunya, España</td>\n",
       "      <td>5.00</td>\n",
       "      <td>4.0</td>\n",
       "      <td>0.0</td>\n",
       "      <td>1.0</td>\n",
       "      <td>2.0</td>\n",
       "      <td>2.0</td>\n",
       "      <td>2.0</td>\n",
       "      <td>NaN</td>\n",
       "      <td>11:00</td>\n",
       "      <td>NaN</td>\n",
       "    </tr>\n",
       "    <tr>\n",
       "      <th>36</th>\n",
       "      <td>https://www.airbnb.es/rooms/127318511126570438...</td>\n",
       "      <td>2024-11-07 10:12:02</td>\n",
       "      <td>1273185111265704381</td>\n",
       "      <td>Habitación privada para 2 huéspedes en apartam...</td>\n",
       "      <td>Mauricio</td>\n",
       "      <td>Habitación</td>\n",
       "      <td>58.0</td>\n",
       "      <td>Barcelona, Catalunya, España</td>\n",
       "      <td>0.00</td>\n",
       "      <td>0.0</td>\n",
       "      <td>0.0</td>\n",
       "      <td>NaN</td>\n",
       "      <td>2.0</td>\n",
       "      <td>1.0</td>\n",
       "      <td>NaN</td>\n",
       "      <td>15:00</td>\n",
       "      <td>11:00</td>\n",
       "      <td>9.0</td>\n",
       "    </tr>\n",
       "    <tr>\n",
       "      <th>54</th>\n",
       "      <td>https://www.airbnb.es/rooms/117881510800783153...</td>\n",
       "      <td>2024-11-07 10:12:02</td>\n",
       "      <td>1178815108007831530</td>\n",
       "      <td>El apartamento ideal para sumergirte en el alm...</td>\n",
       "      <td>Lodging Apartments</td>\n",
       "      <td>Alojamiento entero</td>\n",
       "      <td>117.0</td>\n",
       "      <td>Barcelona, Catalunya, España</td>\n",
       "      <td>0.00</td>\n",
       "      <td>2.0</td>\n",
       "      <td>95.0</td>\n",
       "      <td>1.0</td>\n",
       "      <td>2.0</td>\n",
       "      <td>1.0</td>\n",
       "      <td>1.0</td>\n",
       "      <td>15:00</td>\n",
       "      <td>NaN</td>\n",
       "      <td>9.0</td>\n",
       "    </tr>\n",
       "    <tr>\n",
       "      <th>57</th>\n",
       "      <td>https://www.airbnb.es/rooms/118896371995828509...</td>\n",
       "      <td>2024-11-07 10:12:02</td>\n",
       "      <td>1188963719958285093</td>\n",
       "      <td>Soy leo y quiero darte la bienvenida a una de ...</td>\n",
       "      <td>Pado</td>\n",
       "      <td>Alojamiento entero</td>\n",
       "      <td>132.0</td>\n",
       "      <td>Barcelona, Catalunya, España</td>\n",
       "      <td>0.00</td>\n",
       "      <td>0.0</td>\n",
       "      <td>50.0</td>\n",
       "      <td>1.0</td>\n",
       "      <td>2.0</td>\n",
       "      <td>1.0</td>\n",
       "      <td>1.0</td>\n",
       "      <td>15:00</td>\n",
       "      <td>11:00</td>\n",
       "      <td>9.0</td>\n",
       "    </tr>\n",
       "  </tbody>\n",
       "</table>\n",
       "</div>"
      ],
      "text/plain": [
       "                                                 urls            timestamp  \\\n",
       "18  https://www.airbnb.es/rooms/113755436612856989...  2024-11-07 10:12:02   \n",
       "30  https://www.airbnb.es/rooms/124996142740169379...  2024-11-07 10:12:02   \n",
       "36  https://www.airbnb.es/rooms/127318511126570438...  2024-11-07 10:12:02   \n",
       "54  https://www.airbnb.es/rooms/117881510800783153...  2024-11-07 10:12:02   \n",
       "57  https://www.airbnb.es/rooms/118896371995828509...  2024-11-07 10:12:02   \n",
       "\n",
       "              record_id                                             titles  \\\n",
       "18  1137554366128569898  Haz base en este alojamiento y estarás a un pa...   \n",
       "30  1249961427401693793  Disfruten de unos días regeneradores en un amb...   \n",
       "36  1273185111265704381  Habitación privada para 2 huéspedes en apartam...   \n",
       "54  1178815108007831530  El apartamento ideal para sumergirte en el alm...   \n",
       "57  1188963719958285093  Soy leo y quiero darte la bienvenida a una de ...   \n",
       "\n",
       "             host_name      property_types  prices_per_night  \\\n",
       "18              Steven          Habitación              40.0   \n",
       "30             Antonio                otro             128.0   \n",
       "36            Mauricio          Habitación              58.0   \n",
       "54  Lodging Apartments  Alojamiento entero             117.0   \n",
       "57                Pado  Alojamiento entero             132.0   \n",
       "\n",
       "                        location  ratings  num_reviews  cleaning_fee  baños  \\\n",
       "18  Barcelona, Catalunya, España     4.12         17.0           0.0    NaN   \n",
       "30  Barcelona, Catalunya, España     5.00          4.0           0.0    1.0   \n",
       "36  Barcelona, Catalunya, España     0.00          0.0           0.0    NaN   \n",
       "54  Barcelona, Catalunya, España     0.00          2.0          95.0    1.0   \n",
       "57  Barcelona, Catalunya, España     0.00          0.0          50.0    1.0   \n",
       "\n",
       "    maximum_guests  dormitorios  camas check_in_hour check_out_hour  \\\n",
       "18             NaN          NaN    2.0         15:00          11:00   \n",
       "30             2.0          2.0    2.0           NaN          11:00   \n",
       "36             2.0          1.0    NaN         15:00          11:00   \n",
       "54             2.0          1.0    1.0         15:00            NaN   \n",
       "57             2.0          1.0    1.0         15:00          11:00   \n",
       "\n",
       "    total_hours_checkin  \n",
       "18                  9.0  \n",
       "30                  NaN  \n",
       "36                  9.0  \n",
       "54                  9.0  \n",
       "57                  9.0  "
      ]
     },
     "execution_count": 4,
     "metadata": {},
     "output_type": "execute_result"
    }
   ],
   "source": [
    "df_sin_duplicados.head()"
   ]
  },
  {
   "cell_type": "code",
   "execution_count": 5,
   "metadata": {},
   "outputs": [],
   "source": [
    "df_Hosting = df_sin_duplicados[['record_id','titles','property_types','host_name']]"
   ]
  },
  {
   "cell_type": "code",
   "execution_count": 6,
   "metadata": {},
   "outputs": [
    {
     "data": {
      "text/html": [
       "<div>\n",
       "<style scoped>\n",
       "    .dataframe tbody tr th:only-of-type {\n",
       "        vertical-align: middle;\n",
       "    }\n",
       "\n",
       "    .dataframe tbody tr th {\n",
       "        vertical-align: top;\n",
       "    }\n",
       "\n",
       "    .dataframe thead th {\n",
       "        text-align: right;\n",
       "    }\n",
       "</style>\n",
       "<table border=\"1\" class=\"dataframe\">\n",
       "  <thead>\n",
       "    <tr style=\"text-align: right;\">\n",
       "      <th></th>\n",
       "      <th>record_id</th>\n",
       "      <th>titles</th>\n",
       "      <th>property_types</th>\n",
       "      <th>host_name</th>\n",
       "    </tr>\n",
       "  </thead>\n",
       "  <tbody>\n",
       "    <tr>\n",
       "      <th>18</th>\n",
       "      <td>1137554366128569898</td>\n",
       "      <td>Haz base en este alojamiento y estarás a un pa...</td>\n",
       "      <td>Habitación</td>\n",
       "      <td>Steven</td>\n",
       "    </tr>\n",
       "    <tr>\n",
       "      <th>30</th>\n",
       "      <td>1249961427401693793</td>\n",
       "      <td>Disfruten de unos días regeneradores en un amb...</td>\n",
       "      <td>otro</td>\n",
       "      <td>Antonio</td>\n",
       "    </tr>\n",
       "    <tr>\n",
       "      <th>36</th>\n",
       "      <td>1273185111265704381</td>\n",
       "      <td>Habitación privada para 2 huéspedes en apartam...</td>\n",
       "      <td>Habitación</td>\n",
       "      <td>Mauricio</td>\n",
       "    </tr>\n",
       "    <tr>\n",
       "      <th>54</th>\n",
       "      <td>1178815108007831530</td>\n",
       "      <td>El apartamento ideal para sumergirte en el alm...</td>\n",
       "      <td>Alojamiento entero</td>\n",
       "      <td>Lodging Apartments</td>\n",
       "    </tr>\n",
       "    <tr>\n",
       "      <th>57</th>\n",
       "      <td>1188963719958285093</td>\n",
       "      <td>Soy leo y quiero darte la bienvenida a una de ...</td>\n",
       "      <td>Alojamiento entero</td>\n",
       "      <td>Pado</td>\n",
       "    </tr>\n",
       "  </tbody>\n",
       "</table>\n",
       "</div>"
      ],
      "text/plain": [
       "              record_id                                             titles  \\\n",
       "18  1137554366128569898  Haz base en este alojamiento y estarás a un pa...   \n",
       "30  1249961427401693793  Disfruten de unos días regeneradores en un amb...   \n",
       "36  1273185111265704381  Habitación privada para 2 huéspedes en apartam...   \n",
       "54  1178815108007831530  El apartamento ideal para sumergirte en el alm...   \n",
       "57  1188963719958285093  Soy leo y quiero darte la bienvenida a una de ...   \n",
       "\n",
       "        property_types           host_name  \n",
       "18          Habitación              Steven  \n",
       "30                otro             Antonio  \n",
       "36          Habitación            Mauricio  \n",
       "54  Alojamiento entero  Lodging Apartments  \n",
       "57  Alojamiento entero                Pado  "
      ]
     },
     "execution_count": 6,
     "metadata": {},
     "output_type": "execute_result"
    }
   ],
   "source": [
    "df_Hosting.head()"
   ]
  },
  {
   "cell_type": "code",
   "execution_count": 7,
   "metadata": {},
   "outputs": [],
   "source": [
    "df_Description_ = df_sin_duplicados[['record_id', 'prices_per_night','check_in_hour','check_out_hour','cleaning_fee','total_hours_checkin','maximum_guests','location','camas','baños','dormitorios']]\n",
    "df_Description_ = df_Description_.rename(columns={'record_id': 'id'})\n"
   ]
  },
  {
   "cell_type": "code",
   "execution_count": 8,
   "metadata": {},
   "outputs": [],
   "source": [
    "df_Ratings = df_sin_duplicados[['record_id','ratings','num_reviews']]"
   ]
  },
  {
   "cell_type": "markdown",
   "metadata": {},
   "source": [
    "Aqui nos aseguramos de que no haya ningun nan sustituyendolos todos por none (valor que si admite sql)."
   ]
  },
  {
   "cell_type": "code",
   "execution_count": 9,
   "metadata": {},
   "outputs": [],
   "source": [
    "df_Description_ = df_Description_.replace({np.nan : None}).reset_index(drop = True) #Sustituimos todos los posibles nan por none para poder subirlos\n",
    "df_Hosting = df_Hosting.replace({np.nan : None}).reset_index(drop = True)\n",
    "df_Ratings = df_Ratings.replace({np.nan : None}).reset_index(drop = True)"
   ]
  },
  {
   "cell_type": "markdown",
   "metadata": {},
   "source": [
    "Aqui procedemos a la subida de las distintas tablas."
   ]
  },
  {
   "cell_type": "markdown",
   "metadata": {},
   "source": [
    "Hosting"
   ]
  },
  {
   "cell_type": "code",
   "execution_count": 11,
   "metadata": {},
   "outputs": [],
   "source": [
    "column_names= ['record_id','titles','property_types','host_name']"
   ]
  },
  {
   "cell_type": "code",
   "execution_count": 12,
   "metadata": {},
   "outputs": [
    {
     "name": "stdout",
     "output_type": "stream",
     "text": [
      "Añadidas: 754 filas\n"
     ]
    }
   ],
   "source": [
    "database = \"AIRBNB\"\n",
    "table_name = \"Hosting\"\n",
    "\n",
    "db = mysql.connector.connect(host=\"localhost\",\n",
    "                             user=\"root\",\n",
    "                             password=\"contraseña123\",#Aqui teneis que poner vuestra contraeña.\n",
    "                             database=database,\n",
    "                             consume_results = True)\n",
    "\n",
    "cursor = db.cursor()\n",
    "\n",
    "# Seleccionamos las columnas de la tabla, omitiendo la Primary Key\n",
    "cursor.execute(f\"SELECT * FROM {table_name} LIMIT 0;\")\n",
    "column_names = cursor.column_names\n",
    "\n",
    "# Aseguramos que todas las filas del DataFrame tengan el mismo número de columnas que en la tabla\n",
    "if len(df_Hosting.columns) != len(column_names):\n",
    "    raise ValueError(\"El número de columnas en el DataFrame no coincide con el número de columnas en la tabla de la base de datos.\")\n",
    "\n",
    "# Preparar la consulta de inserción\n",
    "insert_query = f\"INSERT INTO {table_name} ({', '.join(column_names)}) VALUES ({', '.join(['%s' for _ in column_names])})\"\n",
    "\n",
    "# Convertir las filas del DataFrame a tuplas\n",
    "values = [tuple(row) for row in df_Hosting[list(column_names)].values]\n",
    "\n",
    "# Ejecutar la consulta de inserción\n",
    "cursor.executemany(insert_query, values)\n",
    "\n",
    "# Confirmar los cambios en la base de datos\n",
    "db.commit()\n",
    "\n",
    "print(f\"Añadidas: {cursor.rowcount} filas\")\n",
    "\n",
    "# Vaciamos el cursor\n",
    "cursor.close()\n",
    "db.close()"
   ]
  },
  {
   "cell_type": "markdown",
   "metadata": {},
   "source": [
    "Description_"
   ]
  },
  {
   "cell_type": "code",
   "execution_count": 13,
   "metadata": {},
   "outputs": [],
   "source": [
    "column_names = ['id', 'prices_per_night','check_in_hour','check_out_hour','cleaning_fee','total_hours_checkin','maximum_guests','location','camas','baños','dormitorios']"
   ]
  },
  {
   "cell_type": "code",
   "execution_count": 14,
   "metadata": {},
   "outputs": [
    {
     "name": "stdout",
     "output_type": "stream",
     "text": [
      "Añadidas: 754 filas\n"
     ]
    }
   ],
   "source": [
    "database = \"AIRBNB\"\n",
    "table_name = \"Description_\"\n",
    "\n",
    "db = mysql.connector.connect(host=\"localhost\",\n",
    "                             user=\"root\",\n",
    "                             password=\"contraseña123\",#Aqui teneis que poner vuestra contraeña.\n",
    "                             database=database,\n",
    "                             consume_results = True)\n",
    "\n",
    "cursor = db.cursor()\n",
    "\n",
    "# Seleccionamos las columnas de la tabla, omitiendo la Primary Key\n",
    "cursor.execute(f\"SELECT * FROM {table_name} LIMIT 0;\")\n",
    "column_names = cursor.column_names\n",
    "\n",
    "# Aseguramos que todas las filas del DataFrame tengan el mismo número de columnas que en la tabla\n",
    "if len(df_Description_.columns) != len(column_names):\n",
    "    raise ValueError(\"El número de columnas en el DataFrame no coincide con el número de columnas en la tabla de la base de datos.\")\n",
    "\n",
    "# Preparar la consulta de inserción\n",
    "insert_query = f\"INSERT INTO {table_name} ({', '.join(column_names)}) VALUES ({', '.join(['%s' for _ in column_names])})\"\n",
    "\n",
    "# Convertir las filas del DataFrame a tuplas\n",
    "values = [tuple(row) for row in df_Description_[list(column_names)].values]\n",
    "\n",
    "# Ejecutar la consulta de inserción\n",
    "cursor.executemany(insert_query, values)\n",
    "\n",
    "# Confirmar los cambios en la base de datos\n",
    "db.commit()\n",
    "\n",
    "print(f\"Añadidas: {cursor.rowcount} filas\")\n",
    "\n",
    "# Vaciamos el cursor\n",
    "cursor.close()\n",
    "db.close()"
   ]
  },
  {
   "cell_type": "markdown",
   "metadata": {},
   "source": [
    "Ratings"
   ]
  },
  {
   "cell_type": "code",
   "execution_count": 15,
   "metadata": {},
   "outputs": [],
   "source": [
    "column_names= ['record_id','ratings','num_reviews']"
   ]
  },
  {
   "cell_type": "code",
   "execution_count": null,
   "metadata": {},
   "outputs": [],
   "source": [
    "df_Ratings[\"record_id\"] = df_Ratings[\"record_id\"].apply(lambda x : str(x))"
   ]
  },
  {
   "cell_type": "code",
   "execution_count": 28,
   "metadata": {},
   "outputs": [
    {
     "name": "stdout",
     "output_type": "stream",
     "text": [
      "<class 'pandas.core.frame.DataFrame'>\n",
      "RangeIndex: 754 entries, 0 to 753\n",
      "Data columns (total 3 columns):\n",
      " #   Column       Non-Null Count  Dtype  \n",
      "---  ------       --------------  -----  \n",
      " 0   record_id    754 non-null    object \n",
      " 1   ratings      754 non-null    float64\n",
      " 2   num_reviews  754 non-null    float64\n",
      "dtypes: float64(2), object(1)\n",
      "memory usage: 17.8+ KB\n"
     ]
    }
   ],
   "source": [
    "df_Ratings.info()"
   ]
  },
  {
   "cell_type": "code",
   "execution_count": 17,
   "metadata": {},
   "outputs": [
    {
     "name": "stdout",
     "output_type": "stream",
     "text": [
      "('record_id', 'ratings', 'num_reviews')\n",
      "INSERT INTO Ratings (record_id, ratings, num_reviews) VALUES (%s, %s, %s)\n",
      "Añadidas: 754 filas\n"
     ]
    }
   ],
   "source": [
    "database = \"AIRBNB\"\n",
    "table_name = \"Ratings\"\n",
    "\n",
    "db = mysql.connector.connect(host=\"localhost\",\n",
    "                             user=\"root\",\n",
    "                             password=\"contraseña123\",#Aqui teneis que poner vuestra contraeña.\n",
    "                             database=database,\n",
    "                             consume_results = True)\n",
    "\n",
    "cursor = db.cursor()\n",
    "\n",
    "# Seleccionamos las columnas de la tabla, omitiendo la Primary Key\n",
    "cursor.execute(f\"SELECT * FROM {table_name} LIMIT 0;\")\n",
    "column_names = cursor.column_names\n",
    "print(column_names)\n",
    "\n",
    "# Aseguramos que todas las filas del DataFrame tengan el mismo número de columnas que en la tabla\n",
    "if len(df_Ratings.columns) != len(column_names):\n",
    "    raise ValueError(\"El número de columnas en el DataFrame no coincide con el número de columnas en la tabla de la base de datos.\")\n",
    "\n",
    "# Preparar la consulta de inserción\n",
    "insert_query = f\"INSERT INTO {table_name} ({', '.join(column_names)}) VALUES ({', '.join(['%s' for _ in column_names])})\"\n",
    "print(insert_query)\n",
    "\n",
    "# Convertir las filas del DataFrame a tuplas\n",
    "values = [tuple(row) for row in df_Ratings[list(column_names)].values]\n",
    "\n",
    "# Ejecutar la consulta de inserción\n",
    "cursor.executemany(insert_query, values)\n",
    "\n",
    "# Confirmar los cambios en la base de datos\n",
    "db.commit()\n",
    "\n",
    "print(f\"Añadidas: {cursor.rowcount} filas\")\n",
    "\n",
    "# Vaciamos el cursor\n",
    "cursor.close()\n",
    "db.close()"
   ]
  },
  {
   "cell_type": "markdown",
   "metadata": {},
   "source": [
    "Services_"
   ]
  },
  {
   "cell_type": "code",
   "execution_count": 18,
   "metadata": {},
   "outputs": [],
   "source": [
    "column_names = ['service_id', 'service']"
   ]
  },
  {
   "cell_type": "code",
   "execution_count": 19,
   "metadata": {},
   "outputs": [
    {
     "name": "stdout",
     "output_type": "stream",
     "text": [
      "Añadidas: 1143 filas\n"
     ]
    }
   ],
   "source": [
    "database = \"AIRBNB\"\n",
    "table_name = \"Services_\"\n",
    "\n",
    "db = mysql.connector.connect(host=\"localhost\",\n",
    "                             user=\"root\",\n",
    "                             password=\"contraseña123\",#Aqui teneis que poner vuestra contraeña.\n",
    "                             database=database,\n",
    "                             consume_results = True)\n",
    "\n",
    "cursor = db.cursor()\n",
    "\n",
    "# Seleccionamos las columnas de la tabla, omitiendo la Primary Key\n",
    "cursor.execute(f\"SELECT * FROM {table_name} LIMIT 0;\")\n",
    "column_names = cursor.column_names\n",
    "\n",
    "# Aseguramos que todas las filas del DataFrame tengan el mismo número de columnas que en la tabla\n",
    "if len(df_service.columns) != len(column_names):\n",
    "    raise ValueError(\"El número de columnas en el DataFrame no coincide con el número de columnas en la tabla de la base de datos.\")\n",
    "\n",
    "# Preparar la consulta de inserción\n",
    "insert_query = f\"INSERT INTO {table_name} ({', '.join(column_names)}) VALUES ({', '.join(['%s' for _ in column_names])})\"\n",
    "\n",
    "# Convertir las filas del DataFrame a tuplas\n",
    "values = [tuple(row) for row in df_service[list(column_names)].values]\n",
    "\n",
    "# Ejecutar la consulta de inserción\n",
    "cursor.executemany(insert_query, values)\n",
    "\n",
    "# Confirmar los cambios en la base de datos\n",
    "db.commit()\n",
    "\n",
    "print(f\"Añadidas: {cursor.rowcount} filas\")\n",
    "\n",
    "# Vaciamos el cursor\n",
    "cursor.close()\n",
    "db.close()"
   ]
  },
  {
   "cell_type": "markdown",
   "metadata": {},
   "source": [
    "Services_ids !!!PROBLEMAS!!!"
   ]
  },
  {
   "cell_type": "code",
   "execution_count": 10,
   "metadata": {},
   "outputs": [],
   "source": [
    "column_names = ['service_id', 'record_id']"
   ]
  },
  {
   "cell_type": "code",
   "execution_count": 11,
   "metadata": {},
   "outputs": [],
   "source": [
    "df_service_record = df_service_record.rename(columns={'service': 'service_id'})"
   ]
  },
  {
   "cell_type": "code",
   "execution_count": 12,
   "metadata": {},
   "outputs": [
    {
     "name": "stdout",
     "output_type": "stream",
     "text": [
      "<class 'pandas.core.frame.DataFrame'>\n",
      "RangeIndex: 75056 entries, 0 to 75055\n",
      "Data columns (total 2 columns):\n",
      " #   Column      Non-Null Count  Dtype\n",
      "---  ------      --------------  -----\n",
      " 0   service_id  75056 non-null  int64\n",
      " 1   record_id   75056 non-null  int64\n",
      "dtypes: int64(2)\n",
      "memory usage: 1.1 MB\n"
     ]
    }
   ],
   "source": [
    "df_service_record.info()"
   ]
  },
  {
   "cell_type": "code",
   "execution_count": 13,
   "metadata": {},
   "outputs": [],
   "source": [
    "df_service_record[\"record_id\"] = df_service_record[\"record_id\"].apply(lambda x : str(x))"
   ]
  },
  {
   "cell_type": "code",
   "execution_count": 14,
   "metadata": {},
   "outputs": [
    {
     "name": "stdout",
     "output_type": "stream",
     "text": [
      "<class 'pandas.core.frame.DataFrame'>\n",
      "RangeIndex: 75056 entries, 0 to 75055\n",
      "Data columns (total 2 columns):\n",
      " #   Column      Non-Null Count  Dtype \n",
      "---  ------      --------------  ----- \n",
      " 0   service_id  75056 non-null  int64 \n",
      " 1   record_id   75056 non-null  object\n",
      "dtypes: int64(1), object(1)\n",
      "memory usage: 1.1+ MB\n"
     ]
    }
   ],
   "source": [
    "df_service_record.info()"
   ]
  },
  {
   "cell_type": "code",
   "execution_count": 15,
   "metadata": {},
   "outputs": [
    {
     "ename": "IntegrityError",
     "evalue": "1452 (23000): Cannot add or update a child row: a foreign key constraint fails (`airbnb`.`services_ids`, CONSTRAINT `services_ids_ibfk_2` FOREIGN KEY (`record_id`) REFERENCES `hosting` (`record_id`))",
     "output_type": "error",
     "traceback": [
      "\u001b[1;31m---------------------------------------------------------------------------\u001b[0m",
      "\u001b[1;31mMySQLInterfaceError\u001b[0m                       Traceback (most recent call last)",
      "File \u001b[1;32mc:\\Users\\peni_\\anaconda3\\Lib\\site-packages\\mysql\\connector\\connection_cext.py:706\u001b[0m, in \u001b[0;36mCMySQLConnection.cmd_query\u001b[1;34m(self, query, raw, buffered, raw_as_string)\u001b[0m\n\u001b[0;32m    705\u001b[0m         query \u001b[38;5;241m=\u001b[39m query\u001b[38;5;241m.\u001b[39mencode(\u001b[38;5;124m\"\u001b[39m\u001b[38;5;124mutf-8\u001b[39m\u001b[38;5;124m\"\u001b[39m)\n\u001b[1;32m--> 706\u001b[0m     \u001b[38;5;28mself\u001b[39m\u001b[38;5;241m.\u001b[39m_cmysql\u001b[38;5;241m.\u001b[39mquery(\n\u001b[0;32m    707\u001b[0m         query,\n\u001b[0;32m    708\u001b[0m         raw\u001b[38;5;241m=\u001b[39mraw,\n\u001b[0;32m    709\u001b[0m         buffered\u001b[38;5;241m=\u001b[39mbuffered,\n\u001b[0;32m    710\u001b[0m         raw_as_string\u001b[38;5;241m=\u001b[39mraw_as_string,\n\u001b[0;32m    711\u001b[0m         query_attrs\u001b[38;5;241m=\u001b[39m\u001b[38;5;28mself\u001b[39m\u001b[38;5;241m.\u001b[39mquery_attrs,\n\u001b[0;32m    712\u001b[0m     )\n\u001b[0;32m    713\u001b[0m \u001b[38;5;28;01mexcept\u001b[39;00m MySQLInterfaceError \u001b[38;5;28;01mas\u001b[39;00m err:\n",
      "\u001b[1;31mMySQLInterfaceError\u001b[0m: Cannot add or update a child row: a foreign key constraint fails (`airbnb`.`services_ids`, CONSTRAINT `services_ids_ibfk_2` FOREIGN KEY (`record_id`) REFERENCES `hosting` (`record_id`))",
      "\nThe above exception was the direct cause of the following exception:\n",
      "\u001b[1;31mIntegrityError\u001b[0m                            Traceback (most recent call last)",
      "Cell \u001b[1;32mIn[15], line 27\u001b[0m\n\u001b[0;32m     24\u001b[0m values \u001b[38;5;241m=\u001b[39m [\u001b[38;5;28mtuple\u001b[39m(row) \u001b[38;5;28;01mfor\u001b[39;00m row \u001b[38;5;129;01min\u001b[39;00m df_service_record[\u001b[38;5;28mlist\u001b[39m(column_names)]\u001b[38;5;241m.\u001b[39mvalues] \n\u001b[0;32m     26\u001b[0m \u001b[38;5;66;03m# Ejecutar la consulta de inserción\u001b[39;00m\n\u001b[1;32m---> 27\u001b[0m cursor\u001b[38;5;241m.\u001b[39mexecutemany(insert_query, values)\n\u001b[0;32m     29\u001b[0m \u001b[38;5;66;03m# Confirmar los cambios en la base de datos\u001b[39;00m\n\u001b[0;32m     30\u001b[0m db\u001b[38;5;241m.\u001b[39mcommit()\n",
      "File \u001b[1;32mc:\\Users\\peni_\\anaconda3\\Lib\\site-packages\\mysql\\connector\\cursor_cext.py:481\u001b[0m, in \u001b[0;36mCMySQLCursor.executemany\u001b[1;34m(self, operation, seq_params)\u001b[0m\n\u001b[0;32m    479\u001b[0m     \u001b[38;5;28;01mif\u001b[39;00m stmt \u001b[38;5;129;01mis\u001b[39;00m \u001b[38;5;129;01mnot\u001b[39;00m \u001b[38;5;28;01mNone\u001b[39;00m:\n\u001b[0;32m    480\u001b[0m         \u001b[38;5;28mself\u001b[39m\u001b[38;5;241m.\u001b[39m_executed \u001b[38;5;241m=\u001b[39m stmt\n\u001b[1;32m--> 481\u001b[0m         \u001b[38;5;28;01mreturn\u001b[39;00m \u001b[38;5;28mself\u001b[39m\u001b[38;5;241m.\u001b[39mexecute(stmt)\n\u001b[0;32m    483\u001b[0m rowcnt \u001b[38;5;241m=\u001b[39m \u001b[38;5;241m0\u001b[39m\n\u001b[0;32m    484\u001b[0m \u001b[38;5;28;01mtry\u001b[39;00m:\n\u001b[0;32m    485\u001b[0m     \u001b[38;5;66;03m# When processing read ops (e.g., SELECT), rowcnt is updated\u001b[39;00m\n\u001b[0;32m    486\u001b[0m     \u001b[38;5;66;03m# based on self._rowcount. For write ops (e.g., INSERT) is\u001b[39;00m\n\u001b[0;32m    487\u001b[0m     \u001b[38;5;66;03m# updated based on self._affected_rows.\u001b[39;00m\n\u001b[0;32m    488\u001b[0m     \u001b[38;5;66;03m# The variable self._description is None for write ops, that's\u001b[39;00m\n\u001b[0;32m    489\u001b[0m     \u001b[38;5;66;03m# why we use it as indicator for updating rowcnt.\u001b[39;00m\n",
      "File \u001b[1;32mc:\\Users\\peni_\\anaconda3\\Lib\\site-packages\\mysql\\connector\\cursor_cext.py:357\u001b[0m, in \u001b[0;36mCMySQLCursor.execute\u001b[1;34m(self, operation, params, multi)\u001b[0m\n\u001b[0;32m    352\u001b[0m             \u001b[38;5;28;01mraise\u001b[39;00m ProgrammingError(\n\u001b[0;32m    353\u001b[0m                 \u001b[38;5;124m\"\u001b[39m\u001b[38;5;124mNot all parameters were used in the SQL statement\u001b[39m\u001b[38;5;124m\"\u001b[39m\n\u001b[0;32m    354\u001b[0m             )\n\u001b[0;32m    356\u001b[0m \u001b[38;5;28;01mtry\u001b[39;00m:\n\u001b[1;32m--> 357\u001b[0m     result \u001b[38;5;241m=\u001b[39m \u001b[38;5;28mself\u001b[39m\u001b[38;5;241m.\u001b[39m_connection\u001b[38;5;241m.\u001b[39mcmd_query(\n\u001b[0;32m    358\u001b[0m         stmt,\n\u001b[0;32m    359\u001b[0m         raw\u001b[38;5;241m=\u001b[39m\u001b[38;5;28mself\u001b[39m\u001b[38;5;241m.\u001b[39m_raw,\n\u001b[0;32m    360\u001b[0m         buffered\u001b[38;5;241m=\u001b[39m\u001b[38;5;28mself\u001b[39m\u001b[38;5;241m.\u001b[39m_buffered,\n\u001b[0;32m    361\u001b[0m         raw_as_string\u001b[38;5;241m=\u001b[39m\u001b[38;5;28mself\u001b[39m\u001b[38;5;241m.\u001b[39m_raw_as_string,\n\u001b[0;32m    362\u001b[0m     )\n\u001b[0;32m    363\u001b[0m \u001b[38;5;28;01mexcept\u001b[39;00m MySQLInterfaceError \u001b[38;5;28;01mas\u001b[39;00m err:\n\u001b[0;32m    364\u001b[0m     \u001b[38;5;28;01mraise\u001b[39;00m get_mysql_exception(\n\u001b[0;32m    365\u001b[0m         msg\u001b[38;5;241m=\u001b[39merr\u001b[38;5;241m.\u001b[39mmsg, errno\u001b[38;5;241m=\u001b[39merr\u001b[38;5;241m.\u001b[39merrno, sqlstate\u001b[38;5;241m=\u001b[39merr\u001b[38;5;241m.\u001b[39msqlstate\n\u001b[0;32m    366\u001b[0m     ) \u001b[38;5;28;01mfrom\u001b[39;00m \u001b[38;5;21;01merr\u001b[39;00m\n",
      "File \u001b[1;32mc:\\Users\\peni_\\anaconda3\\Lib\\site-packages\\mysql\\connector\\opentelemetry\\context_propagation.py:97\u001b[0m, in \u001b[0;36mwith_context_propagation.<locals>.wrapper\u001b[1;34m(cnx, *args, **kwargs)\u001b[0m\n\u001b[0;32m     95\u001b[0m \u001b[38;5;66;03m# pylint: disable=possibly-used-before-assignment\u001b[39;00m\n\u001b[0;32m     96\u001b[0m \u001b[38;5;28;01mif\u001b[39;00m \u001b[38;5;129;01mnot\u001b[39;00m OTEL_ENABLED \u001b[38;5;129;01mor\u001b[39;00m \u001b[38;5;129;01mnot\u001b[39;00m cnx\u001b[38;5;241m.\u001b[39motel_context_propagation:\n\u001b[1;32m---> 97\u001b[0m     \u001b[38;5;28;01mreturn\u001b[39;00m method(cnx, \u001b[38;5;241m*\u001b[39margs, \u001b[38;5;241m*\u001b[39m\u001b[38;5;241m*\u001b[39mkwargs)\n\u001b[0;32m     99\u001b[0m current_span \u001b[38;5;241m=\u001b[39m trace\u001b[38;5;241m.\u001b[39mget_current_span()\n\u001b[0;32m    100\u001b[0m tp_header \u001b[38;5;241m=\u001b[39m \u001b[38;5;28;01mNone\u001b[39;00m\n",
      "File \u001b[1;32mc:\\Users\\peni_\\anaconda3\\Lib\\site-packages\\mysql\\connector\\connection_cext.py:714\u001b[0m, in \u001b[0;36mCMySQLConnection.cmd_query\u001b[1;34m(self, query, raw, buffered, raw_as_string)\u001b[0m\n\u001b[0;32m    706\u001b[0m     \u001b[38;5;28mself\u001b[39m\u001b[38;5;241m.\u001b[39m_cmysql\u001b[38;5;241m.\u001b[39mquery(\n\u001b[0;32m    707\u001b[0m         query,\n\u001b[0;32m    708\u001b[0m         raw\u001b[38;5;241m=\u001b[39mraw,\n\u001b[1;32m   (...)\u001b[0m\n\u001b[0;32m    711\u001b[0m         query_attrs\u001b[38;5;241m=\u001b[39m\u001b[38;5;28mself\u001b[39m\u001b[38;5;241m.\u001b[39mquery_attrs,\n\u001b[0;32m    712\u001b[0m     )\n\u001b[0;32m    713\u001b[0m \u001b[38;5;28;01mexcept\u001b[39;00m MySQLInterfaceError \u001b[38;5;28;01mas\u001b[39;00m err:\n\u001b[1;32m--> 714\u001b[0m     \u001b[38;5;28;01mraise\u001b[39;00m get_mysql_exception(\n\u001b[0;32m    715\u001b[0m         err\u001b[38;5;241m.\u001b[39merrno, msg\u001b[38;5;241m=\u001b[39merr\u001b[38;5;241m.\u001b[39mmsg, sqlstate\u001b[38;5;241m=\u001b[39merr\u001b[38;5;241m.\u001b[39msqlstate\n\u001b[0;32m    716\u001b[0m     ) \u001b[38;5;28;01mfrom\u001b[39;00m \u001b[38;5;21;01merr\u001b[39;00m\n\u001b[0;32m    717\u001b[0m \u001b[38;5;28;01mexcept\u001b[39;00m \u001b[38;5;167;01mAttributeError\u001b[39;00m \u001b[38;5;28;01mas\u001b[39;00m err:\n\u001b[0;32m    718\u001b[0m     addr \u001b[38;5;241m=\u001b[39m (\n\u001b[0;32m    719\u001b[0m         \u001b[38;5;28mself\u001b[39m\u001b[38;5;241m.\u001b[39m_unix_socket \u001b[38;5;28;01mif\u001b[39;00m \u001b[38;5;28mself\u001b[39m\u001b[38;5;241m.\u001b[39m_unix_socket \u001b[38;5;28;01melse\u001b[39;00m \u001b[38;5;124mf\u001b[39m\u001b[38;5;124m\"\u001b[39m\u001b[38;5;132;01m{\u001b[39;00m\u001b[38;5;28mself\u001b[39m\u001b[38;5;241m.\u001b[39m_host\u001b[38;5;132;01m}\u001b[39;00m\u001b[38;5;124m:\u001b[39m\u001b[38;5;132;01m{\u001b[39;00m\u001b[38;5;28mself\u001b[39m\u001b[38;5;241m.\u001b[39m_port\u001b[38;5;132;01m}\u001b[39;00m\u001b[38;5;124m\"\u001b[39m\n\u001b[0;32m    720\u001b[0m     )\n",
      "\u001b[1;31mIntegrityError\u001b[0m: 1452 (23000): Cannot add or update a child row: a foreign key constraint fails (`airbnb`.`services_ids`, CONSTRAINT `services_ids_ibfk_2` FOREIGN KEY (`record_id`) REFERENCES `hosting` (`record_id`))"
     ]
    }
   ],
   "source": [
    "database = \"AIRBNB\"\n",
    "table_name = \"Services_ids\"\n",
    "\n",
    "db = mysql.connector.connect(host=\"localhost\",\n",
    "                             user=\"root\",\n",
    "                             password=\"contraseña123\",#Aqui teneis que poner vuestra contraeña.\n",
    "                             database=database,\n",
    "                             consume_results = True)\n",
    "\n",
    "cursor = db.cursor()\n",
    "\n",
    "# Seleccionamos las columnas de la tabla, omitiendo la Primary Key\n",
    "cursor.execute(f\"SELECT * FROM {table_name} LIMIT 0;\")\n",
    "column_names = cursor.column_names\n",
    "\n",
    "# Aseguramos que todas las filas del DataFrame tengan el mismo número de columnas que en la tabla\n",
    "if len(df_service_record.columns) != len(column_names):\n",
    "    raise ValueError(\"El número de columnas en el DataFrame no coincide con el número de columnas en la tabla de la base de datos.\")\n",
    "\n",
    "# Preparar la consulta de inserción\n",
    "insert_query = f\"INSERT INTO {table_name} ({', '.join(column_names)}) VALUES ({', '.join(['%s' for _ in column_names])})\"\n",
    "\n",
    "# Convertir las filas del DataFrame a tuplas\n",
    "values = [tuple(row) for row in df_service_record[list(column_names)].values] \n",
    "\n",
    "# Ejecutar la consulta de inserción\n",
    "cursor.executemany(insert_query, values)\n",
    "\n",
    "# Confirmar los cambios en la base de datos\n",
    "db.commit()\n",
    "\n",
    "print(f\"Añadidas: {cursor.rowcount} filas\")\n",
    "\n",
    "# Vaciamos el cursor\n",
    "cursor.close()\n",
    "db.close()"
   ]
  },
  {
   "cell_type": "markdown",
   "metadata": {},
   "source": [
    "Category"
   ]
  },
  {
   "cell_type": "code",
   "execution_count": 16,
   "metadata": {},
   "outputs": [],
   "source": [
    "column_names = ['category_id', 'category']"
   ]
  },
  {
   "cell_type": "code",
   "execution_count": 17,
   "metadata": {},
   "outputs": [
    {
     "name": "stdout",
     "output_type": "stream",
     "text": [
      "Añadidas: 13 filas\n"
     ]
    }
   ],
   "source": [
    "database = \"AIRBNB\"\n",
    "table_name = \"Category\"\n",
    "\n",
    "db = mysql.connector.connect(host=\"localhost\",\n",
    "                             user=\"root\",\n",
    "                             password=\"contraseña123\",#Aqui teneis que poner vuestra contraeña.\n",
    "                             database=database,\n",
    "                             consume_results = True)\n",
    "\n",
    "cursor = db.cursor()\n",
    "\n",
    "# Seleccionamos las columnas de la tabla, omitiendo la Primary Key\n",
    "cursor.execute(f\"SELECT * FROM {table_name} LIMIT 0;\")\n",
    "column_names = cursor.column_names\n",
    "\n",
    "# Aseguramos que todas las filas del DataFrame tengan el mismo número de columnas que en la tabla\n",
    "if len(df_category.columns) != len(column_names):\n",
    "    raise ValueError(\"El número de columnas en el DataFrame no coincide con el número de columnas en la tabla de la base de datos.\")\n",
    "\n",
    "# Preparar la consulta de inserción\n",
    "insert_query = f\"INSERT INTO {table_name} ({', '.join(column_names)}) VALUES ({', '.join(['%s' for _ in column_names])})\"\n",
    "\n",
    "# Convertir las filas del DataFrame a tuplas\n",
    "values = [tuple(row) for row in df_category[list(column_names)].values]\n",
    "\n",
    "# Ejecutar la consulta de inserción\n",
    "cursor.executemany(insert_query, values)\n",
    "\n",
    "# Confirmar los cambios en la base de datos\n",
    "db.commit()\n",
    "\n",
    "print(f\"Añadidas: {cursor.rowcount} filas\")\n",
    "\n",
    "# Vaciamos el cursor\n",
    "cursor.close()\n",
    "db.close()"
   ]
  },
  {
   "cell_type": "markdown",
   "metadata": {},
   "source": [
    "Category_ids  !!!PROBLEMAS!!!!"
   ]
  },
  {
   "cell_type": "code",
   "execution_count": 18,
   "metadata": {},
   "outputs": [],
   "source": [
    "column_names = ['category_id', 'service_id']"
   ]
  },
  {
   "cell_type": "code",
   "execution_count": 19,
   "metadata": {},
   "outputs": [],
   "source": [
    "df_category_service = df_category_service.rename(columns={'category': 'category_id'})\n",
    "df_category_service = df_category_service.rename(columns={'service': 'service_id'})"
   ]
  },
  {
   "cell_type": "code",
   "execution_count": 20,
   "metadata": {},
   "outputs": [
    {
     "ename": "InterfaceError",
     "evalue": "Failed executing the operation; Python type numpy.int64 cannot be converted",
     "output_type": "error",
     "traceback": [
      "\u001b[1;31m---------------------------------------------------------------------------\u001b[0m",
      "\u001b[1;31mInterfaceError\u001b[0m                            Traceback (most recent call last)",
      "Cell \u001b[1;32mIn[20], line 27\u001b[0m\n\u001b[0;32m     24\u001b[0m values \u001b[38;5;241m=\u001b[39m [\u001b[38;5;28mtuple\u001b[39m(row) \u001b[38;5;28;01mfor\u001b[39;00m row \u001b[38;5;129;01min\u001b[39;00m df_category_service[\u001b[38;5;28mlist\u001b[39m(column_names)]\u001b[38;5;241m.\u001b[39mvalues]\n\u001b[0;32m     26\u001b[0m \u001b[38;5;66;03m# Ejecutar la consulta de inserción\u001b[39;00m\n\u001b[1;32m---> 27\u001b[0m cursor\u001b[38;5;241m.\u001b[39mexecutemany(insert_query, values)\n\u001b[0;32m     29\u001b[0m \u001b[38;5;66;03m# Confirmar los cambios en la base de datos\u001b[39;00m\n\u001b[0;32m     30\u001b[0m db\u001b[38;5;241m.\u001b[39mcommit()\n",
      "File \u001b[1;32mc:\\Users\\peni_\\anaconda3\\Lib\\site-packages\\mysql\\connector\\cursor_cext.py:478\u001b[0m, in \u001b[0;36mCMySQLCursor.executemany\u001b[1;34m(self, operation, seq_params)\u001b[0m\n\u001b[0;32m    476\u001b[0m     \u001b[38;5;28mself\u001b[39m\u001b[38;5;241m.\u001b[39m_rowcount \u001b[38;5;241m=\u001b[39m \u001b[38;5;241m0\u001b[39m\n\u001b[0;32m    477\u001b[0m     \u001b[38;5;28;01mreturn\u001b[39;00m \u001b[38;5;28;01mNone\u001b[39;00m\n\u001b[1;32m--> 478\u001b[0m stmt \u001b[38;5;241m=\u001b[39m \u001b[38;5;28mself\u001b[39m\u001b[38;5;241m.\u001b[39m_batch_insert(operation, seq_params)\n\u001b[0;32m    479\u001b[0m \u001b[38;5;28;01mif\u001b[39;00m stmt \u001b[38;5;129;01mis\u001b[39;00m \u001b[38;5;129;01mnot\u001b[39;00m \u001b[38;5;28;01mNone\u001b[39;00m:\n\u001b[0;32m    480\u001b[0m     \u001b[38;5;28mself\u001b[39m\u001b[38;5;241m.\u001b[39m_executed \u001b[38;5;241m=\u001b[39m stmt\n",
      "File \u001b[1;32mc:\\Users\\peni_\\anaconda3\\Lib\\site-packages\\mysql\\connector\\cursor_cext.py:432\u001b[0m, in \u001b[0;36mCMySQLCursor._batch_insert\u001b[1;34m(self, operation, seq_params)\u001b[0m\n\u001b[0;32m    430\u001b[0m     \u001b[38;5;28;01mraise\u001b[39;00m ProgrammingError(\u001b[38;5;28mstr\u001b[39m(err)) \u001b[38;5;28;01mfrom\u001b[39;00m \u001b[38;5;21;01merr\u001b[39;00m\n\u001b[0;32m    431\u001b[0m \u001b[38;5;28;01mexcept\u001b[39;00m \u001b[38;5;167;01mException\u001b[39;00m \u001b[38;5;28;01mas\u001b[39;00m err:\n\u001b[1;32m--> 432\u001b[0m     \u001b[38;5;28;01mraise\u001b[39;00m InterfaceError(\u001b[38;5;124mf\u001b[39m\u001b[38;5;124m\"\u001b[39m\u001b[38;5;124mFailed executing the operation; \u001b[39m\u001b[38;5;132;01m{\u001b[39;00merr\u001b[38;5;132;01m}\u001b[39;00m\u001b[38;5;124m\"\u001b[39m) \u001b[38;5;28;01mfrom\u001b[39;00m \u001b[38;5;28;01mNone\u001b[39;00m\n",
      "\u001b[1;31mInterfaceError\u001b[0m: Failed executing the operation; Python type numpy.int64 cannot be converted"
     ]
    }
   ],
   "source": [
    "database = \"AIRBNB\"\n",
    "table_name = \"Category_ids\"\n",
    "\n",
    "db = mysql.connector.connect(host=\"localhost\",\n",
    "                             user=\"root\",\n",
    "                             password=\"contraseña123\",#Aqui teneis que poner vuestra contraeña.\n",
    "                             database=database,\n",
    "                             consume_results = True)\n",
    "\n",
    "cursor = db.cursor()\n",
    "\n",
    "# Seleccionamos las columnas de la tabla, omitiendo la Primary Key\n",
    "cursor.execute(f\"SELECT * FROM {table_name} LIMIT 0;\")\n",
    "column_names = cursor.column_names\n",
    "\n",
    "# Aseguramos que todas las filas del DataFrame tengan el mismo número de columnas que en la tabla\n",
    "if len(df_category_service.columns) != len(column_names):\n",
    "    raise ValueError(\"El número de columnas en el DataFrame no coincide con el número de columnas en la tabla de la base de datos.\")\n",
    "\n",
    "# Preparar la consulta de inserción\n",
    "insert_query = f\"INSERT INTO {table_name} ({', '.join(column_names)}) VALUES ({', '.join(['%s' for _ in column_names])})\"\n",
    "\n",
    "# Convertir las filas del DataFrame a tuplas\n",
    "values = [tuple(row) for row in df_category_service[list(column_names)].values]\n",
    "\n",
    "# Ejecutar la consulta de inserción\n",
    "cursor.executemany(insert_query, values)\n",
    "\n",
    "# Confirmar los cambios en la base de datos\n",
    "db.commit()\n",
    "\n",
    "print(f\"Añadidas: {cursor.rowcount} filas\")\n",
    "\n",
    "# Vaciamos el cursor\n",
    "cursor.close()\n",
    "db.close()"
   ]
  },
  {
   "cell_type": "markdown",
   "metadata": {},
   "source": [
    "# Extracción de datos"
   ]
  },
  {
   "cell_type": "code",
   "execution_count": null,
   "metadata": {},
   "outputs": [],
   "source": [
    "def extraer_datos_mysql(host, user, password, database, query):\n",
    "    # Conectarse a la base de datos\n",
    "    db = mysql.connector.connect(\n",
    "        host=host,\n",
    "        user=user,\n",
    "        password=password,\n",
    "        database=database\n",
    "    )\n",
    "    \n",
    "    # Crear cursor para ejecutar la consulta\n",
    "    cursor = db.cursor()\n",
    "\n",
    "    # Ejecutar la consulta\n",
    "    cursor.execute(query)\n",
    "    \n",
    "    # Obtener los nombres de las columnas\n",
    "    column_names = cursor.column_names\n",
    "    print(\"Nombres de las columnas:\", column_names)\n",
    "\n",
    "    # Guardar y mostrar los datos de la tabla\n",
    "    data = cursor.fetchall()\n",
    "    for fila in data:\n",
    "        print(fila)\n",
    "\n",
    "    # Cerrar el cursor y la conexión\n",
    "    cursor.close()\n",
    "    db.close()\n"
   ]
  },
  {
   "cell_type": "markdown",
   "metadata": {},
   "source": [
    "Hosting"
   ]
  },
  {
   "cell_type": "code",
   "execution_count": null,
   "metadata": {},
   "outputs": [],
   "source": [
    "host = \"localhost\"\n",
    "user = \"root\"\n",
    "password = \"contraseña123\"\n",
    "database = \"AIRBNB\"\n",
    "query = \"SELECT * FROM Hosting;\"\n",
    "\n",
    "extraer_datos_mysql(host, user, password, database, query)"
   ]
  },
  {
   "cell_type": "markdown",
   "metadata": {},
   "source": [
    "Description_"
   ]
  },
  {
   "cell_type": "code",
   "execution_count": null,
   "metadata": {},
   "outputs": [],
   "source": [
    "host = \"localhost\"\n",
    "user = \"root\"\n",
    "password = \"contraseña123\"\n",
    "database = \"AIRBNB\"\n",
    "query = \"SELECT * FROM Description_;\"\n",
    "\n",
    "extraer_datos_mysql(host, user, password, database, query)"
   ]
  },
  {
   "cell_type": "markdown",
   "metadata": {},
   "source": [
    "Ratings"
   ]
  },
  {
   "cell_type": "code",
   "execution_count": null,
   "metadata": {},
   "outputs": [],
   "source": [
    "host = \"localhost\"\n",
    "user = \"root\"\n",
    "password = \"contraseña123\"\n",
    "database = \"AIRBNB\"\n",
    "query = \"SELECT * FROM Ratings;\"\n",
    "\n",
    "extraer_datos_mysql(host, user, password, database, query)"
   ]
  },
  {
   "cell_type": "markdown",
   "metadata": {},
   "source": [
    "Services"
   ]
  },
  {
   "cell_type": "code",
   "execution_count": null,
   "metadata": {},
   "outputs": [],
   "source": [
    "host = \"localhost\"\n",
    "user = \"root\"\n",
    "password = \"contraseña123\"\n",
    "database = \"AIRBNB\"\n",
    "query = \"SELECT * FROM Services;\"\n",
    "\n",
    "extraer_datos_mysql(host, user, password, database, query)"
   ]
  },
  {
   "cell_type": "markdown",
   "metadata": {},
   "source": [
    "Category"
   ]
  },
  {
   "cell_type": "code",
   "execution_count": null,
   "metadata": {},
   "outputs": [],
   "source": [
    "host = \"localhost\"\n",
    "user = \"root\"\n",
    "password = \"contraseña123\"\n",
    "database = \"AIRBNB\"\n",
    "query = \"SELECT * FROM Category;\"\n",
    "\n",
    "extraer_datos_mysql(host, user, password, database, query)"
   ]
  }
 ],
 "metadata": {
  "kernelspec": {
   "display_name": "base",
   "language": "python",
   "name": "python3"
  },
  "language_info": {
   "codemirror_mode": {
    "name": "ipython",
    "version": 3
   },
   "file_extension": ".py",
   "mimetype": "text/x-python",
   "name": "python",
   "nbconvert_exporter": "python",
   "pygments_lexer": "ipython3",
   "version": "3.12.7"
  }
 },
 "nbformat": 4,
 "nbformat_minor": 2
}
