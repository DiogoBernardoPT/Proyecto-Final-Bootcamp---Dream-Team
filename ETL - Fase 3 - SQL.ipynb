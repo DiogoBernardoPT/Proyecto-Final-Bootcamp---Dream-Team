{
 "cells": [
  {
   "cell_type": "markdown",
   "id": "8cdc3b5b",
   "metadata": {},
   "source": [
    "### **Fase 3 - SQL**\n",
    "En esta fase, se diseñó e implementó una base de datos en MySQL con el objetivo de optimizar la gestión de datos en el proyecto.\n",
    "La migración de los datos a MySQL proporciona una gestión más eficiente, permitiendo realizar operaciones de lectura y escritura de manera más rápida y segura. Además, el uso de SQL para consultas complejas hace que el acceso a los datos sea más flexible, permitiendo extraer información específica de forma eficiente y en tiempo real.\n",
    "\n",
    "La base de datos no solo facilita la gestión de grandes volúmenes de datos, sino que también garantiza la integridad y consistencia de la información, ofreciendo una infraestructura robusta para las siguientes etapas del proyecto."
   ]
  },
  {
   "cell_type": "code",
   "execution_count": 1,
   "id": "e1d4bb3d-c5f7-41a8-b7f3-834a07072d18",
   "metadata": {},
   "outputs": [],
   "source": [
    "import numpy as np\n",
    "import pandas as pd\n",
    "\n",
    "import mysql.connector"
   ]
  },
  {
   "cell_type": "code",
   "execution_count": 2,
   "id": "531f4943-8ae1-415d-b855-9cb1a0a85b47",
   "metadata": {},
   "outputs": [
    {
     "data": {
      "text/plain": [
       "(2526, 22)"
      ]
     },
     "execution_count": 2,
     "metadata": {},
     "output_type": "execute_result"
    }
   ],
   "source": [
    "df = pd.read_csv(\"data/df_recomendador.csv\")\n",
    "df.head(3)\n",
    "df.shape"
   ]
  },
  {
   "cell_type": "code",
   "execution_count": 3,
   "id": "0dc93573-1348-4df6-b1ca-401c046b5eb0",
   "metadata": {},
   "outputs": [
    {
     "data": {
      "text/html": [
       "<div>\n",
       "<style scoped>\n",
       "    .dataframe tbody tr th:only-of-type {\n",
       "        vertical-align: middle;\n",
       "    }\n",
       "\n",
       "    .dataframe tbody tr th {\n",
       "        vertical-align: top;\n",
       "    }\n",
       "\n",
       "    .dataframe thead th {\n",
       "        text-align: right;\n",
       "    }\n",
       "</style>\n",
       "<table border=\"1\" class=\"dataframe\">\n",
       "  <thead>\n",
       "    <tr style=\"text-align: right;\">\n",
       "      <th></th>\n",
       "      <th>category</th>\n",
       "      <th>urls</th>\n",
       "      <th>services</th>\n",
       "    </tr>\n",
       "  </thead>\n",
       "  <tbody>\n",
       "    <tr>\n",
       "      <th>0</th>\n",
       "      <td>baño</td>\n",
       "      <td>https://www.airbnb.es/rooms/126311759129279497...</td>\n",
       "      <td>secador de pelo</td>\n",
       "    </tr>\n",
       "    <tr>\n",
       "      <th>1</th>\n",
       "      <td>baño</td>\n",
       "      <td>https://www.airbnb.es/rooms/126311759129279497...</td>\n",
       "      <td>productos de limpieza</td>\n",
       "    </tr>\n",
       "    <tr>\n",
       "      <th>2</th>\n",
       "      <td>baño</td>\n",
       "      <td>https://www.airbnb.es/rooms/126311759129279497...</td>\n",
       "      <td>champú</td>\n",
       "    </tr>\n",
       "  </tbody>\n",
       "</table>\n",
       "</div>"
      ],
      "text/plain": [
       "  category                                               urls  \\\n",
       "0     baño  https://www.airbnb.es/rooms/126311759129279497...   \n",
       "1     baño  https://www.airbnb.es/rooms/126311759129279497...   \n",
       "2     baño  https://www.airbnb.es/rooms/126311759129279497...   \n",
       "\n",
       "                services  \n",
       "0        secador de pelo  \n",
       "1  productos de limpieza  \n",
       "2                 champú  "
      ]
     },
     "execution_count": 3,
     "metadata": {},
     "output_type": "execute_result"
    }
   ],
   "source": [
    "df_service = pd.read_csv(\"data/df_servicios_final_cleaned.csv\")\n",
    "df_service.head(3)"
   ]
  },
  {
   "cell_type": "code",
   "execution_count": 4,
   "id": "034fd99c-ff78-4fd0-9d26-1e07f605c2be",
   "metadata": {},
   "outputs": [
    {
     "data": {
      "text/html": [
       "<div>\n",
       "<style scoped>\n",
       "    .dataframe tbody tr th:only-of-type {\n",
       "        vertical-align: middle;\n",
       "    }\n",
       "\n",
       "    .dataframe tbody tr th {\n",
       "        vertical-align: top;\n",
       "    }\n",
       "\n",
       "    .dataframe thead th {\n",
       "        text-align: right;\n",
       "    }\n",
       "</style>\n",
       "<table border=\"1\" class=\"dataframe\">\n",
       "  <thead>\n",
       "    <tr style=\"text-align: right;\">\n",
       "      <th></th>\n",
       "      <th>urls</th>\n",
       "      <th>record_id</th>\n",
       "      <th>services</th>\n",
       "      <th>category</th>\n",
       "    </tr>\n",
       "  </thead>\n",
       "  <tbody>\n",
       "    <tr>\n",
       "      <th>0</th>\n",
       "      <td>https://www.airbnb.es/rooms/126311759129279497...</td>\n",
       "      <td>1263117591292794971</td>\n",
       "      <td>secador de pelo</td>\n",
       "      <td>baño</td>\n",
       "    </tr>\n",
       "    <tr>\n",
       "      <th>1</th>\n",
       "      <td>https://www.airbnb.es/rooms/126311759129279497...</td>\n",
       "      <td>1263117591292794971</td>\n",
       "      <td>productos de limpieza</td>\n",
       "      <td>baño</td>\n",
       "    </tr>\n",
       "    <tr>\n",
       "      <th>2</th>\n",
       "      <td>https://www.airbnb.es/rooms/126311759129279497...</td>\n",
       "      <td>1263117591292794971</td>\n",
       "      <td>champú</td>\n",
       "      <td>baño</td>\n",
       "    </tr>\n",
       "  </tbody>\n",
       "</table>\n",
       "</div>"
      ],
      "text/plain": [
       "                                                urls            record_id  \\\n",
       "0  https://www.airbnb.es/rooms/126311759129279497...  1263117591292794971   \n",
       "1  https://www.airbnb.es/rooms/126311759129279497...  1263117591292794971   \n",
       "2  https://www.airbnb.es/rooms/126311759129279497...  1263117591292794971   \n",
       "\n",
       "                services category  \n",
       "0        secador de pelo     baño  \n",
       "1  productos de limpieza     baño  \n",
       "2                 champú     baño  "
      ]
     },
     "execution_count": 4,
     "metadata": {},
     "output_type": "execute_result"
    }
   ],
   "source": [
    "df3 = pd.merge(left = df, right = df_service, on = \"urls\")[[\"urls\", \"record_id\", \"services\", \"category\"]]\n",
    "\n",
    "df3.head(3)"
   ]
  },
  {
   "cell_type": "code",
   "execution_count": 5,
   "id": "faf259f1-6d72-4714-af01-5e1fdf2043d6",
   "metadata": {},
   "outputs": [
    {
     "data": {
      "text/html": [
       "<div>\n",
       "<style scoped>\n",
       "    .dataframe tbody tr th:only-of-type {\n",
       "        vertical-align: middle;\n",
       "    }\n",
       "\n",
       "    .dataframe tbody tr th {\n",
       "        vertical-align: top;\n",
       "    }\n",
       "\n",
       "    .dataframe thead th {\n",
       "        text-align: right;\n",
       "    }\n",
       "</style>\n",
       "<table border=\"1\" class=\"dataframe\">\n",
       "  <thead>\n",
       "    <tr style=\"text-align: right;\">\n",
       "      <th></th>\n",
       "      <th>service_id</th>\n",
       "      <th>service</th>\n",
       "    </tr>\n",
       "  </thead>\n",
       "  <tbody>\n",
       "    <tr>\n",
       "      <th>0</th>\n",
       "      <td>1</td>\n",
       "      <td>secador de pelo</td>\n",
       "    </tr>\n",
       "    <tr>\n",
       "      <th>1</th>\n",
       "      <td>2</td>\n",
       "      <td>productos de limpieza</td>\n",
       "    </tr>\n",
       "    <tr>\n",
       "      <th>2</th>\n",
       "      <td>3</td>\n",
       "      <td>champú</td>\n",
       "    </tr>\n",
       "  </tbody>\n",
       "</table>\n",
       "</div>"
      ],
      "text/plain": [
       "   service_id                service\n",
       "0           1        secador de pelo\n",
       "1           2  productos de limpieza\n",
       "2           3                 champú"
      ]
     },
     "execution_count": 5,
     "metadata": {},
     "output_type": "execute_result"
    }
   ],
   "source": [
    "tabla_service = pd.DataFrame(data = [[num, v] for num, v in enumerate(df3[\"services\"].unique(), start = 1)],\n",
    "                             columns = [\"service_id\", \"service\"])\n",
    "tabla_service.head(3)"
   ]
  },
  {
   "cell_type": "code",
   "execution_count": 6,
   "id": "4b21f2f2-0205-434d-ae9b-ea26e7228ca4",
   "metadata": {},
   "outputs": [
    {
     "data": {
      "text/html": [
       "<div>\n",
       "<style scoped>\n",
       "    .dataframe tbody tr th:only-of-type {\n",
       "        vertical-align: middle;\n",
       "    }\n",
       "\n",
       "    .dataframe tbody tr th {\n",
       "        vertical-align: top;\n",
       "    }\n",
       "\n",
       "    .dataframe thead th {\n",
       "        text-align: right;\n",
       "    }\n",
       "</style>\n",
       "<table border=\"1\" class=\"dataframe\">\n",
       "  <thead>\n",
       "    <tr style=\"text-align: right;\">\n",
       "      <th></th>\n",
       "      <th>category_id</th>\n",
       "      <th>category</th>\n",
       "    </tr>\n",
       "  </thead>\n",
       "  <tbody>\n",
       "    <tr>\n",
       "      <th>0</th>\n",
       "      <td>1</td>\n",
       "      <td>baño</td>\n",
       "    </tr>\n",
       "    <tr>\n",
       "      <th>1</th>\n",
       "      <td>2</td>\n",
       "      <td>dormitorio y lavandería</td>\n",
       "    </tr>\n",
       "    <tr>\n",
       "      <th>2</th>\n",
       "      <td>3</td>\n",
       "      <td>entretenimiento</td>\n",
       "    </tr>\n",
       "  </tbody>\n",
       "</table>\n",
       "</div>"
      ],
      "text/plain": [
       "   category_id                 category\n",
       "0            1                     baño\n",
       "1            2  dormitorio y lavandería\n",
       "2            3          entretenimiento"
      ]
     },
     "execution_count": 6,
     "metadata": {},
     "output_type": "execute_result"
    }
   ],
   "source": [
    "tabla_category = pd.DataFrame(data = [[num, v] for num, v in enumerate(df3[\"category\"].unique(), start = 1)],\n",
    "                             columns = [\"category_id\", \"category\"])\n",
    "tabla_category.head(3)"
   ]
  },
  {
   "cell_type": "code",
   "execution_count": 7,
   "id": "bd288cba-3a5f-45c3-b5f3-e3f5a80d666b",
   "metadata": {},
   "outputs": [],
   "source": [
    "map_category = {k : v for v, k in tabla_category.values} \n",
    "map_service = {k : v for v, k in tabla_service.values} "
   ]
  },
  {
   "cell_type": "code",
   "execution_count": 8,
   "id": "3b54a927-d569-40eb-a7a0-d19eb07cfc73",
   "metadata": {},
   "outputs": [
    {
     "name": "stderr",
     "output_type": "stream",
     "text": [
      "C:\\Users\\jesus\\AppData\\Local\\Temp\\ipykernel_26212\\2263574913.py:3: SettingWithCopyWarning: \n",
      "A value is trying to be set on a copy of a slice from a DataFrame.\n",
      "Try using .loc[row_indexer,col_indexer] = value instead\n",
      "\n",
      "See the caveats in the documentation: https://pandas.pydata.org/pandas-docs/stable/user_guide/indexing.html#returning-a-view-versus-a-copy\n",
      "  tabla_category_service[\"category\"] = tabla_category_service[\"category\"].map(map_category)\n",
      "C:\\Users\\jesus\\AppData\\Local\\Temp\\ipykernel_26212\\2263574913.py:4: SettingWithCopyWarning: \n",
      "A value is trying to be set on a copy of a slice from a DataFrame.\n",
      "Try using .loc[row_indexer,col_indexer] = value instead\n",
      "\n",
      "See the caveats in the documentation: https://pandas.pydata.org/pandas-docs/stable/user_guide/indexing.html#returning-a-view-versus-a-copy\n",
      "  tabla_category_service[\"services\"] = tabla_category_service[\"services\"].map(map_service)\n"
     ]
    },
    {
     "data": {
      "text/html": [
       "<div>\n",
       "<style scoped>\n",
       "    .dataframe tbody tr th:only-of-type {\n",
       "        vertical-align: middle;\n",
       "    }\n",
       "\n",
       "    .dataframe tbody tr th {\n",
       "        vertical-align: top;\n",
       "    }\n",
       "\n",
       "    .dataframe thead th {\n",
       "        text-align: right;\n",
       "    }\n",
       "</style>\n",
       "<table border=\"1\" class=\"dataframe\">\n",
       "  <thead>\n",
       "    <tr style=\"text-align: right;\">\n",
       "      <th></th>\n",
       "      <th>services</th>\n",
       "      <th>category</th>\n",
       "    </tr>\n",
       "  </thead>\n",
       "  <tbody>\n",
       "    <tr>\n",
       "      <th>0</th>\n",
       "      <td>1</td>\n",
       "      <td>1</td>\n",
       "    </tr>\n",
       "    <tr>\n",
       "      <th>1</th>\n",
       "      <td>2</td>\n",
       "      <td>1</td>\n",
       "    </tr>\n",
       "    <tr>\n",
       "      <th>2</th>\n",
       "      <td>3</td>\n",
       "      <td>1</td>\n",
       "    </tr>\n",
       "    <tr>\n",
       "      <th>3</th>\n",
       "      <td>4</td>\n",
       "      <td>1</td>\n",
       "    </tr>\n",
       "    <tr>\n",
       "      <th>4</th>\n",
       "      <td>5</td>\n",
       "      <td>1</td>\n",
       "    </tr>\n",
       "    <tr>\n",
       "      <th>...</th>\n",
       "      <td>...</td>\n",
       "      <td>...</td>\n",
       "    </tr>\n",
       "    <tr>\n",
       "      <th>70598</th>\n",
       "      <td>28</td>\n",
       "      <td>10</td>\n",
       "    </tr>\n",
       "    <tr>\n",
       "      <th>70599</th>\n",
       "      <td>71</td>\n",
       "      <td>10</td>\n",
       "    </tr>\n",
       "    <tr>\n",
       "      <th>70600</th>\n",
       "      <td>31</td>\n",
       "      <td>11</td>\n",
       "    </tr>\n",
       "    <tr>\n",
       "      <th>70601</th>\n",
       "      <td>72</td>\n",
       "      <td>11</td>\n",
       "    </tr>\n",
       "    <tr>\n",
       "      <th>70602</th>\n",
       "      <td>76</td>\n",
       "      <td>11</td>\n",
       "    </tr>\n",
       "  </tbody>\n",
       "</table>\n",
       "<p>70603 rows × 2 columns</p>\n",
       "</div>"
      ],
      "text/plain": [
       "       services  category\n",
       "0             1         1\n",
       "1             2         1\n",
       "2             3         1\n",
       "3             4         1\n",
       "4             5         1\n",
       "...         ...       ...\n",
       "70598        28        10\n",
       "70599        71        10\n",
       "70600        31        11\n",
       "70601        72        11\n",
       "70602        76        11\n",
       "\n",
       "[70603 rows x 2 columns]"
      ]
     },
     "execution_count": 8,
     "metadata": {},
     "output_type": "execute_result"
    }
   ],
   "source": [
    "tabla_category_service = df3[[\"services\", \"category\"]]\n",
    "\n",
    "tabla_category_service[\"category\"] = tabla_category_service[\"category\"].map(map_category)\n",
    "tabla_category_service[\"services\"] = tabla_category_service[\"services\"].map(map_service)\n",
    "\n",
    "tabla_category_service"
   ]
  },
  {
   "cell_type": "code",
   "execution_count": 9,
   "id": "b27b6e64-868e-4bd2-9fe0-0af23714284d",
   "metadata": {},
   "outputs": [
    {
     "name": "stderr",
     "output_type": "stream",
     "text": [
      "C:\\Users\\jesus\\AppData\\Local\\Temp\\ipykernel_26212\\2771097427.py:3: SettingWithCopyWarning: \n",
      "A value is trying to be set on a copy of a slice from a DataFrame.\n",
      "Try using .loc[row_indexer,col_indexer] = value instead\n",
      "\n",
      "See the caveats in the documentation: https://pandas.pydata.org/pandas-docs/stable/user_guide/indexing.html#returning-a-view-versus-a-copy\n",
      "  tabla_service_record[\"services\"] = tabla_service_record[\"services\"].map(map_service)\n"
     ]
    }
   ],
   "source": [
    "tabla_service_record = df3[[\"record_id\", \"services\"]]\n",
    "\n",
    "tabla_service_record[\"services\"] = tabla_service_record[\"services\"].map(map_service)"
   ]
  },
  {
   "cell_type": "markdown",
   "id": "22a829db-6409-41cf-8e8f-5fdc361fda83",
   "metadata": {},
   "source": [
    "## SQL"
   ]
  },
  {
   "cell_type": "code",
   "execution_count": 11,
   "id": "4e255268-f9ca-46ff-b07b-8526c41a6adf",
   "metadata": {},
   "outputs": [],
   "source": [
    "db = mysql.connector.connect(\n",
    "     host=\"localhost\",\n",
    "     user=\"root\",\n",
    "     password=\"12345\"#Aqui teneis que poner vuestra contraeña.\n",
    ")\n",
    "\n",
    "cursor = db.cursor()\n",
    "\n",
    "# Crear la base de datos si no existe\n",
    "cursor.execute('CREATE DATABASE IF NOT EXISTS AIRBNB')\n",
    "\n",
    "# Conectar a la base de datos recién creada\n",
    "db.database = 'AIRBNB'\n",
    "\n",
    "# Crear la tabla Hosting\n",
    "cursor.execute('''CREATE TABLE IF NOT EXISTS Hosting (\n",
    "        record_id BIGINT,\n",
    "        titles TEXT,\n",
    "        property_types TEXT,\n",
    "        host_name TEXT,\n",
    "        PRIMARY KEY (record_id));''')\n",
    "\n",
    "# Crear la tabla Description_\n",
    "cursor.execute('''CREATE TABLE IF NOT EXISTS Description_ (\n",
    "        id BIGINT,\n",
    "        prices_per_night INT,\n",
    "        check_in_hour TIME,\n",
    "        check_out_hour TIME,\n",
    "        total_hours_checkin INT,\n",
    "        cleaning_fee INT,\n",
    "        maximum_guests INT,\n",
    "        camas INT,\n",
    "        baños INT,\n",
    "        dormitorios INT,\n",
    "        FOREIGN KEY (id) REFERENCES Hosting(record_id));''')\n",
    "\n",
    "# Crear la tabla Ratings\n",
    "cursor.execute('''CREATE TABLE IF NOT EXISTS Ratings (\n",
    "        record_id BIGINT,\n",
    "        ratings FLOAT,\n",
    "        num_reviews FLOAT,\n",
    "        polaridad_media FLOAT,\n",
    "        subjetividad_media FLOAT,\n",
    "        palabras_mas_usadas TEXT,\n",
    "        sentimiento TEXT,\n",
    "        FOREIGN KEY (record_id) REFERENCES Hosting(record_id));''')\n",
    "\n",
    "#Creamos la tabla de Services_\n",
    "cursor.execute('''CREATE TABLE IF NOT EXISTS Services_ (\n",
    "        service_id INT,\n",
    "        service TEXT,\n",
    "        PRIMARY KEY (service_id));''')\n",
    "#Creamos la tabla de Service_ids\n",
    "cursor.execute('''CREATE TABLE IF NOT EXISTS Services_Hosting (\n",
    "        service_id INT,\n",
    "        record_id BIGINT,\n",
    "        FOREIGN KEY (service_id) REFERENCES Services_(service_id),\n",
    "        FOREIGN KEY (record_id) REFERENCES Hosting (record_id));''')   \n",
    "#Creamos la tabla de Category\n",
    "cursor.execute('''CREATE TABLE IF NOT EXISTS Category (\n",
    "        category_id INT,\n",
    "        category TEXT,\n",
    "        PRIMARY KEY (category_id));''')\n",
    "\n",
    "#Creamos la tabla de Category_ids\n",
    "cursor.execute('''CREATE TABLE IF NOT EXISTS Category_Services (\n",
    "        service_id INT,\n",
    "        category_id INT,\n",
    "        FOREIGN KEY (service_id) REFERENCES Services_(service_id),\n",
    "        FOREIGN KEY (category_id) REFERENCES Category(category_id));''')   \n",
    "\n",
    "# Cerrar el cursor y la conexión\n",
    "cursor.close()\n",
    "db.close()"
   ]
  },
  {
   "cell_type": "code",
   "execution_count": 12,
   "id": "d66f57a5-e7d6-43b6-9d71-3930d6897f86",
   "metadata": {},
   "outputs": [],
   "source": [
    "def insert_to_table(df, database, table_name):\n",
    "\n",
    "    db = mysql.connector.connect(host=\"localhost\",\n",
    "                                 user=\"root\",\n",
    "                                 password=\"12345\",#Aqui teneis que poner vuestra contraeña.\n",
    "                                 database=database,\n",
    "                                 consume_results = True)\n",
    "    \n",
    "    cursor = db.cursor()\n",
    "    \n",
    "    # Seleccionamos las columnas de la tabla, omitiendo la Primary Key\n",
    "    cursor.execute(f\"SELECT * FROM {table_name} LIMIT 0;\")\n",
    "    column_names = cursor.column_names\n",
    "    \n",
    "    # Aseguramos que todas las filas del DataFrame tengan el mismo número de columnas que en la tabla\n",
    "    if len(df.columns) != len(column_names):\n",
    "        raise ValueError(\"El número de columnas en el DataFrame no coincide con el número de columnas en la tabla de la base de datos.\")\n",
    "    \n",
    "    # Preparar la consulta de inserción\n",
    "    insert_query = f\"INSERT INTO {table_name} ({', '.join(column_names)}) VALUES ({', '.join(['%s' for _ in column_names])})\"\n",
    "    \n",
    "    # Convertir las filas del DataFrame a tuplas\n",
    "    values = [tuple(row) for row in df[list(column_names)].values]\n",
    "    \n",
    "    # Ejecutar la consulta de inserción\n",
    "    cursor.executemany(insert_query, values)\n",
    "    \n",
    "    # Confirmar los cambios en la base de datos\n",
    "    db.commit()\n",
    "    \n",
    "    print(f\"Añadidas: {cursor.rowcount} filas\")\n",
    "\n",
    "    # Vaciamos el cursor\n",
    "    cursor.close()\n",
    "    db.close()"
   ]
  },
  {
   "cell_type": "code",
   "execution_count": 13,
   "id": "cc20f12d-59ad-4246-8077-dacf6bf81819",
   "metadata": {},
   "outputs": [],
   "source": [
    "# Tabla hosting\n",
    "tabla_hosting = df[[\"record_id\", \"titles\", \"property_types\", \"host_name\"]].drop_duplicates(subset = [\"record_id\"])\n",
    "tabla_hosting = tabla_hosting.replace([np.nan], [None])"
   ]
  },
  {
   "cell_type": "code",
   "execution_count": 14,
   "id": "65c93a2e-7790-485b-a898-105826309086",
   "metadata": {},
   "outputs": [
    {
     "name": "stdout",
     "output_type": "stream",
     "text": [
      "Añadidas: 1421 filas\n",
      "Añadidas: 117 filas\n",
      "Añadidas: 13 filas\n"
     ]
    }
   ],
   "source": [
    "database = \"AIRBNB\"\n",
    "\n",
    "insert_to_table(df = tabla_hosting, database = database, table_name = \"Hosting\")\n",
    "insert_to_table(df = tabla_service, database = database, table_name = \"services_\")\n",
    "insert_to_table(df = tabla_category, database = database, table_name = \"category\")"
   ]
  },
  {
   "cell_type": "code",
   "execution_count": 15,
   "id": "916289aa-19d0-4dda-b809-b96922d26c52",
   "metadata": {},
   "outputs": [
    {
     "name": "stderr",
     "output_type": "stream",
     "text": [
      "C:\\Users\\jesus\\AppData\\Local\\Temp\\ipykernel_26212\\1763337571.py:1: SettingWithCopyWarning: \n",
      "A value is trying to be set on a copy of a slice from a DataFrame.\n",
      "Try using .loc[row_indexer,col_indexer] = value instead\n",
      "\n",
      "See the caveats in the documentation: https://pandas.pydata.org/pandas-docs/stable/user_guide/indexing.html#returning-a-view-versus-a-copy\n",
      "  tabla_service_record[\"services\"] = tabla_service_record[\"services\"].astype(\"str\")\n"
     ]
    },
    {
     "name": "stdout",
     "output_type": "stream",
     "text": [
      "Añadidas: 70603 filas\n"
     ]
    }
   ],
   "source": [
    "tabla_service_record[\"services\"] = tabla_service_record[\"services\"].astype(\"str\")\n",
    "tabla_service_record.columns = [\"record_id\", \"service_id\"]\n",
    "insert_to_table(df = tabla_service_record, database = database, table_name = \"services_hosting\")"
   ]
  },
  {
   "cell_type": "code",
   "execution_count": 16,
   "id": "6809996a-de68-44f5-9e9e-c448b3c6c317",
   "metadata": {},
   "outputs": [
    {
     "name": "stderr",
     "output_type": "stream",
     "text": [
      "C:\\Users\\jesus\\AppData\\Local\\Temp\\ipykernel_26212\\1246628809.py:2: SettingWithCopyWarning: \n",
      "A value is trying to be set on a copy of a slice from a DataFrame.\n",
      "Try using .loc[row_indexer,col_indexer] = value instead\n",
      "\n",
      "See the caveats in the documentation: https://pandas.pydata.org/pandas-docs/stable/user_guide/indexing.html#returning-a-view-versus-a-copy\n",
      "  tabla_category_service[\"service_id\"] = tabla_category_service[\"service_id\"].astype(\"str\")\n"
     ]
    },
    {
     "name": "stdout",
     "output_type": "stream",
     "text": [
      "Añadidas: 70603 filas\n"
     ]
    }
   ],
   "source": [
    "tabla_category_service.columns = [\"service_id\", \"category_id\"]\n",
    "tabla_category_service[\"service_id\"] = tabla_category_service[\"service_id\"].astype(\"str\")\n",
    "insert_to_table(df = tabla_category_service, database = database, table_name = \"category_services\")"
   ]
  },
  {
   "cell_type": "code",
   "execution_count": 17,
   "id": "4cefb5da-229d-4b60-bb57-7299ef1b2841",
   "metadata": {},
   "outputs": [
    {
     "name": "stdout",
     "output_type": "stream",
     "text": [
      "Añadidas: 2526 filas\n"
     ]
    }
   ],
   "source": [
    "# Tabla ratings\n",
    "\n",
    "# # USAR ESTE CÓDIGO SI USAN EL CSV final_cleaned_sentiment.csv\n",
    "# tabla_ratings = df[[\"record_id\", \"ratings\", \"num_reviews\", \"sentiment\"]]\n",
    "# insert_to_table(df = tabla_ratings, database = database, table_name = \"ratings\")\n",
    "\n",
    "# # USAR ESTE CÓDIGO SI USAN df_final_cleaned.csv\n",
    "tabla_ratings = df[[\"record_id\", \"ratings\", \"num_reviews\", \"polaridad_media\", \"subjetividad_media\", \"palabras_mas_usadas\", \"sentimiento\"]]\n",
    "\n",
    "tabla_ratings = tabla_ratings.replace([np.nan], [None])\n",
    "\n",
    "insert_to_table(df = tabla_ratings, database = database, table_name = \"ratings\")\n"
   ]
  },
  {
   "cell_type": "code",
   "execution_count": 18,
   "id": "ca1910f1-79d7-41d2-989d-00ad668d08b5",
   "metadata": {},
   "outputs": [
    {
     "name": "stdout",
     "output_type": "stream",
     "text": [
      "Añadidas: 2526 filas\n"
     ]
    }
   ],
   "source": [
    "# Tabla description_\n",
    "tabla_description_ = df[[\"record_id\", \"prices_per_night\", \"check_in_hour\", \"check_out_hour\", \"total_hours_checkin\",\n",
    "                    \"cleaning_fee\", \"maximum_guests\", \"camas\", \"baños\", \"dormitorios\"]]\n",
    "tabla_description_.columns = [\"id\", \"prices_per_night\", \"check_in_hour\", \"check_out_hour\", \"total_hours_checkin\",\n",
    "                    \"cleaning_fee\", \"maximum_guests\", \"camas\", \"baños\", \"dormitorios\"]\n",
    "\n",
    "tabla_description_ = tabla_description_.replace([np.nan], [None])\n",
    "\n",
    "insert_to_table(df = tabla_description_, database = database, table_name = \"description_\")"
   ]
  }
 ],
 "metadata": {
  "kernelspec": {
   "display_name": "Python 3 (ipykernel)",
   "language": "python",
   "name": "python3"
  },
  "language_info": {
   "codemirror_mode": {
    "name": "ipython",
    "version": 3
   },
   "file_extension": ".py",
   "mimetype": "text/x-python",
   "name": "python",
   "nbconvert_exporter": "python",
   "pygments_lexer": "ipython3",
   "version": "3.11.9"
  }
 },
 "nbformat": 4,
 "nbformat_minor": 5
}
