{
 "cells": [
  {
   "cell_type": "code",
   "execution_count": null,
   "id": "b0892b04-7d59-4a34-8933-30e5a1310b19",
   "metadata": {},
   "outputs": [],
   "source": [
    "# Lista de distritos de Barcelona\n",
    "distritos = [\n",
    "    \"Ciutat Vella\",\n",
    "    \"Eixample\",\n",
    "    \"Sants-Montjuïc\",\n",
    "    \"Les Corts\",\n",
    "    \"Sarrià-Sant Gervasi\",\n",
    "    \"Gràcia\",\n",
    "    \"Horta-Guinardó\",\n",
    "    \"Nou Barris\",\n",
    "    \"Sant Andreu\",\n",
    "    \"Sant Martí\"\n",
    "]\n",
    "\n",
    "# URL base con el formato de Airbnb\n",
    "url_base = f\"https://www.airbnb.es/s/{distrito}--Barcelona--España/homes?tab_id=home_tab&refinement_paths%5B%5D=%2Fhomes&monthly_start_date=2024-11-01&monthly_length=3&monthly_end_date=2025-02-01&price_filter_input_type=0&channel=EXPLORE&query={distrito}%2C%20Barcelona%2C%20España&date_picker_type=calendar&source=structured_search_input_header&search_type=autocomplete_click\"\n",
    "\n",
    "# Iterar sobre cada distrito y generar el enlace correspondiente\n",
    "for distrito in distritos:\n",
    "    # Reemplazar espacios por %20 y caracteres especiales\n",
    "    distrito_url = distrito.replace(\" \", \"%20\").replace(\"à\", \"%C3%A0\").replace(\"ç\", \"%C3%A7\").replace(\"í\", \"%C3%AD\")\n",
    "    \n",
    "    # Formatear el enlace con el nombre del distrito\n",
    "    enlace = url_base.format(distrito=distrito_url)\n",
    "    \n",
    "    # Imprimir el enlace generado\n",
    "    print(enlace)\n"
   ]
  }
 ],
 "metadata": {
  "kernelspec": {
   "display_name": "Python 3 (ipykernel)",
   "language": "python",
   "name": "python3"
  },
  "language_info": {
   "codemirror_mode": {
    "name": "ipython",
    "version": 3
   },
   "file_extension": ".py",
   "mimetype": "text/x-python",
   "name": "python",
   "nbconvert_exporter": "python",
   "pygments_lexer": "ipython3",
   "version": "3.11.9"
  }
 },
 "nbformat": 4,
 "nbformat_minor": 5
}
