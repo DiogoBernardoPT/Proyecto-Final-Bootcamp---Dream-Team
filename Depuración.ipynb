{
 "cells": [
  {
   "cell_type": "code",
   "execution_count": null,
   "metadata": {},
   "outputs": [],
   "source": [
    "import numpy as np\n",
    "import pandas as pd\n",
    "import matplotlib.pyplot as plt\n",
    "import seaborn as sns\n",
    "\n",
    "# Escaladores\n",
    "from sklearn.preprocessing import MinMaxScaler\n",
    "from sklearn.preprocessing import StandardScaler\n",
    "from sklearn.preprocessing import OneHotEncoder\n"
   ]
  },
  {
   "cell_type": "code",
   "execution_count": null,
   "metadata": {},
   "outputs": [],
   "source": [
    "df = pd.read_csv('C:/Users/peni_/Desktop/proyecto/Proyecto-Final-Bootcamp---Dream-Team/data/df_to_encode.csv')"
   ]
  },
  {
   "cell_type": "markdown",
   "metadata": {},
   "source": [
    "OneHotEncoder"
   ]
  },
  {
   "cell_type": "code",
   "execution_count": null,
   "metadata": {},
   "outputs": [],
   "source": [
    "df_encoded = df.copy()\n",
    "\n",
    "encoder = OneHotEncoder(sparse_output=False, drop='first')\n",
    "encoded_features = encoder.fit_transform(df_encoded[['property_types']])\n",
    "# Verifica el número de características generadas\n",
    "feature_names = encoder.get_feature_names_out()\n",
    "print(f'Number of feature names: {len(feature_names)}')\n",
    "print(f'Number of encoded features: {encoded_features.shape[1]}')\n",
    "\n",
    "# Crear el DataFrame con las características codificadas\n",
    "encoded_df = pd.DataFrame(encoded_features, columns=feature_names)"
   ]
  },
  {
   "cell_type": "markdown",
   "metadata": {},
   "source": [
    "He cambiado los nombres para que nos resulte más fácil"
   ]
  },
  {
   "cell_type": "code",
   "execution_count": null,
   "metadata": {},
   "outputs": [],
   "source": [
    "encoded_df = encoded_df.rename(columns={'property_types_Habitación': 'habitacion'})\n",
    "encoded_df = encoded_df.rename(columns={'property_types_otro': 'alojamiento entero'})\n",
    "encoded_df.head()"
   ]
  },
  {
   "cell_type": "markdown",
   "metadata": {},
   "source": [
    "Lo unimos todo y dropeamos property_types"
   ]
  },
  {
   "cell_type": "code",
   "execution_count": null,
   "metadata": {},
   "outputs": [],
   "source": [
    "df_encoded = pd.concat([df_encoded, encoded_df], axis=1)\n",
    "df_encoded.head()"
   ]
  },
  {
   "cell_type": "code",
   "execution_count": null,
   "metadata": {},
   "outputs": [],
   "source": [
    "df_encoded = df_encoded.drop('property_types',axis= 1)"
   ]
  },
  {
   "cell_type": "code",
   "execution_count": null,
   "metadata": {},
   "outputs": [],
   "source": [
    "df_encoded['habitacion'] = df_encoded['habitacion'].astype('int64')"
   ]
  },
  {
   "cell_type": "code",
   "execution_count": null,
   "metadata": {},
   "outputs": [],
   "source": [
    "df_encoded['alojamiento entero'] = df_encoded['alojamiento entero'].astype('int64')"
   ]
  },
  {
   "cell_type": "markdown",
   "metadata": {},
   "source": [
    "KNNImputer"
   ]
  },
  {
   "cell_type": "code",
   "execution_count": null,
   "metadata": {},
   "outputs": [],
   "source": [
    "%%time\n",
    "imputer = KNNImputer(n_neighbors=3)\n",
    "df_encoded = pd.DataFrame(imputer.fit_transform(df_encoded), columns=df_encoded.columns)\n",
    "df_encoded"
   ]
  },
  {
   "cell_type": "markdown",
   "metadata": {},
   "source": [
    "Creamos una copia"
   ]
  },
  {
   "cell_type": "code",
   "execution_count": null,
   "metadata": {},
   "outputs": [],
   "source": [
    "df = df_encoded.copy()"
   ]
  },
  {
   "cell_type": "markdown",
   "metadata": {},
   "source": [
    "HeatMap"
   ]
  },
  {
   "cell_type": "code",
   "execution_count": null,
   "metadata": {},
   "outputs": [],
   "source": [
    "plt.figure(figsize=(30, 20))\n",
    "\n",
    "sns.heatmap(data = df_encoded.corr(), annot = True,cmap=\"Blues\")"
   ]
  },
  {
   "cell_type": "markdown",
   "metadata": {},
   "source": [
    "Feature Importance"
   ]
  },
  {
   "cell_type": "code",
   "execution_count": null,
   "metadata": {},
   "outputs": [],
   "source": [
    "%%time\n",
    "\n",
    "# Feature Importance\n",
    "\n",
    "# Modelo de RandomForest para obtener Feature Importance\n",
    "model = RandomForestRegressor(n_estimators = 250,\n",
    "                               random_state = 0)\n",
    "# Entrenamos el modelo\n",
    "model.fit(df.drop([\"prices_per_night\"], axis = 1), df[\"prices_per_night\"])\n",
    "\n",
    "# Calculamos Feature Importance\n",
    "importances = model.feature_importances_\n",
    "\n",
    "df = pd.DataFrame(data = zip(df.drop([\"prices_per_night\"], axis = 1).columns, importances),\n",
    "                              columns = [\"Columnas\", \"Importancia\"])\n",
    "\n",
    "df = df.sort_values(\"Importancia\", ascending = False)\n",
    "\n",
    "print(\"Feature Importance:\")\n",
    "\n",
    "for index, (feature, importance) in enumerate(df.values):\n",
    "    \n",
    "    print(f\"{index + 1:2}. feature {index:2} ({importance:20}): {feature}\")\n",
    "\n",
    "plt.figure(figsize = (12, 8))\n",
    "\n",
    "plt.title(\"Feature Importances\")\n",
    "sns.barplot(x = df[\"Importancia\"], y = df[\"Columnas\"], palette = sns.color_palette(\"husl\", 17))\n",
    "\n",
    "plt.grid()\n",
    "plt.show()"
   ]
  },
  {
   "cell_type": "code",
   "execution_count": null,
   "metadata": {},
   "outputs": [],
   "source": []
  },
  {
   "cell_type": "code",
   "execution_count": null,
   "metadata": {},
   "outputs": [],
   "source": []
  },
  {
   "cell_type": "code",
   "execution_count": null,
   "metadata": {},
   "outputs": [],
   "source": []
  },
  {
   "cell_type": "code",
   "execution_count": null,
   "metadata": {},
   "outputs": [],
   "source": []
  }
 ],
 "metadata": {
  "kernelspec": {
   "display_name": "base",
   "language": "python",
   "name": "python3"
  },
  "language_info": {
   "name": "python",
   "version": "3.12.7"
  }
 },
 "nbformat": 4,
 "nbformat_minor": 2
}
